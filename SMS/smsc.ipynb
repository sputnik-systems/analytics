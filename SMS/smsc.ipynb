{
 "cells": [
  {
   "cell_type": "code",
   "execution_count": 2,
   "id": "ad78c9c3",
   "metadata": {},
   "outputs": [],
   "source": [
    "import pandas as pd\n",
    "import numpy as np\n",
    "import os\n",
    "import boto3\n",
    "import datetime\n",
    "\n",
    "from config import ACCESS_KEY, SECRET_KEY, TOKEN\n",
    "\n",
    "TIME_ZONE = os.getenv(\"TIME_ZONE\", \"Europe/Moscow\") #настройка функции\n",
    "\n",
    "\n",
    "# pd.set_option('display.max_columns',None)\n",
    "# pd.set_option('display.widfh',None)\n",
    "# pd.set_option('display.max_colwidfh',None)\n"
   ]
  },
  {
   "cell_type": "code",
   "execution_count": 6,
   "id": "4f87d45a",
   "metadata": {},
   "outputs": [],
   "source": [
    "def get_now_datetime_str(): # получаем актуальное время\n",
    "    time_zone = os.getenv(\"TIME_ZONE\", \"Europe/Moscow\") # меняем таймзону на московскую\n",
    "    now = datetime.datetime.now(pytz.timezone(time_zone))    \n",
    "    yesterday = now - datetime.timedelta(days=1) #нужна вчерашняя дата так как данные за прошлый день\n",
    "    last_month_data = now - relativedelta(month=1)\n",
    "    return {'key_parquet': yesterday.strftime('year=%Y/month=%m/%d.parquet'),\n",
    "            'key': yesterday.strftime('year=%Y/month=%m/%d.csv'),\n",
    "            'key_month': yesterday.strftime('year=%Y/month=%m.csv'),\n",
    "            'now':now.strftime('%Y-%m-%d %H:%M:%S'),\n",
    "            'yesterday_data':yesterday.strftime('%Y-%m-%d'),\n",
    "            'yesterday':yesterday.strftime('%Y-%m-%d %H:%M:%S'), \n",
    "            'year':yesterday.strftime('%Y'),\n",
    "            'month':yesterday.strftime('%m'),\n",
    "            'day':yesterday.strftime('%d'),\n",
    "            'last_month_data':last_month_data.strftime('%Y-%m-%d')\n",
    "            }\n",
    "\n",
    "def get_s3_instance(): # функция создает соединение\n",
    "    session = boto3.session.Session()\n",
    "    return session.client(\n",
    "        aws_access_key_id=ACCESS_KEY,\n",
    "        aws_secret_access_key=SECRET_KEY,\n",
    "        service_name='s3',\n",
    "        endpoint_url='https://storage.yandexcloud.net'\n",
    "    )\n",
    "\n",
    "def upload_dump_to_s3(): # функция выгружает данные в s3\n",
    "    get_s3_instance().upload_file(\n",
    "        Filename=TEMP_FILENAME,\n",
    "        Bucket=BUCKET_NAME,\n",
    "        Key=key\n",
    "    )\n",
    "\n",
    "def remove_temp_files(): #функция удаляет временный файл\n",
    "    os.remove(TEMP_FILENAME)\n",
    "\n",
    "s3 = get_s3_instance()"
   ]
  },
  {
   "cell_type": "code",
   "execution_count": 15,
   "id": "9819c0a8",
   "metadata": {},
   "outputs": [],
   "source": [
    "file_path = '/home/boris/Desktop/sms/sms_messages_03.07.2025.csv'\n",
    "last_date = '2025-06-30'\n",
    "\n",
    "df = pd.read_csv(file_path, encoding= 'cp1251', sep=';')\n",
    "df['Дата.2'] = pd.to_datetime(df['Дата'], format='mixed')\n",
    "df = df[df['Дата.2'] < last_date]\n",
    "df = df.drop(['Дата.1','Дата.2'],axis=1)\n",
    "\n",
    "last_date = datetime.datetime.strptime(last_date, '%Y-%m-%d')\n",
    "\n",
    "df['Цена'] = df['Цена'].apply(lambda x: float(x.replace(',','.')))\n",
    "# df['Дата'] = pd.to_datetime(df['Дата'], format='mixed')\n",
    "# df = df[df['Дата'] < last_date]\n",
    "\n",
    "year = last_date.date().strftime('%Y')\n",
    "month = last_date.date().strftime('%m')\n",
    "TEMP_FILENAME = f'expense_smsc_{year}_{month}.csv'\n",
    "df.to_csv(TEMP_FILENAME, sep=';', index=False)\n",
    "\n",
    "folder = 'expense_smsc'\n",
    "BUCKET_NAME = 'dwh-asgard'\n",
    "key = f'{folder}/year={year}/month={month}/{month}.csv'\n",
    "\n",
    "upload_dump_to_s3()\n",
    "remove_temp_files()\n"
   ]
  },
  {
   "cell_type": "code",
   "execution_count": 10,
   "id": "c8145df2",
   "metadata": {},
   "outputs": [],
   "source": [
    "TEMP_FILENAME = '/home/boris/Desktop/sms/greensms_call_2025-06-01_2025-06-30.csv'\n",
    "folder = 'expense_greensms'\n",
    "last_date = '2025-06-30'\n",
    "last_date = datetime.datetime.strptime(last_date, '%Y-%m-%d')\n",
    "\n",
    "year = last_date.date().strftime('%Y')\n",
    "month = last_date.date().strftime('%m')\n",
    "\n",
    "BUCKET_NAME = 'dwh-asgard'\n",
    "key = f'{folder}/greensms_call {year}-{month}.csv'\n",
    "\n",
    "upload_dump_to_s3()\n"
   ]
  },
  {
   "cell_type": "code",
   "execution_count": null,
   "id": "5bc75bcf",
   "metadata": {},
   "outputs": [],
   "source": []
  }
 ],
 "metadata": {
  "kernelspec": {
   "display_name": "myenv",
   "language": "python",
   "name": "python3"
  },
  "language_info": {
   "codemirror_mode": {
    "name": "ipython",
    "version": 3
   },
   "file_extension": ".py",
   "mimetype": "text/x-python",
   "name": "python",
   "nbconvert_exporter": "python",
   "pygments_lexer": "ipython3",
   "version": "3.12.11"
  }
 },
 "nbformat": 4,
 "nbformat_minor": 5
}

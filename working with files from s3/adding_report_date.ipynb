{
 "cells": [
  {
   "cell_type": "code",
   "execution_count": 1,
   "metadata": {},
   "outputs": [],
   "source": [
    "import datetime\n",
    "import pandas as pd\n",
    "pd.set_option('display.max_colwidth', None)"
   ]
  },
  {
   "cell_type": "markdown",
   "metadata": {},
   "source": [
    "Цикл для добавления даты к заранее скаченным файлам без пропусков."
   ]
  },
  {
   "cell_type": "code",
   "execution_count": 2,
   "metadata": {},
   "outputs": [],
   "source": [
    "# создаем датафрейм где первая строка - дата в формате date, а вторая - в str. Это просто для удобства\n",
    "\n",
    "start_date = datetime.datetime.strptime('2023-12-01','%Y-%m-%d').date()\n",
    "end_date = datetime.datetime.strptime('2024-02-01','%Y-%m-%d').date()\n",
    "dates_pd = pd.DataFrame({\n",
    "        'date_range': pd.date_range(start=start_date, end=end_date),\n",
    "        'date_str': pd.date_range(start=start_date, end=end_date).strftime('%Y-%m-%d')\n",
    "        })"
   ]
  },
  {
   "cell_type": "code",
   "execution_count": 5,
   "metadata": {},
   "outputs": [],
   "source": [
    "path_on_pc = 'E:/s3'  \n",
    "folder = 'entries_st_mobile' # имя папки в бакете"
   ]
  },
  {
   "cell_type": "code",
   "execution_count": 6,
   "metadata": {},
   "outputs": [],
   "source": [
    "#Вызываем внутри цикла файл как df, подстваляес значение и загржаем обратно\n",
    "\n",
    "for i in range(0,dates_pd.shape[0]):\n",
    "    date = dates_pd.loc[i,[\"date_range\"]].values[0]\n",
    "    temp_df = pd.read_csv(f\"{path_on_pc}/{folder}/{date.strftime('year=%Y/month=%m/%d.csv')}\")\n",
    "    temp_df['report_date'] = dates_pd.loc[i,[\"date_str\"]].values[0]\n",
    "    temp_df = temp_df[['report_date','address_uuid','partner_uuid','monetization']]\n",
    "    temp_df.to_csv(f\"{path_on_pc}/{folder}/{date.strftime('year=%Y/month=%m/%d.csv')}\", sep=\",\", index=False)"
   ]
  }
 ],
 "metadata": {
  "kernelspec": {
   "display_name": "Python 3",
   "language": "python",
   "name": "python3"
  },
  "language_info": {
   "codemirror_mode": {
    "name": "ipython",
    "version": 3
   },
   "file_extension": ".py",
   "mimetype": "text/x-python",
   "name": "python",
   "nbconvert_exporter": "python",
   "pygments_lexer": "ipython3",
   "version": "3.9.13"
  }
 },
 "nbformat": 4,
 "nbformat_minor": 2
}

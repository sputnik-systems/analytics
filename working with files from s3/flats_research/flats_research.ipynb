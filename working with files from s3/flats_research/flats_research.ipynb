{
 "cells": [
  {
   "cell_type": "code",
   "execution_count": 1,
   "metadata": {},
   "outputs": [],
   "source": [
    "import requests\n",
    "import time\n",
    "import json\n",
    "import os\n",
    "import datetime\n",
    "import boto3\n",
    "import pytz\n",
    "import pandas as pd\n",
    "from dateutil.relativedelta import relativedelta"
   ]
  },
  {
   "cell_type": "code",
   "execution_count": 2,
   "metadata": {},
   "outputs": [],
   "source": [
    "from config import ACCESS_KEY,SECRET_KEY,TOKEN,FOLDER,FOLDER_ID,BUCKET_NAME,BUCKET_NAME"
   ]
  },
  {
   "cell_type": "code",
   "execution_count": 3,
   "metadata": {},
   "outputs": [],
   "source": [
    "TIME_ZONE = os.getenv(\"TIME_ZONE\", \"Europe/Moscow\") #настройка функции\n",
    "TEMP_FILENAME = \"temp_file\"\n",
    "\n",
    "headers={'Authorization':TOKEN ,'Accept':'application/json'}\n",
    "\n",
    "def get_now_datetime_str(): # получаем актуальное время\n",
    "    time_zone = os.getenv(\"TIME_ZONE\", \"Europe/Moscow\") # меняем таймзону на московскую\n",
    "    now = datetime.datetime.now(pytz.timezone(time_zone))    \n",
    "    yesterday = now - datetime.timedelta(days=1) #нужна вчерашняя дата так как данные за прошлый день\n",
    "    last_month_data = now - relativedelta(month=1)\n",
    "    return {'key_parquet': yesterday.strftime('year=%Y/month=%m/%d.parquet'),\n",
    "            'key': yesterday.strftime('year=%Y/month=%m/%d.csv'),\n",
    "            'key_month': yesterday.strftime('year=%Y/month=%m.csv'),\n",
    "            'now':now.strftime('%Y-%m-%d %H:%M:%S'),\n",
    "            'yesterday_data':yesterday.strftime('%Y-%m-%d'),\n",
    "            'yesterday':yesterday.strftime('%Y-%m-%d %H:%M:%S'), \n",
    "            'year':yesterday.strftime('%Y'),\n",
    "            'month':yesterday.strftime('%m'),\n",
    "            'day':yesterday.strftime('%d'),\n",
    "            'last_month_data':last_month_data.strftime('%Y-%m-%d')\n",
    "            }\n",
    "\n",
    "def create_query(): #функция создает новый запрос и возвращает id для запроса результата\n",
    "    body = {\n",
    "        \"name\":query_name, \n",
    "        \"TYPE\":\"ANALYTICS\", \n",
    "        \"text\":query_text, \n",
    "        \"description\":query_description\n",
    "    }\n",
    "    response = requests.post(\n",
    "        f'https://api.yandex-query.cloud.yandex.net/api/fq/v1/queries?project={FOLDER_ID}',\n",
    "        headers=headers,\n",
    "        json=body\n",
    "    )\n",
    "    if response.status_code == 200:\n",
    "        return response.json()[\"id\"]\n",
    "    return f' Code: {response},  text: {response.text}'\n",
    "\n",
    "\n",
    "def get_request(offset): # фунция возвращает ответ запроса. Максимум 1000 строк.\n",
    "    offset = offset\n",
    "    get_query_results_url = f'https://api.yandex-query.cloud.yandex.net/api/fq/v1/queries/{request_id}/results/0?project={FOLDER_ID}&offset={str(offset)}&limit=1000'\n",
    "    response = requests.get(\n",
    "        get_query_results_url,\n",
    "        headers = headers\n",
    "    )\n",
    "    return response\n",
    "\n",
    "def if_cell_is_list(cell): # функция участвует в преобразовании данных при создании файла\n",
    "    if isinstance(cell, list):\n",
    "        if len(cell) == 0:\n",
    "            return ''\n",
    "        else: \n",
    "            return cell[0]\n",
    "    else:\n",
    "        return cell\n",
    "\n",
    "def write_temp_file():\n",
    "    offset = 0\n",
    "    response = get_request(offset) #запрашиваем данные запроса\n",
    "    columns = [rows['name'] for rows in response.json()['columns']] #выделяем названия столбцов\n",
    "    special_str = \"\"\n",
    "    for j in columns:\n",
    "        special_str = f\"{special_str}{str(j)},\"\n",
    "    temp_file = open(TEMP_FILENAME, 'w')\n",
    "    temp_file.write(special_str[:-1]+'\\n')\n",
    "\n",
    "def write_temp_file():\n",
    "    offset = 0\n",
    "    response = get_request(offset) #запрашиваем данные запроса\n",
    "    columns = [rows['name'] for rows in response.json()['columns']] #выделяем названия столбцов\n",
    "    special_str = \"\"\n",
    "    for j in columns:\n",
    "        special_str = f\"{special_str}{str(j)},\"\n",
    "    temp_file = open(TEMP_FILENAME, 'w', encoding='utf-8')\n",
    "    temp_file.write(special_str[:-1]+'\\n')\n",
    "\n",
    "    while response.status_code == 200 and len(response.json()['rows']) != 0:  #Цикл делает запросы по 10000, пока не кончатся данные\n",
    "        response = get_request(offset)\n",
    "        response_rows = response.json()['rows']\n",
    "        rows = [[if_cell_is_list(cell) for cell in row] for row in response_rows]  #Преобразуются строки\n",
    "        # Открывает созданный файл и добавляет в него строки\n",
    "        for row in rows:\n",
    "            special_str = ','.join(\"'{0}'\".format(i.replace(\"'\", \"\"))  if isinstance(i, str) else str(i) for i in row)\n",
    "            temp_file.write(special_str+'\\n') \n",
    "        offset +=1000 # увеличивает смещение\n",
    "\n",
    "def get_s3_instance(): # функция создает соединение\n",
    "    session = boto3.session.Session()\n",
    "    return session.client(\n",
    "        aws_access_key_id=ACCESS_KEY,\n",
    "        aws_secret_access_key=SECRET_KEY,\n",
    "        service_name='s3',\n",
    "        endpoint_url='https://storage.yandexcloud.net'\n",
    "    )\n",
    "\n",
    "def upload_dump_to_s3(): # функция выгружает данные в s3\n",
    "    get_s3_instance().upload_file(\n",
    "        Filename=TEMP_FILENAME,\n",
    "        Bucket=BUCKET_NAME,\n",
    "        Key=key\n",
    "    )\n",
    "\n",
    "def remove_temp_files(): #функция удаляет временный файл\n",
    "    os.remove(TEMP_FILENAME)"
   ]
  },
  {
   "cell_type": "code",
   "execution_count": 4,
   "metadata": {},
   "outputs": [],
   "source": [
    "s3 = get_s3_instance()"
   ]
  },
  {
   "cell_type": "markdown",
   "metadata": {},
   "source": [
    "### flats_st_partner"
   ]
  },
  {
   "cell_type": "code",
   "execution_count": 5,
   "metadata": {},
   "outputs": [],
   "source": [
    "BUCKET_NAME = \"dwh-asgard\"\n",
    "FOLDER = 'flats_st_partner'\n",
    "key = f\"year={int(get_now_datetime_str()['year'])}/month={int(get_now_datetime_str()['month'])}/{int(get_now_datetime_str()['day'])}.csv\"\n",
    "s3_file_name = f\"{FOLDER}/{key}\"\n",
    "s3_file_name_folder = '/'.join(s3_file_name.split(sep='/')[0:3])\n",
    "\n",
    "path_on_pc = 'D:/s3'\n",
    "local_download_folder = f'{path_on_pc}/{s3_file_name_folder}'\n",
    "local_download_path = f'{path_on_pc}/{s3_file_name}'\n",
    "\n",
    "if os.path.isfile(local_download_path) is False:\n",
    "# создается новая папка, если ее нет\n",
    "    os.makedirs(local_download_folder, exist_ok=True)\n",
    "    s3.download_file(Bucket=BUCKET_NAME,Key=s3_file_name,Filename=local_download_path)"
   ]
  },
  {
   "cell_type": "code",
   "execution_count": 6,
   "metadata": {},
   "outputs": [],
   "source": [
    "flats_st_partner_df = pd.read_csv(f'{local_download_path}')"
   ]
  },
  {
   "cell_type": "code",
   "execution_count": 7,
   "metadata": {},
   "outputs": [
    {
     "data": {
      "text/html": [
       "<div>\n",
       "<style scoped>\n",
       "    .dataframe tbody tr th:only-of-type {\n",
       "        vertical-align: middle;\n",
       "    }\n",
       "\n",
       "    .dataframe tbody tr th {\n",
       "        vertical-align: top;\n",
       "    }\n",
       "\n",
       "    .dataframe thead th {\n",
       "        text-align: right;\n",
       "    }\n",
       "</style>\n",
       "<table border=\"1\" class=\"dataframe\">\n",
       "  <thead>\n",
       "    <tr style=\"text-align: right;\">\n",
       "      <th></th>\n",
       "      <th>report_date</th>\n",
       "      <th>flat_uuid</th>\n",
       "      <th>call_blocked</th>\n",
       "      <th>blocked</th>\n",
       "      <th>deleted</th>\n",
       "    </tr>\n",
       "  </thead>\n",
       "  <tbody>\n",
       "    <tr>\n",
       "      <th>0</th>\n",
       "      <td>2024-10-27</td>\n",
       "      <td>f6c107ef-e972-4c14-ac9c-40b82b5f8395</td>\n",
       "      <td>0</td>\n",
       "      <td>0</td>\n",
       "      <td>0</td>\n",
       "    </tr>\n",
       "    <tr>\n",
       "      <th>1</th>\n",
       "      <td>2024-10-27</td>\n",
       "      <td>a498f0b2-b749-4255-9cf4-bf86663dfb60</td>\n",
       "      <td>0</td>\n",
       "      <td>0</td>\n",
       "      <td>0</td>\n",
       "    </tr>\n",
       "    <tr>\n",
       "      <th>2</th>\n",
       "      <td>2024-10-27</td>\n",
       "      <td>efc20b04-6a06-4ff1-9feb-27fce2279281</td>\n",
       "      <td>0</td>\n",
       "      <td>0</td>\n",
       "      <td>0</td>\n",
       "    </tr>\n",
       "    <tr>\n",
       "      <th>3</th>\n",
       "      <td>2024-10-27</td>\n",
       "      <td>c5ca5697-fae8-47f8-8ab1-34f1b11a9830</td>\n",
       "      <td>0</td>\n",
       "      <td>0</td>\n",
       "      <td>0</td>\n",
       "    </tr>\n",
       "    <tr>\n",
       "      <th>4</th>\n",
       "      <td>2024-10-27</td>\n",
       "      <td>4429f3bd-f810-4ef0-97dc-3ca2b7f7955f</td>\n",
       "      <td>0</td>\n",
       "      <td>0</td>\n",
       "      <td>0</td>\n",
       "    </tr>\n",
       "    <tr>\n",
       "      <th>...</th>\n",
       "      <td>...</td>\n",
       "      <td>...</td>\n",
       "      <td>...</td>\n",
       "      <td>...</td>\n",
       "      <td>...</td>\n",
       "    </tr>\n",
       "    <tr>\n",
       "      <th>808839</th>\n",
       "      <td>2024-10-27</td>\n",
       "      <td>5f703b65-d849-4219-acc1-328afcdc9e60</td>\n",
       "      <td>0</td>\n",
       "      <td>0</td>\n",
       "      <td>0</td>\n",
       "    </tr>\n",
       "    <tr>\n",
       "      <th>808840</th>\n",
       "      <td>2024-10-27</td>\n",
       "      <td>4de3f607-4be5-42e5-a586-2ffcfd51bb5b</td>\n",
       "      <td>0</td>\n",
       "      <td>0</td>\n",
       "      <td>0</td>\n",
       "    </tr>\n",
       "    <tr>\n",
       "      <th>808841</th>\n",
       "      <td>2024-10-27</td>\n",
       "      <td>63ac45d7-5595-4e3c-9123-fe3076f04071</td>\n",
       "      <td>0</td>\n",
       "      <td>0</td>\n",
       "      <td>0</td>\n",
       "    </tr>\n",
       "    <tr>\n",
       "      <th>808842</th>\n",
       "      <td>2024-10-27</td>\n",
       "      <td>6091a658-c9a2-4ebd-9217-0b150b01fd31</td>\n",
       "      <td>0</td>\n",
       "      <td>0</td>\n",
       "      <td>0</td>\n",
       "    </tr>\n",
       "    <tr>\n",
       "      <th>808843</th>\n",
       "      <td>2024-10-27</td>\n",
       "      <td>89913bb5-9d2f-4015-999e-bd967dead1cb</td>\n",
       "      <td>0</td>\n",
       "      <td>0</td>\n",
       "      <td>0</td>\n",
       "    </tr>\n",
       "  </tbody>\n",
       "</table>\n",
       "<p>808844 rows × 5 columns</p>\n",
       "</div>"
      ],
      "text/plain": [
       "       report_date                             flat_uuid  call_blocked  \\\n",
       "0       2024-10-27  f6c107ef-e972-4c14-ac9c-40b82b5f8395             0   \n",
       "1       2024-10-27  a498f0b2-b749-4255-9cf4-bf86663dfb60             0   \n",
       "2       2024-10-27  efc20b04-6a06-4ff1-9feb-27fce2279281             0   \n",
       "3       2024-10-27  c5ca5697-fae8-47f8-8ab1-34f1b11a9830             0   \n",
       "4       2024-10-27  4429f3bd-f810-4ef0-97dc-3ca2b7f7955f             0   \n",
       "...            ...                                   ...           ...   \n",
       "808839  2024-10-27  5f703b65-d849-4219-acc1-328afcdc9e60             0   \n",
       "808840  2024-10-27  4de3f607-4be5-42e5-a586-2ffcfd51bb5b             0   \n",
       "808841  2024-10-27  63ac45d7-5595-4e3c-9123-fe3076f04071             0   \n",
       "808842  2024-10-27  6091a658-c9a2-4ebd-9217-0b150b01fd31             0   \n",
       "808843  2024-10-27  89913bb5-9d2f-4015-999e-bd967dead1cb             0   \n",
       "\n",
       "        blocked  deleted  \n",
       "0             0        0  \n",
       "1             0        0  \n",
       "2             0        0  \n",
       "3             0        0  \n",
       "4             0        0  \n",
       "...         ...      ...  \n",
       "808839        0        0  \n",
       "808840        0        0  \n",
       "808841        0        0  \n",
       "808842        0        0  \n",
       "808843        0        0  \n",
       "\n",
       "[808844 rows x 5 columns]"
      ]
     },
     "execution_count": 7,
     "metadata": {},
     "output_type": "execute_result"
    }
   ],
   "source": [
    "flats_st_partner_df"
   ]
  },
  {
   "cell_type": "code",
   "execution_count": 12,
   "metadata": {},
   "outputs": [],
   "source": [
    "BUCKET_NAME = \"dwh-asgard\"\n",
    "FOLDER = 'flats_dir_partner'\n",
    "s3_file_name = f\"{FOLDER}/flats_dir_partner.csv\"\n",
    "s3_file_name_folder = '/'.join(s3_file_name.split(sep='/')[0:1])\n",
    "\n",
    "path_on_pc = 'D:/s3'\n",
    "local_download_folder = f'{path_on_pc}/{s3_file_name_folder}'\n",
    "local_download_path = f'{path_on_pc}/{s3_file_name}'\n",
    "\n",
    "if os.path.isfile(local_download_path) is False:\n",
    "# создается новая папка, если ее нет\n",
    "    os.makedirs(local_download_folder, exist_ok=True)\n",
    "    s3.download_file(Bucket=BUCKET_NAME,Key=s3_file_name,Filename=local_download_path)"
   ]
  },
  {
   "cell_type": "code",
   "execution_count": 13,
   "metadata": {},
   "outputs": [],
   "source": [
    "flats_dir_partner_df = pd.read_csv(f'{local_download_path}')"
   ]
  },
  {
   "cell_type": "code",
   "execution_count": 14,
   "metadata": {},
   "outputs": [
    {
     "data": {
      "text/html": [
       "<div>\n",
       "<style scoped>\n",
       "    .dataframe tbody tr th:only-of-type {\n",
       "        vertical-align: middle;\n",
       "    }\n",
       "\n",
       "    .dataframe tbody tr th {\n",
       "        vertical-align: top;\n",
       "    }\n",
       "\n",
       "    .dataframe thead th {\n",
       "        text-align: right;\n",
       "    }\n",
       "</style>\n",
       "<table border=\"1\" class=\"dataframe\">\n",
       "  <thead>\n",
       "    <tr style=\"text-align: right;\">\n",
       "      <th></th>\n",
       "      <th>created_at</th>\n",
       "      <th>number</th>\n",
       "      <th>address_uuid</th>\n",
       "      <th>installation_point_id</th>\n",
       "      <th>flat_uuid</th>\n",
       "    </tr>\n",
       "  </thead>\n",
       "  <tbody>\n",
       "    <tr>\n",
       "      <th>0</th>\n",
       "      <td>2018-05-25 08:07:14</td>\n",
       "      <td>23</td>\n",
       "      <td>f59b9539-3cba-4818-af1c-b6b14e910db4</td>\n",
       "      <td>1665</td>\n",
       "      <td>f6c107ef-e972-4c14-ac9c-40b82b5f8395</td>\n",
       "    </tr>\n",
       "    <tr>\n",
       "      <th>1</th>\n",
       "      <td>2018-05-25 08:11:16</td>\n",
       "      <td>65</td>\n",
       "      <td>2c8ae56a-8938-4c9c-b3ac-a43caef5786e</td>\n",
       "      <td>1682</td>\n",
       "      <td>a498f0b2-b749-4255-9cf4-bf86663dfb60</td>\n",
       "    </tr>\n",
       "    <tr>\n",
       "      <th>2</th>\n",
       "      <td>2018-05-25 08:36:56</td>\n",
       "      <td>15</td>\n",
       "      <td>c711c9ff-c0ac-44c2-98e7-8c39ead87453</td>\n",
       "      <td>325</td>\n",
       "      <td>efc20b04-6a06-4ff1-9feb-27fce2279281</td>\n",
       "    </tr>\n",
       "    <tr>\n",
       "      <th>3</th>\n",
       "      <td>2018-05-25 08:39:02</td>\n",
       "      <td>2</td>\n",
       "      <td>501b7f66-eb3d-410f-96d0-da75fc9fdc0b</td>\n",
       "      <td>1667</td>\n",
       "      <td>c5ca5697-fae8-47f8-8ab1-34f1b11a9830</td>\n",
       "    </tr>\n",
       "    <tr>\n",
       "      <th>4</th>\n",
       "      <td>2018-05-25 08:40:27</td>\n",
       "      <td>25</td>\n",
       "      <td>501b7f66-eb3d-410f-96d0-da75fc9fdc0b</td>\n",
       "      <td>1670</td>\n",
       "      <td>4429f3bd-f810-4ef0-97dc-3ca2b7f7955f</td>\n",
       "    </tr>\n",
       "    <tr>\n",
       "      <th>...</th>\n",
       "      <td>...</td>\n",
       "      <td>...</td>\n",
       "      <td>...</td>\n",
       "      <td>...</td>\n",
       "      <td>...</td>\n",
       "    </tr>\n",
       "    <tr>\n",
       "      <th>724665</th>\n",
       "      <td>2024-05-07 01:49:22</td>\n",
       "      <td>40</td>\n",
       "      <td>db50d44a-be51-487c-9d9a-819fed1a6a9a</td>\n",
       "      <td>759751</td>\n",
       "      <td>0cb1a829-ec6b-421b-9365-46d2f0075fa0</td>\n",
       "    </tr>\n",
       "    <tr>\n",
       "      <th>724666</th>\n",
       "      <td>2024-05-07 01:53:57</td>\n",
       "      <td>139</td>\n",
       "      <td>17c34221-4694-4d79-881d-01b213f26757</td>\n",
       "      <td>759752</td>\n",
       "      <td>7f7d7ea4-2fec-4da3-b98d-55f612ec78cd</td>\n",
       "    </tr>\n",
       "    <tr>\n",
       "      <th>724667</th>\n",
       "      <td>2024-05-07 01:55:16</td>\n",
       "      <td>23</td>\n",
       "      <td>edf61306-e604-4846-ac49-2cdca59befe4</td>\n",
       "      <td>759753</td>\n",
       "      <td>f0909c1a-80dc-44de-987b-8615c9855519</td>\n",
       "    </tr>\n",
       "    <tr>\n",
       "      <th>724668</th>\n",
       "      <td>2024-05-07 02:19:41</td>\n",
       "      <td>2</td>\n",
       "      <td>e3cc71e4-96f5-4190-b422-ae04b6379fd6</td>\n",
       "      <td>759754</td>\n",
       "      <td>7816cb6c-3f0f-4134-b091-a5ef85b6d4a5</td>\n",
       "    </tr>\n",
       "    <tr>\n",
       "      <th>724669</th>\n",
       "      <td>2024-05-07 02:22:50</td>\n",
       "      <td>18</td>\n",
       "      <td>92dd38a9-09ae-4f01-aa4c-e05f6ce280dd</td>\n",
       "      <td>759755</td>\n",
       "      <td>a61f6859-3732-49f3-9c96-54e9393e3eab</td>\n",
       "    </tr>\n",
       "  </tbody>\n",
       "</table>\n",
       "<p>724670 rows × 5 columns</p>\n",
       "</div>"
      ],
      "text/plain": [
       "                 created_at  number                          address_uuid  \\\n",
       "0       2018-05-25 08:07:14      23  f59b9539-3cba-4818-af1c-b6b14e910db4   \n",
       "1       2018-05-25 08:11:16      65  2c8ae56a-8938-4c9c-b3ac-a43caef5786e   \n",
       "2       2018-05-25 08:36:56      15  c711c9ff-c0ac-44c2-98e7-8c39ead87453   \n",
       "3       2018-05-25 08:39:02       2  501b7f66-eb3d-410f-96d0-da75fc9fdc0b   \n",
       "4       2018-05-25 08:40:27      25  501b7f66-eb3d-410f-96d0-da75fc9fdc0b   \n",
       "...                     ...     ...                                   ...   \n",
       "724665  2024-05-07 01:49:22      40  db50d44a-be51-487c-9d9a-819fed1a6a9a   \n",
       "724666  2024-05-07 01:53:57     139  17c34221-4694-4d79-881d-01b213f26757   \n",
       "724667  2024-05-07 01:55:16      23  edf61306-e604-4846-ac49-2cdca59befe4   \n",
       "724668  2024-05-07 02:19:41       2  e3cc71e4-96f5-4190-b422-ae04b6379fd6   \n",
       "724669  2024-05-07 02:22:50      18  92dd38a9-09ae-4f01-aa4c-e05f6ce280dd   \n",
       "\n",
       "        installation_point_id                             flat_uuid  \n",
       "0                        1665  f6c107ef-e972-4c14-ac9c-40b82b5f8395  \n",
       "1                        1682  a498f0b2-b749-4255-9cf4-bf86663dfb60  \n",
       "2                         325  efc20b04-6a06-4ff1-9feb-27fce2279281  \n",
       "3                        1667  c5ca5697-fae8-47f8-8ab1-34f1b11a9830  \n",
       "4                        1670  4429f3bd-f810-4ef0-97dc-3ca2b7f7955f  \n",
       "...                       ...                                   ...  \n",
       "724665                 759751  0cb1a829-ec6b-421b-9365-46d2f0075fa0  \n",
       "724666                 759752  7f7d7ea4-2fec-4da3-b98d-55f612ec78cd  \n",
       "724667                 759753  f0909c1a-80dc-44de-987b-8615c9855519  \n",
       "724668                 759754  7816cb6c-3f0f-4134-b091-a5ef85b6d4a5  \n",
       "724669                 759755  a61f6859-3732-49f3-9c96-54e9393e3eab  \n",
       "\n",
       "[724670 rows x 5 columns]"
      ]
     },
     "execution_count": 14,
     "metadata": {},
     "output_type": "execute_result"
    }
   ],
   "source": [
    "flats_dir_partner_df"
   ]
  },
  {
   "cell_type": "code",
   "execution_count": 15,
   "metadata": {},
   "outputs": [],
   "source": [
    "flats_st_partner_df = flats_st_partner_df.merge(\n",
    "    flats_dir_partner_df[['flat_uuid','address_uuid']],\n",
    "    on='flat_uuid',\n",
    "    how='left'\n",
    ")"
   ]
  },
  {
   "cell_type": "code",
   "execution_count": 16,
   "metadata": {},
   "outputs": [
    {
     "data": {
      "text/plain": [
       "25617"
      ]
     },
     "execution_count": 16,
     "metadata": {},
     "output_type": "execute_result"
    }
   ],
   "source": [
    "flats_st_partner_df['address_uuid'].nunique()"
   ]
  },
  {
   "cell_type": "markdown",
   "metadata": {},
   "source": [
    "### installation_point_st_partner"
   ]
  },
  {
   "cell_type": "code",
   "execution_count": 18,
   "metadata": {},
   "outputs": [],
   "source": [
    "BUCKET_NAME = \"dwh-asgard\"\n",
    "FOLDER = 'installation_point_st_partner'\n",
    "key = f\"year={int(get_now_datetime_str()['year'])}/month={int(get_now_datetime_str()['month'])}/{int(get_now_datetime_str()['day'])}.csv\"\n",
    "s3_file_name = f\"{FOLDER}/{key}\"\n",
    "s3_file_name_folder = '/'.join(s3_file_name.split(sep='/')[0:3])\n",
    "\n",
    "path_on_pc = 'D:/s3'\n",
    "local_download_folder = f'{path_on_pc}/{s3_file_name_folder}'\n",
    "local_download_path = f'{path_on_pc}/{s3_file_name}'\n",
    "\n",
    "if os.path.isfile(local_download_path) is False:\n",
    "# создается новая папка, если ее нет\n",
    "    os.makedirs(local_download_folder, exist_ok=True)\n",
    "    s3.download_file(Bucket=BUCKET_NAME,Key=s3_file_name,Filename=local_download_path)"
   ]
  },
  {
   "cell_type": "code",
   "execution_count": 19,
   "metadata": {},
   "outputs": [],
   "source": [
    "installation_point_st_partner_df = pd.read_csv(f'{local_download_path}')"
   ]
  },
  {
   "cell_type": "code",
   "execution_count": 20,
   "metadata": {},
   "outputs": [
    {
     "data": {
      "text/plain": [
       "33715"
      ]
     },
     "execution_count": 20,
     "metadata": {},
     "output_type": "execute_result"
    }
   ],
   "source": [
    "installation_point_st_partner_df['installation_point_id'].nunique()"
   ]
  },
  {
   "cell_type": "code",
   "execution_count": 22,
   "metadata": {},
   "outputs": [],
   "source": [
    "BUCKET_NAME = \"dwh-asgard\"\n",
    "FOLDER = 'entries_installation_points_dir_partner'\n",
    "s3_file_name = f\"{FOLDER}/entries_installation_points_dir_partner.csv\"\n",
    "s3_file_name_folder = '/'.join(s3_file_name.split(sep='/')[0:1])\n",
    "\n",
    "path_on_pc = 'D:/s3'\n",
    "local_download_folder = f'{path_on_pc}/{s3_file_name_folder}'\n",
    "local_download_path = f'{path_on_pc}/{s3_file_name}'\n",
    "\n",
    "if os.path.isfile(local_download_path) is False:\n",
    "# создается новая папка, если ее нет\n",
    "    os.makedirs(local_download_folder, exist_ok=True)\n",
    "    s3.download_file(Bucket=BUCKET_NAME,Key=s3_file_name,Filename=local_download_path)"
   ]
  },
  {
   "cell_type": "code",
   "execution_count": 23,
   "metadata": {},
   "outputs": [],
   "source": [
    "entries_installation_points_dir_partner_df = pd.read_csv(f'{local_download_path}')"
   ]
  },
  {
   "cell_type": "code",
   "execution_count": 24,
   "metadata": {},
   "outputs": [],
   "source": [
    "installation_point_st_partner_df = installation_point_st_partner_df.merge(\n",
    "    entries_installation_points_dir_partner_df[['installation_point_id','address_uuid','city','country','region','parent_uuid']],\n",
    "    on='installation_point_id',\n",
    "    how='left'\n",
    ")"
   ]
  },
  {
   "cell_type": "code",
   "execution_count": 25,
   "metadata": {},
   "outputs": [
    {
     "data": {
      "text/plain": [
       "30156"
      ]
     },
     "execution_count": 25,
     "metadata": {},
     "output_type": "execute_result"
    }
   ],
   "source": [
    "installation_point_st_partner_df['address_uuid'].nunique()"
   ]
  },
  {
   "cell_type": "markdown",
   "metadata": {},
   "source": [
    "### merge"
   ]
  },
  {
   "cell_type": "code",
   "execution_count": null,
   "metadata": {},
   "outputs": [],
   "source": [
    "flats_st_partner_df_merged = flats_st_partner_df.merge(\n",
    "    installation_point_st_partner_df[['installation_point_id','address_uuid','city','country','region','parent_uuid']],\n",
    "    on='address_uuid',\n",
    "    how='left'\n",
    ")"
   ]
  },
  {
   "cell_type": "code",
   "execution_count": 10,
   "metadata": {},
   "outputs": [
    {
     "ename": "OSError",
     "evalue": "[WinError 123] Синтаксическая ошибка в имени файла, имени папки или метке тома: ':'",
     "output_type": "error",
     "traceback": [
      "\u001b[1;31m---------------------------------------------------------------------------\u001b[0m",
      "\u001b[1;31mOSError\u001b[0m                                   Traceback (most recent call last)",
      "Cell \u001b[1;32mIn[10], line 7\u001b[0m\n\u001b[0;32m      4\u001b[0m local_download_folder\u001b[38;5;241m=\u001b[39m \u001b[38;5;124mf\u001b[39m\u001b[38;5;124m\"\u001b[39m\u001b[38;5;132;01m{\u001b[39;00mpath_on_pc\u001b[38;5;132;01m}\u001b[39;00m\u001b[38;5;124m/\u001b[39m\u001b[38;5;132;01m{\u001b[39;00mFOLDER\u001b[38;5;132;01m}\u001b[39;00m\u001b[38;5;124m\"\u001b[39m\n\u001b[0;32m      5\u001b[0m local_download_path \u001b[38;5;241m=\u001b[39m \u001b[38;5;124mf\u001b[39m\u001b[38;5;124m\"\u001b[39m\u001b[38;5;132;01m{\u001b[39;00mpath_on_pc\u001b[38;5;132;01m}\u001b[39;00m\u001b[38;5;124m/\u001b[39m\u001b[38;5;132;01m{\u001b[39;00mFOLDER\u001b[38;5;132;01m}\u001b[39;00m\u001b[38;5;124m/\u001b[39m\u001b[38;5;132;01m{\u001b[39;00mget_now_datetime_str()[\u001b[38;5;124m'\u001b[39m\u001b[38;5;124mkey_parquet\u001b[39m\u001b[38;5;124m'\u001b[39m]\u001b[38;5;132;01m}\u001b[39;00m\u001b[38;5;124m\"\u001b[39m\n\u001b[1;32m----> 7\u001b[0m \u001b[43mos\u001b[49m\u001b[38;5;241;43m.\u001b[39;49m\u001b[43mmakedirs\u001b[49m\u001b[43m(\u001b[49m\u001b[43mlocal_download_folder\u001b[49m\u001b[43m,\u001b[49m\u001b[43m \u001b[49m\u001b[43mexist_ok\u001b[49m\u001b[38;5;241;43m=\u001b[39;49m\u001b[38;5;28;43;01mTrue\u001b[39;49;00m\u001b[43m)\u001b[49m\n",
      "File \u001b[1;32m<frozen os>:215\u001b[0m, in \u001b[0;36mmakedirs\u001b[1;34m(name, mode, exist_ok)\u001b[0m\n",
      "File \u001b[1;32m<frozen os>:215\u001b[0m, in \u001b[0;36mmakedirs\u001b[1;34m(name, mode, exist_ok)\u001b[0m\n",
      "File \u001b[1;32m<frozen os>:225\u001b[0m, in \u001b[0;36mmakedirs\u001b[1;34m(name, mode, exist_ok)\u001b[0m\n",
      "\u001b[1;31mOSError\u001b[0m: [WinError 123] Синтаксическая ошибка в имени файла, имени папки или метке тома: ':'"
     ]
    }
   ],
   "source": [
    "BUCKET_NAME = \"aggregated-data\"\n",
    "FOLDER = 'flats_research_dashboard'\n",
    "\n",
    "local_download_folder= f\"{path_on_pc}/{FOLDER}\"\n",
    "local_download_path = f\"{path_on_pc}/{FOLDER}/{get_now_datetime_str()['key_parquet']}\"\n",
    "\n",
    "os.makedirs(local_download_folder, exist_ok=True)"
   ]
  },
  {
   "cell_type": "code",
   "execution_count": 53,
   "metadata": {},
   "outputs": [],
   "source": [
    "flats_st_partner_df_merged.to_parquet(f\"{path_on_pc}/{FOLDER}/{get_now_datetime_str()['key_parquet']}\", compression='snappy', index=False) "
   ]
  },
  {
   "cell_type": "code",
   "execution_count": 55,
   "metadata": {},
   "outputs": [],
   "source": [
    "s3_file_path = f\"{FOLDER}/{get_now_datetime_str()['key_parquet']}\"\n",
    "pc_file_path = f\"{path_on_pc}/{FOLDER}/{get_now_datetime_str()['key_parquet']}\"\n",
    "\n",
    "s3.upload_file(pc_file_path, BUCKET_NAME, s3_file_path)"
   ]
  },
  {
   "cell_type": "code",
   "execution_count": null,
   "metadata": {},
   "outputs": [],
   "source": []
  }
 ],
 "metadata": {
  "kernelspec": {
   "display_name": "Python 3",
   "language": "python",
   "name": "python3"
  },
  "language_info": {
   "codemirror_mode": {
    "name": "ipython",
    "version": 3
   },
   "file_extension": ".py",
   "mimetype": "text/x-python",
   "name": "python",
   "nbconvert_exporter": "python",
   "pygments_lexer": "ipython3",
   "version": "3.12.4"
  }
 },
 "nbformat": 4,
 "nbformat_minor": 2
}

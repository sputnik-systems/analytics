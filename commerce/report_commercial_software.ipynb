{
 "cells": [
  {
   "cell_type": "code",
   "execution_count": 1,
   "metadata": {},
   "outputs": [],
   "source": [
    "import requests\n",
    "import time\n",
    "import json\n",
    "import os\n",
    "import datetime\n",
    "import boto3\n",
    "import pytz\n",
    "import pandas as pd"
   ]
  },
  {
   "cell_type": "code",
   "execution_count": null,
   "metadata": {},
   "outputs": [],
   "source": [
    "FOLDER_ID = os.getenv(\"FOLDER_ID\") # id каталога из которого береться запрос\n",
    "FOLDER = os.getenv(\"FOLDER\") #имя папки в которую будет выкладываться\n",
    "ACCESS_KEY = os.getenv(\"ACCESS_KEY\") #aws_access_key_id для S3\n",
    "SECRET_KEY = os.getenv(\"SECRET_KEY\") #aws_secret_access_key в s3\n",
    "BUCKET_NAME = os.getenv(\"BUCKET_NAME\") #имя бакета\n",
    "TIME_ZONE = os.getenv(\"TIME_ZONE\", \"Europe/Moscow\") #настройка функции\n",
    "TEMP_FILENAME = \"/tmp/temp_file\"\n",
    "URL_ALERT = os.getenv(\"URL_ALERT\")\n",
    "\n",
    "url = 'https://docs.google.com/spreadsheets/d/1tuVDy6kU6KeyoGNIpoGRhRuuN5Mc165mijqUA0j83Og/gviz/tq?tqx=out:csv&sheet=form1'\n",
    "\n",
    "response = requests.get(url)\n",
    "data = response.content\n",
    "with open(TEMP_FILENAME, 'wb') as file:\n",
    "    file.write(data)\n",
    "    \n",
    "def get_s3_instance(): # функция создает соединение\n",
    "    session = boto3.session.Session()\n",
    "    return session.client(\n",
    "        aws_access_key_id=ACCESS_KEY,\n",
    "        aws_secret_access_key=SECRET_KEY,\n",
    "        service_name='s3',\n",
    "        endpoint_url='https://storage.yandexcloud.net'\n",
    "    )\n",
    "\n",
    "def upload_dump_to_s3(): # функция выгружает данные в s3\n",
    "    get_s3_instance().upload_file(\n",
    "        Filename=TEMP_FILENAME,\n",
    "        Bucket=BUCKET_NAME,\n",
    "        Key=f\"{FOLDER}/support_requests_data_2.csv\"\n",
    "    )\n",
    "\n",
    "def remove_temp_files(): #функция удаляет временный файл\n",
    "    os.remove(TEMP_FILENAME)\n",
    "\n",
    "get_s3_instance()\n",
    "upload_dump_to_s3()\n",
    "remove_temp_files()\n",
    "\n"
   ]
  },
  {
   "cell_type": "code",
   "execution_count": 9,
   "metadata": {},
   "outputs": [],
   "source": [
    "url = 'https://docs.google.com/spreadsheets/d/1NMn-GkqV3O2sR9DjjSsNRHWWWjASsSJgz1cq9jGZ_DM/gviz/tq?tqx=out:csv&sheet=Enterprise_(API)'\n",
    "\n",
    "response = requests.get(url)"
   ]
  },
  {
   "cell_type": "code",
   "execution_count": 10,
   "metadata": {},
   "outputs": [],
   "source": [
    "df = pd.read_csv(url)"
   ]
  },
  {
   "cell_type": "code",
   "execution_count": 12,
   "metadata": {},
   "outputs": [
    {
     "name": "stdout",
     "output_type": "stream",
     "text": [
      "<class 'pandas.core.frame.DataFrame'>\n",
      "RangeIndex: 13 entries, 0 to 12\n",
      "Columns: 119 entries, Название компании to Октябрь 2024 домофонов.1\n",
      "dtypes: float64(29), object(90)\n",
      "memory usage: 12.2+ KB\n"
     ]
    }
   ],
   "source": [
    "df.info()"
   ]
  },
  {
   "cell_type": "code",
   "execution_count": 4,
   "metadata": {},
   "outputs": [
    {
     "data": {
      "text/plain": [
       "<Response [200]>"
      ]
     },
     "execution_count": 4,
     "metadata": {},
     "output_type": "execute_result"
    }
   ],
   "source": [
    "response"
   ]
  },
  {
   "cell_type": "code",
   "execution_count": 5,
   "metadata": {},
   "outputs": [],
   "source": [
    "data = response.content"
   ]
  }
 ],
 "metadata": {
  "kernelspec": {
   "display_name": "myenv",
   "language": "python",
   "name": "python3"
  },
  "language_info": {
   "codemirror_mode": {
    "name": "ipython",
    "version": 3
   },
   "file_extension": ".py",
   "mimetype": "text/x-python",
   "name": "python",
   "nbconvert_exporter": "python",
   "pygments_lexer": "ipython3",
   "version": "3.12.10"
  }
 },
 "nbformat": 4,
 "nbformat_minor": 2
}

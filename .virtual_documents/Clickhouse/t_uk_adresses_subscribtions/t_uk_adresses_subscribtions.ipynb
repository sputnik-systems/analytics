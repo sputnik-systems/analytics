


import clickhouse_connect
import datetime
import os
import pytz
import pandas as pd
from dateutil.relativedelta import relativedelta
from dotenv import load_dotenv

import sys
sys.path.append('/home/boris/Documents/Work/analytics/Clickhouse')
from clickhouse_client import ClickHouse_client
ch = ClickHouse_client()
pd.set_option('display.max_rows', 1000)
















query_text = """--sql
    DROP TABLE db1.t_uk_adresses_subscribtions_mv
    """

ch.query_run(query_text)





query_text = """--sql
    DROP TABLE db1.t_uk_adresses_subscribtions
    """

ch.query_run(query_text)





query_text = """
SYSTEM REFRESH VIEW db1.t_uk_adresses_subscribtions_mv
"""

ch.query_run(query_text)

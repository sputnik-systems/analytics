import clickhouse_connect
import datetime
import os
import pytz
import pandas as pd
from dateutil.relativedelta import relativedelta
from dotenv import load_dotenv

import sys
sys.path.append('/home/boris/Documents/Work/analytics/Clickhouse')
from clickhouse_client import ClickHouse_client
ch = ClickHouse_client()
pd.set_option('display.max_rows', 1000)





query_text = """--sql
    CREATE TABLE db1.t_citizen_id_in_flat_with_subscriptions
    (
        `report_date` Date,
        `address_uuid` String,
        `citizen_id_in_flat_with_subscriptions` UInt64
    )
    ENGINE = MergeTree()
    ORDER BY address_uuid
    """
ch.query_run(query_text)



query_text = """--sql
CREATE MATERIALIZED VIEW db1.t_citizen_id_in_flat_with_subscriptions_mv
REFRESH EVERY 1 DAY OFFSET 5 HOUR 27 MINUTE TO db1.t_citizen_id_in_flat_with_subscriptions AS 
SELECT
    report_date,
    address_uuid,
    COUNT(DISTINCT citizen_id) as citizen_id_in_flat_with_subscriptions
FROM db1.t_full_citizen_id_in_flat_with_subscriptions
WHERE address_uuid !=''
GROUP BY report_date,
        address_uuid
    """
ch.query_run(query_text)


query_text = """--sql
SELECT
    *
FROM db1.t_citizen_id_in_flat_with_subscriptions
ORDER BY report_date desc
LIMIT 10
    """
ch.query_run(query_text)


query_text = """
    DROP TABLE db1.t_citizen_id_in_flat_with_subscriptions_mv
    """
ch.query_run(query_text)


query_text = """
    DROP TABLE db1.t_citizen_id_in_flat_with_subscriptions
    """
ch.query_run(query_text)


query_text = """
    REFRASHE TABLE db1.t_citizen_id_in_flat_with_subscriptions_mv
    """
ch.query_run(query_text)

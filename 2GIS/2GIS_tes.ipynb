{
 "cells": [
  {
   "cell_type": "code",
   "execution_count": null,
   "id": "ee9b002d",
   "metadata": {},
   "outputs": [],
   "source": [
    "import requests\n",
    "from pprint import pprint\n",
    "\n",
    "API_KEY = \"14e53ef9-eb80-408e-ba53-cda6f6c5440d\"\n",
    "address = \"г. Москва, ул. Ленина, д. 10\"\n",
    "\n",
    "params = {\n",
    "    \"q\": address,\n",
    "    \"fields\": \",\".join([\n",
    "        \"items.structure_info.apartments_count\",\n",
    "        \"items.structure_info.porch_count\",\n",
    "        \"items.floors\"\n",
    "    ]),\n",
    "    \"key\": API_KEY\n",
    "}\n",
    "\n",
    "resp = requests.get(\"https://catalog.api.2gis.com/3.0/items\", params=params)\n",
    "resp.raise_for_status()\n",
    "data = resp.json()\n",
    "\n",
    "result = data.get(\"result\", {})\n",
    "item = data.get(\"result\", {}).get(\"items\", [])[0]\n",
    "info = item.get(\"structure_info\", {})\n",
    "floors = item.get(\"floors\")\n",
    "\n",
    "print(f\"Квартир: {info.get('apartments_count')}\")\n",
    "print(f\"Подъездов: {info.get('porch_count')}\")\n",
    "print(f\"Этажей: {floors}\")\n",
    "pprint(pprint)"
   ]
  },
  {
   "cell_type": "code",
   "execution_count": 20,
   "id": "2c62da7d",
   "metadata": {},
   "outputs": [
    {
     "name": "stdout",
     "output_type": "stream",
     "text": [
      "https://catalog.api.2gis.com/3.0/items?q=%D0%B3.+%D0%9C%D0%BE%D1%81%D0%BA%D0%B2%D0%B0%2C+%D1%83%D0%BB.+%D0%9B%D0%B5%D0%BD%D0%B8%D0%BD%D0%B0%2C+%D0%B4.+10&fields=items.floors&key=14e53ef9-eb80-408e-ba53-cda6f6c5440d\n"
     ]
    }
   ],
   "source": [
    "import requests\n",
    "from pprint import pprint\n",
    "\n",
    "API_KEY = \"14e53ef9-eb80-408e-ba53-cda6f6c5440d\"\n",
    "address = \"г. Москва, ул. Ленина, д. 10\"\n",
    "\n",
    "params = {\n",
    "    \"q\": address,\n",
    "    \"fields\": \",\".join([\n",
    "        \"items.floors\"\n",
    "    ]),\n",
    "    \"key\": API_KEY\n",
    "}\n",
    "\n",
    "resp = requests.get(\"https://catalog.api.2gis.com/3.0/items\", params=params)\n",
    "print(resp.url)\n"
   ]
  },
  {
   "cell_type": "code",
   "execution_count": 21,
   "id": "68bfd47c",
   "metadata": {},
   "outputs": [],
   "source": [
    "resp= requests.get('https://catalog.api.2gis.com/3.0/items?q=Москва Доватора, 9&fields=items.address,items.adm_div,items.floors,items.point,items.links,items.structure_info.apartments_count,items.structure_info.material,items.structure_info.porch_count&key=14e53ef9-eb80-408e-ba53-cda6f6c5440d')"
   ]
  },
  {
   "cell_type": "code",
   "execution_count": 26,
   "id": "d6d0ac32",
   "metadata": {},
   "outputs": [],
   "source": [
    "data = resp.raise_for_status()"
   ]
  },
  {
   "cell_type": "code",
   "execution_count": 27,
   "id": "72e0a382",
   "metadata": {},
   "outputs": [
    {
     "name": "stdout",
     "output_type": "stream",
     "text": [
      "None\n"
     ]
    }
   ],
   "source": [
    "pprint(data)"
   ]
  },
  {
   "cell_type": "code",
   "execution_count": null,
   "id": "2305be2c",
   "metadata": {},
   "outputs": [
    {
     "name": "stdout",
     "output_type": "stream",
     "text": [
      "{'meta': {'api_version': '3.0.18978', 'code': 200, 'issue_date': '20250716'}, 'result': {'items': [{'address': {'building_id': '4504235282737147', 'components': [{'number': '9', 'street': 'улица Доватора', 'street_id': '4504338361747226', 'type': 'street_number'}], 'postcode': '119048'}, 'address_name': 'улица Доватора, 9', 'adm_div': [{'id': '1', 'name': 'Россия', 'type': 'country'}, {'id': '5349042514588558', 'name': 'Москва', 'type': 'region'}, {'city_alias': 'moscow', 'flags': {'is_default': True, 'is_region_center': True}, 'id': '4504222397630173', 'is_default': True, 'name': 'Москва', 'type': 'city'}, {'id': '4504209512726533', 'name': 'Хамовники', 'type': 'district'}], 'full_name': 'Москва, улица Доватора, 9', 'id': '4504235282737147', 'links': {'branches': {'count': 2}, 'nearest_metro': [{'distance': 300, 'id': '4504385606388225'}, {'distance': 1200, 'id': '4504385606390687'}, {'distance': 1800, 'id': '4504385606388222'}], 'nearest_parking': [{'id': '70030076173082964'}, {'id': '70030076655767464'}, {'id': '70030077066145950'}, {'id': '70030076370215629'}, {'id': '70030076352452995'}, {'id': '70030076655767465'}, {'id': '70030076370215626'}, {'id': '4504656205968923'}, {'id': '70030076638781626'}, {'id': '70030076638782975'}, {'id': '4504656205969031'}, {'id': '70030076370215627'}, {'id': '70030076370215624'}, {'id': '70030076692569757'}, {'id': '4504656205968926'}, {'id': '70030076202106292'}, {'id': '4504656205969063'}, {'id': '4504656205968956'}, {'id': '70030076370215637'}, {'id': '4504656205969374'}, {'id': '70030076370215639'}, {'id': '70030076370215623'}, {'id': '4504656205968918'}, {'id': '70030076692569744'}, {'id': '70030076498519023'}, {'id': '70030076842033430'}, {'id': '4504656205969055'}, {'id': '4504656205969405'}, {'id': '4504656205969044'}, {'id': '70030076370215632'}, {'id': '70030076638790528'}, {'id': '70030076407482880'}, {'id': '70030076370215633'}, {'id': '4504656205968902'}, {'id': '70030076413803708'}, {'id': '70030076370215622'}, {'id': '70030076675915347'}, {'id': '4504656205969400'}, {'id': '70030076474552817'}], 'nearest_stations': [{'color': '#E90101', 'comment': 'Сокольническая линия', 'distance': 300, 'id': '4504385606388225', 'name': 'Спортивная', 'route_logo': 'metro_moscow_1', 'route_types': ['metro']}, {'color': '#E90101', 'comment': 'Московское центральное кольцо', 'distance': 600, 'id': '4504385655411405', 'name': 'Лужники', 'route_logo': 'metro_moscow_mcc', 'route_types': ['mcc']}, {'color': '#E90101', 'comment': 'Сокольническая линия', 'distance': 1200, 'id': '4504385606390687', 'name': 'Фрунзенская', 'route_logo': 'metro_moscow_1', 'route_types': ['metro']}], 'providers': {'count': 43}, 'servicing': {'count': 8, 'items': [{'additional_info': 'Жилищно-коммунальные услуги', 'contacts': [{'code': '70000001064834878', 'type': 'vkontakte', 'url': 'https://vk.com/gbuhamovniki', 'value': 'gbuhamovniki'}, {'code': '70000001008580897', 'text': '+7 (499) 242‒52‒04', 'type': 'phone', 'value': '+74992425204'}], 'id': '4504127916413422', 'name': 'Жилищник района Хамовники, ГБУ, ОДС', 'org_id': '4504136498601505'}, {'additional_info': 'Почта', 'id': '4504127908575747', 'name': 'Почта России, АО', 'org_id': '70000001083250784'}, {'additional_info': 'Взрослые поликлиники', 'id': '4504127908669071', 'name': 'Поликлиника №68, ГБУЗ Городская поликлиника №68', 'org_id': '4504136498438604'}]}}, 'name': 'улица Доватора, 9', 'point': {'lat': 55.72337, 'lon': 37.568347}, 'purpose_name': 'Жилой дом', 'type': 'building'}], 'total': 1}}\n"
     ]
    }
   ],
   "source": [
    "import requests\n",
    "from pprint import pprint\n",
    "\n",
    "url = 'https://catalog.api.2gis.com/3.0/items'\n",
    "params = {\n",
    "    'q': 'Москва Доватора, 9',\n",
    "    'fields': 'items.address,items.adm_div,items.floors,items.point,items.links,items.structure_info.apartments_count,items.structure_info.material,items.structure_info.porch_count',\n",
    "    'key': '14e53ef9-eb80-408e-ba53-cda6f6c5440d'\n",
    "}\n",
    "\n",
    "response = requests.get(url, params=params)\n",
    "pprint(response.json()['result']['items'])\n",
    "\n",
    "    print(f'Request failed with status code {response.status_code}')"
   ]
  },
  {
   "cell_type": "code",
   "execution_count": 37,
   "id": "addd7283",
   "metadata": {},
   "outputs": [
    {
     "name": "stdout",
     "output_type": "stream",
     "text": [
      "[{'address': {'building_id': '4504235282737147',\n",
      "              'components': [{'number': '9',\n",
      "                              'street': 'улица Доватора',\n",
      "                              'street_id': '4504338361747226',\n",
      "                              'type': 'street_number'}],\n",
      "              'postcode': '119048'},\n",
      "  'address_name': 'улица Доватора, 9',\n",
      "  'adm_div': [{'id': '1', 'name': 'Россия', 'type': 'country'},\n",
      "              {'id': '5349042514588558', 'name': 'Москва', 'type': 'region'},\n",
      "              {'city_alias': 'moscow',\n",
      "               'flags': {'is_default': True, 'is_region_center': True},\n",
      "               'id': '4504222397630173',\n",
      "               'is_default': True,\n",
      "               'name': 'Москва',\n",
      "               'type': 'city'},\n",
      "              {'id': '4504209512726533',\n",
      "               'name': 'Хамовники',\n",
      "               'type': 'district'}],\n",
      "  'full_name': 'Москва, улица Доватора, 9',\n",
      "  'id': '4504235282737147',\n",
      "  'links': {'branches': {'count': 2},\n",
      "            'nearest_metro': [{'distance': 300, 'id': '4504385606388225'},\n",
      "                              {'distance': 1200, 'id': '4504385606390687'},\n",
      "                              {'distance': 1800, 'id': '4504385606388222'}],\n",
      "            'nearest_parking': [{'id': '70030076173082964'},\n",
      "                                {'id': '70030076655767464'},\n",
      "                                {'id': '70030077066145950'},\n",
      "                                {'id': '70030076370215629'},\n",
      "                                {'id': '70030076352452995'},\n",
      "                                {'id': '70030076655767465'},\n",
      "                                {'id': '70030076370215626'},\n",
      "                                {'id': '4504656205968923'},\n",
      "                                {'id': '70030076638781626'},\n",
      "                                {'id': '70030076638782975'},\n",
      "                                {'id': '4504656205969031'},\n",
      "                                {'id': '70030076370215627'},\n",
      "                                {'id': '70030076370215624'},\n",
      "                                {'id': '70030076692569757'},\n",
      "                                {'id': '4504656205968926'},\n",
      "                                {'id': '70030076202106292'},\n",
      "                                {'id': '4504656205969063'},\n",
      "                                {'id': '4504656205968956'},\n",
      "                                {'id': '70030076370215637'},\n",
      "                                {'id': '4504656205969374'},\n",
      "                                {'id': '70030076370215639'},\n",
      "                                {'id': '70030076370215623'},\n",
      "                                {'id': '4504656205968918'},\n",
      "                                {'id': '70030076692569744'},\n",
      "                                {'id': '70030076498519023'},\n",
      "                                {'id': '70030076842033430'},\n",
      "                                {'id': '4504656205969055'},\n",
      "                                {'id': '4504656205969405'},\n",
      "                                {'id': '4504656205969044'},\n",
      "                                {'id': '70030076370215632'},\n",
      "                                {'id': '70030076638790528'},\n",
      "                                {'id': '70030076407482880'},\n",
      "                                {'id': '70030076370215633'},\n",
      "                                {'id': '4504656205968902'},\n",
      "                                {'id': '70030076413803708'},\n",
      "                                {'id': '70030076370215622'},\n",
      "                                {'id': '70030076675915347'},\n",
      "                                {'id': '4504656205969400'},\n",
      "                                {'id': '70030076474552817'}],\n",
      "            'nearest_stations': [{'color': '#E90101',\n",
      "                                  'comment': 'Сокольническая линия',\n",
      "                                  'distance': 300,\n",
      "                                  'id': '4504385606388225',\n",
      "                                  'name': 'Спортивная',\n",
      "                                  'route_logo': 'metro_moscow_1',\n",
      "                                  'route_types': ['metro']},\n",
      "                                 {'color': '#E90101',\n",
      "                                  'comment': 'Московское центральное кольцо',\n",
      "                                  'distance': 600,\n",
      "                                  'id': '4504385655411405',\n",
      "                                  'name': 'Лужники',\n",
      "                                  'route_logo': 'metro_moscow_mcc',\n",
      "                                  'route_types': ['mcc']},\n",
      "                                 {'color': '#E90101',\n",
      "                                  'comment': 'Сокольническая линия',\n",
      "                                  'distance': 1200,\n",
      "                                  'id': '4504385606390687',\n",
      "                                  'name': 'Фрунзенская',\n",
      "                                  'route_logo': 'metro_moscow_1',\n",
      "                                  'route_types': ['metro']}],\n",
      "            'providers': {'count': 43},\n",
      "            'servicing': {'count': 8,\n",
      "                          'items': [{'additional_info': 'Жилищно-коммунальные '\n",
      "                                                        'услуги',\n",
      "                                     'contacts': [{'code': '70000001064834878',\n",
      "                                                   'type': 'vkontakte',\n",
      "                                                   'url': 'https://vk.com/gbuhamovniki',\n",
      "                                                   'value': 'gbuhamovniki'},\n",
      "                                                  {'code': '70000001008580897',\n",
      "                                                   'text': '+7 (499) 242‒52‒04',\n",
      "                                                   'type': 'phone',\n",
      "                                                   'value': '+74992425204'}],\n",
      "                                     'id': '4504127916413422',\n",
      "                                     'name': 'Жилищник района Хамовники, ГБУ, '\n",
      "                                             'ОДС',\n",
      "                                     'org_id': '4504136498601505'},\n",
      "                                    {'additional_info': 'Почта',\n",
      "                                     'id': '4504127908575747',\n",
      "                                     'name': 'Почта России, АО',\n",
      "                                     'org_id': '70000001083250784'},\n",
      "                                    {'additional_info': 'Взрослые поликлиники',\n",
      "                                     'id': '4504127908669071',\n",
      "                                     'name': 'Поликлиника №68, ГБУЗ Городская '\n",
      "                                             'поликлиника №68',\n",
      "                                     'org_id': '4504136498438604'}]}},\n",
      "  'name': 'улица Доватора, 9',\n",
      "  'point': {'lat': 55.72337, 'lon': 37.568347},\n",
      "  'purpose_name': 'Жилой дом',\n",
      "  'type': 'building'}]\n"
     ]
    }
   ],
   "source": [
    "pprint(response.json()['result']['items'])"
   ]
  },
  {
   "cell_type": "code",
   "execution_count": null,
   "id": "394839ef",
   "metadata": {},
   "outputs": [
    {
     "ename": "AttributeError",
     "evalue": "'Response' object has no attribute 'get'",
     "output_type": "error",
     "traceback": [
      "\u001b[31m---------------------------------------------------------------------------\u001b[39m",
      "\u001b[31mAttributeError\u001b[39m                            Traceback (most recent call last)",
      "\u001b[36mCell\u001b[39m\u001b[36m \u001b[39m\u001b[32mIn[24]\u001b[39m\u001b[32m, line 1\u001b[39m\n\u001b[32m----> \u001b[39m\u001b[32m1\u001b[39m result = \u001b[43mresp\u001b[49m\u001b[43m.\u001b[49m\u001b[43mget\u001b[49m(\u001b[33m\"\u001b[39m\u001b[33mresult\u001b[39m\u001b[33m\"\u001b[39m, {})\n\u001b[32m      2\u001b[39m item = resp.get(\u001b[33m\"\u001b[39m\u001b[33mresult\u001b[39m\u001b[33m\"\u001b[39m, {}).get(\u001b[33m\"\u001b[39m\u001b[33mitems\u001b[39m\u001b[33m\"\u001b[39m, [])[\u001b[32m0\u001b[39m]\n\u001b[32m      3\u001b[39m info = resp.get(\u001b[33m\"\u001b[39m\u001b[33mstructure_info\u001b[39m\u001b[33m\"\u001b[39m, {})\n",
      "\u001b[31mAttributeError\u001b[39m: 'Response' object has no attribute 'get'"
     ]
    }
   ],
   "source": [
    "result = resp.get(\"result\", {})\n",
    "item = resp.get(\"result\", {}).get(\"items\", [])[0]\n",
    "info = resp.get(\"structure_info\", {})\n",
    "floors = resp.get(\"floors\")\n",
    "\n",
    "print(f\"Квартир: {info.get('apartments_count')}\")\n",
    "print(f\"Подъездов: {info.get('porch_count')}\")\n",
    "print(f\"Этажей: {floors}\")\n",
    "pprint(resp)"
   ]
  },
  {
   "cell_type": "code",
   "execution_count": 15,
   "id": "1f37c2e9",
   "metadata": {},
   "outputs": [
    {
     "name": "stdout",
     "output_type": "stream",
     "text": [
      "{'meta': {'api_version': '3.0.18978',\n",
      "          'code': 403,\n",
      "          'error': {'message': 'Method is not allowed for the key. Please, '\n",
      "                               'send an email at api@2gis.ru.',\n",
      "                    'type': 'routeForbidden'},\n",
      "          'issue_date': '20250716'}}\n"
     ]
    }
   ],
   "source": [
    "pprint(data)"
   ]
  }
 ],
 "metadata": {
  "kernelspec": {
   "display_name": "myenv",
   "language": "python",
   "name": "python3"
  },
  "language_info": {
   "codemirror_mode": {
    "name": "ipython",
    "version": 3
   },
   "file_extension": ".py",
   "mimetype": "text/x-python",
   "name": "python",
   "nbconvert_exporter": "python",
   "pygments_lexer": "ipython3",
   "version": "3.12.11"
  }
 },
 "nbformat": 4,
 "nbformat_minor": 5
}

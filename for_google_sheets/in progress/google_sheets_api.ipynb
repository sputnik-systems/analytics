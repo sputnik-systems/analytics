{
 "cells": [
  {
   "cell_type": "code",
   "execution_count": 2,
   "metadata": {},
   "outputs": [],
   "source": [
    "import requests\n",
    "\n",
    "import pandas as pd\n",
    "import io\n",
    "import os\n",
    "import boto3\n",
    "import gdown"
   ]
  },
  {
   "cell_type": "markdown",
   "metadata": {},
   "source": [
    "Пример быстрого кода на основе ссылки на csv из быстрого доступа"
   ]
  },
  {
   "cell_type": "code",
   "execution_count": 3,
   "metadata": {},
   "outputs": [
    {
     "ename": "NameError",
     "evalue": "name 'ACCESS_KEY' is not defined",
     "output_type": "error",
     "traceback": [
      "\u001b[1;31m---------------------------------------------------------------------------\u001b[0m",
      "\u001b[1;31mNameError\u001b[0m                                 Traceback (most recent call last)",
      "Cell \u001b[1;32mIn[3], line 30\u001b[0m\n\u001b[0;32m     27\u001b[0m \u001b[38;5;28;01mdef\u001b[39;00m \u001b[38;5;21mremove_temp_files\u001b[39m(): \u001b[38;5;66;03m#функция удаляет временный файл\u001b[39;00m\n\u001b[0;32m     28\u001b[0m     os\u001b[38;5;241m.\u001b[39mremove(TEMP_FILENAME)\n\u001b[1;32m---> 30\u001b[0m \u001b[43mget_s3_instance\u001b[49m\u001b[43m(\u001b[49m\u001b[43m)\u001b[49m\n\u001b[0;32m     31\u001b[0m upload_dump_to_s3()\n\u001b[0;32m     32\u001b[0m remove_temp_files()\n",
      "Cell \u001b[1;32mIn[3], line 14\u001b[0m, in \u001b[0;36mget_s3_instance\u001b[1;34m()\u001b[0m\n\u001b[0;32m     11\u001b[0m \u001b[38;5;28;01mdef\u001b[39;00m \u001b[38;5;21mget_s3_instance\u001b[39m(): \u001b[38;5;66;03m# функция создает соединение\u001b[39;00m\n\u001b[0;32m     12\u001b[0m     session \u001b[38;5;241m=\u001b[39m boto3\u001b[38;5;241m.\u001b[39msession\u001b[38;5;241m.\u001b[39mSession()\n\u001b[0;32m     13\u001b[0m     \u001b[38;5;28;01mreturn\u001b[39;00m session\u001b[38;5;241m.\u001b[39mclient(\n\u001b[1;32m---> 14\u001b[0m         aws_access_key_id\u001b[38;5;241m=\u001b[39m\u001b[43mACCESS_KEY\u001b[49m,\n\u001b[0;32m     15\u001b[0m         aws_secret_access_key\u001b[38;5;241m=\u001b[39mSECRET_KEY,\n\u001b[0;32m     16\u001b[0m         service_name\u001b[38;5;241m=\u001b[39m\u001b[38;5;124m'\u001b[39m\u001b[38;5;124ms3\u001b[39m\u001b[38;5;124m'\u001b[39m,\n\u001b[0;32m     17\u001b[0m         endpoint_url\u001b[38;5;241m=\u001b[39m\u001b[38;5;124m'\u001b[39m\u001b[38;5;124mhttps://storage.yandexcloud.net\u001b[39m\u001b[38;5;124m'\u001b[39m\n\u001b[0;32m     18\u001b[0m     )\n",
      "\u001b[1;31mNameError\u001b[0m: name 'ACCESS_KEY' is not defined"
     ]
    }
   ],
   "source": [
    "TEMP_FILENAME = 'form1.csv'\n",
    "\n",
    "url = 'https://docs.google.com/spreadsheets/d/14yNskgfCa_JUs2IzDm--3wkGYywEYw6TbAaCrynB0-U/gviz/tq?tqx=out:csv&sheet=form1'\n",
    "temp_file = TEMP_FILENAME\n",
    "\n",
    "response = requests.get(url)\n",
    "data = response.content\n",
    "with open(temp_file, 'wb') as file:\n",
    "    file.write(data)\n",
    "    \n",
    "def get_s3_instance(): # функция создает соединение\n",
    "    session = boto3.session.Session()\n",
    "    return session.client(\n",
    "        aws_access_key_id=ACCESS_KEY,\n",
    "        aws_secret_access_key=SECRET_KEY,\n",
    "        service_name='s3',\n",
    "        endpoint_url='https://storage.yandexcloud.net'\n",
    "    )\n",
    "\n",
    "def upload_dump_to_s3(): # функция выгружает данные в s3\n",
    "    get_s3_instance().upload_file(\n",
    "        Filename=TEMP_FILENAME,\n",
    "        Bucket=BUCKET_NAME,\n",
    "        Key=f\"support_requests_data/support_requests_data.csv\"\n",
    "    )\n",
    "\n",
    "def remove_temp_files(): #функция удаляет временный файл\n",
    "    os.remove(TEMP_FILENAME)\n",
    "\n",
    "get_s3_instance()\n",
    "upload_dump_to_s3()\n",
    "remove_temp_files()"
   ]
  },
  {
   "cell_type": "code",
   "execution_count": 58,
   "metadata": {},
   "outputs": [],
   "source": [
    "df = pd.read_csv('https://docs.google.com/spreadsheets/d/1X51kxgYXDzg49skRTqBKUkngARmkNei92TjX2afc5Qw/export?format=csv')\n",
    "df['Серийный номер'] = df['Серийный номер'].astype(str)\n",
    "df['Серийный номер'] = df['Серийный номер'].apply(lambda x: x.split(sep=','))\n",
    "\n",
    "\n",
    "df2 = df.explode('Серийный номер')\n",
    "df2 = df2.reset_index().drop('index', axis=1)\n",
    "df2['Отметка времени'] = pd.to_datetime(df2['Отметка времени'],dayfirst=True)\n",
    "df2['counter'] = df2.groupby('Отметка времени').cumcount()\n",
    "df2['Отметка времени'] = df2['Отметка времени'] + pd.to_timedelta(df2['counter'], unit='s')"
   ]
  },
  {
   "cell_type": "code",
   "execution_count": 62,
   "metadata": {},
   "outputs": [],
   "source": [
    "df2.to_csv('123.csv')"
   ]
  },
  {
   "cell_type": "code",
   "execution_count": null,
   "metadata": {},
   "outputs": [],
   "source": [
    "    FOLDER_ID = os.getenv(\"FOLDER_ID\") # id каталога из которого береться запрос\n",
    "    FOLDER = os.getenv(\"FOLDER\") #имя папки в которую будет выкладываться\n",
    "    ACCESS_KEY = os.getenv(\"ACCESS_KEY\") #aws_access_key_id для S3\n",
    "    SECRET_KEY = os.getenv(\"SECRET_KEY\") #aws_secret_access_key в s3\n",
    "    BUCKET_NAME = os.getenv(\"BUCKET_NAME\") #имя бакета\n",
    "    TIME_ZONE = os.getenv(\"TIME_ZONE\", \"Europe/Moscow\") #настройка функции\n",
    "    TEMP_FILENAME = \"/tmp/temp_file\"\n",
    "    URL_ALERT = os.getenv(\"URL_ALERT\")\n",
    "\n",
    "    url = 'https://docs.google.com/spreadsheets/d/1X51kxgYXDzg49skRTqBKUkngARmkNei92TjX2afc5Qw/gviz/tq?tqx=out:csv&sheet=form1'\n",
    "    \n",
    "    response = requests.get(url)\n",
    "    data = response.content\n",
    "    with open(TEMP_FILENAME, 'wb') as file:\n",
    "        file.write(data)\n",
    "        \n",
    "    def get_s3_instance(): # функция создает соединение\n",
    "        session = boto3.session.Session()\n",
    "        return session.client(\n",
    "            aws_access_key_id=ACCESS_KEY,\n",
    "            aws_secret_access_key=SECRET_KEY,\n",
    "            service_name='s3',\n",
    "            endpoint_url='https://storage.yandexcloud.net'\n",
    "        )\n",
    "\n",
    "    def upload_dump_to_s3(): # функция выгружает данные в s3\n",
    "        get_s3_instance().upload_file(\n",
    "            Filename=TEMP_FILENAME,\n",
    "            Bucket=BUCKET_NAME,\n",
    "            Key=f\"{FOLDER}/support_requests_data.csv\"\n",
    "        )\n",
    "\n",
    "    def remove_temp_files(): #функция удаляет временный файл\n",
    "        os.remove(TEMP_FILENAME)\n",
    "\n",
    "    get_s3_instance()\n",
    "    upload_dump_to_s3()\n",
    "    remove_temp_files()\n",
    "\n",
    "    requests.get(os.getenv(\"URL_ALERT\"))\n",
    "\n",
    "    return {\n",
    "        'statusCode': 200,\n",
    "        'body': 'Hello World!',"
   ]
  },
  {
   "cell_type": "markdown",
   "metadata": {},
   "source": [
    "Ниже код для работы с api. Треюбует доработки"
   ]
  },
  {
   "cell_type": "code",
   "execution_count": 5,
   "metadata": {},
   "outputs": [
    {
     "name": "stdout",
     "output_type": "stream",
     "text": [
      "User, Comment, Sentiment:\n",
      "a, n, None\n"
     ]
    },
    {
     "ename": "TypeError",
     "evalue": "unsupported operand type(s) for +: 'int' and 'NoneType'",
     "output_type": "error",
     "traceback": [
      "\u001b[1;31m---------------------------------------------------------------------------\u001b[0m",
      "\u001b[1;31mTypeError\u001b[0m                                 Traceback (most recent call last)",
      "Input \u001b[1;32mIn [5]\u001b[0m, in \u001b[0;36m<cell line: 21>\u001b[1;34m()\u001b[0m\n\u001b[0;32m     35\u001b[0m     sentiment_score \u001b[38;5;241m=\u001b[39m analyze_sentiment(row[\u001b[38;5;241m1\u001b[39m])\n\u001b[0;32m     36\u001b[0m     \u001b[38;5;28mprint\u001b[39m(\u001b[38;5;124mf\u001b[39m\u001b[38;5;124m'\u001b[39m\u001b[38;5;132;01m{\u001b[39;00mrow[\u001b[38;5;241m0\u001b[39m]\u001b[38;5;132;01m}\u001b[39;00m\u001b[38;5;124m, \u001b[39m\u001b[38;5;132;01m{\u001b[39;00mrow[\u001b[38;5;241m1\u001b[39m]\u001b[38;5;132;01m}\u001b[39;00m\u001b[38;5;124m, \u001b[39m\u001b[38;5;132;01m{\u001b[39;00msentiment_score\u001b[38;5;132;01m}\u001b[39;00m\u001b[38;5;124m'\u001b[39m)\n\u001b[1;32m---> 37\u001b[0m     sentiment_sum \u001b[38;5;241m=\u001b[39m \u001b[43msentiment_sum\u001b[49m\u001b[43m \u001b[49m\u001b[38;5;241;43m+\u001b[39;49m\u001b[43m \u001b[49m\u001b[43msentiment_score\u001b[49m\n\u001b[0;32m     38\u001b[0m     sentiment_count \u001b[38;5;241m=\u001b[39m sentiment_count \u001b[38;5;241m+\u001b[39m \u001b[38;5;241m1\u001b[39m\n\u001b[0;32m     39\u001b[0m sentiment_average \u001b[38;5;241m=\u001b[39m sentiment_sum \u001b[38;5;241m/\u001b[39m sentiment_count\n",
      "\u001b[1;31mTypeError\u001b[0m: unsupported operand type(s) for +: 'int' and 'NoneType'"
     ]
    }
   ],
   "source": [
    "\n",
    "def authenticate_sheets(api_key):\n",
    "    return build('sheets', 'v4', developerKey=api_key).spreadsheets()\n",
    "\n",
    "def sheet_request()\n",
    "    endpoint_url = \"https://language.googleapis.com/v1/documents:analyzeSentiment?key=\" + API_KEY\n",
    "    response = requests.get(\n",
    "        api_html_metrica,\n",
    "        headers = headers\n",
    "        )\n",
    "\n",
    "def analyze_sentiment(text):\n",
    "    endpoint_url = \"https://language.googleapis.com/v1/documents:analyzeSentiment?key=\" + API_KEY\n",
    "\n",
    "    document = {\"content\": text, \"type\": language.Document.Type.PLAIN_TEXT}\n",
    "    request_data = {\"document\": document}\n",
    "\n",
    "    response = requests.post(endpoint_url, json=request_data)\n",
    "    response_json = response.json()\n",
    "\n",
    "    sentiment = response_json.get(\"documentSentiment\", {}).get(\"score\", None)\n",
    "    return sentiment\n",
    "\n",
    "\n",
    "if __name__ == '__main__':\n",
    "\n",
    "    # TO DO - Retrieve Google Sheets data\n",
    "\n",
    "    values = ['analyze_sentiment']\n",
    "\n",
    "    sentiment_count = 0\n",
    "    sentiment_sum = 0\n",
    "\n",
    "    if not values:\n",
    "        print('No data found.')\n",
    "    else:\n",
    "        print('User, Comment, Sentiment:')\n",
    "        for row in values:\n",
    "            sentiment_score = analyze_sentiment(row[1])\n",
    "            print(f'{row[0]}, {row[1]}, {sentiment_score}')\n",
    "            sentiment_sum = sentiment_sum + sentiment_score\n",
    "            sentiment_count = sentiment_count + 1\n",
    "        sentiment_average = sentiment_sum / sentiment_count\n",
    "        print(f'Average: {sentiment_average}')"
   ]
  }
 ],
 "metadata": {
  "kernelspec": {
   "display_name": "Python 3",
   "language": "python",
   "name": "python3"
  },
  "language_info": {
   "codemirror_mode": {
    "name": "ipython",
    "version": 3
   },
   "file_extension": ".py",
   "mimetype": "text/x-python",
   "name": "python",
   "nbconvert_exporter": "python",
   "pygments_lexer": "ipython3",
   "version": "3.12.3"
  }
 },
 "nbformat": 4,
 "nbformat_minor": 2
}

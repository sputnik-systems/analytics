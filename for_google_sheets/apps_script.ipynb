{
 "cells": [
  {
   "cell_type": "markdown",
   "metadata": {},
   "source": [
    "Функция для переноса формул влево и замены. Служит для того, чтобы записывать изменяемые значения по отрезку времени внутри документа. Переносит все формулы и заменяет в исходном столбце формулы на значения."
   ]
  },
  {
   "cell_type": "code",
   "execution_count": null,
   "metadata": {
    "vscode": {
     "languageId": "javascript"
    }
   },
   "outputs": [],
   "source": [
    "var currentColumn = 3;\n",
    "\n",
    "function shiftFormulas() { \n",
    "\n",
    "  var scriptProperties = PropertiesService.getScriptProperties();\n",
    "  var currentColumn = scriptProperties.getProperty('currentColumn');\n",
    "  \n",
    "  // Если currentColumn еще не установлен, установите его в 1\n",
    "  if (currentColumn == null) {\n",
    "    currentColumn = 3;\n",
    "  } else {\n",
    "    currentColumn = parseInt(currentColumn);\n",
    "  }\n",
    "\n",
    "  // Определите лист, на котором нужно выполнить сдвиг \n",
    "\n",
    "  var sheet = SpreadsheetApp.getActiveSpreadsheet().getSheetByName('Общая статистика по неделям'); \n",
    "\n",
    "  // Получите диапазон данных в столбце B \n",
    "\n",
    "  var formulas = sheet.getRange(1,currentColumn,sheet.getLastRow()).getFormulas();\n",
    "  var values =  sheet.getRange(1,currentColumn,sheet.getLastRow()).getValues()\n",
    "\n",
    "  // Сдвиг формул вправо\n",
    "\n",
    "  sheet.getRange(1,currentColumn+1,sheet.getLastRow()).setFormulas(formulas);\n",
    "  sheet.getRange(1,currentColumn,sheet.getLastRow()).setValues(values);\n",
    "\n",
    "    // Увеличьте currentColumn, чтобы следующий сдвиг был в следующем столбце\n",
    "  currentColumn++;\n",
    "  \n",
    "  // Сохраните currentColumn в свойствах скрипта\n",
    "  scriptProperties.setProperty('currentColumn', currentColumn.toString());\n",
    "\n",
    "} \n",
    "\n",
    "// Создайте триггер, который запускает эту функцию каждую неделю \n",
    "\n",
    "// Создайте триггер, который запускает эту функцию каждую неделю \n",
    "\n",
    "\n"
   ]
  },
  {
   "cell_type": "markdown",
   "metadata": {},
   "source": [
    "Функция, создающая тригер, сробатывающий каждый понедельник"
   ]
  },
  {
   "cell_type": "code",
   "execution_count": null,
   "metadata": {
    "vscode": {
     "languageId": "javascript"
    }
   },
   "outputs": [],
   "source": [
    "function createTrigger() { \n",
    "\n",
    "    ScriptApp.newTrigger('shiftFormulas') \n",
    "  \n",
    "      .timeBased() \n",
    "      .onWeekDay(ScriptApp.WeekDay.MONDAY)\n",
    "      .everyWeeks(1) \n",
    "  \n",
    "      .create(); \n",
    "  \n",
    "  }"
   ]
  },
  {
   "cell_type": "markdown",
   "metadata": {},
   "source": [
    "Фунеция, обновляющая значение currentColumn в внутренней памяти apps script"
   ]
  },
  {
   "cell_type": "code",
   "execution_count": null,
   "metadata": {
    "vscode": {
     "languageId": "javascript"
    }
   },
   "outputs": [],
   "source": [
    "function resetCurrentColumn() {\n",
    "    var scriptProperties = PropertiesService.getScriptProperties();\n",
    "    \n",
    "    // Установите currentColumn обратно в 1\n",
    "    scriptProperties.setProperty('currentColumn', '3');\n",
    "  }"
   ]
  },
  {
   "cell_type": "markdown",
   "metadata": {},
   "source": [
    "Функция для копирования значений а соседнюю колонку"
   ]
  },
  {
   "cell_type": "code",
   "execution_count": null,
   "metadata": {
    "vscode": {
     "languageId": "javascript"
    }
   },
   "outputs": [],
   "source": [
    "var currentColumn2 = 18;\n",
    "\n",
    "function shiftFormulas() { \n",
    "  var scriptProperties = PropertiesService.getScriptProperties();\n",
    "  var currentColumn2 = scriptProperties.getProperty('currentColumn2');\n",
    "  \n",
    "  // Если currentColumn2 еще не установлен, установите его в 1\n",
    "  if (currentColumn2 == null) {\n",
    "    currentColumn2 = 18;\n",
    "  } else {\n",
    "    currentColumn2 = parseInt(currentColumn2);\n",
    "  }\n",
    "\n",
    "  // Определите лист, на котором нужно выполнить сдвиг \n",
    "  var sheet = SpreadsheetApp.getActiveSpreadsheet().getSheetByName('План работ - Статистика'); \n",
    "\n",
    "  // Получите диапазон данных в текущем столбце \n",
    "  var range = sheet.getRange(1, currentColumn2, sheet.getLastRow());\n",
    "\n",
    "  // Скопируйте формулы в следующий столбец\n",
    "  range.copyTo(sheet.getRange(1, currentColumn2 + 1, sheet.getLastRow()), {contentsOnly: false});\n",
    "\n",
    "  // Увеличьте currentColumn2, чтобы следующий сдвиг был в следующем столбце\n",
    "  currentColumn2++;\n",
    "  \n",
    "  // Сохраните currentColumn2 в свойствах скрипта\n",
    "  scriptProperties.setProperty('currentColumn2', currentColumn2.toString());\n",
    "}"
   ]
  }
 ],
 "metadata": {
  "language_info": {
   "name": "python"
  }
 },
 "nbformat": 4,
 "nbformat_minor": 2
}

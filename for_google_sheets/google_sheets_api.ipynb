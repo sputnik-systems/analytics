{
 "cells": [
  {
   "cell_type": "code",
   "execution_count": 27,
   "metadata": {},
   "outputs": [],
   "source": [
    "import requests\n",
    "from googleapiclient.discovery import build\n",
    "from google.cloud import language\n",
    "\n",
    "import pandas as pd\n",
    "import io\n",
    "import os\n",
    "import boto3"
   ]
  },
  {
   "cell_type": "markdown",
   "metadata": {},
   "source": [
    "Пример быстрого кода на основе ссылки на csv из быстрого доступа"
   ]
  },
  {
   "cell_type": "code",
   "execution_count": 31,
   "metadata": {},
   "outputs": [],
   "source": [
    "TEMP_FILENAME = 'form1.csv'\n",
    "\n",
    "url = 'https://docs.google.com/spreadsheets/d/14yNskgfCa_JUs2IzDm--3wkGYywEYw6TbAaCrynB0-U/gviz/tq?tqx=out:csv&sheet=form1'\n",
    "temp_file = TEMP_FILENAME\n",
    "\n",
    "response = requests.get(url)\n",
    "data = response.content\n",
    "with open(temp_file, 'wb') as file:\n",
    "    file.write(data)\n",
    "    \n",
    "def get_s3_instance(): # функция создает соединение\n",
    "    session = boto3.session.Session()\n",
    "    return session.client(\n",
    "        aws_access_key_id=ACCESS_KEY,\n",
    "        aws_secret_access_key=SECRET_KEY,\n",
    "        service_name='s3',\n",
    "        endpoint_url='https://storage.yandexcloud.net'\n",
    "    )\n",
    "\n",
    "def upload_dump_to_s3(): # функция выгружает данные в s3\n",
    "    get_s3_instance().upload_file(\n",
    "        Filename=TEMP_FILENAME,\n",
    "        Bucket=BUCKET_NAME,\n",
    "        Key=f\"support_requests_data/support_requests_data.csv\"\n",
    "    )\n",
    "\n",
    "def remove_temp_files(): #функция удаляет временный файл\n",
    "    os.remove(TEMP_FILENAME)\n",
    "\n",
    "get_s3_instance()\n",
    "upload_dump_to_s3()\n",
    "remove_temp_files()"
   ]
  },
  {
   "cell_type": "markdown",
   "metadata": {},
   "source": [
    "Ниже код для работы с api. Треюбует доработки"
   ]
  },
  {
   "cell_type": "code",
   "execution_count": 5,
   "metadata": {},
   "outputs": [
    {
     "name": "stdout",
     "output_type": "stream",
     "text": [
      "User, Comment, Sentiment:\n",
      "a, n, None\n"
     ]
    },
    {
     "ename": "TypeError",
     "evalue": "unsupported operand type(s) for +: 'int' and 'NoneType'",
     "output_type": "error",
     "traceback": [
      "\u001b[1;31m---------------------------------------------------------------------------\u001b[0m",
      "\u001b[1;31mTypeError\u001b[0m                                 Traceback (most recent call last)",
      "Input \u001b[1;32mIn [5]\u001b[0m, in \u001b[0;36m<cell line: 21>\u001b[1;34m()\u001b[0m\n\u001b[0;32m     35\u001b[0m     sentiment_score \u001b[38;5;241m=\u001b[39m analyze_sentiment(row[\u001b[38;5;241m1\u001b[39m])\n\u001b[0;32m     36\u001b[0m     \u001b[38;5;28mprint\u001b[39m(\u001b[38;5;124mf\u001b[39m\u001b[38;5;124m'\u001b[39m\u001b[38;5;132;01m{\u001b[39;00mrow[\u001b[38;5;241m0\u001b[39m]\u001b[38;5;132;01m}\u001b[39;00m\u001b[38;5;124m, \u001b[39m\u001b[38;5;132;01m{\u001b[39;00mrow[\u001b[38;5;241m1\u001b[39m]\u001b[38;5;132;01m}\u001b[39;00m\u001b[38;5;124m, \u001b[39m\u001b[38;5;132;01m{\u001b[39;00msentiment_score\u001b[38;5;132;01m}\u001b[39;00m\u001b[38;5;124m'\u001b[39m)\n\u001b[1;32m---> 37\u001b[0m     sentiment_sum \u001b[38;5;241m=\u001b[39m \u001b[43msentiment_sum\u001b[49m\u001b[43m \u001b[49m\u001b[38;5;241;43m+\u001b[39;49m\u001b[43m \u001b[49m\u001b[43msentiment_score\u001b[49m\n\u001b[0;32m     38\u001b[0m     sentiment_count \u001b[38;5;241m=\u001b[39m sentiment_count \u001b[38;5;241m+\u001b[39m \u001b[38;5;241m1\u001b[39m\n\u001b[0;32m     39\u001b[0m sentiment_average \u001b[38;5;241m=\u001b[39m sentiment_sum \u001b[38;5;241m/\u001b[39m sentiment_count\n",
      "\u001b[1;31mTypeError\u001b[0m: unsupported operand type(s) for +: 'int' and 'NoneType'"
     ]
    }
   ],
   "source": [
    "\n",
    "def authenticate_sheets(api_key):\n",
    "    return build('sheets', 'v4', developerKey=api_key).spreadsheets()\n",
    "\n",
    "def sheet_request()\n",
    "    endpoint_url = \"https://language.googleapis.com/v1/documents:analyzeSentiment?key=\" + API_KEY\n",
    "    response = requests.get(\n",
    "        api_html_metrica,\n",
    "        headers = headers\n",
    "        )\n",
    "\n",
    "def analyze_sentiment(text):\n",
    "    endpoint_url = \"https://language.googleapis.com/v1/documents:analyzeSentiment?key=\" + API_KEY\n",
    "\n",
    "    document = {\"content\": text, \"type\": language.Document.Type.PLAIN_TEXT}\n",
    "    request_data = {\"document\": document}\n",
    "\n",
    "    response = requests.post(endpoint_url, json=request_data)\n",
    "    response_json = response.json()\n",
    "\n",
    "    sentiment = response_json.get(\"documentSentiment\", {}).get(\"score\", None)\n",
    "    return sentiment\n",
    "\n",
    "\n",
    "if __name__ == '__main__':\n",
    "\n",
    "    # TO DO - Retrieve Google Sheets data\n",
    "\n",
    "    values = ['analyze_sentiment']\n",
    "\n",
    "    sentiment_count = 0\n",
    "    sentiment_sum = 0\n",
    "\n",
    "    if not values:\n",
    "        print('No data found.')\n",
    "    else:\n",
    "        print('User, Comment, Sentiment:')\n",
    "        for row in values:\n",
    "            sentiment_score = analyze_sentiment(row[1])\n",
    "            print(f'{row[0]}, {row[1]}, {sentiment_score}')\n",
    "            sentiment_sum = sentiment_sum + sentiment_score\n",
    "            sentiment_count = sentiment_count + 1\n",
    "        sentiment_average = sentiment_sum / sentiment_count\n",
    "        print(f'Average: {sentiment_average}')"
   ]
  }
 ],
 "metadata": {
  "kernelspec": {
   "display_name": "Python 3",
   "language": "python",
   "name": "python3"
  },
  "language_info": {
   "codemirror_mode": {
    "name": "ipython",
    "version": 3
   },
   "file_extension": ".py",
   "mimetype": "text/x-python",
   "name": "python",
   "nbconvert_exporter": "python",
   "pygments_lexer": "ipython3",
   "version": "3.9.13"
  }
 },
 "nbformat": 4,
 "nbformat_minor": 2
}

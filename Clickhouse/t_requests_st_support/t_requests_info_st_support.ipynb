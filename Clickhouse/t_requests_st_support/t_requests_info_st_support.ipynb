{
 "cells": [
  {
   "cell_type": "markdown",
   "id": "4780752b",
   "metadata": {},
   "source": [
    "## Start"
   ]
  },
  {
   "cell_type": "code",
   "execution_count": 1,
   "id": "873b2a43",
   "metadata": {},
   "outputs": [],
   "source": [
    "import clickhouse_connect\n",
    "import datetime\n",
    "import os\n",
    "import pytz\n",
    "import pandas as pd\n",
    "from dateutil.relativedelta import relativedelta\n",
    "from dotenv import load_dotenv\n",
    "\n",
    "import sys\n",
    "sys.path.append('/home/boris/Documents/Work/analytics/Clickhouse')\n",
    "from clickhouse_client import ClickHouse_client\n",
    "ch = ClickHouse_client()\n",
    "pd.set_option('display.max_rows', 1000)\n",
    "\n"
   ]
  },
  {
   "cell_type": "markdown",
   "id": "e2aaab6f",
   "metadata": {},
   "source": [
    "___\n",
    "### Tags: #Tables\n",
    "\n",
    "### Links: \n",
    "\n",
    "[[requests_st_support]]\n",
    "\n",
    "[[intercoms_dir_asgard]]\n",
    "\n",
    "[[intercoms_st_partner]]\n",
    "\n",
    "[[companies_dir_partner]]\n",
    "\n",
    "[[categories_st_support]]\n",
    "___"
   ]
  },
  {
   "cell_type": "code",
   "execution_count": 2,
   "id": "9e59a65a",
   "metadata": {},
   "outputs": [
    {
     "data": {
      "text/html": [
       "<div><style>\n",
       ".dataframe > thead > tr,\n",
       ".dataframe > tbody > tr {\n",
       "  text-align: right;\n",
       "  white-space: pre-wrap;\n",
       "}\n",
       "</style>\n",
       "<small>shape: (0, 0)</small><table border=\"1\" class=\"dataframe\"><thead><tr></tr><tr></tr></thead><tbody></tbody></table></div>"
      ],
      "text/plain": [
       "shape: (0, 0)\n",
       "┌┐\n",
       "╞╡\n",
       "└┘"
      ]
     },
     "execution_count": 2,
     "metadata": {},
     "output_type": "execute_result"
    }
   ],
   "source": [
    "query_text = \"\"\"--sql\n",
    "CREATE TABLE db1.t_requests_info_st_support\n",
    "    (\n",
    "        `report_date` Date,\n",
    "        `ticket_id` Int32,\n",
    "        `intercom_id` String,\n",
    "        `intercom_uuid` String,\n",
    "        `camera_id` String,\n",
    "        `server_stream_url` String,\n",
    "        `detailed_category` String,\n",
    "        `category` String,\n",
    "        `subcategory` String,\n",
    "        `maincategory` String,  \n",
    "        `version_os` String,\n",
    "        `version_app` String,\n",
    "        `partner_uuid` String,\n",
    "        `company_name` String,\n",
    "        `partner_lk` String,\n",
    "        `com_d_par.company_name` String,\n",
    "        `device_type` String\n",
    "    )\n",
    "    ENGINE = MergeTree()\n",
    "    ORDER BY report_date\n",
    "\"\"\"\n",
    "\n",
    "ch.query_run(query_text)"
   ]
  },
  {
   "cell_type": "code",
   "execution_count": 4,
   "id": "3eeb0595",
   "metadata": {},
   "outputs": [
    {
     "data": {
      "text/html": [
       "<div><style>\n",
       ".dataframe > thead > tr,\n",
       ".dataframe > tbody > tr {\n",
       "  text-align: right;\n",
       "  white-space: pre-wrap;\n",
       "}\n",
       "</style>\n",
       "<small>shape: (0, 0)</small><table border=\"1\" class=\"dataframe\"><thead><tr></tr><tr></tr></thead><tbody></tbody></table></div>"
      ],
      "text/plain": [
       "shape: (0, 0)\n",
       "┌┐\n",
       "╞╡\n",
       "└┘"
      ]
     },
     "execution_count": 4,
     "metadata": {},
     "output_type": "execute_result"
    }
   ],
   "source": [
    "query_text = \"\"\"--sql\n",
    "    CREATE MATERIALIZED VIEW db1.t_requests_info_st_support_mv\n",
    "    REFRESH EVERY 1 DAY OFFSET 5 HOUR 35 MINUTE TO db1.t_requests_info_st_support AS\n",
    "WITH t1 AS(\n",
    "SELECT \n",
    "    req_s_sup.`report_date` AS report_date, \n",
    "    `ticket_id`, \n",
    "    `intercom_id`, \n",
    "    int_d_as.`intercom_uuid` AS intercom_uuid,\n",
    "    `camera_id`,\n",
    "    `server_stream_url`, \n",
    "    replaceAll(trim(arrayJoin(splitByChar(',',`category`))),'.','') AS `category`, \n",
    "    `version_os`, \n",
    "    `version_app`,\n",
    "    int_s_par.`partner_uuid` AS partner_uuid,\n",
    "    `company_name`,\n",
    "    `partner_lk`,\n",
    "    `device_type`\n",
    "FROM `db1`.`requests_st_support_ch` AS req_s_sup\n",
    "LEFT JOIN db1.intercoms_dir_asgard_ch AS int_d_as ON int_d_as.motherboard_id = req_s_sup.intercom_id\n",
    "LEFT JOIN db1.intercoms_st_partner_ch AS int_s_par \n",
    "    ON  int_s_par.intercom_uuid = int_d_as.`intercom_uuid`\n",
    "    AND int_s_par.report_date = req_s_sup.`report_date`\n",
    "LEFT JOIN db1.companies_dir_partner_ch AS com_d_par\n",
    "    ON int_s_par.partner_uuid = com_d_par.partner_uuid\n",
    "   \t),\n",
    "--\n",
    "t2 AS (\n",
    "SELECT\n",
    "\treport_date,\n",
    "\tticket_id,\n",
    "\tintercom_id,\n",
    "\tintercom_uuid,\n",
    "\tcamera_id,\n",
    "    server_stream_url,\n",
    "    category,\n",
    "    if(length(splitByChar(':',category)) = 2, trim(splitByChar(':',category)[2]),trim(splitByChar(':',category)[1])) AS `detailed_category`,\n",
    "    version_os, \n",
    "    version_app,\n",
    "    partner_uuid,\n",
    "    company_name,\n",
    "    partner_lk,\n",
    "    device_type\n",
    "FROM t1\n",
    ")\n",
    "--\n",
    "SELECT\n",
    "\tt2.report_date AS report_date,\n",
    "\tticket_id,\n",
    "\tintercom_id,\n",
    "\tintercom_uuid,\n",
    "\tcamera_id,\n",
    "    server_stream_url,\n",
    "    category,\n",
    "    `detailed_category`,\n",
    "    if(splitByChar('|',Category)[2] = '','Main',splitByChar('|',Category)[2])  AS `subcategory`, \n",
    "    splitByChar('|',Category)[1] AS `maincategory`, \n",
    "    version_os, \n",
    "    version_app,\n",
    "    partner_uuid,\n",
    "    company_name,\n",
    "    partner_lk,\n",
    "    device_type\n",
    "FROM t2\n",
    "JOIN db1.categories_st_support_ch AS cat_s_sup \n",
    "\tON cat_s_sup.report_date = t2.report_date\n",
    "\tAND lowerUTF8(cat_s_sup.Details) = lowerUTF8(t2.detailed_category)\n",
    "WHERE  lowerUTF8(subcategory) = 'info'\n",
    "    \"\"\"\n",
    "\n",
    "ch.query_run(query_text)"
   ]
  },
  {
   "cell_type": "markdown",
   "id": "a8fbdbda",
   "metadata": {},
   "source": [
    "___\n",
    "## Tools\n",
    "___\n",
    "### query\n"
   ]
  },
  {
   "cell_type": "code",
   "execution_count": 7,
   "id": "0b267d4a",
   "metadata": {},
   "outputs": [
    {
     "data": {
      "text/html": [
       "<div><style>\n",
       ".dataframe > thead > tr,\n",
       ".dataframe > tbody > tr {\n",
       "  text-align: right;\n",
       "  white-space: pre-wrap;\n",
       "}\n",
       "</style>\n",
       "<small>shape: (10, 17)</small><table border=\"1\" class=\"dataframe\"><thead><tr><th>report_date</th><th>ticket_id</th><th>intercom_id</th><th>intercom_uuid</th><th>camera_id</th><th>server_stream_url</th><th>detailed_category</th><th>category</th><th>subcategory</th><th>maincategory</th><th>version_os</th><th>version_app</th><th>partner_uuid</th><th>company_name</th><th>partner_lk</th><th>com_d_par.company_name</th><th>device_type</th></tr><tr><td>date</td><td>i64</td><td>str</td><td>str</td><td>str</td><td>str</td><td>str</td><td>str</td><td>str</td><td>str</td><td>str</td><td>str</td><td>str</td><td>str</td><td>str</td><td>str</td><td>str</td></tr></thead><tbody><tr><td>2025-07-20</td><td>196533</td><td>&quot;1944104891&quot;</td><td>&quot;5d47ccf8-e8dc-499a-b4b0-acae31…</td><td>&quot;&quot;</td><td>&quot;msk-v04.sputnik.systems&quot;</td><td>&quot;удалить из семьи/лишние пользо…</td><td>&quot;MOB|Info: удалить из семьи/лиш…</td><td>&quot;Info&quot;</td><td>&quot;MOB&quot;</td><td>&quot;iOS&quot;</td><td>&quot;4.34.0(12)&quot;</td><td>&quot;bf6984b9-92bc-4752-8f14-274ae6…</td><td>&quot;ООО &quot;Комфорт Сервис&quot; ИНН 23101…</td><td>&quot;120506&quot;</td><td>&quot;&quot;</td><td>&quot;intercom&quot;</td></tr><tr><td>2025-07-20</td><td>196491</td><td>&quot;2121124608&quot;</td><td>&quot;390971b1-be51-43ef-8f57-95284b…</td><td>&quot;&quot;</td><td>&quot;msk-v06.sputnik.systems&quot;</td><td>&quot;добавить виджет&quot;</td><td>&quot;MOB|Info: добавить виджет&quot;</td><td>&quot;Info&quot;</td><td>&quot;MOB&quot;</td><td>&quot;Android&quot;</td><td>&quot;6.21.1(417)&quot;</td><td>&quot;5ba3ca92-4ee9-4d27-9ac2-e0b569…</td><td>&quot;ООО «Технический центр домофон…</td><td>&quot;123730&quot;</td><td>&quot;&quot;</td><td>&quot;intercom&quot;</td></tr><tr><td>2025-07-20</td><td>196470</td><td>&quot;2236151454&quot;</td><td>&quot;a0496ee5-b323-44fa-85eb-22ad78…</td><td>&quot;&quot;</td><td>&quot;msk-v01.sputnik.systems&quot;</td><td>&quot;проблема с оплатой&quot;</td><td>&quot;MOB|Info: проблема с оплатой&quot;</td><td>&quot;Info&quot;</td><td>&quot;MOB&quot;</td><td>&quot;iOS&quot;</td><td>&quot;4.34.0(12)&quot;</td><td>&quot;1c64b848-e82c-46ee-9d0d-c74093…</td><td>&quot;ООО Добрыня ПРО&quot;</td><td>&quot;121833&quot;</td><td>&quot;&quot;</td><td>&quot;intercom&quot;</td></tr><tr><td>2025-07-20</td><td>196471</td><td>&quot;2235148552&quot;</td><td>&quot;7499ad33-2f94-4d06-9c03-ac539b…</td><td>&quot;&quot;</td><td>&quot;msk-v01.sputnik.systems&quot;</td><td>&quot;кто администратор&quot;</td><td>&quot;MOB|Info: кто администратор&quot;</td><td>&quot;Info&quot;</td><td>&quot;MOB&quot;</td><td>&quot;iOS&quot;</td><td>&quot;4.34.0(12)&quot;</td><td>&quot;8e9d0d2c-8798-4eba-8e8d-6fa5e0…</td><td>&quot;ABК-ВЕЛЛКОМСТРОЙ ООО&quot;</td><td>&quot;120189&quot;</td><td>&quot;&quot;</td><td>&quot;intercom&quot;</td></tr><tr><td>2025-07-20</td><td>196503</td><td>&quot;2108118655&quot;</td><td>&quot;ae91c1b4-56ed-42a3-a48b-b1def3…</td><td>&quot;&quot;</td><td>&quot;v08.sputnik.systems&quot;</td><td>&quot;функции в подписке&quot;</td><td>&quot;MOB|Info: функции в подписке&quot;</td><td>&quot;Info&quot;</td><td>&quot;MOB&quot;</td><td>&quot;iOS&quot;</td><td>&quot;4.34.0(12)&quot;</td><td>&quot;0e7236ac-b8bd-4ab0-8634-d165ad…</td><td>&quot;Цифрал Сервис УК&quot;</td><td>&quot;120345&quot;</td><td>&quot;&quot;</td><td>&quot;intercom&quot;</td></tr><tr><td>2025-07-20</td><td>196407</td><td>&quot;2121122914&quot;</td><td>&quot;198f79e2-86b7-4aee-ab25-bf326f…</td><td>&quot;&quot;</td><td>&quot;msk-v06.sputnik.systems&quot;</td><td>&quot;оплатить домофон/лицевой счёт …</td><td>&quot;MOB|Info: оплатить домофон/лиц…</td><td>&quot;Info&quot;</td><td>&quot;MOB&quot;</td><td>&quot;Android&quot;</td><td>&quot;6.21.1(417)&quot;</td><td>&quot;0e7236ac-b8bd-4ab0-8634-d165ad…</td><td>&quot;Цифрал Сервис УК&quot;</td><td>&quot;120345&quot;</td><td>&quot;&quot;</td><td>&quot;intercom&quot;</td></tr><tr><td>2025-07-20</td><td>196581</td><td>&quot;2236151922&quot;</td><td>&quot;ec2030da-cf11-4ca1-8a13-001511…</td><td>&quot;&quot;</td><td>&quot;msk-v04.sputnik.systems&quot;</td><td>&quot;подключение архива&quot;</td><td>&quot;MOB|Info: подключение архива&quot;</td><td>&quot;Info&quot;</td><td>&quot;MOB&quot;</td><td>&quot;iOS&quot;</td><td>&quot;4.34.0(12)&quot;</td><td>&quot;e08b9727-86e2-47e8-aaad-dff3c0…</td><td>&quot;ИП Владимирова М.Н. ПРО&quot;</td><td>&quot;132773&quot;</td><td>&quot;&quot;</td><td>&quot;intercom&quot;</td></tr><tr><td>2025-07-20</td><td>196477</td><td>&quot;2235144423&quot;</td><td>&quot;cdf83ccb-41d1-4e5d-a55f-d85b71…</td><td>&quot;&quot;</td><td>&quot;msk-v10.sputnik.systems&quot;</td><td>&quot;удалить из семьи/лишние пользо…</td><td>&quot;MOB|Info: удалить из семьи/лиш…</td><td>&quot;Info&quot;</td><td>&quot;MOB&quot;</td><td>&quot;iOS&quot;</td><td>&quot;4.34.0(12)&quot;</td><td>&quot;ae55bd58-5c73-4ba6-8a8e-c46683…</td><td>&quot;ИП Маргорин В.В.&quot;</td><td>&quot;123409&quot;</td><td>&quot;&quot;</td><td>&quot;intercom&quot;</td></tr><tr><td>2025-07-20</td><td>196477</td><td>&quot;2235144423&quot;</td><td>&quot;cdf83ccb-41d1-4e5d-a55f-d85b71…</td><td>&quot;&quot;</td><td>&quot;msk-v10.sputnik.systems&quot;</td><td>&quot;сменить администратора&quot;</td><td>&quot;MOB|Info: сменить администрато…</td><td>&quot;Info&quot;</td><td>&quot;MOB&quot;</td><td>&quot;iOS&quot;</td><td>&quot;4.34.0(12)&quot;</td><td>&quot;ae55bd58-5c73-4ba6-8a8e-c46683…</td><td>&quot;ИП Маргорин В.В.&quot;</td><td>&quot;123409&quot;</td><td>&quot;&quot;</td><td>&quot;intercom&quot;</td></tr><tr><td>2025-07-20</td><td>196405</td><td>&quot;2018110583&quot;</td><td>&quot;30bdeab6-8c66-4f3a-925c-35234e…</td><td>&quot;&quot;</td><td>&quot;v08.sputnik.systems&quot;</td><td>&quot;установить персональный код&quot;</td><td>&quot;MOB|Info: установить персональ…</td><td>&quot;Info&quot;</td><td>&quot;MOB&quot;</td><td>&quot;Android&quot;</td><td>&quot;6.21.1(417)&quot;</td><td>&quot;e7e86c75-fc8b-4710-839d-56ad86…</td><td>&quot;Цифрал Тольятти&quot;</td><td>&quot;152762&quot;</td><td>&quot;&quot;</td><td>&quot;intercom&quot;</td></tr></tbody></table></div>"
      ],
      "text/plain": [
       "shape: (10, 17)\n",
       "┌───────────┬───────────┬───────────┬───────────┬───┬───────────┬───────────┬───────────┬──────────┐\n",
       "│ report_da ┆ ticket_id ┆ intercom_ ┆ intercom_ ┆ … ┆ company_n ┆ partner_l ┆ com_d_par ┆ device_t │\n",
       "│ te        ┆ ---       ┆ id        ┆ uuid      ┆   ┆ ame       ┆ k         ┆ .company_ ┆ ype      │\n",
       "│ ---       ┆ i64       ┆ ---       ┆ ---       ┆   ┆ ---       ┆ ---       ┆ name      ┆ ---      │\n",
       "│ date      ┆           ┆ str       ┆ str       ┆   ┆ str       ┆ str       ┆ ---       ┆ str      │\n",
       "│           ┆           ┆           ┆           ┆   ┆           ┆           ┆ str       ┆          │\n",
       "╞═══════════╪═══════════╪═══════════╪═══════════╪═══╪═══════════╪═══════════╪═══════════╪══════════╡\n",
       "│ 2025-07-2 ┆ 196533    ┆ 194410489 ┆ 5d47ccf8- ┆ … ┆ ООО       ┆ 120506    ┆           ┆ intercom │\n",
       "│ 0         ┆           ┆ 1         ┆ e8dc-499a ┆   ┆ \"Комфорт  ┆           ┆           ┆          │\n",
       "│           ┆           ┆           ┆ -b4b0-aca ┆   ┆ Сервис\"   ┆           ┆           ┆          │\n",
       "│           ┆           ┆           ┆ e31…      ┆   ┆ ИНН       ┆           ┆           ┆          │\n",
       "│           ┆           ┆           ┆           ┆   ┆ 23101…    ┆           ┆           ┆          │\n",
       "│ 2025-07-2 ┆ 196491    ┆ 212112460 ┆ 390971b1- ┆ … ┆ ООО «Техн ┆ 123730    ┆           ┆ intercom │\n",
       "│ 0         ┆           ┆ 8         ┆ be51-43ef ┆   ┆ ический   ┆           ┆           ┆          │\n",
       "│           ┆           ┆           ┆ -8f57-952 ┆   ┆ центр     ┆           ┆           ┆          │\n",
       "│           ┆           ┆           ┆ 84b…      ┆   ┆ домофон…  ┆           ┆           ┆          │\n",
       "│ 2025-07-2 ┆ 196470    ┆ 223615145 ┆ a0496ee5- ┆ … ┆ ООО       ┆ 121833    ┆           ┆ intercom │\n",
       "│ 0         ┆           ┆ 4         ┆ b323-44fa ┆   ┆ Добрыня   ┆           ┆           ┆          │\n",
       "│           ┆           ┆           ┆ -85eb-22a ┆   ┆ ПРО       ┆           ┆           ┆          │\n",
       "│           ┆           ┆           ┆ d78…      ┆   ┆           ┆           ┆           ┆          │\n",
       "│ 2025-07-2 ┆ 196471    ┆ 223514855 ┆ 7499ad33- ┆ … ┆ ABК-ВЕЛЛК ┆ 120189    ┆           ┆ intercom │\n",
       "│ 0         ┆           ┆ 2         ┆ 2f94-4d06 ┆   ┆ ОМСТРОЙ   ┆           ┆           ┆          │\n",
       "│           ┆           ┆           ┆ -9c03-ac5 ┆   ┆ ООО       ┆           ┆           ┆          │\n",
       "│           ┆           ┆           ┆ 39b…      ┆   ┆           ┆           ┆           ┆          │\n",
       "│ 2025-07-2 ┆ 196503    ┆ 210811865 ┆ ae91c1b4- ┆ … ┆ Цифрал    ┆ 120345    ┆           ┆ intercom │\n",
       "│ 0         ┆           ┆ 5         ┆ 56ed-42a3 ┆   ┆ Сервис УК ┆           ┆           ┆          │\n",
       "│           ┆           ┆           ┆ -a48b-b1d ┆   ┆           ┆           ┆           ┆          │\n",
       "│           ┆           ┆           ┆ ef3…      ┆   ┆           ┆           ┆           ┆          │\n",
       "│ 2025-07-2 ┆ 196407    ┆ 212112291 ┆ 198f79e2- ┆ … ┆ Цифрал    ┆ 120345    ┆           ┆ intercom │\n",
       "│ 0         ┆           ┆ 4         ┆ 86b7-4aee ┆   ┆ Сервис УК ┆           ┆           ┆          │\n",
       "│           ┆           ┆           ┆ -ab25-bf3 ┆   ┆           ┆           ┆           ┆          │\n",
       "│           ┆           ┆           ┆ 26f…      ┆   ┆           ┆           ┆           ┆          │\n",
       "│ 2025-07-2 ┆ 196581    ┆ 223615192 ┆ ec2030da- ┆ … ┆ ИП Владим ┆ 132773    ┆           ┆ intercom │\n",
       "│ 0         ┆           ┆ 2         ┆ cf11-4ca1 ┆   ┆ ирова     ┆           ┆           ┆          │\n",
       "│           ┆           ┆           ┆ -8a13-001 ┆   ┆ М.Н. ПРО  ┆           ┆           ┆          │\n",
       "│           ┆           ┆           ┆ 511…      ┆   ┆           ┆           ┆           ┆          │\n",
       "│ 2025-07-2 ┆ 196477    ┆ 223514442 ┆ cdf83ccb- ┆ … ┆ ИП        ┆ 123409    ┆           ┆ intercom │\n",
       "│ 0         ┆           ┆ 3         ┆ 41d1-4e5d ┆   ┆ Маргорин  ┆           ┆           ┆          │\n",
       "│           ┆           ┆           ┆ -a55f-d85 ┆   ┆ В.В.      ┆           ┆           ┆          │\n",
       "│           ┆           ┆           ┆ b71…      ┆   ┆           ┆           ┆           ┆          │\n",
       "│ 2025-07-2 ┆ 196477    ┆ 223514442 ┆ cdf83ccb- ┆ … ┆ ИП        ┆ 123409    ┆           ┆ intercom │\n",
       "│ 0         ┆           ┆ 3         ┆ 41d1-4e5d ┆   ┆ Маргорин  ┆           ┆           ┆          │\n",
       "│           ┆           ┆           ┆ -a55f-d85 ┆   ┆ В.В.      ┆           ┆           ┆          │\n",
       "│           ┆           ┆           ┆ b71…      ┆   ┆           ┆           ┆           ┆          │\n",
       "│ 2025-07-2 ┆ 196405    ┆ 201811058 ┆ 30bdeab6- ┆ … ┆ Цифрал    ┆ 152762    ┆           ┆ intercom │\n",
       "│ 0         ┆           ┆ 3         ┆ 8c66-4f3a ┆   ┆ Тольятти  ┆           ┆           ┆          │\n",
       "│           ┆           ┆           ┆ -925c-352 ┆   ┆           ┆           ┆           ┆          │\n",
       "│           ┆           ┆           ┆ 34e…      ┆   ┆           ┆           ┆           ┆          │\n",
       "└───────────┴───────────┴───────────┴───────────┴───┴───────────┴───────────┴───────────┴──────────┘"
      ]
     },
     "execution_count": 7,
     "metadata": {},
     "output_type": "execute_result"
    }
   ],
   "source": [
    "query_text = \"\"\"--sql\n",
    "    SELECT\n",
    "        *\n",
    "    FROM db1.t_requests_info_st_support\n",
    "    ORDER BY report_date\n",
    "    limit 10\n",
    "    \"\"\"\n",
    "\n",
    "ch.query_run(query_text)\n"
   ]
  },
  {
   "cell_type": "markdown",
   "id": "d454c50d",
   "metadata": {},
   "source": [
    "### delete a part\n"
   ]
  },
  {
   "cell_type": "code",
   "execution_count": null,
   "id": "c5132e17",
   "metadata": {},
   "outputs": [],
   "source": [
    "query_text = \"\"\"--sql\n",
    "    ALTER TABLE db1.t_requests_info_st_support DELETE WHERE report_date = '2025-07-17'\n",
    "    \"\"\"\n",
    "\n",
    "ch.query_run(query_text)\n"
   ]
  },
  {
   "cell_type": "markdown",
   "id": "f27b3c96",
   "metadata": {},
   "source": [
    "### drop mv"
   ]
  },
  {
   "cell_type": "code",
   "execution_count": null,
   "id": "2aa23f4b",
   "metadata": {},
   "outputs": [
    {
     "data": {
      "text/html": [
       "<div><style>\n",
       ".dataframe > thead > tr,\n",
       ".dataframe > tbody > tr {\n",
       "  text-align: right;\n",
       "  white-space: pre-wrap;\n",
       "}\n",
       "</style>\n",
       "<small>shape: (0, 0)</small><table border=\"1\" class=\"dataframe\"><thead><tr></tr><tr></tr></thead><tbody></tbody></table></div>"
      ],
      "text/plain": [
       "shape: (0, 0)\n",
       "┌┐\n",
       "╞╡\n",
       "└┘"
      ]
     },
     "execution_count": 2,
     "metadata": {},
     "output_type": "execute_result"
    }
   ],
   "source": [
    "query_text = \"\"\"--sql\n",
    "    DROP TABLE db1.t_requests_info_st_support_mv\n",
    "    \"\"\"\n",
    "\n",
    "ch.query_run(query_text)"
   ]
  },
  {
   "cell_type": "markdown",
   "id": "14f3334d",
   "metadata": {},
   "source": [
    "\n",
    "### drop ch"
   ]
  },
  {
   "cell_type": "code",
   "execution_count": null,
   "id": "28fd7aa0",
   "metadata": {},
   "outputs": [
    {
     "data": {
      "text/html": [
       "<div><style>\n",
       ".dataframe > thead > tr,\n",
       ".dataframe > tbody > tr {\n",
       "  text-align: right;\n",
       "  white-space: pre-wrap;\n",
       "}\n",
       "</style>\n",
       "<small>shape: (0, 0)</small><table border=\"1\" class=\"dataframe\"><thead><tr></tr><tr></tr></thead><tbody></tbody></table></div>"
      ],
      "text/plain": [
       "shape: (0, 0)\n",
       "┌┐\n",
       "╞╡\n",
       "└┘"
      ]
     },
     "execution_count": 3,
     "metadata": {},
     "output_type": "execute_result"
    }
   ],
   "source": [
    "query_text = \"\"\"--sql\n",
    "    DROP TABLE db1.t_requests_info_st_support\n",
    "    \"\"\"\n",
    "\n",
    "ch.query_run(query_text)"
   ]
  },
  {
   "cell_type": "markdown",
   "id": "8e85f950",
   "metadata": {},
   "source": [
    "### refresh mv"
   ]
  },
  {
   "cell_type": "code",
   "execution_count": null,
   "id": "8df08f49",
   "metadata": {},
   "outputs": [
    {
     "data": {
      "text/html": [
       "<div><style>\n",
       ".dataframe > thead > tr,\n",
       ".dataframe > tbody > tr {\n",
       "  text-align: right;\n",
       "  white-space: pre-wrap;\n",
       "}\n",
       "</style>\n",
       "<small>shape: (1, 2)</small><table border=\"1\" class=\"dataframe\"><thead><tr><th>elapsed_ns</th><th>query_id</th></tr><tr><td>i64</td><td>str</td></tr></thead><tbody><tr><td>897986</td><td>&quot;58d516b8-81ce-47ef-ab2c-c0196a…</td></tr></tbody></table></div>"
      ],
      "text/plain": [
       "shape: (1, 2)\n",
       "┌────────────┬─────────────────────────────────┐\n",
       "│ elapsed_ns ┆ query_id                        │\n",
       "│ ---        ┆ ---                             │\n",
       "│ i64        ┆ str                             │\n",
       "╞════════════╪═════════════════════════════════╡\n",
       "│ 897986     ┆ 58d516b8-81ce-47ef-ab2c-c0196a… │\n",
       "└────────────┴─────────────────────────────────┘"
      ]
     },
     "execution_count": 16,
     "metadata": {},
     "output_type": "execute_result"
    }
   ],
   "source": [
    "query_text = \"\"\"\n",
    "SYSTEM REFRESH VIEW db1.t_requests_info_st_support_mv\n",
    "\"\"\"\n",
    "\n",
    "ch.query_run(query_text)"
   ]
  }
 ],
 "metadata": {
  "jupytext": {
   "formats": "ipynb,md"
  },
  "kernelspec": {
   "display_name": "myenv",
   "language": "python",
   "name": "python3"
  },
  "language_info": {
   "codemirror_mode": {
    "name": "ipython",
    "version": 3
   },
   "file_extension": ".py",
   "mimetype": "text/x-python",
   "name": "python",
   "nbconvert_exporter": "python",
   "pygments_lexer": "ipython3",
   "version": "3.12.11"
  }
 },
 "nbformat": 4,
 "nbformat_minor": 5
}

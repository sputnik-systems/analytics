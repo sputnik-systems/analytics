{
 "cells": [
  {
   "cell_type": "markdown",
   "id": "4780752b",
   "metadata": {},
   "source": [
    "## Start"
   ]
  },
  {
   "cell_type": "code",
   "execution_count": 1,
   "id": "873b2a43",
   "metadata": {},
   "outputs": [],
   "source": [
    "import clickhouse_connect\n",
    "import datetime\n",
    "import os\n",
    "import pytz\n",
    "import pandas as pd\n",
    "from dateutil.relativedelta import relativedelta\n",
    "from dotenv import load_dotenv\n",
    "\n",
    "import sys\n",
    "sys.path.append('/home/boris/Documents/Work/analytics/Clickhouse')\n",
    "from clickhouse_client import ClickHouse_client\n",
    "ch = ClickHouse_client()\n",
    "pd.set_option('display.max_rows', 1000)\n",
    "\n"
   ]
  },
  {
   "cell_type": "markdown",
   "id": "e2aaab6f",
   "metadata": {},
   "source": [
    "___\n",
    "### Tags: #Tables\n",
    "\n",
    "### Links: \n",
    "\n",
    "[[requests_st_support]]\n",
    "\n",
    "[[intercoms_dir_asgard]]\n",
    "\n",
    "[[intercoms_st_partner]]\n",
    "\n",
    "[[companies_dir_partner]]\n",
    "\n",
    "[[categories_st_support]]\n",
    "___"
   ]
  },
  {
   "cell_type": "code",
   "execution_count": 4,
   "id": "9e59a65a",
   "metadata": {},
   "outputs": [
    {
     "data": {
      "text/html": [
       "<div><style>\n",
       ".dataframe > thead > tr,\n",
       ".dataframe > tbody > tr {\n",
       "  text-align: right;\n",
       "  white-space: pre-wrap;\n",
       "}\n",
       "</style>\n",
       "<small>shape: (0, 0)</small><table border=\"1\" class=\"dataframe\"><thead><tr></tr><tr></tr></thead><tbody></tbody></table></div>"
      ],
      "text/plain": [
       "shape: (0, 0)\n",
       "┌┐\n",
       "╞╡\n",
       "└┘"
      ]
     },
     "execution_count": 4,
     "metadata": {},
     "output_type": "execute_result"
    }
   ],
   "source": [
    "query_text = \"\"\"--sql\n",
    "CREATE TABLE db1.t_requests_st_support\n",
    "    (\n",
    "        `report_date` Date,\n",
    "        `ticket_id` Int32,\n",
    "        `intercom_id` String,\n",
    "        `intercom_uuid` String,\n",
    "        `camera_id` String,\n",
    "        `server_stream_url` String,\n",
    "        `detailed_category` String,\n",
    "        `category` String,\n",
    "        `subcategory` String,\n",
    "        `maincategory` String,  \n",
    "        `version_os` String,\n",
    "        `version_app` String,\n",
    "        `partner_uuid` String,\n",
    "        `company_name` String,\n",
    "        `partner_lk` String,\n",
    "        `com_d_par.company_name` String,\n",
    "        `device_type` String\n",
    "    )\n",
    "    ENGINE = MergeTree()\n",
    "    ORDER BY report_date\n",
    "\"\"\"\n",
    "\n",
    "ch.query_run(query_text)"
   ]
  },
  {
   "cell_type": "code",
   "execution_count": 5,
   "id": "3eeb0595",
   "metadata": {},
   "outputs": [
    {
     "data": {
      "text/html": [
       "<div><style>\n",
       ".dataframe > thead > tr,\n",
       ".dataframe > tbody > tr {\n",
       "  text-align: right;\n",
       "  white-space: pre-wrap;\n",
       "}\n",
       "</style>\n",
       "<small>shape: (0, 0)</small><table border=\"1\" class=\"dataframe\"><thead><tr></tr><tr></tr></thead><tbody></tbody></table></div>"
      ],
      "text/plain": [
       "shape: (0, 0)\n",
       "┌┐\n",
       "╞╡\n",
       "└┘"
      ]
     },
     "execution_count": 5,
     "metadata": {},
     "output_type": "execute_result"
    }
   ],
   "source": [
    "query_text = \"\"\"--sql\n",
    "    CREATE MATERIALIZED VIEW db1.t_requests_st_support_mv\n",
    "    REFRESH EVERY 1 DAY OFFSET 5 HOUR 35 MINUTE TO db1.t_requests_st_support AS\n",
    "WITH t1 AS(\n",
    "SELECT \n",
    "    req_s_sup.`report_date` AS report_date, \n",
    "    `ticket_id`, \n",
    "    `intercom_id`, \n",
    "    int_d_as.`intercom_uuid` AS intercom_uuid,\n",
    "    `camera_id`,\n",
    "    `server_stream_url`, \n",
    "    replaceAll(trim(arrayJoin(splitByChar(',',`category`))),'.','') AS `category`, \n",
    "    `version_os`, \n",
    "    `version_app`,\n",
    "    int_s_par.`partner_uuid` AS partner_uuid,\n",
    "    `company_name`,\n",
    "    `partner_lk`,\n",
    "    `device_type`\n",
    "FROM `db1`.`requests_st_support_ch` AS req_s_sup\n",
    "LEFT JOIN db1.intercoms_dir_asgard_ch AS int_d_as ON int_d_as.motherboard_id = req_s_sup.intercom_id\n",
    "LEFT JOIN db1.intercoms_st_partner_ch AS int_s_par \n",
    "    ON  int_s_par.intercom_uuid = int_d_as.`intercom_uuid`\n",
    "    AND int_s_par.report_date = req_s_sup.`report_date`\n",
    "LEFT JOIN db1.companies_dir_partner_ch AS com_d_par\n",
    "    ON int_s_par.partner_uuid = com_d_par.partner_uuid\n",
    "   \t),\n",
    "--\n",
    "t2 AS (\n",
    "SELECT\n",
    "\treport_date,\n",
    "\tticket_id,\n",
    "\tintercom_id,\n",
    "\tintercom_uuid,\n",
    "\tcamera_id,\n",
    "    server_stream_url,\n",
    "    category,\n",
    "    if(length(splitByChar(':',category)) = 2, trim(splitByChar(':',category)[2]),trim(splitByChar(':',category)[1])) AS `detailed_category`,\n",
    "    version_os, \n",
    "    version_app,\n",
    "    partner_uuid,\n",
    "    company_name,\n",
    "    partner_lk,\n",
    "    device_type\n",
    "FROM t1\n",
    ")\n",
    "--\n",
    "SELECT\n",
    "\tt2.report_date AS report_date,\n",
    "\tticket_id,\n",
    "\tintercom_id,\n",
    "\tintercom_uuid,\n",
    "\tcamera_id,\n",
    "    server_stream_url,\n",
    "    category,\n",
    "    `detailed_category`,\n",
    "    if(splitByChar('|',Category)[2] = '','Main',splitByChar('|',Category)[2])  AS `subcategory`, \n",
    "    splitByChar('|',Category)[1] AS `maincategory`, \n",
    "    version_os, \n",
    "    version_app,\n",
    "    partner_uuid,\n",
    "    company_name,\n",
    "    partner_lk,\n",
    "    device_type\n",
    "FROM t2\n",
    "JOIN db1.categories_st_support_ch AS cat_s_sup \n",
    "\tON cat_s_sup.report_date = t2.report_date\n",
    "\tAND lowerUTF8(cat_s_sup.Details) = lowerUTF8(t2.detailed_category)\n",
    "WHERE  lowerUTF8(subcategory) != 'info'\n",
    "    \"\"\"\n",
    "\n",
    "ch.query_run(query_text)"
   ]
  },
  {
   "cell_type": "markdown",
   "id": "a8fbdbda",
   "metadata": {},
   "source": [
    "___\n",
    "## Tools\n",
    "___\n",
    "### query\n"
   ]
  },
  {
   "cell_type": "code",
   "execution_count": 10,
   "id": "0b267d4a",
   "metadata": {},
   "outputs": [
    {
     "data": {
      "text/html": [
       "<div><style>\n",
       ".dataframe > thead > tr,\n",
       ".dataframe > tbody > tr {\n",
       "  text-align: right;\n",
       "  white-space: pre-wrap;\n",
       "}\n",
       "</style>\n",
       "<small>shape: (10, 17)</small><table border=\"1\" class=\"dataframe\"><thead><tr><th>report_date</th><th>ticket_id</th><th>intercom_id</th><th>intercom_uuid</th><th>camera_id</th><th>server_stream_url</th><th>detailed_category</th><th>category</th><th>subcategory</th><th>maincategory</th><th>version_os</th><th>version_app</th><th>partner_uuid</th><th>company_name</th><th>partner_lk</th><th>com_d_par.company_name</th><th>device_type</th></tr><tr><td>date</td><td>i64</td><td>str</td><td>str</td><td>str</td><td>str</td><td>str</td><td>str</td><td>str</td><td>str</td><td>str</td><td>str</td><td>str</td><td>str</td><td>str</td><td>str</td><td>str</td></tr></thead><tbody><tr><td>2025-07-20</td><td>196391</td><td>&quot;2428253563&quot;</td><td>&quot;18450065-e73a-4135-a2a0-6f2eab…</td><td>&quot;&quot;</td><td>&quot;msk-v10.sputnik.systems&quot;</td><td>&quot;видео с задержкой/зависает/дол…</td><td>&quot;MOB|Video: видео с задержкой/з…</td><td>&quot;Video&quot;</td><td>&quot;MOB&quot;</td><td>&quot;iOS&quot;</td><td>&quot;4.34.0(12)&quot;</td><td>&quot;4d571e14-cd9e-4906-a3c6-121b0e…</td><td>&quot;ООО &quot;ЩИТ-СЕРВИС&quot; ПРО&quot;</td><td>&quot;140661&quot;</td><td>&quot;&quot;</td><td>&quot;intercom&quot;</td></tr><tr><td>2025-07-20</td><td>196473</td><td>&quot;2108117702&quot;</td><td>&quot;7f09354a-4e4e-47cd-b4c0-fc9189…</td><td>&quot;&quot;</td><td>&quot;msk-v03.sputnik.systems&quot;</td><td>&quot;домофон не работает&quot;</td><td>&quot;DEV: домофон не работает&quot;</td><td>&quot;Main&quot;</td><td>&quot;DEV&quot;</td><td>&quot;iOS&quot;</td><td>&quot;4.34.0(12)&quot;</td><td>&quot;0e7236ac-b8bd-4ab0-8634-d165ad…</td><td>&quot;Цифрал Сервис УК&quot;</td><td>&quot;120345&quot;</td><td>&quot;&quot;</td><td>&quot;intercom&quot;</td></tr><tr><td>2025-07-20</td><td>196390</td><td>&quot;2121125457&quot;</td><td>&quot;ad8851d2-d2ee-4226-a992-6c5353…</td><td>&quot;&quot;</td><td>&quot;v08.sputnik.systems&quot;</td><td>&quot;приложение не работает&quot;</td><td>&quot;MOB: приложение не работает&quot;</td><td>&quot;Main&quot;</td><td>&quot;MOB&quot;</td><td>&quot;iOS&quot;</td><td>&quot;4.34.0(12)&quot;</td><td>&quot;de03856f-639e-4f54-a77e-dda44b…</td><td>&quot;ООО Бастион ПРО&quot;</td><td>&quot;120604&quot;</td><td>&quot;&quot;</td><td>&quot;intercom&quot;</td></tr><tr><td>2025-07-20</td><td>196388</td><td>&quot;2148129908&quot;</td><td>&quot;b8b973a8-052e-4df7-9d2e-a88f25…</td><td>&quot;&quot;</td><td>&quot;msk-v02.sputnik.systems&quot;</td><td>&quot;домофон не работает&quot;</td><td>&quot;DEV: домофон не работает&quot;</td><td>&quot;Main&quot;</td><td>&quot;DEV&quot;</td><td>&quot;Android&quot;</td><td>&quot;6.21.1(417)&quot;</td><td>&quot;e7e86c75-fc8b-4710-839d-56ad86…</td><td>&quot;Цифрал Тольятти&quot;</td><td>&quot;152762&quot;</td><td>&quot;&quot;</td><td>&quot;intercom&quot;</td></tr><tr><td>2025-07-20</td><td>196480</td><td>&quot;2125128261&quot;</td><td>&quot;6229b775-0185-4baf-b0bd-ff47a6…</td><td>&quot;&quot;</td><td>&quot;msk-v02.sputnik.systems&quot;</td><td>&quot;домофон не работает&quot;</td><td>&quot;DEV: домофон не работает&quot;</td><td>&quot;Main&quot;</td><td>&quot;DEV&quot;</td><td>&quot;iOS&quot;</td><td>&quot;4.34.0(12)&quot;</td><td>&quot;b1d81e5a-be82-46de-bc2a-e9bda5…</td><td>&quot;ИП Леонов В.А. ПРО&quot;</td><td>&quot;131793&quot;</td><td>&quot;&quot;</td><td>&quot;intercom&quot;</td></tr><tr><td>2025-07-20</td><td>196495</td><td>&quot;1944104592&quot;</td><td>&quot;800dbca3-8eab-425d-b144-da0774…</td><td>&quot;&quot;</td><td>&quot;msk-v04.sputnik.systems&quot;</td><td>&quot;дверь не открывается через при…</td><td>&quot;MOB|Access: дверь не открывает…</td><td>&quot;Access&quot;</td><td>&quot;MOB&quot;</td><td>&quot;Android&quot;</td><td>&quot;6.21.1(417)&quot;</td><td>&quot;e7e86c75-fc8b-4710-839d-56ad86…</td><td>&quot;Цифрал Тольятти&quot;</td><td>&quot;152762&quot;</td><td>&quot;&quot;</td><td>&quot;intercom&quot;</td></tr><tr><td>2025-07-20</td><td>196484</td><td>&quot;2436159160&quot;</td><td>&quot;c8e07b6e-c90e-42b5-8bfe-93db50…</td><td>&quot;&quot;</td><td>&quot;msk-v11.sputnik.systems&quot;</td><td>&quot;видеоархива нет/недоступен/не …</td><td>&quot;MOB|Storage: видеоархива нет/н…</td><td>&quot;Storage&quot;</td><td>&quot;MOB&quot;</td><td>&quot;Android&quot;</td><td>&quot;6.21.1(417)&quot;</td><td>&quot;e5f253f6-ea6a-4736-a0b8-6dc9ef…</td><td>&quot;АО &quot;РС Телеком&quot; ПРО&quot;</td><td>&quot;147012&quot;</td><td>&quot;&quot;</td><td>&quot;intercom&quot;</td></tr><tr><td>2025-07-20</td><td>196490</td><td>&quot;2121120584&quot;</td><td>&quot;b009f001-aa96-43ba-b1ca-c79388…</td><td>&quot;&quot;</td><td>&quot;msk-v05.sputnik.systems&quot;</td><td>&quot;видео нет/не работает/недоступ…</td><td>&quot;MOB|Video: видео нет/не работа…</td><td>&quot;Video&quot;</td><td>&quot;MOB&quot;</td><td>&quot;Android&quot;</td><td>&quot;6.21.1(417)&quot;</td><td>&quot;e7e86c75-fc8b-4710-839d-56ad86…</td><td>&quot;Цифрал Тольятти&quot;</td><td>&quot;152762&quot;</td><td>&quot;&quot;</td><td>&quot;intercom&quot;</td></tr><tr><td>2025-07-20</td><td>196490</td><td>&quot;2121120584&quot;</td><td>&quot;b009f001-aa96-43ba-b1ca-c79388…</td><td>&quot;&quot;</td><td>&quot;msk-v05.sputnik.systems&quot;</td><td>&quot;история посещений не найдена&quot;</td><td>&quot;MOB|Info: история посещений не…</td><td>&quot;Video&quot;</td><td>&quot;MOB&quot;</td><td>&quot;Android&quot;</td><td>&quot;6.21.1(417)&quot;</td><td>&quot;e7e86c75-fc8b-4710-839d-56ad86…</td><td>&quot;Цифрал Тольятти&quot;</td><td>&quot;152762&quot;</td><td>&quot;&quot;</td><td>&quot;intercom&quot;</td></tr><tr><td>2025-07-20</td><td>196490</td><td>&quot;2121120584&quot;</td><td>&quot;b009f001-aa96-43ba-b1ca-c79388…</td><td>&quot;&quot;</td><td>&quot;msk-v05.sputnik.systems&quot;</td><td>&quot;приложение не работает&quot;</td><td>&quot;MOB: приложение не работает&quot;</td><td>&quot;Main&quot;</td><td>&quot;MOB&quot;</td><td>&quot;Android&quot;</td><td>&quot;6.21.1(417)&quot;</td><td>&quot;e7e86c75-fc8b-4710-839d-56ad86…</td><td>&quot;Цифрал Тольятти&quot;</td><td>&quot;152762&quot;</td><td>&quot;&quot;</td><td>&quot;intercom&quot;</td></tr></tbody></table></div>"
      ],
      "text/plain": [
       "shape: (10, 17)\n",
       "┌───────────┬───────────┬───────────┬───────────┬───┬───────────┬───────────┬───────────┬──────────┐\n",
       "│ report_da ┆ ticket_id ┆ intercom_ ┆ intercom_ ┆ … ┆ company_n ┆ partner_l ┆ com_d_par ┆ device_t │\n",
       "│ te        ┆ ---       ┆ id        ┆ uuid      ┆   ┆ ame       ┆ k         ┆ .company_ ┆ ype      │\n",
       "│ ---       ┆ i64       ┆ ---       ┆ ---       ┆   ┆ ---       ┆ ---       ┆ name      ┆ ---      │\n",
       "│ date      ┆           ┆ str       ┆ str       ┆   ┆ str       ┆ str       ┆ ---       ┆ str      │\n",
       "│           ┆           ┆           ┆           ┆   ┆           ┆           ┆ str       ┆          │\n",
       "╞═══════════╪═══════════╪═══════════╪═══════════╪═══╪═══════════╪═══════════╪═══════════╪══════════╡\n",
       "│ 2025-07-2 ┆ 196391    ┆ 242825356 ┆ 18450065- ┆ … ┆ ООО \"ЩИТ- ┆ 140661    ┆           ┆ intercom │\n",
       "│ 0         ┆           ┆ 3         ┆ e73a-4135 ┆   ┆ СЕРВИС\"   ┆           ┆           ┆          │\n",
       "│           ┆           ┆           ┆ -a2a0-6f2 ┆   ┆ ПРО       ┆           ┆           ┆          │\n",
       "│           ┆           ┆           ┆ eab…      ┆   ┆           ┆           ┆           ┆          │\n",
       "│ 2025-07-2 ┆ 196473    ┆ 210811770 ┆ 7f09354a- ┆ … ┆ Цифрал    ┆ 120345    ┆           ┆ intercom │\n",
       "│ 0         ┆           ┆ 2         ┆ 4e4e-47cd ┆   ┆ Сервис УК ┆           ┆           ┆          │\n",
       "│           ┆           ┆           ┆ -b4c0-fc9 ┆   ┆           ┆           ┆           ┆          │\n",
       "│           ┆           ┆           ┆ 189…      ┆   ┆           ┆           ┆           ┆          │\n",
       "│ 2025-07-2 ┆ 196390    ┆ 212112545 ┆ ad8851d2- ┆ … ┆ ООО       ┆ 120604    ┆           ┆ intercom │\n",
       "│ 0         ┆           ┆ 7         ┆ d2ee-4226 ┆   ┆ Бастион   ┆           ┆           ┆          │\n",
       "│           ┆           ┆           ┆ -a992-6c5 ┆   ┆ ПРО       ┆           ┆           ┆          │\n",
       "│           ┆           ┆           ┆ 353…      ┆   ┆           ┆           ┆           ┆          │\n",
       "│ 2025-07-2 ┆ 196388    ┆ 214812990 ┆ b8b973a8- ┆ … ┆ Цифрал    ┆ 152762    ┆           ┆ intercom │\n",
       "│ 0         ┆           ┆ 8         ┆ 052e-4df7 ┆   ┆ Тольятти  ┆           ┆           ┆          │\n",
       "│           ┆           ┆           ┆ -9d2e-a88 ┆   ┆           ┆           ┆           ┆          │\n",
       "│           ┆           ┆           ┆ f25…      ┆   ┆           ┆           ┆           ┆          │\n",
       "│ 2025-07-2 ┆ 196480    ┆ 212512826 ┆ 6229b775- ┆ … ┆ ИП Леонов ┆ 131793    ┆           ┆ intercom │\n",
       "│ 0         ┆           ┆ 1         ┆ 0185-4baf ┆   ┆ В.А. ПРО  ┆           ┆           ┆          │\n",
       "│           ┆           ┆           ┆ -b0bd-ff4 ┆   ┆           ┆           ┆           ┆          │\n",
       "│           ┆           ┆           ┆ 7a6…      ┆   ┆           ┆           ┆           ┆          │\n",
       "│ 2025-07-2 ┆ 196495    ┆ 194410459 ┆ 800dbca3- ┆ … ┆ Цифрал    ┆ 152762    ┆           ┆ intercom │\n",
       "│ 0         ┆           ┆ 2         ┆ 8eab-425d ┆   ┆ Тольятти  ┆           ┆           ┆          │\n",
       "│           ┆           ┆           ┆ -b144-da0 ┆   ┆           ┆           ┆           ┆          │\n",
       "│           ┆           ┆           ┆ 774…      ┆   ┆           ┆           ┆           ┆          │\n",
       "│ 2025-07-2 ┆ 196484    ┆ 243615916 ┆ c8e07b6e- ┆ … ┆ АО \"РС    ┆ 147012    ┆           ┆ intercom │\n",
       "│ 0         ┆           ┆ 0         ┆ c90e-42b5 ┆   ┆ Телеком\"  ┆           ┆           ┆          │\n",
       "│           ┆           ┆           ┆ -8bfe-93d ┆   ┆ ПРО       ┆           ┆           ┆          │\n",
       "│           ┆           ┆           ┆ b50…      ┆   ┆           ┆           ┆           ┆          │\n",
       "│ 2025-07-2 ┆ 196490    ┆ 212112058 ┆ b009f001- ┆ … ┆ Цифрал    ┆ 152762    ┆           ┆ intercom │\n",
       "│ 0         ┆           ┆ 4         ┆ aa96-43ba ┆   ┆ Тольятти  ┆           ┆           ┆          │\n",
       "│           ┆           ┆           ┆ -b1ca-c79 ┆   ┆           ┆           ┆           ┆          │\n",
       "│           ┆           ┆           ┆ 388…      ┆   ┆           ┆           ┆           ┆          │\n",
       "│ 2025-07-2 ┆ 196490    ┆ 212112058 ┆ b009f001- ┆ … ┆ Цифрал    ┆ 152762    ┆           ┆ intercom │\n",
       "│ 0         ┆           ┆ 4         ┆ aa96-43ba ┆   ┆ Тольятти  ┆           ┆           ┆          │\n",
       "│           ┆           ┆           ┆ -b1ca-c79 ┆   ┆           ┆           ┆           ┆          │\n",
       "│           ┆           ┆           ┆ 388…      ┆   ┆           ┆           ┆           ┆          │\n",
       "│ 2025-07-2 ┆ 196490    ┆ 212112058 ┆ b009f001- ┆ … ┆ Цифрал    ┆ 152762    ┆           ┆ intercom │\n",
       "│ 0         ┆           ┆ 4         ┆ aa96-43ba ┆   ┆ Тольятти  ┆           ┆           ┆          │\n",
       "│           ┆           ┆           ┆ -b1ca-c79 ┆   ┆           ┆           ┆           ┆          │\n",
       "│           ┆           ┆           ┆ 388…      ┆   ┆           ┆           ┆           ┆          │\n",
       "└───────────┴───────────┴───────────┴───────────┴───┴───────────┴───────────┴───────────┴──────────┘"
      ]
     },
     "execution_count": 10,
     "metadata": {},
     "output_type": "execute_result"
    }
   ],
   "source": [
    "query_text = \"\"\"--sql\n",
    "    SELECT\n",
    "        *\n",
    "    FROM db1.t_requests_st_support\n",
    "    WHERE subcategory != 'Info'\n",
    "    ORDER BY report_date\n",
    "    limit 10\n",
    "    \"\"\"\n",
    "\n",
    "ch.query_run(query_text)\n"
   ]
  },
  {
   "cell_type": "markdown",
   "id": "d454c50d",
   "metadata": {},
   "source": [
    "### delete a part\n"
   ]
  },
  {
   "cell_type": "code",
   "execution_count": null,
   "id": "c5132e17",
   "metadata": {},
   "outputs": [],
   "source": [
    "query_text = \"\"\"--sql\n",
    "    ALTER TABLE db1.t_requests_st_support DELETE WHERE report_date = '2025-07-17'\n",
    "    \"\"\"\n",
    "\n",
    "ch.query_run(query_text)\n"
   ]
  },
  {
   "cell_type": "markdown",
   "id": "f27b3c96",
   "metadata": {},
   "source": [
    "### drop mv"
   ]
  },
  {
   "cell_type": "code",
   "execution_count": 2,
   "id": "2aa23f4b",
   "metadata": {},
   "outputs": [
    {
     "data": {
      "text/html": [
       "<div><style>\n",
       ".dataframe > thead > tr,\n",
       ".dataframe > tbody > tr {\n",
       "  text-align: right;\n",
       "  white-space: pre-wrap;\n",
       "}\n",
       "</style>\n",
       "<small>shape: (0, 0)</small><table border=\"1\" class=\"dataframe\"><thead><tr></tr><tr></tr></thead><tbody></tbody></table></div>"
      ],
      "text/plain": [
       "shape: (0, 0)\n",
       "┌┐\n",
       "╞╡\n",
       "└┘"
      ]
     },
     "execution_count": 2,
     "metadata": {},
     "output_type": "execute_result"
    }
   ],
   "source": [
    "query_text = \"\"\"--sql\n",
    "    DROP TABLE db1.t_requests_st_support_mv\n",
    "    \"\"\"\n",
    "\n",
    "ch.query_run(query_text)"
   ]
  },
  {
   "cell_type": "markdown",
   "id": "14f3334d",
   "metadata": {},
   "source": [
    "\n",
    "### drop ch"
   ]
  },
  {
   "cell_type": "code",
   "execution_count": 3,
   "id": "28fd7aa0",
   "metadata": {},
   "outputs": [
    {
     "data": {
      "text/html": [
       "<div><style>\n",
       ".dataframe > thead > tr,\n",
       ".dataframe > tbody > tr {\n",
       "  text-align: right;\n",
       "  white-space: pre-wrap;\n",
       "}\n",
       "</style>\n",
       "<small>shape: (0, 0)</small><table border=\"1\" class=\"dataframe\"><thead><tr></tr><tr></tr></thead><tbody></tbody></table></div>"
      ],
      "text/plain": [
       "shape: (0, 0)\n",
       "┌┐\n",
       "╞╡\n",
       "└┘"
      ]
     },
     "execution_count": 3,
     "metadata": {},
     "output_type": "execute_result"
    }
   ],
   "source": [
    "query_text = \"\"\"--sql\n",
    "    DROP TABLE db1.t_requests_st_support\n",
    "    \"\"\"\n",
    "\n",
    "ch.query_run(query_text)"
   ]
  },
  {
   "cell_type": "markdown",
   "id": "8e85f950",
   "metadata": {},
   "source": [
    "### refresh mv"
   ]
  },
  {
   "cell_type": "code",
   "execution_count": 16,
   "id": "8df08f49",
   "metadata": {},
   "outputs": [
    {
     "data": {
      "text/html": [
       "<div><style>\n",
       ".dataframe > thead > tr,\n",
       ".dataframe > tbody > tr {\n",
       "  text-align: right;\n",
       "  white-space: pre-wrap;\n",
       "}\n",
       "</style>\n",
       "<small>shape: (1, 2)</small><table border=\"1\" class=\"dataframe\"><thead><tr><th>elapsed_ns</th><th>query_id</th></tr><tr><td>i64</td><td>str</td></tr></thead><tbody><tr><td>897986</td><td>&quot;58d516b8-81ce-47ef-ab2c-c0196a…</td></tr></tbody></table></div>"
      ],
      "text/plain": [
       "shape: (1, 2)\n",
       "┌────────────┬─────────────────────────────────┐\n",
       "│ elapsed_ns ┆ query_id                        │\n",
       "│ ---        ┆ ---                             │\n",
       "│ i64        ┆ str                             │\n",
       "╞════════════╪═════════════════════════════════╡\n",
       "│ 897986     ┆ 58d516b8-81ce-47ef-ab2c-c0196a… │\n",
       "└────────────┴─────────────────────────────────┘"
      ]
     },
     "execution_count": 16,
     "metadata": {},
     "output_type": "execute_result"
    }
   ],
   "source": [
    "query_text = \"\"\"\n",
    "SYSTEM REFRESH VIEW db1.t_requests_st_support_mv\n",
    "\"\"\"\n",
    "\n",
    "ch.query_run(query_text)"
   ]
  }
 ],
 "metadata": {
  "jupytext": {
   "formats": "ipynb,md"
  },
  "kernelspec": {
   "display_name": "myenv",
   "language": "python",
   "name": "python3"
  },
  "language_info": {
   "codemirror_mode": {
    "name": "ipython",
    "version": 3
   },
   "file_extension": ".py",
   "mimetype": "text/x-python",
   "name": "python",
   "nbconvert_exporter": "python",
   "pygments_lexer": "ipython3",
   "version": "3.12.11"
  }
 },
 "nbformat": 4,
 "nbformat_minor": 5
}

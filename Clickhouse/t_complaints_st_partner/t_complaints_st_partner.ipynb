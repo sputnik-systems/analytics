{
 "cells": [
  {
   "cell_type": "markdown",
   "id": "4780752b",
   "metadata": {},
   "source": [
    "## Start"
   ]
  },
  {
   "cell_type": "code",
   "execution_count": 1,
   "id": "873b2a43",
   "metadata": {},
   "outputs": [],
   "source": [
    "import clickhouse_connect\n",
    "import datetime\n",
    "import os\n",
    "import pytz\n",
    "import pandas as pd\n",
    "from dateutil.relativedelta import relativedelta\n",
    "from dotenv import load_dotenv\n",
    "\n",
    "import sys\n",
    "sys.path.append('/home/boris/Documents/Work/analytics/Clickhouse')\n",
    "from clickhouse_client import ClickHouse_client\n",
    "ch = ClickHouse_client()\n",
    "pd.set_option('display.max_rows', 1000)\n",
    "\n"
   ]
  },
  {
   "cell_type": "markdown",
   "id": "e2aaab6f",
   "metadata": {},
   "source": [
    "___\n",
    "### Tags: #Tables\n",
    "\n",
    "### Links: \n",
    "\n",
    "[[complaints_st_partner]]\n",
    "\n",
    "[[cameras_st_partner]]\n",
    "\n",
    "[[intercoms_st_partner]]\n",
    "\n",
    "[[installation_point_st_partner]]\n",
    "\n",
    "[[entries_installation_points_dir_partner]]\n",
    "\n",
    "[[companies_dir_partner]]\n",
    "\n",
    "[[t_all_installetion_points]]\n",
    "___"
   ]
  },
  {
   "cell_type": "code",
   "execution_count": 3,
   "id": "1a4a524d",
   "metadata": {},
   "outputs": [
    {
     "name": "stdout",
     "output_type": "stream",
     "text": [
      "(\n",
      "    `report_date` Date,\n",
      "    `issue_id` String,\n",
      "    `src_type` String,\n",
      "    `src_uuid` String,\n",
      "    `src_address_uuid` String,\n",
      "    `src_address_type` String,\n",
      "    `device_uuid` String,\n",
      "    `device_type` String,\n",
      "    `err_code` String,\n",
      "    `err_src` String,\n",
      "    `err_func` String,\n",
      "    `aasm_state` String,\n",
      "    `process_error` String,\n",
      "    `actor_type` String,\n",
      "    `actor_identifier` String,\n",
      "    `created_at` DateTime64,\n",
      "    `updated_at` DateTime64,\n",
      "    `installation_point_id` Int64,\n",
      "    `city` String,\n",
      "    `full_address` String,\n",
      "    `region` String,\n",
      "    `parent_uuid` String,\n",
      "    `partner_lk` String,\n",
      "    `tin` String,\n",
      "    `company_name` String\n",
      ")\n"
     ]
    }
   ],
   "source": [
    "query_text = \"\"\"--sql\n",
    "WITH data_range AS(\n",
    "SELECT\n",
    "\treport_date\n",
    "FROM db1.complaints_st_partner_ch\n",
    "),\n",
    "--\n",
    "cameras_st_partner AS(\n",
    "SELECT\n",
    "\treport_date,\n",
    "\t camera_uuid,\n",
    "\t installation_point_id\n",
    "FROM db1.cameras_st_partner_ch\n",
    "WHERE report_date in data_range\n",
    "    ),\n",
    "--\n",
    "intercoms_st_partner AS(\n",
    "SELECT\n",
    "\treport_date,\n",
    "\t intercom_uuid,\n",
    "\t installation_point_id\n",
    "FROM db1.intercoms_st_partner_ch\n",
    "WHERE report_date in data_range\n",
    "    ),\n",
    "companies AS(\n",
    "SELECT\n",
    "\treport_date,\n",
    "\tparent_uuid,\n",
    "\tins_p_s_p.partner_uuid AS partner_uuid,\n",
    "\tpartner_lk,\n",
    "\ttin,\n",
    "\tcompany_name \n",
    "FROM db1.installation_point_st_partner_ch AS ins_p_s_p\n",
    "LEFT JOIN db1.entries_installation_points_dir_partner_ch AS eipdp \n",
    "\tON eipdp.installation_point_id = ins_p_s_p.installation_point_id\n",
    "LEFT JOIN db1.companies_dir_partner_ch AS cdp\n",
    "\tON cdp.partner_uuid = ins_p_s_p.partner_uuid\n",
    "WHERE report_date in data_range\n",
    "\t)\t\n",
    "--\n",
    "SELECT\n",
    "\t com_s_p.report_date AS report_date,\n",
    "    `issue_id`, \n",
    "    `src_type`, \n",
    "    `src_uuid`, \n",
    "    `src_address_uuid`, \n",
    "    `src_address_type`, \n",
    "    `device_uuid`, \n",
    "    `device_type`, \n",
    "    `err_code`, \n",
    "    `err_src`,\n",
    "    `err_func`, \n",
    "    `aasm_state`,\n",
    "    `process_error`, \n",
    "    `actor_type`, \n",
    "    `actor_identifier`,\n",
    "    com_s_p.`created_at` AS created_at,\n",
    "    `updated_at`,\n",
    "    com_s_p.`installation_point_id` AS installation_point_id,\n",
    "    `city`,\n",
    "    `full_address`,\n",
    "    `region`,\n",
    "    all_in_p.`parent_uuid` AS parent_uuid,\n",
    "    `partner_lk`,\n",
    "\t`tin`,\n",
    "\t`company_name` \n",
    "FROM    \n",
    "\t(SELECT\n",
    "\t    com_s_p.`report_date` AS report_date,\n",
    "\t    `issue_id`, -- это на будущее,  когда будет группировка жалоб по ишьб\n",
    "\t    `src_type`, --какая сущность пожаловалсь (Citizen/Camera/Intercom)\n",
    "\t    `src_uuid`, -- uuid этой сущности\n",
    "\t    `src_address_uuid`, -- адрес этой сущности\n",
    "\t    `src_address_type`, -- адрес этой сущности\n",
    "\t    `device_uuid`, -- uuid устройтсва на которое жалуется сущность \n",
    "\t    `device_type`, \n",
    "\t    `err_code`, --  код ошибки intercom_offline / video / no_intercom\n",
    "\t    `err_src`,\t-- откуда пришло MOB (мобилка) / WEB (веб интерфейсы для партнеров) / API (бэк )/ DEV (устройство)\n",
    "\t    `err_func`, --sync (там еще будет)\n",
    "\t    `aasm_state`,\t-- статус жалобы pending / processed / failed  \n",
    "\t    `process_error`, -- ошибка если статус failed  \n",
    "\t    `actor_type`, -- какой живой человек с сердцем пожаловался или авто система (будет либо Citizen, Partner, auto)\n",
    "\t    `actor_identifier`, --uuid / id актэра\n",
    "\t    `created_at`,\n",
    "\t    `updated_at`,\n",
    "\t      if(cameras_st_partner.`installation_point_id` = 0 \n",
    "\t      OR cameras_st_partner.`installation_point_id` IS NULL, \n",
    "\t      intercoms_st_partner.`installation_point_id`,  cameras_st_partner.`installation_point_id`) AS installation_point_id\n",
    "\tFROM db1.complaints_st_partner_ch AS com_s_p\n",
    "\tLEFT JOIN cameras_st_partner \n",
    "\t\tON cameras_st_partner.report_date = com_s_p.report_date \n",
    "\t\tAND cameras_st_partner.camera_uuid = com_s_p.device_uuid\n",
    "\tLEFT JOIN intercoms_st_partner \n",
    "\t\tON intercoms_st_partner.report_date = com_s_p.report_date \n",
    "\t\tAND intercoms_st_partner.intercom_uuid = com_s_p.device_uuid\n",
    "\t\t) AS com_s_p\n",
    "\tLEFT JOIN db1.t_all_installetion_points AS all_in_p\n",
    "\t\tON all_in_p.report_date = com_s_p.report_date\n",
    "\t\tAND all_in_p.installation_point_id = com_s_p.installation_point_id\n",
    "\tLEFT JOIN companies \n",
    "\t\tON companies.report_date = all_in_p.report_date\n",
    "\t\tAND companies.parent_uuid = all_in_p.parent_uuid\n",
    "\"\"\"\n",
    "\n",
    "ch.get_schema(query_text)"
   ]
  },
  {
   "cell_type": "code",
   "execution_count": 4,
   "id": "9e59a65a",
   "metadata": {},
   "outputs": [
    {
     "data": {
      "text/html": [
       "<div><style>\n",
       ".dataframe > thead > tr,\n",
       ".dataframe > tbody > tr {\n",
       "  text-align: right;\n",
       "  white-space: pre-wrap;\n",
       "}\n",
       "</style>\n",
       "<small>shape: (0, 0)</small><table border=\"1\" class=\"dataframe\"><thead><tr></tr><tr></tr></thead><tbody></tbody></table></div>"
      ],
      "text/plain": [
       "shape: (0, 0)\n",
       "┌┐\n",
       "╞╡\n",
       "└┘"
      ]
     },
     "execution_count": 4,
     "metadata": {},
     "output_type": "execute_result"
    }
   ],
   "source": [
    "query_text = \"\"\"--sql\n",
    "CREATE TABLE db1.t_complaints_st_partner\n",
    "(\n",
    "    `report_date` Date,\n",
    "    `issue_id` String,\n",
    "    `src_type` String,\n",
    "    `src_uuid` String,\n",
    "    `src_address_uuid` String,\n",
    "    `src_address_type` String,\n",
    "    `device_uuid` String,\n",
    "    `device_type` String,\n",
    "    `err_code` String,\n",
    "    `err_src` String,\n",
    "    `err_func` String,\n",
    "    `aasm_state` String,\n",
    "    `process_error` String,\n",
    "    `actor_type` String,\n",
    "    `actor_identifier` String,\n",
    "    `created_at` DateTime64,\n",
    "    `updated_at` DateTime64,\n",
    "    `installation_point_id` Int64,\n",
    "    `city` String,\n",
    "    `full_address` String,\n",
    "    `region` String,\n",
    "    `parent_uuid` String,\n",
    "    `partner_lk` String,\n",
    "    `tin` String,\n",
    "    `company_name` String\n",
    ")\n",
    "    ENGINE = MergeTree()\n",
    "    ORDER BY report_date\n",
    "\"\"\"\n",
    "\n",
    "ch.query_run(query_text)"
   ]
  },
  {
   "cell_type": "code",
   "execution_count": 5,
   "id": "3eeb0595",
   "metadata": {},
   "outputs": [
    {
     "data": {
      "text/html": [
       "<div><style>\n",
       ".dataframe > thead > tr,\n",
       ".dataframe > tbody > tr {\n",
       "  text-align: right;\n",
       "  white-space: pre-wrap;\n",
       "}\n",
       "</style>\n",
       "<small>shape: (0, 0)</small><table border=\"1\" class=\"dataframe\"><thead><tr></tr><tr></tr></thead><tbody></tbody></table></div>"
      ],
      "text/plain": [
       "shape: (0, 0)\n",
       "┌┐\n",
       "╞╡\n",
       "└┘"
      ]
     },
     "execution_count": 5,
     "metadata": {},
     "output_type": "execute_result"
    }
   ],
   "source": [
    "query_text = \"\"\"--sql\n",
    "    CREATE MATERIALIZED VIEW db1.t_complaints_st_partner_mv\n",
    "    REFRESH EVERY 1 DAY OFFSET 5 HOUR 37 MINUTE TO db1.t_complaints_st_partner AS\n",
    "WITH data_range AS(\n",
    "SELECT\n",
    "\treport_date\n",
    "FROM db1.complaints_st_partner_ch\n",
    "),\n",
    "--\n",
    "cameras_st_partner AS(\n",
    "SELECT\n",
    "\treport_date,\n",
    "\t camera_uuid,\n",
    "\t installation_point_id\n",
    "FROM db1.cameras_st_partner_ch\n",
    "WHERE report_date in data_range\n",
    "    ),\n",
    "--\n",
    "intercoms_st_partner AS(\n",
    "SELECT\n",
    "\treport_date,\n",
    "\t intercom_uuid,\n",
    "\t installation_point_id\n",
    "FROM db1.intercoms_st_partner_ch\n",
    "WHERE report_date in data_range\n",
    "    ),\n",
    "companies AS(\n",
    "SELECT\n",
    "\treport_date,\n",
    "\tparent_uuid,\n",
    "\tins_p_s_p.partner_uuid AS partner_uuid,\n",
    "\tpartner_lk,\n",
    "\ttin,\n",
    "\tcompany_name \n",
    "FROM db1.installation_point_st_partner_ch AS ins_p_s_p\n",
    "LEFT JOIN db1.entries_installation_points_dir_partner_ch AS eipdp \n",
    "\tON eipdp.installation_point_id = ins_p_s_p.installation_point_id\n",
    "LEFT JOIN db1.companies_dir_partner_ch AS cdp\n",
    "\tON cdp.partner_uuid = ins_p_s_p.partner_uuid\n",
    "WHERE report_date in data_range\n",
    "\t)\t\n",
    "--\n",
    "SELECT\n",
    "\t com_s_p.report_date AS report_date,\n",
    "    `issue_id`, \n",
    "    `src_type`, \n",
    "    `src_uuid`, \n",
    "    `src_address_uuid`, \n",
    "    `src_address_type`, \n",
    "    `device_uuid`, \n",
    "    `device_type`, \n",
    "    `err_code`, \n",
    "    `err_src`,\n",
    "    `err_func`, \n",
    "    `aasm_state`,\n",
    "    `process_error`, \n",
    "    `actor_type`, \n",
    "    `actor_identifier`,\n",
    "    com_s_p.`created_at` AS created_at,\n",
    "    `updated_at`,\n",
    "    com_s_p.`installation_point_id` AS installation_point_id,\n",
    "    `city`,\n",
    "    `full_address`,\n",
    "    `region`,\n",
    "    all_in_p.`parent_uuid` AS parent_uuid,\n",
    "    `partner_lk`,\n",
    "\t`tin`,\n",
    "\t`company_name` \n",
    "FROM    \n",
    "\t(SELECT\n",
    "\t    com_s_p.`report_date` AS report_date,\n",
    "\t    `issue_id`, -- это на будущее,  когда будет группировка жалоб по ишьб\n",
    "\t    `src_type`, --какая сущность пожаловалсь (Citizen/Camera/Intercom)\n",
    "\t    `src_uuid`, -- uuid этой сущности\n",
    "\t    `src_address_uuid`, -- адрес этой сущности\n",
    "\t    `src_address_type`, -- адрес этой сущности\n",
    "\t    `device_uuid`, -- uuid устройтсва на которое жалуется сущность \n",
    "\t    `device_type`, \n",
    "\t    `err_code`, --  код ошибки intercom_offline / video / no_intercom\n",
    "\t    `err_src`,\t-- откуда пришло MOB (мобилка) / WEB (веб интерфейсы для партнеров) / API (бэк )/ DEV (устройство)\n",
    "\t    `err_func`, --sync (там еще будет)\n",
    "\t    `aasm_state`,\t-- статус жалобы pending / processed / failed  \n",
    "\t    `process_error`, -- ошибка если статус failed  \n",
    "\t    `actor_type`, -- какой живой человек с сердцем пожаловался или авто система (будет либо Citizen, Partner, auto)\n",
    "\t    `actor_identifier`, --uuid / id актэра\n",
    "\t    `created_at`,\n",
    "\t    `updated_at`,\n",
    "\t      if(cameras_st_partner.`installation_point_id` = 0 \n",
    "\t      OR cameras_st_partner.`installation_point_id` IS NULL, \n",
    "\t      intercoms_st_partner.`installation_point_id`,  cameras_st_partner.`installation_point_id`) AS installation_point_id\n",
    "\tFROM db1.complaints_st_partner_ch AS com_s_p\n",
    "\tLEFT JOIN cameras_st_partner \n",
    "\t\tON cameras_st_partner.report_date = com_s_p.report_date \n",
    "\t\tAND cameras_st_partner.camera_uuid = com_s_p.device_uuid\n",
    "\tLEFT JOIN intercoms_st_partner \n",
    "\t\tON intercoms_st_partner.report_date = com_s_p.report_date \n",
    "\t\tAND intercoms_st_partner.intercom_uuid = com_s_p.device_uuid\n",
    "\t\t) AS com_s_p\n",
    "\tLEFT JOIN db1.t_all_installetion_points AS all_in_p\n",
    "\t\tON all_in_p.report_date = com_s_p.report_date\n",
    "\t\tAND all_in_p.installation_point_id = com_s_p.installation_point_id\n",
    "\tLEFT JOIN companies \n",
    "\t\tON companies.report_date = all_in_p.report_date\n",
    "\t\tAND companies.parent_uuid = all_in_p.parent_uuid\n",
    "    \"\"\"\n",
    "\n",
    "ch.query_run(query_text)"
   ]
  },
  {
   "cell_type": "markdown",
   "id": "a8fbdbda",
   "metadata": {},
   "source": [
    "___\n",
    "## Tools\n",
    "___\n",
    "### query\n"
   ]
  },
  {
   "cell_type": "code",
   "execution_count": 9,
   "id": "0b267d4a",
   "metadata": {},
   "outputs": [
    {
     "data": {
      "text/html": [
       "<div><style>\n",
       ".dataframe > thead > tr,\n",
       ".dataframe > tbody > tr {\n",
       "  text-align: right;\n",
       "  white-space: pre-wrap;\n",
       "}\n",
       "</style>\n",
       "<small>shape: (10, 25)</small><table border=\"1\" class=\"dataframe\"><thead><tr><th>report_date</th><th>issue_id</th><th>src_type</th><th>src_uuid</th><th>src_address_uuid</th><th>src_address_type</th><th>device_uuid</th><th>device_type</th><th>err_code</th><th>err_src</th><th>err_func</th><th>aasm_state</th><th>process_error</th><th>actor_type</th><th>actor_identifier</th><th>created_at</th><th>updated_at</th><th>installation_point_id</th><th>city</th><th>full_address</th><th>region</th><th>parent_uuid</th><th>partner_lk</th><th>tin</th><th>company_name</th></tr><tr><td>date</td><td>str</td><td>str</td><td>str</td><td>str</td><td>str</td><td>str</td><td>str</td><td>str</td><td>str</td><td>str</td><td>str</td><td>str</td><td>str</td><td>str</td><td>datetime[ns]</td><td>datetime[ns]</td><td>i64</td><td>str</td><td>str</td><td>str</td><td>str</td><td>str</td><td>str</td><td>str</td></tr></thead><tbody><tr><td>2025-08-18</td><td>&quot;&quot;</td><td>&quot;citizen&quot;</td><td>&quot;fffe3d4f-f9de-45f4-aa84-369bb5…</td><td>&quot;2e3e3155-99b9-4499-b9d8-34f04b…</td><td>&quot;entry&quot;</td><td>&quot;41a7be03-5308-48a8-8bef-837054…</td><td>&quot;camera&quot;</td><td>&quot;video&quot;</td><td>&quot;MOB&quot;</td><td>&quot;&quot;</td><td>&quot;processed&quot;</td><td>&quot;&quot;</td><td>&quot;auto&quot;</td><td>&quot;&quot;</td><td>2025-08-18 05:47:42</td><td>2025-08-18 05:47:43</td><td>118192</td><td>&quot;Актобе&quot;</td><td>&quot;Казахстан, Актюбинская область…</td><td>&quot;Актюбинская область&quot;</td><td>&quot;53aa1881-d852-4c7c-b1e9-77f945…</td><td>&quot;120377&quot;</td><td>&quot;&quot;</td><td>&quot;ТОО ЦИФРАЛ ЦТО&quot;</td></tr><tr><td>2025-08-18</td><td>&quot;&quot;</td><td>&quot;citizen&quot;</td><td>&quot;fffe3d4f-f9de-45f4-aa84-369bb5…</td><td>&quot;2e3e3155-99b9-4499-b9d8-34f04b…</td><td>&quot;entry&quot;</td><td>&quot;41a7be03-5308-48a8-8bef-837054…</td><td>&quot;camera&quot;</td><td>&quot;video&quot;</td><td>&quot;MOB&quot;</td><td>&quot;&quot;</td><td>&quot;processed&quot;</td><td>&quot;&quot;</td><td>&quot;auto&quot;</td><td>&quot;&quot;</td><td>2025-08-18 05:47:42</td><td>2025-08-18 05:47:43</td><td>118192</td><td>&quot;Актобе&quot;</td><td>&quot;Казахстан, Актюбинская область…</td><td>&quot;Актюбинская область&quot;</td><td>&quot;53aa1881-d852-4c7c-b1e9-77f945…</td><td>&quot;120377&quot;</td><td>&quot;&quot;</td><td>&quot;ТОО ЦИФРАЛ ЦТО&quot;</td></tr><tr><td>2025-08-18</td><td>&quot;&quot;</td><td>&quot;citizen&quot;</td><td>&quot;fffe3d4f-f9de-45f4-aa84-369bb5…</td><td>&quot;2e3e3155-99b9-4499-b9d8-34f04b…</td><td>&quot;entry&quot;</td><td>&quot;41a7be03-5308-48a8-8bef-837054…</td><td>&quot;camera&quot;</td><td>&quot;video&quot;</td><td>&quot;MOB&quot;</td><td>&quot;&quot;</td><td>&quot;processed&quot;</td><td>&quot;&quot;</td><td>&quot;auto&quot;</td><td>&quot;&quot;</td><td>2025-08-18 05:47:42</td><td>2025-08-18 05:47:43</td><td>118192</td><td>&quot;Актобе&quot;</td><td>&quot;Казахстан, Актюбинская область…</td><td>&quot;Актюбинская область&quot;</td><td>&quot;53aa1881-d852-4c7c-b1e9-77f945…</td><td>&quot;120377&quot;</td><td>&quot;&quot;</td><td>&quot;ТОО ЦИФРАЛ ЦТО&quot;</td></tr><tr><td>2025-08-18</td><td>&quot;&quot;</td><td>&quot;citizen&quot;</td><td>&quot;fffe3d4f-f9de-45f4-aa84-369bb5…</td><td>&quot;2e3e3155-99b9-4499-b9d8-34f04b…</td><td>&quot;entry&quot;</td><td>&quot;41a7be03-5308-48a8-8bef-837054…</td><td>&quot;camera&quot;</td><td>&quot;video&quot;</td><td>&quot;MOB&quot;</td><td>&quot;&quot;</td><td>&quot;processed&quot;</td><td>&quot;&quot;</td><td>&quot;auto&quot;</td><td>&quot;&quot;</td><td>2025-08-18 05:47:42</td><td>2025-08-18 05:47:43</td><td>118192</td><td>&quot;Актобе&quot;</td><td>&quot;Казахстан, Актюбинская область…</td><td>&quot;Актюбинская область&quot;</td><td>&quot;53aa1881-d852-4c7c-b1e9-77f945…</td><td>&quot;120377&quot;</td><td>&quot;&quot;</td><td>&quot;ТОО ЦИФРАЛ ЦТО&quot;</td></tr><tr><td>2025-08-18</td><td>&quot;&quot;</td><td>&quot;citizen&quot;</td><td>&quot;fffe3d4f-f9de-45f4-aa84-369bb5…</td><td>&quot;2e3e3155-99b9-4499-b9d8-34f04b…</td><td>&quot;entry&quot;</td><td>&quot;41a7be03-5308-48a8-8bef-837054…</td><td>&quot;camera&quot;</td><td>&quot;video&quot;</td><td>&quot;MOB&quot;</td><td>&quot;&quot;</td><td>&quot;processed&quot;</td><td>&quot;&quot;</td><td>&quot;auto&quot;</td><td>&quot;&quot;</td><td>2025-08-18 05:47:42</td><td>2025-08-18 05:47:43</td><td>118192</td><td>&quot;Актобе&quot;</td><td>&quot;Казахстан, Актюбинская область…</td><td>&quot;Актюбинская область&quot;</td><td>&quot;53aa1881-d852-4c7c-b1e9-77f945…</td><td>&quot;120377&quot;</td><td>&quot;&quot;</td><td>&quot;ТОО ЦИФРАЛ ЦТО&quot;</td></tr><tr><td>2025-08-18</td><td>&quot;&quot;</td><td>&quot;citizen&quot;</td><td>&quot;fffd6dc4-cefd-4a31-ad4b-d0e0a8…</td><td>&quot;ee19d75a-5629-4628-98fd-1e2070…</td><td>&quot;entry&quot;</td><td>&quot;2fd57153-82d7-40ab-a3e0-76083f…</td><td>&quot;camera&quot;</td><td>&quot;video&quot;</td><td>&quot;MOB&quot;</td><td>&quot;&quot;</td><td>&quot;processed&quot;</td><td>&quot;&quot;</td><td>&quot;auto&quot;</td><td>&quot;&quot;</td><td>2025-08-18 01:05:12</td><td>2025-08-18 01:05:12</td><td>611298</td><td>&quot;Хабаровск&quot;</td><td>&quot;Россия, Хабаровский край, горо…</td><td>&quot;Хабаровский край&quot;</td><td>&quot;f7214b4e-3ee2-4df1-aa25-35cfbf…</td><td>&quot;135806&quot;</td><td>&quot;2723127644&quot;</td><td>&quot;ООО Одеон М ПРО&quot;</td></tr><tr><td>2025-08-18</td><td>&quot;&quot;</td><td>&quot;citizen&quot;</td><td>&quot;fff56755-fe95-4490-849a-a3c777…</td><td>&quot;9dea3370-97da-4bfb-824d-5bb7ec…</td><td>&quot;entry&quot;</td><td>&quot;4d6ee29d-5170-4ec8-a93f-8effd5…</td><td>&quot;camera&quot;</td><td>&quot;video&quot;</td><td>&quot;MOB&quot;</td><td>&quot;&quot;</td><td>&quot;processed&quot;</td><td>&quot;&quot;</td><td>&quot;auto&quot;</td><td>&quot;&quot;</td><td>2025-08-18 15:54:02</td><td>2025-08-18 15:54:03</td><td>109520</td><td>&quot;Калининград&quot;</td><td>&quot;Россия, Калининградская област…</td><td>&quot;Калининградская область&quot;</td><td>&quot;a3462024-cc57-40ca-b547-093118…</td><td>&quot;120345&quot;</td><td>&quot;&quot;</td><td>&quot;Цифрал Сервис УК&quot;</td></tr><tr><td>2025-08-18</td><td>&quot;&quot;</td><td>&quot;citizen&quot;</td><td>&quot;fff54046-b253-4e05-999c-122daa…</td><td>&quot;15d5fee0-b2a9-44d3-a8f8-649e8d…</td><td>&quot;entry&quot;</td><td>&quot;c8bc373f-bb04-4e3b-afbd-579789…</td><td>&quot;camera&quot;</td><td>&quot;video&quot;</td><td>&quot;MOB&quot;</td><td>&quot;&quot;</td><td>&quot;processed&quot;</td><td>&quot;&quot;</td><td>&quot;auto&quot;</td><td>&quot;&quot;</td><td>2025-08-18 08:23:34</td><td>2025-08-18 08:23:35</td><td>761257</td><td>&quot;Курган&quot;</td><td>&quot;Россия, Курганская область, го…</td><td>&quot;Курганская область&quot;</td><td>&quot;51217a94-6061-4205-980b-274872…</td><td>&quot;132902&quot;</td><td>&quot;667219732450&quot;</td><td>&quot;ИП Коровин А.В. ПРО&quot;</td></tr><tr><td>2025-08-18</td><td>&quot;&quot;</td><td>&quot;citizen&quot;</td><td>&quot;fff4bdab-a83c-4977-8acd-255b39…</td><td>&quot;0c2d020d-b502-42df-99ce-7b54aa…</td><td>&quot;entry&quot;</td><td>&quot;3dad7e4c-1e0d-4634-8462-322a55…</td><td>&quot;camera&quot;</td><td>&quot;video&quot;</td><td>&quot;MOB&quot;</td><td>&quot;&quot;</td><td>&quot;processed&quot;</td><td>&quot;&quot;</td><td>&quot;auto&quot;</td><td>&quot;&quot;</td><td>2025-08-18 08:27:30</td><td>2025-08-18 08:27:30</td><td>91004</td><td>&quot;Киров&quot;</td><td>&quot;Россия, Кировская область, гор…</td><td>&quot;Кировская область&quot;</td><td>&quot;3c138ce1-8a01-467d-8cbb-e6066b…</td><td>&quot;121833&quot;</td><td>&quot;4345434743&quot;</td><td>&quot;ООО Добрыня ПРО&quot;</td></tr><tr><td>2025-08-18</td><td>&quot;&quot;</td><td>&quot;citizen&quot;</td><td>&quot;fff4bdab-a83c-4977-8acd-255b39…</td><td>&quot;0c2d020d-b502-42df-99ce-7b54aa…</td><td>&quot;entry&quot;</td><td>&quot;3dad7e4c-1e0d-4634-8462-322a55…</td><td>&quot;camera&quot;</td><td>&quot;video&quot;</td><td>&quot;MOB&quot;</td><td>&quot;&quot;</td><td>&quot;processed&quot;</td><td>&quot;&quot;</td><td>&quot;auto&quot;</td><td>&quot;&quot;</td><td>2025-08-18 08:27:30</td><td>2025-08-18 08:27:30</td><td>91004</td><td>&quot;Киров&quot;</td><td>&quot;Россия, Кировская область, гор…</td><td>&quot;Кировская область&quot;</td><td>&quot;3c138ce1-8a01-467d-8cbb-e6066b…</td><td>&quot;121833&quot;</td><td>&quot;4345434743&quot;</td><td>&quot;ООО Добрыня ПРО&quot;</td></tr></tbody></table></div>"
      ],
      "text/plain": [
       "shape: (10, 25)\n",
       "┌────────────┬──────────┬──────────┬───────────┬───┬───────────┬───────────┬───────────┬───────────┐\n",
       "│ report_dat ┆ issue_id ┆ src_type ┆ src_uuid  ┆ … ┆ parent_uu ┆ partner_l ┆ tin       ┆ company_n │\n",
       "│ e          ┆ ---      ┆ ---      ┆ ---       ┆   ┆ id        ┆ k         ┆ ---       ┆ ame       │\n",
       "│ ---        ┆ str      ┆ str      ┆ str       ┆   ┆ ---       ┆ ---       ┆ str       ┆ ---       │\n",
       "│ date       ┆          ┆          ┆           ┆   ┆ str       ┆ str       ┆           ┆ str       │\n",
       "╞════════════╪══════════╪══════════╪═══════════╪═══╪═══════════╪═══════════╪═══════════╪═══════════╡\n",
       "│ 2025-08-18 ┆          ┆ citizen  ┆ fffe3d4f- ┆ … ┆ 53aa1881- ┆ 120377    ┆           ┆ ТОО       │\n",
       "│            ┆          ┆          ┆ f9de-45f4 ┆   ┆ d852-4c7c ┆           ┆           ┆ ЦИФРАЛ    │\n",
       "│            ┆          ┆          ┆ -aa84-369 ┆   ┆ -b1e9-77f ┆           ┆           ┆ ЦТО       │\n",
       "│            ┆          ┆          ┆ bb5…      ┆   ┆ 945…      ┆           ┆           ┆           │\n",
       "│ 2025-08-18 ┆          ┆ citizen  ┆ fffe3d4f- ┆ … ┆ 53aa1881- ┆ 120377    ┆           ┆ ТОО       │\n",
       "│            ┆          ┆          ┆ f9de-45f4 ┆   ┆ d852-4c7c ┆           ┆           ┆ ЦИФРАЛ    │\n",
       "│            ┆          ┆          ┆ -aa84-369 ┆   ┆ -b1e9-77f ┆           ┆           ┆ ЦТО       │\n",
       "│            ┆          ┆          ┆ bb5…      ┆   ┆ 945…      ┆           ┆           ┆           │\n",
       "│ 2025-08-18 ┆          ┆ citizen  ┆ fffe3d4f- ┆ … ┆ 53aa1881- ┆ 120377    ┆           ┆ ТОО       │\n",
       "│            ┆          ┆          ┆ f9de-45f4 ┆   ┆ d852-4c7c ┆           ┆           ┆ ЦИФРАЛ    │\n",
       "│            ┆          ┆          ┆ -aa84-369 ┆   ┆ -b1e9-77f ┆           ┆           ┆ ЦТО       │\n",
       "│            ┆          ┆          ┆ bb5…      ┆   ┆ 945…      ┆           ┆           ┆           │\n",
       "│ 2025-08-18 ┆          ┆ citizen  ┆ fffe3d4f- ┆ … ┆ 53aa1881- ┆ 120377    ┆           ┆ ТОО       │\n",
       "│            ┆          ┆          ┆ f9de-45f4 ┆   ┆ d852-4c7c ┆           ┆           ┆ ЦИФРАЛ    │\n",
       "│            ┆          ┆          ┆ -aa84-369 ┆   ┆ -b1e9-77f ┆           ┆           ┆ ЦТО       │\n",
       "│            ┆          ┆          ┆ bb5…      ┆   ┆ 945…      ┆           ┆           ┆           │\n",
       "│ 2025-08-18 ┆          ┆ citizen  ┆ fffe3d4f- ┆ … ┆ 53aa1881- ┆ 120377    ┆           ┆ ТОО       │\n",
       "│            ┆          ┆          ┆ f9de-45f4 ┆   ┆ d852-4c7c ┆           ┆           ┆ ЦИФРАЛ    │\n",
       "│            ┆          ┆          ┆ -aa84-369 ┆   ┆ -b1e9-77f ┆           ┆           ┆ ЦТО       │\n",
       "│            ┆          ┆          ┆ bb5…      ┆   ┆ 945…      ┆           ┆           ┆           │\n",
       "│ 2025-08-18 ┆          ┆ citizen  ┆ fffd6dc4- ┆ … ┆ f7214b4e- ┆ 135806    ┆ 272312764 ┆ ООО Одеон │\n",
       "│            ┆          ┆          ┆ cefd-4a31 ┆   ┆ 3ee2-4df1 ┆           ┆ 4         ┆ М ПРО     │\n",
       "│            ┆          ┆          ┆ -ad4b-d0e ┆   ┆ -aa25-35c ┆           ┆           ┆           │\n",
       "│            ┆          ┆          ┆ 0a8…      ┆   ┆ fbf…      ┆           ┆           ┆           │\n",
       "│ 2025-08-18 ┆          ┆ citizen  ┆ fff56755- ┆ … ┆ a3462024- ┆ 120345    ┆           ┆ Цифрал    │\n",
       "│            ┆          ┆          ┆ fe95-4490 ┆   ┆ cc57-40ca ┆           ┆           ┆ Сервис УК │\n",
       "│            ┆          ┆          ┆ -849a-a3c ┆   ┆ -b547-093 ┆           ┆           ┆           │\n",
       "│            ┆          ┆          ┆ 777…      ┆   ┆ 118…      ┆           ┆           ┆           │\n",
       "│ 2025-08-18 ┆          ┆ citizen  ┆ fff54046- ┆ … ┆ 51217a94- ┆ 132902    ┆ 667219732 ┆ ИП        │\n",
       "│            ┆          ┆          ┆ b253-4e05 ┆   ┆ 6061-4205 ┆           ┆ 450       ┆ Коровин   │\n",
       "│            ┆          ┆          ┆ -999c-122 ┆   ┆ -980b-274 ┆           ┆           ┆ А.В. ПРО  │\n",
       "│            ┆          ┆          ┆ daa…      ┆   ┆ 872…      ┆           ┆           ┆           │\n",
       "│ 2025-08-18 ┆          ┆ citizen  ┆ fff4bdab- ┆ … ┆ 3c138ce1- ┆ 121833    ┆ 434543474 ┆ ООО       │\n",
       "│            ┆          ┆          ┆ a83c-4977 ┆   ┆ 8a01-467d ┆           ┆ 3         ┆ Добрыня   │\n",
       "│            ┆          ┆          ┆ -8acd-255 ┆   ┆ -8cbb-e60 ┆           ┆           ┆ ПРО       │\n",
       "│            ┆          ┆          ┆ b39…      ┆   ┆ 66b…      ┆           ┆           ┆           │\n",
       "│ 2025-08-18 ┆          ┆ citizen  ┆ fff4bdab- ┆ … ┆ 3c138ce1- ┆ 121833    ┆ 434543474 ┆ ООО       │\n",
       "│            ┆          ┆          ┆ a83c-4977 ┆   ┆ 8a01-467d ┆           ┆ 3         ┆ Добрыня   │\n",
       "│            ┆          ┆          ┆ -8acd-255 ┆   ┆ -8cbb-e60 ┆           ┆           ┆ ПРО       │\n",
       "│            ┆          ┆          ┆ b39…      ┆   ┆ 66b…      ┆           ┆           ┆           │\n",
       "└────────────┴──────────┴──────────┴───────────┴───┴───────────┴───────────┴───────────┴───────────┘"
      ]
     },
     "execution_count": 9,
     "metadata": {},
     "output_type": "execute_result"
    }
   ],
   "source": [
    "query_text = \"\"\"--sql\n",
    "    SELECT\n",
    "        *\n",
    "    FROM db1.t_complaints_st_partner\n",
    "    ORDER BY report_date DESC\n",
    "    limit 10\n",
    "    \"\"\"\n",
    "\n",
    "ch.query_run(query_text)\n"
   ]
  },
  {
   "cell_type": "markdown",
   "id": "d454c50d",
   "metadata": {},
   "source": [
    "### delete a part\n"
   ]
  },
  {
   "cell_type": "code",
   "execution_count": null,
   "id": "c5132e17",
   "metadata": {},
   "outputs": [],
   "source": [
    "query_text = \"\"\"--sql\n",
    "    ALTER TABLE db1.t_complaints_st_partner DELETE WHERE report_date = '2025-07-17'\n",
    "    \"\"\"\n",
    "\n",
    "ch.query_run(query_text)\n"
   ]
  },
  {
   "cell_type": "markdown",
   "id": "f27b3c96",
   "metadata": {},
   "source": [
    "### drop mv"
   ]
  },
  {
   "cell_type": "code",
   "execution_count": 3,
   "id": "2aa23f4b",
   "metadata": {
    "lines_to_next_cell": 2
   },
   "outputs": [
    {
     "data": {
      "text/html": [
       "<div><style>\n",
       ".dataframe > thead > tr,\n",
       ".dataframe > tbody > tr {\n",
       "  text-align: right;\n",
       "  white-space: pre-wrap;\n",
       "}\n",
       "</style>\n",
       "<small>shape: (0, 0)</small><table border=\"1\" class=\"dataframe\"><thead><tr></tr><tr></tr></thead><tbody></tbody></table></div>"
      ],
      "text/plain": [
       "shape: (0, 0)\n",
       "┌┐\n",
       "╞╡\n",
       "└┘"
      ]
     },
     "execution_count": 3,
     "metadata": {},
     "output_type": "execute_result"
    }
   ],
   "source": [
    "query_text = \"\"\"--sql\n",
    "    DROP TABLE db1.t_complaints_st_partner_mv\n",
    "    \"\"\"\n",
    "\n",
    "ch.query_run(query_text)"
   ]
  },
  {
   "cell_type": "markdown",
   "id": "14f3334d",
   "metadata": {},
   "source": [
    "### drop ch"
   ]
  },
  {
   "cell_type": "code",
   "execution_count": 3,
   "id": "28fd7aa0",
   "metadata": {},
   "outputs": [
    {
     "data": {
      "text/html": [
       "<div><style>\n",
       ".dataframe > thead > tr,\n",
       ".dataframe > tbody > tr {\n",
       "  text-align: right;\n",
       "  white-space: pre-wrap;\n",
       "}\n",
       "</style>\n",
       "<small>shape: (0, 0)</small><table border=\"1\" class=\"dataframe\"><thead><tr></tr><tr></tr></thead><tbody></tbody></table></div>"
      ],
      "text/plain": [
       "shape: (0, 0)\n",
       "┌┐\n",
       "╞╡\n",
       "└┘"
      ]
     },
     "execution_count": 3,
     "metadata": {},
     "output_type": "execute_result"
    }
   ],
   "source": [
    "query_text = \"\"\"--sql\n",
    "    DROP TABLE db1.t_complaints_st_partner\n",
    "    \"\"\"\n",
    "\n",
    "ch.query_run(query_text)"
   ]
  },
  {
   "cell_type": "markdown",
   "id": "8e85f950",
   "metadata": {},
   "source": [
    "### refresh mv"
   ]
  },
  {
   "cell_type": "code",
   "execution_count": 16,
   "id": "8df08f49",
   "metadata": {},
   "outputs": [
    {
     "data": {
      "text/html": [
       "<div><style>\n",
       ".dataframe > thead > tr,\n",
       ".dataframe > tbody > tr {\n",
       "  text-align: right;\n",
       "  white-space: pre-wrap;\n",
       "}\n",
       "</style>\n",
       "<small>shape: (1, 2)</small><table border=\"1\" class=\"dataframe\"><thead><tr><th>elapsed_ns</th><th>query_id</th></tr><tr><td>i64</td><td>str</td></tr></thead><tbody><tr><td>897986</td><td>&quot;58d516b8-81ce-47ef-ab2c-c0196a…</td></tr></tbody></table></div>"
      ],
      "text/plain": [
       "shape: (1, 2)\n",
       "┌────────────┬─────────────────────────────────┐\n",
       "│ elapsed_ns ┆ query_id                        │\n",
       "│ ---        ┆ ---                             │\n",
       "│ i64        ┆ str                             │\n",
       "╞════════════╪═════════════════════════════════╡\n",
       "│ 897986     ┆ 58d516b8-81ce-47ef-ab2c-c0196a… │\n",
       "└────────────┴─────────────────────────────────┘"
      ]
     },
     "execution_count": 16,
     "metadata": {},
     "output_type": "execute_result"
    }
   ],
   "source": [
    "query_text = \"\"\"\n",
    "SYSTEM REFRESH VIEW db1.t_complaints_st_partner_mv\n",
    "\"\"\"\n",
    "\n",
    "ch.query_run(query_text)"
   ]
  }
 ],
 "metadata": {
  "jupytext": {
   "formats": "ipynb,md"
  },
  "kernelspec": {
   "display_name": "myenv",
   "language": "python",
   "name": "python3"
  },
  "language_info": {
   "codemirror_mode": {
    "name": "ipython",
    "version": 3
   },
   "file_extension": ".py",
   "mimetype": "text/x-python",
   "name": "python",
   "nbconvert_exporter": "python",
   "pygments_lexer": "ipython3",
   "version": "3.12.11"
  }
 },
 "nbformat": 4,
 "nbformat_minor": 5
}

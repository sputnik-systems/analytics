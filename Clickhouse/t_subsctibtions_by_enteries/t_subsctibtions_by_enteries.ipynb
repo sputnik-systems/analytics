{
 "cells": [
  {
   "cell_type": "markdown",
   "id": "2379772b",
   "metadata": {},
   "source": [
    "## Start"
   ]
  },
  {
   "cell_type": "code",
   "execution_count": 12,
   "id": "494db283",
   "metadata": {},
   "outputs": [],
   "source": [
    "import clickhouse_connect\n",
    "import datetime\n",
    "import os\n",
    "import pytz\n",
    "import pandas as pd\n",
    "from dateutil.relativedelta import relativedelta\n",
    "from dotenv import load_dotenv\n",
    "\n",
    "import sys\n",
    "sys.path.append('/home/boris/Documents/Work/analytics/Clickhouse')\n",
    "from clickhouse_client import ClickHouse_client\n",
    "ch = ClickHouse_client()\n",
    "pd.set_option('display.max_rows', 1000)"
   ]
  },
  {
   "cell_type": "markdown",
   "id": "90df1d71",
   "metadata": {},
   "source": [
    "___\n",
    "## Tags: #Tables\n",
    "\n",
    "# Links:\n",
    "\n",
    "[[installation_point_st_partner_ch]]\n",
    "\n",
    "[[entries_installation_points_dir_partner_ch]]\n",
    "\n",
    "[[t_subscribed_citizen_id]]\n",
    "\n",
    "[[companies_st_partner_ch]]\n",
    "\n",
    "[[companies_dir_partner_ch]]"
   ]
  },
  {
   "cell_type": "code",
   "execution_count": 3,
   "id": "510874c2",
   "metadata": {},
   "outputs": [
    {
     "data": {
      "text/html": [
       "<div>\n",
       "<style scoped>\n",
       "    .dataframe tbody tr th:only-of-type {\n",
       "        vertical-align: middle;\n",
       "    }\n",
       "\n",
       "    .dataframe tbody tr th {\n",
       "        vertical-align: top;\n",
       "    }\n",
       "\n",
       "    .dataframe thead th {\n",
       "        text-align: right;\n",
       "    }\n",
       "</style>\n",
       "<table border=\"1\" class=\"dataframe\">\n",
       "  <thead>\n",
       "    <tr style=\"text-align: right;\">\n",
       "      <th></th>\n",
       "    </tr>\n",
       "  </thead>\n",
       "  <tbody>\n",
       "  </tbody>\n",
       "</table>\n",
       "</div>"
      ],
      "text/plain": [
       "Empty DataFrame\n",
       "Columns: []\n",
       "Index: []"
      ]
     },
     "execution_count": 3,
     "metadata": {},
     "output_type": "execute_result"
    }
   ],
   "source": [
    "query_text = \"\"\"--sql\n",
    "    CREATE TABLE db1.t_subsctibtions_by_enteries \n",
    "    (\n",
    "        `report_date` Date,\n",
    "        `full_address` String,\n",
    "        `city` String,\n",
    "        `installation_point_id` Int64,\n",
    "        `flats_count` Int16,\n",
    "        `flats_count_range` Int16,\n",
    "        `address_uuid` String,\n",
    "        `partner_uuid` String,\n",
    "        `subscribed_citizen_id_count` UInt64,\n",
    "        `tariff_full` String,\n",
    "        `company_name` String,\n",
    "        `tin` String,\n",
    "        `partner_lk` String,\n",
    "        `subscribtion_rate` Float64,\n",
    "        `subscribtion_rate_range` Float64\n",
    "    )\n",
    "    ENGINE = MergeTree()\n",
    "    ORDER BY report_date\n",
    "    \"\"\"\n",
    "ch.query_run(query_text)\n"
   ]
  },
  {
   "cell_type": "code",
   "execution_count": 7,
   "id": "8c8e3a2f",
   "metadata": {},
   "outputs": [
    {
     "data": {
      "text/html": [
       "<div>\n",
       "<style scoped>\n",
       "    .dataframe tbody tr th:only-of-type {\n",
       "        vertical-align: middle;\n",
       "    }\n",
       "\n",
       "    .dataframe tbody tr th {\n",
       "        vertical-align: top;\n",
       "    }\n",
       "\n",
       "    .dataframe thead th {\n",
       "        text-align: right;\n",
       "    }\n",
       "</style>\n",
       "<table border=\"1\" class=\"dataframe\">\n",
       "  <thead>\n",
       "    <tr style=\"text-align: right;\">\n",
       "      <th></th>\n",
       "    </tr>\n",
       "  </thead>\n",
       "  <tbody>\n",
       "  </tbody>\n",
       "</table>\n",
       "</div>"
      ],
      "text/plain": [
       "Empty DataFrame\n",
       "Columns: []\n",
       "Index: []"
      ]
     },
     "execution_count": 7,
     "metadata": {},
     "output_type": "execute_result"
    }
   ],
   "source": [
    "query_text = \"\"\"--sql\n",
    "CREATE MATERIALIZED VIEW db1.t_subsctibtions_by_enteries_mv\n",
    "REFRESH EVERY 1 DAY OFFSET 5 HOUR 50 MINUTE TO db1.t_subsctibtions_by_enteries AS \n",
    "WITH t_entries AS (SELECT\n",
    "    report_date,\n",
    "    full_address,\n",
    "    city,\n",
    "    installation_point_id,\n",
    "    flats_count,\n",
    "    flats_count_full AS flats_count_range,\n",
    "    address_uuid,\n",
    "    partner_uuid\n",
    "FROM installation_point_st_partner_ch AS inst_st\n",
    "LEFT JOIN entries_installation_points_dir_partner_ch using(installation_point_id)\n",
    "),\n",
    "t_subscribed AS(\n",
    "SELECT\n",
    "    report_date,\n",
    "    address_uuid,\n",
    "    subscribed_citizen_id AS subscribed_citizen_id_count\n",
    "FROM t_subscribed_citizen_id\n",
    "),\n",
    "t_companies AS(\n",
    "SELECT\n",
    "    report_date,\n",
    "    c_st.partner_uuid AS partner_uuid,\n",
    "    tariff_full,\n",
    "    company_name,\n",
    "    tin,\n",
    "    partner_lk\n",
    "FROM companies_st_partner_ch as c_st\n",
    "LEFT JOIN companies_dir_partner_ch using(partner_uuid)\n",
    ")\n",
    "--\n",
    "SELECT\n",
    "    t_entries.report_date AS report_date,\n",
    "    full_address,\n",
    "    city,\n",
    "    installation_point_id,\n",
    "    flats_count,\n",
    "    flats_count_range,\n",
    "    t_entries.address_uuid AS address_uuid,\n",
    "    t_entries.partner_uuid AS partner_uuid,\n",
    "    subscribed_citizen_id_count,\n",
    "    tariff_full,\n",
    "    company_name,\n",
    "    tin,\n",
    "    partner_lk,\n",
    "    subscribed_citizen_id_count/flats_count*100 AS subscribtion_rate,\n",
    "    subscribed_citizen_id_count/flats_count_range*100 AS subscribtion_rate_range\n",
    "FROM t_entries\n",
    "LEFT JOIN t_subscribed\n",
    "    ON t_subscribed.report_date = t_entries.report_date\n",
    "    AND t_subscribed.address_uuid = t_entries.address_uuid\n",
    "LEFT JOIN t_companies\n",
    "    ON t_companies.report_date = t_entries.report_date\n",
    "    AND t_companies.partner_uuid = t_entries.partner_uuid\n",
    "ORDER BY report_date DESC\n",
    "\t\"\"\"\n",
    "ch.query_run(query_text)"
   ]
  },
  {
   "cell_type": "code",
   "execution_count": 13,
   "id": "62098529",
   "metadata": {},
   "outputs": [
    {
     "data": {
      "text/html": [
       "<div>\n",
       "<style scoped>\n",
       "    .dataframe tbody tr th:only-of-type {\n",
       "        vertical-align: middle;\n",
       "    }\n",
       "\n",
       "    .dataframe tbody tr th {\n",
       "        vertical-align: top;\n",
       "    }\n",
       "\n",
       "    .dataframe thead th {\n",
       "        text-align: right;\n",
       "    }\n",
       "</style>\n",
       "<table border=\"1\" class=\"dataframe\">\n",
       "  <thead>\n",
       "    <tr style=\"text-align: right;\">\n",
       "      <th></th>\n",
       "      <th>report_date</th>\n",
       "      <th>sum(subscribed_citizen_id_count)</th>\n",
       "    </tr>\n",
       "  </thead>\n",
       "  <tbody>\n",
       "    <tr>\n",
       "      <th>0</th>\n",
       "      <td>2025-09-10</td>\n",
       "      <td>0</td>\n",
       "    </tr>\n",
       "    <tr>\n",
       "      <th>1</th>\n",
       "      <td>2025-09-09</td>\n",
       "      <td>96013</td>\n",
       "    </tr>\n",
       "    <tr>\n",
       "      <th>2</th>\n",
       "      <td>2025-09-08</td>\n",
       "      <td>95898</td>\n",
       "    </tr>\n",
       "    <tr>\n",
       "      <th>3</th>\n",
       "      <td>2025-09-07</td>\n",
       "      <td>95788</td>\n",
       "    </tr>\n",
       "    <tr>\n",
       "      <th>4</th>\n",
       "      <td>2025-09-06</td>\n",
       "      <td>95542</td>\n",
       "    </tr>\n",
       "    <tr>\n",
       "      <th>5</th>\n",
       "      <td>2025-09-05</td>\n",
       "      <td>95429</td>\n",
       "    </tr>\n",
       "    <tr>\n",
       "      <th>6</th>\n",
       "      <td>2025-09-04</td>\n",
       "      <td>95194</td>\n",
       "    </tr>\n",
       "    <tr>\n",
       "      <th>7</th>\n",
       "      <td>2025-09-03</td>\n",
       "      <td>95123</td>\n",
       "    </tr>\n",
       "    <tr>\n",
       "      <th>8</th>\n",
       "      <td>2025-09-02</td>\n",
       "      <td>94946</td>\n",
       "    </tr>\n",
       "    <tr>\n",
       "      <th>9</th>\n",
       "      <td>2025-09-01</td>\n",
       "      <td>94813</td>\n",
       "    </tr>\n",
       "  </tbody>\n",
       "</table>\n",
       "</div>"
      ],
      "text/plain": [
       "  report_date  sum(subscribed_citizen_id_count)\n",
       "0  2025-09-10                                 0\n",
       "1  2025-09-09                             96013\n",
       "2  2025-09-08                             95898\n",
       "3  2025-09-07                             95788\n",
       "4  2025-09-06                             95542\n",
       "5  2025-09-05                             95429\n",
       "6  2025-09-04                             95194\n",
       "7  2025-09-03                             95123\n",
       "8  2025-09-02                             94946\n",
       "9  2025-09-01                             94813"
      ]
     },
     "execution_count": 13,
     "metadata": {},
     "output_type": "execute_result"
    }
   ],
   "source": [
    "query_text = \"\"\"\n",
    "    SELECT\n",
    "        report_date,\n",
    "        sum(subscribed_citizen_id_count)\n",
    "    FROM db1.t_subsctibtions_by_enteries_mv\n",
    "    group by report_date\n",
    "    order by\n",
    "    report_date desc\n",
    "    LIMIT 10\n",
    "\n",
    "    \"\"\"\n",
    "ch.query_run(query_text)"
   ]
  },
  {
   "cell_type": "code",
   "execution_count": 11,
   "id": "39a5cae0",
   "metadata": {},
   "outputs": [
    {
     "data": {
      "text/html": [
       "<div>\n",
       "<style scoped>\n",
       "    .dataframe tbody tr th:only-of-type {\n",
       "        vertical-align: middle;\n",
       "    }\n",
       "\n",
       "    .dataframe tbody tr th {\n",
       "        vertical-align: top;\n",
       "    }\n",
       "\n",
       "    .dataframe thead th {\n",
       "        text-align: right;\n",
       "    }\n",
       "</style>\n",
       "<table border=\"1\" class=\"dataframe\">\n",
       "  <thead>\n",
       "    <tr style=\"text-align: right;\">\n",
       "      <th></th>\n",
       "      <th>report_date</th>\n",
       "      <th>count()</th>\n",
       "    </tr>\n",
       "  </thead>\n",
       "  <tbody>\n",
       "    <tr>\n",
       "      <th>0</th>\n",
       "      <td>2025-09-10</td>\n",
       "      <td>40188</td>\n",
       "    </tr>\n",
       "    <tr>\n",
       "      <th>1</th>\n",
       "      <td>2025-09-09</td>\n",
       "      <td>40169</td>\n",
       "    </tr>\n",
       "    <tr>\n",
       "      <th>2</th>\n",
       "      <td>2025-09-08</td>\n",
       "      <td>40139</td>\n",
       "    </tr>\n",
       "    <tr>\n",
       "      <th>3</th>\n",
       "      <td>2025-09-07</td>\n",
       "      <td>40103</td>\n",
       "    </tr>\n",
       "    <tr>\n",
       "      <th>4</th>\n",
       "      <td>2025-09-06</td>\n",
       "      <td>40103</td>\n",
       "    </tr>\n",
       "    <tr>\n",
       "      <th>5</th>\n",
       "      <td>2025-09-05</td>\n",
       "      <td>40102</td>\n",
       "    </tr>\n",
       "    <tr>\n",
       "      <th>6</th>\n",
       "      <td>2025-09-04</td>\n",
       "      <td>40067</td>\n",
       "    </tr>\n",
       "    <tr>\n",
       "      <th>7</th>\n",
       "      <td>2025-09-03</td>\n",
       "      <td>40048</td>\n",
       "    </tr>\n",
       "    <tr>\n",
       "      <th>8</th>\n",
       "      <td>2025-09-02</td>\n",
       "      <td>40019</td>\n",
       "    </tr>\n",
       "    <tr>\n",
       "      <th>9</th>\n",
       "      <td>2025-09-01</td>\n",
       "      <td>39989</td>\n",
       "    </tr>\n",
       "  </tbody>\n",
       "</table>\n",
       "</div>"
      ],
      "text/plain": [
       "  report_date  count()\n",
       "0  2025-09-10    40188\n",
       "1  2025-09-09    40169\n",
       "2  2025-09-08    40139\n",
       "3  2025-09-07    40103\n",
       "4  2025-09-06    40103\n",
       "5  2025-09-05    40102\n",
       "6  2025-09-04    40067\n",
       "7  2025-09-03    40048\n",
       "8  2025-09-02    40019\n",
       "9  2025-09-01    39989"
      ]
     },
     "execution_count": 11,
     "metadata": {},
     "output_type": "execute_result"
    }
   ],
   "source": [
    "query_text = \"\"\"\n",
    "    SELECT\n",
    "        report_date,\n",
    "        count(*)\n",
    "    FROM db1.t_subsctibtions_by_enteries\n",
    "    group by report_date\n",
    "    order by\n",
    "    report_date desc\n",
    "    LIMIT 10\n",
    "\n",
    "    \"\"\"\n",
    "ch.query_run(query_text)"
   ]
  },
  {
   "cell_type": "code",
   "execution_count": 4,
   "id": "3573b70a",
   "metadata": {},
   "outputs": [
    {
     "data": {
      "text/html": [
       "<div><style>\n",
       ".dataframe > thead > tr,\n",
       ".dataframe > tbody > tr {\n",
       "  text-align: right;\n",
       "  white-space: pre-wrap;\n",
       "}\n",
       "</style>\n",
       "<small>shape: (10, 2)</small><table border=\"1\" class=\"dataframe\"><thead><tr><th>report_date</th><th>sum(activated_citizen_id)</th></tr><tr><td>date</td><td>i64</td></tr></thead><tbody><tr><td>2025-09-07</td><td>0</td></tr><tr><td>2025-09-06</td><td>0</td></tr><tr><td>2025-09-05</td><td>0</td></tr><tr><td>2025-09-04</td><td>0</td></tr><tr><td>2025-09-03</td><td>0</td></tr><tr><td>2025-09-02</td><td>0</td></tr><tr><td>2025-09-01</td><td>0</td></tr><tr><td>2025-08-31</td><td>1367182</td></tr><tr><td>2025-08-30</td><td>1366164</td></tr><tr><td>2025-08-29</td><td>1365237</td></tr></tbody></table></div>"
      ],
      "text/plain": [
       "shape: (10, 2)\n",
       "┌─────────────┬───────────────────────────┐\n",
       "│ report_date ┆ sum(activated_citizen_id) │\n",
       "│ ---         ┆ ---                       │\n",
       "│ date        ┆ i64                       │\n",
       "╞═════════════╪═══════════════════════════╡\n",
       "│ 2025-09-07  ┆ 0                         │\n",
       "│ 2025-09-06  ┆ 0                         │\n",
       "│ 2025-09-05  ┆ 0                         │\n",
       "│ 2025-09-04  ┆ 0                         │\n",
       "│ 2025-09-03  ┆ 0                         │\n",
       "│ 2025-09-02  ┆ 0                         │\n",
       "│ 2025-09-01  ┆ 0                         │\n",
       "│ 2025-08-31  ┆ 1367182                   │\n",
       "│ 2025-08-30  ┆ 1366164                   │\n",
       "│ 2025-08-29  ┆ 1365237                   │\n",
       "└─────────────┴───────────────────────────┘"
      ]
     },
     "execution_count": 4,
     "metadata": {},
     "output_type": "execute_result"
    }
   ],
   "source": [
    "query_text = \"\"\"\n",
    "    SELECT\n",
    "        report_date,\n",
    "        sum(activated_citizen_id)\n",
    "    FROM db1.t_subscribtions_citizens_by_companies_and_cities_address_ch\n",
    "    group by report_date\n",
    "    order by\n",
    "    report_date desc\n",
    "    LIMIT 10\n",
    "\n",
    "    \"\"\"\n",
    "ch.query_run(query_text)"
   ]
  },
  {
   "cell_type": "code",
   "execution_count": null,
   "id": "e823217d",
   "metadata": {},
   "outputs": [
    {
     "data": {
      "text/html": [
       "<div><style>\n",
       ".dataframe > thead > tr,\n",
       ".dataframe > tbody > tr {\n",
       "  text-align: right;\n",
       "  white-space: pre-wrap;\n",
       "}\n",
       "</style>\n",
       "<small>shape: (1, 9)</small><table border=\"1\" class=\"dataframe\"><thead><tr><th>read_rows</th><th>read_bytes</th><th>written_rows</th><th>written_bytes</th><th>total_rows_to_read</th><th>result_rows</th><th>result_bytes</th><th>elapsed_ns</th><th>query_id</th></tr><tr><td>i64</td><td>i64</td><td>i64</td><td>i64</td><td>i64</td><td>i64</td><td>i64</td><td>i64</td><td>str</td></tr></thead><tbody><tr><td>0</td><td>0</td><td>0</td><td>0</td><td>0</td><td>0</td><td>0</td><td>885090</td><td>&quot;19c49245-3dc5-4f2a-8a43-596484…</td></tr></tbody></table></div>"
      ],
      "text/plain": [
       "shape: (1, 9)\n",
       "┌───────────┬───────────┬───────────┬───────────┬───┬───────────┬───────────┬───────────┬──────────┐\n",
       "│ read_rows ┆ read_byte ┆ written_r ┆ written_b ┆ … ┆ result_ro ┆ result_by ┆ elapsed_n ┆ query_id │\n",
       "│ ---       ┆ s         ┆ ows       ┆ ytes      ┆   ┆ ws        ┆ tes       ┆ s         ┆ ---      │\n",
       "│ i64       ┆ ---       ┆ ---       ┆ ---       ┆   ┆ ---       ┆ ---       ┆ ---       ┆ str      │\n",
       "│           ┆ i64       ┆ i64       ┆ i64       ┆   ┆ i64       ┆ i64       ┆ i64       ┆          │\n",
       "╞═══════════╪═══════════╪═══════════╪═══════════╪═══╪═══════════╪═══════════╪═══════════╪══════════╡\n",
       "│ 0         ┆ 0         ┆ 0         ┆ 0         ┆ … ┆ 0         ┆ 0         ┆ 885090    ┆ 19c49245 │\n",
       "│           ┆           ┆           ┆           ┆   ┆           ┆           ┆           ┆ -3dc5-4f │\n",
       "│           ┆           ┆           ┆           ┆   ┆           ┆           ┆           ┆ 2a-8a43- │\n",
       "│           ┆           ┆           ┆           ┆   ┆           ┆           ┆           ┆ 596484…  │\n",
       "└───────────┴───────────┴───────────┴───────────┴───┴───────────┴───────────┴───────────┴──────────┘"
      ]
     },
     "execution_count": 2,
     "metadata": {},
     "output_type": "execute_result"
    }
   ],
   "source": [
    "query_text = \"\"\"\n",
    "SYSTEM REFRESH VIEW db1.t_subsctibtions_by_enteries_mv\n",
    "\"\"\"\n",
    "\n",
    "ch.query_run(query_text)"
   ]
  },
  {
   "cell_type": "code",
   "execution_count": null,
   "id": "804763e1",
   "metadata": {},
   "outputs": [
    {
     "data": {
      "text/html": [
       "<div><style>\n",
       ".dataframe > thead > tr,\n",
       ".dataframe > tbody > tr {\n",
       "  text-align: right;\n",
       "  white-space: pre-wrap;\n",
       "}\n",
       "</style>\n",
       "<small>shape: (1, 9)</small><table border=\"1\" class=\"dataframe\"><thead><tr><th>read_rows</th><th>read_bytes</th><th>written_rows</th><th>written_bytes</th><th>total_rows_to_read</th><th>result_rows</th><th>result_bytes</th><th>elapsed_ns</th><th>query_id</th></tr><tr><td>i64</td><td>i64</td><td>i64</td><td>i64</td><td>i64</td><td>i64</td><td>i64</td><td>i64</td><td>str</td></tr></thead><tbody><tr><td>0</td><td>0</td><td>0</td><td>0</td><td>0</td><td>0</td><td>0</td><td>103057759</td><td>&quot;1f72e2d0-08ad-43c8-8159-887cf2…</td></tr></tbody></table></div>"
      ],
      "text/plain": [
       "shape: (1, 9)\n",
       "┌───────────┬───────────┬───────────┬───────────┬───┬───────────┬───────────┬───────────┬──────────┐\n",
       "│ read_rows ┆ read_byte ┆ written_r ┆ written_b ┆ … ┆ result_ro ┆ result_by ┆ elapsed_n ┆ query_id │\n",
       "│ ---       ┆ s         ┆ ows       ┆ ytes      ┆   ┆ ws        ┆ tes       ┆ s         ┆ ---      │\n",
       "│ i64       ┆ ---       ┆ ---       ┆ ---       ┆   ┆ ---       ┆ ---       ┆ ---       ┆ str      │\n",
       "│           ┆ i64       ┆ i64       ┆ i64       ┆   ┆ i64       ┆ i64       ┆ i64       ┆          │\n",
       "╞═══════════╪═══════════╪═══════════╪═══════════╪═══╪═══════════╪═══════════╪═══════════╪══════════╡\n",
       "│ 0         ┆ 0         ┆ 0         ┆ 0         ┆ … ┆ 0         ┆ 0         ┆ 103057759 ┆ 1f72e2d0 │\n",
       "│           ┆           ┆           ┆           ┆   ┆           ┆           ┆           ┆ -08ad-43 │\n",
       "│           ┆           ┆           ┆           ┆   ┆           ┆           ┆           ┆ c8-8159- │\n",
       "│           ┆           ┆           ┆           ┆   ┆           ┆           ┆           ┆ 887cf2…  │\n",
       "└───────────┴───────────┴───────────┴───────────┴───┴───────────┴───────────┴───────────┴──────────┘"
      ]
     },
     "execution_count": 90,
     "metadata": {},
     "output_type": "execute_result"
    }
   ],
   "source": [
    "query_text = \"\"\"\n",
    "    DROP TABLE db1.t_subsctibtions_by_enteries_mv\n",
    "    \"\"\"\n",
    "ch.query_run(query_text)"
   ]
  },
  {
   "cell_type": "code",
   "execution_count": null,
   "id": "81e980a3",
   "metadata": {},
   "outputs": [
    {
     "data": {
      "text/html": [
       "<div><style>\n",
       ".dataframe > thead > tr,\n",
       ".dataframe > tbody > tr {\n",
       "  text-align: right;\n",
       "  white-space: pre-wrap;\n",
       "}\n",
       "</style>\n",
       "<small>shape: (1, 9)</small><table border=\"1\" class=\"dataframe\"><thead><tr><th>read_rows</th><th>read_bytes</th><th>written_rows</th><th>written_bytes</th><th>total_rows_to_read</th><th>result_rows</th><th>result_bytes</th><th>elapsed_ns</th><th>query_id</th></tr><tr><td>i64</td><td>i64</td><td>i64</td><td>i64</td><td>i64</td><td>i64</td><td>i64</td><td>i64</td><td>str</td></tr></thead><tbody><tr><td>0</td><td>0</td><td>0</td><td>0</td><td>0</td><td>0</td><td>0</td><td>3292557</td><td>&quot;d644f4f7-97fb-4cea-93f2-872532…</td></tr></tbody></table></div>"
      ],
      "text/plain": [
       "shape: (1, 9)\n",
       "┌───────────┬───────────┬───────────┬───────────┬───┬───────────┬───────────┬───────────┬──────────┐\n",
       "│ read_rows ┆ read_byte ┆ written_r ┆ written_b ┆ … ┆ result_ro ┆ result_by ┆ elapsed_n ┆ query_id │\n",
       "│ ---       ┆ s         ┆ ows       ┆ ytes      ┆   ┆ ws        ┆ tes       ┆ s         ┆ ---      │\n",
       "│ i64       ┆ ---       ┆ ---       ┆ ---       ┆   ┆ ---       ┆ ---       ┆ ---       ┆ str      │\n",
       "│           ┆ i64       ┆ i64       ┆ i64       ┆   ┆ i64       ┆ i64       ┆ i64       ┆          │\n",
       "╞═══════════╪═══════════╪═══════════╪═══════════╪═══╪═══════════╪═══════════╪═══════════╪══════════╡\n",
       "│ 0         ┆ 0         ┆ 0         ┆ 0         ┆ … ┆ 0         ┆ 0         ┆ 3292557   ┆ d644f4f7 │\n",
       "│           ┆           ┆           ┆           ┆   ┆           ┆           ┆           ┆ -97fb-4c │\n",
       "│           ┆           ┆           ┆           ┆   ┆           ┆           ┆           ┆ ea-93f2- │\n",
       "│           ┆           ┆           ┆           ┆   ┆           ┆           ┆           ┆ 872532…  │\n",
       "└───────────┴───────────┴───────────┴───────────┴───┴───────────┴───────────┴───────────┴──────────┘"
      ]
     },
     "execution_count": 91,
     "metadata": {},
     "output_type": "execute_result"
    }
   ],
   "source": [
    "query_text = \"\"\"\n",
    "    DROP TABLE db1.t_subsctibtions_by_enteries\n",
    "    \"\"\"\n",
    "ch.query_run(query_text)"
   ]
  }
 ],
 "metadata": {
  "jupytext": {
   "formats": "ipynb,md"
  },
  "kernelspec": {
   "display_name": "myenv",
   "language": "python",
   "name": "python3"
  },
  "language_info": {
   "codemirror_mode": {
    "name": "ipython",
    "version": 3
   },
   "file_extension": ".py",
   "mimetype": "text/x-python",
   "name": "python",
   "nbconvert_exporter": "python",
   "pygments_lexer": "ipython3",
   "version": "3.13.7"
  }
 },
 "nbformat": 4,
 "nbformat_minor": 5
}

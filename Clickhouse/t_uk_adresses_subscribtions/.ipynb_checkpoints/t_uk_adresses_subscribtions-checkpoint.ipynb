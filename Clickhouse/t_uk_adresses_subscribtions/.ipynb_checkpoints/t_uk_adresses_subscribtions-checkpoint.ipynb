{
 "cells": [
  {
   "cell_type": "markdown",
   "id": "4780752b",
   "metadata": {},
   "source": [
    "## Start"
   ]
  },
  {
   "cell_type": "code",
   "execution_count": 2,
   "id": "873b2a43",
   "metadata": {},
   "outputs": [],
   "source": [
    "import clickhouse_connect\n",
    "import datetime\n",
    "import os\n",
    "import pytz\n",
    "import pandas as pd\n",
    "from dateutil.relativedelta import relativedelta\n",
    "from dotenv import load_dotenv\n",
    "\n",
    "import sys\n",
    "sys.path.append('/home/boris/Documents/Work/analytics/Clickhouse')\n",
    "from clickhouse_client import ClickHouse_client\n",
    "ch = ClickHouse_client()\n",
    "pd.set_option('display.max_rows', 1000)\n",
    "\n"
   ]
  },
  {
   "cell_type": "markdown",
   "id": "e2aaab6f",
   "metadata": {},
   "source": [
    "___\n",
    "### Tags: #Tables\n",
    "\n",
    "### Links: \n",
    "\n",
    "[[t_subscribtions_citizens_by_companies_and_cities_address_ch]]\n",
    "\n",
    "[[uk_addresses_st_partner]]\n",
    "\n",
    "[[uk_st_partner]]\n",
    "\n",
    "[[uk_dir_partner]]\n",
    "\n",
    "[[entries_installation_points_dir_partner]]\n",
    "___"
   ]
  },
  {
   "cell_type": "code",
   "execution_count": 32,
   "id": "9e59a65a",
   "metadata": {},
   "outputs": [
    {
     "data": {
      "text/html": [
       "<div><style>\n",
       ".dataframe > thead > tr,\n",
       ".dataframe > tbody > tr {\n",
       "  text-align: right;\n",
       "  white-space: pre-wrap;\n",
       "}\n",
       "</style>\n",
       "<small>shape: (0, 0)</small><table border=\"1\" class=\"dataframe\"><thead><tr></tr><tr></tr></thead><tbody></tbody></table></div>"
      ],
      "text/plain": [
       "shape: (0, 0)\n",
       "┌┐\n",
       "╞╡\n",
       "└┘"
      ]
     },
     "execution_count": 32,
     "metadata": {},
     "output_type": "execute_result"
    }
   ],
   "source": [
    "query_text = \"\"\"--sql\n",
    "CREATE TABLE db1.t_uk_adresses_subscribtions\n",
    "(\n",
    "    `report_date` Date,\n",
    "    `partner_uuid_uk` String,\n",
    "    `name` String,\n",
    "    `address_uuid` String,\n",
    "    `partner_uuid` String,\n",
    "    `partner_uk_email` String,\n",
    "    `company_name` String,\n",
    "    `partner_lk` UInt32,\n",
    "    `activated_citizen_id` UInt32,\n",
    "    `citizen_id_in_flat_with_subscriptions` UInt32,\n",
    "    `subscribed_citizen_id` UInt32,\n",
    "    `payments_amount` UInt32,\n",
    "    `city` String,\n",
    "    `full_address` String,\n",
    "    `flats_count` UInt16,\n",
    "    `entrance_number` String,\n",
    "    `building_number` String,\n",
    "    `streat_name` String \n",
    ")\n",
    "    ENGINE = MergeTree()\n",
    "    ORDER BY report_date\n",
    "\"\"\"\n",
    "\n",
    "ch.query_run(query_text)"
   ]
  },
  {
   "cell_type": "code",
   "execution_count": 33,
   "id": "3eeb0595",
   "metadata": {},
   "outputs": [
    {
     "data": {
      "text/html": [
       "<div><style>\n",
       ".dataframe > thead > tr,\n",
       ".dataframe > tbody > tr {\n",
       "  text-align: right;\n",
       "  white-space: pre-wrap;\n",
       "}\n",
       "</style>\n",
       "<small>shape: (0, 0)</small><table border=\"1\" class=\"dataframe\"><thead><tr></tr><tr></tr></thead><tbody></tbody></table></div>"
      ],
      "text/plain": [
       "shape: (0, 0)\n",
       "┌┐\n",
       "╞╡\n",
       "└┘"
      ]
     },
     "execution_count": 33,
     "metadata": {},
     "output_type": "execute_result"
    }
   ],
   "source": [
    "query_text = \"\"\"--sql\n",
    "    CREATE MATERIALIZED VIEW db1.t_uk_adresses_subscribtions_mv\n",
    "    REFRESH EVERY 1 DAY OFFSET 5 HOUR 35 MINUTE TO db1.t_uk_adresses_subscribtions AS\n",
    "WITH d_range AS (\n",
    "SELECT\n",
    "\treport_date\n",
    "FROM db1.t_subscribtions_citizens_by_companies_and_cities_address_ch\n",
    "),\n",
    "uk_st AS(\n",
    "SELECT\n",
    "\t`report_date`,\n",
    "     uk_s_p.`partner_uuid` AS partner_uuid_uk,\n",
    "    `business_partner_uuid` AS partner_uuid,\n",
    "    `updated_at`,\n",
    "    `partner_uk_email`,\n",
    "    `name`\n",
    "FROM db1.uk_st_partner_ch AS uk_s_p\n",
    "LEFT JOIN db1.uk_dir_partner_ch AS uk_d_p ON uk_d_p.partner_uuid_uk = uk_s_p.partner_uuid\n",
    "WHERE report_date IN d_range\n",
    ")\n",
    "--\n",
    "SELECT\n",
    "    uk_addr.`report_date` AS report_date,\n",
    "    uk_addr.`partner_uuid_uk` AS partner_uuid_uk,\n",
    "    `name`,\n",
    "    uk_addr.`address_uuid` AS address_uuid,\n",
    "    uk_st.partner_uuid AS partner_uuid,\n",
    "    partner_uk_email,\n",
    "    cdp.company_name AS company_name,\n",
    "    cdp.partner_lk AS partner_lk,\n",
    "    activated_citizen_id,\n",
    "    citizen_id_in_flat_with_subscriptions,\n",
    "    subscribed_citizen_id,\n",
    "    payments_amount,\n",
    "    t_sub.city AS city,\n",
    "    t_sub.full_address AS full_address,\n",
    "    flats_count,\n",
    "    `entrance_number`,\n",
    "    `building_number`,\n",
    "    `streat_name`    \n",
    "FROM db1.uk_addresses_st_partner_ch AS uk_addr\n",
    "LEFT JOIN uk_st ON uk_st.report_date = uk_addr.report_date \n",
    "\t\t\t\tAND uk_st.partner_uuid_uk = uk_addr.partner_uuid_uk \n",
    "LEFT JOIN db1.companies_dir_partner_ch AS cdp ON cdp.partner_uuid = uk_st.partner_uuid\n",
    "LEFT JOIN db1.t_subscribtions_citizens_by_companies_and_cities_address_ch AS t_sub\n",
    "\tON t_sub.address_uuid = uk_addr.address_uuid\n",
    "\tAND t_sub.report_date = uk_addr.report_date\n",
    "LEFT JOIN db1.entries_installation_points_dir_partner_ch AS enr_d_p \n",
    "    ON enr_d_p.address_uuid = uk_addr.address_uuid \n",
    "WHERE uk_addr.report_date in d_range\n",
    "ORDER BY report_date DESC\n",
    "    \"\"\"\n",
    "\n",
    "ch.query_run(query_text)"
   ]
  },
  {
   "cell_type": "markdown",
   "id": "a8fbdbda",
   "metadata": {},
   "source": [
    "___\n",
    "## Tools\n",
    "___\n",
    "### query\n"
   ]
  },
  {
   "cell_type": "code",
   "execution_count": 34,
   "id": "0b267d4a",
   "metadata": {},
   "outputs": [
    {
     "data": {
      "text/html": [
       "<div><style>\n",
       ".dataframe > thead > tr,\n",
       ".dataframe > tbody > tr {\n",
       "  text-align: right;\n",
       "  white-space: pre-wrap;\n",
       "}\n",
       "</style>\n",
       "<small>shape: (10, 18)</small><table border=\"1\" class=\"dataframe\"><thead><tr><th>report_date</th><th>partner_uuid_uk</th><th>name</th><th>address_uuid</th><th>partner_uuid</th><th>partner_uk_email</th><th>company_name</th><th>partner_lk</th><th>activated_citizen_id</th><th>citizen_id_in_flat_with_subscriptions</th><th>subscribed_citizen_id</th><th>payments_amount</th><th>city</th><th>full_address</th><th>flats_count</th><th>entrance_number</th><th>building_number</th><th>streat_name</th></tr><tr><td>date</td><td>str</td><td>str</td><td>str</td><td>str</td><td>str</td><td>str</td><td>i64</td><td>i64</td><td>i64</td><td>i64</td><td>i64</td><td>str</td><td>str</td><td>i64</td><td>str</td><td>str</td><td>str</td></tr></thead><tbody><tr><td>2025-08-20</td><td>&quot;0076e1b0-72c3-4783-9306-93d299…</td><td>&quot;Жилкомфорт 105 кв&quot;</td><td>&quot;cb0afec6-4041-4c9b-b9fd-9cd62a…</td><td>&quot;2ac02900-f143-4412-8f8c-df41ce…</td><td>&quot;zhilcom03sputnik@mail.ru&quot;</td><td>&quot;Дом плюс&quot;</td><td>123231</td><td>25</td><td>2</td><td>1</td><td>0</td><td>&quot;Улан-Удэ&quot;</td><td>&quot;Россия, Республика Бурятия, го…</td><td>20</td><td>&quot;п. 1&quot;</td><td>&quot;д. 31&quot;</td><td>&quot;микрорайон 105-й&quot;</td></tr><tr><td>2025-08-20</td><td>&quot;0076e1b0-72c3-4783-9306-93d299…</td><td>&quot;Жилкомфорт 105 кв&quot;</td><td>&quot;acc6f2b2-98dc-4657-8f07-0c9b7a…</td><td>&quot;2ac02900-f143-4412-8f8c-df41ce…</td><td>&quot;zhilcom03sputnik@mail.ru&quot;</td><td>&quot;Дом плюс&quot;</td><td>123231</td><td>43</td><td>3</td><td>1</td><td>0</td><td>&quot;Улан-Удэ&quot;</td><td>&quot;Россия, Республика Бурятия, го…</td><td>20</td><td>&quot;п. 2&quot;</td><td>&quot;д. 31&quot;</td><td>&quot;микрорайон 105-й&quot;</td></tr><tr><td>2025-08-20</td><td>&quot;008d558d-fa9b-499f-b0a4-b4a00b…</td><td>&quot;УК &quot;НЭК ЭНЕРГО&quot;&quot;</td><td>&quot;79be1203-eab6-4366-9ccc-406080…</td><td>&quot;fd20414d-c1b4-4d16-a92f-d3b05d…</td><td>&quot;nek-energe@yandex.ru&quot;</td><td>&quot;ООО &quot;Технет&quot;&quot;</td><td>156864</td><td>0</td><td>0</td><td>0</td><td>0</td><td>&quot;&quot;</td><td>&quot;&quot;</td><td>0</td><td>&quot;п. 1&quot;</td><td>&quot;д. 113А&quot;</td><td>&quot;улица Ленинградская&quot;</td></tr><tr><td>2025-08-20</td><td>&quot;008d558d-fa9b-499f-b0a4-b4a00b…</td><td>&quot;УК &quot;НЭК ЭНЕРГО&quot;&quot;</td><td>&quot;b553d9d5-6405-40da-a11a-291e30…</td><td>&quot;fd20414d-c1b4-4d16-a92f-d3b05d…</td><td>&quot;nek-energe@yandex.ru&quot;</td><td>&quot;ООО &quot;Технет&quot;&quot;</td><td>156864</td><td>0</td><td>0</td><td>0</td><td>0</td><td>&quot;&quot;</td><td>&quot;&quot;</td><td>0</td><td>&quot;п. 2&quot;</td><td>&quot;д. 113А&quot;</td><td>&quot;улица Ленинградская&quot;</td></tr><tr><td>2025-08-20</td><td>&quot;008d558d-fa9b-499f-b0a4-b4a00b…</td><td>&quot;УК &quot;НЭК ЭНЕРГО&quot;&quot;</td><td>&quot;7a146051-a10b-4a6b-9b1c-1c7eb7…</td><td>&quot;fd20414d-c1b4-4d16-a92f-d3b05d…</td><td>&quot;nek-energe@yandex.ru&quot;</td><td>&quot;ООО &quot;Технет&quot;&quot;</td><td>156864</td><td>16</td><td>9</td><td>5</td><td>0</td><td>&quot;Вологда&quot;</td><td>&quot;Россия, Вологодская область, г…</td><td>11</td><td>&quot;п. 4&quot;</td><td>&quot;д. 72&quot;</td><td>&quot;улица Гагарина&quot;</td></tr><tr><td>2025-08-20</td><td>&quot;008d558d-fa9b-499f-b0a4-b4a00b…</td><td>&quot;УК &quot;НЭК ЭНЕРГО&quot;&quot;</td><td>&quot;488347f8-5cb9-4656-82a4-4049c2…</td><td>&quot;fd20414d-c1b4-4d16-a92f-d3b05d…</td><td>&quot;nek-energe@yandex.ru&quot;</td><td>&quot;ООО &quot;Технет&quot;&quot;</td><td>156864</td><td>46</td><td>17</td><td>11</td><td>0</td><td>&quot;Вологда&quot;</td><td>&quot;Россия, Вологодская область, г…</td><td>30</td><td>&quot;п. 5&quot;</td><td>&quot;д. 72&quot;</td><td>&quot;улица Гагарина&quot;</td></tr><tr><td>2025-08-20</td><td>&quot;008d558d-fa9b-499f-b0a4-b4a00b…</td><td>&quot;УК &quot;НЭК ЭНЕРГО&quot;&quot;</td><td>&quot;e1196f35-b652-4338-a4d9-a4b7a1…</td><td>&quot;fd20414d-c1b4-4d16-a92f-d3b05d…</td><td>&quot;nek-energe@yandex.ru&quot;</td><td>&quot;ООО &quot;Технет&quot;&quot;</td><td>156864</td><td>24</td><td>6</td><td>4</td><td>0</td><td>&quot;Вологда&quot;</td><td>&quot;Россия, Вологодская область, г…</td><td>19</td><td>&quot;п. 6&quot;</td><td>&quot;д. 72&quot;</td><td>&quot;улица Гагарина&quot;</td></tr><tr><td>2025-08-20</td><td>&quot;00b3faa7-ed4f-4ee5-93a1-7f0461…</td><td>&quot;Физкультурная 9/3&quot;</td><td>&quot;d903e192-73b0-4e7a-85d9-39775a…</td><td>&quot;af8b5bf4-0108-4a0c-acc2-096f94…</td><td>&quot;gulaimnika@gmail.com&quot;</td><td>&quot;ТОО РИТМ ПРО&quot;</td><td>120074</td><td>60</td><td>0</td><td>0</td><td>0</td><td>&quot;Семей&quot;</td><td>&quot;Казахстан, область Абай, город…</td><td>30</td><td>&quot;п. 1&quot;</td><td>&quot;д. 9/3&quot;</td><td>&quot;Физкультурная&quot;</td></tr><tr><td>2025-08-20</td><td>&quot;00b3faa7-ed4f-4ee5-93a1-7f0461…</td><td>&quot;Физкультурная 9/3&quot;</td><td>&quot;36c91545-1b43-4e5a-8ed4-91bc2e…</td><td>&quot;af8b5bf4-0108-4a0c-acc2-096f94…</td><td>&quot;gulaimnika@gmail.com&quot;</td><td>&quot;ТОО РИТМ ПРО&quot;</td><td>120074</td><td>61</td><td>0</td><td>0</td><td>0</td><td>&quot;Семей&quot;</td><td>&quot;Казахстан, область Абай, город…</td><td>30</td><td>&quot;п. 2&quot;</td><td>&quot;д. 9/3&quot;</td><td>&quot;Физкультурная&quot;</td></tr><tr><td>2025-08-20</td><td>&quot;027a995b-0b07-42b9-975b-660b3b…</td><td>&quot;Dmitriy Dryga&quot;</td><td>&quot;e74823d0-a59d-4ed9-ad21-963885…</td><td>&quot;6fed789d-2795-4034-87b1-9814ab…</td><td>&quot;cerdi050670@yandex.ru&quot;</td><td>&quot;ИП Мусихин К.А. ПРО&quot;</td><td>123849</td><td>43</td><td>5</td><td>2</td><td>0</td><td>&quot;Заречный&quot;</td><td>&quot;Россия, Свердловская область, …</td><td>37</td><td>&quot;п. 1&quot;</td><td>&quot;д. 6&quot;</td><td>&quot;улица Ленинградская&quot;</td></tr></tbody></table></div>"
      ],
      "text/plain": [
       "shape: (10, 18)\n",
       "┌───────────┬───────────┬───────────┬───────────┬───┬───────────┬───────────┬───────────┬──────────┐\n",
       "│ report_da ┆ partner_u ┆ name      ┆ address_u ┆ … ┆ flats_cou ┆ entrance_ ┆ building_ ┆ streat_n │\n",
       "│ te        ┆ uid_uk    ┆ ---       ┆ uid       ┆   ┆ nt        ┆ number    ┆ number    ┆ ame      │\n",
       "│ ---       ┆ ---       ┆ str       ┆ ---       ┆   ┆ ---       ┆ ---       ┆ ---       ┆ ---      │\n",
       "│ date      ┆ str       ┆           ┆ str       ┆   ┆ i64       ┆ str       ┆ str       ┆ str      │\n",
       "╞═══════════╪═══════════╪═══════════╪═══════════╪═══╪═══════════╪═══════════╪═══════════╪══════════╡\n",
       "│ 2025-08-2 ┆ 0076e1b0- ┆ Жилкомфор ┆ cb0afec6- ┆ … ┆ 20        ┆ п. 1      ┆ д. 31     ┆ микрорай │\n",
       "│ 0         ┆ 72c3-4783 ┆ т 105 кв  ┆ 4041-4c9b ┆   ┆           ┆           ┆           ┆ он 105-й │\n",
       "│           ┆ -9306-93d ┆           ┆ -b9fd-9cd ┆   ┆           ┆           ┆           ┆          │\n",
       "│           ┆ 299…      ┆           ┆ 62a…      ┆   ┆           ┆           ┆           ┆          │\n",
       "│ 2025-08-2 ┆ 0076e1b0- ┆ Жилкомфор ┆ acc6f2b2- ┆ … ┆ 20        ┆ п. 2      ┆ д. 31     ┆ микрорай │\n",
       "│ 0         ┆ 72c3-4783 ┆ т 105 кв  ┆ 98dc-4657 ┆   ┆           ┆           ┆           ┆ он 105-й │\n",
       "│           ┆ -9306-93d ┆           ┆ -8f07-0c9 ┆   ┆           ┆           ┆           ┆          │\n",
       "│           ┆ 299…      ┆           ┆ b7a…      ┆   ┆           ┆           ┆           ┆          │\n",
       "│ 2025-08-2 ┆ 008d558d- ┆ УК \"НЭК   ┆ 79be1203- ┆ … ┆ 0         ┆ п. 1      ┆ д. 113А   ┆ улица    │\n",
       "│ 0         ┆ fa9b-499f ┆ ЭНЕРГО\"   ┆ eab6-4366 ┆   ┆           ┆           ┆           ┆ Ленингра │\n",
       "│           ┆ -b0a4-b4a ┆           ┆ -9ccc-406 ┆   ┆           ┆           ┆           ┆ дская    │\n",
       "│           ┆ 00b…      ┆           ┆ 080…      ┆   ┆           ┆           ┆           ┆          │\n",
       "│ 2025-08-2 ┆ 008d558d- ┆ УК \"НЭК   ┆ b553d9d5- ┆ … ┆ 0         ┆ п. 2      ┆ д. 113А   ┆ улица    │\n",
       "│ 0         ┆ fa9b-499f ┆ ЭНЕРГО\"   ┆ 6405-40da ┆   ┆           ┆           ┆           ┆ Ленингра │\n",
       "│           ┆ -b0a4-b4a ┆           ┆ -a11a-291 ┆   ┆           ┆           ┆           ┆ дская    │\n",
       "│           ┆ 00b…      ┆           ┆ e30…      ┆   ┆           ┆           ┆           ┆          │\n",
       "│ 2025-08-2 ┆ 008d558d- ┆ УК \"НЭК   ┆ 7a146051- ┆ … ┆ 11        ┆ п. 4      ┆ д. 72     ┆ улица    │\n",
       "│ 0         ┆ fa9b-499f ┆ ЭНЕРГО\"   ┆ a10b-4a6b ┆   ┆           ┆           ┆           ┆ Гагарина │\n",
       "│           ┆ -b0a4-b4a ┆           ┆ -9b1c-1c7 ┆   ┆           ┆           ┆           ┆          │\n",
       "│           ┆ 00b…      ┆           ┆ eb7…      ┆   ┆           ┆           ┆           ┆          │\n",
       "│ 2025-08-2 ┆ 008d558d- ┆ УК \"НЭК   ┆ 488347f8- ┆ … ┆ 30        ┆ п. 5      ┆ д. 72     ┆ улица    │\n",
       "│ 0         ┆ fa9b-499f ┆ ЭНЕРГО\"   ┆ 5cb9-4656 ┆   ┆           ┆           ┆           ┆ Гагарина │\n",
       "│           ┆ -b0a4-b4a ┆           ┆ -82a4-404 ┆   ┆           ┆           ┆           ┆          │\n",
       "│           ┆ 00b…      ┆           ┆ 9c2…      ┆   ┆           ┆           ┆           ┆          │\n",
       "│ 2025-08-2 ┆ 008d558d- ┆ УК \"НЭК   ┆ e1196f35- ┆ … ┆ 19        ┆ п. 6      ┆ д. 72     ┆ улица    │\n",
       "│ 0         ┆ fa9b-499f ┆ ЭНЕРГО\"   ┆ b652-4338 ┆   ┆           ┆           ┆           ┆ Гагарина │\n",
       "│           ┆ -b0a4-b4a ┆           ┆ -a4d9-a4b ┆   ┆           ┆           ┆           ┆          │\n",
       "│           ┆ 00b…      ┆           ┆ 7a1…      ┆   ┆           ┆           ┆           ┆          │\n",
       "│ 2025-08-2 ┆ 00b3faa7- ┆ Физкульту ┆ d903e192- ┆ … ┆ 30        ┆ п. 1      ┆ д. 9/3    ┆ Физкульт │\n",
       "│ 0         ┆ ed4f-4ee5 ┆ рная 9/3  ┆ 73b0-4e7a ┆   ┆           ┆           ┆           ┆ урная    │\n",
       "│           ┆ -93a1-7f0 ┆           ┆ -85d9-397 ┆   ┆           ┆           ┆           ┆          │\n",
       "│           ┆ 461…      ┆           ┆ 75a…      ┆   ┆           ┆           ┆           ┆          │\n",
       "│ 2025-08-2 ┆ 00b3faa7- ┆ Физкульту ┆ 36c91545- ┆ … ┆ 30        ┆ п. 2      ┆ д. 9/3    ┆ Физкульт │\n",
       "│ 0         ┆ ed4f-4ee5 ┆ рная 9/3  ┆ 1b43-4e5a ┆   ┆           ┆           ┆           ┆ урная    │\n",
       "│           ┆ -93a1-7f0 ┆           ┆ -8ed4-91b ┆   ┆           ┆           ┆           ┆          │\n",
       "│           ┆ 461…      ┆           ┆ c2e…      ┆   ┆           ┆           ┆           ┆          │\n",
       "│ 2025-08-2 ┆ 027a995b- ┆ Dmitriy   ┆ e74823d0- ┆ … ┆ 37        ┆ п. 1      ┆ д. 6      ┆ улица    │\n",
       "│ 0         ┆ 0b07-42b9 ┆ Dryga     ┆ a59d-4ed9 ┆   ┆           ┆           ┆           ┆ Ленингра │\n",
       "│           ┆ -975b-660 ┆           ┆ -ad21-963 ┆   ┆           ┆           ┆           ┆ дская    │\n",
       "│           ┆ b3b…      ┆           ┆ 885…      ┆   ┆           ┆           ┆           ┆          │\n",
       "└───────────┴───────────┴───────────┴───────────┴───┴───────────┴───────────┴───────────┴──────────┘"
      ]
     },
     "execution_count": 34,
     "metadata": {},
     "output_type": "execute_result"
    }
   ],
   "source": [
    "query_text = \"\"\"--sql\n",
    "    SELECT\n",
    "        *\n",
    "    FROM db1.t_uk_adresses_subscribtions\n",
    "    ORDER BY report_date\n",
    "    limit 10\n",
    "    \"\"\"\n",
    "\n",
    "ch.query_run(query_text)\n"
   ]
  },
  {
   "cell_type": "markdown",
   "id": "d454c50d",
   "metadata": {},
   "source": [
    "### delete a part\n"
   ]
  },
  {
   "cell_type": "code",
   "execution_count": null,
   "id": "c5132e17",
   "metadata": {},
   "outputs": [],
   "source": [
    "query_text = \"\"\"--sql\n",
    "    ALTER TABLE db1.t_uk_adresses_subscribtions DELETE WHERE report_date = '2025-07-17'\n",
    "    \"\"\"\n",
    "\n",
    "ch.query_run(query_text)\n"
   ]
  },
  {
   "cell_type": "markdown",
   "id": "f27b3c96",
   "metadata": {},
   "source": [
    "### drop mv"
   ]
  },
  {
   "cell_type": "code",
   "execution_count": 30,
   "id": "2aa23f4b",
   "metadata": {
    "lines_to_next_cell": 2
   },
   "outputs": [
    {
     "data": {
      "text/html": [
       "<div><style>\n",
       ".dataframe > thead > tr,\n",
       ".dataframe > tbody > tr {\n",
       "  text-align: right;\n",
       "  white-space: pre-wrap;\n",
       "}\n",
       "</style>\n",
       "<small>shape: (0, 0)</small><table border=\"1\" class=\"dataframe\"><thead><tr></tr><tr></tr></thead><tbody></tbody></table></div>"
      ],
      "text/plain": [
       "shape: (0, 0)\n",
       "┌┐\n",
       "╞╡\n",
       "└┘"
      ]
     },
     "execution_count": 30,
     "metadata": {},
     "output_type": "execute_result"
    }
   ],
   "source": [
    "query_text = \"\"\"--sql\n",
    "    DROP TABLE db1.t_uk_adresses_subscribtions_mv\n",
    "    \"\"\"\n",
    "\n",
    "ch.query_run(query_text)"
   ]
  },
  {
   "cell_type": "markdown",
   "id": "14f3334d",
   "metadata": {},
   "source": [
    "### drop ch"
   ]
  },
  {
   "cell_type": "code",
   "execution_count": 31,
   "id": "28fd7aa0",
   "metadata": {},
   "outputs": [
    {
     "data": {
      "text/html": [
       "<div><style>\n",
       ".dataframe > thead > tr,\n",
       ".dataframe > tbody > tr {\n",
       "  text-align: right;\n",
       "  white-space: pre-wrap;\n",
       "}\n",
       "</style>\n",
       "<small>shape: (0, 0)</small><table border=\"1\" class=\"dataframe\"><thead><tr></tr><tr></tr></thead><tbody></tbody></table></div>"
      ],
      "text/plain": [
       "shape: (0, 0)\n",
       "┌┐\n",
       "╞╡\n",
       "└┘"
      ]
     },
     "execution_count": 31,
     "metadata": {},
     "output_type": "execute_result"
    }
   ],
   "source": [
    "query_text = \"\"\"--sql\n",
    "    DROP TABLE db1.t_uk_adresses_subscribtions\n",
    "    \"\"\"\n",
    "\n",
    "ch.query_run(query_text)"
   ]
  },
  {
   "cell_type": "markdown",
   "id": "8e85f950",
   "metadata": {},
   "source": [
    "### refresh mv"
   ]
  },
  {
   "cell_type": "code",
   "execution_count": null,
   "id": "8df08f49",
   "metadata": {},
   "outputs": [
    {
     "data": {
      "text/html": [
       "<div><style>\n",
       ".dataframe > thead > tr,\n",
       ".dataframe > tbody > tr {\n",
       "  text-align: right;\n",
       "  white-space: pre-wrap;\n",
       "}\n",
       "</style>\n",
       "<small>shape: (1, 2)</small><table border=\"1\" class=\"dataframe\"><thead><tr><th>elapsed_ns</th><th>query_id</th></tr><tr><td>i64</td><td>str</td></tr></thead><tbody><tr><td>897986</td><td>&quot;58d516b8-81ce-47ef-ab2c-c0196a…</td></tr></tbody></table></div>"
      ],
      "text/plain": [
       "shape: (1, 2)\n",
       "┌────────────┬─────────────────────────────────┐\n",
       "│ elapsed_ns ┆ query_id                        │\n",
       "│ ---        ┆ ---                             │\n",
       "│ i64        ┆ str                             │\n",
       "╞════════════╪═════════════════════════════════╡\n",
       "│ 897986     ┆ 58d516b8-81ce-47ef-ab2c-c0196a… │\n",
       "└────────────┴─────────────────────────────────┘"
      ]
     },
     "execution_count": 16,
     "metadata": {},
     "output_type": "execute_result"
    }
   ],
   "source": [
    "query_text = \"\"\"\n",
    "SYSTEM REFRESH VIEW db1.t_uk_adresses_subscribtions_mv\n",
    "\"\"\"\n",
    "\n",
    "ch.query_run(query_text)"
   ]
  }
 ],
 "metadata": {
  "jupytext": {
   "formats": "ipynb,md"
  },
  "kernelspec": {
   "display_name": "myenv",
   "language": "python",
   "name": "python3"
  },
  "language_info": {
   "codemirror_mode": {
    "name": "ipython",
    "version": 3
   },
   "file_extension": ".py",
   "mimetype": "text/x-python",
   "name": "python",
   "nbconvert_exporter": "python",
   "pygments_lexer": "ipython3",
   "version": "3.12.11"
  }
 },
 "nbformat": 4,
 "nbformat_minor": 5
}

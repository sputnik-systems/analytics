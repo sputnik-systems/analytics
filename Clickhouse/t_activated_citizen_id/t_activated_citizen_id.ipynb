{
 "cells": [
  {
   "cell_type": "code",
   "execution_count": 2,
   "id": "e5902828",
   "metadata": {},
   "outputs": [],
   "source": [
    "import clickhouse_connect\n",
    "import datetime\n",
    "import os\n",
    "import pytz\n",
    "import pandas as pd\n",
    "from dateutil.relativedelta import relativedelta\n",
    "from dotenv import load_dotenv\n",
    "\n",
    "import sys\n",
    "sys.path.append('/home/boris/Documents/Work/analytics/Clickhouse')\n",
    "from clickhouse_client import ClickHouse_client\n",
    "ch = ClickHouse_client()\n",
    "pd.set_option('display.max_rows', 1000)"
   ]
  },
  {
   "cell_type": "markdown",
   "id": "f627acdd",
   "metadata": {},
   "source": [
    "___\n",
    "## Tags: #Tables\n",
    "\n",
    "# Links:\n",
    "\n",
    "[[rep_mobile_citizens_id_city_partner]]"
   ]
  },
  {
   "cell_type": "code",
   "execution_count": 4,
   "id": "08d60633",
   "metadata": {},
   "outputs": [
    {
     "data": {
      "text/html": [
       "<div><style>\n",
       ".dataframe > thead > tr,\n",
       ".dataframe > tbody > tr {\n",
       "  text-align: right;\n",
       "  white-space: pre-wrap;\n",
       "}\n",
       "</style>\n",
       "<small>shape: (0, 0)</small><table border=\"1\" class=\"dataframe\"><thead><tr></tr><tr></tr></thead><tbody></tbody></table></div>"
      ],
      "text/plain": [
       "shape: (0, 0)\n",
       "┌┐\n",
       "╞╡\n",
       "└┘"
      ]
     },
     "execution_count": 4,
     "metadata": {},
     "output_type": "execute_result"
    }
   ],
   "source": [
    "query_text = \"\"\"--sql\n",
    "    CREATE TABLE db1.t_activated_citizen_id\n",
    "    (\n",
    "        `report_date` Date,\n",
    "        `address_uuid` String,\n",
    "        `activated_citizen_id` UInt64,\n",
    "        `flat_uuid` UInt64\n",
    "    )\n",
    "    ENGINE = MergeTree()\n",
    "    ORDER BY address_uuid\n",
    "    \"\"\"\n",
    "ch.query_run(query_text)"
   ]
  },
  {
   "cell_type": "code",
   "execution_count": 13,
   "id": "927cdf12",
   "metadata": {},
   "outputs": [
    {
     "name": "stdout",
     "output_type": "stream",
     "text": [
      "2025-09-09\n",
      "2025-09-08\n",
      "2025-09-07\n",
      "2025-09-06\n",
      "2025-09-05\n",
      "2025-09-04\n"
     ]
    }
   ],
   "source": [
    "start_date = datetime.datetime.strptime('2025-09-04','%Y-%m-%d').date()\n",
    "end_date = datetime.datetime.strptime('2025-09-09','%Y-%m-%d').date()\n",
    "\n",
    "dates_pd = pd.DataFrame({\n",
    "        'date': pd.date_range(start=start_date, end=end_date).strftime('%Y-%m-%d'),\n",
    "        'date_key': pd.date_range(start=start_date, end=end_date).strftime('%/year=%-Y/month=%m/%d%')\n",
    "        })\n",
    "dates_pd = dates_pd.iloc[::-1].reset_index(drop=True)\n",
    "for day_index in dates_pd.index:\n",
    "    date = dates_pd.loc[day_index,['date']].values[0]\n",
    "    query_text = f\"\"\"\n",
    "        INSERT INTO db1.t_activated_citizen_id\n",
    "        SELECT\n",
    "            report_date,\n",
    "            address_uuid,\n",
    "            countDistinctIf(citizen_id, citizen_id != 0) AS activated_citizen_id,\t\n",
    "            countDistinctIf(flat_uuid, flat_uuid != '') AS flat_uuid\n",
    "        FROM db1.rep_mobile_citizens_id_city_partner\n",
    "        WHERE address_uuid !=''\n",
    "            AND report_date = '{date}'\n",
    "        GROUP BY report_date,\n",
    "                address_uuid\n",
    "    \"\"\"\n",
    "    ch.query_run(query_text)\n",
    "    print(date)"
   ]
  },
  {
   "cell_type": "code",
   "execution_count": 11,
   "id": "97abdd89",
   "metadata": {},
   "outputs": [
    {
     "data": {
      "text/html": [
       "<div>\n",
       "<style scoped>\n",
       "    .dataframe tbody tr th:only-of-type {\n",
       "        vertical-align: middle;\n",
       "    }\n",
       "\n",
       "    .dataframe tbody tr th {\n",
       "        vertical-align: top;\n",
       "    }\n",
       "\n",
       "    .dataframe thead th {\n",
       "        text-align: right;\n",
       "    }\n",
       "</style>\n",
       "<table border=\"1\" class=\"dataframe\">\n",
       "  <thead>\n",
       "    <tr style=\"text-align: right;\">\n",
       "      <th></th>\n",
       "    </tr>\n",
       "  </thead>\n",
       "  <tbody>\n",
       "  </tbody>\n",
       "</table>\n",
       "</div>"
      ],
      "text/plain": [
       "Empty DataFrame\n",
       "Columns: []\n",
       "Index: []"
      ]
     },
     "execution_count": 11,
     "metadata": {},
     "output_type": "execute_result"
    }
   ],
   "source": [
    "query_text = \"\"\"--sql\n",
    "    ALTER TABLE db1.t_activated_citizen_id DELETE WHERE report_date = '2025-09-09'\n",
    "    \"\"\"\n",
    "\n",
    "ch.query_run(query_text)"
   ]
  },
  {
   "cell_type": "code",
   "execution_count": null,
   "id": "e76f3e9f",
   "metadata": {},
   "outputs": [],
   "source": [
    "query_text = \"\"\"--sql\n",
    "    CREATE MATERIALIZED VIEW db1.t_activated_citizen_id_mv\n",
    "    REFRESH EVERY 1 DAY OFFSET 5 HOUR 35 MINUTE TO db1.t_activated_citizen_id AS \n",
    "    SELECT\n",
    "        report_date,\n",
    "        address_uuid,\n",
    "        countDistinctIf(citizen_id, citizen_id != 0) AS activated_citizen_id,\t\n",
    "        countDistinctIf(flat_uuid, flat_uuid != '') AS flat_uuid\n",
    "    FROM db1.rep_mobile_citizens_id_city_partner\n",
    "    WHERE address_uuid != ''\n",
    "    GROUP BY report_date, address_uuid\n",
    "    \"\"\"\n",
    "ch.query_run(query_text)"
   ]
  },
  {
   "cell_type": "code",
   "execution_count": 12,
   "id": "10a9ee4e",
   "metadata": {},
   "outputs": [
    {
     "data": {
      "text/html": [
       "<div>\n",
       "<style scoped>\n",
       "    .dataframe tbody tr th:only-of-type {\n",
       "        vertical-align: middle;\n",
       "    }\n",
       "\n",
       "    .dataframe tbody tr th {\n",
       "        vertical-align: top;\n",
       "    }\n",
       "\n",
       "    .dataframe thead th {\n",
       "        text-align: right;\n",
       "    }\n",
       "</style>\n",
       "<table border=\"1\" class=\"dataframe\">\n",
       "  <thead>\n",
       "    <tr style=\"text-align: right;\">\n",
       "      <th></th>\n",
       "      <th>report_date</th>\n",
       "      <th>address_uuid</th>\n",
       "      <th>activated_citizen_id</th>\n",
       "      <th>flat_uuid</th>\n",
       "    </tr>\n",
       "  </thead>\n",
       "  <tbody>\n",
       "    <tr>\n",
       "      <th>0</th>\n",
       "      <td>2025-09-03</td>\n",
       "      <td>01ebfb5a-d1fc-431d-b14e-5d34cd9a60fd</td>\n",
       "      <td>274</td>\n",
       "      <td>124</td>\n",
       "    </tr>\n",
       "    <tr>\n",
       "      <th>1</th>\n",
       "      <td>2025-09-03</td>\n",
       "      <td>01def67c-9585-4135-96d8-b9b23cba4b29</td>\n",
       "      <td>19</td>\n",
       "      <td>14</td>\n",
       "    </tr>\n",
       "    <tr>\n",
       "      <th>2</th>\n",
       "      <td>2025-09-03</td>\n",
       "      <td>01df6257-b52b-4037-9e74-1b2e25698a1b</td>\n",
       "      <td>55</td>\n",
       "      <td>27</td>\n",
       "    </tr>\n",
       "    <tr>\n",
       "      <th>3</th>\n",
       "      <td>2025-09-03</td>\n",
       "      <td>01e855fd-e154-43d5-846b-a0b9fbf1818a</td>\n",
       "      <td>33</td>\n",
       "      <td>19</td>\n",
       "    </tr>\n",
       "    <tr>\n",
       "      <th>4</th>\n",
       "      <td>2025-09-03</td>\n",
       "      <td>01e98368-fbbe-401d-ba98-9fd48fe61ea8</td>\n",
       "      <td>3</td>\n",
       "      <td>2</td>\n",
       "    </tr>\n",
       "    <tr>\n",
       "      <th>5</th>\n",
       "      <td>2025-09-03</td>\n",
       "      <td>01da4f6b-b8c7-45a3-a0b9-88be04312ed3</td>\n",
       "      <td>19</td>\n",
       "      <td>10</td>\n",
       "    </tr>\n",
       "    <tr>\n",
       "      <th>6</th>\n",
       "      <td>2025-09-03</td>\n",
       "      <td>01ea7574-90df-48af-acf5-22e904eea9a7</td>\n",
       "      <td>6</td>\n",
       "      <td>4</td>\n",
       "    </tr>\n",
       "    <tr>\n",
       "      <th>7</th>\n",
       "      <td>2025-09-03</td>\n",
       "      <td>01ebf2f7-f3f3-43b3-9999-8a398c92ea4c</td>\n",
       "      <td>21</td>\n",
       "      <td>18</td>\n",
       "    </tr>\n",
       "    <tr>\n",
       "      <th>8</th>\n",
       "      <td>2025-09-03</td>\n",
       "      <td>01ea399b-fc46-4e83-a575-a4f303a523d1</td>\n",
       "      <td>17</td>\n",
       "      <td>6</td>\n",
       "    </tr>\n",
       "    <tr>\n",
       "      <th>9</th>\n",
       "      <td>2025-09-03</td>\n",
       "      <td>01eb6c51-f018-44be-8eb1-5813187d460f</td>\n",
       "      <td>52</td>\n",
       "      <td>24</td>\n",
       "    </tr>\n",
       "  </tbody>\n",
       "</table>\n",
       "</div>"
      ],
      "text/plain": [
       "  report_date                          address_uuid  activated_citizen_id  \\\n",
       "0  2025-09-03  01ebfb5a-d1fc-431d-b14e-5d34cd9a60fd                   274   \n",
       "1  2025-09-03  01def67c-9585-4135-96d8-b9b23cba4b29                    19   \n",
       "2  2025-09-03  01df6257-b52b-4037-9e74-1b2e25698a1b                    55   \n",
       "3  2025-09-03  01e855fd-e154-43d5-846b-a0b9fbf1818a                    33   \n",
       "4  2025-09-03  01e98368-fbbe-401d-ba98-9fd48fe61ea8                     3   \n",
       "5  2025-09-03  01da4f6b-b8c7-45a3-a0b9-88be04312ed3                    19   \n",
       "6  2025-09-03  01ea7574-90df-48af-acf5-22e904eea9a7                     6   \n",
       "7  2025-09-03  01ebf2f7-f3f3-43b3-9999-8a398c92ea4c                    21   \n",
       "8  2025-09-03  01ea399b-fc46-4e83-a575-a4f303a523d1                    17   \n",
       "9  2025-09-03  01eb6c51-f018-44be-8eb1-5813187d460f                    52   \n",
       "\n",
       "   flat_uuid  \n",
       "0        124  \n",
       "1         14  \n",
       "2         27  \n",
       "3         19  \n",
       "4          2  \n",
       "5         10  \n",
       "6          4  \n",
       "7         18  \n",
       "8          6  \n",
       "9         24  "
      ]
     },
     "execution_count": 12,
     "metadata": {},
     "output_type": "execute_result"
    }
   ],
   "source": [
    "query_text = \"\"\"--sql\n",
    "SELECT\n",
    "    *\n",
    "FROM db1.t_activated_citizen_id\n",
    "ORDER BY report_date DESC\n",
    "LIMIT 10\n",
    "    \"\"\"\n",
    "ch.query_run(query_text)"
   ]
  },
  {
   "cell_type": "code",
   "execution_count": 2,
   "id": "43a93034",
   "metadata": {},
   "outputs": [
    {
     "data": {
      "text/html": [
       "<div><style>\n",
       ".dataframe > thead > tr,\n",
       ".dataframe > tbody > tr {\n",
       "  text-align: right;\n",
       "  white-space: pre-wrap;\n",
       "}\n",
       "</style>\n",
       "<small>shape: (1, 9)</small><table border=\"1\" class=\"dataframe\"><thead><tr><th>read_rows</th><th>read_bytes</th><th>written_rows</th><th>written_bytes</th><th>total_rows_to_read</th><th>result_rows</th><th>result_bytes</th><th>elapsed_ns</th><th>query_id</th></tr><tr><td>i64</td><td>i64</td><td>i64</td><td>i64</td><td>i64</td><td>i64</td><td>i64</td><td>i64</td><td>str</td></tr></thead><tbody><tr><td>0</td><td>0</td><td>0</td><td>0</td><td>0</td><td>0</td><td>0</td><td>18537416</td><td>&quot;1f844653-5c80-4ab7-83e5-d723b5…</td></tr></tbody></table></div>"
      ],
      "text/plain": [
       "shape: (1, 9)\n",
       "┌───────────┬───────────┬───────────┬───────────┬───┬───────────┬───────────┬───────────┬──────────┐\n",
       "│ read_rows ┆ read_byte ┆ written_r ┆ written_b ┆ … ┆ result_ro ┆ result_by ┆ elapsed_n ┆ query_id │\n",
       "│ ---       ┆ s         ┆ ows       ┆ ytes      ┆   ┆ ws        ┆ tes       ┆ s         ┆ ---      │\n",
       "│ i64       ┆ ---       ┆ ---       ┆ ---       ┆   ┆ ---       ┆ ---       ┆ ---       ┆ str      │\n",
       "│           ┆ i64       ┆ i64       ┆ i64       ┆   ┆ i64       ┆ i64       ┆ i64       ┆          │\n",
       "╞═══════════╪═══════════╪═══════════╪═══════════╪═══╪═══════════╪═══════════╪═══════════╪══════════╡\n",
       "│ 0         ┆ 0         ┆ 0         ┆ 0         ┆ … ┆ 0         ┆ 0         ┆ 18537416  ┆ 1f844653 │\n",
       "│           ┆           ┆           ┆           ┆   ┆           ┆           ┆           ┆ -5c80-4a │\n",
       "│           ┆           ┆           ┆           ┆   ┆           ┆           ┆           ┆ b7-83e5- │\n",
       "│           ┆           ┆           ┆           ┆   ┆           ┆           ┆           ┆ d723b5…  │\n",
       "└───────────┴───────────┴───────────┴───────────┴───┴───────────┴───────────┴───────────┴──────────┘"
      ]
     },
     "execution_count": 2,
     "metadata": {},
     "output_type": "execute_result"
    }
   ],
   "source": [
    "query_text = \"\"\"\n",
    "    DROP TABLE db1.t_activated_citizen_id\n",
    "    \"\"\"\n",
    "ch.query_run(query_text)"
   ]
  },
  {
   "cell_type": "code",
   "execution_count": 3,
   "id": "a3698116",
   "metadata": {},
   "outputs": [
    {
     "data": {
      "text/html": [
       "<div><style>\n",
       ".dataframe > thead > tr,\n",
       ".dataframe > tbody > tr {\n",
       "  text-align: right;\n",
       "  white-space: pre-wrap;\n",
       "}\n",
       "</style>\n",
       "<small>shape: (1, 9)</small><table border=\"1\" class=\"dataframe\"><thead><tr><th>read_rows</th><th>read_bytes</th><th>written_rows</th><th>written_bytes</th><th>total_rows_to_read</th><th>result_rows</th><th>result_bytes</th><th>elapsed_ns</th><th>query_id</th></tr><tr><td>i64</td><td>i64</td><td>i64</td><td>i64</td><td>i64</td><td>i64</td><td>i64</td><td>i64</td><td>str</td></tr></thead><tbody><tr><td>0</td><td>0</td><td>0</td><td>0</td><td>0</td><td>0</td><td>0</td><td>2523682</td><td>&quot;5346be78-67b1-4600-82e3-d62ba8…</td></tr></tbody></table></div>"
      ],
      "text/plain": [
       "shape: (1, 9)\n",
       "┌───────────┬───────────┬───────────┬───────────┬───┬───────────┬───────────┬───────────┬──────────┐\n",
       "│ read_rows ┆ read_byte ┆ written_r ┆ written_b ┆ … ┆ result_ro ┆ result_by ┆ elapsed_n ┆ query_id │\n",
       "│ ---       ┆ s         ┆ ows       ┆ ytes      ┆   ┆ ws        ┆ tes       ┆ s         ┆ ---      │\n",
       "│ i64       ┆ ---       ┆ ---       ┆ ---       ┆   ┆ ---       ┆ ---       ┆ ---       ┆ str      │\n",
       "│           ┆ i64       ┆ i64       ┆ i64       ┆   ┆ i64       ┆ i64       ┆ i64       ┆          │\n",
       "╞═══════════╪═══════════╪═══════════╪═══════════╪═══╪═══════════╪═══════════╪═══════════╪══════════╡\n",
       "│ 0         ┆ 0         ┆ 0         ┆ 0         ┆ … ┆ 0         ┆ 0         ┆ 2523682   ┆ 5346be78 │\n",
       "│           ┆           ┆           ┆           ┆   ┆           ┆           ┆           ┆ -67b1-46 │\n",
       "│           ┆           ┆           ┆           ┆   ┆           ┆           ┆           ┆ 00-82e3- │\n",
       "│           ┆           ┆           ┆           ┆   ┆           ┆           ┆           ┆ d62ba8…  │\n",
       "└───────────┴───────────┴───────────┴───────────┴───┴───────────┴───────────┴───────────┴──────────┘"
      ]
     },
     "execution_count": 3,
     "metadata": {},
     "output_type": "execute_result"
    }
   ],
   "source": [
    "query_text = \"\"\"\n",
    "    DROP TABLE db1.t_activated_citizen_id_mv\n",
    "    \"\"\"\n",
    "ch.query_run(query_text)"
   ]
  }
 ],
 "metadata": {
  "jupytext": {
   "formats": "ipynb,md"
  },
  "kernelspec": {
   "display_name": "myenv",
   "language": "python",
   "name": "python3"
  },
  "language_info": {
   "codemirror_mode": {
    "name": "ipython",
    "version": 3
   },
   "file_extension": ".py",
   "mimetype": "text/x-python",
   "name": "python",
   "nbconvert_exporter": "python",
   "pygments_lexer": "ipython3",
   "version": "3.12.11"
  }
 },
 "nbformat": 4,
 "nbformat_minor": 5
}

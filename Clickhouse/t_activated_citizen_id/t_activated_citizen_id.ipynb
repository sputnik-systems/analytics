{
 "cells": [
  {
   "cell_type": "code",
   "execution_count": 1,
   "id": "e5902828",
   "metadata": {},
   "outputs": [],
   "source": [
    "import clickhouse_connect\n",
    "import datetime\n",
    "import os\n",
    "import pytz\n",
    "import pandas as pd\n",
    "from dateutil.relativedelta import relativedelta\n",
    "from dotenv import load_dotenv\n",
    "\n",
    "import sys\n",
    "sys.path.append('/home/boris/Documents/Work/analytics/Clickhouse')\n",
    "from clickhouse_client import ClickHouse_client\n",
    "ch = ClickHouse_client()\n",
    "pd.set_option('display.max_rows', 1000)"
   ]
  },
  {
   "cell_type": "markdown",
   "id": "f627acdd",
   "metadata": {},
   "source": [
    "___\n",
    "## Tags: #Tables\n",
    "\n",
    "# Links:\n",
    "\n",
    "[[rep_mobile_citizens_id_city_partner]]"
   ]
  },
  {
   "cell_type": "code",
   "execution_count": 4,
   "id": "08d60633",
   "metadata": {},
   "outputs": [
    {
     "data": {
      "text/html": [
       "<div><style>\n",
       ".dataframe > thead > tr,\n",
       ".dataframe > tbody > tr {\n",
       "  text-align: right;\n",
       "  white-space: pre-wrap;\n",
       "}\n",
       "</style>\n",
       "<small>shape: (0, 0)</small><table border=\"1\" class=\"dataframe\"><thead><tr></tr><tr></tr></thead><tbody></tbody></table></div>"
      ],
      "text/plain": [
       "shape: (0, 0)\n",
       "┌┐\n",
       "╞╡\n",
       "└┘"
      ]
     },
     "execution_count": 4,
     "metadata": {},
     "output_type": "execute_result"
    }
   ],
   "source": [
    "query_text = \"\"\"--sql\n",
    "    CREATE TABLE db1.t_activated_citizen_id\n",
    "    (\n",
    "        `report_date` Date,\n",
    "        `address_uuid` String,\n",
    "        `activated_citizen_id` UInt64,\n",
    "        `flat_uuid` UInt64\n",
    "    )\n",
    "    ENGINE = MergeTree()\n",
    "    ORDER BY address_uuid\n",
    "    \"\"\"\n",
    "ch.query_run(query_text)"
   ]
  },
  {
   "cell_type": "code",
   "execution_count": null,
   "id": "927cdf12",
   "metadata": {},
   "outputs": [
    {
     "name": "stdout",
     "output_type": "stream",
     "text": [
      "2025-09-05\n",
      "2025-09-04\n",
      "2025-09-03\n",
      "2025-09-02\n",
      "2025-09-01\n",
      "2025-08-31\n",
      "2025-08-30\n",
      "2025-08-29\n",
      "2025-08-28\n",
      "2025-08-27\n",
      "2025-08-26\n",
      "2025-08-25\n",
      "2025-08-24\n",
      "2025-08-23\n",
      "2025-08-22\n",
      "2025-08-21\n",
      "2025-08-20\n",
      "2025-08-19\n",
      "2025-08-18\n",
      "2025-08-17\n",
      "2025-08-16\n",
      "2025-08-15\n",
      "2025-08-14\n",
      "2025-08-13\n",
      "2025-08-12\n",
      "2025-08-11\n",
      "2025-08-10\n",
      "2025-08-09\n",
      "2025-08-08\n",
      "2025-08-07\n",
      "2025-08-06\n",
      "2025-08-05\n",
      "2025-08-04\n",
      "2025-08-03\n",
      "2025-08-02\n"
     ]
    }
   ],
   "source": [
    "start_date = datetime.datetime.strptime('2023-09-01','%Y-%m-%d').date()\n",
    "end_date = datetime.datetime.strptime('2025-09-05','%Y-%m-%d').date()\n",
    "\n",
    "dates_pd = pd.DataFrame({\n",
    "        'date': pd.date_range(start=start_date, end=end_date).strftime('%Y-%m-%d'),\n",
    "        'date_key': pd.date_range(start=start_date, end=end_date).strftime('%/year=%-Y/month=%m/%d%')\n",
    "        })\n",
    "dates_pd = dates_pd.iloc[::-1].reset_index(drop=True)\n",
    "for day_index in dates_pd.index:\n",
    "    date = dates_pd.loc[day_index,['date']].values[0]\n",
    "    query_text = f\"\"\"\n",
    "        INSERT INTO db1.t_activated_citizen_id\n",
    "        SELECT\n",
    "            report_date,\n",
    "            address_uuid,\n",
    "            countDistinctIf(citizen_id, citizen_id != 0) AS activated_citizen_id,\t\n",
    "            countDistinctIf(flat_uuid, flat_uuid != '') AS flat_uuid\n",
    "        FROM db1.rep_mobile_citizens_id_city_partner\n",
    "        WHERE address_uuid !=''\n",
    "            AND report_date = '{date}'\n",
    "        GROUP BY report_date,\n",
    "                address_uuid\n",
    "    \"\"\"\n",
    "    ch.query_run(query_text)\n",
    "    print(date)"
   ]
  },
  {
   "cell_type": "code",
   "execution_count": null,
   "id": "e76f3e9f",
   "metadata": {},
   "outputs": [],
   "source": [
    "query_text = \"\"\"--sql\n",
    "    CREATE MATERIALIZED VIEW db1.t_activated_citizen_id_mv\n",
    "    REFRESH EVERY 1 DAY OFFSET 5 HOUR 35 MINUTE TO db1.t_activated_citizen_id AS \n",
    "    SELECT\n",
    "        report_date,\n",
    "        address_uuid,\n",
    "        countDistinctIf(citizen_id, citizen_id != 0) AS activated_citizen_id,\t\n",
    "        countDistinctIf(flat_uuid, flat_uuid != '') AS flat_uuid\n",
    "    FROM db1.rep_mobile_citizens_id_city_partner\n",
    "    WHERE address_uuid != ''\n",
    "    GROUP BY report_date, address_uuid\n",
    "    \"\"\"\n",
    "ch.query_run(query_text)"
   ]
  },
  {
   "cell_type": "code",
   "execution_count": 5,
   "id": "10a9ee4e",
   "metadata": {},
   "outputs": [
    {
     "data": {
      "text/html": [
       "<div><style>\n",
       ".dataframe > thead > tr,\n",
       ".dataframe > tbody > tr {\n",
       "  text-align: right;\n",
       "  white-space: pre-wrap;\n",
       "}\n",
       "</style>\n",
       "<small>shape: (10, 4)</small><table border=\"1\" class=\"dataframe\"><thead><tr><th>report_date</th><th>address_uuid</th><th>activated_citizen_id</th><th>flat_uuid</th></tr><tr><td>date</td><td>str</td><td>i64</td><td>i64</td></tr></thead><tbody><tr><td>2025-09-06</td><td>&quot;ab2551ea-0514-46a0-8930-e316f1…</td><td>14</td><td>13</td></tr><tr><td>2025-09-06</td><td>&quot;ab266932-a642-4f6c-a331-a45cfa…</td><td>4</td><td>3</td></tr><tr><td>2025-09-06</td><td>&quot;ab2897b9-8f00-4a5d-8c92-463e3d…</td><td>10</td><td>4</td></tr><tr><td>2025-09-06</td><td>&quot;ab2c746c-c289-4612-9111-dedea5…</td><td>28</td><td>17</td></tr><tr><td>2025-09-06</td><td>&quot;ab2fdedf-3ddf-4033-b093-7dcaf5…</td><td>16</td><td>10</td></tr><tr><td>2025-09-06</td><td>&quot;ab306f26-8933-4a0c-b028-26ac59…</td><td>33</td><td>20</td></tr><tr><td>2025-09-06</td><td>&quot;ab4a5451-807a-40ef-bdb0-314615…</td><td>24</td><td>14</td></tr><tr><td>2025-09-06</td><td>&quot;ab31cc49-c684-440c-9320-6c7fb3…</td><td>36</td><td>20</td></tr><tr><td>2025-09-06</td><td>&quot;ab30b3db-9bc2-4160-b7e5-9d0149…</td><td>39</td><td>18</td></tr><tr><td>2025-09-06</td><td>&quot;ab42883e-05bb-4035-8371-be6d68…</td><td>38</td><td>22</td></tr></tbody></table></div>"
      ],
      "text/plain": [
       "shape: (10, 4)\n",
       "┌─────────────┬─────────────────────────────────┬──────────────────────┬───────────┐\n",
       "│ report_date ┆ address_uuid                    ┆ activated_citizen_id ┆ flat_uuid │\n",
       "│ ---         ┆ ---                             ┆ ---                  ┆ ---       │\n",
       "│ date        ┆ str                             ┆ i64                  ┆ i64       │\n",
       "╞═════════════╪═════════════════════════════════╪══════════════════════╪═══════════╡\n",
       "│ 2025-09-06  ┆ ab2551ea-0514-46a0-8930-e316f1… ┆ 14                   ┆ 13        │\n",
       "│ 2025-09-06  ┆ ab266932-a642-4f6c-a331-a45cfa… ┆ 4                    ┆ 3         │\n",
       "│ 2025-09-06  ┆ ab2897b9-8f00-4a5d-8c92-463e3d… ┆ 10                   ┆ 4         │\n",
       "│ 2025-09-06  ┆ ab2c746c-c289-4612-9111-dedea5… ┆ 28                   ┆ 17        │\n",
       "│ 2025-09-06  ┆ ab2fdedf-3ddf-4033-b093-7dcaf5… ┆ 16                   ┆ 10        │\n",
       "│ 2025-09-06  ┆ ab306f26-8933-4a0c-b028-26ac59… ┆ 33                   ┆ 20        │\n",
       "│ 2025-09-06  ┆ ab4a5451-807a-40ef-bdb0-314615… ┆ 24                   ┆ 14        │\n",
       "│ 2025-09-06  ┆ ab31cc49-c684-440c-9320-6c7fb3… ┆ 36                   ┆ 20        │\n",
       "│ 2025-09-06  ┆ ab30b3db-9bc2-4160-b7e5-9d0149… ┆ 39                   ┆ 18        │\n",
       "│ 2025-09-06  ┆ ab42883e-05bb-4035-8371-be6d68… ┆ 38                   ┆ 22        │\n",
       "└─────────────┴─────────────────────────────────┴──────────────────────┴───────────┘"
      ]
     },
     "execution_count": 5,
     "metadata": {},
     "output_type": "execute_result"
    }
   ],
   "source": [
    "query_text = \"\"\"--sql\n",
    "SELECT\n",
    "    *\n",
    "FROM db1.t_activated_citizen_id\n",
    "ORDER BY report_date DESC\n",
    "LIMIT 10\n",
    "    \"\"\"\n",
    "ch.query_run(query_text)"
   ]
  },
  {
   "cell_type": "code",
   "execution_count": 2,
   "id": "43a93034",
   "metadata": {},
   "outputs": [
    {
     "data": {
      "text/html": [
       "<div><style>\n",
       ".dataframe > thead > tr,\n",
       ".dataframe > tbody > tr {\n",
       "  text-align: right;\n",
       "  white-space: pre-wrap;\n",
       "}\n",
       "</style>\n",
       "<small>shape: (1, 9)</small><table border=\"1\" class=\"dataframe\"><thead><tr><th>read_rows</th><th>read_bytes</th><th>written_rows</th><th>written_bytes</th><th>total_rows_to_read</th><th>result_rows</th><th>result_bytes</th><th>elapsed_ns</th><th>query_id</th></tr><tr><td>i64</td><td>i64</td><td>i64</td><td>i64</td><td>i64</td><td>i64</td><td>i64</td><td>i64</td><td>str</td></tr></thead><tbody><tr><td>0</td><td>0</td><td>0</td><td>0</td><td>0</td><td>0</td><td>0</td><td>18537416</td><td>&quot;1f844653-5c80-4ab7-83e5-d723b5…</td></tr></tbody></table></div>"
      ],
      "text/plain": [
       "shape: (1, 9)\n",
       "┌───────────┬───────────┬───────────┬───────────┬───┬───────────┬───────────┬───────────┬──────────┐\n",
       "│ read_rows ┆ read_byte ┆ written_r ┆ written_b ┆ … ┆ result_ro ┆ result_by ┆ elapsed_n ┆ query_id │\n",
       "│ ---       ┆ s         ┆ ows       ┆ ytes      ┆   ┆ ws        ┆ tes       ┆ s         ┆ ---      │\n",
       "│ i64       ┆ ---       ┆ ---       ┆ ---       ┆   ┆ ---       ┆ ---       ┆ ---       ┆ str      │\n",
       "│           ┆ i64       ┆ i64       ┆ i64       ┆   ┆ i64       ┆ i64       ┆ i64       ┆          │\n",
       "╞═══════════╪═══════════╪═══════════╪═══════════╪═══╪═══════════╪═══════════╪═══════════╪══════════╡\n",
       "│ 0         ┆ 0         ┆ 0         ┆ 0         ┆ … ┆ 0         ┆ 0         ┆ 18537416  ┆ 1f844653 │\n",
       "│           ┆           ┆           ┆           ┆   ┆           ┆           ┆           ┆ -5c80-4a │\n",
       "│           ┆           ┆           ┆           ┆   ┆           ┆           ┆           ┆ b7-83e5- │\n",
       "│           ┆           ┆           ┆           ┆   ┆           ┆           ┆           ┆ d723b5…  │\n",
       "└───────────┴───────────┴───────────┴───────────┴───┴───────────┴───────────┴───────────┴──────────┘"
      ]
     },
     "execution_count": 2,
     "metadata": {},
     "output_type": "execute_result"
    }
   ],
   "source": [
    "query_text = \"\"\"\n",
    "    DROP TABLE db1.t_activated_citizen_id\n",
    "    \"\"\"\n",
    "ch.query_run(query_text)"
   ]
  },
  {
   "cell_type": "code",
   "execution_count": 3,
   "id": "a3698116",
   "metadata": {},
   "outputs": [
    {
     "data": {
      "text/html": [
       "<div><style>\n",
       ".dataframe > thead > tr,\n",
       ".dataframe > tbody > tr {\n",
       "  text-align: right;\n",
       "  white-space: pre-wrap;\n",
       "}\n",
       "</style>\n",
       "<small>shape: (1, 9)</small><table border=\"1\" class=\"dataframe\"><thead><tr><th>read_rows</th><th>read_bytes</th><th>written_rows</th><th>written_bytes</th><th>total_rows_to_read</th><th>result_rows</th><th>result_bytes</th><th>elapsed_ns</th><th>query_id</th></tr><tr><td>i64</td><td>i64</td><td>i64</td><td>i64</td><td>i64</td><td>i64</td><td>i64</td><td>i64</td><td>str</td></tr></thead><tbody><tr><td>0</td><td>0</td><td>0</td><td>0</td><td>0</td><td>0</td><td>0</td><td>2523682</td><td>&quot;5346be78-67b1-4600-82e3-d62ba8…</td></tr></tbody></table></div>"
      ],
      "text/plain": [
       "shape: (1, 9)\n",
       "┌───────────┬───────────┬───────────┬───────────┬───┬───────────┬───────────┬───────────┬──────────┐\n",
       "│ read_rows ┆ read_byte ┆ written_r ┆ written_b ┆ … ┆ result_ro ┆ result_by ┆ elapsed_n ┆ query_id │\n",
       "│ ---       ┆ s         ┆ ows       ┆ ytes      ┆   ┆ ws        ┆ tes       ┆ s         ┆ ---      │\n",
       "│ i64       ┆ ---       ┆ ---       ┆ ---       ┆   ┆ ---       ┆ ---       ┆ ---       ┆ str      │\n",
       "│           ┆ i64       ┆ i64       ┆ i64       ┆   ┆ i64       ┆ i64       ┆ i64       ┆          │\n",
       "╞═══════════╪═══════════╪═══════════╪═══════════╪═══╪═══════════╪═══════════╪═══════════╪══════════╡\n",
       "│ 0         ┆ 0         ┆ 0         ┆ 0         ┆ … ┆ 0         ┆ 0         ┆ 2523682   ┆ 5346be78 │\n",
       "│           ┆           ┆           ┆           ┆   ┆           ┆           ┆           ┆ -67b1-46 │\n",
       "│           ┆           ┆           ┆           ┆   ┆           ┆           ┆           ┆ 00-82e3- │\n",
       "│           ┆           ┆           ┆           ┆   ┆           ┆           ┆           ┆ d62ba8…  │\n",
       "└───────────┴───────────┴───────────┴───────────┴───┴───────────┴───────────┴───────────┴──────────┘"
      ]
     },
     "execution_count": 3,
     "metadata": {},
     "output_type": "execute_result"
    }
   ],
   "source": [
    "query_text = \"\"\"\n",
    "    DROP TABLE db1.t_activated_citizen_id_mv\n",
    "    \"\"\"\n",
    "ch.query_run(query_text)"
   ]
  }
 ],
 "metadata": {
  "jupytext": {
   "formats": "ipynb,md"
  },
  "kernelspec": {
   "display_name": "myenv",
   "language": "python",
   "name": "python3"
  },
  "language_info": {
   "codemirror_mode": {
    "name": "ipython",
    "version": 3
   },
   "file_extension": ".py",
   "mimetype": "text/x-python",
   "name": "python",
   "nbconvert_exporter": "python",
   "pygments_lexer": "ipython3",
   "version": "3.12.11"
  }
 },
 "nbformat": 4,
 "nbformat_minor": 5
}

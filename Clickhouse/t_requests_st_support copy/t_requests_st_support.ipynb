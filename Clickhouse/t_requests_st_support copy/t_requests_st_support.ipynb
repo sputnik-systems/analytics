{
 "cells": [
  {
   "cell_type": "markdown",
   "id": "4780752b",
   "metadata": {},
   "source": [
    "## Start"
   ]
  },
  {
   "cell_type": "code",
   "execution_count": 19,
   "id": "873b2a43",
   "metadata": {},
   "outputs": [],
   "source": [
    "import clickhouse_connect\n",
    "import datetime\n",
    "import os\n",
    "import pytz\n",
    "import pandas as pd\n",
    "from dateutil.relativedelta import relativedelta\n",
    "from dotenv import load_dotenv\n",
    "\n",
    "import sys\n",
    "sys.path.append('/home/boris/Documents/Work/analytics/Clickhouse')\n",
    "from clickhouse_client import ClickHouse_client\n",
    "ch = ClickHouse_client()\n",
    "pd.set_option('display.max_rows', 1000)\n",
    "\n"
   ]
  },
  {
   "cell_type": "code",
   "execution_count": null,
   "id": "56e65cb8",
   "metadata": {},
   "outputs": [],
   "source": [
    "import boto3\n",
    "\n"
   ]
  },
  {
   "cell_type": "markdown",
   "id": "e2aaab6f",
   "metadata": {},
   "source": [
    "___\n",
    "### Tags: #Tables\n",
    "\n",
    "### Links: \n",
    "\n",
    "[[requests_st_support]]\n",
    "\n",
    "[[intercoms_dir_asgard]]\n",
    "\n",
    "[[intercoms_st_partner]]\n",
    "\n",
    "[[companies_dir_partner]]\n",
    "___"
   ]
  },
  {
   "cell_type": "code",
   "execution_count": 20,
   "id": "9e59a65a",
   "metadata": {},
   "outputs": [
    {
     "data": {
      "text/html": [
       "<div><style>\n",
       ".dataframe > thead > tr,\n",
       ".dataframe > tbody > tr {\n",
       "  text-align: right;\n",
       "  white-space: pre-wrap;\n",
       "}\n",
       "</style>\n",
       "<small>shape: (0, 0)</small><table border=\"1\" class=\"dataframe\"><thead><tr></tr><tr></tr></thead><tbody></tbody></table></div>"
      ],
      "text/plain": [
       "shape: (0, 0)\n",
       "┌┐\n",
       "╞╡\n",
       "└┘"
      ]
     },
     "execution_count": 20,
     "metadata": {},
     "output_type": "execute_result"
    }
   ],
   "source": [
    "query_text = \"\"\"--sql\n",
    "CREATE TABLE db1.t_requests_st_support\n",
    "    (\n",
    "        `report_date` Date,\n",
    "        `ticket_id` Int32,\n",
    "        `intercom_id` String,\n",
    "        `intercom_uuid` String,\n",
    "        `camera_id` String,\n",
    "        `server_stream_url` String,\n",
    "        `detailed_category` String,\n",
    "        `category` String,\n",
    "        `subcategory` String,\n",
    "        `maincategory` String,  \n",
    "        `version_os` String,\n",
    "        `version_app` String,\n",
    "        `partner_uuid` String,\n",
    "        `company_name` String,\n",
    "        `partner_lk` String,\n",
    "        `com_d_par.company_name` String,\n",
    "        `device_type` String\n",
    "    )\n",
    "    ENGINE = MergeTree()\n",
    "    ORDER BY report_date\n",
    "\"\"\"\n",
    "\n",
    "ch.query_run(query_text)"
   ]
  },
  {
   "cell_type": "code",
   "execution_count": null,
   "id": "3eeb0595",
   "metadata": {},
   "outputs": [
    {
     "data": {
      "text/html": [
       "<div><style>\n",
       ".dataframe > thead > tr,\n",
       ".dataframe > tbody > tr {\n",
       "  text-align: right;\n",
       "  white-space: pre-wrap;\n",
       "}\n",
       "</style>\n",
       "<small>shape: (0, 0)</small><table border=\"1\" class=\"dataframe\"><thead><tr></tr><tr></tr></thead><tbody></tbody></table></div>"
      ],
      "text/plain": [
       "shape: (0, 0)\n",
       "┌┐\n",
       "╞╡\n",
       "└┘"
      ]
     },
     "execution_count": 21,
     "metadata": {},
     "output_type": "execute_result"
    }
   ],
   "source": [
    "query_text = \"\"\"--sql\n",
    "    CREATE MATERIALIZED VIEW db1.t_requests_st_support_mv\n",
    "    REFRESH EVERY 1 DAY OFFSET 5 HOUR 35 MINUTE TO db1.t_requests_st_support AS\n",
    "    WITH t1 AS(\n",
    "SELECT \n",
    "    req_s_sup.`report_date` AS report_date, \n",
    "    `ticket_id`, \n",
    "    `intercom_id`, \n",
    "    int_d_as.`intercom_uuid` AS intercom_uuid,\n",
    "    `camera_id`,\n",
    "    `server_stream_url`, \n",
    "    replaceAll(trim(arrayJoin(splitByChar(',',i`category`))),'.','') AS `category`, \n",
    "    `version_os`, \n",
    "    `version_app`,\n",
    "    int_s_par.`partner_uuid` AS partner_uuid,\n",
    "    `company_name`,\n",
    "    `partner_lk`,\n",
    "    `device_type`,\n",
    "FROM `db1`.`requests_st_support_ch` AS req_s_sup\n",
    "LEFT JOIN db1.intercoms_dir_asgard_ch AS int_d_as ON int_d_as.motherboard_id = req_s_sup.intercom_id\n",
    "LEFT JOIN db1.intercoms_st_partner_ch AS int_s_par \n",
    "    ON  int_s_par.intercom_uuid = int_d_as.`intercom_uuid`\n",
    "    AND int_s_par.report_date = req_s_sup.`report_date`\n",
    "LEFT JOIN db1.companies_dir_partner_ch AS com_d_par\n",
    "    ON int_s_par.partner_uuid = com_d_par.partner_uuid\n",
    "   \t)\n",
    "--\n",
    "SELECT\n",
    "\treport_date,\n",
    "\tticket_id,\n",
    "\tintercom_id,\n",
    "\tintercom_uuid,\n",
    "\tcamera_id,\n",
    "    server_stream_url,\n",
    "    category,\n",
    "    splitByChar(':',category)[2] AS `detailed_category`,\n",
    "    if(splitByChar('|',splitByChar(':',category)[1])[2] = '','Main',splitByChar('|',splitByChar(':',category)[1])[2])  AS `subcategory`, \n",
    "    splitByChar('|',splitByChar(':',category)[1])[1] AS `maincategory`, \n",
    "    version_os, \n",
    "    version_app,\n",
    "    partner_uuid,\n",
    "    company_name,\n",
    "    partner_lk,\n",
    "    device_type,\n",
    "FROM t1\n",
    "    \"\"\"\n",
    "\n",
    "ch.query_run(query_text)"
   ]
  },
  {
   "cell_type": "markdown",
   "id": "a8fbdbda",
   "metadata": {},
   "source": [
    "___\n",
    "## Tools\n",
    "___\n",
    "### query\n"
   ]
  },
  {
   "cell_type": "code",
   "execution_count": 22,
   "id": "0b267d4a",
   "metadata": {},
   "outputs": [
    {
     "data": {
      "text/html": [
       "<div><style>\n",
       ".dataframe > thead > tr,\n",
       ".dataframe > tbody > tr {\n",
       "  text-align: right;\n",
       "  white-space: pre-wrap;\n",
       "}\n",
       "</style>\n",
       "<small>shape: (100, 17)</small><table border=\"1\" class=\"dataframe\"><thead><tr><th>report_date</th><th>ticket_id</th><th>intercom_id</th><th>intercom_uuid</th><th>camera_id</th><th>server_stream_url</th><th>detailed_category</th><th>category</th><th>subcategory</th><th>maincategory</th><th>version_os</th><th>version_app</th><th>partner_uuid</th><th>company_name</th><th>partner_lk</th><th>com_d_par.company_name</th><th>device_type</th></tr><tr><td>date</td><td>i64</td><td>str</td><td>str</td><td>str</td><td>str</td><td>str</td><td>str</td><td>str</td><td>str</td><td>str</td><td>str</td><td>str</td><td>str</td><td>str</td><td>str</td><td>str</td></tr></thead><tbody><tr><td>2025-07-22</td><td>197109</td><td>&quot;2018111747&quot;</td><td>&quot;c6179773-031f-48ec-bd00-2d7687…</td><td>&quot;&quot;</td><td>&quot;v08.sputnik.systems&quot;</td><td>&quot; глубина архива&quot;</td><td>&quot;MOB|Info: глубина архива&quot;</td><td>&quot;Info&quot;</td><td>&quot;MOB&quot;</td><td>&quot;iOS&quot;</td><td>&quot;4.32.0(7)&quot;</td><td>&quot;0e7236ac-b8bd-4ab0-8634-d165ad…</td><td>&quot;Цифрал Сервис УК&quot;</td><td>&quot;120345&quot;</td><td>&quot;&quot;</td><td>&quot;intercom&quot;</td></tr><tr><td>2025-07-22</td><td>197102</td><td>&quot;2101115815&quot;</td><td>&quot;85066ae3-7bff-489f-bb22-c12eb6…</td><td>&quot;&quot;</td><td>&quot;msk-v04.sputnik.systems&quot;</td><td>&quot; оффлайн&quot;</td><td>&quot;NET: оффлайн&quot;</td><td>&quot;Main&quot;</td><td>&quot;NET&quot;</td><td>&quot;iOS&quot;</td><td>&quot;4.34.0(12)&quot;</td><td>&quot;71c6b362-bf23-43c5-8762-ac0f12…</td><td>&quot;Частный дом&quot;</td><td>&quot;128024&quot;</td><td>&quot;&quot;</td><td>&quot;intercom&quot;</td></tr><tr><td>2025-07-22</td><td>197102</td><td>&quot;2101115815&quot;</td><td>&quot;85066ae3-7bff-489f-bb22-c12eb6…</td><td>&quot;&quot;</td><td>&quot;msk-v04.sputnik.systems&quot;</td><td>&quot; проблема с оплатой&quot;</td><td>&quot;MOB|Info: проблема с оплатой&quot;</td><td>&quot;Info&quot;</td><td>&quot;MOB&quot;</td><td>&quot;iOS&quot;</td><td>&quot;4.34.0(12)&quot;</td><td>&quot;71c6b362-bf23-43c5-8762-ac0f12…</td><td>&quot;Частный дом&quot;</td><td>&quot;128024&quot;</td><td>&quot;&quot;</td><td>&quot;intercom&quot;</td></tr><tr><td>2025-07-22</td><td>197100</td><td>&quot;1944102468&quot;</td><td>&quot;89b41829-d02e-4f82-aefd-5dff8e…</td><td>&quot;&quot;</td><td>&quot;msk-v01.sputnik.systems&quot;</td><td>&quot; сменить в приложении номер те…</td><td>&quot;MOB|Info: сменить в приложении…</td><td>&quot;Info&quot;</td><td>&quot;MOB&quot;</td><td>&quot;Android&quot;</td><td>&quot;6.21.1(417)&quot;</td><td>&quot;720c4488-0cd0-40f3-bc88-192f47…</td><td>&quot;DM SEVICE CONTROL SRL&quot;</td><td>&quot;120750&quot;</td><td>&quot;&quot;</td><td>&quot;intercom&quot;</td></tr><tr><td>2025-07-22</td><td>197104</td><td>&quot;2428254675&quot;</td><td>&quot;3ea617d3-70e6-43da-93d0-7a1f02…</td><td>&quot;&quot;</td><td>&quot;msk-v10.sputnik.systems&quot;</td><td>&quot;&quot;</td><td>&quot;Другое&quot;</td><td>&quot;Main&quot;</td><td>&quot;Другое&quot;</td><td>&quot;iOS&quot;</td><td>&quot;4.34.0(12)&quot;</td><td>&quot;684986ca-87e7-4d53-8a3c-8cb47a…</td><td>&quot;ДОМИНАНТ КРД&quot;</td><td>&quot;125759&quot;</td><td>&quot;&quot;</td><td>&quot;intercom&quot;</td></tr><tr><td>&hellip;</td><td>&hellip;</td><td>&hellip;</td><td>&hellip;</td><td>&hellip;</td><td>&hellip;</td><td>&hellip;</td><td>&hellip;</td><td>&hellip;</td><td>&hellip;</td><td>&hellip;</td><td>&hellip;</td><td>&hellip;</td><td>&hellip;</td><td>&hellip;</td><td>&hellip;</td><td>&hellip;</td></tr><tr><td>2025-07-22</td><td>197008</td><td>&quot;1944104592&quot;</td><td>&quot;800dbca3-8eab-425d-b144-da0774…</td><td>&quot;&quot;</td><td>&quot;msk-v04.sputnik.systems&quot;</td><td>&quot; оффлайн&quot;</td><td>&quot;NET: оффлайн&quot;</td><td>&quot;Main&quot;</td><td>&quot;NET&quot;</td><td>&quot;Android&quot;</td><td>&quot;6.21.1(417)&quot;</td><td>&quot;e7e86c75-fc8b-4710-839d-56ad86…</td><td>&quot;Цифрал Тольятти&quot;</td><td>&quot;152762&quot;</td><td>&quot;&quot;</td><td>&quot;intercom&quot;</td></tr><tr><td>2025-07-22</td><td>197008</td><td>&quot;1944104592&quot;</td><td>&quot;800dbca3-8eab-425d-b144-da0774…</td><td>&quot;&quot;</td><td>&quot;msk-v04.sputnik.systems&quot;</td><td>&quot; видео не работает&quot;</td><td>&quot;MOB|Video: видео не работает&quot;</td><td>&quot;Video&quot;</td><td>&quot;MOB&quot;</td><td>&quot;Android&quot;</td><td>&quot;6.21.1(417)&quot;</td><td>&quot;e7e86c75-fc8b-4710-839d-56ad86…</td><td>&quot;Цифрал Тольятти&quot;</td><td>&quot;152762&quot;</td><td>&quot;&quot;</td><td>&quot;intercom&quot;</td></tr><tr><td>2025-07-22</td><td>197029</td><td>&quot;2018112269&quot;</td><td>&quot;cdc93a98-f790-40b0-abde-d87c7c…</td><td>&quot;&quot;</td><td>&quot;v07.sputnik.systems&quot;</td><td>&quot; видеоархива нет/недоступен/не…</td><td>&quot;MOB|Storage: видеоархива нет/н…</td><td>&quot;Storage&quot;</td><td>&quot;MOB&quot;</td><td>&quot;Android&quot;</td><td>&quot;6.21.1(417)&quot;</td><td>&quot;e7e86c75-fc8b-4710-839d-56ad86…</td><td>&quot;Цифрал Тольятти&quot;</td><td>&quot;152762&quot;</td><td>&quot;&quot;</td><td>&quot;intercom&quot;</td></tr><tr><td>2025-07-22</td><td>197007</td><td>&quot;2235145459&quot;</td><td>&quot;9b26b1c0-e416-4713-8cbf-08b77a…</td><td>&quot;&quot;</td><td>&quot;msk-v06.sputnik.systems&quot;</td><td>&quot; видео нет/не работает/недосту…</td><td>&quot;DEV|Video: видео нет/не работа…</td><td>&quot;Video&quot;</td><td>&quot;DEV&quot;</td><td>&quot;iOS&quot;</td><td>&quot;4.34.0(12)&quot;</td><td>&quot;8fd57298-7c44-4000-afed-059a6f…</td><td>&quot;ООО Аркадэс ПРО&quot;</td><td>&quot;140869&quot;</td><td>&quot;&quot;</td><td>&quot;intercom&quot;</td></tr><tr><td>2025-07-22</td><td>197007</td><td>&quot;2235145459&quot;</td><td>&quot;9b26b1c0-e416-4713-8cbf-08b77a…</td><td>&quot;&quot;</td><td>&quot;msk-v06.sputnik.systems&quot;</td><td>&quot; домофон не работает&quot;</td><td>&quot;DEV: домофон не работает&quot;</td><td>&quot;Main&quot;</td><td>&quot;DEV&quot;</td><td>&quot;iOS&quot;</td><td>&quot;4.34.0(12)&quot;</td><td>&quot;8fd57298-7c44-4000-afed-059a6f…</td><td>&quot;ООО Аркадэс ПРО&quot;</td><td>&quot;140869&quot;</td><td>&quot;&quot;</td><td>&quot;intercom&quot;</td></tr></tbody></table></div>"
      ],
      "text/plain": [
       "shape: (100, 17)\n",
       "┌───────────┬───────────┬───────────┬───────────┬───┬───────────┬───────────┬───────────┬──────────┐\n",
       "│ report_da ┆ ticket_id ┆ intercom_ ┆ intercom_ ┆ … ┆ company_n ┆ partner_l ┆ com_d_par ┆ device_t │\n",
       "│ te        ┆ ---       ┆ id        ┆ uuid      ┆   ┆ ame       ┆ k         ┆ .company_ ┆ ype      │\n",
       "│ ---       ┆ i64       ┆ ---       ┆ ---       ┆   ┆ ---       ┆ ---       ┆ name      ┆ ---      │\n",
       "│ date      ┆           ┆ str       ┆ str       ┆   ┆ str       ┆ str       ┆ ---       ┆ str      │\n",
       "│           ┆           ┆           ┆           ┆   ┆           ┆           ┆ str       ┆          │\n",
       "╞═══════════╪═══════════╪═══════════╪═══════════╪═══╪═══════════╪═══════════╪═══════════╪══════════╡\n",
       "│ 2025-07-2 ┆ 197109    ┆ 201811174 ┆ c6179773- ┆ … ┆ Цифрал    ┆ 120345    ┆           ┆ intercom │\n",
       "│ 2         ┆           ┆ 7         ┆ 031f-48ec ┆   ┆ Сервис УК ┆           ┆           ┆          │\n",
       "│           ┆           ┆           ┆ -bd00-2d7 ┆   ┆           ┆           ┆           ┆          │\n",
       "│           ┆           ┆           ┆ 687…      ┆   ┆           ┆           ┆           ┆          │\n",
       "│ 2025-07-2 ┆ 197102    ┆ 210111581 ┆ 85066ae3- ┆ … ┆ Частный   ┆ 128024    ┆           ┆ intercom │\n",
       "│ 2         ┆           ┆ 5         ┆ 7bff-489f ┆   ┆ дом       ┆           ┆           ┆          │\n",
       "│           ┆           ┆           ┆ -bb22-c12 ┆   ┆           ┆           ┆           ┆          │\n",
       "│           ┆           ┆           ┆ eb6…      ┆   ┆           ┆           ┆           ┆          │\n",
       "│ 2025-07-2 ┆ 197102    ┆ 210111581 ┆ 85066ae3- ┆ … ┆ Частный   ┆ 128024    ┆           ┆ intercom │\n",
       "│ 2         ┆           ┆ 5         ┆ 7bff-489f ┆   ┆ дом       ┆           ┆           ┆          │\n",
       "│           ┆           ┆           ┆ -bb22-c12 ┆   ┆           ┆           ┆           ┆          │\n",
       "│           ┆           ┆           ┆ eb6…      ┆   ┆           ┆           ┆           ┆          │\n",
       "│ 2025-07-2 ┆ 197100    ┆ 194410246 ┆ 89b41829- ┆ … ┆ DM SEVICE ┆ 120750    ┆           ┆ intercom │\n",
       "│ 2         ┆           ┆ 8         ┆ d02e-4f82 ┆   ┆ CONTROL   ┆           ┆           ┆          │\n",
       "│           ┆           ┆           ┆ -aefd-5df ┆   ┆ SRL       ┆           ┆           ┆          │\n",
       "│           ┆           ┆           ┆ f8e…      ┆   ┆           ┆           ┆           ┆          │\n",
       "│ 2025-07-2 ┆ 197104    ┆ 242825467 ┆ 3ea617d3- ┆ … ┆ ДОМИНАНТ  ┆ 125759    ┆           ┆ intercom │\n",
       "│ 2         ┆           ┆ 5         ┆ 70e6-43da ┆   ┆ КРД       ┆           ┆           ┆          │\n",
       "│           ┆           ┆           ┆ -93d0-7a1 ┆   ┆           ┆           ┆           ┆          │\n",
       "│           ┆           ┆           ┆ f02…      ┆   ┆           ┆           ┆           ┆          │\n",
       "│ …         ┆ …         ┆ …         ┆ …         ┆ … ┆ …         ┆ …         ┆ …         ┆ …        │\n",
       "│ 2025-07-2 ┆ 197008    ┆ 194410459 ┆ 800dbca3- ┆ … ┆ Цифрал    ┆ 152762    ┆           ┆ intercom │\n",
       "│ 2         ┆           ┆ 2         ┆ 8eab-425d ┆   ┆ Тольятти  ┆           ┆           ┆          │\n",
       "│           ┆           ┆           ┆ -b144-da0 ┆   ┆           ┆           ┆           ┆          │\n",
       "│           ┆           ┆           ┆ 774…      ┆   ┆           ┆           ┆           ┆          │\n",
       "│ 2025-07-2 ┆ 197008    ┆ 194410459 ┆ 800dbca3- ┆ … ┆ Цифрал    ┆ 152762    ┆           ┆ intercom │\n",
       "│ 2         ┆           ┆ 2         ┆ 8eab-425d ┆   ┆ Тольятти  ┆           ┆           ┆          │\n",
       "│           ┆           ┆           ┆ -b144-da0 ┆   ┆           ┆           ┆           ┆          │\n",
       "│           ┆           ┆           ┆ 774…      ┆   ┆           ┆           ┆           ┆          │\n",
       "│ 2025-07-2 ┆ 197029    ┆ 201811226 ┆ cdc93a98- ┆ … ┆ Цифрал    ┆ 152762    ┆           ┆ intercom │\n",
       "│ 2         ┆           ┆ 9         ┆ f790-40b0 ┆   ┆ Тольятти  ┆           ┆           ┆          │\n",
       "│           ┆           ┆           ┆ -abde-d87 ┆   ┆           ┆           ┆           ┆          │\n",
       "│           ┆           ┆           ┆ c7c…      ┆   ┆           ┆           ┆           ┆          │\n",
       "│ 2025-07-2 ┆ 197007    ┆ 223514545 ┆ 9b26b1c0- ┆ … ┆ ООО       ┆ 140869    ┆           ┆ intercom │\n",
       "│ 2         ┆           ┆ 9         ┆ e416-4713 ┆   ┆ Аркадэс   ┆           ┆           ┆          │\n",
       "│           ┆           ┆           ┆ -8cbf-08b ┆   ┆ ПРО       ┆           ┆           ┆          │\n",
       "│           ┆           ┆           ┆ 77a…      ┆   ┆           ┆           ┆           ┆          │\n",
       "│ 2025-07-2 ┆ 197007    ┆ 223514545 ┆ 9b26b1c0- ┆ … ┆ ООО       ┆ 140869    ┆           ┆ intercom │\n",
       "│ 2         ┆           ┆ 9         ┆ e416-4713 ┆   ┆ Аркадэс   ┆           ┆           ┆          │\n",
       "│           ┆           ┆           ┆ -8cbf-08b ┆   ┆ ПРО       ┆           ┆           ┆          │\n",
       "│           ┆           ┆           ┆ 77a…      ┆   ┆           ┆           ┆           ┆          │\n",
       "└───────────┴───────────┴───────────┴───────────┴───┴───────────┴───────────┴───────────┴──────────┘"
      ]
     },
     "execution_count": 22,
     "metadata": {},
     "output_type": "execute_result"
    }
   ],
   "source": [
    "query_text = \"\"\"--sql\n",
    "    SELECT\n",
    "        *\n",
    "    FROM db1.t_requests_st_support\n",
    "    ORDER BY report_date desc\n",
    "    limit 100\n",
    "    \"\"\"\n",
    "\n",
    "ch.query_run(query_text)\n"
   ]
  },
  {
   "cell_type": "markdown",
   "id": "d454c50d",
   "metadata": {},
   "source": [
    "### delete a part\n"
   ]
  },
  {
   "cell_type": "code",
   "execution_count": null,
   "id": "c5132e17",
   "metadata": {},
   "outputs": [],
   "source": [
    "query_text = \"\"\"--sql\n",
    "    ALTER TABLE db1.t_requests_st_support DELETE WHERE report_date = '2025-07-17'\n",
    "    \"\"\"\n",
    "\n",
    "ch.query_run(query_text)\n"
   ]
  },
  {
   "cell_type": "markdown",
   "id": "f27b3c96",
   "metadata": {},
   "source": [
    "### drop mv"
   ]
  },
  {
   "cell_type": "code",
   "execution_count": 17,
   "id": "2aa23f4b",
   "metadata": {},
   "outputs": [
    {
     "data": {
      "text/html": [
       "<div><style>\n",
       ".dataframe > thead > tr,\n",
       ".dataframe > tbody > tr {\n",
       "  text-align: right;\n",
       "  white-space: pre-wrap;\n",
       "}\n",
       "</style>\n",
       "<small>shape: (0, 0)</small><table border=\"1\" class=\"dataframe\"><thead><tr></tr><tr></tr></thead><tbody></tbody></table></div>"
      ],
      "text/plain": [
       "shape: (0, 0)\n",
       "┌┐\n",
       "╞╡\n",
       "└┘"
      ]
     },
     "execution_count": 17,
     "metadata": {},
     "output_type": "execute_result"
    }
   ],
   "source": [
    "query_text = \"\"\"--sql\n",
    "    DROP TABLE db1.t_requests_st_support_mv\n",
    "    \"\"\"\n",
    "\n",
    "ch.query_run(query_text)"
   ]
  },
  {
   "cell_type": "markdown",
   "id": "14f3334d",
   "metadata": {},
   "source": [
    "\n",
    "### drop ch"
   ]
  },
  {
   "cell_type": "code",
   "execution_count": 18,
   "id": "28fd7aa0",
   "metadata": {},
   "outputs": [
    {
     "data": {
      "text/html": [
       "<div><style>\n",
       ".dataframe > thead > tr,\n",
       ".dataframe > tbody > tr {\n",
       "  text-align: right;\n",
       "  white-space: pre-wrap;\n",
       "}\n",
       "</style>\n",
       "<small>shape: (0, 0)</small><table border=\"1\" class=\"dataframe\"><thead><tr></tr><tr></tr></thead><tbody></tbody></table></div>"
      ],
      "text/plain": [
       "shape: (0, 0)\n",
       "┌┐\n",
       "╞╡\n",
       "└┘"
      ]
     },
     "execution_count": 18,
     "metadata": {},
     "output_type": "execute_result"
    }
   ],
   "source": [
    "query_text = \"\"\"--sql\n",
    "    DROP TABLE db1.t_requests_st_support\n",
    "    \"\"\"\n",
    "\n",
    "ch.query_run(query_text)"
   ]
  },
  {
   "cell_type": "markdown",
   "id": "8e85f950",
   "metadata": {},
   "source": [
    "### refresh mv"
   ]
  },
  {
   "cell_type": "code",
   "execution_count": 5,
   "id": "8df08f49",
   "metadata": {},
   "outputs": [
    {
     "data": {
      "text/html": [
       "<div><style>\n",
       ".dataframe > thead > tr,\n",
       ".dataframe > tbody > tr {\n",
       "  text-align: right;\n",
       "  white-space: pre-wrap;\n",
       "}\n",
       "</style>\n",
       "<small>shape: (1, 2)</small><table border=\"1\" class=\"dataframe\"><thead><tr><th>elapsed_ns</th><th>query_id</th></tr><tr><td>i64</td><td>str</td></tr></thead><tbody><tr><td>762558</td><td>&quot;b8a0939c-8390-471b-99f8-16ccf5…</td></tr></tbody></table></div>"
      ],
      "text/plain": [
       "shape: (1, 2)\n",
       "┌────────────┬─────────────────────────────────┐\n",
       "│ elapsed_ns ┆ query_id                        │\n",
       "│ ---        ┆ ---                             │\n",
       "│ i64        ┆ str                             │\n",
       "╞════════════╪═════════════════════════════════╡\n",
       "│ 762558     ┆ b8a0939c-8390-471b-99f8-16ccf5… │\n",
       "└────────────┴─────────────────────────────────┘"
      ]
     },
     "execution_count": 5,
     "metadata": {},
     "output_type": "execute_result"
    }
   ],
   "source": [
    "query_text = \"\"\"\n",
    "SYSTEM REFRESH VIEW db1.t_requests_st_support_mv\n",
    "\"\"\"\n",
    "\n",
    "ch.query_run(query_text)"
   ]
  }
 ],
 "metadata": {
  "jupytext": {
   "formats": "ipynb,md"
  },
  "kernelspec": {
   "display_name": "myenv",
   "language": "python",
   "name": "python3"
  },
  "language_info": {
   "codemirror_mode": {
    "name": "ipython",
    "version": 3
   },
   "file_extension": ".py",
   "mimetype": "text/x-python",
   "name": "python",
   "nbconvert_exporter": "python",
   "pygments_lexer": "ipython3",
   "version": "3.12.11"
  }
 },
 "nbformat": 4,
 "nbformat_minor": 5
}

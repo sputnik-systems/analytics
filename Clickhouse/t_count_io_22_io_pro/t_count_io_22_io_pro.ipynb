{
 "cells": [
  {
   "cell_type": "markdown",
   "id": "4c71c022",
   "metadata": {},
   "source": [
    "## Start"
   ]
  },
  {
   "cell_type": "code",
   "execution_count": 1,
   "id": "a5c012f1",
   "metadata": {},
   "outputs": [],
   "source": [
    "import clickhouse_connect\n",
    "import datetime\n",
    "import os\n",
    "import pytz\n",
    "import pandas as pd\n",
    "from dateutil.relativedelta import relativedelta\n",
    "from dotenv import load_dotenv\n",
    "import sys\n",
    "sys.path.append('/home/boris/Documents/Work/analytics/Clickhouse')\n",
    "from clickhouse_client import ClickHouse_client\n",
    "ch = ClickHouse_client()\n",
    "pd.set_option('display.max_rows', 1000)"
   ]
  },
  {
   "cell_type": "markdown",
   "id": "ed4e479f",
   "metadata": {},
   "source": [
    "___\n",
    "## Tags: #Tables\n",
    "___\n",
    "## Links:\n",
    "[[intercoms_st_partner]]\n",
    "\n",
    "[[companies_st_partner]]\n",
    "\n",
    "[[companies_dir_partner]]"
   ]
  },
  {
   "cell_type": "markdown",
   "id": "63f062a4",
   "metadata": {},
   "source": [
    "___\n",
    "## Table_creating"
   ]
  },
  {
   "cell_type": "code",
   "execution_count": 4,
   "id": "f34d3298",
   "metadata": {},
   "outputs": [
    {
     "data": {
      "text/html": [
       "<div><style>\n",
       ".dataframe > thead > tr,\n",
       ".dataframe > tbody > tr {\n",
       "  text-align: right;\n",
       "  white-space: pre-wrap;\n",
       "}\n",
       "</style>\n",
       "<small>shape: (0, 0)</small><table border=\"1\" class=\"dataframe\"><thead><tr></tr><tr></tr></thead><tbody></tbody></table></div>"
      ],
      "text/plain": [
       "shape: (0, 0)\n",
       "┌┐\n",
       "╞╡\n",
       "└┘"
      ]
     },
     "execution_count": 4,
     "metadata": {},
     "output_type": "execute_result"
    }
   ],
   "source": [
    "query_text = \"\"\"--sql\n",
    "    CREATE TABLE db1.t_count_io_22_io_pro\n",
    "    (\n",
    "    `report_date` Date,\n",
    "    `partner_uuid` String,\n",
    "    `io_pro_count` UInt64,\n",
    "    `gos22_count` UInt64,\n",
    "    `io22_count` UInt64,\n",
    "    `simple_count` UInt64,\n",
    "    `status` String,\n",
    "    `company_name` String,\n",
    "    `partner_lk` String,\n",
    "    `tin` String\n",
    "    )\n",
    "    ENGINE = MergeTree()\n",
    "    ORDER BY partner_uuid\n",
    "    \"\"\"\n",
    "\n",
    "ch.query_run(query_text)"
   ]
  },
  {
   "cell_type": "markdown",
   "id": "699eb9c0",
   "metadata": {},
   "source": [
    "___\n",
    "## MV_creating"
   ]
  },
  {
   "cell_type": "code",
   "execution_count": 8,
   "id": "08b4bda8",
   "metadata": {},
   "outputs": [
    {
     "data": {
      "text/html": [
       "<div><style>\n",
       ".dataframe > thead > tr,\n",
       ".dataframe > tbody > tr {\n",
       "  text-align: right;\n",
       "  white-space: pre-wrap;\n",
       "}\n",
       "</style>\n",
       "<small>shape: (0, 0)</small><table border=\"1\" class=\"dataframe\"><thead><tr></tr><tr></tr></thead><tbody></tbody></table></div>"
      ],
      "text/plain": [
       "shape: (0, 0)\n",
       "┌┐\n",
       "╞╡\n",
       "└┘"
      ]
     },
     "execution_count": 8,
     "metadata": {},
     "output_type": "execute_result"
    }
   ],
   "source": [
    "query_text = \"\"\"--sql\n",
    "    CREATE MATERIALIZED VIEW db1.t_count_io_22_io_pro_mv\n",
    "    REFRESH EVERY 1 DAY OFFSET 5 HOUR 18 MINUTE TO db1.t_count_io_22_io_pro AS\n",
    "\tWITH intercom_count AS(\n",
    "\t\tSELECT\n",
    "\t\t\treport_date,\n",
    "\t\t\tpartner_uuid,\n",
    "\t\t\tCOUNT(DISTINCT IF(model_identifier = 'io_pro',intercom_uuid,null)) io_pro_count,\n",
    "\t\t\tCOUNT(DISTINCT IF(model_identifier = 'gos22',intercom_uuid,null)) gos22_count,\n",
    "\t\t\tCOUNT(DISTINCT IF(model_identifier = 'io22',intercom_uuid,null)) io22_count,\n",
    "\t\t\tCOUNT(DISTINCT IF(model_identifier = '',intercom_uuid,null)) simple_count\n",
    "\t\tFROM db1.`intercoms_st_partner_ch` \n",
    "\t\tGROUP BY \n",
    "\t\t\treport_date,\n",
    "\t\t\tpartner_uuid\n",
    "\t\t)\n",
    "\tSELECT\n",
    "\t\tintercom_count.report_date AS report_date,\n",
    "\t\tintercom_count.partner_uuid AS partner_uuid,\n",
    "\t\tio_pro_count,\n",
    "\t\tgos22_count,\n",
    "\t\tio22_count,\n",
    "\t\tsimple_count,\n",
    "\t\tCASE \n",
    "\t\t\tWHEN (`enterprise_subs` = 1 or `enterprise_not_paid` = 1) THEN 'Enterprise' \n",
    "\t\t\tWHEN (`pro_subs` = 1) THEN 'PRO' \n",
    "\t\t\tELSE 'Start'\n",
    "\t\tEND AS `status`,\n",
    "\t\tcompany_name,\n",
    "\t\tpartner_lk,\n",
    "\t\ttin\n",
    "\tFROM intercom_count\n",
    "\tLEFT JOIN db1.`companies_st_partner_ch` ON intercom_count.partner_uuid = companies_st_partner_ch.partner_uuid \n",
    "\t\t\t\t\t\t\t\t\t\t\tAND intercom_count.report_date = companies_st_partner_ch.report_date\n",
    "\tLEFT JOIN db1.`companies_dir_partner_ch` ON companies_dir_partner_ch.partner_uuid = intercom_count.partner_uuid\n",
    "\"\"\"\n",
    "\n",
    "ch.query_run(query_text)"
   ]
  },
  {
   "cell_type": "markdown",
   "id": "d78ab400",
   "metadata": {},
   "source": [
    "___\n",
    "## Tools\n",
    "___"
   ]
  },
  {
   "cell_type": "markdown",
   "id": "981653eb",
   "metadata": {},
   "source": [
    "### query"
   ]
  },
  {
   "cell_type": "code",
   "execution_count": 12,
   "id": "12ad8a39",
   "metadata": {},
   "outputs": [
    {
     "data": {
      "text/html": [
       "<div><style>\n",
       ".dataframe > thead > tr,\n",
       ".dataframe > tbody > tr {\n",
       "  text-align: right;\n",
       "  white-space: pre-wrap;\n",
       "}\n",
       "</style>\n",
       "<small>shape: (100, 10)</small><table border=\"1\" class=\"dataframe\"><thead><tr><th>report_date</th><th>partner_uuid</th><th>io_pro_count</th><th>gos22_count</th><th>io22_count</th><th>simple_count</th><th>status</th><th>company_name</th><th>partner_lk</th><th>tin</th></tr><tr><td>date</td><td>str</td><td>i64</td><td>i64</td><td>i64</td><td>i64</td><td>str</td><td>str</td><td>str</td><td>str</td></tr></thead><tbody><tr><td>2025-08-14</td><td>&quot;b8615179-f3da-412b-a64e-3b393d…</td><td>0</td><td>3</td><td>0</td><td>8</td><td>&quot;Start&quot;</td><td>&quot;Строй Мастер Домофон Плюс&quot;</td><td>&quot;135331&quot;</td><td>&quot;&quot;</td></tr><tr><td>2025-04-23</td><td>&quot;b8615179-f3da-412b-a64e-3b393d…</td><td>0</td><td>3</td><td>0</td><td>6</td><td>&quot;Start&quot;</td><td>&quot;Строй Мастер Домофон Плюс&quot;</td><td>&quot;135331&quot;</td><td>&quot;&quot;</td></tr><tr><td>2025-05-16</td><td>&quot;b8615179-f3da-412b-a64e-3b393d…</td><td>0</td><td>3</td><td>0</td><td>6</td><td>&quot;Start&quot;</td><td>&quot;Строй Мастер Домофон Плюс&quot;</td><td>&quot;135331&quot;</td><td>&quot;&quot;</td></tr><tr><td>2025-05-02</td><td>&quot;b8615179-f3da-412b-a64e-3b393d…</td><td>0</td><td>3</td><td>0</td><td>6</td><td>&quot;Start&quot;</td><td>&quot;Строй Мастер Домофон Плюс&quot;</td><td>&quot;135331&quot;</td><td>&quot;&quot;</td></tr><tr><td>2025-07-20</td><td>&quot;b8615179-f3da-412b-a64e-3b393d…</td><td>0</td><td>3</td><td>0</td><td>8</td><td>&quot;Start&quot;</td><td>&quot;Строй Мастер Домофон Плюс&quot;</td><td>&quot;135331&quot;</td><td>&quot;&quot;</td></tr><tr><td>&hellip;</td><td>&hellip;</td><td>&hellip;</td><td>&hellip;</td><td>&hellip;</td><td>&hellip;</td><td>&hellip;</td><td>&hellip;</td><td>&hellip;</td><td>&hellip;</td></tr><tr><td>2025-03-23</td><td>&quot;b8615179-f3da-412b-a64e-3b393d…</td><td>0</td><td>1</td><td>0</td><td>6</td><td>&quot;Start&quot;</td><td>&quot;Строй Мастер Домофон Плюс&quot;</td><td>&quot;135331&quot;</td><td>&quot;&quot;</td></tr><tr><td>2025-03-30</td><td>&quot;b8615179-f3da-412b-a64e-3b393d…</td><td>0</td><td>1</td><td>0</td><td>6</td><td>&quot;Start&quot;</td><td>&quot;Строй Мастер Домофон Плюс&quot;</td><td>&quot;135331&quot;</td><td>&quot;&quot;</td></tr><tr><td>2025-03-24</td><td>&quot;b8615179-f3da-412b-a64e-3b393d…</td><td>0</td><td>1</td><td>0</td><td>6</td><td>&quot;Start&quot;</td><td>&quot;Строй Мастер Домофон Плюс&quot;</td><td>&quot;135331&quot;</td><td>&quot;&quot;</td></tr><tr><td>2025-08-02</td><td>&quot;b8615179-f3da-412b-a64e-3b393d…</td><td>0</td><td>3</td><td>0</td><td>8</td><td>&quot;Start&quot;</td><td>&quot;Строй Мастер Домофон Плюс&quot;</td><td>&quot;135331&quot;</td><td>&quot;&quot;</td></tr><tr><td>2025-05-13</td><td>&quot;b8615179-f3da-412b-a64e-3b393d…</td><td>0</td><td>3</td><td>0</td><td>6</td><td>&quot;Start&quot;</td><td>&quot;Строй Мастер Домофон Плюс&quot;</td><td>&quot;135331&quot;</td><td>&quot;&quot;</td></tr></tbody></table></div>"
      ],
      "text/plain": [
       "shape: (100, 10)\n",
       "┌─────────────┬─────────────┬────────────┬────────────┬───┬────────┬────────────┬────────────┬─────┐\n",
       "│ report_date ┆ partner_uui ┆ io_pro_cou ┆ gos22_coun ┆ … ┆ status ┆ company_na ┆ partner_lk ┆ tin │\n",
       "│ ---         ┆ d           ┆ nt         ┆ t          ┆   ┆ ---    ┆ me         ┆ ---        ┆ --- │\n",
       "│ date        ┆ ---         ┆ ---        ┆ ---        ┆   ┆ str    ┆ ---        ┆ str        ┆ str │\n",
       "│             ┆ str         ┆ i64        ┆ i64        ┆   ┆        ┆ str        ┆            ┆     │\n",
       "╞═════════════╪═════════════╪════════════╪════════════╪═══╪════════╪════════════╪════════════╪═════╡\n",
       "│ 2025-08-14  ┆ b8615179-f3 ┆ 0          ┆ 3          ┆ … ┆ Start  ┆ Строй      ┆ 135331     ┆     │\n",
       "│             ┆ da-412b-a64 ┆            ┆            ┆   ┆        ┆ Мастер     ┆            ┆     │\n",
       "│             ┆ e-3b393d…   ┆            ┆            ┆   ┆        ┆ Домофон    ┆            ┆     │\n",
       "│             ┆             ┆            ┆            ┆   ┆        ┆ Плюс       ┆            ┆     │\n",
       "│ 2025-04-23  ┆ b8615179-f3 ┆ 0          ┆ 3          ┆ … ┆ Start  ┆ Строй      ┆ 135331     ┆     │\n",
       "│             ┆ da-412b-a64 ┆            ┆            ┆   ┆        ┆ Мастер     ┆            ┆     │\n",
       "│             ┆ e-3b393d…   ┆            ┆            ┆   ┆        ┆ Домофон    ┆            ┆     │\n",
       "│             ┆             ┆            ┆            ┆   ┆        ┆ Плюс       ┆            ┆     │\n",
       "│ 2025-05-16  ┆ b8615179-f3 ┆ 0          ┆ 3          ┆ … ┆ Start  ┆ Строй      ┆ 135331     ┆     │\n",
       "│             ┆ da-412b-a64 ┆            ┆            ┆   ┆        ┆ Мастер     ┆            ┆     │\n",
       "│             ┆ e-3b393d…   ┆            ┆            ┆   ┆        ┆ Домофон    ┆            ┆     │\n",
       "│             ┆             ┆            ┆            ┆   ┆        ┆ Плюс       ┆            ┆     │\n",
       "│ 2025-05-02  ┆ b8615179-f3 ┆ 0          ┆ 3          ┆ … ┆ Start  ┆ Строй      ┆ 135331     ┆     │\n",
       "│             ┆ da-412b-a64 ┆            ┆            ┆   ┆        ┆ Мастер     ┆            ┆     │\n",
       "│             ┆ e-3b393d…   ┆            ┆            ┆   ┆        ┆ Домофон    ┆            ┆     │\n",
       "│             ┆             ┆            ┆            ┆   ┆        ┆ Плюс       ┆            ┆     │\n",
       "│ 2025-07-20  ┆ b8615179-f3 ┆ 0          ┆ 3          ┆ … ┆ Start  ┆ Строй      ┆ 135331     ┆     │\n",
       "│             ┆ da-412b-a64 ┆            ┆            ┆   ┆        ┆ Мастер     ┆            ┆     │\n",
       "│             ┆ e-3b393d…   ┆            ┆            ┆   ┆        ┆ Домофон    ┆            ┆     │\n",
       "│             ┆             ┆            ┆            ┆   ┆        ┆ Плюс       ┆            ┆     │\n",
       "│ …           ┆ …           ┆ …          ┆ …          ┆ … ┆ …      ┆ …          ┆ …          ┆ …   │\n",
       "│ 2025-03-23  ┆ b8615179-f3 ┆ 0          ┆ 1          ┆ … ┆ Start  ┆ Строй      ┆ 135331     ┆     │\n",
       "│             ┆ da-412b-a64 ┆            ┆            ┆   ┆        ┆ Мастер     ┆            ┆     │\n",
       "│             ┆ e-3b393d…   ┆            ┆            ┆   ┆        ┆ Домофон    ┆            ┆     │\n",
       "│             ┆             ┆            ┆            ┆   ┆        ┆ Плюс       ┆            ┆     │\n",
       "│ 2025-03-30  ┆ b8615179-f3 ┆ 0          ┆ 1          ┆ … ┆ Start  ┆ Строй      ┆ 135331     ┆     │\n",
       "│             ┆ da-412b-a64 ┆            ┆            ┆   ┆        ┆ Мастер     ┆            ┆     │\n",
       "│             ┆ e-3b393d…   ┆            ┆            ┆   ┆        ┆ Домофон    ┆            ┆     │\n",
       "│             ┆             ┆            ┆            ┆   ┆        ┆ Плюс       ┆            ┆     │\n",
       "│ 2025-03-24  ┆ b8615179-f3 ┆ 0          ┆ 1          ┆ … ┆ Start  ┆ Строй      ┆ 135331     ┆     │\n",
       "│             ┆ da-412b-a64 ┆            ┆            ┆   ┆        ┆ Мастер     ┆            ┆     │\n",
       "│             ┆ e-3b393d…   ┆            ┆            ┆   ┆        ┆ Домофон    ┆            ┆     │\n",
       "│             ┆             ┆            ┆            ┆   ┆        ┆ Плюс       ┆            ┆     │\n",
       "│ 2025-08-02  ┆ b8615179-f3 ┆ 0          ┆ 3          ┆ … ┆ Start  ┆ Строй      ┆ 135331     ┆     │\n",
       "│             ┆ da-412b-a64 ┆            ┆            ┆   ┆        ┆ Мастер     ┆            ┆     │\n",
       "│             ┆ e-3b393d…   ┆            ┆            ┆   ┆        ┆ Домофон    ┆            ┆     │\n",
       "│             ┆             ┆            ┆            ┆   ┆        ┆ Плюс       ┆            ┆     │\n",
       "│ 2025-05-13  ┆ b8615179-f3 ┆ 0          ┆ 3          ┆ … ┆ Start  ┆ Строй      ┆ 135331     ┆     │\n",
       "│             ┆ da-412b-a64 ┆            ┆            ┆   ┆        ┆ Мастер     ┆            ┆     │\n",
       "│             ┆ e-3b393d…   ┆            ┆            ┆   ┆        ┆ Домофон    ┆            ┆     │\n",
       "│             ┆             ┆            ┆            ┆   ┆        ┆ Плюс       ┆            ┆     │\n",
       "└─────────────┴─────────────┴────────────┴────────────┴───┴────────┴────────────┴────────────┴─────┘"
      ]
     },
     "execution_count": 12,
     "metadata": {},
     "output_type": "execute_result"
    }
   ],
   "source": [
    "query_text = \"\"\"--sql\n",
    "SELECT\n",
    "    *\n",
    "FROM db1.t_count_io_22_io_pro\n",
    "WHERE gos22_count !=0\n",
    "limit 100\n",
    "\n",
    "\"\"\"\n",
    "\n",
    "ch.query_run(query_text)"
   ]
  },
  {
   "cell_type": "markdown",
   "id": "ddba06cf",
   "metadata": {},
   "source": [
    "### refreash_mv"
   ]
  },
  {
   "cell_type": "code",
   "execution_count": null,
   "id": "e96cfb32",
   "metadata": {},
   "outputs": [],
   "source": [
    "query_text = \"\"\"\n",
    "SYSTEM REFRESH VIEW db1.t_count_io_22_io_pro_mv\n",
    "\"\"\"\n",
    "\n",
    "ch.query_run(query_text)"
   ]
  },
  {
   "cell_type": "markdown",
   "id": "6120891a",
   "metadata": {},
   "source": [
    "___\n",
    "### drop_table"
   ]
  },
  {
   "cell_type": "code",
   "execution_count": null,
   "id": "9f6c3756",
   "metadata": {},
   "outputs": [
    {
     "data": {
      "text/html": [
       "<div><style>\n",
       ".dataframe > thead > tr,\n",
       ".dataframe > tbody > tr {\n",
       "  text-align: right;\n",
       "  white-space: pre-wrap;\n",
       "}\n",
       "</style>\n",
       "<small>shape: (1, 2)</small><table border=\"1\" class=\"dataframe\"><thead><tr><th>elapsed_ns</th><th>query_id</th></tr><tr><td>i64</td><td>str</td></tr></thead><tbody><tr><td>15934238</td><td>&quot;e194b986-cabc-4d87-8140-88e42d…</td></tr></tbody></table></div>"
      ],
      "text/plain": [
       "shape: (1, 2)\n",
       "┌────────────┬─────────────────────────────────┐\n",
       "│ elapsed_ns ┆ query_id                        │\n",
       "│ ---        ┆ ---                             │\n",
       "│ i64        ┆ str                             │\n",
       "╞════════════╪═════════════════════════════════╡\n",
       "│ 15934238   ┆ e194b986-cabc-4d87-8140-88e42d… │\n",
       "└────────────┴─────────────────────────────────┘"
      ]
     },
     "execution_count": 3,
     "metadata": {},
     "output_type": "execute_result"
    }
   ],
   "source": [
    "query_text = \"\"\" \n",
    "DROP TABLE db1.t_count_io_22_io_pro\n",
    "\"\"\"\n",
    "\n",
    "ch.query_run(query_text)"
   ]
  },
  {
   "cell_type": "markdown",
   "id": "3bde26cd",
   "metadata": {},
   "source": [
    "### drop_mv"
   ]
  },
  {
   "cell_type": "code",
   "execution_count": 7,
   "id": "0bd503ac",
   "metadata": {},
   "outputs": [
    {
     "data": {
      "text/html": [
       "<div><style>\n",
       ".dataframe > thead > tr,\n",
       ".dataframe > tbody > tr {\n",
       "  text-align: right;\n",
       "  white-space: pre-wrap;\n",
       "}\n",
       "</style>\n",
       "<small>shape: (1, 2)</small><table border=\"1\" class=\"dataframe\"><thead><tr><th>elapsed_ns</th><th>query_id</th></tr><tr><td>i64</td><td>str</td></tr></thead><tbody><tr><td>1115085</td><td>&quot;95c704c0-b44c-4fed-aa34-ef1fbc…</td></tr></tbody></table></div>"
      ],
      "text/plain": [
       "shape: (1, 2)\n",
       "┌────────────┬─────────────────────────────────┐\n",
       "│ elapsed_ns ┆ query_id                        │\n",
       "│ ---        ┆ ---                             │\n",
       "│ i64        ┆ str                             │\n",
       "╞════════════╪═════════════════════════════════╡\n",
       "│ 1115085    ┆ 95c704c0-b44c-4fed-aa34-ef1fbc… │\n",
       "└────────────┴─────────────────────────────────┘"
      ]
     },
     "execution_count": 7,
     "metadata": {},
     "output_type": "execute_result"
    }
   ],
   "source": [
    "query_text = \"\"\" \n",
    "DROP TABLE db1.t_count_io_22_io_pro_mv\n",
    "\"\"\"\n",
    "\n",
    "ch.query_run(query_text)"
   ]
  }
 ],
 "metadata": {
  "jupytext": {
   "formats": "ipynb,md"
  },
  "kernelspec": {
   "display_name": "myenv",
   "language": "python",
   "name": "python3"
  },
  "language_info": {
   "codemirror_mode": {
    "name": "ipython",
    "version": 3
   },
   "file_extension": ".py",
   "mimetype": "text/x-python",
   "name": "python",
   "nbconvert_exporter": "python",
   "pygments_lexer": "ipython3",
   "version": "3.12.11"
  }
 },
 "nbformat": 4,
 "nbformat_minor": 5
}

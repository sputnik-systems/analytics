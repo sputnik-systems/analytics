{
 "cells": [
  {
   "cell_type": "markdown",
   "id": "a85ac2b8",
   "metadata": {},
   "source": [
    "# Start"
   ]
  },
  {
   "cell_type": "code",
   "execution_count": null,
   "id": "43d463d6",
   "metadata": {},
   "outputs": [],
   "source": [
    "import clickhouse_connect\n",
    "import datetime\n",
    "import os\n",
    "import pytz\n",
    "import pandas as pd\n",
    "from dateutil.relativedelta import relativedelta\n",
    "from dotenv import load_dotenv\n",
    "import sys\n",
    "sys.path.append('/home/boris/Documents/Work/analytics/Clickhouse')\n",
    "from clickhouse_client import ClickHouse_client\n",
    "ch = ClickHouse_client()\n",
    "pd.set_option('display.max_rows', 1000)"
   ]
  },
  {
   "cell_type": "markdown",
   "id": "fb8455f7",
   "metadata": {},
   "source": [
    "# Links:\n",
    "\n",
    "[[cameras_st_asgard]]<br>\n",
    "[[cameras_dir_partner]]<br>\n",
    "[[companies_st_partner]]<br>\n",
    "[[companies_dir_partner]]<br>"
   ]
  },
  {
   "cell_type": "markdown",
   "id": "93ebf893",
   "metadata": {},
   "source": [
    "# Creating a table\n"
   ]
  },
  {
   "cell_type": "code",
   "execution_count": null,
   "id": "06c04fb3",
   "metadata": {},
   "outputs": [],
   "source": [
    "query_text = \"\"\"--sql\n",
    "    CREATE TABLE db1.t_cameras_by_companies \n",
    "    (\n",
    "        `tariff_full` String,\n",
    "        `report_date` Date, \n",
    "        `partner_uuid` String,\n",
    "        `partner_lk` String,\n",
    "        `company_name` String,\n",
    "        `tin` String,\n",
    "        `kpp` String,\n",
    "        `camera_with_intercom_count` UInt32,\n",
    "        `external_camera_izi_count` UInt32,\n",
    "        `external_camera_foreign_count` UInt32\n",
    "    )\n",
    "    ENGINE = MergeTree()\n",
    "    ORDER BY report_date\n",
    "    \"\"\"\n",
    "ch.query_run(query_text)"
   ]
  },
  {
   "cell_type": "markdown",
   "id": "20b765fd",
   "metadata": {},
   "source": [
    "# Creating mv"
   ]
  },
  {
   "cell_type": "code",
   "execution_count": null,
   "id": "6d9f3a25",
   "metadata": {},
   "outputs": [],
   "source": [
    "query_text = \"\"\"--sql\n",
    "CREATE MATERIALIZED VIEW db1.t_cameras_by_companies_mv\n",
    "REFRESH EVERY 1 DAY OFFSET 5 HOUR 15 MINUTE TO db1.t_cameras_by_companies AS\n",
    "SELECT\n",
    "    comp_s_par.tariff_full AS tariff_full,\n",
    "    cam_s_asg.report_date AS report_date, \n",
    "    cam_s_asg.partner_uuid AS partner_uuid,\n",
    "    comp_d_par.partner_lk AS partner_lk,\n",
    "    comp_d_par.company_name AS company_name,\n",
    "    comp_d_par.tin AS tin,\n",
    "    comp_d_par.kpp AS kpp,\n",
    "    SUM(IF(camera_with_intercom = 1, 1,0)) AS camera_with_intercom_count,\n",
    "    SUM(IF(camera_with_intercom = 0 AND COALESCE(foreign_camera,0) = 0,1,0)) AS external_camera_izi_count,\n",
    "    SUM(IF(camera_with_intercom = 0 AND foreign_camera = 1,1,0)) AS external_camera_foreign_count\n",
    "FROM\n",
    "    db1.cameras_st_asgard_ch AS cam_s_asg\n",
    "    LEFT JOIN db1.cameras_dir_partner_ch AS cam_d_par ON cam_s_asg.camera_uuid = cam_d_par.camera_uuid\n",
    "    LEFT JOIN db1.companies_st_partner_ch AS comp_s_par \n",
    "    \t\t\t\t\t\tON cam_s_asg.partner_uuid = comp_s_par.partner_uuid\n",
    "                            AND cam_s_asg.report_date = comp_s_par.report_date\n",
    "    LEFT JOIN db1.companies_dir_partner_ch AS comp_d_par \n",
    "    \t\t\t\t\t\tON comp_s_par.partner_uuid = comp_d_par.partner_uuid\n",
    "GROUP BY \n",
    "    comp_s_par.tariff_full AS tariff_full,\n",
    "    cam_s_asg.report_date AS report_date, \n",
    "    cam_s_asg.partner_uuid AS partner_uuid,\n",
    "    comp_d_par.partner_lk AS partner_lk,\n",
    "    comp_d_par.company_name AS company_name,\n",
    "    comp_d_par.tin AS tin,\n",
    "    comp_d_par.kpp AS kpp\n",
    "    \"\"\"\n",
    "ch.query_run(query_text)"
   ]
  },
  {
   "cell_type": "markdown",
   "id": "eefafab0",
   "metadata": {},
   "source": [
    "# Requests"
   ]
  },
  {
   "cell_type": "code",
   "execution_count": null,
   "id": "447c4b0a",
   "metadata": {},
   "outputs": [],
   "source": [
    "query_text = \"\"\"--sql\n",
    "SELECT\n",
    "    *\n",
    "FROM db1.t_cameras_by_companies\n",
    "WHERE company_name !=''\n",
    "LIMIT 1\n",
    "\n",
    "    \"\"\"\n",
    "ch.query_run(query_text)"
   ]
  },
  {
   "cell_type": "markdown",
   "id": "de25215d",
   "metadata": {},
   "source": [
    "<div>\n",
    "<style scoped>\n",
    "    .dataframe tbody tr th:only-of-type {\n",
    "        vertical-align: middle;\n",
    "    }\n",
    "\n",
    "    .dataframe tbody tr th {\n",
    "        vertical-align: top;\n",
    "    }\n",
    "\n",
    "    .dataframe thead th {\n",
    "        text-align: right;\n",
    "    }\n",
    "</style>\n",
    "<table border=\"1\" class=\"dataframe\">\n",
    "  <thead>\n",
    "    <tr style=\"text-align: right;\">\n",
    "      <th></th>\n",
    "      <th>tariff_full</th>\n",
    "      <th>report_date</th>\n",
    "      <th>partner_uuid</th>\n",
    "      <th>partner_lk</th>\n",
    "      <th>company_name</th>\n",
    "      <th>tin</th>\n",
    "      <th>kpp</th>\n",
    "      <th>camera_with_intercom_count</th>\n",
    "      <th>external_camera_izi_count</th>\n",
    "      <th>external_camera_foreign_count</th>\n",
    "    </tr>\n",
    "  </thead>\n",
    "  <tbody>\n",
    "    <tr>\n",
    "      <th>0</th>\n",
    "      <td>Start</td>\n",
    "      <td>2023-11-01</td>\n",
    "      <td>77eb19de-7879-4f7e-b2ff-6a270eae9ba2</td>\n",
    "      <td>144393</td>\n",
    "      <td>ООО \"ИНТЕЛСК\"</td>\n",
    "      <td>5040075820</td>\n",
    "      <td></td>\n",
    "      <td>1</td>\n",
    "      <td>0</td>\n",
    "      <td>0</td>\n",
    "    </tr>\n",
    "  </tbody>\n",
    "</table>\n",
    "</div>"
   ]
  },
  {
   "cell_type": "code",
   "execution_count": null,
   "id": "04237d66",
   "metadata": {},
   "outputs": [],
   "source": [
    "query_text = \"\"\"\n",
    "    DROP TABLE db1.companies_st_partner_mv\n",
    "    \"\"\"\n",
    "ch.query_run(query_text)"
   ]
  },
  {
   "cell_type": "code",
   "execution_count": null,
   "id": "fdcac5bd",
   "metadata": {},
   "outputs": [],
   "source": [
    "query_text = \"\"\"\n",
    "SYSTEM REFRESH VIEW db1.t_cameras_by_companies\n",
    "\"\"\"\n",
    "\n",
    "ch.query_run(query_text)"
   ]
  }
 ],
 "metadata": {
  "jupytext": {
   "formats": "ipynb,md"
  },
  "kernelspec": {
   "display_name": "myenv",
   "language": "python",
   "name": "python3"
  },
  "language_info": {
   "codemirror_mode": {
    "name": "ipython",
    "version": 3
   },
   "file_extension": ".py",
   "mimetype": "text/x-python",
   "name": "python",
   "nbconvert_exporter": "python",
   "pygments_lexer": "ipython3",
   "version": "3.12.10"
  }
 },
 "nbformat": 4,
 "nbformat_minor": 5
}

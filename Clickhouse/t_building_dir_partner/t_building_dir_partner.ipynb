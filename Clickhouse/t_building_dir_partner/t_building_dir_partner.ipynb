{
 "cells": [
  {
   "cell_type": "code",
   "execution_count": 2,
   "id": "a8f4f675",
   "metadata": {},
   "outputs": [],
   "source": [
    "import clickhouse_connect\n",
    "import datetime\n",
    "import os\n",
    "import pytz\n",
    "import pandas as pd\n",
    "from dateutil.relativedelta import relativedelta\n",
    "from dotenv import load_dotenv\n",
    "\n",
    "import sys\n",
    "sys.path.append('/home/boris/Documents/Work/analytics/Clickhouse')\n",
    "from clickhouse_client import ClickHouse_client\n",
    "ch = ClickHouse_client()\n",
    "pd.set_option('display.max_rows', 1000)"
   ]
  },
  {
   "cell_type": "markdown",
   "id": "fa6cb2bf",
   "metadata": {},
   "source": [
    "## Tags #Tables\n",
    "## Links:\n",
    "[[entries_installation_points_dir_partner]]"
   ]
  },
  {
   "cell_type": "markdown",
   "id": "253cc492",
   "metadata": {},
   "source": [
    "____"
   ]
  },
  {
   "cell_type": "code",
   "execution_count": 8,
   "id": "944adc2b",
   "metadata": {},
   "outputs": [
    {
     "data": {
      "text/html": [
       "<div><style>\n",
       ".dataframe > thead > tr,\n",
       ".dataframe > tbody > tr {\n",
       "  text-align: right;\n",
       "  white-space: pre-wrap;\n",
       "}\n",
       "</style>\n",
       "<small>shape: (0, 0)</small><table border=\"1\" class=\"dataframe\"><thead><tr></tr><tr></tr></thead><tbody></tbody></table></div>"
      ],
      "text/plain": [
       "shape: (0, 0)\n",
       "┌┐\n",
       "╞╡\n",
       "└┘"
      ]
     },
     "execution_count": 8,
     "metadata": {},
     "output_type": "execute_result"
    }
   ],
   "source": [
    "query_text = \"\"\"--sql\n",
    "    CREATE TABLE db1.building_test_1\n",
    "    (\n",
    "    `building_address`\tString,\n",
    "    `Street` String,\n",
    "    `building_number` String,\t\n",
    "    `parent_uuid` String,\n",
    "    `region` String,\n",
    "    `country` String,\n",
    "    `city` String,\n",
    "    `city_uuid` String,\n",
    "    )\n",
    "    ENGINE = S3('https://storage.yandexcloud.net/dwh-asgard/for_script_1/*','CSVWithNames')\n",
    "    SETTINGS format_csv_delimiter=';'\n",
    "    \"\"\"\n",
    "\n",
    "ch.query_run(query_text)"
   ]
  },
  {
   "cell_type": "code",
   "execution_count": 6,
   "id": "0de7aac3",
   "metadata": {},
   "outputs": [
    {
     "name": "stdout",
     "output_type": "stream",
     "text": [
      "(\n",
      "    `building_address` String,\n",
      "    `Street` String,\n",
      "    `building_number` String,\n",
      "    `parent_uuid` String,\n",
      "    `region` String,\n",
      "    `country` String,\n",
      "    `city` String,\n",
      "    `city_uuid` String\n",
      ")\n"
     ]
    }
   ],
   "source": [
    "query_text = \"\"\"--sql\n",
    "    SELECT\n",
    "        *\n",
    "    FROM db1.building_test_1\n",
    "    limit 100\n",
    "    \"\"\"\n",
    "\n",
    "ch.get_schema(query_text)"
   ]
  },
  {
   "cell_type": "code",
   "execution_count": 9,
   "id": "9fe384c8",
   "metadata": {},
   "outputs": [
    {
     "data": {
      "text/html": [
       "<div><style>\n",
       ".dataframe > thead > tr,\n",
       ".dataframe > tbody > tr {\n",
       "  text-align: right;\n",
       "  white-space: pre-wrap;\n",
       "}\n",
       "</style>\n",
       "<small>shape: (1, 2)</small><table border=\"1\" class=\"dataframe\"><thead><tr><th>elapsed_ns</th><th>query_id</th></tr><tr><td>i64</td><td>str</td></tr></thead><tbody><tr><td>1190292</td><td>&quot;6f7bd738-80ab-4390-9712-26121a…</td></tr></tbody></table></div>"
      ],
      "text/plain": [
       "shape: (1, 2)\n",
       "┌────────────┬─────────────────────────────────┐\n",
       "│ elapsed_ns ┆ query_id                        │\n",
       "│ ---        ┆ ---                             │\n",
       "│ i64        ┆ str                             │\n",
       "╞════════════╪═════════════════════════════════╡\n",
       "│ 1190292    ┆ 6f7bd738-80ab-4390-9712-26121a… │\n",
       "└────────────┴─────────────────────────────────┘"
      ]
     },
     "execution_count": 9,
     "metadata": {},
     "output_type": "execute_result"
    }
   ],
   "source": [
    "query_text = \"\"\"\n",
    "    DROP TABLE db1.2gis\n",
    "    \"\"\"\n",
    "ch.query_run(query_text)"
   ]
  },
  {
   "cell_type": "code",
   "execution_count": 10,
   "id": "5bd0a815",
   "metadata": {},
   "outputs": [
    {
     "data": {
      "text/html": [
       "<div><style>\n",
       ".dataframe > thead > tr,\n",
       ".dataframe > tbody > tr {\n",
       "  text-align: right;\n",
       "  white-space: pre-wrap;\n",
       "}\n",
       "</style>\n",
       "<small>shape: (0, 0)</small><table border=\"1\" class=\"dataframe\"><thead><tr></tr><tr></tr></thead><tbody></tbody></table></div>"
      ],
      "text/plain": [
       "shape: (0, 0)\n",
       "┌┐\n",
       "╞╡\n",
       "└┘"
      ]
     },
     "execution_count": 10,
     "metadata": {},
     "output_type": "execute_result"
    }
   ],
   "source": [
    "query_text = \"\"\"--sql\n",
    "    CREATE TABLE db1.2gis\n",
    "    (\n",
    "        `Id дома` String,\n",
    "        `Название` String,\n",
    "        `Проект` String,\n",
    "        `Субъект` String,\n",
    "        `Район субъекта` String,\n",
    "        `Город` String,\n",
    "        `Район города` String,\n",
    "        `Почтовый индекс` Int32,\n",
    "        `Улица 1` String,\n",
    "        `Дом 1` String,\n",
    "        `Улица 2` String,\n",
    "        `Дом 2 `String,\n",
    "        `Улица 3`String,\n",
    "        `Дом 3`String,\n",
    "        `Этажность` Int16,\n",
    "        `Назначение` String,\n",
    "        `Количество организаций`Int16,\n",
    "        `Застройщики` String,\n",
    "        `Название слоя` String,\n",
    "        `Диапазон квартир` String,\n",
    "        `Количество подъездов` Int16,\n",
    "        `Квартир в доме` Int32,\n",
    "        `Квартир в подъезде` Int32\n",
    "        )\n",
    "    ENGINE = S3('https://storage.yandexcloud.net/dwh-asgard/2GIS/*','CSVWithNames')\n",
    "    \"\"\"\n",
    "\n",
    "ch.query_run(query_text)"
   ]
  },
  {
   "cell_type": "code",
   "execution_count": null,
   "id": "411d6e2a",
   "metadata": {},
   "outputs": [
    {
     "data": {
      "text/html": [
       "<div><style>\n",
       ".dataframe > thead > tr,\n",
       ".dataframe > tbody > tr {\n",
       "  text-align: right;\n",
       "  white-space: pre-wrap;\n",
       "}\n",
       "</style>\n",
       "<small>shape: (100, 23)</small><table border=\"1\" class=\"dataframe\"><thead><tr><th>Id дома</th><th>Название</th><th>Проект</th><th>Субъект</th><th>Район субъекта</th><th>Город</th><th>Район города</th><th>Почтовый индекс</th><th>Улица 1</th><th>Дом 1</th><th>Улица 2</th><th>Дом 2 </th><th>Улица 3</th><th>Дом 3</th><th>Этажность</th><th>Назначение</th><th>Количество организаций</th><th>Застройщики</th><th>Название слоя</th><th>Диапазон квартир</th><th>Количество подъездов</th><th>Квартир в доме</th><th>Квартир в подъезде</th></tr><tr><td>str</td><td>str</td><td>str</td><td>str</td><td>str</td><td>str</td><td>str</td><td>i64</td><td>str</td><td>str</td><td>str</td><td>str</td><td>str</td><td>str</td><td>i64</td><td>str</td><td>i64</td><td>str</td><td>str</td><td>str</td><td>i64</td><td>i64</td><td>i64</td></tr></thead><tbody><tr><td>&quot;1267273050422122&quot;</td><td>&quot;&quot;</td><td>&quot;Екатеринбург&quot;</td><td>&quot;Свердловская область&quot;</td><td>&quot;Екатеринбург городской округ&quot;</td><td>&quot;Екатеринбург&quot;</td><td>&quot;Чкаловский&quot;</td><td>620142</td><td>&quot;Щорса улица&quot;</td><td>&quot;53&quot;</td><td>&quot;&quot;</td><td>&quot;&quot;</td><td>&quot;&quot;</td><td>&quot;&quot;</td><td>7</td><td>&quot;Жилой дом&quot;</td><td>6</td><td>&quot;&quot;</td><td>&quot;Жилые дома&quot;</td><td>&quot;Секция К: ; Секция Н: 1-24; Се…</td><td>3</td><td>48</td><td>24</td></tr><tr><td>&quot;1830223003800390&quot;</td><td>&quot;&quot;</td><td>&quot;Тюмень&quot;</td><td>&quot;Тюменская область&quot;</td><td>&quot;Тюмень городской округ&quot;</td><td>&quot;Тюмень&quot;</td><td>&quot;Центральный&quot;</td><td>625002</td><td>&quot;Сургутская улица&quot;</td><td>&quot;11 к3&quot;</td><td>&quot;&quot;</td><td>&quot;&quot;</td><td>&quot;&quot;</td><td>&quot;&quot;</td><td>9</td><td>&quot;Жилой дом&quot;</td><td>3</td><td>&quot;&quot;</td><td>&quot;Жилые дома&quot;</td><td>&quot;Секция И: 1-23; Секция К: 24-4…</td><td>2</td><td>45</td><td>23</td></tr><tr><td>&quot;1830223003792628&quot;</td><td>&quot;&quot;</td><td>&quot;Тюмень&quot;</td><td>&quot;Тюменская область&quot;</td><td>&quot;Тюмень городской округ&quot;</td><td>&quot;Тюмень&quot;</td><td>&quot;Центральный&quot;</td><td>625002</td><td>&quot;Сургутская улица&quot;</td><td>&quot;11 к4&quot;</td><td>&quot;&quot;</td><td>&quot;&quot;</td><td>&quot;&quot;</td><td>&quot;&quot;</td><td>9</td><td>&quot;Жилой дом&quot;</td><td>11</td><td>&quot;&quot;</td><td>&quot;Жилые дома&quot;</td><td>&quot;Секция Е: 1-18; Секция Ж: 19-3…</td><td>2</td><td>36</td><td>18</td></tr><tr><td>&quot;4504235283106167&quot;</td><td>&quot;&quot;</td><td>&quot;Москва&quot;</td><td>&quot;Москва город федерального знач…</td><td>&quot;&quot;</td><td>&quot;Москва&quot;</td><td>&quot;Хамовники&quot;</td><td>119048</td><td>&quot;Трубецкая улица&quot;</td><td>&quot;12&quot;</td><td>&quot;&quot;</td><td>&quot;&quot;</td><td>&quot;&quot;</td><td>&quot;&quot;</td><td>13</td><td>&quot;Жилой дом&quot;</td><td>14</td><td>&quot;&quot;</td><td>&quot;Жилые дома&quot;</td><td>&quot;Секция Б: 17-31;&quot;</td><td>1</td><td>15</td><td>15</td></tr><tr><td>&quot;4504235282691998&quot;</td><td>&quot;&quot;</td><td>&quot;Москва&quot;</td><td>&quot;Москва город федерального знач…</td><td>&quot;&quot;</td><td>&quot;Москва&quot;</td><td>&quot;Проспект Вернадского&quot;</td><td>119454</td><td>&quot;Лобачевского улица&quot;</td><td>&quot;52 к1&quot;</td><td>&quot;&quot;</td><td>&quot;&quot;</td><td>&quot;&quot;</td><td>&quot;&quot;</td><td>18</td><td>&quot;Жилой дом&quot;</td><td>5</td><td>&quot;&quot;</td><td>&quot;Жилые дома&quot;</td><td>&quot;&quot;</td><td>0</td><td>0</td><td>0</td></tr><tr><td>&hellip;</td><td>&hellip;</td><td>&hellip;</td><td>&hellip;</td><td>&hellip;</td><td>&hellip;</td><td>&hellip;</td><td>&hellip;</td><td>&hellip;</td><td>&hellip;</td><td>&hellip;</td><td>&hellip;</td><td>&hellip;</td><td>&hellip;</td><td>&hellip;</td><td>&hellip;</td><td>&hellip;</td><td>&hellip;</td><td>&hellip;</td><td>&hellip;</td><td>&hellip;</td><td>&hellip;</td><td>&hellip;</td></tr><tr><td>&quot;5630135189391239&quot;</td><td>&quot;&quot;</td><td>&quot;Калининград&quot;</td><td>&quot;Калининградская область&quot;</td><td>&quot;Калининград городской округ&quot;</td><td>&quot;Калининград&quot;</td><td>&quot;Ленинградский&quot;</td><td>236029</td><td>&quot;Зелёная улица&quot;</td><td>&quot;81&quot;</td><td>&quot;Зелёная улица&quot;</td><td>&quot;&quot;</td><td>&quot;Зелёная улица&quot;</td><td>&quot;85&quot;</td><td>10</td><td>&quot;Жилой дом&quot;</td><td>2</td><td>&quot;&quot;</td><td>&quot;Жилые дома&quot;</td><td>&quot;81: 1-42; 83: 1-41; 85: 1-42;&quot;</td><td>3</td><td>125</td><td>42</td></tr><tr><td>&quot;5630135189383697&quot;</td><td>&quot;&quot;</td><td>&quot;Калининград&quot;</td><td>&quot;Калининградская область&quot;</td><td>&quot;Калининград городской округ&quot;</td><td>&quot;Калининград&quot;</td><td>&quot;Ленинградский&quot;</td><td>236016</td><td>&quot;9 Апреля улица&quot;</td><td>&quot;82&quot;</td><td>&quot;9 Апреля улица&quot;</td><td>&quot;&quot;</td><td>&quot;9 Апреля улица&quot;</td><td>&quot;84&quot;</td><td>9</td><td>&quot;Жилой дом&quot;</td><td>1</td><td>&quot;&quot;</td><td>&quot;Жилые дома&quot;</td><td>&quot;80: 1-36; 82: 1-36; 84: 1-36; …</td><td>4</td><td>144</td><td>36</td></tr><tr><td>&quot;5630135189382248&quot;</td><td>&quot;&quot;</td><td>&quot;Калининград&quot;</td><td>&quot;Калининградская область&quot;</td><td>&quot;Калининград городской округ&quot;</td><td>&quot;Калининград&quot;</td><td>&quot;Ленинградский&quot;</td><td>236006</td><td>&quot;Московский проспект&quot;</td><td>&quot;80&quot;</td><td>&quot;Московский проспект&quot;</td><td>&quot;&quot;</td><td>&quot;Московский проспект&quot;</td><td>&quot;84&quot;</td><td>9</td><td>&quot;Жилой дом&quot;</td><td>4</td><td>&quot;&quot;</td><td>&quot;Жилые дома&quot;</td><td>&quot;80: 1-33; 82: 1-36; 84: 1-36; …</td><td>6</td><td>211</td><td>36</td></tr><tr><td>&quot;4504235295653674&quot;</td><td>&quot;&quot;</td><td>&quot;Москва&quot;</td><td>&quot;Москва город федерального знач…</td><td>&quot;&quot;</td><td>&quot;Москва&quot;</td><td>&quot;Хамовники&quot;</td><td>119021</td><td>&quot;Льва Толстого улица&quot;</td><td>&quot;23/7 к Г&quot;</td><td>&quot;&quot;</td><td>&quot;&quot;</td><td>&quot;&quot;</td><td>&quot;&quot;</td><td>7</td><td>&quot;Жилой дом&quot;</td><td>0</td><td>&quot;&quot;</td><td>&quot;Жилые дома&quot;</td><td>&quot;&quot;</td><td>0</td><td>0</td><td>0</td></tr><tr><td>&quot;5348660212682966&quot;</td><td>&quot;&quot;</td><td>&quot;Санкт-Петербург&quot;</td><td>&quot;Санкт-Петербург город федераль…</td><td>&quot;&quot;</td><td>&quot;Санкт-Петербург&quot;</td><td>&quot;Центральный&quot;</td><td>191186</td><td>&quot;реки Мойки набережная&quot;</td><td>&quot;5&quot;</td><td>&quot;&quot;</td><td>&quot;&quot;</td><td>&quot;&quot;</td><td>&quot;&quot;</td><td>7</td><td>&quot;Жилой дом&quot;</td><td>3</td><td>&quot;&quot;</td><td>&quot;Жилые дома&quot;</td><td>&quot;8: 94-103;&quot;</td><td>1</td><td>10</td><td>10</td></tr></tbody></table></div>"
      ],
      "text/plain": [
       "shape: (100, 23)\n",
       "┌───────────┬──────────┬───────────┬───────────┬───┬───────────┬───────────┬───────────┬───────────┐\n",
       "│ Id дома   ┆ Название ┆ Проект    ┆ Субъект   ┆ … ┆ Диапазон  ┆ Количеств ┆ Квартир в ┆ Квартир в │\n",
       "│ ---       ┆ ---      ┆ ---       ┆ ---       ┆   ┆ квартир   ┆ о         ┆ доме      ┆ подъезде  │\n",
       "│ str       ┆ str      ┆ str       ┆ str       ┆   ┆ ---       ┆ подъездов ┆ ---       ┆ ---       │\n",
       "│           ┆          ┆           ┆           ┆   ┆ str       ┆ ---       ┆ i64       ┆ i64       │\n",
       "│           ┆          ┆           ┆           ┆   ┆           ┆ i64       ┆           ┆           │\n",
       "╞═══════════╪══════════╪═══════════╪═══════════╪═══╪═══════════╪═══════════╪═══════════╪═══════════╡\n",
       "│ 126727305 ┆          ┆ Екатеринб ┆ Свердловс ┆ … ┆ Секция К: ┆ 3         ┆ 48        ┆ 24        │\n",
       "│ 0422122   ┆          ┆ ург       ┆ кая       ┆   ┆ ; Секция  ┆           ┆           ┆           │\n",
       "│           ┆          ┆           ┆ область   ┆   ┆ Н: 1-24;  ┆           ┆           ┆           │\n",
       "│           ┆          ┆           ┆           ┆   ┆ Се…       ┆           ┆           ┆           │\n",
       "│ 183022300 ┆          ┆ Тюмень    ┆ Тюменская ┆ … ┆ Секция И: ┆ 2         ┆ 45        ┆ 23        │\n",
       "│ 3800390   ┆          ┆           ┆ область   ┆   ┆ 1-23;     ┆           ┆           ┆           │\n",
       "│           ┆          ┆           ┆           ┆   ┆ Секция К: ┆           ┆           ┆           │\n",
       "│           ┆          ┆           ┆           ┆   ┆ 24-4…     ┆           ┆           ┆           │\n",
       "│ 183022300 ┆          ┆ Тюмень    ┆ Тюменская ┆ … ┆ Секция Е: ┆ 2         ┆ 36        ┆ 18        │\n",
       "│ 3792628   ┆          ┆           ┆ область   ┆   ┆ 1-18;     ┆           ┆           ┆           │\n",
       "│           ┆          ┆           ┆           ┆   ┆ Секция Ж: ┆           ┆           ┆           │\n",
       "│           ┆          ┆           ┆           ┆   ┆ 19-3…     ┆           ┆           ┆           │\n",
       "│ 450423528 ┆          ┆ Москва    ┆ Москва    ┆ … ┆ Секция Б: ┆ 1         ┆ 15        ┆ 15        │\n",
       "│ 3106167   ┆          ┆           ┆ город фед ┆   ┆ 17-31;    ┆           ┆           ┆           │\n",
       "│           ┆          ┆           ┆ ерального ┆   ┆           ┆           ┆           ┆           │\n",
       "│           ┆          ┆           ┆ знач…     ┆   ┆           ┆           ┆           ┆           │\n",
       "│ 450423528 ┆          ┆ Москва    ┆ Москва    ┆ … ┆           ┆ 0         ┆ 0         ┆ 0         │\n",
       "│ 2691998   ┆          ┆           ┆ город фед ┆   ┆           ┆           ┆           ┆           │\n",
       "│           ┆          ┆           ┆ ерального ┆   ┆           ┆           ┆           ┆           │\n",
       "│           ┆          ┆           ┆ знач…     ┆   ┆           ┆           ┆           ┆           │\n",
       "│ …         ┆ …        ┆ …         ┆ …         ┆ … ┆ …         ┆ …         ┆ …         ┆ …         │\n",
       "│ 563013518 ┆          ┆ Калинингр ┆ Калинингр ┆ … ┆ 81: 1-42; ┆ 3         ┆ 125       ┆ 42        │\n",
       "│ 9391239   ┆          ┆ ад        ┆ адская    ┆   ┆ 83: 1-41; ┆           ┆           ┆           │\n",
       "│           ┆          ┆           ┆ область   ┆   ┆ 85: 1-42; ┆           ┆           ┆           │\n",
       "│ 563013518 ┆          ┆ Калинингр ┆ Калинингр ┆ … ┆ 80: 1-36; ┆ 4         ┆ 144       ┆ 36        │\n",
       "│ 9383697   ┆          ┆ ад        ┆ адская    ┆   ┆ 82: 1-36; ┆           ┆           ┆           │\n",
       "│           ┆          ┆           ┆ область   ┆   ┆ 84: 1-36; ┆           ┆           ┆           │\n",
       "│           ┆          ┆           ┆           ┆   ┆ …         ┆           ┆           ┆           │\n",
       "│ 563013518 ┆          ┆ Калинингр ┆ Калинингр ┆ … ┆ 80: 1-33; ┆ 6         ┆ 211       ┆ 36        │\n",
       "│ 9382248   ┆          ┆ ад        ┆ адская    ┆   ┆ 82: 1-36; ┆           ┆           ┆           │\n",
       "│           ┆          ┆           ┆ область   ┆   ┆ 84: 1-36; ┆           ┆           ┆           │\n",
       "│           ┆          ┆           ┆           ┆   ┆ …         ┆           ┆           ┆           │\n",
       "│ 450423529 ┆          ┆ Москва    ┆ Москва    ┆ … ┆           ┆ 0         ┆ 0         ┆ 0         │\n",
       "│ 5653674   ┆          ┆           ┆ город фед ┆   ┆           ┆           ┆           ┆           │\n",
       "│           ┆          ┆           ┆ ерального ┆   ┆           ┆           ┆           ┆           │\n",
       "│           ┆          ┆           ┆ знач…     ┆   ┆           ┆           ┆           ┆           │\n",
       "│ 534866021 ┆          ┆ Санкт-Пет ┆ Санкт-Пет ┆ … ┆ 8:        ┆ 1         ┆ 10        ┆ 10        │\n",
       "│ 2682966   ┆          ┆ ербург    ┆ ербург    ┆   ┆ 94-103;   ┆           ┆           ┆           │\n",
       "│           ┆          ┆           ┆ город     ┆   ┆           ┆           ┆           ┆           │\n",
       "│           ┆          ┆           ┆ федераль… ┆   ┆           ┆           ┆           ┆           │\n",
       "└───────────┴──────────┴───────────┴───────────┴───┴───────────┴───────────┴───────────┴───────────┘"
      ]
     },
     "execution_count": 14,
     "metadata": {},
     "output_type": "execute_result"
    }
   ],
   "source": [
    "query_text = \"\"\"--sql\n",
    "    SELECT\n",
    "        *\n",
    "    FROM db1.2gis\n",
    "    limit 100\n",
    "    \"\"\"\n",
    "\n",
    "ch.query_run(query_text)"
   ]
  },
  {
   "cell_type": "code",
   "execution_count": 16,
   "id": "e4d8538d",
   "metadata": {},
   "outputs": [
    {
     "data": {
      "text/html": [
       "<div><style>\n",
       ".dataframe > thead > tr,\n",
       ".dataframe > tbody > tr {\n",
       "  text-align: right;\n",
       "  white-space: pre-wrap;\n",
       "}\n",
       "</style>\n",
       "<small>shape: (100, 3)</small><table border=\"1\" class=\"dataframe\"><thead><tr><th>Квартир в подъезде</th><th>Квартир в доме</th><th>Количество подъездов</th></tr><tr><td>i64</td><td>i64</td><td>i64</td></tr></thead><tbody><tr><td>24</td><td>48</td><td>3</td></tr><tr><td>23</td><td>45</td><td>2</td></tr><tr><td>18</td><td>36</td><td>2</td></tr><tr><td>15</td><td>15</td><td>1</td></tr><tr><td>0</td><td>0</td><td>0</td></tr><tr><td>&hellip;</td><td>&hellip;</td><td>&hellip;</td></tr><tr><td>42</td><td>125</td><td>3</td></tr><tr><td>36</td><td>144</td><td>4</td></tr><tr><td>36</td><td>211</td><td>6</td></tr><tr><td>0</td><td>0</td><td>0</td></tr><tr><td>10</td><td>10</td><td>1</td></tr></tbody></table></div>"
      ],
      "text/plain": [
       "shape: (100, 3)\n",
       "┌────────────────────┬────────────────┬──────────────────────┐\n",
       "│ Квартир в подъезде ┆ Квартир в доме ┆ Количество подъездов │\n",
       "│ ---                ┆ ---            ┆ ---                  │\n",
       "│ i64                ┆ i64            ┆ i64                  │\n",
       "╞════════════════════╪════════════════╪══════════════════════╡\n",
       "│ 24                 ┆ 48             ┆ 3                    │\n",
       "│ 23                 ┆ 45             ┆ 2                    │\n",
       "│ 18                 ┆ 36             ┆ 2                    │\n",
       "│ 15                 ┆ 15             ┆ 1                    │\n",
       "│ 0                  ┆ 0              ┆ 0                    │\n",
       "│ …                  ┆ …              ┆ …                    │\n",
       "│ 42                 ┆ 125            ┆ 3                    │\n",
       "│ 36                 ┆ 144            ┆ 4                    │\n",
       "│ 36                 ┆ 211            ┆ 6                    │\n",
       "│ 0                  ┆ 0              ┆ 0                    │\n",
       "│ 10                 ┆ 10             ┆ 1                    │\n",
       "└────────────────────┴────────────────┴──────────────────────┘"
      ]
     },
     "execution_count": 16,
     "metadata": {},
     "output_type": "execute_result"
    }
   ],
   "source": [
    "query_text = \"\"\"--sql\n",
    "    SELECT\n",
    "        `Квартир в подъезде`,\n",
    "        `Квартир в доме`,\n",
    "        `Количество подъездов`\n",
    "    FROM db1.2gis\n",
    "    limit 100\n",
    "    \"\"\"\n",
    "\n",
    "ch.query_run(query_text)"
   ]
  },
  {
   "cell_type": "code",
   "execution_count": 38,
   "id": "890c3c8d",
   "metadata": {},
   "outputs": [
    {
     "data": {
      "text/html": [
       "<div><style>\n",
       ".dataframe > thead > tr,\n",
       ".dataframe > tbody > tr {\n",
       "  text-align: right;\n",
       "  white-space: pre-wrap;\n",
       "}\n",
       "</style>\n",
       "<small>shape: (100, 3)</small><table border=\"1\" class=\"dataframe\"><thead><tr><th>upperUTF8(Дом 1)</th><th>upperUTF8(Город)</th><th>upperUTF8(Улица 1)</th></tr><tr><td>str</td><td>str</td><td>str</td></tr></thead><tbody><tr><td>&quot;53&quot;</td><td>&quot;ЕКАТЕРИНБУРГ&quot;</td><td>&quot;ЩОРСА УЛИЦА&quot;</td></tr><tr><td>&quot;11 К3&quot;</td><td>&quot;ТЮМЕНЬ&quot;</td><td>&quot;СУРГУТСКАЯ УЛИЦА&quot;</td></tr><tr><td>&quot;11 К4&quot;</td><td>&quot;ТЮМЕНЬ&quot;</td><td>&quot;СУРГУТСКАЯ УЛИЦА&quot;</td></tr><tr><td>&quot;12&quot;</td><td>&quot;МОСКВА&quot;</td><td>&quot;ТРУБЕЦКАЯ УЛИЦА&quot;</td></tr><tr><td>&quot;52 К1&quot;</td><td>&quot;МОСКВА&quot;</td><td>&quot;ЛОБАЧЕВСКОГО УЛИЦА&quot;</td></tr><tr><td>&hellip;</td><td>&hellip;</td><td>&hellip;</td></tr><tr><td>&quot;81&quot;</td><td>&quot;КАЛИНИНГРАД&quot;</td><td>&quot;ЗЕЛЁНАЯ УЛИЦА&quot;</td></tr><tr><td>&quot;82&quot;</td><td>&quot;КАЛИНИНГРАД&quot;</td><td>&quot;9 АПРЕЛЯ УЛИЦА&quot;</td></tr><tr><td>&quot;80&quot;</td><td>&quot;КАЛИНИНГРАД&quot;</td><td>&quot;МОСКОВСКИЙ ПРОСПЕКТ&quot;</td></tr><tr><td>&quot;23/7 К Г&quot;</td><td>&quot;МОСКВА&quot;</td><td>&quot;ЛЬВА ТОЛСТОГО УЛИЦА&quot;</td></tr><tr><td>&quot;5&quot;</td><td>&quot;САНКТ-ПЕТЕРБУРГ&quot;</td><td>&quot;РЕКИ МОЙКИ НАБЕРЕЖНАЯ&quot;</td></tr></tbody></table></div>"
      ],
      "text/plain": [
       "shape: (100, 3)\n",
       "┌──────────────────┬──────────────────┬───────────────────────┐\n",
       "│ upperUTF8(Дом 1) ┆ upperUTF8(Город) ┆ upperUTF8(Улица 1)    │\n",
       "│ ---              ┆ ---              ┆ ---                   │\n",
       "│ str              ┆ str              ┆ str                   │\n",
       "╞══════════════════╪══════════════════╪═══════════════════════╡\n",
       "│ 53               ┆ ЕКАТЕРИНБУРГ     ┆ ЩОРСА УЛИЦА           │\n",
       "│ 11 К3            ┆ ТЮМЕНЬ           ┆ СУРГУТСКАЯ УЛИЦА      │\n",
       "│ 11 К4            ┆ ТЮМЕНЬ           ┆ СУРГУТСКАЯ УЛИЦА      │\n",
       "│ 12               ┆ МОСКВА           ┆ ТРУБЕЦКАЯ УЛИЦА       │\n",
       "│ 52 К1            ┆ МОСКВА           ┆ ЛОБАЧЕВСКОГО УЛИЦА    │\n",
       "│ …                ┆ …                ┆ …                     │\n",
       "│ 81               ┆ КАЛИНИНГРАД      ┆ ЗЕЛЁНАЯ УЛИЦА         │\n",
       "│ 82               ┆ КАЛИНИНГРАД      ┆ 9 АПРЕЛЯ УЛИЦА        │\n",
       "│ 80               ┆ КАЛИНИНГРАД      ┆ МОСКОВСКИЙ ПРОСПЕКТ   │\n",
       "│ 23/7 К Г         ┆ МОСКВА           ┆ ЛЬВА ТОЛСТОГО УЛИЦА   │\n",
       "│ 5                ┆ САНКТ-ПЕТЕРБУРГ  ┆ РЕКИ МОЙКИ НАБЕРЕЖНАЯ │\n",
       "└──────────────────┴──────────────────┴───────────────────────┘"
      ]
     },
     "execution_count": 38,
     "metadata": {},
     "output_type": "execute_result"
    }
   ],
   "source": [
    "query_text = \"\"\"--sql\n",
    "    SELECT\n",
    "        upperUTF8(2gis.`Дом 1`),\n",
    "        upperUTF8(2gis.`Город`),\n",
    "        upperUTF8(2gis.`Улица 1`)\n",
    "    FROM db1.2gis AS 2gis \n",
    "    limit 100\n",
    "    \"\"\"\n",
    "\n",
    "ch.query_run(query_text)"
   ]
  },
  {
   "cell_type": "code",
   "execution_count": 46,
   "id": "8c8a4428",
   "metadata": {},
   "outputs": [
    {
     "data": {
      "text/html": [
       "<div><style>\n",
       ".dataframe > thead > tr,\n",
       ".dataframe > tbody > tr {\n",
       "  text-align: right;\n",
       "  white-space: pre-wrap;\n",
       "}\n",
       "</style>\n",
       "<small>shape: (1, 1)</small><table border=\"1\" class=\"dataframe\"><thead><tr><th>count(parent_uuid)</th></tr><tr><td>i64</td></tr></thead><tbody><tr><td>16991</td></tr></tbody></table></div>"
      ],
      "text/plain": [
       "shape: (1, 1)\n",
       "┌────────────────────┐\n",
       "│ count(parent_uuid) │\n",
       "│ ---                │\n",
       "│ i64                │\n",
       "╞════════════════════╡\n",
       "│ 16991              │\n",
       "└────────────────────┘"
      ]
     },
     "execution_count": 46,
     "metadata": {},
     "output_type": "execute_result"
    }
   ],
   "source": [
    "query_text = \"\"\"--sql\n",
    "    SELECT\n",
    "        count(parent_uuid)\n",
    "    FROM db1.building_test_1 AS building\n",
    "    limit 100\n",
    "    \"\"\"\n",
    "\n",
    "ch.query_run(query_text)"
   ]
  },
  {
   "cell_type": "code",
   "execution_count": 47,
   "id": "355d1998",
   "metadata": {},
   "outputs": [
    {
     "data": {
      "text/html": [
       "<div><style>\n",
       ".dataframe > thead > tr,\n",
       ".dataframe > tbody > tr {\n",
       "  text-align: right;\n",
       "  white-space: pre-wrap;\n",
       "}\n",
       "</style>\n",
       "<small>shape: (1, 1)</small><table border=\"1\" class=\"dataframe\"><thead><tr><th>count(parent_uuid)</th></tr><tr><td>i64</td></tr></thead><tbody><tr><td>6627</td></tr></tbody></table></div>"
      ],
      "text/plain": [
       "shape: (1, 1)\n",
       "┌────────────────────┐\n",
       "│ count(parent_uuid) │\n",
       "│ ---                │\n",
       "│ i64                │\n",
       "╞════════════════════╡\n",
       "│ 6627               │\n",
       "└────────────────────┘"
      ]
     },
     "execution_count": 47,
     "metadata": {},
     "output_type": "execute_result"
    }
   ],
   "source": [
    "query_text = \"\"\"--sql\n",
    "    SELECT\n",
    "        count(parent_uuid)\n",
    "    FROM\n",
    "        (SELECT\n",
    "            `building_address`,\n",
    "            `Street`,\n",
    "            `building_number`,\n",
    "            `parent_uuid`,\n",
    "            `region`,\n",
    "            `country`,\n",
    "            `city`,\n",
    "            `city_uuid`,\n",
    "            2gis.`Квартир в подъезде`,\n",
    "            2gis.`Квартир в доме`,\n",
    "            2gis.`Количество подъездов`\n",
    "        FROM db1.building_test_1 AS building\n",
    "        LEFT JOIN db1.2gis AS 2gis \n",
    "            ON upperUTF8(2gis.`Дом 1`) = upperUTF8(building.building_number) \n",
    "            AND upperUTF8(2gis.`Город`)  = upperUTF8(building.city)\n",
    "            AND upperUTF8(2gis.`Улица 1`)  = upperUTF8(building.Street)\n",
    "        WHERE 2gis.`Квартир в подъезде` != 0\n",
    "        )\n",
    "    limit 100\n",
    "    \"\"\"\n",
    "\n",
    "ch.query_run(query_text)"
   ]
  },
  {
   "cell_type": "code",
   "execution_count": 29,
   "id": "472464f5",
   "metadata": {},
   "outputs": [
    {
     "ename": "DatabaseError",
     "evalue": "HTTPDriver for https://rc1a-eflrt968scbm232q.mdb.yandexcloud.net:8443 received ClickHouse error code 62\n Code: 62. DB::Exception: Syntax error: failed at position 61 (.) (line 4, col 13): .upper(`Город`)\n        2gis.upper(`Улица 1`),\n        2gis.`Квартир в подъезде`,\n        2gis.`Квартир в доме`,\n        2gis.`Количество подъездов`\n    FROM db1.2gi... Expected one of: token, Comma, FROM, PREWHERE, WHERE, GROUP BY, WITH, HAVING, WINDOW, QUALIFY, ORDER BY, LIMIT, OFFSET, FETCH, SETTINGS, UNION, EXCEPT, INTERSECT, INTO OUTFILE, FORMAT, ParallelWithClause, PARALLEL WITH, end of query. (SYNTAX_ERROR) (version 25.3.3.42 (official build))\n",
     "output_type": "error",
     "traceback": [
      "\u001b[31m---------------------------------------------------------------------------\u001b[39m",
      "\u001b[31mDatabaseError\u001b[39m                             Traceback (most recent call last)",
      "\u001b[36mCell\u001b[39m\u001b[36m \u001b[39m\u001b[32mIn[29]\u001b[39m\u001b[32m, line 14\u001b[39m\n\u001b[32m      1\u001b[39m query_text = \u001b[33m\"\"\"\u001b[39m\u001b[33m--sql\u001b[39m\n\u001b[32m      2\u001b[39m \u001b[33m    SELECT\u001b[39m\n\u001b[32m      3\u001b[39m \u001b[33m        2gis.upper(`Дом 1`)\u001b[39m\n\u001b[32m   (...)\u001b[39m\u001b[32m     11\u001b[39m \u001b[33m    limit 100\u001b[39m\n\u001b[32m     12\u001b[39m \u001b[33m    \u001b[39m\u001b[33m\"\"\"\u001b[39m\n\u001b[32m---> \u001b[39m\u001b[32m14\u001b[39m \u001b[43mch\u001b[49m\u001b[43m.\u001b[49m\u001b[43mquery_run\u001b[49m\u001b[43m(\u001b[49m\u001b[43mquery_text\u001b[49m\u001b[43m)\u001b[49m\n",
      "\u001b[36mFile \u001b[39m\u001b[32m~/Documents/Work/analytics/Clickhouse/clickhouse_client.py:29\u001b[39m, in \u001b[36mClickHouse_client.query_run\u001b[39m\u001b[34m(self, query_text)\u001b[39m\n\u001b[32m     27\u001b[39m \u001b[38;5;28;01mdef\u001b[39;00m\u001b[38;5;250m \u001b[39m\u001b[34mquery_run\u001b[39m (\u001b[38;5;28mself\u001b[39m, query_text):\n\u001b[32m     28\u001b[39m     query_text = query_text\n\u001b[32m---> \u001b[39m\u001b[32m29\u001b[39m     result = \u001b[38;5;28;43mself\u001b[39;49m\u001b[43m.\u001b[49m\u001b[43mclient\u001b[49m\u001b[43m.\u001b[49m\u001b[43mquery\u001b[49m\u001b[43m(\u001b[49m\u001b[43mquery_text\u001b[49m\u001b[43m)\u001b[49m\n\u001b[32m     30\u001b[39m     \u001b[38;5;28mself\u001b[39m.df = pd.DataFrame(result.result_rows, columns=result.column_names)\n\u001b[32m     31\u001b[39m     \u001b[38;5;66;03m# self.df = pl.DataFrame(result.result_rows, schema=result.column_names)\u001b[39;00m\n",
      "\u001b[36mFile \u001b[39m\u001b[32m~/myenv/lib/python3.12/site-packages/clickhouse_connect/driver/client.py:237\u001b[39m, in \u001b[36mClient.query\u001b[39m\u001b[34m(self, query, parameters, settings, query_formats, column_formats, encoding, use_none, column_oriented, use_numpy, max_str_len, context, query_tz, column_tzs, external_data, transport_settings)\u001b[39m\n\u001b[32m    235\u001b[39m         \u001b[38;5;28;01mreturn\u001b[39;00m response.as_query_result()\n\u001b[32m    236\u001b[39m     \u001b[38;5;28;01mreturn\u001b[39;00m QueryResult([response] \u001b[38;5;28;01mif\u001b[39;00m \u001b[38;5;28misinstance\u001b[39m(response, \u001b[38;5;28mlist\u001b[39m) \u001b[38;5;28;01melse\u001b[39;00m [[response]])\n\u001b[32m--> \u001b[39m\u001b[32m237\u001b[39m \u001b[38;5;28;01mreturn\u001b[39;00m \u001b[38;5;28;43mself\u001b[39;49m\u001b[43m.\u001b[49m\u001b[43m_query_with_context\u001b[49m\u001b[43m(\u001b[49m\u001b[43mquery_context\u001b[49m\u001b[43m)\u001b[49m\n",
      "\u001b[36mFile \u001b[39m\u001b[32m~/myenv/lib/python3.12/site-packages/clickhouse_connect/driver/httpclient.py:243\u001b[39m, in \u001b[36mHttpClient._query_with_context\u001b[39m\u001b[34m(self, context)\u001b[39m\n\u001b[32m    241\u001b[39m     fields = \u001b[38;5;28;01mNone\u001b[39;00m\n\u001b[32m    242\u001b[39m     headers[\u001b[33m'\u001b[39m\u001b[33mContent-Type\u001b[39m\u001b[33m'\u001b[39m] = \u001b[33m'\u001b[39m\u001b[33mtext/plain; charset=utf-8\u001b[39m\u001b[33m'\u001b[39m\n\u001b[32m--> \u001b[39m\u001b[32m243\u001b[39m response = \u001b[38;5;28;43mself\u001b[39;49m\u001b[43m.\u001b[49m\u001b[43m_raw_request\u001b[49m\u001b[43m(\u001b[49m\u001b[43mbody\u001b[49m\u001b[43m,\u001b[49m\n\u001b[32m    244\u001b[39m \u001b[43m                             \u001b[49m\u001b[43mparams\u001b[49m\u001b[43m,\u001b[49m\n\u001b[32m    245\u001b[39m \u001b[43m                             \u001b[49m\u001b[43mdict_copy\u001b[49m\u001b[43m(\u001b[49m\u001b[43mheaders\u001b[49m\u001b[43m,\u001b[49m\u001b[43m \u001b[49m\u001b[43mcontext\u001b[49m\u001b[43m.\u001b[49m\u001b[43mtransport_settings\u001b[49m\u001b[43m)\u001b[49m\u001b[43m,\u001b[49m\n\u001b[32m    246\u001b[39m \u001b[43m                             \u001b[49m\u001b[43mstream\u001b[49m\u001b[43m=\u001b[49m\u001b[38;5;28;43;01mTrue\u001b[39;49;00m\u001b[43m,\u001b[49m\n\u001b[32m    247\u001b[39m \u001b[43m                             \u001b[49m\u001b[43mretries\u001b[49m\u001b[43m=\u001b[49m\u001b[38;5;28;43mself\u001b[39;49m\u001b[43m.\u001b[49m\u001b[43mquery_retries\u001b[49m\u001b[43m,\u001b[49m\n\u001b[32m    248\u001b[39m \u001b[43m                             \u001b[49m\u001b[43mfields\u001b[49m\u001b[43m=\u001b[49m\u001b[43mfields\u001b[49m\u001b[43m,\u001b[49m\n\u001b[32m    249\u001b[39m \u001b[43m                             \u001b[49m\u001b[43mserver_wait\u001b[49m\u001b[43m=\u001b[49m\u001b[38;5;129;43;01mnot\u001b[39;49;00m\u001b[43m \u001b[49m\u001b[43mcontext\u001b[49m\u001b[43m.\u001b[49m\u001b[43mstreaming\u001b[49m\u001b[43m)\u001b[49m\n\u001b[32m    250\u001b[39m byte_source = RespBuffCls(ResponseSource(response))  \u001b[38;5;66;03m# pylint: disable=not-callable\u001b[39;00m\n\u001b[32m    251\u001b[39m context.set_response_tz(\u001b[38;5;28mself\u001b[39m._check_tz_change(response.headers.get(\u001b[33m'\u001b[39m\u001b[33mX-ClickHouse-Timezone\u001b[39m\u001b[33m'\u001b[39m)))\n",
      "\u001b[36mFile \u001b[39m\u001b[32m~/myenv/lib/python3.12/site-packages/clickhouse_connect/driver/httpclient.py:481\u001b[39m, in \u001b[36mHttpClient._raw_request\u001b[39m\u001b[34m(self, data, params, headers, method, retries, stream, server_wait, fields, error_handler)\u001b[39m\n\u001b[32m    479\u001b[39m     error_handler(response)\n\u001b[32m    480\u001b[39m \u001b[38;5;28;01melse\u001b[39;00m:\n\u001b[32m--> \u001b[39m\u001b[32m481\u001b[39m     \u001b[38;5;28;43mself\u001b[39;49m\u001b[43m.\u001b[49m\u001b[43m_error_handler\u001b[49m\u001b[43m(\u001b[49m\u001b[43mresponse\u001b[49m\u001b[43m)\u001b[49m\n",
      "\u001b[36mFile \u001b[39m\u001b[32m~/myenv/lib/python3.12/site-packages/clickhouse_connect/driver/httpclient.py:402\u001b[39m, in \u001b[36mHttpClient._error_handler\u001b[39m\u001b[34m(self, response, retried)\u001b[39m\n\u001b[32m    399\u001b[39m \u001b[38;5;28;01melse\u001b[39;00m:\n\u001b[32m    400\u001b[39m     err_str = \u001b[33m'\u001b[39m\u001b[33mThe ClickHouse server returned an error.\u001b[39m\u001b[33m'\u001b[39m\n\u001b[32m--> \u001b[39m\u001b[32m402\u001b[39m \u001b[38;5;28;01mraise\u001b[39;00m OperationalError(err_str) \u001b[38;5;28;01mif\u001b[39;00m retried \u001b[38;5;28;01melse\u001b[39;00m DatabaseError(err_str) \u001b[38;5;28;01mfrom\u001b[39;00m\u001b[38;5;250m \u001b[39m\u001b[38;5;28;01mNone\u001b[39;00m\n",
      "\u001b[31mDatabaseError\u001b[39m: HTTPDriver for https://rc1a-eflrt968scbm232q.mdb.yandexcloud.net:8443 received ClickHouse error code 62\n Code: 62. DB::Exception: Syntax error: failed at position 61 (.) (line 4, col 13): .upper(`Город`)\n        2gis.upper(`Улица 1`),\n        2gis.`Квартир в подъезде`,\n        2gis.`Квартир в доме`,\n        2gis.`Количество подъездов`\n    FROM db1.2gi... Expected one of: token, Comma, FROM, PREWHERE, WHERE, GROUP BY, WITH, HAVING, WINDOW, QUALIFY, ORDER BY, LIMIT, OFFSET, FETCH, SETTINGS, UNION, EXCEPT, INTERSECT, INTO OUTFILE, FORMAT, ParallelWithClause, PARALLEL WITH, end of query. (SYNTAX_ERROR) (version 25.3.3.42 (official build))\n"
     ]
    }
   ],
   "source": [
    "query_text = \"\"\"--sql\n",
    "    SELECT\n",
    "        2gis.upper(`Дом 1`)\n",
    "        2gis.upper(`Город`)\n",
    "        2gis.upper(`Улица 1`),\n",
    "        2gis.`Квартир в подъезде`,\n",
    "        2gis.`Квартир в доме`,\n",
    "        2gis.`Количество подъездов`\n",
    "    FROM db1.2gis AS 2gis \n",
    "    WHERE 2gis.`Квартир в подъезде` != 0\n",
    "    limit 100\n",
    "    \"\"\"\n",
    "\n",
    "ch.query_run(query_text)"
   ]
  },
  {
   "cell_type": "code",
   "execution_count": null,
   "id": "6fe04b61",
   "metadata": {},
   "outputs": [],
   "source": [
    "query_text = \"\"\"--sql\n",
    "    SELECT\n",
    "        2gis.upper(`Дом 1`)\n",
    "        2gis.upper(`Город`)\n",
    "        2gis.upper(`Улица 1`),\n",
    "        2gis.`Квартир в подъезде`,\n",
    "        2gis.`Квартир в доме`,\n",
    "        2gis.`Количество подъездов`\n",
    "    FROM db1.2gis AS 2gis \n",
    "    WHERE 2gis.`Квартир в подъезде` != 0\n",
    "    limit 100\n",
    "    \"\"\"\n",
    "\n",
    "ch.query_run(query_text)"
   ]
  },
  {
   "cell_type": "markdown",
   "id": "3538d0cf",
   "metadata": {},
   "source": [
    "_____"
   ]
  },
  {
   "cell_type": "code",
   "execution_count": null,
   "id": "5a368f8d",
   "metadata": {},
   "outputs": [
    {
     "data": {
      "text/html": [
       "<div><style>\n",
       ".dataframe > thead > tr,\n",
       ".dataframe > tbody > tr {\n",
       "  text-align: right;\n",
       "  white-space: pre-wrap;\n",
       "}\n",
       "</style>\n",
       "<small>shape: (0, 0)</small><table border=\"1\" class=\"dataframe\"><thead><tr></tr><tr></tr></thead><tbody></tbody></table></div>"
      ],
      "text/plain": [
       "shape: (0, 0)\n",
       "┌┐\n",
       "╞╡\n",
       "└┘"
      ]
     },
     "execution_count": 24,
     "metadata": {},
     "output_type": "execute_result"
    }
   ],
   "source": [
    "query_text = \"\"\"--sql\n",
    "   CREATE TABLE db1.building_dir_partner\n",
    "    (\n",
    "        `full_address` String,\n",
    "        `created_at` String,\n",
    "        `number` Int32,\n",
    "        `lat` String,\n",
    "        `lon` String,\n",
    "        `first_flat` Int16,\n",
    "        `last_flat` Int16,\n",
    "        `flats_count_full` Int16,\n",
    "        `flats_count` Int16,\n",
    "        `address_uuid` String,\n",
    "        `parent_uuid` String,\n",
    "        `partner_uuid` String,\n",
    "        `installation_point_id` Int64,\n",
    "        `region` String,\n",
    "        `country` String,\n",
    "        `city` String,\n",
    "        `city_uuid` String\n",
    "    )\n",
    "    ENGINE = MergeTree()\n",
    "    ORDER BY installation_point_id\n",
    "    \"\"\"\n",
    "\n",
    "ch.query_run(query_text)"
   ]
  },
  {
   "cell_type": "markdown",
   "id": "d6e6a823",
   "metadata": {},
   "source": [
    "Количество квартир в базе отличается от квартир на подъездах"
   ]
  },
  {
   "cell_type": "code",
   "execution_count": null,
   "id": "916c3527",
   "metadata": {},
   "outputs": [
    {
     "data": {
      "text/html": [
       "<div><style>\n",
       ".dataframe > thead > tr,\n",
       ".dataframe > tbody > tr {\n",
       "  text-align: right;\n",
       "  white-space: pre-wrap;\n",
       "}\n",
       "</style>\n",
       "<small>shape: (0, 0)</small><table border=\"1\" class=\"dataframe\"><thead><tr></tr><tr></tr></thead><tbody></tbody></table></div>"
      ],
      "text/plain": [
       "shape: (0, 0)\n",
       "┌┐\n",
       "╞╡\n",
       "└┘"
      ]
     },
     "execution_count": 27,
     "metadata": {},
     "output_type": "execute_result"
    }
   ],
   "source": [
    "query_text = \"\"\"--sql\n",
    "    CREATE MATERIALIZED VIEW db1.entries_installation_points_dir_partner_mv\n",
    "    REFRESH EVERY 1 DAY OFFSET 4 HOUR TO db1.entries_installation_points_dir_partner_ch AS\n",
    "    SELECT\n",
    "\t\tDISTINCT\n",
    "\t\tsubstringIndex(full_address, ',', length(splitByChar(',', `full_address`)) - 1) AS building_address,\n",
    "\t\t`parent_uuid`,\n",
    "\t\t`region`,\n",
    "\t\t`country`,\n",
    "\t\t`city`,\n",
    "\t\t`city_uuid`\n",
    "\tFROM db1.entries_installation_points_dir_partner_ch\n",
    "    \"\"\"\n",
    "\n",
    "ch.query_run(query_text)"
   ]
  },
  {
   "cell_type": "code",
   "execution_count": null,
   "id": "baf8c5ec",
   "metadata": {},
   "outputs": [],
   "source": []
  },
  {
   "cell_type": "markdown",
   "id": "d8da19e6",
   "metadata": {},
   "source": [
    "___\n",
    "## Tools"
   ]
  },
  {
   "cell_type": "markdown",
   "id": "751d04a3",
   "metadata": {},
   "source": [
    "### query"
   ]
  },
  {
   "cell_type": "code",
   "execution_count": 29,
   "id": "07d6c6bb",
   "metadata": {},
   "outputs": [
    {
     "data": {
      "text/html": [
       "<div><style>\n",
       ".dataframe > thead > tr,\n",
       ".dataframe > tbody > tr {\n",
       "  text-align: right;\n",
       "  white-space: pre-wrap;\n",
       "}\n",
       "</style>\n",
       "<small>shape: (100, 17)</small><table border=\"1\" class=\"dataframe\"><thead><tr><th>full_address</th><th>created_at</th><th>number</th><th>lat</th><th>lon</th><th>first_flat</th><th>last_flat</th><th>flats_count_full</th><th>flats_count</th><th>address_uuid</th><th>parent_uuid</th><th>partner_uuid</th><th>installation_point_id</th><th>region</th><th>country</th><th>city</th><th>city_uuid</th></tr><tr><td>str</td><td>str</td><td>i64</td><td>str</td><td>str</td><td>i64</td><td>i64</td><td>i64</td><td>i64</td><td>str</td><td>str</td><td>str</td><td>i64</td><td>str</td><td>str</td><td>str</td><td>str</td></tr></thead><tbody><tr><td>&quot;Россия, Республика Татарстан, …</td><td>&quot;2018-05-25 07:50:25&quot;</td><td>1</td><td>&quot;55.747789&quot;</td><td>&quot;48.740027&quot;</td><td>1</td><td>26</td><td>26</td><td>20</td><td>&quot;383d3359-0c4b-47a2-ab65-a80faf…</td><td>&quot;54086eea-e2b4-46ad-ba06-913233…</td><td>&quot;&quot;</td><td>1</td><td>&quot;Республика Татарстан&quot;</td><td>&quot;Россия&quot;</td><td>&quot;Иннополис&quot;</td><td>&quot;bcaf46fc-a7f2-4c68-8692-cd1946…</td></tr><tr><td>&quot;Россия, Республика Татарстан, …</td><td>&quot;2018-05-25 07:50:25&quot;</td><td>2</td><td>&quot;55.747839&quot;</td><td>&quot;48.740054&quot;</td><td>1</td><td>55</td><td>55</td><td>26</td><td>&quot;a6b2cde0-26b5-4ce3-af2e-8d03e3…</td><td>&quot;54086eea-e2b4-46ad-ba06-913233…</td><td>&quot;&quot;</td><td>2</td><td>&quot;Республика Татарстан&quot;</td><td>&quot;Россия&quot;</td><td>&quot;Иннополис&quot;</td><td>&quot;bcaf46fc-a7f2-4c68-8692-cd1946…</td></tr><tr><td>&quot;Россия, Республика Татарстан, …</td><td>&quot;2018-05-25 07:50:25&quot;</td><td>3</td><td>&quot;55.747941&quot;</td><td>&quot;48.741698&quot;</td><td>56</td><td>85</td><td>30</td><td>24</td><td>&quot;19423336-12a2-47c0-ab44-7dbc53…</td><td>&quot;54086eea-e2b4-46ad-ba06-913233…</td><td>&quot;&quot;</td><td>3</td><td>&quot;Республика Татарстан&quot;</td><td>&quot;Россия&quot;</td><td>&quot;Иннополис&quot;</td><td>&quot;bcaf46fc-a7f2-4c68-8692-cd1946…</td></tr><tr><td>&quot;Россия, Республика Татарстан, …</td><td>&quot;2018-05-25 07:50:25&quot;</td><td>1</td><td>&quot;55.747069&quot;</td><td>&quot;48.743054&quot;</td><td>1</td><td>25</td><td>25</td><td>22</td><td>&quot;6cfebc6c-0daa-4224-97f6-82c365…</td><td>&quot;19387fa7-04d8-4637-98a3-1ee2de…</td><td>&quot;&quot;</td><td>4</td><td>&quot;Республика Татарстан&quot;</td><td>&quot;Россия&quot;</td><td>&quot;Иннополис&quot;</td><td>&quot;bcaf46fc-a7f2-4c68-8692-cd1946…</td></tr><tr><td>&quot;Россия, Республика Татарстан, …</td><td>&quot;2018-05-25 07:50:25&quot;</td><td>2</td><td>&quot;55.747201&quot;</td><td>&quot;48.743171&quot;</td><td>1</td><td>55</td><td>55</td><td>24</td><td>&quot;29a1ab4c-cf49-4942-8732-a617f0…</td><td>&quot;19387fa7-04d8-4637-98a3-1ee2de…</td><td>&quot;&quot;</td><td>5</td><td>&quot;Республика Татарстан&quot;</td><td>&quot;Россия&quot;</td><td>&quot;Иннополис&quot;</td><td>&quot;bcaf46fc-a7f2-4c68-8692-cd1946…</td></tr><tr><td>&hellip;</td><td>&hellip;</td><td>&hellip;</td><td>&hellip;</td><td>&hellip;</td><td>&hellip;</td><td>&hellip;</td><td>&hellip;</td><td>&hellip;</td><td>&hellip;</td><td>&hellip;</td><td>&hellip;</td><td>&hellip;</td><td>&hellip;</td><td>&hellip;</td><td>&hellip;</td><td>&hellip;</td></tr><tr><td>&quot;Россия, Московская область, го…</td><td>&quot;2019-03-14 10:57:59&quot;</td><td>1</td><td>&quot;54.966044&quot;</td><td>&quot;39.031098&quot;</td><td>1</td><td>99</td><td>99</td><td>1</td><td>&quot;4b0b5d9d-9a3e-4771-b297-f7ffe4…</td><td>&quot;a2c69717-900f-4973-b47d-fb2446…</td><td>&quot;61c237e9-74d2-4a5b-9482-a239c6…</td><td>393</td><td>&quot;Московская область&quot;</td><td>&quot;Россия&quot;</td><td>&quot;Луховицы&quot;</td><td>&quot;f5cb2b89-c65c-4424-a4cf-5e1d32…</td></tr><tr><td>&quot;Казахстан, Восточно-Казахстанс…</td><td>&quot;2019-03-14 12:42:07&quot;</td><td>10</td><td>&quot;50.381397&quot;</td><td>&quot;80.233596&quot;</td><td>164</td><td>178</td><td>15</td><td>14</td><td>&quot;58461807-6b9c-4cb4-bc3b-9a1774…</td><td>&quot;6513828a-979e-4d63-aaba-6cf2f1…</td><td>&quot;&quot;</td><td>395</td><td>&quot;Восточно-Казахстанская область&quot;</td><td>&quot;Казахстан&quot;</td><td>&quot;Семей&quot;</td><td>&quot;ddb2cd9f-e685-40b3-b668-759e71…</td></tr><tr><td>&quot;Россия, Москва, Москва, набере…</td><td>&quot;2019-03-19 05:21:08&quot;</td><td>1</td><td>&quot;55.751969&quot;</td><td>&quot;37.545294&quot;</td><td>1</td><td>4000</td><td>4000</td><td>30</td><td>&quot;e0b46322-fdfc-4a32-88ef-10e2c0…</td><td>&quot;85b13dde-82ec-4c4b-a704-b0744a…</td><td>&quot;&quot;</td><td>415</td><td>&quot;Москва&quot;</td><td>&quot;Россия&quot;</td><td>&quot;Москва&quot;</td><td>&quot;92ef04fb-57b6-47e3-a7ac-8fed4f…</td></tr><tr><td>&quot;Россия, Тюменская область, гор…</td><td>&quot;2019-03-29 10:42:10&quot;</td><td>4</td><td>&quot;57.134736&quot;</td><td>&quot;65.589188&quot;</td><td>61</td><td>80</td><td>20</td><td>8</td><td>&quot;e4125c6a-f616-47ae-ae67-3890ad…</td><td>&quot;4b6c527a-54ee-48ce-ae2b-d65a32…</td><td>&quot;adeffb47-1707-4976-a4a6-e6eacf…</td><td>472</td><td>&quot;Тюменская область&quot;</td><td>&quot;Россия&quot;</td><td>&quot;Тюмень&quot;</td><td>&quot;f9e75560-5563-4fa8-add1-dc78ee…</td></tr><tr><td>&quot;Россия, Тюменская область, гор…</td><td>&quot;2019-03-29 10:46:58&quot;</td><td>3</td><td>&quot;57.134736&quot;</td><td>&quot;65.589188&quot;</td><td>41</td><td>60</td><td>20</td><td>11</td><td>&quot;79074ac4-b652-48ae-bfe6-af3a39…</td><td>&quot;4b6c527a-54ee-48ce-ae2b-d65a32…</td><td>&quot;adeffb47-1707-4976-a4a6-e6eacf…</td><td>473</td><td>&quot;Тюменская область&quot;</td><td>&quot;Россия&quot;</td><td>&quot;Тюмень&quot;</td><td>&quot;f9e75560-5563-4fa8-add1-dc78ee…</td></tr></tbody></table></div>"
      ],
      "text/plain": [
       "shape: (100, 17)\n",
       "┌────────────┬────────────┬────────┬───────────┬───┬───────────┬───────────┬───────────┬───────────┐\n",
       "│ full_addre ┆ created_at ┆ number ┆ lat       ┆ … ┆ region    ┆ country   ┆ city      ┆ city_uuid │\n",
       "│ ss         ┆ ---        ┆ ---    ┆ ---       ┆   ┆ ---       ┆ ---       ┆ ---       ┆ ---       │\n",
       "│ ---        ┆ str        ┆ i64    ┆ str       ┆   ┆ str       ┆ str       ┆ str       ┆ str       │\n",
       "│ str        ┆            ┆        ┆           ┆   ┆           ┆           ┆           ┆           │\n",
       "╞════════════╪════════════╪════════╪═══════════╪═══╪═══════════╪═══════════╪═══════════╪═══════════╡\n",
       "│ Россия,    ┆ 2018-05-25 ┆ 1      ┆ 55.747789 ┆ … ┆ Республик ┆ Россия    ┆ Иннополис ┆ bcaf46fc- │\n",
       "│ Республика ┆ 07:50:25   ┆        ┆           ┆   ┆ а         ┆           ┆           ┆ a7f2-4c68 │\n",
       "│ Татарстан, ┆            ┆        ┆           ┆   ┆ Татарстан ┆           ┆           ┆ -8692-cd1 │\n",
       "│ …          ┆            ┆        ┆           ┆   ┆           ┆           ┆           ┆ 946…      │\n",
       "│ Россия,    ┆ 2018-05-25 ┆ 2      ┆ 55.747839 ┆ … ┆ Республик ┆ Россия    ┆ Иннополис ┆ bcaf46fc- │\n",
       "│ Республика ┆ 07:50:25   ┆        ┆           ┆   ┆ а         ┆           ┆           ┆ a7f2-4c68 │\n",
       "│ Татарстан, ┆            ┆        ┆           ┆   ┆ Татарстан ┆           ┆           ┆ -8692-cd1 │\n",
       "│ …          ┆            ┆        ┆           ┆   ┆           ┆           ┆           ┆ 946…      │\n",
       "│ Россия,    ┆ 2018-05-25 ┆ 3      ┆ 55.747941 ┆ … ┆ Республик ┆ Россия    ┆ Иннополис ┆ bcaf46fc- │\n",
       "│ Республика ┆ 07:50:25   ┆        ┆           ┆   ┆ а         ┆           ┆           ┆ a7f2-4c68 │\n",
       "│ Татарстан, ┆            ┆        ┆           ┆   ┆ Татарстан ┆           ┆           ┆ -8692-cd1 │\n",
       "│ …          ┆            ┆        ┆           ┆   ┆           ┆           ┆           ┆ 946…      │\n",
       "│ Россия,    ┆ 2018-05-25 ┆ 1      ┆ 55.747069 ┆ … ┆ Республик ┆ Россия    ┆ Иннополис ┆ bcaf46fc- │\n",
       "│ Республика ┆ 07:50:25   ┆        ┆           ┆   ┆ а         ┆           ┆           ┆ a7f2-4c68 │\n",
       "│ Татарстан, ┆            ┆        ┆           ┆   ┆ Татарстан ┆           ┆           ┆ -8692-cd1 │\n",
       "│ …          ┆            ┆        ┆           ┆   ┆           ┆           ┆           ┆ 946…      │\n",
       "│ Россия,    ┆ 2018-05-25 ┆ 2      ┆ 55.747201 ┆ … ┆ Республик ┆ Россия    ┆ Иннополис ┆ bcaf46fc- │\n",
       "│ Республика ┆ 07:50:25   ┆        ┆           ┆   ┆ а         ┆           ┆           ┆ a7f2-4c68 │\n",
       "│ Татарстан, ┆            ┆        ┆           ┆   ┆ Татарстан ┆           ┆           ┆ -8692-cd1 │\n",
       "│ …          ┆            ┆        ┆           ┆   ┆           ┆           ┆           ┆ 946…      │\n",
       "│ …          ┆ …          ┆ …      ┆ …         ┆ … ┆ …         ┆ …         ┆ …         ┆ …         │\n",
       "│ Россия,    ┆ 2019-03-14 ┆ 1      ┆ 54.966044 ┆ … ┆ Московска ┆ Россия    ┆ Луховицы  ┆ f5cb2b89- │\n",
       "│ Московская ┆ 10:57:59   ┆        ┆           ┆   ┆ я область ┆           ┆           ┆ c65c-4424 │\n",
       "│ область,   ┆            ┆        ┆           ┆   ┆           ┆           ┆           ┆ -a4cf-5e1 │\n",
       "│ го…        ┆            ┆        ┆           ┆   ┆           ┆           ┆           ┆ d32…      │\n",
       "│ Казахстан, ┆ 2019-03-14 ┆ 10     ┆ 50.381397 ┆ … ┆ Восточно- ┆ Казахстан ┆ Семей     ┆ ddb2cd9f- │\n",
       "│ Восточно-К ┆ 12:42:07   ┆        ┆           ┆   ┆ Казахстан ┆           ┆           ┆ e685-40b3 │\n",
       "│ азахстанс… ┆            ┆        ┆           ┆   ┆ ская      ┆           ┆           ┆ -b668-759 │\n",
       "│            ┆            ┆        ┆           ┆   ┆ область   ┆           ┆           ┆ e71…      │\n",
       "│ Россия,    ┆ 2019-03-19 ┆ 1      ┆ 55.751969 ┆ … ┆ Москва    ┆ Россия    ┆ Москва    ┆ 92ef04fb- │\n",
       "│ Москва,    ┆ 05:21:08   ┆        ┆           ┆   ┆           ┆           ┆           ┆ 57b6-47e3 │\n",
       "│ Москва,    ┆            ┆        ┆           ┆   ┆           ┆           ┆           ┆ -a7ac-8fe │\n",
       "│ набере…    ┆            ┆        ┆           ┆   ┆           ┆           ┆           ┆ d4f…      │\n",
       "│ Россия,    ┆ 2019-03-29 ┆ 4      ┆ 57.134736 ┆ … ┆ Тюменская ┆ Россия    ┆ Тюмень    ┆ f9e75560- │\n",
       "│ Тюменская  ┆ 10:42:10   ┆        ┆           ┆   ┆ область   ┆           ┆           ┆ 5563-4fa8 │\n",
       "│ область,   ┆            ┆        ┆           ┆   ┆           ┆           ┆           ┆ -add1-dc7 │\n",
       "│ гор…       ┆            ┆        ┆           ┆   ┆           ┆           ┆           ┆ 8ee…      │\n",
       "│ Россия,    ┆ 2019-03-29 ┆ 3      ┆ 57.134736 ┆ … ┆ Тюменская ┆ Россия    ┆ Тюмень    ┆ f9e75560- │\n",
       "│ Тюменская  ┆ 10:46:58   ┆        ┆           ┆   ┆ область   ┆           ┆           ┆ 5563-4fa8 │\n",
       "│ область,   ┆            ┆        ┆           ┆   ┆           ┆           ┆           ┆ -add1-dc7 │\n",
       "│ гор…       ┆            ┆        ┆           ┆   ┆           ┆           ┆           ┆ 8ee…      │\n",
       "└────────────┴────────────┴────────┴───────────┴───┴───────────┴───────────┴───────────┴───────────┘"
      ]
     },
     "execution_count": 29,
     "metadata": {},
     "output_type": "execute_result"
    }
   ],
   "source": [
    "query_text = \"\"\"--sql\n",
    "    SELECT\n",
    "        *\n",
    "    FROM db1.entries_installation_points_dir_partner_ch\n",
    "    limit 100\n",
    "    \"\"\"\n",
    "\n",
    "ch.query_run(query_text)"
   ]
  },
  {
   "cell_type": "markdown",
   "id": "b047e169",
   "metadata": {},
   "source": [
    "### Drop ch"
   ]
  },
  {
   "cell_type": "code",
   "execution_count": 20,
   "id": "46f3e26e",
   "metadata": {},
   "outputs": [
    {
     "data": {
      "text/html": [
       "<div><style>\n",
       ".dataframe > thead > tr,\n",
       ".dataframe > tbody > tr {\n",
       "  text-align: right;\n",
       "  white-space: pre-wrap;\n",
       "}\n",
       "</style>\n",
       "<small>shape: (1, 2)</small><table border=\"1\" class=\"dataframe\"><thead><tr><th>elapsed_ns</th><th>query_id</th></tr><tr><td>i64</td><td>str</td></tr></thead><tbody><tr><td>4241493</td><td>&quot;f6e110b7-5278-408d-8551-ae0e03…</td></tr></tbody></table></div>"
      ],
      "text/plain": [
       "shape: (1, 2)\n",
       "┌────────────┬─────────────────────────────────┐\n",
       "│ elapsed_ns ┆ query_id                        │\n",
       "│ ---        ┆ ---                             │\n",
       "│ i64        ┆ str                             │\n",
       "╞════════════╪═════════════════════════════════╡\n",
       "│ 4241493    ┆ f6e110b7-5278-408d-8551-ae0e03… │\n",
       "└────────────┴─────────────────────────────────┘"
      ]
     },
     "execution_count": 20,
     "metadata": {},
     "output_type": "execute_result"
    }
   ],
   "source": [
    "query_text = \"\"\"\n",
    "    DROP TABLE db1.entries_installation_points_dir_partner_ch\n",
    "    \"\"\"\n",
    "ch.query_run(query_text)"
   ]
  },
  {
   "cell_type": "markdown",
   "id": "4ad9f55c",
   "metadata": {},
   "source": [
    "### Drop mv"
   ]
  },
  {
   "cell_type": "code",
   "execution_count": 26,
   "id": "1daad667",
   "metadata": {},
   "outputs": [
    {
     "data": {
      "text/html": [
       "<div><style>\n",
       ".dataframe > thead > tr,\n",
       ".dataframe > tbody > tr {\n",
       "  text-align: right;\n",
       "  white-space: pre-wrap;\n",
       "}\n",
       "</style>\n",
       "<small>shape: (1, 2)</small><table border=\"1\" class=\"dataframe\"><thead><tr><th>elapsed_ns</th><th>query_id</th></tr><tr><td>i64</td><td>str</td></tr></thead><tbody><tr><td>1366858</td><td>&quot;6f444ac8-cf1d-46c9-9d5c-c6d04e…</td></tr></tbody></table></div>"
      ],
      "text/plain": [
       "shape: (1, 2)\n",
       "┌────────────┬─────────────────────────────────┐\n",
       "│ elapsed_ns ┆ query_id                        │\n",
       "│ ---        ┆ ---                             │\n",
       "│ i64        ┆ str                             │\n",
       "╞════════════╪═════════════════════════════════╡\n",
       "│ 1366858    ┆ 6f444ac8-cf1d-46c9-9d5c-c6d04e… │\n",
       "└────────────┴─────────────────────────────────┘"
      ]
     },
     "execution_count": 26,
     "metadata": {},
     "output_type": "execute_result"
    }
   ],
   "source": [
    "query_text = \"\"\"\n",
    "    DROP TABLE db1.entries_installation_points_dir_partner_mv\n",
    "    \"\"\"\n",
    "ch.query_run(query_text)"
   ]
  }
 ],
 "metadata": {
  "jupytext": {
   "formats": "ipynb,md"
  },
  "kernelspec": {
   "display_name": "myenv",
   "language": "python",
   "name": "python3"
  },
  "language_info": {
   "codemirror_mode": {
    "name": "ipython",
    "version": 3
   },
   "file_extension": ".py",
   "mimetype": "text/x-python",
   "name": "python",
   "nbconvert_exporter": "python",
   "pygments_lexer": "ipython3",
   "version": "3.12.11"
  }
 },
 "nbformat": 4,
 "nbformat_minor": 5
}

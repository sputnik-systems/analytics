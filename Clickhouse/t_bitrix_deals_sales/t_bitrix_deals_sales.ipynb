{
 "cells": [
  {
   "cell_type": "markdown",
   "id": "4780752b",
   "metadata": {},
   "source": [
    "## Start"
   ]
  },
  {
   "cell_type": "code",
   "execution_count": 2,
   "id": "873b2a43",
   "metadata": {},
   "outputs": [],
   "source": [
    "import clickhouse_connect\n",
    "import datetime\n",
    "import os\n",
    "import pytz\n",
    "import pandas as pd\n",
    "from dateutil.relativedelta import relativedelta\n",
    "from dotenv import load_dotenv\n",
    "\n",
    "import sys\n",
    "sys.path.append('/home/boris/Documents/Work/analytics/Clickhouse')\n",
    "from clickhouse_client import ClickHouse_client\n",
    "ch = ClickHouse_client()\n",
    "pd.set_option('display.max_rows', 1000)\n",
    "\n"
   ]
  },
  {
   "cell_type": "markdown",
   "id": "e2aaab6f",
   "metadata": {},
   "source": [
    "___\n",
    "### Tags: #Tables\n",
    "\n",
    "### Links: \n",
    "\n",
    "[[deals_base_dir_bitrix]]\n",
    "\n",
    "[[category_id_dir_bitrix]]\n",
    "\n",
    "[[companies_id_dir_bitrix]]\n",
    "\n",
    "[[companies_dir_partner]]\n",
    "___"
   ]
  },
  {
   "cell_type": "code",
   "execution_count": null,
   "id": "e99f1583",
   "metadata": {},
   "outputs": [],
   "source": []
  },
  {
   "cell_type": "code",
   "execution_count": 5,
   "id": "42b4f406",
   "metadata": {},
   "outputs": [
    {
     "name": "stdout",
     "output_type": "stream",
     "text": [
      "(\n",
      "    `id` UInt64,\n",
      "    `title` String,\n",
      "    `opportunity` Float64,\n",
      "    `company_id` String,\n",
      "    `bitrix_company_name` String,\n",
      "    `date_start` Date,\n",
      "    `date_finish` Date,\n",
      "    `partner_lk` UInt32,\n",
      "    `partner_comapany_name` String\n",
      ")\n"
     ]
    }
   ],
   "source": [
    "query_text = \"\"\"--sql\n",
    "WITH t1 AS(\n",
    "SELECT \n",
    "\tbdb.ID AS id,\n",
    "\tbdb.TITLE AS title,\n",
    "\tbdb.OPPORTUNITY AS opportunity ,\n",
    "--\tbdb.STAGE_ID AS stage_id ,\n",
    "--\tcidb.name AS stage_name,\n",
    "--\tbdb.CURRENCY_ID AS currency_id, \n",
    "\tbdb.COMPANY_ID AS company_id,\n",
    "\tcidbc.company_name AS bitrix_company_name,\n",
    "\ttoDate(parseDateTime32BestEffortOrNull(bdb.BEGINDATE)) AS date_start ,\n",
    "\ttoDate(parseDateTime32BestEffortOrNull(bdb.CLOSEDATE)) AS date_finish,\n",
    "\tif(cidbc.partner_lk = 0,Null,cidbc.partner_lk) AS  partner_lk\n",
    "FROM db1.deals_base_dir_bitrix_ch AS bdb \n",
    "LEFT JOIN (SELECT\n",
    "\t\t\t*\n",
    "\t\t\tFROM db1.category_id_dir_bitrix_ch\n",
    "\t\t\tWHERE category_id = 0\n",
    "\t\t\t)AS cidb ON cidb.stage_id = bdb.STAGE_ID\n",
    "LEFT JOIN db1.companies_id_dir_bitrix_ch AS cidbc \n",
    "\tON toInt16(bdb.COMPANY_ID) = cidbc.company_id\n",
    "WHERE bdb.CURRENCY_ID = 'RUB'\n",
    "\t\tAND stage_id = 'WON'\n",
    "\t)\n",
    "--\n",
    "SELECT\n",
    "\tt1.*,\n",
    "\tcdp.company_name AS partner_comapany_name\n",
    "FROM t1\n",
    "LEFT JOIN db1.companies_dir_partner  AS cdp \n",
    "\tON toInt16(t1.partner_lk) = toInt16(cdp.partner_lk)\n",
    "ORDER BY date_finish DESC\n",
    "\"\"\"\n",
    "\n",
    "ch.get_schema(query_text)"
   ]
  },
  {
   "cell_type": "code",
   "execution_count": 6,
   "id": "9e59a65a",
   "metadata": {},
   "outputs": [
    {
     "data": {
      "text/html": [
       "<div><style>\n",
       ".dataframe > thead > tr,\n",
       ".dataframe > tbody > tr {\n",
       "  text-align: right;\n",
       "  white-space: pre-wrap;\n",
       "}\n",
       "</style>\n",
       "<small>shape: (0, 0)</small><table border=\"1\" class=\"dataframe\"><thead><tr></tr><tr></tr></thead><tbody></tbody></table></div>"
      ],
      "text/plain": [
       "shape: (0, 0)\n",
       "┌┐\n",
       "╞╡\n",
       "└┘"
      ]
     },
     "execution_count": 6,
     "metadata": {},
     "output_type": "execute_result"
    }
   ],
   "source": [
    "query_text = \"\"\"--sql\n",
    "CREATE TABLE db1.t_bitrix_deals_sales\n",
    "(\n",
    "    `id` UInt64,\n",
    "    `title` String,\n",
    "    `opportunity` Float64,\n",
    "    `company_id` String,\n",
    "    `bitrix_company_name` String,\n",
    "    `date_start` Date,\n",
    "    `date_finish` Date,\n",
    "    `partner_lk` UInt32,\n",
    "    `partner_comapany_name` String\n",
    ")\n",
    "    ENGINE = MergeTree()\n",
    "    ORDER BY id\n",
    "\"\"\"\n",
    "\n",
    "ch.query_run(query_text)"
   ]
  },
  {
   "cell_type": "code",
   "execution_count": 7,
   "id": "3eeb0595",
   "metadata": {},
   "outputs": [
    {
     "data": {
      "text/html": [
       "<div><style>\n",
       ".dataframe > thead > tr,\n",
       ".dataframe > tbody > tr {\n",
       "  text-align: right;\n",
       "  white-space: pre-wrap;\n",
       "}\n",
       "</style>\n",
       "<small>shape: (0, 0)</small><table border=\"1\" class=\"dataframe\"><thead><tr></tr><tr></tr></thead><tbody></tbody></table></div>"
      ],
      "text/plain": [
       "shape: (0, 0)\n",
       "┌┐\n",
       "╞╡\n",
       "└┘"
      ]
     },
     "execution_count": 7,
     "metadata": {},
     "output_type": "execute_result"
    }
   ],
   "source": [
    "query_text = \"\"\"--sql\n",
    "    CREATE MATERIALIZED VIEW db1.t_bitrix_deals_sales_mv\n",
    "    REFRESH EVERY 1 DAY OFFSET 5 HOUR 35 MINUTE TO db1.t_bitrix_deals_sales AS\n",
    "    WITH t1 AS(\n",
    "    SELECT \n",
    "        bdb.ID AS id,\n",
    "        bdb.TITLE AS title,\n",
    "        bdb.OPPORTUNITY AS opportunity ,\n",
    "    --\tbdb.STAGE_ID AS stage_id ,\n",
    "    --\tcidb.name AS stage_name,\n",
    "    --\tbdb.CURRENCY_ID AS currency_id, \n",
    "        bdb.COMPANY_ID AS company_id,\n",
    "        cidbc.company_name AS bitrix_company_name,\n",
    "        toDate(parseDateTime32BestEffortOrNull(bdb.BEGINDATE)) AS date_start ,\n",
    "        toDate(parseDateTime32BestEffortOrNull(bdb.CLOSEDATE)) AS date_finish,\n",
    "        if(cidbc.partner_lk = 0,Null,cidbc.partner_lk) AS  partner_lk\n",
    "    FROM db1.deals_base_dir_bitrix_ch AS bdb \n",
    "    LEFT JOIN (SELECT\n",
    "                *\n",
    "                FROM db1.category_id_dir_bitrix_ch\n",
    "                WHERE category_id = 0\n",
    "                )AS cidb ON cidb.stage_id = bdb.STAGE_ID\n",
    "    LEFT JOIN db1.companies_id_dir_bitrix_ch AS cidbc \n",
    "        ON toInt16(bdb.COMPANY_ID) = cidbc.company_id\n",
    "    WHERE bdb.CURRENCY_ID = 'RUB'\n",
    "            AND stage_id = 'WON'\n",
    "        )\n",
    "    --\n",
    "    SELECT\n",
    "        t1.*,\n",
    "        cdp.company_name AS partner_comapany_name\n",
    "    FROM t1\n",
    "    LEFT JOIN db1.companies_dir_partner  AS cdp \n",
    "        ON toInt16(t1.partner_lk) = toInt16(cdp.partner_lk)\n",
    "    ORDER BY date_finish DESC\n",
    "    \"\"\"\n",
    "\n",
    "ch.query_run(query_text)"
   ]
  },
  {
   "cell_type": "markdown",
   "id": "a8fbdbda",
   "metadata": {},
   "source": [
    "___\n",
    "## Tools\n",
    "___\n",
    "### query\n"
   ]
  },
  {
   "cell_type": "code",
   "execution_count": 10,
   "id": "0b267d4a",
   "metadata": {},
   "outputs": [
    {
     "data": {
      "text/html": [
       "<div><style>\n",
       ".dataframe > thead > tr,\n",
       ".dataframe > tbody > tr {\n",
       "  text-align: right;\n",
       "  white-space: pre-wrap;\n",
       "}\n",
       "</style>\n",
       "<small>shape: (10, 9)</small><table border=\"1\" class=\"dataframe\"><thead><tr><th>id</th><th>title</th><th>opportunity</th><th>company_id</th><th>bitrix_company_name</th><th>date_start</th><th>date_finish</th><th>partner_lk</th><th>partner_comapany_name</th></tr><tr><td>i64</td><td>str</td><td>f64</td><td>str</td><td>str</td><td>date</td><td>date</td><td>i64</td><td>str</td></tr></thead><tbody><tr><td>2289</td><td>&quot;Продажа 4 х стёкол для домофон…</td><td>0.0</td><td>&quot;3531&quot;</td><td>&quot;МЕТАКОМ СЕРВИС ООО НН&quot;</td><td>2020-10-26</td><td>2020-10-31</td><td>120408</td><td>&quot;Метаком Сервис&quot;</td></tr><tr><td>2295</td><td>&quot;Заказ клиента 00ЦБ-00248&quot;</td><td>9730.0</td><td>&quot;3523&quot;</td><td>&quot;СИТИЛАН ООО&quot;</td><td>2020-10-16</td><td>2021-02-08</td><td>122029</td><td>&quot;ООО СИТИЛАН&quot;</td></tr><tr><td>2297</td><td>&quot;Заказ клиента 00ЦБ-00245&quot;</td><td>105600.0</td><td>&quot;4183&quot;</td><td>&quot;КАСКАД ООО&quot;</td><td>2020-10-14</td><td>2020-10-28</td><td>120653</td><td>&quot;ООО &quot;Каскад&quot;&quot;</td></tr><tr><td>2299</td><td>&quot;Заказ клиента 00ЦБ-00249&quot;</td><td>7900.0</td><td>&quot;4629&quot;</td><td>&quot;РИФТ ООО&quot;</td><td>2020-10-16</td><td>2021-02-08</td><td>121950</td><td>&quot;ООО «Рифт»&quot;</td></tr><tr><td>2301</td><td>&quot;Заказ клиента 00ЦБ-00250&quot;</td><td>35200.0</td><td>&quot;4631&quot;</td><td>&quot;Гончаров Вячеслав Вячеславович&quot;</td><td>2020-10-16</td><td>2020-10-28</td><td>124145</td><td>&quot;Индивидуальный предприниматель…</td></tr><tr><td>2303</td><td>&quot;Заказ клиента 00ЦБ-00238&quot;</td><td>422400.0</td><td>&quot;4281&quot;</td><td>&quot;АСКО СЕРВИС ООО&quot;</td><td>2020-10-13</td><td>2020-10-18</td><td>120202</td><td>&quot;Aско Сервис ООО ПРО&quot;</td></tr><tr><td>2305</td><td>&quot;Заказ клиента 00ЦБ-00251&quot;</td><td>35200.0</td><td>&quot;4633&quot;</td><td>&quot;ДОЗОР ООО&quot;</td><td>2020-10-16</td><td>2020-10-28</td><td>0</td><td>&quot;&quot;</td></tr><tr><td>2307</td><td>&quot;Заказ клиента 00ЦБ-00252&quot;</td><td>7900.0</td><td>&quot;4639&quot;</td><td>&quot;ОБНИНСК - ТЕЛЕКОМ ООО&quot;</td><td>2020-10-16</td><td>2021-02-08</td><td>122040</td><td>&quot;ООО &quot;СКАУТ&quot;&quot;</td></tr><tr><td>2309</td><td>&quot;Заказ клиента 00ЦБ-00244&quot;</td><td>35200.0</td><td>&quot;4623&quot;</td><td>&quot;МОДУС ООО&quot;</td><td>2020-10-14</td><td>2020-10-28</td><td>123194</td><td>&quot;Модус&quot;</td></tr><tr><td>2315</td><td>&quot;Заказ клиента 00ЦБ-00246&quot;</td><td>281600.0</td><td>&quot;2269&quot;</td><td>&quot;ДОМОФОН ПЛЮС ООО&quot;</td><td>2020-10-15</td><td>2020-10-28</td><td>120859</td><td>&quot;ООО Домофон плюс ПРО&quot;</td></tr></tbody></table></div>"
      ],
      "text/plain": [
       "shape: (10, 9)\n",
       "┌──────┬────────────┬────────────┬────────────┬───┬────────────┬───────────┬───────────┬───────────┐\n",
       "│ id   ┆ title      ┆ opportunit ┆ company_id ┆ … ┆ date_start ┆ date_fini ┆ partner_l ┆ partner_c │\n",
       "│ ---  ┆ ---        ┆ y          ┆ ---        ┆   ┆ ---        ┆ sh        ┆ k         ┆ omapany_n │\n",
       "│ i64  ┆ str        ┆ ---        ┆ str        ┆   ┆ date       ┆ ---       ┆ ---       ┆ ame       │\n",
       "│      ┆            ┆ f64        ┆            ┆   ┆            ┆ date      ┆ i64       ┆ ---       │\n",
       "│      ┆            ┆            ┆            ┆   ┆            ┆           ┆           ┆ str       │\n",
       "╞══════╪════════════╪════════════╪════════════╪═══╪════════════╪═══════════╪═══════════╪═══════════╡\n",
       "│ 2289 ┆ Продажа 4  ┆ 0.0        ┆ 3531       ┆ … ┆ 2020-10-26 ┆ 2020-10-3 ┆ 120408    ┆ Метаком   │\n",
       "│      ┆ х стёкол   ┆            ┆            ┆   ┆            ┆ 1         ┆           ┆ Сервис    │\n",
       "│      ┆ для        ┆            ┆            ┆   ┆            ┆           ┆           ┆           │\n",
       "│      ┆ домофон…   ┆            ┆            ┆   ┆            ┆           ┆           ┆           │\n",
       "│ 2295 ┆ Заказ      ┆ 9730.0     ┆ 3523       ┆ … ┆ 2020-10-16 ┆ 2021-02-0 ┆ 122029    ┆ ООО       │\n",
       "│      ┆ клиента    ┆            ┆            ┆   ┆            ┆ 8         ┆           ┆ СИТИЛАН   │\n",
       "│      ┆ 00ЦБ-00248 ┆            ┆            ┆   ┆            ┆           ┆           ┆           │\n",
       "│ 2297 ┆ Заказ      ┆ 105600.0   ┆ 4183       ┆ … ┆ 2020-10-14 ┆ 2020-10-2 ┆ 120653    ┆ ООО       │\n",
       "│      ┆ клиента    ┆            ┆            ┆   ┆            ┆ 8         ┆           ┆ \"Каскад\"  │\n",
       "│      ┆ 00ЦБ-00245 ┆            ┆            ┆   ┆            ┆           ┆           ┆           │\n",
       "│ 2299 ┆ Заказ      ┆ 7900.0     ┆ 4629       ┆ … ┆ 2020-10-16 ┆ 2021-02-0 ┆ 121950    ┆ ООО       │\n",
       "│      ┆ клиента    ┆            ┆            ┆   ┆            ┆ 8         ┆           ┆ «Рифт»    │\n",
       "│      ┆ 00ЦБ-00249 ┆            ┆            ┆   ┆            ┆           ┆           ┆           │\n",
       "│ 2301 ┆ Заказ      ┆ 35200.0    ┆ 4631       ┆ … ┆ 2020-10-16 ┆ 2020-10-2 ┆ 124145    ┆ Индивидуа │\n",
       "│      ┆ клиента    ┆            ┆            ┆   ┆            ┆ 8         ┆           ┆ льный пре │\n",
       "│      ┆ 00ЦБ-00250 ┆            ┆            ┆   ┆            ┆           ┆           ┆ дпринимат │\n",
       "│      ┆            ┆            ┆            ┆   ┆            ┆           ┆           ┆ ель…      │\n",
       "│ 2303 ┆ Заказ      ┆ 422400.0   ┆ 4281       ┆ … ┆ 2020-10-13 ┆ 2020-10-1 ┆ 120202    ┆ Aско      │\n",
       "│      ┆ клиента    ┆            ┆            ┆   ┆            ┆ 8         ┆           ┆ Сервис    │\n",
       "│      ┆ 00ЦБ-00238 ┆            ┆            ┆   ┆            ┆           ┆           ┆ ООО ПРО   │\n",
       "│ 2305 ┆ Заказ      ┆ 35200.0    ┆ 4633       ┆ … ┆ 2020-10-16 ┆ 2020-10-2 ┆ 0         ┆           │\n",
       "│      ┆ клиента    ┆            ┆            ┆   ┆            ┆ 8         ┆           ┆           │\n",
       "│      ┆ 00ЦБ-00251 ┆            ┆            ┆   ┆            ┆           ┆           ┆           │\n",
       "│ 2307 ┆ Заказ      ┆ 7900.0     ┆ 4639       ┆ … ┆ 2020-10-16 ┆ 2021-02-0 ┆ 122040    ┆ ООО       │\n",
       "│      ┆ клиента    ┆            ┆            ┆   ┆            ┆ 8         ┆           ┆ \"СКАУТ\"   │\n",
       "│      ┆ 00ЦБ-00252 ┆            ┆            ┆   ┆            ┆           ┆           ┆           │\n",
       "│ 2309 ┆ Заказ      ┆ 35200.0    ┆ 4623       ┆ … ┆ 2020-10-14 ┆ 2020-10-2 ┆ 123194    ┆ Модус     │\n",
       "│      ┆ клиента    ┆            ┆            ┆   ┆            ┆ 8         ┆           ┆           │\n",
       "│      ┆ 00ЦБ-00244 ┆            ┆            ┆   ┆            ┆           ┆           ┆           │\n",
       "│ 2315 ┆ Заказ      ┆ 281600.0   ┆ 2269       ┆ … ┆ 2020-10-15 ┆ 2020-10-2 ┆ 120859    ┆ ООО       │\n",
       "│      ┆ клиента    ┆            ┆            ┆   ┆            ┆ 8         ┆           ┆ Домофон   │\n",
       "│      ┆ 00ЦБ-00246 ┆            ┆            ┆   ┆            ┆           ┆           ┆ плюс ПРО  │\n",
       "└──────┴────────────┴────────────┴────────────┴───┴────────────┴───────────┴───────────┴───────────┘"
      ]
     },
     "execution_count": 10,
     "metadata": {},
     "output_type": "execute_result"
    }
   ],
   "source": [
    "query_text = \"\"\"--sql\n",
    "    SELECT\n",
    "        *\n",
    "    FROM db1.t_bitrix_deals_sales\n",
    "    limit 10\n",
    "    \"\"\"\n",
    "\n",
    "ch.query_run(query_text)\n"
   ]
  },
  {
   "cell_type": "markdown",
   "id": "d454c50d",
   "metadata": {},
   "source": [
    "### delete a part\n"
   ]
  },
  {
   "cell_type": "code",
   "execution_count": null,
   "id": "c5132e17",
   "metadata": {},
   "outputs": [],
   "source": [
    "query_text = \"\"\"--sql\n",
    "    ALTER TABLE db1.t_bitrix_deals_sales DELETE WHERE report_date = '2025-07-17'\n",
    "    \"\"\"\n",
    "\n",
    "ch.query_run(query_text)\n"
   ]
  },
  {
   "cell_type": "markdown",
   "id": "f27b3c96",
   "metadata": {},
   "source": [
    "### drop mv"
   ]
  },
  {
   "cell_type": "code",
   "execution_count": null,
   "id": "2aa23f4b",
   "metadata": {
    "lines_to_next_cell": 2
   },
   "outputs": [
    {
     "data": {
      "text/html": [
       "<div><style>\n",
       ".dataframe > thead > tr,\n",
       ".dataframe > tbody > tr {\n",
       "  text-align: right;\n",
       "  white-space: pre-wrap;\n",
       "}\n",
       "</style>\n",
       "<small>shape: (0, 0)</small><table border=\"1\" class=\"dataframe\"><thead><tr></tr><tr></tr></thead><tbody></tbody></table></div>"
      ],
      "text/plain": [
       "shape: (0, 0)\n",
       "┌┐\n",
       "╞╡\n",
       "└┘"
      ]
     },
     "execution_count": 30,
     "metadata": {},
     "output_type": "execute_result"
    }
   ],
   "source": [
    "query_text = \"\"\"--sql\n",
    "    DROP TABLE db1.t_bitrix_deals_sales_mv\n",
    "    \"\"\"\n",
    "\n",
    "ch.query_run(query_text)"
   ]
  },
  {
   "cell_type": "markdown",
   "id": "14f3334d",
   "metadata": {},
   "source": [
    "### drop ch"
   ]
  },
  {
   "cell_type": "code",
   "execution_count": null,
   "id": "28fd7aa0",
   "metadata": {},
   "outputs": [
    {
     "data": {
      "text/html": [
       "<div><style>\n",
       ".dataframe > thead > tr,\n",
       ".dataframe > tbody > tr {\n",
       "  text-align: right;\n",
       "  white-space: pre-wrap;\n",
       "}\n",
       "</style>\n",
       "<small>shape: (0, 0)</small><table border=\"1\" class=\"dataframe\"><thead><tr></tr><tr></tr></thead><tbody></tbody></table></div>"
      ],
      "text/plain": [
       "shape: (0, 0)\n",
       "┌┐\n",
       "╞╡\n",
       "└┘"
      ]
     },
     "execution_count": 31,
     "metadata": {},
     "output_type": "execute_result"
    }
   ],
   "source": [
    "query_text = \"\"\"--sql\n",
    "    DROP TABLE db1.t_bitrix_deals_sales\n",
    "    \"\"\"\n",
    "\n",
    "ch.query_run(query_text)"
   ]
  },
  {
   "cell_type": "markdown",
   "id": "8e85f950",
   "metadata": {},
   "source": [
    "### refresh mv"
   ]
  },
  {
   "cell_type": "code",
   "execution_count": null,
   "id": "8df08f49",
   "metadata": {},
   "outputs": [
    {
     "data": {
      "text/html": [
       "<div><style>\n",
       ".dataframe > thead > tr,\n",
       ".dataframe > tbody > tr {\n",
       "  text-align: right;\n",
       "  white-space: pre-wrap;\n",
       "}\n",
       "</style>\n",
       "<small>shape: (1, 2)</small><table border=\"1\" class=\"dataframe\"><thead><tr><th>elapsed_ns</th><th>query_id</th></tr><tr><td>i64</td><td>str</td></tr></thead><tbody><tr><td>897986</td><td>&quot;58d516b8-81ce-47ef-ab2c-c0196a…</td></tr></tbody></table></div>"
      ],
      "text/plain": [
       "shape: (1, 2)\n",
       "┌────────────┬─────────────────────────────────┐\n",
       "│ elapsed_ns ┆ query_id                        │\n",
       "│ ---        ┆ ---                             │\n",
       "│ i64        ┆ str                             │\n",
       "╞════════════╪═════════════════════════════════╡\n",
       "│ 897986     ┆ 58d516b8-81ce-47ef-ab2c-c0196a… │\n",
       "└────────────┴─────────────────────────────────┘"
      ]
     },
     "execution_count": 16,
     "metadata": {},
     "output_type": "execute_result"
    }
   ],
   "source": [
    "query_text = \"\"\"\n",
    "SYSTEM REFRESH VIEW db1.t_uk_adresses_subscribtions_mv\n",
    "\"\"\"\n",
    "\n",
    "ch.query_run(query_text)"
   ]
  }
 ],
 "metadata": {
  "jupytext": {
   "formats": "ipynb,md"
  },
  "kernelspec": {
   "display_name": "myenv",
   "language": "python",
   "name": "python3"
  },
  "language_info": {
   "codemirror_mode": {
    "name": "ipython",
    "version": 3
   },
   "file_extension": ".py",
   "mimetype": "text/x-python",
   "name": "python",
   "nbconvert_exporter": "python",
   "pygments_lexer": "ipython3",
   "version": "3.12.11"
  }
 },
 "nbformat": 4,
 "nbformat_minor": 5
}

{
 "cells": [
  {
   "cell_type": "code",
   "execution_count": null,
   "id": "4dd34fcf",
   "metadata": {},
   "outputs": [],
   "source": [
    "WITH \n",
    "\ttoDate('2025-03-30') AS my_date,\n",
    "\tfull_table AS (SELECT\n",
    "\t\tsessions_st_mobile.report_date AS report_date,\n",
    "\t    installation_point_st_partner.partner_uuid AS partner_uuid,\n",
    "\t    installation_point_st_partner.installation_point_id  AS installation_point_id,\n",
    "\t    sessions_st_mobile.citizen_id AS citizen_id,\n",
    "\t    installation_point_st_partner.monetization AS monetization,\n",
    "\t    subscriptions_st_mobile.state AS subscriptions_state,\n",
    "\t    entries_st_mobile.ble_available AS ble_available,\n",
    "\t    citizens_st_mobile.activated_at AS activated_at,\n",
    "\t    city\n",
    "\tFROM db1.`sessions_st_mobile_ch` AS sessions_st_mobile\n",
    "\tLEFT JOIN db1.subscriptions_st_mobile_ch AS subscriptions_st_mobile \n",
    "\t    ON subscriptions_st_mobile.citizen_id = sessions_st_mobile.citizen_id\n",
    "\t    AND subscriptions_st_mobile.report_date = sessions_st_mobile.report_date\n",
    "\tLEFT JOIN  (SELECT * FROM db1.`citizens_st_mobile_parquet_ch` WHERE report_date BETWEEN toStartOfInterval(my_date, INTERVAL 1 MONTH) AND my_date) AS citizens_st_mobile \n",
    "\t    ON citizens_st_mobile.citizen_id = sessions_st_mobile.citizen_id\n",
    "\t    AND citizens_st_mobile.report_date = sessions_st_mobile.report_date\n",
    "\tLEFT JOIN db1.`flats_dir_partner_ch` AS flats_dir_partner ON flats_dir_partner.flat_uuid = citizens_st_mobile.flat_uuid\n",
    "\tLEFT JOIN db1.`entries_installation_points_dir_partner_ch` AS entries_installation_points_dir_partner ON flats_dir_partner.address_uuid = entries_installation_points_dir_partner.address_uuid\n",
    "LEFT JOIN db1.`installation_point_st_partner_ch` AS installation_point_st_partner \n",
    "        ON installation_point_st_partner.installation_point_id = entries_installation_points_dir_partner.installation_point_id\n",
    "        AND installation_point_st_partner.report_date = citizens_st_mobile.report_date\n",
    "\tLEFT JOIN db1.`entries_st_mobile_ch` AS entries_st_mobile\n",
    "        ON `entries_st_mobile`.`report_date` = sessions_st_mobile.`report_date` \n",
    "        AND`entries_st_mobile`.`address_uuid` = flats_dir_partner.`address_uuid`\n",
    "\tWHERE toDate(`last_use`) BETWEEN toStartOfInterval(my_date, INTERVAL 1 MONTH) AND my_date\n",
    "\t   \t AND citizens_st_mobile.state = 'activated'\n",
    "\t)\n",
    "SELECT\n",
    "\tmy_date AS report_date,\n",
    "    COUNT(DISTINCT citizen_id) AS total_active_users,\n",
    "    COUNT(DISTINCT if(toDateOrNull(activated_at) BETWEEN toStartOfInterval(my_date, INTERVAL 1 MONTH) AND my_date ,citizen_id,Null)) AS new_active_users,\n",
    "\tCOUNT(DISTINCT if(monetization = 1, citizen_id, Null)) as total_active_users_monetization,\n",
    "\tCOUNT(DISTINCT if(monetization = 1 and subscriptions_state = 'activated',citizen_id,Null)) as total_active_user_subscribed_monetization,\n",
    "\tCOUNT(DISTINCT if(ble_available = 'true',citizen_id, Null)) AS totalmy_date_active_users_ble_available,\n",
    "\tCOUNT(DISTINCT if(ble_available = 'true' and monetization = 1,citizen_id, Null)) AS total_active_users_ble_available_monetization,\n",
    "    COUNT(DISTINCT if(ble_available = 'true' and monetization = 1 and subscriptions_state = 'activated',citizen_id, Null)) AS total_active_users_ble_available_subscribed_monetization\n",
    "FROM full_table\n",
    "LIMIT 10"
   ]
  }
 ],
 "metadata": {
  "language_info": {
   "name": "python"
  }
 },
 "nbformat": 4,
 "nbformat_minor": 5
}

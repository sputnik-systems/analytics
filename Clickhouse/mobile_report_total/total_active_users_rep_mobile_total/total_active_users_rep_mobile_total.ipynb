{
 "cells": [
  {
   "cell_type": "markdown",
   "id": "baea4ede",
   "metadata": {},
   "source": [
    "## Start"
   ]
  },
  {
   "cell_type": "code",
   "execution_count": 1,
   "id": "b463d78a",
   "metadata": {},
   "outputs": [],
   "source": [
    "import clickhouse_connect\n",
    "import datetime\n",
    "import os\n",
    "import pytz\n",
    "import pandas as pd\n",
    "from dateutil.relativedelta import relativedelta\n",
    "from dotenv import load_dotenv\n",
    "\n",
    "import sys\n",
    "sys.path.append('/home/boris/Documents/Work/analytics/Clickhouse')\n",
    "from clickhouse_client import ClickHouse_client\n",
    "ch = ClickHouse_client()\n",
    "pd.set_option('display.max_rows', 1000)"
   ]
  },
  {
   "cell_type": "markdown",
   "id": "96c3647c",
   "metadata": {},
   "source": [
    "___\n",
    "### Tags: #Mobile_Report\n",
    "\n",
    "### Links:  \n",
    "\n",
    "[[total_active_users_first_mention]]\n",
    "\n",
    "\n",
    "### Table"
   ]
  },
  {
   "cell_type": "code",
   "execution_count": 15,
   "id": "1418ddc9",
   "metadata": {},
   "outputs": [
    {
     "data": {
      "text/html": [
       "<div><style>\n",
       ".dataframe > thead > tr,\n",
       ".dataframe > tbody > tr {\n",
       "  text-align: right;\n",
       "  white-space: pre-wrap;\n",
       "}\n",
       "</style>\n",
       "<small>shape: (0, 0)</small><table border=\"1\" class=\"dataframe\"><thead><tr></tr><tr></tr></thead><tbody></tbody></table></div>"
      ],
      "text/plain": [
       "shape: (0, 0)\n",
       "┌┐\n",
       "╞╡\n",
       "└┘"
      ]
     },
     "execution_count": 15,
     "metadata": {},
     "output_type": "execute_result"
    }
   ],
   "source": [
    "query_text = \"\"\"--sql\n",
    "CREATE TABLE db1.total_active_users_rep_mobile_total\n",
    "(\n",
    "    `report_date` Date,\n",
    "    `partner_uuid` String,\n",
    "    `city` String,\n",
    "    `total_active_users` UInt32,\n",
    "    `new_active_users` UInt32,\n",
    "    `total_active_users_monetization` UInt32,\n",
    "    `total_active_user_subscribed_monetization` UInt32,\n",
    "    `total_active_users_ble_available` UInt32,\n",
    "    `total_active_users_ble_available_monetization` UInt32,\n",
    "    `total_active_users_ble_available_subscribed_monetization` UInt32\n",
    ")\n",
    "ENGINE = MergeTree()\n",
    "ORDER BY partner_uuid\n",
    "\"\"\"\n",
    "\n",
    "ch.query_run(query_text)"
   ]
  },
  {
   "cell_type": "code",
   "execution_count": 3,
   "id": "ef938fba",
   "metadata": {},
   "outputs": [
    {
     "data": {
      "text/html": [
       "<div><style>\n",
       ".dataframe > thead > tr,\n",
       ".dataframe > tbody > tr {\n",
       "  text-align: right;\n",
       "  white-space: pre-wrap;\n",
       "}\n",
       "</style>\n",
       "<small>shape: (0, 0)</small><table border=\"1\" class=\"dataframe\"><thead><tr></tr><tr></tr></thead><tbody></tbody></table></div>"
      ],
      "text/plain": [
       "shape: (0, 0)\n",
       "┌┐\n",
       "╞╡\n",
       "└┘"
      ]
     },
     "execution_count": 3,
     "metadata": {},
     "output_type": "execute_result"
    }
   ],
   "source": [
    "query_text = \"\"\"--sql\n",
    "    CREATE MATERIALIZED VIEW db1.total_active_users_rep_mobile_total_mv\n",
    "    REFRESH EVERY 1 DAY OFFSET 6 HOUR 8 MINUTE TO db1.total_active_users_rep_mobile_total AS\n",
    "    WITH dec_t AS (SELECT\n",
    "            DISTINCT\n",
    "            t1.report_date  AS report_date,\n",
    "            t2.city  AS city,\n",
    "            t2.partner_uuid  AS partner_uuid\n",
    "        FROM\n",
    "            (SELECT DISTINCT report_date FROM db1.total_active_users_first_mention) AS t1\n",
    "        CROSS JOIN\n",
    "            (SELECT DISTINCT city, partner_uuid FROM db1.total_active_users_first_mention ) AS t2\n",
    "        ),\n",
    "        --\n",
    "        dec_and_full AS (\n",
    "        SELECT\n",
    "        dec_t.report_date AS report_date,\n",
    "        dec_t.partner_uuid AS partner_uuid,\n",
    "        dec_t.city AS city,\n",
    "        total_active_users_day,\n",
    "        new_active_users_day,\n",
    "        total_active_users_monetization_day,\n",
    "        total_active_user_subscribed_monetization_day,\n",
    "        total_active_users_ble_available_day,\n",
    "        total_active_users_ble_available_monetization_day,\n",
    "        total_active_users_ble_available_subscribed_monetization_day\n",
    "        FROM dec_t\n",
    "        LEFT join (\n",
    "            SELECT\n",
    "                report_date,\n",
    "                partner_uuid,\n",
    "                city,\n",
    "                count(DISTINCT citizen_id) AS total_active_users_day,\n",
    "                count(DISTINCT if(toDateOrNull(activated_at) BETWEEN toStartOfMonth(report_date) and report_date,citizen_id,null)) AS new_active_users_day,\n",
    "                count(DISTINCT if(monetization = 1,citizen_id,null)) AS total_active_users_monetization_day,\n",
    "                count(DISTINCT if(monetization = 1 and subscriptions_state = 'activated',citizen_id,null)) as total_active_user_subscribed_monetization_day,\n",
    "                count(DISTINCT if(ble_available = 'true',citizen_id,null)) AS total_active_users_ble_available_day,\n",
    "                count(DISTINCT if(ble_available = 'true' and monetization = 1,citizen_id,null)) AS total_active_users_ble_available_monetization_day,\n",
    "                count(DISTINCT if(ble_available = 'true' and monetization = 1 and subscriptions_state = 'activated',citizen_id,null)) AS total_active_users_ble_available_subscribed_monetization_day\n",
    "            FROM db1.total_active_users_first_mention\n",
    "            GROUP BY\n",
    "                report_date,\n",
    "                partner_uuid,\n",
    "                city) AS full_table\n",
    "            ON dec_t.report_date = full_table.report_date\n",
    "            AND dec_t.partner_uuid = full_table.partner_uuid\n",
    "            AND dec_t.city = full_table.city\n",
    "        )\n",
    "        --\n",
    "        SELECT\n",
    "            report_date,\n",
    "            partner_uuid,\n",
    "            city,\n",
    "            sum(total_active_users_day) OVER (PARTITION BY toStartOfMonth(report_date),partner_uuid, city ORDER BY report_date) AS total_active_users,\n",
    "            sum(new_active_users_day) OVER (PARTITION BY toStartOfMonth(report_date),partner_uuid, city ORDER BY report_date) AS new_active_users,\n",
    "            sum(total_active_users_monetization_day) OVER (PARTITION BY toStartOfMonth(report_date),partner_uuid, city ORDER BY report_date) AS total_active_users_monetization,\n",
    "            sum(total_active_user_subscribed_monetization_day) OVER (PARTITION BY toStartOfMonth(report_date),partner_uuid, city ORDER BY report_date) AS total_active_user_subscribed_monetization,\n",
    "            sum(total_active_users_ble_available_day) OVER (PARTITION BY toStartOfMonth(report_date),partner_uuid, city ORDER BY report_date) AS total_active_users_ble_available,\n",
    "            sum(total_active_users_ble_available_monetization_day) OVER (PARTITION BY toStartOfMonth(report_date),partner_uuid, city ORDER BY report_date)\n",
    "                AS total_active_users_ble_available_monetization,\n",
    "            sum(total_active_users_ble_available_subscribed_monetization_day) OVER (PARTITION BY toStartOfMonth(report_date),partner_uuid, city ORDER BY report_date)\n",
    "                AS total_active_users_ble_available_subscribed_monetization\n",
    "        FROM dec_and_full\n",
    "    \"\"\"\n",
    "ch.query_run(query_text)"
   ]
  },
  {
   "cell_type": "markdown",
   "id": "58c418d4",
   "metadata": {},
   "source": [
    "___\n",
    "## Tools\n",
    "___\n",
    "### query\n"
   ]
  },
  {
   "cell_type": "code",
   "execution_count": 4,
   "id": "820a195b",
   "metadata": {},
   "outputs": [
    {
     "data": {
      "text/html": [
       "<div><style>\n",
       ".dataframe > thead > tr,\n",
       ".dataframe > tbody > tr {\n",
       "  text-align: right;\n",
       "  white-space: pre-wrap;\n",
       "}\n",
       "</style>\n",
       "<small>shape: (100, 2)</small><table border=\"1\" class=\"dataframe\"><thead><tr><th>report_date</th><th>sum(new_active_users)</th></tr><tr><td>date</td><td>i64</td></tr></thead><tbody><tr><td>2025-09-02</td><td>2406</td></tr><tr><td>2025-09-01</td><td>1168</td></tr><tr><td>2025-08-31</td><td>29503</td></tr><tr><td>2025-08-30</td><td>28295</td></tr><tr><td>2025-08-29</td><td>27232</td></tr><tr><td>&hellip;</td><td>&hellip;</td></tr><tr><td>2025-05-29</td><td>25963</td></tr><tr><td>2025-05-28</td><td>24754</td></tr><tr><td>2025-05-27</td><td>23751</td></tr><tr><td>2025-05-26</td><td>22790</td></tr><tr><td>2025-05-25</td><td>21850</td></tr></tbody></table></div>"
      ],
      "text/plain": [
       "shape: (100, 2)\n",
       "┌─────────────┬───────────────────────┐\n",
       "│ report_date ┆ sum(new_active_users) │\n",
       "│ ---         ┆ ---                   │\n",
       "│ date        ┆ i64                   │\n",
       "╞═════════════╪═══════════════════════╡\n",
       "│ 2025-09-02  ┆ 2406                  │\n",
       "│ 2025-09-01  ┆ 1168                  │\n",
       "│ 2025-08-31  ┆ 29503                 │\n",
       "│ 2025-08-30  ┆ 28295                 │\n",
       "│ 2025-08-29  ┆ 27232                 │\n",
       "│ …           ┆ …                     │\n",
       "│ 2025-05-29  ┆ 25963                 │\n",
       "│ 2025-05-28  ┆ 24754                 │\n",
       "│ 2025-05-27  ┆ 23751                 │\n",
       "│ 2025-05-26  ┆ 22790                 │\n",
       "│ 2025-05-25  ┆ 21850                 │\n",
       "└─────────────┴───────────────────────┘"
      ]
     },
     "execution_count": 4,
     "metadata": {},
     "output_type": "execute_result"
    }
   ],
   "source": [
    "query_text = \"\"\"--sql\n",
    "    SELECT\n",
    "        report_date,\n",
    "        sum(new_active_users)\n",
    "    FROM db1.total_active_users_rep_mobile_total\n",
    "    GROUP BY report_date\n",
    "    ORDER BY report_date DESC\n",
    "    limit 100\n",
    "    \"\"\"\n",
    "\n",
    "ch.query_run(query_text)"
   ]
  },
  {
   "cell_type": "markdown",
   "id": "4b314552",
   "metadata": {},
   "source": [
    "### delete a part\n"
   ]
  },
  {
   "cell_type": "code",
   "execution_count": null,
   "id": "88aaf5c0",
   "metadata": {},
   "outputs": [],
   "source": [
    "query_text = \"\"\"--sql\n",
    "    ALTER TABLE db1.total_active_users_per_day_full_table DELETE WHERE report_date = '2025-07-17'\n",
    "    \"\"\"\n",
    "\n",
    "ch.query_run(query_text)"
   ]
  },
  {
   "cell_type": "markdown",
   "id": "ca2df4ea",
   "metadata": {},
   "source": [
    "### drop mv"
   ]
  },
  {
   "cell_type": "code",
   "execution_count": 2,
   "id": "f8302057",
   "metadata": {},
   "outputs": [
    {
     "data": {
      "text/html": [
       "<div><style>\n",
       ".dataframe > thead > tr,\n",
       ".dataframe > tbody > tr {\n",
       "  text-align: right;\n",
       "  white-space: pre-wrap;\n",
       "}\n",
       "</style>\n",
       "<small>shape: (0, 0)</small><table border=\"1\" class=\"dataframe\"><thead><tr></tr><tr></tr></thead><tbody></tbody></table></div>"
      ],
      "text/plain": [
       "shape: (0, 0)\n",
       "┌┐\n",
       "╞╡\n",
       "└┘"
      ]
     },
     "execution_count": 2,
     "metadata": {},
     "output_type": "execute_result"
    }
   ],
   "source": [
    "query_text = \"\"\"--sql\n",
    "    DROP TABLE db1.total_active_users_rep_mobile_total_mv\n",
    "    \"\"\"\n",
    "\n",
    "ch.query_run(query_text)"
   ]
  },
  {
   "cell_type": "markdown",
   "id": "29e55cb0",
   "metadata": {},
   "source": [
    "### drop ch"
   ]
  },
  {
   "cell_type": "code",
   "execution_count": 14,
   "id": "efcb51e1",
   "metadata": {},
   "outputs": [
    {
     "data": {
      "text/html": [
       "<div><style>\n",
       ".dataframe > thead > tr,\n",
       ".dataframe > tbody > tr {\n",
       "  text-align: right;\n",
       "  white-space: pre-wrap;\n",
       "}\n",
       "</style>\n",
       "<small>shape: (0, 0)</small><table border=\"1\" class=\"dataframe\"><thead><tr></tr><tr></tr></thead><tbody></tbody></table></div>"
      ],
      "text/plain": [
       "shape: (0, 0)\n",
       "┌┐\n",
       "╞╡\n",
       "└┘"
      ]
     },
     "execution_count": 14,
     "metadata": {},
     "output_type": "execute_result"
    }
   ],
   "source": [
    "query_text = \"\"\"--sql\n",
    "    DROP TABLE db1.total_active_users_rep_mobile_total\n",
    "    \"\"\"\n",
    "\n",
    "ch.query_run(query_text)"
   ]
  },
  {
   "cell_type": "markdown",
   "id": "e0b84308",
   "metadata": {},
   "source": [
    "### refresh mv"
   ]
  },
  {
   "cell_type": "code",
   "execution_count": null,
   "id": "427d776c",
   "metadata": {},
   "outputs": [],
   "source": [
    "query_text = \"\"\"\n",
    "SYSTEM REFRESH VIEW db1.total_active_users_per_day_full_table_mv\n",
    "\"\"\"\n",
    "\n",
    "ch.query_run(query_text)"
   ]
  }
 ],
 "metadata": {
  "jupytext": {
   "formats": "ipynb,md"
  },
  "kernelspec": {
   "display_name": "Python 3 (ipykernel)",
   "language": "python",
   "name": "python3"
  },
  "language_info": {
   "codemirror_mode": {
    "name": "ipython",
    "version": 3
   },
   "file_extension": ".py",
   "mimetype": "text/x-python",
   "name": "python",
   "nbconvert_exporter": "python",
   "pygments_lexer": "ipython3",
   "version": "3.12.11"
  }
 },
 "nbformat": 4,
 "nbformat_minor": 5
}

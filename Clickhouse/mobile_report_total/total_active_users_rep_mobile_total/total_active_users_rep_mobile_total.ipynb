{
 "cells": [
  {
   "cell_type": "markdown",
   "id": "baea4ede",
   "metadata": {},
   "source": [
    "## Start"
   ]
  },
  {
   "cell_type": "code",
   "execution_count": 11,
   "id": "b463d78a",
   "metadata": {},
   "outputs": [],
   "source": [
    "import clickhouse_connect\n",
    "import datetime\n",
    "import os\n",
    "import pytz\n",
    "import pandas as pd\n",
    "from dateutil.relativedelta import relativedelta\n",
    "from dotenv import load_dotenv\n",
    "\n",
    "import sys\n",
    "sys.path.append('/home/boris/Documents/Work/analytics/Clickhouse')\n",
    "from clickhouse_client import ClickHouse_client\n",
    "ch = ClickHouse_client()\n",
    "pd.set_option('display.max_rows', 1000)"
   ]
  },
  {
   "cell_type": "markdown",
   "id": "96c3647c",
   "metadata": {},
   "source": [
    "___\n",
    "### Tags: #Mobile_Report\n",
    "\n",
    "### Links:  \n",
    "\n",
    "[[total_active_users_first_mention]]\n",
    "\n",
    "\n",
    "### Table"
   ]
  },
  {
   "cell_type": "code",
   "execution_count": 15,
   "id": "1418ddc9",
   "metadata": {},
   "outputs": [
    {
     "data": {
      "text/html": [
       "<div><style>\n",
       ".dataframe > thead > tr,\n",
       ".dataframe > tbody > tr {\n",
       "  text-align: right;\n",
       "  white-space: pre-wrap;\n",
       "}\n",
       "</style>\n",
       "<small>shape: (0, 0)</small><table border=\"1\" class=\"dataframe\"><thead><tr></tr><tr></tr></thead><tbody></tbody></table></div>"
      ],
      "text/plain": [
       "shape: (0, 0)\n",
       "┌┐\n",
       "╞╡\n",
       "└┘"
      ]
     },
     "execution_count": 15,
     "metadata": {},
     "output_type": "execute_result"
    }
   ],
   "source": [
    "query_text = \"\"\"--sql\n",
    "CREATE TABLE db1.total_active_users_rep_mobile_total\n",
    "(\n",
    "    `report_date` Date,\n",
    "    `partner_uuid` String,\n",
    "    `city` String,\n",
    "    `total_active_users` UInt32,\n",
    "    `new_active_users` UInt32,\n",
    "    `total_active_users_monetization` UInt32,\n",
    "    `total_active_user_subscribed_monetization` UInt32,\n",
    "    `total_active_users_ble_available` UInt32,\n",
    "    `total_active_users_ble_available_monetization` UInt32,\n",
    "    `total_active_users_ble_available_subscribed_monetization` UInt32\n",
    ")\n",
    "ENGINE = MergeTree()\n",
    "ORDER BY partner_uuid\n",
    "\"\"\"\n",
    "\n",
    "ch.query_run(query_text)"
   ]
  },
  {
   "cell_type": "code",
   "execution_count": 13,
   "id": "ef938fba",
   "metadata": {},
   "outputs": [
    {
     "data": {
      "text/html": [
       "<div><style>\n",
       ".dataframe > thead > tr,\n",
       ".dataframe > tbody > tr {\n",
       "  text-align: right;\n",
       "  white-space: pre-wrap;\n",
       "}\n",
       "</style>\n",
       "<small>shape: (0, 0)</small><table border=\"1\" class=\"dataframe\"><thead><tr></tr><tr></tr></thead><tbody></tbody></table></div>"
      ],
      "text/plain": [
       "shape: (0, 0)\n",
       "┌┐\n",
       "╞╡\n",
       "└┘"
      ]
     },
     "execution_count": 13,
     "metadata": {},
     "output_type": "execute_result"
    }
   ],
   "source": [
    "query_text = \"\"\"--sql\n",
    "    CREATE MATERIALIZED VIEW db1.total_active_users_rep_mobile_total_mv\n",
    "    REFRESH EVERY 1 DAY OFFSET 6 HOUR 8 MINUTE TO db1.total_active_users_rep_mobile_total AS\n",
    "    WITH dec_t AS (SELECT\n",
    "            DISTINCT\n",
    "            t1.report_date  AS report_date,\n",
    "            t2.city  AS city,\n",
    "            t2.partner_uuid  AS partner_uuid\n",
    "        FROM\n",
    "            (SELECT DISTINCT report_date FROM db1.total_active_users_first_mention) AS t1\n",
    "        CROSS JOIN\n",
    "            (SELECT DISTINCT city, partner_uuid FROM db1.total_active_users_first_mention ) AS t2\n",
    "        ),\n",
    "        --\n",
    "        dec_and_full AS (\n",
    "        SELECT\n",
    "        dec_t.report_date AS report_date,\n",
    "        dec_t.partner_uuid AS partner_uuid,\n",
    "        dec_t.city AS city,\n",
    "        total_active_users_day,\n",
    "        new_active_users_day,\n",
    "        total_active_users_monetization_day,\n",
    "        total_active_user_subscribed_monetization_day,\n",
    "        total_active_users_ble_available_day,\n",
    "        total_active_users_ble_available_monetization_day,\n",
    "        total_active_users_ble_available_subscribed_monetization_day\n",
    "        FROM dec_t\n",
    "        LEFT join (\n",
    "            SELECT\n",
    "                report_date,\n",
    "                partner_uuid,\n",
    "                city,\n",
    "                count(DISTINCT citizen_id) AS total_active_users_day,\n",
    "                count(DISTINCT if(toDateOrNull(activated_at) BETWEEN toStartOfMonth(report_date) and report_date,citizen_id,null)) AS new_active_users_day,\n",
    "                count(DISTINCT if(monetization = 1,citizen_id,null)) AS total_active_users_monetization_day,\n",
    "                count(DISTINCT if(monetization = 1 and subscriptions_state = 'activated',citizen_id,null)) as total_active_user_subscribed_monetization_day,\n",
    "                count(DISTINCT if(ble_available = 'true',citizen_id,null)) AS total_active_users_ble_available_day,\n",
    "                count(DISTINCT if(ble_available = 'true' and monetization = 1,citizen_id,null)) AS total_active_users_ble_available_monetization_day,\n",
    "                count(DISTINCT if(ble_available = 'true' and monetization = 1 and subscriptions_state = 'activated',citizen_id,null)) AS total_active_users_ble_available_subscribed_monetization_day\n",
    "            FROM db1.total_active_users_first_mention\n",
    "            GROUP BY\n",
    "                report_date,\n",
    "                partner_uuid,\n",
    "                city) AS full_table\n",
    "            ON dec_t.report_date = full_table.report_date\n",
    "            AND dec_t.partner_uuid = full_table.partner_uuid\n",
    "            AND dec_t.city = full_table.city\n",
    "        )\n",
    "        --\n",
    "        SELECT\n",
    "            report_date,\n",
    "            partner_uuid,\n",
    "            city,\n",
    "            sum(total_active_users_day) OVER (PARTITION BY toStartOfMonth(report_date),partner_uuid, city ORDER BY report_date) AS total_active_users,\n",
    "            sum(new_active_users_day) OVER (PARTITION BY toStartOfMonth(report_date),partner_uuid, city ORDER BY report_date) AS new_active_users,\n",
    "            sum(total_active_users_monetization_day) OVER (PARTITION BY toStartOfMonth(report_date),partner_uuid, city ORDER BY report_date) AS total_active_users_monetization,\n",
    "            sum(total_active_user_subscribed_monetization_day) OVER (PARTITION BY toStartOfMonth(report_date),partner_uuid, city ORDER BY report_date) AS total_active_user_subscribed_monetization,\n",
    "            sum(total_active_users_ble_available_day) OVER (PARTITION BY toStartOfMonth(report_date),partner_uuid, city ORDER BY report_date) AS total_active_users_ble_available,\n",
    "            sum(total_active_users_ble_available_monetization_day) OVER (PARTITION BY toStartOfMonth(report_date),partner_uuid, city ORDER BY report_date)\n",
    "                AS total_active_users_ble_available_monetization,\n",
    "            sum(total_active_users_ble_available_subscribed_monetization_day) OVER (PARTITION BY toStartOfMonth(report_date),partner_uuid, city ORDER BY report_date)\n",
    "                AS total_active_users_ble_available_subscribed_monetization\n",
    "        FROM dec_and_full\n",
    "    \"\"\"\n",
    "ch.query_run(query_text)"
   ]
  },
  {
   "cell_type": "markdown",
   "id": "58c418d4",
   "metadata": {},
   "source": [
    "___\n",
    "## Tools\n",
    "___\n",
    "### query\n"
   ]
  },
  {
   "cell_type": "code",
   "execution_count": 17,
   "id": "820a195b",
   "metadata": {},
   "outputs": [
    {
     "data": {
      "text/html": [
       "<div><style>\n",
       ".dataframe > thead > tr,\n",
       ".dataframe > tbody > tr {\n",
       "  text-align: right;\n",
       "  white-space: pre-wrap;\n",
       "}\n",
       "</style>\n",
       "<small>shape: (100, 2)</small><table border=\"1\" class=\"dataframe\"><thead><tr><th>report_date</th><th>sum(new_active_users)</th></tr><tr><td>date</td><td>i64</td></tr></thead><tbody><tr><td>2025-08-14</td><td>13433</td></tr><tr><td>2025-08-13</td><td>12347</td></tr><tr><td>2025-08-12</td><td>11122</td></tr><tr><td>2025-08-10</td><td>9491</td></tr><tr><td>2025-08-09</td><td>8632</td></tr><tr><td>&hellip;</td><td>&hellip;</td></tr><tr><td>2025-05-10</td><td>8412</td></tr><tr><td>2025-05-09</td><td>7707</td></tr><tr><td>2025-05-08</td><td>7007</td></tr><tr><td>2025-05-07</td><td>6201</td></tr><tr><td>2025-05-06</td><td>5325</td></tr></tbody></table></div>"
      ],
      "text/plain": [
       "shape: (100, 2)\n",
       "┌─────────────┬───────────────────────┐\n",
       "│ report_date ┆ sum(new_active_users) │\n",
       "│ ---         ┆ ---                   │\n",
       "│ date        ┆ i64                   │\n",
       "╞═════════════╪═══════════════════════╡\n",
       "│ 2025-08-14  ┆ 13433                 │\n",
       "│ 2025-08-13  ┆ 12347                 │\n",
       "│ 2025-08-12  ┆ 11122                 │\n",
       "│ 2025-08-10  ┆ 9491                  │\n",
       "│ 2025-08-09  ┆ 8632                  │\n",
       "│ …           ┆ …                     │\n",
       "│ 2025-05-10  ┆ 8412                  │\n",
       "│ 2025-05-09  ┆ 7707                  │\n",
       "│ 2025-05-08  ┆ 7007                  │\n",
       "│ 2025-05-07  ┆ 6201                  │\n",
       "│ 2025-05-06  ┆ 5325                  │\n",
       "└─────────────┴───────────────────────┘"
      ]
     },
     "execution_count": 17,
     "metadata": {},
     "output_type": "execute_result"
    }
   ],
   "source": [
    "query_text = \"\"\"--sql\n",
    "    SELECT\n",
    "        report_date,\n",
    "        sum(new_active_users)\n",
    "    FROM db1.total_active_users_rep_mobile_total\n",
    "    GROUP BY report_date\n",
    "    ORDER BY report_date DESC\n",
    "    limit 100\n",
    "    \"\"\"\n",
    "\n",
    "ch.query_run(query_text)"
   ]
  },
  {
   "cell_type": "markdown",
   "id": "4b314552",
   "metadata": {},
   "source": [
    "### delete a part\n"
   ]
  },
  {
   "cell_type": "code",
   "execution_count": null,
   "id": "88aaf5c0",
   "metadata": {},
   "outputs": [],
   "source": [
    "query_text = \"\"\"--sql\n",
    "    ALTER TABLE db1.total_active_users_per_day_full_table DELETE WHERE report_date = '2025-07-17'\n",
    "    \"\"\"\n",
    "\n",
    "ch.query_run(query_text)"
   ]
  },
  {
   "cell_type": "markdown",
   "id": "ca2df4ea",
   "metadata": {},
   "source": [
    "### drop mv"
   ]
  },
  {
   "cell_type": "code",
   "execution_count": 12,
   "id": "f8302057",
   "metadata": {},
   "outputs": [
    {
     "ename": "DatabaseError",
     "evalue": "HTTPDriver for https://rc1a-eflrt968scbm232q.mdb.yandexcloud.net:8443 received ClickHouse error code 60\n Code: 60. DB::Exception: Table db1.total_active_users_rep_mobile_total_mv does not exist. Maybe you meant db1.total_active_users_rep_mobile_total_mv?. (UNKNOWN_TABLE) (version 25.3.3.42 (official build))\n",
     "output_type": "error",
     "traceback": [
      "\u001b[31m---------------------------------------------------------------------------\u001b[39m",
      "\u001b[31mDatabaseError\u001b[39m                             Traceback (most recent call last)",
      "\u001b[36mCell\u001b[39m\u001b[36m \u001b[39m\u001b[32mIn[12]\u001b[39m\u001b[32m, line 5\u001b[39m\n\u001b[32m      1\u001b[39m query_text = \u001b[33m\"\"\"\u001b[39m\u001b[33m--sql\u001b[39m\n\u001b[32m      2\u001b[39m \u001b[33m    DROP TABLE db1.total_active_users_rep_mobile_total_mv\u001b[39m\n\u001b[32m      3\u001b[39m \u001b[33m    \u001b[39m\u001b[33m\"\"\"\u001b[39m\n\u001b[32m----> \u001b[39m\u001b[32m5\u001b[39m \u001b[43mch\u001b[49m\u001b[43m.\u001b[49m\u001b[43mquery_run\u001b[49m\u001b[43m(\u001b[49m\u001b[43mquery_text\u001b[49m\u001b[43m)\u001b[49m\n",
      "\u001b[36mFile \u001b[39m\u001b[32m~/Documents/Work/analytics/Clickhouse/clickhouse_client.py:29\u001b[39m, in \u001b[36mClickHouse_client.query_run\u001b[39m\u001b[34m(self, query_text)\u001b[39m\n\u001b[32m     27\u001b[39m \u001b[38;5;28;01mdef\u001b[39;00m\u001b[38;5;250m \u001b[39m\u001b[34mquery_run\u001b[39m (\u001b[38;5;28mself\u001b[39m, query_text):\n\u001b[32m     28\u001b[39m     query_text = query_text\n\u001b[32m---> \u001b[39m\u001b[32m29\u001b[39m     result = \u001b[38;5;28;43mself\u001b[39;49m\u001b[43m.\u001b[49m\u001b[43mclient\u001b[49m\u001b[43m.\u001b[49m\u001b[43mquery\u001b[49m\u001b[43m(\u001b[49m\u001b[43mquery_text\u001b[49m\u001b[43m)\u001b[49m\n\u001b[32m     30\u001b[39m     \u001b[38;5;28mself\u001b[39m.df = pd.DataFrame(result.result_rows, columns=result.column_names)\n\u001b[32m     31\u001b[39m     \u001b[38;5;66;03m# self.df = pl.DataFrame(result.result_rows, schema=result.column_names)\u001b[39;00m\n",
      "\u001b[36mFile \u001b[39m\u001b[32m~/myenv/lib/python3.12/site-packages/clickhouse_connect/driver/client.py:237\u001b[39m, in \u001b[36mClient.query\u001b[39m\u001b[34m(self, query, parameters, settings, query_formats, column_formats, encoding, use_none, column_oriented, use_numpy, max_str_len, context, query_tz, column_tzs, external_data, transport_settings)\u001b[39m\n\u001b[32m    235\u001b[39m         \u001b[38;5;28;01mreturn\u001b[39;00m response.as_query_result()\n\u001b[32m    236\u001b[39m     \u001b[38;5;28;01mreturn\u001b[39;00m QueryResult([response] \u001b[38;5;28;01mif\u001b[39;00m \u001b[38;5;28misinstance\u001b[39m(response, \u001b[38;5;28mlist\u001b[39m) \u001b[38;5;28;01melse\u001b[39;00m [[response]])\n\u001b[32m--> \u001b[39m\u001b[32m237\u001b[39m \u001b[38;5;28;01mreturn\u001b[39;00m \u001b[38;5;28;43mself\u001b[39;49m\u001b[43m.\u001b[49m\u001b[43m_query_with_context\u001b[49m\u001b[43m(\u001b[49m\u001b[43mquery_context\u001b[49m\u001b[43m)\u001b[49m\n",
      "\u001b[36mFile \u001b[39m\u001b[32m~/myenv/lib/python3.12/site-packages/clickhouse_connect/driver/httpclient.py:243\u001b[39m, in \u001b[36mHttpClient._query_with_context\u001b[39m\u001b[34m(self, context)\u001b[39m\n\u001b[32m    241\u001b[39m     fields = \u001b[38;5;28;01mNone\u001b[39;00m\n\u001b[32m    242\u001b[39m     headers[\u001b[33m'\u001b[39m\u001b[33mContent-Type\u001b[39m\u001b[33m'\u001b[39m] = \u001b[33m'\u001b[39m\u001b[33mtext/plain; charset=utf-8\u001b[39m\u001b[33m'\u001b[39m\n\u001b[32m--> \u001b[39m\u001b[32m243\u001b[39m response = \u001b[38;5;28;43mself\u001b[39;49m\u001b[43m.\u001b[49m\u001b[43m_raw_request\u001b[49m\u001b[43m(\u001b[49m\u001b[43mbody\u001b[49m\u001b[43m,\u001b[49m\n\u001b[32m    244\u001b[39m \u001b[43m                             \u001b[49m\u001b[43mparams\u001b[49m\u001b[43m,\u001b[49m\n\u001b[32m    245\u001b[39m \u001b[43m                             \u001b[49m\u001b[43mdict_copy\u001b[49m\u001b[43m(\u001b[49m\u001b[43mheaders\u001b[49m\u001b[43m,\u001b[49m\u001b[43m \u001b[49m\u001b[43mcontext\u001b[49m\u001b[43m.\u001b[49m\u001b[43mtransport_settings\u001b[49m\u001b[43m)\u001b[49m\u001b[43m,\u001b[49m\n\u001b[32m    246\u001b[39m \u001b[43m                             \u001b[49m\u001b[43mstream\u001b[49m\u001b[43m=\u001b[49m\u001b[38;5;28;43;01mTrue\u001b[39;49;00m\u001b[43m,\u001b[49m\n\u001b[32m    247\u001b[39m \u001b[43m                             \u001b[49m\u001b[43mretries\u001b[49m\u001b[43m=\u001b[49m\u001b[38;5;28;43mself\u001b[39;49m\u001b[43m.\u001b[49m\u001b[43mquery_retries\u001b[49m\u001b[43m,\u001b[49m\n\u001b[32m    248\u001b[39m \u001b[43m                             \u001b[49m\u001b[43mfields\u001b[49m\u001b[43m=\u001b[49m\u001b[43mfields\u001b[49m\u001b[43m,\u001b[49m\n\u001b[32m    249\u001b[39m \u001b[43m                             \u001b[49m\u001b[43mserver_wait\u001b[49m\u001b[43m=\u001b[49m\u001b[38;5;129;43;01mnot\u001b[39;49;00m\u001b[43m \u001b[49m\u001b[43mcontext\u001b[49m\u001b[43m.\u001b[49m\u001b[43mstreaming\u001b[49m\u001b[43m)\u001b[49m\n\u001b[32m    250\u001b[39m byte_source = RespBuffCls(ResponseSource(response))  \u001b[38;5;66;03m# pylint: disable=not-callable\u001b[39;00m\n\u001b[32m    251\u001b[39m context.set_response_tz(\u001b[38;5;28mself\u001b[39m._check_tz_change(response.headers.get(\u001b[33m'\u001b[39m\u001b[33mX-ClickHouse-Timezone\u001b[39m\u001b[33m'\u001b[39m)))\n",
      "\u001b[36mFile \u001b[39m\u001b[32m~/myenv/lib/python3.12/site-packages/clickhouse_connect/driver/httpclient.py:481\u001b[39m, in \u001b[36mHttpClient._raw_request\u001b[39m\u001b[34m(self, data, params, headers, method, retries, stream, server_wait, fields, error_handler)\u001b[39m\n\u001b[32m    479\u001b[39m     error_handler(response)\n\u001b[32m    480\u001b[39m \u001b[38;5;28;01melse\u001b[39;00m:\n\u001b[32m--> \u001b[39m\u001b[32m481\u001b[39m     \u001b[38;5;28;43mself\u001b[39;49m\u001b[43m.\u001b[49m\u001b[43m_error_handler\u001b[49m\u001b[43m(\u001b[49m\u001b[43mresponse\u001b[49m\u001b[43m)\u001b[49m\n",
      "\u001b[36mFile \u001b[39m\u001b[32m~/myenv/lib/python3.12/site-packages/clickhouse_connect/driver/httpclient.py:402\u001b[39m, in \u001b[36mHttpClient._error_handler\u001b[39m\u001b[34m(self, response, retried)\u001b[39m\n\u001b[32m    399\u001b[39m \u001b[38;5;28;01melse\u001b[39;00m:\n\u001b[32m    400\u001b[39m     err_str = \u001b[33m'\u001b[39m\u001b[33mThe ClickHouse server returned an error.\u001b[39m\u001b[33m'\u001b[39m\n\u001b[32m--> \u001b[39m\u001b[32m402\u001b[39m \u001b[38;5;28;01mraise\u001b[39;00m OperationalError(err_str) \u001b[38;5;28;01mif\u001b[39;00m retried \u001b[38;5;28;01melse\u001b[39;00m DatabaseError(err_str) \u001b[38;5;28;01mfrom\u001b[39;00m\u001b[38;5;250m \u001b[39m\u001b[38;5;28;01mNone\u001b[39;00m\n",
      "\u001b[31mDatabaseError\u001b[39m: HTTPDriver for https://rc1a-eflrt968scbm232q.mdb.yandexcloud.net:8443 received ClickHouse error code 60\n Code: 60. DB::Exception: Table db1.total_active_users_rep_mobile_total_mv does not exist. Maybe you meant db1.total_active_users_rep_mobile_total_mv?. (UNKNOWN_TABLE) (version 25.3.3.42 (official build))\n"
     ]
    }
   ],
   "source": [
    "query_text = \"\"\"--sql\n",
    "    DROP TABLE db1.total_active_users_rep_mobile_total_mv\n",
    "    \"\"\"\n",
    "\n",
    "ch.query_run(query_text)"
   ]
  },
  {
   "cell_type": "markdown",
   "id": "29e55cb0",
   "metadata": {},
   "source": [
    "### drop ch"
   ]
  },
  {
   "cell_type": "code",
   "execution_count": 14,
   "id": "efcb51e1",
   "metadata": {},
   "outputs": [
    {
     "data": {
      "text/html": [
       "<div><style>\n",
       ".dataframe > thead > tr,\n",
       ".dataframe > tbody > tr {\n",
       "  text-align: right;\n",
       "  white-space: pre-wrap;\n",
       "}\n",
       "</style>\n",
       "<small>shape: (0, 0)</small><table border=\"1\" class=\"dataframe\"><thead><tr></tr><tr></tr></thead><tbody></tbody></table></div>"
      ],
      "text/plain": [
       "shape: (0, 0)\n",
       "┌┐\n",
       "╞╡\n",
       "└┘"
      ]
     },
     "execution_count": 14,
     "metadata": {},
     "output_type": "execute_result"
    }
   ],
   "source": [
    "query_text = \"\"\"--sql\n",
    "    DROP TABLE db1.total_active_users_rep_mobile_total\n",
    "    \"\"\"\n",
    "\n",
    "ch.query_run(query_text)"
   ]
  },
  {
   "cell_type": "markdown",
   "id": "e0b84308",
   "metadata": {},
   "source": [
    "### refresh mv"
   ]
  },
  {
   "cell_type": "code",
   "execution_count": null,
   "id": "427d776c",
   "metadata": {},
   "outputs": [],
   "source": [
    "query_text = \"\"\"\n",
    "SYSTEM REFRESH VIEW db1.total_active_users_per_day_full_table_mv\n",
    "\"\"\"\n",
    "\n",
    "ch.query_run(query_text)"
   ]
  }
 ],
 "metadata": {
  "jupytext": {
   "formats": "ipynb,md"
  },
  "kernelspec": {
   "display_name": "Python (myenv)",
   "language": "python",
   "name": "myenv"
  },
  "language_info": {
   "codemirror_mode": {
    "name": "ipython",
    "version": 3
   },
   "file_extension": ".py",
   "mimetype": "text/x-python",
   "name": "python",
   "nbconvert_exporter": "python",
   "pygments_lexer": "ipython3",
   "version": "3.12.11"
  }
 },
 "nbformat": 4,
 "nbformat_minor": 5
}

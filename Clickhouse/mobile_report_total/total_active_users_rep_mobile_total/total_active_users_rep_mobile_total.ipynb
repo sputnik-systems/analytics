{
 "cells": [
  {
   "cell_type": "markdown",
   "id": "baea4ede",
   "metadata": {},
   "source": [
    "## Start"
   ]
  },
  {
   "cell_type": "code",
   "execution_count": 2,
   "id": "b463d78a",
   "metadata": {},
   "outputs": [],
   "source": [
    "import clickhouse_connect\n",
    "import datetime\n",
    "import os\n",
    "import pytz\n",
    "import pandas as pd\n",
    "from dateutil.relativedelta import relativedelta\n",
    "from dotenv import load_dotenv\n",
    "\n",
    "import sys\n",
    "sys.path.append('/home/boris/Documents/Work/analytics/Clickhouse')\n",
    "from clickhouse_client import ClickHouse_client\n",
    "ch = ClickHouse_client()\n",
    "pd.set_option('display.max_rows', 1000)"
   ]
  },
  {
   "cell_type": "markdown",
   "id": "96c3647c",
   "metadata": {},
   "source": [
    "___\n",
    "### Tags: #Mobile_Report\n",
    "\n",
    "### Links:  \n",
    "\n",
    "[[total_active_users_per_day_full_table]]\n",
    "\n",
    "[[entries_st_mobile]]\n",
    "\n",
    "[[citizens_dir_mobile]]\n",
    "\n",
    "\n",
    "### Table"
   ]
  },
  {
   "cell_type": "code",
   "execution_count": 14,
   "id": "1418ddc9",
   "metadata": {},
   "outputs": [
    {
     "data": {
      "text/html": [
       "<div><style>\n",
       ".dataframe > thead > tr,\n",
       ".dataframe > tbody > tr {\n",
       "  text-align: right;\n",
       "  white-space: pre-wrap;\n",
       "}\n",
       "</style>\n",
       "<small>shape: (0, 0)</small><table border=\"1\" class=\"dataframe\"><thead><tr></tr><tr></tr></thead><tbody></tbody></table></div>"
      ],
      "text/plain": [
       "shape: (0, 0)\n",
       "┌┐\n",
       "╞╡\n",
       "└┘"
      ]
     },
     "execution_count": 14,
     "metadata": {},
     "output_type": "execute_result"
    }
   ],
   "source": [
    "query_text = \"\"\"--sql\n",
    "CREATE TABLE db1.total_active_users_rep_mobile_total\n",
    "(\n",
    "    `report_date` Date,\n",
    "    `partner_uuid` String,\n",
    "    `city` String,\n",
    "    `total_active_users` UInt32,\n",
    "    `new_active_users` UInt32,\n",
    "    `total_active_users_monetization` UInt32,\n",
    "    `total_active_user_subscribed_monetization` UInt32,\n",
    "    `total_active_users_ble_available` UInt32,\n",
    "    `total_active_users_ble_available_monetization` UInt32,\n",
    "    `total_active_users_ble_available_subscribed_monetization` UInt32\n",
    ")\n",
    "ENGINE = MergeTree()\n",
    "ORDER BY partner_uuid\n",
    "\"\"\"\n",
    "\n",
    "ch.query_run(query_text)"
   ]
  },
  {
   "cell_type": "code",
   "execution_count": 15,
   "id": "ef938fba",
   "metadata": {},
   "outputs": [
    {
     "data": {
      "text/html": [
       "<div><style>\n",
       ".dataframe > thead > tr,\n",
       ".dataframe > tbody > tr {\n",
       "  text-align: right;\n",
       "  white-space: pre-wrap;\n",
       "}\n",
       "</style>\n",
       "<small>shape: (0, 0)</small><table border=\"1\" class=\"dataframe\"><thead><tr></tr><tr></tr></thead><tbody></tbody></table></div>"
      ],
      "text/plain": [
       "shape: (0, 0)\n",
       "┌┐\n",
       "╞╡\n",
       "└┘"
      ]
     },
     "execution_count": 15,
     "metadata": {},
     "output_type": "execute_result"
    }
   ],
   "source": [
    "query_text = \"\"\"--sql\n",
    "    CREATE MATERIALIZED VIEW db1.total_active_users_rep_mobile_total_mv\n",
    "    REFRESH EVERY 1 DAY OFFSET 6 HOUR 8 MINUTE TO db1.total_active_users_rep_mobile_total AS\n",
    "    WITH full_table AS(\n",
    "    SELECT\n",
    "        total_act.report_date AS report_date,\n",
    "        total_act.partner_uuid AS partner_uuid,\n",
    "        total_act.citizen_id AS citizen_id,\n",
    "        total_act.monetization AS monetization,\n",
    "        total_act.subscriptions_state AS subscriptions_state,\n",
    "        entr_st_m.ble_available AS ble_available,\n",
    "        cit_dir_m.activated_at AS activated_at,\n",
    "        total_act.city AS city\n",
    "    FROM db1.total_active_users_per_day_full_table AS total_act\n",
    "    LEFT ANY JOIN db1.`entries_st_mobile_ch` AS entr_st_m\n",
    "        ON `entr_st_m`.`report_date` = total_act.`report_date` \n",
    "        AND`entr_st_m`.`address_uuid` = total_act.`address_uuid`\n",
    "    LEFT JOIN db1.`citizens_dir_mobile_ch` AS cit_dir_m\n",
    "                ON `cit_dir_m`.`citizen_id` = total_act.`citizen_id` \n",
    "    )\n",
    "    SELECT\n",
    "        report_date,\n",
    "        partner_uuid,\n",
    "        city,\n",
    "        count(DISTINCT citizen_id) AS total_active_users,\n",
    "        count(DISTINCT if(toDateOrNull(activated_at) BETWEEN toStartOfMonth(report_date) and report_date,citizen_id,null)) new_active_users,\n",
    "        count(DISTINCT if(monetization = 1,citizen_id,null)) as total_active_users_monetization,\n",
    "        count(DISTINCT if(monetization = 1 and subscriptions_state = 'activated',citizen_id,null)) as total_active_user_subscribed_monetization,\n",
    "        count(DISTINCT if(ble_available = 'true',citizen_id,null)) AS total_active_users_ble_available,\n",
    "        count(DISTINCT if(ble_available = 'true' and monetization = 1,citizen_id,null)) AS total_active_users_ble_available_monetization,\n",
    "        count(DISTINCT if(ble_available = 'true' and monetization = 1 and subscriptions_state = 'activated',citizen_id,null)) AS total_active_users_ble_available_subscribed_monetization\n",
    "    FROM full_table\n",
    "    GROUP BY\n",
    "        report_date,\n",
    "        partner_uuid,\n",
    "        city\n",
    "    \"\"\"\n",
    "ch.query_run(query_text)"
   ]
  },
  {
   "cell_type": "markdown",
   "id": "58c418d4",
   "metadata": {},
   "source": [
    "___\n",
    "## Tools\n",
    "___\n",
    "### query\n"
   ]
  },
  {
   "cell_type": "code",
   "execution_count": 18,
   "id": "820a195b",
   "metadata": {},
   "outputs": [
    {
     "data": {
      "text/html": [
       "<div><style>\n",
       ".dataframe > thead > tr,\n",
       ".dataframe > tbody > tr {\n",
       "  text-align: right;\n",
       "  white-space: pre-wrap;\n",
       "}\n",
       "</style>\n",
       "<small>shape: (100, 10)</small><table border=\"1\" class=\"dataframe\"><thead><tr><th>report_date</th><th>partner_uuid</th><th>city</th><th>total_active_users</th><th>new_active_users</th><th>total_active_users_monetization</th><th>total_active_user_subscribed_monetization</th><th>total_active_users_ble_available</th><th>total_active_users_ble_available_monetization</th><th>total_active_users_ble_available_subscribed_monetization</th></tr><tr><td>date</td><td>str</td><td>str</td><td>i64</td><td>i64</td><td>i64</td><td>i64</td><td>i64</td><td>i64</td><td>i64</td></tr></thead><tbody><tr><td>2025-08-04</td><td>&quot;&quot;</td><td>&quot;Улан-Удэ&quot;</td><td>2</td><td>0</td><td>2</td><td>0</td><td>0</td><td>0</td><td>0</td></tr><tr><td>2025-08-04</td><td>&quot;&quot;</td><td>&quot;Севастополь&quot;</td><td>3</td><td>0</td><td>3</td><td>0</td><td>0</td><td>0</td><td>0</td></tr><tr><td>2025-08-04</td><td>&quot;&quot;</td><td>&quot;Иваново&quot;</td><td>26</td><td>0</td><td>26</td><td>5</td><td>0</td><td>0</td><td>0</td></tr><tr><td>2025-08-04</td><td>&quot;&quot;</td><td>&quot;Казань&quot;</td><td>1</td><td>0</td><td>0</td><td>0</td><td>0</td><td>0</td><td>0</td></tr><tr><td>2025-08-04</td><td>&quot;&quot;</td><td>&quot;Бердск&quot;</td><td>2</td><td>0</td><td>2</td><td>0</td><td>0</td><td>0</td><td>0</td></tr><tr><td>&hellip;</td><td>&hellip;</td><td>&hellip;</td><td>&hellip;</td><td>&hellip;</td><td>&hellip;</td><td>&hellip;</td><td>&hellip;</td><td>&hellip;</td><td>&hellip;</td></tr><tr><td>2025-08-04</td><td>&quot;0e7236ac-b8bd-4ab0-8634-d165ad…</td><td>&quot;Саранск&quot;</td><td>191</td><td>1</td><td>0</td><td>0</td><td>133</td><td>0</td><td>0</td></tr><tr><td>2025-08-04</td><td>&quot;0e7236ac-b8bd-4ab0-8634-d165ad…</td><td>&quot;дачный посёлок Лесной Городок&quot;</td><td>24</td><td>0</td><td>24</td><td>4</td><td>24</td><td>24</td><td>4</td></tr><tr><td>2025-08-04</td><td>&quot;0e7236ac-b8bd-4ab0-8634-d165ad…</td><td>&quot;посёлок Горки-10&quot;</td><td>225</td><td>2</td><td>21</td><td>2</td><td>225</td><td>21</td><td>2</td></tr><tr><td>2025-08-04</td><td>&quot;0e7236ac-b8bd-4ab0-8634-d165ad…</td><td>&quot;посёлок Металлплощадка&quot;</td><td>43</td><td>0</td><td>43</td><td>8</td><td>37</td><td>37</td><td>7</td></tr><tr><td>2025-08-04</td><td>&quot;16b9c1a2-4240-4887-a393-deb245…</td><td>&quot;Краснодар&quot;</td><td>163</td><td>2</td><td>0</td><td>0</td><td>163</td><td>0</td><td>0</td></tr></tbody></table></div>"
      ],
      "text/plain": [
       "shape: (100, 10)\n",
       "┌───────────┬───────────┬───────────┬───────────┬───┬───────────┬───────────┬───────────┬──────────┐\n",
       "│ report_da ┆ partner_u ┆ city      ┆ total_act ┆ … ┆ total_act ┆ total_act ┆ total_act ┆ total_ac │\n",
       "│ te        ┆ uid       ┆ ---       ┆ ive_users ┆   ┆ ive_user_ ┆ ive_users ┆ ive_users ┆ tive_use │\n",
       "│ ---       ┆ ---       ┆ str       ┆ ---       ┆   ┆ subscribe ┆ _ble_avai ┆ _ble_avai ┆ rs_ble_a │\n",
       "│ date      ┆ str       ┆           ┆ i64       ┆   ┆ d_m…      ┆ lab…      ┆ lab…      ┆ vailab…  │\n",
       "│           ┆           ┆           ┆           ┆   ┆ ---       ┆ ---       ┆ ---       ┆ ---      │\n",
       "│           ┆           ┆           ┆           ┆   ┆ i64       ┆ i64       ┆ i64       ┆ i64      │\n",
       "╞═══════════╪═══════════╪═══════════╪═══════════╪═══╪═══════════╪═══════════╪═══════════╪══════════╡\n",
       "│ 2025-08-0 ┆           ┆ Улан-Удэ  ┆ 2         ┆ … ┆ 0         ┆ 0         ┆ 0         ┆ 0        │\n",
       "│ 4         ┆           ┆           ┆           ┆   ┆           ┆           ┆           ┆          │\n",
       "│ 2025-08-0 ┆           ┆ Севастопо ┆ 3         ┆ … ┆ 0         ┆ 0         ┆ 0         ┆ 0        │\n",
       "│ 4         ┆           ┆ ль        ┆           ┆   ┆           ┆           ┆           ┆          │\n",
       "│ 2025-08-0 ┆           ┆ Иваново   ┆ 26        ┆ … ┆ 5         ┆ 0         ┆ 0         ┆ 0        │\n",
       "│ 4         ┆           ┆           ┆           ┆   ┆           ┆           ┆           ┆          │\n",
       "│ 2025-08-0 ┆           ┆ Казань    ┆ 1         ┆ … ┆ 0         ┆ 0         ┆ 0         ┆ 0        │\n",
       "│ 4         ┆           ┆           ┆           ┆   ┆           ┆           ┆           ┆          │\n",
       "│ 2025-08-0 ┆           ┆ Бердск    ┆ 2         ┆ … ┆ 0         ┆ 0         ┆ 0         ┆ 0        │\n",
       "│ 4         ┆           ┆           ┆           ┆   ┆           ┆           ┆           ┆          │\n",
       "│ …         ┆ …         ┆ …         ┆ …         ┆ … ┆ …         ┆ …         ┆ …         ┆ …        │\n",
       "│ 2025-08-0 ┆ 0e7236ac- ┆ Саранск   ┆ 191       ┆ … ┆ 0         ┆ 133       ┆ 0         ┆ 0        │\n",
       "│ 4         ┆ b8bd-4ab0 ┆           ┆           ┆   ┆           ┆           ┆           ┆          │\n",
       "│           ┆ -8634-d16 ┆           ┆           ┆   ┆           ┆           ┆           ┆          │\n",
       "│           ┆ 5ad…      ┆           ┆           ┆   ┆           ┆           ┆           ┆          │\n",
       "│ 2025-08-0 ┆ 0e7236ac- ┆ дачный    ┆ 24        ┆ … ┆ 4         ┆ 24        ┆ 24        ┆ 4        │\n",
       "│ 4         ┆ b8bd-4ab0 ┆ посёлок   ┆           ┆   ┆           ┆           ┆           ┆          │\n",
       "│           ┆ -8634-d16 ┆ Лесной    ┆           ┆   ┆           ┆           ┆           ┆          │\n",
       "│           ┆ 5ad…      ┆ Городок   ┆           ┆   ┆           ┆           ┆           ┆          │\n",
       "│ 2025-08-0 ┆ 0e7236ac- ┆ посёлок   ┆ 225       ┆ … ┆ 2         ┆ 225       ┆ 21        ┆ 2        │\n",
       "│ 4         ┆ b8bd-4ab0 ┆ Горки-10  ┆           ┆   ┆           ┆           ┆           ┆          │\n",
       "│           ┆ -8634-d16 ┆           ┆           ┆   ┆           ┆           ┆           ┆          │\n",
       "│           ┆ 5ad…      ┆           ┆           ┆   ┆           ┆           ┆           ┆          │\n",
       "│ 2025-08-0 ┆ 0e7236ac- ┆ посёлок   ┆ 43        ┆ … ┆ 8         ┆ 37        ┆ 37        ┆ 7        │\n",
       "│ 4         ┆ b8bd-4ab0 ┆ Металлпло ┆           ┆   ┆           ┆           ┆           ┆          │\n",
       "│           ┆ -8634-d16 ┆ щадка     ┆           ┆   ┆           ┆           ┆           ┆          │\n",
       "│           ┆ 5ad…      ┆           ┆           ┆   ┆           ┆           ┆           ┆          │\n",
       "│ 2025-08-0 ┆ 16b9c1a2- ┆ Краснодар ┆ 163       ┆ … ┆ 0         ┆ 163       ┆ 0         ┆ 0        │\n",
       "│ 4         ┆ 4240-4887 ┆           ┆           ┆   ┆           ┆           ┆           ┆          │\n",
       "│           ┆ -a393-deb ┆           ┆           ┆   ┆           ┆           ┆           ┆          │\n",
       "│           ┆ 245…      ┆           ┆           ┆   ┆           ┆           ┆           ┆          │\n",
       "└───────────┴───────────┴───────────┴───────────┴───┴───────────┴───────────┴───────────┴──────────┘"
      ]
     },
     "execution_count": 18,
     "metadata": {},
     "output_type": "execute_result"
    }
   ],
   "source": [
    "query_text = \"\"\"--sql\n",
    "    SELECT\n",
    "        *\n",
    "    FROM db1.total_active_users_rep_mobile_total\n",
    "    ORDER BY report_date DESC\n",
    "    limit 100\n",
    "    \"\"\"\n",
    "\n",
    "ch.query_run(query_text)"
   ]
  },
  {
   "cell_type": "markdown",
   "id": "4b314552",
   "metadata": {},
   "source": [
    "### delete a part\n"
   ]
  },
  {
   "cell_type": "code",
   "execution_count": null,
   "id": "88aaf5c0",
   "metadata": {},
   "outputs": [],
   "source": [
    "query_text = \"\"\"--sql\n",
    "    ALTER TABLE db1.total_active_users_per_day_full_table DELETE WHERE report_date = '2025-07-17'\n",
    "    \"\"\"\n",
    "\n",
    "ch.query_run(query_text)"
   ]
  },
  {
   "cell_type": "markdown",
   "id": "ca2df4ea",
   "metadata": {},
   "source": [
    "### drop mv"
   ]
  },
  {
   "cell_type": "code",
   "execution_count": 12,
   "id": "f8302057",
   "metadata": {},
   "outputs": [
    {
     "data": {
      "text/html": [
       "<div><style>\n",
       ".dataframe > thead > tr,\n",
       ".dataframe > tbody > tr {\n",
       "  text-align: right;\n",
       "  white-space: pre-wrap;\n",
       "}\n",
       "</style>\n",
       "<small>shape: (0, 0)</small><table border=\"1\" class=\"dataframe\"><thead><tr></tr><tr></tr></thead><tbody></tbody></table></div>"
      ],
      "text/plain": [
       "shape: (0, 0)\n",
       "┌┐\n",
       "╞╡\n",
       "└┘"
      ]
     },
     "execution_count": 12,
     "metadata": {},
     "output_type": "execute_result"
    }
   ],
   "source": [
    "query_text = \"\"\"--sql\n",
    "    DROP TABLE db1.total_active_users_rep_mobile_total_mv\n",
    "    \"\"\"\n",
    "\n",
    "ch.query_run(query_text)"
   ]
  },
  {
   "cell_type": "markdown",
   "id": "29e55cb0",
   "metadata": {},
   "source": [
    "### drop ch"
   ]
  },
  {
   "cell_type": "code",
   "execution_count": 13,
   "id": "efcb51e1",
   "metadata": {},
   "outputs": [
    {
     "data": {
      "text/html": [
       "<div><style>\n",
       ".dataframe > thead > tr,\n",
       ".dataframe > tbody > tr {\n",
       "  text-align: right;\n",
       "  white-space: pre-wrap;\n",
       "}\n",
       "</style>\n",
       "<small>shape: (0, 0)</small><table border=\"1\" class=\"dataframe\"><thead><tr></tr><tr></tr></thead><tbody></tbody></table></div>"
      ],
      "text/plain": [
       "shape: (0, 0)\n",
       "┌┐\n",
       "╞╡\n",
       "└┘"
      ]
     },
     "execution_count": 13,
     "metadata": {},
     "output_type": "execute_result"
    }
   ],
   "source": [
    "query_text = \"\"\"--sql\n",
    "    DROP TABLE db1.total_active_users_rep_mobile_total\n",
    "    \"\"\"\n",
    "\n",
    "ch.query_run(query_text)"
   ]
  },
  {
   "cell_type": "markdown",
   "id": "e0b84308",
   "metadata": {},
   "source": [
    "### refresh mv"
   ]
  },
  {
   "cell_type": "code",
   "execution_count": null,
   "id": "427d776c",
   "metadata": {},
   "outputs": [],
   "source": [
    "query_text = \"\"\"\n",
    "SYSTEM REFRESH VIEW db1.total_active_users_per_day_full_table_mv\n",
    "\"\"\"\n",
    "\n",
    "ch.query_run(query_text)"
   ]
  }
 ],
 "metadata": {
  "jupytext": {
   "formats": "ipynb,md"
  },
  "kernelspec": {
   "display_name": "myenv",
   "language": "python",
   "name": "python3"
  },
  "language_info": {
   "codemirror_mode": {
    "name": "ipython",
    "version": 3
   },
   "file_extension": ".py",
   "mimetype": "text/x-python",
   "name": "python",
   "nbconvert_exporter": "python",
   "pygments_lexer": "ipython3",
   "version": "3.12.11"
  }
 },
 "nbformat": 4,
 "nbformat_minor": 5
}

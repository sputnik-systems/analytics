{
 "cells": [
  {
   "cell_type": "markdown",
   "id": "e1ee7622",
   "metadata": {},
   "source": [
    "## Start"
   ]
  },
  {
   "cell_type": "code",
   "execution_count": 2,
   "id": "b2656602",
   "metadata": {},
   "outputs": [],
   "source": [
    "import clickhouse_connect\n",
    "import datetime\n",
    "import os\n",
    "import pytz\n",
    "import pandas as pd\n",
    "from dateutil.relativedelta import relativedelta\n",
    "from dotenv import load_dotenv\n",
    "\n",
    "import sys\n",
    "sys.path.append('/home/boris/Documents/Work/analytics/Clickhouse')\n",
    "from clickhouse_client import ClickHouse_client\n",
    "ch = ClickHouse_client()\n",
    "pd.set_option('display.max_rows', 1000)"
   ]
  },
  {
   "cell_type": "markdown",
   "id": "f6a69d4e",
   "metadata": {},
   "source": [
    "___\n",
    "### Tags: #Mobile_Report\n",
    "\n",
    "### Links:  \n",
    "\n",
    "[[rep_mobile_citizens_id_city_partner]]\n",
    "\n",
    "[[subscriptions_st_mobile]]\n",
    "\n",
    "[[companies_st_partner]]\n",
    "\n",
    "### Table"
   ]
  },
  {
   "cell_type": "code",
   "execution_count": 6,
   "id": "53ae7e4a",
   "metadata": {},
   "outputs": [
    {
     "data": {
      "text/html": [
       "<div><style>\n",
       ".dataframe > thead > tr,\n",
       ".dataframe > tbody > tr {\n",
       "  text-align: right;\n",
       "  white-space: pre-wrap;\n",
       "}\n",
       "</style>\n",
       "<small>shape: (0, 0)</small><table border=\"1\" class=\"dataframe\"><thead><tr></tr><tr></tr></thead><tbody></tbody></table></div>"
      ],
      "text/plain": [
       "shape: (0, 0)\n",
       "┌┐\n",
       "╞╡\n",
       "└┘"
      ]
     },
     "execution_count": 6,
     "metadata": {},
     "output_type": "execute_result"
    }
   ],
   "source": [
    "query_text = \"\"\"--sql\n",
    "CREATE TABLE db1.subscriptions_report_citizens_flats_comerce_rep_mobile_total\n",
    "(\n",
    "    `report_date` Date,\n",
    "    `citizen_id` Int32,\n",
    "    `city` String,\n",
    "    `partner_uuid` String,\n",
    "    `pro_subs` Int16,\n",
    "    `state` String,\n",
    "    `created_at` String,\n",
    "    `subscribed_from` String,\n",
    "    `plan` String,\n",
    "    `activated_at` String,\n",
    "    `expires_date` String,\n",
    "    `renew_stopped_at` String,\n",
    "    `renew_failed_at` String,\n",
    "    `started_from` String,\n",
    "    `address_uuid` String\n",
    ")\n",
    "ENGINE = MergeTree()\n",
    "ORDER BY citizen_id\n",
    "\"\"\"\n",
    "\n",
    "ch.query_run(query_text)"
   ]
  },
  {
   "cell_type": "code",
   "execution_count": 7,
   "id": "9479453e",
   "metadata": {},
   "outputs": [
    {
     "data": {
      "text/html": [
       "<div><style>\n",
       ".dataframe > thead > tr,\n",
       ".dataframe > tbody > tr {\n",
       "  text-align: right;\n",
       "  white-space: pre-wrap;\n",
       "}\n",
       "</style>\n",
       "<small>shape: (0, 0)</small><table border=\"1\" class=\"dataframe\"><thead><tr></tr><tr></tr></thead><tbody></tbody></table></div>"
      ],
      "text/plain": [
       "shape: (0, 0)\n",
       "┌┐\n",
       "╞╡\n",
       "└┘"
      ]
     },
     "execution_count": 7,
     "metadata": {},
     "output_type": "execute_result"
    }
   ],
   "source": [
    "query_text = \"\"\"--sql\n",
    "        CREATE MATERIALIZED VIEW db1.subscriptions_report_citizens_flats_comerce_rep_mobile_total_mv\n",
    "        REFRESH EVERY 1 DAY OFFSET 4 HOUR 15 MINUTE TO db1.subscriptions_report_citizens_flats_comerce_rep_mobile_total AS\n",
    "        SELECT\n",
    "            sub_st.report_date AS report_date,\n",
    "            sub_st.citizen_id AS citizen_id,\n",
    "            city,\n",
    "            rep_t.partner_uuid AS partner_uuid,\n",
    "            pro_subs,\n",
    "            sub_st.`state` AS state,\n",
    "            sub_st.`created_at` AS created_at,\n",
    "            subscribed_from,\n",
    "            plan,\n",
    "            sub_st.`activated_at` AS activated_at,\n",
    "            expires_date,\n",
    "            renew_stopped_at,\n",
    "            renew_failed_at,\n",
    "            started_from,\n",
    "            address_uuid\n",
    "        FROM db1.`rep_mobile_citizens_id_city_partner` AS rep_t \n",
    "        JOIN db1.`subscriptions_st_mobile_ch` AS sub_st ON \n",
    "                sub_st.report_date = rep_t.report_date\n",
    "                AND sub_st.citizen_id = rep_t.citizen_id\n",
    "        LEFT JOIN db1.`companies_st_partner_ch` AS comp_st\n",
    "                ON rep_t.`partner_uuid`= comp_st.`partner_uuid`\n",
    "                AND  sub_st.`report_date` = comp_st.`report_date`\n",
    "\n",
    "    \"\"\"\n",
    "ch.query_run(query_text)"
   ]
  },
  {
   "cell_type": "markdown",
   "id": "7c2da2cd",
   "metadata": {},
   "source": [
    "___\n",
    "## Tools\n",
    "___\n",
    "### query\n"
   ]
  },
  {
   "cell_type": "code",
   "execution_count": 3,
   "id": "6fab4e26",
   "metadata": {},
   "outputs": [
    {
     "data": {
      "text/html": [
       "<div><style>\n",
       ".dataframe > thead > tr,\n",
       ".dataframe > tbody > tr {\n",
       "  text-align: right;\n",
       "  white-space: pre-wrap;\n",
       "}\n",
       "</style>\n",
       "<small>shape: (2, 14)</small><table border=\"1\" class=\"dataframe\"><thead><tr><th>report_date</th><th>citizen_id</th><th>city</th><th>partner_uuid</th><th>pro_subs</th><th>state</th><th>created_at</th><th>subscribed_from</th><th>plan</th><th>activated_at</th><th>expires_date</th><th>renew_stopped_at</th><th>renew_failed_at</th><th>started_from</th></tr><tr><td>date</td><td>i64</td><td>str</td><td>str</td><td>i64</td><td>str</td><td>str</td><td>str</td><td>str</td><td>str</td><td>str</td><td>str</td><td>str</td><td>str</td></tr></thead><tbody><tr><td>2024-05-02</td><td>7</td><td>&quot;Казань&quot;</td><td>&quot;b1782e4f-9198-49d1-b5aa-7bdba9…</td><td>0</td><td>&quot;deactivated&quot;</td><td>&quot;2021-04-05 16:59:07&quot;</td><td>&quot;&quot;</td><td>&quot;archive_3_p1m&quot;</td><td>&quot;2021-09-17 17:33:55&quot;</td><td>&quot;2021-11-25 09:59:13&quot;</td><td>&quot;&quot;</td><td>&quot;&quot;</td><td>&quot;&quot;</td></tr><tr><td>2024-05-02</td><td>7</td><td>&quot;Казань&quot;</td><td>&quot;b1782e4f-9198-49d1-b5aa-7bdba9…</td><td>0</td><td>&quot;deactivated&quot;</td><td>&quot;2024-01-30 10:24:43&quot;</td><td>&quot;yakassa&quot;</td><td>&quot;standard_p1m&quot;</td><td>&quot;&quot;</td><td>&quot;&quot;</td><td>&quot;&quot;</td><td>&quot;&quot;</td><td>&quot;ios&quot;</td></tr></tbody></table></div>"
      ],
      "text/plain": [
       "shape: (2, 14)\n",
       "┌────────────┬────────────┬────────┬───────────┬───┬───────────┬───────────┬───────────┬───────────┐\n",
       "│ report_dat ┆ citizen_id ┆ city   ┆ partner_u ┆ … ┆ expires_d ┆ renew_sto ┆ renew_fai ┆ started_f │\n",
       "│ e          ┆ ---        ┆ ---    ┆ uid       ┆   ┆ ate       ┆ pped_at   ┆ led_at    ┆ rom       │\n",
       "│ ---        ┆ i64        ┆ str    ┆ ---       ┆   ┆ ---       ┆ ---       ┆ ---       ┆ ---       │\n",
       "│ date       ┆            ┆        ┆ str       ┆   ┆ str       ┆ str       ┆ str       ┆ str       │\n",
       "╞════════════╪════════════╪════════╪═══════════╪═══╪═══════════╪═══════════╪═══════════╪═══════════╡\n",
       "│ 2024-05-02 ┆ 7          ┆ Казань ┆ b1782e4f- ┆ … ┆ 2021-11-2 ┆           ┆           ┆           │\n",
       "│            ┆            ┆        ┆ 9198-49d1 ┆   ┆ 5         ┆           ┆           ┆           │\n",
       "│            ┆            ┆        ┆ -b5aa-7bd ┆   ┆ 09:59:13  ┆           ┆           ┆           │\n",
       "│            ┆            ┆        ┆ ba9…      ┆   ┆           ┆           ┆           ┆           │\n",
       "│ 2024-05-02 ┆ 7          ┆ Казань ┆ b1782e4f- ┆ … ┆           ┆           ┆           ┆ ios       │\n",
       "│            ┆            ┆        ┆ 9198-49d1 ┆   ┆           ┆           ┆           ┆           │\n",
       "│            ┆            ┆        ┆ -b5aa-7bd ┆   ┆           ┆           ┆           ┆           │\n",
       "│            ┆            ┆        ┆ ba9…      ┆   ┆           ┆           ┆           ┆           │\n",
       "└────────────┴────────────┴────────┴───────────┴───┴───────────┴───────────┴───────────┴───────────┘"
      ]
     },
     "execution_count": 3,
     "metadata": {},
     "output_type": "execute_result"
    }
   ],
   "source": [
    "query_text = \"\"\"--sql\n",
    "    SELECT\n",
    "        *\n",
    "    FROM db1.subscriptions_report_citizens_flats_comerce_rep_mobile_total\n",
    "    limit 2\n",
    "    \"\"\"\n",
    "\n",
    "ch.query_run(query_text)"
   ]
  },
  {
   "cell_type": "markdown",
   "id": "adebebcd",
   "metadata": {},
   "source": [
    "### delete a part\n"
   ]
  },
  {
   "cell_type": "code",
   "execution_count": null,
   "id": "57d666bf",
   "metadata": {},
   "outputs": [],
   "source": [
    "query_text = \"\"\"--sql\n",
    "    ALTER TABLE db1.subscriptions_report_comerce_rep_mobile_total DELETE WHERE report_date = '2025-07-17'\n",
    "    \"\"\"\n",
    "\n",
    "ch.query_run(query_text)"
   ]
  },
  {
   "cell_type": "markdown",
   "id": "619dfa2f",
   "metadata": {},
   "source": [
    "### drop mv"
   ]
  },
  {
   "cell_type": "code",
   "execution_count": 4,
   "id": "91cdcb41",
   "metadata": {},
   "outputs": [
    {
     "data": {
      "text/html": [
       "<div><style>\n",
       ".dataframe > thead > tr,\n",
       ".dataframe > tbody > tr {\n",
       "  text-align: right;\n",
       "  white-space: pre-wrap;\n",
       "}\n",
       "</style>\n",
       "<small>shape: (0, 0)</small><table border=\"1\" class=\"dataframe\"><thead><tr></tr><tr></tr></thead><tbody></tbody></table></div>"
      ],
      "text/plain": [
       "shape: (0, 0)\n",
       "┌┐\n",
       "╞╡\n",
       "└┘"
      ]
     },
     "execution_count": 4,
     "metadata": {},
     "output_type": "execute_result"
    }
   ],
   "source": [
    "query_text = \"\"\"--sql\n",
    "    DROP TABLE db1.subscriptions_report_citizens_flats_comerce_rep_mobile_total_mv\n",
    "    \"\"\"\n",
    "\n",
    "ch.query_run(query_text)"
   ]
  },
  {
   "cell_type": "markdown",
   "id": "37e17895",
   "metadata": {},
   "source": [
    "### drop ch"
   ]
  },
  {
   "cell_type": "code",
   "execution_count": 5,
   "id": "85fd885b",
   "metadata": {},
   "outputs": [
    {
     "data": {
      "text/html": [
       "<div><style>\n",
       ".dataframe > thead > tr,\n",
       ".dataframe > tbody > tr {\n",
       "  text-align: right;\n",
       "  white-space: pre-wrap;\n",
       "}\n",
       "</style>\n",
       "<small>shape: (0, 0)</small><table border=\"1\" class=\"dataframe\"><thead><tr></tr><tr></tr></thead><tbody></tbody></table></div>"
      ],
      "text/plain": [
       "shape: (0, 0)\n",
       "┌┐\n",
       "╞╡\n",
       "└┘"
      ]
     },
     "execution_count": 5,
     "metadata": {},
     "output_type": "execute_result"
    }
   ],
   "source": [
    "query_text = \"\"\"--sql\n",
    "    DROP TABLE db1.subscriptions_report_citizens_flats_comerce_rep_mobile_total\n",
    "    \"\"\"\n",
    "\n",
    "ch.query_run(query_text)"
   ]
  },
  {
   "cell_type": "markdown",
   "id": "518749f6",
   "metadata": {},
   "source": [
    "### refresh mv"
   ]
  },
  {
   "cell_type": "code",
   "execution_count": null,
   "id": "ba437abd",
   "metadata": {},
   "outputs": [],
   "source": [
    "query_text = \"\"\"\n",
    "SYSTEM REFRESH VIEW db1.subscriptions_report_comerce_rep_mobile_total_mv\n",
    "\"\"\"\n",
    "\n",
    "ch.query_run(query_text)"
   ]
  }
 ],
 "metadata": {
  "jupytext": {
   "formats": "ipynb,md"
  },
  "kernelspec": {
   "display_name": "myenv",
   "language": "python",
   "name": "python3"
  },
  "language_info": {
   "codemirror_mode": {
    "name": "ipython",
    "version": 3
   },
   "file_extension": ".py",
   "mimetype": "text/x-python",
   "name": "python",
   "nbconvert_exporter": "python",
   "pygments_lexer": "ipython3",
   "version": "3.12.11"
  }
 },
 "nbformat": 4,
 "nbformat_minor": 5
}

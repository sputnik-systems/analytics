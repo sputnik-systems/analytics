{
 "cells": [
  {
   "cell_type": "markdown",
   "id": "dac601df",
   "metadata": {},
   "source": [
    "## Start"
   ]
  },
  {
   "cell_type": "code",
   "execution_count": 1,
   "id": "22d9fa38",
   "metadata": {},
   "outputs": [],
   "source": [
    "import clickhouse_connect\n",
    "import datetime\n",
    "import os\n",
    "import pytz\n",
    "import pandas as pd\n",
    "from dateutil.relativedelta import relativedelta\n",
    "from dotenv import load_dotenv\n",
    "\n",
    "import sys\n",
    "sys.path.append('/home/boris/Documents/Work/analytics/Clickhouse')\n",
    "from clickhouse_client import ClickHouse_client\n",
    "ch = ClickHouse_client()\n",
    "pd.set_option('display.max_rows', 1000)"
   ]
  },
  {
   "cell_type": "markdown",
   "id": "e925b84c",
   "metadata": {},
   "source": [
    "___\n",
    "### Tags: #Mobile_Report\n",
    "\n",
    "### Links:  \n",
    "\n",
    "[[installation_point_st_partner]]\n",
    "\n",
    "[[intercoms_st_partner]]\n",
    "\n",
    "[[entries_installation_points_dir_partner]]\n",
    "\n",
    "[[companies_st_partner]]\n",
    "\n",
    "\n",
    "### Table"
   ]
  },
  {
   "cell_type": "code",
   "execution_count": 6,
   "id": "995d8760",
   "metadata": {},
   "outputs": [
    {
     "data": {
      "text/html": [
       "<div><style>\n",
       ".dataframe > thead > tr,\n",
       ".dataframe > tbody > tr {\n",
       "  text-align: right;\n",
       "  white-space: pre-wrap;\n",
       "}\n",
       "</style>\n",
       "<small>shape: (0, 0)</small><table border=\"1\" class=\"dataframe\"><thead><tr></tr><tr></tr></thead><tbody></tbody></table></div>"
      ],
      "text/plain": [
       "shape: (0, 0)\n",
       "┌┐\n",
       "╞╡\n",
       "└┘"
      ]
     },
     "execution_count": 6,
     "metadata": {},
     "output_type": "execute_result"
    }
   ],
   "source": [
    "query_text = \"\"\"--sql\n",
    "CREATE TABLE db1.units_on_sk_platform_rep_mobile_total\n",
    "(\n",
    "    `report_date` Date,\n",
    "    `partner_uuid` String,\n",
    "    `city` String,\n",
    "    `units_on_platform` UInt64,\n",
    "    `units_stricted monetization` UInt64,\n",
    "    `units_free_monetization` UInt64,\n",
    "    `units_free_monetization_pro` UInt64,\n",
    "    `units_free_monetization_start` UInt64\n",
    ")\n",
    "ENGINE = MergeTree()\n",
    "ORDER BY partner_uuid\n",
    "\"\"\"\n",
    "\n",
    "ch.query_run(query_text)"
   ]
  },
  {
   "cell_type": "code",
   "execution_count": 7,
   "id": "a60ba8ef",
   "metadata": {},
   "outputs": [
    {
     "data": {
      "text/html": [
       "<div><style>\n",
       ".dataframe > thead > tr,\n",
       ".dataframe > tbody > tr {\n",
       "  text-align: right;\n",
       "  white-space: pre-wrap;\n",
       "}\n",
       "</style>\n",
       "<small>shape: (0, 0)</small><table border=\"1\" class=\"dataframe\"><thead><tr></tr><tr></tr></thead><tbody></tbody></table></div>"
      ],
      "text/plain": [
       "shape: (0, 0)\n",
       "┌┐\n",
       "╞╡\n",
       "└┘"
      ]
     },
     "execution_count": 7,
     "metadata": {},
     "output_type": "execute_result"
    }
   ],
   "source": [
    "query_text = \"\"\"--sql\n",
    "    CREATE MATERIALIZED VIEW db1.units_on_sk_platform_rep_mobile_total_mv\n",
    "    REFRESH EVERY 1 DAY OFFSET 6 HOUR 8 MINUTE TO db1.units_on_sk_platform_rep_mobile_total AS\n",
    "    SELECT\n",
    "        inst_p_st.report_date AS report_date,\n",
    "        inst_p_st.`partner_uuid` AS partner_uuid,\n",
    "        entr_p_dir.city AS city,\n",
    "        count(distinct if(intercom_uuid is not NULL, `address_uuid`,null)) as `units_on_platform`,\n",
    "        count(distinct if(monetization = 0 and intercom_uuid is not NULL, `address_uuid`,null)) as `units_stricted monetization`,\n",
    "        count(distinct if(monetization = 1 and intercom_uuid is not NULL, `address_uuid`,null)) as `units_free_monetization`,\n",
    "        count(distinct if(monetization = 1 and intercom_uuid is not NULL  and pro_subs = 1, `address_uuid`,null)) as `units_free_monetization_pro`,\n",
    "        count(distinct if(monetization = 1 \n",
    "                        and intercom_uuid is not NULL \n",
    "                        and pro_subs = 1\n",
    "                        and (enterprise_subs = 0 or enterprise_subs is null) \n",
    "                        and (enterprise_not_paid = 0 or enterprise_not_paid is null)  \n",
    "                        and (enterprise_test = 0 or enterprise_test is null)\n",
    "                        , `address_uuid`,null)) as `units_free_monetization_start`\n",
    "    FROM db1.`installation_point_st_partner_ch` AS inst_p_st\n",
    "    ANY JOIN db1.`intercoms_st_partner_ch` AS int_st\n",
    "                    ON int_st.installation_point_id = inst_p_st.installation_point_id\n",
    "                    AND int_st.report_date = inst_p_st.report_date\n",
    "    LEFT JOIN db1.`entries_installation_points_dir_partner_ch` AS entr_p_dir \n",
    "        ON inst_p_st.installation_point_id = entr_p_dir.installation_point_id\n",
    "    LEFT JOIN db1.`companies_st_partner_ch` AS comp_st\n",
    "                    ON comp_st.`partner_uuid` = int_st.`partner_uuid`\n",
    "                    AND comp_st.`report_date` = int_st.`report_date`\n",
    "    GROUP BY  \n",
    "        report_date,\n",
    "        partner_uuid,\n",
    "        city\n",
    "    \"\"\"\n",
    "ch.query_run(query_text)"
   ]
  },
  {
   "cell_type": "code",
   "execution_count": null,
   "id": "ecb48fe4",
   "metadata": {},
   "outputs": [],
   "source": [
    "mobile_report_rep_mobile_full"
   ]
  },
  {
   "cell_type": "markdown",
   "id": "0d4b1aff",
   "metadata": {},
   "source": [
    "___\n",
    "## Tools\n",
    "___\n",
    "### query\n"
   ]
  },
  {
   "cell_type": "code",
   "execution_count": 11,
   "id": "26a01b3d",
   "metadata": {},
   "outputs": [
    {
     "data": {
      "text/html": [
       "<div><style>\n",
       ".dataframe > thead > tr,\n",
       ".dataframe > tbody > tr {\n",
       "  text-align: right;\n",
       "  white-space: pre-wrap;\n",
       "}\n",
       "</style>\n",
       "<small>shape: (10, 2)</small><table border=\"1\" class=\"dataframe\"><thead><tr><th>report_date</th><th>sum(units_on_platform)</th></tr><tr><td>date</td><td>i64</td></tr></thead><tbody><tr><td>2025-08-06</td><td>31200</td></tr><tr><td>2025-08-05</td><td>31166</td></tr><tr><td>2025-08-04</td><td>31117</td></tr><tr><td>2025-08-03</td><td>31096</td></tr><tr><td>2025-08-02</td><td>31095</td></tr><tr><td>2025-08-01</td><td>31092</td></tr><tr><td>2025-07-31</td><td>31078</td></tr><tr><td>2025-07-30</td><td>31038</td></tr><tr><td>2025-07-29</td><td>31012</td></tr><tr><td>2025-07-28</td><td>30996</td></tr></tbody></table></div>"
      ],
      "text/plain": [
       "shape: (10, 2)\n",
       "┌─────────────┬────────────────────────┐\n",
       "│ report_date ┆ sum(units_on_platform) │\n",
       "│ ---         ┆ ---                    │\n",
       "│ date        ┆ i64                    │\n",
       "╞═════════════╪════════════════════════╡\n",
       "│ 2025-08-06  ┆ 31200                  │\n",
       "│ 2025-08-05  ┆ 31166                  │\n",
       "│ 2025-08-04  ┆ 31117                  │\n",
       "│ 2025-08-03  ┆ 31096                  │\n",
       "│ 2025-08-02  ┆ 31095                  │\n",
       "│ 2025-08-01  ┆ 31092                  │\n",
       "│ 2025-07-31  ┆ 31078                  │\n",
       "│ 2025-07-30  ┆ 31038                  │\n",
       "│ 2025-07-29  ┆ 31012                  │\n",
       "│ 2025-07-28  ┆ 30996                  │\n",
       "└─────────────┴────────────────────────┘"
      ]
     },
     "execution_count": 11,
     "metadata": {},
     "output_type": "execute_result"
    }
   ],
   "source": [
    "query_text = \"\"\"--sql\n",
    "    SELECT\n",
    "        report_date,\n",
    "        sum(units_on_platform)\n",
    "    FROM db1.units_on_sk_platform_rep_mobile_total\n",
    "    GROUP BY report_date\n",
    "    ORDER BY report_date DESC\n",
    "    limit 10\n",
    "    \"\"\"\n",
    "\n",
    "ch.query_run(query_text)"
   ]
  },
  {
   "cell_type": "markdown",
   "id": "12ff7bf7",
   "metadata": {},
   "source": [
    "### delete a part\n"
   ]
  },
  {
   "cell_type": "code",
   "execution_count": null,
   "id": "ed24c334",
   "metadata": {},
   "outputs": [],
   "source": [
    "query_text = \"\"\"--sql\n",
    "    ALTER TABLE db1.units_on_sk_platform_rep_mobile_total DELETE WHERE report_date = '2025-07-17'\n",
    "    \"\"\"\n",
    "\n",
    "ch.query_run(query_text)"
   ]
  },
  {
   "cell_type": "markdown",
   "id": "c6dcd46f",
   "metadata": {},
   "source": [
    "### drop mv"
   ]
  },
  {
   "cell_type": "code",
   "execution_count": 5,
   "id": "acf2a625",
   "metadata": {},
   "outputs": [
    {
     "data": {
      "text/html": [
       "<div><style>\n",
       ".dataframe > thead > tr,\n",
       ".dataframe > tbody > tr {\n",
       "  text-align: right;\n",
       "  white-space: pre-wrap;\n",
       "}\n",
       "</style>\n",
       "<small>shape: (0, 0)</small><table border=\"1\" class=\"dataframe\"><thead><tr></tr><tr></tr></thead><tbody></tbody></table></div>"
      ],
      "text/plain": [
       "shape: (0, 0)\n",
       "┌┐\n",
       "╞╡\n",
       "└┘"
      ]
     },
     "execution_count": 5,
     "metadata": {},
     "output_type": "execute_result"
    }
   ],
   "source": [
    "query_text = \"\"\"--sql\n",
    "    DROP TABLE db1.units_on_sk_platform_rep_mobile_total_mv\n",
    "    \"\"\"\n",
    "\n",
    "ch.query_run(query_text)"
   ]
  },
  {
   "cell_type": "markdown",
   "id": "9d746db7",
   "metadata": {},
   "source": [
    "### drop ch"
   ]
  },
  {
   "cell_type": "code",
   "execution_count": 3,
   "id": "24caf0a0",
   "metadata": {},
   "outputs": [
    {
     "data": {
      "text/html": [
       "<div><style>\n",
       ".dataframe > thead > tr,\n",
       ".dataframe > tbody > tr {\n",
       "  text-align: right;\n",
       "  white-space: pre-wrap;\n",
       "}\n",
       "</style>\n",
       "<small>shape: (0, 0)</small><table border=\"1\" class=\"dataframe\"><thead><tr></tr><tr></tr></thead><tbody></tbody></table></div>"
      ],
      "text/plain": [
       "shape: (0, 0)\n",
       "┌┐\n",
       "╞╡\n",
       "└┘"
      ]
     },
     "execution_count": 3,
     "metadata": {},
     "output_type": "execute_result"
    }
   ],
   "source": [
    "query_text = \"\"\"--sql\n",
    "    DROP TABLE db1.units_on_sk_platform_rep_mobile_total\n",
    "    \"\"\"\n",
    "\n",
    "ch.query_run(query_text)"
   ]
  },
  {
   "cell_type": "markdown",
   "id": "5b97d300",
   "metadata": {},
   "source": [
    "### refresh mv"
   ]
  },
  {
   "cell_type": "code",
   "execution_count": null,
   "id": "1bdae0b1",
   "metadata": {},
   "outputs": [],
   "source": [
    "query_text = \"\"\"\n",
    "SYSTEM REFRESH VIEW db1.units_on_sk_platform_rep_mobile_total_mv\n",
    "\"\"\"\n",
    "\n",
    "ch.query_run(query_text)"
   ]
  }
 ],
 "metadata": {
  "jupytext": {
   "formats": "ipynb,md"
  },
  "kernelspec": {
   "display_name": "myenv",
   "language": "python",
   "name": "python3"
  },
  "language_info": {
   "codemirror_mode": {
    "name": "ipython",
    "version": 3
   },
   "file_extension": ".py",
   "mimetype": "text/x-python",
   "name": "python",
   "nbconvert_exporter": "python",
   "pygments_lexer": "ipython3",
   "version": "3.12.11"
  }
 },
 "nbformat": 4,
 "nbformat_minor": 5
}

{
 "cells": [
  {
   "cell_type": "markdown",
   "id": "dac601df",
   "metadata": {},
   "source": [
    "## Start"
   ]
  },
  {
   "cell_type": "code",
   "execution_count": null,
   "id": "22d9fa38",
   "metadata": {},
   "outputs": [],
   "source": [
    "import clickhouse_connect\n",
    "import datetime\n",
    "import os\n",
    "import pytz\n",
    "import pandas as pd\n",
    "from dateutil.relativedelta import relativedelta\n",
    "from dotenv import load_dotenv\n",
    "\n",
    "import sys\n",
    "sys.path.append('/home/boris/Documents/Work/analytics/Clickhouse')\n",
    "from clickhouse_client import ClickHouse_client\n",
    "ch = ClickHouse_client()\n",
    "pd.set_option('display.max_rows', 1000)"
   ]
  },
  {
   "cell_type": "markdown",
   "id": "e925b84c",
   "metadata": {},
   "source": [
    "___\n",
    "### Tags: #Mobile_Report\n",
    "\n",
    "### Links:  \n",
    "\n",
    "[[installation_point_st_partner]]\n",
    "\n",
    "[[intercoms_st_partner]]\n",
    "\n",
    "[[entries_installation_points_dir_partner]]\n",
    "\n",
    "[[companies_st_partne]]\n",
    "\n",
    "\n",
    "### Table"
   ]
  },
  {
   "cell_type": "code",
   "execution_count": null,
   "id": "995d8760",
   "metadata": {},
   "outputs": [],
   "source": [
    "query_text = \"\"\"--sql\n",
    "CREATE TABLE db1.units_on_sk_platform_rep_mobile_total\n",
    "(\n",
    "    `report_date` Date,\n",
    "    `partner_uuid` String,\n",
    "    `city` String,\n",
    "    `units_on_platform` UInt64,\n",
    "    `units_stricted monetization` UInt64,\n",
    "    `units_free_monetization` UInt64,\n",
    "    `units_free_monetization_pro` UInt64,\n",
    "    `units_free_monetization_start` UInt64\n",
    ")\n",
    "ENGINE = MergeTree()\n",
    "ORDER BY partner_uuid\n",
    "\"\"\"\n",
    "\n",
    "ch.query_run(query_text)"
   ]
  },
  {
   "cell_type": "code",
   "execution_count": null,
   "id": "a60ba8ef",
   "metadata": {},
   "outputs": [],
   "source": [
    "query_text = \"\"\"--sql\n",
    "    CREATE MATERIALIZED VIEW db1.units_on_sk_platform_rep_mobile_total_mv\n",
    "    REFRESH EVERY 1 DAY OFFSET 6 HOUR 8 MINUTE TO db1.units_on_sk_platform_rep_mobile_total AS\n",
    "    SELECT\n",
    "        inst_p_st.report_date AS report_date,\n",
    "        inst_p_st.`partner_uuid` AS partner_uuid,\n",
    "        entr_p_dir.city AS city,\n",
    "        count(distinct if(intercom_uuid is not NULL, `address_uuid`,null)) as `units_on_platform`,\n",
    "        count(distinct if(monetization = 0 and intercom_uuid is not NULL, `address_uuid`,null)) as `units_stricted monetization`,\n",
    "        count(distinct if(monetization = 1 and intercom_uuid is not NULL, `address_uuid`,null)) as `units_free_monetization`,\n",
    "        count(distinct if(monetization = 1 and intercom_uuid is not NULL  and pro_subs = 1, `address_uuid`,null)) as `units_free_monetization_pro`,\n",
    "        count(distinct if(monetization = 1 \n",
    "                        and intercom_uuid is not NULL \n",
    "                        and pro_subs = 1\n",
    "                        and (enterprise_subs = 0 or enterprise_subs is null) \n",
    "                        and (enterprise_not_paid = 0 or enterprise_not_paid is null)  \n",
    "                        and (enterprise_test = 0 or enterprise_test is null)\n",
    "                        , `address_uuid`,null)) as `units_free_monetization_start`\n",
    "    FROM db1.`installation_point_st_partner_ch` AS inst_p_st\n",
    "    ANY JOIN db1.`intercoms_st_partner_ch` AS int_st\n",
    "                    ON int_st.installation_point_id = inst_p_st.installation_point_id\n",
    "                    AND int_st.report_date = inst_p_st.report_date\n",
    "    LEFT ANY JOIN db1.`entries_installation_points_dir_partner_ch` AS entr_p_dir \n",
    "        ON inst_p_st.installation_point_id = entr_p_dir.installation_point_id\n",
    "    LEFT ANY JOIN db1.`companies_st_partner_ch` AS comp_st\n",
    "                    ON comp_st.`partner_uuid` = int_st.`partner_uuid`\n",
    "                    AND comp_st.`report_date` = int_st.`report_date`\n",
    "    GROUP BY  \n",
    "        report_date,\n",
    "        partner_uuid,\n",
    "        city\n",
    "    \"\"\"\n",
    "ch.query_run(query_text)"
   ]
  },
  {
   "cell_type": "code",
   "execution_count": null,
   "id": "ecb48fe4",
   "metadata": {},
   "outputs": [],
   "source": [
    "mobile_report_rep_mobile_full"
   ]
  },
  {
   "cell_type": "markdown",
   "id": "0d4b1aff",
   "metadata": {},
   "source": [
    "___\n",
    "## Tools\n",
    "___\n",
    "### query\n"
   ]
  },
  {
   "cell_type": "code",
   "execution_count": 12,
   "id": "26a01b3d",
   "metadata": {},
   "outputs": [
    {
     "data": {
      "text/html": [
       "<div><style>\n",
       ".dataframe > thead > tr,\n",
       ".dataframe > tbody > tr {\n",
       "  text-align: right;\n",
       "  white-space: pre-wrap;\n",
       "}\n",
       "</style>\n",
       "<small>shape: (100, 8)</small><table border=\"1\" class=\"dataframe\"><thead><tr><th>report_date</th><th>partner_uuid</th><th>city</th><th>units_on_platform</th><th>units_stricted monetization</th><th>units_free_monetization</th><th>units_free_monetization_pro</th><th>units_free_monetization_start</th></tr><tr><td>date</td><td>str</td><td>str</td><td>i64</td><td>i64</td><td>i64</td><td>i64</td><td>i64</td></tr></thead><tbody><tr><td>2025-08-04</td><td>&quot;00be0483-e667-4d7e-a462-64f1eb…</td><td>&quot;Полевской&quot;</td><td>22</td><td>22</td><td>0</td><td>0</td><td>0</td></tr><tr><td>2025-08-04</td><td>&quot;010cd1e6-7f7b-4613-9209-96b28d…</td><td>&quot;рабочий посёлок Вычегодский&quot;</td><td>47</td><td>0</td><td>47</td><td>47</td><td>47</td></tr><tr><td>2025-08-04</td><td>&quot;010cd1e6-7f7b-4613-9209-96b28d…</td><td>&quot;Коряжма&quot;</td><td>140</td><td>0</td><td>140</td><td>140</td><td>140</td></tr><tr><td>2025-08-04</td><td>&quot;00ec6d8e-a799-409c-958b-9472a1…</td><td>&quot;Казань&quot;</td><td>12</td><td>8</td><td>4</td><td>0</td><td>0</td></tr><tr><td>2025-08-04</td><td>&quot;00be0483-e667-4d7e-a462-64f1eb…</td><td>&quot;Екатеринбург&quot;</td><td>11</td><td>11</td><td>0</td><td>0</td><td>0</td></tr><tr><td>&hellip;</td><td>&hellip;</td><td>&hellip;</td><td>&hellip;</td><td>&hellip;</td><td>&hellip;</td><td>&hellip;</td><td>&hellip;</td></tr><tr><td>2025-08-04</td><td>&quot;13463781-c891-4451-9498-746158…</td><td>&quot;Новый Уренгой&quot;</td><td>10</td><td>5</td><td>5</td><td>0</td><td>0</td></tr><tr><td>2025-08-04</td><td>&quot;10e08a08-863c-4932-b351-31ec59…</td><td>&quot;Москва&quot;</td><td>2</td><td>0</td><td>2</td><td>0</td><td>0</td></tr><tr><td>2025-08-04</td><td>&quot;11cae268-bf50-4705-a05e-138bce…</td><td>&quot;Аксай&quot;</td><td>1</td><td>0</td><td>1</td><td>0</td><td>0</td></tr><tr><td>2025-08-04</td><td>&quot;13308e7c-c0a3-4689-807f-c0a8be…</td><td>&quot;Пермь&quot;</td><td>32</td><td>4</td><td>28</td><td>28</td><td>28</td></tr><tr><td>2025-08-04</td><td>&quot;15a6bb4b-1cc7-4686-8cda-dada01…</td><td>&quot;Поселок городского типа Мурмаш…</td><td>1</td><td>0</td><td>1</td><td>1</td><td>1</td></tr></tbody></table></div>"
      ],
      "text/plain": [
       "shape: (100, 8)\n",
       "┌────────────┬────────────┬────────────┬───────────┬───────────┬───────────┬───────────┬───────────┐\n",
       "│ report_dat ┆ partner_uu ┆ city       ┆ units_on_ ┆ units_str ┆ units_fre ┆ units_fre ┆ units_fre │\n",
       "│ e          ┆ id         ┆ ---        ┆ platform  ┆ icted mon ┆ e_monetiz ┆ e_monetiz ┆ e_monetiz │\n",
       "│ ---        ┆ ---        ┆ str        ┆ ---       ┆ etization ┆ ation     ┆ ation_pro ┆ ation_sta │\n",
       "│ date       ┆ str        ┆            ┆ i64       ┆ ---       ┆ ---       ┆ ---       ┆ rt        │\n",
       "│            ┆            ┆            ┆           ┆ i64       ┆ i64       ┆ i64       ┆ ---       │\n",
       "│            ┆            ┆            ┆           ┆           ┆           ┆           ┆ i64       │\n",
       "╞════════════╪════════════╪════════════╪═══════════╪═══════════╪═══════════╪═══════════╪═══════════╡\n",
       "│ 2025-08-04 ┆ 00be0483-e ┆ Полевской  ┆ 22        ┆ 22        ┆ 0         ┆ 0         ┆ 0         │\n",
       "│            ┆ 667-4d7e-a ┆            ┆           ┆           ┆           ┆           ┆           │\n",
       "│            ┆ 462-64f1eb ┆            ┆           ┆           ┆           ┆           ┆           │\n",
       "│            ┆ …          ┆            ┆           ┆           ┆           ┆           ┆           │\n",
       "│ 2025-08-04 ┆ 010cd1e6-7 ┆ рабочий    ┆ 47        ┆ 0         ┆ 47        ┆ 47        ┆ 47        │\n",
       "│            ┆ f7b-4613-9 ┆ посёлок    ┆           ┆           ┆           ┆           ┆           │\n",
       "│            ┆ 209-96b28d ┆ Вычегодски ┆           ┆           ┆           ┆           ┆           │\n",
       "│            ┆ …          ┆ й          ┆           ┆           ┆           ┆           ┆           │\n",
       "│ 2025-08-04 ┆ 010cd1e6-7 ┆ Коряжма    ┆ 140       ┆ 0         ┆ 140       ┆ 140       ┆ 140       │\n",
       "│            ┆ f7b-4613-9 ┆            ┆           ┆           ┆           ┆           ┆           │\n",
       "│            ┆ 209-96b28d ┆            ┆           ┆           ┆           ┆           ┆           │\n",
       "│            ┆ …          ┆            ┆           ┆           ┆           ┆           ┆           │\n",
       "│ 2025-08-04 ┆ 00ec6d8e-a ┆ Казань     ┆ 12        ┆ 8         ┆ 4         ┆ 0         ┆ 0         │\n",
       "│            ┆ 799-409c-9 ┆            ┆           ┆           ┆           ┆           ┆           │\n",
       "│            ┆ 58b-9472a1 ┆            ┆           ┆           ┆           ┆           ┆           │\n",
       "│            ┆ …          ┆            ┆           ┆           ┆           ┆           ┆           │\n",
       "│ 2025-08-04 ┆ 00be0483-e ┆ Екатеринбу ┆ 11        ┆ 11        ┆ 0         ┆ 0         ┆ 0         │\n",
       "│            ┆ 667-4d7e-a ┆ рг         ┆           ┆           ┆           ┆           ┆           │\n",
       "│            ┆ 462-64f1eb ┆            ┆           ┆           ┆           ┆           ┆           │\n",
       "│            ┆ …          ┆            ┆           ┆           ┆           ┆           ┆           │\n",
       "│ …          ┆ …          ┆ …          ┆ …         ┆ …         ┆ …         ┆ …         ┆ …         │\n",
       "│ 2025-08-04 ┆ 13463781-c ┆ Новый      ┆ 10        ┆ 5         ┆ 5         ┆ 0         ┆ 0         │\n",
       "│            ┆ 891-4451-9 ┆ Уренгой    ┆           ┆           ┆           ┆           ┆           │\n",
       "│            ┆ 498-746158 ┆            ┆           ┆           ┆           ┆           ┆           │\n",
       "│            ┆ …          ┆            ┆           ┆           ┆           ┆           ┆           │\n",
       "│ 2025-08-04 ┆ 10e08a08-8 ┆ Москва     ┆ 2         ┆ 0         ┆ 2         ┆ 0         ┆ 0         │\n",
       "│            ┆ 63c-4932-b ┆            ┆           ┆           ┆           ┆           ┆           │\n",
       "│            ┆ 351-31ec59 ┆            ┆           ┆           ┆           ┆           ┆           │\n",
       "│            ┆ …          ┆            ┆           ┆           ┆           ┆           ┆           │\n",
       "│ 2025-08-04 ┆ 11cae268-b ┆ Аксай      ┆ 1         ┆ 0         ┆ 1         ┆ 0         ┆ 0         │\n",
       "│            ┆ f50-4705-a ┆            ┆           ┆           ┆           ┆           ┆           │\n",
       "│            ┆ 05e-138bce ┆            ┆           ┆           ┆           ┆           ┆           │\n",
       "│            ┆ …          ┆            ┆           ┆           ┆           ┆           ┆           │\n",
       "│ 2025-08-04 ┆ 13308e7c-c ┆ Пермь      ┆ 32        ┆ 4         ┆ 28        ┆ 28        ┆ 28        │\n",
       "│            ┆ 0a3-4689-8 ┆            ┆           ┆           ┆           ┆           ┆           │\n",
       "│            ┆ 07f-c0a8be ┆            ┆           ┆           ┆           ┆           ┆           │\n",
       "│            ┆ …          ┆            ┆           ┆           ┆           ┆           ┆           │\n",
       "│ 2025-08-04 ┆ 15a6bb4b-1 ┆ Поселок    ┆ 1         ┆ 0         ┆ 1         ┆ 1         ┆ 1         │\n",
       "│            ┆ cc7-4686-8 ┆ городского ┆           ┆           ┆           ┆           ┆           │\n",
       "│            ┆ cda-dada01 ┆ типа       ┆           ┆           ┆           ┆           ┆           │\n",
       "│            ┆ …          ┆ Мурмаш…    ┆           ┆           ┆           ┆           ┆           │\n",
       "└────────────┴────────────┴────────────┴───────────┴───────────┴───────────┴───────────┴───────────┘"
      ]
     },
     "execution_count": 12,
     "metadata": {},
     "output_type": "execute_result"
    }
   ],
   "source": [
    "query_text = \"\"\"--sql\n",
    "    SELECT\n",
    "        *\n",
    "    FROM db1.units_on_sk_platform_rep_mobile_total\n",
    "    ORDER BY report_date DESC\n",
    "    limit 100\n",
    "    \"\"\"\n",
    "\n",
    "ch.query_run(query_text)"
   ]
  },
  {
   "cell_type": "markdown",
   "id": "12ff7bf7",
   "metadata": {},
   "source": [
    "### delete a part\n"
   ]
  },
  {
   "cell_type": "code",
   "execution_count": null,
   "id": "ed24c334",
   "metadata": {},
   "outputs": [],
   "source": [
    "query_text = \"\"\"--sql\n",
    "    ALTER TABLE db1.units_on_sk_platform_rep_mobile_total DELETE WHERE report_date = '2025-07-17'\n",
    "    \"\"\"\n",
    "\n",
    "ch.query_run(query_text)"
   ]
  },
  {
   "cell_type": "markdown",
   "id": "c6dcd46f",
   "metadata": {},
   "source": [
    "### drop mv"
   ]
  },
  {
   "cell_type": "code",
   "execution_count": null,
   "id": "acf2a625",
   "metadata": {},
   "outputs": [],
   "source": [
    "query_text = \"\"\"--sql\n",
    "    DROP TABLE db1.units_on_sk_platform_rep_mobile_total_mv\n",
    "    \"\"\"\n",
    "\n",
    "ch.query_run(query_text)"
   ]
  },
  {
   "cell_type": "markdown",
   "id": "9d746db7",
   "metadata": {},
   "source": [
    "### drop ch"
   ]
  },
  {
   "cell_type": "code",
   "execution_count": null,
   "id": "24caf0a0",
   "metadata": {},
   "outputs": [],
   "source": [
    "query_text = \"\"\"--sql\n",
    "    DROP TABLE db1.units_on_sk_platform_rep_mobile_total\n",
    "    \"\"\"\n",
    "\n",
    "ch.query_run(query_text)"
   ]
  },
  {
   "cell_type": "markdown",
   "id": "5b97d300",
   "metadata": {},
   "source": [
    "### refresh mv"
   ]
  },
  {
   "cell_type": "code",
   "execution_count": null,
   "id": "1bdae0b1",
   "metadata": {},
   "outputs": [],
   "source": [
    "query_text = \"\"\"\n",
    "SYSTEM REFRESH VIEW db1.units_on_sk_platform_rep_mobile_total_mv\n",
    "\"\"\"\n",
    "\n",
    "ch.query_run(query_text)"
   ]
  }
 ],
 "metadata": {
  "jupytext": {
   "formats": "ipynb,md"
  },
  "kernelspec": {
   "display_name": "myenv",
   "language": "python",
   "name": "python3"
  },
  "language_info": {
   "codemirror_mode": {
    "name": "ipython",
    "version": 3
   },
   "file_extension": ".py",
   "mimetype": "text/x-python",
   "name": "python",
   "nbconvert_exporter": "python",
   "pygments_lexer": "ipython3",
   "version": "3.12.11"
  }
 },
 "nbformat": 4,
 "nbformat_minor": 5
}

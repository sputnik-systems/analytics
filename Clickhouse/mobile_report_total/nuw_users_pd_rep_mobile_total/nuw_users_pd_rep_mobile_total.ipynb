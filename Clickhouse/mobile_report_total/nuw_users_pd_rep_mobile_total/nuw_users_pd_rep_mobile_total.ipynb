{
 "cells": [
  {
   "cell_type": "markdown",
   "id": "38a46a85",
   "metadata": {},
   "source": [
    "## Start"
   ]
  },
  {
   "cell_type": "code",
   "execution_count": 2,
   "id": "de974a9a",
   "metadata": {},
   "outputs": [],
   "source": [
    "import clickhouse_connect\n",
    "import datetime\n",
    "import os\n",
    "import pytz\n",
    "import pandas as pd\n",
    "from dateutil.relativedelta import relativedelta\n",
    "from dotenv import load_dotenv\n",
    "\n",
    "import sys\n",
    "sys.path.append('/home/boris/Documents/Work/analytics/Clickhouse')\n",
    "from clickhouse_client import ClickHouse_client\n",
    "ch = ClickHouse_client()\n",
    "pd.set_option('display.max_rows', 1000)"
   ]
  },
  {
   "cell_type": "markdown",
   "id": "5cd53a62",
   "metadata": {},
   "source": [
    "___\n",
    "### Tags: #Mobile_Report\n",
    "\n",
    "### Links:  \n",
    "\n",
    "[[rep_mobile_citizens_id_city_partner]]\n",
    "\n",
    "[[citizens_dir_mobile]]\n",
    "___\n",
    "### Table"
   ]
  },
  {
   "cell_type": "code",
   "execution_count": 12,
   "id": "a90d5b09",
   "metadata": {},
   "outputs": [
    {
     "name": "stdout",
     "output_type": "stream",
     "text": [
      "(\n",
      "    `report_date` Date,\n",
      "    `partner_uuid` String,\n",
      "    `city` String,\n",
      "    `nuw_created_account_day` UInt64,\n",
      "    `nuw_activated_accoun_day` UInt64\n",
      ")\n"
     ]
    }
   ],
   "source": [
    "query_text = \"\"\"--sql\n",
    "SELECT\n",
    "    report_date,\n",
    "    partner_uuid,\n",
    "    city,\n",
    "    COUNT(DISTINCT if(report_date = toDateOrNull(c.`created_at`), r.citizen_id, NULL)) AS `nuw_created_account_day`,\n",
    "    COUNT(DISTINCT if(report_date = r.`activated_at`, r.citizen_id, NULL)) AS `nuw_activated_accoun_day`\n",
    "FROM db1.rep_mobile_citizens_id_city_partner r\n",
    "LEFT JOIN db1.`citizens_dir_mobile_ch` AS c ON c.`citizen_id`  = r.`citizen_id`\n",
    "GROUP BY report_date,\n",
    "         partner_uuid,\n",
    "         city\n",
    "    limit 10\n",
    "    \"\"\"\n",
    "\n",
    "ch.get_schema(query_text)"
   ]
  },
  {
   "cell_type": "code",
   "execution_count": 14,
   "id": "c30811cf",
   "metadata": {},
   "outputs": [
    {
     "data": {
      "text/html": [
       "<div><style>\n",
       ".dataframe > thead > tr,\n",
       ".dataframe > tbody > tr {\n",
       "  text-align: right;\n",
       "  white-space: pre-wrap;\n",
       "}\n",
       "</style>\n",
       "<small>shape: (0, 0)</small><table border=\"1\" class=\"dataframe\"><thead><tr></tr><tr></tr></thead><tbody></tbody></table></div>"
      ],
      "text/plain": [
       "shape: (0, 0)\n",
       "┌┐\n",
       "╞╡\n",
       "└┘"
      ]
     },
     "execution_count": 14,
     "metadata": {},
     "output_type": "execute_result"
    }
   ],
   "source": [
    "query_text = \"\"\"--sql\n",
    "CREATE TABLE db1.nuw_users_pd_rep_mobile_total\n",
    "(\n",
    "    `report_date` Date,\n",
    "    `partner_uuid` String,\n",
    "    `city` String,\n",
    "    `nuw_created_account_day` UInt64,\n",
    "    `nuw_activated_accoun_day` UInt64\n",
    ")\n",
    "ENGINE = MergeTree()\n",
    "ORDER BY partner_uuid\n",
    "\"\"\"\n",
    "\n",
    "ch.query_run(query_text)"
   ]
  },
  {
   "cell_type": "code",
   "execution_count": 15,
   "id": "e4d952a0",
   "metadata": {},
   "outputs": [
    {
     "data": {
      "text/html": [
       "<div><style>\n",
       ".dataframe > thead > tr,\n",
       ".dataframe > tbody > tr {\n",
       "  text-align: right;\n",
       "  white-space: pre-wrap;\n",
       "}\n",
       "</style>\n",
       "<small>shape: (0, 0)</small><table border=\"1\" class=\"dataframe\"><thead><tr></tr><tr></tr></thead><tbody></tbody></table></div>"
      ],
      "text/plain": [
       "shape: (0, 0)\n",
       "┌┐\n",
       "╞╡\n",
       "└┘"
      ]
     },
     "execution_count": 15,
     "metadata": {},
     "output_type": "execute_result"
    }
   ],
   "source": [
    "query_text = \"\"\"--sql\n",
    "    CREATE MATERIALIZED VIEW db1.nuw_users_pd_rep_mobile_total_mv\n",
    "    REFRESH EVERY 1 DAY OFFSET 5 HOUR 50 MINUTE TO db1.nuw_users_pd_rep_mobile_total AS\n",
    "        SELECT\n",
    "        report_date,\n",
    "        partner_uuid,\n",
    "        city,\n",
    "        COUNT(DISTINCT if(report_date = toDateOrNull(c.`created_at`), r.citizen_id, NULL)) AS `nuw_created_account_day`,\n",
    "        COUNT(DISTINCT if(report_date = r.`activated_at`, r.citizen_id, NULL)) AS `nuw_activated_accoun_day`\n",
    "    FROM db1.rep_mobile_citizens_id_city_partner r\n",
    "    LEFT JOIN db1.`citizens_dir_mobile_ch` AS c ON c.`citizen_id`  = r.`citizen_id`\n",
    "    GROUP BY report_date,\n",
    "            partner_uuid,\n",
    "            city\n",
    "    \"\"\"\n",
    "\n",
    "ch.query_run(query_text)"
   ]
  },
  {
   "cell_type": "markdown",
   "id": "5b8a8978",
   "metadata": {},
   "source": [
    "___\n",
    "## Tools\n",
    "___\n",
    "### query\n"
   ]
  },
  {
   "cell_type": "code",
   "execution_count": 36,
   "id": "746f5141",
   "metadata": {
    "lines_to_next_cell": 2
   },
   "outputs": [
    {
     "data": {
      "text/html": [
       "<div><style>\n",
       ".dataframe > thead > tr,\n",
       ".dataframe > tbody > tr {\n",
       "  text-align: right;\n",
       "  white-space: pre-wrap;\n",
       "}\n",
       "</style>\n",
       "<small>shape: (100, 5)</small><table border=\"1\" class=\"dataframe\"><thead><tr><th>report_date</th><th>partner_uuid</th><th>city</th><th>nuw_created_account_day</th><th>nuw_activated_accoun_day</th></tr><tr><td>date</td><td>str</td><td>str</td><td>i64</td><td>i64</td></tr></thead><tbody><tr><td>2024-04-24</td><td>&quot;&quot;</td><td>&quot;Киров&quot;</td><td>2</td><td>0</td></tr><tr><td>2025-04-24</td><td>&quot;&quot;</td><td>&quot;&quot;</td><td>366</td><td>23</td></tr><tr><td>2024-01-08</td><td>&quot;&quot;</td><td>&quot;Симферополь&quot;</td><td>1</td><td>0</td></tr><tr><td>2025-03-04</td><td>&quot;&quot;</td><td>&quot;&quot;</td><td>378</td><td>29</td></tr><tr><td>2025-07-11</td><td>&quot;&quot;</td><td>&quot;Димитровград&quot;</td><td>6</td><td>7</td></tr><tr><td>&hellip;</td><td>&hellip;</td><td>&hellip;</td><td>&hellip;</td><td>&hellip;</td></tr><tr><td>2023-07-27</td><td>&quot;&quot;</td><td>&quot;Альметьевск&quot;</td><td>4</td><td>5</td></tr><tr><td>2023-07-26</td><td>&quot;&quot;</td><td>&quot;Нижнекамск&quot;</td><td>3</td><td>1</td></tr><tr><td>2024-12-06</td><td>&quot;&quot;</td><td>&quot;Котлас&quot;</td><td>1</td><td>0</td></tr><tr><td>2023-10-12</td><td>&quot;&quot;</td><td>&quot;Симферополь&quot;</td><td>4</td><td>0</td></tr><tr><td>2023-09-05</td><td>&quot;&quot;</td><td>&quot;Краснодар&quot;</td><td>2</td><td>0</td></tr></tbody></table></div>"
      ],
      "text/plain": [
       "shape: (100, 5)\n",
       "┌─────────────┬──────────────┬──────────────┬─────────────────────────┬──────────────────────────┐\n",
       "│ report_date ┆ partner_uuid ┆ city         ┆ nuw_created_account_day ┆ nuw_activated_accoun_day │\n",
       "│ ---         ┆ ---          ┆ ---          ┆ ---                     ┆ ---                      │\n",
       "│ date        ┆ str          ┆ str          ┆ i64                     ┆ i64                      │\n",
       "╞═════════════╪══════════════╪══════════════╪═════════════════════════╪══════════════════════════╡\n",
       "│ 2024-04-24  ┆              ┆ Киров        ┆ 2                       ┆ 0                        │\n",
       "│ 2025-04-24  ┆              ┆              ┆ 366                     ┆ 23                       │\n",
       "│ 2024-01-08  ┆              ┆ Симферополь  ┆ 1                       ┆ 0                        │\n",
       "│ 2025-03-04  ┆              ┆              ┆ 378                     ┆ 29                       │\n",
       "│ 2025-07-11  ┆              ┆ Димитровград ┆ 6                       ┆ 7                        │\n",
       "│ …           ┆ …            ┆ …            ┆ …                       ┆ …                        │\n",
       "│ 2023-07-27  ┆              ┆ Альметьевск  ┆ 4                       ┆ 5                        │\n",
       "│ 2023-07-26  ┆              ┆ Нижнекамск   ┆ 3                       ┆ 1                        │\n",
       "│ 2024-12-06  ┆              ┆ Котлас       ┆ 1                       ┆ 0                        │\n",
       "│ 2023-10-12  ┆              ┆ Симферополь  ┆ 4                       ┆ 0                        │\n",
       "│ 2023-09-05  ┆              ┆ Краснодар    ┆ 2                       ┆ 0                        │\n",
       "└─────────────┴──────────────┴──────────────┴─────────────────────────┴──────────────────────────┘"
      ]
     },
     "execution_count": 36,
     "metadata": {},
     "output_type": "execute_result"
    }
   ],
   "source": [
    "query_text = \"\"\"--sql\n",
    "    SELECT\n",
    "        *\n",
    "    FROM db1.nuw_users_pd_rep_mobile_total\n",
    "    WHERE nuw_created_account_day != 0\n",
    "    limit 100\n",
    "    \"\"\"\n",
    "\n",
    "ch.query_run(query_text)"
   ]
  },
  {
   "cell_type": "markdown",
   "id": "9914242d",
   "metadata": {},
   "source": [
    "### delete a part\n"
   ]
  },
  {
   "cell_type": "code",
   "execution_count": null,
   "id": "6e286891",
   "metadata": {
    "lines_to_next_cell": 2
   },
   "outputs": [],
   "source": [
    "query_text = \"\"\"--sql\n",
    "    ALTER TABLE db1.nuw_users_pd_rep_mobile_total DELETE WHERE report_date = '2025-07-17'\n",
    "    \"\"\"\n",
    "\n",
    "ch.query_run(query_text)"
   ]
  },
  {
   "cell_type": "markdown",
   "id": "aa38db5e",
   "metadata": {},
   "source": [
    "### drop mv"
   ]
  },
  {
   "cell_type": "code",
   "execution_count": null,
   "id": "f96eef6a",
   "metadata": {},
   "outputs": [
    {
     "data": {
      "text/html": [
       "<div><style>\n",
       ".dataframe > thead > tr,\n",
       ".dataframe > tbody > tr {\n",
       "  text-align: right;\n",
       "  white-space: pre-wrap;\n",
       "}\n",
       "</style>\n",
       "<small>shape: (0, 0)</small><table border=\"1\" class=\"dataframe\"><thead><tr></tr><tr></tr></thead><tbody></tbody></table></div>"
      ],
      "text/plain": [
       "shape: (0, 0)\n",
       "┌┐\n",
       "╞╡\n",
       "└┘"
      ]
     },
     "execution_count": 8,
     "metadata": {},
     "output_type": "execute_result"
    }
   ],
   "source": [
    "query_text = \"\"\"--sql\n",
    "    DROP TABLE db1.nuw_users_pd_rep_mobile_total_mv\n",
    "    \"\"\"\n",
    "\n",
    "ch.query_run(query_text)"
   ]
  },
  {
   "cell_type": "markdown",
   "id": "595f05db",
   "metadata": {},
   "source": [
    "### drop ch"
   ]
  },
  {
   "cell_type": "code",
   "execution_count": null,
   "id": "f2291bd5",
   "metadata": {},
   "outputs": [
    {
     "data": {
      "text/html": [
       "<div><style>\n",
       ".dataframe > thead > tr,\n",
       ".dataframe > tbody > tr {\n",
       "  text-align: right;\n",
       "  white-space: pre-wrap;\n",
       "}\n",
       "</style>\n",
       "<small>shape: (0, 0)</small><table border=\"1\" class=\"dataframe\"><thead><tr></tr><tr></tr></thead><tbody></tbody></table></div>"
      ],
      "text/plain": [
       "shape: (0, 0)\n",
       "┌┐\n",
       "╞╡\n",
       "└┘"
      ]
     },
     "execution_count": 9,
     "metadata": {},
     "output_type": "execute_result"
    }
   ],
   "source": [
    "query_text = \"\"\"--sql\n",
    "    DROP TABLE db1.nuw_users_pd_rep_mobile_total\n",
    "    \"\"\"\n",
    "\n",
    "ch.query_run(query_text)"
   ]
  },
  {
   "cell_type": "markdown",
   "id": "2e8ca8eb",
   "metadata": {},
   "source": [
    "### refresh mv"
   ]
  },
  {
   "cell_type": "code",
   "execution_count": null,
   "id": "79b24a2b",
   "metadata": {},
   "outputs": [],
   "source": [
    "query_text = \"\"\"\n",
    "SYSTEM REFRESH VIEW db1.nuw_users_pd_rep_mobile_total_mv\n",
    "\"\"\"\n",
    "\n",
    "ch.query_run(query_text)"
   ]
  }
 ],
 "metadata": {
  "jupytext": {
   "formats": "ipynb,md"
  },
  "kernelspec": {
   "display_name": "myenv",
   "language": "python",
   "name": "python3"
  },
  "language_info": {
   "codemirror_mode": {
    "name": "ipython",
    "version": 3
   },
   "file_extension": ".py",
   "mimetype": "text/x-python",
   "name": "python",
   "nbconvert_exporter": "python",
   "pygments_lexer": "ipython3",
   "version": "3.12.11"
  }
 },
 "nbformat": 4,
 "nbformat_minor": 5
}

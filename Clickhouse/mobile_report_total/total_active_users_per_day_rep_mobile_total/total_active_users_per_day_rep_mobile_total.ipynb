{
 "cells": [
  {
   "cell_type": "markdown",
   "id": "3f4aac90",
   "metadata": {},
   "source": [
    "## Start"
   ]
  },
  {
   "cell_type": "code",
   "execution_count": 1,
   "id": "06893661",
   "metadata": {},
   "outputs": [],
   "source": [
    "import clickhouse_connect\n",
    "import datetime\n",
    "import os\n",
    "import pytz\n",
    "import pandas as pd\n",
    "from dateutil.relativedelta import relativedelta\n",
    "from dotenv import load_dotenv\n",
    "\n",
    "import sys\n",
    "sys.path.append('/home/boris/Documents/Work/analytics/Clickhouse')\n",
    "from clickhouse_client import ClickHouse_client\n",
    "ch = ClickHouse_client()\n",
    "pd.set_option('display.max_rows', 1000)"
   ]
  },
  {
   "cell_type": "markdown",
   "id": "b952df27",
   "metadata": {},
   "source": [
    "___\n",
    "### Tags: #Mobile_Report\n",
    "\n",
    "### Links:  \n",
    "\n",
    "[[total_active_users_per_day_full_table]]\n",
    "\n",
    "### Table"
   ]
  },
  {
   "cell_type": "code",
   "execution_count": 5,
   "id": "8daea691",
   "metadata": {},
   "outputs": [
    {
     "data": {
      "text/html": [
       "<div><style>\n",
       ".dataframe > thead > tr,\n",
       ".dataframe > tbody > tr {\n",
       "  text-align: right;\n",
       "  white-space: pre-wrap;\n",
       "}\n",
       "</style>\n",
       "<small>shape: (0, 0)</small><table border=\"1\" class=\"dataframe\"><thead><tr></tr><tr></tr></thead><tbody></tbody></table></div>"
      ],
      "text/plain": [
       "shape: (0, 0)\n",
       "┌┐\n",
       "╞╡\n",
       "└┘"
      ]
     },
     "execution_count": 5,
     "metadata": {},
     "output_type": "execute_result"
    }
   ],
   "source": [
    "query_text = \"\"\"--sql\n",
    "CREATE TABLE db1.total_active_users_per_day_rep_mobile_total\n",
    "(\n",
    "    `report_date` Date,\n",
    "    `partner_uuid` String,\n",
    "    `city` String,\n",
    "    `total_active_users_per_day` Int32,\n",
    "    `total_active_user_monetization_per_day` Int32,\n",
    "    `total_active_user_subscribed_monetization_per_day` Int32\n",
    ")\n",
    "ENGINE = MergeTree()\n",
    "ORDER BY partner_uuid\n",
    "\"\"\"\n",
    "\n",
    "ch.query_run(query_text)"
   ]
  },
  {
   "cell_type": "code",
   "execution_count": 6,
   "id": "5c727af5",
   "metadata": {},
   "outputs": [
    {
     "data": {
      "text/html": [
       "<div><style>\n",
       ".dataframe > thead > tr,\n",
       ".dataframe > tbody > tr {\n",
       "  text-align: right;\n",
       "  white-space: pre-wrap;\n",
       "}\n",
       "</style>\n",
       "<small>shape: (0, 0)</small><table border=\"1\" class=\"dataframe\"><thead><tr></tr><tr></tr></thead><tbody></tbody></table></div>"
      ],
      "text/plain": [
       "shape: (0, 0)\n",
       "┌┐\n",
       "╞╡\n",
       "└┘"
      ]
     },
     "execution_count": 6,
     "metadata": {},
     "output_type": "execute_result"
    }
   ],
   "source": [
    "query_text = \"\"\"--sql\n",
    "    CREATE MATERIALIZED VIEW db1.total_active_users_per_day_rep_mobile_total_mv\n",
    "    REFRESH EVERY 1 DAY OFFSET 6 HOUR 5 MINUTE TO db1.total_active_users_per_day_rep_mobile_total AS\n",
    "    SELECT\n",
    "        report_date,\n",
    "        partner_uuid,\n",
    "        city,\n",
    "        round(avg(citizen_id_count) OVER (PARTITION BY partner_uuid, city, toStartOfMonth(report_date)\n",
    "            ORDER BY report_date\n",
    "            ROWS BETWEEN UNBOUNDED PRECEDING AND CURRENT ROW\n",
    "        )) AS total_active_users_per_day,\n",
    "        round(avg(total_active_user_monetization) OVER (PARTITION BY partner_uuid, city, toStartOfMonth(report_date)\n",
    "            ORDER BY report_date\n",
    "            ROWS BETWEEN UNBOUNDED PRECEDING AND CURRENT ROW\n",
    "        )) AS total_active_user_monetization_per_day,\n",
    "        round(avg(total_active_user_subscribed_monetization) OVER (PARTITION BY partner_uuid, city, toStartOfMonth(report_date)\n",
    "            ORDER BY report_date\n",
    "            ROWS BETWEEN UNBOUNDED PRECEDING AND CURRENT ROW\n",
    "        )) AS total_active_user_subscribed_monetization_per_day\n",
    "    FROM\n",
    "        (SELECT\n",
    "            report_date,\n",
    "            partner_uuid,\n",
    "            city,\n",
    "            count(citizen_id) as citizen_id_count,\n",
    "            count(if(monetization = 1,citizen_id,null)) as total_active_user_monetization,\n",
    "            count(if(monetization = 1 and subscriptions_state = 'activated',citizen_id,null)) as total_active_user_subscribed_monetization\n",
    "        FROM db1.total_active_users_per_day_full_table\n",
    "        GROUP BY report_date,\n",
    "                partner_uuid,\n",
    "                city\n",
    "        )\n",
    "    \"\"\"\n",
    "ch.query_run(query_text)"
   ]
  },
  {
   "cell_type": "markdown",
   "id": "9ea41142",
   "metadata": {},
   "source": [
    "___\n",
    "## Tools\n",
    "___\n",
    "### query\n"
   ]
  },
  {
   "cell_type": "code",
   "execution_count": 7,
   "id": "c8615bc8",
   "metadata": {},
   "outputs": [
    {
     "data": {
      "text/html": [
       "<div><style>\n",
       ".dataframe > thead > tr,\n",
       ".dataframe > tbody > tr {\n",
       "  text-align: right;\n",
       "  white-space: pre-wrap;\n",
       "}\n",
       "</style>\n",
       "<small>shape: (54, 6)</small><table border=\"1\" class=\"dataframe\"><thead><tr><th>report_date</th><th>partner_uuid</th><th>city</th><th>total_active_users_per_day</th><th>total_active_user_monetization_per_day</th><th>total_active_user_subscribed_monetization_per_day</th></tr><tr><td>date</td><td>str</td><td>str</td><td>i64</td><td>i64</td><td>i64</td></tr></thead><tbody><tr><td>2024-08-27</td><td>&quot;b1782e4f-9198-49d1-b5aa-7bdba9…</td><td>&quot;Казань&quot;</td><td>2</td><td>0</td><td>0</td></tr><tr><td>2024-08-20</td><td>&quot;b1782e4f-9198-49d1-b5aa-7bdba9…</td><td>&quot;Казань&quot;</td><td>2</td><td>0</td><td>0</td></tr><tr><td>2024-08-19</td><td>&quot;b1782e4f-9198-49d1-b5aa-7bdba9…</td><td>&quot;Казань&quot;</td><td>2</td><td>0</td><td>0</td></tr><tr><td>2024-07-29</td><td>&quot;b1782e4f-9198-49d1-b5aa-7bdba9…</td><td>&quot;Казань&quot;</td><td>2</td><td>0</td><td>0</td></tr><tr><td>2024-07-28</td><td>&quot;b1782e4f-9198-49d1-b5aa-7bdba9…</td><td>&quot;Казань&quot;</td><td>2</td><td>0</td><td>0</td></tr><tr><td>&hellip;</td><td>&hellip;</td><td>&hellip;</td><td>&hellip;</td><td>&hellip;</td><td>&hellip;</td></tr><tr><td>2023-08-16</td><td>&quot;b1782e4f-9198-49d1-b5aa-7bdba9…</td><td>&quot;Казань&quot;</td><td>1</td><td>1</td><td>0</td></tr><tr><td>2023-08-12</td><td>&quot;b1782e4f-9198-49d1-b5aa-7bdba9…</td><td>&quot;Казань&quot;</td><td>1</td><td>1</td><td>0</td></tr><tr><td>2023-08-01</td><td>&quot;b1782e4f-9198-49d1-b5aa-7bdba9…</td><td>&quot;Казань&quot;</td><td>1</td><td>1</td><td>0</td></tr><tr><td>2023-07-31</td><td>&quot;&quot;</td><td>&quot;Казань&quot;</td><td>2</td><td>0</td><td>0</td></tr><tr><td>2023-07-26</td><td>&quot;&quot;</td><td>&quot;Казань&quot;</td><td>1</td><td>0</td><td>0</td></tr></tbody></table></div>"
      ],
      "text/plain": [
       "shape: (54, 6)\n",
       "┌─────────────┬──────────────────┬────────┬──────────────────┬──────────────────┬──────────────────┐\n",
       "│ report_date ┆ partner_uuid     ┆ city   ┆ total_active_use ┆ total_active_use ┆ total_active_use │\n",
       "│ ---         ┆ ---              ┆ ---    ┆ rs_per_day       ┆ r_monetization…  ┆ r_subscribed_m…  │\n",
       "│ date        ┆ str              ┆ str    ┆ ---              ┆ ---              ┆ ---              │\n",
       "│             ┆                  ┆        ┆ i64              ┆ i64              ┆ i64              │\n",
       "╞═════════════╪══════════════════╪════════╪══════════════════╪══════════════════╪══════════════════╡\n",
       "│ 2024-08-27  ┆ b1782e4f-9198-49 ┆ Казань ┆ 2                ┆ 0                ┆ 0                │\n",
       "│             ┆ d1-b5aa-7bdba9…  ┆        ┆                  ┆                  ┆                  │\n",
       "│ 2024-08-20  ┆ b1782e4f-9198-49 ┆ Казань ┆ 2                ┆ 0                ┆ 0                │\n",
       "│             ┆ d1-b5aa-7bdba9…  ┆        ┆                  ┆                  ┆                  │\n",
       "│ 2024-08-19  ┆ b1782e4f-9198-49 ┆ Казань ┆ 2                ┆ 0                ┆ 0                │\n",
       "│             ┆ d1-b5aa-7bdba9…  ┆        ┆                  ┆                  ┆                  │\n",
       "│ 2024-07-29  ┆ b1782e4f-9198-49 ┆ Казань ┆ 2                ┆ 0                ┆ 0                │\n",
       "│             ┆ d1-b5aa-7bdba9…  ┆        ┆                  ┆                  ┆                  │\n",
       "│ 2024-07-28  ┆ b1782e4f-9198-49 ┆ Казань ┆ 2                ┆ 0                ┆ 0                │\n",
       "│             ┆ d1-b5aa-7bdba9…  ┆        ┆                  ┆                  ┆                  │\n",
       "│ …           ┆ …                ┆ …      ┆ …                ┆ …                ┆ …                │\n",
       "│ 2023-08-16  ┆ b1782e4f-9198-49 ┆ Казань ┆ 1                ┆ 1                ┆ 0                │\n",
       "│             ┆ d1-b5aa-7bdba9…  ┆        ┆                  ┆                  ┆                  │\n",
       "│ 2023-08-12  ┆ b1782e4f-9198-49 ┆ Казань ┆ 1                ┆ 1                ┆ 0                │\n",
       "│             ┆ d1-b5aa-7bdba9…  ┆        ┆                  ┆                  ┆                  │\n",
       "│ 2023-08-01  ┆ b1782e4f-9198-49 ┆ Казань ┆ 1                ┆ 1                ┆ 0                │\n",
       "│             ┆ d1-b5aa-7bdba9…  ┆        ┆                  ┆                  ┆                  │\n",
       "│ 2023-07-31  ┆                  ┆ Казань ┆ 2                ┆ 0                ┆ 0                │\n",
       "│ 2023-07-26  ┆                  ┆ Казань ┆ 1                ┆ 0                ┆ 0                │\n",
       "└─────────────┴──────────────────┴────────┴──────────────────┴──────────────────┴──────────────────┘"
      ]
     },
     "execution_count": 7,
     "metadata": {},
     "output_type": "execute_result"
    }
   ],
   "source": [
    "query_text = \"\"\"--sql\n",
    "    SELECT\n",
    "        *\n",
    "    FROM db1.total_active_users_per_day_rep_mobile_total\n",
    "    WHERE city !=''\n",
    "    ORDER BY report_date DESC\n",
    "    limit 100\n",
    "    \"\"\"\n",
    "\n",
    "ch.query_run(query_text)"
   ]
  },
  {
   "cell_type": "markdown",
   "id": "6ebbbbe6",
   "metadata": {},
   "source": [
    "### delete a part\n"
   ]
  },
  {
   "cell_type": "code",
   "execution_count": null,
   "id": "c18226fb",
   "metadata": {},
   "outputs": [],
   "source": [
    "query_text = \"\"\"--sql\n",
    "    ALTER TABLE db1.total_activated_account_rep_mobile_full DELETE WHERE report_date = '2025-07-17'\n",
    "    \"\"\"\n",
    "\n",
    "ch.query_run(query_text)"
   ]
  },
  {
   "cell_type": "markdown",
   "id": "423d398f",
   "metadata": {},
   "source": [
    "### drop mv"
   ]
  },
  {
   "cell_type": "code",
   "execution_count": 3,
   "id": "ad1dbc9c",
   "metadata": {},
   "outputs": [
    {
     "data": {
      "text/html": [
       "<div><style>\n",
       ".dataframe > thead > tr,\n",
       ".dataframe > tbody > tr {\n",
       "  text-align: right;\n",
       "  white-space: pre-wrap;\n",
       "}\n",
       "</style>\n",
       "<small>shape: (0, 0)</small><table border=\"1\" class=\"dataframe\"><thead><tr></tr><tr></tr></thead><tbody></tbody></table></div>"
      ],
      "text/plain": [
       "shape: (0, 0)\n",
       "┌┐\n",
       "╞╡\n",
       "└┘"
      ]
     },
     "execution_count": 3,
     "metadata": {},
     "output_type": "execute_result"
    }
   ],
   "source": [
    "query_text = \"\"\"--sql\n",
    "    DROP TABLE db1.total_active_users_per_day_rep_mobile_total_mv\n",
    "    \"\"\"\n",
    "\n",
    "ch.query_run(query_text)"
   ]
  },
  {
   "cell_type": "markdown",
   "id": "8dfff8ea",
   "metadata": {},
   "source": [
    "### drop ch"
   ]
  },
  {
   "cell_type": "code",
   "execution_count": 4,
   "id": "d43dff75",
   "metadata": {},
   "outputs": [
    {
     "data": {
      "text/html": [
       "<div><style>\n",
       ".dataframe > thead > tr,\n",
       ".dataframe > tbody > tr {\n",
       "  text-align: right;\n",
       "  white-space: pre-wrap;\n",
       "}\n",
       "</style>\n",
       "<small>shape: (0, 0)</small><table border=\"1\" class=\"dataframe\"><thead><tr></tr><tr></tr></thead><tbody></tbody></table></div>"
      ],
      "text/plain": [
       "shape: (0, 0)\n",
       "┌┐\n",
       "╞╡\n",
       "└┘"
      ]
     },
     "execution_count": 4,
     "metadata": {},
     "output_type": "execute_result"
    }
   ],
   "source": [
    "query_text = \"\"\"--sql\n",
    "    DROP TABLE db1.total_active_users_per_day_rep_mobile_total\n",
    "    \"\"\"\n",
    "\n",
    "ch.query_run(query_text)"
   ]
  },
  {
   "cell_type": "markdown",
   "id": "142d02cd",
   "metadata": {},
   "source": [
    "### refresh mv"
   ]
  },
  {
   "cell_type": "code",
   "execution_count": null,
   "id": "a51aaf2a",
   "metadata": {},
   "outputs": [],
   "source": [
    "query_text = \"\"\"\n",
    "SYSTEM REFRESH VIEW db1.total_activated_account_rep_mobile_full_mv\n",
    "\"\"\"\n",
    "\n",
    "ch.query_run(query_text)"
   ]
  }
 ],
 "metadata": {
  "jupytext": {
   "formats": "ipynb,md"
  },
  "kernelspec": {
   "display_name": "myenv",
   "language": "python",
   "name": "python3"
  },
  "language_info": {
   "codemirror_mode": {
    "name": "ipython",
    "version": 3
   },
   "file_extension": ".py",
   "mimetype": "text/x-python",
   "name": "python",
   "nbconvert_exporter": "python",
   "pygments_lexer": "ipython3",
   "version": "3.12.11"
  }
 },
 "nbformat": 4,
 "nbformat_minor": 5
}

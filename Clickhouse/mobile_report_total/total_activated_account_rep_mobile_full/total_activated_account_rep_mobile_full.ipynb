{
 "cells": [
  {
   "cell_type": "markdown",
   "id": "d1e6cfcb",
   "metadata": {},
   "source": [
    "## Start"
   ]
  },
  {
   "cell_type": "code",
   "execution_count": 2,
   "id": "36e1e1af",
   "metadata": {},
   "outputs": [],
   "source": [
    "import clickhouse_connect\n",
    "import datetime\n",
    "import os\n",
    "import pytz\n",
    "import pandas as pd\n",
    "from dateutil.relativedelta import relativedelta\n",
    "from dotenv import load_dotenv\n",
    "\n",
    "import sys\n",
    "sys.path.append('/home/boris/Documents/Work/analytics/Clickhouse')\n",
    "from clickhouse_client import ClickHouse_client\n",
    "ch = ClickHouse_client()\n",
    "pd.set_option('display.max_rows', 1000)"
   ]
  },
  {
   "cell_type": "markdown",
   "id": "f1f185b2",
   "metadata": {},
   "source": [
    "___\n",
    "### Tags: #Mobile_Report\n",
    "\n",
    "### Links:  \n",
    "\n",
    "[[rep_mobile_citizens_id_city_partner]]\n",
    "\n",
    "[[citizens_dir_mobile]]\n",
    "\n",
    "[[entries_st_mobile]]\n",
    "\n",
    "### Table"
   ]
  },
  {
   "cell_type": "code",
   "execution_count": 4,
   "id": "4e809632",
   "metadata": {},
   "outputs": [
    {
     "data": {
      "text/html": [
       "<div><style>\n",
       ".dataframe > thead > tr,\n",
       ".dataframe > tbody > tr {\n",
       "  text-align: right;\n",
       "  white-space: pre-wrap;\n",
       "}\n",
       "</style>\n",
       "<small>shape: (0, 0)</small><table border=\"1\" class=\"dataframe\"><thead><tr></tr><tr></tr></thead><tbody></tbody></table></div>"
      ],
      "text/plain": [
       "shape: (0, 0)\n",
       "┌┐\n",
       "╞╡\n",
       "└┘"
      ]
     },
     "execution_count": 4,
     "metadata": {},
     "output_type": "execute_result"
    }
   ],
   "source": [
    "query_text = \"\"\"--sql\n",
    "CREATE TABLE db1.total_activated_account_rep_mobile_full\n",
    "(\n",
    "    `report_date` Date,\n",
    "    `partner_uuid` String,\n",
    "    `city` String,\n",
    "    `total_activated_account` UInt64,\n",
    "    `total_activated_account_monetization` UInt64,\n",
    "    `total_activated_account_ble_available_monetization` UInt64,\n",
    "    `total_activated_account_ble_available` UInt64\n",
    ")\n",
    "ENGINE = MergeTree()\n",
    "ORDER BY partner_uuid\n",
    "\"\"\"\n",
    "\n",
    "ch.query_run(query_text)"
   ]
  },
  {
   "cell_type": "code",
   "execution_count": 5,
   "id": "f98e7b77",
   "metadata": {},
   "outputs": [
    {
     "data": {
      "text/html": [
       "<div><style>\n",
       ".dataframe > thead > tr,\n",
       ".dataframe > tbody > tr {\n",
       "  text-align: right;\n",
       "  white-space: pre-wrap;\n",
       "}\n",
       "</style>\n",
       "<small>shape: (0, 0)</small><table border=\"1\" class=\"dataframe\"><thead><tr></tr><tr></tr></thead><tbody></tbody></table></div>"
      ],
      "text/plain": [
       "shape: (0, 0)\n",
       "┌┐\n",
       "╞╡\n",
       "└┘"
      ]
     },
     "execution_count": 5,
     "metadata": {},
     "output_type": "execute_result"
    }
   ],
   "source": [
    "query_text = \"\"\"--sql\n",
    "    CREATE MATERIALIZED VIEW db1.total_activated_account_rep_mobile_full_mv\n",
    "    REFRESH EVERY 1 DAY OFFSET 6 HOUR 0 MINUTE TO db1.total_activated_account_rep_mobile_full AS\n",
    "    SELECT\n",
    "        rep_m.`report_date` AS report_date,\n",
    "        rep_mobile_citizens_id_city_partner.partner_uuid AS partner_uuid,\n",
    "        city,\n",
    "        COUNT(DISTINCT rep_m.citizen_id) as total_activated_account,\n",
    "        COUNT(DISTINCT IF(rep_m.monetization=1, rep_m.citizen_id, NULL)) as total_activated_account_monetization,\n",
    "        COUNT(DISTINCT IF(rep_m.monetization=1 and ble_available = 'true', rep_m.citizen_id,NULL)) as total_activated_account_ble_available_monetization,\n",
    "        COUNT(DISTINCT IF(ble_available = 'true', rep_m.citizen_id, NULL)) as total_activated_account_ble_available\n",
    "    FROM db1.rep_mobile_citizens_id_city_partner AS rep_m\n",
    "    LEFT JOIN db1.entries_st_mobile AS ent_st \n",
    "        ON ent_st.report_date = rep_m.report_date\n",
    "        AND ent_st.address_uuid = rep_m.address_uuid\n",
    "    LEFT JOIN db1.`citizens_dir_mobile` AS cit_dir \n",
    "        ON cit_dir.`citizen_id` = rep_m.`citizen_id`\n",
    "    WHERE \n",
    "        toDateOrNull(cit_dir.`created_at`) < rep_m.`report_date`\n",
    "        AND state = 'activated'\n",
    "    GROUP BY \n",
    "        report_date,\n",
    "        partner_uuid,\n",
    "        city\n",
    "    \"\"\"\n",
    "ch.query_run(query_text)"
   ]
  },
  {
   "cell_type": "markdown",
   "id": "30baecef",
   "metadata": {},
   "source": [
    "___\n",
    "## Tools\n",
    "___\n",
    "### query\n"
   ]
  },
  {
   "cell_type": "code",
   "execution_count": null,
   "id": "12fb928e",
   "metadata": {},
   "outputs": [
    {
     "data": {
      "text/html": [
       "<div><style>\n",
       ".dataframe > thead > tr,\n",
       ".dataframe > tbody > tr {\n",
       "  text-align: right;\n",
       "  white-space: pre-wrap;\n",
       "}\n",
       "</style>\n",
       "<small>shape: (2, 37)</small><table border=\"1\" class=\"dataframe\"><thead><tr><th>report_date</th><th>partner_uuid</th><th>city</th><th>paying_users</th><th>paying_users_standart</th><th>paying_users_standart_yakassa</th><th>paying_users_partner_pro</th><th>paying_users_standart_appstore</th><th>paying_users_standart_ios_from_cart</th><th>paying_users_day</th><th>paying_new_users_in_last_28_days</th><th>failed_subscript_last_28_days</th><th>stoped_subscript_last_28_days</th><th>renewed_subscriptions_last_28_days</th><th>android_sub</th><th>android_sub_first_new</th><th>android_sub_extended_new</th><th>renew_stopped_at_android</th><th>renew_failed_at_android</th><th>android_sub_from_cart</th><th>android_sub_first_new_cart</th><th>android_sub_extended_new_cart</th><th>renew_stopped_at_android_cart</th><th>renew_failed_at_andeoid_cart</th><th>ios_sub</th><th>ios_sub_first_new</th><th>ios_sub_extended_new</th><th>renew_stopped_at_ios</th><th>renew_failed_at_ios</th><th>ios_sub_from_cart</th><th>ios_sub_first_new_cart</th><th>ios_sub_first_new_cart_transition</th><th>ios_sub_extended_new_cart</th><th>renew_stopped_at_ios_cart</th><th>renew_failed_at_ios_cart</th><th>renew_failed_at_c</th><th>renew_stopped_at_c</th></tr><tr><td>date</td><td>str</td><td>str</td><td>i64</td><td>i64</td><td>i64</td><td>i64</td><td>i64</td><td>i64</td><td>i64</td><td>i64</td><td>i64</td><td>i64</td><td>i64</td><td>i64</td><td>i64</td><td>i64</td><td>i64</td><td>i64</td><td>i64</td><td>i64</td><td>i64</td><td>i64</td><td>i64</td><td>i64</td><td>i64</td><td>i64</td><td>i64</td><td>i64</td><td>i64</td><td>i64</td><td>i64</td><td>i64</td><td>i64</td><td>i64</td><td>i64</td><td>i64</td></tr></thead><tbody><tr><td>2023-09-17</td><td>&quot;&quot;</td><td>&quot;Новокузнецк&quot;</td><td>3</td><td>3</td><td>3</td><td>0</td><td>0</td><td>0</td><td>0</td><td>1</td><td>1</td><td>1</td><td>0</td><td>0</td><td>0</td><td>0</td><td>0</td><td>0</td><td>0</td><td>0</td><td>0</td><td>0</td><td>0</td><td>0</td><td>0</td><td>0</td><td>0</td><td>0</td><td>0</td><td>0</td><td>0</td><td>0</td><td>0</td><td>0</td><td>0</td><td>0</td></tr><tr><td>2024-07-07</td><td>&quot;&quot;</td><td>&quot;Ростов-на-Дону&quot;</td><td>13</td><td>12</td><td>5</td><td>0</td><td>5</td><td>3</td><td>0</td><td>4</td><td>4</td><td>4</td><td>9</td><td>0</td><td>0</td><td>0</td><td>0</td><td>0</td><td>0</td><td>0</td><td>0</td><td>0</td><td>0</td><td>0</td><td>0</td><td>0</td><td>0</td><td>0</td><td>0</td><td>0</td><td>0</td><td>0</td><td>0</td><td>0</td><td>0</td><td>0</td></tr></tbody></table></div>"
      ],
      "text/plain": [
       "shape: (2, 37)\n",
       "┌───────────┬───────────┬───────────┬───────────┬───┬───────────┬───────────┬───────────┬──────────┐\n",
       "│ report_da ┆ partner_u ┆ city      ┆ paying_us ┆ … ┆ renew_sto ┆ renew_fai ┆ renew_fai ┆ renew_st │\n",
       "│ te        ┆ uid       ┆ ---       ┆ ers       ┆   ┆ pped_at_i ┆ led_at_io ┆ led_at_c  ┆ opped_at │\n",
       "│ ---       ┆ ---       ┆ str       ┆ ---       ┆   ┆ os_cart   ┆ s_cart    ┆ ---       ┆ _c       │\n",
       "│ date      ┆ str       ┆           ┆ i64       ┆   ┆ ---       ┆ ---       ┆ i64       ┆ ---      │\n",
       "│           ┆           ┆           ┆           ┆   ┆ i64       ┆ i64       ┆           ┆ i64      │\n",
       "╞═══════════╪═══════════╪═══════════╪═══════════╪═══╪═══════════╪═══════════╪═══════════╪══════════╡\n",
       "│ 2023-09-1 ┆           ┆ Новокузне ┆ 3         ┆ … ┆ 0         ┆ 0         ┆ 0         ┆ 0        │\n",
       "│ 7         ┆           ┆ цк        ┆           ┆   ┆           ┆           ┆           ┆          │\n",
       "│ 2024-07-0 ┆           ┆ Ростов-на ┆ 13        ┆ … ┆ 0         ┆ 0         ┆ 0         ┆ 0        │\n",
       "│ 7         ┆           ┆ -Дону     ┆           ┆   ┆           ┆           ┆           ┆          │\n",
       "└───────────┴───────────┴───────────┴───────────┴───┴───────────┴───────────┴───────────┴──────────┘"
      ]
     },
     "metadata": {},
     "output_type": "display_data"
    }
   ],
   "source": [
    "query_text = \"\"\"--sql\n",
    "    SELECT\n",
    "        *\n",
    "    FROM db1.total_activated_account_rep_mobile_full\n",
    "    limit 2\n",
    "    \"\"\"\n",
    "\n",
    "ch.query_run(query_text)"
   ]
  },
  {
   "cell_type": "markdown",
   "id": "c18a8b33",
   "metadata": {},
   "source": [
    "### delete a part\n"
   ]
  },
  {
   "cell_type": "code",
   "execution_count": null,
   "id": "f74afa60",
   "metadata": {},
   "outputs": [],
   "source": [
    "query_text = \"\"\"--sql\n",
    "    ALTER TABLE db1.total_activated_account_rep_mobile_full DELETE WHERE report_date = '2025-07-17'\n",
    "    \"\"\"\n",
    "\n",
    "ch.query_run(query_text)"
   ]
  },
  {
   "cell_type": "markdown",
   "id": "bbf804be",
   "metadata": {},
   "source": [
    "### drop mv"
   ]
  },
  {
   "cell_type": "code",
   "execution_count": null,
   "id": "eef74c7c",
   "metadata": {},
   "outputs": [
    {
     "data": {
      "text/html": [
       "<div><style>\n",
       ".dataframe > thead > tr,\n",
       ".dataframe > tbody > tr {\n",
       "  text-align: right;\n",
       "  white-space: pre-wrap;\n",
       "}\n",
       "</style>\n",
       "<small>shape: (0, 0)</small><table border=\"1\" class=\"dataframe\"><thead><tr></tr><tr></tr></thead><tbody></tbody></table></div>"
      ],
      "text/plain": [
       "shape: (0, 0)\n",
       "┌┐\n",
       "╞╡\n",
       "└┘"
      ]
     },
     "metadata": {},
     "output_type": "display_data"
    }
   ],
   "source": [
    "query_text = \"\"\"--sql\n",
    "    DROP TABLE db1.total_activated_account_rep_mobile_full_mv\n",
    "    \"\"\"\n",
    "\n",
    "ch.query_run(query_text)"
   ]
  },
  {
   "cell_type": "markdown",
   "id": "8fc92004",
   "metadata": {},
   "source": [
    "### drop ch"
   ]
  },
  {
   "cell_type": "code",
   "execution_count": null,
   "id": "4aa5933c",
   "metadata": {},
   "outputs": [
    {
     "data": {
      "text/html": [
       "<div><style>\n",
       ".dataframe > thead > tr,\n",
       ".dataframe > tbody > tr {\n",
       "  text-align: right;\n",
       "  white-space: pre-wrap;\n",
       "}\n",
       "</style>\n",
       "<small>shape: (0, 0)</small><table border=\"1\" class=\"dataframe\"><thead><tr></tr><tr></tr></thead><tbody></tbody></table></div>"
      ],
      "text/plain": [
       "shape: (0, 0)\n",
       "┌┐\n",
       "╞╡\n",
       "└┘"
      ]
     },
     "metadata": {},
     "output_type": "display_data"
    }
   ],
   "source": [
    "query_text = \"\"\"--sql\n",
    "    DROP TABLE db1.total_activated_account_rep_mobile_full\n",
    "    \"\"\"\n",
    "\n",
    "ch.query_run(query_text)"
   ]
  },
  {
   "cell_type": "markdown",
   "id": "b03d4b75",
   "metadata": {},
   "source": [
    "### refresh mv"
   ]
  },
  {
   "cell_type": "code",
   "execution_count": null,
   "id": "d137df58",
   "metadata": {},
   "outputs": [],
   "source": [
    "query_text = \"\"\"\n",
    "SYSTEM REFRESH VIEW db1.total_activated_account_rep_mobile_full_mv\n",
    "\"\"\"\n",
    "\n",
    "ch.query_run(query_text)"
   ]
  }
 ],
 "metadata": {
  "jupytext": {
   "formats": "ipynb,md"
  },
  "kernelspec": {
   "display_name": "myenv",
   "language": "python",
   "name": "python3"
  },
  "language_info": {
   "codemirror_mode": {
    "name": "ipython",
    "version": 3
   },
   "file_extension": ".py",
   "mimetype": "text/x-python",
   "name": "python",
   "nbconvert_exporter": "python",
   "pygments_lexer": "ipython3",
   "version": "3.12.11"
  }
 },
 "nbformat": 4,
 "nbformat_minor": 5
}

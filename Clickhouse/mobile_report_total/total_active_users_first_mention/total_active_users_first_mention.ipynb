{
 "cells": [
  {
   "cell_type": "markdown",
   "id": "63bef992",
   "metadata": {},
   "source": [
    "## Start"
   ]
  },
  {
   "cell_type": "code",
   "execution_count": 5,
   "id": "b5baefec",
   "metadata": {},
   "outputs": [],
   "source": [
    "import clickhouse_connect\n",
    "import datetime\n",
    "import os\n",
    "import pytz\n",
    "import pandas as pd\n",
    "from dateutil.relativedelta import relativedelta\n",
    "from dotenv import load_dotenv\n",
    "\n",
    "import sys\n",
    "sys.path.append('/home/boris/Documents/Work/analytics/Clickhouse')\n",
    "from clickhouse_client import ClickHouse_client\n",
    "ch = ClickHouse_client()\n",
    "pd.set_option('display.max_rows', 1000)"
   ]
  },
  {
   "cell_type": "markdown",
   "id": "80f56176",
   "metadata": {},
   "source": [
    "___\n",
    "### Tags: #Mobile_Report\n",
    "\n",
    "### Links:  \n",
    "\n",
    "[[total_active_users_per_day_full_table]]\n",
    "\n",
    "[[entries_st_mobile]]\n",
    "\n",
    "[[citizens_dir_mobile]]\n",
    "\n",
    "\n",
    "### Table"
   ]
  },
  {
   "cell_type": "code",
   "execution_count": 6,
   "id": "03de248f",
   "metadata": {},
   "outputs": [
    {
     "name": "stdout",
     "output_type": "stream",
     "text": [
      "(\n",
      "    `report_date` Date,\n",
      "    `partner_uuid` String,\n",
      "    `citizen_id` Int32,\n",
      "    `monetization` UInt8,\n",
      "    `subscriptions_state` String,\n",
      "    `ble_available` String,\n",
      "    `activated_at` String,\n",
      "    `city` String,\n",
      "    `is_first_mention_in_month` UInt8\n",
      ")\n"
     ]
    }
   ],
   "source": [
    "query_text = \"\"\"--sql\n",
    "    SELECT\n",
    "        *\n",
    "    FROM\n",
    "        (SELECT\n",
    "            total_act.report_date AS report_date,\n",
    "            total_act.partner_uuid AS partner_uuid,\n",
    "            total_act.citizen_id AS citizen_id,\n",
    "            total_act.monetization AS monetization,\n",
    "            total_act.subscriptions_state AS subscriptions_state,\n",
    "            entr_st_m.ble_available AS ble_available,\n",
    "            cit_dir_m.activated_at AS activated_at,\n",
    "            total_act.city AS city,\n",
    "            ROW_NUMBER() OVER (\n",
    "                    PARTITION BY\n",
    "                        toStartOfMonth(total_act.report_date),\n",
    "                        total_act.citizen_id\n",
    "                    ORDER BY total_act.report_date\n",
    "                ) = 1 AS is_first_mention_in_month\n",
    "        FROM db1.total_active_users_per_day_full_table AS total_act\n",
    "        LEFT JOIN db1.`entries_st_mobile_ch` AS entr_st_m\n",
    "            ON `entr_st_m`.`report_date` = total_act.`report_date`\n",
    "            AND`entr_st_m`.`address_uuid` = total_act.`address_uuid`\n",
    "        LEFT JOIN db1.`citizens_dir_mobile_ch` AS cit_dir_m\n",
    "                    ON `cit_dir_m`.`citizen_id` = total_act.`citizen_id`\n",
    "        WHERE report_date = '2025-08-13'\n",
    "            )\n",
    "    WHERE is_first_mention_in_month = 1\n",
    "    limit 10\n",
    "\"\"\"\n",
    "\n",
    "ch.get_schema(query_text)"
   ]
  },
  {
   "cell_type": "code",
   "execution_count": null,
   "id": "964134a2",
   "metadata": {},
   "outputs": [
    {
     "data": {
      "text/html": [
       "<div><style>\n",
       ".dataframe > thead > tr,\n",
       ".dataframe > tbody > tr {\n",
       "  text-align: right;\n",
       "  white-space: pre-wrap;\n",
       "}\n",
       "</style>\n",
       "<small>shape: (0, 0)</small><table border=\"1\" class=\"dataframe\"><thead><tr></tr><tr></tr></thead><tbody></tbody></table></div>"
      ],
      "text/plain": [
       "shape: (0, 0)\n",
       "┌┐\n",
       "╞╡\n",
       "└┘"
      ]
     },
     "execution_count": 7,
     "metadata": {},
     "output_type": "execute_result"
    }
   ],
   "source": [
    "query_text = \"\"\"--sql\n",
    "CREATE TABLE db1.total_active_users_first_mention\n",
    "(\n",
    "    `report_date` Date,\n",
    "    `partner_uuid` String,\n",
    "    `citizen_id` Int32,\n",
    "    `monetization` UInt8,\n",
    "    `subscriptions_state` String,\n",
    "    `ble_available` String,\n",
    "    `activated_at` String,\n",
    "    `city` String,\n",
    "    `is_first_mention_in_month` UInt8\n",
    ")\n",
    "ENGINE = MergeTree()\n",
    "ORDER BY partner_uuid\n",
    "\"\"\"\n",
    "\n",
    "ch.query_run(query_text)"
   ]
  },
  {
   "cell_type": "code",
   "execution_count": 10,
   "id": "519da88e",
   "metadata": {},
   "outputs": [
    {
     "data": {
      "text/html": [
       "<div><style>\n",
       ".dataframe > thead > tr,\n",
       ".dataframe > tbody > tr {\n",
       "  text-align: right;\n",
       "  white-space: pre-wrap;\n",
       "}\n",
       "</style>\n",
       "<small>shape: (0, 0)</small><table border=\"1\" class=\"dataframe\"><thead><tr></tr><tr></tr></thead><tbody></tbody></table></div>"
      ],
      "text/plain": [
       "shape: (0, 0)\n",
       "┌┐\n",
       "╞╡\n",
       "└┘"
      ]
     },
     "execution_count": 10,
     "metadata": {},
     "output_type": "execute_result"
    }
   ],
   "source": [
    "query_text = \"\"\"--sql\n",
    "    CREATE MATERIALIZED VIEW db1.total_active_users_first_mention_mv\n",
    "    REFRESH EVERY 1 DAY OFFSET 4 HOUR 20 MINUTE TO db1.total_active_users_first_mention AS\n",
    "          SELECT\n",
    "        *\n",
    "    FROM\n",
    "        (SELECT\n",
    "            total_act.report_date AS report_date,\n",
    "            total_act.partner_uuid AS partner_uuid,\n",
    "            total_act.citizen_id AS citizen_id,\n",
    "            total_act.monetization AS monetization,\n",
    "            total_act.subscriptions_state AS subscriptions_state,\n",
    "            entr_st_m.ble_available AS ble_available,\n",
    "            cit_dir_m.activated_at AS activated_at,\n",
    "            total_act.city AS city,\n",
    "            ROW_NUMBER() OVER (\n",
    "                    PARTITION BY\n",
    "                        toStartOfMonth(total_act.report_date),\n",
    "                        total_act.citizen_id\n",
    "                    ORDER BY total_act.report_date\n",
    "                ) = 1 AS is_first_mention_in_month\n",
    "        FROM db1.total_active_users_per_day_full_table AS total_act\n",
    "        LEFT JOIN db1.`entries_st_mobile_ch` AS entr_st_m\n",
    "            ON `entr_st_m`.`report_date` = total_act.`report_date`\n",
    "            AND`entr_st_m`.`address_uuid` = total_act.`address_uuid`\n",
    "        LEFT JOIN db1.`citizens_dir_mobile_ch` AS cit_dir_m\n",
    "                    ON `cit_dir_m`.`citizen_id` = total_act.`citizen_id`\n",
    "            )\n",
    "    WHERE is_first_mention_in_month = 1\n",
    "    \"\"\"\n",
    "ch.query_run(query_text)"
   ]
  },
  {
   "cell_type": "markdown",
   "id": "e2bd1cf0",
   "metadata": {},
   "source": [
    "___\n",
    "## Tools\n",
    "___\n",
    "### query\n"
   ]
  },
  {
   "cell_type": "code",
   "execution_count": 11,
   "id": "0e430cd3",
   "metadata": {},
   "outputs": [
    {
     "data": {
      "text/html": [
       "<div><style>\n",
       ".dataframe > thead > tr,\n",
       ".dataframe > tbody > tr {\n",
       "  text-align: right;\n",
       "  white-space: pre-wrap;\n",
       "}\n",
       "</style>\n",
       "<small>shape: (100, 9)</small><table border=\"1\" class=\"dataframe\"><thead><tr><th>report_date</th><th>partner_uuid</th><th>citizen_id</th><th>monetization</th><th>subscriptions_state</th><th>ble_available</th><th>activated_at</th><th>city</th><th>is_first_mention_in_month</th></tr><tr><td>date</td><td>str</td><td>i64</td><td>i64</td><td>str</td><td>str</td><td>str</td><td>str</td><td>i64</td></tr></thead><tbody><tr><td>2025-08-14</td><td>&quot;&quot;</td><td>122864</td><td>1</td><td>&quot;&quot;</td><td>&quot;false&quot;</td><td>&quot;&quot;</td><td>&quot;Новокузнецк&quot;</td><td>1</td></tr><tr><td>2025-08-14</td><td>&quot;&quot;</td><td>205839</td><td>1</td><td>&quot;&quot;</td><td>&quot;false&quot;</td><td>&quot;2021-10-07 08:22:12&quot;</td><td>&quot;Новокузнецк&quot;</td><td>1</td></tr><tr><td>2025-08-14</td><td>&quot;&quot;</td><td>200091</td><td>1</td><td>&quot;&quot;</td><td>&quot;false&quot;</td><td>&quot;2021-04-10 14:19:06&quot;</td><td>&quot;Волжский&quot;</td><td>1</td></tr><tr><td>2025-08-14</td><td>&quot;&quot;</td><td>179087</td><td>1</td><td>&quot;&quot;</td><td>&quot;false&quot;</td><td>&quot;2021-03-18 13:59:19&quot;</td><td>&quot;Уфа&quot;</td><td>1</td></tr><tr><td>2025-08-14</td><td>&quot;&quot;</td><td>82689</td><td>1</td><td>&quot;&quot;</td><td>&quot;false&quot;</td><td>&quot;2022-03-29 14:58:45&quot;</td><td>&quot;Нур-Султан (Астана)&quot;</td><td>1</td></tr><tr><td>&hellip;</td><td>&hellip;</td><td>&hellip;</td><td>&hellip;</td><td>&hellip;</td><td>&hellip;</td><td>&hellip;</td><td>&hellip;</td><td>&hellip;</td></tr><tr><td>2025-08-14</td><td>&quot;&quot;</td><td>2071742</td><td>0</td><td>&quot;&quot;</td><td>&quot;&quot;</td><td>&quot;&quot;</td><td>&quot;&quot;</td><td>1</td></tr><tr><td>2025-08-14</td><td>&quot;&quot;</td><td>2058415</td><td>0</td><td>&quot;&quot;</td><td>&quot;&quot;</td><td>&quot;&quot;</td><td>&quot;&quot;</td><td>1</td></tr><tr><td>2025-08-14</td><td>&quot;&quot;</td><td>988265</td><td>1</td><td>&quot;&quot;</td><td>&quot;false&quot;</td><td>&quot;2023-01-27 06:55:08&quot;</td><td>&quot;Новокузнецк&quot;</td><td>1</td></tr><tr><td>2025-08-14</td><td>&quot;&quot;</td><td>2053885</td><td>0</td><td>&quot;&quot;</td><td>&quot;&quot;</td><td>&quot;&quot;</td><td>&quot;&quot;</td><td>1</td></tr><tr><td>2025-08-14</td><td>&quot;&quot;</td><td>1975488</td><td>1</td><td>&quot;&quot;</td><td>&quot;false&quot;</td><td>&quot;2025-04-09 20:22:37&quot;</td><td>&quot;Ростов-на-Дону&quot;</td><td>1</td></tr></tbody></table></div>"
      ],
      "text/plain": [
       "shape: (100, 9)\n",
       "┌───────────┬───────────┬───────────┬───────────┬───┬───────────┬───────────┬───────────┬──────────┐\n",
       "│ report_da ┆ partner_u ┆ citizen_i ┆ monetizat ┆ … ┆ ble_avail ┆ activated ┆ city      ┆ is_first │\n",
       "│ te        ┆ uid       ┆ d         ┆ ion       ┆   ┆ able      ┆ _at       ┆ ---       ┆ _mention │\n",
       "│ ---       ┆ ---       ┆ ---       ┆ ---       ┆   ┆ ---       ┆ ---       ┆ str       ┆ _in_mont │\n",
       "│ date      ┆ str       ┆ i64       ┆ i64       ┆   ┆ str       ┆ str       ┆           ┆ h        │\n",
       "│           ┆           ┆           ┆           ┆   ┆           ┆           ┆           ┆ ---      │\n",
       "│           ┆           ┆           ┆           ┆   ┆           ┆           ┆           ┆ i64      │\n",
       "╞═══════════╪═══════════╪═══════════╪═══════════╪═══╪═══════════╪═══════════╪═══════════╪══════════╡\n",
       "│ 2025-08-1 ┆           ┆ 122864    ┆ 1         ┆ … ┆ false     ┆           ┆ Новокузне ┆ 1        │\n",
       "│ 4         ┆           ┆           ┆           ┆   ┆           ┆           ┆ цк        ┆          │\n",
       "│ 2025-08-1 ┆           ┆ 205839    ┆ 1         ┆ … ┆ false     ┆ 2021-10-0 ┆ Новокузне ┆ 1        │\n",
       "│ 4         ┆           ┆           ┆           ┆   ┆           ┆ 7         ┆ цк        ┆          │\n",
       "│           ┆           ┆           ┆           ┆   ┆           ┆ 08:22:12  ┆           ┆          │\n",
       "│ 2025-08-1 ┆           ┆ 200091    ┆ 1         ┆ … ┆ false     ┆ 2021-04-1 ┆ Волжский  ┆ 1        │\n",
       "│ 4         ┆           ┆           ┆           ┆   ┆           ┆ 0         ┆           ┆          │\n",
       "│           ┆           ┆           ┆           ┆   ┆           ┆ 14:19:06  ┆           ┆          │\n",
       "│ 2025-08-1 ┆           ┆ 179087    ┆ 1         ┆ … ┆ false     ┆ 2021-03-1 ┆ Уфа       ┆ 1        │\n",
       "│ 4         ┆           ┆           ┆           ┆   ┆           ┆ 8         ┆           ┆          │\n",
       "│           ┆           ┆           ┆           ┆   ┆           ┆ 13:59:19  ┆           ┆          │\n",
       "│ 2025-08-1 ┆           ┆ 82689     ┆ 1         ┆ … ┆ false     ┆ 2022-03-2 ┆ Нур-Султа ┆ 1        │\n",
       "│ 4         ┆           ┆           ┆           ┆   ┆           ┆ 9         ┆ н         ┆          │\n",
       "│           ┆           ┆           ┆           ┆   ┆           ┆ 14:58:45  ┆ (Астана)  ┆          │\n",
       "│ …         ┆ …         ┆ …         ┆ …         ┆ … ┆ …         ┆ …         ┆ …         ┆ …        │\n",
       "│ 2025-08-1 ┆           ┆ 2071742   ┆ 0         ┆ … ┆           ┆           ┆           ┆ 1        │\n",
       "│ 4         ┆           ┆           ┆           ┆   ┆           ┆           ┆           ┆          │\n",
       "│ 2025-08-1 ┆           ┆ 2058415   ┆ 0         ┆ … ┆           ┆           ┆           ┆ 1        │\n",
       "│ 4         ┆           ┆           ┆           ┆   ┆           ┆           ┆           ┆          │\n",
       "│ 2025-08-1 ┆           ┆ 988265    ┆ 1         ┆ … ┆ false     ┆ 2023-01-2 ┆ Новокузне ┆ 1        │\n",
       "│ 4         ┆           ┆           ┆           ┆   ┆           ┆ 7         ┆ цк        ┆          │\n",
       "│           ┆           ┆           ┆           ┆   ┆           ┆ 06:55:08  ┆           ┆          │\n",
       "│ 2025-08-1 ┆           ┆ 2053885   ┆ 0         ┆ … ┆           ┆           ┆           ┆ 1        │\n",
       "│ 4         ┆           ┆           ┆           ┆   ┆           ┆           ┆           ┆          │\n",
       "│ 2025-08-1 ┆           ┆ 1975488   ┆ 1         ┆ … ┆ false     ┆ 2025-04-0 ┆ Ростов-на ┆ 1        │\n",
       "│ 4         ┆           ┆           ┆           ┆   ┆           ┆ 9         ┆ -Дону     ┆          │\n",
       "│           ┆           ┆           ┆           ┆   ┆           ┆ 20:22:37  ┆           ┆          │\n",
       "└───────────┴───────────┴───────────┴───────────┴───┴───────────┴───────────┴───────────┴──────────┘"
      ]
     },
     "execution_count": 11,
     "metadata": {},
     "output_type": "execute_result"
    }
   ],
   "source": [
    "query_text = \"\"\"--sql\n",
    "    SELECT\n",
    "        *\n",
    "    FROM db1.total_active_users_first_mention\n",
    "    ORDER BY report_date DESC\n",
    "    limit 100\n",
    "    \"\"\"\n",
    "\n",
    "ch.query_run(query_text)"
   ]
  },
  {
   "cell_type": "markdown",
   "id": "bae7958a",
   "metadata": {},
   "source": [
    "### delete a part\n"
   ]
  },
  {
   "cell_type": "code",
   "execution_count": null,
   "id": "81a8dd8e",
   "metadata": {},
   "outputs": [
    {
     "data": {
      "text/html": [
       "<div><style>\n",
       ".dataframe > thead > tr,\n",
       ".dataframe > tbody > tr {\n",
       "  text-align: right;\n",
       "  white-space: pre-wrap;\n",
       "}\n",
       "</style>\n",
       "<small>shape: (0, 0)</small><table border=\"1\" class=\"dataframe\"><thead><tr></tr><tr></tr></thead><tbody></tbody></table></div>"
      ],
      "text/plain": [
       "shape: (0, 0)\n",
       "┌┐\n",
       "╞╡\n",
       "└┘"
      ]
     },
     "metadata": {},
     "output_type": "display_data"
    }
   ],
   "source": [
    "query_text = \"\"\"--sql\n",
    "    ALTER TABLE db1.total_active_users_per_day_full_table DELETE WHERE report_date = '2025-07-17'\n",
    "    \"\"\"\n",
    "\n",
    "ch.query_run(query_text)"
   ]
  },
  {
   "cell_type": "markdown",
   "id": "94e074cb",
   "metadata": {},
   "source": [
    "### drop mv"
   ]
  },
  {
   "cell_type": "code",
   "execution_count": null,
   "id": "27947cd8",
   "metadata": {},
   "outputs": [
    {
     "data": {
      "text/html": [
       "<div><style>\n",
       ".dataframe > thead > tr,\n",
       ".dataframe > tbody > tr {\n",
       "  text-align: right;\n",
       "  white-space: pre-wrap;\n",
       "}\n",
       "</style>\n",
       "<small>shape: (0, 0)</small><table border=\"1\" class=\"dataframe\"><thead><tr></tr><tr></tr></thead><tbody></tbody></table></div>"
      ],
      "text/plain": [
       "shape: (0, 0)\n",
       "┌┐\n",
       "╞╡\n",
       "└┘"
      ]
     },
     "metadata": {},
     "output_type": "display_data"
    }
   ],
   "source": [
    "query_text = \"\"\"--sql\n",
    "    DROP TABLE db1.total_active_users_per_day_full_table_mv\n",
    "    \"\"\"\n",
    "\n",
    "ch.query_run(query_text)"
   ]
  },
  {
   "cell_type": "markdown",
   "id": "ae4d4602",
   "metadata": {},
   "source": [
    "### drop ch"
   ]
  },
  {
   "cell_type": "code",
   "execution_count": null,
   "id": "6a5cb8e3",
   "metadata": {},
   "outputs": [
    {
     "data": {
      "text/html": [
       "<div><style>\n",
       ".dataframe > thead > tr,\n",
       ".dataframe > tbody > tr {\n",
       "  text-align: right;\n",
       "  white-space: pre-wrap;\n",
       "}\n",
       "</style>\n",
       "<small>shape: (0, 0)</small><table border=\"1\" class=\"dataframe\"><thead><tr></tr><tr></tr></thead><tbody></tbody></table></div>"
      ],
      "text/plain": [
       "shape: (0, 0)\n",
       "┌┐\n",
       "╞╡\n",
       "└┘"
      ]
     },
     "metadata": {},
     "output_type": "display_data"
    }
   ],
   "source": [
    "query_text = \"\"\"--sql\n",
    "    DROP TABLE db1.total_active_users_per_day_full_table\n",
    "    \"\"\"\n",
    "\n",
    "ch.query_run(query_text)"
   ]
  },
  {
   "cell_type": "markdown",
   "id": "c4806717",
   "metadata": {},
   "source": [
    "### refresh mv"
   ]
  },
  {
   "cell_type": "code",
   "execution_count": null,
   "id": "20a82339",
   "metadata": {},
   "outputs": [],
   "source": [
    "query_text = \"\"\"\n",
    "SYSTEM REFRESH VIEW db1.total_active_users_per_day_full_table_mv\n",
    "\"\"\"\n",
    "\n",
    "ch.query_run(query_text)"
   ]
  }
 ],
 "metadata": {
  "jupytext": {
   "formats": "ipynb,md",
   "main_language": "python"
  },
  "language_info": {
   "name": "python"
  }
 },
 "nbformat": 4,
 "nbformat_minor": 5
}

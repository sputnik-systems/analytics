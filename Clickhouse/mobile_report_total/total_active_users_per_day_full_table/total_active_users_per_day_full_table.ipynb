{
 "cells": [
  {
   "cell_type": "markdown",
   "id": "9c11e697",
   "metadata": {},
   "source": [
    "## Start"
   ]
  },
  {
   "cell_type": "code",
   "execution_count": 2,
   "id": "a365282e",
   "metadata": {},
   "outputs": [],
   "source": [
    "import clickhouse_connect\n",
    "import datetime\n",
    "import os\n",
    "import pytz\n",
    "import pandas as pd\n",
    "from dateutil.relativedelta import relativedelta\n",
    "from dotenv import load_dotenv\n",
    "\n",
    "import sys\n",
    "sys.path.append('/home/boris/Documents/Work/analytics/Clickhouse')\n",
    "from clickhouse_client import ClickHouse_client\n",
    "ch = ClickHouse_client()\n",
    "pd.set_option('display.max_rows', 1000)"
   ]
  },
  {
   "cell_type": "markdown",
   "id": "1961aef7",
   "metadata": {},
   "source": [
    "___\n",
    "### Tags: #Mobile_Report\n",
    "\n",
    "### Links:  \n",
    "\n",
    "[[rep_mobile_citizens_id_city_partner]]\n",
    "\n",
    "[[sessions_st_mobile]]\n",
    "\n",
    "[[subscriptions_st_mobile]]\n",
    "\n",
    "\n",
    "### Table"
   ]
  },
  {
   "cell_type": "code",
   "execution_count": 5,
   "id": "04c66d69",
   "metadata": {},
   "outputs": [
    {
     "data": {
      "text/html": [
       "<div><style>\n",
       ".dataframe > thead > tr,\n",
       ".dataframe > tbody > tr {\n",
       "  text-align: right;\n",
       "  white-space: pre-wrap;\n",
       "}\n",
       "</style>\n",
       "<small>shape: (0, 0)</small><table border=\"1\" class=\"dataframe\"><thead><tr></tr><tr></tr></thead><tbody></tbody></table></div>"
      ],
      "text/plain": [
       "shape: (0, 0)\n",
       "┌┐\n",
       "╞╡\n",
       "└┘"
      ]
     },
     "execution_count": 5,
     "metadata": {},
     "output_type": "execute_result"
    }
   ],
   "source": [
    "query_text = \"\"\"--sql\n",
    "CREATE TABLE db1.total_active_users_per_day_full_table\n",
    "(\n",
    "    `report_date` Date,\n",
    "    `partner_uuid` String,\n",
    "    `city` String,\n",
    "    `citizen_id` Int32,\n",
    "    `monetization` UInt8,\n",
    "    `subscriptions_state` String,\n",
    "    `address_uuid` String,\n",
    "    `flat_uuid` String,\n",
    "    `created_at` String,\n",
    "    `activated_at` DateTime\n",
    ")\n",
    "ENGINE = MergeTree()\n",
    "ORDER BY partner_uuid\n",
    "\"\"\"\n",
    "\n",
    "ch.query_run(query_text)"
   ]
  },
  {
   "cell_type": "code",
   "execution_count": null,
   "id": "94a1a164",
   "metadata": {},
   "outputs": [],
   "source": []
  },
  {
   "cell_type": "code",
   "execution_count": 13,
   "id": "8c78edfa",
   "metadata": {},
   "outputs": [
    {
     "data": {
      "text/html": [
       "<div><style>\n",
       ".dataframe > thead > tr,\n",
       ".dataframe > tbody > tr {\n",
       "  text-align: right;\n",
       "  white-space: pre-wrap;\n",
       "}\n",
       "</style>\n",
       "<small>shape: (0, 0)</small><table border=\"1\" class=\"dataframe\"><thead><tr></tr><tr></tr></thead><tbody></tbody></table></div>"
      ],
      "text/plain": [
       "shape: (0, 0)\n",
       "┌┐\n",
       "╞╡\n",
       "└┘"
      ]
     },
     "execution_count": 13,
     "metadata": {},
     "output_type": "execute_result"
    }
   ],
   "source": [
    "query_text = \"\"\"--sql\n",
    "    CREATE MATERIALIZED VIEW db1.total_active_users_per_day_full_table_mv\n",
    "    REFRESH EVERY 1 DAY OFFSET 4 HOUR 10 MINUTE TO db1.total_active_users_per_day_full_table AS\n",
    "       SELECT\n",
    "        r_m_c.partner_uuid AS partner_uuid,\n",
    "        ses_st_m.citizen_id AS citizen_id,\n",
    "        r_m_c.report_date AS report_date,\n",
    "        r_m_c.monetization AS monetization,\n",
    "        sub_st_m.state AS subscriptions_state,\n",
    "        r_m_c.city AS city,\n",
    "        r_m_c.address_uuid AS address_uuid,\n",
    "        r_m_c.flat_uuid AS flat_uuid,\n",
    "        c_d_m.created_at AS created_at,\n",
    "        r_m_c.activated_at AS activated_at\n",
    "    FROM db1.rep_mobile_citizens_id_city_partner as r_m_c\n",
    "    JOIN db1.`sessions_st_mobile_ch` AS ses_st_m\n",
    "        ON r_m_c.citizen_id = ses_st_m.citizen_id\n",
    "        AND r_m_c.report_date = ses_st_m.report_date \n",
    "    LEFT JOIN db1.`subscriptions_st_mobile_ch` AS sub_st_m\n",
    "        ON ses_st_m.citizen_id = sub_st_m.citizen_id\n",
    "        AND ses_st_m.report_date = sub_st_m.report_date\n",
    "    LEFT JOIN db1.`citizens_dir_mobile_ch` AS c_d_m ON c_d_m.`citizen_id`  = r_m_c.`citizen_id`\n",
    "    WHERE \n",
    "        toDate(`last_use`) \n",
    "        BETWEEN toStartOfMonth(r_m_c.report_date) and r_m_c.report_date \n",
    "        AND  r_m_c.state = 'activated'\n",
    "    --\n",
    "     SETTINGS join_algorithm = 'partial_merge'\n",
    "    \"\"\"\n",
    "ch.query_run(query_text)"
   ]
  },
  {
   "cell_type": "markdown",
   "id": "bc013d7d",
   "metadata": {},
   "source": [
    "___\n",
    "## Tools\n",
    "___\n",
    "### query\n"
   ]
  },
  {
   "cell_type": "code",
   "execution_count": 3,
   "id": "d4b5ec37",
   "metadata": {},
   "outputs": [
    {
     "data": {
      "text/html": [
       "<div><style>\n",
       ".dataframe > thead > tr,\n",
       ".dataframe > tbody > tr {\n",
       "  text-align: right;\n",
       "  white-space: pre-wrap;\n",
       "}\n",
       "</style>\n",
       "<small>shape: (100, 10)</small><table border=\"1\" class=\"dataframe\"><thead><tr><th>report_date</th><th>partner_uuid</th><th>city</th><th>citizen_id</th><th>monetization</th><th>subscriptions_state</th><th>address_uuid</th><th>flat_uuid</th><th>created_at</th><th>activated_at</th></tr><tr><td>date</td><td>str</td><td>str</td><td>i64</td><td>i64</td><td>str</td><td>str</td><td>str</td><td>str</td><td>datetime[ns]</td></tr></thead><tbody><tr><td>2025-08-14</td><td>&quot;00c45794-0060-4b37-88bf-3b8dff…</td><td>&quot;Зеленодольск&quot;</td><td>2037046</td><td>0</td><td>&quot;activated&quot;</td><td>&quot;8bef7cd0-4758-44bc-bfd4-eec897…</td><td>&quot;d40d1870-9f6a-4525-ae1a-bf9484…</td><td>&quot;2025-05-31 21:37:07&quot;</td><td>2025-05-31 21:37:21</td></tr><tr><td>2025-08-14</td><td>&quot;00c45794-0060-4b37-88bf-3b8dff…</td><td>&quot;Зеленодольск&quot;</td><td>2038459</td><td>0</td><td>&quot;activated&quot;</td><td>&quot;8bef7cd0-4758-44bc-bfd4-eec897…</td><td>&quot;ee304790-f7fb-4bd3-957e-1bf1ee…</td><td>&quot;2025-06-02 11:34:04&quot;</td><td>2025-06-02 18:53:07</td></tr><tr><td>2025-08-14</td><td>&quot;00c45794-0060-4b37-88bf-3b8dff…</td><td>&quot;Зеленодольск&quot;</td><td>2039173</td><td>0</td><td>&quot;&quot;</td><td>&quot;8bef7cd0-4758-44bc-bfd4-eec897…</td><td>&quot;ee304790-f7fb-4bd3-957e-1bf1ee…</td><td>&quot;2025-06-02 19:41:02&quot;</td><td>2025-06-02 19:41:18</td></tr><tr><td>2025-08-14</td><td>&quot;00c45794-0060-4b37-88bf-3b8dff…</td><td>&quot;Зеленодольск&quot;</td><td>1785986</td><td>0</td><td>&quot;&quot;</td><td>&quot;8bef7cd0-4758-44bc-bfd4-eec897…</td><td>&quot;1d27ba27-d18a-45eb-adff-7eebcf…</td><td>&quot;2024-11-14 20:06:21&quot;</td><td>2024-11-16 12:54:01</td></tr><tr><td>2025-08-14</td><td>&quot;00c45794-0060-4b37-88bf-3b8dff…</td><td>&quot;Зеленодольск&quot;</td><td>1792014</td><td>0</td><td>&quot;activated&quot;</td><td>&quot;8bef7cd0-4758-44bc-bfd4-eec897…</td><td>&quot;52a6e3eb-4d0b-444e-8b28-bdb0fc…</td><td>&quot;2024-11-19 13:17:32&quot;</td><td>2024-11-23 10:24:09</td></tr><tr><td>&hellip;</td><td>&hellip;</td><td>&hellip;</td><td>&hellip;</td><td>&hellip;</td><td>&hellip;</td><td>&hellip;</td><td>&hellip;</td><td>&hellip;</td><td>&hellip;</td></tr><tr><td>2025-08-14</td><td>&quot;00ec6d8e-a799-409c-958b-9472a1…</td><td>&quot;Казань&quot;</td><td>1976208</td><td>0</td><td>&quot;activated&quot;</td><td>&quot;ea2fdde0-9343-4be5-a582-4d376b…</td><td>&quot;c313e36f-053c-4a19-927c-e42195…</td><td>&quot;2025-04-10 13:07:59&quot;</td><td>2025-04-10 16:10:03</td></tr><tr><td>2025-08-14</td><td>&quot;00ec6d8e-a799-409c-958b-9472a1…</td><td>&quot;Казань&quot;</td><td>2047579</td><td>0</td><td>&quot;&quot;</td><td>&quot;6e442211-1689-46bd-a0fb-3e9cd9…</td><td>&quot;354550ec-eed6-4686-9945-a8ee3a…</td><td>&quot;2025-06-09 20:39:41&quot;</td><td>2025-06-09 20:40:04</td></tr><tr><td>2025-08-14</td><td>&quot;00ec6d8e-a799-409c-958b-9472a1…</td><td>&quot;Казань&quot;</td><td>2045922</td><td>0</td><td>&quot;&quot;</td><td>&quot;29b27b03-c853-44d4-a57a-a1df3f…</td><td>&quot;ec3bbb99-2f66-4e15-b2be-62ae7d…</td><td>&quot;2025-06-08 10:58:51&quot;</td><td>2025-06-08 10:59:23</td></tr><tr><td>2025-08-14</td><td>&quot;00ec6d8e-a799-409c-958b-9472a1…</td><td>&quot;Казань&quot;</td><td>2068709</td><td>0</td><td>&quot;&quot;</td><td>&quot;ea2fdde0-9343-4be5-a582-4d376b…</td><td>&quot;7ee8ee42-ca48-4f50-9e95-bc114e…</td><td>&quot;2025-06-27 01:29:47&quot;</td><td>2025-06-27 11:30:41</td></tr><tr><td>2025-08-14</td><td>&quot;00ec6d8e-a799-409c-958b-9472a1…</td><td>&quot;Казань&quot;</td><td>1980763</td><td>0</td><td>&quot;&quot;</td><td>&quot;ea2fdde0-9343-4be5-a582-4d376b…</td><td>&quot;bc0f6428-7015-4645-87b9-b2688a…</td><td>&quot;2025-04-13 14:22:21&quot;</td><td>2025-04-14 19:59:16</td></tr></tbody></table></div>"
      ],
      "text/plain": [
       "shape: (100, 10)\n",
       "┌───────────┬───────────┬───────────┬───────────┬───┬───────────┬───────────┬───────────┬──────────┐\n",
       "│ report_da ┆ partner_u ┆ city      ┆ citizen_i ┆ … ┆ address_u ┆ flat_uuid ┆ created_a ┆ activate │\n",
       "│ te        ┆ uid       ┆ ---       ┆ d         ┆   ┆ uid       ┆ ---       ┆ t         ┆ d_at     │\n",
       "│ ---       ┆ ---       ┆ str       ┆ ---       ┆   ┆ ---       ┆ str       ┆ ---       ┆ ---      │\n",
       "│ date      ┆ str       ┆           ┆ i64       ┆   ┆ str       ┆           ┆ str       ┆ datetime │\n",
       "│           ┆           ┆           ┆           ┆   ┆           ┆           ┆           ┆ [ns]     │\n",
       "╞═══════════╪═══════════╪═══════════╪═══════════╪═══╪═══════════╪═══════════╪═══════════╪══════════╡\n",
       "│ 2025-08-1 ┆ 00c45794- ┆ Зеленодол ┆ 2037046   ┆ … ┆ 8bef7cd0- ┆ d40d1870- ┆ 2025-05-3 ┆ 2025-05- │\n",
       "│ 4         ┆ 0060-4b37 ┆ ьск       ┆           ┆   ┆ 4758-44bc ┆ 9f6a-4525 ┆ 1         ┆ 31       │\n",
       "│           ┆ -88bf-3b8 ┆           ┆           ┆   ┆ -bfd4-eec ┆ -ae1a-bf9 ┆ 21:37:07  ┆ 21:37:21 │\n",
       "│           ┆ dff…      ┆           ┆           ┆   ┆ 897…      ┆ 484…      ┆           ┆          │\n",
       "│ 2025-08-1 ┆ 00c45794- ┆ Зеленодол ┆ 2038459   ┆ … ┆ 8bef7cd0- ┆ ee304790- ┆ 2025-06-0 ┆ 2025-06- │\n",
       "│ 4         ┆ 0060-4b37 ┆ ьск       ┆           ┆   ┆ 4758-44bc ┆ f7fb-4bd3 ┆ 2         ┆ 02       │\n",
       "│           ┆ -88bf-3b8 ┆           ┆           ┆   ┆ -bfd4-eec ┆ -957e-1bf ┆ 11:34:04  ┆ 18:53:07 │\n",
       "│           ┆ dff…      ┆           ┆           ┆   ┆ 897…      ┆ 1ee…      ┆           ┆          │\n",
       "│ 2025-08-1 ┆ 00c45794- ┆ Зеленодол ┆ 2039173   ┆ … ┆ 8bef7cd0- ┆ ee304790- ┆ 2025-06-0 ┆ 2025-06- │\n",
       "│ 4         ┆ 0060-4b37 ┆ ьск       ┆           ┆   ┆ 4758-44bc ┆ f7fb-4bd3 ┆ 2         ┆ 02       │\n",
       "│           ┆ -88bf-3b8 ┆           ┆           ┆   ┆ -bfd4-eec ┆ -957e-1bf ┆ 19:41:02  ┆ 19:41:18 │\n",
       "│           ┆ dff…      ┆           ┆           ┆   ┆ 897…      ┆ 1ee…      ┆           ┆          │\n",
       "│ 2025-08-1 ┆ 00c45794- ┆ Зеленодол ┆ 1785986   ┆ … ┆ 8bef7cd0- ┆ 1d27ba27- ┆ 2024-11-1 ┆ 2024-11- │\n",
       "│ 4         ┆ 0060-4b37 ┆ ьск       ┆           ┆   ┆ 4758-44bc ┆ d18a-45eb ┆ 4         ┆ 16       │\n",
       "│           ┆ -88bf-3b8 ┆           ┆           ┆   ┆ -bfd4-eec ┆ -adff-7ee ┆ 20:06:21  ┆ 12:54:01 │\n",
       "│           ┆ dff…      ┆           ┆           ┆   ┆ 897…      ┆ bcf…      ┆           ┆          │\n",
       "│ 2025-08-1 ┆ 00c45794- ┆ Зеленодол ┆ 1792014   ┆ … ┆ 8bef7cd0- ┆ 52a6e3eb- ┆ 2024-11-1 ┆ 2024-11- │\n",
       "│ 4         ┆ 0060-4b37 ┆ ьск       ┆           ┆   ┆ 4758-44bc ┆ 4d0b-444e ┆ 9         ┆ 23       │\n",
       "│           ┆ -88bf-3b8 ┆           ┆           ┆   ┆ -bfd4-eec ┆ -8b28-bdb ┆ 13:17:32  ┆ 10:24:09 │\n",
       "│           ┆ dff…      ┆           ┆           ┆   ┆ 897…      ┆ 0fc…      ┆           ┆          │\n",
       "│ …         ┆ …         ┆ …         ┆ …         ┆ … ┆ …         ┆ …         ┆ …         ┆ …        │\n",
       "│ 2025-08-1 ┆ 00ec6d8e- ┆ Казань    ┆ 1976208   ┆ … ┆ ea2fdde0- ┆ c313e36f- ┆ 2025-04-1 ┆ 2025-04- │\n",
       "│ 4         ┆ a799-409c ┆           ┆           ┆   ┆ 9343-4be5 ┆ 053c-4a19 ┆ 0         ┆ 10       │\n",
       "│           ┆ -958b-947 ┆           ┆           ┆   ┆ -a582-4d3 ┆ -927c-e42 ┆ 13:07:59  ┆ 16:10:03 │\n",
       "│           ┆ 2a1…      ┆           ┆           ┆   ┆ 76b…      ┆ 195…      ┆           ┆          │\n",
       "│ 2025-08-1 ┆ 00ec6d8e- ┆ Казань    ┆ 2047579   ┆ … ┆ 6e442211- ┆ 354550ec- ┆ 2025-06-0 ┆ 2025-06- │\n",
       "│ 4         ┆ a799-409c ┆           ┆           ┆   ┆ 1689-46bd ┆ eed6-4686 ┆ 9         ┆ 09       │\n",
       "│           ┆ -958b-947 ┆           ┆           ┆   ┆ -a0fb-3e9 ┆ -9945-a8e ┆ 20:39:41  ┆ 20:40:04 │\n",
       "│           ┆ 2a1…      ┆           ┆           ┆   ┆ cd9…      ┆ e3a…      ┆           ┆          │\n",
       "│ 2025-08-1 ┆ 00ec6d8e- ┆ Казань    ┆ 2045922   ┆ … ┆ 29b27b03- ┆ ec3bbb99- ┆ 2025-06-0 ┆ 2025-06- │\n",
       "│ 4         ┆ a799-409c ┆           ┆           ┆   ┆ c853-44d4 ┆ 2f66-4e15 ┆ 8         ┆ 08       │\n",
       "│           ┆ -958b-947 ┆           ┆           ┆   ┆ -a57a-a1d ┆ -b2be-62a ┆ 10:58:51  ┆ 10:59:23 │\n",
       "│           ┆ 2a1…      ┆           ┆           ┆   ┆ f3f…      ┆ e7d…      ┆           ┆          │\n",
       "│ 2025-08-1 ┆ 00ec6d8e- ┆ Казань    ┆ 2068709   ┆ … ┆ ea2fdde0- ┆ 7ee8ee42- ┆ 2025-06-2 ┆ 2025-06- │\n",
       "│ 4         ┆ a799-409c ┆           ┆           ┆   ┆ 9343-4be5 ┆ ca48-4f50 ┆ 7         ┆ 27       │\n",
       "│           ┆ -958b-947 ┆           ┆           ┆   ┆ -a582-4d3 ┆ -9e95-bc1 ┆ 01:29:47  ┆ 11:30:41 │\n",
       "│           ┆ 2a1…      ┆           ┆           ┆   ┆ 76b…      ┆ 14e…      ┆           ┆          │\n",
       "│ 2025-08-1 ┆ 00ec6d8e- ┆ Казань    ┆ 1980763   ┆ … ┆ ea2fdde0- ┆ bc0f6428- ┆ 2025-04-1 ┆ 2025-04- │\n",
       "│ 4         ┆ a799-409c ┆           ┆           ┆   ┆ 9343-4be5 ┆ 7015-4645 ┆ 3         ┆ 14       │\n",
       "│           ┆ -958b-947 ┆           ┆           ┆   ┆ -a582-4d3 ┆ -87b9-b26 ┆ 14:22:21  ┆ 19:59:16 │\n",
       "│           ┆ 2a1…      ┆           ┆           ┆   ┆ 76b…      ┆ 88a…      ┆           ┆          │\n",
       "└───────────┴───────────┴───────────┴───────────┴───┴───────────┴───────────┴───────────┴──────────┘"
      ]
     },
     "execution_count": 3,
     "metadata": {},
     "output_type": "execute_result"
    }
   ],
   "source": [
    "query_text = \"\"\"--sql\n",
    "    SELECT\n",
    "        *\n",
    "    FROM db1.total_active_users_per_day_full_table\n",
    "    ORDER BY report_date DESC\n",
    "    limit 100\n",
    "    \"\"\"\n",
    "\n",
    "ch.query_run(query_text)"
   ]
  },
  {
   "cell_type": "markdown",
   "id": "5f169d31",
   "metadata": {},
   "source": [
    "### delete a part\n"
   ]
  },
  {
   "cell_type": "code",
   "execution_count": 22,
   "id": "3eadd0ac",
   "metadata": {},
   "outputs": [
    {
     "data": {
      "text/html": [
       "<div><style>\n",
       ".dataframe > thead > tr,\n",
       ".dataframe > tbody > tr {\n",
       "  text-align: right;\n",
       "  white-space: pre-wrap;\n",
       "}\n",
       "</style>\n",
       "<small>shape: (0, 0)</small><table border=\"1\" class=\"dataframe\"><thead><tr></tr><tr></tr></thead><tbody></tbody></table></div>"
      ],
      "text/plain": [
       "shape: (0, 0)\n",
       "┌┐\n",
       "╞╡\n",
       "└┘"
      ]
     },
     "execution_count": 22,
     "metadata": {},
     "output_type": "execute_result"
    }
   ],
   "source": [
    "query_text = \"\"\"--sql\n",
    "    ALTER TABLE db1.total_active_users_per_day_full_table DELETE WHERE report_date = '2025-07-17'\n",
    "    \"\"\"\n",
    "\n",
    "ch.query_run(query_text)"
   ]
  },
  {
   "cell_type": "markdown",
   "id": "401d33e1",
   "metadata": {},
   "source": [
    "### drop mv"
   ]
  },
  {
   "cell_type": "code",
   "execution_count": 12,
   "id": "6ffc3e2e",
   "metadata": {},
   "outputs": [
    {
     "data": {
      "text/html": [
       "<div><style>\n",
       ".dataframe > thead > tr,\n",
       ".dataframe > tbody > tr {\n",
       "  text-align: right;\n",
       "  white-space: pre-wrap;\n",
       "}\n",
       "</style>\n",
       "<small>shape: (0, 0)</small><table border=\"1\" class=\"dataframe\"><thead><tr></tr><tr></tr></thead><tbody></tbody></table></div>"
      ],
      "text/plain": [
       "shape: (0, 0)\n",
       "┌┐\n",
       "╞╡\n",
       "└┘"
      ]
     },
     "execution_count": 12,
     "metadata": {},
     "output_type": "execute_result"
    }
   ],
   "source": [
    "query_text = \"\"\"--sql\n",
    "    DROP TABLE db1.total_active_users_per_day_full_table_mv\n",
    "    \"\"\"\n",
    "\n",
    "ch.query_run(query_text)"
   ]
  },
  {
   "cell_type": "markdown",
   "id": "b9f26df1",
   "metadata": {},
   "source": [
    "### drop ch"
   ]
  },
  {
   "cell_type": "code",
   "execution_count": 4,
   "id": "9104c646",
   "metadata": {},
   "outputs": [
    {
     "data": {
      "text/html": [
       "<div><style>\n",
       ".dataframe > thead > tr,\n",
       ".dataframe > tbody > tr {\n",
       "  text-align: right;\n",
       "  white-space: pre-wrap;\n",
       "}\n",
       "</style>\n",
       "<small>shape: (0, 0)</small><table border=\"1\" class=\"dataframe\"><thead><tr></tr><tr></tr></thead><tbody></tbody></table></div>"
      ],
      "text/plain": [
       "shape: (0, 0)\n",
       "┌┐\n",
       "╞╡\n",
       "└┘"
      ]
     },
     "execution_count": 4,
     "metadata": {},
     "output_type": "execute_result"
    }
   ],
   "source": [
    "query_text = \"\"\"--sql\n",
    "    DROP TABLE db1.total_active_users_per_day_full_table\n",
    "    \"\"\"\n",
    "\n",
    "ch.query_run(query_text)"
   ]
  },
  {
   "cell_type": "markdown",
   "id": "18d1c7be",
   "metadata": {},
   "source": [
    "### refresh mv"
   ]
  },
  {
   "cell_type": "code",
   "execution_count": null,
   "id": "10327133",
   "metadata": {},
   "outputs": [],
   "source": [
    "query_text = \"\"\"\n",
    "SYSTEM REFRESH VIEW db1.total_active_users_per_day_full_table_mv\n",
    "\"\"\"\n",
    "\n",
    "ch.query_run(query_text)"
   ]
  }
 ],
 "metadata": {
  "jupytext": {
   "formats": "ipynb,md"
  },
  "kernelspec": {
   "display_name": "Python (myenv)",
   "language": "python",
   "name": "myenv"
  },
  "language_info": {
   "codemirror_mode": {
    "name": "ipython",
    "version": 3
   },
   "file_extension": ".py",
   "mimetype": "text/x-python",
   "name": "python",
   "nbconvert_exporter": "python",
   "pygments_lexer": "ipython3",
   "version": "3.12.11"
  }
 },
 "nbformat": 4,
 "nbformat_minor": 5
}

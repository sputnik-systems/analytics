{
 "cells": [
  {
   "cell_type": "markdown",
   "id": "9c11e697",
   "metadata": {},
   "source": [
    "## Start"
   ]
  },
  {
   "cell_type": "code",
   "execution_count": 1,
   "id": "a365282e",
   "metadata": {},
   "outputs": [],
   "source": [
    "import clickhouse_connect\n",
    "import datetime\n",
    "import os\n",
    "import pytz\n",
    "import pandas as pd\n",
    "from dateutil.relativedelta import relativedelta\n",
    "from dotenv import load_dotenv\n",
    "\n",
    "import sys\n",
    "sys.path.append('/home/boris/Documents/Work/analytics/Clickhouse')\n",
    "from clickhouse_client import ClickHouse_client\n",
    "ch = ClickHouse_client()\n",
    "pd.set_option('display.max_rows', 1000)"
   ]
  },
  {
   "cell_type": "markdown",
   "id": "1961aef7",
   "metadata": {},
   "source": [
    "___\n",
    "### Tags: #Mobile_Report\n",
    "\n",
    "### Links:  \n",
    "\n",
    "[[rep_mobile_citizens_id_city_partner]]\n",
    "\n",
    "[[sessions_st_mobile]]\n",
    "\n",
    "[[subscriptions_st_mobile]]\n",
    "\n",
    "\n",
    "### Table"
   ]
  },
  {
   "cell_type": "code",
   "execution_count": 3,
   "id": "04c66d69",
   "metadata": {},
   "outputs": [
    {
     "ename": "DatabaseError",
     "evalue": "HTTPDriver for https://rc1a-eflrt968scbm232q.mdb.yandexcloud.net:8443 received ClickHouse error code 57\n Code: 57. DB::Exception: Table db1.total_active_users_per_day_full_table already exists. (TABLE_ALREADY_EXISTS) (version 25.3.6.56 (official build))\n",
     "output_type": "error",
     "traceback": [
      "\u001b[31m---------------------------------------------------------------------------\u001b[39m",
      "\u001b[31mDatabaseError\u001b[39m                             Traceback (most recent call last)",
      "\u001b[36mCell\u001b[39m\u001b[36m \u001b[39m\u001b[32mIn[3]\u001b[39m\u001b[32m, line 19\u001b[39m\n\u001b[32m      1\u001b[39m query_text = \u001b[33m\"\"\"\u001b[39m\u001b[33m--sql\u001b[39m\n\u001b[32m      2\u001b[39m \u001b[33mCREATE TABLE db1.total_active_users_per_day_full_table\u001b[39m\n\u001b[32m      3\u001b[39m \u001b[33m(\u001b[39m\n\u001b[32m   (...)\u001b[39m\u001b[32m     16\u001b[39m \u001b[33mORDER BY partner_uuid\u001b[39m\n\u001b[32m     17\u001b[39m \u001b[33m\"\"\"\u001b[39m\n\u001b[32m---> \u001b[39m\u001b[32m19\u001b[39m \u001b[43mch\u001b[49m\u001b[43m.\u001b[49m\u001b[43mquery_run\u001b[49m\u001b[43m(\u001b[49m\u001b[43mquery_text\u001b[49m\u001b[43m)\u001b[49m\n",
      "\u001b[36mFile \u001b[39m\u001b[32m~/Documents/Work/analytics/Clickhouse/clickhouse_client.py:29\u001b[39m, in \u001b[36mClickHouse_client.query_run\u001b[39m\u001b[34m(self, query_text)\u001b[39m\n\u001b[32m     27\u001b[39m \u001b[38;5;28;01mdef\u001b[39;00m\u001b[38;5;250m \u001b[39m\u001b[34mquery_run\u001b[39m (\u001b[38;5;28mself\u001b[39m, query_text):\n\u001b[32m     28\u001b[39m     query_text = query_text\n\u001b[32m---> \u001b[39m\u001b[32m29\u001b[39m     result = \u001b[38;5;28;43mself\u001b[39;49m\u001b[43m.\u001b[49m\u001b[43mclient\u001b[49m\u001b[43m.\u001b[49m\u001b[43mquery\u001b[49m\u001b[43m(\u001b[49m\u001b[43mquery_text\u001b[49m\u001b[43m)\u001b[49m\n\u001b[32m     30\u001b[39m     \u001b[38;5;28mself\u001b[39m.df = pd.DataFrame(result.result_rows, columns=result.column_names)\n\u001b[32m     31\u001b[39m     \u001b[38;5;66;03m# self.df = pl.DataFrame(result.result_rows, schema=result.column_names)\u001b[39;00m\n",
      "\u001b[36mFile \u001b[39m\u001b[32m~/myenv/lib/python3.12/site-packages/clickhouse_connect/driver/client.py:237\u001b[39m, in \u001b[36mClient.query\u001b[39m\u001b[34m(self, query, parameters, settings, query_formats, column_formats, encoding, use_none, column_oriented, use_numpy, max_str_len, context, query_tz, column_tzs, external_data, transport_settings)\u001b[39m\n\u001b[32m    235\u001b[39m         \u001b[38;5;28;01mreturn\u001b[39;00m response.as_query_result()\n\u001b[32m    236\u001b[39m     \u001b[38;5;28;01mreturn\u001b[39;00m QueryResult([response] \u001b[38;5;28;01mif\u001b[39;00m \u001b[38;5;28misinstance\u001b[39m(response, \u001b[38;5;28mlist\u001b[39m) \u001b[38;5;28;01melse\u001b[39;00m [[response]])\n\u001b[32m--> \u001b[39m\u001b[32m237\u001b[39m \u001b[38;5;28;01mreturn\u001b[39;00m \u001b[38;5;28;43mself\u001b[39;49m\u001b[43m.\u001b[49m\u001b[43m_query_with_context\u001b[49m\u001b[43m(\u001b[49m\u001b[43mquery_context\u001b[49m\u001b[43m)\u001b[49m\n",
      "\u001b[36mFile \u001b[39m\u001b[32m~/myenv/lib/python3.12/site-packages/clickhouse_connect/driver/httpclient.py:243\u001b[39m, in \u001b[36mHttpClient._query_with_context\u001b[39m\u001b[34m(self, context)\u001b[39m\n\u001b[32m    241\u001b[39m     fields = \u001b[38;5;28;01mNone\u001b[39;00m\n\u001b[32m    242\u001b[39m     headers[\u001b[33m'\u001b[39m\u001b[33mContent-Type\u001b[39m\u001b[33m'\u001b[39m] = \u001b[33m'\u001b[39m\u001b[33mtext/plain; charset=utf-8\u001b[39m\u001b[33m'\u001b[39m\n\u001b[32m--> \u001b[39m\u001b[32m243\u001b[39m response = \u001b[38;5;28;43mself\u001b[39;49m\u001b[43m.\u001b[49m\u001b[43m_raw_request\u001b[49m\u001b[43m(\u001b[49m\u001b[43mbody\u001b[49m\u001b[43m,\u001b[49m\n\u001b[32m    244\u001b[39m \u001b[43m                             \u001b[49m\u001b[43mparams\u001b[49m\u001b[43m,\u001b[49m\n\u001b[32m    245\u001b[39m \u001b[43m                             \u001b[49m\u001b[43mdict_copy\u001b[49m\u001b[43m(\u001b[49m\u001b[43mheaders\u001b[49m\u001b[43m,\u001b[49m\u001b[43m \u001b[49m\u001b[43mcontext\u001b[49m\u001b[43m.\u001b[49m\u001b[43mtransport_settings\u001b[49m\u001b[43m)\u001b[49m\u001b[43m,\u001b[49m\n\u001b[32m    246\u001b[39m \u001b[43m                             \u001b[49m\u001b[43mstream\u001b[49m\u001b[43m=\u001b[49m\u001b[38;5;28;43;01mTrue\u001b[39;49;00m\u001b[43m,\u001b[49m\n\u001b[32m    247\u001b[39m \u001b[43m                             \u001b[49m\u001b[43mretries\u001b[49m\u001b[43m=\u001b[49m\u001b[38;5;28;43mself\u001b[39;49m\u001b[43m.\u001b[49m\u001b[43mquery_retries\u001b[49m\u001b[43m,\u001b[49m\n\u001b[32m    248\u001b[39m \u001b[43m                             \u001b[49m\u001b[43mfields\u001b[49m\u001b[43m=\u001b[49m\u001b[43mfields\u001b[49m\u001b[43m,\u001b[49m\n\u001b[32m    249\u001b[39m \u001b[43m                             \u001b[49m\u001b[43mserver_wait\u001b[49m\u001b[43m=\u001b[49m\u001b[38;5;129;43;01mnot\u001b[39;49;00m\u001b[43m \u001b[49m\u001b[43mcontext\u001b[49m\u001b[43m.\u001b[49m\u001b[43mstreaming\u001b[49m\u001b[43m)\u001b[49m\n\u001b[32m    250\u001b[39m byte_source = RespBuffCls(ResponseSource(response))  \u001b[38;5;66;03m# pylint: disable=not-callable\u001b[39;00m\n\u001b[32m    251\u001b[39m context.set_response_tz(\u001b[38;5;28mself\u001b[39m._check_tz_change(response.headers.get(\u001b[33m'\u001b[39m\u001b[33mX-ClickHouse-Timezone\u001b[39m\u001b[33m'\u001b[39m)))\n",
      "\u001b[36mFile \u001b[39m\u001b[32m~/myenv/lib/python3.12/site-packages/clickhouse_connect/driver/httpclient.py:481\u001b[39m, in \u001b[36mHttpClient._raw_request\u001b[39m\u001b[34m(self, data, params, headers, method, retries, stream, server_wait, fields, error_handler)\u001b[39m\n\u001b[32m    479\u001b[39m     error_handler(response)\n\u001b[32m    480\u001b[39m \u001b[38;5;28;01melse\u001b[39;00m:\n\u001b[32m--> \u001b[39m\u001b[32m481\u001b[39m     \u001b[38;5;28;43mself\u001b[39;49m\u001b[43m.\u001b[49m\u001b[43m_error_handler\u001b[49m\u001b[43m(\u001b[49m\u001b[43mresponse\u001b[49m\u001b[43m)\u001b[49m\n",
      "\u001b[36mFile \u001b[39m\u001b[32m~/myenv/lib/python3.12/site-packages/clickhouse_connect/driver/httpclient.py:402\u001b[39m, in \u001b[36mHttpClient._error_handler\u001b[39m\u001b[34m(self, response, retried)\u001b[39m\n\u001b[32m    399\u001b[39m \u001b[38;5;28;01melse\u001b[39;00m:\n\u001b[32m    400\u001b[39m     err_str = \u001b[33m'\u001b[39m\u001b[33mThe ClickHouse server returned an error.\u001b[39m\u001b[33m'\u001b[39m\n\u001b[32m--> \u001b[39m\u001b[32m402\u001b[39m \u001b[38;5;28;01mraise\u001b[39;00m OperationalError(err_str) \u001b[38;5;28;01mif\u001b[39;00m retried \u001b[38;5;28;01melse\u001b[39;00m DatabaseError(err_str) \u001b[38;5;28;01mfrom\u001b[39;00m\u001b[38;5;250m \u001b[39m\u001b[38;5;28;01mNone\u001b[39;00m\n",
      "\u001b[31mDatabaseError\u001b[39m: HTTPDriver for https://rc1a-eflrt968scbm232q.mdb.yandexcloud.net:8443 received ClickHouse error code 57\n Code: 57. DB::Exception: Table db1.total_active_users_per_day_full_table already exists. (TABLE_ALREADY_EXISTS) (version 25.3.6.56 (official build))\n"
     ]
    }
   ],
   "source": [
    "query_text = \"\"\"--sql\n",
    "CREATE TABLE db1.total_active_users_per_day_full_table\n",
    "(\n",
    "    `report_date` Date,\n",
    "    `partner_uuid` String,\n",
    "    `city` String,\n",
    "    `citizen_id` Int32,\n",
    "    `monetization` UInt8,\n",
    "    `subscriptions_state` String,\n",
    "    `address_uuid` String,\n",
    "    `flat_uuid` String,\n",
    "    `created_at` String,\n",
    "    `activated_at` DateTime\n",
    ")\n",
    "ENGINE = MergeTree()\n",
    "ORDER BY partner_uuid\n",
    "\"\"\"\n",
    "\n",
    "ch.query_run(query_text)"
   ]
  },
  {
   "cell_type": "code",
   "execution_count": null,
   "id": "94a1a164",
   "metadata": {},
   "outputs": [],
   "source": []
  },
  {
   "cell_type": "code",
   "execution_count": 4,
   "id": "8c78edfa",
   "metadata": {},
   "outputs": [
    {
     "data": {
      "text/html": [
       "<div><style>\n",
       ".dataframe > thead > tr,\n",
       ".dataframe > tbody > tr {\n",
       "  text-align: right;\n",
       "  white-space: pre-wrap;\n",
       "}\n",
       "</style>\n",
       "<small>shape: (0, 0)</small><table border=\"1\" class=\"dataframe\"><thead><tr></tr><tr></tr></thead><tbody></tbody></table></div>"
      ],
      "text/plain": [
       "shape: (0, 0)\n",
       "┌┐\n",
       "╞╡\n",
       "└┘"
      ]
     },
     "execution_count": 4,
     "metadata": {},
     "output_type": "execute_result"
    }
   ],
   "source": [
    "query_text = \"\"\"--sql\n",
    "    CREATE MATERIALIZED VIEW db1.total_active_users_per_day_full_table_mv\n",
    "    REFRESH EVERY 1 DAY OFFSET 4 HOUR 10 MINUTE TO db1.total_active_users_per_day_full_table AS\n",
    "       SELECT\n",
    "        r_m_c.partner_uuid AS partner_uuid,\n",
    "        ses_st_m.citizen_id AS citizen_id,\n",
    "        r_m_c.report_date AS report_date,\n",
    "        r_m_c.monetization AS monetization,\n",
    "        sub_st_m.state AS subscriptions_state,\n",
    "        r_m_c.city AS city,\n",
    "        r_m_c.address_uuid AS address_uuid,\n",
    "        r_m_c.flat_uuid AS flat_uuid,\n",
    "        c_d_m.created_at AS created_at,\n",
    "        r_m_c.activated_at AS activated_at\n",
    "    FROM db1.rep_mobile_citizens_id_city_partner as r_m_c\n",
    "    JOIN db1.`sessions_st_mobile_ch` AS ses_st_m\n",
    "        ON r_m_c.citizen_id = ses_st_m.citizen_id\n",
    "        AND r_m_c.report_date = ses_st_m.report_date \n",
    "    LEFT JOIN db1.`subscriptions_st_mobile_ch` AS sub_st_m\n",
    "        ON ses_st_m.citizen_id = sub_st_m.citizen_id\n",
    "        AND ses_st_m.report_date = sub_st_m.report_date\n",
    "    LEFT JOIN db1.`citizens_dir_mobile_ch` AS c_d_m ON c_d_m.`citizen_id`  = r_m_c.`citizen_id`\n",
    "    WHERE \n",
    "        toDate(`last_use`) \n",
    "        BETWEEN toStartOfMonth(r_m_c.report_date) and r_m_c.report_date \n",
    "        AND  r_m_c.state = 'activated'\n",
    "    --\n",
    "     SETTINGS join_algorithm = 'partial_merge'\n",
    "    \"\"\"\n",
    "ch.query_run(query_text)"
   ]
  },
  {
   "cell_type": "markdown",
   "id": "bc013d7d",
   "metadata": {},
   "source": [
    "___\n",
    "## Tools\n",
    "___\n",
    "### query\n"
   ]
  },
  {
   "cell_type": "code",
   "execution_count": 5,
   "id": "d4b5ec37",
   "metadata": {},
   "outputs": [
    {
     "data": {
      "text/html": [
       "<div><style>\n",
       ".dataframe > thead > tr,\n",
       ".dataframe > tbody > tr {\n",
       "  text-align: right;\n",
       "  white-space: pre-wrap;\n",
       "}\n",
       "</style>\n",
       "<small>shape: (100, 10)</small><table border=\"1\" class=\"dataframe\"><thead><tr><th>report_date</th><th>partner_uuid</th><th>city</th><th>citizen_id</th><th>monetization</th><th>subscriptions_state</th><th>address_uuid</th><th>flat_uuid</th><th>created_at</th><th>activated_at</th></tr><tr><td>date</td><td>str</td><td>str</td><td>i64</td><td>i64</td><td>str</td><td>str</td><td>str</td><td>str</td><td>datetime[ns]</td></tr></thead><tbody><tr><td>2025-09-02</td><td>&quot;&quot;</td><td>&quot;&quot;</td><td>1303931</td><td>0</td><td>&quot;&quot;</td><td>&quot;&quot;</td><td>&quot;&quot;</td><td>&quot;2023-10-03 17:37:56&quot;</td><td>1970-01-01 00:00:00</td></tr><tr><td>2025-09-02</td><td>&quot;&quot;</td><td>&quot;Миасс&quot;</td><td>1303941</td><td>1</td><td>&quot;&quot;</td><td>&quot;e42cc4ed-b469-48e4-921a-94b56e…</td><td>&quot;5a97bd8c-bd09-49f3-b984-7b57d1…</td><td>&quot;2023-10-03 17:41:27&quot;</td><td>2023-10-03 17:41:56</td></tr><tr><td>2025-09-02</td><td>&quot;&quot;</td><td>&quot;Казань&quot;</td><td>1312145</td><td>1</td><td>&quot;&quot;</td><td>&quot;0a8c8816-af31-45f9-a3a4-090370…</td><td>&quot;dad96e61-1054-4eea-8b52-ede76f…</td><td>&quot;2023-10-11 20:08:10&quot;</td><td>2023-11-03 15:50:13</td></tr><tr><td>2025-09-02</td><td>&quot;&quot;</td><td>&quot;&quot;</td><td>1331970</td><td>0</td><td>&quot;&quot;</td><td>&quot;&quot;</td><td>&quot;&quot;</td><td>&quot;2023-10-31 17:43:44&quot;</td><td>1970-01-01 00:00:00</td></tr><tr><td>2025-09-02</td><td>&quot;&quot;</td><td>&quot;Кохма&quot;</td><td>1344895</td><td>1</td><td>&quot;&quot;</td><td>&quot;4008d4ea-d4cf-447d-997d-1134c8…</td><td>&quot;c5b4e33e-5a32-4638-931b-6a96f8…</td><td>&quot;2023-11-12 16:13:32&quot;</td><td>2023-11-12 16:16:43</td></tr><tr><td>&hellip;</td><td>&hellip;</td><td>&hellip;</td><td>&hellip;</td><td>&hellip;</td><td>&hellip;</td><td>&hellip;</td><td>&hellip;</td><td>&hellip;</td><td>&hellip;</td></tr><tr><td>2025-09-02</td><td>&quot;010cd1e6-7f7b-4613-9209-96b28d…</td><td>&quot;Коряжма&quot;</td><td>1367125</td><td>1</td><td>&quot;&quot;</td><td>&quot;cd209cca-837b-4dc1-9786-d6b3d4…</td><td>&quot;793a9e23-b8ce-4e20-a475-e8819c…</td><td>&quot;2023-12-03 09:40:36&quot;</td><td>2023-12-03 09:42:28</td></tr><tr><td>2025-09-02</td><td>&quot;010cd1e6-7f7b-4613-9209-96b28d…</td><td>&quot;Котлас&quot;</td><td>1381785</td><td>1</td><td>&quot;&quot;</td><td>&quot;252a6a23-3393-4704-8d07-4187f2…</td><td>&quot;1d3b939b-622d-4d2c-a65d-5c8a36…</td><td>&quot;2023-12-18 17:17:17&quot;</td><td>2023-12-18 17:20:14</td></tr><tr><td>2025-09-02</td><td>&quot;010cd1e6-7f7b-4613-9209-96b28d…</td><td>&quot;Котлас&quot;</td><td>1381808</td><td>1</td><td>&quot;&quot;</td><td>&quot;252a6a23-3393-4704-8d07-4187f2…</td><td>&quot;1d3b939b-622d-4d2c-a65d-5c8a36…</td><td>&quot;2023-12-18 17:38:11&quot;</td><td>2023-12-18 17:41:27</td></tr><tr><td>2025-09-02</td><td>&quot;010cd1e6-7f7b-4613-9209-96b28d…</td><td>&quot;Коряжма&quot;</td><td>1331972</td><td>1</td><td>&quot;&quot;</td><td>&quot;512e6a82-285d-406a-9ae2-968fef…</td><td>&quot;c893f03e-bc25-4347-b40b-78e6c6…</td><td>&quot;2023-10-31 17:45:11&quot;</td><td>2023-10-31 18:09:00</td></tr><tr><td>2025-09-02</td><td>&quot;010cd1e6-7f7b-4613-9209-96b28d…</td><td>&quot;Коряжма&quot;</td><td>1332020</td><td>1</td><td>&quot;deactivated&quot;</td><td>&quot;512e6a82-285d-406a-9ae2-968fef…</td><td>&quot;c893f03e-bc25-4347-b40b-78e6c6…</td><td>&quot;2023-10-31 18:13:48&quot;</td><td>2023-10-31 18:14:08</td></tr></tbody></table></div>"
      ],
      "text/plain": [
       "shape: (100, 10)\n",
       "┌────────────┬───────────┬─────────┬───────────┬───┬───────────┬───────────┬───────────┬───────────┐\n",
       "│ report_dat ┆ partner_u ┆ city    ┆ citizen_i ┆ … ┆ address_u ┆ flat_uuid ┆ created_a ┆ activated │\n",
       "│ e          ┆ uid       ┆ ---     ┆ d         ┆   ┆ uid       ┆ ---       ┆ t         ┆ _at       │\n",
       "│ ---        ┆ ---       ┆ str     ┆ ---       ┆   ┆ ---       ┆ str       ┆ ---       ┆ ---       │\n",
       "│ date       ┆ str       ┆         ┆ i64       ┆   ┆ str       ┆           ┆ str       ┆ datetime[ │\n",
       "│            ┆           ┆         ┆           ┆   ┆           ┆           ┆           ┆ ns]       │\n",
       "╞════════════╪═══════════╪═════════╪═══════════╪═══╪═══════════╪═══════════╪═══════════╪═══════════╡\n",
       "│ 2025-09-02 ┆           ┆         ┆ 1303931   ┆ … ┆           ┆           ┆ 2023-10-0 ┆ 1970-01-0 │\n",
       "│            ┆           ┆         ┆           ┆   ┆           ┆           ┆ 3         ┆ 1         │\n",
       "│            ┆           ┆         ┆           ┆   ┆           ┆           ┆ 17:37:56  ┆ 00:00:00  │\n",
       "│ 2025-09-02 ┆           ┆ Миасс   ┆ 1303941   ┆ … ┆ e42cc4ed- ┆ 5a97bd8c- ┆ 2023-10-0 ┆ 2023-10-0 │\n",
       "│            ┆           ┆         ┆           ┆   ┆ b469-48e4 ┆ bd09-49f3 ┆ 3         ┆ 3         │\n",
       "│            ┆           ┆         ┆           ┆   ┆ -921a-94b ┆ -b984-7b5 ┆ 17:41:27  ┆ 17:41:56  │\n",
       "│            ┆           ┆         ┆           ┆   ┆ 56e…      ┆ 7d1…      ┆           ┆           │\n",
       "│ 2025-09-02 ┆           ┆ Казань  ┆ 1312145   ┆ … ┆ 0a8c8816- ┆ dad96e61- ┆ 2023-10-1 ┆ 2023-11-0 │\n",
       "│            ┆           ┆         ┆           ┆   ┆ af31-45f9 ┆ 1054-4eea ┆ 1         ┆ 3         │\n",
       "│            ┆           ┆         ┆           ┆   ┆ -a3a4-090 ┆ -8b52-ede ┆ 20:08:10  ┆ 15:50:13  │\n",
       "│            ┆           ┆         ┆           ┆   ┆ 370…      ┆ 76f…      ┆           ┆           │\n",
       "│ 2025-09-02 ┆           ┆         ┆ 1331970   ┆ … ┆           ┆           ┆ 2023-10-3 ┆ 1970-01-0 │\n",
       "│            ┆           ┆         ┆           ┆   ┆           ┆           ┆ 1         ┆ 1         │\n",
       "│            ┆           ┆         ┆           ┆   ┆           ┆           ┆ 17:43:44  ┆ 00:00:00  │\n",
       "│ 2025-09-02 ┆           ┆ Кохма   ┆ 1344895   ┆ … ┆ 4008d4ea- ┆ c5b4e33e- ┆ 2023-11-1 ┆ 2023-11-1 │\n",
       "│            ┆           ┆         ┆           ┆   ┆ d4cf-447d ┆ 5a32-4638 ┆ 2         ┆ 2         │\n",
       "│            ┆           ┆         ┆           ┆   ┆ -997d-113 ┆ -931b-6a9 ┆ 16:13:32  ┆ 16:16:43  │\n",
       "│            ┆           ┆         ┆           ┆   ┆ 4c8…      ┆ 6f8…      ┆           ┆           │\n",
       "│ …          ┆ …         ┆ …       ┆ …         ┆ … ┆ …         ┆ …         ┆ …         ┆ …         │\n",
       "│ 2025-09-02 ┆ 010cd1e6- ┆ Коряжма ┆ 1367125   ┆ … ┆ cd209cca- ┆ 793a9e23- ┆ 2023-12-0 ┆ 2023-12-0 │\n",
       "│            ┆ 7f7b-4613 ┆         ┆           ┆   ┆ 837b-4dc1 ┆ b8ce-4e20 ┆ 3         ┆ 3         │\n",
       "│            ┆ -9209-96b ┆         ┆           ┆   ┆ -9786-d6b ┆ -a475-e88 ┆ 09:40:36  ┆ 09:42:28  │\n",
       "│            ┆ 28d…      ┆         ┆           ┆   ┆ 3d4…      ┆ 19c…      ┆           ┆           │\n",
       "│ 2025-09-02 ┆ 010cd1e6- ┆ Котлас  ┆ 1381785   ┆ … ┆ 252a6a23- ┆ 1d3b939b- ┆ 2023-12-1 ┆ 2023-12-1 │\n",
       "│            ┆ 7f7b-4613 ┆         ┆           ┆   ┆ 3393-4704 ┆ 622d-4d2c ┆ 8         ┆ 8         │\n",
       "│            ┆ -9209-96b ┆         ┆           ┆   ┆ -8d07-418 ┆ -a65d-5c8 ┆ 17:17:17  ┆ 17:20:14  │\n",
       "│            ┆ 28d…      ┆         ┆           ┆   ┆ 7f2…      ┆ a36…      ┆           ┆           │\n",
       "│ 2025-09-02 ┆ 010cd1e6- ┆ Котлас  ┆ 1381808   ┆ … ┆ 252a6a23- ┆ 1d3b939b- ┆ 2023-12-1 ┆ 2023-12-1 │\n",
       "│            ┆ 7f7b-4613 ┆         ┆           ┆   ┆ 3393-4704 ┆ 622d-4d2c ┆ 8         ┆ 8         │\n",
       "│            ┆ -9209-96b ┆         ┆           ┆   ┆ -8d07-418 ┆ -a65d-5c8 ┆ 17:38:11  ┆ 17:41:27  │\n",
       "│            ┆ 28d…      ┆         ┆           ┆   ┆ 7f2…      ┆ a36…      ┆           ┆           │\n",
       "│ 2025-09-02 ┆ 010cd1e6- ┆ Коряжма ┆ 1331972   ┆ … ┆ 512e6a82- ┆ c893f03e- ┆ 2023-10-3 ┆ 2023-10-3 │\n",
       "│            ┆ 7f7b-4613 ┆         ┆           ┆   ┆ 285d-406a ┆ bc25-4347 ┆ 1         ┆ 1         │\n",
       "│            ┆ -9209-96b ┆         ┆           ┆   ┆ -9ae2-968 ┆ -b40b-78e ┆ 17:45:11  ┆ 18:09:00  │\n",
       "│            ┆ 28d…      ┆         ┆           ┆   ┆ fef…      ┆ 6c6…      ┆           ┆           │\n",
       "│ 2025-09-02 ┆ 010cd1e6- ┆ Коряжма ┆ 1332020   ┆ … ┆ 512e6a82- ┆ c893f03e- ┆ 2023-10-3 ┆ 2023-10-3 │\n",
       "│            ┆ 7f7b-4613 ┆         ┆           ┆   ┆ 285d-406a ┆ bc25-4347 ┆ 1         ┆ 1         │\n",
       "│            ┆ -9209-96b ┆         ┆           ┆   ┆ -9ae2-968 ┆ -b40b-78e ┆ 18:13:48  ┆ 18:14:08  │\n",
       "│            ┆ 28d…      ┆         ┆           ┆   ┆ fef…      ┆ 6c6…      ┆           ┆           │\n",
       "└────────────┴───────────┴─────────┴───────────┴───┴───────────┴───────────┴───────────┴───────────┘"
      ]
     },
     "execution_count": 5,
     "metadata": {},
     "output_type": "execute_result"
    }
   ],
   "source": [
    "query_text = \"\"\"--sql\n",
    "    SELECT\n",
    "        *\n",
    "    FROM db1.total_active_users_per_day_full_table\n",
    "    ORDER BY report_date DESC\n",
    "    limit 100\n",
    "    \"\"\"\n",
    "\n",
    "ch.query_run(query_text)"
   ]
  },
  {
   "cell_type": "markdown",
   "id": "5f169d31",
   "metadata": {},
   "source": [
    "### delete a part\n"
   ]
  },
  {
   "cell_type": "code",
   "execution_count": 22,
   "id": "3eadd0ac",
   "metadata": {},
   "outputs": [
    {
     "data": {
      "text/html": [
       "<div><style>\n",
       ".dataframe > thead > tr,\n",
       ".dataframe > tbody > tr {\n",
       "  text-align: right;\n",
       "  white-space: pre-wrap;\n",
       "}\n",
       "</style>\n",
       "<small>shape: (0, 0)</small><table border=\"1\" class=\"dataframe\"><thead><tr></tr><tr></tr></thead><tbody></tbody></table></div>"
      ],
      "text/plain": [
       "shape: (0, 0)\n",
       "┌┐\n",
       "╞╡\n",
       "└┘"
      ]
     },
     "execution_count": 22,
     "metadata": {},
     "output_type": "execute_result"
    }
   ],
   "source": [
    "query_text = \"\"\"--sql\n",
    "    ALTER TABLE db1.total_active_users_per_day_full_table DELETE WHERE report_date = '2025-07-17'\n",
    "    \"\"\"\n",
    "\n",
    "ch.query_run(query_text)"
   ]
  },
  {
   "cell_type": "markdown",
   "id": "401d33e1",
   "metadata": {},
   "source": [
    "### drop mv"
   ]
  },
  {
   "cell_type": "code",
   "execution_count": 12,
   "id": "6ffc3e2e",
   "metadata": {},
   "outputs": [
    {
     "data": {
      "text/html": [
       "<div><style>\n",
       ".dataframe > thead > tr,\n",
       ".dataframe > tbody > tr {\n",
       "  text-align: right;\n",
       "  white-space: pre-wrap;\n",
       "}\n",
       "</style>\n",
       "<small>shape: (0, 0)</small><table border=\"1\" class=\"dataframe\"><thead><tr></tr><tr></tr></thead><tbody></tbody></table></div>"
      ],
      "text/plain": [
       "shape: (0, 0)\n",
       "┌┐\n",
       "╞╡\n",
       "└┘"
      ]
     },
     "execution_count": 12,
     "metadata": {},
     "output_type": "execute_result"
    }
   ],
   "source": [
    "query_text = \"\"\"--sql\n",
    "    DROP TABLE db1.total_active_users_per_day_full_table_mv\n",
    "    \"\"\"\n",
    "\n",
    "ch.query_run(query_text)"
   ]
  },
  {
   "cell_type": "markdown",
   "id": "b9f26df1",
   "metadata": {},
   "source": [
    "### drop ch"
   ]
  },
  {
   "cell_type": "code",
   "execution_count": 4,
   "id": "9104c646",
   "metadata": {},
   "outputs": [
    {
     "data": {
      "text/html": [
       "<div><style>\n",
       ".dataframe > thead > tr,\n",
       ".dataframe > tbody > tr {\n",
       "  text-align: right;\n",
       "  white-space: pre-wrap;\n",
       "}\n",
       "</style>\n",
       "<small>shape: (0, 0)</small><table border=\"1\" class=\"dataframe\"><thead><tr></tr><tr></tr></thead><tbody></tbody></table></div>"
      ],
      "text/plain": [
       "shape: (0, 0)\n",
       "┌┐\n",
       "╞╡\n",
       "└┘"
      ]
     },
     "execution_count": 4,
     "metadata": {},
     "output_type": "execute_result"
    }
   ],
   "source": [
    "query_text = \"\"\"--sql\n",
    "    DROP TABLE db1.total_active_users_per_day_full_table\n",
    "    \"\"\"\n",
    "\n",
    "ch.query_run(query_text)"
   ]
  },
  {
   "cell_type": "markdown",
   "id": "18d1c7be",
   "metadata": {},
   "source": [
    "### refresh mv"
   ]
  },
  {
   "cell_type": "code",
   "execution_count": null,
   "id": "10327133",
   "metadata": {},
   "outputs": [],
   "source": [
    "query_text = \"\"\"\n",
    "SYSTEM REFRESH VIEW db1.total_active_users_per_day_full_table_mv\n",
    "\"\"\"\n",
    "\n",
    "ch.query_run(query_text)"
   ]
  }
 ],
 "metadata": {
  "jupytext": {
   "formats": "ipynb,md"
  },
  "kernelspec": {
   "display_name": "Python 3 (ipykernel)",
   "language": "python",
   "name": "python3"
  },
  "language_info": {
   "codemirror_mode": {
    "name": "ipython",
    "version": 3
   },
   "file_extension": ".py",
   "mimetype": "text/x-python",
   "name": "python",
   "nbconvert_exporter": "python",
   "pygments_lexer": "ipython3",
   "version": "3.12.11"
  }
 },
 "nbformat": 4,
 "nbformat_minor": 5
}

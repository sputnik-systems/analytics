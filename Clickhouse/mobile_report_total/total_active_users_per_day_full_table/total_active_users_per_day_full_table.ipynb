{
 "cells": [
  {
   "cell_type": "markdown",
   "id": "9c11e697",
   "metadata": {},
   "source": [
    "## Start"
   ]
  },
  {
   "cell_type": "code",
   "execution_count": 2,
   "id": "a365282e",
   "metadata": {},
   "outputs": [],
   "source": [
    "import clickhouse_connect\n",
    "import datetime\n",
    "import os\n",
    "import pytz\n",
    "import pandas as pd\n",
    "from dateutil.relativedelta import relativedelta\n",
    "from dotenv import load_dotenv\n",
    "\n",
    "import sys\n",
    "sys.path.append('/home/boris/Documents/Work/analytics/Clickhouse')\n",
    "from clickhouse_client import ClickHouse_client\n",
    "ch = ClickHouse_client()\n",
    "pd.set_option('display.max_rows', 1000)"
   ]
  },
  {
   "cell_type": "markdown",
   "id": "1961aef7",
   "metadata": {},
   "source": [
    "___\n",
    "### Tags: #Mobile_Report\n",
    "\n",
    "### Links:  \n",
    "\n",
    "[[rep_mobile_citizens_id_city_partner]]\n",
    "\n",
    "[[sessions_st_mobile]]\n",
    "\n",
    "[[subscriptions_st_mobile]]\n",
    "\n",
    "\n",
    "### Table"
   ]
  },
  {
   "cell_type": "code",
   "execution_count": 9,
   "id": "04c66d69",
   "metadata": {},
   "outputs": [
    {
     "data": {
      "text/html": [
       "<div><style>\n",
       ".dataframe > thead > tr,\n",
       ".dataframe > tbody > tr {\n",
       "  text-align: right;\n",
       "  white-space: pre-wrap;\n",
       "}\n",
       "</style>\n",
       "<small>shape: (0, 0)</small><table border=\"1\" class=\"dataframe\"><thead><tr></tr><tr></tr></thead><tbody></tbody></table></div>"
      ],
      "text/plain": [
       "shape: (0, 0)\n",
       "┌┐\n",
       "╞╡\n",
       "└┘"
      ]
     },
     "execution_count": 9,
     "metadata": {},
     "output_type": "execute_result"
    }
   ],
   "source": [
    "query_text = \"\"\"--sql\n",
    "CREATE TABLE db1.total_active_users_per_day_full_table\n",
    "(\n",
    "    `report_date` Date,\n",
    "    `partner_uuid` String,\n",
    "    `city` String,\n",
    "    `citizen_id` Int32,\n",
    "    `monetization` UInt8,\n",
    "    `subscriptions_state` String,\n",
    "    `address_uuid` String,\n",
    "    `flat_uuid` String,\n",
    "    `created_at` String,\n",
    "    `activated_at` DateTime\n",
    ")\n",
    "ENGINE = MergeTree()\n",
    "ORDER BY partner_uuid\n",
    "\"\"\"\n",
    "\n",
    "ch.query_run(query_text)"
   ]
  },
  {
   "cell_type": "code",
   "execution_count": 10,
   "id": "8c78edfa",
   "metadata": {},
   "outputs": [
    {
     "data": {
      "text/html": [
       "<div><style>\n",
       ".dataframe > thead > tr,\n",
       ".dataframe > tbody > tr {\n",
       "  text-align: right;\n",
       "  white-space: pre-wrap;\n",
       "}\n",
       "</style>\n",
       "<small>shape: (0, 0)</small><table border=\"1\" class=\"dataframe\"><thead><tr></tr><tr></tr></thead><tbody></tbody></table></div>"
      ],
      "text/plain": [
       "shape: (0, 0)\n",
       "┌┐\n",
       "╞╡\n",
       "└┘"
      ]
     },
     "execution_count": 10,
     "metadata": {},
     "output_type": "execute_result"
    }
   ],
   "source": [
    "query_text = \"\"\"--sql\n",
    "    CREATE MATERIALIZED VIEW db1.total_active_users_per_day_full_table_mv\n",
    "    REFRESH EVERY 1 DAY OFFSET 4 HOUR 10 MINUTE TO db1.total_active_users_per_day_full_table AS\n",
    "       SELECT\n",
    "        r_m_c.partner_uuid AS partner_uuid,\n",
    "        ses_st_m.citizen_id AS citizen_id,\n",
    "        r_m_c.report_date AS report_date,\n",
    "        r_m_c.monetization AS monetization,\n",
    "        sub_st_m.state AS subscriptions_state,\n",
    "        r_m_c.city AS city,\n",
    "        r_m_c.address_uuid AS address_uuid,\n",
    "        r_m_c.flat_uuid AS flat_uuid,\n",
    "        c_d_m.created_at AS created_at,\n",
    "        r_m_c.activated_at AS activated_at\n",
    "    FROM db1.rep_mobile_citizens_id_city_partner as r_m_c\n",
    "    JOIN db1.`sessions_st_mobile_ch` AS ses_st_m\n",
    "        ON r_m_c.citizen_id = ses_st_m.citizen_id\n",
    "        AND r_m_c.report_date = ses_st_m.report_date \n",
    "    LEFT JOIN db1.`subscriptions_st_mobile_ch` AS sub_st_m\n",
    "        ON ses_st_m.citizen_id = sub_st_m.citizen_id\n",
    "        AND ses_st_m.report_date = sub_st_m.report_date\n",
    "    LEFT JOIN db1.`citizens_dir_mobile_ch` AS c_d_m ON c_d_m.`citizen_id`  = r_m_c.`citizen_id`\n",
    "    WHERE \n",
    "        toDate(`last_use`) \n",
    "        BETWEEN toStartOfMonth(r_m_c.report_date) and r_m_c.report_date \n",
    "        AND  r_m_c.state = 'activated'\n",
    "    limit 100\n",
    "    --\n",
    "    SETTINGS join_any_take_last_row = 1,\n",
    "            join_algorithm = 'partial_merge'\n",
    "    \"\"\"\n",
    "ch.query_run(query_text)"
   ]
  },
  {
   "cell_type": "markdown",
   "id": "bc013d7d",
   "metadata": {},
   "source": [
    "___\n",
    "## Tools\n",
    "___\n",
    "### query\n"
   ]
  },
  {
   "cell_type": "code",
   "execution_count": 4,
   "id": "6666fc28-16ba-40bd-add1-16d2a5a64fe5",
   "metadata": {},
   "outputs": [
    {
     "data": {
      "text/html": [
       "<div><style>\n",
       ".dataframe > thead > tr,\n",
       ".dataframe > tbody > tr {\n",
       "  text-align: right;\n",
       "  white-space: pre-wrap;\n",
       "}\n",
       "</style>\n",
       "<small>shape: (100, 10)</small><table border=\"1\" class=\"dataframe\"><thead><tr><th>partner_uuid</th><th>citizen_id</th><th>report_date</th><th>monetization</th><th>subscriptions_state</th><th>city</th><th>address_uuid</th><th>flat_uuid</th><th>created_at</th><th>activated_at</th></tr><tr><td>str</td><td>i64</td><td>date</td><td>i64</td><td>str</td><td>str</td><td>str</td><td>str</td><td>str</td><td>datetime[ns]</td></tr></thead><tbody><tr><td>&quot;&quot;</td><td>601930</td><td>2023-07-13</td><td>0</td><td>&quot;&quot;</td><td>&quot;Актобе&quot;</td><td>&quot;74217307-0dc2-4328-a70d-a8ac8b…</td><td>&quot;7d0d45a0-1175-42ab-a648-0bcb01…</td><td>&quot;2022-04-07 17:58:24&quot;</td><td>2025-01-17 13:24:43</td></tr><tr><td>&quot;&quot;</td><td>601930</td><td>2023-07-16</td><td>0</td><td>&quot;&quot;</td><td>&quot;Актобе&quot;</td><td>&quot;74217307-0dc2-4328-a70d-a8ac8b…</td><td>&quot;7d0d45a0-1175-42ab-a648-0bcb01…</td><td>&quot;2022-04-07 17:58:24&quot;</td><td>2025-01-17 13:24:43</td></tr><tr><td>&quot;&quot;</td><td>601930</td><td>2023-07-21</td><td>0</td><td>&quot;&quot;</td><td>&quot;Актобе&quot;</td><td>&quot;74217307-0dc2-4328-a70d-a8ac8b…</td><td>&quot;7d0d45a0-1175-42ab-a648-0bcb01…</td><td>&quot;2022-04-07 17:58:24&quot;</td><td>2025-01-17 13:24:43</td></tr><tr><td>&quot;&quot;</td><td>601930</td><td>2023-07-25</td><td>0</td><td>&quot;&quot;</td><td>&quot;Актобе&quot;</td><td>&quot;74217307-0dc2-4328-a70d-a8ac8b…</td><td>&quot;7d0d45a0-1175-42ab-a648-0bcb01…</td><td>&quot;2022-04-07 17:58:24&quot;</td><td>2025-01-17 13:24:43</td></tr><tr><td>&quot;&quot;</td><td>601930</td><td>2023-07-26</td><td>0</td><td>&quot;&quot;</td><td>&quot;Актобе&quot;</td><td>&quot;74217307-0dc2-4328-a70d-a8ac8b…</td><td>&quot;7d0d45a0-1175-42ab-a648-0bcb01…</td><td>&quot;2022-04-07 17:58:24&quot;</td><td>2025-01-17 13:24:43</td></tr><tr><td>&hellip;</td><td>&hellip;</td><td>&hellip;</td><td>&hellip;</td><td>&hellip;</td><td>&hellip;</td><td>&hellip;</td><td>&hellip;</td><td>&hellip;</td><td>&hellip;</td></tr><tr><td>&quot;0cf27bad-f4c8-4cf9-890f-bb66da…</td><td>601935</td><td>2023-08-03</td><td>1</td><td>&quot;&quot;</td><td>&quot;Саратов&quot;</td><td>&quot;4aed6d45-bf51-4b44-8b10-397c83…</td><td>&quot;3cdc622a-6992-47da-a22f-4eb88e…</td><td>&quot;2022-04-07 17:59:41&quot;</td><td>2022-04-08 08:17:12</td></tr><tr><td>&quot;0cf27bad-f4c8-4cf9-890f-bb66da…</td><td>601935</td><td>2023-08-20</td><td>1</td><td>&quot;&quot;</td><td>&quot;Саратов&quot;</td><td>&quot;4aed6d45-bf51-4b44-8b10-397c83…</td><td>&quot;3cdc622a-6992-47da-a22f-4eb88e…</td><td>&quot;2022-04-07 17:59:41&quot;</td><td>2022-04-08 08:17:12</td></tr><tr><td>&quot;0cf27bad-f4c8-4cf9-890f-bb66da…</td><td>601935</td><td>2023-08-24</td><td>1</td><td>&quot;&quot;</td><td>&quot;Саратов&quot;</td><td>&quot;4aed6d45-bf51-4b44-8b10-397c83…</td><td>&quot;3cdc622a-6992-47da-a22f-4eb88e…</td><td>&quot;2022-04-07 17:59:41&quot;</td><td>2022-04-08 08:17:12</td></tr><tr><td>&quot;0cf27bad-f4c8-4cf9-890f-bb66da…</td><td>601935</td><td>2023-08-29</td><td>1</td><td>&quot;&quot;</td><td>&quot;Саратов&quot;</td><td>&quot;4aed6d45-bf51-4b44-8b10-397c83…</td><td>&quot;3cdc622a-6992-47da-a22f-4eb88e…</td><td>&quot;2022-04-07 17:59:41&quot;</td><td>2022-04-08 08:17:12</td></tr><tr><td>&quot;0cf27bad-f4c8-4cf9-890f-bb66da…</td><td>601935</td><td>2023-08-30</td><td>1</td><td>&quot;&quot;</td><td>&quot;Саратов&quot;</td><td>&quot;4aed6d45-bf51-4b44-8b10-397c83…</td><td>&quot;3cdc622a-6992-47da-a22f-4eb88e…</td><td>&quot;2022-04-07 17:59:41&quot;</td><td>2022-04-08 08:17:12</td></tr></tbody></table></div>"
      ],
      "text/plain": [
       "shape: (100, 10)\n",
       "┌───────────┬───────────┬───────────┬───────────┬───┬───────────┬───────────┬───────────┬──────────┐\n",
       "│ partner_u ┆ citizen_i ┆ report_da ┆ monetizat ┆ … ┆ address_u ┆ flat_uuid ┆ created_a ┆ activate │\n",
       "│ uid       ┆ d         ┆ te        ┆ ion       ┆   ┆ uid       ┆ ---       ┆ t         ┆ d_at     │\n",
       "│ ---       ┆ ---       ┆ ---       ┆ ---       ┆   ┆ ---       ┆ str       ┆ ---       ┆ ---      │\n",
       "│ str       ┆ i64       ┆ date      ┆ i64       ┆   ┆ str       ┆           ┆ str       ┆ datetime │\n",
       "│           ┆           ┆           ┆           ┆   ┆           ┆           ┆           ┆ [ns]     │\n",
       "╞═══════════╪═══════════╪═══════════╪═══════════╪═══╪═══════════╪═══════════╪═══════════╪══════════╡\n",
       "│           ┆ 601930    ┆ 2023-07-1 ┆ 0         ┆ … ┆ 74217307- ┆ 7d0d45a0- ┆ 2022-04-0 ┆ 2025-01- │\n",
       "│           ┆           ┆ 3         ┆           ┆   ┆ 0dc2-4328 ┆ 1175-42ab ┆ 7         ┆ 17       │\n",
       "│           ┆           ┆           ┆           ┆   ┆ -a70d-a8a ┆ -a648-0bc ┆ 17:58:24  ┆ 13:24:43 │\n",
       "│           ┆           ┆           ┆           ┆   ┆ c8b…      ┆ b01…      ┆           ┆          │\n",
       "│           ┆ 601930    ┆ 2023-07-1 ┆ 0         ┆ … ┆ 74217307- ┆ 7d0d45a0- ┆ 2022-04-0 ┆ 2025-01- │\n",
       "│           ┆           ┆ 6         ┆           ┆   ┆ 0dc2-4328 ┆ 1175-42ab ┆ 7         ┆ 17       │\n",
       "│           ┆           ┆           ┆           ┆   ┆ -a70d-a8a ┆ -a648-0bc ┆ 17:58:24  ┆ 13:24:43 │\n",
       "│           ┆           ┆           ┆           ┆   ┆ c8b…      ┆ b01…      ┆           ┆          │\n",
       "│           ┆ 601930    ┆ 2023-07-2 ┆ 0         ┆ … ┆ 74217307- ┆ 7d0d45a0- ┆ 2022-04-0 ┆ 2025-01- │\n",
       "│           ┆           ┆ 1         ┆           ┆   ┆ 0dc2-4328 ┆ 1175-42ab ┆ 7         ┆ 17       │\n",
       "│           ┆           ┆           ┆           ┆   ┆ -a70d-a8a ┆ -a648-0bc ┆ 17:58:24  ┆ 13:24:43 │\n",
       "│           ┆           ┆           ┆           ┆   ┆ c8b…      ┆ b01…      ┆           ┆          │\n",
       "│           ┆ 601930    ┆ 2023-07-2 ┆ 0         ┆ … ┆ 74217307- ┆ 7d0d45a0- ┆ 2022-04-0 ┆ 2025-01- │\n",
       "│           ┆           ┆ 5         ┆           ┆   ┆ 0dc2-4328 ┆ 1175-42ab ┆ 7         ┆ 17       │\n",
       "│           ┆           ┆           ┆           ┆   ┆ -a70d-a8a ┆ -a648-0bc ┆ 17:58:24  ┆ 13:24:43 │\n",
       "│           ┆           ┆           ┆           ┆   ┆ c8b…      ┆ b01…      ┆           ┆          │\n",
       "│           ┆ 601930    ┆ 2023-07-2 ┆ 0         ┆ … ┆ 74217307- ┆ 7d0d45a0- ┆ 2022-04-0 ┆ 2025-01- │\n",
       "│           ┆           ┆ 6         ┆           ┆   ┆ 0dc2-4328 ┆ 1175-42ab ┆ 7         ┆ 17       │\n",
       "│           ┆           ┆           ┆           ┆   ┆ -a70d-a8a ┆ -a648-0bc ┆ 17:58:24  ┆ 13:24:43 │\n",
       "│           ┆           ┆           ┆           ┆   ┆ c8b…      ┆ b01…      ┆           ┆          │\n",
       "│ …         ┆ …         ┆ …         ┆ …         ┆ … ┆ …         ┆ …         ┆ …         ┆ …        │\n",
       "│ 0cf27bad- ┆ 601935    ┆ 2023-08-0 ┆ 1         ┆ … ┆ 4aed6d45- ┆ 3cdc622a- ┆ 2022-04-0 ┆ 2022-04- │\n",
       "│ f4c8-4cf9 ┆           ┆ 3         ┆           ┆   ┆ bf51-4b44 ┆ 6992-47da ┆ 7         ┆ 08       │\n",
       "│ -890f-bb6 ┆           ┆           ┆           ┆   ┆ -8b10-397 ┆ -a22f-4eb ┆ 17:59:41  ┆ 08:17:12 │\n",
       "│ 6da…      ┆           ┆           ┆           ┆   ┆ c83…      ┆ 88e…      ┆           ┆          │\n",
       "│ 0cf27bad- ┆ 601935    ┆ 2023-08-2 ┆ 1         ┆ … ┆ 4aed6d45- ┆ 3cdc622a- ┆ 2022-04-0 ┆ 2022-04- │\n",
       "│ f4c8-4cf9 ┆           ┆ 0         ┆           ┆   ┆ bf51-4b44 ┆ 6992-47da ┆ 7         ┆ 08       │\n",
       "│ -890f-bb6 ┆           ┆           ┆           ┆   ┆ -8b10-397 ┆ -a22f-4eb ┆ 17:59:41  ┆ 08:17:12 │\n",
       "│ 6da…      ┆           ┆           ┆           ┆   ┆ c83…      ┆ 88e…      ┆           ┆          │\n",
       "│ 0cf27bad- ┆ 601935    ┆ 2023-08-2 ┆ 1         ┆ … ┆ 4aed6d45- ┆ 3cdc622a- ┆ 2022-04-0 ┆ 2022-04- │\n",
       "│ f4c8-4cf9 ┆           ┆ 4         ┆           ┆   ┆ bf51-4b44 ┆ 6992-47da ┆ 7         ┆ 08       │\n",
       "│ -890f-bb6 ┆           ┆           ┆           ┆   ┆ -8b10-397 ┆ -a22f-4eb ┆ 17:59:41  ┆ 08:17:12 │\n",
       "│ 6da…      ┆           ┆           ┆           ┆   ┆ c83…      ┆ 88e…      ┆           ┆          │\n",
       "│ 0cf27bad- ┆ 601935    ┆ 2023-08-2 ┆ 1         ┆ … ┆ 4aed6d45- ┆ 3cdc622a- ┆ 2022-04-0 ┆ 2022-04- │\n",
       "│ f4c8-4cf9 ┆           ┆ 9         ┆           ┆   ┆ bf51-4b44 ┆ 6992-47da ┆ 7         ┆ 08       │\n",
       "│ -890f-bb6 ┆           ┆           ┆           ┆   ┆ -8b10-397 ┆ -a22f-4eb ┆ 17:59:41  ┆ 08:17:12 │\n",
       "│ 6da…      ┆           ┆           ┆           ┆   ┆ c83…      ┆ 88e…      ┆           ┆          │\n",
       "│ 0cf27bad- ┆ 601935    ┆ 2023-08-3 ┆ 1         ┆ … ┆ 4aed6d45- ┆ 3cdc622a- ┆ 2022-04-0 ┆ 2022-04- │\n",
       "│ f4c8-4cf9 ┆           ┆ 0         ┆           ┆   ┆ bf51-4b44 ┆ 6992-47da ┆ 7         ┆ 08       │\n",
       "│ -890f-bb6 ┆           ┆           ┆           ┆   ┆ -8b10-397 ┆ -a22f-4eb ┆ 17:59:41  ┆ 08:17:12 │\n",
       "│ 6da…      ┆           ┆           ┆           ┆   ┆ c83…      ┆ 88e…      ┆           ┆          │\n",
       "└───────────┴───────────┴───────────┴───────────┴───┴───────────┴───────────┴───────────┴──────────┘"
      ]
     },
     "execution_count": 4,
     "metadata": {},
     "output_type": "execute_result"
    }
   ],
   "source": [
    "query_text = \"\"\"--sql\n",
    "    SELECT\n",
    "        r_m_c.partner_uuid AS partner_uuid,\n",
    "        ses_st_m.citizen_id AS citizen_id,\n",
    "        r_m_c.report_date AS report_date,\n",
    "        r_m_c.monetization AS monetization,\n",
    "        sub_st_m.state AS subscriptions_state,\n",
    "        r_m_c.city AS city,\n",
    "        r_m_c.address_uuid AS address_uuid,\n",
    "        r_m_c.flat_uuid AS flat_uuid,\n",
    "        c_d_m.created_at AS created_at,\n",
    "        r_m_c.activated_at AS activated_at\n",
    "    FROM db1.rep_mobile_citizens_id_city_partner as r_m_c\n",
    "    JOIN db1.`sessions_st_mobile_ch` AS ses_st_m\n",
    "        ON r_m_c.citizen_id = ses_st_m.citizen_id\n",
    "        AND r_m_c.report_date = ses_st_m.report_date \n",
    "    LEFT JOIN db1.`subscriptions_st_mobile_ch` AS sub_st_m\n",
    "        ON ses_st_m.citizen_id = sub_st_m.citizen_id\n",
    "        AND ses_st_m.report_date = sub_st_m.report_date\n",
    "    LEFT JOIN db1.`citizens_dir_mobile_ch` AS c_d_m ON c_d_m.`citizen_id`  = r_m_c.`citizen_id`\n",
    "    WHERE \n",
    "        toDate(`last_use`) \n",
    "        BETWEEN toStartOfMonth(r_m_c.report_date) and r_m_c.report_date \n",
    "        AND  r_m_c.state = 'activated'\n",
    "    limit 100\n",
    "    --\n",
    "    SETTINGS join_any_take_last_row = 1,\n",
    "            join_algorithm = 'partial_merge'\n",
    "    \n",
    "    \"\"\"\n",
    "\n",
    "ch.query_run(query_text)"
   ]
  },
  {
   "cell_type": "code",
   "execution_count": 11,
   "id": "d4b5ec37",
   "metadata": {},
   "outputs": [
    {
     "data": {
      "text/html": [
       "<div><style>\n",
       ".dataframe > thead > tr,\n",
       ".dataframe > tbody > tr {\n",
       "  text-align: right;\n",
       "  white-space: pre-wrap;\n",
       "}\n",
       "</style>\n",
       "<small>shape: (100, 10)</small><table border=\"1\" class=\"dataframe\"><thead><tr><th>report_date</th><th>partner_uuid</th><th>city</th><th>citizen_id</th><th>monetization</th><th>subscriptions_state</th><th>address_uuid</th><th>flat_uuid</th><th>created_at</th><th>activated_at</th></tr><tr><td>date</td><td>str</td><td>str</td><td>i64</td><td>i64</td><td>str</td><td>str</td><td>str</td><td>str</td><td>datetime[ns]</td></tr></thead><tbody><tr><td>2024-08-27</td><td>&quot;b1782e4f-9198-49d1-b5aa-7bdba9…</td><td>&quot;Казань&quot;</td><td>7</td><td>0</td><td>&quot;deactivated&quot;</td><td>&quot;e697b430-cbc9-41e3-b0d0-dc02b5…</td><td>&quot;d0c82be0-85c3-410a-ae25-413e52…</td><td>&quot;2020-12-19 15:03:47&quot;</td><td>2023-06-29 00:33:07</td></tr><tr><td>2024-08-27</td><td>&quot;b1782e4f-9198-49d1-b5aa-7bdba9…</td><td>&quot;Казань&quot;</td><td>7</td><td>0</td><td>&quot;deactivated&quot;</td><td>&quot;e697b430-cbc9-41e3-b0d0-dc02b5…</td><td>&quot;d0c82be0-85c3-410a-ae25-413e52…</td><td>&quot;2020-12-19 15:03:47&quot;</td><td>2023-06-29 00:33:07</td></tr><tr><td>2024-08-20</td><td>&quot;b1782e4f-9198-49d1-b5aa-7bdba9…</td><td>&quot;Казань&quot;</td><td>7</td><td>0</td><td>&quot;deactivated&quot;</td><td>&quot;e697b430-cbc9-41e3-b0d0-dc02b5…</td><td>&quot;d0c82be0-85c3-410a-ae25-413e52…</td><td>&quot;2020-12-19 15:03:47&quot;</td><td>2023-06-29 00:33:07</td></tr><tr><td>2024-08-20</td><td>&quot;b1782e4f-9198-49d1-b5aa-7bdba9…</td><td>&quot;Казань&quot;</td><td>7</td><td>0</td><td>&quot;deactivated&quot;</td><td>&quot;e697b430-cbc9-41e3-b0d0-dc02b5…</td><td>&quot;d0c82be0-85c3-410a-ae25-413e52…</td><td>&quot;2020-12-19 15:03:47&quot;</td><td>2023-06-29 00:33:07</td></tr><tr><td>2024-08-19</td><td>&quot;b1782e4f-9198-49d1-b5aa-7bdba9…</td><td>&quot;Казань&quot;</td><td>7</td><td>0</td><td>&quot;deactivated&quot;</td><td>&quot;e697b430-cbc9-41e3-b0d0-dc02b5…</td><td>&quot;d0c82be0-85c3-410a-ae25-413e52…</td><td>&quot;2020-12-19 15:03:47&quot;</td><td>2023-06-29 00:33:07</td></tr><tr><td>&hellip;</td><td>&hellip;</td><td>&hellip;</td><td>&hellip;</td><td>&hellip;</td><td>&hellip;</td><td>&hellip;</td><td>&hellip;</td><td>&hellip;</td><td>&hellip;</td></tr><tr><td>2023-08-12</td><td>&quot;b1782e4f-9198-49d1-b5aa-7bdba9…</td><td>&quot;Казань&quot;</td><td>7</td><td>1</td><td>&quot;deactivated&quot;</td><td>&quot;e697b430-cbc9-41e3-b0d0-dc02b5…</td><td>&quot;d0c82be0-85c3-410a-ae25-413e52…</td><td>&quot;2020-12-19 15:03:47&quot;</td><td>2023-06-29 00:33:07</td></tr><tr><td>2023-08-01</td><td>&quot;b1782e4f-9198-49d1-b5aa-7bdba9…</td><td>&quot;Казань&quot;</td><td>7</td><td>1</td><td>&quot;deactivated&quot;</td><td>&quot;e697b430-cbc9-41e3-b0d0-dc02b5…</td><td>&quot;d0c82be0-85c3-410a-ae25-413e52…</td><td>&quot;2020-12-19 15:03:47&quot;</td><td>2023-06-29 00:33:07</td></tr><tr><td>2023-07-31</td><td>&quot;&quot;</td><td>&quot;Казань&quot;</td><td>7</td><td>0</td><td>&quot;deactivated&quot;</td><td>&quot;e697b430-cbc9-41e3-b0d0-dc02b5…</td><td>&quot;d0c82be0-85c3-410a-ae25-413e52…</td><td>&quot;2020-12-19 15:03:47&quot;</td><td>2023-06-29 00:33:07</td></tr><tr><td>2023-07-31</td><td>&quot;&quot;</td><td>&quot;Казань&quot;</td><td>7</td><td>0</td><td>&quot;deactivated&quot;</td><td>&quot;e697b430-cbc9-41e3-b0d0-dc02b5…</td><td>&quot;d0c82be0-85c3-410a-ae25-413e52…</td><td>&quot;2020-12-19 15:03:47&quot;</td><td>2023-06-29 00:33:07</td></tr><tr><td>2023-07-26</td><td>&quot;&quot;</td><td>&quot;Казань&quot;</td><td>7</td><td>0</td><td>&quot;deactivated&quot;</td><td>&quot;e697b430-cbc9-41e3-b0d0-dc02b5…</td><td>&quot;d0c82be0-85c3-410a-ae25-413e52…</td><td>&quot;2020-12-19 15:03:47&quot;</td><td>2023-06-29 00:33:07</td></tr></tbody></table></div>"
      ],
      "text/plain": [
       "shape: (100, 10)\n",
       "┌────────────┬────────────┬────────┬───────────┬───┬───────────┬───────────┬───────────┬───────────┐\n",
       "│ report_dat ┆ partner_uu ┆ city   ┆ citizen_i ┆ … ┆ address_u ┆ flat_uuid ┆ created_a ┆ activated │\n",
       "│ e          ┆ id         ┆ ---    ┆ d         ┆   ┆ uid       ┆ ---       ┆ t         ┆ _at       │\n",
       "│ ---        ┆ ---        ┆ str    ┆ ---       ┆   ┆ ---       ┆ str       ┆ ---       ┆ ---       │\n",
       "│ date       ┆ str        ┆        ┆ i64       ┆   ┆ str       ┆           ┆ str       ┆ datetime[ │\n",
       "│            ┆            ┆        ┆           ┆   ┆           ┆           ┆           ┆ ns]       │\n",
       "╞════════════╪════════════╪════════╪═══════════╪═══╪═══════════╪═══════════╪═══════════╪═══════════╡\n",
       "│ 2024-08-27 ┆ b1782e4f-9 ┆ Казань ┆ 7         ┆ … ┆ e697b430- ┆ d0c82be0- ┆ 2020-12-1 ┆ 2023-06-2 │\n",
       "│            ┆ 198-49d1-b ┆        ┆           ┆   ┆ cbc9-41e3 ┆ 85c3-410a ┆ 9         ┆ 9         │\n",
       "│            ┆ 5aa-7bdba9 ┆        ┆           ┆   ┆ -b0d0-dc0 ┆ -ae25-413 ┆ 15:03:47  ┆ 00:33:07  │\n",
       "│            ┆ …          ┆        ┆           ┆   ┆ 2b5…      ┆ e52…      ┆           ┆           │\n",
       "│ 2024-08-27 ┆ b1782e4f-9 ┆ Казань ┆ 7         ┆ … ┆ e697b430- ┆ d0c82be0- ┆ 2020-12-1 ┆ 2023-06-2 │\n",
       "│            ┆ 198-49d1-b ┆        ┆           ┆   ┆ cbc9-41e3 ┆ 85c3-410a ┆ 9         ┆ 9         │\n",
       "│            ┆ 5aa-7bdba9 ┆        ┆           ┆   ┆ -b0d0-dc0 ┆ -ae25-413 ┆ 15:03:47  ┆ 00:33:07  │\n",
       "│            ┆ …          ┆        ┆           ┆   ┆ 2b5…      ┆ e52…      ┆           ┆           │\n",
       "│ 2024-08-20 ┆ b1782e4f-9 ┆ Казань ┆ 7         ┆ … ┆ e697b430- ┆ d0c82be0- ┆ 2020-12-1 ┆ 2023-06-2 │\n",
       "│            ┆ 198-49d1-b ┆        ┆           ┆   ┆ cbc9-41e3 ┆ 85c3-410a ┆ 9         ┆ 9         │\n",
       "│            ┆ 5aa-7bdba9 ┆        ┆           ┆   ┆ -b0d0-dc0 ┆ -ae25-413 ┆ 15:03:47  ┆ 00:33:07  │\n",
       "│            ┆ …          ┆        ┆           ┆   ┆ 2b5…      ┆ e52…      ┆           ┆           │\n",
       "│ 2024-08-20 ┆ b1782e4f-9 ┆ Казань ┆ 7         ┆ … ┆ e697b430- ┆ d0c82be0- ┆ 2020-12-1 ┆ 2023-06-2 │\n",
       "│            ┆ 198-49d1-b ┆        ┆           ┆   ┆ cbc9-41e3 ┆ 85c3-410a ┆ 9         ┆ 9         │\n",
       "│            ┆ 5aa-7bdba9 ┆        ┆           ┆   ┆ -b0d0-dc0 ┆ -ae25-413 ┆ 15:03:47  ┆ 00:33:07  │\n",
       "│            ┆ …          ┆        ┆           ┆   ┆ 2b5…      ┆ e52…      ┆           ┆           │\n",
       "│ 2024-08-19 ┆ b1782e4f-9 ┆ Казань ┆ 7         ┆ … ┆ e697b430- ┆ d0c82be0- ┆ 2020-12-1 ┆ 2023-06-2 │\n",
       "│            ┆ 198-49d1-b ┆        ┆           ┆   ┆ cbc9-41e3 ┆ 85c3-410a ┆ 9         ┆ 9         │\n",
       "│            ┆ 5aa-7bdba9 ┆        ┆           ┆   ┆ -b0d0-dc0 ┆ -ae25-413 ┆ 15:03:47  ┆ 00:33:07  │\n",
       "│            ┆ …          ┆        ┆           ┆   ┆ 2b5…      ┆ e52…      ┆           ┆           │\n",
       "│ …          ┆ …          ┆ …      ┆ …         ┆ … ┆ …         ┆ …         ┆ …         ┆ …         │\n",
       "│ 2023-08-12 ┆ b1782e4f-9 ┆ Казань ┆ 7         ┆ … ┆ e697b430- ┆ d0c82be0- ┆ 2020-12-1 ┆ 2023-06-2 │\n",
       "│            ┆ 198-49d1-b ┆        ┆           ┆   ┆ cbc9-41e3 ┆ 85c3-410a ┆ 9         ┆ 9         │\n",
       "│            ┆ 5aa-7bdba9 ┆        ┆           ┆   ┆ -b0d0-dc0 ┆ -ae25-413 ┆ 15:03:47  ┆ 00:33:07  │\n",
       "│            ┆ …          ┆        ┆           ┆   ┆ 2b5…      ┆ e52…      ┆           ┆           │\n",
       "│ 2023-08-01 ┆ b1782e4f-9 ┆ Казань ┆ 7         ┆ … ┆ e697b430- ┆ d0c82be0- ┆ 2020-12-1 ┆ 2023-06-2 │\n",
       "│            ┆ 198-49d1-b ┆        ┆           ┆   ┆ cbc9-41e3 ┆ 85c3-410a ┆ 9         ┆ 9         │\n",
       "│            ┆ 5aa-7bdba9 ┆        ┆           ┆   ┆ -b0d0-dc0 ┆ -ae25-413 ┆ 15:03:47  ┆ 00:33:07  │\n",
       "│            ┆ …          ┆        ┆           ┆   ┆ 2b5…      ┆ e52…      ┆           ┆           │\n",
       "│ 2023-07-31 ┆            ┆ Казань ┆ 7         ┆ … ┆ e697b430- ┆ d0c82be0- ┆ 2020-12-1 ┆ 2023-06-2 │\n",
       "│            ┆            ┆        ┆           ┆   ┆ cbc9-41e3 ┆ 85c3-410a ┆ 9         ┆ 9         │\n",
       "│            ┆            ┆        ┆           ┆   ┆ -b0d0-dc0 ┆ -ae25-413 ┆ 15:03:47  ┆ 00:33:07  │\n",
       "│            ┆            ┆        ┆           ┆   ┆ 2b5…      ┆ e52…      ┆           ┆           │\n",
       "│ 2023-07-31 ┆            ┆ Казань ┆ 7         ┆ … ┆ e697b430- ┆ d0c82be0- ┆ 2020-12-1 ┆ 2023-06-2 │\n",
       "│            ┆            ┆        ┆           ┆   ┆ cbc9-41e3 ┆ 85c3-410a ┆ 9         ┆ 9         │\n",
       "│            ┆            ┆        ┆           ┆   ┆ -b0d0-dc0 ┆ -ae25-413 ┆ 15:03:47  ┆ 00:33:07  │\n",
       "│            ┆            ┆        ┆           ┆   ┆ 2b5…      ┆ e52…      ┆           ┆           │\n",
       "│ 2023-07-26 ┆            ┆ Казань ┆ 7         ┆ … ┆ e697b430- ┆ d0c82be0- ┆ 2020-12-1 ┆ 2023-06-2 │\n",
       "│            ┆            ┆        ┆           ┆   ┆ cbc9-41e3 ┆ 85c3-410a ┆ 9         ┆ 9         │\n",
       "│            ┆            ┆        ┆           ┆   ┆ -b0d0-dc0 ┆ -ae25-413 ┆ 15:03:47  ┆ 00:33:07  │\n",
       "│            ┆            ┆        ┆           ┆   ┆ 2b5…      ┆ e52…      ┆           ┆           │\n",
       "└────────────┴────────────┴────────┴───────────┴───┴───────────┴───────────┴───────────┴───────────┘"
      ]
     },
     "execution_count": 11,
     "metadata": {},
     "output_type": "execute_result"
    }
   ],
   "source": [
    "query_text = \"\"\"--sql\n",
    "    SELECT\n",
    "        *\n",
    "    FROM db1.total_active_users_per_day_full_table\n",
    "    ORDER BY report_date DESC\n",
    "    limit 100\n",
    "    \"\"\"\n",
    "\n",
    "ch.query_run(query_text)"
   ]
  },
  {
   "cell_type": "markdown",
   "id": "5f169d31",
   "metadata": {},
   "source": [
    "### delete a part\n"
   ]
  },
  {
   "cell_type": "code",
   "execution_count": 22,
   "id": "3eadd0ac",
   "metadata": {},
   "outputs": [
    {
     "data": {
      "text/html": [
       "<div><style>\n",
       ".dataframe > thead > tr,\n",
       ".dataframe > tbody > tr {\n",
       "  text-align: right;\n",
       "  white-space: pre-wrap;\n",
       "}\n",
       "</style>\n",
       "<small>shape: (0, 0)</small><table border=\"1\" class=\"dataframe\"><thead><tr></tr><tr></tr></thead><tbody></tbody></table></div>"
      ],
      "text/plain": [
       "shape: (0, 0)\n",
       "┌┐\n",
       "╞╡\n",
       "└┘"
      ]
     },
     "execution_count": 22,
     "metadata": {},
     "output_type": "execute_result"
    }
   ],
   "source": [
    "query_text = \"\"\"--sql\n",
    "    ALTER TABLE db1.total_active_users_per_day_full_table DELETE WHERE report_date = '2025-07-17'\n",
    "    \"\"\"\n",
    "\n",
    "ch.query_run(query_text)"
   ]
  },
  {
   "cell_type": "markdown",
   "id": "401d33e1",
   "metadata": {},
   "source": [
    "### drop mv"
   ]
  },
  {
   "cell_type": "code",
   "execution_count": 6,
   "id": "6ffc3e2e",
   "metadata": {},
   "outputs": [
    {
     "data": {
      "text/html": [
       "<div><style>\n",
       ".dataframe > thead > tr,\n",
       ".dataframe > tbody > tr {\n",
       "  text-align: right;\n",
       "  white-space: pre-wrap;\n",
       "}\n",
       "</style>\n",
       "<small>shape: (0, 0)</small><table border=\"1\" class=\"dataframe\"><thead><tr></tr><tr></tr></thead><tbody></tbody></table></div>"
      ],
      "text/plain": [
       "shape: (0, 0)\n",
       "┌┐\n",
       "╞╡\n",
       "└┘"
      ]
     },
     "execution_count": 6,
     "metadata": {},
     "output_type": "execute_result"
    }
   ],
   "source": [
    "query_text = \"\"\"--sql\n",
    "    DROP TABLE db1.total_active_users_per_day_full_table_mv\n",
    "    \"\"\"\n",
    "\n",
    "ch.query_run(query_text)"
   ]
  },
  {
   "cell_type": "markdown",
   "id": "b9f26df1",
   "metadata": {},
   "source": [
    "### drop ch"
   ]
  },
  {
   "cell_type": "code",
   "execution_count": 7,
   "id": "9104c646",
   "metadata": {},
   "outputs": [
    {
     "data": {
      "text/html": [
       "<div><style>\n",
       ".dataframe > thead > tr,\n",
       ".dataframe > tbody > tr {\n",
       "  text-align: right;\n",
       "  white-space: pre-wrap;\n",
       "}\n",
       "</style>\n",
       "<small>shape: (0, 0)</small><table border=\"1\" class=\"dataframe\"><thead><tr></tr><tr></tr></thead><tbody></tbody></table></div>"
      ],
      "text/plain": [
       "shape: (0, 0)\n",
       "┌┐\n",
       "╞╡\n",
       "└┘"
      ]
     },
     "execution_count": 7,
     "metadata": {},
     "output_type": "execute_result"
    }
   ],
   "source": [
    "query_text = \"\"\"--sql\n",
    "    DROP TABLE db1.total_active_users_per_day_full_table\n",
    "    \"\"\"\n",
    "\n",
    "ch.query_run(query_text)"
   ]
  },
  {
   "cell_type": "markdown",
   "id": "18d1c7be",
   "metadata": {},
   "source": [
    "### refresh mv"
   ]
  },
  {
   "cell_type": "code",
   "execution_count": null,
   "id": "10327133",
   "metadata": {},
   "outputs": [],
   "source": [
    "query_text = \"\"\"\n",
    "SYSTEM REFRESH VIEW db1.total_active_users_per_day_full_table_mv\n",
    "\"\"\"\n",
    "\n",
    "ch.query_run(query_text)"
   ]
  }
 ],
 "metadata": {
  "jupytext": {
   "formats": "ipynb,md"
  },
  "kernelspec": {
   "display_name": "Python 3 (ipykernel)",
   "language": "python",
   "name": "python3"
  },
  "language_info": {
   "codemirror_mode": {
    "name": "ipython",
    "version": 3
   },
   "file_extension": ".py",
   "mimetype": "text/x-python",
   "name": "python",
   "nbconvert_exporter": "python",
   "pygments_lexer": "ipython3",
   "version": "3.12.11"
  }
 },
 "nbformat": 4,
 "nbformat_minor": 5
}

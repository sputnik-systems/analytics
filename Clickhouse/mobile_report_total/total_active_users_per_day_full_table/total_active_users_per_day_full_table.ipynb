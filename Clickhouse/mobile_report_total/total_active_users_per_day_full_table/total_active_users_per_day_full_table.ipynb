{
 "cells": [
  {
   "cell_type": "markdown",
   "id": "9c11e697",
   "metadata": {},
   "source": [
    "## Start"
   ]
  },
  {
   "cell_type": "code",
   "execution_count": null,
   "id": "a365282e",
   "metadata": {},
   "outputs": [],
   "source": [
    "import clickhouse_connect\n",
    "import datetime\n",
    "import os\n",
    "import pytz\n",
    "import pandas as pd\n",
    "from dateutil.relativedelta import relativedelta\n",
    "from dotenv import load_dotenv\n",
    "\n",
    "import sys\n",
    "sys.path.append('/home/boris/Documents/Work/analytics/Clickhouse')\n",
    "from clickhouse_client import ClickHouse_client\n",
    "ch = ClickHouse_client()\n",
    "pd.set_option('display.max_rows', 1000)"
   ]
  },
  {
   "cell_type": "markdown",
   "id": "1961aef7",
   "metadata": {},
   "source": [
    "___\n",
    "### Tags: #Mobile_Report\n",
    "\n",
    "### Links:  \n",
    "\n",
    "[[rep_mobile_citizens_id_city_partner]]\n",
    "\n",
    "[[sessions_st_mobile]]\n",
    "\n",
    "[[subscriptions_st_mobile]]\n",
    "\n",
    "\n",
    "### Table"
   ]
  },
  {
   "cell_type": "code",
   "execution_count": null,
   "id": "04c66d69",
   "metadata": {},
   "outputs": [],
   "source": [
    "query_text = \"\"\"--sql\n",
    "CREATE TABLE db1.total_active_users_per_day_full_table\n",
    "(\n",
    "    `report_date` Date,\n",
    "    `partner_uuid` String,\n",
    "    `city` String,\n",
    "    `citizen_id` Int32,\n",
    "    `monetization` UInt8,\n",
    "    `subscriptions_state` String,\n",
    "    `address_uuid` String,\n",
    "    `flat_uuid` String,\n",
    "    `created_at` String,\n",
    "    `activated_at` DateTime\n",
    ")\n",
    "ENGINE = MergeTree()\n",
    "ORDER BY partner_uuid\n",
    "\"\"\"\n",
    "\n",
    "ch.query_run(query_text)"
   ]
  },
  {
   "cell_type": "code",
   "execution_count": null,
   "id": "94a1a164",
   "metadata": {},
   "outputs": [],
   "source": []
  },
  {
   "cell_type": "code",
   "execution_count": null,
   "id": "8c78edfa",
   "metadata": {},
   "outputs": [],
   "source": [
    "query_text = \"\"\"--sql\n",
    "    CREATE MATERIALIZED VIEW db1.total_active_users_per_day_full_table_mv\n",
    "    REFRESH EVERY 1 DAY OFFSET 4 HOUR 10 MINUTE TO db1.total_active_users_per_day_full_table AS\n",
    "       SELECT\n",
    "        r_m_c.partner_uuid AS partner_uuid,\n",
    "        ses_st_m.citizen_id AS citizen_id,\n",
    "        r_m_c.report_date AS report_date,\n",
    "        r_m_c.monetization AS monetization,\n",
    "        sub_st_m.state AS subscriptions_state,\n",
    "        r_m_c.city AS city,\n",
    "        r_m_c.address_uuid AS address_uuid,\n",
    "        r_m_c.flat_uuid AS flat_uuid,\n",
    "        c_d_m.created_at AS created_at,\n",
    "        r_m_c.activated_at AS activated_at\n",
    "    FROM db1.rep_mobile_citizens_id_city_partner as r_m_c\n",
    "    JOIN db1.`sessions_st_mobile_ch` AS ses_st_m\n",
    "        ON r_m_c.citizen_id = ses_st_m.citizen_id\n",
    "        AND r_m_c.report_date = ses_st_m.report_date \n",
    "    LEFT JOIN db1.`subscriptions_st_mobile_ch` AS sub_st_m\n",
    "        ON ses_st_m.citizen_id = sub_st_m.citizen_id\n",
    "        AND ses_st_m.report_date = sub_st_m.report_date\n",
    "    LEFT JOIN db1.`citizens_dir_mobile_ch` AS c_d_m ON c_d_m.`citizen_id`  = r_m_c.`citizen_id`\n",
    "    WHERE \n",
    "        toDate(`last_use`) \n",
    "        BETWEEN toStartOfMonth(r_m_c.report_date) and r_m_c.report_date \n",
    "        AND  r_m_c.state = 'activated'\n",
    "    --\n",
    "     SETTINGS join_algorithm = 'partial_merge'\n",
    "    \"\"\"\n",
    "ch.query_run(query_text)"
   ]
  },
  {
   "cell_type": "markdown",
   "id": "bc013d7d",
   "metadata": {},
   "source": [
    "___\n",
    "## Tools\n",
    "___\n",
    "### query\n"
   ]
  },
  {
   "cell_type": "code",
   "execution_count": null,
   "id": "d4b5ec37",
   "metadata": {},
   "outputs": [],
   "source": [
    "query_text = \"\"\"--sql\n",
    "    SELECT\n",
    "        *\n",
    "    FROM db1.total_active_users_per_day_full_table\n",
    "    ORDER BY report_date DESC\n",
    "    limit 100\n",
    "    \"\"\"\n",
    "\n",
    "ch.query_run(query_text)"
   ]
  },
  {
   "cell_type": "markdown",
   "id": "5f169d31",
   "metadata": {},
   "source": [
    "### delete a part\n"
   ]
  },
  {
   "cell_type": "code",
   "execution_count": null,
   "id": "3eadd0ac",
   "metadata": {},
   "outputs": [],
   "source": [
    "query_text = \"\"\"--sql\n",
    "    ALTER TABLE db1.total_active_users_per_day_full_table DELETE WHERE report_date = '2025-07-17'\n",
    "    \"\"\"\n",
    "\n",
    "ch.query_run(query_text)"
   ]
  },
  {
   "cell_type": "markdown",
   "id": "401d33e1",
   "metadata": {},
   "source": [
    "### drop mv"
   ]
  },
  {
   "cell_type": "code",
   "execution_count": null,
   "id": "6ffc3e2e",
   "metadata": {},
   "outputs": [],
   "source": [
    "query_text = \"\"\"--sql\n",
    "    DROP TABLE db1.total_active_users_per_day_full_table_mv\n",
    "    \"\"\"\n",
    "\n",
    "ch.query_run(query_text)"
   ]
  },
  {
   "cell_type": "markdown",
   "id": "b9f26df1",
   "metadata": {},
   "source": [
    "### drop ch"
   ]
  },
  {
   "cell_type": "code",
   "execution_count": null,
   "id": "9104c646",
   "metadata": {},
   "outputs": [],
   "source": [
    "query_text = \"\"\"--sql\n",
    "    DROP TABLE db1.total_active_users_per_day_full_table\n",
    "    \"\"\"\n",
    "\n",
    "ch.query_run(query_text)"
   ]
  },
  {
   "cell_type": "markdown",
   "id": "18d1c7be",
   "metadata": {},
   "source": [
    "### refresh mv"
   ]
  },
  {
   "cell_type": "code",
   "execution_count": null,
   "id": "10327133",
   "metadata": {},
   "outputs": [],
   "source": [
    "query_text = \"\"\"\n",
    "SYSTEM REFRESH VIEW db1.total_active_users_per_day_full_table_mv\n",
    "\"\"\"\n",
    "\n",
    "ch.query_run(query_text)"
   ]
  }
 ],
 "metadata": {
  "jupytext": {
   "formats": "ipynb,md"
  },
  "kernelspec": {
   "display_name": "Python (myenv)",
   "language": "python",
   "name": "myenv"
  },
  "language_info": {
   "codemirror_mode": {
    "name": "ipython",
    "version": 3
   },
   "file_extension": ".py",
   "mimetype": "text/x-python",
   "name": "python",
   "nbconvert_exporter": "python",
   "pygments_lexer": "ipython3",
   "version": "3.13.7"
  }
 },
 "nbformat": 4,
 "nbformat_minor": 5
}

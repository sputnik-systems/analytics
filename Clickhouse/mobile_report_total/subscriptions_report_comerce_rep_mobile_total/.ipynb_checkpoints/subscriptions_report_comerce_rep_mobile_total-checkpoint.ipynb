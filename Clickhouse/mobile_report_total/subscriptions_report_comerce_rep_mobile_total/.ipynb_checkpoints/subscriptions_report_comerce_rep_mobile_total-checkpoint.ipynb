{
 "cells": [
  {
   "cell_type": "markdown",
   "id": "e1ee7622",
   "metadata": {},
   "source": [
    "## Start"
   ]
  },
  {
   "cell_type": "code",
   "execution_count": 1,
   "id": "b2656602",
   "metadata": {},
   "outputs": [],
   "source": [
    "import clickhouse_connect\n",
    "import datetime\n",
    "import os\n",
    "import pytz\n",
    "import pandas as pd\n",
    "from dateutil.relativedelta import relativedelta\n",
    "from dotenv import load_dotenv\n",
    "\n",
    "import sys\n",
    "sys.path.append('/home/boris/Documents/Work/analytics/Clickhouse')\n",
    "from clickhouse_client import ClickHouse_client\n",
    "ch = ClickHouse_client()\n",
    "pd.set_option('display.max_rows', 1000)"
   ]
  },
  {
   "cell_type": "markdown",
   "id": "f6a69d4e",
   "metadata": {},
   "source": [
    "___\n",
    "### Tags: #Mobile_Report\n",
    "\n",
    "### Links:  \n",
    "\n",
    "[[rep_mobile_citizens_id_city_partner]]\n",
    "\n",
    "[[subscriptions_st_mobile]]\n",
    "\n",
    "[[companies_st_partner]]\n",
    "\n",
    "### Table"
   ]
  },
  {
   "cell_type": "code",
   "execution_count": 12,
   "id": "e72d1738",
   "metadata": {},
   "outputs": [
    {
     "data": {
      "text/html": [
       "<div><style>\n",
       ".dataframe > thead > tr,\n",
       ".dataframe > tbody > tr {\n",
       "  text-align: right;\n",
       "  white-space: pre-wrap;\n",
       "}\n",
       "</style>\n",
       "<small>shape: (0, 0)</small><table border=\"1\" class=\"dataframe\"><thead><tr></tr><tr></tr></thead><tbody></tbody></table></div>"
      ],
      "text/plain": [
       "shape: (0, 0)\n",
       "┌┐\n",
       "╞╡\n",
       "└┘"
      ]
     },
     "execution_count": 12,
     "metadata": {},
     "output_type": "execute_result"
    }
   ],
   "source": [
    "query_text = \"\"\"--sql\n",
    "CREATE TABLE db1.subscriptions_report_comerce_rep_mobile_total\n",
    "(\n",
    "    `report_date` Date,\n",
    "    `partner_uuid` String,\n",
    "    `city` String,\n",
    "    `paying_users` UInt64,\n",
    "    `paying_users_standart` UInt64,\n",
    "    `paying_users_standart_yakassa` UInt64,\n",
    "    `paying_users_partner_pro` UInt64,\n",
    "    `paying_users_standart_appstore` UInt64,\n",
    "    `paying_users_standart_ios_from_cart` UInt64,\n",
    "    `paying_users_day` UInt64,\n",
    "    `paying_new_users_in_last_28_days` UInt64,\n",
    "    `failed_subscript_last_28_days` UInt64,\n",
    "    `stoped_subscript_last_28_days` UInt64,\n",
    "    `renewed_subscriptions_last_28_days` UInt64,\n",
    "    `android_sub` UInt64,\n",
    "    `android_sub_first_new` UInt64,\n",
    "    `android_sub_extended_new` UInt64,\n",
    "    `renew_stopped_at_android` UInt64,\n",
    "    `renew_failed_at_android` UInt64,\n",
    "    `android_sub_from_cart` UInt64,\n",
    "    `android_sub_first_new_cart` UInt64,\n",
    "    `android_sub_extended_new_cart` UInt64,\n",
    "    `renew_stopped_at_android_cart` UInt64,\n",
    "    `renew_failed_at_andeoid_cart` UInt64,\n",
    "    `ios_sub` UInt64,\n",
    "    `ios_sub_first_new` UInt64,\n",
    "    `ios_sub_extended_new` UInt64,\n",
    "    `renew_stopped_at_ios` UInt64,\n",
    "    `renew_failed_at_ios` UInt64,\n",
    "    `ios_sub_from_cart` UInt64,\n",
    "    `ios_sub_first_new_cart` UInt64,\n",
    "    `ios_sub_first_new_cart_transition` UInt64,\n",
    "    `ios_sub_extended_new_cart` UInt64,\n",
    "    `renew_stopped_at_ios_cart` UInt64,\n",
    "    `renew_failed_at_ios_cart` UInt64,\n",
    "    `renew_failed_at_c` UInt64,\n",
    "    `renew_stopped_at_c` UInt64\n",
    ")\n",
    "ENGINE = MergeTree()\n",
    "ORDER BY partner_uuid\n",
    "\"\"\"\n",
    "\n",
    "ch.query_run(query_text)"
   ]
  },
  {
   "cell_type": "code",
   "execution_count": 13,
   "id": "25b97960",
   "metadata": {},
   "outputs": [
    {
     "data": {
      "text/html": [
       "<div><style>\n",
       ".dataframe > thead > tr,\n",
       ".dataframe > tbody > tr {\n",
       "  text-align: right;\n",
       "  white-space: pre-wrap;\n",
       "}\n",
       "</style>\n",
       "<small>shape: (0, 0)</small><table border=\"1\" class=\"dataframe\"><thead><tr></tr><tr></tr></thead><tbody></tbody></table></div>"
      ],
      "text/plain": [
       "shape: (0, 0)\n",
       "┌┐\n",
       "╞╡\n",
       "└┘"
      ]
     },
     "execution_count": 13,
     "metadata": {},
     "output_type": "execute_result"
    }
   ],
   "source": [
    "query_text = \"\"\"--sql\n",
    "    CREATE MATERIALIZED VIEW db1.subscriptions_report_comerce_rep_mobile_total_mv\n",
    "    REFRESH EVERY 1 DAY OFFSET 5 HOUR 55 MINUTE TO db1.subscriptions_report_comerce_rep_mobile_total AS\n",
    "\tSELECT\n",
    "\t\treport_date,\n",
    "\t\tpartner_uuid,\n",
    "\t\tcity,\n",
    "\t\t--Общие значения\n",
    "\t\t--Все подписки\n",
    "\t\tCOUNT(distinct if(state = 'activated', `citizen_id` ,NULL)) as paying_users,\n",
    "\t\t/* Все подписки стандарт */\n",
    "\t\tCOUNT(distinct if((state= 'activated' and plan = 'standard_p1m'), citizen_id,NULL)) as paying_users_standart,\n",
    "\t\t/* Все подписки  подписки Андройд*/    \n",
    "\t\tCOUNT(distinct if((state= 'activated' AND subscribed_from = 'yakassa' and  started_from != 'ios'), citizen_id,NULL)) as paying_users_standart_yakassa,\n",
    "\t\tCOUNT(distinct if((state= 'activated'  and pro_subs = 1), citizen_id,NULL)) as paying_users_partner_pro,\n",
    "\t\t/* Все подписки  подписки IOS*/    \n",
    "\t\tCOUNT(distinct if((state= 'activated' and subscribed_from = 'ios'), citizen_id,NULL)) as paying_users_standart_appstore,\n",
    "\t\t/* Все подписки подписки IOS c карты*/    \n",
    "\t\tCOUNT(distinct if(state = 'activated' and started_from = 'ios' AND subscribed_from = 'yakassa' ,citizen_id,null)) AS paying_users_standart_ios_from_cart,\n",
    "\t\tCOUNT(distinct if((state= 'activated') and report_date = `activated_at`, citizen_id,NULL)) as paying_users_day,\n",
    "\t\t/* Новые оплаты за последние 28 дней*/    \n",
    "\t\tCOUNT(if(date_diff('day', created_at, activated_at) <= 28 AND state = 'activated', citizen_id, null)) AS paying_new_users_in_last_28_days,\n",
    "\t\t/* Ошибки оплаты за последние 28 дней*/    \n",
    "\t\tCOUNT(if(date_diff('day', created_at, activated_at) <= 28, citizen_id, null)) AS failed_subscript_last_28_days,\n",
    "\t\t/* Отмены подписок за последние 28 дней*/    \n",
    "\t\tCOUNT(if(date_diff('day', created_at, activated_at) <= 28, citizen_id, null)) AS stoped_subscript_last_28_days,\n",
    "\t\t/* Продленные подписки за последние 28 дней*/  \n",
    "\t\tCOUNT(if(date_diff('day', created_at, activated_at) > 28 AND state= 'activated', citizen_id, null)) AS renewed_subscriptions_last_28_days,\n",
    "\t--    /* Android для старых данных *\n",
    "\t--    /* Подписки Android для старых данных */\n",
    "\t\tcount(if(subscribed_from = 'yakassa' \n",
    "\t\t\t\tAND report_date = `activated_at` \n",
    "\t\t\t\tAND state = 'activated' \n",
    "\t\t\t\tAND (started_from  is null or started_from ='')\n",
    "\t\t\t\t,citizen_id,null)) AS `android_sub`,\n",
    "\t\t/* Новые подписки Android для старых данных */\n",
    "\t\tcount(if(subscribed_from = 'yakassa' \n",
    "\t\t\t\tAND date_diff('day', created_at, activated_at)  <= 28\n",
    "\t\t\t\tAND (started_from  is null or started_from ='')\n",
    "\t\t\t\tAND report_date = `activated_at` \n",
    "\t\t\t\tAND state = 'activated', citizen_id, null)) AS `android_sub_first_new`,\n",
    "\t--    /* Продленные подписки Android для старых данных */\n",
    "\t\tcount(if(subscribed_from = 'yakassa' \n",
    "\t\t\t\tAND date_diff('day', created_at, activated_at)  > 28\n",
    "\t\t\t\tAND (started_from  is null or started_from ='')\n",
    "\t\t\t\tAND report_date = `activated_at` \n",
    "\t\t\t\tAND state = 'activated', citizen_id, null)) AS `android_sub_extended_new`,\n",
    "\t--    /* Отмененные подписки Android для старых данных */\n",
    "\t\tcount(if(subscribed_from = 'yakassa' and report_date = `renew_stopped_at` AND (started_from  is null or started_from =''), citizen_id, null)) as `renew_stopped_at_android`,\n",
    "\t--    /* Неудачные подписки Android для старых данных */\n",
    "\t\tcount(if(subscribed_from = 'yakassa' and report_date = `renew_failed_at` AND (started_from  is null or started_from ='') and `renew_stopped_at` is null, citizen_id, null)) as renew_failed_at_android,\n",
    "\t--    /* Android */\n",
    "\t--    /* Подписки Android */\n",
    "\t\tcount(if((started_from = 'android' OR started_from = 'hms') AND state = 'activated' AND report_date = `activated_at` ,citizen_id,null)) AS `android_sub_from_cart`,\n",
    "\t--    /* Новые подписки Android */\n",
    "\t\tcount(if((started_from = 'android' OR started_from = 'hms')\n",
    "\t\t\t\tAND date_diff('day', created_at, activated_at)  <= 28\n",
    "\t\t\t\tAND report_date = `activated_at` \n",
    "\t\t\t\tAND state = 'activated', citizen_id, null)) AS `android_sub_first_new_cart`,\n",
    "\t--    /* Продленные подписки Android */\n",
    "\t\tcount(if((started_from = 'android' OR started_from = 'hms')\n",
    "\t\t\t\tAND date_diff('day', created_at, activated_at)  > 28\n",
    "\t\t\t\tAND report_date = `activated_at` \n",
    "\t\t\t\tAND state = 'activated', citizen_id, null)) AS `android_sub_extended_new_cart`,\n",
    "\t--    /* Отмененные подписки Android */\n",
    "\t\tcount(if((started_from = 'android' OR started_from = 'hms') and report_date = `renew_stopped_at`, citizen_id, null)) as `renew_stopped_at_android_cart`,\n",
    "\t--    /* неудачные подписки Android */\n",
    "\t\tcount(if((started_from = 'android' OR started_from = 'hms') and report_date = `renew_failed_at`  \n",
    "\t\tand `renew_stopped_at` is null, citizen_id, null)) as `renew_failed_at_andeoid_cart`,\n",
    "\t--    /* IOS с appstore */\n",
    "\t--    /* Подписки IOS с appstore */\n",
    "\t\tcount(if(subscribed_from = 'ios' \n",
    "\t\t\t\tAND report_date = `activated_at` \n",
    "\t\t\t\tAND state = 'activated' \n",
    "\t\t\t\t,citizen_id,null)) AS `ios_sub`,\n",
    "\t--    /* Новые подписки IOS с appstore */\n",
    "\t\tcount(if(subscribed_from = 'ios' \n",
    "\t\t\t\tAND date_diff('day', created_at, activated_at) <= 28\n",
    "\t\t\t\tAND report_date = `activated_at` \n",
    "\t\t\t\tAND state = 'activated', citizen_id, null)) AS `ios_sub_first_new`,\n",
    "\t--    /* Продленные подписки IOS с appstore */\n",
    "\t\tcount(if(subscribed_from = 'ios' \n",
    "\t\t\t\tAND date_diff('day', created_at, activated_at) > 28\n",
    "\t\t\t\tAND report_date = `activated_at` \n",
    "\t\t\t\tAND state = 'activated', citizen_id, null)) AS `ios_sub_extended_new`,\n",
    "\t--    /* Отмененные подписки IOS с appstore */\n",
    "\t\tcount(if(subscribed_from = 'ios' and report_date = `renew_stopped_at`, citizen_id, null)) as `renew_stopped_at_ios`,\n",
    "\t--    /* Неудачные подписки  IOS с appstore */\n",
    "\t\tcount(if(subscribed_from = 'ios' and report_date = `renew_failed_at`  and `renew_stopped_at` is null, citizen_id, null)) as `renew_failed_at_ios`,   \n",
    "\t--    /* IOS c карты */\n",
    "\t--    /* Подписки IOS c карты */\n",
    "\t\tcount(if(started_from = 'ios' AND subscribed_from = 'yakassa' AND state = 'activated' AND report_date = `activated_at`,citizen_id,null)) AS `ios_sub_from_cart`, \n",
    "\t\t/* Новые подписки IOS c карты */\n",
    "\t\tcount(if(started_from = 'ios' and subscribed_from = 'yakassa'\n",
    "\t\t\t\tAND date_diff('day', created_at, activated_at)  <= 28\n",
    "\t\t\t\tAND report_date = `activated_at` \n",
    "\t\t\t\tAND state = 'activated', citizen_id, null)) AS `ios_sub_first_new_cart`,\n",
    "\t--    /* Новые подписки IOS c карты (переход из appstore)*/\n",
    "\t\tcount(if(started_from = 'ios' and subscribed_from = 'yakassa'\n",
    "\t\t\t\tAND date_diff('day', created_at, activated_at)  <= 28\n",
    "\t\t\t\tAND report_date = `activated_at` \n",
    "\t\t\t\tAND state = 'activated' and lag_subscribed_from = 'ios', citizen_id, null)) AS `ios_sub_first_new_cart_transition`,\n",
    "\t--    /* Продленные подписки IOS c карты */\n",
    "\t\tcount(if(started_from = 'ios' and subscribed_from = 'yakassa'\n",
    "\t\t\t\tAND date_diff('day', created_at, activated_at)  > 28\n",
    "\t\t\t\tAND report_date = `activated_at` \n",
    "\t\t\t\tAND state = 'activated', citizen_id, null)) AS `ios_sub_extended_new_cart`,\n",
    "\t--    /* Отмененные подписки IOS c карты */\n",
    "\t\tcount(if(started_from = 'ios' and subscribed_from = 'yakassa' and report_date = `renew_stopped_at`, citizen_id, null)) as `renew_stopped_at_ios_cart`,\n",
    "\t--    /* Неудачны подписки IOS c карты */\n",
    "\t\tcount(if(started_from = 'ios' and subscribed_from = 'yakassa' and report_date = `renew_failed_at` \n",
    "\t\tand `renew_stopped_at` is null, citizen_id, null)) as `renew_failed_at_ios_cart`,\n",
    "\t\t/* Доп */\n",
    "\t\t/* Общее количество неудачных подписок */\n",
    "\t\tcount(if(report_date = `renew_failed_at`  and `renew_stopped_at` is null,citizen_id, null)) AS `renew_failed_at_c`,\n",
    "--\t    --    /* Общее отмененных подписок */\n",
    "\t\tcount(if(report_date = `renew_stopped_at`,citizen_id, null)) AS `renew_stopped_at_c`\n",
    "\t    FROM\n",
    "\t        (SELECT\n",
    "\t            rep_t.`partner_uuid` AS partner_uuid,\n",
    "\t            sub_st.`report_date` AS `report_date`,\n",
    "\t            sub_st.`citizen_id` AS `citizen_id`,\n",
    "\t            sub_st.`state` AS state,\n",
    "\t            lagInFrame(subscribed_from, 1) OVER (\n",
    "\t                PARTITION BY sub_st.citizen_id\n",
    "\t                ORDER BY sub_st.report_date\n",
    "\t                ROWS BETWEEN UNBOUNDED PRECEDING AND UNBOUNDED FOLLOWING\n",
    "\t            ) AS lag_subscribed_from,\n",
    "\t            toDateOrNull(sub_st.`created_at`) AS `created_at`,\n",
    "\t            `subscribed_from`,\n",
    "\t            `plan`,\n",
    "\t            toDateOrNull(sub_st.`activated_at`) AS `activated_at`,\n",
    "\t            toDateOrNull(`expires_date`) AS `expires_date`,\n",
    "\t            toDateOrNull(`renew_stopped_at`) AS `renew_stopped_at`,\n",
    "\t            toDateOrNull(`renew_failed_at`) AS `renew_failed_at`,\n",
    "\t            `started_from`,\n",
    "\t            `pro_subs`,\n",
    "\t            `city`        \n",
    "\t        FROM db1.rep_mobile_citizens_id_city_partner AS rep_t\n",
    "\t        JOIN db1.`subscriptions_st_mobile_ch` AS sub_st \n",
    "\t            ON sub_st.`report_date` = rep_t.`report_date`\n",
    "\t            AND sub_st.`citizen_id` = rep_t.`citizen_id`\n",
    "\t        LEFT ANY JOIN db1.`companies_st_partner_ch` AS comp_st\n",
    "\t            ON rep_t.`partner_uuid`= comp_st.`partner_uuid`\n",
    "\t            AND  sub_st.`report_date` = comp_st.`report_date`\n",
    "\t        )\n",
    "\t\t group by report_date, partner_uuid, city\n",
    "    \"\"\"\n",
    "\n",
    "ch.query_run(query_text)"
   ]
  },
  {
   "cell_type": "markdown",
   "id": "7c2da2cd",
   "metadata": {},
   "source": [
    "___\n",
    "## Tools\n",
    "___\n",
    "### query\n"
   ]
  },
  {
   "cell_type": "code",
   "execution_count": 16,
   "id": "6fab4e26",
   "metadata": {},
   "outputs": [
    {
     "data": {
      "text/html": [
       "<div><style>\n",
       ".dataframe > thead > tr,\n",
       ".dataframe > tbody > tr {\n",
       "  text-align: right;\n",
       "  white-space: pre-wrap;\n",
       "}\n",
       "</style>\n",
       "<small>shape: (2, 2)</small><table border=\"1\" class=\"dataframe\"><thead><tr><th>report_date</th><th>sum(paying_users)</th></tr><tr><td>date</td><td>i64</td></tr></thead><tbody><tr><td>2025-07-31</td><td>90663</td></tr><tr><td>2025-06-30</td><td>84601</td></tr></tbody></table></div>"
      ],
      "text/plain": [
       "shape: (2, 2)\n",
       "┌─────────────┬───────────────────┐\n",
       "│ report_date ┆ sum(paying_users) │\n",
       "│ ---         ┆ ---               │\n",
       "│ date        ┆ i64               │\n",
       "╞═════════════╪═══════════════════╡\n",
       "│ 2025-07-31  ┆ 90663             │\n",
       "│ 2025-06-30  ┆ 84601             │\n",
       "└─────────────┴───────────────────┘"
      ]
     },
     "execution_count": 16,
     "metadata": {},
     "output_type": "execute_result"
    }
   ],
   "source": [
    "query_text = \"\"\"--sql\n",
    "    SELECT\n",
    "        report_date,\n",
    "        SUM(paying_users)\n",
    "    FROM db1.subscriptions_report_comerce_rep_mobile_total\n",
    "    WHERE report_date  = toLastDayOfMonth(report_date) \n",
    "    GROUP BY report_date\n",
    "    ORDER BY report_date DESC \n",
    "    limit 2\n",
    "    \"\"\"\n",
    "\n",
    "ch.query_run(query_text)"
   ]
  },
  {
   "cell_type": "markdown",
   "id": "adebebcd",
   "metadata": {},
   "source": [
    "### delete a part\n"
   ]
  },
  {
   "cell_type": "code",
   "execution_count": null,
   "id": "57d666bf",
   "metadata": {},
   "outputs": [],
   "source": [
    "query_text = \"\"\"--sql\n",
    "    ALTER TABLE db1.subscriptions_report_comerce_rep_mobile_total DELETE WHERE report_date = '2025-07-17'\n",
    "    \"\"\"\n",
    "\n",
    "ch.query_run(query_text)"
   ]
  },
  {
   "cell_type": "markdown",
   "id": "619dfa2f",
   "metadata": {},
   "source": [
    "### drop mv"
   ]
  },
  {
   "cell_type": "code",
   "execution_count": 10,
   "id": "91cdcb41",
   "metadata": {},
   "outputs": [
    {
     "data": {
      "text/html": [
       "<div><style>\n",
       ".dataframe > thead > tr,\n",
       ".dataframe > tbody > tr {\n",
       "  text-align: right;\n",
       "  white-space: pre-wrap;\n",
       "}\n",
       "</style>\n",
       "<small>shape: (0, 0)</small><table border=\"1\" class=\"dataframe\"><thead><tr></tr><tr></tr></thead><tbody></tbody></table></div>"
      ],
      "text/plain": [
       "shape: (0, 0)\n",
       "┌┐\n",
       "╞╡\n",
       "└┘"
      ]
     },
     "execution_count": 10,
     "metadata": {},
     "output_type": "execute_result"
    }
   ],
   "source": [
    "query_text = \"\"\"--sql\n",
    "    DROP TABLE db1.subscriptions_report_comerce_rep_mobile_total_mv\n",
    "    \"\"\"\n",
    "\n",
    "ch.query_run(query_text)"
   ]
  },
  {
   "cell_type": "markdown",
   "id": "37e17895",
   "metadata": {},
   "source": [
    "### drop ch"
   ]
  },
  {
   "cell_type": "code",
   "execution_count": 11,
   "id": "85fd885b",
   "metadata": {},
   "outputs": [
    {
     "data": {
      "text/html": [
       "<div><style>\n",
       ".dataframe > thead > tr,\n",
       ".dataframe > tbody > tr {\n",
       "  text-align: right;\n",
       "  white-space: pre-wrap;\n",
       "}\n",
       "</style>\n",
       "<small>shape: (0, 0)</small><table border=\"1\" class=\"dataframe\"><thead><tr></tr><tr></tr></thead><tbody></tbody></table></div>"
      ],
      "text/plain": [
       "shape: (0, 0)\n",
       "┌┐\n",
       "╞╡\n",
       "└┘"
      ]
     },
     "execution_count": 11,
     "metadata": {},
     "output_type": "execute_result"
    }
   ],
   "source": [
    "query_text = \"\"\"--sql\n",
    "    DROP TABLE db1.subscriptions_report_comerce_rep_mobile_total\n",
    "    \"\"\"\n",
    "\n",
    "ch.query_run(query_text)"
   ]
  },
  {
   "cell_type": "markdown",
   "id": "518749f6",
   "metadata": {},
   "source": [
    "### refresh mv"
   ]
  },
  {
   "cell_type": "code",
   "execution_count": null,
   "id": "ba437abd",
   "metadata": {},
   "outputs": [],
   "source": [
    "query_text = \"\"\"\n",
    "SYSTEM REFRESH VIEW db1.subscriptions_report_comerce_rep_mobile_total_mv\n",
    "\"\"\"\n",
    "\n",
    "ch.query_run(query_text)"
   ]
  }
 ],
 "metadata": {
  "jupytext": {
   "formats": "ipynb,md"
  },
  "kernelspec": {
   "display_name": "myenv",
   "language": "python",
   "name": "python3"
  },
  "language_info": {
   "codemirror_mode": {
    "name": "ipython",
    "version": 3
   },
   "file_extension": ".py",
   "mimetype": "text/x-python",
   "name": "python",
   "nbconvert_exporter": "python",
   "pygments_lexer": "ipython3",
   "version": "3.12.11"
  }
 },
 "nbformat": 4,
 "nbformat_minor": 5
}

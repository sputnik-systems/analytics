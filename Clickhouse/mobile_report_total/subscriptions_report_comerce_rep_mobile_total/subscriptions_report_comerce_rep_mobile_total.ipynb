{
 "cells": [
  {
   "cell_type": "markdown",
   "id": "e1ee7622",
   "metadata": {},
   "source": [
    "## Start"
   ]
  },
  {
   "cell_type": "code",
   "execution_count": 1,
   "id": "b2656602",
   "metadata": {},
   "outputs": [],
   "source": [
    "import clickhouse_connect\n",
    "import datetime\n",
    "import os\n",
    "import pytz\n",
    "import pandas as pd\n",
    "from dateutil.relativedelta import relativedelta\n",
    "from dotenv import load_dotenv\n",
    "\n",
    "import sys\n",
    "sys.path.append('/home/boris/Documents/Work/analytics/Clickhouse')\n",
    "from clickhouse_client import ClickHouse_client\n",
    "ch = ClickHouse_client()\n",
    "pd.set_option('display.max_rows', 1000)"
   ]
  },
  {
   "cell_type": "markdown",
   "id": "f6a69d4e",
   "metadata": {},
   "source": [
    "___\n",
    "### Tags: #Mobile_Report\n",
    "\n",
    "### Links:  \n",
    "\n",
    "[[rep_mobile_citizens_id_city_partner]]\n",
    "\n",
    "[[subscriptions_st_mobile]]\n",
    "\n",
    "[[companies_st_partner]]\n",
    "\n",
    "### Table"
   ]
  },
  {
   "cell_type": "code",
   "execution_count": 3,
   "id": "e72d1738",
   "metadata": {},
   "outputs": [
    {
     "data": {
      "text/html": [
       "<div><style>\n",
       ".dataframe > thead > tr,\n",
       ".dataframe > tbody > tr {\n",
       "  text-align: right;\n",
       "  white-space: pre-wrap;\n",
       "}\n",
       "</style>\n",
       "<small>shape: (0, 0)</small><table border=\"1\" class=\"dataframe\"><thead><tr></tr><tr></tr></thead><tbody></tbody></table></div>"
      ],
      "text/plain": [
       "shape: (0, 0)\n",
       "┌┐\n",
       "╞╡\n",
       "└┘"
      ]
     },
     "execution_count": 3,
     "metadata": {},
     "output_type": "execute_result"
    }
   ],
   "source": [
    "query_text = \"\"\"--sql\n",
    "CREATE TABLE db1.subscriptions_report_comerce_rep_mobile_total\n",
    "(\n",
    "    `report_date` Date,\n",
    "    `partner_uuid` String,\n",
    "    `city` String,\n",
    "    `paying_users` UInt64,\n",
    "    `paying_users_standart` UInt64,\n",
    "    `paying_users_standart_yakassa` UInt64,\n",
    "    `paying_users_partner_pro` UInt64,\n",
    "    `paying_users_standart_appstore` UInt64,\n",
    "    `paying_users_standart_ios_from_cart` UInt64,\n",
    "    `paying_users_day` UInt64,\n",
    "    `paying_new_users_in_last_28_days` UInt64,\n",
    "    `failed_subscript_last_28_days` UInt64,\n",
    "    `stoped_subscript_last_28_days` UInt64,\n",
    "    `renewed_subscriptions_last_28_days` UInt64,\n",
    "    `android_sub` UInt64,\n",
    "    `android_sub_first_new` UInt64,\n",
    "    `android_sub_extended_new` UInt64,\n",
    "    `renew_stopped_at_android` UInt64,\n",
    "    `renew_failed_at_android` UInt64,\n",
    "    `android_sub_from_cart` UInt64,\n",
    "    `android_sub_first_new_cart` UInt64,\n",
    "    `android_sub_extended_new_cart` UInt64,\n",
    "    `renew_stopped_at_android_cart` UInt64,\n",
    "    `renew_failed_at_andeoid_cart` UInt64,\n",
    "    `ios_sub` UInt64,\n",
    "    `ios_sub_first_new` UInt64,\n",
    "    `ios_sub_extended_new` UInt64,\n",
    "    `renew_stopped_at_ios` UInt64,\n",
    "    `renew_failed_at_ios` UInt64,\n",
    "    `ios_sub_from_cart` UInt64,\n",
    "    `ios_sub_first_new_cart` UInt64,\n",
    "    `ios_sub_first_new_cart_transition` UInt64,\n",
    "    `ios_sub_extended_new_cart` UInt64,\n",
    "    `renew_stopped_at_ios_cart` UInt64,\n",
    "    `renew_failed_at_ios_cart` UInt64,\n",
    "    `renew_failed_at_c` UInt64,\n",
    "    `renew_stopped_at_c` UInt64\n",
    ")\n",
    "ENGINE = MergeTree()\n",
    "ORDER BY partner_uuid\n",
    "\"\"\"\n",
    "\n",
    "ch.query_run(query_text)"
   ]
  },
  {
   "cell_type": "code",
   "execution_count": 10,
   "id": "25b97960",
   "metadata": {},
   "outputs": [
    {
     "data": {
      "text/html": [
       "<div><style>\n",
       ".dataframe > thead > tr,\n",
       ".dataframe > tbody > tr {\n",
       "  text-align: right;\n",
       "  white-space: pre-wrap;\n",
       "}\n",
       "</style>\n",
       "<small>shape: (0, 0)</small><table border=\"1\" class=\"dataframe\"><thead><tr></tr><tr></tr></thead><tbody></tbody></table></div>"
      ],
      "text/plain": [
       "shape: (0, 0)\n",
       "┌┐\n",
       "╞╡\n",
       "└┘"
      ]
     },
     "execution_count": 10,
     "metadata": {},
     "output_type": "execute_result"
    }
   ],
   "source": [
    "query_text = \"\"\"--sql\n",
    "    CREATE MATERIALIZED VIEW db1.subscriptions_report_comerce_rep_mobile_total_mv\n",
    "    REFRESH EVERY 1 DAY OFFSET 5 HOUR 55 MINUTE TO db1.subscriptions_report_comerce_rep_mobile_total AS\n",
    "    SELECT\n",
    "        report_date,\n",
    "        partner_uuid,\n",
    "        city,\n",
    "        --Общие значения\n",
    "        --Все подписки\n",
    "        COUNT(if(state = 'activated', `citizen_id` ,NULL)) as paying_users,\n",
    "        /* Все подписки стандарт */\n",
    "        COUNT(if((state= 'activated' and plan = 'standard_p1m'), citizen_id,NULL)) as paying_users_standart,\n",
    "        /* Все подписки  подписки Андройд*/    \n",
    "        COUNT(distinct if((state= 'activated' AND subscribed_from = 'yakassa' and  started_from != 'ios'), citizen_id,NULL)) as paying_users_standart_yakassa,\n",
    "        COUNT(distinct if((state= 'activated'  and pro_subs = 1), citizen_id,NULL)) as paying_users_partner_pro,\n",
    "        /* Все подписки  подписки IOS*/    \n",
    "        COUNT(distinct if((state= 'activated' and subscribed_from = 'ios'), citizen_id,NULL)) as paying_users_standart_appstore,\n",
    "        /* Все подписки подписки IOS c карты*/    \n",
    "        COUNT(distinct if(state = 'activated' and started_from = 'ios' AND subscribed_from = 'yakassa' ,citizen_id,null)) AS paying_users_standart_ios_from_cart,\n",
    "        COUNT(distinct if((state= 'activated') and report_date = `activated_at`, citizen_id,NULL)) as paying_users_day,\n",
    "        /* Новые оплаты за последние 28 дней*/    \n",
    "        COUNT(if(date_diff('day', created_at, activated_at) <= 28 AND state = 'activated', citizen_id, null)) AS paying_new_users_in_last_28_days,\n",
    "        /* Ошибки оплаты за последние 28 дней*/    \n",
    "        COUNT(if(date_diff('day', created_at, activated_at) <= 28, citizen_id, null)) AS failed_subscript_last_28_days,\n",
    "        /* Отмены подписок за последние 28 дней*/    \n",
    "        COUNT(if(date_diff('day', created_at, activated_at) <= 28, citizen_id, null)) AS stoped_subscript_last_28_days,\n",
    "        /* Продленные подписки за последние 28 дней*/  \n",
    "        COUNT(if(date_diff('day', created_at, activated_at) > 28 AND state= 'activated', citizen_id, null)) AS renewed_subscriptions_last_28_days,\n",
    "    --    /* Android для старых данных *\n",
    "    --    /* Подписки Android для старых данных */\n",
    "        count(if(subscribed_from = 'yakassa' \n",
    "                AND report_date = `activated_at` \n",
    "                AND state = 'activated' \n",
    "                AND (started_from  is null or started_from ='')\n",
    "                ,citizen_id,null)) AS `android_sub`,\n",
    "        /* Новые подписки Android для старых данных */\n",
    "        count(if(subscribed_from = 'yakassa' \n",
    "                AND date_diff('day', created_at, activated_at)  <= 28\n",
    "                AND (started_from  is null or started_from ='')\n",
    "                AND report_date = `activated_at` \n",
    "                AND state = 'activated', citizen_id, null)) AS `android_sub_first_new`,\n",
    "    --    /* Продленные подписки Android для старых данных */\n",
    "        count(if(subscribed_from = 'yakassa' \n",
    "                AND date_diff('day', created_at, activated_at)  > 28\n",
    "                AND (started_from  is null or started_from ='')\n",
    "                AND report_date = `activated_at` \n",
    "                AND state = 'activated', citizen_id, null)) AS `android_sub_extended_new`,\n",
    "    --    /* Отмененные подписки Android для старых данных */\n",
    "        count(if(subscribed_from = 'yakassa' and report_date = `renew_stopped_at` AND (started_from  is null or started_from =''), citizen_id, null)) as `renew_stopped_at_android`,\n",
    "    --    /* Неудачные подписки Android для старых данных */\n",
    "        count(if(subscribed_from = 'yakassa' and report_date = `renew_failed_at` AND (started_from  is null or started_from ='') and `renew_stopped_at` = '', citizen_id, null)) as renew_failed_at_android,\n",
    "    --    /* Android */\n",
    "    --    /* Подписки Android */\n",
    "        count(if((started_from = 'android' OR started_from = 'hms') AND state = 'activated' AND report_date = `activated_at` ,citizen_id,null)) AS `android_sub_from_cart`,\n",
    "    --    /* Новые подписки Android */\n",
    "        count(if((started_from = 'android' OR started_from = 'hms')\n",
    "                AND date_diff('day', created_at, activated_at)  <= 28\n",
    "                AND report_date = `activated_at` \n",
    "                AND state = 'activated', citizen_id, null)) AS `android_sub_first_new_cart`,\n",
    "    --    /* Продленные подписки Android */\n",
    "        count(if((started_from = 'android' OR started_from = 'hms')\n",
    "                AND date_diff('day', created_at, activated_at)  > 28\n",
    "                AND report_date = `activated_at` \n",
    "                AND state = 'activated', citizen_id, null)) AS `android_sub_extended_new_cart`,\n",
    "    --    /* Отмененные подписки Android */\n",
    "        count(if((started_from = 'android' OR started_from = 'hms') and report_date = `renew_stopped_at`, citizen_id, null)) as `renew_stopped_at_android_cart`,\n",
    "    --    /* неудачные подписки Android */\n",
    "        count(if((started_from = 'android' OR started_from = 'hms') and report_date = `renew_failed_at`  \n",
    "        and `renew_stopped_at` = '', citizen_id, null)) as `renew_failed_at_andeoid_cart`,\n",
    "    --    /* IOS с appstore */\n",
    "    --    /* Подписки IOS с appstore */\n",
    "        count(if(subscribed_from = 'ios' \n",
    "                AND report_date = `activated_at` \n",
    "                AND state = 'activated' \n",
    "                ,citizen_id,null)) AS `ios_sub`,\n",
    "    --    /* Новые подписки IOS с appstore */\n",
    "        count(if(subscribed_from = 'ios' \n",
    "                AND date_diff('day', created_at, activated_at) <= 28\n",
    "                AND report_date = `activated_at` \n",
    "                AND state = 'activated', citizen_id, null)) AS `ios_sub_first_new`,\n",
    "    --    /* Продленные подписки IOS с appstore */\n",
    "        count(if(subscribed_from = 'ios' \n",
    "                AND date_diff('day', created_at, activated_at) > 28\n",
    "                AND report_date = `activated_at` \n",
    "                AND state = 'activated', citizen_id, null)) AS `ios_sub_extended_new`,\n",
    "    --    /* Отмененные подписки IOS с appstore */\n",
    "        count(if(subscribed_from = 'ios' and report_date = `renew_stopped_at`, citizen_id, null)) as `renew_stopped_at_ios`,\n",
    "    --    /* Неудачные подписки  IOS с appstore */\n",
    "        count(if(subscribed_from = 'ios' and report_date = `renew_failed_at`  and `renew_stopped_at` = '', citizen_id, null)) as `renew_failed_at_ios`,   \n",
    "    --    /* IOS c карты */\n",
    "    --    /* Подписки IOS c карты */\n",
    "        count(if(started_from = 'ios' AND subscribed_from = 'yakassa' AND state = 'activated' AND report_date = `activated_at`,citizen_id,null)) AS `ios_sub_from_cart`, \n",
    "        /* Новые подписки IOS c карты */\n",
    "        count(if(started_from = 'ios' and subscribed_from = 'yakassa'\n",
    "                AND date_diff('day', created_at, activated_at)  <= 28\n",
    "                AND report_date = `activated_at` \n",
    "                AND state = 'activated', citizen_id, null)) AS `ios_sub_first_new_cart`,\n",
    "    --    /* Новые подписки IOS c карты (переход из appstore)*/\n",
    "        count(if(started_from = 'ios' and subscribed_from = 'yakassa'\n",
    "                AND date_diff('day', created_at, activated_at)  <= 28\n",
    "                AND report_date = `activated_at` \n",
    "                AND state = 'activated' and lag_subscribed_from = 'ios', citizen_id, null)) AS `ios_sub_first_new_cart_transition`,\n",
    "    --    /* Продленные подписки IOS c карты */\n",
    "        count(if(started_from = 'ios' and subscribed_from = 'yakassa'\n",
    "                AND date_diff('day', created_at, activated_at)  > 28\n",
    "                AND report_date = `activated_at` \n",
    "                AND state = 'activated', citizen_id, null)) AS `ios_sub_extended_new_cart`,\n",
    "    --    /* Отмененные подписки IOS c карты */\n",
    "        count(if(started_from = 'ios' and subscribed_from = 'yakassa' and report_date = `renew_stopped_at`, citizen_id, null)) as `renew_stopped_at_ios_cart`,\n",
    "    --    /* Неудачны подписки IOS c карты */\n",
    "        count(if(started_from = 'ios' and subscribed_from = 'yakassa' and report_date = `renew_failed_at`   \n",
    "        and `renew_stopped_at` = '', citizen_id, null)) as `renew_failed_at_ios_cart`,\n",
    "        /* Доп */\n",
    "        /* Общее количество неудачных подписок */\n",
    "        count(if(report_date = `renew_failed_at`  and `renew_stopped_at` = '',citizen_id, null)) AS `renew_failed_at_c`,\n",
    "    --    /* Общее отмененных подписок */\n",
    "        count(if(report_date = `renew_stopped_at`,citizen_id, null)) AS `renew_stopped_at_c`\n",
    "    FROM\n",
    "        (SELECT\n",
    "            rep_t.`partner_uuid` AS partner_uuid,\n",
    "            sub_st.`report_date` AS `report_date`,\n",
    "            sub_st.`citizen_id` AS `citizen_id`,\n",
    "            rep_t.`state` AS state,\n",
    "            lagInFrame(subscribed_from, 1) OVER (\n",
    "                PARTITION BY sub_st.citizen_id\n",
    "                ORDER BY sub_st.report_date\n",
    "                ROWS BETWEEN UNBOUNDED PRECEDING AND UNBOUNDED FOLLOWING\n",
    "            ) AS lag_subscribed_from,\n",
    "            toDateOrNull(sub_st.`created_at`) AS `created_at`,\n",
    "            `subscribed_from`,\n",
    "            `plan`,\n",
    "            toDateOrNull(sub_st.`activated_at`) AS `activated_at`,\n",
    "            toDateOrNull(`expires_date`) AS `expires_date`,\n",
    "            toDateOrNull(`renew_stopped_at`) AS `renew_stopped_at`,\n",
    "            toDateOrNull(`renew_failed_at`) AS `renew_failed_at`,\n",
    "            `started_from`,\n",
    "            `pro_subs`,\n",
    "            `city`        \n",
    "        FROM db1.rep_mobile_citizens_id_city_partner AS rep_t\n",
    "        JOIN db1.`subscriptions_st_mobile_ch` AS sub_st \n",
    "            ON sub_st.`report_date` = rep_t.`report_date`\n",
    "            AND sub_st.`citizen_id` = rep_t.`citizen_id`\n",
    "        LEFT JOIN db1.`companies_st_partner_ch` AS comp_st\n",
    "            ON rep_t.`partner_uuid`= comp_st.`partner_uuid`\n",
    "            AND  sub_st.`report_date` = comp_st.`report_date`\n",
    "        )\n",
    "    group by report_date, partner_uuid, city\n",
    "    \"\"\"\n",
    "\n",
    "ch.query_run(query_text)"
   ]
  },
  {
   "cell_type": "markdown",
   "id": "7c2da2cd",
   "metadata": {},
   "source": [
    "___\n",
    "## Tools\n",
    "___\n",
    "### query\n"
   ]
  },
  {
   "cell_type": "code",
   "execution_count": 6,
   "id": "6fab4e26",
   "metadata": {},
   "outputs": [
    {
     "data": {
      "text/html": [
       "<div><style>\n",
       ".dataframe > thead > tr,\n",
       ".dataframe > tbody > tr {\n",
       "  text-align: right;\n",
       "  white-space: pre-wrap;\n",
       "}\n",
       "</style>\n",
       "<small>shape: (2, 37)</small><table border=\"1\" class=\"dataframe\"><thead><tr><th>report_date</th><th>partner_uuid</th><th>city</th><th>paying_users</th><th>paying_users_standart</th><th>paying_users_standart_yakassa</th><th>paying_users_partner_pro</th><th>paying_users_standart_appstore</th><th>paying_users_standart_ios_from_cart</th><th>paying_users_day</th><th>paying_new_users_in_last_28_days</th><th>failed_subscript_last_28_days</th><th>stoped_subscript_last_28_days</th><th>renewed_subscriptions_last_28_days</th><th>android_sub</th><th>android_sub_first_new</th><th>android_sub_extended_new</th><th>renew_stopped_at_android</th><th>renew_failed_at_android</th><th>android_sub_from_cart</th><th>android_sub_first_new_cart</th><th>android_sub_extended_new_cart</th><th>renew_stopped_at_android_cart</th><th>renew_failed_at_andeoid_cart</th><th>ios_sub</th><th>ios_sub_first_new</th><th>ios_sub_extended_new</th><th>renew_stopped_at_ios</th><th>renew_failed_at_ios</th><th>ios_sub_from_cart</th><th>ios_sub_first_new_cart</th><th>ios_sub_first_new_cart_transition</th><th>ios_sub_extended_new_cart</th><th>renew_stopped_at_ios_cart</th><th>renew_failed_at_ios_cart</th><th>renew_failed_at_c</th><th>renew_stopped_at_c</th></tr><tr><td>date</td><td>str</td><td>str</td><td>i64</td><td>i64</td><td>i64</td><td>i64</td><td>i64</td><td>i64</td><td>i64</td><td>i64</td><td>i64</td><td>i64</td><td>i64</td><td>i64</td><td>i64</td><td>i64</td><td>i64</td><td>i64</td><td>i64</td><td>i64</td><td>i64</td><td>i64</td><td>i64</td><td>i64</td><td>i64</td><td>i64</td><td>i64</td><td>i64</td><td>i64</td><td>i64</td><td>i64</td><td>i64</td><td>i64</td><td>i64</td><td>i64</td><td>i64</td></tr></thead><tbody><tr><td>2023-09-17</td><td>&quot;&quot;</td><td>&quot;Новокузнецк&quot;</td><td>3</td><td>3</td><td>3</td><td>0</td><td>0</td><td>0</td><td>0</td><td>1</td><td>1</td><td>1</td><td>0</td><td>0</td><td>0</td><td>0</td><td>0</td><td>0</td><td>0</td><td>0</td><td>0</td><td>0</td><td>0</td><td>0</td><td>0</td><td>0</td><td>0</td><td>0</td><td>0</td><td>0</td><td>0</td><td>0</td><td>0</td><td>0</td><td>0</td><td>0</td></tr><tr><td>2024-07-07</td><td>&quot;&quot;</td><td>&quot;Ростов-на-Дону&quot;</td><td>13</td><td>12</td><td>5</td><td>0</td><td>5</td><td>3</td><td>0</td><td>4</td><td>4</td><td>4</td><td>9</td><td>0</td><td>0</td><td>0</td><td>0</td><td>0</td><td>0</td><td>0</td><td>0</td><td>0</td><td>0</td><td>0</td><td>0</td><td>0</td><td>0</td><td>0</td><td>0</td><td>0</td><td>0</td><td>0</td><td>0</td><td>0</td><td>0</td><td>0</td></tr></tbody></table></div>"
      ],
      "text/plain": [
       "shape: (2, 37)\n",
       "┌───────────┬───────────┬───────────┬───────────┬───┬───────────┬───────────┬───────────┬──────────┐\n",
       "│ report_da ┆ partner_u ┆ city      ┆ paying_us ┆ … ┆ renew_sto ┆ renew_fai ┆ renew_fai ┆ renew_st │\n",
       "│ te        ┆ uid       ┆ ---       ┆ ers       ┆   ┆ pped_at_i ┆ led_at_io ┆ led_at_c  ┆ opped_at │\n",
       "│ ---       ┆ ---       ┆ str       ┆ ---       ┆   ┆ os_cart   ┆ s_cart    ┆ ---       ┆ _c       │\n",
       "│ date      ┆ str       ┆           ┆ i64       ┆   ┆ ---       ┆ ---       ┆ i64       ┆ ---      │\n",
       "│           ┆           ┆           ┆           ┆   ┆ i64       ┆ i64       ┆           ┆ i64      │\n",
       "╞═══════════╪═══════════╪═══════════╪═══════════╪═══╪═══════════╪═══════════╪═══════════╪══════════╡\n",
       "│ 2023-09-1 ┆           ┆ Новокузне ┆ 3         ┆ … ┆ 0         ┆ 0         ┆ 0         ┆ 0        │\n",
       "│ 7         ┆           ┆ цк        ┆           ┆   ┆           ┆           ┆           ┆          │\n",
       "│ 2024-07-0 ┆           ┆ Ростов-на ┆ 13        ┆ … ┆ 0         ┆ 0         ┆ 0         ┆ 0        │\n",
       "│ 7         ┆           ┆ -Дону     ┆           ┆   ┆           ┆           ┆           ┆          │\n",
       "└───────────┴───────────┴───────────┴───────────┴───┴───────────┴───────────┴───────────┴──────────┘"
      ]
     },
     "execution_count": 6,
     "metadata": {},
     "output_type": "execute_result"
    }
   ],
   "source": [
    "query_text = \"\"\"--sql\n",
    "    SELECT\n",
    "        *\n",
    "    FROM db1.subscriptions_report_comerce_rep_mobile_total\n",
    "    limit 2\n",
    "    \"\"\"\n",
    "\n",
    "ch.query_run(query_text)"
   ]
  },
  {
   "cell_type": "markdown",
   "id": "adebebcd",
   "metadata": {},
   "source": [
    "### delete a part\n"
   ]
  },
  {
   "cell_type": "code",
   "execution_count": null,
   "id": "57d666bf",
   "metadata": {},
   "outputs": [],
   "source": [
    "query_text = \"\"\"--sql\n",
    "    ALTER TABLE db1.subscriptions_report_comerce_rep_mobile_total DELETE WHERE report_date = '2025-07-17'\n",
    "    \"\"\"\n",
    "\n",
    "ch.query_run(query_text)"
   ]
  },
  {
   "cell_type": "markdown",
   "id": "619dfa2f",
   "metadata": {},
   "source": [
    "### drop mv"
   ]
  },
  {
   "cell_type": "code",
   "execution_count": 8,
   "id": "91cdcb41",
   "metadata": {},
   "outputs": [
    {
     "data": {
      "text/html": [
       "<div><style>\n",
       ".dataframe > thead > tr,\n",
       ".dataframe > tbody > tr {\n",
       "  text-align: right;\n",
       "  white-space: pre-wrap;\n",
       "}\n",
       "</style>\n",
       "<small>shape: (0, 0)</small><table border=\"1\" class=\"dataframe\"><thead><tr></tr><tr></tr></thead><tbody></tbody></table></div>"
      ],
      "text/plain": [
       "shape: (0, 0)\n",
       "┌┐\n",
       "╞╡\n",
       "└┘"
      ]
     },
     "execution_count": 8,
     "metadata": {},
     "output_type": "execute_result"
    }
   ],
   "source": [
    "query_text = \"\"\"--sql\n",
    "    DROP TABLE db1.subscriptions_report_comerce_rep_mobile_total_mv\n",
    "    \"\"\"\n",
    "\n",
    "ch.query_run(query_text)"
   ]
  },
  {
   "cell_type": "markdown",
   "id": "37e17895",
   "metadata": {},
   "source": [
    "### drop ch"
   ]
  },
  {
   "cell_type": "code",
   "execution_count": null,
   "id": "85fd885b",
   "metadata": {},
   "outputs": [
    {
     "data": {
      "text/html": [
       "<div><style>\n",
       ".dataframe > thead > tr,\n",
       ".dataframe > tbody > tr {\n",
       "  text-align: right;\n",
       "  white-space: pre-wrap;\n",
       "}\n",
       "</style>\n",
       "<small>shape: (0, 0)</small><table border=\"1\" class=\"dataframe\"><thead><tr></tr><tr></tr></thead><tbody></tbody></table></div>"
      ],
      "text/plain": [
       "shape: (0, 0)\n",
       "┌┐\n",
       "╞╡\n",
       "└┘"
      ]
     },
     "metadata": {},
     "output_type": "display_data"
    }
   ],
   "source": [
    "query_text = \"\"\"--sql\n",
    "    DROP TABLE db1.subscriptions_report_comerce_rep_mobile_total\n",
    "    \"\"\"\n",
    "\n",
    "ch.query_run(query_text)"
   ]
  },
  {
   "cell_type": "markdown",
   "id": "518749f6",
   "metadata": {},
   "source": [
    "### refresh mv"
   ]
  },
  {
   "cell_type": "code",
   "execution_count": null,
   "id": "ba437abd",
   "metadata": {},
   "outputs": [],
   "source": [
    "query_text = \"\"\"\n",
    "SYSTEM REFRESH VIEW db1.subscriptions_report_comerce_rep_mobile_total_mv\n",
    "\"\"\"\n",
    "\n",
    "ch.query_run(query_text)"
   ]
  }
 ],
 "metadata": {
  "jupytext": {
   "formats": "ipynb,md"
  },
  "kernelspec": {
   "display_name": "myenv",
   "language": "python",
   "name": "python3"
  },
  "language_info": {
   "codemirror_mode": {
    "name": "ipython",
    "version": 3
   },
   "file_extension": ".py",
   "mimetype": "text/x-python",
   "name": "python",
   "nbconvert_exporter": "python",
   "pygments_lexer": "ipython3",
   "version": "3.12.11"
  }
 },
 "nbformat": 4,
 "nbformat_minor": 5
}

{
 "cells": [
  {
   "cell_type": "markdown",
   "id": "e1ee7622",
   "metadata": {},
   "source": [
    "## Start"
   ]
  },
  {
   "cell_type": "code",
   "execution_count": 1,
   "id": "b2656602",
   "metadata": {},
   "outputs": [],
   "source": [
    "import clickhouse_connect\n",
    "import datetime\n",
    "import os\n",
    "import pytz\n",
    "import pandas as pd\n",
    "from dateutil.relativedelta import relativedelta\n",
    "from dotenv import load_dotenv\n",
    "\n",
    "import sys\n",
    "sys.path.append('/home/boris/Documents/Work/analytics/Clickhouse')\n",
    "from clickhouse_client import ClickHouse_client\n",
    "ch = ClickHouse_client()\n",
    "pd.set_option('display.max_rows', 1000)"
   ]
  },
  {
   "cell_type": "markdown",
   "id": "f6a69d4e",
   "metadata": {},
   "source": [
    "___\n",
    "### Tags: #Mobile_Report\n",
    "\n",
    "### Links:  \n",
    "\n",
    "[[subscriptions_report_citizens_flats_comerce_rep_mobile_total]]\n",
    "\n",
    "### Table"
   ]
  },
  {
   "cell_type": "code",
   "execution_count": 8,
   "id": "e72d1738",
   "metadata": {},
   "outputs": [
    {
     "data": {
      "text/html": [
       "<div><style>\n",
       ".dataframe > thead > tr,\n",
       ".dataframe > tbody > tr {\n",
       "  text-align: right;\n",
       "  white-space: pre-wrap;\n",
       "}\n",
       "</style>\n",
       "<small>shape: (0, 0)</small><table border=\"1\" class=\"dataframe\"><thead><tr></tr><tr></tr></thead><tbody></tbody></table></div>"
      ],
      "text/plain": [
       "shape: (0, 0)\n",
       "┌┐\n",
       "╞╡\n",
       "└┘"
      ]
     },
     "execution_count": 8,
     "metadata": {},
     "output_type": "execute_result"
    }
   ],
   "source": [
    "query_text = \"\"\"--sql\n",
    "CREATE TABLE db1.subscriptions_report_comerce_rep_mobile_total\n",
    "(\n",
    "    `report_date` Date,\n",
    "    `partner_uuid` String,\n",
    "    `city` String,\n",
    "    `paying_users` UInt64,\n",
    "    `paying_users_standart` UInt64,\n",
    "    `paying_users_standart_yakassa` UInt64,\n",
    "    `paying_users_partner_pro` UInt64,\n",
    "    `paying_users_standart_appstore` UInt64,\n",
    "    `paying_users_standart_ios_from_cart` UInt64,\n",
    "    `paying_users_day` UInt64,\n",
    "    `paying_new_users_in_last_28_days` UInt64,\n",
    "    `failed_subscript_last_28_days` UInt64,\n",
    "    `stoped_subscript_last_28_days` UInt64,\n",
    "    `renewed_subscriptions_last_28_days` UInt64,\n",
    "    `sub_first_new_month` UInt64,\n",
    "    `sub_extended_month` UInt64,\n",
    "    `android_sub` UInt64,\n",
    "    `android_sub_first_new` UInt64,\n",
    "    `android_sub_extended_new` UInt64,\n",
    "    `renew_stopped_at_android` UInt64,\n",
    "    `renew_failed_at_android` UInt64,\n",
    "    `android_sub_from_cart` UInt64,\n",
    "    `android_sub_first_new_cart` UInt64,\n",
    "    `android_sub_extended_new_cart` UInt64,\n",
    "    `renew_stopped_at_android_cart` UInt64,\n",
    "    `renew_failed_at_andeoid_cart` UInt64,\n",
    "    `ios_sub` UInt64,\n",
    "    `ios_sub_first_new` UInt64,\n",
    "    `ios_sub_extended_new` UInt64,\n",
    "    `renew_stopped_at_ios` UInt64,\n",
    "    `renew_failed_at_ios` UInt64,\n",
    "    `ios_sub_from_cart` UInt64,\n",
    "    `ios_sub_first_new_cart` UInt64,\n",
    "    `ios_sub_first_new_cart_transition` UInt64,\n",
    "    `ios_sub_extended_new_cart` UInt64,\n",
    "    `renew_stopped_at_ios_cart` UInt64,\n",
    "    `renew_failed_at_ios_cart` UInt64,\n",
    "    `renew_failed_at_c` UInt64,\n",
    "    `renew_failed_at_month` UInt64,\n",
    "    `renew_stopped_at_c` UInt64,\n",
    "    `renew_stopped_at_month` UInt64\n",
    ")\n",
    "ENGINE = MergeTree()\n",
    "ORDER BY partner_uuid\n",
    "\"\"\"\n",
    "\n",
    "ch.query_run(query_text)"
   ]
  },
  {
   "cell_type": "code",
   "execution_count": 9,
   "id": "cf27d77c",
   "metadata": {},
   "outputs": [
    {
     "data": {
      "text/html": [
       "<div><style>\n",
       ".dataframe > thead > tr,\n",
       ".dataframe > tbody > tr {\n",
       "  text-align: right;\n",
       "  white-space: pre-wrap;\n",
       "}\n",
       "</style>\n",
       "<small>shape: (0, 0)</small><table border=\"1\" class=\"dataframe\"><thead><tr></tr><tr></tr></thead><tbody></tbody></table></div>"
      ],
      "text/plain": [
       "shape: (0, 0)\n",
       "┌┐\n",
       "╞╡\n",
       "└┘"
      ]
     },
     "execution_count": 9,
     "metadata": {},
     "output_type": "execute_result"
    }
   ],
   "source": [
    "query_text = \"\"\"--sql\n",
    "    CREATE MATERIALIZED VIEW db1.subscriptions_report_comerce_rep_mobile_total_mv\n",
    "    REFRESH EVERY 1 DAY OFFSET 5 HOUR 55 MINUTE TO db1.subscriptions_report_comerce_rep_mobile_total AS\n",
    "        SELECT\n",
    "        report_date,\n",
    "        partner_uuid,\n",
    "        city,\n",
    "--        Общие значения\n",
    "--        Все подписки\n",
    "        COUNT(if(state = 'activated', `citizen_id` ,NULL)) as paying_users,\n",
    "        /* Все подписки стандарт */\n",
    "        COUNT(if((state= 'activated' and plan = 'standard_p1m'), citizen_id,NULL)) as paying_users_standart,\n",
    "--        /* Все подписки  подписки Андройд*/    \n",
    "        COUNT(distinct if((state= 'activated' AND subscribed_from = 'yakassa' and  started_from != 'ios'), citizen_id,NULL)) as paying_users_standart_yakassa,\n",
    "        COUNT(distinct if((state= 'activated'  and pro_subs = 1), citizen_id,NULL)) as paying_users_partner_pro,\n",
    "--        /* Все подписки  подписки IOS*/    \n",
    "        COUNT(distinct if((state= 'activated' and subscribed_from = 'ios'), citizen_id,NULL)) as paying_users_standart_appstore,\n",
    "--        /* Все подписки подписки IOS c карты*/    \n",
    "        COUNT(distinct if(state = 'activated' and started_from = 'ios' AND subscribed_from = 'yakassa' ,citizen_id,null)) AS paying_users_standart_ios_from_cart,\n",
    "        COUNT(distinct if((state= 'activated') and report_date = `activated_at`, citizen_id,NULL)) as paying_users_day,\n",
    "--        /* Новые оплаты за последние 28 дней*/    \n",
    "        COUNT(if(date_diff('day', created_at, activated_at) <= 28 AND state = 'activated', citizen_id, null)) AS paying_new_users_in_last_28_days,\n",
    "--        /* Ошибки оплаты за последние 28 дней*/    \n",
    "        COUNT(if(date_diff('day', created_at, activated_at) <= 28, citizen_id, null)) AS failed_subscript_last_28_days,\n",
    "--        /* Отмены подписок за последние 28 дней*/    \n",
    "        COUNT(if(date_diff('day', created_at, activated_at) <= 28, citizen_id, null)) AS stoped_subscript_last_28_days,\n",
    "--        /* Продленные подписки за последние 28 дней*/  \n",
    "        COUNT(if(date_diff('day', created_at, activated_at) > 28 AND state= 'activated', citizen_id, null)) AS renewed_subscriptions_last_28_days,\n",
    "        --\n",
    "        count(if(created_at >= toStartOfMonth(report_date) AND state = 'activated', citizen_id, null)) AS `sub_first_new_month`,\n",
    "        count(if(created_at < toStartOfMonth(report_date)\n",
    "                AND state = 'activated', citizen_id, null)) AS `sub_extended_month`,\n",
    "--    --    /* Android для старых данных *\n",
    "--    --    /* Подписки Android для старых данных */\n",
    "        count(if(subscribed_from = 'yakassa' \n",
    "                AND report_date = `activated_at` \n",
    "                AND state = 'activated' \n",
    "                AND (started_from  is null or started_from ='')\n",
    "                ,citizen_id,null)) AS `android_sub`,\n",
    "--        /* Новые подписки Android для старых данных */\n",
    "        count(if(subscribed_from = 'yakassa' \n",
    "                AND date_diff('day', created_at, activated_at)  <= 28\n",
    "                AND (started_from  is null or started_from ='')\n",
    "                AND report_date = `activated_at` \n",
    "                AND state = 'activated', citizen_id, null)) AS `android_sub_first_new`,\n",
    "--    --    /* Продленные подписки Android для старых данных */\n",
    "        count(if(subscribed_from = 'yakassa' \n",
    "                AND date_diff('day', created_at, activated_at)  > 28\n",
    "                AND (started_from  is null or started_from ='')\n",
    "                AND report_date = `activated_at` \n",
    "                AND state = 'activated', citizen_id, null)) AS `android_sub_extended_new`,\n",
    "--    --    /* Отмененные подписки Android для старых данных */\n",
    "        count(if(subscribed_from = 'yakassa' and report_date = `renew_stopped_at` \n",
    "        \tAND (started_from  is null or started_from =''), citizen_id, null)) as `renew_stopped_at_android`,\n",
    "--    --    /* Неудачные подписки Android для старых данных */\n",
    "        count(if(subscribed_from = 'yakassa' and report_date = `renew_failed_at` AND (started_from  is null or started_from ='') \n",
    "        \tand `renew_stopped_at` IS NULL, citizen_id, null)) as renew_failed_at_android,\n",
    "--    --    /* Android */\n",
    "--    --    /* Подписки Android */\n",
    "        count(if((started_from = 'android' OR started_from = 'hms') AND state = 'activated' \n",
    "\t\t\tAND report_date = `activated_at` ,citizen_id,null)) AS `android_sub_from_cart`,\n",
    "--    --    /* Новые подписки Android */\n",
    "        count(if((started_from = 'android' OR started_from = 'hms')\n",
    "                AND date_diff('day', created_at, activated_at)  <= 28\n",
    "                AND report_date = `activated_at` \n",
    "                AND state = 'activated', citizen_id, null)) AS `android_sub_first_new_cart`,\n",
    "    --    /* Продленные подписки Android */\n",
    "        count(if((started_from = 'android' OR started_from = 'hms')\n",
    "                AND date_diff('day', created_at, activated_at)  > 28\n",
    "                AND report_date = `activated_at` \n",
    "                AND state = 'activated', citizen_id, null)) AS `android_sub_extended_new_cart`,\n",
    "    --    /* Отмененные подписки Android */\n",
    "        count(if((started_from = 'android' OR started_from = 'hms') and report_date = `renew_stopped_at`, citizen_id, null)) as `renew_stopped_at_android_cart`,\n",
    "    --    /* неудачные подписки Android */\n",
    "        count(if((started_from = 'android' OR started_from = 'hms') and report_date = `renew_failed_at`  \n",
    "        \t\tand `renew_stopped_at` IS NULL, citizen_id, null)) as `renew_failed_at_andeoid_cart`,\n",
    "    --    /* IOS с appstore */\n",
    "    --    /* Подписки IOS с appstore */\n",
    "        count(if(subscribed_from = 'ios' \n",
    "                AND report_date = `activated_at` \n",
    "                AND state = 'activated' \n",
    "                ,citizen_id,null)) AS `ios_sub`,\n",
    "    --    /* Новые подписки IOS с appstore */\n",
    "        count(if(subscribed_from = 'ios' \n",
    "                AND date_diff('day', created_at, activated_at) <= 28\n",
    "                AND report_date = `activated_at` \n",
    "                AND state = 'activated', citizen_id, null)) AS `ios_sub_first_new`,\n",
    "    --    /* Продленные подписки IOS с appstore */\n",
    "        count(if(subscribed_from = 'ios' \n",
    "                AND date_diff('day', created_at, activated_at) > 28\n",
    "                AND report_date = `activated_at` \n",
    "                AND state = 'activated', citizen_id, null)) AS `ios_sub_extended_new`,\n",
    "    --    /* Отмененные подписки IOS с appstore */\n",
    "        count(if(subscribed_from = 'ios' and report_date = `renew_stopped_at`, citizen_id, null)) as `renew_stopped_at_ios`,\n",
    "    --    /* Неудачные подписки  IOS с appstore */\n",
    "        count(if(subscribed_from = 'ios' and report_date = `renew_failed_at`  and `renew_stopped_at` is NULL, citizen_id, null)) as `renew_failed_at_ios`,   \n",
    "    --    /* IOS c карты */\n",
    "    --    /* Подписки IOS c карты */\n",
    "        count(if(started_from = 'ios' AND subscribed_from = 'yakassa' AND state = 'activated' AND report_date = `activated_at`,citizen_id,null)) AS `ios_sub_from_cart`, \n",
    "        /* Новые подписки IOS c карты */\n",
    "        count(if(started_from = 'ios' and subscribed_from = 'yakassa'\n",
    "                AND date_diff('day', created_at, activated_at)  <= 28\n",
    "                AND report_date = `activated_at` \n",
    "                AND state = 'activated', citizen_id, null)) AS `ios_sub_first_new_cart`,\n",
    "    --    /* Новые подписки IOS c карты (переход из appstore)*/\n",
    "        count(if(started_from = 'ios' and subscribed_from = 'yakassa'\n",
    "                AND date_diff('day', created_at, activated_at)  <= 28\n",
    "                AND report_date = `activated_at` \n",
    "                AND state = 'activated' and lag_subscribed_from = 'ios', citizen_id, null)) AS `ios_sub_first_new_cart_transition`,\n",
    "    --    /* Продленные подписки IOS c карты */\n",
    "        count(if(started_from = 'ios' and subscribed_from = 'yakassa'\n",
    "                AND date_diff('day', created_at, activated_at)  > 28\n",
    "                AND report_date = `activated_at` \n",
    "                AND state = 'activated', citizen_id, null)) AS `ios_sub_extended_new_cart`,\n",
    "    --    /* Отмененные подписки IOS c карты */\n",
    "        count(if(started_from = 'ios' and subscribed_from = 'yakassa' and report_date = `renew_stopped_at`, citizen_id, null)) as `renew_stopped_at_ios_cart`,\n",
    "    --    /* Неудачны подписки IOS c карты */\n",
    "        count(if(started_from = 'ios' and subscribed_from = 'yakassa' and report_date = `renew_failed_at`   \n",
    "        \t\tand `renew_stopped_at` IS NULL, citizen_id, null)) as `renew_failed_at_ios_cart`,\n",
    "        /* Доп */\n",
    "        /* Общее количество неудачных подписок */\n",
    "        count(if(report_date = `renew_failed_at`  and `renew_stopped_at` is NULL,citizen_id, null)) AS `renew_failed_at_c`,\n",
    "        count(if(`renew_failed_at` BETWEEN toStartOfMonth(report_date) AND  report_date and `renew_stopped_at` is NULL ,citizen_id, null)) AS `renew_failed_at_month`,\n",
    "    --    /* Общее отмененных подписок */\n",
    "        count(if(report_date = `renew_stopped_at`,citizen_id, null)) AS `renew_stopped_at_c`,\n",
    "        count(if(`renew_stopped_at` BETWEEN toStartOfMonth(report_date) AND  report_date ,citizen_id, null)) AS `renew_stopped_at_month`\n",
    "    FROM\n",
    "        (SELECT\n",
    "\t\t    partner_uuid,\n",
    "\t\t    `report_date`,\n",
    "\t\t    `citizen_id`,\n",
    "\t\t    state,\n",
    "\t\t    lagInFrame(subscribed_from, 1) OVER (\n",
    "\t\t            PARTITION BY citizen_id\n",
    "\t\t            ORDER BY report_date\n",
    "\t\t            ROWS BETWEEN UNBOUNDED PRECEDING AND UNBOUNDED FOLLOWING\n",
    "\t\t    ) AS lag_subscribed_from,\n",
    "\t\t    toDateOrNull(`created_at`) AS `created_at`,\n",
    "\t\t    `subscribed_from`,\n",
    "\t\t    `plan`,\n",
    "\t\t    toDateOrNull(`activated_at`) AS `activated_at`,\n",
    "\t\t    toDateOrNull(`expires_date`) AS `expires_date`,\n",
    "\t\t    toDateOrNull(`renew_stopped_at`) AS `renew_stopped_at`,\n",
    "\t\t    toDateOrNull(`renew_failed_at`) AS `renew_failed_at`,\n",
    "\t\t    `started_from`,\n",
    "\t\t    `pro_subs`,\n",
    "\t\t    `city`,\n",
    "\t\t    IF(COUNT(IF(state='activated',1,NULL)) \n",
    "\t\t            OVER (PARTITION BY citizen_id, report_date) > 1 \n",
    "\t\t            AND subscribed_from='ios', 1, 0) AS filter_ios\n",
    "\t\tFROM db1.subscriptions_report_citizens_flats_comerce_rep_mobile_total\n",
    "        )\n",
    "    WHERE filter_ios = 0\n",
    "    group by report_date , partner_uuid, city\n",
    "--\n",
    "    \"\"\"\n",
    "ch.query_run(query_text)"
   ]
  },
  {
   "cell_type": "markdown",
   "id": "7c2da2cd",
   "metadata": {},
   "source": [
    "___\n",
    "## Tools\n",
    "___\n",
    "### query\n"
   ]
  },
  {
   "cell_type": "code",
   "execution_count": 14,
   "id": "6fab4e26",
   "metadata": {},
   "outputs": [
    {
     "data": {
      "text/html": [
       "<div><style>\n",
       ".dataframe > thead > tr,\n",
       ".dataframe > tbody > tr {\n",
       "  text-align: right;\n",
       "  white-space: pre-wrap;\n",
       "}\n",
       "</style>\n",
       "<small>shape: (2, 39)</small><table border=\"1\" class=\"dataframe\"><thead><tr><th>report_date</th><th>partner_uuid</th><th>city</th><th>paying_users</th><th>paying_users_standart</th><th>paying_users_standart_yakassa</th><th>paying_users_partner_pro</th><th>paying_users_standart_appstore</th><th>paying_users_standart_ios_from_cart</th><th>paying_users_day</th><th>paying_new_users_in_last_28_days</th><th>failed_subscript_last_28_days</th><th>stoped_subscript_last_28_days</th><th>renewed_subscriptions_last_28_days</th><th>android_sub</th><th>android_sub_first_new</th><th>android_sub_extended_new</th><th>renew_stopped_at_android</th><th>renew_failed_at_android</th><th>android_sub_from_cart</th><th>android_sub_first_new_cart</th><th>android_sub_extended_new_cart</th><th>renew_stopped_at_android_cart</th><th>renew_failed_at_andeoid_cart</th><th>ios_sub</th><th>ios_sub_first_new</th><th>ios_sub_extended_new</th><th>renew_stopped_at_ios</th><th>renew_failed_at_ios</th><th>ios_sub_from_cart</th><th>ios_sub_first_new_cart</th><th>ios_sub_first_new_cart_transition</th><th>ios_sub_extended_new_cart</th><th>renew_stopped_at_ios_cart</th><th>renew_failed_at_ios_cart</th><th>renew_failed_at_c</th><th>renew_failed_at_month</th><th>renew_stopped_at_c</th><th>renew_stopped_at_month</th></tr><tr><td>date</td><td>str</td><td>str</td><td>i64</td><td>i64</td><td>i64</td><td>i64</td><td>i64</td><td>i64</td><td>i64</td><td>i64</td><td>i64</td><td>i64</td><td>i64</td><td>i64</td><td>i64</td><td>i64</td><td>i64</td><td>i64</td><td>i64</td><td>i64</td><td>i64</td><td>i64</td><td>i64</td><td>i64</td><td>i64</td><td>i64</td><td>i64</td><td>i64</td><td>i64</td><td>i64</td><td>i64</td><td>i64</td><td>i64</td><td>i64</td><td>i64</td><td>i64</td><td>i64</td><td>i64</td></tr></thead><tbody><tr><td>2025-07-30</td><td>&quot;&quot;</td><td>&quot;Красногорск&quot;</td><td>0</td><td>0</td><td>0</td><td>0</td><td>0</td><td>0</td><td>0</td><td>0</td><td>1</td><td>1</td><td>0</td><td>0</td><td>0</td><td>0</td><td>0</td><td>0</td><td>0</td><td>0</td><td>0</td><td>0</td><td>0</td><td>0</td><td>0</td><td>0</td><td>0</td><td>0</td><td>0</td><td>0</td><td>0</td><td>0</td><td>0</td><td>0</td><td>0</td><td>0</td><td>0</td><td>0</td></tr><tr><td>2025-07-04</td><td>&quot;&quot;</td><td>&quot;Кандалакша&quot;</td><td>54</td><td>54</td><td>37</td><td>0</td><td>3</td><td>14</td><td>0</td><td>5</td><td>22</td><td>22</td><td>49</td><td>0</td><td>0</td><td>0</td><td>0</td><td>0</td><td>0</td><td>0</td><td>0</td><td>0</td><td>0</td><td>0</td><td>0</td><td>0</td><td>0</td><td>0</td><td>0</td><td>0</td><td>0</td><td>0</td><td>0</td><td>0</td><td>0</td><td>0</td><td>0</td><td>0</td></tr></tbody></table></div>"
      ],
      "text/plain": [
       "shape: (2, 39)\n",
       "┌───────────┬───────────┬───────────┬───────────┬───┬───────────┬───────────┬───────────┬──────────┐\n",
       "│ report_da ┆ partner_u ┆ city      ┆ paying_us ┆ … ┆ renew_fai ┆ renew_fai ┆ renew_sto ┆ renew_st │\n",
       "│ te        ┆ uid       ┆ ---       ┆ ers       ┆   ┆ led_at_c  ┆ led_at_mo ┆ pped_at_c ┆ opped_at │\n",
       "│ ---       ┆ ---       ┆ str       ┆ ---       ┆   ┆ ---       ┆ nth       ┆ ---       ┆ _month   │\n",
       "│ date      ┆ str       ┆           ┆ i64       ┆   ┆ i64       ┆ ---       ┆ i64       ┆ ---      │\n",
       "│           ┆           ┆           ┆           ┆   ┆           ┆ i64       ┆           ┆ i64      │\n",
       "╞═══════════╪═══════════╪═══════════╪═══════════╪═══╪═══════════╪═══════════╪═══════════╪══════════╡\n",
       "│ 2025-07-3 ┆           ┆ Красногор ┆ 0         ┆ … ┆ 0         ┆ 0         ┆ 0         ┆ 0        │\n",
       "│ 0         ┆           ┆ ск        ┆           ┆   ┆           ┆           ┆           ┆          │\n",
       "│ 2025-07-0 ┆           ┆ Кандалакш ┆ 54        ┆ … ┆ 0         ┆ 0         ┆ 0         ┆ 0        │\n",
       "│ 4         ┆           ┆ а         ┆           ┆   ┆           ┆           ┆           ┆          │\n",
       "└───────────┴───────────┴───────────┴───────────┴───┴───────────┴───────────┴───────────┴──────────┘"
      ]
     },
     "execution_count": 14,
     "metadata": {},
     "output_type": "execute_result"
    }
   ],
   "source": [
    "query_text = \"\"\"--sql\n",
    "    SELECT\n",
    "        *\n",
    "    FROM db1.subscriptions_report_comerce_rep_mobile_total\n",
    "    limit 2\n",
    "    \"\"\"\n",
    "\n",
    "ch.query_run(query_text)"
   ]
  },
  {
   "cell_type": "markdown",
   "id": "adebebcd",
   "metadata": {},
   "source": [
    "### delete a part\n"
   ]
  },
  {
   "cell_type": "code",
   "execution_count": 3,
   "id": "57d666bf",
   "metadata": {},
   "outputs": [
    {
     "data": {
      "text/html": [
       "<div><style>\n",
       ".dataframe > thead > tr,\n",
       ".dataframe > tbody > tr {\n",
       "  text-align: right;\n",
       "  white-space: pre-wrap;\n",
       "}\n",
       "</style>\n",
       "<small>shape: (0, 0)</small><table border=\"1\" class=\"dataframe\"><thead><tr></tr><tr></tr></thead><tbody></tbody></table></div>"
      ],
      "text/plain": [
       "shape: (0, 0)\n",
       "┌┐\n",
       "╞╡\n",
       "└┘"
      ]
     },
     "execution_count": 3,
     "metadata": {},
     "output_type": "execute_result"
    }
   ],
   "source": [
    "query_text = \"\"\"--sql\n",
    "    ALTER TABLE db1.subscriptions_report_comerce_rep_mobile_total DELETE WHERE report_date = '2025-07-17'\n",
    "    \"\"\"\n",
    "\n",
    "ch.query_run(query_text)"
   ]
  },
  {
   "cell_type": "markdown",
   "id": "619dfa2f",
   "metadata": {},
   "source": [
    "### drop mv"
   ]
  },
  {
   "cell_type": "code",
   "execution_count": 6,
   "id": "91cdcb41",
   "metadata": {},
   "outputs": [
    {
     "data": {
      "text/html": [
       "<div><style>\n",
       ".dataframe > thead > tr,\n",
       ".dataframe > tbody > tr {\n",
       "  text-align: right;\n",
       "  white-space: pre-wrap;\n",
       "}\n",
       "</style>\n",
       "<small>shape: (0, 0)</small><table border=\"1\" class=\"dataframe\"><thead><tr></tr><tr></tr></thead><tbody></tbody></table></div>"
      ],
      "text/plain": [
       "shape: (0, 0)\n",
       "┌┐\n",
       "╞╡\n",
       "└┘"
      ]
     },
     "execution_count": 6,
     "metadata": {},
     "output_type": "execute_result"
    }
   ],
   "source": [
    "query_text = \"\"\"--sql\n",
    "    DROP TABLE db1.subscriptions_report_comerce_rep_mobile_total_mv\n",
    "    \"\"\"\n",
    "\n",
    "ch.query_run(query_text)"
   ]
  },
  {
   "cell_type": "markdown",
   "id": "37e17895",
   "metadata": {},
   "source": [
    "### drop ch"
   ]
  },
  {
   "cell_type": "code",
   "execution_count": 7,
   "id": "85fd885b",
   "metadata": {},
   "outputs": [
    {
     "data": {
      "text/html": [
       "<div><style>\n",
       ".dataframe > thead > tr,\n",
       ".dataframe > tbody > tr {\n",
       "  text-align: right;\n",
       "  white-space: pre-wrap;\n",
       "}\n",
       "</style>\n",
       "<small>shape: (0, 0)</small><table border=\"1\" class=\"dataframe\"><thead><tr></tr><tr></tr></thead><tbody></tbody></table></div>"
      ],
      "text/plain": [
       "shape: (0, 0)\n",
       "┌┐\n",
       "╞╡\n",
       "└┘"
      ]
     },
     "execution_count": 7,
     "metadata": {},
     "output_type": "execute_result"
    }
   ],
   "source": [
    "query_text = \"\"\"--sql\n",
    "    DROP TABLE db1.subscriptions_report_comerce_rep_mobile_total\n",
    "    \"\"\"\n",
    "\n",
    "ch.query_run(query_text)"
   ]
  },
  {
   "cell_type": "markdown",
   "id": "518749f6",
   "metadata": {},
   "source": [
    "### refresh mv"
   ]
  },
  {
   "cell_type": "code",
   "execution_count": null,
   "id": "ba437abd",
   "metadata": {},
   "outputs": [],
   "source": [
    "query_text = \"\"\"\n",
    "SYSTEM REFRESH VIEW db1.subscriptions_report_comerce_rep_mobile_total_mv\n",
    "\"\"\"\n",
    "\n",
    "ch.query_run(query_text)"
   ]
  }
 ],
 "metadata": {
  "jupytext": {
   "formats": "ipynb,md"
  },
  "kernelspec": {
   "display_name": "myenv",
   "language": "python",
   "name": "python3"
  },
  "language_info": {
   "codemirror_mode": {
    "name": "ipython",
    "version": 3
   },
   "file_extension": ".py",
   "mimetype": "text/x-python",
   "name": "python",
   "nbconvert_exporter": "python",
   "pygments_lexer": "ipython3",
   "version": "3.12.11"
  }
 },
 "nbformat": 4,
 "nbformat_minor": 5
}

{
 "cells": [
  {
   "cell_type": "markdown",
   "id": "7b4029dd",
   "metadata": {},
   "source": [
    "## Start"
   ]
  },
  {
   "cell_type": "code",
   "execution_count": 2,
   "id": "bf02d95f",
   "metadata": {
    "jupyter": {
     "is_executing": false
    }
   },
   "outputs": [],
   "source": [
    "import clickhouse_connect\n",
    "import datetime\n",
    "import os\n",
    "import pytz\n",
    "import pandas as pd\n",
    "from dateutil.relativedelta import relativedelta\n",
    "from dotenv import load_dotenv\n",
    "\n",
    "import sys\n",
    "sys.path.append('/home/boris/Documents/Work/analytics/Clickhouse')\n",
    "from clickhouse_client import ClickHouse_client\n",
    "ch = ClickHouse_client()\n",
    "pd.set_option('display.max_rows', 1000)"
   ]
  },
  {
   "cell_type": "markdown",
   "id": "0541a3f5",
   "metadata": {},
   "source": [
    "___\n",
    "### Tags: #Mobile_Report\n",
    "\n",
    "### Links:\n",
    "\n",
    "[[citizens_st_mobile]]\n",
    "\n",
    "[[flats_dir_partner]]\n",
    "\n",
    "[[entries_installation_points_dir_partner]]\n",
    "\n",
    "[[installation_point_st_partner]]\n",
    "\n",
    "[[companies_st_partner]]\n",
    "___"
   ]
  },
  {
   "cell_type": "code",
   "execution_count": null,
   "id": "91e00f10",
   "metadata": {
    "jupyter": {
     "is_executing": false
    }
   },
   "outputs": [],
   "source": [
    "query_text = \"\"\"--sql\n",
    "    SELECT\n",
    "        citizens_st_mobile.report_date AS report_date,\n",
    "        citizens_st_mobile.citizen_id AS citizen_id,\n",
    "        citizens_st_mobile.trial_available AS trial_available,\n",
    "        citizens_st_mobile.state AS state,\n",
    "        citizens_st_mobile.flat_uuid AS flat_uuid,\n",
    "        flats_dir_partner.address_uuid AS address_uuid,\n",
    "        entries_installation_points_dir_partner.city AS city,\n",
    "        installation_point_st_partner.partner_uuid AS partner_uuid,\n",
    "        installation_point_st_partner.monetization AS monetization,\n",
    "        installation_point_st_partner.monetization_is_allowed AS monetization_is_allowed,\n",
    "        flats_dir_partner.created_at AS flat_created_at,\n",
    "        citizens_st_mobile.activated_at AS activated_at\n",
    "    FROM db1.citizens_st_mobile_ch AS citizens_st_mobile\n",
    "    LEFT JOIN db1.flats_dir_partner_ch AS flats_dir_partner \n",
    "        ON flats_dir_partner.flat_uuid = citizens_st_mobile.flat_uuid\n",
    "    LEFT JOIN db1.entries_installation_points_dir_partner_ch AS entries_installation_points_dir_partner \n",
    "        ON flats_dir_partner.address_uuid = entries_installation_points_dir_partner.address_uuid\n",
    "    LEFT JOIN db1.installation_point_st_partner_ch AS installation_point_st_partner\n",
    "        ON installation_point_st_partner.installation_point_id = entries_installation_points_dir_partner.installation_point_id\n",
    "        AND installation_point_st_partner.report_date = citizens_st_mobile.report_date\n",
    "    LEFT JOIN db1.companies_st_partner_ch AS companies_st_partner\n",
    "        ON installation_point_st_partner.partner_uuid = companies_st_partner.partner_uuid\n",
    "        AND companies_st_partner.report_date = citizens_st_mobile.report_date\n",
    "    WHERE citizens_st_mobile.state = 'activated'\n",
    "    limit 10\n",
    "    \"\"\"\n",
    "\n",
    "ch.get_schema(query_text)"
   ]
  },
  {
   "cell_type": "code",
   "execution_count": null,
   "id": "3f43925b",
   "metadata": {},
   "outputs": [],
   "source": [
    "query_text = \"\"\"--sql\n",
    "CREATE TABLE db1.rep_mobile_citizens_id_city_partner\n",
    "(\n",
    "    `report_date` Date,\n",
    "    `citizen_id` Int32,\n",
    "    `trial_available` Int32,\n",
    "    `state` String,\n",
    "    `flat_uuid` String,\n",
    "    `address_uuid` String,\n",
    "    `city` String,\n",
    "    `partner_uuid` String,\n",
    "    `monetization` Int16,\n",
    "    `monetization_is_allowed` Int16,\n",
    "    `flat_created_at` DateTime,\n",
    "    `activated_at` DateTime\n",
    ")\n",
    "ENGINE = MergeTree()\n",
    "ORDER BY citizen_id\n",
    "\"\"\"\n",
    "\n",
    "ch.query_run(query_text)"
   ]
  },
  {
   "cell_type": "code",
   "execution_count": null,
   "id": "1e42f175",
   "metadata": {},
   "outputs": [],
   "source": [
    "query_text = \"\"\"--sql\n",
    "    CREATE MATERIALIZED VIEW db1.rep_mobile_citizens_id_city_partner_mv\n",
    "    REFRESH EVERY 1 DAY OFFSET 3 HOUR 55 MINUTE TO db1.rep_mobile_citizens_id_city_partner AS\n",
    "   SELECT\n",
    "        citizens_st_mobile.report_date AS report_date,\n",
    "        citizens_st_mobile.citizen_id AS citizen_id,\n",
    "        citizens_st_mobile.trial_available AS trial_available,\n",
    "        citizens_st_mobile.state AS state,\n",
    "        citizens_st_mobile.flat_uuid AS flat_uuid,\n",
    "        flats_dir_partner.address_uuid AS address_uuid,\n",
    "        entries_installation_points_dir_partner.city AS city,\n",
    "        installation_point_st_partner.partner_uuid AS partner_uuid,\n",
    "        installation_point_st_partner.monetization AS monetization,\n",
    "        installation_point_st_partner.monetization_is_allowed AS monetization_is_allowed,\n",
    "        flats_dir_partner.`created_at` AS flat_created_at,\n",
    "        citizens_st_mobile_ch.activated_at AS activated_at\n",
    "    FROM db1.citizens_st_mobile_ch AS citizens_st_mobile\n",
    "    LEFT JOIN db1.flats_dir_partner_ch AS flats_dir_partner \n",
    "        ON flats_dir_partner.flat_uuid = citizens_st_mobile.flat_uuid\n",
    "    LEFT JOIN db1.entries_installation_points_dir_partner_ch AS entries_installation_points_dir_partner \n",
    "        ON flats_dir_partner.address_uuid = entries_installation_points_dir_partner.address_uuid\n",
    "    LEFT JOIN db1.installation_point_st_partner_ch AS installation_point_st_partner\n",
    "        ON installation_point_st_partner.installation_point_id = entries_installation_points_dir_partner.installation_point_id\n",
    "        AND installation_point_st_partner.report_date = citizens_st_mobile.report_date\n",
    "    LEFT JOIN db1.companies_st_partner_ch AS companies_st_partner\n",
    "        ON installation_point_st_partner.partner_uuid = companies_st_partner.partner_uuid\n",
    "        AND companies_st_partner.report_date = citizens_st_mobile.report_date\n",
    "    WHERE citizens_st_mobile.state = 'activated'\n",
    "    \"\"\"\n",
    "\n",
    "ch.query_run(query_text)"
   ]
  },
  {
   "cell_type": "markdown",
   "id": "9e9eddd1",
   "metadata": {},
   "source": [
    "___\n",
    "## Tools\n",
    "___\n",
    "### query\n"
   ]
  },
  {
   "cell_type": "code",
   "execution_count": null,
   "id": "6424eb2c",
   "metadata": {},
   "outputs": [],
   "source": [
    "query_text = \"\"\"--sql\n",
    "    SELECT\n",
    "        *\n",
    "    FROM db1.rep_mobile_citizens_id_city_partner\n",
    "    ORDER BY report_date DESC\n",
    "    limit 100\n",
    "    \"\"\"\n",
    "\n",
    "ch.query_run(query_text)\n"
   ]
  },
  {
   "cell_type": "markdown",
   "id": "63ee1b62",
   "metadata": {},
   "source": [
    "### delete a part\n"
   ]
  },
  {
   "cell_type": "code",
   "execution_count": null,
   "id": "85017eaf",
   "metadata": {},
   "outputs": [],
   "source": [
    "query_text = \"\"\"--sql\n",
    "    ALTER TABLE db1.rep_mobile_citizens_id_city_partner DELETE WHERE report_date = '2025-07-17'\n",
    "    \"\"\"\n",
    "\n",
    "ch.query_run(query_text)\n"
   ]
  },
  {
   "cell_type": "markdown",
   "id": "9b83f013",
   "metadata": {},
   "source": [
    "### drop mv"
   ]
  },
  {
   "cell_type": "code",
   "execution_count": 3,
   "id": "b00503c4",
   "metadata": {
    "lines_to_next_cell": 2
   },
   "outputs": [
    {
     "data": {
      "text/html": [
       "<div>\n",
       "<style scoped>\n",
       "    .dataframe tbody tr th:only-of-type {\n",
       "        vertical-align: middle;\n",
       "    }\n",
       "\n",
       "    .dataframe tbody tr th {\n",
       "        vertical-align: top;\n",
       "    }\n",
       "\n",
       "    .dataframe thead th {\n",
       "        text-align: right;\n",
       "    }\n",
       "</style>\n",
       "<table border=\"1\" class=\"dataframe\">\n",
       "  <thead>\n",
       "    <tr style=\"text-align: right;\">\n",
       "      <th></th>\n",
       "    </tr>\n",
       "  </thead>\n",
       "  <tbody>\n",
       "  </tbody>\n",
       "</table>\n",
       "</div>"
      ],
      "text/plain": [
       "Empty DataFrame\n",
       "Columns: []\n",
       "Index: []"
      ]
     },
     "execution_count": 3,
     "metadata": {},
     "output_type": "execute_result"
    }
   ],
   "source": [
    "query_text = \"\"\"--sql\n",
    "    DROP TABLE db1.rep_mobile_citizens_id_city_partner_mv\n",
    "    \"\"\"\n",
    "\n",
    "ch.query_run(query_text)"
   ]
  },
  {
   "cell_type": "markdown",
   "id": "8a45c464",
   "metadata": {},
   "source": [
    "### drop ch"
   ]
  },
  {
   "cell_type": "code",
   "execution_count": null,
   "id": "adf6e7b6",
   "metadata": {},
   "outputs": [],
   "source": [
    "query_text = \"\"\"--sql\n",
    "    DROP TABLE db1.rep_mobile_citizens_id_city_partner\n",
    "    \"\"\"\n",
    "\n",
    "ch.query_run(query_text)"
   ]
  },
  {
   "cell_type": "markdown",
   "id": "bf2dd886",
   "metadata": {},
   "source": [
    "### refresh mv"
   ]
  },
  {
   "cell_type": "code",
   "execution_count": null,
   "id": "842757d9",
   "metadata": {},
   "outputs": [],
   "source": [
    "query_text = \"\"\"\n",
    "SYSTEM REFRESH VIEW db1.rep_mobile_citizens_id_city_partner_mv\n",
    "\"\"\"\n",
    "\n",
    "ch.query_run(query_text)"
   ]
  }
 ],
 "metadata": {
  "jupytext": {
   "formats": "ipynb,md"
  },
  "kernelspec": {
   "display_name": "Python (myenv)",
   "language": "python",
   "name": "myenv"
  },
  "language_info": {
   "codemirror_mode": {
    "name": "ipython",
    "version": 3
   },
   "file_extension": ".py",
   "mimetype": "text/x-python",
   "name": "python",
   "nbconvert_exporter": "python",
   "pygments_lexer": "ipython3",
   "version": "3.13.7"
  }
 },
 "nbformat": 4,
 "nbformat_minor": 5
}

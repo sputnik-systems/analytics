{
 "cells": [
  {
   "cell_type": "markdown",
   "id": "7b4029dd",
   "metadata": {},
   "source": [
    "## Start"
   ]
  },
  {
   "cell_type": "code",
   "execution_count": 1,
   "id": "bf02d95f",
   "metadata": {
    "jupyter": {
     "is_executing": false
    }
   },
   "outputs": [],
   "source": [
    "import clickhouse_connect\n",
    "import datetime\n",
    "import os\n",
    "import pytz\n",
    "import pandas as pd\n",
    "from dateutil.relativedelta import relativedelta\n",
    "from dotenv import load_dotenv\n",
    "\n",
    "import sys\n",
    "sys.path.append('/home/boris/Documents/Work/analytics/Clickhouse')\n",
    "from clickhouse_client import ClickHouse_client\n",
    "ch = ClickHouse_client()\n",
    "pd.set_option('display.max_rows', 1000)"
   ]
  },
  {
   "cell_type": "markdown",
   "id": "0541a3f5",
   "metadata": {},
   "source": [
    "___\n",
    "### Tags: #Mobile_Report\n",
    "\n",
    "### Links:\n",
    "\n",
    "[[citizens_st_mobile]]\n",
    "\n",
    "[[flats_dir_partner]]\n",
    "\n",
    "[[entries_installation_points_dir_partner]]\n",
    "\n",
    "[[installation_point_st_partner]]\n",
    "\n",
    "[[companies_st_partner]]\n",
    "___"
   ]
  },
  {
   "cell_type": "code",
   "execution_count": 10,
   "id": "91e00f10",
   "metadata": {
    "jupyter": {
     "is_executing": false
    }
   },
   "outputs": [
    {
     "name": "stdout",
     "output_type": "stream",
     "text": [
      "(\n",
      "    `report_date` Date,\n",
      "    `citizen_id` Int32,\n",
      "    `trial_available` Int32,\n",
      "    `state` String,\n",
      "    `flat_uuid` String,\n",
      "    `address_uuid` String,\n",
      "    `city` String,\n",
      "    `partner_uuid` String,\n",
      "    `monetization` Int16,\n",
      "    `monetization_is_allowed` Int16,\n",
      "    `flat_created_at` DateTime,\n",
      "    `activated_at` DateTime\n",
      ")\n"
     ]
    }
   ],
   "source": [
    "query_text = \"\"\"--sql\n",
    "    SELECT\n",
    "        citizens_st_mobile.report_date AS report_date,\n",
    "        citizens_st_mobile.citizen_id AS citizen_id,\n",
    "        citizens_st_mobile.trial_available AS trial_available,\n",
    "        citizens_st_mobile.state AS state,\n",
    "        citizens_st_mobile.flat_uuid AS flat_uuid,\n",
    "        flats_dir_partner.address_uuid AS address_uuid,\n",
    "        entries_installation_points_dir_partner.city AS city,\n",
    "        installation_point_st_partner.partner_uuid AS partner_uuid,\n",
    "        installation_point_st_partner.monetization AS monetization,\n",
    "        installation_point_st_partner.monetization_is_allowed AS monetization_is_allowed,\n",
    "        flats_dir_partner.created_at AS flat_created_at,\n",
    "        citizens_st_mobile.activated_at AS activated_at\n",
    "    FROM db1.citizens_st_mobile_ch AS citizens_st_mobile\n",
    "    LEFT JOIN db1.flats_dir_partner_ch AS flats_dir_partner \n",
    "        ON flats_dir_partner.flat_uuid = citizens_st_mobile.flat_uuid\n",
    "    LEFT JOIN db1.entries_installation_points_dir_partner_ch AS entries_installation_points_dir_partner \n",
    "        ON flats_dir_partner.address_uuid = entries_installation_points_dir_partner.address_uuid\n",
    "    LEFT JOIN db1.installation_point_st_partner_ch AS installation_point_st_partner\n",
    "        ON installation_point_st_partner.installation_point_id = entries_installation_points_dir_partner.installation_point_id\n",
    "        AND installation_point_st_partner.report_date = citizens_st_mobile.report_date\n",
    "    LEFT JOIN db1.companies_st_partner_ch AS companies_st_partner\n",
    "        ON installation_point_st_partner.partner_uuid = companies_st_partner.partner_uuid\n",
    "        AND companies_st_partner.report_date = citizens_st_mobile.report_date\n",
    "    WHERE citizens_st_mobile.state = 'activated'\n",
    "    limit 10\n",
    "    \"\"\"\n",
    "\n",
    "ch.get_schema(query_text)"
   ]
  },
  {
   "cell_type": "code",
   "execution_count": 13,
   "id": "3f43925b",
   "metadata": {},
   "outputs": [
    {
     "data": {
      "text/html": [
       "<div><style>\n",
       ".dataframe > thead > tr,\n",
       ".dataframe > tbody > tr {\n",
       "  text-align: right;\n",
       "  white-space: pre-wrap;\n",
       "}\n",
       "</style>\n",
       "<small>shape: (0, 0)</small><table border=\"1\" class=\"dataframe\"><thead><tr></tr><tr></tr></thead><tbody></tbody></table></div>"
      ],
      "text/plain": [
       "shape: (0, 0)\n",
       "┌┐\n",
       "╞╡\n",
       "└┘"
      ]
     },
     "execution_count": 13,
     "metadata": {},
     "output_type": "execute_result"
    }
   ],
   "source": [
    "query_text = \"\"\"--sql\n",
    "CREATE TABLE db1.rep_mobile_citizens_id_city_partner\n",
    "(\n",
    "    `report_date` Date,\n",
    "    `citizen_id` Int32,\n",
    "    `trial_available` Int32,\n",
    "    `state` String,\n",
    "    `flat_uuid` String,\n",
    "    `address_uuid` String,\n",
    "    `city` String,\n",
    "    `partner_uuid` String,\n",
    "    `monetization` Int16,\n",
    "    `monetization_is_allowed` Int16,\n",
    "    `flat_created_at` DateTime,\n",
    "    `activated_at` DateTime\n",
    ")\n",
    "ENGINE = MergeTree()\n",
    "ORDER BY citizen_id\n",
    "\"\"\"\n",
    "\n",
    "ch.query_run(query_text)"
   ]
  },
  {
   "cell_type": "code",
   "execution_count": 3,
   "id": "1e42f175",
   "metadata": {},
   "outputs": [
    {
     "data": {
      "text/html": [
       "<div><style>\n",
       ".dataframe > thead > tr,\n",
       ".dataframe > tbody > tr {\n",
       "  text-align: right;\n",
       "  white-space: pre-wrap;\n",
       "}\n",
       "</style>\n",
       "<small>shape: (0, 0)</small><table border=\"1\" class=\"dataframe\"><thead><tr></tr><tr></tr></thead><tbody></tbody></table></div>"
      ],
      "text/plain": [
       "shape: (0, 0)\n",
       "┌┐\n",
       "╞╡\n",
       "└┘"
      ]
     },
     "execution_count": 3,
     "metadata": {},
     "output_type": "execute_result"
    }
   ],
   "source": [
    "query_text = \"\"\"--sql\n",
    "    CREATE MATERIALIZED VIEW db1.rep_mobile_citizens_id_city_partner_mv\n",
    "    REFRESH EVERY 1 DAY OFFSET 3 HOUR 40 MINUTE TO db1.rep_mobile_citizens_id_city_partner AS\n",
    "   SELECT\n",
    "        citizens_st_mobile.report_date AS report_date,\n",
    "        citizens_st_mobile.citizen_id AS citizen_id,\n",
    "        citizens_st_mobile.trial_available AS trial_available,\n",
    "        citizens_st_mobile.state AS state,\n",
    "        citizens_st_mobile.flat_uuid AS flat_uuid,\n",
    "        flats_dir_partner.address_uuid AS address_uuid,\n",
    "        entries_installation_points_dir_partner.city AS city,\n",
    "        installation_point_st_partner.partner_uuid AS partner_uuid,\n",
    "        installation_point_st_partner.monetization AS monetization,\n",
    "        installation_point_st_partner.monetization_is_allowed AS monetization_is_allowed,\n",
    "        flats_dir_partner.`created_at` AS flat_created_at,\n",
    "        citizens_st_mobile_ch.activated_at AS activated_at\n",
    "    FROM db1.citizens_st_mobile_ch AS citizens_st_mobile\n",
    "    LEFT JOIN db1.flats_dir_partner_ch AS flats_dir_partner \n",
    "        ON flats_dir_partner.flat_uuid = citizens_st_mobile.flat_uuid\n",
    "    LEFT JOIN db1.entries_installation_points_dir_partner_ch AS entries_installation_points_dir_partner \n",
    "        ON flats_dir_partner.address_uuid = entries_installation_points_dir_partner.address_uuid\n",
    "    LEFT JOIN db1.installation_point_st_partner_ch AS installation_point_st_partner\n",
    "        ON installation_point_st_partner.installation_point_id = entries_installation_points_dir_partner.installation_point_id\n",
    "        AND installation_point_st_partner.report_date = citizens_st_mobile.report_date\n",
    "    LEFT JOIN db1.companies_st_partner_ch AS companies_st_partner\n",
    "        ON installation_point_st_partner.partner_uuid = companies_st_partner.partner_uuid\n",
    "        AND companies_st_partner.report_date = citizens_st_mobile.report_date\n",
    "    WHERE citizens_st_mobile.state = 'activated'\n",
    "    \"\"\"\n",
    "\n",
    "ch.query_run(query_text)"
   ]
  },
  {
   "cell_type": "markdown",
   "id": "9e9eddd1",
   "metadata": {},
   "source": [
    "___\n",
    "## Tools\n",
    "___\n",
    "### query\n"
   ]
  },
  {
   "cell_type": "code",
   "execution_count": 2,
   "id": "6424eb2c",
   "metadata": {},
   "outputs": [
    {
     "data": {
      "text/html": [
       "<div><style>\n",
       ".dataframe > thead > tr,\n",
       ".dataframe > tbody > tr {\n",
       "  text-align: right;\n",
       "  white-space: pre-wrap;\n",
       "}\n",
       "</style>\n",
       "<small>shape: (100, 12)</small><table border=\"1\" class=\"dataframe\"><thead><tr><th>report_date</th><th>citizen_id</th><th>trial_available</th><th>state</th><th>flat_uuid</th><th>address_uuid</th><th>city</th><th>partner_uuid</th><th>monetization</th><th>monetization_is_allowed</th><th>flat_created_at</th><th>activated_at</th></tr><tr><td>date</td><td>i64</td><td>i64</td><td>str</td><td>str</td><td>str</td><td>str</td><td>str</td><td>i64</td><td>i64</td><td>datetime[ns]</td><td>datetime[ns]</td></tr></thead><tbody><tr><td>2025-09-02</td><td>1600</td><td>0</td><td>&quot;activated&quot;</td><td>&quot;a8d89bec-a777-4cb7-b664-d0fd1f…</td><td>&quot;e485bf66-c156-43e6-8739-5acc63…</td><td>&quot;Алматы&quot;</td><td>&quot;af8b5bf4-0108-4a0c-acc2-096f94…</td><td>0</td><td>0</td><td>2019-06-07 12:53:52</td><td>1970-01-01 00:00:00</td></tr><tr><td>2025-09-02</td><td>1601</td><td>0</td><td>&quot;activated&quot;</td><td>&quot;9b7e1da4-9f91-4cc9-86a5-3b3e47…</td><td>&quot;e485bf66-c156-43e6-8739-5acc63…</td><td>&quot;Алматы&quot;</td><td>&quot;af8b5bf4-0108-4a0c-acc2-096f94…</td><td>0</td><td>0</td><td>2019-06-07 13:03:32</td><td>1970-01-01 00:00:00</td></tr><tr><td>2025-09-02</td><td>1602</td><td>0</td><td>&quot;activated&quot;</td><td>&quot;a8d89bec-a777-4cb7-b664-d0fd1f…</td><td>&quot;e485bf66-c156-43e6-8739-5acc63…</td><td>&quot;Алматы&quot;</td><td>&quot;af8b5bf4-0108-4a0c-acc2-096f94…</td><td>0</td><td>0</td><td>2019-06-07 12:53:52</td><td>1970-01-01 00:00:00</td></tr><tr><td>2025-09-02</td><td>1750</td><td>0</td><td>&quot;activated&quot;</td><td>&quot;5b31916f-7e18-44e2-91fd-89ce88…</td><td>&quot;ac85a32c-ff99-47a9-9200-e5c5c5…</td><td>&quot;Тюмень&quot;</td><td>&quot;adeffb47-1707-4976-a4a6-e6eacf…</td><td>1</td><td>1</td><td>2019-06-30 15:34:02</td><td>1970-01-01 00:00:00</td></tr><tr><td>2025-09-02</td><td>1605</td><td>0</td><td>&quot;activated&quot;</td><td>&quot;18ae5d80-043e-4fcd-b269-1a81c0…</td><td>&quot;e485bf66-c156-43e6-8739-5acc63…</td><td>&quot;Алматы&quot;</td><td>&quot;af8b5bf4-0108-4a0c-acc2-096f94…</td><td>0</td><td>0</td><td>2019-06-07 07:31:08</td><td>1970-01-01 00:00:00</td></tr><tr><td>&hellip;</td><td>&hellip;</td><td>&hellip;</td><td>&hellip;</td><td>&hellip;</td><td>&hellip;</td><td>&hellip;</td><td>&hellip;</td><td>&hellip;</td><td>&hellip;</td><td>&hellip;</td><td>&hellip;</td></tr><tr><td>2025-09-02</td><td>1699</td><td>0</td><td>&quot;activated&quot;</td><td>&quot;&quot;</td><td>&quot;&quot;</td><td>&quot;&quot;</td><td>&quot;&quot;</td><td>0</td><td>0</td><td>1970-01-01 00:00:00</td><td>1970-01-01 00:00:00</td></tr><tr><td>2025-09-02</td><td>1708</td><td>0</td><td>&quot;activated&quot;</td><td>&quot;14c41817-baae-4cfd-87f8-77592e…</td><td>&quot;0a2f9718-be59-4265-a635-1f431e…</td><td>&quot;Иннополис&quot;</td><td>&quot;adeffb47-1707-4976-a4a6-e6eacf…</td><td>0</td><td>0</td><td>2019-06-22 09:13:01</td><td>1970-01-01 00:00:00</td></tr><tr><td>2025-09-02</td><td>1707</td><td>0</td><td>&quot;activated&quot;</td><td>&quot;77239186-6e2c-4a86-aa36-cf449f…</td><td>&quot;3e077a30-2917-4af8-8782-7ebaa1…</td><td>&quot;Нур-Султан (Астана)&quot;</td><td>&quot;af8b5bf4-0108-4a0c-acc2-096f94…</td><td>0</td><td>0</td><td>2019-06-21 12:12:46</td><td>1970-01-01 00:00:00</td></tr><tr><td>2025-09-02</td><td>1709</td><td>0</td><td>&quot;activated&quot;</td><td>&quot;178ce358-83d7-4445-ac01-01d492…</td><td>&quot;ac85a32c-ff99-47a9-9200-e5c5c5…</td><td>&quot;Тюмень&quot;</td><td>&quot;adeffb47-1707-4976-a4a6-e6eacf…</td><td>1</td><td>1</td><td>2019-06-22 17:01:21</td><td>1970-01-01 00:00:00</td></tr><tr><td>2025-09-02</td><td>1700</td><td>0</td><td>&quot;activated&quot;</td><td>&quot;c7cd1500-7988-40d3-8740-4e3367…</td><td>&quot;029d2d1d-792e-4b43-8245-6c4693…</td><td>&quot;Иннополис&quot;</td><td>&quot;&quot;</td><td>1</td><td>1</td><td>2019-06-19 17:12:16</td><td>1970-01-01 00:00:00</td></tr></tbody></table></div>"
      ],
      "text/plain": [
       "shape: (100, 12)\n",
       "┌───────────┬───────────┬───────────┬───────────┬───┬───────────┬───────────┬───────────┬──────────┐\n",
       "│ report_da ┆ citizen_i ┆ trial_ava ┆ state     ┆ … ┆ monetizat ┆ monetizat ┆ flat_crea ┆ activate │\n",
       "│ te        ┆ d         ┆ ilable    ┆ ---       ┆   ┆ ion       ┆ ion_is_al ┆ ted_at    ┆ d_at     │\n",
       "│ ---       ┆ ---       ┆ ---       ┆ str       ┆   ┆ ---       ┆ lowed     ┆ ---       ┆ ---      │\n",
       "│ date      ┆ i64       ┆ i64       ┆           ┆   ┆ i64       ┆ ---       ┆ datetime[ ┆ datetime │\n",
       "│           ┆           ┆           ┆           ┆   ┆           ┆ i64       ┆ ns]       ┆ [ns]     │\n",
       "╞═══════════╪═══════════╪═══════════╪═══════════╪═══╪═══════════╪═══════════╪═══════════╪══════════╡\n",
       "│ 2025-09-0 ┆ 1600      ┆ 0         ┆ activated ┆ … ┆ 0         ┆ 0         ┆ 2019-06-0 ┆ 1970-01- │\n",
       "│ 2         ┆           ┆           ┆           ┆   ┆           ┆           ┆ 7         ┆ 01       │\n",
       "│           ┆           ┆           ┆           ┆   ┆           ┆           ┆ 12:53:52  ┆ 00:00:00 │\n",
       "│ 2025-09-0 ┆ 1601      ┆ 0         ┆ activated ┆ … ┆ 0         ┆ 0         ┆ 2019-06-0 ┆ 1970-01- │\n",
       "│ 2         ┆           ┆           ┆           ┆   ┆           ┆           ┆ 7         ┆ 01       │\n",
       "│           ┆           ┆           ┆           ┆   ┆           ┆           ┆ 13:03:32  ┆ 00:00:00 │\n",
       "│ 2025-09-0 ┆ 1602      ┆ 0         ┆ activated ┆ … ┆ 0         ┆ 0         ┆ 2019-06-0 ┆ 1970-01- │\n",
       "│ 2         ┆           ┆           ┆           ┆   ┆           ┆           ┆ 7         ┆ 01       │\n",
       "│           ┆           ┆           ┆           ┆   ┆           ┆           ┆ 12:53:52  ┆ 00:00:00 │\n",
       "│ 2025-09-0 ┆ 1750      ┆ 0         ┆ activated ┆ … ┆ 1         ┆ 1         ┆ 2019-06-3 ┆ 1970-01- │\n",
       "│ 2         ┆           ┆           ┆           ┆   ┆           ┆           ┆ 0         ┆ 01       │\n",
       "│           ┆           ┆           ┆           ┆   ┆           ┆           ┆ 15:34:02  ┆ 00:00:00 │\n",
       "│ 2025-09-0 ┆ 1605      ┆ 0         ┆ activated ┆ … ┆ 0         ┆ 0         ┆ 2019-06-0 ┆ 1970-01- │\n",
       "│ 2         ┆           ┆           ┆           ┆   ┆           ┆           ┆ 7         ┆ 01       │\n",
       "│           ┆           ┆           ┆           ┆   ┆           ┆           ┆ 07:31:08  ┆ 00:00:00 │\n",
       "│ …         ┆ …         ┆ …         ┆ …         ┆ … ┆ …         ┆ …         ┆ …         ┆ …        │\n",
       "│ 2025-09-0 ┆ 1699      ┆ 0         ┆ activated ┆ … ┆ 0         ┆ 0         ┆ 1970-01-0 ┆ 1970-01- │\n",
       "│ 2         ┆           ┆           ┆           ┆   ┆           ┆           ┆ 1         ┆ 01       │\n",
       "│           ┆           ┆           ┆           ┆   ┆           ┆           ┆ 00:00:00  ┆ 00:00:00 │\n",
       "│ 2025-09-0 ┆ 1708      ┆ 0         ┆ activated ┆ … ┆ 0         ┆ 0         ┆ 2019-06-2 ┆ 1970-01- │\n",
       "│ 2         ┆           ┆           ┆           ┆   ┆           ┆           ┆ 2         ┆ 01       │\n",
       "│           ┆           ┆           ┆           ┆   ┆           ┆           ┆ 09:13:01  ┆ 00:00:00 │\n",
       "│ 2025-09-0 ┆ 1707      ┆ 0         ┆ activated ┆ … ┆ 0         ┆ 0         ┆ 2019-06-2 ┆ 1970-01- │\n",
       "│ 2         ┆           ┆           ┆           ┆   ┆           ┆           ┆ 1         ┆ 01       │\n",
       "│           ┆           ┆           ┆           ┆   ┆           ┆           ┆ 12:12:46  ┆ 00:00:00 │\n",
       "│ 2025-09-0 ┆ 1709      ┆ 0         ┆ activated ┆ … ┆ 1         ┆ 1         ┆ 2019-06-2 ┆ 1970-01- │\n",
       "│ 2         ┆           ┆           ┆           ┆   ┆           ┆           ┆ 2         ┆ 01       │\n",
       "│           ┆           ┆           ┆           ┆   ┆           ┆           ┆ 17:01:21  ┆ 00:00:00 │\n",
       "│ 2025-09-0 ┆ 1700      ┆ 0         ┆ activated ┆ … ┆ 1         ┆ 1         ┆ 2019-06-1 ┆ 1970-01- │\n",
       "│ 2         ┆           ┆           ┆           ┆   ┆           ┆           ┆ 9         ┆ 01       │\n",
       "│           ┆           ┆           ┆           ┆   ┆           ┆           ┆ 17:12:16  ┆ 00:00:00 │\n",
       "└───────────┴───────────┴───────────┴───────────┴───┴───────────┴───────────┴───────────┴──────────┘"
      ]
     },
     "execution_count": 2,
     "metadata": {},
     "output_type": "execute_result"
    }
   ],
   "source": [
    "query_text = \"\"\"--sql\n",
    "    SELECT\n",
    "        *\n",
    "    FROM db1.rep_mobile_citizens_id_city_partner\n",
    "    ORDER BY report_date DESC\n",
    "    limit 100\n",
    "    \"\"\"\n",
    "\n",
    "ch.query_run(query_text)\n"
   ]
  },
  {
   "cell_type": "markdown",
   "id": "63ee1b62",
   "metadata": {},
   "source": [
    "### delete a part\n"
   ]
  },
  {
   "cell_type": "code",
   "execution_count": null,
   "id": "85017eaf",
   "metadata": {},
   "outputs": [],
   "source": [
    "query_text = \"\"\"--sql\n",
    "    ALTER TABLE db1.rep_mobile_citizens_id_city_partner DELETE WHERE report_date = '2025-07-17'\n",
    "    \"\"\"\n",
    "\n",
    "ch.query_run(query_text)\n"
   ]
  },
  {
   "cell_type": "markdown",
   "id": "9b83f013",
   "metadata": {},
   "source": [
    "### drop mv"
   ]
  },
  {
   "cell_type": "code",
   "execution_count": 2,
   "id": "b00503c4",
   "metadata": {
    "lines_to_next_cell": 2
   },
   "outputs": [
    {
     "data": {
      "text/html": [
       "<div><style>\n",
       ".dataframe > thead > tr,\n",
       ".dataframe > tbody > tr {\n",
       "  text-align: right;\n",
       "  white-space: pre-wrap;\n",
       "}\n",
       "</style>\n",
       "<small>shape: (0, 0)</small><table border=\"1\" class=\"dataframe\"><thead><tr></tr><tr></tr></thead><tbody></tbody></table></div>"
      ],
      "text/plain": [
       "shape: (0, 0)\n",
       "┌┐\n",
       "╞╡\n",
       "└┘"
      ]
     },
     "execution_count": 2,
     "metadata": {},
     "output_type": "execute_result"
    }
   ],
   "source": [
    "query_text = \"\"\"--sql\n",
    "    DROP TABLE db1.rep_mobile_citizens_id_city_partner_mv\n",
    "    \"\"\"\n",
    "\n",
    "ch.query_run(query_text)"
   ]
  },
  {
   "cell_type": "markdown",
   "id": "8a45c464",
   "metadata": {},
   "source": [
    "### drop ch"
   ]
  },
  {
   "cell_type": "code",
   "execution_count": 12,
   "id": "adf6e7b6",
   "metadata": {},
   "outputs": [
    {
     "data": {
      "text/html": [
       "<div><style>\n",
       ".dataframe > thead > tr,\n",
       ".dataframe > tbody > tr {\n",
       "  text-align: right;\n",
       "  white-space: pre-wrap;\n",
       "}\n",
       "</style>\n",
       "<small>shape: (0, 0)</small><table border=\"1\" class=\"dataframe\"><thead><tr></tr><tr></tr></thead><tbody></tbody></table></div>"
      ],
      "text/plain": [
       "shape: (0, 0)\n",
       "┌┐\n",
       "╞╡\n",
       "└┘"
      ]
     },
     "execution_count": 12,
     "metadata": {},
     "output_type": "execute_result"
    }
   ],
   "source": [
    "query_text = \"\"\"--sql\n",
    "    DROP TABLE db1.rep_mobile_citizens_id_city_partner\n",
    "    \"\"\"\n",
    "\n",
    "ch.query_run(query_text)"
   ]
  },
  {
   "cell_type": "markdown",
   "id": "bf2dd886",
   "metadata": {},
   "source": [
    "### refresh mv"
   ]
  },
  {
   "cell_type": "code",
   "execution_count": null,
   "id": "842757d9",
   "metadata": {},
   "outputs": [],
   "source": [
    "query_text = \"\"\"\n",
    "SYSTEM REFRESH VIEW db1.rep_mobile_citizens_id_city_partner_mv\n",
    "\"\"\"\n",
    "\n",
    "ch.query_run(query_text)"
   ]
  }
 ],
 "metadata": {
  "jupytext": {
   "formats": "ipynb,md"
  },
  "kernelspec": {
   "display_name": "Python 3 (ipykernel)",
   "language": "python",
   "name": "python3"
  },
  "language_info": {
   "codemirror_mode": {
    "name": "ipython",
    "version": 3
   },
   "file_extension": ".py",
   "mimetype": "text/x-python",
   "name": "python",
   "nbconvert_exporter": "python",
   "pygments_lexer": "ipython3",
   "version": "3.12.11"
  }
 },
 "nbformat": 4,
 "nbformat_minor": 5
}

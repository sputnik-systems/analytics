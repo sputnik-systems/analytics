{
 "cells": [
  {
   "cell_type": "markdown",
   "id": "7b4029dd",
   "metadata": {},
   "source": [
    "## Start"
   ]
  },
  {
   "cell_type": "code",
   "execution_count": 9,
   "id": "bf02d95f",
   "metadata": {
    "jupyter": {
     "is_executing": false
    }
   },
   "outputs": [],
   "source": [
    "import clickhouse_connect\n",
    "import datetime\n",
    "import os\n",
    "import pytz\n",
    "import pandas as pd\n",
    "from dateutil.relativedelta import relativedelta\n",
    "from dotenv import load_dotenv\n",
    "\n",
    "import sys\n",
    "sys.path.append('/home/boris/Documents/Work/analytics/Clickhouse')\n",
    "from clickhouse_client import ClickHouse_client\n",
    "ch = ClickHouse_client()\n",
    "pd.set_option('display.max_rows', 1000)"
   ]
  },
  {
   "cell_type": "markdown",
   "id": "0541a3f5",
   "metadata": {},
   "source": [
    "___\n",
    "### Tags: #Mobile_Report\n",
    "\n",
    "### Links:\n",
    "\n",
    "[[citizens_st_mobile]]\n",
    "\n",
    "[[flats_dir_partner]]\n",
    "\n",
    "[[entries_installation_points_dir_partner]]\n",
    "\n",
    "[[installation_point_st_partner]]\n",
    "\n",
    "[[companies_st_partner]]\n",
    "___"
   ]
  },
  {
   "cell_type": "code",
   "execution_count": 10,
   "id": "91e00f10",
   "metadata": {
    "jupyter": {
     "is_executing": false
    }
   },
   "outputs": [
    {
     "name": "stdout",
     "output_type": "stream",
     "text": [
      "(\n",
      "    `report_date` Date,\n",
      "    `citizen_id` Int32,\n",
      "    `trial_available` Int32,\n",
      "    `state` String,\n",
      "    `flat_uuid` String,\n",
      "    `address_uuid` String,\n",
      "    `city` String,\n",
      "    `partner_uuid` String,\n",
      "    `monetization` Int16,\n",
      "    `monetization_is_allowed` Int16,\n",
      "    `flat_created_at` DateTime,\n",
      "    `activated_at` DateTime\n",
      ")\n"
     ]
    }
   ],
   "source": [
    "query_text = \"\"\"--sql\n",
    "    SELECT\n",
    "        citizens_st_mobile.report_date AS report_date,\n",
    "        citizens_st_mobile.citizen_id AS citizen_id,\n",
    "        citizens_st_mobile.trial_available AS trial_available,\n",
    "        citizens_st_mobile.state AS state,\n",
    "        citizens_st_mobile.flat_uuid AS flat_uuid,\n",
    "        flats_dir_partner.address_uuid AS address_uuid,\n",
    "        entries_installation_points_dir_partner.city AS city,\n",
    "        installation_point_st_partner.partner_uuid AS partner_uuid,\n",
    "        installation_point_st_partner.monetization AS monetization,\n",
    "        installation_point_st_partner.monetization_is_allowed AS monetization_is_allowed,\n",
    "        flats_dir_partner.created_at AS flat_created_at,\n",
    "        citizens_st_mobile.activated_at AS activated_at\n",
    "    FROM db1.citizens_st_mobile_ch AS citizens_st_mobile\n",
    "    LEFT JOIN db1.flats_dir_partner_ch AS flats_dir_partner \n",
    "        ON flats_dir_partner.flat_uuid = citizens_st_mobile.flat_uuid\n",
    "    LEFT JOIN db1.entries_installation_points_dir_partner_ch AS entries_installation_points_dir_partner \n",
    "        ON flats_dir_partner.address_uuid = entries_installation_points_dir_partner.address_uuid\n",
    "    LEFT JOIN db1.installation_point_st_partner_ch AS installation_point_st_partner\n",
    "        ON installation_point_st_partner.installation_point_id = entries_installation_points_dir_partner.installation_point_id\n",
    "        AND installation_point_st_partner.report_date = citizens_st_mobile.report_date\n",
    "    LEFT JOIN db1.companies_st_partner_ch AS companies_st_partner\n",
    "        ON installation_point_st_partner.partner_uuid = companies_st_partner.partner_uuid\n",
    "        AND companies_st_partner.report_date = citizens_st_mobile.report_date\n",
    "    WHERE citizens_st_mobile.state = 'activated'\n",
    "    limit 10\n",
    "    \"\"\"\n",
    "\n",
    "ch.get_schema(query_text)"
   ]
  },
  {
   "cell_type": "code",
   "execution_count": 13,
   "id": "3f43925b",
   "metadata": {},
   "outputs": [
    {
     "data": {
      "text/html": [
       "<div><style>\n",
       ".dataframe > thead > tr,\n",
       ".dataframe > tbody > tr {\n",
       "  text-align: right;\n",
       "  white-space: pre-wrap;\n",
       "}\n",
       "</style>\n",
       "<small>shape: (0, 0)</small><table border=\"1\" class=\"dataframe\"><thead><tr></tr><tr></tr></thead><tbody></tbody></table></div>"
      ],
      "text/plain": [
       "shape: (0, 0)\n",
       "┌┐\n",
       "╞╡\n",
       "└┘"
      ]
     },
     "execution_count": 13,
     "metadata": {},
     "output_type": "execute_result"
    }
   ],
   "source": [
    "query_text = \"\"\"--sql\n",
    "CREATE TABLE db1.rep_mobile_citizens_id_city_partner\n",
    "(\n",
    "    `report_date` Date,\n",
    "    `citizen_id` Int32,\n",
    "    `trial_available` Int32,\n",
    "    `state` String,\n",
    "    `flat_uuid` String,\n",
    "    `address_uuid` String,\n",
    "    `city` String,\n",
    "    `partner_uuid` String,\n",
    "    `monetization` Int16,\n",
    "    `monetization_is_allowed` Int16,\n",
    "    `flat_created_at` DateTime,\n",
    "    `activated_at` DateTime\n",
    ")\n",
    "ENGINE = MergeTree()\n",
    "ORDER BY citizen_id\n",
    "\"\"\"\n",
    "\n",
    "ch.query_run(query_text)"
   ]
  },
  {
   "cell_type": "code",
   "execution_count": 14,
   "id": "1e42f175",
   "metadata": {},
   "outputs": [
    {
     "data": {
      "text/html": [
       "<div><style>\n",
       ".dataframe > thead > tr,\n",
       ".dataframe > tbody > tr {\n",
       "  text-align: right;\n",
       "  white-space: pre-wrap;\n",
       "}\n",
       "</style>\n",
       "<small>shape: (0, 0)</small><table border=\"1\" class=\"dataframe\"><thead><tr></tr><tr></tr></thead><tbody></tbody></table></div>"
      ],
      "text/plain": [
       "shape: (0, 0)\n",
       "┌┐\n",
       "╞╡\n",
       "└┘"
      ]
     },
     "execution_count": 14,
     "metadata": {},
     "output_type": "execute_result"
    }
   ],
   "source": [
    "query_text = \"\"\"--sql\n",
    "    CREATE MATERIALIZED VIEW db1.rep_mobile_citizens_id_city_partner_mv\n",
    "    REFRESH EVERY 1 DAY OFFSET 4 HOUR 5 MINUTE TO db1.rep_mobile_citizens_id_city_partner AS\n",
    "   SELECT\n",
    "        citizens_st_mobile.report_date AS report_date,\n",
    "        citizens_st_mobile.citizen_id AS citizen_id,\n",
    "        citizens_st_mobile.trial_available AS trial_available,\n",
    "        citizens_st_mobile.state AS state,\n",
    "        citizens_st_mobile.flat_uuid AS flat_uuid,\n",
    "        flats_dir_partner.address_uuid AS address_uuid,\n",
    "        entries_installation_points_dir_partner.city AS city,\n",
    "        installation_point_st_partner.partner_uuid AS partner_uuid,\n",
    "        installation_point_st_partner.monetization AS monetization,\n",
    "        installation_point_st_partner.monetization_is_allowed AS monetization_is_allowed,\n",
    "        flats_dir_partner.`created_at` AS flat_created_at,\n",
    "        citizens_st_mobile_ch.activated_at AS activated_at\n",
    "    FROM db1.citizens_st_mobile_ch AS citizens_st_mobile\n",
    "    LEFT JOIN db1.flats_dir_partner_ch AS flats_dir_partner \n",
    "        ON flats_dir_partner.flat_uuid = citizens_st_mobile.flat_uuid\n",
    "    LEFT JOIN db1.entries_installation_points_dir_partner_ch AS entries_installation_points_dir_partner \n",
    "        ON flats_dir_partner.address_uuid = entries_installation_points_dir_partner.address_uuid\n",
    "    LEFT JOIN db1.installation_point_st_partner_ch AS installation_point_st_partner\n",
    "        ON installation_point_st_partner.installation_point_id = entries_installation_points_dir_partner.installation_point_id\n",
    "        AND installation_point_st_partner.report_date = citizens_st_mobile.report_date\n",
    "    LEFT JOIN db1.companies_st_partner_ch AS companies_st_partner\n",
    "        ON installation_point_st_partner.partner_uuid = companies_st_partner.partner_uuid\n",
    "        AND companies_st_partner.report_date = citizens_st_mobile.report_date\n",
    "    WHERE citizens_st_mobile.state = 'activated'\n",
    "    \"\"\"\n",
    "\n",
    "ch.query_run(query_text)"
   ]
  },
  {
   "cell_type": "markdown",
   "id": "9e9eddd1",
   "metadata": {},
   "source": [
    "___\n",
    "## Tools\n",
    "___\n",
    "### query\n"
   ]
  },
  {
   "cell_type": "code",
   "execution_count": 15,
   "id": "6424eb2c",
   "metadata": {},
   "outputs": [
    {
     "data": {
      "text/html": [
       "<div><style>\n",
       ".dataframe > thead > tr,\n",
       ".dataframe > tbody > tr {\n",
       "  text-align: right;\n",
       "  white-space: pre-wrap;\n",
       "}\n",
       "</style>\n",
       "<small>shape: (100, 12)</small><table border=\"1\" class=\"dataframe\"><thead><tr><th>report_date</th><th>citizen_id</th><th>trial_available</th><th>state</th><th>flat_uuid</th><th>address_uuid</th><th>city</th><th>partner_uuid</th><th>monetization</th><th>monetization_is_allowed</th><th>flat_created_at</th><th>activated_at</th></tr><tr><td>date</td><td>i64</td><td>i64</td><td>str</td><td>str</td><td>str</td><td>str</td><td>str</td><td>i64</td><td>i64</td><td>datetime[ns]</td><td>datetime[ns]</td></tr></thead><tbody><tr><td>2024-05-02</td><td>7</td><td>0</td><td>&quot;activated&quot;</td><td>&quot;d0c82be0-85c3-410a-ae25-413e52…</td><td>&quot;e697b430-cbc9-41e3-b0d0-dc02b5…</td><td>&quot;Казань&quot;</td><td>&quot;b1782e4f-9198-49d1-b5aa-7bdba9…</td><td>0</td><td>1</td><td>2020-12-18 06:05:29</td><td>2023-06-29 00:33:07</td></tr><tr><td>2024-05-01</td><td>7</td><td>0</td><td>&quot;activated&quot;</td><td>&quot;d0c82be0-85c3-410a-ae25-413e52…</td><td>&quot;e697b430-cbc9-41e3-b0d0-dc02b5…</td><td>&quot;Казань&quot;</td><td>&quot;b1782e4f-9198-49d1-b5aa-7bdba9…</td><td>0</td><td>1</td><td>2020-12-18 06:05:29</td><td>2023-06-29 00:33:07</td></tr><tr><td>2024-04-30</td><td>7</td><td>0</td><td>&quot;activated&quot;</td><td>&quot;d0c82be0-85c3-410a-ae25-413e52…</td><td>&quot;e697b430-cbc9-41e3-b0d0-dc02b5…</td><td>&quot;Казань&quot;</td><td>&quot;b1782e4f-9198-49d1-b5aa-7bdba9…</td><td>0</td><td>1</td><td>2020-12-18 06:05:29</td><td>2023-06-29 00:33:07</td></tr><tr><td>2024-04-29</td><td>7</td><td>0</td><td>&quot;activated&quot;</td><td>&quot;d0c82be0-85c3-410a-ae25-413e52…</td><td>&quot;e697b430-cbc9-41e3-b0d0-dc02b5…</td><td>&quot;Казань&quot;</td><td>&quot;b1782e4f-9198-49d1-b5aa-7bdba9…</td><td>0</td><td>1</td><td>2020-12-18 06:05:29</td><td>2023-06-29 00:33:07</td></tr><tr><td>2024-04-28</td><td>7</td><td>0</td><td>&quot;activated&quot;</td><td>&quot;d0c82be0-85c3-410a-ae25-413e52…</td><td>&quot;e697b430-cbc9-41e3-b0d0-dc02b5…</td><td>&quot;Казань&quot;</td><td>&quot;b1782e4f-9198-49d1-b5aa-7bdba9…</td><td>0</td><td>1</td><td>2020-12-18 06:05:29</td><td>2023-06-29 00:33:07</td></tr><tr><td>&hellip;</td><td>&hellip;</td><td>&hellip;</td><td>&hellip;</td><td>&hellip;</td><td>&hellip;</td><td>&hellip;</td><td>&hellip;</td><td>&hellip;</td><td>&hellip;</td><td>&hellip;</td><td>&hellip;</td></tr><tr><td>2024-01-28</td><td>7</td><td>0</td><td>&quot;activated&quot;</td><td>&quot;d0c82be0-85c3-410a-ae25-413e52…</td><td>&quot;e697b430-cbc9-41e3-b0d0-dc02b5…</td><td>&quot;Казань&quot;</td><td>&quot;b1782e4f-9198-49d1-b5aa-7bdba9…</td><td>1</td><td>1</td><td>2020-12-18 06:05:29</td><td>2023-06-29 00:33:07</td></tr><tr><td>2024-01-27</td><td>7</td><td>0</td><td>&quot;activated&quot;</td><td>&quot;d0c82be0-85c3-410a-ae25-413e52…</td><td>&quot;e697b430-cbc9-41e3-b0d0-dc02b5…</td><td>&quot;Казань&quot;</td><td>&quot;b1782e4f-9198-49d1-b5aa-7bdba9…</td><td>1</td><td>1</td><td>2020-12-18 06:05:29</td><td>2023-06-29 00:33:07</td></tr><tr><td>2024-01-26</td><td>7</td><td>0</td><td>&quot;activated&quot;</td><td>&quot;d0c82be0-85c3-410a-ae25-413e52…</td><td>&quot;e697b430-cbc9-41e3-b0d0-dc02b5…</td><td>&quot;Казань&quot;</td><td>&quot;b1782e4f-9198-49d1-b5aa-7bdba9…</td><td>1</td><td>1</td><td>2020-12-18 06:05:29</td><td>2023-06-29 00:33:07</td></tr><tr><td>2024-01-25</td><td>7</td><td>0</td><td>&quot;activated&quot;</td><td>&quot;d0c82be0-85c3-410a-ae25-413e52…</td><td>&quot;e697b430-cbc9-41e3-b0d0-dc02b5…</td><td>&quot;Казань&quot;</td><td>&quot;b1782e4f-9198-49d1-b5aa-7bdba9…</td><td>1</td><td>1</td><td>2020-12-18 06:05:29</td><td>2023-06-29 00:33:07</td></tr><tr><td>2024-01-24</td><td>7</td><td>0</td><td>&quot;activated&quot;</td><td>&quot;d0c82be0-85c3-410a-ae25-413e52…</td><td>&quot;e697b430-cbc9-41e3-b0d0-dc02b5…</td><td>&quot;Казань&quot;</td><td>&quot;b1782e4f-9198-49d1-b5aa-7bdba9…</td><td>1</td><td>1</td><td>2020-12-18 06:05:29</td><td>2023-06-29 00:33:07</td></tr></tbody></table></div>"
      ],
      "text/plain": [
       "shape: (100, 12)\n",
       "┌───────────┬───────────┬───────────┬───────────┬───┬───────────┬───────────┬───────────┬──────────┐\n",
       "│ report_da ┆ citizen_i ┆ trial_ava ┆ state     ┆ … ┆ monetizat ┆ monetizat ┆ flat_crea ┆ activate │\n",
       "│ te        ┆ d         ┆ ilable    ┆ ---       ┆   ┆ ion       ┆ ion_is_al ┆ ted_at    ┆ d_at     │\n",
       "│ ---       ┆ ---       ┆ ---       ┆ str       ┆   ┆ ---       ┆ lowed     ┆ ---       ┆ ---      │\n",
       "│ date      ┆ i64       ┆ i64       ┆           ┆   ┆ i64       ┆ ---       ┆ datetime[ ┆ datetime │\n",
       "│           ┆           ┆           ┆           ┆   ┆           ┆ i64       ┆ ns]       ┆ [ns]     │\n",
       "╞═══════════╪═══════════╪═══════════╪═══════════╪═══╪═══════════╪═══════════╪═══════════╪══════════╡\n",
       "│ 2024-05-0 ┆ 7         ┆ 0         ┆ activated ┆ … ┆ 0         ┆ 1         ┆ 2020-12-1 ┆ 2023-06- │\n",
       "│ 2         ┆           ┆           ┆           ┆   ┆           ┆           ┆ 8         ┆ 29       │\n",
       "│           ┆           ┆           ┆           ┆   ┆           ┆           ┆ 06:05:29  ┆ 00:33:07 │\n",
       "│ 2024-05-0 ┆ 7         ┆ 0         ┆ activated ┆ … ┆ 0         ┆ 1         ┆ 2020-12-1 ┆ 2023-06- │\n",
       "│ 1         ┆           ┆           ┆           ┆   ┆           ┆           ┆ 8         ┆ 29       │\n",
       "│           ┆           ┆           ┆           ┆   ┆           ┆           ┆ 06:05:29  ┆ 00:33:07 │\n",
       "│ 2024-04-3 ┆ 7         ┆ 0         ┆ activated ┆ … ┆ 0         ┆ 1         ┆ 2020-12-1 ┆ 2023-06- │\n",
       "│ 0         ┆           ┆           ┆           ┆   ┆           ┆           ┆ 8         ┆ 29       │\n",
       "│           ┆           ┆           ┆           ┆   ┆           ┆           ┆ 06:05:29  ┆ 00:33:07 │\n",
       "│ 2024-04-2 ┆ 7         ┆ 0         ┆ activated ┆ … ┆ 0         ┆ 1         ┆ 2020-12-1 ┆ 2023-06- │\n",
       "│ 9         ┆           ┆           ┆           ┆   ┆           ┆           ┆ 8         ┆ 29       │\n",
       "│           ┆           ┆           ┆           ┆   ┆           ┆           ┆ 06:05:29  ┆ 00:33:07 │\n",
       "│ 2024-04-2 ┆ 7         ┆ 0         ┆ activated ┆ … ┆ 0         ┆ 1         ┆ 2020-12-1 ┆ 2023-06- │\n",
       "│ 8         ┆           ┆           ┆           ┆   ┆           ┆           ┆ 8         ┆ 29       │\n",
       "│           ┆           ┆           ┆           ┆   ┆           ┆           ┆ 06:05:29  ┆ 00:33:07 │\n",
       "│ …         ┆ …         ┆ …         ┆ …         ┆ … ┆ …         ┆ …         ┆ …         ┆ …        │\n",
       "│ 2024-01-2 ┆ 7         ┆ 0         ┆ activated ┆ … ┆ 1         ┆ 1         ┆ 2020-12-1 ┆ 2023-06- │\n",
       "│ 8         ┆           ┆           ┆           ┆   ┆           ┆           ┆ 8         ┆ 29       │\n",
       "│           ┆           ┆           ┆           ┆   ┆           ┆           ┆ 06:05:29  ┆ 00:33:07 │\n",
       "│ 2024-01-2 ┆ 7         ┆ 0         ┆ activated ┆ … ┆ 1         ┆ 1         ┆ 2020-12-1 ┆ 2023-06- │\n",
       "│ 7         ┆           ┆           ┆           ┆   ┆           ┆           ┆ 8         ┆ 29       │\n",
       "│           ┆           ┆           ┆           ┆   ┆           ┆           ┆ 06:05:29  ┆ 00:33:07 │\n",
       "│ 2024-01-2 ┆ 7         ┆ 0         ┆ activated ┆ … ┆ 1         ┆ 1         ┆ 2020-12-1 ┆ 2023-06- │\n",
       "│ 6         ┆           ┆           ┆           ┆   ┆           ┆           ┆ 8         ┆ 29       │\n",
       "│           ┆           ┆           ┆           ┆   ┆           ┆           ┆ 06:05:29  ┆ 00:33:07 │\n",
       "│ 2024-01-2 ┆ 7         ┆ 0         ┆ activated ┆ … ┆ 1         ┆ 1         ┆ 2020-12-1 ┆ 2023-06- │\n",
       "│ 5         ┆           ┆           ┆           ┆   ┆           ┆           ┆ 8         ┆ 29       │\n",
       "│           ┆           ┆           ┆           ┆   ┆           ┆           ┆ 06:05:29  ┆ 00:33:07 │\n",
       "│ 2024-01-2 ┆ 7         ┆ 0         ┆ activated ┆ … ┆ 1         ┆ 1         ┆ 2020-12-1 ┆ 2023-06- │\n",
       "│ 4         ┆           ┆           ┆           ┆   ┆           ┆           ┆ 8         ┆ 29       │\n",
       "│           ┆           ┆           ┆           ┆   ┆           ┆           ┆ 06:05:29  ┆ 00:33:07 │\n",
       "└───────────┴───────────┴───────────┴───────────┴───┴───────────┴───────────┴───────────┴──────────┘"
      ]
     },
     "execution_count": 15,
     "metadata": {},
     "output_type": "execute_result"
    }
   ],
   "source": [
    "query_text = \"\"\"--sql\n",
    "    SELECT\n",
    "        *\n",
    "    FROM db1.rep_mobile_citizens_id_city_partner\n",
    "    limit 100\n",
    "    \"\"\"\n",
    "\n",
    "ch.query_run(query_text)\n"
   ]
  },
  {
   "cell_type": "markdown",
   "id": "63ee1b62",
   "metadata": {},
   "source": [
    "### delete a part\n"
   ]
  },
  {
   "cell_type": "code",
   "execution_count": null,
   "id": "85017eaf",
   "metadata": {},
   "outputs": [],
   "source": [
    "query_text = \"\"\"--sql\n",
    "    ALTER TABLE db1.rep_mobile_citizens_id_city_partner DELETE WHERE report_date = '2025-07-17'\n",
    "    \"\"\"\n",
    "\n",
    "ch.query_run(query_text)\n"
   ]
  },
  {
   "cell_type": "markdown",
   "id": "9b83f013",
   "metadata": {},
   "source": [
    "### drop mv"
   ]
  },
  {
   "cell_type": "code",
   "execution_count": 11,
   "id": "b00503c4",
   "metadata": {
    "lines_to_next_cell": 2
   },
   "outputs": [
    {
     "data": {
      "text/html": [
       "<div><style>\n",
       ".dataframe > thead > tr,\n",
       ".dataframe > tbody > tr {\n",
       "  text-align: right;\n",
       "  white-space: pre-wrap;\n",
       "}\n",
       "</style>\n",
       "<small>shape: (0, 0)</small><table border=\"1\" class=\"dataframe\"><thead><tr></tr><tr></tr></thead><tbody></tbody></table></div>"
      ],
      "text/plain": [
       "shape: (0, 0)\n",
       "┌┐\n",
       "╞╡\n",
       "└┘"
      ]
     },
     "execution_count": 11,
     "metadata": {},
     "output_type": "execute_result"
    }
   ],
   "source": [
    "query_text = \"\"\"--sql\n",
    "    DROP TABLE db1.rep_mobile_citizens_id_city_partner_mv\n",
    "    \"\"\"\n",
    "\n",
    "ch.query_run(query_text)"
   ]
  },
  {
   "cell_type": "markdown",
   "id": "8a45c464",
   "metadata": {},
   "source": [
    "### drop ch"
   ]
  },
  {
   "cell_type": "code",
   "execution_count": 12,
   "id": "adf6e7b6",
   "metadata": {},
   "outputs": [
    {
     "data": {
      "text/html": [
       "<div><style>\n",
       ".dataframe > thead > tr,\n",
       ".dataframe > tbody > tr {\n",
       "  text-align: right;\n",
       "  white-space: pre-wrap;\n",
       "}\n",
       "</style>\n",
       "<small>shape: (0, 0)</small><table border=\"1\" class=\"dataframe\"><thead><tr></tr><tr></tr></thead><tbody></tbody></table></div>"
      ],
      "text/plain": [
       "shape: (0, 0)\n",
       "┌┐\n",
       "╞╡\n",
       "└┘"
      ]
     },
     "execution_count": 12,
     "metadata": {},
     "output_type": "execute_result"
    }
   ],
   "source": [
    "query_text = \"\"\"--sql\n",
    "    DROP TABLE db1.rep_mobile_citizens_id_city_partner\n",
    "    \"\"\"\n",
    "\n",
    "ch.query_run(query_text)"
   ]
  },
  {
   "cell_type": "markdown",
   "id": "bf2dd886",
   "metadata": {},
   "source": [
    "### refresh mv"
   ]
  },
  {
   "cell_type": "code",
   "execution_count": null,
   "id": "842757d9",
   "metadata": {},
   "outputs": [],
   "source": [
    "query_text = \"\"\"\n",
    "SYSTEM REFRESH VIEW db1.rep_mobile_citizens_id_city_partner_mv\n",
    "\"\"\"\n",
    "\n",
    "ch.query_run(query_text)"
   ]
  }
 ],
 "metadata": {
  "jupytext": {
   "formats": "ipynb,md"
  },
  "kernelspec": {
   "display_name": "myenv",
   "language": "python",
   "name": "python3"
  },
  "language_info": {
   "codemirror_mode": {
    "name": "ipython",
    "version": 3
   },
   "file_extension": ".py",
   "mimetype": "text/x-python",
   "name": "python",
   "nbconvert_exporter": "python",
   "pygments_lexer": "ipython3",
   "version": "3.12.11"
  }
 },
 "nbformat": 4,
 "nbformat_minor": 5
}

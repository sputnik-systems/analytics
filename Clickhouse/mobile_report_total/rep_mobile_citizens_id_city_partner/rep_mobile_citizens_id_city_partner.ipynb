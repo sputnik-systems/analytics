{
 "cells": [
  {
   "cell_type": "markdown",
   "id": "7b4029dd",
   "metadata": {},
   "source": [
    "## Start"
   ]
  },
  {
   "cell_type": "code",
   "execution_count": 1,
   "id": "bf02d95f",
   "metadata": {
    "jupyter": {
     "is_executing": false
    }
   },
   "outputs": [],
   "source": [
    "import clickhouse_connect\n",
    "import datetime\n",
    "import os\n",
    "import pytz\n",
    "import pandas as pd\n",
    "from dateutil.relativedelta import relativedelta\n",
    "from dotenv import load_dotenv\n",
    "\n",
    "import sys\n",
    "sys.path.append('/home/boris/Documents/Work/analytics/Clickhouse')\n",
    "from clickhouse_client import ClickHouse_client\n",
    "ch = ClickHouse_client()\n",
    "pd.set_option('display.max_rows', 1000)"
   ]
  },
  {
   "cell_type": "markdown",
   "id": "0541a3f5",
   "metadata": {},
   "source": [
    "___\n",
    "### Tags: #Mobile_Report\n",
    "\n",
    "### Links:\n",
    "\n",
    "[[citizens_st_mobile]]\n",
    "\n",
    "[[flats_dir_partner]]\n",
    "\n",
    "[[entries_installation_points_dir_partner]]\n",
    "\n",
    "[[installation_point_st_partner]]\n",
    "\n",
    "[[companies_st_partner]]\n",
    "___"
   ]
  },
  {
   "cell_type": "code",
   "execution_count": 10,
   "id": "91e00f10",
   "metadata": {
    "jupyter": {
     "is_executing": false
    }
   },
   "outputs": [
    {
     "name": "stdout",
     "output_type": "stream",
     "text": [
      "(\n",
      "    `report_date` Date,\n",
      "    `citizen_id` Int32,\n",
      "    `trial_available` Int32,\n",
      "    `state` String,\n",
      "    `flat_uuid` String,\n",
      "    `address_uuid` String,\n",
      "    `city` String,\n",
      "    `partner_uuid` String,\n",
      "    `monetization` Int16,\n",
      "    `monetization_is_allowed` Int16,\n",
      "    `flat_created_at` DateTime,\n",
      "    `activated_at` DateTime\n",
      ")\n"
     ]
    }
   ],
   "source": [
    "query_text = \"\"\"--sql\n",
    "    SELECT\n",
    "        citizens_st_mobile.report_date AS report_date,\n",
    "        citizens_st_mobile.citizen_id AS citizen_id,\n",
    "        citizens_st_mobile.trial_available AS trial_available,\n",
    "        citizens_st_mobile.state AS state,\n",
    "        citizens_st_mobile.flat_uuid AS flat_uuid,\n",
    "        flats_dir_partner.address_uuid AS address_uuid,\n",
    "        entries_installation_points_dir_partner.city AS city,\n",
    "        installation_point_st_partner.partner_uuid AS partner_uuid,\n",
    "        installation_point_st_partner.monetization AS monetization,\n",
    "        installation_point_st_partner.monetization_is_allowed AS monetization_is_allowed,\n",
    "        flats_dir_partner.created_at AS flat_created_at,\n",
    "        citizens_st_mobile.activated_at AS activated_at\n",
    "    FROM db1.citizens_st_mobile_ch AS citizens_st_mobile\n",
    "    LEFT JOIN db1.flats_dir_partner_ch AS flats_dir_partner \n",
    "        ON flats_dir_partner.flat_uuid = citizens_st_mobile.flat_uuid\n",
    "    LEFT JOIN db1.entries_installation_points_dir_partner_ch AS entries_installation_points_dir_partner \n",
    "        ON flats_dir_partner.address_uuid = entries_installation_points_dir_partner.address_uuid\n",
    "    LEFT JOIN db1.installation_point_st_partner_ch AS installation_point_st_partner\n",
    "        ON installation_point_st_partner.installation_point_id = entries_installation_points_dir_partner.installation_point_id\n",
    "        AND installation_point_st_partner.report_date = citizens_st_mobile.report_date\n",
    "    LEFT JOIN db1.companies_st_partner_ch AS companies_st_partner\n",
    "        ON installation_point_st_partner.partner_uuid = companies_st_partner.partner_uuid\n",
    "        AND companies_st_partner.report_date = citizens_st_mobile.report_date\n",
    "    WHERE citizens_st_mobile.state = 'activated'\n",
    "    limit 10\n",
    "    \"\"\"\n",
    "\n",
    "ch.get_schema(query_text)"
   ]
  },
  {
   "cell_type": "code",
   "execution_count": 13,
   "id": "3f43925b",
   "metadata": {},
   "outputs": [
    {
     "data": {
      "text/html": [
       "<div><style>\n",
       ".dataframe > thead > tr,\n",
       ".dataframe > tbody > tr {\n",
       "  text-align: right;\n",
       "  white-space: pre-wrap;\n",
       "}\n",
       "</style>\n",
       "<small>shape: (0, 0)</small><table border=\"1\" class=\"dataframe\"><thead><tr></tr><tr></tr></thead><tbody></tbody></table></div>"
      ],
      "text/plain": [
       "shape: (0, 0)\n",
       "┌┐\n",
       "╞╡\n",
       "└┘"
      ]
     },
     "execution_count": 13,
     "metadata": {},
     "output_type": "execute_result"
    }
   ],
   "source": [
    "query_text = \"\"\"--sql\n",
    "CREATE TABLE db1.rep_mobile_citizens_id_city_partner\n",
    "(\n",
    "    `report_date` Date,\n",
    "    `citizen_id` Int32,\n",
    "    `trial_available` Int32,\n",
    "    `state` String,\n",
    "    `flat_uuid` String,\n",
    "    `address_uuid` String,\n",
    "    `city` String,\n",
    "    `partner_uuid` String,\n",
    "    `monetization` Int16,\n",
    "    `monetization_is_allowed` Int16,\n",
    "    `flat_created_at` DateTime,\n",
    "    `activated_at` DateTime\n",
    ")\n",
    "ENGINE = MergeTree()\n",
    "ORDER BY citizen_id\n",
    "\"\"\"\n",
    "\n",
    "ch.query_run(query_text)"
   ]
  },
  {
   "cell_type": "code",
   "execution_count": 2,
   "id": "1e42f175",
   "metadata": {},
   "outputs": [
    {
     "data": {
      "text/html": [
       "<div><style>\n",
       ".dataframe > thead > tr,\n",
       ".dataframe > tbody > tr {\n",
       "  text-align: right;\n",
       "  white-space: pre-wrap;\n",
       "}\n",
       "</style>\n",
       "<small>shape: (0, 0)</small><table border=\"1\" class=\"dataframe\"><thead><tr></tr><tr></tr></thead><tbody></tbody></table></div>"
      ],
      "text/plain": [
       "shape: (0, 0)\n",
       "┌┐\n",
       "╞╡\n",
       "└┘"
      ]
     },
     "execution_count": 2,
     "metadata": {},
     "output_type": "execute_result"
    }
   ],
   "source": [
    "query_text = \"\"\"--sql\n",
    "    CREATE MATERIALIZED VIEW db1.rep_mobile_citizens_id_city_partner_mv\n",
    "    REFRESH EVERY 1 DAY OFFSET 4 HOUR 5 MINUTE TO db1.rep_mobile_citizens_id_city_partner AS\n",
    "   SELECT\n",
    "        citizens_st_mobile.report_date AS report_date,\n",
    "        citizens_st_mobile.citizen_id AS citizen_id,\n",
    "        citizens_st_mobile.trial_available AS trial_available,\n",
    "        citizens_st_mobile.state AS state,\n",
    "        citizens_st_mobile.flat_uuid AS flat_uuid,\n",
    "        flats_dir_partner.address_uuid AS address_uuid,\n",
    "        entries_installation_points_dir_partner.city AS city,\n",
    "        installation_point_st_partner.partner_uuid AS partner_uuid,\n",
    "        installation_point_st_partner.monetization AS monetization,\n",
    "        installation_point_st_partner.monetization_is_allowed AS monetization_is_allowed,\n",
    "        flats_dir_partner.`created_at` AS flat_created_at,\n",
    "        citizens_st_mobile_ch.activated_at AS activated_at\n",
    "    FROM db1.citizens_st_mobile_ch AS citizens_st_mobile\n",
    "    LEFT JOIN db1.flats_dir_partner_ch AS flats_dir_partner \n",
    "        ON flats_dir_partner.flat_uuid = citizens_st_mobile.flat_uuid\n",
    "    LEFT JOIN db1.entries_installation_points_dir_partner_ch AS entries_installation_points_dir_partner \n",
    "        ON flats_dir_partner.address_uuid = entries_installation_points_dir_partner.address_uuid\n",
    "    LEFT JOIN db1.installation_point_st_partner_ch AS installation_point_st_partner\n",
    "        ON installation_point_st_partner.installation_point_id = entries_installation_points_dir_partner.installation_point_id\n",
    "        AND installation_point_st_partner.report_date = citizens_st_mobile.report_date\n",
    "    LEFT JOIN db1.companies_st_partner_ch AS companies_st_partner\n",
    "        ON installation_point_st_partner.partner_uuid = companies_st_partner.partner_uuid\n",
    "        AND companies_st_partner.report_date = citizens_st_mobile.report_date\n",
    "    WHERE citizens_st_mobile.state = 'activated'\n",
    "    \"\"\"\n",
    "\n",
    "ch.query_run(query_text)"
   ]
  },
  {
   "cell_type": "markdown",
   "id": "9e9eddd1",
   "metadata": {},
   "source": [
    "___\n",
    "## Tools\n",
    "___\n",
    "### query\n"
   ]
  },
  {
   "cell_type": "code",
   "execution_count": 4,
   "id": "6424eb2c",
   "metadata": {},
   "outputs": [
    {
     "data": {
      "text/html": [
       "<div><style>\n",
       ".dataframe > thead > tr,\n",
       ".dataframe > tbody > tr {\n",
       "  text-align: right;\n",
       "  white-space: pre-wrap;\n",
       "}\n",
       "</style>\n",
       "<small>shape: (100, 12)</small><table border=\"1\" class=\"dataframe\"><thead><tr><th>report_date</th><th>citizen_id</th><th>trial_available</th><th>state</th><th>flat_uuid</th><th>address_uuid</th><th>city</th><th>partner_uuid</th><th>monetization</th><th>monetization_is_allowed</th><th>flat_created_at</th><th>activated_at</th></tr><tr><td>date</td><td>i64</td><td>i64</td><td>str</td><td>str</td><td>str</td><td>str</td><td>str</td><td>i64</td><td>i64</td><td>datetime[ns]</td><td>datetime[ns]</td></tr></thead><tbody><tr><td>2023-07-10</td><td>596631</td><td>0</td><td>&quot;activated&quot;</td><td>&quot;b2771e72-4af2-46fe-92f5-ae9166…</td><td>&quot;97fb2de5-0ade-4839-94d7-0cbb5c…</td><td>&quot;Тольятти&quot;</td><td>&quot;&quot;</td><td>0</td><td>0</td><td>2022-03-31 09:54:06</td><td>2022-09-09 04:04:24</td></tr><tr><td>2023-07-10</td><td>596688</td><td>0</td><td>&quot;activated&quot;</td><td>&quot;7e261bf6-4766-46a1-9dfe-bc1c78…</td><td>&quot;c281b3ac-a589-4c27-9083-8cf14f…</td><td>&quot;Стерлитамак&quot;</td><td>&quot;&quot;</td><td>0</td><td>0</td><td>2022-04-03 15:17:06</td><td>2022-04-03 18:17:07</td></tr><tr><td>2023-07-10</td><td>596685</td><td>0</td><td>&quot;activated&quot;</td><td>&quot;5d6943e6-decc-4c7a-88ec-33d052…</td><td>&quot;141d2238-c3a6-4338-9590-7fa279…</td><td>&quot;Краснодар&quot;</td><td>&quot;&quot;</td><td>0</td><td>0</td><td>2021-11-26 07:29:56</td><td>2022-04-03 18:17:28</td></tr><tr><td>2023-07-10</td><td>596684</td><td>0</td><td>&quot;activated&quot;</td><td>&quot;81ff0fd5-d885-4388-8fb9-ee8a27…</td><td>&quot;c281b3ac-a589-4c27-9083-8cf14f…</td><td>&quot;Стерлитамак&quot;</td><td>&quot;&quot;</td><td>0</td><td>0</td><td>2022-04-03 15:10:13</td><td>2022-04-03 18:16:28</td></tr><tr><td>2023-07-10</td><td>596647</td><td>0</td><td>&quot;activated&quot;</td><td>&quot;a7a375b6-1769-410c-8bd1-2cff78…</td><td>&quot;fe925b29-92dc-4db7-9df8-c0b57b…</td><td>&quot;Миасс&quot;</td><td>&quot;&quot;</td><td>0</td><td>0</td><td>2022-04-06 12:39:34</td><td>2022-04-06 15:39:35</td></tr><tr><td>&hellip;</td><td>&hellip;</td><td>&hellip;</td><td>&hellip;</td><td>&hellip;</td><td>&hellip;</td><td>&hellip;</td><td>&hellip;</td><td>&hellip;</td><td>&hellip;</td><td>&hellip;</td><td>&hellip;</td></tr><tr><td>2023-07-10</td><td>596797</td><td>0</td><td>&quot;activated&quot;</td><td>&quot;c0b5a06e-d07f-417e-9225-d4101e…</td><td>&quot;976477ce-7634-49e9-a2d5-197c54…</td><td>&quot;Кемерово&quot;</td><td>&quot;&quot;</td><td>0</td><td>0</td><td>2023-05-08 05:28:33</td><td>2023-05-08 08:28:34</td></tr><tr><td>2023-07-10</td><td>596793</td><td>0</td><td>&quot;activated&quot;</td><td>&quot;&quot;</td><td>&quot;&quot;</td><td>&quot;&quot;</td><td>&quot;&quot;</td><td>0</td><td>0</td><td>1970-01-01 00:00:00</td><td>2022-04-03 20:02:21</td></tr><tr><td>2023-07-10</td><td>596809</td><td>0</td><td>&quot;activated&quot;</td><td>&quot;fbf37cbd-98e4-493b-82cf-e66791…</td><td>&quot;a8eaec9c-250b-4ca4-a990-db01ba…</td><td>&quot;Ростов-на-Дону&quot;</td><td>&quot;&quot;</td><td>0</td><td>0</td><td>2022-03-19 18:45:32</td><td>2022-04-27 14:39:22</td></tr><tr><td>2023-07-10</td><td>596814</td><td>0</td><td>&quot;activated&quot;</td><td>&quot;088064d7-6f33-4498-b71f-f4dfe9…</td><td>&quot;172a650d-7628-4eae-8be5-208991…</td><td>&quot;Краснодар&quot;</td><td>&quot;&quot;</td><td>0</td><td>0</td><td>2022-06-10 16:20:52</td><td>2022-06-10 19:20:53</td></tr><tr><td>2023-07-10</td><td>596836</td><td>0</td><td>&quot;activated&quot;</td><td>&quot;0a3538df-f8f6-42ed-b987-8def27…</td><td>&quot;0f85d6d3-5a6c-45f6-aa60-73cdd1…</td><td>&quot;Алматы&quot;</td><td>&quot;&quot;</td><td>0</td><td>0</td><td>2020-09-06 07:21:46</td><td>2022-05-22 04:22:18</td></tr></tbody></table></div>"
      ],
      "text/plain": [
       "shape: (100, 12)\n",
       "┌───────────┬───────────┬───────────┬───────────┬───┬───────────┬───────────┬───────────┬──────────┐\n",
       "│ report_da ┆ citizen_i ┆ trial_ava ┆ state     ┆ … ┆ monetizat ┆ monetizat ┆ flat_crea ┆ activate │\n",
       "│ te        ┆ d         ┆ ilable    ┆ ---       ┆   ┆ ion       ┆ ion_is_al ┆ ted_at    ┆ d_at     │\n",
       "│ ---       ┆ ---       ┆ ---       ┆ str       ┆   ┆ ---       ┆ lowed     ┆ ---       ┆ ---      │\n",
       "│ date      ┆ i64       ┆ i64       ┆           ┆   ┆ i64       ┆ ---       ┆ datetime[ ┆ datetime │\n",
       "│           ┆           ┆           ┆           ┆   ┆           ┆ i64       ┆ ns]       ┆ [ns]     │\n",
       "╞═══════════╪═══════════╪═══════════╪═══════════╪═══╪═══════════╪═══════════╪═══════════╪══════════╡\n",
       "│ 2023-07-1 ┆ 596631    ┆ 0         ┆ activated ┆ … ┆ 0         ┆ 0         ┆ 2022-03-3 ┆ 2022-09- │\n",
       "│ 0         ┆           ┆           ┆           ┆   ┆           ┆           ┆ 1         ┆ 09       │\n",
       "│           ┆           ┆           ┆           ┆   ┆           ┆           ┆ 09:54:06  ┆ 04:04:24 │\n",
       "│ 2023-07-1 ┆ 596688    ┆ 0         ┆ activated ┆ … ┆ 0         ┆ 0         ┆ 2022-04-0 ┆ 2022-04- │\n",
       "│ 0         ┆           ┆           ┆           ┆   ┆           ┆           ┆ 3         ┆ 03       │\n",
       "│           ┆           ┆           ┆           ┆   ┆           ┆           ┆ 15:17:06  ┆ 18:17:07 │\n",
       "│ 2023-07-1 ┆ 596685    ┆ 0         ┆ activated ┆ … ┆ 0         ┆ 0         ┆ 2021-11-2 ┆ 2022-04- │\n",
       "│ 0         ┆           ┆           ┆           ┆   ┆           ┆           ┆ 6         ┆ 03       │\n",
       "│           ┆           ┆           ┆           ┆   ┆           ┆           ┆ 07:29:56  ┆ 18:17:28 │\n",
       "│ 2023-07-1 ┆ 596684    ┆ 0         ┆ activated ┆ … ┆ 0         ┆ 0         ┆ 2022-04-0 ┆ 2022-04- │\n",
       "│ 0         ┆           ┆           ┆           ┆   ┆           ┆           ┆ 3         ┆ 03       │\n",
       "│           ┆           ┆           ┆           ┆   ┆           ┆           ┆ 15:10:13  ┆ 18:16:28 │\n",
       "│ 2023-07-1 ┆ 596647    ┆ 0         ┆ activated ┆ … ┆ 0         ┆ 0         ┆ 2022-04-0 ┆ 2022-04- │\n",
       "│ 0         ┆           ┆           ┆           ┆   ┆           ┆           ┆ 6         ┆ 06       │\n",
       "│           ┆           ┆           ┆           ┆   ┆           ┆           ┆ 12:39:34  ┆ 15:39:35 │\n",
       "│ …         ┆ …         ┆ …         ┆ …         ┆ … ┆ …         ┆ …         ┆ …         ┆ …        │\n",
       "│ 2023-07-1 ┆ 596797    ┆ 0         ┆ activated ┆ … ┆ 0         ┆ 0         ┆ 2023-05-0 ┆ 2023-05- │\n",
       "│ 0         ┆           ┆           ┆           ┆   ┆           ┆           ┆ 8         ┆ 08       │\n",
       "│           ┆           ┆           ┆           ┆   ┆           ┆           ┆ 05:28:33  ┆ 08:28:34 │\n",
       "│ 2023-07-1 ┆ 596793    ┆ 0         ┆ activated ┆ … ┆ 0         ┆ 0         ┆ 1970-01-0 ┆ 2022-04- │\n",
       "│ 0         ┆           ┆           ┆           ┆   ┆           ┆           ┆ 1         ┆ 03       │\n",
       "│           ┆           ┆           ┆           ┆   ┆           ┆           ┆ 00:00:00  ┆ 20:02:21 │\n",
       "│ 2023-07-1 ┆ 596809    ┆ 0         ┆ activated ┆ … ┆ 0         ┆ 0         ┆ 2022-03-1 ┆ 2022-04- │\n",
       "│ 0         ┆           ┆           ┆           ┆   ┆           ┆           ┆ 9         ┆ 27       │\n",
       "│           ┆           ┆           ┆           ┆   ┆           ┆           ┆ 18:45:32  ┆ 14:39:22 │\n",
       "│ 2023-07-1 ┆ 596814    ┆ 0         ┆ activated ┆ … ┆ 0         ┆ 0         ┆ 2022-06-1 ┆ 2022-06- │\n",
       "│ 0         ┆           ┆           ┆           ┆   ┆           ┆           ┆ 0         ┆ 10       │\n",
       "│           ┆           ┆           ┆           ┆   ┆           ┆           ┆ 16:20:52  ┆ 19:20:53 │\n",
       "│ 2023-07-1 ┆ 596836    ┆ 0         ┆ activated ┆ … ┆ 0         ┆ 0         ┆ 2020-09-0 ┆ 2022-05- │\n",
       "│ 0         ┆           ┆           ┆           ┆   ┆           ┆           ┆ 6         ┆ 22       │\n",
       "│           ┆           ┆           ┆           ┆   ┆           ┆           ┆ 07:21:46  ┆ 04:22:18 │\n",
       "└───────────┴───────────┴───────────┴───────────┴───┴───────────┴───────────┴───────────┴──────────┘"
      ]
     },
     "execution_count": 4,
     "metadata": {},
     "output_type": "execute_result"
    }
   ],
   "source": [
    "query_text = \"\"\"--sql\n",
    "    SELECT\n",
    "        *\n",
    "    FROM db1.rep_mobile_citizens_id_city_partner\n",
    "    ORDER BY report_date\n",
    "    limit 100\n",
    "    \"\"\"\n",
    "\n",
    "ch.query_run(query_text)\n"
   ]
  },
  {
   "cell_type": "markdown",
   "id": "63ee1b62",
   "metadata": {},
   "source": [
    "### delete a part\n"
   ]
  },
  {
   "cell_type": "code",
   "execution_count": null,
   "id": "85017eaf",
   "metadata": {},
   "outputs": [],
   "source": [
    "query_text = \"\"\"--sql\n",
    "    ALTER TABLE db1.rep_mobile_citizens_id_city_partner DELETE WHERE report_date = '2025-07-17'\n",
    "    \"\"\"\n",
    "\n",
    "ch.query_run(query_text)\n"
   ]
  },
  {
   "cell_type": "markdown",
   "id": "9b83f013",
   "metadata": {},
   "source": [
    "### drop mv"
   ]
  },
  {
   "cell_type": "code",
   "execution_count": 11,
   "id": "b00503c4",
   "metadata": {
    "lines_to_next_cell": 2
   },
   "outputs": [
    {
     "data": {
      "text/html": [
       "<div><style>\n",
       ".dataframe > thead > tr,\n",
       ".dataframe > tbody > tr {\n",
       "  text-align: right;\n",
       "  white-space: pre-wrap;\n",
       "}\n",
       "</style>\n",
       "<small>shape: (0, 0)</small><table border=\"1\" class=\"dataframe\"><thead><tr></tr><tr></tr></thead><tbody></tbody></table></div>"
      ],
      "text/plain": [
       "shape: (0, 0)\n",
       "┌┐\n",
       "╞╡\n",
       "└┘"
      ]
     },
     "execution_count": 11,
     "metadata": {},
     "output_type": "execute_result"
    }
   ],
   "source": [
    "query_text = \"\"\"--sql\n",
    "    DROP TABLE db1.rep_mobile_citizens_id_city_partner_mv\n",
    "    \"\"\"\n",
    "\n",
    "ch.query_run(query_text)"
   ]
  },
  {
   "cell_type": "markdown",
   "id": "8a45c464",
   "metadata": {},
   "source": [
    "### drop ch"
   ]
  },
  {
   "cell_type": "code",
   "execution_count": 12,
   "id": "adf6e7b6",
   "metadata": {},
   "outputs": [
    {
     "data": {
      "text/html": [
       "<div><style>\n",
       ".dataframe > thead > tr,\n",
       ".dataframe > tbody > tr {\n",
       "  text-align: right;\n",
       "  white-space: pre-wrap;\n",
       "}\n",
       "</style>\n",
       "<small>shape: (0, 0)</small><table border=\"1\" class=\"dataframe\"><thead><tr></tr><tr></tr></thead><tbody></tbody></table></div>"
      ],
      "text/plain": [
       "shape: (0, 0)\n",
       "┌┐\n",
       "╞╡\n",
       "└┘"
      ]
     },
     "execution_count": 12,
     "metadata": {},
     "output_type": "execute_result"
    }
   ],
   "source": [
    "query_text = \"\"\"--sql\n",
    "    DROP TABLE db1.rep_mobile_citizens_id_city_partner\n",
    "    \"\"\"\n",
    "\n",
    "ch.query_run(query_text)"
   ]
  },
  {
   "cell_type": "markdown",
   "id": "bf2dd886",
   "metadata": {},
   "source": [
    "### refresh mv"
   ]
  },
  {
   "cell_type": "code",
   "execution_count": null,
   "id": "842757d9",
   "metadata": {},
   "outputs": [],
   "source": [
    "query_text = \"\"\"\n",
    "SYSTEM REFRESH VIEW db1.rep_mobile_citizens_id_city_partner_mv\n",
    "\"\"\"\n",
    "\n",
    "ch.query_run(query_text)"
   ]
  }
 ],
 "metadata": {
  "jupytext": {
   "formats": "ipynb,md"
  },
  "kernelspec": {
   "display_name": "Python (myenv)",
   "language": "python",
   "name": "myenv"
  },
  "language_info": {
   "codemirror_mode": {
    "name": "ipython",
    "version": 3
   },
   "file_extension": ".py",
   "mimetype": "text/x-python",
   "name": "python",
   "nbconvert_exporter": "python",
   "pygments_lexer": "ipython3",
   "version": "3.12.11"
  }
 },
 "nbformat": 4,
 "nbformat_minor": 5
}

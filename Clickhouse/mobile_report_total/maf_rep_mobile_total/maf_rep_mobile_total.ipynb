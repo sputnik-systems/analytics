{
 "cells": [
  {
   "cell_type": "code",
   "execution_count": 10,
   "id": "ed290508",
   "metadata": {},
   "outputs": [],
   "source": [
    "import clickhouse_connect\n",
    "import datetime\n",
    "import os\n",
    "import pytz\n",
    "import pandas as pd\n",
    "from dateutil.relativedelta import relativedelta\n",
    "from dotenv import load_dotenv\n",
    "\n",
    "import sys\n",
    "sys.path.append('/home/boris/Documents/Work/analytics/Clickhouse')\n",
    "from clickhouse_client import ClickHouse_client\n",
    "ch = ClickHouse_client()\n",
    "pd.set_option('display.max_rows', 1000)"
   ]
  },
  {
   "cell_type": "markdown",
   "id": "501e63e5",
   "metadata": {},
   "source": [
    "___\n",
    "### Tags: #Mobile_Report\n",
    "\n",
    "### Links:\n",
    "\n",
    "[[total_active_users_per_day_full_table]]\n",
    "___"
   ]
  },
  {
   "cell_type": "code",
   "execution_count": 13,
   "id": "564f28df",
   "metadata": {},
   "outputs": [
    {
     "data": {
      "text/html": [
       "<div><style>\n",
       ".dataframe > thead > tr,\n",
       ".dataframe > tbody > tr {\n",
       "  text-align: right;\n",
       "  white-space: pre-wrap;\n",
       "}\n",
       "</style>\n",
       "<small>shape: (0, 0)</small><table border=\"1\" class=\"dataframe\"><thead><tr></tr><tr></tr></thead><tbody></tbody></table></div>"
      ],
      "text/plain": [
       "shape: (0, 0)\n",
       "┌┐\n",
       "╞╡\n",
       "└┘"
      ]
     },
     "execution_count": 13,
     "metadata": {},
     "output_type": "execute_result"
    }
   ],
   "source": [
    "query_text = \"\"\"--sql\n",
    "CREATE TABLE db1.maf_rep_mobile_total\n",
    "(\n",
    "    `report_date` Date,\n",
    "    `MAF` UInt64,\n",
    "    `partner_uuid` String,\n",
    "    `city` String,\n",
    "    `stricted_MAF` UInt64,\n",
    "    `freemonetization_MAF` UInt64\n",
    ")\n",
    "ENGINE = MergeTree()\n",
    "ORDER BY report_date\n",
    "\"\"\"\n",
    "\n",
    "ch.query_run(query_text)"
   ]
  },
  {
   "cell_type": "code",
   "execution_count": 15,
   "id": "05ec8759",
   "metadata": {},
   "outputs": [
    {
     "data": {
      "text/html": [
       "<div><style>\n",
       ".dataframe > thead > tr,\n",
       ".dataframe > tbody > tr {\n",
       "  text-align: right;\n",
       "  white-space: pre-wrap;\n",
       "}\n",
       "</style>\n",
       "<small>shape: (0, 0)</small><table border=\"1\" class=\"dataframe\"><thead><tr></tr><tr></tr></thead><tbody></tbody></table></div>"
      ],
      "text/plain": [
       "shape: (0, 0)\n",
       "┌┐\n",
       "╞╡\n",
       "└┘"
      ]
     },
     "execution_count": 15,
     "metadata": {},
     "output_type": "execute_result"
    }
   ],
   "source": [
    "query_text = \"\"\"--sql\n",
    "    CREATE MATERIALIZED VIEW db1.maf_rep_mobile_total_mv\n",
    "    REFRESH EVERY 1 DAY OFFSET 5 HOUR 45 MINUTE TO db1.maf_rep_mobile_total AS\n",
    "    SELECT\n",
    "        partner_uuid,\n",
    "        city,\n",
    "        report_date AS report_date,\n",
    "        COUNT(DISTINCT flat_uuid) AS MAF,\n",
    "        COUNT(DISTINCT if(monetization = 0, flat_uuid, null)) AS stricted_MAF,\n",
    "        COUNT(DISTINCT if(monetization = 1 or monetization is null, flat_uuid, null)) AS freemonetization_MAF\n",
    "    FROM db1.total_active_users_per_day_full_table\n",
    "    GROUP BY report_date,\n",
    "        partner_uuid,\n",
    "        city\n",
    "    \"\"\"\n",
    "\n",
    "ch.query_run(query_text)"
   ]
  },
  {
   "cell_type": "markdown",
   "id": "77c27f60",
   "metadata": {},
   "source": [
    "___\n",
    "## Tools\n",
    "___\n",
    "### query\n"
   ]
  },
  {
   "cell_type": "code",
   "execution_count": 7,
   "id": "ad8aec8a",
   "metadata": {},
   "outputs": [
    {
     "data": {
      "text/html": [
       "<div><style>\n",
       ".dataframe > thead > tr,\n",
       ".dataframe > tbody > tr {\n",
       "  text-align: right;\n",
       "  white-space: pre-wrap;\n",
       "}\n",
       "</style>\n",
       "<small>shape: (0, 0)</small><table border=\"1\" class=\"dataframe\"><thead><tr></tr><tr></tr></thead><tbody></tbody></table></div>"
      ],
      "text/plain": [
       "shape: (0, 0)\n",
       "┌┐\n",
       "╞╡\n",
       "└┘"
      ]
     },
     "execution_count": 7,
     "metadata": {},
     "output_type": "execute_result"
    }
   ],
   "source": [
    "query_text = \"\"\"--sql\n",
    "    SELECT\n",
    "        *\n",
    "    FROM db1.maf_rep_mobile_total\n",
    "    ORDER BY report_date desc\n",
    "    limit 10\n",
    "    \"\"\"\n",
    "\n",
    "ch.query_run(query_text)\n"
   ]
  },
  {
   "cell_type": "markdown",
   "id": "8315deb9",
   "metadata": {},
   "source": [
    "### delete a part\n"
   ]
  },
  {
   "cell_type": "code",
   "execution_count": null,
   "id": "3d89c543",
   "metadata": {},
   "outputs": [],
   "source": [
    "query_text = \"\"\"--sql\n",
    "    ALTER TABLE db1.maf_rep_mobile_total DELETE WHERE report_date = '2025-07-17'\n",
    "    \"\"\"\n",
    "\n",
    "ch.query_run(query_text)\n"
   ]
  },
  {
   "cell_type": "markdown",
   "id": "e0a0b679",
   "metadata": {},
   "source": [
    "### drop mv"
   ]
  },
  {
   "cell_type": "code",
   "execution_count": 11,
   "id": "05c5a8e4",
   "metadata": {},
   "outputs": [
    {
     "ename": "DatabaseError",
     "evalue": "HTTPDriver for https://rc1a-eflrt968scbm232q.mdb.yandexcloud.net:8443 received ClickHouse error code 60\n Code: 60. DB::Exception: Table db1.maf_rep_mobile_total_mv does not exist. (UNKNOWN_TABLE) (version 25.3.3.42 (official build))\n",
     "output_type": "error",
     "traceback": [
      "\u001b[31m---------------------------------------------------------------------------\u001b[39m",
      "\u001b[31mDatabaseError\u001b[39m                             Traceback (most recent call last)",
      "\u001b[36mCell\u001b[39m\u001b[36m \u001b[39m\u001b[32mIn[11]\u001b[39m\u001b[32m, line 5\u001b[39m\n\u001b[32m      1\u001b[39m query_text = \u001b[33m\"\"\"\u001b[39m\u001b[33m--sql\u001b[39m\n\u001b[32m      2\u001b[39m \u001b[33m    DROP TABLE db1.maf_rep_mobile_total_mv\u001b[39m\n\u001b[32m      3\u001b[39m \u001b[33m    \u001b[39m\u001b[33m\"\"\"\u001b[39m\n\u001b[32m----> \u001b[39m\u001b[32m5\u001b[39m \u001b[43mch\u001b[49m\u001b[43m.\u001b[49m\u001b[43mquery_run\u001b[49m\u001b[43m(\u001b[49m\u001b[43mquery_text\u001b[49m\u001b[43m)\u001b[49m\n",
      "\u001b[36mFile \u001b[39m\u001b[32m~/Documents/Work/analytics/Clickhouse/clickhouse_client.py:29\u001b[39m, in \u001b[36mClickHouse_client.query_run\u001b[39m\u001b[34m(self, query_text)\u001b[39m\n\u001b[32m     27\u001b[39m \u001b[38;5;28;01mdef\u001b[39;00m\u001b[38;5;250m \u001b[39m\u001b[34mquery_run\u001b[39m (\u001b[38;5;28mself\u001b[39m, query_text):\n\u001b[32m     28\u001b[39m     query_text = query_text\n\u001b[32m---> \u001b[39m\u001b[32m29\u001b[39m     result = \u001b[38;5;28;43mself\u001b[39;49m\u001b[43m.\u001b[49m\u001b[43mclient\u001b[49m\u001b[43m.\u001b[49m\u001b[43mquery\u001b[49m\u001b[43m(\u001b[49m\u001b[43mquery_text\u001b[49m\u001b[43m)\u001b[49m\n\u001b[32m     30\u001b[39m     \u001b[38;5;28mself\u001b[39m.df = pd.DataFrame(result.result_rows, columns=result.column_names)\n\u001b[32m     31\u001b[39m     \u001b[38;5;66;03m# self.df = pl.DataFrame(result.result_rows, schema=result.column_names)\u001b[39;00m\n",
      "\u001b[36mFile \u001b[39m\u001b[32m~/myenv/lib/python3.12/site-packages/clickhouse_connect/driver/client.py:237\u001b[39m, in \u001b[36mClient.query\u001b[39m\u001b[34m(self, query, parameters, settings, query_formats, column_formats, encoding, use_none, column_oriented, use_numpy, max_str_len, context, query_tz, column_tzs, external_data, transport_settings)\u001b[39m\n\u001b[32m    235\u001b[39m         \u001b[38;5;28;01mreturn\u001b[39;00m response.as_query_result()\n\u001b[32m    236\u001b[39m     \u001b[38;5;28;01mreturn\u001b[39;00m QueryResult([response] \u001b[38;5;28;01mif\u001b[39;00m \u001b[38;5;28misinstance\u001b[39m(response, \u001b[38;5;28mlist\u001b[39m) \u001b[38;5;28;01melse\u001b[39;00m [[response]])\n\u001b[32m--> \u001b[39m\u001b[32m237\u001b[39m \u001b[38;5;28;01mreturn\u001b[39;00m \u001b[38;5;28;43mself\u001b[39;49m\u001b[43m.\u001b[49m\u001b[43m_query_with_context\u001b[49m\u001b[43m(\u001b[49m\u001b[43mquery_context\u001b[49m\u001b[43m)\u001b[49m\n",
      "\u001b[36mFile \u001b[39m\u001b[32m~/myenv/lib/python3.12/site-packages/clickhouse_connect/driver/httpclient.py:243\u001b[39m, in \u001b[36mHttpClient._query_with_context\u001b[39m\u001b[34m(self, context)\u001b[39m\n\u001b[32m    241\u001b[39m     fields = \u001b[38;5;28;01mNone\u001b[39;00m\n\u001b[32m    242\u001b[39m     headers[\u001b[33m'\u001b[39m\u001b[33mContent-Type\u001b[39m\u001b[33m'\u001b[39m] = \u001b[33m'\u001b[39m\u001b[33mtext/plain; charset=utf-8\u001b[39m\u001b[33m'\u001b[39m\n\u001b[32m--> \u001b[39m\u001b[32m243\u001b[39m response = \u001b[38;5;28;43mself\u001b[39;49m\u001b[43m.\u001b[49m\u001b[43m_raw_request\u001b[49m\u001b[43m(\u001b[49m\u001b[43mbody\u001b[49m\u001b[43m,\u001b[49m\n\u001b[32m    244\u001b[39m \u001b[43m                             \u001b[49m\u001b[43mparams\u001b[49m\u001b[43m,\u001b[49m\n\u001b[32m    245\u001b[39m \u001b[43m                             \u001b[49m\u001b[43mdict_copy\u001b[49m\u001b[43m(\u001b[49m\u001b[43mheaders\u001b[49m\u001b[43m,\u001b[49m\u001b[43m \u001b[49m\u001b[43mcontext\u001b[49m\u001b[43m.\u001b[49m\u001b[43mtransport_settings\u001b[49m\u001b[43m)\u001b[49m\u001b[43m,\u001b[49m\n\u001b[32m    246\u001b[39m \u001b[43m                             \u001b[49m\u001b[43mstream\u001b[49m\u001b[43m=\u001b[49m\u001b[38;5;28;43;01mTrue\u001b[39;49;00m\u001b[43m,\u001b[49m\n\u001b[32m    247\u001b[39m \u001b[43m                             \u001b[49m\u001b[43mretries\u001b[49m\u001b[43m=\u001b[49m\u001b[38;5;28;43mself\u001b[39;49m\u001b[43m.\u001b[49m\u001b[43mquery_retries\u001b[49m\u001b[43m,\u001b[49m\n\u001b[32m    248\u001b[39m \u001b[43m                             \u001b[49m\u001b[43mfields\u001b[49m\u001b[43m=\u001b[49m\u001b[43mfields\u001b[49m\u001b[43m,\u001b[49m\n\u001b[32m    249\u001b[39m \u001b[43m                             \u001b[49m\u001b[43mserver_wait\u001b[49m\u001b[43m=\u001b[49m\u001b[38;5;129;43;01mnot\u001b[39;49;00m\u001b[43m \u001b[49m\u001b[43mcontext\u001b[49m\u001b[43m.\u001b[49m\u001b[43mstreaming\u001b[49m\u001b[43m)\u001b[49m\n\u001b[32m    250\u001b[39m byte_source = RespBuffCls(ResponseSource(response))  \u001b[38;5;66;03m# pylint: disable=not-callable\u001b[39;00m\n\u001b[32m    251\u001b[39m context.set_response_tz(\u001b[38;5;28mself\u001b[39m._check_tz_change(response.headers.get(\u001b[33m'\u001b[39m\u001b[33mX-ClickHouse-Timezone\u001b[39m\u001b[33m'\u001b[39m)))\n",
      "\u001b[36mFile \u001b[39m\u001b[32m~/myenv/lib/python3.12/site-packages/clickhouse_connect/driver/httpclient.py:481\u001b[39m, in \u001b[36mHttpClient._raw_request\u001b[39m\u001b[34m(self, data, params, headers, method, retries, stream, server_wait, fields, error_handler)\u001b[39m\n\u001b[32m    479\u001b[39m     error_handler(response)\n\u001b[32m    480\u001b[39m \u001b[38;5;28;01melse\u001b[39;00m:\n\u001b[32m--> \u001b[39m\u001b[32m481\u001b[39m     \u001b[38;5;28;43mself\u001b[39;49m\u001b[43m.\u001b[49m\u001b[43m_error_handler\u001b[49m\u001b[43m(\u001b[49m\u001b[43mresponse\u001b[49m\u001b[43m)\u001b[49m\n",
      "\u001b[36mFile \u001b[39m\u001b[32m~/myenv/lib/python3.12/site-packages/clickhouse_connect/driver/httpclient.py:402\u001b[39m, in \u001b[36mHttpClient._error_handler\u001b[39m\u001b[34m(self, response, retried)\u001b[39m\n\u001b[32m    399\u001b[39m \u001b[38;5;28;01melse\u001b[39;00m:\n\u001b[32m    400\u001b[39m     err_str = \u001b[33m'\u001b[39m\u001b[33mThe ClickHouse server returned an error.\u001b[39m\u001b[33m'\u001b[39m\n\u001b[32m--> \u001b[39m\u001b[32m402\u001b[39m \u001b[38;5;28;01mraise\u001b[39;00m OperationalError(err_str) \u001b[38;5;28;01mif\u001b[39;00m retried \u001b[38;5;28;01melse\u001b[39;00m DatabaseError(err_str) \u001b[38;5;28;01mfrom\u001b[39;00m\u001b[38;5;250m \u001b[39m\u001b[38;5;28;01mNone\u001b[39;00m\n",
      "\u001b[31mDatabaseError\u001b[39m: HTTPDriver for https://rc1a-eflrt968scbm232q.mdb.yandexcloud.net:8443 received ClickHouse error code 60\n Code: 60. DB::Exception: Table db1.maf_rep_mobile_total_mv does not exist. (UNKNOWN_TABLE) (version 25.3.3.42 (official build))\n"
     ]
    }
   ],
   "source": [
    "query_text = \"\"\"--sql\n",
    "    DROP TABLE db1.maf_rep_mobile_total_mv\n",
    "    \"\"\"\n",
    "\n",
    "ch.query_run(query_text)"
   ]
  },
  {
   "cell_type": "markdown",
   "id": "163780c7",
   "metadata": {},
   "source": [
    "### drop table"
   ]
  },
  {
   "cell_type": "code",
   "execution_count": 9,
   "id": "7babc241",
   "metadata": {},
   "outputs": [
    {
     "data": {
      "text/html": [
       "<div><style>\n",
       ".dataframe > thead > tr,\n",
       ".dataframe > tbody > tr {\n",
       "  text-align: right;\n",
       "  white-space: pre-wrap;\n",
       "}\n",
       "</style>\n",
       "<small>shape: (0, 0)</small><table border=\"1\" class=\"dataframe\"><thead><tr></tr><tr></tr></thead><tbody></tbody></table></div>"
      ],
      "text/plain": [
       "shape: (0, 0)\n",
       "┌┐\n",
       "╞╡\n",
       "└┘"
      ]
     },
     "execution_count": 9,
     "metadata": {},
     "output_type": "execute_result"
    }
   ],
   "source": [
    "query_text = \"\"\"--sql\n",
    "    DROP TABLE db1.maf_rep_mobile_total\n",
    "    \"\"\"\n",
    "\n",
    "ch.query_run(query_text)"
   ]
  },
  {
   "cell_type": "markdown",
   "id": "731482ed",
   "metadata": {},
   "source": [
    "### refresh mv"
   ]
  },
  {
   "cell_type": "code",
   "execution_count": null,
   "id": "6bca99f2",
   "metadata": {},
   "outputs": [],
   "source": [
    "query_text = \"\"\"\n",
    "SYSTEM REFRESH VIEW db1.maf_rep_mobile_total_mv\n",
    "\"\"\"\n",
    "\n",
    "ch.query_run(query_text)"
   ]
  }
 ],
 "metadata": {
  "jupytext": {
   "formats": "ipynb,md"
  },
  "kernelspec": {
   "display_name": "myenv",
   "language": "python",
   "name": "python3"
  },
  "language_info": {
   "codemirror_mode": {
    "name": "ipython",
    "version": 3
   },
   "file_extension": ".py",
   "mimetype": "text/x-python",
   "name": "python",
   "nbconvert_exporter": "python",
   "pygments_lexer": "ipython3",
   "version": "3.12.11"
  }
 },
 "nbformat": 4,
 "nbformat_minor": 5
}

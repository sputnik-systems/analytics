{
 "cells": [
  {
   "cell_type": "code",
   "execution_count": 1,
   "id": "ed290508",
   "metadata": {},
   "outputs": [],
   "source": [
    "import clickhouse_connect\n",
    "import datetime\n",
    "import os\n",
    "import pytz\n",
    "import pandas as pd\n",
    "from dateutil.relativedelta import relativedelta\n",
    "from dotenv import load_dotenv\n",
    "\n",
    "import sys\n",
    "sys.path.append('/home/boris/Documents/Work/analytics/Clickhouse')\n",
    "from clickhouse_client import ClickHouse_client\n",
    "ch = ClickHouse_client()\n",
    "pd.set_option('display.max_rows', 1000)"
   ]
  },
  {
   "cell_type": "markdown",
   "id": "501e63e5",
   "metadata": {},
   "source": [
    "___\n",
    "### Tags: #Mobile_Report\n",
    "\n",
    "### Links:\n",
    "\n",
    "[[rep_mobile_citizens_id_city_partner]]\n",
    "\n",
    "[[sessions_st_mobile]]\n",
    "\n",
    "[[citizens_dir_mobile]]\n",
    "___"
   ]
  },
  {
   "cell_type": "code",
   "execution_count": 14,
   "id": "564f28df",
   "metadata": {},
   "outputs": [
    {
     "data": {
      "text/html": [
       "<div><style>\n",
       ".dataframe > thead > tr,\n",
       ".dataframe > tbody > tr {\n",
       "  text-align: right;\n",
       "  white-space: pre-wrap;\n",
       "}\n",
       "</style>\n",
       "<small>shape: (0, 0)</small><table border=\"1\" class=\"dataframe\"><thead><tr></tr><tr></tr></thead><tbody></tbody></table></div>"
      ],
      "text/plain": [
       "shape: (0, 0)\n",
       "┌┐\n",
       "╞╡\n",
       "└┘"
      ]
     },
     "execution_count": 14,
     "metadata": {},
     "output_type": "execute_result"
    }
   ],
   "source": [
    "query_text = \"\"\"--sql\n",
    "CREATE TABLE db1.maf_rep_mobile_total\n",
    "(\n",
    "    `report_date` Date,\n",
    "    `MAF` UInt64,\n",
    "    `stricted_MAF` UInt64,\n",
    "    `freemonetization_MAF` UInt64\n",
    ")\n",
    "ENGINE = MergeTree()\n",
    "ORDER BY report_date\n",
    "\"\"\"\n",
    "\n",
    "ch.query_run(query_text)"
   ]
  },
  {
   "cell_type": "code",
   "execution_count": 15,
   "id": "05ec8759",
   "metadata": {},
   "outputs": [
    {
     "data": {
      "text/html": [
       "<div><style>\n",
       ".dataframe > thead > tr,\n",
       ".dataframe > tbody > tr {\n",
       "  text-align: right;\n",
       "  white-space: pre-wrap;\n",
       "}\n",
       "</style>\n",
       "<small>shape: (0, 0)</small><table border=\"1\" class=\"dataframe\"><thead><tr></tr><tr></tr></thead><tbody></tbody></table></div>"
      ],
      "text/plain": [
       "shape: (0, 0)\n",
       "┌┐\n",
       "╞╡\n",
       "└┘"
      ]
     },
     "execution_count": 15,
     "metadata": {},
     "output_type": "execute_result"
    }
   ],
   "source": [
    "query_text = \"\"\"--sql\n",
    "    CREATE MATERIALIZED VIEW db1.maf_rep_mobile_total_mv\n",
    "    REFRESH EVERY 1 DAY OFFSET 5 HOUR 45 MINUTE TO db1.maf_rep_mobile_total AS\n",
    "    WITH t_m AS (SELECT\n",
    "        report_date,\n",
    "        flat_uuid,\n",
    "        monetization,\n",
    "        citizen_id\n",
    "    FROM db1.rep_mobile_citizens_id_city_partner\n",
    "    WHERE toDate(`flat_created_at`) <= report_date\n",
    "        AND state = 'activated'\n",
    "    ),\n",
    "    t_s AS \n",
    "    (SELECT \n",
    "        report_date,\n",
    "        sessions_st_mobile_ch.citizen_id AS citizen_id\n",
    "    FROM db1.`sessions_st_mobile_ch` AS sessions_st_mobile\n",
    "    LEFT ANY JOIN  db1.`citizens_dir_mobile_ch` AS citizens_dir_mobile\n",
    "            ON citizens_dir_mobile.citizen_id = sessions_st_mobile.citizen_id \n",
    "    WHERE toDateOrNull(citizens_dir_mobile.`created_at`) <= sessions_st_mobile.report_date\n",
    "        AND (toDate(`last_use`) BETWEEN toStartOfMonth(sessions_st_mobile.report_date) AND sessions_st_mobile.report_date) \n",
    "    )\n",
    "    --\n",
    "    SELECT\n",
    "        t_m.report_date AS report_date,\n",
    "        COUNT(t_m.flat_uuid) AS MAF,\n",
    "        COUNT(if(monetization = 0, t_m.flat_uuid, null)) AS stricted_MAF,\n",
    "        COUNT(if(monetization = 1 or monetization is null, t_m.flat_uuid, null)) AS freemonetization_MAF\n",
    "    FROM t_m\n",
    "    ANY JOIN t_s \n",
    "        ON t_m.citizen_id = t_s.citizen_id \n",
    "        AND t_m.report_date = t_s.report_date\n",
    "    GROUP BY report_date\n",
    "    \"\"\"\n",
    "\n",
    "ch.query_run(query_text)"
   ]
  },
  {
   "cell_type": "markdown",
   "id": "77c27f60",
   "metadata": {},
   "source": [
    "___\n",
    "## Tools\n",
    "___\n",
    "### query\n"
   ]
  },
  {
   "cell_type": "code",
   "execution_count": 8,
   "id": "ad8aec8a",
   "metadata": {},
   "outputs": [
    {
     "data": {
      "text/html": [
       "<div><style>\n",
       ".dataframe > thead > tr,\n",
       ".dataframe > tbody > tr {\n",
       "  text-align: right;\n",
       "  white-space: pre-wrap;\n",
       "}\n",
       "</style>\n",
       "<small>shape: (10, 4)</small><table border=\"1\" class=\"dataframe\"><thead><tr><th>report_date</th><th>MAF</th><th>stricted_MAF</th><th>freemonetization_MAF</th></tr><tr><td>date</td><td>i64</td><td>i64</td><td>i64</td></tr></thead><tbody><tr><td>2025-07-29</td><td>251908</td><td>94420</td><td>157488</td></tr><tr><td>2025-07-28</td><td>254301</td><td>95033</td><td>159268</td></tr><tr><td>2025-07-27</td><td>241872</td><td>90246</td><td>151626</td></tr><tr><td>2025-07-26</td><td>233492</td><td>87279</td><td>146213</td></tr><tr><td>2025-07-25</td><td>253788</td><td>253788</td><td>0</td></tr><tr><td>2025-07-24</td><td>254934</td><td>95781</td><td>159153</td></tr><tr><td>2025-07-23</td><td>256162</td><td>95791</td><td>160371</td></tr><tr><td>2025-07-22</td><td>256298</td><td>95830</td><td>160468</td></tr><tr><td>2025-07-21</td><td>258005</td><td>96979</td><td>161026</td></tr><tr><td>2025-07-20</td><td>243956</td><td>91566</td><td>152390</td></tr></tbody></table></div>"
      ],
      "text/plain": [
       "shape: (10, 4)\n",
       "┌─────────────┬────────┬──────────────┬──────────────────────┐\n",
       "│ report_date ┆ MAF    ┆ stricted_MAF ┆ freemonetization_MAF │\n",
       "│ ---         ┆ ---    ┆ ---          ┆ ---                  │\n",
       "│ date        ┆ i64    ┆ i64          ┆ i64                  │\n",
       "╞═════════════╪════════╪══════════════╪══════════════════════╡\n",
       "│ 2025-07-29  ┆ 251908 ┆ 94420        ┆ 157488               │\n",
       "│ 2025-07-28  ┆ 254301 ┆ 95033        ┆ 159268               │\n",
       "│ 2025-07-27  ┆ 241872 ┆ 90246        ┆ 151626               │\n",
       "│ 2025-07-26  ┆ 233492 ┆ 87279        ┆ 146213               │\n",
       "│ 2025-07-25  ┆ 253788 ┆ 253788       ┆ 0                    │\n",
       "│ 2025-07-24  ┆ 254934 ┆ 95781        ┆ 159153               │\n",
       "│ 2025-07-23  ┆ 256162 ┆ 95791        ┆ 160371               │\n",
       "│ 2025-07-22  ┆ 256298 ┆ 95830        ┆ 160468               │\n",
       "│ 2025-07-21  ┆ 258005 ┆ 96979        ┆ 161026               │\n",
       "│ 2025-07-20  ┆ 243956 ┆ 91566        ┆ 152390               │\n",
       "└─────────────┴────────┴──────────────┴──────────────────────┘"
      ]
     },
     "execution_count": 8,
     "metadata": {},
     "output_type": "execute_result"
    }
   ],
   "source": [
    "query_text = \"\"\"--sql\n",
    "    SELECT\n",
    "        *\n",
    "    FROM db1.maf_rep_mobile_total\n",
    "    ORDER BY report_date desc\n",
    "    limit 10\n",
    "    \"\"\"\n",
    "\n",
    "ch.query_run(query_text)\n"
   ]
  },
  {
   "cell_type": "markdown",
   "id": "8315deb9",
   "metadata": {},
   "source": [
    "### delete a part\n"
   ]
  },
  {
   "cell_type": "code",
   "execution_count": null,
   "id": "3d89c543",
   "metadata": {},
   "outputs": [],
   "source": [
    "query_text = \"\"\"--sql\n",
    "    ALTER TABLE db1.maf_rep_mobile_total DELETE WHERE report_date = '2025-07-17'\n",
    "    \"\"\"\n",
    "\n",
    "ch.query_run(query_text)\n"
   ]
  },
  {
   "cell_type": "markdown",
   "id": "e0a0b679",
   "metadata": {},
   "source": [
    "### drop mv"
   ]
  },
  {
   "cell_type": "code",
   "execution_count": 9,
   "id": "05c5a8e4",
   "metadata": {},
   "outputs": [
    {
     "data": {
      "text/html": [
       "<div><style>\n",
       ".dataframe > thead > tr,\n",
       ".dataframe > tbody > tr {\n",
       "  text-align: right;\n",
       "  white-space: pre-wrap;\n",
       "}\n",
       "</style>\n",
       "<small>shape: (0, 0)</small><table border=\"1\" class=\"dataframe\"><thead><tr></tr><tr></tr></thead><tbody></tbody></table></div>"
      ],
      "text/plain": [
       "shape: (0, 0)\n",
       "┌┐\n",
       "╞╡\n",
       "└┘"
      ]
     },
     "execution_count": 9,
     "metadata": {},
     "output_type": "execute_result"
    }
   ],
   "source": [
    "query_text = \"\"\"--sql\n",
    "    DROP TABLE db1.maf_rep_mobile_total_mv\n",
    "    \"\"\"\n",
    "\n",
    "ch.query_run(query_text)"
   ]
  },
  {
   "cell_type": "markdown",
   "id": "163780c7",
   "metadata": {},
   "source": [
    "### drop table"
   ]
  },
  {
   "cell_type": "code",
   "execution_count": 13,
   "id": "7babc241",
   "metadata": {},
   "outputs": [
    {
     "data": {
      "text/html": [
       "<div><style>\n",
       ".dataframe > thead > tr,\n",
       ".dataframe > tbody > tr {\n",
       "  text-align: right;\n",
       "  white-space: pre-wrap;\n",
       "}\n",
       "</style>\n",
       "<small>shape: (0, 0)</small><table border=\"1\" class=\"dataframe\"><thead><tr></tr><tr></tr></thead><tbody></tbody></table></div>"
      ],
      "text/plain": [
       "shape: (0, 0)\n",
       "┌┐\n",
       "╞╡\n",
       "└┘"
      ]
     },
     "execution_count": 13,
     "metadata": {},
     "output_type": "execute_result"
    }
   ],
   "source": [
    "query_text = \"\"\"--sql\n",
    "    DROP TABLE db1.maf_rep_mobile_total\n",
    "    \"\"\"\n",
    "\n",
    "ch.query_run(query_text)"
   ]
  },
  {
   "cell_type": "markdown",
   "id": "731482ed",
   "metadata": {},
   "source": [
    "### refresh mv"
   ]
  },
  {
   "cell_type": "code",
   "execution_count": null,
   "id": "6bca99f2",
   "metadata": {},
   "outputs": [],
   "source": [
    "query_text = \"\"\"\n",
    "SYSTEM REFRESH VIEW db1.maf_rep_mobile_total_mv\n",
    "\"\"\"\n",
    "\n",
    "ch.query_run(query_text)"
   ]
  }
 ],
 "metadata": {
  "jupytext": {
   "formats": "ipynb,md"
  },
  "kernelspec": {
   "display_name": "myenv",
   "language": "python",
   "name": "python3"
  },
  "language_info": {
   "codemirror_mode": {
    "name": "ipython",
    "version": 3
   },
   "file_extension": ".py",
   "mimetype": "text/x-python",
   "name": "python",
   "nbconvert_exporter": "python",
   "pygments_lexer": "ipython3",
   "version": "3.12.11"
  }
 },
 "nbformat": 4,
 "nbformat_minor": 5
}

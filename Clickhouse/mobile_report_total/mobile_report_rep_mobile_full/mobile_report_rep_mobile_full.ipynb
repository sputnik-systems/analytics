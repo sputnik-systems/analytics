{
 "cells": [
  {
   "cell_type": "code",
   "execution_count": 1,
   "id": "4c3bfb28",
   "metadata": {},
   "outputs": [],
   "source": [
    "import clickhouse_connect\n",
    "import datetime\n",
    "import os\n",
    "import pytz\n",
    "import pandas as pd\n",
    "from dateutil.relativedelta import relativedelta\n",
    "from dotenv import load_dotenv\n",
    "\n",
    "import sys\n",
    "sys.path.append('/home/boris/Documents/Work/analytics/Clickhouse')\n",
    "from clickhouse_client import ClickHouse_client\n",
    "ch = ClickHouse_client()\n",
    "pd.set_option('display.max_rows', 1000)\n",
    "\n"
   ]
  },
  {
   "cell_type": "markdown",
   "id": "9ac77404",
   "metadata": {},
   "source": [
    "___\n",
    "### Tags: #Mobile_Report\n",
    "\n",
    "### Links:  \n",
    "\n",
    "[[rep_mobile_citizens_id_city_partner]]\n",
    "\n",
    "[[citizen_payments_st_mobile]]\n",
    "___\n",
    "### Table"
   ]
  },
  {
   "cell_type": "code",
   "execution_count": 5,
   "id": "e8532c5b",
   "metadata": {
    "lines_to_next_cell": 0
   },
   "outputs": [
    {
     "data": {
      "text/html": [
       "<div><style>\n",
       ".dataframe > thead > tr,\n",
       ".dataframe > tbody > tr {\n",
       "  text-align: right;\n",
       "  white-space: pre-wrap;\n",
       "}\n",
       "</style>\n",
       "<small>shape: (0, 0)</small><table border=\"1\" class=\"dataframe\"><thead><tr></tr><tr></tr></thead><tbody></tbody></table></div>"
      ],
      "text/plain": [
       "shape: (0, 0)\n",
       "┌┐\n",
       "╞╡\n",
       "└┘"
      ]
     },
     "execution_count": 5,
     "metadata": {},
     "output_type": "execute_result"
    }
   ],
   "source": [
    "query_text = \"\"\"--sql\n",
    "CREATE TABLE db1.t_mobile_report_rep_mobile_full\n",
    "    (\n",
    "        `report_date` Date,\n",
    "        `partner_uuid` String,\n",
    "        `city` String,\n",
    "        `IOS_PL` Int64,\n",
    "        `appstore_count_85` UInt64,\n",
    "        `appstore_count_85_refunded` UInt64,\n",
    "        `appstore_count_69` UInt64,\n",
    "        `appstore_count_69_refunded` UInt64,\n",
    "        `appstore_count_499` UInt64,\n",
    "        `appstore_count_499_refunded` UInt64,\n",
    "        `appstore_count_2390` UInt64,\n",
    "        `appstore_count_2390_refunded` UInt64,\n",
    "        `appstore_count_1` UInt64,\n",
    "        `appstore_count_1_refunded` UInt64,\n",
    "        `refunded_amount_appstore` Int64,\n",
    "        `Android_PL` Int64,\n",
    "        `yookassa_count_85` UInt64,\n",
    "        `yookassa_count_85_refunded` UInt64,\n",
    "        `yookassa_count_69` UInt64,\n",
    "        `yookassa_count_69_refunded` UInt64,\n",
    "        `yookassa_count_35` UInt64,\n",
    "        `yookassa_count_35_refunded` UInt64,\n",
    "        `yookassa_count_1` UInt64,\n",
    "        `yookassa_count_1_refunded` UInt64,\n",
    "        `yookassa_count_499` UInt64,\n",
    "        `yookassa_count_499_refunded` UInt64,\n",
    "        `yookassa_count_249` UInt64,\n",
    "        `yookassa_count_249_refunded` UInt64,\n",
    "        `yookassa_count_2390` UInt64,\n",
    "        `yookassa_count_2390_refunded` UInt64,\n",
    "        `refunded_amount_yookassa` Int64\n",
    "    )\n",
    "    ENGINE = MergeTree()\n",
    "    ORDER BY report_date\n",
    "\"\"\"\n",
    "\n",
    "ch.query_run(query_text)"
   ]
  },
  {
   "cell_type": "markdown",
   "id": "09f2b9f7",
   "metadata": {},
   "source": [
    "### Materialized view"
   ]
  },
  {
   "cell_type": "code",
   "execution_count": 6,
   "id": "8416a284",
   "metadata": {},
   "outputs": [
    {
     "data": {
      "text/html": [
       "<div><style>\n",
       ".dataframe > thead > tr,\n",
       ".dataframe > tbody > tr {\n",
       "  text-align: right;\n",
       "  white-space: pre-wrap;\n",
       "}\n",
       "</style>\n",
       "<small>shape: (0, 0)</small><table border=\"1\" class=\"dataframe\"><thead><tr></tr><tr></tr></thead><tbody></tbody></table></div>"
      ],
      "text/plain": [
       "shape: (0, 0)\n",
       "┌┐\n",
       "╞╡\n",
       "└┘"
      ]
     },
     "execution_count": 6,
     "metadata": {},
     "output_type": "execute_result"
    }
   ],
   "source": [
    "query_text = \"\"\"--sql\n",
    "    CREATE MATERIALIZED VIEW db1.t_mobile_report_rep_mobile_full_mv\n",
    "    REFRESH EVERY 1 DAY OFFSET 5 HOUR 40 MINUTES TO db1.t_mobile_report_rep_mobile_full AS\n",
    "    SELECT\n",
    "        report_date ,\n",
    "        partner_uuid,\n",
    "        city,\n",
    "        ((`appstore_count_85` * 85 + `appstore_count_69` * 69 + `appstore_count_499` * 499 + `appstore_count_2390` * 2390 + `appstore_count_1` * 1) - `refunded_amount_appstore`)  as IOS_PL,\n",
    "        --\n",
    "        `appstore_count_85`,\n",
    "        `appstore_count_85_refunded`,\n",
    "        `appstore_count_69`,\n",
    "        `appstore_count_69_refunded`,\n",
    "        `appstore_count_499`,\n",
    "        `appstore_count_499_refunded`,\n",
    "        `appstore_count_2390`,\n",
    "        `appstore_count_2390_refunded`,\n",
    "        `appstore_count_1`,\n",
    "        `appstore_count_1_refunded`,\n",
    "        `refunded_amount_appstore`,\n",
    "        --\n",
    "        ((`yookassa_count_85` * 85 + `yookassa_count_69` * 69 + `yookassa_count_35` * 35 + `yookassa_count_1` * 1 + `yookassa_count_499` * 499 + `yookassa_count_249` * 249 +`yookassa_count_2390` * 2390) - `refunded_amount_yookassa`) as Android_PL,\n",
    "        --\n",
    "        `yookassa_count_85`,\n",
    "        `yookassa_count_85_refunded`,\n",
    "        `yookassa_count_69`, \n",
    "        `yookassa_count_69_refunded`,\n",
    "        `yookassa_count_35`, \n",
    "        `yookassa_count_35_refunded`,\n",
    "        `yookassa_count_1`, \n",
    "        `yookassa_count_1_refunded`, \n",
    "        `yookassa_count_499`, \n",
    "        `yookassa_count_499_refunded`,\n",
    "        `yookassa_count_249`, \n",
    "        `yookassa_count_249_refunded`,  \n",
    "        `yookassa_count_2390`, \n",
    "        `yookassa_count_2390_refunded`,  \n",
    "        --\n",
    "        `refunded_amount_yookassa`\n",
    "    FROM    \n",
    "        (SELECT\n",
    "            citizen_payments_st_mobile_ch.report_date AS report_date,\n",
    "            t_cit_id.partner_uuid  AS partner_uuid,\n",
    "            t_cit_id.city AS city,\n",
    "            count(if(`from` = 'appstore' and amount = 85 and citizen_payments_st_mobile.state = 'success', citizen_payments_st_mobile.citizen_id,null)) as appstore_count_85,\n",
    "            count(if(`from` = 'appstore' and amount = 85 and citizen_payments_st_mobile.state = 'refunded', citizen_payments_st_mobile.citizen_id,null)) as appstore_count_85_refunded,\n",
    "            count(if(`from` = 'appstore' and amount = 69 and citizen_payments_st_mobile.state = 'success', citizen_payments_st_mobile.citizen_id,null)) as appstore_count_69,\n",
    "            count( if(`from` = 'appstore' and amount = 69 and citizen_payments_st_mobile.state = 'refunded', citizen_payments_st_mobile.citizen_id,null)) as appstore_count_69_refunded,\n",
    "            count( if(`from` = 'appstore' and amount = 499 and citizen_payments_st_mobile.state = 'success', citizen_payments_st_mobile.citizen_id,null)) as appstore_count_499,\n",
    "            count( if(`from` = 'appstore' and amount = 499 and citizen_payments_st_mobile.state = 'refunded', citizen_payments_st_mobile.citizen_id,null)) as appstore_count_499_refunded,\n",
    "            count( if(`from` = 'appstore' and amount = 2390 and citizen_payments_st_mobile.state = 'success', citizen_payments_st_mobile.citizen_id,null)) as appstore_count_2390,\n",
    "            count( if(`from` = 'appstore' and amount = 2390 and citizen_payments_st_mobile.state = 'refunded', citizen_payments_st_mobile.citizen_id,null)) as appstore_count_2390_refunded,\n",
    "            count( if(`from` = 'appstore' and amount = 1 and citizen_payments_st_mobile.state = 'success', citizen_payments_st_mobile.citizen_id,null)) as appstore_count_1,\n",
    "            count( if(`from` = 'appstore' and amount = 1 and citizen_payments_st_mobile.state = 'refunded', citizen_payments_st_mobile.citizen_id,null)) as appstore_count_1_refunded,\n",
    "            --\n",
    "            COALESCE(sum(if(`from` = 'appstore',`refunded_amount`,null)),0) as refunded_amount_appstore,\n",
    "            --\n",
    "            count( if(`from` = 'yookassa' and amount = 85 and citizen_payments_st_mobile.state = 'success', citizen_payments_st_mobile.citizen_id,null)) as yookassa_count_85,\n",
    "            count( if(`from` = 'yookassa' and amount = 85 and citizen_payments_st_mobile.state = 'refunded', citizen_payments_st_mobile.citizen_id,null)) as yookassa_count_85_refunded,    \n",
    "            count( if(`from` = 'yookassa' and amount = 69 and citizen_payments_st_mobile.state = 'success', citizen_payments_st_mobile.citizen_id,null)) as yookassa_count_69, \n",
    "            count( if(`from` = 'yookassa' and amount = 69 and citizen_payments_st_mobile.state = 'refunded', citizen_payments_st_mobile.citizen_id,null)) as yookassa_count_69_refunded,\n",
    "            count( if(`from` = 'yookassa' and amount = 35 and citizen_payments_st_mobile.state = 'success', citizen_payments_st_mobile.citizen_id,null)) as yookassa_count_35, \n",
    "            count( if(`from` = 'yookassa' and amount = 35 and citizen_payments_st_mobile.state = 'refunded', citizen_payments_st_mobile.citizen_id,null)) as yookassa_count_35_refunded,\n",
    "            count( if(`from` = 'yookassa' and amount = 1 and citizen_payments_st_mobile.state = 'success', citizen_payments_st_mobile.citizen_id,null)) as yookassa_count_1, \n",
    "            count( if(`from` = 'yookassa' and amount = 1 and citizen_payments_st_mobile.state = 'refunded', citizen_payments_st_mobile.citizen_id,null)) as yookassa_count_1_refunded, \n",
    "            count( if(`from` = 'yookassa' and amount = 499 and citizen_payments_st_mobile.state = 'success', citizen_payments_st_mobile.citizen_id,null)) as yookassa_count_499, \n",
    "            count( if(`from` = 'yookassa' and amount = 499 and citizen_payments_st_mobile.state = 'refunded', citizen_payments_st_mobile.citizen_id,null)) as yookassa_count_499_refunded,\n",
    "            count( if(`from` = 'yookassa' and amount = 249 and citizen_payments_st_mobile.state = 'success', citizen_payments_st_mobile.citizen_id,null)) as yookassa_count_249, \n",
    "            count( if(`from` = 'yookassa' and amount = 249 and citizen_payments_st_mobile.state = 'refunded', citizen_payments_st_mobile.citizen_id,null)) as yookassa_count_249_refunded,  \n",
    "            count( if(`from` = 'yookassa' and amount = 2390 and citizen_payments_st_mobile.state = 'success', citizen_payments_st_mobile.citizen_id,null)) as yookassa_count_2390, \n",
    "            count( if(`from` = 'yookassa' and amount = 2390 and citizen_payments_st_mobile.state = 'refunded', citizen_payments_st_mobile.citizen_id,null)) as yookassa_count_2390_refunded,  \n",
    "            --\n",
    "            COALESCE(sum(if(`from` = 'yookassa',refunded_amount,null)),0) as refunded_amount_yookassa,\n",
    "            --\n",
    "            max(citizen_payments_st_mobile.`report_date`) as max_report_date,\n",
    "            min(citizen_payments_st_mobile.`report_date`) as min_report_date\n",
    "        FROM db1.rep_mobile_citizens_id_city_partner AS t_cit_id\n",
    "        ANY JOIN db1.`citizen_payments_st_mobile_ch` AS citizen_payments_st_mobile\n",
    "        \tON citizen_payments_st_mobile.`report_date` = t_cit_id.`report_date`\n",
    "        \tAND citizen_payments_st_mobile.`citizen_id` = t_cit_id.`citizen_id`\n",
    "        GROUP by \n",
    "            report_date,\n",
    "            partner_uuid,\n",
    "            city\n",
    "            ) as t1\n",
    "    \"\"\"\n",
    "\n",
    "ch.query_run(query_text)"
   ]
  },
  {
   "cell_type": "markdown",
   "id": "9fa5fda4",
   "metadata": {},
   "source": [
    "___\n",
    "## Tools\n",
    "___\n",
    "### query\n"
   ]
  },
  {
   "cell_type": "code",
   "execution_count": 7,
   "id": "6ed068d5",
   "metadata": {},
   "outputs": [
    {
     "data": {
      "text/html": [
       "<div><style>\n",
       ".dataframe > thead > tr,\n",
       ".dataframe > tbody > tr {\n",
       "  text-align: right;\n",
       "  white-space: pre-wrap;\n",
       "}\n",
       "</style>\n",
       "<small>shape: (10, 31)</small><table border=\"1\" class=\"dataframe\"><thead><tr><th>report_date</th><th>partner_uuid</th><th>city</th><th>IOS_PL</th><th>appstore_count_85</th><th>appstore_count_85_refunded</th><th>appstore_count_69</th><th>appstore_count_69_refunded</th><th>appstore_count_499</th><th>appstore_count_499_refunded</th><th>appstore_count_2390</th><th>appstore_count_2390_refunded</th><th>appstore_count_1</th><th>appstore_count_1_refunded</th><th>refunded_amount_appstore</th><th>Android_PL</th><th>yookassa_count_85</th><th>yookassa_count_85_refunded</th><th>yookassa_count_69</th><th>yookassa_count_69_refunded</th><th>yookassa_count_35</th><th>yookassa_count_35_refunded</th><th>yookassa_count_1</th><th>yookassa_count_1_refunded</th><th>yookassa_count_499</th><th>yookassa_count_499_refunded</th><th>yookassa_count_249</th><th>yookassa_count_249_refunded</th><th>yookassa_count_2390</th><th>yookassa_count_2390_refunded</th><th>refunded_amount_yookassa</th></tr><tr><td>date</td><td>str</td><td>str</td><td>i64</td><td>i64</td><td>i64</td><td>i64</td><td>i64</td><td>i64</td><td>i64</td><td>i64</td><td>i64</td><td>i64</td><td>i64</td><td>i64</td><td>i64</td><td>i64</td><td>i64</td><td>i64</td><td>i64</td><td>i64</td><td>i64</td><td>i64</td><td>i64</td><td>i64</td><td>i64</td><td>i64</td><td>i64</td><td>i64</td><td>i64</td><td>i64</td></tr></thead><tbody><tr><td>2025-06-05</td><td>&quot;a9ff7819-4e08-4113-94ba-ad06c3…</td><td>&quot;Мытищи&quot;</td><td>0</td><td>0</td><td>0</td><td>0</td><td>0</td><td>0</td><td>0</td><td>0</td><td>0</td><td>0</td><td>0</td><td>0</td><td>207</td><td>0</td><td>0</td><td>3</td><td>0</td><td>0</td><td>0</td><td>0</td><td>0</td><td>0</td><td>0</td><td>0</td><td>0</td><td>0</td><td>0</td><td>0</td></tr><tr><td>2025-06-05</td><td>&quot;9143cc53-d22b-484b-ad94-0022f7…</td><td>&quot;Санкт-Петербург&quot;</td><td>0</td><td>0</td><td>0</td><td>0</td><td>0</td><td>0</td><td>0</td><td>0</td><td>0</td><td>0</td><td>0</td><td>0</td><td>346</td><td>0</td><td>0</td><td>5</td><td>0</td><td>0</td><td>0</td><td>1</td><td>0</td><td>0</td><td>0</td><td>0</td><td>0</td><td>0</td><td>0</td><td>0</td></tr><tr><td>2025-06-05</td><td>&quot;a478edca-2e04-4df3-afff-76fccf…</td><td>&quot;деревня Глазково&quot;</td><td>0</td><td>0</td><td>0</td><td>0</td><td>0</td><td>0</td><td>0</td><td>0</td><td>0</td><td>0</td><td>0</td><td>0</td><td>69</td><td>0</td><td>0</td><td>1</td><td>0</td><td>0</td><td>0</td><td>0</td><td>0</td><td>0</td><td>0</td><td>0</td><td>0</td><td>0</td><td>0</td><td>0</td></tr><tr><td>2025-06-05</td><td>&quot;9b15a280-54fb-4ba6-8afe-31dfa3…</td><td>&quot;Иваново&quot;</td><td>0</td><td>0</td><td>0</td><td>0</td><td>0</td><td>0</td><td>0</td><td>0</td><td>0</td><td>0</td><td>0</td><td>0</td><td>69</td><td>0</td><td>0</td><td>1</td><td>0</td><td>0</td><td>0</td><td>0</td><td>0</td><td>0</td><td>0</td><td>0</td><td>0</td><td>0</td><td>0</td><td>0</td></tr><tr><td>2025-06-05</td><td>&quot;e3c80fed-fc13-4c3f-a6df-af3a3f…</td><td>&quot;Одинцово&quot;</td><td>276</td><td>0</td><td>0</td><td>4</td><td>0</td><td>0</td><td>0</td><td>0</td><td>0</td><td>0</td><td>0</td><td>0</td><td>1449</td><td>0</td><td>0</td><td>21</td><td>0</td><td>0</td><td>0</td><td>0</td><td>0</td><td>0</td><td>0</td><td>0</td><td>0</td><td>0</td><td>0</td><td>0</td></tr><tr><td>2025-06-05</td><td>&quot;6818fe8d-8f5e-4f93-a5d6-8e7ebd…</td><td>&quot;посёлок Большое Исаково&quot;</td><td>0</td><td>0</td><td>0</td><td>0</td><td>0</td><td>0</td><td>0</td><td>0</td><td>0</td><td>0</td><td>0</td><td>0</td><td>69</td><td>0</td><td>0</td><td>1</td><td>0</td><td>0</td><td>0</td><td>0</td><td>0</td><td>0</td><td>0</td><td>0</td><td>0</td><td>0</td><td>0</td><td>0</td></tr><tr><td>2025-06-05</td><td>&quot;a1d713a3-5b0a-4f5d-aace-636c11…</td><td>&quot;Белорецк&quot;</td><td>0</td><td>0</td><td>0</td><td>0</td><td>0</td><td>0</td><td>0</td><td>0</td><td>0</td><td>0</td><td>0</td><td>0</td><td>208</td><td>0</td><td>0</td><td>3</td><td>0</td><td>0</td><td>0</td><td>1</td><td>0</td><td>0</td><td>0</td><td>0</td><td>0</td><td>0</td><td>0</td><td>0</td></tr><tr><td>2025-06-05</td><td>&quot;c0bdb685-1a35-45ca-8812-cd3db4…</td><td>&quot;Ростов-на-Дону&quot;</td><td>0</td><td>0</td><td>0</td><td>0</td><td>0</td><td>0</td><td>0</td><td>0</td><td>0</td><td>0</td><td>0</td><td>0</td><td>621</td><td>0</td><td>0</td><td>9</td><td>0</td><td>0</td><td>0</td><td>0</td><td>0</td><td>0</td><td>0</td><td>0</td><td>0</td><td>0</td><td>0</td><td>0</td></tr><tr><td>2025-06-05</td><td>&quot;c259e6bf-517a-4f87-ba0c-99c7ea…</td><td>&quot;Котельнич&quot;</td><td>0</td><td>0</td><td>0</td><td>0</td><td>0</td><td>0</td><td>0</td><td>0</td><td>0</td><td>0</td><td>0</td><td>0</td><td>69</td><td>0</td><td>0</td><td>1</td><td>0</td><td>0</td><td>0</td><td>0</td><td>0</td><td>0</td><td>0</td><td>0</td><td>0</td><td>0</td><td>0</td><td>0</td></tr><tr><td>2025-06-05</td><td>&quot;1fe21d10-1127-4881-9ba6-6aca28…</td><td>&quot;посёлок городского типа Молоко…</td><td>0</td><td>0</td><td>0</td><td>0</td><td>0</td><td>0</td><td>0</td><td>0</td><td>0</td><td>0</td><td>0</td><td>0</td><td>71</td><td>0</td><td>0</td><td>1</td><td>0</td><td>0</td><td>0</td><td>2</td><td>0</td><td>0</td><td>0</td><td>0</td><td>0</td><td>0</td><td>0</td><td>0</td></tr></tbody></table></div>"
      ],
      "text/plain": [
       "shape: (10, 31)\n",
       "┌────────────┬────────────┬───────────┬────────┬───┬───────────┬───────────┬───────────┬───────────┐\n",
       "│ report_dat ┆ partner_uu ┆ city      ┆ IOS_PL ┆ … ┆ yookassa_ ┆ yookassa_ ┆ yookassa_ ┆ refunded_ │\n",
       "│ e          ┆ id         ┆ ---       ┆ ---    ┆   ┆ count_249 ┆ count_239 ┆ count_239 ┆ amount_yo │\n",
       "│ ---        ┆ ---        ┆ str       ┆ i64    ┆   ┆ _refunded ┆ 0         ┆ 0_refunde ┆ okassa    │\n",
       "│ date       ┆ str        ┆           ┆        ┆   ┆ ---       ┆ ---       ┆ d         ┆ ---       │\n",
       "│            ┆            ┆           ┆        ┆   ┆ i64       ┆ i64       ┆ ---       ┆ i64       │\n",
       "│            ┆            ┆           ┆        ┆   ┆           ┆           ┆ i64       ┆           │\n",
       "╞════════════╪════════════╪═══════════╪════════╪═══╪═══════════╪═══════════╪═══════════╪═══════════╡\n",
       "│ 2025-06-05 ┆ a9ff7819-4 ┆ Мытищи    ┆ 0      ┆ … ┆ 0         ┆ 0         ┆ 0         ┆ 0         │\n",
       "│            ┆ e08-4113-9 ┆           ┆        ┆   ┆           ┆           ┆           ┆           │\n",
       "│            ┆ 4ba-ad06c3 ┆           ┆        ┆   ┆           ┆           ┆           ┆           │\n",
       "│            ┆ …          ┆           ┆        ┆   ┆           ┆           ┆           ┆           │\n",
       "│ 2025-06-05 ┆ 9143cc53-d ┆ Санкт-Пет ┆ 0      ┆ … ┆ 0         ┆ 0         ┆ 0         ┆ 0         │\n",
       "│            ┆ 22b-484b-a ┆ ербург    ┆        ┆   ┆           ┆           ┆           ┆           │\n",
       "│            ┆ d94-0022f7 ┆           ┆        ┆   ┆           ┆           ┆           ┆           │\n",
       "│            ┆ …          ┆           ┆        ┆   ┆           ┆           ┆           ┆           │\n",
       "│ 2025-06-05 ┆ a478edca-2 ┆ деревня   ┆ 0      ┆ … ┆ 0         ┆ 0         ┆ 0         ┆ 0         │\n",
       "│            ┆ e04-4df3-a ┆ Глазково  ┆        ┆   ┆           ┆           ┆           ┆           │\n",
       "│            ┆ fff-76fccf ┆           ┆        ┆   ┆           ┆           ┆           ┆           │\n",
       "│            ┆ …          ┆           ┆        ┆   ┆           ┆           ┆           ┆           │\n",
       "│ 2025-06-05 ┆ 9b15a280-5 ┆ Иваново   ┆ 0      ┆ … ┆ 0         ┆ 0         ┆ 0         ┆ 0         │\n",
       "│            ┆ 4fb-4ba6-8 ┆           ┆        ┆   ┆           ┆           ┆           ┆           │\n",
       "│            ┆ afe-31dfa3 ┆           ┆        ┆   ┆           ┆           ┆           ┆           │\n",
       "│            ┆ …          ┆           ┆        ┆   ┆           ┆           ┆           ┆           │\n",
       "│ 2025-06-05 ┆ e3c80fed-f ┆ Одинцово  ┆ 276    ┆ … ┆ 0         ┆ 0         ┆ 0         ┆ 0         │\n",
       "│            ┆ c13-4c3f-a ┆           ┆        ┆   ┆           ┆           ┆           ┆           │\n",
       "│            ┆ 6df-af3a3f ┆           ┆        ┆   ┆           ┆           ┆           ┆           │\n",
       "│            ┆ …          ┆           ┆        ┆   ┆           ┆           ┆           ┆           │\n",
       "│ 2025-06-05 ┆ 6818fe8d-8 ┆ посёлок   ┆ 0      ┆ … ┆ 0         ┆ 0         ┆ 0         ┆ 0         │\n",
       "│            ┆ f5e-4f93-a ┆ Большое   ┆        ┆   ┆           ┆           ┆           ┆           │\n",
       "│            ┆ 5d6-8e7ebd ┆ Исаково   ┆        ┆   ┆           ┆           ┆           ┆           │\n",
       "│            ┆ …          ┆           ┆        ┆   ┆           ┆           ┆           ┆           │\n",
       "│ 2025-06-05 ┆ a1d713a3-5 ┆ Белорецк  ┆ 0      ┆ … ┆ 0         ┆ 0         ┆ 0         ┆ 0         │\n",
       "│            ┆ b0a-4f5d-a ┆           ┆        ┆   ┆           ┆           ┆           ┆           │\n",
       "│            ┆ ace-636c11 ┆           ┆        ┆   ┆           ┆           ┆           ┆           │\n",
       "│            ┆ …          ┆           ┆        ┆   ┆           ┆           ┆           ┆           │\n",
       "│ 2025-06-05 ┆ c0bdb685-1 ┆ Ростов-на ┆ 0      ┆ … ┆ 0         ┆ 0         ┆ 0         ┆ 0         │\n",
       "│            ┆ a35-45ca-8 ┆ -Дону     ┆        ┆   ┆           ┆           ┆           ┆           │\n",
       "│            ┆ 812-cd3db4 ┆           ┆        ┆   ┆           ┆           ┆           ┆           │\n",
       "│            ┆ …          ┆           ┆        ┆   ┆           ┆           ┆           ┆           │\n",
       "│ 2025-06-05 ┆ c259e6bf-5 ┆ Котельнич ┆ 0      ┆ … ┆ 0         ┆ 0         ┆ 0         ┆ 0         │\n",
       "│            ┆ 17a-4f87-b ┆           ┆        ┆   ┆           ┆           ┆           ┆           │\n",
       "│            ┆ a0c-99c7ea ┆           ┆        ┆   ┆           ┆           ┆           ┆           │\n",
       "│            ┆ …          ┆           ┆        ┆   ┆           ┆           ┆           ┆           │\n",
       "│ 2025-06-05 ┆ 1fe21d10-1 ┆ посёлок   ┆ 0      ┆ … ┆ 0         ┆ 0         ┆ 0         ┆ 0         │\n",
       "│            ┆ 127-4881-9 ┆ городског ┆        ┆   ┆           ┆           ┆           ┆           │\n",
       "│            ┆ ba6-6aca28 ┆ о типа    ┆        ┆   ┆           ┆           ┆           ┆           │\n",
       "│            ┆ …          ┆ Молоко…   ┆        ┆   ┆           ┆           ┆           ┆           │\n",
       "└────────────┴────────────┴───────────┴────────┴───┴───────────┴───────────┴───────────┴───────────┘"
      ]
     },
     "execution_count": 7,
     "metadata": {},
     "output_type": "execute_result"
    }
   ],
   "source": [
    "query_text = \"\"\"--sql\n",
    "    SELECT\n",
    "        *\n",
    "    FROM db1.t_mobile_report_rep_mobile_full_mv\n",
    "    ORDER BY report_date desc\n",
    "    limit 10\n",
    "    \"\"\"\n",
    "\n",
    "ch.query_run(query_text)\n"
   ]
  },
  {
   "cell_type": "markdown",
   "id": "04e4e29e",
   "metadata": {},
   "source": [
    "### delete a part\n"
   ]
  },
  {
   "cell_type": "code",
   "execution_count": null,
   "id": "f4087941",
   "metadata": {},
   "outputs": [],
   "source": [
    "query_text = \"\"\"--sql\n",
    "    ALTER TABLE db1.t_mobile_report_rep_mobile_full DELETE WHERE report_date = '2025-07-17'\n",
    "    \"\"\"\n",
    "\n",
    "ch.query_run(query_text)\n"
   ]
  },
  {
   "cell_type": "markdown",
   "id": "99fd43bb",
   "metadata": {},
   "source": [
    "### drop mv"
   ]
  },
  {
   "cell_type": "code",
   "execution_count": 4,
   "id": "2a6ee9fb",
   "metadata": {},
   "outputs": [
    {
     "data": {
      "text/html": [
       "<div><style>\n",
       ".dataframe > thead > tr,\n",
       ".dataframe > tbody > tr {\n",
       "  text-align: right;\n",
       "  white-space: pre-wrap;\n",
       "}\n",
       "</style>\n",
       "<small>shape: (0, 0)</small><table border=\"1\" class=\"dataframe\"><thead><tr></tr><tr></tr></thead><tbody></tbody></table></div>"
      ],
      "text/plain": [
       "shape: (0, 0)\n",
       "┌┐\n",
       "╞╡\n",
       "└┘"
      ]
     },
     "execution_count": 4,
     "metadata": {},
     "output_type": "execute_result"
    }
   ],
   "source": [
    "query_text = \"\"\"--sql\n",
    "    DROP TABLE db1.t_mobile_report_rep_mobile_full_mv\n",
    "    \"\"\"\n",
    "\n",
    "ch.query_run(query_text)"
   ]
  },
  {
   "cell_type": "markdown",
   "id": "4635d7ca",
   "metadata": {},
   "source": [
    "### drop table"
   ]
  },
  {
   "cell_type": "code",
   "execution_count": 3,
   "id": "2ef9a3a4",
   "metadata": {},
   "outputs": [
    {
     "data": {
      "text/html": [
       "<div><style>\n",
       ".dataframe > thead > tr,\n",
       ".dataframe > tbody > tr {\n",
       "  text-align: right;\n",
       "  white-space: pre-wrap;\n",
       "}\n",
       "</style>\n",
       "<small>shape: (0, 0)</small><table border=\"1\" class=\"dataframe\"><thead><tr></tr><tr></tr></thead><tbody></tbody></table></div>"
      ],
      "text/plain": [
       "shape: (0, 0)\n",
       "┌┐\n",
       "╞╡\n",
       "└┘"
      ]
     },
     "execution_count": 3,
     "metadata": {},
     "output_type": "execute_result"
    }
   ],
   "source": [
    "query_text = \"\"\"--sql\n",
    "    DROP TABLE db1.t_mobile_report_rep_mobile_full\n",
    "    \"\"\"\n",
    "\n",
    "ch.query_run(query_text)"
   ]
  },
  {
   "cell_type": "markdown",
   "id": "797f4b0a",
   "metadata": {},
   "source": [
    "### refresh mv"
   ]
  },
  {
   "cell_type": "code",
   "execution_count": null,
   "id": "9e919253",
   "metadata": {},
   "outputs": [],
   "source": [
    "query_text = \"\"\"\n",
    "SYSTEM REFRESH VIEW db1.t_mobile_report_rep_mobile_full_mv\n",
    "\"\"\"\n",
    "\n",
    "ch.query_run(query_text)"
   ]
  }
 ],
 "metadata": {
  "jupytext": {
   "formats": "ipynb,md"
  },
  "kernelspec": {
   "display_name": "myenv",
   "language": "python",
   "name": "python3"
  },
  "language_info": {
   "codemirror_mode": {
    "name": "ipython",
    "version": 3
   },
   "file_extension": ".py",
   "mimetype": "text/x-python",
   "name": "python",
   "nbconvert_exporter": "python",
   "pygments_lexer": "ipython3",
   "version": "3.12.11"
  }
 },
 "nbformat": 4,
 "nbformat_minor": 5
}

{
 "cells": [
  {
   "cell_type": "code",
   "execution_count": 1,
   "id": "719b2d55",
   "metadata": {},
   "outputs": [],
   "source": [
    "import clickhouse_connect\n",
    "import datetime\n",
    "import os\n",
    "import pytz\n",
    "import pandas as pd\n",
    "from dateutil.relativedelta import relativedelta\n",
    "from dotenv import load_dotenv\n",
    "import sys\n",
    "sys.path.append('/home/boris/Documents/Work/analytics/Clickhouse')\n",
    "from clickhouse_client import ClickHouse_client\n",
    "ch = ClickHouse_client()\n",
    "pd.set_option('display.max_rows', 1000)"
   ]
  },
  {
   "cell_type": "markdown",
   "id": "4fb212b6",
   "metadata": {},
   "source": [
    "___\n",
    "## Tags: #tools\n",
    "___"
   ]
  },
  {
   "cell_type": "code",
   "execution_count": 2,
   "id": "e429c2ee",
   "metadata": {},
   "outputs": [
    {
     "data": {
      "text/html": [
       "<div><style>\n",
       ".dataframe > thead > tr,\n",
       ".dataframe > tbody > tr {\n",
       "  text-align: right;\n",
       "  white-space: pre-wrap;\n",
       "}\n",
       "</style>\n",
       "<small>shape: (55, 7)</small><table border=\"1\" class=\"dataframe\"><thead><tr><th>view</th><th>status</th><th>next_refresh_time</th><th>exception</th><th>retry</th><th>progress</th><th>read_rows</th></tr><tr><td>str</td><td>str</td><td>datetime[ns]</td><td>str</td><td>i64</td><td>f64</td><td>i64</td></tr></thead><tbody><tr><td>&quot;requests_st_support_mv&quot;</td><td>&quot;Scheduled&quot;</td><td>2025-07-23 03:00:00</td><td>&quot;&quot;</td><td>0</td><td>205.0</td><td>205</td></tr><tr><td>&quot;companies_dir_partner_mv&quot;</td><td>&quot;Scheduled&quot;</td><td>2025-07-23 03:01:20</td><td>&quot;&quot;</td><td>0</td><td>36054.0</td><td>36054</td></tr><tr><td>&quot;users_st_partner_mv&quot;</td><td>&quot;Scheduled&quot;</td><td>2025-07-23 03:01:39</td><td>&quot;&quot;</td><td>0</td><td>7.224022e6</td><td>7224022</td></tr><tr><td>&quot;cameras_st_asgard_mv&quot;</td><td>&quot;Scheduled&quot;</td><td>2025-07-23 03:02:38</td><td>&quot;&quot;</td><td>0</td><td>4.7577272e7</td><td>47577272</td></tr><tr><td>&quot;citizen_payments_dir_mobile_mv&quot;</td><td>&quot;Scheduled&quot;</td><td>2025-07-23 03:02:58</td><td>&quot;&quot;</td><td>0</td><td>2.053822e6</td><td>2053822</td></tr><tr><td>&hellip;</td><td>&hellip;</td><td>&hellip;</td><td>&hellip;</td><td>&hellip;</td><td>&hellip;</td><td>&hellip;</td></tr><tr><td>&quot;t_device_billins_mv&quot;</td><td>&quot;Scheduled&quot;</td><td>2025-07-23 05:25:00</td><td>&quot;&quot;</td><td>0</td><td>1.0</td><td>46955967</td></tr><tr><td>&quot;t_subscribtions_citizens_by_co…</td><td>&quot;Scheduled&quot;</td><td>2025-07-23 05:25:00</td><td>&quot;&quot;</td><td>0</td><td>1.004158</td><td>3822129250</td></tr><tr><td>&quot;t_subscribtions_citizens_by_co…</td><td>&quot;Scheduled&quot;</td><td>2025-07-23 05:27:00</td><td>&quot;&quot;</td><td>0</td><td>1.0</td><td>3921998729</td></tr><tr><td>&quot;t_billings_cohorts_mv&quot;</td><td>&quot;Scheduled&quot;</td><td>2025-07-23 05:30:00</td><td>&quot;&quot;</td><td>0</td><td>1.0</td><td>51592051</td></tr><tr><td>&quot;t_count_of_subscribes_by_adres…</td><td>&quot;Scheduled&quot;</td><td>2025-07-23 05:33:00</td><td>&quot;&quot;</td><td>0</td><td>1.0</td><td>1317650155</td></tr></tbody></table></div>"
      ],
      "text/plain": [
       "shape: (55, 7)\n",
       "┌───────────────────┬───────────┬───────────────────┬───────────┬───────┬─────────────┬────────────┐\n",
       "│ view              ┆ status    ┆ next_refresh_time ┆ exception ┆ retry ┆ progress    ┆ read_rows  │\n",
       "│ ---               ┆ ---       ┆ ---               ┆ ---       ┆ ---   ┆ ---         ┆ ---        │\n",
       "│ str               ┆ str       ┆ datetime[ns]      ┆ str       ┆ i64   ┆ f64         ┆ i64        │\n",
       "╞═══════════════════╪═══════════╪═══════════════════╪═══════════╪═══════╪═════════════╪════════════╡\n",
       "│ requests_st_suppo ┆ Scheduled ┆ 2025-07-23        ┆           ┆ 0     ┆ 205.0       ┆ 205        │\n",
       "│ rt_mv             ┆           ┆ 03:00:00          ┆           ┆       ┆             ┆            │\n",
       "│ companies_dir_par ┆ Scheduled ┆ 2025-07-23        ┆           ┆ 0     ┆ 36054.0     ┆ 36054      │\n",
       "│ tner_mv           ┆           ┆ 03:01:20          ┆           ┆       ┆             ┆            │\n",
       "│ users_st_partner_ ┆ Scheduled ┆ 2025-07-23        ┆           ┆ 0     ┆ 7.224022e6  ┆ 7224022    │\n",
       "│ mv                ┆           ┆ 03:01:39          ┆           ┆       ┆             ┆            │\n",
       "│ cameras_st_asgard ┆ Scheduled ┆ 2025-07-23        ┆           ┆ 0     ┆ 4.7577272e7 ┆ 47577272   │\n",
       "│ _mv               ┆           ┆ 03:02:38          ┆           ┆       ┆             ┆            │\n",
       "│ citizen_payments_ ┆ Scheduled ┆ 2025-07-23        ┆           ┆ 0     ┆ 2.053822e6  ┆ 2053822    │\n",
       "│ dir_mobile_mv     ┆           ┆ 03:02:58          ┆           ┆       ┆             ┆            │\n",
       "│ …                 ┆ …         ┆ …                 ┆ …         ┆ …     ┆ …           ┆ …          │\n",
       "│ t_device_billins_ ┆ Scheduled ┆ 2025-07-23        ┆           ┆ 0     ┆ 1.0         ┆ 46955967   │\n",
       "│ mv                ┆           ┆ 05:25:00          ┆           ┆       ┆             ┆            │\n",
       "│ t_subscribtions_c ┆ Scheduled ┆ 2025-07-23        ┆           ┆ 0     ┆ 1.004158    ┆ 3822129250 │\n",
       "│ itizens_by_co…    ┆           ┆ 05:25:00          ┆           ┆       ┆             ┆            │\n",
       "│ t_subscribtions_c ┆ Scheduled ┆ 2025-07-23        ┆           ┆ 0     ┆ 1.0         ┆ 3921998729 │\n",
       "│ itizens_by_co…    ┆           ┆ 05:27:00          ┆           ┆       ┆             ┆            │\n",
       "│ t_billings_cohort ┆ Scheduled ┆ 2025-07-23        ┆           ┆ 0     ┆ 1.0         ┆ 51592051   │\n",
       "│ s_mv              ┆           ┆ 05:30:00          ┆           ┆       ┆             ┆            │\n",
       "│ t_count_of_subscr ┆ Scheduled ┆ 2025-07-23        ┆           ┆ 0     ┆ 1.0         ┆ 1317650155 │\n",
       "│ ibes_by_adres…    ┆           ┆ 05:33:00          ┆           ┆       ┆             ┆            │\n",
       "└───────────────────┴───────────┴───────────────────┴───────────┴───────┴─────────────┴────────────┘"
      ]
     },
     "execution_count": 2,
     "metadata": {},
     "output_type": "execute_result"
    }
   ],
   "source": [
    "query_text = \"\"\"--sql\n",
    "    SELECT view, status, next_refresh_time, exception, retry,progress, read_rows\n",
    "    FROM system.view_refreshes\n",
    "    ORDER BY next_refresh_time\n",
    "\"\"\"\n",
    "ch.query_run(query_text)"
   ]
  }
 ],
 "metadata": {
  "jupytext": {
   "formats": "ipynb,md"
  },
  "kernelspec": {
   "display_name": "myenv",
   "language": "python",
   "name": "python3"
  },
  "language_info": {
   "codemirror_mode": {
    "name": "ipython",
    "version": 3
   },
   "file_extension": ".py",
   "mimetype": "text/x-python",
   "name": "python",
   "nbconvert_exporter": "python",
   "pygments_lexer": "ipython3",
   "version": "3.12.11"
  }
 },
 "nbformat": 4,
 "nbformat_minor": 5
}

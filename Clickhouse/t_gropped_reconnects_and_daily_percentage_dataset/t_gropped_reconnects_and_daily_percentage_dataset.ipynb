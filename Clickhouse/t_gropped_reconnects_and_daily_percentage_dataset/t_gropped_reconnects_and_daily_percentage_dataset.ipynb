{
 "cells": [
  {
   "cell_type": "markdown",
   "id": "9ffb1bea",
   "metadata": {},
   "source": [
    "## Start"
   ]
  },
  {
   "cell_type": "code",
   "execution_count": 1,
   "id": "725684b0",
   "metadata": {},
   "outputs": [],
   "source": [
    "import clickhouse_connect\n",
    "import datetime\n",
    "import os\n",
    "import pytz\n",
    "import pandas as pd\n",
    "from dateutil.relativedelta import relativedelta\n",
    "from dotenv import load_dotenv\n",
    "\n",
    "import sys\n",
    "sys.path.append('/home/boris/Documents/Work/analytics/Clickhouse')\n",
    "from clickhouse_client import ClickHouse_client\n",
    "ch = ClickHouse_client()\n",
    "pd.set_option('display.max_rows', 1000)"
   ]
  },
  {
   "cell_type": "markdown",
   "id": "6e7842a1",
   "metadata": {},
   "source": [
    "___\n",
    "### Tags: #Tables \n",
    "\n",
    "### Links:\n",
    "\n",
    "[[intercoms_st_asgard]]\n",
    "\n",
    "[[cameras_st_asgard]]\n",
    "\n",
    "[[cameras_dir_asgard]]\n",
    "\n",
    "[[intercoms_dir_asgard]]\n",
    "\n",
    "[[intercoms_daily_percentage_online_st_asgard]]\n",
    "\n",
    "[[reconnects_intercoms_st_asgard]]\n",
    "\n",
    "[[companies_dir_partner]]\n",
    "___"
   ]
  },
  {
   "cell_type": "code",
   "execution_count": 3,
   "id": "6288475c",
   "metadata": {},
   "outputs": [
    {
     "name": "stdout",
     "output_type": "stream",
     "text": [
      "(\n",
      "    `report_date` Date,\n",
      "    `software_version` String,\n",
      "    `partner_uuid` String,\n",
      "    `hardware_version` String,\n",
      "    `camera_fw_version` String,\n",
      "    `company_name` String,\n",
      "    `partner_lk` String,\n",
      "    `tin` String,\n",
      "    `kpp` String,\n",
      "    `daily_online` Int64,\n",
      "    `avg_onlinePercent` Float64,\n",
      "    `avg_reconnects` Float64,\n",
      "    `intercom_count` UInt64,\n",
      "    `if_onlinePercent_not_0_count` UInt64\n",
      ")\n"
     ]
    }
   ],
   "source": [
    "query_text = \"\"\"--sql\n",
    "    SELECT\n",
    "    report_date,\n",
    "    software_version,\n",
    "    partner_uuid,\n",
    "    hardware_version,\n",
    "    camera_fw_version,\n",
    "    company_name,\n",
    "    partner_lk,\n",
    "    tin,\n",
    "    kpp,\n",
    "    SUM(is_online) AS daily_online,\n",
    "    AVG(onlinePercent) AS avg_onlinePercent,\n",
    "    AVG(reconnects) AS avg_reconnects,\n",
    "    COUNT(intercom_uuid) AS intercom_count,\n",
    "    countIf(onlinePercent != 0) AS if_onlinePercent_not_0_count\n",
    "FROM\n",
    "(\n",
    "    SELECT\n",
    "        isa.report_date   AS report_date,\n",
    "        isa.intercom_uuid  AS intercom_uuid,\n",
    "        isa.is_online  AS is_online,\n",
    "        isa.software_version   AS software_version,\n",
    "        isa.partner_uuid AS partner_uuid,\n",
    "        hardware_version AS hardware_version,\n",
    "        ifNull(rdp.onlinePercent, 0) AS onlinePercent,\n",
    "        ifNull(rdp.reconnects, 0) AS reconnects,\n",
    "        cs.camera_fw_version  AS camera_fw_version,\n",
    "        company_name   AS company_name,\n",
    "        partner_lk  AS partner_lk,\n",
    "        tin  AS tin,\n",
    "        kpp  AS kpp\n",
    "    FROM db1.intercoms_st_asgard_ch AS isa\n",
    "    LEFT JOIN\n",
    "    (\n",
    "        SELECT\n",
    "            csa.report_date,\n",
    "            cda.intercom_uuid,\n",
    "            csa.camera_fw_version\n",
    "        FROM db1.cameras_st_asgard_ch AS csa\n",
    "        LEFT JOIN db1.cameras_dir_asgard_ch AS cda USING (camera_uuid)\n",
    "    ) AS cs\n",
    "        ON isa.intercom_uuid = cs.intercom_uuid\n",
    "       AND isa.report_date = cs.report_date\n",
    "    LEFT JOIN db1.intercoms_dir_asgard_ch AS idp\n",
    "        ON isa.intercom_uuid = idp.intercom_uuid\n",
    "    LEFT JOIN\n",
    "    (\n",
    "        SELECT\n",
    "            dpo.intercom_uuid  AS intercom_uuid,\n",
    "            dpo.report_date  AS report_date,\n",
    "            dpo.onlinePercent AS onlinePercent,\n",
    "            ifNull(ri.count, 0) AS reconnects\n",
    "        FROM db1.intercoms_daily_percentage_online_st_asgard_ch AS dpo\n",
    "        LEFT JOIN db1.reconnects_intercoms_st_asgard_ch AS ri\n",
    "            ON ri.report_date = dpo.report_date\n",
    "           AND ri.intercom_uuid = dpo.intercom_uuid\n",
    "        WHERE dpo.report_date >= toDate('2024-02-06')\n",
    "    ) AS rdp\n",
    "        ON isa.report_date = rdp.report_date\n",
    "       AND isa.intercom_uuid = rdp.intercom_uuid\n",
    "    LEFT JOIN db1.companies_dir_partner_ch AS cdp\n",
    "        ON isa.partner_uuid = cdp.partner_uuid\n",
    ")\n",
    "GROUP BY\n",
    "    report_date,\n",
    "    software_version,\n",
    "    camera_fw_version,\n",
    "    partner_uuid,\n",
    "    hardware_version,\n",
    "    company_name,\n",
    "    partner_lk,\n",
    "    tin,\n",
    "    kpp\n",
    "    limit 10\n",
    "    \"\"\"\n",
    "\n",
    "ch.get_schema(query_text)"
   ]
  },
  {
   "cell_type": "code",
   "execution_count": 5,
   "id": "acaee0fd",
   "metadata": {},
   "outputs": [
    {
     "data": {
      "text/html": [
       "<div><style>\n",
       ".dataframe > thead > tr,\n",
       ".dataframe > tbody > tr {\n",
       "  text-align: right;\n",
       "  white-space: pre-wrap;\n",
       "}\n",
       "</style>\n",
       "<small>shape: (0, 0)</small><table border=\"1\" class=\"dataframe\"><thead><tr></tr><tr></tr></thead><tbody></tbody></table></div>"
      ],
      "text/plain": [
       "shape: (0, 0)\n",
       "┌┐\n",
       "╞╡\n",
       "└┘"
      ]
     },
     "execution_count": 5,
     "metadata": {},
     "output_type": "execute_result"
    }
   ],
   "source": [
    "query_text = \"\"\"--sql\n",
    "CREATE TABLE db1.t_gropped_reconnects_and_daily_percentage_dataset\n",
    "(\n",
    "    `report_date` Date,\n",
    "    `software_version` String,\n",
    "    `partner_uuid` String,\n",
    "    `hardware_version` String,\n",
    "    `camera_fw_version` String,\n",
    "    `company_name` String,\n",
    "    `partner_lk` String,\n",
    "    `tin` String,\n",
    "    `kpp` String,\n",
    "    `daily_online` Int64,\n",
    "    `avg_onlinePercent` Float64,\n",
    "    `avg_reconnects` Float64,\n",
    "    `intercom_count` UInt64,\n",
    "    `if_onlinePercent_not_0_count` UInt64\n",
    ")\n",
    "ENGINE = MergeTree()\n",
    "ORDER BY partner_uuid\n",
    "\"\"\"\n",
    "\n",
    "ch.query_run(query_text)"
   ]
  },
  {
   "cell_type": "code",
   "execution_count": 7,
   "id": "a10572c0",
   "metadata": {},
   "outputs": [
    {
     "data": {
      "text/html": [
       "<div><style>\n",
       ".dataframe > thead > tr,\n",
       ".dataframe > tbody > tr {\n",
       "  text-align: right;\n",
       "  white-space: pre-wrap;\n",
       "}\n",
       "</style>\n",
       "<small>shape: (0, 0)</small><table border=\"1\" class=\"dataframe\"><thead><tr></tr><tr></tr></thead><tbody></tbody></table></div>"
      ],
      "text/plain": [
       "shape: (0, 0)\n",
       "┌┐\n",
       "╞╡\n",
       "└┘"
      ]
     },
     "execution_count": 7,
     "metadata": {},
     "output_type": "execute_result"
    }
   ],
   "source": [
    "query_text = \"\"\"--sql\n",
    "    CREATE MATERIALIZED VIEW db1.t_gropped_reconnects_and_daily_percentage_dataset_mv\n",
    "    REFRESH EVERY 1 DAY OFFSET 4 HOUR 5 MINUTE TO db1.t_gropped_reconnects_and_daily_percentage_dataset AS\n",
    "      SELECT\n",
    "    report_date,\n",
    "    software_version,\n",
    "    partner_uuid,\n",
    "    hardware_version,\n",
    "    camera_fw_version,\n",
    "    company_name,\n",
    "    partner_lk,\n",
    "    tin,\n",
    "    kpp,\n",
    "    SUM(is_online) AS daily_online,\n",
    "    AVG(onlinePercent) AS avg_onlinePercent,\n",
    "    AVG(reconnects) AS avg_reconnects,\n",
    "    COUNT(intercom_uuid) AS intercom_count,\n",
    "    countIf(onlinePercent != 0) AS if_onlinePercent_not_0_count\n",
    "FROM\n",
    "(\n",
    "    SELECT\n",
    "        isa.report_date   AS report_date,\n",
    "        isa.intercom_uuid  AS intercom_uuid,\n",
    "        isa.is_online  AS is_online,\n",
    "        isa.software_version   AS software_version,\n",
    "        isa.partner_uuid AS partner_uuid,\n",
    "        hardware_version AS hardware_version,\n",
    "        ifNull(rdp.onlinePercent, 0) AS onlinePercent,\n",
    "        ifNull(rdp.reconnects, 0) AS reconnects,\n",
    "        cs.camera_fw_version  AS camera_fw_version,\n",
    "        company_name   AS company_name,\n",
    "        partner_lk  AS partner_lk,\n",
    "        tin  AS tin,\n",
    "        kpp  AS kpp\n",
    "    FROM db1.intercoms_st_asgard_ch AS isa\n",
    "    LEFT JOIN\n",
    "    (\n",
    "        SELECT\n",
    "            csa.report_date,\n",
    "            cda.intercom_uuid,\n",
    "            csa.camera_fw_version\n",
    "        FROM db1.cameras_st_asgard_ch AS csa\n",
    "        LEFT JOIN db1.cameras_dir_asgard_ch AS cda USING (camera_uuid)\n",
    "    ) AS cs\n",
    "        ON isa.intercom_uuid = cs.intercom_uuid\n",
    "       AND isa.report_date = cs.report_date\n",
    "    LEFT JOIN db1.intercoms_dir_asgard_ch AS idp\n",
    "        ON isa.intercom_uuid = idp.intercom_uuid\n",
    "    LEFT JOIN\n",
    "    (\n",
    "        SELECT\n",
    "            dpo.intercom_uuid  AS intercom_uuid,\n",
    "            dpo.report_date  AS report_date,\n",
    "            dpo.onlinePercent AS onlinePercent,\n",
    "            ifNull(ri.count, 0) AS reconnects\n",
    "        FROM db1.intercoms_daily_percentage_online_st_asgard_ch AS dpo\n",
    "        LEFT JOIN db1.reconnects_intercoms_st_asgard_ch AS ri\n",
    "            ON ri.report_date = dpo.report_date\n",
    "           AND ri.intercom_uuid = dpo.intercom_uuid\n",
    "        WHERE dpo.report_date >= toDate('2024-02-06')\n",
    "    ) AS rdp\n",
    "        ON isa.report_date = rdp.report_date\n",
    "       AND isa.intercom_uuid = rdp.intercom_uuid\n",
    "    LEFT JOIN db1.companies_dir_partner_ch AS cdp\n",
    "        ON isa.partner_uuid = cdp.partner_uuid\n",
    ")\n",
    "GROUP BY\n",
    "    report_date,\n",
    "    software_version,\n",
    "    camera_fw_version,\n",
    "    partner_uuid,\n",
    "    hardware_version,\n",
    "    company_name,\n",
    "    partner_lk,\n",
    "    tin,\n",
    "    kpp\n",
    "    \"\"\"\n",
    "\n",
    "ch.query_run(query_text)"
   ]
  },
  {
   "cell_type": "markdown",
   "id": "f5882480",
   "metadata": {},
   "source": [
    "___\n",
    "## Tools\n",
    "___\n",
    "### query\n"
   ]
  },
  {
   "cell_type": "code",
   "execution_count": 18,
   "id": "839f7aea",
   "metadata": {},
   "outputs": [
    {
     "data": {
      "text/html": [
       "<div><style>\n",
       ".dataframe > thead > tr,\n",
       ".dataframe > tbody > tr {\n",
       "  text-align: right;\n",
       "  white-space: pre-wrap;\n",
       "}\n",
       "</style>\n",
       "<small>shape: (100, 14)</small><table border=\"1\" class=\"dataframe\"><thead><tr><th>report_date</th><th>software_version</th><th>partner_uuid</th><th>hardware_version</th><th>camera_fw_version</th><th>company_name</th><th>partner_lk</th><th>tin</th><th>kpp</th><th>daily_online</th><th>avg_onlinePercent</th><th>avg_reconnects</th><th>intercom_count</th><th>if_onlinePercent_not_0_count</th></tr><tr><td>date</td><td>str</td><td>str</td><td>str</td><td>str</td><td>str</td><td>str</td><td>str</td><td>str</td><td>i64</td><td>f64</td><td>f64</td><td>i64</td><td>i64</td></tr></thead><tbody><tr><td>2025-08-11</td><td>&quot;9.04&quot;</td><td>&quot;00be0483-e667-4d7e-a462-64f1eb…</td><td>&quot;5.8&quot;</td><td>&quot;4.17&quot;</td><td>&quot;ООО Геркон&quot;</td><td>&quot;122237&quot;</td><td>&quot;6606003473&quot;</td><td>&quot;668601001&quot;</td><td>0</td><td>0.0</td><td>0.0</td><td>3</td><td>0</td></tr><tr><td>2025-08-11</td><td>&quot;6.76&quot;</td><td>&quot;0117ff55-4d22-4ae1-8745-bf2402…</td><td>&quot;6.00&quot;</td><td>&quot;&quot;</td><td>&quot;ИП Курепов Михаил Bалентинович&quot;</td><td>&quot;120567&quot;</td><td>&quot;544510752702&quot;</td><td>&quot;&quot;</td><td>1</td><td>99.0</td><td>1.0</td><td>1</td><td>1</td></tr><tr><td>2025-08-11</td><td>&quot;9.01&quot;</td><td>&quot;010cd1e6-7f7b-4613-9209-96b28d…</td><td>&quot;5.50&quot;</td><td>&quot;4.12&quot;</td><td>&quot;ООО &quot;Домофон Сервис&quot; ПРО г.Кот…</td><td>&quot;133830&quot;</td><td>&quot;2904021093&quot;</td><td>&quot;290401001&quot;</td><td>1</td><td>31.0</td><td>0.333333</td><td>3</td><td>1</td></tr><tr><td>2025-08-11</td><td>&quot;9.00&quot;</td><td>&quot;00be0483-e667-4d7e-a462-64f1eb…</td><td>&quot;5.8&quot;</td><td>&quot;4.14&quot;</td><td>&quot;ООО Геркон&quot;</td><td>&quot;122237&quot;</td><td>&quot;6606003473&quot;</td><td>&quot;668601001&quot;</td><td>1</td><td>100.0</td><td>1.0</td><td>1</td><td>1</td></tr><tr><td>2025-08-11</td><td>&quot;9.01&quot;</td><td>&quot;010cd1e6-7f7b-4613-9209-96b28d…</td><td>&quot;5.8&quot;</td><td>&quot;4.12&quot;</td><td>&quot;ООО &quot;Домофон Сервис&quot; ПРО г.Кот…</td><td>&quot;133830&quot;</td><td>&quot;2904021093&quot;</td><td>&quot;290401001&quot;</td><td>1</td><td>49.5</td><td>0.0</td><td>2</td><td>1</td></tr><tr><td>&hellip;</td><td>&hellip;</td><td>&hellip;</td><td>&hellip;</td><td>&hellip;</td><td>&hellip;</td><td>&hellip;</td><td>&hellip;</td><td>&hellip;</td><td>&hellip;</td><td>&hellip;</td><td>&hellip;</td><td>&hellip;</td><td>&hellip;</td></tr><tr><td>2025-08-11</td><td>&quot;9.02&quot;</td><td>&quot;0e7236ac-b8bd-4ab0-8634-d165ad…</td><td>&quot;5.9&quot;</td><td>&quot;4.14&quot;</td><td>&quot;Цифрал Сервис УК&quot;</td><td>&quot;120345&quot;</td><td>&quot;&quot;</td><td>&quot;&quot;</td><td>5</td><td>99.2</td><td>1.8</td><td>5</td><td>5</td></tr><tr><td>2025-08-11</td><td>&quot;5.96&quot;</td><td>&quot;0e7236ac-b8bd-4ab0-8634-d165ad…</td><td>&quot;5.50&quot;</td><td>&quot;4.11&quot;</td><td>&quot;Цифрал Сервис УК&quot;</td><td>&quot;120345&quot;</td><td>&quot;&quot;</td><td>&quot;&quot;</td><td>3</td><td>59.4</td><td>2.4</td><td>5</td><td>3</td></tr><tr><td>2025-08-11</td><td>&quot;5.95&quot;</td><td>&quot;0e7236ac-b8bd-4ab0-8634-d165ad…</td><td>&quot;5.7&quot;</td><td>&quot;&quot;</td><td>&quot;Цифрал Сервис УК&quot;</td><td>&quot;120345&quot;</td><td>&quot;&quot;</td><td>&quot;&quot;</td><td>0</td><td>0.0</td><td>0.0</td><td>1</td><td>0</td></tr><tr><td>2025-08-11</td><td>&quot;5.88&quot;</td><td>&quot;0e7236ac-b8bd-4ab0-8634-d165ad…</td><td>&quot;5.6&quot;</td><td>&quot;&quot;</td><td>&quot;Цифрал Сервис УК&quot;</td><td>&quot;120345&quot;</td><td>&quot;&quot;</td><td>&quot;&quot;</td><td>0</td><td>0.0</td><td>0.0</td><td>1</td><td>0</td></tr><tr><td>2025-08-11</td><td>&quot;&quot;</td><td>&quot;0e7236ac-b8bd-4ab0-8634-d165ad…</td><td>&quot;5.50&quot;</td><td>&quot;&quot;</td><td>&quot;Цифрал Сервис УК&quot;</td><td>&quot;120345&quot;</td><td>&quot;&quot;</td><td>&quot;&quot;</td><td>0</td><td>0.0</td><td>0.0</td><td>1</td><td>0</td></tr></tbody></table></div>"
      ],
      "text/plain": [
       "shape: (100, 14)\n",
       "┌───────────┬───────────┬───────────┬───────────┬───┬───────────┬───────────┬───────────┬──────────┐\n",
       "│ report_da ┆ software_ ┆ partner_u ┆ hardware_ ┆ … ┆ avg_onlin ┆ avg_recon ┆ intercom_ ┆ if_onlin │\n",
       "│ te        ┆ version   ┆ uid       ┆ version   ┆   ┆ ePercent  ┆ nects     ┆ count     ┆ ePercent │\n",
       "│ ---       ┆ ---       ┆ ---       ┆ ---       ┆   ┆ ---       ┆ ---       ┆ ---       ┆ _not_0_c │\n",
       "│ date      ┆ str       ┆ str       ┆ str       ┆   ┆ f64       ┆ f64       ┆ i64       ┆ ount     │\n",
       "│           ┆           ┆           ┆           ┆   ┆           ┆           ┆           ┆ ---      │\n",
       "│           ┆           ┆           ┆           ┆   ┆           ┆           ┆           ┆ i64      │\n",
       "╞═══════════╪═══════════╪═══════════╪═══════════╪═══╪═══════════╪═══════════╪═══════════╪══════════╡\n",
       "│ 2025-08-1 ┆ 9.04      ┆ 00be0483- ┆ 5.8       ┆ … ┆ 0.0       ┆ 0.0       ┆ 3         ┆ 0        │\n",
       "│ 1         ┆           ┆ e667-4d7e ┆           ┆   ┆           ┆           ┆           ┆          │\n",
       "│           ┆           ┆ -a462-64f ┆           ┆   ┆           ┆           ┆           ┆          │\n",
       "│           ┆           ┆ 1eb…      ┆           ┆   ┆           ┆           ┆           ┆          │\n",
       "│ 2025-08-1 ┆ 6.76      ┆ 0117ff55- ┆ 6.00      ┆ … ┆ 99.0      ┆ 1.0       ┆ 1         ┆ 1        │\n",
       "│ 1         ┆           ┆ 4d22-4ae1 ┆           ┆   ┆           ┆           ┆           ┆          │\n",
       "│           ┆           ┆ -8745-bf2 ┆           ┆   ┆           ┆           ┆           ┆          │\n",
       "│           ┆           ┆ 402…      ┆           ┆   ┆           ┆           ┆           ┆          │\n",
       "│ 2025-08-1 ┆ 9.01      ┆ 010cd1e6- ┆ 5.50      ┆ … ┆ 31.0      ┆ 0.333333  ┆ 3         ┆ 1        │\n",
       "│ 1         ┆           ┆ 7f7b-4613 ┆           ┆   ┆           ┆           ┆           ┆          │\n",
       "│           ┆           ┆ -9209-96b ┆           ┆   ┆           ┆           ┆           ┆          │\n",
       "│           ┆           ┆ 28d…      ┆           ┆   ┆           ┆           ┆           ┆          │\n",
       "│ 2025-08-1 ┆ 9.00      ┆ 00be0483- ┆ 5.8       ┆ … ┆ 100.0     ┆ 1.0       ┆ 1         ┆ 1        │\n",
       "│ 1         ┆           ┆ e667-4d7e ┆           ┆   ┆           ┆           ┆           ┆          │\n",
       "│           ┆           ┆ -a462-64f ┆           ┆   ┆           ┆           ┆           ┆          │\n",
       "│           ┆           ┆ 1eb…      ┆           ┆   ┆           ┆           ┆           ┆          │\n",
       "│ 2025-08-1 ┆ 9.01      ┆ 010cd1e6- ┆ 5.8       ┆ … ┆ 49.5      ┆ 0.0       ┆ 2         ┆ 1        │\n",
       "│ 1         ┆           ┆ 7f7b-4613 ┆           ┆   ┆           ┆           ┆           ┆          │\n",
       "│           ┆           ┆ -9209-96b ┆           ┆   ┆           ┆           ┆           ┆          │\n",
       "│           ┆           ┆ 28d…      ┆           ┆   ┆           ┆           ┆           ┆          │\n",
       "│ …         ┆ …         ┆ …         ┆ …         ┆ … ┆ …         ┆ …         ┆ …         ┆ …        │\n",
       "│ 2025-08-1 ┆ 9.02      ┆ 0e7236ac- ┆ 5.9       ┆ … ┆ 99.2      ┆ 1.8       ┆ 5         ┆ 5        │\n",
       "│ 1         ┆           ┆ b8bd-4ab0 ┆           ┆   ┆           ┆           ┆           ┆          │\n",
       "│           ┆           ┆ -8634-d16 ┆           ┆   ┆           ┆           ┆           ┆          │\n",
       "│           ┆           ┆ 5ad…      ┆           ┆   ┆           ┆           ┆           ┆          │\n",
       "│ 2025-08-1 ┆ 5.96      ┆ 0e7236ac- ┆ 5.50      ┆ … ┆ 59.4      ┆ 2.4       ┆ 5         ┆ 3        │\n",
       "│ 1         ┆           ┆ b8bd-4ab0 ┆           ┆   ┆           ┆           ┆           ┆          │\n",
       "│           ┆           ┆ -8634-d16 ┆           ┆   ┆           ┆           ┆           ┆          │\n",
       "│           ┆           ┆ 5ad…      ┆           ┆   ┆           ┆           ┆           ┆          │\n",
       "│ 2025-08-1 ┆ 5.95      ┆ 0e7236ac- ┆ 5.7       ┆ … ┆ 0.0       ┆ 0.0       ┆ 1         ┆ 0        │\n",
       "│ 1         ┆           ┆ b8bd-4ab0 ┆           ┆   ┆           ┆           ┆           ┆          │\n",
       "│           ┆           ┆ -8634-d16 ┆           ┆   ┆           ┆           ┆           ┆          │\n",
       "│           ┆           ┆ 5ad…      ┆           ┆   ┆           ┆           ┆           ┆          │\n",
       "│ 2025-08-1 ┆ 5.88      ┆ 0e7236ac- ┆ 5.6       ┆ … ┆ 0.0       ┆ 0.0       ┆ 1         ┆ 0        │\n",
       "│ 1         ┆           ┆ b8bd-4ab0 ┆           ┆   ┆           ┆           ┆           ┆          │\n",
       "│           ┆           ┆ -8634-d16 ┆           ┆   ┆           ┆           ┆           ┆          │\n",
       "│           ┆           ┆ 5ad…      ┆           ┆   ┆           ┆           ┆           ┆          │\n",
       "│ 2025-08-1 ┆           ┆ 0e7236ac- ┆ 5.50      ┆ … ┆ 0.0       ┆ 0.0       ┆ 1         ┆ 0        │\n",
       "│ 1         ┆           ┆ b8bd-4ab0 ┆           ┆   ┆           ┆           ┆           ┆          │\n",
       "│           ┆           ┆ -8634-d16 ┆           ┆   ┆           ┆           ┆           ┆          │\n",
       "│           ┆           ┆ 5ad…      ┆           ┆   ┆           ┆           ┆           ┆          │\n",
       "└───────────┴───────────┴───────────┴───────────┴───┴───────────┴───────────┴───────────┴──────────┘"
      ]
     },
     "execution_count": 18,
     "metadata": {},
     "output_type": "execute_result"
    }
   ],
   "source": [
    "query_text = \"\"\"--sql\n",
    "    SELECT\n",
    "        *\n",
    "    FROM db1.t_gropped_reconnects_and_daily_percentage_dataset\n",
    "    ORDER BY report_date DESC\n",
    "    limit 100 \"\"\"\n",
    "\n",
    "ch.query_run(query_text)\n"
   ]
  },
  {
   "cell_type": "markdown",
   "id": "019538fc",
   "metadata": {},
   "source": [
    "### delete a part\n"
   ]
  },
  {
   "cell_type": "code",
   "execution_count": null,
   "id": "b2f43f99",
   "metadata": {},
   "outputs": [],
   "source": [
    "query_text = \"\"\"--sql\n",
    "    ALTER TABLE db1.rep_mobile_citizens_id_city_partner DELETE WHERE report_date = '2025-07-17'\n",
    "    \"\"\"\n",
    "\n",
    "ch.query_run(query_text)\n"
   ]
  },
  {
   "cell_type": "markdown",
   "id": "be78017d",
   "metadata": {},
   "source": [
    "### drop mv"
   ]
  },
  {
   "cell_type": "code",
   "execution_count": null,
   "id": "45da727a",
   "metadata": {},
   "outputs": [
    {
     "data": {
      "text/html": [
       "<div><style>\n",
       ".dataframe > thead > tr,\n",
       ".dataframe > tbody > tr {\n",
       "  text-align: right;\n",
       "  white-space: pre-wrap;\n",
       "}\n",
       "</style>\n",
       "<small>shape: (0, 0)</small><table border=\"1\" class=\"dataframe\"><thead><tr></tr><tr></tr></thead><tbody></tbody></table></div>"
      ],
      "text/plain": [
       "shape: (0, 0)\n",
       "┌┐\n",
       "╞╡\n",
       "└┘"
      ]
     },
     "metadata": {},
     "output_type": "display_data"
    }
   ],
   "source": [
    "query_text = \"\"\"--sql\n",
    "    DROP TABLE db1.rep_mobile_citizens_id_city_partner_mv\n",
    "    \"\"\"\n",
    "\n",
    "ch.query_run(query_text)"
   ]
  },
  {
   "cell_type": "markdown",
   "id": "fa79eb39",
   "metadata": {},
   "source": [
    "### drop ch"
   ]
  },
  {
   "cell_type": "code",
   "execution_count": null,
   "id": "95b46aa9",
   "metadata": {},
   "outputs": [
    {
     "data": {
      "text/html": [
       "<div><style>\n",
       ".dataframe > thead > tr,\n",
       ".dataframe > tbody > tr {\n",
       "  text-align: right;\n",
       "  white-space: pre-wrap;\n",
       "}\n",
       "</style>\n",
       "<small>shape: (0, 0)</small><table border=\"1\" class=\"dataframe\"><thead><tr></tr><tr></tr></thead><tbody></tbody></table></div>"
      ],
      "text/plain": [
       "shape: (0, 0)\n",
       "┌┐\n",
       "╞╡\n",
       "└┘"
      ]
     },
     "metadata": {},
     "output_type": "display_data"
    }
   ],
   "source": [
    "query_text = \"\"\"--sql\n",
    "    DROP TABLE db1.rep_mobile_citizens_id_city_partner\n",
    "    \"\"\"\n",
    "\n",
    "ch.query_run(query_text)"
   ]
  },
  {
   "cell_type": "markdown",
   "id": "25a11c00",
   "metadata": {},
   "source": [
    "### refresh mv"
   ]
  },
  {
   "cell_type": "code",
   "execution_count": null,
   "id": "20f76446",
   "metadata": {},
   "outputs": [],
   "source": [
    "query_text = \"\"\"\n",
    "SYSTEM REFRESH VIEW db1.rep_mobile_citizens_id_city_partner_mv\n",
    "\"\"\"\n",
    "\n",
    "ch.query_run(query_text)"
   ]
  }
 ],
 "metadata": {
  "jupytext": {
   "formats": "ipynb,md"
  },
  "kernelspec": {
   "display_name": "myenv",
   "language": "python",
   "name": "python3"
  },
  "language_info": {
   "codemirror_mode": {
    "name": "ipython",
    "version": 3
   },
   "file_extension": ".py",
   "mimetype": "text/x-python",
   "name": "python",
   "nbconvert_exporter": "python",
   "pygments_lexer": "ipython3",
   "version": "3.12.11"
  }
 },
 "nbformat": 4,
 "nbformat_minor": 5
}

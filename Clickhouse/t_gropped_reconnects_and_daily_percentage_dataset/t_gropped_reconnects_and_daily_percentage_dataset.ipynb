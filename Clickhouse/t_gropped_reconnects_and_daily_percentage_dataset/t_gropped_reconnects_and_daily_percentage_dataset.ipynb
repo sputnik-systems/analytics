{
 "cells": [
  {
   "cell_type": "markdown",
   "id": "9ffb1bea",
   "metadata": {},
   "source": [
    "## Start"
   ]
  },
  {
   "cell_type": "code",
   "execution_count": 1,
   "id": "725684b0",
   "metadata": {},
   "outputs": [],
   "source": [
    "import clickhouse_connect\n",
    "import datetime\n",
    "import os\n",
    "import pytz\n",
    "import pandas as pd\n",
    "from dateutil.relativedelta import relativedelta\n",
    "from dotenv import load_dotenv\n",
    "\n",
    "import sys\n",
    "sys.path.append('/home/boris/Documents/Work/analytics/Clickhouse')\n",
    "from clickhouse_client import ClickHouse_client\n",
    "ch = ClickHouse_client()\n",
    "pd.set_option('display.max_rows', 1000)"
   ]
  },
  {
   "cell_type": "markdown",
   "id": "6e7842a1",
   "metadata": {},
   "source": [
    "___\n",
    "### Tags: #Tables \n",
    "\n",
    "### Links:\n",
    "\n",
    "[[intercoms_st_asgard]]\n",
    "\n",
    "[[cameras_st_asgard]]\n",
    "\n",
    "[[cameras_dir_asgard]]\n",
    "\n",
    "[[intercoms_dir_asgard]]\n",
    "\n",
    "[[intercoms_daily_percentage_online_st_asgard]]\n",
    "\n",
    "[[reconnects_intercoms_st_asgard]]\n",
    "\n",
    "[[companies_dir_partner]]\n",
    "___"
   ]
  },
  {
   "cell_type": "code",
   "execution_count": 10,
   "id": "acaee0fd",
   "metadata": {},
   "outputs": [
    {
     "ename": "DatabaseError",
     "evalue": "HTTPDriver for https://rc1a-eflrt968scbm232q.mdb.yandexcloud.net:8443 received ClickHouse error code 57\n Code: 57. DB::Exception: Table db1.t_gropped_reconnects_and_daily_percentage_dataset already exists. (TABLE_ALREADY_EXISTS) (version 25.3.3.42 (official build))\n",
     "output_type": "error",
     "traceback": [
      "\u001b[31m---------------------------------------------------------------------------\u001b[39m",
      "\u001b[31mDatabaseError\u001b[39m                             Traceback (most recent call last)",
      "\u001b[36mCell\u001b[39m\u001b[36m \u001b[39m\u001b[32mIn[10]\u001b[39m\u001b[32m, line 23\u001b[39m\n\u001b[32m      1\u001b[39m query_text = \u001b[33m\"\"\"\u001b[39m\u001b[33m--sql\u001b[39m\n\u001b[32m      2\u001b[39m \u001b[33mCREATE TABLE db1.t_gropped_reconnects_and_daily_percentage_dataset\u001b[39m\n\u001b[32m      3\u001b[39m \u001b[33m(\u001b[39m\n\u001b[32m   (...)\u001b[39m\u001b[32m     20\u001b[39m \u001b[33mORDER BY partner_uuid\u001b[39m\n\u001b[32m     21\u001b[39m \u001b[33m\"\"\"\u001b[39m\n\u001b[32m---> \u001b[39m\u001b[32m23\u001b[39m \u001b[43mch\u001b[49m\u001b[43m.\u001b[49m\u001b[43mquery_run\u001b[49m\u001b[43m(\u001b[49m\u001b[43mquery_text\u001b[49m\u001b[43m)\u001b[49m\n",
      "\u001b[36mFile \u001b[39m\u001b[32m~/Documents/Work/analytics/Clickhouse/clickhouse_client.py:29\u001b[39m, in \u001b[36mClickHouse_client.query_run\u001b[39m\u001b[34m(self, query_text)\u001b[39m\n\u001b[32m     27\u001b[39m \u001b[38;5;28;01mdef\u001b[39;00m\u001b[38;5;250m \u001b[39m\u001b[34mquery_run\u001b[39m (\u001b[38;5;28mself\u001b[39m, query_text):\n\u001b[32m     28\u001b[39m     query_text = query_text\n\u001b[32m---> \u001b[39m\u001b[32m29\u001b[39m     result = \u001b[38;5;28;43mself\u001b[39;49m\u001b[43m.\u001b[49m\u001b[43mclient\u001b[49m\u001b[43m.\u001b[49m\u001b[43mquery\u001b[49m\u001b[43m(\u001b[49m\u001b[43mquery_text\u001b[49m\u001b[43m)\u001b[49m\n\u001b[32m     30\u001b[39m     \u001b[38;5;28mself\u001b[39m.df = pd.DataFrame(result.result_rows, columns=result.column_names)\n\u001b[32m     31\u001b[39m     \u001b[38;5;66;03m# self.df = pl.DataFrame(result.result_rows, schema=result.column_names)\u001b[39;00m\n",
      "\u001b[36mFile \u001b[39m\u001b[32m~/myenv/lib/python3.12/site-packages/clickhouse_connect/driver/client.py:237\u001b[39m, in \u001b[36mClient.query\u001b[39m\u001b[34m(self, query, parameters, settings, query_formats, column_formats, encoding, use_none, column_oriented, use_numpy, max_str_len, context, query_tz, column_tzs, external_data, transport_settings)\u001b[39m\n\u001b[32m    235\u001b[39m         \u001b[38;5;28;01mreturn\u001b[39;00m response.as_query_result()\n\u001b[32m    236\u001b[39m     \u001b[38;5;28;01mreturn\u001b[39;00m QueryResult([response] \u001b[38;5;28;01mif\u001b[39;00m \u001b[38;5;28misinstance\u001b[39m(response, \u001b[38;5;28mlist\u001b[39m) \u001b[38;5;28;01melse\u001b[39;00m [[response]])\n\u001b[32m--> \u001b[39m\u001b[32m237\u001b[39m \u001b[38;5;28;01mreturn\u001b[39;00m \u001b[38;5;28;43mself\u001b[39;49m\u001b[43m.\u001b[49m\u001b[43m_query_with_context\u001b[49m\u001b[43m(\u001b[49m\u001b[43mquery_context\u001b[49m\u001b[43m)\u001b[49m\n",
      "\u001b[36mFile \u001b[39m\u001b[32m~/myenv/lib/python3.12/site-packages/clickhouse_connect/driver/httpclient.py:243\u001b[39m, in \u001b[36mHttpClient._query_with_context\u001b[39m\u001b[34m(self, context)\u001b[39m\n\u001b[32m    241\u001b[39m     fields = \u001b[38;5;28;01mNone\u001b[39;00m\n\u001b[32m    242\u001b[39m     headers[\u001b[33m'\u001b[39m\u001b[33mContent-Type\u001b[39m\u001b[33m'\u001b[39m] = \u001b[33m'\u001b[39m\u001b[33mtext/plain; charset=utf-8\u001b[39m\u001b[33m'\u001b[39m\n\u001b[32m--> \u001b[39m\u001b[32m243\u001b[39m response = \u001b[38;5;28;43mself\u001b[39;49m\u001b[43m.\u001b[49m\u001b[43m_raw_request\u001b[49m\u001b[43m(\u001b[49m\u001b[43mbody\u001b[49m\u001b[43m,\u001b[49m\n\u001b[32m    244\u001b[39m \u001b[43m                             \u001b[49m\u001b[43mparams\u001b[49m\u001b[43m,\u001b[49m\n\u001b[32m    245\u001b[39m \u001b[43m                             \u001b[49m\u001b[43mdict_copy\u001b[49m\u001b[43m(\u001b[49m\u001b[43mheaders\u001b[49m\u001b[43m,\u001b[49m\u001b[43m \u001b[49m\u001b[43mcontext\u001b[49m\u001b[43m.\u001b[49m\u001b[43mtransport_settings\u001b[49m\u001b[43m)\u001b[49m\u001b[43m,\u001b[49m\n\u001b[32m    246\u001b[39m \u001b[43m                             \u001b[49m\u001b[43mstream\u001b[49m\u001b[43m=\u001b[49m\u001b[38;5;28;43;01mTrue\u001b[39;49;00m\u001b[43m,\u001b[49m\n\u001b[32m    247\u001b[39m \u001b[43m                             \u001b[49m\u001b[43mretries\u001b[49m\u001b[43m=\u001b[49m\u001b[38;5;28;43mself\u001b[39;49m\u001b[43m.\u001b[49m\u001b[43mquery_retries\u001b[49m\u001b[43m,\u001b[49m\n\u001b[32m    248\u001b[39m \u001b[43m                             \u001b[49m\u001b[43mfields\u001b[49m\u001b[43m=\u001b[49m\u001b[43mfields\u001b[49m\u001b[43m,\u001b[49m\n\u001b[32m    249\u001b[39m \u001b[43m                             \u001b[49m\u001b[43mserver_wait\u001b[49m\u001b[43m=\u001b[49m\u001b[38;5;129;43;01mnot\u001b[39;49;00m\u001b[43m \u001b[49m\u001b[43mcontext\u001b[49m\u001b[43m.\u001b[49m\u001b[43mstreaming\u001b[49m\u001b[43m)\u001b[49m\n\u001b[32m    250\u001b[39m byte_source = RespBuffCls(ResponseSource(response))  \u001b[38;5;66;03m# pylint: disable=not-callable\u001b[39;00m\n\u001b[32m    251\u001b[39m context.set_response_tz(\u001b[38;5;28mself\u001b[39m._check_tz_change(response.headers.get(\u001b[33m'\u001b[39m\u001b[33mX-ClickHouse-Timezone\u001b[39m\u001b[33m'\u001b[39m)))\n",
      "\u001b[36mFile \u001b[39m\u001b[32m~/myenv/lib/python3.12/site-packages/clickhouse_connect/driver/httpclient.py:481\u001b[39m, in \u001b[36mHttpClient._raw_request\u001b[39m\u001b[34m(self, data, params, headers, method, retries, stream, server_wait, fields, error_handler)\u001b[39m\n\u001b[32m    479\u001b[39m     error_handler(response)\n\u001b[32m    480\u001b[39m \u001b[38;5;28;01melse\u001b[39;00m:\n\u001b[32m--> \u001b[39m\u001b[32m481\u001b[39m     \u001b[38;5;28;43mself\u001b[39;49m\u001b[43m.\u001b[49m\u001b[43m_error_handler\u001b[49m\u001b[43m(\u001b[49m\u001b[43mresponse\u001b[49m\u001b[43m)\u001b[49m\n",
      "\u001b[36mFile \u001b[39m\u001b[32m~/myenv/lib/python3.12/site-packages/clickhouse_connect/driver/httpclient.py:402\u001b[39m, in \u001b[36mHttpClient._error_handler\u001b[39m\u001b[34m(self, response, retried)\u001b[39m\n\u001b[32m    399\u001b[39m \u001b[38;5;28;01melse\u001b[39;00m:\n\u001b[32m    400\u001b[39m     err_str = \u001b[33m'\u001b[39m\u001b[33mThe ClickHouse server returned an error.\u001b[39m\u001b[33m'\u001b[39m\n\u001b[32m--> \u001b[39m\u001b[32m402\u001b[39m \u001b[38;5;28;01mraise\u001b[39;00m OperationalError(err_str) \u001b[38;5;28;01mif\u001b[39;00m retried \u001b[38;5;28;01melse\u001b[39;00m DatabaseError(err_str) \u001b[38;5;28;01mfrom\u001b[39;00m\u001b[38;5;250m \u001b[39m\u001b[38;5;28;01mNone\u001b[39;00m\n",
      "\u001b[31mDatabaseError\u001b[39m: HTTPDriver for https://rc1a-eflrt968scbm232q.mdb.yandexcloud.net:8443 received ClickHouse error code 57\n Code: 57. DB::Exception: Table db1.t_gropped_reconnects_and_daily_percentage_dataset already exists. (TABLE_ALREADY_EXISTS) (version 25.3.3.42 (official build))\n"
     ]
    }
   ],
   "source": [
    "query_text = \"\"\"--sql\n",
    "CREATE TABLE db1.t_gropped_reconnects_and_daily_percentage_dataset\n",
    "(\n",
    "    `report_date` Date,\n",
    "    `software_version` String,\n",
    "    `partner_uuid` String,\n",
    "    `hardware_version` String,\n",
    "    `camera_fw_version` String,\n",
    "    `company_name` String,\n",
    "    `partner_lk` String,\n",
    "    `tin` String,\n",
    "    `kpp` String,\n",
    "    `daily_online` Int64,\n",
    "    `avg_onlinePercent` Float64,\n",
    "    `avg_reconnects` Float64,\n",
    "    `intercom_count` UInt64,\n",
    "    `if_onlinePercent_not_0_count` UInt64\n",
    ")\n",
    "ENGINE = MergeTree()\n",
    "ORDER BY partner_uuid\n",
    "\"\"\"\n",
    "\n",
    "ch.query_run(query_text)"
   ]
  },
  {
   "cell_type": "code",
   "execution_count": 11,
   "id": "a10572c0",
   "metadata": {},
   "outputs": [
    {
     "data": {
      "text/html": [
       "<div><style>\n",
       ".dataframe > thead > tr,\n",
       ".dataframe > tbody > tr {\n",
       "  text-align: right;\n",
       "  white-space: pre-wrap;\n",
       "}\n",
       "</style>\n",
       "<small>shape: (0, 0)</small><table border=\"1\" class=\"dataframe\"><thead><tr></tr><tr></tr></thead><tbody></tbody></table></div>"
      ],
      "text/plain": [
       "shape: (0, 0)\n",
       "┌┐\n",
       "╞╡\n",
       "└┘"
      ]
     },
     "execution_count": 11,
     "metadata": {},
     "output_type": "execute_result"
    }
   ],
   "source": [
    "query_text = \"\"\"--sql\n",
    "    CREATE MATERIALIZED VIEW db1.t_gropped_reconnects_and_daily_percentage_dataset_mv\n",
    "    REFRESH EVERY 1 DAY OFFSET 4 HOUR 30 MINUTE TO db1.t_gropped_reconnects_and_daily_percentage_dataset AS\n",
    "    SELECT\n",
    "    report_date,\n",
    "    software_version,\n",
    "    partner_uuid,\n",
    "    hardware_version,\n",
    "    camera_fw_version,\n",
    "    company_name,\n",
    "    partner_lk,\n",
    "    tin,\n",
    "    kpp,\n",
    "    SUM(is_online) AS daily_online,\n",
    "    AVG(onlinePercent) AS avg_onlinePercent,\n",
    "    AVG(reconnects) AS avg_reconnects,\n",
    "    COUNT(intercom_uuid) AS intercom_count,\n",
    "    countIf(onlinePercent != 0) AS if_onlinePercent_not_0_count\n",
    "FROM\n",
    "(\n",
    "    SELECT\n",
    "        isa.report_date   AS report_date,\n",
    "        isa.intercom_uuid  AS intercom_uuid,\n",
    "        isa.is_online  AS is_online,\n",
    "        isa.software_version   AS software_version,\n",
    "        isa.partner_uuid AS partner_uuid,\n",
    "        hardware_version AS hardware_version,\n",
    "        ifNull(rdp.onlinePercent, 0) AS onlinePercent,\n",
    "        ifNull(rdp.reconnects, 0) AS reconnects,\n",
    "        cs.camera_fw_version  AS camera_fw_version,\n",
    "        company_name   AS company_name,\n",
    "        partner_lk  AS partner_lk,\n",
    "        tin  AS tin,\n",
    "        kpp  AS kpp\n",
    "    FROM db1.intercoms_st_asgard_ch AS isa\n",
    "    LEFT JOIN\n",
    "    (\n",
    "        SELECT\n",
    "            csa.report_date,\n",
    "            cda.intercom_uuid,\n",
    "            csa.camera_fw_version\n",
    "        FROM db1.cameras_st_asgard_ch AS csa\n",
    "        LEFT JOIN db1.cameras_dir_asgard_ch AS cda USING (camera_uuid)\n",
    "    ) AS cs\n",
    "        ON isa.intercom_uuid = cs.intercom_uuid\n",
    "       AND isa.report_date = cs.report_date\n",
    "    LEFT JOIN db1.intercoms_dir_asgard_ch AS idp\n",
    "        ON isa.intercom_uuid = idp.intercom_uuid\n",
    "    LEFT JOIN\n",
    "    (\n",
    "        SELECT\n",
    "            dpo.intercom_uuid  AS intercom_uuid,\n",
    "            dpo.report_date  AS report_date,\n",
    "            dpo.onlinePercent AS onlinePercent,\n",
    "            ifNull(ri.count, 0) AS reconnects\n",
    "        FROM db1.intercoms_daily_percentage_online_st_asgard_ch AS dpo\n",
    "        LEFT JOIN db1.reconnects_intercoms_st_asgard_ch AS ri\n",
    "            ON ri.report_date = dpo.report_date\n",
    "           AND ri.intercom_uuid = dpo.intercom_uuid\n",
    "        WHERE dpo.report_date >= toDate('2024-02-06')\n",
    "    ) AS rdp\n",
    "        ON isa.report_date = rdp.report_date\n",
    "       AND isa.intercom_uuid = rdp.intercom_uuid\n",
    "    LEFT JOIN db1.companies_dir_partner_ch AS cdp\n",
    "        ON isa.partner_uuid = cdp.partner_uuid\n",
    ")\n",
    "GROUP BY\n",
    "    report_date,\n",
    "    software_version,\n",
    "    camera_fw_version,\n",
    "    partner_uuid,\n",
    "    hardware_version,\n",
    "    company_name,\n",
    "    partner_lk,\n",
    "    tin,\n",
    "    kpp\n",
    "    \"\"\"\n",
    "\n",
    "ch.query_run(query_text)"
   ]
  },
  {
   "cell_type": "markdown",
   "id": "f5882480",
   "metadata": {},
   "source": [
    "___\n",
    "## Tools\n",
    "___\n",
    "### query\n"
   ]
  },
  {
   "cell_type": "code",
   "execution_count": 12,
   "id": "839f7aea",
   "metadata": {},
   "outputs": [
    {
     "data": {
      "text/html": [
       "<div><style>\n",
       ".dataframe > thead > tr,\n",
       ".dataframe > tbody > tr {\n",
       "  text-align: right;\n",
       "  white-space: pre-wrap;\n",
       "}\n",
       "</style>\n",
       "<small>shape: (100, 14)</small><table border=\"1\" class=\"dataframe\"><thead><tr><th>report_date</th><th>software_version</th><th>partner_uuid</th><th>hardware_version</th><th>camera_fw_version</th><th>company_name</th><th>partner_lk</th><th>tin</th><th>kpp</th><th>daily_online</th><th>avg_onlinePercent</th><th>avg_reconnects</th><th>intercom_count</th><th>if_onlinePercent_not_0_count</th></tr><tr><td>date</td><td>str</td><td>str</td><td>str</td><td>str</td><td>str</td><td>str</td><td>str</td><td>str</td><td>i64</td><td>f64</td><td>f64</td><td>i64</td><td>i64</td></tr></thead><tbody><tr><td>2025-08-17</td><td>&quot;8.06&quot;</td><td>&quot;010cd1e6-7f7b-4613-9209-96b28d…</td><td>&quot;7.1&quot;</td><td>&quot;5.03&quot;</td><td>&quot;ООО &quot;Домофон Сервис&quot; ПРО г.Кот…</td><td>&quot;133830&quot;</td><td>&quot;2904021093&quot;</td><td>&quot;290401001&quot;</td><td>79</td><td>64.908333</td><td>9.575</td><td>120</td><td>79</td></tr><tr><td>2025-08-17</td><td>&quot;6.21&quot;</td><td>&quot;010cd1e6-7f7b-4613-9209-96b28d…</td><td>&quot;6.00&quot;</td><td>&quot;&quot;</td><td>&quot;ООО &quot;Домофон Сервис&quot; ПРО г.Кот…</td><td>&quot;133830&quot;</td><td>&quot;2904021093&quot;</td><td>&quot;290401001&quot;</td><td>0</td><td>0.0</td><td>0.0</td><td>1</td><td>0</td></tr><tr><td>2025-08-17</td><td>&quot;7.46&quot;</td><td>&quot;00c45794-0060-4b37-88bf-3b8dff…</td><td>&quot;6.2&quot;</td><td>&quot;4.12&quot;</td><td>&quot;ООО &quot;Оникс - Зеленодольск&quot;&quot;</td><td>&quot;146395&quot;</td><td>&quot;&quot;</td><td>&quot;&quot;</td><td>4</td><td>98.75</td><td>2.75</td><td>4</td><td>4</td></tr><tr><td>2025-08-17</td><td>&quot;8.06&quot;</td><td>&quot;010cd1e6-7f7b-4613-9209-96b28d…</td><td>&quot;7.1&quot;</td><td>&quot;5.01&quot;</td><td>&quot;ООО &quot;Домофон Сервис&quot; ПРО г.Кот…</td><td>&quot;133830&quot;</td><td>&quot;2904021093&quot;</td><td>&quot;290401001&quot;</td><td>2</td><td>27.571429</td><td>17.142857</td><td>7</td><td>2</td></tr><tr><td>2025-08-17</td><td>&quot;7.46&quot;</td><td>&quot;00c45794-0060-4b37-88bf-3b8dff…</td><td>&quot;6.2&quot;</td><td>&quot;4.14&quot;</td><td>&quot;ООО &quot;Оникс - Зеленодольск&quot;&quot;</td><td>&quot;146395&quot;</td><td>&quot;&quot;</td><td>&quot;&quot;</td><td>1</td><td>99.0</td><td>2.0</td><td>1</td><td>1</td></tr><tr><td>&hellip;</td><td>&hellip;</td><td>&hellip;</td><td>&hellip;</td><td>&hellip;</td><td>&hellip;</td><td>&hellip;</td><td>&hellip;</td><td>&hellip;</td><td>&hellip;</td><td>&hellip;</td><td>&hellip;</td><td>&hellip;</td><td>&hellip;</td></tr><tr><td>2025-08-17</td><td>&quot;9.00&quot;</td><td>&quot;0e7236ac-b8bd-4ab0-8634-d165ad…</td><td>&quot;5.6&quot;</td><td>&quot;4.12&quot;</td><td>&quot;Цифрал Сервис УК&quot;</td><td>&quot;120345&quot;</td><td>&quot;&quot;</td><td>&quot;&quot;</td><td>2</td><td>99.5</td><td>0.0</td><td>2</td><td>2</td></tr><tr><td>2025-08-17</td><td>&quot;5.96&quot;</td><td>&quot;0e7236ac-b8bd-4ab0-8634-d165ad…</td><td>&quot;5.50&quot;</td><td>&quot;&quot;</td><td>&quot;Цифрал Сервис УК&quot;</td><td>&quot;120345&quot;</td><td>&quot;&quot;</td><td>&quot;&quot;</td><td>57</td><td>33.307692</td><td>0.08284</td><td>169</td><td>57</td></tr><tr><td>2025-08-17</td><td>&quot;5.90&quot;</td><td>&quot;0e7236ac-b8bd-4ab0-8634-d165ad…</td><td>&quot;5.8&quot;</td><td>&quot;&quot;</td><td>&quot;Цифрал Сервис УК&quot;</td><td>&quot;120345&quot;</td><td>&quot;&quot;</td><td>&quot;&quot;</td><td>0</td><td>0.0</td><td>0.0</td><td>4</td><td>0</td></tr><tr><td>2025-08-17</td><td>&quot;5.98&quot;</td><td>&quot;0e7236ac-b8bd-4ab0-8634-d165ad…</td><td>&quot;5.6&quot;</td><td>&quot;4.12&quot;</td><td>&quot;Цифрал Сервис УК&quot;</td><td>&quot;120345&quot;</td><td>&quot;&quot;</td><td>&quot;&quot;</td><td>1</td><td>99.0</td><td>0.0</td><td>1</td><td>1</td></tr><tr><td>2025-08-17</td><td>&quot;5.45c&quot;</td><td>&quot;0e7236ac-b8bd-4ab0-8634-d165ad…</td><td>&quot;5.00&quot;</td><td>&quot;&quot;</td><td>&quot;Цифрал Сервис УК&quot;</td><td>&quot;120345&quot;</td><td>&quot;&quot;</td><td>&quot;&quot;</td><td>0</td><td>0.0</td><td>0.0</td><td>2</td><td>0</td></tr></tbody></table></div>"
      ],
      "text/plain": [
       "shape: (100, 14)\n",
       "┌───────────┬───────────┬───────────┬───────────┬───┬───────────┬───────────┬───────────┬──────────┐\n",
       "│ report_da ┆ software_ ┆ partner_u ┆ hardware_ ┆ … ┆ avg_onlin ┆ avg_recon ┆ intercom_ ┆ if_onlin │\n",
       "│ te        ┆ version   ┆ uid       ┆ version   ┆   ┆ ePercent  ┆ nects     ┆ count     ┆ ePercent │\n",
       "│ ---       ┆ ---       ┆ ---       ┆ ---       ┆   ┆ ---       ┆ ---       ┆ ---       ┆ _not_0_c │\n",
       "│ date      ┆ str       ┆ str       ┆ str       ┆   ┆ f64       ┆ f64       ┆ i64       ┆ ount     │\n",
       "│           ┆           ┆           ┆           ┆   ┆           ┆           ┆           ┆ ---      │\n",
       "│           ┆           ┆           ┆           ┆   ┆           ┆           ┆           ┆ i64      │\n",
       "╞═══════════╪═══════════╪═══════════╪═══════════╪═══╪═══════════╪═══════════╪═══════════╪══════════╡\n",
       "│ 2025-08-1 ┆ 8.06      ┆ 010cd1e6- ┆ 7.1       ┆ … ┆ 64.908333 ┆ 9.575     ┆ 120       ┆ 79       │\n",
       "│ 7         ┆           ┆ 7f7b-4613 ┆           ┆   ┆           ┆           ┆           ┆          │\n",
       "│           ┆           ┆ -9209-96b ┆           ┆   ┆           ┆           ┆           ┆          │\n",
       "│           ┆           ┆ 28d…      ┆           ┆   ┆           ┆           ┆           ┆          │\n",
       "│ 2025-08-1 ┆ 6.21      ┆ 010cd1e6- ┆ 6.00      ┆ … ┆ 0.0       ┆ 0.0       ┆ 1         ┆ 0        │\n",
       "│ 7         ┆           ┆ 7f7b-4613 ┆           ┆   ┆           ┆           ┆           ┆          │\n",
       "│           ┆           ┆ -9209-96b ┆           ┆   ┆           ┆           ┆           ┆          │\n",
       "│           ┆           ┆ 28d…      ┆           ┆   ┆           ┆           ┆           ┆          │\n",
       "│ 2025-08-1 ┆ 7.46      ┆ 00c45794- ┆ 6.2       ┆ … ┆ 98.75     ┆ 2.75      ┆ 4         ┆ 4        │\n",
       "│ 7         ┆           ┆ 0060-4b37 ┆           ┆   ┆           ┆           ┆           ┆          │\n",
       "│           ┆           ┆ -88bf-3b8 ┆           ┆   ┆           ┆           ┆           ┆          │\n",
       "│           ┆           ┆ dff…      ┆           ┆   ┆           ┆           ┆           ┆          │\n",
       "│ 2025-08-1 ┆ 8.06      ┆ 010cd1e6- ┆ 7.1       ┆ … ┆ 27.571429 ┆ 17.142857 ┆ 7         ┆ 2        │\n",
       "│ 7         ┆           ┆ 7f7b-4613 ┆           ┆   ┆           ┆           ┆           ┆          │\n",
       "│           ┆           ┆ -9209-96b ┆           ┆   ┆           ┆           ┆           ┆          │\n",
       "│           ┆           ┆ 28d…      ┆           ┆   ┆           ┆           ┆           ┆          │\n",
       "│ 2025-08-1 ┆ 7.46      ┆ 00c45794- ┆ 6.2       ┆ … ┆ 99.0      ┆ 2.0       ┆ 1         ┆ 1        │\n",
       "│ 7         ┆           ┆ 0060-4b37 ┆           ┆   ┆           ┆           ┆           ┆          │\n",
       "│           ┆           ┆ -88bf-3b8 ┆           ┆   ┆           ┆           ┆           ┆          │\n",
       "│           ┆           ┆ dff…      ┆           ┆   ┆           ┆           ┆           ┆          │\n",
       "│ …         ┆ …         ┆ …         ┆ …         ┆ … ┆ …         ┆ …         ┆ …         ┆ …        │\n",
       "│ 2025-08-1 ┆ 9.00      ┆ 0e7236ac- ┆ 5.6       ┆ … ┆ 99.5      ┆ 0.0       ┆ 2         ┆ 2        │\n",
       "│ 7         ┆           ┆ b8bd-4ab0 ┆           ┆   ┆           ┆           ┆           ┆          │\n",
       "│           ┆           ┆ -8634-d16 ┆           ┆   ┆           ┆           ┆           ┆          │\n",
       "│           ┆           ┆ 5ad…      ┆           ┆   ┆           ┆           ┆           ┆          │\n",
       "│ 2025-08-1 ┆ 5.96      ┆ 0e7236ac- ┆ 5.50      ┆ … ┆ 33.307692 ┆ 0.08284   ┆ 169       ┆ 57       │\n",
       "│ 7         ┆           ┆ b8bd-4ab0 ┆           ┆   ┆           ┆           ┆           ┆          │\n",
       "│           ┆           ┆ -8634-d16 ┆           ┆   ┆           ┆           ┆           ┆          │\n",
       "│           ┆           ┆ 5ad…      ┆           ┆   ┆           ┆           ┆           ┆          │\n",
       "│ 2025-08-1 ┆ 5.90      ┆ 0e7236ac- ┆ 5.8       ┆ … ┆ 0.0       ┆ 0.0       ┆ 4         ┆ 0        │\n",
       "│ 7         ┆           ┆ b8bd-4ab0 ┆           ┆   ┆           ┆           ┆           ┆          │\n",
       "│           ┆           ┆ -8634-d16 ┆           ┆   ┆           ┆           ┆           ┆          │\n",
       "│           ┆           ┆ 5ad…      ┆           ┆   ┆           ┆           ┆           ┆          │\n",
       "│ 2025-08-1 ┆ 5.98      ┆ 0e7236ac- ┆ 5.6       ┆ … ┆ 99.0      ┆ 0.0       ┆ 1         ┆ 1        │\n",
       "│ 7         ┆           ┆ b8bd-4ab0 ┆           ┆   ┆           ┆           ┆           ┆          │\n",
       "│           ┆           ┆ -8634-d16 ┆           ┆   ┆           ┆           ┆           ┆          │\n",
       "│           ┆           ┆ 5ad…      ┆           ┆   ┆           ┆           ┆           ┆          │\n",
       "│ 2025-08-1 ┆ 5.45c     ┆ 0e7236ac- ┆ 5.00      ┆ … ┆ 0.0       ┆ 0.0       ┆ 2         ┆ 0        │\n",
       "│ 7         ┆           ┆ b8bd-4ab0 ┆           ┆   ┆           ┆           ┆           ┆          │\n",
       "│           ┆           ┆ -8634-d16 ┆           ┆   ┆           ┆           ┆           ┆          │\n",
       "│           ┆           ┆ 5ad…      ┆           ┆   ┆           ┆           ┆           ┆          │\n",
       "└───────────┴───────────┴───────────┴───────────┴───┴───────────┴───────────┴───────────┴──────────┘"
      ]
     },
     "execution_count": 12,
     "metadata": {},
     "output_type": "execute_result"
    }
   ],
   "source": [
    "query_text = \"\"\"--sql\n",
    "    SELECT\n",
    "        *\n",
    "    FROM db1.t_gropped_reconnects_and_daily_percentage_dataset\n",
    "    ORDER BY report_date DESC\n",
    "    limit 100 \"\"\"\n",
    "\n",
    "ch.query_run(query_text)\n"
   ]
  },
  {
   "cell_type": "markdown",
   "id": "019538fc",
   "metadata": {},
   "source": [
    "### delete a part\n"
   ]
  },
  {
   "cell_type": "code",
   "execution_count": null,
   "id": "b2f43f99",
   "metadata": {},
   "outputs": [],
   "source": [
    "query_text = \"\"\"--sql\n",
    "    ALTER TABLE db1.rep_mobile_citizens_id_city_partner DELETE WHERE report_date = '2025-07-17'\n",
    "    \"\"\"\n",
    "\n",
    "ch.query_run(query_text)\n"
   ]
  },
  {
   "cell_type": "markdown",
   "id": "be78017d",
   "metadata": {},
   "source": [
    "### drop mv"
   ]
  },
  {
   "cell_type": "code",
   "execution_count": 6,
   "id": "45da727a",
   "metadata": {},
   "outputs": [
    {
     "data": {
      "text/html": [
       "<div><style>\n",
       ".dataframe > thead > tr,\n",
       ".dataframe > tbody > tr {\n",
       "  text-align: right;\n",
       "  white-space: pre-wrap;\n",
       "}\n",
       "</style>\n",
       "<small>shape: (0, 0)</small><table border=\"1\" class=\"dataframe\"><thead><tr></tr><tr></tr></thead><tbody></tbody></table></div>"
      ],
      "text/plain": [
       "shape: (0, 0)\n",
       "┌┐\n",
       "╞╡\n",
       "└┘"
      ]
     },
     "execution_count": 6,
     "metadata": {},
     "output_type": "execute_result"
    }
   ],
   "source": [
    "query_text = \"\"\"--sql\n",
    "    DROP TABLE db1.t_gropped_reconnects_and_daily_percentage_dataset_mv\n",
    "    \"\"\"\n",
    "\n",
    "ch.query_run(query_text)"
   ]
  },
  {
   "cell_type": "markdown",
   "id": "fa79eb39",
   "metadata": {},
   "source": [
    "### drop ch"
   ]
  },
  {
   "cell_type": "code",
   "execution_count": 7,
   "id": "95b46aa9",
   "metadata": {},
   "outputs": [
    {
     "data": {
      "text/html": [
       "<div><style>\n",
       ".dataframe > thead > tr,\n",
       ".dataframe > tbody > tr {\n",
       "  text-align: right;\n",
       "  white-space: pre-wrap;\n",
       "}\n",
       "</style>\n",
       "<small>shape: (0, 0)</small><table border=\"1\" class=\"dataframe\"><thead><tr></tr><tr></tr></thead><tbody></tbody></table></div>"
      ],
      "text/plain": [
       "shape: (0, 0)\n",
       "┌┐\n",
       "╞╡\n",
       "└┘"
      ]
     },
     "execution_count": 7,
     "metadata": {},
     "output_type": "execute_result"
    }
   ],
   "source": [
    "query_text = \"\"\"--sql\n",
    "    DROP TABLE db1.t_gropped_reconnects_and_daily_percentage_dataset\n",
    "    \"\"\"\n",
    "\n",
    "ch.query_run(query_text)"
   ]
  },
  {
   "cell_type": "markdown",
   "id": "25a11c00",
   "metadata": {},
   "source": [
    "### refresh mv"
   ]
  },
  {
   "cell_type": "code",
   "execution_count": 8,
   "id": "20f76446",
   "metadata": {},
   "outputs": [
    {
     "data": {
      "text/html": [
       "<div><style>\n",
       ".dataframe > thead > tr,\n",
       ".dataframe > tbody > tr {\n",
       "  text-align: right;\n",
       "  white-space: pre-wrap;\n",
       "}\n",
       "</style>\n",
       "<small>shape: (1, 2)</small><table border=\"1\" class=\"dataframe\"><thead><tr><th>elapsed_ns</th><th>query_id</th></tr><tr><td>i64</td><td>str</td></tr></thead><tbody><tr><td>5851027</td><td>&quot;16e05236-a52d-499f-9ee9-98b436…</td></tr></tbody></table></div>"
      ],
      "text/plain": [
       "shape: (1, 2)\n",
       "┌────────────┬─────────────────────────────────┐\n",
       "│ elapsed_ns ┆ query_id                        │\n",
       "│ ---        ┆ ---                             │\n",
       "│ i64        ┆ str                             │\n",
       "╞════════════╪═════════════════════════════════╡\n",
       "│ 5851027    ┆ 16e05236-a52d-499f-9ee9-98b436… │\n",
       "└────────────┴─────────────────────────────────┘"
      ]
     },
     "execution_count": 8,
     "metadata": {},
     "output_type": "execute_result"
    }
   ],
   "source": [
    "query_text = \"\"\"\n",
    "SYSTEM REFRESH VIEW db1.t_gropped_reconnects_and_daily_percentage_dataset_mv\n",
    "\"\"\"\n",
    "\n",
    "ch.query_run(query_text)"
   ]
  }
 ],
 "metadata": {
  "jupytext": {
   "formats": "ipynb,md"
  },
  "kernelspec": {
   "display_name": "Python (myenv)",
   "language": "python",
   "name": "myenv"
  },
  "language_info": {
   "codemirror_mode": {
    "name": "ipython",
    "version": 3
   },
   "file_extension": ".py",
   "mimetype": "text/x-python",
   "name": "python",
   "nbconvert_exporter": "python",
   "pygments_lexer": "ipython3",
   "version": "3.12.11"
  }
 },
 "nbformat": 4,
 "nbformat_minor": 5
}

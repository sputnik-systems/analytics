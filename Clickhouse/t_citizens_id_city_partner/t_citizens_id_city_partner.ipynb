{
 "cells": [
  {
   "cell_type": "markdown",
   "id": "7b4029dd",
   "metadata": {},
   "source": [
    "## Start"
   ]
  },
  {
   "cell_type": "code",
   "execution_count": null,
   "id": "bf02d95f",
   "metadata": {},
   "outputs": [],
   "source": [
    "import clickhouse_connect\n",
    "import datetime\n",
    "import os\n",
    "import pytz\n",
    "import pandas as pd\n",
    "from dateutil.relativedelta import relativedelta\n",
    "from dotenv import load_dotenv\n",
    "\n",
    "import sys\n",
    "sys.path.append('/home/boris/Documents/Work/analytics/Clickhouse')\n",
    "from clickhouse_client import ClickHouse_client\n",
    "ch = ClickHouse_client()\n",
    "pd.set_option('display.max_rows', 1000)"
   ]
  },
  {
   "cell_type": "markdown",
   "id": "0541a3f5",
   "metadata": {},
   "source": [
    "___\n",
    "### Tags: #Tables #ModifiedSources\n",
    "\n",
    "### Links:\n",
    "\n",
    "[[citizens_st_mobile]]\n",
    "\n",
    "[[flats_dir_partner]]\n",
    "\n",
    "[[entries_installation_points_dir_partner]]\n",
    "\n",
    "[[installation_point_st_partner]]\n",
    "\n",
    "[[companies_st_partner]]\n",
    "___"
   ]
  },
  {
   "cell_type": "code",
   "execution_count": null,
   "id": "3f43925b",
   "metadata": {},
   "outputs": [],
   "source": [
    "query_text = \"\"\"--sql\n",
    "CREATE TABLE db1.t_citizens_id_city_partner\n",
    "(   \n",
    "    `report_date` Date,\n",
    "    `citizen_id` Int32,\n",
    "    `trial_available` Int32,\n",
    "    `state` String,\n",
    "    `activated_at` DateTime,\n",
    "    `flat_uuid` String,\n",
    "    `address_uuid` String,\n",
    "    `city` String,\n",
    "    `partner_uuid` String\n",
    ")\n",
    "ENGINE = MergeTree()\n",
    "ORDER BY report_date\n",
    "\"\"\"\n",
    "\n",
    "ch.query_run(query_text)"
   ]
  },
  {
   "cell_type": "code",
   "execution_count": 19,
   "id": "1e42f175",
   "metadata": {},
   "outputs": [
    {
     "data": {
      "text/html": [
       "<div><style>\n",
       ".dataframe > thead > tr,\n",
       ".dataframe > tbody > tr {\n",
       "  text-align: right;\n",
       "  white-space: pre-wrap;\n",
       "}\n",
       "</style>\n",
       "<small>shape: (0, 0)</small><table border=\"1\" class=\"dataframe\"><thead><tr></tr><tr></tr></thead><tbody></tbody></table></div>"
      ],
      "text/plain": [
       "shape: (0, 0)\n",
       "┌┐\n",
       "╞╡\n",
       "└┘"
      ]
     },
     "execution_count": 19,
     "metadata": {},
     "output_type": "execute_result"
    }
   ],
   "source": [
    "query_text = \"\"\"--sql\n",
    "    CREATE MATERIALIZED VIEW db1.t_citizens_id_city_partner_mv\n",
    "    REFRESH EVERY 1 DAY OFFSET 4 HOUR 5 MINUTE TO db1.t_citizens_id_city_partner AS\n",
    "    SELECT\n",
    "    citizens_st_mobile.report_date AS report_date,\n",
    "    citizens_st_mobile.citizen_id AS citizen_id,\n",
    "    argMax(citizens_st_mobile.trial_available, citizens_st_mobile.activated_at) AS trial_available,\n",
    "    argMax(citizens_st_mobile.state, citizens_st_mobile.activated_at) AS state,\n",
    "    argMax(citizens_st_mobile.flat_uuid, citizens_st_mobile.activated_at) AS flat_uuid,\n",
    "    argMax(flats_dir_partner.address_uuid, citizens_st_mobile.activated_at) AS address_uuid,\n",
    "    argMax(entries_installation_points_dir_partner.city, citizens_st_mobile.activated_at) AS city,\n",
    "    argMax(installation_point_st_partner.partner_uuid, citizens_st_mobile.activated_at) AS partner_uuid\n",
    "FROM db1.citizens_st_mobile_ch AS citizens_st_mobile\n",
    "LEFT JOIN db1.flats_dir_partner_ch AS flats_dir_partner \n",
    "    ON flats_dir_partner.flat_uuid = citizens_st_mobile.flat_uuid\n",
    "LEFT JOIN db1.entries_installation_points_dir_partner_ch AS entries_installation_points_dir_partner \n",
    "    ON flats_dir_partner.address_uuid = entries_installation_points_dir_partner.address_uuid\n",
    "LEFT JOIN db1.installation_point_st_partner_ch AS installation_point_st_partner\n",
    "    ON installation_point_st_partner.installation_point_id = entries_installation_points_dir_partner.installation_point_id\n",
    "    AND installation_point_st_partner.report_date = citizens_st_mobile.report_date\n",
    "LEFT JOIN db1.companies_st_partner_ch AS companies_st_partner\n",
    "    ON installation_point_st_partner.partner_uuid = companies_st_partner.partner_uuid\n",
    "    AND companies_st_partner.report_date = citizens_st_mobile.report_date\n",
    "GROUP BY\n",
    "    citizens_st_mobile.report_date,\n",
    "    citizens_st_mobile.citizen_id\n",
    "    \n",
    "    \"\"\"\n",
    "\n",
    "ch.query_run(query_text)"
   ]
  },
  {
   "cell_type": "markdown",
   "id": "9e9eddd1",
   "metadata": {},
   "source": [
    "___\n",
    "## Tools\n",
    "___\n",
    "### query\n"
   ]
  },
  {
   "cell_type": "code",
   "execution_count": null,
   "id": "6424eb2c",
   "metadata": {},
   "outputs": [],
   "source": [
    "query_text = \"\"\"--sql\n",
    "    SELECT\n",
    "        *\n",
    "    FROM db1.t_citizens_id_city_partner\n",
    "    ORDER BY report_date desc\n",
    "    limit 100\n",
    "    \"\"\"\n",
    "\n",
    "ch.query_run(query_text)\n"
   ]
  },
  {
   "cell_type": "markdown",
   "id": "63ee1b62",
   "metadata": {},
   "source": [
    "### delete a part\n"
   ]
  },
  {
   "cell_type": "code",
   "execution_count": null,
   "id": "85017eaf",
   "metadata": {},
   "outputs": [],
   "source": [
    "query_text = \"\"\"--sql\n",
    "    ALTER TABLE db1.t_citizens_id_city_partner DELETE WHERE report_date = '2025-07-17'\n",
    "    \"\"\"\n",
    "\n",
    "ch.query_run(query_text)\n"
   ]
  },
  {
   "cell_type": "markdown",
   "id": "9b83f013",
   "metadata": {},
   "source": [
    "### drop mv"
   ]
  },
  {
   "cell_type": "code",
   "execution_count": 20,
   "id": "b00503c4",
   "metadata": {
    "lines_to_next_cell": 2
   },
   "outputs": [
    {
     "data": {
      "text/html": [
       "<div><style>\n",
       ".dataframe > thead > tr,\n",
       ".dataframe > tbody > tr {\n",
       "  text-align: right;\n",
       "  white-space: pre-wrap;\n",
       "}\n",
       "</style>\n",
       "<small>shape: (0, 0)</small><table border=\"1\" class=\"dataframe\"><thead><tr></tr><tr></tr></thead><tbody></tbody></table></div>"
      ],
      "text/plain": [
       "shape: (0, 0)\n",
       "┌┐\n",
       "╞╡\n",
       "└┘"
      ]
     },
     "execution_count": 20,
     "metadata": {},
     "output_type": "execute_result"
    }
   ],
   "source": [
    "query_text = \"\"\"--sql\n",
    "    DROP TABLE db1.t_citizens_id_city_partner_mv\n",
    "    \"\"\"\n",
    "\n",
    "ch.query_run(query_text)"
   ]
  },
  {
   "cell_type": "markdown",
   "id": "8a45c464",
   "metadata": {},
   "source": [
    "### drop ch"
   ]
  },
  {
   "cell_type": "code",
   "execution_count": 21,
   "id": "adf6e7b6",
   "metadata": {},
   "outputs": [
    {
     "data": {
      "text/html": [
       "<div><style>\n",
       ".dataframe > thead > tr,\n",
       ".dataframe > tbody > tr {\n",
       "  text-align: right;\n",
       "  white-space: pre-wrap;\n",
       "}\n",
       "</style>\n",
       "<small>shape: (0, 0)</small><table border=\"1\" class=\"dataframe\"><thead><tr></tr><tr></tr></thead><tbody></tbody></table></div>"
      ],
      "text/plain": [
       "shape: (0, 0)\n",
       "┌┐\n",
       "╞╡\n",
       "└┘"
      ]
     },
     "execution_count": 21,
     "metadata": {},
     "output_type": "execute_result"
    }
   ],
   "source": [
    "query_text = \"\"\"--sql\n",
    "    DROP TABLE db1.t_citizens_id_city_partner\n",
    "    \"\"\"\n",
    "\n",
    "ch.query_run(query_text)"
   ]
  },
  {
   "cell_type": "markdown",
   "id": "bf2dd886",
   "metadata": {},
   "source": [
    "### refresh mv"
   ]
  },
  {
   "cell_type": "code",
   "execution_count": null,
   "id": "842757d9",
   "metadata": {},
   "outputs": [],
   "source": [
    "query_text = \"\"\"\n",
    "SYSTEM REFRESH VIEW db1.t_citizens_id_city_partner_mv\n",
    "\"\"\"\n",
    "\n",
    "ch.query_run(query_text)"
   ]
  }
 ],
 "metadata": {
  "jupytext": {
   "formats": "ipynb,md"
  },
  "kernelspec": {
   "display_name": "myenv",
   "language": "python",
   "name": "python3"
  },
  "language_info": {
   "codemirror_mode": {
    "name": "ipython",
    "version": 3
   },
   "file_extension": ".py",
   "mimetype": "text/x-python",
   "name": "python",
   "nbconvert_exporter": "python",
   "pygments_lexer": "ipython3",
   "version": "3.12.11"
  }
 },
 "nbformat": 4,
 "nbformat_minor": 5
}

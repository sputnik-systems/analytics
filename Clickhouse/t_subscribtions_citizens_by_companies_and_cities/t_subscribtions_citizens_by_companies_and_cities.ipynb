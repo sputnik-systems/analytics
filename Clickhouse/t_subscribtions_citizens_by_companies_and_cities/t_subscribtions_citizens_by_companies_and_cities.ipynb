{
 "cells": [
  {
   "cell_type": "markdown",
   "id": "6a78c70d",
   "metadata": {},
   "source": [
    "## Start"
   ]
  },
  {
   "cell_type": "code",
   "execution_count": 1,
   "id": "41398326",
   "metadata": {},
   "outputs": [],
   "source": [
    "import clickhouse_connect\n",
    "import datetime\n",
    "import os\n",
    "import pytz\n",
    "import pandas as pd\n",
    "from dateutil.relativedelta import relativedelta\n",
    "from dotenv import load_dotenv\n",
    "\n",
    "import sys\n",
    "sys.path.append('/home/boris/Documents/Work/analytics/Clickhouse')\n",
    "from clickhouse_client import ClickHouse_client\n",
    "ch = ClickHouse_client()\n",
    "pd.set_option('display.max_rows', 1000)"
   ]
  },
  {
   "cell_type": "markdown",
   "id": "df514006",
   "metadata": {},
   "source": [
    "___\n",
    "### Tags: #Tables\n",
    "\n",
    "### Links:\n",
    "\n",
    "[[citizens_st_mobile]]\n",
    "\n",
    "[[subscriptions_st_mobile]]\n",
    "\n",
    "[[entries_installation_points_dir_partner]]\n",
    "\n",
    "[[installation_point_st_partner]]\n",
    "\n",
    "[[citizen_payments_st_mobile]]\n",
    "\n",
    "___\n"
   ]
  },
  {
   "cell_type": "code",
   "execution_count": 6,
   "id": "2e30a1da",
   "metadata": {},
   "outputs": [
    {
     "data": {
      "text/html": [
       "<div><style>\n",
       ".dataframe > thead > tr,\n",
       ".dataframe > tbody > tr {\n",
       "  text-align: right;\n",
       "  white-space: pre-wrap;\n",
       "}\n",
       "</style>\n",
       "<small>shape: (0, 0)</small><table border=\"1\" class=\"dataframe\"><thead><tr></tr><tr></tr></thead><tbody></tbody></table></div>"
      ],
      "text/plain": [
       "shape: (0, 0)\n",
       "┌┐\n",
       "╞╡\n",
       "└┘"
      ]
     },
     "execution_count": 6,
     "metadata": {},
     "output_type": "execute_result"
    }
   ],
   "source": [
    "query_text = \"\"\"--sql\n",
    "    CREATE TABLE db1.t_subscribtions_citizens_by_companies_and_cities_ch \n",
    "    (\n",
    "        `report_date` Date,\n",
    "        `city` String,\n",
    "        `partner_uuid` String,\n",
    "        `company_name` String,\n",
    "        `partner_lk` String,\n",
    "        `citizen_id_in_flat_with_subscriptions` UInt32,\n",
    "        `payments_amount` UInt32,\n",
    "        `activated_citizen_id` UInt32,\n",
    "        `subscribed_citizen_id` UInt32,\n",
    "        `flat_uuid` UInt32\n",
    "    )\n",
    "    ENGINE = MergeTree()\n",
    "    ORDER BY report_date\n",
    "    \"\"\"\n",
    "ch.query_run(query_text)"
   ]
  },
  {
   "cell_type": "code",
   "execution_count": 7,
   "id": "80cc88eb",
   "metadata": {},
   "outputs": [
    {
     "data": {
      "text/html": [
       "<div><style>\n",
       ".dataframe > thead > tr,\n",
       ".dataframe > tbody > tr {\n",
       "  text-align: right;\n",
       "  white-space: pre-wrap;\n",
       "}\n",
       "</style>\n",
       "<small>shape: (0, 0)</small><table border=\"1\" class=\"dataframe\"><thead><tr></tr><tr></tr></thead><tbody></tbody></table></div>"
      ],
      "text/plain": [
       "shape: (0, 0)\n",
       "┌┐\n",
       "╞╡\n",
       "└┘"
      ]
     },
     "execution_count": 7,
     "metadata": {},
     "output_type": "execute_result"
    }
   ],
   "source": [
    "query_text = \"\"\"--sql\n",
    "CREATE MATERIALIZED VIEW db1.t_subscribtions_citizens_by_companies_and_cities_mv \n",
    "REFRESH EVERY 1 DAY OFFSET 5 HOUR 25 MINUTE TO db1.t_subscribtions_citizens_by_companies_and_cities_ch AS\n",
    "        WITH t1 AS(SELECT\n",
    "        citizens_st_mobile.report_date AS report_date,\n",
    "        entries_installation_points.city AS city,\n",
    "        installation_point_st.partner_uuid AS partner_uuid,\n",
    "        COUNT(DISTINCT IF(citizens_st_mobile.`state` = 'activated', citizens_st_mobile.citizen_id,NULL)) as activated_citizen_id,\n",
    "        COUNT(DISTINCT IF(subscriptions_st_mobile.`state` = 'activated', subscriptions_st_mobile.citizen_id,NULL)) as subscribed_citizen_id,\n",
    "        COUNT(DISTINCT IF(citizens_st_mobile.`state` = 'activated', citizens_st_mobile.flat_uuid,NULL)) as flat_uuid\n",
    "        FROM db1.`citizens_st_mobile_ch` AS citizens_st_mobile\n",
    "        LEFT JOIN db1.`subscriptions_st_mobile_ch` AS subscriptions_st_mobile\n",
    "                ON citizens_st_mobile.`citizen_id` = subscriptions_st_mobile.`citizen_id`\n",
    "                AND citizens_st_mobile.`report_date` = subscriptions_st_mobile.`report_date`\n",
    "        LEFT JOIN db1.`entries_installation_points_dir_partner_ch` AS entries_installation_points \n",
    "                ON citizens_st_mobile.`address_uuid` = entries_installation_points.`address_uuid`\n",
    "        LEFT JOIN db1.`installation_point_st_partner_ch` AS  installation_point_st\n",
    "        ON entries_installation_points.`installation_point_id` = installation_point_st.`installation_point_id`\n",
    "        AND installation_point_st.`report_date` = citizens_st_mobile.`report_date`\n",
    "        WHERE \n",
    "                citizens_st_mobile.report_date = dateTrunc('month', report_date) \n",
    "                AND citizens_st_mobile.report_date >'2023-12-31'\n",
    "        GROUP BY partner_uuid,\n",
    "                city,\n",
    "                report_date\n",
    "        ),\n",
    "        --\n",
    "        t2 AS (SELECT\n",
    "                citizen_payments_st_mobile.report_date AS report_date,\n",
    "        entries_installation_points.city AS city,\n",
    "        installation_point_st.partner_uuid AS partner_uuid,\n",
    "        sum(amount) AS payments_amount\n",
    "        FROM db1.`citizen_payments_st_mobile_ch` AS citizen_payments_st_mobile\n",
    "        LEFT JOIN db1.`citizens_st_mobile_ch` AS citizens_st_mobile \n",
    "                ON citizen_payments_st_mobile.citizen_id = citizens_st_mobile.citizen_id  \n",
    "                AND citizen_payments_st_mobile.report_date = citizens_st_mobile.report_date \n",
    "        LEFT JOIN db1.`entries_installation_points_dir_partner_ch` AS entries_installation_points \n",
    "                ON citizens_st_mobile.`address_uuid` = entries_installation_points.`address_uuid`\n",
    "        LEFT JOIN db1.`installation_point_st_partner_ch` AS installation_point_st\n",
    "        ON entries_installation_points.`installation_point_id` = installation_point_st.`installation_point_id` \n",
    "        AND installation_point_st.`report_date` = citizen_payments_st_mobile.`report_date`\n",
    "        WHERE \n",
    "                citizen_payments_st_mobile.report_date = dateTrunc('month', report_date) \n",
    "                AND citizen_payments_st_mobile.report_date >'2023-12-31'\n",
    "                AND citizen_payments_st_mobile.`state` = 'success'\n",
    "        GROUP BY \n",
    "                partner_uuid,\n",
    "        city,\n",
    "        report_date\n",
    "        ),\n",
    "        --\n",
    "        t3 AS (SELECT\n",
    "                report_date,\n",
    "        city,\n",
    "        partner_uuid,\n",
    "                count(flat_uuid) AS citizen_id_in_flat_with_subscriptions\n",
    "        FROM\n",
    "                (SELECT \n",
    "                citizens_st_mobile.report_date AS report_date,\n",
    "                city,\n",
    "                installation_point_st.partner_uuid AS partner_uuid,\n",
    "                if(citizens_st_mobile.flat_uuid !='',citizens_st_mobile.flat_uuid,null) AS flat_uuid,\n",
    "                citizens_st_mobile.citizen_id AS citizen_id,\n",
    "                if(subscriptions_st_mobile.state = 'activated',1,0) AS if_sub_active,\n",
    "                max(if_sub_active) OVER (partition by citizens_st_mobile.flat_uuid, citizens_st_mobile.report_date ORDER BY citizens_st_mobile.report_date DESC) AS flat_with_sub_active\n",
    "                FROM db1.citizens_st_mobile_ch AS citizens_st_mobile\n",
    "                LEFT JOIN db1.subscriptions_st_mobile_ch AS subscriptions_st_mobile \n",
    "                        ON citizens_st_mobile.`citizen_id` = subscriptions_st_mobile.`citizen_id`\n",
    "                        AND citizens_st_mobile.`report_date` = subscriptions_st_mobile.`report_date`\n",
    "                LEFT JOIN db1.`entries_installation_points_dir_partner_ch` AS entries_installation_points \n",
    "                        ON citizens_st_mobile.`address_uuid` = entries_installation_points.`address_uuid`\n",
    "                LEFT JOIN db1.`installation_point_st_partner_ch` AS  installation_point_st\n",
    "                ON entries_installation_points.`installation_point_id` = installation_point_st.`installation_point_id`\n",
    "                AND installation_point_st.`report_date` = citizens_st_mobile.`report_date`\n",
    "                WHERE citizens_st_mobile.report_date = dateTrunc('month', report_date) \n",
    "                        AND citizens_st_mobile.report_date >'2023-12-31'\n",
    "                )\n",
    "        WHERE flat_with_sub_active = 1\n",
    "        GROUP BY report_date,\n",
    "                        city,\n",
    "                        partner_uuid\n",
    "        )\n",
    "        --\n",
    "        SELECT\n",
    "                t1.report_date AS report_date,\n",
    "                t1.city AS city,\n",
    "                t1.partner_uuid AS partner_uuid,\n",
    "                company_name,\n",
    "                partner_lk,\n",
    "                citizen_id_in_flat_with_subscriptions,\n",
    "                payments_amount,\n",
    "                activated_citizen_id,\n",
    "                subscribed_citizen_id,\n",
    "                flat_uuid\n",
    "        FROM  t1 \n",
    "        LEFT JOIN t2 ON t1.report_date = t2.report_date\n",
    "                                AND t1.city = t2.city\n",
    "                                AND t1.partner_uuid = t2.partner_uuid\n",
    "        LEFT JOIN t3 ON t1.report_date = t3.report_date\n",
    "                                AND t1.city = t3.city\n",
    "                                AND t1.partner_uuid = t3.partner_uuid\n",
    "        LEFT JOIN db1.companies_dir_partner_ch AS companies_dir_partner \n",
    "                                ON companies_dir_partner.partner_uuid = t1.partner_uuid\n",
    "\"\"\"\n",
    "ch.query_run(query_text)"
   ]
  },
  {
   "cell_type": "markdown",
   "id": "e7cb4799",
   "metadata": {},
   "source": [
    "___"
   ]
  },
  {
   "cell_type": "markdown",
   "id": "8b54c437",
   "metadata": {},
   "source": [
    "### drop ch"
   ]
  },
  {
   "cell_type": "code",
   "execution_count": 4,
   "id": "2eb4afb3",
   "metadata": {},
   "outputs": [
    {
     "data": {
      "text/html": [
       "<div><style>\n",
       ".dataframe > thead > tr,\n",
       ".dataframe > tbody > tr {\n",
       "  text-align: right;\n",
       "  white-space: pre-wrap;\n",
       "}\n",
       "</style>\n",
       "<small>shape: (1, 2)</small><table border=\"1\" class=\"dataframe\"><thead><tr><th>elapsed_ns</th><th>query_id</th></tr><tr><td>i64</td><td>str</td></tr></thead><tbody><tr><td>201363474</td><td>&quot;aeabc100-53f5-4b52-a898-e3ff46…</td></tr></tbody></table></div>"
      ],
      "text/plain": [
       "shape: (1, 2)\n",
       "┌────────────┬─────────────────────────────────┐\n",
       "│ elapsed_ns ┆ query_id                        │\n",
       "│ ---        ┆ ---                             │\n",
       "│ i64        ┆ str                             │\n",
       "╞════════════╪═════════════════════════════════╡\n",
       "│ 201363474  ┆ aeabc100-53f5-4b52-a898-e3ff46… │\n",
       "└────────────┴─────────────────────────────────┘"
      ]
     },
     "execution_count": 4,
     "metadata": {},
     "output_type": "execute_result"
    }
   ],
   "source": [
    "query_text = \"\"\"\n",
    "DROP TABLE db1.t_subscribtions_citizens_by_companies_and_cities_ch\n",
    "\"\"\"\n",
    "\n",
    "ch.query_run(query_text)"
   ]
  },
  {
   "cell_type": "markdown",
   "id": "26444721",
   "metadata": {},
   "source": [
    "### drop mv"
   ]
  },
  {
   "cell_type": "code",
   "execution_count": 5,
   "id": "d893b63e",
   "metadata": {},
   "outputs": [
    {
     "data": {
      "text/html": [
       "<div><style>\n",
       ".dataframe > thead > tr,\n",
       ".dataframe > tbody > tr {\n",
       "  text-align: right;\n",
       "  white-space: pre-wrap;\n",
       "}\n",
       "</style>\n",
       "<small>shape: (1, 2)</small><table border=\"1\" class=\"dataframe\"><thead><tr><th>elapsed_ns</th><th>query_id</th></tr><tr><td>i64</td><td>str</td></tr></thead><tbody><tr><td>16475841</td><td>&quot;4974cfe7-4254-4e60-87c1-52511e…</td></tr></tbody></table></div>"
      ],
      "text/plain": [
       "shape: (1, 2)\n",
       "┌────────────┬─────────────────────────────────┐\n",
       "│ elapsed_ns ┆ query_id                        │\n",
       "│ ---        ┆ ---                             │\n",
       "│ i64        ┆ str                             │\n",
       "╞════════════╪═════════════════════════════════╡\n",
       "│ 16475841   ┆ 4974cfe7-4254-4e60-87c1-52511e… │\n",
       "└────────────┴─────────────────────────────────┘"
      ]
     },
     "execution_count": 5,
     "metadata": {},
     "output_type": "execute_result"
    }
   ],
   "source": [
    "query_text = \"\"\"\n",
    "DROP TABLE db1.t_subscribtions_citizens_by_companies_and_cities_mv\n",
    "\"\"\"\n",
    "\n",
    "ch.query_run(query_text)"
   ]
  },
  {
   "cell_type": "markdown",
   "id": "21cd218c",
   "metadata": {},
   "source": [
    "### refresh mv"
   ]
  },
  {
   "cell_type": "code",
   "execution_count": null,
   "id": "ae8b2067",
   "metadata": {},
   "outputs": [],
   "source": [
    "query_text = \"\"\"\n",
    "SYSTEM REFRESH VIEW db1.t_subscribtions_citizens_by_companies_and_cities_ch\n",
    "\"\"\"\n",
    "\n",
    "ch.query_run(query_text)"
   ]
  }
 ],
 "metadata": {
  "jupytext": {
   "formats": "ipynb,md"
  },
  "kernelspec": {
   "display_name": "myenv",
   "language": "python",
   "name": "python3"
  },
  "language_info": {
   "codemirror_mode": {
    "name": "ipython",
    "version": 3
   },
   "file_extension": ".py",
   "mimetype": "text/x-python",
   "name": "python",
   "nbconvert_exporter": "python",
   "pygments_lexer": "ipython3",
   "version": "3.12.11"
  }
 },
 "nbformat": 4,
 "nbformat_minor": 5
}

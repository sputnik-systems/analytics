{
 "cells": [
  {
   "cell_type": "markdown",
   "id": "78348470",
   "metadata": {},
   "source": [
    "## Start"
   ]
  },
  {
   "cell_type": "code",
   "execution_count": 1,
   "id": "40bbc9e5",
   "metadata": {},
   "outputs": [],
   "source": [
    "import clickhouse_connect\n",
    "import datetime\n",
    "import os\n",
    "import pytz\n",
    "import pandas as pd\n",
    "from dateutil.relativedelta import relativedelta\n",
    "from dotenv import load_dotenv\n",
    "\n",
    "import sys\n",
    "sys.path.append('/home/boris/Documents/Work/analytics/Clickhouse')\n",
    "from clickhouse_client import ClickHouse_client\n",
    "ch = ClickHouse_client()\n",
    "pd.set_option('display.max_rows', 1000)\n",
    "\n"
   ]
  },
  {
   "cell_type": "markdown",
   "id": "525d46b7",
   "metadata": {},
   "source": [
    "___\n",
    "### Tags: #Tables\n",
    "\n",
    "### Links: \n",
    "\n",
    "[[installation_point_st_partner]]\n",
    "\n",
    "[[entries_installation_points_dir_partner]]\n",
    "\n",
    "[[installation_point_st_partner]]\n",
    "\n",
    "[[buildings_st_partner]]\n",
    "\n",
    "[[gates_st_partner]]\n",
    "___"
   ]
  },
  {
   "cell_type": "code",
   "execution_count": 5,
   "id": "1708b5b9",
   "metadata": {},
   "outputs": [
    {
     "ename": "DatabaseError",
     "evalue": "HTTPDriver for https://rc1a-eflrt968scbm232q.mdb.yandexcloud.net:8443 received ClickHouse error code 57\n Code: 57. DB::Exception: Table db1.t_all_installetion_points already exists. (TABLE_ALREADY_EXISTS) (version 25.3.3.42 (official build))\n",
     "output_type": "error",
     "traceback": [
      "\u001b[31m---------------------------------------------------------------------------\u001b[39m",
      "\u001b[31mDatabaseError\u001b[39m                             Traceback (most recent call last)",
      "\u001b[36mCell\u001b[39m\u001b[36m \u001b[39m\u001b[32mIn[5]\u001b[39m\u001b[32m, line 18\u001b[39m\n\u001b[32m      1\u001b[39m query_text = \u001b[33m\"\"\"\u001b[39m\u001b[33m--sql\u001b[39m\n\u001b[32m      2\u001b[39m \u001b[33mCREATE TABLE db1.t_all_installetion_points\u001b[39m\n\u001b[32m      3\u001b[39m \u001b[33m(\u001b[39m\n\u001b[32m   (...)\u001b[39m\u001b[32m     15\u001b[39m \u001b[33m    ORDER BY installation_point_id\u001b[39m\n\u001b[32m     16\u001b[39m \u001b[33m\"\"\"\u001b[39m\n\u001b[32m---> \u001b[39m\u001b[32m18\u001b[39m \u001b[43mch\u001b[49m\u001b[43m.\u001b[49m\u001b[43mquery_run\u001b[49m\u001b[43m(\u001b[49m\u001b[43mquery_text\u001b[49m\u001b[43m)\u001b[49m\n",
      "\u001b[36mFile \u001b[39m\u001b[32m~/Documents/Work/analytics/Clickhouse/clickhouse_client.py:29\u001b[39m, in \u001b[36mClickHouse_client.query_run\u001b[39m\u001b[34m(self, query_text)\u001b[39m\n\u001b[32m     27\u001b[39m \u001b[38;5;28;01mdef\u001b[39;00m\u001b[38;5;250m \u001b[39m\u001b[34mquery_run\u001b[39m (\u001b[38;5;28mself\u001b[39m, query_text):\n\u001b[32m     28\u001b[39m     query_text = query_text\n\u001b[32m---> \u001b[39m\u001b[32m29\u001b[39m     result = \u001b[38;5;28;43mself\u001b[39;49m\u001b[43m.\u001b[49m\u001b[43mclient\u001b[49m\u001b[43m.\u001b[49m\u001b[43mquery\u001b[49m\u001b[43m(\u001b[49m\u001b[43mquery_text\u001b[49m\u001b[43m)\u001b[49m\n\u001b[32m     30\u001b[39m     \u001b[38;5;28mself\u001b[39m.df = pd.DataFrame(result.result_rows, columns=result.column_names)\n\u001b[32m     31\u001b[39m     \u001b[38;5;66;03m# self.df = pl.DataFrame(result.result_rows, schema=result.column_names)\u001b[39;00m\n",
      "\u001b[36mFile \u001b[39m\u001b[32m~/myenv/lib/python3.12/site-packages/clickhouse_connect/driver/client.py:237\u001b[39m, in \u001b[36mClient.query\u001b[39m\u001b[34m(self, query, parameters, settings, query_formats, column_formats, encoding, use_none, column_oriented, use_numpy, max_str_len, context, query_tz, column_tzs, external_data, transport_settings)\u001b[39m\n\u001b[32m    235\u001b[39m         \u001b[38;5;28;01mreturn\u001b[39;00m response.as_query_result()\n\u001b[32m    236\u001b[39m     \u001b[38;5;28;01mreturn\u001b[39;00m QueryResult([response] \u001b[38;5;28;01mif\u001b[39;00m \u001b[38;5;28misinstance\u001b[39m(response, \u001b[38;5;28mlist\u001b[39m) \u001b[38;5;28;01melse\u001b[39;00m [[response]])\n\u001b[32m--> \u001b[39m\u001b[32m237\u001b[39m \u001b[38;5;28;01mreturn\u001b[39;00m \u001b[38;5;28;43mself\u001b[39;49m\u001b[43m.\u001b[49m\u001b[43m_query_with_context\u001b[49m\u001b[43m(\u001b[49m\u001b[43mquery_context\u001b[49m\u001b[43m)\u001b[49m\n",
      "\u001b[36mFile \u001b[39m\u001b[32m~/myenv/lib/python3.12/site-packages/clickhouse_connect/driver/httpclient.py:243\u001b[39m, in \u001b[36mHttpClient._query_with_context\u001b[39m\u001b[34m(self, context)\u001b[39m\n\u001b[32m    241\u001b[39m     fields = \u001b[38;5;28;01mNone\u001b[39;00m\n\u001b[32m    242\u001b[39m     headers[\u001b[33m'\u001b[39m\u001b[33mContent-Type\u001b[39m\u001b[33m'\u001b[39m] = \u001b[33m'\u001b[39m\u001b[33mtext/plain; charset=utf-8\u001b[39m\u001b[33m'\u001b[39m\n\u001b[32m--> \u001b[39m\u001b[32m243\u001b[39m response = \u001b[38;5;28;43mself\u001b[39;49m\u001b[43m.\u001b[49m\u001b[43m_raw_request\u001b[49m\u001b[43m(\u001b[49m\u001b[43mbody\u001b[49m\u001b[43m,\u001b[49m\n\u001b[32m    244\u001b[39m \u001b[43m                             \u001b[49m\u001b[43mparams\u001b[49m\u001b[43m,\u001b[49m\n\u001b[32m    245\u001b[39m \u001b[43m                             \u001b[49m\u001b[43mdict_copy\u001b[49m\u001b[43m(\u001b[49m\u001b[43mheaders\u001b[49m\u001b[43m,\u001b[49m\u001b[43m \u001b[49m\u001b[43mcontext\u001b[49m\u001b[43m.\u001b[49m\u001b[43mtransport_settings\u001b[49m\u001b[43m)\u001b[49m\u001b[43m,\u001b[49m\n\u001b[32m    246\u001b[39m \u001b[43m                             \u001b[49m\u001b[43mstream\u001b[49m\u001b[43m=\u001b[49m\u001b[38;5;28;43;01mTrue\u001b[39;49;00m\u001b[43m,\u001b[49m\n\u001b[32m    247\u001b[39m \u001b[43m                             \u001b[49m\u001b[43mretries\u001b[49m\u001b[43m=\u001b[49m\u001b[38;5;28;43mself\u001b[39;49m\u001b[43m.\u001b[49m\u001b[43mquery_retries\u001b[49m\u001b[43m,\u001b[49m\n\u001b[32m    248\u001b[39m \u001b[43m                             \u001b[49m\u001b[43mfields\u001b[49m\u001b[43m=\u001b[49m\u001b[43mfields\u001b[49m\u001b[43m,\u001b[49m\n\u001b[32m    249\u001b[39m \u001b[43m                             \u001b[49m\u001b[43mserver_wait\u001b[49m\u001b[43m=\u001b[49m\u001b[38;5;129;43;01mnot\u001b[39;49;00m\u001b[43m \u001b[49m\u001b[43mcontext\u001b[49m\u001b[43m.\u001b[49m\u001b[43mstreaming\u001b[49m\u001b[43m)\u001b[49m\n\u001b[32m    250\u001b[39m byte_source = RespBuffCls(ResponseSource(response))  \u001b[38;5;66;03m# pylint: disable=not-callable\u001b[39;00m\n\u001b[32m    251\u001b[39m context.set_response_tz(\u001b[38;5;28mself\u001b[39m._check_tz_change(response.headers.get(\u001b[33m'\u001b[39m\u001b[33mX-ClickHouse-Timezone\u001b[39m\u001b[33m'\u001b[39m)))\n",
      "\u001b[36mFile \u001b[39m\u001b[32m~/myenv/lib/python3.12/site-packages/clickhouse_connect/driver/httpclient.py:481\u001b[39m, in \u001b[36mHttpClient._raw_request\u001b[39m\u001b[34m(self, data, params, headers, method, retries, stream, server_wait, fields, error_handler)\u001b[39m\n\u001b[32m    479\u001b[39m     error_handler(response)\n\u001b[32m    480\u001b[39m \u001b[38;5;28;01melse\u001b[39;00m:\n\u001b[32m--> \u001b[39m\u001b[32m481\u001b[39m     \u001b[38;5;28;43mself\u001b[39;49m\u001b[43m.\u001b[49m\u001b[43m_error_handler\u001b[49m\u001b[43m(\u001b[49m\u001b[43mresponse\u001b[49m\u001b[43m)\u001b[49m\n",
      "\u001b[36mFile \u001b[39m\u001b[32m~/myenv/lib/python3.12/site-packages/clickhouse_connect/driver/httpclient.py:402\u001b[39m, in \u001b[36mHttpClient._error_handler\u001b[39m\u001b[34m(self, response, retried)\u001b[39m\n\u001b[32m    399\u001b[39m \u001b[38;5;28;01melse\u001b[39;00m:\n\u001b[32m    400\u001b[39m     err_str = \u001b[33m'\u001b[39m\u001b[33mThe ClickHouse server returned an error.\u001b[39m\u001b[33m'\u001b[39m\n\u001b[32m--> \u001b[39m\u001b[32m402\u001b[39m \u001b[38;5;28;01mraise\u001b[39;00m OperationalError(err_str) \u001b[38;5;28;01mif\u001b[39;00m retried \u001b[38;5;28;01melse\u001b[39;00m DatabaseError(err_str) \u001b[38;5;28;01mfrom\u001b[39;00m\u001b[38;5;250m \u001b[39m\u001b[38;5;28;01mNone\u001b[39;00m\n",
      "\u001b[31mDatabaseError\u001b[39m: HTTPDriver for https://rc1a-eflrt968scbm232q.mdb.yandexcloud.net:8443 received ClickHouse error code 57\n Code: 57. DB::Exception: Table db1.t_all_installetion_points already exists. (TABLE_ALREADY_EXISTS) (version 25.3.3.42 (official build))\n"
     ]
    }
   ],
   "source": [
    "query_text = \"\"\"--sql\n",
    "CREATE TABLE db1.t_all_installetion_points\n",
    "(\n",
    "    `address_uuid` String,\n",
    "    `city` String,\n",
    "    `country` String,\n",
    "    `created_at` String,\n",
    "    `full_address` String,\n",
    "    `installation_point_id` Int32,\n",
    "    `parent_uuid` String ,\n",
    "    `region` String,\n",
    "    `report_date` Date\n",
    ")\n",
    "    ENGINE = MergeTree()\n",
    "    ORDER BY installation_point_id\n",
    "\"\"\"\n",
    "\n",
    "ch.query_run(query_text)"
   ]
  },
  {
   "cell_type": "code",
   "execution_count": 6,
   "id": "649b9261",
   "metadata": {},
   "outputs": [
    {
     "data": {
      "text/html": [
       "<div><style>\n",
       ".dataframe > thead > tr,\n",
       ".dataframe > tbody > tr {\n",
       "  text-align: right;\n",
       "  white-space: pre-wrap;\n",
       "}\n",
       "</style>\n",
       "<small>shape: (0, 0)</small><table border=\"1\" class=\"dataframe\"><thead><tr></tr><tr></tr></thead><tbody></tbody></table></div>"
      ],
      "text/plain": [
       "shape: (0, 0)\n",
       "┌┐\n",
       "╞╡\n",
       "└┘"
      ]
     },
     "execution_count": 6,
     "metadata": {},
     "output_type": "execute_result"
    }
   ],
   "source": [
    "query_text = \"\"\"--sql\n",
    "    CREATE MATERIALIZED VIEW db1.t_all_installetion_points_mv\n",
    "    REFRESH EVERY 1 DAY OFFSET 3 HOUR 50 MINUTE TO db1.t_all_installetion_points AS\n",
    "    SELECT\n",
    "        parent_uuid,\n",
    "        installation_point_id,\n",
    "        address_uuid,\n",
    "        report_date,\n",
    "        full_address,\n",
    "        created_at,\n",
    "        region,\n",
    "        country,\n",
    "        city\n",
    "    FROM (\n",
    "        SELECT\n",
    "            parent_uuid,\n",
    "            installation_point_id,\n",
    "            address_uuid,\n",
    "            report_date,\n",
    "            full_address,\n",
    "            created_at,\n",
    "            region,\n",
    "            country,\n",
    "            city\n",
    "        FROM db1.installation_point_st_partner_ch as installation_point_st_partner\n",
    "        LEFT JOIN db1.entries_installation_points_dir_partner_ch USING(installation_point_id)\n",
    "        WHERE installation_point_st_partner.installation_point_id != 0 AND installation_point_st_partner.installation_point_id IS NOT NULL\n",
    "        UNION ALL\n",
    "        SELECT\n",
    "            parent_uuid,\n",
    "            installation_point_id,\n",
    "            address_uuid,\n",
    "            report_date,\n",
    "            arrayStringConcat(arraySlice(splitByString(',', full_address), 1, length(splitByString(',', full_address)) - 1), ',') AS full_address,\n",
    "            created_at,\n",
    "            region,\n",
    "            country,\n",
    "            city\n",
    "        FROM db1.buildings_st_partner_ch as buildings_st_partner\n",
    "        LEFT JOIN db1.entries_installation_points_dir_partner USING(parent_uuid)\n",
    "        WHERE buildings_st_partner.installation_point_id != 0 AND buildings_st_partner.installation_point_id IS NOT NULL\n",
    "        UNION ALL\n",
    "        SELECT\n",
    "            parent_uuid,\n",
    "            installation_point_id,\n",
    "            address_uuid,\n",
    "            report_date,\n",
    "            arrayStringConcat(arraySlice(splitByString(',', full_address), 1, length(splitByString(',', full_address)) - 1), ',') AS full_address,\n",
    "            created_at,\n",
    "            region,\n",
    "            country,\n",
    "            city\n",
    "        FROM db1.gates_st_partner as gates_st_partner\n",
    "        LEFT JOIN db1.entries_installation_points_dir_partner USING(parent_uuid)\n",
    "        WHERE gates_st_partner.installation_point_id != 0 AND gates_st_partner.installation_point_id IS NOT NULL\n",
    "    )\n",
    "    \"\"\"\n",
    "\n",
    "ch.query_run(query_text)"
   ]
  },
  {
   "cell_type": "markdown",
   "id": "a47e7483",
   "metadata": {},
   "source": [
    "___\n",
    "## Tools\n",
    "___\n",
    "### query\n"
   ]
  },
  {
   "cell_type": "code",
   "execution_count": 7,
   "id": "23c84188",
   "metadata": {},
   "outputs": [
    {
     "data": {
      "text/html": [
       "<div><style>\n",
       ".dataframe > thead > tr,\n",
       ".dataframe > tbody > tr {\n",
       "  text-align: right;\n",
       "  white-space: pre-wrap;\n",
       "}\n",
       "</style>\n",
       "<small>shape: (100, 9)</small><table border=\"1\" class=\"dataframe\"><thead><tr><th>address_uuid</th><th>city</th><th>country</th><th>created_at</th><th>full_address</th><th>installation_point_id</th><th>parent_uuid</th><th>region</th><th>report_date</th></tr><tr><td>str</td><td>str</td><td>str</td><td>str</td><td>str</td><td>i64</td><td>str</td><td>str</td><td>date</td></tr></thead><tbody><tr><td>&quot;0a2f9718-be59-4265-a635-1f431e…</td><td>&quot;Иннополис&quot;</td><td>&quot;Россия&quot;</td><td>&quot;2023-01-25 15:15:12&quot;</td><td>&quot;Россия, Республика Татарстан, …</td><td>10</td><td>&quot;d13b04d0-0e88-4326-884c-7a511e…</td><td>&quot;Республика Татарстан&quot;</td><td>2025-08-19</td></tr><tr><td>&quot;029d2d1d-792e-4b43-8245-6c4693…</td><td>&quot;Иннополис&quot;</td><td>&quot;Россия&quot;</td><td>&quot;2018-05-25 07:50:25&quot;</td><td>&quot;Россия, Республика Татарстан, …</td><td>9</td><td>&quot;172aff05-9d66-4f98-b485-1f177d…</td><td>&quot;Республика Татарстан&quot;</td><td>2025-08-19</td></tr><tr><td>&quot;82ae8710-c673-4ddd-b8b0-d88eb3…</td><td>&quot;Иннополис&quot;</td><td>&quot;Россия&quot;</td><td>&quot;2018-05-25 07:50:25&quot;</td><td>&quot;Россия, Республика Татарстан, …</td><td>8</td><td>&quot;172aff05-9d66-4f98-b485-1f177d…</td><td>&quot;Республика Татарстан&quot;</td><td>2025-08-19</td></tr><tr><td>&quot;501b7f66-eb3d-410f-96d0-da75fc…</td><td>&quot;Иннополис&quot;</td><td>&quot;Россия&quot;</td><td>&quot;2018-05-25 07:50:25&quot;</td><td>&quot;Россия, Республика Татарстан, …</td><td>7</td><td>&quot;172aff05-9d66-4f98-b485-1f177d…</td><td>&quot;Республика Татарстан&quot;</td><td>2025-08-19</td></tr><tr><td>&quot;a6b2cde0-26b5-4ce3-af2e-8d03e3…</td><td>&quot;Иннополис&quot;</td><td>&quot;Россия&quot;</td><td>&quot;2018-05-25 07:50:25&quot;</td><td>&quot;Россия, Республика Татарстан, …</td><td>2</td><td>&quot;54086eea-e2b4-46ad-ba06-913233…</td><td>&quot;Республика Татарстан&quot;</td><td>2025-08-19</td></tr><tr><td>&hellip;</td><td>&hellip;</td><td>&hellip;</td><td>&hellip;</td><td>&hellip;</td><td>&hellip;</td><td>&hellip;</td><td>&hellip;</td><td>&hellip;</td></tr><tr><td>&quot;4b0b5d9d-9a3e-4771-b297-f7ffe4…</td><td>&quot;Луховицы&quot;</td><td>&quot;Россия&quot;</td><td>&quot;2019-03-14 10:57:59&quot;</td><td>&quot;Россия, Московская область, го…</td><td>393</td><td>&quot;a2c69717-900f-4973-b47d-fb2446…</td><td>&quot;Московская область&quot;</td><td>2025-08-19</td></tr><tr><td>&quot;812e6d6f-e573-46de-b7f5-0481c3…</td><td>&quot;Волгоград&quot;</td><td>&quot;Россия&quot;</td><td>&quot;2019-03-13 10:48:09&quot;</td><td>&quot;Россия, Волгоградская область,…</td><td>387</td><td>&quot;d18298ac-9e2d-4eba-a477-be16b7…</td><td>&quot;Волгоградская область&quot;</td><td>2025-08-19</td></tr><tr><td>&quot;525b5d32-707d-4e27-b000-9cbc15…</td><td>&quot;Тюмень&quot;</td><td>&quot;Россия&quot;</td><td>&quot;2019-03-14 05:48:35&quot;</td><td>&quot;Россия, Тюменская область, гор…</td><td>392</td><td>&quot;4b6c527a-54ee-48ce-ae2b-d65a32…</td><td>&quot;Тюменская область&quot;</td><td>2025-08-19</td></tr><tr><td>&quot;e4125c6a-f616-47ae-ae67-3890ad…</td><td>&quot;Тюмень&quot;</td><td>&quot;Россия&quot;</td><td>&quot;2019-03-29 10:42:10&quot;</td><td>&quot;Россия, Тюменская область, гор…</td><td>472</td><td>&quot;4b6c527a-54ee-48ce-ae2b-d65a32…</td><td>&quot;Тюменская область&quot;</td><td>2025-08-19</td></tr><tr><td>&quot;739bfea0-7706-462c-b441-7b66d7…</td><td>&quot;Санкт-Петербург&quot;</td><td>&quot;Россия&quot;</td><td>&quot;2019-04-08 14:09:24&quot;</td><td>&quot;Россия, Санкт-Петербург, Санкт…</td><td>514</td><td>&quot;728be04d-d780-4b41-a613-c190ae…</td><td>&quot;Санкт-Петербург&quot;</td><td>2025-08-19</td></tr></tbody></table></div>"
      ],
      "text/plain": [
       "shape: (100, 9)\n",
       "┌────────────┬───────────┬─────────┬───────────┬───┬───────────┬───────────┬───────────┬───────────┐\n",
       "│ address_uu ┆ city      ┆ country ┆ created_a ┆ … ┆ installat ┆ parent_uu ┆ region    ┆ report_da │\n",
       "│ id         ┆ ---       ┆ ---     ┆ t         ┆   ┆ ion_point ┆ id        ┆ ---       ┆ te        │\n",
       "│ ---        ┆ str       ┆ str     ┆ ---       ┆   ┆ _id       ┆ ---       ┆ str       ┆ ---       │\n",
       "│ str        ┆           ┆         ┆ str       ┆   ┆ ---       ┆ str       ┆           ┆ date      │\n",
       "│            ┆           ┆         ┆           ┆   ┆ i64       ┆           ┆           ┆           │\n",
       "╞════════════╪═══════════╪═════════╪═══════════╪═══╪═══════════╪═══════════╪═══════════╪═══════════╡\n",
       "│ 0a2f9718-b ┆ Иннополис ┆ Россия  ┆ 2023-01-2 ┆ … ┆ 10        ┆ d13b04d0- ┆ Республик ┆ 2025-08-1 │\n",
       "│ e59-4265-a ┆           ┆         ┆ 5         ┆   ┆           ┆ 0e88-4326 ┆ а         ┆ 9         │\n",
       "│ 635-1f431e ┆           ┆         ┆ 15:15:12  ┆   ┆           ┆ -884c-7a5 ┆ Татарстан ┆           │\n",
       "│ …          ┆           ┆         ┆           ┆   ┆           ┆ 11e…      ┆           ┆           │\n",
       "│ 029d2d1d-7 ┆ Иннополис ┆ Россия  ┆ 2018-05-2 ┆ … ┆ 9         ┆ 172aff05- ┆ Республик ┆ 2025-08-1 │\n",
       "│ 92e-4b43-8 ┆           ┆         ┆ 5         ┆   ┆           ┆ 9d66-4f98 ┆ а         ┆ 9         │\n",
       "│ 245-6c4693 ┆           ┆         ┆ 07:50:25  ┆   ┆           ┆ -b485-1f1 ┆ Татарстан ┆           │\n",
       "│ …          ┆           ┆         ┆           ┆   ┆           ┆ 77d…      ┆           ┆           │\n",
       "│ 82ae8710-c ┆ Иннополис ┆ Россия  ┆ 2018-05-2 ┆ … ┆ 8         ┆ 172aff05- ┆ Республик ┆ 2025-08-1 │\n",
       "│ 673-4ddd-b ┆           ┆         ┆ 5         ┆   ┆           ┆ 9d66-4f98 ┆ а         ┆ 9         │\n",
       "│ 8b0-d88eb3 ┆           ┆         ┆ 07:50:25  ┆   ┆           ┆ -b485-1f1 ┆ Татарстан ┆           │\n",
       "│ …          ┆           ┆         ┆           ┆   ┆           ┆ 77d…      ┆           ┆           │\n",
       "│ 501b7f66-e ┆ Иннополис ┆ Россия  ┆ 2018-05-2 ┆ … ┆ 7         ┆ 172aff05- ┆ Республик ┆ 2025-08-1 │\n",
       "│ b3d-410f-9 ┆           ┆         ┆ 5         ┆   ┆           ┆ 9d66-4f98 ┆ а         ┆ 9         │\n",
       "│ 6d0-da75fc ┆           ┆         ┆ 07:50:25  ┆   ┆           ┆ -b485-1f1 ┆ Татарстан ┆           │\n",
       "│ …          ┆           ┆         ┆           ┆   ┆           ┆ 77d…      ┆           ┆           │\n",
       "│ a6b2cde0-2 ┆ Иннополис ┆ Россия  ┆ 2018-05-2 ┆ … ┆ 2         ┆ 54086eea- ┆ Республик ┆ 2025-08-1 │\n",
       "│ 6b5-4ce3-a ┆           ┆         ┆ 5         ┆   ┆           ┆ e2b4-46ad ┆ а         ┆ 9         │\n",
       "│ f2e-8d03e3 ┆           ┆         ┆ 07:50:25  ┆   ┆           ┆ -ba06-913 ┆ Татарстан ┆           │\n",
       "│ …          ┆           ┆         ┆           ┆   ┆           ┆ 233…      ┆           ┆           │\n",
       "│ …          ┆ …         ┆ …       ┆ …         ┆ … ┆ …         ┆ …         ┆ …         ┆ …         │\n",
       "│ 4b0b5d9d-9 ┆ Луховицы  ┆ Россия  ┆ 2019-03-1 ┆ … ┆ 393       ┆ a2c69717- ┆ Московска ┆ 2025-08-1 │\n",
       "│ a3e-4771-b ┆           ┆         ┆ 4         ┆   ┆           ┆ 900f-4973 ┆ я область ┆ 9         │\n",
       "│ 297-f7ffe4 ┆           ┆         ┆ 10:57:59  ┆   ┆           ┆ -b47d-fb2 ┆           ┆           │\n",
       "│ …          ┆           ┆         ┆           ┆   ┆           ┆ 446…      ┆           ┆           │\n",
       "│ 812e6d6f-e ┆ Волгоград ┆ Россия  ┆ 2019-03-1 ┆ … ┆ 387       ┆ d18298ac- ┆ Волгоград ┆ 2025-08-1 │\n",
       "│ 573-46de-b ┆           ┆         ┆ 3         ┆   ┆           ┆ 9e2d-4eba ┆ ская      ┆ 9         │\n",
       "│ 7f5-0481c3 ┆           ┆         ┆ 10:48:09  ┆   ┆           ┆ -a477-be1 ┆ область   ┆           │\n",
       "│ …          ┆           ┆         ┆           ┆   ┆           ┆ 6b7…      ┆           ┆           │\n",
       "│ 525b5d32-7 ┆ Тюмень    ┆ Россия  ┆ 2019-03-1 ┆ … ┆ 392       ┆ 4b6c527a- ┆ Тюменская ┆ 2025-08-1 │\n",
       "│ 07d-4e27-b ┆           ┆         ┆ 4         ┆   ┆           ┆ 54ee-48ce ┆ область   ┆ 9         │\n",
       "│ 000-9cbc15 ┆           ┆         ┆ 05:48:35  ┆   ┆           ┆ -ae2b-d65 ┆           ┆           │\n",
       "│ …          ┆           ┆         ┆           ┆   ┆           ┆ a32…      ┆           ┆           │\n",
       "│ e4125c6a-f ┆ Тюмень    ┆ Россия  ┆ 2019-03-2 ┆ … ┆ 472       ┆ 4b6c527a- ┆ Тюменская ┆ 2025-08-1 │\n",
       "│ 616-47ae-a ┆           ┆         ┆ 9         ┆   ┆           ┆ 54ee-48ce ┆ область   ┆ 9         │\n",
       "│ e67-3890ad ┆           ┆         ┆ 10:42:10  ┆   ┆           ┆ -ae2b-d65 ┆           ┆           │\n",
       "│ …          ┆           ┆         ┆           ┆   ┆           ┆ a32…      ┆           ┆           │\n",
       "│ 739bfea0-7 ┆ Санкт-Пет ┆ Россия  ┆ 2019-04-0 ┆ … ┆ 514       ┆ 728be04d- ┆ Санкт-Пет ┆ 2025-08-1 │\n",
       "│ 706-462c-b ┆ ербург    ┆         ┆ 8         ┆   ┆           ┆ d780-4b41 ┆ ербург    ┆ 9         │\n",
       "│ 441-7b66d7 ┆           ┆         ┆ 14:09:24  ┆   ┆           ┆ -a613-c19 ┆           ┆           │\n",
       "│ …          ┆           ┆         ┆           ┆   ┆           ┆ 0ae…      ┆           ┆           │\n",
       "└────────────┴───────────┴─────────┴───────────┴───┴───────────┴───────────┴───────────┴───────────┘"
      ]
     },
     "execution_count": 7,
     "metadata": {},
     "output_type": "execute_result"
    }
   ],
   "source": [
    "query_text = \"\"\"--sql\n",
    "    SELECT\n",
    "        *\n",
    "    FROM db1.t_all_installetion_points\n",
    "    ORDER BY report_date desc\n",
    "    limit 100\n",
    "    \"\"\"\n",
    "\n",
    "ch.query_run(query_text)\n"
   ]
  },
  {
   "cell_type": "markdown",
   "id": "f2e8f4ec",
   "metadata": {},
   "source": [
    "### delete a part\n"
   ]
  },
  {
   "cell_type": "code",
   "execution_count": null,
   "id": "92ac18f4",
   "metadata": {},
   "outputs": [
    {
     "data": {
      "text/html": [
       "<div><style>\n",
       ".dataframe > thead > tr,\n",
       ".dataframe > tbody > tr {\n",
       "  text-align: right;\n",
       "  white-space: pre-wrap;\n",
       "}\n",
       "</style>\n",
       "<small>shape: (0, 0)</small><table border=\"1\" class=\"dataframe\"><thead><tr></tr><tr></tr></thead><tbody></tbody></table></div>"
      ],
      "text/plain": [
       "shape: (0, 0)\n",
       "┌┐\n",
       "╞╡\n",
       "└┘"
      ]
     },
     "metadata": {},
     "output_type": "display_data"
    }
   ],
   "source": [
    "query_text = \"\"\"--sql\n",
    "    ALTER TABLE db1.all_installetion_points_parquet_ch DELETE WHERE report_date = '2025-07-17'\n",
    "    \"\"\"\n",
    "\n",
    "ch.query_run(query_text)\n"
   ]
  },
  {
   "cell_type": "markdown",
   "id": "da4dbb2c",
   "metadata": {},
   "source": [
    "### drop mv"
   ]
  },
  {
   "cell_type": "code",
   "execution_count": 5,
   "id": "30be885f",
   "metadata": {
    "lines_to_next_cell": 2
   },
   "outputs": [
    {
     "data": {
      "text/html": [
       "<div><style>\n",
       ".dataframe > thead > tr,\n",
       ".dataframe > tbody > tr {\n",
       "  text-align: right;\n",
       "  white-space: pre-wrap;\n",
       "}\n",
       "</style>\n",
       "<small>shape: (0, 0)</small><table border=\"1\" class=\"dataframe\"><thead><tr></tr><tr></tr></thead><tbody></tbody></table></div>"
      ],
      "text/plain": [
       "shape: (0, 0)\n",
       "┌┐\n",
       "╞╡\n",
       "└┘"
      ]
     },
     "execution_count": 5,
     "metadata": {},
     "output_type": "execute_result"
    }
   ],
   "source": [
    "query_text = \"\"\"--sql\n",
    "    DROP TABLE db1.all_installetion_points_parquet_mv\n",
    "    \"\"\"\n",
    "\n",
    "ch.query_run(query_text)"
   ]
  },
  {
   "cell_type": "markdown",
   "id": "81c4f25d",
   "metadata": {},
   "source": [
    "### drop ch"
   ]
  },
  {
   "cell_type": "code",
   "execution_count": null,
   "id": "5bb8ce5e",
   "metadata": {},
   "outputs": [],
   "source": [
    "query_text = \"\"\"--sql\n",
    "    DROP TABLE db1.all_installetion_points_parquet_ch\n",
    "    \"\"\"\n",
    "\n",
    "ch.query_run(query_text)"
   ]
  },
  {
   "cell_type": "markdown",
   "id": "e37af6f7",
   "metadata": {},
   "source": [
    "### refresh mv"
   ]
  },
  {
   "cell_type": "code",
   "execution_count": null,
   "id": "d1053b57",
   "metadata": {},
   "outputs": [],
   "source": [
    "query_text = \"\"\"\n",
    "SYSTEM REFRESH VIEW db1.all_installetion_points_parquet_mv\n",
    "\"\"\"\n",
    "\n",
    "ch.query_run(query_text)"
   ]
  }
 ],
 "metadata": {
  "jupytext": {
   "formats": "ipynb,md"
  },
  "kernelspec": {
   "display_name": "myenv",
   "language": "python",
   "name": "python3"
  },
  "language_info": {
   "codemirror_mode": {
    "name": "ipython",
    "version": 3
   },
   "file_extension": ".py",
   "mimetype": "text/x-python",
   "name": "python",
   "nbconvert_exporter": "python",
   "pygments_lexer": "ipython3",
   "version": "3.12.11"
  }
 },
 "nbformat": 4,
 "nbformat_minor": 5
}

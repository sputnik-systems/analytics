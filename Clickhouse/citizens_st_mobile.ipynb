{
 "cells": [
  {
   "cell_type": "markdown",
   "id": "55228966",
   "metadata": {},
   "source": [
    "# citizens_st_mobile\n",
    "___\n"
   ]
  },
  {
   "cell_type": "markdown",
   "id": "3e239d19",
   "metadata": {},
   "source": [
    "## Start"
   ]
  },
  {
   "cell_type": "code",
   "execution_count": null,
   "id": "b18c450e",
   "metadata": {},
   "outputs": [],
   "source": [
    "import clickhouse_connect\n",
    "import datetime\n",
    "import os\n",
    "import pytz\n",
    "import pandas as pd\n",
    "from dateutil.relativedelta import relativedelta\n",
    "from dotenv import load_dotenv\n",
    "\n",
    "import sys\n",
    "sys.path.append('/home/boris/Documents/Work/analytics/Clickhouse')\n",
    "from clickhouse_client import ClickHouse_client\n",
    "ch = ClickHouse_client()\n",
    "pd.set_option('display.max_rows', 1000)"
   ]
  },
  {
   "cell_type": "markdown",
   "id": "3862960a",
   "metadata": {},
   "source": [
    "## Tags: #Source #Mobile #YandexFunctions\n",
    "\n",
    "## Links: [[clichouse_schedule_function]]\n",
    "___"
   ]
  },
  {
   "cell_type": "markdown",
   "id": "f93c5fa0",
   "metadata": {},
   "source": [
    "### creating a table from s3"
   ]
  },
  {
   "cell_type": "code",
   "execution_count": null,
   "id": "6285e356",
   "metadata": {},
   "outputs": [],
   "source": [
    "\n",
    "\n",
    "query_text = \"\"\"--sql\n",
    "    CREATE TABLE db1.citizens_st_mobile\n",
    "    (\n",
    "    `report_date` Date,\n",
    "    `citizen_id` Int32,\n",
    "    `trial_available` Int32,\n",
    "    `state` String,\n",
    "    `activated_at` String,\n",
    "    `flat_uuid` String,\n",
    "    `address_uuid` String\n",
    "    )\n",
    "    ENGINE = S3('https://storage.yandexcloud.net/dwh-asgard/citizens_st_mobile/year=*/month=*/*.csv','CSVWithNames')\n",
    "    \"\"\"\n",
    "\n",
    "ch.query_run(query_text)"
   ]
  },
  {
   "cell_type": "markdown",
   "id": "b679e023",
   "metadata": {},
   "source": [
    "### creating a table in ch"
   ]
  },
  {
   "cell_type": "code",
   "execution_count": null,
   "id": "6044f524",
   "metadata": {},
   "outputs": [],
   "source": [
    "query_text = \"\"\"--sql\n",
    "    CREATE TABLE db1.citizens_st_mobile_ch\n",
    "    (\n",
    "    `report_date` Date,\n",
    "    `citizen_id` Int32,\n",
    "    `trial_available` Int32,\n",
    "    `state` String,\n",
    "    `activated_at` DateTime,\n",
    "    `flat_uuid` String,\n",
    "    `address_uuid` String\n",
    "    )\n",
    "    ENGINE = MergeTree()\n",
    "    ORDER BY citizen_id\n",
    "    \"\"\"\n",
    "\n",
    "ch.query_run(query_text)"
   ]
  },
  {
   "cell_type": "markdown",
   "id": "4cf17c31",
   "metadata": {},
   "source": [
    "### creating a mv\n",
    "\n",
    "dosn't work now"
   ]
  },
  {
   "cell_type": "code",
   "execution_count": null,
   "id": "f4a75065",
   "metadata": {},
   "outputs": [],
   "source": [
    "query_text = \"\"\"--sql\n",
    " --   CREATE MATERIALIZED VIEW db1.citizens_st_mobile_mv\n",
    " --   REFRESH EVERY 1 DAY OFFSET 3 HOUR RANDOMIZE FOR 1 HOUR TO db1.citizens_st_mobile_ch AS\n",
    " --  SELECT\n",
    " --       *\n",
    " --   FROM db1.citizens_st_mobile\n",
    "    \"\"\"\n",
    "\n",
    "ch.query_run(query_text)"
   ]
  },
  {
   "cell_type": "markdown",
   "id": "a9bbdf2f",
   "metadata": {},
   "source": [
    "### add data before 2025-05-30"
   ]
  },
  {
   "cell_type": "code",
   "execution_count": null,
   "id": "db13d344",
   "metadata": {},
   "outputs": [],
   "source": [
    "start_date = datetime.datetime.strptime('2023-07-10','%Y-%m-%d').date()\n",
    "end_date = datetime.datetime.strptime('2025-05-29','%Y-%m-%d').date()\n",
    "\n",
    "dates_pd = pd.DataFrame({\n",
    "        'date': pd.date_range(start=start_date, end=end_date).strftime('%Y-%m-%d'),\n",
    "        'date_key': pd.date_range(start=start_date, end=end_date).strftime('%/year=%-Y/month=%m/%d%')\n",
    "        })\n",
    "dates_pd = dates_pd.iloc[::-1].reset_index(drop=True)\n",
    "for day_index in dates_pd.index:\n",
    "    date = dates_pd.loc[day_index,['date']].values[0]\n",
    "    date_key = dates_pd.loc[day_index,['date_key']].values[0]\n",
    "    query_text = f\"\"\"\n",
    "        INSERT INTO db1.citizens_st_mobile_ch\n",
    "        SELECT\n",
    "            citizens_st_mobile.report_date AS report_date,\n",
    "            citizens_st_mobile.citizen_id AS citizen_id,\n",
    "            citizens_st_mobile.trial_available AS trial_available,\n",
    "            citizens_st_mobile.state AS state,\n",
    "            toDateTimeOrZero(citizens_st_mobile_ch_2025_05_30.activated_at) AS activated_at,\n",
    "            citizens_st_mobile_ch_2025_05_30.flat_uuid AS flat_uuid,\n",
    "            citizens_st_mobile_ch_2025_05_30.address_uuid AS address_uuid\n",
    "        FROM db1.citizens_st_mobile AS citizens_st_mobile\n",
    "        LEFT JOIN\n",
    "            (SELECT\n",
    "                citizen_id,\n",
    "                flat_uuid,\n",
    "                address_uuid,\n",
    "                activated_at\n",
    "            FROM db1.citizens_st_mobile\n",
    "            WHERE report_date = '2025-05-30'\n",
    "             AND _path LIKE '%/year=2025/month=05/30%') AS citizens_st_mobile_ch_2025_05_30\n",
    "            ON citizens_st_mobile_ch_2025_05_30.citizen_id = citizens_st_mobile.citizen_id\n",
    "        WHERE report_date = '{date}'\n",
    "            AND _path LIKE '{date_key}'\n",
    "    \"\"\"\n",
    "    ch.query_run(query_text)\n",
    "    print(date)\n",
    "# ch.query_run(query_text)"
   ]
  },
  {
   "cell_type": "markdown",
   "id": "87256a2f",
   "metadata": {},
   "source": [
    "### add data after 2025-05-30"
   ]
  },
  {
   "cell_type": "code",
   "execution_count": null,
   "id": "d210f406",
   "metadata": {},
   "outputs": [],
   "source": [
    "start_date = datetime.datetime.strptime('2025-05-30','%Y-%m-%d').date()\n",
    "end_date = datetime.datetime.strptime('2025-07-10','%Y-%m-%d').date()\n",
    "\n",
    "dates_pd = pd.DataFrame({\n",
    "        'date': pd.date_range(start=start_date, end=end_date).strftime('%Y-%m-%d'),\n",
    "        'date_key': pd.date_range(start=start_date, end=end_date).strftime('%/year=%-Y/month=%m/%d%')\n",
    "        })\n",
    "dates_pd = dates_pd.iloc[::-1].reset_index(drop=True)\n",
    "for day_index in dates_pd.index:\n",
    "    date = dates_pd.loc[day_index,['date']].values[0]\n",
    "    date_key = dates_pd.loc[day_index,['date_key']].values[0]\n",
    "    query_text = f\"\"\"\n",
    "        INSERT INTO db1.citizens_st_mobile_ch\n",
    "        SELECT\n",
    "            report_date,\n",
    "            citizen_id,\n",
    "            trial_available,\n",
    "            state,\n",
    "            toDateTimeOrZero(activated_at) AS activated_at,\n",
    "            flat_uuid,\n",
    "            address_uuid\n",
    "        FROM db1.citizens_st_mobile\n",
    "        WHERE report_date = '{date}'\n",
    "        AND _path LIKE '{date_key}'\n",
    "        \n",
    "    \"\"\"\n",
    "    ch.query_run(query_text)\n",
    "    print(date)\n",
    "# ch.query_run(query_text)"
   ]
  },
  {
   "cell_type": "markdown",
   "id": "ee51ad09",
   "metadata": {},
   "source": [
    "___"
   ]
  },
  {
   "cell_type": "markdown",
   "id": "b33fa664",
   "metadata": {},
   "source": [
    "## Tools"
   ]
  },
  {
   "cell_type": "markdown",
   "id": "23c807ef",
   "metadata": {},
   "source": [
    "### query"
   ]
  },
  {
   "cell_type": "code",
   "execution_count": null,
   "id": "1b5a27c1",
   "metadata": {},
   "outputs": [],
   "source": [
    "query_text = \"\"\"--sql\n",
    "    SELECT\n",
    "        *\n",
    "    FROM db1.citizens_st_mobile_ch\n",
    "    ORDER BY report_date desc\n",
    "    limit 100\n",
    "    \"\"\"\n",
    "\n",
    "ch.query_run(query_text)\n"
   ]
  },
  {
   "cell_type": "markdown",
   "id": "184f1a80",
   "metadata": {},
   "source": [
    "### drop mv"
   ]
  },
  {
   "cell_type": "code",
   "execution_count": null,
   "id": "cca7873f",
   "metadata": {},
   "outputs": [],
   "source": [
    "query_text = \"\"\"--sql\n",
    "    DROP TABLE db1.citizens_st_mobile_mv\n",
    "    \"\"\"\n",
    "\n",
    "ch.query_run(query_text)"
   ]
  },
  {
   "cell_type": "markdown",
   "id": "3c52b7bf",
   "metadata": {},
   "source": [
    "\n",
    "### drop table"
   ]
  },
  {
   "cell_type": "code",
   "execution_count": null,
   "id": "cf94ce9f",
   "metadata": {},
   "outputs": [],
   "source": [
    "query_text = \"\"\"--sql\n",
    "    DROP TABLE db1.citizens_st_mobile_ch\n",
    "    \"\"\"\n",
    "\n",
    "ch.query_run(query_text)"
   ]
  }
 ],
 "metadata": {
  "jupytext": {
   "cell_metadata_filter": "-all",
   "formats": "ipynb,md",
   "main_language": "python"
  },
  "kernelspec": {
   "display_name": "myenv",
   "language": "python",
   "name": "python3"
  },
  "language_info": {
   "codemirror_mode": {
    "name": "ipython",
    "version": 3
   },
   "file_extension": ".py",
   "mimetype": "text/x-python",
   "name": "python",
   "nbconvert_exporter": "python",
   "pygments_lexer": "ipython3",
   "version": "3.12.10"
  }
 },
 "nbformat": 4,
 "nbformat_minor": 5
}

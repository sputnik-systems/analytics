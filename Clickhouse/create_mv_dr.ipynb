{
 "cells": [
  {
   "cell_type": "code",
   "execution_count": 1,
   "id": "bd5d49a3",
   "metadata": {},
   "outputs": [],
   "source": [
    "import clickhouse_connect\n",
    "import datetime\n",
    "import os\n",
    "import pytz\n",
    "import pandas as pd\n",
    "from dateutil.relativedelta import relativedelta\n",
    "from dotenv import load_dotenv\n",
    "\n",
    "import sys\n",
    "sys.path.append('/home/boris/Documents/Work/analytics/Clickhouse')\n",
    "from clickhouse_client import ClickHouse_client\n",
    "ch = ClickHouse_client()\n",
    "pd.set_option('display.max_rows', 1000)\n",
    "\n"
   ]
  },
  {
   "cell_type": "code",
   "execution_count": 6,
   "id": "e535eea0",
   "metadata": {},
   "outputs": [],
   "source": [
    "query_text = f\"\"\"\n",
    "SHOW TABLES\n",
    "\"\"\"\n",
    "tables = ch.query_run(query_text)['name'].to_list()\n"
   ]
  },
  {
   "cell_type": "code",
   "execution_count": 8,
   "id": "7f1dc5a6",
   "metadata": {},
   "outputs": [
    {
     "data": {
      "text/plain": [
       "['billing_orders_devices_st_partner',\n",
       " 'buildings_st_partner',\n",
       " 'cameras_daily_percentage_online_st_asgard',\n",
       " 'cameras_st_asgard',\n",
       " 'cameras_st_partner',\n",
       " 'categories_st_support',\n",
       " 'citizen_payments_st_mobile',\n",
       " 'citizens_st_mobile',\n",
       " 'companies_st_partner',\n",
       " 'complaints_st_partner',\n",
       " 'entries_st_mobile',\n",
       " 'flats_st_partner',\n",
       " 'flussonic_stats_st_asgard',\n",
       " 'gates_st_partner',\n",
       " 'installation_point_st_partner',\n",
       " 'intercoms_daily_percentage_online_st_asgard',\n",
       " 'intercoms_st_asgard',\n",
       " 'intercoms_st_partner',\n",
       " 'mv_companies_st_partner',\n",
       " 'no_video_on_stream_mobile_st_asgard',\n",
       " 'opendoor_types_mobile_st_asgard',\n",
       " 'reconnects_intercoms_st_asgard',\n",
       " 'requests_st_support',\n",
       " 'sessions_st_mobile',\n",
       " 'subscriptions_st_mobile',\n",
       " 'subscriptions_st_mobile_ch_2',\n",
       " 'subscriptions_st_mobile_mv_2',\n",
       " 't_activated_citizen_id',\n",
       " 't_all_installetion_points',\n",
       " 't_billings_cohorts',\n",
       " 't_bitrix_deals_sales',\n",
       " 't_cameras_by_companies',\n",
       " 't_citizen_id_in_flat_with_subscriptions',\n",
       " 't_complaints_st_partner',\n",
       " 't_count_io_22_io_pro',\n",
       " 't_count_of_subscribes_by_adreses',\n",
       " 't_device_and_shipment_history_by_company_and_city',\n",
       " 't_device_billins',\n",
       " 't_full_citizen_id_in_flat_with_subscriptions',\n",
       " 't_gropped_reconnects_and_daily_percentage_dataset',\n",
       " 't_payments_amount',\n",
       " 't_requests_info_st_support',\n",
       " 't_requests_st_support',\n",
       " 't_sub_by_intercoms',\n",
       " 't_subscribed_citizen_id',\n",
       " 't_subsctibtions_by_enteries',\n",
       " 't_uk_adresses_subscribtions',\n",
       " 'uk_addresses_st_partner',\n",
       " 'uk_st_partner',\n",
       " 'users_st_partner']"
      ]
     },
     "execution_count": 8,
     "metadata": {},
     "output_type": "execute_result"
    }
   ],
   "source": [
    "filtered_tables = [\n",
    "    t for t in tables\n",
    "    if ('_st_' in t or t.startswith('t_')) and not (t.endswith('_ch') or t.endswith('_mv'))\n",
    "]\n",
    "\n",
    "\n",
    "filtered_tables_mv_df = [\n",
    "    t for t in tables\n",
    "    if t.endswith('_mv_df')\n",
    "]\n",
    "\n",
    "filtered_tables"
   ]
  },
  {
   "cell_type": "code",
   "execution_count": null,
   "id": "a1b83537",
   "metadata": {},
   "outputs": [],
   "source": [
    "cols = schema_dr[table]\n",
    "        group_cols = []\n",
    "        for col, ctype in cols:\n",
    "            if col == 'report_date':\n",
    "                group_cols.append('report_date')\n",
    "            elif 'Int' in ctype or 'UInt' in ctype:\n",
    "                group_cols.append(f\"sum(if({col} != 0, 1, 0)) as {col}\")\n",
    "            else:\n",
    "                group_cols.append(f\"sum(if({col} != '', 1, 0)) as {col}\")\n",
    "        select_clause = ', '.join(group_cols)"
   ]
  },
  {
   "cell_type": "code",
   "execution_count": null,
   "id": "1cc3ecc4",
   "metadata": {},
   "outputs": [],
   "source": [
    "schema_dr = ch.get_schema_dr('<your_database_name>')\n",
    "\n",
    "for table in filtered_tables:\n",
    "    mv_table = f\"{table}_mv_dr\"\n",
    "    if mv_exists in filtered_tables_mv_df:\n",
    "        query_text = f\"\"\"\n",
    "        SYSTEM REFRESH MATERIALIZED VIEW {mv_table}\n",
    "        \"\"\"\n",
    "        ch.query_run(query_text)\n",
    "    else:\n",
    "        cols = schema_dr[table]\n",
    "        group_cols = []\n",
    "        for col, ctype in cols:\n",
    "            if col == 'report_date':\n",
    "                group_cols.append('report_date')\n",
    "            elif 'Int' in ctype or 'UInt' in ctype:\n",
    "                group_cols.append(f\"sum(if({col} != 0, 1, 0)) as {col}\")\n",
    "            else:\n",
    "                group_cols.append(f\"sum(if({col} != '', 1, 0)) as {col}\")\n",
    "        select_clause = ', '.join(group_cols)\n",
    "        query_text = f\"\"\"\n",
    "        CREATE MATERIALIZED VIEW {mv_table} \n",
    "        ENGINE = AggregatingMergeTree()\n",
    "        ORDER BY report_date AS\n",
    "        SELECT {select_clause}\n",
    "        FROM {table}\n",
    "        GROUP BY report_date\n",
    "        \"\"\"\n",
    "        ch.query_run(query_text)\n"
   ]
  }
 ],
 "metadata": {
  "kernelspec": {
   "display_name": "myenv",
   "language": "python",
   "name": "python3"
  },
  "language_info": {
   "codemirror_mode": {
    "name": "ipython",
    "version": 3
   },
   "file_extension": ".py",
   "mimetype": "text/x-python",
   "name": "python",
   "nbconvert_exporter": "python",
   "pygments_lexer": "ipython3",
   "version": "3.13.7"
  }
 },
 "nbformat": 4,
 "nbformat_minor": 5
}

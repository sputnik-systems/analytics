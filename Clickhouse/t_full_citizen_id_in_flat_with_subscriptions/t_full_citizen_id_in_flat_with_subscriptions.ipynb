{
 "cells": [
  {
   "cell_type": "code",
   "execution_count": 1,
   "id": "db2bc896",
   "metadata": {},
   "outputs": [],
   "source": [
    "import clickhouse_connect\n",
    "import datetime\n",
    "import os\n",
    "import pytz\n",
    "import pandas as pd\n",
    "from dateutil.relativedelta import relativedelta\n",
    "from dotenv import load_dotenv\n",
    "\n",
    "import sys\n",
    "sys.path.append('/home/boris/Documents/Work/analytics/Clickhouse')\n",
    "from clickhouse_client import ClickHouse_client\n",
    "ch = ClickHouse_client()\n",
    "pd.set_option('display.max_rows', 1000)"
   ]
  },
  {
   "cell_type": "markdown",
   "id": "1c346712",
   "metadata": {},
   "source": [
    "___\n",
    "### Tags: #Tables\n",
    "\n",
    "### Links: \n",
    "[[rep_mobile_citizens_id_city_partner]]\n",
    "\n",
    "[[subscriptions_st_mobile_ch]]"
   ]
  },
  {
   "cell_type": "code",
   "execution_count": null,
   "id": "0e632bd4",
   "metadata": {},
   "outputs": [],
   "source": [
    "query_text = \"\"\"--sql\n",
    "    CREATE TABLE db1.t_full_citizen_id_in_flat_with_subscriptions\n",
    "    (\n",
    "        `report_date` Date,\n",
    "        `address_uuid` String,\n",
    "        `citizen_id` UInt64\n",
    "    )\n",
    "    ENGINE = MergeTree()\n",
    "    ORDER BY address_uuid\n",
    "    \"\"\"\n",
    "ch.query_run(query_text)"
   ]
  },
  {
   "cell_type": "code",
   "execution_count": null,
   "id": "bf6c2fe4",
   "metadata": {},
   "outputs": [],
   "source": [
    "query_text = \"\"\"--sql\n",
    "CREATE MATERIALIZED VIEW db1.t_full_citizen_id_in_flat_with_subscriptions_mv\n",
    "REFRESH EVERY 1 DAY OFFSET 4 HOUR 25 MINUTE TO db1.t_full_citizen_id_in_flat_with_subscriptions AS \n",
    "WITH t1 AS (SELECT \n",
    "\trmcicp.report_date AS report_date,\n",
    "\tflat_uuid\n",
    "FROM db1.rep_mobile_citizens_id_city_partner AS rmcicp\n",
    "JOIN db1.subscriptions_st_mobile_ch AS ssm \n",
    "\tON rmcicp.report_date = ssm.report_date \n",
    "\tAND rmcicp.citizen_id = ssm.citizen_id\n",
    "WHERE  ssm.state = 'activated'\n",
    ")\n",
    "SELECT\n",
    "\tt1.report_date AS report_date,\n",
    "\trmcicp.address_uuid AS address_uuid,\n",
    "\trmcicp.citizen_id AS citizen_id\n",
    "FROM db1.rep_mobile_citizens_id_city_partner AS rmcicp\n",
    "JOIN t1 AS ssm \n",
    "\tON rmcicp.report_date = ssm.report_date \n",
    "\tAND rmcicp.flat_uuid = ssm.flat_uuid\n",
    "WHERE t1.flat_uuid !=''\n",
    "    \"\"\"\n",
    "ch.query_run(query_text)"
   ]
  },
  {
   "cell_type": "markdown",
   "id": "980d258b",
   "metadata": {},
   "source": [
    "___\n",
    "## Tools\n",
    "___\n",
    "### query"
   ]
  },
  {
   "cell_type": "code",
   "execution_count": 2,
   "id": "d3d276f9",
   "metadata": {},
   "outputs": [
    {
     "data": {
      "text/html": [
       "<div><style>\n",
       ".dataframe > thead > tr,\n",
       ".dataframe > tbody > tr {\n",
       "  text-align: right;\n",
       "  white-space: pre-wrap;\n",
       "}\n",
       "</style>\n",
       "<small>shape: (10, 3)</small><table border=\"1\" class=\"dataframe\"><thead><tr><th>report_date</th><th>address_uuid</th><th>citizen_id</th></tr><tr><td>date</td><td>str</td><td>i64</td></tr></thead><tbody><tr><td>2025-09-06</td><td>&quot;001cf013-43a8-4cc7-906a-4e1b7a…</td><td>427330</td></tr><tr><td>2025-09-06</td><td>&quot;001cf013-43a8-4cc7-906a-4e1b7a…</td><td>427261</td></tr><tr><td>2025-09-06</td><td>&quot;004601ff-2956-475e-88fa-227296…</td><td>211520</td></tr><tr><td>2025-09-06</td><td>&quot;000c4f15-2478-4a10-a87e-b962c9…</td><td>109198</td></tr><tr><td>2025-09-06</td><td>&quot;001cf013-43a8-4cc7-906a-4e1b7a…</td><td>427165</td></tr><tr><td>2025-09-06</td><td>&quot;000c4f15-2478-4a10-a87e-b962c9…</td><td>102325</td></tr><tr><td>2025-09-06</td><td>&quot;001cf013-43a8-4cc7-906a-4e1b7a…</td><td>427246</td></tr><tr><td>2025-09-06</td><td>&quot;001cf013-43a8-4cc7-906a-4e1b7a…</td><td>427158</td></tr><tr><td>2025-09-06</td><td>&quot;001cf013-43a8-4cc7-906a-4e1b7a…</td><td>425922</td></tr><tr><td>2025-09-06</td><td>&quot;001cf013-43a8-4cc7-906a-4e1b7a…</td><td>427032</td></tr></tbody></table></div>"
      ],
      "text/plain": [
       "shape: (10, 3)\n",
       "┌─────────────┬─────────────────────────────────┬────────────┐\n",
       "│ report_date ┆ address_uuid                    ┆ citizen_id │\n",
       "│ ---         ┆ ---                             ┆ ---        │\n",
       "│ date        ┆ str                             ┆ i64        │\n",
       "╞═════════════╪═════════════════════════════════╪════════════╡\n",
       "│ 2025-09-06  ┆ 001cf013-43a8-4cc7-906a-4e1b7a… ┆ 427330     │\n",
       "│ 2025-09-06  ┆ 001cf013-43a8-4cc7-906a-4e1b7a… ┆ 427261     │\n",
       "│ 2025-09-06  ┆ 004601ff-2956-475e-88fa-227296… ┆ 211520     │\n",
       "│ 2025-09-06  ┆ 000c4f15-2478-4a10-a87e-b962c9… ┆ 109198     │\n",
       "│ 2025-09-06  ┆ 001cf013-43a8-4cc7-906a-4e1b7a… ┆ 427165     │\n",
       "│ 2025-09-06  ┆ 000c4f15-2478-4a10-a87e-b962c9… ┆ 102325     │\n",
       "│ 2025-09-06  ┆ 001cf013-43a8-4cc7-906a-4e1b7a… ┆ 427246     │\n",
       "│ 2025-09-06  ┆ 001cf013-43a8-4cc7-906a-4e1b7a… ┆ 427158     │\n",
       "│ 2025-09-06  ┆ 001cf013-43a8-4cc7-906a-4e1b7a… ┆ 425922     │\n",
       "│ 2025-09-06  ┆ 001cf013-43a8-4cc7-906a-4e1b7a… ┆ 427032     │\n",
       "└─────────────┴─────────────────────────────────┴────────────┘"
      ]
     },
     "execution_count": 2,
     "metadata": {},
     "output_type": "execute_result"
    }
   ],
   "source": [
    "query_text = \"\"\"\n",
    "    SELECT\n",
    "        *\n",
    "    FROM db1.t_full_citizen_id_in_flat_with_subscriptions\n",
    "    order by report_date desc\n",
    "    limit 10\n",
    "    \"\"\"\n",
    "ch.query_run(query_text)"
   ]
  },
  {
   "cell_type": "markdown",
   "id": "c4d46869",
   "metadata": {},
   "source": [
    "### drop table"
   ]
  },
  {
   "cell_type": "code",
   "execution_count": null,
   "id": "cf2fa1d9",
   "metadata": {},
   "outputs": [],
   "source": [
    "query_text = \"\"\"\n",
    "    DROP TABLE db1.t_full_citizen_id_in_flat_with_subscriptions\n",
    "    \"\"\"\n",
    "ch.query_run(query_text)"
   ]
  },
  {
   "cell_type": "markdown",
   "id": "c49b9e28",
   "metadata": {},
   "source": [
    "### drop mv"
   ]
  },
  {
   "cell_type": "code",
   "execution_count": null,
   "id": "a300b8e0",
   "metadata": {},
   "outputs": [],
   "source": [
    "query_text = \"\"\"\n",
    "    DROP TABLE db1.t_full_citizen_id_in_flat_with_subscriptions_mv\n",
    "    \"\"\"\n",
    "ch.query_run(query_text)\n"
   ]
  },
  {
   "cell_type": "markdown",
   "id": "14a605c1",
   "metadata": {},
   "source": [
    "### SYSTEM REFRESH"
   ]
  },
  {
   "cell_type": "code",
   "execution_count": 2,
   "id": "73c87e95",
   "metadata": {},
   "outputs": [
    {
     "data": {
      "text/html": [
       "<div><style>\n",
       ".dataframe > thead > tr,\n",
       ".dataframe > tbody > tr {\n",
       "  text-align: right;\n",
       "  white-space: pre-wrap;\n",
       "}\n",
       "</style>\n",
       "<small>shape: (1, 9)</small><table border=\"1\" class=\"dataframe\"><thead><tr><th>read_rows</th><th>read_bytes</th><th>written_rows</th><th>written_bytes</th><th>total_rows_to_read</th><th>result_rows</th><th>result_bytes</th><th>elapsed_ns</th><th>query_id</th></tr><tr><td>i64</td><td>i64</td><td>i64</td><td>i64</td><td>i64</td><td>i64</td><td>i64</td><td>i64</td><td>str</td></tr></thead><tbody><tr><td>0</td><td>0</td><td>0</td><td>0</td><td>0</td><td>0</td><td>0</td><td>649053</td><td>&quot;657f9526-f67b-4623-90ca-a29a60…</td></tr></tbody></table></div>"
      ],
      "text/plain": [
       "shape: (1, 9)\n",
       "┌───────────┬───────────┬───────────┬───────────┬───┬───────────┬───────────┬───────────┬──────────┐\n",
       "│ read_rows ┆ read_byte ┆ written_r ┆ written_b ┆ … ┆ result_ro ┆ result_by ┆ elapsed_n ┆ query_id │\n",
       "│ ---       ┆ s         ┆ ows       ┆ ytes      ┆   ┆ ws        ┆ tes       ┆ s         ┆ ---      │\n",
       "│ i64       ┆ ---       ┆ ---       ┆ ---       ┆   ┆ ---       ┆ ---       ┆ ---       ┆ str      │\n",
       "│           ┆ i64       ┆ i64       ┆ i64       ┆   ┆ i64       ┆ i64       ┆ i64       ┆          │\n",
       "╞═══════════╪═══════════╪═══════════╪═══════════╪═══╪═══════════╪═══════════╪═══════════╪══════════╡\n",
       "│ 0         ┆ 0         ┆ 0         ┆ 0         ┆ … ┆ 0         ┆ 0         ┆ 649053    ┆ 657f9526 │\n",
       "│           ┆           ┆           ┆           ┆   ┆           ┆           ┆           ┆ -f67b-46 │\n",
       "│           ┆           ┆           ┆           ┆   ┆           ┆           ┆           ┆ 23-90ca- │\n",
       "│           ┆           ┆           ┆           ┆   ┆           ┆           ┆           ┆ a29a60…  │\n",
       "└───────────┴───────────┴───────────┴───────────┴───┴───────────┴───────────┴───────────┴──────────┘"
      ]
     },
     "execution_count": 2,
     "metadata": {},
     "output_type": "execute_result"
    }
   ],
   "source": [
    "query_text = \"\"\"\n",
    "SYSTEM REFRESH VIEW db1.t_full_citizen_id_in_flat_with_subscriptions_mv\n",
    "\"\"\"\n",
    "\n",
    "ch.query_run(query_text)"
   ]
  }
 ],
 "metadata": {
  "jupytext": {
   "formats": "ipynb,md"
  },
  "kernelspec": {
   "display_name": "Python 3 (ipykernel)",
   "language": "python",
   "name": "python3"
  },
  "language_info": {
   "codemirror_mode": {
    "name": "ipython",
    "version": 3
   },
   "file_extension": ".py",
   "mimetype": "text/x-python",
   "name": "python",
   "nbconvert_exporter": "python",
   "pygments_lexer": "ipython3",
   "version": "3.12.11"
  }
 },
 "nbformat": 4,
 "nbformat_minor": 5
}

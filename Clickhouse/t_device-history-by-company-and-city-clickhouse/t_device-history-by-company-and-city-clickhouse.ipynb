{
 "cells": [
  {
   "cell_type": "markdown",
   "id": "073c8ad2",
   "metadata": {},
   "source": [
    "## Start"
   ]
  },
  {
   "cell_type": "code",
   "execution_count": 2,
   "id": "2cdf7a1c",
   "metadata": {},
   "outputs": [],
   "source": [
    "import clickhouse_connect\n",
    "import datetime\n",
    "import os\n",
    "import pytz\n",
    "import pandas as pd\n",
    "from dateutil.relativedelta import relativedelta\n",
    "from dotenv import load_dotenv\n",
    "\n",
    "import sys\n",
    "sys.path.append('/home/boris/Documents/Work/analytics/Clickhouse')\n",
    "from clickhouse_client import ClickHouse_client\n",
    "ch = ClickHouse_client()\n",
    "pd.set_option('display.max_rows', 1000)"
   ]
  },
  {
   "cell_type": "markdown",
   "id": "a2be71d7",
   "metadata": {},
   "source": [
    "## t_device_history_by_companys_and_citys_ch"
   ]
  },
  {
   "cell_type": "markdown",
   "id": "ab98efc4",
   "metadata": {},
   "source": [
    "___\n",
    "## Tags: #Tables\n",
    "___\n",
    "## Links:\n",
    "\n",
    "[[cameras_st_asgard]]\n",
    "[[cameras_dir_asgard]]\n",
    "[[cameras_st_asgard]]\n",
    "[[intercoms_dir_asgard]]\n",
    "[[cameras_st_partner]]"
   ]
  },
  {
   "cell_type": "code",
   "execution_count": null,
   "id": "e5d3ea25",
   "metadata": {},
   "outputs": [],
   "source": [
    "query_text = \"\"\"--sql\n",
    "CREATE TABLE db1.t_device_history_by_companys_and_citys_ch \n",
    "(\n",
    "    report_date Date,\n",
    "\tpartner_uuid  String,\n",
    "\tinstallation_point_id UInt32,\n",
    "\tcamera_uuid String,\n",
    "\tintercom_uuid String,\n",
    "    first_appearance UInt32,\n",
    "    motherboard_id String,\n",
    "\tcamera_serial String,\n",
    "    partner_uuid_change UInt32,\n",
    "    installation_point_removing UInt32,\n",
    "    installation_point_installation UInt32,\n",
    "    installation_point_first_installing UInt32,\n",
    "    installation_pont_changing UInt32,\n",
    ")\n",
    "ENGINE = MergeTree()\n",
    "ORDER BY partner_uuid\n",
    "\"\"\"\n",
    "ch.query_run(query_text)"
   ]
  },
  {
   "cell_type": "code",
   "execution_count": 31,
   "id": "3ef6b403",
   "metadata": {},
   "outputs": [
    {
     "data": {
      "text/html": [
       "<div>\n",
       "<style scoped>\n",
       "    .dataframe tbody tr th:only-of-type {\n",
       "        vertical-align: middle;\n",
       "    }\n",
       "\n",
       "    .dataframe tbody tr th {\n",
       "        vertical-align: top;\n",
       "    }\n",
       "\n",
       "    .dataframe thead th {\n",
       "        text-align: right;\n",
       "    }\n",
       "</style>\n",
       "<table border=\"1\" class=\"dataframe\">\n",
       "  <thead>\n",
       "    <tr style=\"text-align: right;\">\n",
       "      <th></th>\n",
       "    </tr>\n",
       "  </thead>\n",
       "  <tbody>\n",
       "  </tbody>\n",
       "</table>\n",
       "</div>"
      ],
      "text/plain": [
       "Empty DataFrame\n",
       "Columns: []\n",
       "Index: []"
      ]
     },
     "execution_count": 31,
     "metadata": {},
     "output_type": "execute_result"
    }
   ],
   "source": [
    "query_text = \"\"\"--sql\n",
    "CREATE MATERIALIZED VIEW db1.t_device_history_by_companys_and_citys_mv \n",
    "\tREFRESH EVERY 1 DAY OFFSET 5 HOUR 5 MINUTE TO db1.t_device_history_by_companys_and_citys_ch AS\n",
    "--таблицы с устройствами от Асгарда имеют информацию в том числе до появления первой точки установки. Но там есть лишние устройства и в целом бывают проблемы.\n",
    "WITH asgard_t AS (\n",
    "\tSELECT\n",
    "\t\treport_date,\n",
    "\t\tcameras_dir_asgard_ch.intercom_uuid AS intercom_uuid,\n",
    "\t\tmotherboard_id,\n",
    "\t\tcamera_serial,\n",
    "\t\tcameras_st_asgard_ch.camera_uuid AS camera_uuid,\n",
    "\t\tcameras_st_asgard_ch.partner_uuid AS partner_uuid,\n",
    "\t\tlagInFrame(cameras_st_asgard_ch.partner_uuid) OVER (PARTITION BY camera_uuid ORDER BY report_date) AS lag_partner_uuid,\n",
    "\t\tROW_NUMBER() OVER (PARTITION by camera_uuid order by report_date) as n_row\n",
    "\tFROM db1.cameras_st_asgard_ch as cameras_st_asgard_ch\n",
    "\tLEFT JOIN db1.cameras_dir_asgard_ch as cameras_dir_asgard_ch \n",
    "\t\tON cameras_st_asgard_ch.camera_uuid = cameras_dir_asgard_ch.camera_uuid\n",
    "\tLEFT JOIN db1.intercoms_dir_asgard_ch AS intercoms_dir_asgard_ch \n",
    "\t\tON intercoms_dir_asgard_ch.intercom_uuid = cameras_dir_asgard_ch.intercom_uuid\n",
    "\tWHERE partner_uuid !='b1782e4f-9198-49d1-b5aa-7bdba9c87d21'\n",
    "),\n",
    "-- таблицы по партнеру обладают информацией по точкам установки, и данные по партнерам у них точнее\n",
    "partner_t AS (\n",
    "SELECT\n",
    "\treport_date,\n",
    "\tpartner_uuid,\n",
    "\tinstallation_point_id,\n",
    "\tintercom_uuid,\n",
    "\tcamera_uuid,\n",
    "\tlag_installation_point_id,\n",
    "\tlagInFrame(last_installation_point_id,1) OVER (PARTITION BY camera_uuid ORDER BY report_date) AS last_installation_point_id\n",
    "FROM\n",
    "\t(SELECT\n",
    "\t\treport_date,\n",
    "\t\tpartner_uuid,\n",
    "\t\tinstallation_point_id,\n",
    "\t\tintercom_uuid,\n",
    "\t\tcamera_uuid,\n",
    "\t\tlagInFrame(installation_point_id) OVER (PARTITION BY camera_uuid ORDER BY report_date) AS lag_installation_point_id,\n",
    "\t\tlast_value(if(installation_point_id = 0,Null,installation_point_id)) ignore nulls OVER (PARTITION BY camera_uuid  ORDER BY `report_date` ROWS BETWEEN UNBOUNDED PRECEDING AND CURRENT ROW) AS last_installation_point_id\n",
    "\tFROM db1.cameras_st_partner_ch)\n",
    ")\n",
    "SELECT\n",
    "\treport_date,\n",
    "\tasgard_t.partner_uuid AS partner_uuid,\n",
    "\tinstallation_point_id,\n",
    "\tcamera_uuid,\n",
    "\tasgard_t.intercom_uuid AS intercom_uuid,\n",
    "\tmotherboard_id,\n",
    "\tcamera_serial,\n",
    "\tIF(n_row = 1,1,0) AS first_appearance,\n",
    "\tIF(n_row != 1 AND COALESCE(lag_partner_uuid,'') != COALESCE(asgard_t.partner_uuid,'') AND lag_partner_uuid != '',1,0) AS partner_uuid_change,\n",
    "\tIF(n_row != 1 AND lag_installation_point_id != 0 AND installation_point_id = 0,1,0) AS installation_point_removing,\n",
    "\tIF(n_row != 1 AND last_installation_point_id is Null AND installation_point_id !=0,1,0) AS installation_point_first_installing,\n",
    "\tIF(n_row != 1 AND \n",
    "\t\t\tlag_installation_point_id = 0 AND\n",
    "\t\t\tinstallation_point_id != 0 AND\n",
    "\t\t\tinstallation_point_id = COALESCE(last_installation_point_id,0),1,0) AS installation_point_installation,\n",
    "\tIF(n_row != 1 AND (\n",
    "\t\t\t\t(\n",
    "\t\t\t\tlag_installation_point_id = 0 AND\n",
    "\t\t\t\tlast_installation_point_id is NOT Null AND\n",
    "\t\t\t\tinstallation_point_id != 0 AND\n",
    "\t\t\t\tinstallation_point_id != COALESCE(last_installation_point_id,0)\n",
    "\t\t\t\t)\n",
    "\t\t\t\tOR\n",
    "\t\t\t\t(\n",
    "\t\t\t\tlast_installation_point_id is NOT Null AND\n",
    "\t\t\t\tlag_installation_point_id != 0 AND\n",
    "\t\t\t\tlag_installation_point_id != installation_point_id\n",
    "\t\t\t\t)\n",
    "\t\t\t\t),1,0) AS installation_pont_changing\n",
    "FROM asgard_t \n",
    "LEFT JOIN partner_t \n",
    "\t\tON asgard_t.camera_uuid = partner_t.camera_uuid\n",
    "\t\tAND asgard_t.report_date = partner_t.report_date\n",
    "\"\"\"\n",
    "ch.query_run(query_text)"
   ]
  },
  {
   "cell_type": "markdown",
   "id": "ddb1ee07",
   "metadata": {},
   "source": [
    "## advanced"
   ]
  },
  {
   "cell_type": "code",
   "execution_count": 3,
   "id": "9b281ed2",
   "metadata": {},
   "outputs": [
    {
     "data": {
      "text/html": [
       "<div>\n",
       "<style scoped>\n",
       "    .dataframe tbody tr th:only-of-type {\n",
       "        vertical-align: middle;\n",
       "    }\n",
       "\n",
       "    .dataframe tbody tr th {\n",
       "        vertical-align: top;\n",
       "    }\n",
       "\n",
       "    .dataframe thead th {\n",
       "        text-align: right;\n",
       "    }\n",
       "</style>\n",
       "<table border=\"1\" class=\"dataframe\">\n",
       "  <thead>\n",
       "    <tr style=\"text-align: right;\">\n",
       "      <th></th>\n",
       "      <th>elapsed_ns</th>\n",
       "      <th>query_id</th>\n",
       "    </tr>\n",
       "  </thead>\n",
       "  <tbody>\n",
       "    <tr>\n",
       "      <th>0</th>\n",
       "      <td>796503</td>\n",
       "      <td>206fc3d2-f7ca-4868-87a7-ca55d6029b34</td>\n",
       "    </tr>\n",
       "  </tbody>\n",
       "</table>\n",
       "</div>"
      ],
      "text/plain": [
       "   elapsed_ns                              query_id\n",
       "0      796503  206fc3d2-f7ca-4868-87a7-ca55d6029b34"
      ]
     },
     "execution_count": 3,
     "metadata": {},
     "output_type": "execute_result"
    }
   ],
   "source": [
    "query_text = \"\"\"\n",
    "SYSTEM REFRESH VIEW db1.t_device_history_by_companys_and_citys_mv\n",
    "\"\"\"\n",
    "\n",
    "ch.query_run(query_text)"
   ]
  },
  {
   "cell_type": "code",
   "execution_count": 30,
   "id": "1395dfb4",
   "metadata": {},
   "outputs": [
    {
     "data": {
      "text/html": [
       "<div>\n",
       "<style scoped>\n",
       "    .dataframe tbody tr th:only-of-type {\n",
       "        vertical-align: middle;\n",
       "    }\n",
       "\n",
       "    .dataframe tbody tr th {\n",
       "        vertical-align: top;\n",
       "    }\n",
       "\n",
       "    .dataframe thead th {\n",
       "        text-align: right;\n",
       "    }\n",
       "</style>\n",
       "<table border=\"1\" class=\"dataframe\">\n",
       "  <thead>\n",
       "    <tr style=\"text-align: right;\">\n",
       "      <th></th>\n",
       "      <th>elapsed_ns</th>\n",
       "      <th>query_id</th>\n",
       "    </tr>\n",
       "  </thead>\n",
       "  <tbody>\n",
       "    <tr>\n",
       "      <th>0</th>\n",
       "      <td>2239186</td>\n",
       "      <td>f9b061f1-a194-45e2-a4da-63a828c9b3fa</td>\n",
       "    </tr>\n",
       "  </tbody>\n",
       "</table>\n",
       "</div>"
      ],
      "text/plain": [
       "   elapsed_ns                              query_id\n",
       "0     2239186  f9b061f1-a194-45e2-a4da-63a828c9b3fa"
      ]
     },
     "execution_count": 30,
     "metadata": {},
     "output_type": "execute_result"
    }
   ],
   "source": [
    "query_text = \"\"\"\n",
    "DROP TABLE db1.t_device_history_by_companys_and_citys_mv\n",
    "\"\"\"\n",
    "\n",
    "ch.query_run(query_text)"
   ]
  },
  {
   "cell_type": "code",
   "execution_count": null,
   "id": "7a38b0db",
   "metadata": {},
   "outputs": [],
   "source": [
    "query_text = \"\"\"--sql\n",
    "SELECT\n",
    "    sum(partner_uuid_change)\n",
    "FROM db1.t_device_history_by_companys_and_citys_ch\n",
    "WHERE report_date = '2025-06-13'\n",
    "LIMIT 10\n",
    "\"\"\"\n",
    "ch.query_run(query_text)"
   ]
  },
  {
   "cell_type": "markdown",
   "id": "5782bf00",
   "metadata": {},
   "source": [
    "# t_device_and_shipment_history_by_company_and_city"
   ]
  },
  {
   "cell_type": "markdown",
   "id": "dd0614fb",
   "metadata": {},
   "source": [
    "## Links:\n",
    "\n",
    "[[cameras_st_asgard]]<br>\n",
    "[[cameras_dir_asgard]]<br>\n",
    "[[cameras_st_asgard]]<br>\n",
    "[[intercoms_dir_asgard]]<br>"
   ]
  },
  {
   "cell_type": "markdown",
   "id": "51315d30",
   "metadata": {},
   "source": [
    "## Creating a table"
   ]
  },
  {
   "cell_type": "code",
   "execution_count": 12,
   "id": "048e29f0",
   "metadata": {},
   "outputs": [
    {
     "data": {
      "text/html": [
       "<div>\n",
       "<style scoped>\n",
       "    .dataframe tbody tr th:only-of-type {\n",
       "        vertical-align: middle;\n",
       "    }\n",
       "\n",
       "    .dataframe tbody tr th {\n",
       "        vertical-align: top;\n",
       "    }\n",
       "\n",
       "    .dataframe thead th {\n",
       "        text-align: right;\n",
       "    }\n",
       "</style>\n",
       "<table border=\"1\" class=\"dataframe\">\n",
       "  <thead>\n",
       "    <tr style=\"text-align: right;\">\n",
       "      <th></th>\n",
       "    </tr>\n",
       "  </thead>\n",
       "  <tbody>\n",
       "  </tbody>\n",
       "</table>\n",
       "</div>"
      ],
      "text/plain": [
       "Empty DataFrame\n",
       "Columns: []\n",
       "Index: []"
      ]
     },
     "execution_count": 12,
     "metadata": {},
     "output_type": "execute_result"
    }
   ],
   "source": [
    "query_text = \"\"\"--sql\n",
    "CREATE TABLE db1.t_device_and_shipment_history_by_company_and_city (\n",
    "    `report_date` Date,\n",
    "    `partner_uuid` String,\n",
    "    `device_type` String,\n",
    "    `tariff` String,\n",
    "    `count_serial_number` UInt32,\n",
    "    `count_serial_number_not_enterprise` UInt32,\n",
    "    `count_new_serial_number` UInt32,\n",
    "    `count_serial_number_returned` UInt32,\n",
    "    `count_serial_number_partner_change` UInt32,\n",
    "    `count_serial_number_removal` UInt32,\n",
    "    `count_serial_number_installation_point_change` UInt32,\n",
    "    `count_serial_number_first_installation` UInt32,\n",
    "    `count_serial_number_on_installation_point` UInt32,\n",
    "    `count_first_appearance_on_lk` UInt32\n",
    ")\n",
    "ENGINE = MergeTree()\n",
    "ORDER BY partner_uuid\n",
    "\"\"\"\n",
    "ch.query_run(query_text)"
   ]
  },
  {
   "cell_type": "markdown",
   "id": "4379efe8",
   "metadata": {},
   "source": [
    "## Creating a MV"
   ]
  },
  {
   "cell_type": "code",
   "execution_count": 25,
   "id": "3656bf28",
   "metadata": {},
   "outputs": [
    {
     "data": {
      "text/html": [
       "<div>\n",
       "<style scoped>\n",
       "    .dataframe tbody tr th:only-of-type {\n",
       "        vertical-align: middle;\n",
       "    }\n",
       "\n",
       "    .dataframe tbody tr th {\n",
       "        vertical-align: top;\n",
       "    }\n",
       "\n",
       "    .dataframe thead th {\n",
       "        text-align: right;\n",
       "    }\n",
       "</style>\n",
       "<table border=\"1\" class=\"dataframe\">\n",
       "  <thead>\n",
       "    <tr style=\"text-align: right;\">\n",
       "      <th></th>\n",
       "    </tr>\n",
       "  </thead>\n",
       "  <tbody>\n",
       "  </tbody>\n",
       "</table>\n",
       "</div>"
      ],
      "text/plain": [
       "Empty DataFrame\n",
       "Columns: []\n",
       "Index: []"
      ]
     },
     "execution_count": 25,
     "metadata": {},
     "output_type": "execute_result"
    }
   ],
   "source": [
    "query_text = \"\"\"--sql\n",
    "CREATE MATERIALIZED VIEW db1.t_device_and_shipment_history_by_company_and_city_mv \n",
    "\tREFRESH EVERY 1 DAY OFFSET 5 HOUR 10 MINUTE TO db1.t_device_and_shipment_history_by_company_and_city AS\n",
    "WITH  device_history AS (\n",
    "SELECT\n",
    "    report_date,\n",
    "\tpartner_uuid,\n",
    "\tinstallation_point_id,\n",
    "    coalesce(intercom_uuid,camera_uuid) AS device_uuid,\n",
    "    if(intercom_uuid = '', 'camera','intercom') as device_type,\n",
    "    if(intercom_uuid = '', camera_serial,motherboard_id) as device_serial,\n",
    "    first_appearance,\n",
    "    partner_uuid_change,\n",
    "    installation_point_removing,\n",
    "    installation_point_installation,\n",
    "    installation_point_first_installing,\n",
    "    installation_pont_changing,\n",
    "FROM db1.t_device_history_by_companys_and_citys_ch\n",
    "),\n",
    "-- изменяем таблицу изменений устройств у партнеров, чтобы далее определять первое появление на личном кабинете партнера\n",
    "t_first_appearance AS (SELECT\n",
    "    device_uuid,\n",
    "    device_type,\n",
    "    toDate(created_at) as report_date,\n",
    "    if(company_uuid_from = 'b1782e4f-9198-49d1-b5aa-7bdba9c87d21' AND r_number = 1,1,0) AS first_appearance_on_lk\n",
    "FROM\n",
    "    (SELECT\n",
    "        device_type,\n",
    "        device_uuid,\n",
    "        company_uuid_from,\n",
    "        company_uuid_to,\n",
    "        created_at,\n",
    "        row_number() OVER (PARTITION BY device_uuid ORDER BY created_at) AS r_number\n",
    "FROM db1.device_history_dir_partner_ch\n",
    ") AS t1\n",
    "WHERE first_appearance_on_lk = 1\n",
    "),\n",
    "--\n",
    "compleate_table AS (SELECT\n",
    "    device_history.report_date as report_date,\n",
    "    company_name,\n",
    "    partner_lk,\n",
    "\tdevice_history.partner_uuid AS partner_uuid,\n",
    "\tinstallation_point_id,\n",
    "    device_history.device_uuid AS device_uuid,\n",
    "    device_history.device_type AS device_type,\n",
    "    device_serial,\n",
    "    first_appearance,\n",
    "    partner_uuid_change,\n",
    "    installation_point_removing,\n",
    "    installation_point_installation,\n",
    "    installation_point_first_installing,\n",
    "    installation_pont_changing,\n",
    "    tariff,\n",
    "    first_appearance_on_lk\n",
    "    --все устроства, что на первую доступную дату не были на личном кабинете спутника добавляются дальнейшего суммирования устройств в личных кабинетах по дням\n",
    "    --max(if(first_appearance_on_lk = 0 ,if(report_date = '2023-07-12' and partner_uuid !='b1782e4f-9198-49d1-b5aa-7bdba9c87d21',1,0),first_appearance_on_lk)) \n",
    "    --OVER (PARTITION BY device_uuid ORDER BY report_date) AS first_appearance_max\n",
    "FROM device_history\n",
    "LEFT JOIN t_first_appearance \n",
    "    ON device_history.device_uuid = t_first_appearance.device_uuid \n",
    "    AND device_history.report_date = t_first_appearance.report_date\n",
    "LEFT JOIN db1.companies_dir_partner_ch AS companies_dir_partner_ch \n",
    "    ON device_history.partner_uuid = companies_dir_partner_ch.partner_uuid\n",
    "LEFT JOIN db1.companies_st_partner_ch AS companies_st_partner_ch \n",
    "    ON device_history.partner_uuid = companies_st_partner_ch.partner_uuid\n",
    "    AND device_history.report_date = companies_st_partner_ch.report_date\n",
    "order by report_date) \n",
    "--\n",
    "SELECT \n",
    "\treport_date,\n",
    "\tpartner_uuid,\n",
    "\tdevice_type,\n",
    "    tariff,\n",
    "\tcount(if(partner_uuid != '' AND partner_uuid !='b1782e4f-9198-49d1-b5aa-7bdba9c87d21',device_uuid,null)) AS count_serial_number,\n",
    "    count(if(partner_uuid != '' AND partner_uuid !='b1782e4f-9198-49d1-b5aa-7bdba9c87d21' AND tariff != 'enterprise',device_uuid,null)) AS count_serial_number_not_enterprise,\n",
    "\tsum(first_appearance) AS count_new_serial_number,\n",
    "\tsum(installation_point_installation) AS count_serial_number_returned,\n",
    "    sum(partner_uuid_change) AS count_serial_number_partner_change,\n",
    "\tsum(installation_point_removing) AS count_serial_number_removal,\n",
    "\tsum(installation_pont_changing) AS count_serial_number_installation_point_change,\n",
    "\tsum(installation_point_first_installing) AS count_serial_number_first_installation,\n",
    "    sum(if(installation_point_id != 0 ,1,0)) AS count_serial_number_on_installation_point,\n",
    "    sum(first_appearance_on_lk) AS count_first_appearance_on_lk\n",
    "    --sum(first_appearance_max) AS count_first_appearance_max\n",
    "FROM\n",
    "\tcompleate_table\n",
    "WHERE\n",
    "    report_date >= '2024-01-01'\n",
    "GROUP BY\n",
    "\treport_date,\n",
    "\tpartner_uuid,\n",
    "\tdevice_type,\n",
    "    tariff\n",
    "\"\"\"\n",
    "ch.query_run(query_text)"
   ]
  },
  {
   "cell_type": "markdown",
   "id": "4259b564",
   "metadata": {},
   "source": [
    "## advanced"
   ]
  },
  {
   "cell_type": "code",
   "execution_count": 4,
   "id": "873f0ab4",
   "metadata": {},
   "outputs": [
    {
     "data": {
      "text/html": [
       "<div>\n",
       "<style scoped>\n",
       "    .dataframe tbody tr th:only-of-type {\n",
       "        vertical-align: middle;\n",
       "    }\n",
       "\n",
       "    .dataframe tbody tr th {\n",
       "        vertical-align: top;\n",
       "    }\n",
       "\n",
       "    .dataframe thead th {\n",
       "        text-align: right;\n",
       "    }\n",
       "</style>\n",
       "<table border=\"1\" class=\"dataframe\">\n",
       "  <thead>\n",
       "    <tr style=\"text-align: right;\">\n",
       "      <th></th>\n",
       "      <th>elapsed_ns</th>\n",
       "      <th>query_id</th>\n",
       "    </tr>\n",
       "  </thead>\n",
       "  <tbody>\n",
       "    <tr>\n",
       "      <th>0</th>\n",
       "      <td>2549714</td>\n",
       "      <td>5f46e235-5e89-41fe-8ea5-de584e64e342</td>\n",
       "    </tr>\n",
       "  </tbody>\n",
       "</table>\n",
       "</div>"
      ],
      "text/plain": [
       "   elapsed_ns                              query_id\n",
       "0     2549714  5f46e235-5e89-41fe-8ea5-de584e64e342"
      ]
     },
     "execution_count": 4,
     "metadata": {},
     "output_type": "execute_result"
    }
   ],
   "source": [
    "query_text = \"\"\"\n",
    "SYSTEM REFRESH VIEW db1.t_device_and_shipment_history_by_company_and_city_mv\n",
    "\"\"\"\n",
    "ch.query_run(query_text)"
   ]
  },
  {
   "cell_type": "code",
   "execution_count": 24,
   "id": "c287238a",
   "metadata": {},
   "outputs": [
    {
     "data": {
      "text/html": [
       "<div>\n",
       "<style scoped>\n",
       "    .dataframe tbody tr th:only-of-type {\n",
       "        vertical-align: middle;\n",
       "    }\n",
       "\n",
       "    .dataframe tbody tr th {\n",
       "        vertical-align: top;\n",
       "    }\n",
       "\n",
       "    .dataframe thead th {\n",
       "        text-align: right;\n",
       "    }\n",
       "</style>\n",
       "<table border=\"1\" class=\"dataframe\">\n",
       "  <thead>\n",
       "    <tr style=\"text-align: right;\">\n",
       "      <th></th>\n",
       "      <th>elapsed_ns</th>\n",
       "      <th>query_id</th>\n",
       "    </tr>\n",
       "  </thead>\n",
       "  <tbody>\n",
       "    <tr>\n",
       "      <th>0</th>\n",
       "      <td>1373196</td>\n",
       "      <td>f9b9ba1a-dc5c-4a41-9467-14ba95a96fb2</td>\n",
       "    </tr>\n",
       "  </tbody>\n",
       "</table>\n",
       "</div>"
      ],
      "text/plain": [
       "   elapsed_ns                              query_id\n",
       "0     1373196  f9b9ba1a-dc5c-4a41-9467-14ba95a96fb2"
      ]
     },
     "execution_count": 24,
     "metadata": {},
     "output_type": "execute_result"
    }
   ],
   "source": [
    "query_text = \"\"\"\n",
    "DROP TABLE db1.t_device_and_shipment_history_by_company_and_city_mv\n",
    "\"\"\"\n",
    "\n",
    "ch.query_run(query_text)"
   ]
  },
  {
   "cell_type": "code",
   "execution_count": null,
   "id": "2ab7d924",
   "metadata": {},
   "outputs": [],
   "source": [
    "query_text = \"\"\"--sql\n",
    "SELECT\n",
    "    sum(count_serial_number_partner_change)\n",
    "FROM db1.t_device_and_shipment_history_by_company_and_city\n",
    "WHERE report_date = '2025-06-13'\n",
    "LIMIT 10\n",
    "\"\"\"\n",
    "ch.query_run(query_text)"
   ]
  },
  {
   "cell_type": "code",
   "execution_count": 9,
   "id": "1f254ec6",
   "metadata": {},
   "outputs": [
    {
     "data": {
      "text/html": [
       "<div>\n",
       "<style scoped>\n",
       "    .dataframe tbody tr th:only-of-type {\n",
       "        vertical-align: middle;\n",
       "    }\n",
       "\n",
       "    .dataframe tbody tr th {\n",
       "        vertical-align: top;\n",
       "    }\n",
       "\n",
       "    .dataframe thead th {\n",
       "        text-align: right;\n",
       "    }\n",
       "</style>\n",
       "<table border=\"1\" class=\"dataframe\">\n",
       "  <thead>\n",
       "    <tr style=\"text-align: right;\">\n",
       "      <th></th>\n",
       "      <th>uniqExact(camera_uuid)</th>\n",
       "    </tr>\n",
       "  </thead>\n",
       "  <tbody>\n",
       "    <tr>\n",
       "      <th>0</th>\n",
       "      <td>63782</td>\n",
       "    </tr>\n",
       "  </tbody>\n",
       "</table>\n",
       "</div>"
      ],
      "text/plain": [
       "   uniqExact(camera_uuid)\n",
       "0                   63782"
      ]
     },
     "execution_count": 9,
     "metadata": {},
     "output_type": "execute_result"
    }
   ],
   "source": [
    "query_text=\"\"\"\n",
    "SELECT\n",
    "    count(distinct camera_uuid)\n",
    "FROM db1.cameras_st_asgard_ch\n",
    "WHERE report_date = '2025-06-14'\n",
    "    AND partner_uuid != 'b1782e4f-9198-49d1-b5aa-7bdba9c87d21'\n",
    "GROUP BY report_date\n",
    "limit 10\n",
    "\"\"\"\n",
    "ch.query_run(query_text)"
   ]
  }
 ],
 "metadata": {
  "jupytext": {
   "formats": "ipynb,md"
  },
  "kernelspec": {
   "display_name": "myenv",
   "language": "python",
   "name": "python3"
  },
  "language_info": {
   "codemirror_mode": {
    "name": "ipython",
    "version": 3
   },
   "file_extension": ".py",
   "mimetype": "text/x-python",
   "name": "python",
   "nbconvert_exporter": "python",
   "pygments_lexer": "ipython3",
   "version": "3.12.10"
  }
 },
 "nbformat": 4,
 "nbformat_minor": 5
}

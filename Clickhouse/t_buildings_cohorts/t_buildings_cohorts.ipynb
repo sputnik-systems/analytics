{
 "cells": [
  {
   "cell_type": "markdown",
   "id": "4c71c022",
   "metadata": {},
   "source": [
    "## Start"
   ]
  },
  {
   "cell_type": "code",
   "execution_count": 1,
   "id": "a5c012f1",
   "metadata": {},
   "outputs": [],
   "source": [
    "import clickhouse_connect\n",
    "import datetime\n",
    "import os\n",
    "import pytz\n",
    "import pandas as pd\n",
    "from dateutil.relativedelta import relativedelta\n",
    "from dotenv import load_dotenv\n",
    "import sys\n",
    "sys.path.append('/home/boris/Documents/Work/analytics/Clickhouse')\n",
    "from clickhouse_client import ClickHouse_client\n",
    "ch = ClickHouse_client()\n",
    "pd.set_option('display.max_rows', 1000)"
   ]
  },
  {
   "cell_type": "markdown",
   "id": "ed4e479f",
   "metadata": {},
   "source": [
    "___\n",
    "## Tags: #Tables\n",
    "___\n",
    "## Links:\n",
    "[[installation_point_st_partner]]\n",
    "[[entries_installation_points_dir_partner]]\n",
    "[[companies_st_partner]]\n",
    "[[companies_dir_partner]]\n",
    "[[intercoms_st_partner]]"
   ]
  },
  {
   "cell_type": "markdown",
   "id": "63f062a4",
   "metadata": {},
   "source": [
    "___\n",
    "## Table_creating"
   ]
  },
  {
   "cell_type": "code",
   "execution_count": 5,
   "id": "f34d3298",
   "metadata": {},
   "outputs": [
    {
     "data": {
      "text/html": [
       "<div><style>\n",
       ".dataframe > thead > tr,\n",
       ".dataframe > tbody > tr {\n",
       "  text-align: right;\n",
       "  white-space: pre-wrap;\n",
       "}\n",
       "</style>\n",
       "<small>shape: (0, 0)</small><table border=\"1\" class=\"dataframe\"><thead><tr></tr><tr></tr></thead><tbody></tbody></table></div>"
      ],
      "text/plain": [
       "shape: (0, 0)\n",
       "┌┐\n",
       "╞╡\n",
       "└┘"
      ]
     },
     "execution_count": 5,
     "metadata": {},
     "output_type": "execute_result"
    }
   ],
   "source": [
    "query_text = \"\"\"--sql\n",
    "    CREATE TABLE db1.t_billings_cohorts\n",
    "    (\n",
    "        `full_address` String,\n",
    "        `region` String,\n",
    "        `city` String,\n",
    "        `country` String,\n",
    "        `report_date` Date,\n",
    "        `installation_point_id` Int64,\n",
    "        `digital_keys_count` String,\n",
    "        `device_keys_count` String,\n",
    "        `monetization_is_allowed` Int16,\n",
    "        `monetization` Int16,\n",
    "        `partner_uuid` String,\n",
    "        `parent_uuid` String,\n",
    "        `flats_count` Int16,\n",
    "        `company_name` String,\n",
    "        `tin` String,\n",
    "        `kpp` String,\n",
    "        `partner_lk` String,\n",
    "        `lat` String,\n",
    "        `lon` String,\n",
    "        `building_cohorts` String,\n",
    "        `building_cohorts_rank` String,\n",
    "        `flat_range` String\n",
    "    )\n",
    "    ENGINE = MergeTree()\n",
    "    ORDER BY partner_uuid\n",
    "    \"\"\"\n",
    "\n",
    "ch.query_run(query_text)"
   ]
  },
  {
   "cell_type": "markdown",
   "id": "699eb9c0",
   "metadata": {},
   "source": [
    "___\n",
    "## MV_creating"
   ]
  },
  {
   "cell_type": "code",
   "execution_count": 8,
   "id": "08b4bda8",
   "metadata": {},
   "outputs": [
    {
     "data": {
      "text/html": [
       "<div><style>\n",
       ".dataframe > thead > tr,\n",
       ".dataframe > tbody > tr {\n",
       "  text-align: right;\n",
       "  white-space: pre-wrap;\n",
       "}\n",
       "</style>\n",
       "<small>shape: (0, 0)</small><table border=\"1\" class=\"dataframe\"><thead><tr></tr><tr></tr></thead><tbody></tbody></table></div>"
      ],
      "text/plain": [
       "shape: (0, 0)\n",
       "┌┐\n",
       "╞╡\n",
       "└┘"
      ]
     },
     "execution_count": 8,
     "metadata": {},
     "output_type": "execute_result"
    }
   ],
   "source": [
    "query_text = \"\"\"--sql\n",
    "    CREATE MATERIALIZED VIEW db1.t_billings_cohorts_mv\n",
    "    REFRESH EVERY 1 DAY OFFSET 5 HOUR 30 MINUTE TO db1.t_billings_cohorts AS\n",
    "SELECT\n",
    "\t\tDISTINCT\n",
    "\t\tinstallation_point_st_partner.`report_date` AS `report_date`,\n",
    "\t    installation_point_st_partner.`installation_point_id` AS `installation_point_id`,\n",
    "\t    `flats_count`,\n",
    "\t    `full_address`,\n",
    "\t    `region`,\n",
    "\t    `city`,\n",
    "\t    `country`,\n",
    "\t    `digital_keys_count`,\n",
    "\t    `device_keys_count`,\n",
    "\t    `monetization_is_allowed`,\n",
    "\t    `monetization`,\n",
    "\t    installation_point_st_partner.`partner_uuid` AS `partner_uuid`,\n",
    "\t    `parent_uuid`,\n",
    "\t\tcompany_name,\n",
    "\t\t`tin`,\n",
    "        `kpp`,\n",
    "        `partner_lk`,\n",
    "\t\t`lat`,\n",
    "        `lon`,\n",
    "\t    CASE\n",
    "\t        WHEN `flats_count`<=25 THEN 'Малоэтажки  - до 25 кв'\n",
    "\t        WHEN `flats_count` > 25 AND `flats_count` <= 48  THEN 'Многоэтажки - от 25 до 48 кв'\n",
    "\t        WHEN `flats_count` > 48 THEN 'Высотки - от 48 кв и больше'\n",
    "\t        ELSE NULL\n",
    "\t    END building_cohorts,\n",
    "\t    CASE\n",
    "\t        WHEN `flats_count`<=25 THEN '0. Малоэтажки  - до 25 кв'\n",
    "\t        WHEN `flats_count` > 25 AND `flats_count` <= 48 THEN '1. Многоэтажки - от 25 до 48 кв'\n",
    "\t        WHEN `flats_count` > 48 THEN '2. Высотки - от 48 кв и больше'\n",
    "\t        ELSE NULL\n",
    "\t    END building_cohorts_rank,\n",
    "\t   \tintercoms_st_partner.`model_identifier` as flat_range\n",
    "\tFROM db1.`installation_point_st_partner_ch` AS installation_point_st_partner\n",
    "\tLEFT JOIN db1.`entries_installation_points_dir_partner_ch` AS entries_installation_points_dir_partner\n",
    "\t    ON installation_point_st_partner.`installation_point_id` = entries_installation_points_dir_partner.`installation_point_id`\n",
    "\tLEFT JOIN db1.`companies_st_partner_ch` AS companies_st_partner\n",
    "\t\tON `installation_point_st_partner`.`report_date` = `companies_st_partner`.`report_date`\n",
    "\t    AND `installation_point_st_partner`.`partner_uuid` = `companies_st_partner`.`partner_uuid`\n",
    "\tLEFT JOIN db1.`companies_dir_partner_ch` AS companies_dir_partner \n",
    "\t\tON companies_dir_partner.`partner_uuid` = companies_st_partner.`partner_uuid`\n",
    "\tLEFT JOIN db1.`intercoms_st_partner_ch` AS intercoms_st_partner\n",
    "\t\tON intercoms_st_partner.`installation_point_id` = installation_point_st_partner.`installation_point_id`\n",
    "\t    AND intercoms_st_partner.`report_date` = installation_point_st_partner.`report_date`\n",
    "\tWHERE  installation_point_st_partner.`partner_uuid` != ''\n",
    "\t        AND installation_point_st_partner.`installation_point_id` != 0\n",
    "\t        and intercom_uuid !=''\n",
    "\"\"\"\n",
    "\n",
    "ch.query_run(query_text)"
   ]
  },
  {
   "cell_type": "markdown",
   "id": "d78ab400",
   "metadata": {},
   "source": [
    "___\n",
    "## Tools\n",
    "___"
   ]
  },
  {
   "cell_type": "markdown",
   "id": "981653eb",
   "metadata": {},
   "source": [
    "### query"
   ]
  },
  {
   "cell_type": "code",
   "execution_count": null,
   "id": "12ad8a39",
   "metadata": {},
   "outputs": [],
   "source": [
    "query_text = \"\"\"--sql\n",
    "SELECT\n",
    "    *\n",
    "FROM db1.t_billings_cohorts\n",
    "limit 100\n",
    "\n",
    "\"\"\"\n",
    "\n",
    "ch.query_run(query_text)"
   ]
  },
  {
   "cell_type": "markdown",
   "id": "ddba06cf",
   "metadata": {},
   "source": [
    "### refreash_mv"
   ]
  },
  {
   "cell_type": "code",
   "execution_count": null,
   "id": "e96cfb32",
   "metadata": {},
   "outputs": [],
   "source": [
    "query_text = \"\"\"\n",
    "SYSTEM REFRESH VIEW db1.t_device_billins_mv\n",
    "\"\"\"\n",
    "\n",
    "ch.query_run(query_text)"
   ]
  },
  {
   "cell_type": "markdown",
   "id": "6120891a",
   "metadata": {},
   "source": [
    "___\n",
    "### drop_table"
   ]
  },
  {
   "cell_type": "code",
   "execution_count": 3,
   "id": "9f6c3756",
   "metadata": {},
   "outputs": [
    {
     "data": {
      "text/html": [
       "<div><style>\n",
       ".dataframe > thead > tr,\n",
       ".dataframe > tbody > tr {\n",
       "  text-align: right;\n",
       "  white-space: pre-wrap;\n",
       "}\n",
       "</style>\n",
       "<small>shape: (1, 2)</small><table border=\"1\" class=\"dataframe\"><thead><tr><th>elapsed_ns</th><th>query_id</th></tr><tr><td>i64</td><td>str</td></tr></thead><tbody><tr><td>15934238</td><td>&quot;e194b986-cabc-4d87-8140-88e42d…</td></tr></tbody></table></div>"
      ],
      "text/plain": [
       "shape: (1, 2)\n",
       "┌────────────┬─────────────────────────────────┐\n",
       "│ elapsed_ns ┆ query_id                        │\n",
       "│ ---        ┆ ---                             │\n",
       "│ i64        ┆ str                             │\n",
       "╞════════════╪═════════════════════════════════╡\n",
       "│ 15934238   ┆ e194b986-cabc-4d87-8140-88e42d… │\n",
       "└────────────┴─────────────────────────────────┘"
      ]
     },
     "execution_count": 3,
     "metadata": {},
     "output_type": "execute_result"
    }
   ],
   "source": [
    "query_text = \"\"\" \n",
    "DROP TABLE db1.t_billings_cohorts\n",
    "\"\"\"\n",
    "\n",
    "ch.query_run(query_text)"
   ]
  },
  {
   "cell_type": "markdown",
   "id": "3bde26cd",
   "metadata": {},
   "source": [
    "### drop_mv"
   ]
  },
  {
   "cell_type": "code",
   "execution_count": 7,
   "id": "0bd503ac",
   "metadata": {},
   "outputs": [
    {
     "data": {
      "text/html": [
       "<div><style>\n",
       ".dataframe > thead > tr,\n",
       ".dataframe > tbody > tr {\n",
       "  text-align: right;\n",
       "  white-space: pre-wrap;\n",
       "}\n",
       "</style>\n",
       "<small>shape: (1, 2)</small><table border=\"1\" class=\"dataframe\"><thead><tr><th>elapsed_ns</th><th>query_id</th></tr><tr><td>i64</td><td>str</td></tr></thead><tbody><tr><td>1155247</td><td>&quot;d6485be2-d5c8-4e33-a62e-f70824…</td></tr></tbody></table></div>"
      ],
      "text/plain": [
       "shape: (1, 2)\n",
       "┌────────────┬─────────────────────────────────┐\n",
       "│ elapsed_ns ┆ query_id                        │\n",
       "│ ---        ┆ ---                             │\n",
       "│ i64        ┆ str                             │\n",
       "╞════════════╪═════════════════════════════════╡\n",
       "│ 1155247    ┆ d6485be2-d5c8-4e33-a62e-f70824… │\n",
       "└────────────┴─────────────────────────────────┘"
      ]
     },
     "execution_count": 7,
     "metadata": {},
     "output_type": "execute_result"
    }
   ],
   "source": [
    "query_text = \"\"\" \n",
    "DROP TABLE db1.t_billings_cohorts_mv\n",
    "\"\"\"\n",
    "\n",
    "ch.query_run(query_text)"
   ]
  }
 ],
 "metadata": {
  "jupytext": {
   "formats": "ipynb,md"
  },
  "kernelspec": {
   "display_name": "myenv",
   "language": "python",
   "name": "python3"
  },
  "language_info": {
   "codemirror_mode": {
    "name": "ipython",
    "version": 3
   },
   "file_extension": ".py",
   "mimetype": "text/x-python",
   "name": "python",
   "nbconvert_exporter": "python",
   "pygments_lexer": "ipython3",
   "version": "3.12.11"
  }
 },
 "nbformat": 4,
 "nbformat_minor": 5
}

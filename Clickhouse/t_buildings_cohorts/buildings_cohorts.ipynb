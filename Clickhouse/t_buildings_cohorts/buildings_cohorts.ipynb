{
 "cells": [
  {
   "cell_type": "markdown",
   "id": "4c71c022",
   "metadata": {},
   "source": [
    "## Start"
   ]
  },
  {
   "cell_type": "code",
   "execution_count": 1,
   "id": "a5c012f1",
   "metadata": {},
   "outputs": [],
   "source": [
    "import clickhouse_connect\n",
    "import datetime\n",
    "import os\n",
    "import pytz\n",
    "import pandas as pd\n",
    "from dateutil.relativedelta import relativedelta\n",
    "from dotenv import load_dotenv\n",
    "import sys\n",
    "sys.path.append('/home/boris/Documents/Work/analytics/Clickhouse')\n",
    "from clickhouse_client import ClickHouse_client\n",
    "ch = ClickHouse_client()\n",
    "pd.set_option('display.max_rows', 1000)"
   ]
  },
  {
   "cell_type": "markdown",
   "id": "ed4e479f",
   "metadata": {},
   "source": [
    "___\n",
    "## Tags: #Tables\n",
    "___\n",
    "## Links:\n",
    "[[installation_point_st_partner]]\n",
    "[[entries_installation_points_dir_partner]]\n",
    "[[companies_st_partner]]\n",
    "[[companies_dir_partner]]\n",
    "[[intercoms_st_partner]]"
   ]
  },
  {
   "cell_type": "markdown",
   "id": "63f062a4",
   "metadata": {},
   "source": [
    "___\n",
    "## Table_creating"
   ]
  },
  {
   "cell_type": "code",
   "execution_count": 3,
   "id": "f34d3298",
   "metadata": {},
   "outputs": [
    {
     "data": {
      "text/html": [
       "<div>\n",
       "<style scoped>\n",
       "    .dataframe tbody tr th:only-of-type {\n",
       "        vertical-align: middle;\n",
       "    }\n",
       "\n",
       "    .dataframe tbody tr th {\n",
       "        vertical-align: top;\n",
       "    }\n",
       "\n",
       "    .dataframe thead th {\n",
       "        text-align: right;\n",
       "    }\n",
       "</style>\n",
       "<table border=\"1\" class=\"dataframe\">\n",
       "  <thead>\n",
       "    <tr style=\"text-align: right;\">\n",
       "      <th></th>\n",
       "    </tr>\n",
       "  </thead>\n",
       "  <tbody>\n",
       "  </tbody>\n",
       "</table>\n",
       "</div>"
      ],
      "text/plain": [
       "Empty DataFrame\n",
       "Columns: []\n",
       "Index: []"
      ]
     },
     "execution_count": 3,
     "metadata": {},
     "output_type": "execute_result"
    }
   ],
   "source": [
    "query_text = \"\"\"--sql\n",
    "    CREATE TABLE db1.t_billings_cohorts\n",
    "    (\n",
    "        `full_address` String,\n",
    "        `region` String,\n",
    "        `city` String,\n",
    "        `country` String,\n",
    "        `report_date` Date,\n",
    "        `installation_point_id` Int64,\n",
    "        `digital_keys_count` String,\n",
    "        `device_keys_count` String,\n",
    "        `monetization_is_allowed` Int16,\n",
    "        `monetization` Int16,\n",
    "        `partner_uuid` String,\n",
    "        `parent_uuid` String,\n",
    "        `flats_count` Int16,\n",
    "        `company_name` String,\n",
    "        `tin` String,\n",
    "        `kpp` String,\n",
    "        `partner_lk` String,\n",
    "        `lat` String,\n",
    "        `lon` String,\n",
    "        `building_cohorts` String,\n",
    "        `building_cohorts_rank` String,\n",
    "        `intercom_uuid` String,\n",
    "        `flat_range` String\n",
    "    )\n",
    "    ENGINE = MergeTree()\n",
    "    ORDER BY partner_uuid\n",
    "    \"\"\"\n",
    "\n",
    "ch.query_run(query_text)"
   ]
  },
  {
   "cell_type": "markdown",
   "id": "699eb9c0",
   "metadata": {},
   "source": [
    "___\n",
    "## MV_creating"
   ]
  },
  {
   "cell_type": "code",
   "execution_count": 9,
   "id": "08b4bda8",
   "metadata": {},
   "outputs": [
    {
     "data": {
      "text/html": [
       "<div>\n",
       "<style scoped>\n",
       "    .dataframe tbody tr th:only-of-type {\n",
       "        vertical-align: middle;\n",
       "    }\n",
       "\n",
       "    .dataframe tbody tr th {\n",
       "        vertical-align: top;\n",
       "    }\n",
       "\n",
       "    .dataframe thead th {\n",
       "        text-align: right;\n",
       "    }\n",
       "</style>\n",
       "<table border=\"1\" class=\"dataframe\">\n",
       "  <thead>\n",
       "    <tr style=\"text-align: right;\">\n",
       "      <th></th>\n",
       "    </tr>\n",
       "  </thead>\n",
       "  <tbody>\n",
       "  </tbody>\n",
       "</table>\n",
       "</div>"
      ],
      "text/plain": [
       "Empty DataFrame\n",
       "Columns: []\n",
       "Index: []"
      ]
     },
     "execution_count": 9,
     "metadata": {},
     "output_type": "execute_result"
    }
   ],
   "source": [
    "query_text = \"\"\"--sql\n",
    "    CREATE MATERIALIZED VIEW db1.t_billings_cohorts_mv\n",
    "    REFRESH EVERY 1 DAY OFFSET 5 HOUR 30 MINUTE TO db1.t_billings_cohorts AS\n",
    "SELECT\n",
    "    `full_address`,\n",
    "    `region`,\n",
    "    `city`,\n",
    "    `country`,\n",
    "    installation_point_st_partner.`report_date` AS `report_date`,\n",
    "    installation_point_st_partner.`installation_point_id` AS `installation_point_id`,\n",
    "    `digital_keys_count`,\n",
    "    `device_keys_count`,\n",
    "    `monetization_is_allowed`,\n",
    "    `monetization`,\n",
    "    installation_point_st_partner.`partner_uuid` AS `partner_uuid`,\n",
    "    `parent_uuid`,\n",
    "    `flats_count`,\n",
    "    `company_name`,\n",
    "    `tin`,\n",
    "    `kpp`,\n",
    "    `partner_lk`,\n",
    "    `lat`,\n",
    "    `lon`,\n",
    "    CASE\n",
    "        WHEN `flats_count`<=25 THEN 'Малоэтажки  - до 25 кв'\n",
    "        WHEN `flats_count` > 25 AND `flats_count` <= 48  THEN 'Многоэтажки - от 25 до 48 кв'\n",
    "        WHEN `flats_count` > 48 THEN 'Высотки - от 48 кв и больше'\n",
    "        ELSE NULL\n",
    "    END building_cohorts,\n",
    "    CASE\n",
    "        WHEN `flats_count`<=25 THEN '0. Малоэтажки  - до 25 кв'\n",
    "        WHEN `flats_count` > 25 AND `flats_count` <= 48 THEN '1. Многоэтажки - от 25 до 48 кв'\n",
    "        WHEN `flats_count` > 48 THEN '2. Высотки - от 48 кв и больше'\n",
    "        ELSE NULL\n",
    "    END building_cohorts_rank,\n",
    "    intercoms_st_partner.`intercom_uuid` AS intercom_uuid,\n",
    "    intercoms_st_partner.`model_identifier` as flat_range\n",
    "FROM db1.`installation_point_st_partner_ch` AS installation_point_st_partner\n",
    "LEFT JOIN db1.`entries_installation_points_dir_partner_ch` AS entries_installation_points_dir_partner\n",
    "    ON installation_point_st_partner.`installation_point_id` = entries_installation_points_dir_partner.`installation_point_id`\n",
    "LEFT JOIN db1.`companies_st_partner_ch` AS companies_st_partner\n",
    "\tON `installation_point_st_partner`.`report_date` = `companies_st_partner`.`report_date`\n",
    "    AND `installation_point_st_partner`.`partner_uuid` = `companies_st_partner`.`partner_uuid`\n",
    "LEFT JOIN db1.`companies_dir_partner_ch` AS companies_dir_partner \n",
    "\tON companies_dir_partner.`partner_uuid` = companies_st_partner.`partner_uuid`\n",
    "LEFT JOIN db1.`intercoms_st_partner_ch` AS intercoms_st_partner\n",
    "\tON intercoms_st_partner.`installation_point_id` = installation_point_st_partner.`installation_point_id`\n",
    "    AND intercoms_st_partner.`report_date` = installation_point_st_partner.`report_date`\n",
    "WHERE installation_point_st_partner.`partner_uuid` is not null\n",
    "        AND installation_point_st_partner.`installation_point_id` is not null\n",
    "\"\"\"\n",
    "\n",
    "ch.query_run(query_text)"
   ]
  },
  {
   "cell_type": "markdown",
   "id": "d78ab400",
   "metadata": {},
   "source": [
    "___\n",
    "## Tools\n",
    "___"
   ]
  },
  {
   "cell_type": "markdown",
   "id": "981653eb",
   "metadata": {},
   "source": [
    "### query"
   ]
  },
  {
   "cell_type": "code",
   "execution_count": null,
   "id": "12ad8a39",
   "metadata": {},
   "outputs": [],
   "source": [
    "query_text = \"\"\"--sql\n",
    "SELECT\n",
    "    *\n",
    "FROM db1.t_billings_cohorts\n",
    "limit 100\n",
    "\n",
    "\"\"\"\n",
    "\n",
    "ch.query_run(query_text)"
   ]
  },
  {
   "cell_type": "markdown",
   "id": "ddba06cf",
   "metadata": {},
   "source": [
    "### refreash_mv"
   ]
  },
  {
   "cell_type": "code",
   "execution_count": null,
   "id": "e96cfb32",
   "metadata": {},
   "outputs": [],
   "source": [
    "query_text = \"\"\"\n",
    "SYSTEM REFRESH VIEW db1.t_device_billins_mv\n",
    "\"\"\"\n",
    "\n",
    "ch.query_run(query_text)"
   ]
  },
  {
   "cell_type": "markdown",
   "id": "6120891a",
   "metadata": {},
   "source": [
    "___\n",
    "### drop_table"
   ]
  },
  {
   "cell_type": "code",
   "execution_count": null,
   "id": "9f6c3756",
   "metadata": {},
   "outputs": [],
   "source": [
    "query_text = \"\"\" \n",
    "DROP TABLE db1.t_billings_cohorts\n",
    "\"\"\"\n",
    "\n",
    "ch.query_run(query_text)"
   ]
  },
  {
   "cell_type": "markdown",
   "id": "3bde26cd",
   "metadata": {},
   "source": [
    "### drop_mv"
   ]
  },
  {
   "cell_type": "code",
   "execution_count": null,
   "id": "0bd503ac",
   "metadata": {},
   "outputs": [],
   "source": [
    "query_text = \"\"\" \n",
    "DROP TABLE db1.t_billings_cohorts_mv\n",
    "\"\"\"\n",
    "\n",
    "ch.query_run(query_text)"
   ]
  }
 ],
 "metadata": {
  "jupytext": {
   "formats": "ipynb,md"
  },
  "kernelspec": {
   "display_name": "myenv",
   "language": "python",
   "name": "python3"
  },
  "language_info": {
   "codemirror_mode": {
    "name": "ipython",
    "version": 3
   },
   "file_extension": ".py",
   "mimetype": "text/x-python",
   "name": "python",
   "nbconvert_exporter": "python",
   "pygments_lexer": "ipython3",
   "version": "3.12.10"
  }
 },
 "nbformat": 4,
 "nbformat_minor": 5
}

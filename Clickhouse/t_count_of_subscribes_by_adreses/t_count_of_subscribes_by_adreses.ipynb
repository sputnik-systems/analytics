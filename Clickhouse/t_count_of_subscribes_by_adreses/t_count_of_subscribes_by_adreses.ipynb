{
 "cells": [
  {
   "cell_type": "markdown",
   "id": "c288763b",
   "metadata": {},
   "source": [
    "# t_count_of_subscribes_by_adreses"
   ]
  },
  {
   "cell_type": "markdown",
   "id": "9e9e0fc9",
   "metadata": {},
   "source": [
    "## Start"
   ]
  },
  {
   "cell_type": "code",
   "execution_count": 1,
   "id": "b1337666",
   "metadata": {},
   "outputs": [],
   "source": [
    "import clickhouse_connect\n",
    "import datetime\n",
    "import os\n",
    "import pytz\n",
    "import pandas as pd\n",
    "from dateutil.relativedelta import relativedelta\n",
    "from dotenv import load_dotenv\n",
    "import sys\n",
    "sys.path.append('/home/boris/Documents/Work/analytics/Clickhouse')\n",
    "from clickhouse_client import ClickHouse_client\n",
    "ch = ClickHouse_client()\n",
    "pd.set_option('display.max_rows', 1000)"
   ]
  },
  {
   "cell_type": "markdown",
   "id": "c3708748",
   "metadata": {},
   "source": [
    "___\n",
    "## Tags: #Tables\n",
    "___\n",
    "## Links:\n",
    "[[installation_point_st_partner]]\n",
    "[[entries_installation_points_dir_partner]]\n",
    "[[cameras_st_partner]]\n",
    "[[subscriptions_st_mobile]]\n",
    "[[citizens_st_mobile]]\n",
    "[[companies_st_partner]]\n",
    "[[companies_dir_partner]]"
   ]
  },
  {
   "cell_type": "markdown",
   "id": "6913e949",
   "metadata": {},
   "source": [
    "___\n",
    "## Table_creating"
   ]
  },
  {
   "cell_type": "code",
   "execution_count": 7,
   "id": "11566f9c",
   "metadata": {},
   "outputs": [
    {
     "data": {
      "text/html": [
       "<div><style>\n",
       ".dataframe > thead > tr,\n",
       ".dataframe > tbody > tr {\n",
       "  text-align: right;\n",
       "  white-space: pre-wrap;\n",
       "}\n",
       "</style>\n",
       "<small>shape: (0, 0)</small><table border=\"1\" class=\"dataframe\"><thead><tr></tr><tr></tr></thead><tbody></tbody></table></div>"
      ],
      "text/plain": [
       "shape: (0, 0)\n",
       "┌┐\n",
       "╞╡\n",
       "└┘"
      ]
     },
     "execution_count": 7,
     "metadata": {},
     "output_type": "execute_result"
    }
   ],
   "source": [
    "query_text = \"\"\"--sql\n",
    "    CREATE TABLE db1.t_count_of_subscribes_by_adreses\n",
    "    (\n",
    "        `report_date` Date,\n",
    "        `installation_point_id` Int64,\n",
    "        `address_uuid` String,\n",
    "        `partner_uuid` String,\n",
    "        `flats_count` Int16,\n",
    "        `archive_from_partner` String,\n",
    "        `count_of_subscribes` UInt64,\n",
    "        `company_name` String,\n",
    "        `partner_lk` String,\n",
    "        `tin` String,\n",
    "        `camera_dvr_depth` Int32,\n",
    "        `monetization_is_allowed` Int16\n",
    "    )\n",
    "    ENGINE = MergeTree()\n",
    "    ORDER BY (report_date,partner_uuid)\n",
    "    \"\"\"\n",
    "\n",
    "ch.query_run(query_text)"
   ]
  },
  {
   "cell_type": "markdown",
   "id": "4f5d9512",
   "metadata": {},
   "source": [
    "___\n",
    "## MV_creating"
   ]
  },
  {
   "cell_type": "code",
   "execution_count": 15,
   "id": "a7ab2574",
   "metadata": {},
   "outputs": [
    {
     "ename": "DatabaseError",
     "evalue": "HTTPDriver for https://rc1a-eflrt968scbm232q.mdb.yandexcloud.net:8443 received ClickHouse error code 57\n Code: 57. DB::Exception: Table db1.t_count_of_subscribes_by_adreses_mv already exists. (TABLE_ALREADY_EXISTS) (version 25.3.3.42 (official build))\n",
     "output_type": "error",
     "traceback": [
      "\u001b[31m---------------------------------------------------------------------------\u001b[39m",
      "\u001b[31mDatabaseError\u001b[39m                             Traceback (most recent call last)",
      "\u001b[36mCell\u001b[39m\u001b[36m \u001b[39m\u001b[32mIn[15]\u001b[39m\u001b[32m, line 96\u001b[39m\n\u001b[32m      1\u001b[39m query_text = \u001b[33m\"\"\"\u001b[39m\u001b[33m--sql\u001b[39m\n\u001b[32m      2\u001b[39m \u001b[33m    CREATE MATERIALIZED VIEW db1.t_count_of_subscribes_by_adreses_mv\u001b[39m\n\u001b[32m      3\u001b[39m \u001b[33m    REFRESH EVERY 1 DAY OFFSET 5 HOUR 33 MINUTE TO db1.t_count_of_subscribes_by_adreses AS\u001b[39m\n\u001b[32m   (...)\u001b[39m\u001b[32m     93\u001b[39m \u001b[33m    AND cameras_status.report_date = company.report_date\u001b[39m\n\u001b[32m     94\u001b[39m \u001b[33m\"\"\"\u001b[39m\n\u001b[32m---> \u001b[39m\u001b[32m96\u001b[39m \u001b[43mch\u001b[49m\u001b[43m.\u001b[49m\u001b[43mquery_run\u001b[49m\u001b[43m(\u001b[49m\u001b[43mquery_text\u001b[49m\u001b[43m)\u001b[49m\n",
      "\u001b[36mFile \u001b[39m\u001b[32m~/Documents/Work/analytics/Clickhouse/clickhouse_client.py:29\u001b[39m, in \u001b[36mClickHouse_client.query_run\u001b[39m\u001b[34m(self, query_text)\u001b[39m\n\u001b[32m     27\u001b[39m \u001b[38;5;28;01mdef\u001b[39;00m\u001b[38;5;250m \u001b[39m\u001b[34mquery_run\u001b[39m (\u001b[38;5;28mself\u001b[39m, query_text):\n\u001b[32m     28\u001b[39m     query_text = query_text\n\u001b[32m---> \u001b[39m\u001b[32m29\u001b[39m     result = \u001b[38;5;28;43mself\u001b[39;49m\u001b[43m.\u001b[49m\u001b[43mclient\u001b[49m\u001b[43m.\u001b[49m\u001b[43mquery\u001b[49m\u001b[43m(\u001b[49m\u001b[43mquery_text\u001b[49m\u001b[43m)\u001b[49m\n\u001b[32m     30\u001b[39m     \u001b[38;5;28mself\u001b[39m.df = pd.DataFrame(result.result_rows, columns=result.column_names)\n\u001b[32m     31\u001b[39m     \u001b[38;5;66;03m# self.df = pl.DataFrame(result.result_rows, schema=result.column_names)\u001b[39;00m\n",
      "\u001b[36mFile \u001b[39m\u001b[32m~/myenv/lib/python3.12/site-packages/clickhouse_connect/driver/client.py:237\u001b[39m, in \u001b[36mClient.query\u001b[39m\u001b[34m(self, query, parameters, settings, query_formats, column_formats, encoding, use_none, column_oriented, use_numpy, max_str_len, context, query_tz, column_tzs, external_data, transport_settings)\u001b[39m\n\u001b[32m    235\u001b[39m         \u001b[38;5;28;01mreturn\u001b[39;00m response.as_query_result()\n\u001b[32m    236\u001b[39m     \u001b[38;5;28;01mreturn\u001b[39;00m QueryResult([response] \u001b[38;5;28;01mif\u001b[39;00m \u001b[38;5;28misinstance\u001b[39m(response, \u001b[38;5;28mlist\u001b[39m) \u001b[38;5;28;01melse\u001b[39;00m [[response]])\n\u001b[32m--> \u001b[39m\u001b[32m237\u001b[39m \u001b[38;5;28;01mreturn\u001b[39;00m \u001b[38;5;28;43mself\u001b[39;49m\u001b[43m.\u001b[49m\u001b[43m_query_with_context\u001b[49m\u001b[43m(\u001b[49m\u001b[43mquery_context\u001b[49m\u001b[43m)\u001b[49m\n",
      "\u001b[36mFile \u001b[39m\u001b[32m~/myenv/lib/python3.12/site-packages/clickhouse_connect/driver/httpclient.py:243\u001b[39m, in \u001b[36mHttpClient._query_with_context\u001b[39m\u001b[34m(self, context)\u001b[39m\n\u001b[32m    241\u001b[39m     fields = \u001b[38;5;28;01mNone\u001b[39;00m\n\u001b[32m    242\u001b[39m     headers[\u001b[33m'\u001b[39m\u001b[33mContent-Type\u001b[39m\u001b[33m'\u001b[39m] = \u001b[33m'\u001b[39m\u001b[33mtext/plain; charset=utf-8\u001b[39m\u001b[33m'\u001b[39m\n\u001b[32m--> \u001b[39m\u001b[32m243\u001b[39m response = \u001b[38;5;28;43mself\u001b[39;49m\u001b[43m.\u001b[49m\u001b[43m_raw_request\u001b[49m\u001b[43m(\u001b[49m\u001b[43mbody\u001b[49m\u001b[43m,\u001b[49m\n\u001b[32m    244\u001b[39m \u001b[43m                             \u001b[49m\u001b[43mparams\u001b[49m\u001b[43m,\u001b[49m\n\u001b[32m    245\u001b[39m \u001b[43m                             \u001b[49m\u001b[43mdict_copy\u001b[49m\u001b[43m(\u001b[49m\u001b[43mheaders\u001b[49m\u001b[43m,\u001b[49m\u001b[43m \u001b[49m\u001b[43mcontext\u001b[49m\u001b[43m.\u001b[49m\u001b[43mtransport_settings\u001b[49m\u001b[43m)\u001b[49m\u001b[43m,\u001b[49m\n\u001b[32m    246\u001b[39m \u001b[43m                             \u001b[49m\u001b[43mstream\u001b[49m\u001b[43m=\u001b[49m\u001b[38;5;28;43;01mTrue\u001b[39;49;00m\u001b[43m,\u001b[49m\n\u001b[32m    247\u001b[39m \u001b[43m                             \u001b[49m\u001b[43mretries\u001b[49m\u001b[43m=\u001b[49m\u001b[38;5;28;43mself\u001b[39;49m\u001b[43m.\u001b[49m\u001b[43mquery_retries\u001b[49m\u001b[43m,\u001b[49m\n\u001b[32m    248\u001b[39m \u001b[43m                             \u001b[49m\u001b[43mfields\u001b[49m\u001b[43m=\u001b[49m\u001b[43mfields\u001b[49m\u001b[43m,\u001b[49m\n\u001b[32m    249\u001b[39m \u001b[43m                             \u001b[49m\u001b[43mserver_wait\u001b[49m\u001b[43m=\u001b[49m\u001b[38;5;129;43;01mnot\u001b[39;49;00m\u001b[43m \u001b[49m\u001b[43mcontext\u001b[49m\u001b[43m.\u001b[49m\u001b[43mstreaming\u001b[49m\u001b[43m)\u001b[49m\n\u001b[32m    250\u001b[39m byte_source = RespBuffCls(ResponseSource(response))  \u001b[38;5;66;03m# pylint: disable=not-callable\u001b[39;00m\n\u001b[32m    251\u001b[39m context.set_response_tz(\u001b[38;5;28mself\u001b[39m._check_tz_change(response.headers.get(\u001b[33m'\u001b[39m\u001b[33mX-ClickHouse-Timezone\u001b[39m\u001b[33m'\u001b[39m)))\n",
      "\u001b[36mFile \u001b[39m\u001b[32m~/myenv/lib/python3.12/site-packages/clickhouse_connect/driver/httpclient.py:481\u001b[39m, in \u001b[36mHttpClient._raw_request\u001b[39m\u001b[34m(self, data, params, headers, method, retries, stream, server_wait, fields, error_handler)\u001b[39m\n\u001b[32m    479\u001b[39m     error_handler(response)\n\u001b[32m    480\u001b[39m \u001b[38;5;28;01melse\u001b[39;00m:\n\u001b[32m--> \u001b[39m\u001b[32m481\u001b[39m     \u001b[38;5;28;43mself\u001b[39;49m\u001b[43m.\u001b[49m\u001b[43m_error_handler\u001b[49m\u001b[43m(\u001b[49m\u001b[43mresponse\u001b[49m\u001b[43m)\u001b[49m\n",
      "\u001b[36mFile \u001b[39m\u001b[32m~/myenv/lib/python3.12/site-packages/clickhouse_connect/driver/httpclient.py:402\u001b[39m, in \u001b[36mHttpClient._error_handler\u001b[39m\u001b[34m(self, response, retried)\u001b[39m\n\u001b[32m    399\u001b[39m \u001b[38;5;28;01melse\u001b[39;00m:\n\u001b[32m    400\u001b[39m     err_str = \u001b[33m'\u001b[39m\u001b[33mThe ClickHouse server returned an error.\u001b[39m\u001b[33m'\u001b[39m\n\u001b[32m--> \u001b[39m\u001b[32m402\u001b[39m \u001b[38;5;28;01mraise\u001b[39;00m OperationalError(err_str) \u001b[38;5;28;01mif\u001b[39;00m retried \u001b[38;5;28;01melse\u001b[39;00m DatabaseError(err_str) \u001b[38;5;28;01mfrom\u001b[39;00m\u001b[38;5;250m \u001b[39m\u001b[38;5;28;01mNone\u001b[39;00m\n",
      "\u001b[31mDatabaseError\u001b[39m: HTTPDriver for https://rc1a-eflrt968scbm232q.mdb.yandexcloud.net:8443 received ClickHouse error code 57\n Code: 57. DB::Exception: Table db1.t_count_of_subscribes_by_adreses_mv already exists. (TABLE_ALREADY_EXISTS) (version 25.3.3.42 (official build))\n"
     ]
    }
   ],
   "source": [
    "query_text = \"\"\"--sql\n",
    "    CREATE MATERIALIZED VIEW db1.t_count_of_subscribes_by_adreses_mv\n",
    "    REFRESH EVERY 1 DAY OFFSET 5 HOUR 33 MINUTE TO db1.t_count_of_subscribes_by_adreses AS\n",
    "WITH t_entries_ip_dir_p AS (\n",
    "    SELECT\n",
    "        DISTINCT\n",
    "        ip_st_p.report_date AS report_date,\n",
    "        ip_st_p.installation_point_id AS installation_point_id,\n",
    "        e_ip_dir_p.address_uuid AS address_uuid,\n",
    "        e_ip_dir_p.partner_uuid AS partner_uuid,\n",
    "        flats_count,\n",
    "        monetization_is_allowed\n",
    "    FROM db1.installation_point_st_partner_ch AS ip_st_p\n",
    "    LEFT JOIN db1.entries_installation_points_dir_partner_ch  AS e_ip_dir_p\n",
    "        ON e_ip_dir_p.installation_point_id = ip_st_p.installation_point_id\n",
    "    WHERE ip_st_p.installation_point_id is not null \n",
    "    AND ip_st_p.installation_point_id != 0\n",
    "    ),\n",
    "    --\n",
    "    t_cameras_st_p AS(\n",
    "    SELECT\n",
    "        DISTINCT\n",
    "        report_date,\n",
    "        installation_point_id,\n",
    "        archive_from_partner,\n",
    "        camera_dvr_depth\n",
    "    FROM db1.`cameras_st_partner_ch`\n",
    "    ),\n",
    "    --\n",
    "    cameras_status AS (\n",
    "    SELECT \n",
    "        DISTINCT\n",
    "        t_entries_ip_dir_p.report_date AS report_date,\n",
    "        t_entries_ip_dir_p.installation_point_id AS installation_point_id,\n",
    "        address_uuid,\n",
    "        t_entries_ip_dir_p.partner_uuid AS partner_uuid,\n",
    "        flats_count,\n",
    "        archive_from_partner,\n",
    "        camera_dvr_depth,\n",
    "        monetization_is_allowed\n",
    "    FROM t_entries_ip_dir_p\n",
    "    LEFT JOIN t_cameras_st_p \n",
    "        ON t_entries_ip_dir_p.report_date = t_cameras_st_p.report_date\n",
    "        AND t_entries_ip_dir_p.installation_point_id = t_cameras_st_p.installation_point_id\n",
    "    ),\n",
    "    --\n",
    "    subscriptions_count AS (\n",
    "    SELECT\n",
    "        DISTINCT\n",
    "        report_date,\n",
    "        address_uuid,\n",
    "        COUNT(if(state = 'activated', sub_st_m_ch.citizen_id,Null)) AS count_of_subscribes\n",
    "    FROM db1.`subscriptions_st_mobile_ch` AS sub_st_m_ch\n",
    "    LEFT JOIN db1.`citizens_st_mobile_ch` AS cit_dir_m \n",
    "        ON cit_dir_m.`citizen_id` = sub_st_m_ch.`citizen_id`\n",
    "        AND cit_dir_m.`report_date` = sub_st_m_ch.`report_date`\n",
    "    GROUP BY\n",
    "        report_date,\n",
    "        address_uuid\n",
    "    ),\n",
    "    --\n",
    "    company AS (\n",
    "    SELECT\n",
    "        report_date,\n",
    "        comp_st_p.partner_uuid as partner_uuid,\n",
    "        company_name,\n",
    "        partner_lk,\n",
    "        tin\n",
    "    FROM db1.companies_st_partner_ch AS comp_st_p\n",
    "    LEFT JOIN db1.companies_dir_partner_ch AS comp_dir_p ON comp_dir_p.partner_uuid = comp_st_p.partner_uuid\n",
    "    )\n",
    "--\n",
    "SELECT\n",
    "    DISTINCT\n",
    "    cameras_status.report_date AS report_date,\n",
    "    installation_point_id,\n",
    "    cameras_status.address_uuid AS address_uuid,\n",
    "    cameras_status.partner_uuid as partner_uuid,\n",
    "    flats_count,\n",
    "    archive_from_partner,\n",
    "    count_of_subscribes,\n",
    "    company_name,\n",
    "    partner_lk,\n",
    "    tin,\n",
    "    camera_dvr_depth,\n",
    "    monetization_is_allowed\n",
    "FROM cameras_status    \n",
    "LEFT JOIN subscriptions_count \n",
    "    ON subscriptions_count.report_date = cameras_status.report_date\n",
    "    AND subscriptions_count.address_uuid = cameras_status.address_uuid\n",
    "LEFT JOIN company \n",
    "    ON cameras_status.partner_uuid = company.partner_uuid \n",
    "    AND cameras_status.report_date = company.report_date\n",
    "\"\"\"\n",
    "\n",
    "ch.query_run(query_text)"
   ]
  },
  {
   "cell_type": "markdown",
   "id": "dcef360f",
   "metadata": {},
   "source": [
    "___\n",
    "## Tools\n",
    "___"
   ]
  },
  {
   "cell_type": "markdown",
   "id": "d9372443",
   "metadata": {},
   "source": [
    "### query"
   ]
  },
  {
   "cell_type": "code",
   "execution_count": 16,
   "id": "2b3c4f8e",
   "metadata": {},
   "outputs": [
    {
     "data": {
      "text/html": [
       "<div><style>\n",
       ".dataframe > thead > tr,\n",
       ".dataframe > tbody > tr {\n",
       "  text-align: right;\n",
       "  white-space: pre-wrap;\n",
       "}\n",
       "</style>\n",
       "<small>shape: (0, 0)</small><table border=\"1\" class=\"dataframe\"><thead><tr></tr><tr></tr></thead><tbody></tbody></table></div>"
      ],
      "text/plain": [
       "shape: (0, 0)\n",
       "┌┐\n",
       "╞╡\n",
       "└┘"
      ]
     },
     "execution_count": 16,
     "metadata": {},
     "output_type": "execute_result"
    }
   ],
   "source": [
    "query_text = \"\"\"--sql\n",
    "SELECT\n",
    "    *\n",
    "FROM db1.t_count_of_subscribes_by_adreses_mv\n",
    "WHERE partner_uuid != ''\n",
    "ORDER BY report_date DESC\n",
    "limit 10\n",
    "\n",
    "\"\"\"\n",
    "\n",
    "ch.query_run(query_text)"
   ]
  },
  {
   "cell_type": "markdown",
   "id": "227103bd",
   "metadata": {},
   "source": [
    "### refreash_mv"
   ]
  },
  {
   "cell_type": "code",
   "execution_count": 7,
   "id": "57f3f579",
   "metadata": {},
   "outputs": [
    {
     "data": {
      "text/html": [
       "<div><style>\n",
       ".dataframe > thead > tr,\n",
       ".dataframe > tbody > tr {\n",
       "  text-align: right;\n",
       "  white-space: pre-wrap;\n",
       "}\n",
       "</style>\n",
       "<small>shape: (1, 2)</small><table border=\"1\" class=\"dataframe\"><thead><tr><th>elapsed_ns</th><th>query_id</th></tr><tr><td>i64</td><td>str</td></tr></thead><tbody><tr><td>997974</td><td>&quot;506900d9-8156-4292-8577-032110…</td></tr></tbody></table></div>"
      ],
      "text/plain": [
       "shape: (1, 2)\n",
       "┌────────────┬─────────────────────────────────┐\n",
       "│ elapsed_ns ┆ query_id                        │\n",
       "│ ---        ┆ ---                             │\n",
       "│ i64        ┆ str                             │\n",
       "╞════════════╪═════════════════════════════════╡\n",
       "│ 997974     ┆ 506900d9-8156-4292-8577-032110… │\n",
       "└────────────┴─────────────────────────────────┘"
      ]
     },
     "execution_count": 7,
     "metadata": {},
     "output_type": "execute_result"
    }
   ],
   "source": [
    "query_text = \"\"\"\n",
    "SYSTEM REFRESH VIEW db1.t_count_of_subscribes_by_adreses_mv\n",
    "\"\"\"\n",
    "\n",
    "ch.query_run(query_text)"
   ]
  },
  {
   "cell_type": "markdown",
   "id": "61abf185",
   "metadata": {},
   "source": [
    "___\n",
    "### drop_table"
   ]
  },
  {
   "cell_type": "code",
   "execution_count": 3,
   "id": "e92ecb2b",
   "metadata": {},
   "outputs": [
    {
     "data": {
      "text/html": [
       "<div><style>\n",
       ".dataframe > thead > tr,\n",
       ".dataframe > tbody > tr {\n",
       "  text-align: right;\n",
       "  white-space: pre-wrap;\n",
       "}\n",
       "</style>\n",
       "<small>shape: (1, 2)</small><table border=\"1\" class=\"dataframe\"><thead><tr><th>elapsed_ns</th><th>query_id</th></tr><tr><td>i64</td><td>str</td></tr></thead><tbody><tr><td>28632581</td><td>&quot;6963bd87-a890-4bb8-b94c-0baa69…</td></tr></tbody></table></div>"
      ],
      "text/plain": [
       "shape: (1, 2)\n",
       "┌────────────┬─────────────────────────────────┐\n",
       "│ elapsed_ns ┆ query_id                        │\n",
       "│ ---        ┆ ---                             │\n",
       "│ i64        ┆ str                             │\n",
       "╞════════════╪═════════════════════════════════╡\n",
       "│ 28632581   ┆ 6963bd87-a890-4bb8-b94c-0baa69… │\n",
       "└────────────┴─────────────────────────────────┘"
      ]
     },
     "execution_count": 3,
     "metadata": {},
     "output_type": "execute_result"
    }
   ],
   "source": [
    "query_text = \"\"\" \n",
    "DROP TABLE db1.t_count_of_subscribes_by_adreses\n",
    "\"\"\"\n",
    "\n",
    "ch.query_run(query_text)"
   ]
  },
  {
   "cell_type": "markdown",
   "id": "349ded70",
   "metadata": {},
   "source": [
    "### drop_mv"
   ]
  },
  {
   "cell_type": "code",
   "execution_count": 9,
   "id": "04d1d5a9",
   "metadata": {},
   "outputs": [
    {
     "data": {
      "text/html": [
       "<div><style>\n",
       ".dataframe > thead > tr,\n",
       ".dataframe > tbody > tr {\n",
       "  text-align: right;\n",
       "  white-space: pre-wrap;\n",
       "}\n",
       "</style>\n",
       "<small>shape: (1, 2)</small><table border=\"1\" class=\"dataframe\"><thead><tr><th>elapsed_ns</th><th>query_id</th></tr><tr><td>i64</td><td>str</td></tr></thead><tbody><tr><td>1186206</td><td>&quot;712568b4-4d96-4107-9943-ffcd5d…</td></tr></tbody></table></div>"
      ],
      "text/plain": [
       "shape: (1, 2)\n",
       "┌────────────┬─────────────────────────────────┐\n",
       "│ elapsed_ns ┆ query_id                        │\n",
       "│ ---        ┆ ---                             │\n",
       "│ i64        ┆ str                             │\n",
       "╞════════════╪═════════════════════════════════╡\n",
       "│ 1186206    ┆ 712568b4-4d96-4107-9943-ffcd5d… │\n",
       "└────────────┴─────────────────────────────────┘"
      ]
     },
     "execution_count": 9,
     "metadata": {},
     "output_type": "execute_result"
    }
   ],
   "source": [
    "query_text = \"\"\" \n",
    "DROP TABLE db1.t_count_of_subscribes_by_adreses_mv\n",
    "\"\"\"\n",
    "\n",
    "ch.query_run(query_text)"
   ]
  }
 ],
 "metadata": {
  "jupytext": {
   "formats": "ipynb,md"
  },
  "kernelspec": {
   "display_name": "myenv",
   "language": "python",
   "name": "python3"
  },
  "language_info": {
   "codemirror_mode": {
    "name": "ipython",
    "version": 3
   },
   "file_extension": ".py",
   "mimetype": "text/x-python",
   "name": "python",
   "nbconvert_exporter": "python",
   "pygments_lexer": "ipython3",
   "version": "3.12.10"
  }
 },
 "nbformat": 4,
 "nbformat_minor": 5
}

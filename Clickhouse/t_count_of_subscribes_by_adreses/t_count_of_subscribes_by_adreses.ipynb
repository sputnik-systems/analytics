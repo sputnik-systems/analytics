{
 "cells": [
  {
   "cell_type": "markdown",
   "id": "c288763b",
   "metadata": {},
   "source": [
    "# t_count_of_subscribes_by_adreses"
   ]
  },
  {
   "cell_type": "markdown",
   "id": "9e9e0fc9",
   "metadata": {},
   "source": [
    "## Start"
   ]
  },
  {
   "cell_type": "code",
   "execution_count": 2,
   "id": "b1337666",
   "metadata": {},
   "outputs": [],
   "source": [
    "import clickhouse_connect\n",
    "import datetime\n",
    "import os\n",
    "import pytz\n",
    "import pandas as pd\n",
    "from dateutil.relativedelta import relativedelta\n",
    "from dotenv import load_dotenv\n",
    "import sys\n",
    "sys.path.append('/home/boris/Documents/Work/analytics/Clickhouse')\n",
    "from clickhouse_client import ClickHouse_client\n",
    "ch = ClickHouse_client()\n",
    "pd.set_option('display.max_rows', 1000)"
   ]
  },
  {
   "cell_type": "markdown",
   "id": "c3708748",
   "metadata": {},
   "source": [
    "___\n",
    "## Tags: #Tables\n",
    "___\n",
    "## Links:\n",
    "[[installation_point_st_partner]]\n",
    "[[entries_installation_points_dir_partner]]\n",
    "[[cameras_st_partner]]\n",
    "[[subscriptions_st_mobile]]\n",
    "[[citizens_st_mobile]]\n",
    "[[companies_st_partner]]\n",
    "[[companies_dir_partner]]"
   ]
  },
  {
   "cell_type": "markdown",
   "id": "6913e949",
   "metadata": {},
   "source": [
    "___\n",
    "## Table_creating"
   ]
  },
  {
   "cell_type": "code",
   "execution_count": 11,
   "id": "11566f9c",
   "metadata": {},
   "outputs": [
    {
     "data": {
      "text/html": [
       "<div><style>\n",
       ".dataframe > thead > tr,\n",
       ".dataframe > tbody > tr {\n",
       "  text-align: right;\n",
       "  white-space: pre-wrap;\n",
       "}\n",
       "</style>\n",
       "<small>shape: (0, 0)</small><table border=\"1\" class=\"dataframe\"><thead><tr></tr><tr></tr></thead><tbody></tbody></table></div>"
      ],
      "text/plain": [
       "shape: (0, 0)\n",
       "┌┐\n",
       "╞╡\n",
       "└┘"
      ]
     },
     "execution_count": 11,
     "metadata": {},
     "output_type": "execute_result"
    }
   ],
   "source": [
    "query_text = \"\"\"--sql\n",
    "    CREATE TABLE db1.t_count_of_subscribes_by_adreses\n",
    "    (\n",
    "        `report_date` Date,\n",
    "        `installation_point_id` Int64,\n",
    "        `address_uuid` String,\n",
    "        `partner_uuid` String,\n",
    "        `flats_count_full` Int16,\n",
    "        `flats_count` Int16,\n",
    "        `archive_from_partner` String,\n",
    "        `count_of_subscribes` UInt64,\n",
    "        `company_name` String,\n",
    "        `partner_lk` String,\n",
    "        `tin` String,\n",
    "        `camera_dvr_depth` Int32,\n",
    "        `monetization_is_allowed` Int16\n",
    "    )\n",
    "    ENGINE = MergeTree()\n",
    "    ORDER BY (report_date,partner_uuid)\n",
    "    \"\"\"\n",
    "\n",
    "ch.query_run(query_text)"
   ]
  },
  {
   "cell_type": "markdown",
   "id": "4f5d9512",
   "metadata": {},
   "source": [
    "___\n",
    "## MV_creating"
   ]
  },
  {
   "cell_type": "code",
   "execution_count": 3,
   "id": "a7ab2574",
   "metadata": {},
   "outputs": [
    {
     "data": {
      "text/html": [
       "<div><style>\n",
       ".dataframe > thead > tr,\n",
       ".dataframe > tbody > tr {\n",
       "  text-align: right;\n",
       "  white-space: pre-wrap;\n",
       "}\n",
       "</style>\n",
       "<small>shape: (0, 0)</small><table border=\"1\" class=\"dataframe\"><thead><tr></tr><tr></tr></thead><tbody></tbody></table></div>"
      ],
      "text/plain": [
       "shape: (0, 0)\n",
       "┌┐\n",
       "╞╡\n",
       "└┘"
      ]
     },
     "execution_count": 3,
     "metadata": {},
     "output_type": "execute_result"
    }
   ],
   "source": [
    "query_text = \"\"\"--sql\n",
    "CREATE MATERIALIZED VIEW db1.t_count_of_subscribes_by_adreses_mv\n",
    "REFRESH EVERY 1 DAY OFFSET 5 HOUR 33 MINUTE TO db1.t_count_of_subscribes_by_adreses AS\n",
    "WITH t_entries_ip_dir_p AS (\n",
    "    SELECT\n",
    "        DISTINCT\n",
    "        ip_st_p.report_date AS report_date,\n",
    "        ip_st_p.installation_point_id AS installation_point_id,\n",
    "        e_ip_dir_p.address_uuid AS address_uuid,\n",
    "        e_ip_dir_p.partner_uuid AS partner_uuid,\n",
    "        flats_count_full,\n",
    "        flats_count,\n",
    "        monetization_is_allowed\n",
    "    FROM db1.installation_point_st_partner_ch AS ip_st_p\n",
    "    LEFT JOIN db1.entries_installation_points_dir_partner_ch  AS e_ip_dir_p\n",
    "        ON e_ip_dir_p.installation_point_id = ip_st_p.installation_point_id\n",
    "    WHERE ip_st_p.installation_point_id is not null \n",
    "    AND ip_st_p.installation_point_id != 0\n",
    "    ),\n",
    "    --\n",
    "    t_cameras_st_p AS(\n",
    "    SELECT\n",
    "        DISTINCT\n",
    "        report_date,\n",
    "        installation_point_id,\n",
    "        archive_from_partner,\n",
    "        camera_dvr_depth\n",
    "    FROM db1.`cameras_st_partner_ch`\n",
    "    ),\n",
    "    --\n",
    "    cameras_status AS (\n",
    "    SELECT \n",
    "        DISTINCT\n",
    "        t_entries_ip_dir_p.report_date AS report_date,\n",
    "        t_entries_ip_dir_p.installation_point_id AS installation_point_id,\n",
    "        address_uuid,\n",
    "        t_entries_ip_dir_p.partner_uuid AS partner_uuid,\n",
    "        flats_count_full,\n",
    "        flats_count,\n",
    "        archive_from_partner,\n",
    "        camera_dvr_depth,\n",
    "        monetization_is_allowed\n",
    "    FROM t_entries_ip_dir_p\n",
    "    LEFT JOIN t_cameras_st_p \n",
    "        ON t_entries_ip_dir_p.report_date = t_cameras_st_p.report_date\n",
    "        AND t_entries_ip_dir_p.installation_point_id = t_cameras_st_p.installation_point_id\n",
    "    ),\n",
    "    --\n",
    "    sub_st_m_ch AS (SELECT \n",
    "\t\t`report_date`,\n",
    "\t\t`citizen_id`,\n",
    "\t\t`state` \n",
    "\tFROM db1.subscriptions_st_mobile_ch)\n",
    "\t,\n",
    "\tcit_dir_m AS (SELECT \n",
    "\t\tcitizen_id, \n",
    "\t\treport_date, \n",
    "\t\taddress_uuid\n",
    "\tFROM db1.citizens_st_mobile_ch),\n",
    "   \t--\n",
    "    subscriptions_count AS (\n",
    "    SELECT\n",
    "\t  sub_st_m_ch.report_date,\n",
    "\t  cit_dir_m.address_uuid,\n",
    "\t  COUNTIf(sub_st_m_ch.state = 'activated') AS count_of_subscribes\n",
    "\tFROM sub_st_m_ch\n",
    "\tLEFT ANY JOIN cit_dir_m\n",
    "\t  ON cit_dir_m.citizen_id = sub_st_m_ch.citizen_id\n",
    "\t  AND cit_dir_m.report_date = sub_st_m_ch.report_date\n",
    "\tGROUP BY report_date, address_uuid\n",
    "    ),\n",
    "    --\n",
    "    company AS (\n",
    "    SELECT\n",
    "        report_date,\n",
    "        comp_st_p.partner_uuid as partner_uuid,\n",
    "        company_name,\n",
    "        partner_lk,\n",
    "        tin\n",
    "    FROM db1.companies_st_partner_ch AS comp_st_p\n",
    "    LEFT JOIN db1.companies_dir_partner_ch AS comp_dir_p ON comp_dir_p.partner_uuid = comp_st_p.partner_uuid\n",
    "    )\n",
    "--\n",
    "SELECT\n",
    "    DISTINCT\n",
    "    cameras_status.report_date AS report_date,\n",
    "    installation_point_id,\n",
    "    cameras_status.address_uuid AS address_uuid,\n",
    "    cameras_status.partner_uuid as partner_uuid,\n",
    "    flats_count_full,\n",
    "    flats_count,\n",
    "    archive_from_partner,\n",
    "    count_of_subscribes,\n",
    "    company_name,\n",
    "    partner_lk,\n",
    "    tin,\n",
    "    camera_dvr_depth,\n",
    "    monetization_is_allowed\n",
    "FROM cameras_status    \n",
    "LEFT JOIN subscriptions_count \n",
    "    ON subscriptions_count.report_date = cameras_status.report_date\n",
    "    AND subscriptions_count.address_uuid = cameras_status.address_uuid\n",
    "LEFT JOIN company \n",
    "    ON cameras_status.partner_uuid = company.partner_uuid \n",
    "    AND cameras_status.report_date = company.report_date\n",
    "SETTINGS join_any_take_last_row = 1,\n",
    "\t\tjoin_algorithm = 'partial_merge'\n",
    "\n",
    "\"\"\"\n",
    "\n",
    "ch.query_run(query_text)"
   ]
  },
  {
   "cell_type": "markdown",
   "id": "dcef360f",
   "metadata": {},
   "source": [
    "___\n",
    "## Tools\n",
    "___"
   ]
  },
  {
   "cell_type": "markdown",
   "id": "d9372443",
   "metadata": {},
   "source": [
    "### query"
   ]
  },
  {
   "cell_type": "code",
   "execution_count": 8,
   "id": "2b3c4f8e",
   "metadata": {},
   "outputs": [
    {
     "data": {
      "text/html": [
       "<div><style>\n",
       ".dataframe > thead > tr,\n",
       ".dataframe > tbody > tr {\n",
       "  text-align: right;\n",
       "  white-space: pre-wrap;\n",
       "}\n",
       "</style>\n",
       "<small>shape: (10, 13)</small><table border=\"1\" class=\"dataframe\"><thead><tr><th>report_date</th><th>installation_point_id</th><th>address_uuid</th><th>partner_uuid</th><th>flats_count_in_base</th><th>flats_count</th><th>archive_from_partner</th><th>count_of_subscribes</th><th>company_name</th><th>partner_lk</th><th>tin</th><th>camera_dvr_depth</th><th>monetization_is_allowed</th></tr><tr><td>date</td><td>i64</td><td>str</td><td>str</td><td>i64</td><td>i64</td><td>str</td><td>i64</td><td>str</td><td>str</td><td>str</td><td>i64</td><td>i64</td></tr></thead><tbody><tr><td>2025-07-14</td><td>935958</td><td>&quot;a0c24bdc-e005-4942-9afd-0ef0bd…</td><td>&quot;fe09e1de-0825-4d5e-b82f-b43eab…</td><td>30</td><td>30</td><td>&quot;&quot;</td><td>0</td><td>&quot;ООО ТСЖ&quot;</td><td>&quot;143940&quot;</td><td>&quot;720065772&quot;</td><td>0</td><td>1</td></tr><tr><td>2025-07-14</td><td>367743</td><td>&quot;7fcdf22e-4b98-45a4-b132-9047fb…</td><td>&quot;fdae9241-37f2-4446-866c-cd9119…</td><td>36</td><td>36</td><td>&quot;&quot;</td><td>0</td><td>&quot;Комфорт Сервис&quot;</td><td>&quot;120192&quot;</td><td>&quot;7328500494&quot;</td><td>0</td><td>1</td></tr><tr><td>2025-07-14</td><td>584758</td><td>&quot;f95d0062-86b8-41a3-b269-fb389f…</td><td>&quot;fdae9241-37f2-4446-866c-cd9119…</td><td>20</td><td>20</td><td>&quot;&quot;</td><td>0</td><td>&quot;Комфорт Сервис&quot;</td><td>&quot;120192&quot;</td><td>&quot;7328500494&quot;</td><td>0</td><td>1</td></tr><tr><td>2025-07-14</td><td>584726</td><td>&quot;f63bb3ab-05f0-48cf-85bc-1b2dc5…</td><td>&quot;fdae9241-37f2-4446-866c-cd9119…</td><td>20</td><td>20</td><td>&quot;&quot;</td><td>0</td><td>&quot;Комфорт Сервис&quot;</td><td>&quot;120192&quot;</td><td>&quot;7328500494&quot;</td><td>0</td><td>1</td></tr><tr><td>2025-07-14</td><td>584648</td><td>&quot;f1fd5c12-4591-4f02-be78-f7749c…</td><td>&quot;fdae9241-37f2-4446-866c-cd9119…</td><td>36</td><td>36</td><td>&quot;&quot;</td><td>0</td><td>&quot;Комфорт Сервис&quot;</td><td>&quot;120192&quot;</td><td>&quot;7328500494&quot;</td><td>0</td><td>1</td></tr><tr><td>2025-07-14</td><td>584735</td><td>&quot;c19ed9d5-ae6e-4bce-a989-dd5bc9…</td><td>&quot;fdae9241-37f2-4446-866c-cd9119…</td><td>20</td><td>20</td><td>&quot;&quot;</td><td>0</td><td>&quot;Комфорт Сервис&quot;</td><td>&quot;120192&quot;</td><td>&quot;7328500494&quot;</td><td>0</td><td>1</td></tr><tr><td>2025-07-14</td><td>584741</td><td>&quot;8571cca0-b328-49dc-b891-f02190…</td><td>&quot;fdae9241-37f2-4446-866c-cd9119…</td><td>20</td><td>20</td><td>&quot;&quot;</td><td>0</td><td>&quot;Комфорт Сервис&quot;</td><td>&quot;120192&quot;</td><td>&quot;7328500494&quot;</td><td>0</td><td>1</td></tr><tr><td>2025-07-14</td><td>584749</td><td>&quot;6b53f172-a653-4d26-8c90-6b92a1…</td><td>&quot;fdae9241-37f2-4446-866c-cd9119…</td><td>20</td><td>20</td><td>&quot;&quot;</td><td>0</td><td>&quot;Комфорт Сервис&quot;</td><td>&quot;120192&quot;</td><td>&quot;7328500494&quot;</td><td>0</td><td>1</td></tr><tr><td>2025-07-14</td><td>584732</td><td>&quot;54c20313-0376-4921-8479-fc1fa8…</td><td>&quot;fdae9241-37f2-4446-866c-cd9119…</td><td>20</td><td>20</td><td>&quot;&quot;</td><td>0</td><td>&quot;Комфорт Сервис&quot;</td><td>&quot;120192&quot;</td><td>&quot;7328500494&quot;</td><td>0</td><td>1</td></tr><tr><td>2025-07-14</td><td>584633</td><td>&quot;35e15672-bcfa-4b06-b02f-db9d0c…</td><td>&quot;fdae9241-37f2-4446-866c-cd9119…</td><td>36</td><td>36</td><td>&quot;&quot;</td><td>0</td><td>&quot;Комфорт Сервис&quot;</td><td>&quot;120192&quot;</td><td>&quot;7328500494&quot;</td><td>0</td><td>1</td></tr></tbody></table></div>"
      ],
      "text/plain": [
       "shape: (10, 13)\n",
       "┌───────────┬───────────┬───────────┬───────────┬───┬───────────┬───────────┬───────────┬──────────┐\n",
       "│ report_da ┆ installat ┆ address_u ┆ partner_u ┆ … ┆ partner_l ┆ tin       ┆ camera_dv ┆ monetiza │\n",
       "│ te        ┆ ion_point ┆ uid       ┆ uid       ┆   ┆ k         ┆ ---       ┆ r_depth   ┆ tion_is_ │\n",
       "│ ---       ┆ _id       ┆ ---       ┆ ---       ┆   ┆ ---       ┆ str       ┆ ---       ┆ allowed  │\n",
       "│ date      ┆ ---       ┆ str       ┆ str       ┆   ┆ str       ┆           ┆ i64       ┆ ---      │\n",
       "│           ┆ i64       ┆           ┆           ┆   ┆           ┆           ┆           ┆ i64      │\n",
       "╞═══════════╪═══════════╪═══════════╪═══════════╪═══╪═══════════╪═══════════╪═══════════╪══════════╡\n",
       "│ 2025-07-1 ┆ 935958    ┆ a0c24bdc- ┆ fe09e1de- ┆ … ┆ 143940    ┆ 720065772 ┆ 0         ┆ 1        │\n",
       "│ 4         ┆           ┆ e005-4942 ┆ 0825-4d5e ┆   ┆           ┆           ┆           ┆          │\n",
       "│           ┆           ┆ -9afd-0ef ┆ -b82f-b43 ┆   ┆           ┆           ┆           ┆          │\n",
       "│           ┆           ┆ 0bd…      ┆ eab…      ┆   ┆           ┆           ┆           ┆          │\n",
       "│ 2025-07-1 ┆ 367743    ┆ 7fcdf22e- ┆ fdae9241- ┆ … ┆ 120192    ┆ 732850049 ┆ 0         ┆ 1        │\n",
       "│ 4         ┆           ┆ 4b98-45a4 ┆ 37f2-4446 ┆   ┆           ┆ 4         ┆           ┆          │\n",
       "│           ┆           ┆ -b132-904 ┆ -866c-cd9 ┆   ┆           ┆           ┆           ┆          │\n",
       "│           ┆           ┆ 7fb…      ┆ 119…      ┆   ┆           ┆           ┆           ┆          │\n",
       "│ 2025-07-1 ┆ 584758    ┆ f95d0062- ┆ fdae9241- ┆ … ┆ 120192    ┆ 732850049 ┆ 0         ┆ 1        │\n",
       "│ 4         ┆           ┆ 86b8-41a3 ┆ 37f2-4446 ┆   ┆           ┆ 4         ┆           ┆          │\n",
       "│           ┆           ┆ -b269-fb3 ┆ -866c-cd9 ┆   ┆           ┆           ┆           ┆          │\n",
       "│           ┆           ┆ 89f…      ┆ 119…      ┆   ┆           ┆           ┆           ┆          │\n",
       "│ 2025-07-1 ┆ 584726    ┆ f63bb3ab- ┆ fdae9241- ┆ … ┆ 120192    ┆ 732850049 ┆ 0         ┆ 1        │\n",
       "│ 4         ┆           ┆ 05f0-48cf ┆ 37f2-4446 ┆   ┆           ┆ 4         ┆           ┆          │\n",
       "│           ┆           ┆ -85bc-1b2 ┆ -866c-cd9 ┆   ┆           ┆           ┆           ┆          │\n",
       "│           ┆           ┆ dc5…      ┆ 119…      ┆   ┆           ┆           ┆           ┆          │\n",
       "│ 2025-07-1 ┆ 584648    ┆ f1fd5c12- ┆ fdae9241- ┆ … ┆ 120192    ┆ 732850049 ┆ 0         ┆ 1        │\n",
       "│ 4         ┆           ┆ 4591-4f02 ┆ 37f2-4446 ┆   ┆           ┆ 4         ┆           ┆          │\n",
       "│           ┆           ┆ -be78-f77 ┆ -866c-cd9 ┆   ┆           ┆           ┆           ┆          │\n",
       "│           ┆           ┆ 49c…      ┆ 119…      ┆   ┆           ┆           ┆           ┆          │\n",
       "│ 2025-07-1 ┆ 584735    ┆ c19ed9d5- ┆ fdae9241- ┆ … ┆ 120192    ┆ 732850049 ┆ 0         ┆ 1        │\n",
       "│ 4         ┆           ┆ ae6e-4bce ┆ 37f2-4446 ┆   ┆           ┆ 4         ┆           ┆          │\n",
       "│           ┆           ┆ -a989-dd5 ┆ -866c-cd9 ┆   ┆           ┆           ┆           ┆          │\n",
       "│           ┆           ┆ bc9…      ┆ 119…      ┆   ┆           ┆           ┆           ┆          │\n",
       "│ 2025-07-1 ┆ 584741    ┆ 8571cca0- ┆ fdae9241- ┆ … ┆ 120192    ┆ 732850049 ┆ 0         ┆ 1        │\n",
       "│ 4         ┆           ┆ b328-49dc ┆ 37f2-4446 ┆   ┆           ┆ 4         ┆           ┆          │\n",
       "│           ┆           ┆ -b891-f02 ┆ -866c-cd9 ┆   ┆           ┆           ┆           ┆          │\n",
       "│           ┆           ┆ 190…      ┆ 119…      ┆   ┆           ┆           ┆           ┆          │\n",
       "│ 2025-07-1 ┆ 584749    ┆ 6b53f172- ┆ fdae9241- ┆ … ┆ 120192    ┆ 732850049 ┆ 0         ┆ 1        │\n",
       "│ 4         ┆           ┆ a653-4d26 ┆ 37f2-4446 ┆   ┆           ┆ 4         ┆           ┆          │\n",
       "│           ┆           ┆ -8c90-6b9 ┆ -866c-cd9 ┆   ┆           ┆           ┆           ┆          │\n",
       "│           ┆           ┆ 2a1…      ┆ 119…      ┆   ┆           ┆           ┆           ┆          │\n",
       "│ 2025-07-1 ┆ 584732    ┆ 54c20313- ┆ fdae9241- ┆ … ┆ 120192    ┆ 732850049 ┆ 0         ┆ 1        │\n",
       "│ 4         ┆           ┆ 0376-4921 ┆ 37f2-4446 ┆   ┆           ┆ 4         ┆           ┆          │\n",
       "│           ┆           ┆ -8479-fc1 ┆ -866c-cd9 ┆   ┆           ┆           ┆           ┆          │\n",
       "│           ┆           ┆ fa8…      ┆ 119…      ┆   ┆           ┆           ┆           ┆          │\n",
       "│ 2025-07-1 ┆ 584633    ┆ 35e15672- ┆ fdae9241- ┆ … ┆ 120192    ┆ 732850049 ┆ 0         ┆ 1        │\n",
       "│ 4         ┆           ┆ bcfa-4b06 ┆ 37f2-4446 ┆   ┆           ┆ 4         ┆           ┆          │\n",
       "│           ┆           ┆ -b02f-db9 ┆ -866c-cd9 ┆   ┆           ┆           ┆           ┆          │\n",
       "│           ┆           ┆ d0c…      ┆ 119…      ┆   ┆           ┆           ┆           ┆          │\n",
       "└───────────┴───────────┴───────────┴───────────┴───┴───────────┴───────────┴───────────┴──────────┘"
      ]
     },
     "execution_count": 8,
     "metadata": {},
     "output_type": "execute_result"
    }
   ],
   "source": [
    "query_text = \"\"\"--sql\n",
    "SELECT\n",
    "    *\n",
    "FROM db1.t_count_of_subscribes_by_adreses\n",
    "ORDER BY report_date DESC\n",
    "limit 10\n",
    "\n",
    "\"\"\"\n",
    "\n",
    "ch.query_run(query_text)"
   ]
  },
  {
   "cell_type": "markdown",
   "id": "227103bd",
   "metadata": {},
   "source": [
    "### refreash_mv"
   ]
  },
  {
   "cell_type": "code",
   "execution_count": 17,
   "id": "57f3f579",
   "metadata": {},
   "outputs": [
    {
     "data": {
      "text/html": [
       "<div><style>\n",
       ".dataframe > thead > tr,\n",
       ".dataframe > tbody > tr {\n",
       "  text-align: right;\n",
       "  white-space: pre-wrap;\n",
       "}\n",
       "</style>\n",
       "<small>shape: (1, 2)</small><table border=\"1\" class=\"dataframe\"><thead><tr><th>elapsed_ns</th><th>query_id</th></tr><tr><td>i64</td><td>str</td></tr></thead><tbody><tr><td>867081</td><td>&quot;8f0de861-b491-42a5-a305-e51e36…</td></tr></tbody></table></div>"
      ],
      "text/plain": [
       "shape: (1, 2)\n",
       "┌────────────┬─────────────────────────────────┐\n",
       "│ elapsed_ns ┆ query_id                        │\n",
       "│ ---        ┆ ---                             │\n",
       "│ i64        ┆ str                             │\n",
       "╞════════════╪═════════════════════════════════╡\n",
       "│ 867081     ┆ 8f0de861-b491-42a5-a305-e51e36… │\n",
       "└────────────┴─────────────────────────────────┘"
      ]
     },
     "execution_count": 17,
     "metadata": {},
     "output_type": "execute_result"
    }
   ],
   "source": [
    "query_text = \"\"\"\n",
    "SYSTEM REFRESH VIEW db1.t_count_of_subscribes_by_adreses_mv\n",
    "\"\"\"\n",
    "\n",
    "ch.query_run(query_text)"
   ]
  },
  {
   "cell_type": "markdown",
   "id": "61abf185",
   "metadata": {},
   "source": [
    "___\n",
    "### drop_table"
   ]
  },
  {
   "cell_type": "code",
   "execution_count": 9,
   "id": "e92ecb2b",
   "metadata": {},
   "outputs": [
    {
     "data": {
      "text/html": [
       "<div><style>\n",
       ".dataframe > thead > tr,\n",
       ".dataframe > tbody > tr {\n",
       "  text-align: right;\n",
       "  white-space: pre-wrap;\n",
       "}\n",
       "</style>\n",
       "<small>shape: (1, 2)</small><table border=\"1\" class=\"dataframe\"><thead><tr><th>elapsed_ns</th><th>query_id</th></tr><tr><td>i64</td><td>str</td></tr></thead><tbody><tr><td>174818293</td><td>&quot;038c1a22-57ed-4a5d-af16-f2a2de…</td></tr></tbody></table></div>"
      ],
      "text/plain": [
       "shape: (1, 2)\n",
       "┌────────────┬─────────────────────────────────┐\n",
       "│ elapsed_ns ┆ query_id                        │\n",
       "│ ---        ┆ ---                             │\n",
       "│ i64        ┆ str                             │\n",
       "╞════════════╪═════════════════════════════════╡\n",
       "│ 174818293  ┆ 038c1a22-57ed-4a5d-af16-f2a2de… │\n",
       "└────────────┴─────────────────────────────────┘"
      ]
     },
     "execution_count": 9,
     "metadata": {},
     "output_type": "execute_result"
    }
   ],
   "source": [
    "query_text = \"\"\" \n",
    "DROP TABLE db1.t_count_of_subscribes_by_adreses\n",
    "\"\"\"\n",
    "\n",
    "ch.query_run(query_text)"
   ]
  },
  {
   "cell_type": "markdown",
   "id": "349ded70",
   "metadata": {},
   "source": [
    "### drop_mv"
   ]
  },
  {
   "cell_type": "code",
   "execution_count": 10,
   "id": "04d1d5a9",
   "metadata": {},
   "outputs": [
    {
     "data": {
      "text/html": [
       "<div><style>\n",
       ".dataframe > thead > tr,\n",
       ".dataframe > tbody > tr {\n",
       "  text-align: right;\n",
       "  white-space: pre-wrap;\n",
       "}\n",
       "</style>\n",
       "<small>shape: (1, 2)</small><table border=\"1\" class=\"dataframe\"><thead><tr><th>elapsed_ns</th><th>query_id</th></tr><tr><td>i64</td><td>str</td></tr></thead><tbody><tr><td>1360991</td><td>&quot;6a6cd1aa-f6ae-4aad-82ac-8e53a0…</td></tr></tbody></table></div>"
      ],
      "text/plain": [
       "shape: (1, 2)\n",
       "┌────────────┬─────────────────────────────────┐\n",
       "│ elapsed_ns ┆ query_id                        │\n",
       "│ ---        ┆ ---                             │\n",
       "│ i64        ┆ str                             │\n",
       "╞════════════╪═════════════════════════════════╡\n",
       "│ 1360991    ┆ 6a6cd1aa-f6ae-4aad-82ac-8e53a0… │\n",
       "└────────────┴─────────────────────────────────┘"
      ]
     },
     "execution_count": 10,
     "metadata": {},
     "output_type": "execute_result"
    }
   ],
   "source": [
    "query_text = \"\"\" \n",
    "DROP TABLE db1.t_count_of_subscribes_by_adreses_mv\n",
    "\"\"\"\n",
    "\n",
    "ch.query_run(query_text)"
   ]
  }
 ],
 "metadata": {
  "jupytext": {
   "formats": "ipynb,md"
  },
  "kernelspec": {
   "display_name": "myenv",
   "language": "python",
   "name": "python3"
  },
  "language_info": {
   "codemirror_mode": {
    "name": "ipython",
    "version": 3
   },
   "file_extension": ".py",
   "mimetype": "text/x-python",
   "name": "python",
   "nbconvert_exporter": "python",
   "pygments_lexer": "ipython3",
   "version": "3.12.11"
  }
 },
 "nbformat": 4,
 "nbformat_minor": 5
}

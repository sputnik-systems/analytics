{
 "cells": [
  {
   "cell_type": "markdown",
   "id": "4832c547",
   "metadata": {
    "lines_to_next_cell": 0
   },
   "source": []
  },
  {
   "cell_type": "code",
   "execution_count": 2,
   "id": "7c8d8740",
   "metadata": {},
   "outputs": [],
   "source": [
    "import clickhouse_connect\n",
    "import datetime\n",
    "import os\n",
    "import pytz\n",
    "import pandas as pd\n",
    "from dateutil.relativedelta import relativedelta\n",
    "from dotenv import load_dotenv\n",
    "import sys\n",
    "sys.path.append('/home/boris/Documents/Work/analytics/Clickhouse')\n",
    "from clickhouse_client import ClickHouse_client\n",
    "ch = ClickHouse_client()\n",
    "pd.set_option('display.max_rows', 1000)"
   ]
  },
  {
   "cell_type": "code",
   "execution_count": null,
   "id": "80ab0845",
   "metadata": {},
   "outputs": [],
   "source": [
    "# creating a table from s3\n",
    "\n",
    "query_text = \"\"\"--sql\n",
    "    CREATE TABLE db1.sessions_st_mobile\n",
    "    (\n",
    "        `report_date` Date,\n",
    "        `citizen_id`  Int32,\n",
    "        `created_at` DateTime,\n",
    "        `last_use` DateTime,\n",
    "        `updated_at` DateTime,\n",
    "        `platform` String,\n",
    "        `call_enabled` Int16,\n",
    "        `app` String,\n",
    "        `logged_in` Int16,\n",
    "        `timezone` String\n",
    "    )\n",
    "    ENGINE = S3('https://storage.yandexcloud.net/dwh-asgard/sessions_st_mobile/year=*/month=*/*.csv','CSVWithNames')\n",
    "    \"\"\"\n",
    "\n",
    "ch.query_run(query_text)"
   ]
  },
  {
   "cell_type": "code",
   "execution_count": 16,
   "id": "88df8cfd",
   "metadata": {},
   "outputs": [
    {
     "data": {
      "text/html": [
       "<div><style>\n",
       ".dataframe > thead > tr,\n",
       ".dataframe > tbody > tr {\n",
       "  text-align: right;\n",
       "  white-space: pre-wrap;\n",
       "}\n",
       "</style>\n",
       "<small>shape: (0, 0)</small><table border=\"1\" class=\"dataframe\"><thead><tr></tr><tr></tr></thead><tbody></tbody></table></div>"
      ],
      "text/plain": [
       "shape: (0, 0)\n",
       "┌┐\n",
       "╞╡\n",
       "└┘"
      ]
     },
     "execution_count": 16,
     "metadata": {},
     "output_type": "execute_result"
    }
   ],
   "source": [
    "# creating a table for materialized view\n",
    "\n",
    "query_text = \"\"\"--sql\n",
    "    CREATE TABLE db1.sessions_st_mobile_ch\n",
    "    (\n",
    "        `report_date` Date,\n",
    "        `citizen_id`  Int32,\n",
    "        `created_at` DateTime,\n",
    "        `last_use` DateTime,\n",
    "        `updated_at` DateTime,\n",
    "        `platform` String,\n",
    "        `call_enabled` Int16,\n",
    "        `app` String,\n",
    "        `logged_in` Int16,\n",
    "        `timezone` String\n",
    "    )\n",
    "    ENGINE = MergeTree()\n",
    "    ORDER BY citizen_id\n",
    "    \"\"\"\n",
    "\n",
    "ch.query_run(query_text)"
   ]
  },
  {
   "cell_type": "code",
   "execution_count": 17,
   "id": "acc88c7c",
   "metadata": {},
   "outputs": [
    {
     "data": {
      "text/html": [
       "<div><style>\n",
       ".dataframe > thead > tr,\n",
       ".dataframe > tbody > tr {\n",
       "  text-align: right;\n",
       "  white-space: pre-wrap;\n",
       "}\n",
       "</style>\n",
       "<small>shape: (0, 0)</small><table border=\"1\" class=\"dataframe\"><thead><tr></tr><tr></tr></thead><tbody></tbody></table></div>"
      ],
      "text/plain": [
       "shape: (0, 0)\n",
       "┌┐\n",
       "╞╡\n",
       "└┘"
      ]
     },
     "execution_count": 17,
     "metadata": {},
     "output_type": "execute_result"
    }
   ],
   "source": [
    "# creating a materialized view\n",
    "\n",
    "query_text = \"\"\"--sql\n",
    "    CREATE MATERIALIZED VIEW db1.sessions_st_mobile_mv\n",
    "    REFRESH EVERY 1 DAY OFFSET 3 HOUR RANDOMIZE FOR 1 HOUR TO db1.sessions_st_mobile_ch AS\n",
    "    SELECT\n",
    "        *\n",
    "    FROM db1.sessions_st_mobile\n",
    "    \"\"\"\n",
    "\n",
    "ch.query_run(query_text)"
   ]
  },
  {
   "cell_type": "markdown",
   "id": "27163fb5",
   "metadata": {},
   "source": [
    "____\n"
   ]
  },
  {
   "cell_type": "code",
   "execution_count": 3,
   "id": "a8e8e675",
   "metadata": {},
   "outputs": [
    {
     "data": {
      "text/html": [
       "<div><style>\n",
       ".dataframe > thead > tr,\n",
       ".dataframe > tbody > tr {\n",
       "  text-align: right;\n",
       "  white-space: pre-wrap;\n",
       "}\n",
       "</style>\n",
       "<small>shape: (10, 10)</small><table border=\"1\" class=\"dataframe\"><thead><tr><th>report_date</th><th>citizen_id</th><th>created_at</th><th>last_use</th><th>updated_at</th><th>platform</th><th>call_enabled</th><th>app</th><th>logged_in</th><th>timezone</th></tr><tr><td>date</td><td>i64</td><td>datetime[ns]</td><td>datetime[ns]</td><td>datetime[ns]</td><td>str</td><td>i64</td><td>str</td><td>i64</td><td>str</td></tr></thead><tbody><tr><td>2023-07-26</td><td>7</td><td>2023-04-03 23:48:50</td><td>2023-07-26 18:50:33</td><td>2023-07-26 18:50:33</td><td>&quot;android&quot;</td><td>1</td><td>&quot;default&quot;</td><td>1</td><td>&quot;Europe/Moscow&quot;</td></tr><tr><td>2023-07-31</td><td>7</td><td>2022-08-23 12:58:48</td><td>2023-07-31 22:37:03</td><td>2023-07-31 22:37:03</td><td>&quot;ios&quot;</td><td>1</td><td>&quot;default&quot;</td><td>1</td><td>&quot;Europe/Moscow&quot;</td></tr><tr><td>2023-07-31</td><td>7</td><td>2023-04-03 23:48:50</td><td>2023-07-31 10:24:01</td><td>2023-07-31 10:25:17</td><td>&quot;android&quot;</td><td>1</td><td>&quot;default&quot;</td><td>0</td><td>&quot;Europe/Moscow&quot;</td></tr><tr><td>2023-08-01</td><td>7</td><td>2022-08-23 12:58:48</td><td>2023-08-01 16:30:48</td><td>2023-08-01 16:30:48</td><td>&quot;ios&quot;</td><td>1</td><td>&quot;default&quot;</td><td>1</td><td>&quot;Europe/Moscow&quot;</td></tr><tr><td>2023-08-12</td><td>7</td><td>2023-04-03 23:48:50</td><td>2023-08-12 18:03:19</td><td>2023-08-12 18:03:19</td><td>&quot;android&quot;</td><td>1</td><td>&quot;default&quot;</td><td>1</td><td>&quot;Europe/Moscow&quot;</td></tr><tr><td>2023-08-16</td><td>7</td><td>2023-04-03 23:48:50</td><td>2023-08-16 12:31:47</td><td>2023-08-16 12:32:10</td><td>&quot;android&quot;</td><td>1</td><td>&quot;default&quot;</td><td>0</td><td>&quot;Europe/Moscow&quot;</td></tr><tr><td>2023-08-21</td><td>7</td><td>2023-04-03 23:48:50</td><td>2023-08-21 16:24:26</td><td>2023-08-21 16:24:26</td><td>&quot;android&quot;</td><td>1</td><td>&quot;default&quot;</td><td>1</td><td>&quot;Europe/Moscow&quot;</td></tr><tr><td>2023-08-25</td><td>7</td><td>2022-08-23 12:58:48</td><td>2023-08-25 11:25:20</td><td>2023-08-25 11:25:58</td><td>&quot;ios&quot;</td><td>1</td><td>&quot;default&quot;</td><td>0</td><td>&quot;Europe/Moscow&quot;</td></tr><tr><td>2023-08-25</td><td>7</td><td>2023-04-03 23:48:50</td><td>2023-08-25 11:28:50</td><td>2023-08-25 11:28:50</td><td>&quot;android&quot;</td><td>1</td><td>&quot;default&quot;</td><td>1</td><td>&quot;Europe/Moscow&quot;</td></tr><tr><td>2023-08-25</td><td>7</td><td>2023-06-17 18:03:30</td><td>2023-08-25 13:51:22</td><td>2023-08-25 13:51:22</td><td>&quot;android&quot;</td><td>0</td><td>&quot;evimiz&quot;</td><td>1</td><td>&quot;Asia/Vladivostok&quot;</td></tr></tbody></table></div>"
      ],
      "text/plain": [
       "shape: (10, 10)\n",
       "┌────────────┬───────────┬───────────┬───────────┬───┬───────────┬─────────┬───────────┬───────────┐\n",
       "│ report_dat ┆ citizen_i ┆ created_a ┆ last_use  ┆ … ┆ call_enab ┆ app     ┆ logged_in ┆ timezone  │\n",
       "│ e          ┆ d         ┆ t         ┆ ---       ┆   ┆ led       ┆ ---     ┆ ---       ┆ ---       │\n",
       "│ ---        ┆ ---       ┆ ---       ┆ datetime[ ┆   ┆ ---       ┆ str     ┆ i64       ┆ str       │\n",
       "│ date       ┆ i64       ┆ datetime[ ┆ ns]       ┆   ┆ i64       ┆         ┆           ┆           │\n",
       "│            ┆           ┆ ns]       ┆           ┆   ┆           ┆         ┆           ┆           │\n",
       "╞════════════╪═══════════╪═══════════╪═══════════╪═══╪═══════════╪═════════╪═══════════╪═══════════╡\n",
       "│ 2023-07-26 ┆ 7         ┆ 2023-04-0 ┆ 2023-07-2 ┆ … ┆ 1         ┆ default ┆ 1         ┆ Europe/Mo │\n",
       "│            ┆           ┆ 3         ┆ 6         ┆   ┆           ┆         ┆           ┆ scow      │\n",
       "│            ┆           ┆ 23:48:50  ┆ 18:50:33  ┆   ┆           ┆         ┆           ┆           │\n",
       "│ 2023-07-31 ┆ 7         ┆ 2022-08-2 ┆ 2023-07-3 ┆ … ┆ 1         ┆ default ┆ 1         ┆ Europe/Mo │\n",
       "│            ┆           ┆ 3         ┆ 1         ┆   ┆           ┆         ┆           ┆ scow      │\n",
       "│            ┆           ┆ 12:58:48  ┆ 22:37:03  ┆   ┆           ┆         ┆           ┆           │\n",
       "│ 2023-07-31 ┆ 7         ┆ 2023-04-0 ┆ 2023-07-3 ┆ … ┆ 1         ┆ default ┆ 0         ┆ Europe/Mo │\n",
       "│            ┆           ┆ 3         ┆ 1         ┆   ┆           ┆         ┆           ┆ scow      │\n",
       "│            ┆           ┆ 23:48:50  ┆ 10:24:01  ┆   ┆           ┆         ┆           ┆           │\n",
       "│ 2023-08-01 ┆ 7         ┆ 2022-08-2 ┆ 2023-08-0 ┆ … ┆ 1         ┆ default ┆ 1         ┆ Europe/Mo │\n",
       "│            ┆           ┆ 3         ┆ 1         ┆   ┆           ┆         ┆           ┆ scow      │\n",
       "│            ┆           ┆ 12:58:48  ┆ 16:30:48  ┆   ┆           ┆         ┆           ┆           │\n",
       "│ 2023-08-12 ┆ 7         ┆ 2023-04-0 ┆ 2023-08-1 ┆ … ┆ 1         ┆ default ┆ 1         ┆ Europe/Mo │\n",
       "│            ┆           ┆ 3         ┆ 2         ┆   ┆           ┆         ┆           ┆ scow      │\n",
       "│            ┆           ┆ 23:48:50  ┆ 18:03:19  ┆   ┆           ┆         ┆           ┆           │\n",
       "│ 2023-08-16 ┆ 7         ┆ 2023-04-0 ┆ 2023-08-1 ┆ … ┆ 1         ┆ default ┆ 0         ┆ Europe/Mo │\n",
       "│            ┆           ┆ 3         ┆ 6         ┆   ┆           ┆         ┆           ┆ scow      │\n",
       "│            ┆           ┆ 23:48:50  ┆ 12:31:47  ┆   ┆           ┆         ┆           ┆           │\n",
       "│ 2023-08-21 ┆ 7         ┆ 2023-04-0 ┆ 2023-08-2 ┆ … ┆ 1         ┆ default ┆ 1         ┆ Europe/Mo │\n",
       "│            ┆           ┆ 3         ┆ 1         ┆   ┆           ┆         ┆           ┆ scow      │\n",
       "│            ┆           ┆ 23:48:50  ┆ 16:24:26  ┆   ┆           ┆         ┆           ┆           │\n",
       "│ 2023-08-25 ┆ 7         ┆ 2022-08-2 ┆ 2023-08-2 ┆ … ┆ 1         ┆ default ┆ 0         ┆ Europe/Mo │\n",
       "│            ┆           ┆ 3         ┆ 5         ┆   ┆           ┆         ┆           ┆ scow      │\n",
       "│            ┆           ┆ 12:58:48  ┆ 11:25:20  ┆   ┆           ┆         ┆           ┆           │\n",
       "│ 2023-08-25 ┆ 7         ┆ 2023-04-0 ┆ 2023-08-2 ┆ … ┆ 1         ┆ default ┆ 1         ┆ Europe/Mo │\n",
       "│            ┆           ┆ 3         ┆ 5         ┆   ┆           ┆         ┆           ┆ scow      │\n",
       "│            ┆           ┆ 23:48:50  ┆ 11:28:50  ┆   ┆           ┆         ┆           ┆           │\n",
       "│ 2023-08-25 ┆ 7         ┆ 2023-06-1 ┆ 2023-08-2 ┆ … ┆ 0         ┆ evimiz  ┆ 1         ┆ Asia/Vlad │\n",
       "│            ┆           ┆ 7         ┆ 5         ┆   ┆           ┆         ┆           ┆ ivostok   │\n",
       "│            ┆           ┆ 18:03:30  ┆ 13:51:22  ┆   ┆           ┆         ┆           ┆           │\n",
       "└────────────┴───────────┴───────────┴───────────┴───┴───────────┴─────────┴───────────┴───────────┘"
      ]
     },
     "execution_count": 3,
     "metadata": {},
     "output_type": "execute_result"
    }
   ],
   "source": [
    "# creating a materialized view\n",
    "\n",
    "query_text = \"\"\"--sql\n",
    "    SELECT\n",
    "        *\n",
    "    FROM db1.sessions_st_mobile_ch\n",
    "    LIMIT 10\n",
    "    \"\"\"\n",
    "\n",
    "ch.query_run(query_text)"
   ]
  },
  {
   "cell_type": "code",
   "execution_count": 12,
   "id": "7288fa44",
   "metadata": {},
   "outputs": [
    {
     "data": {
      "text/html": [
       "<div><style>\n",
       ".dataframe > thead > tr,\n",
       ".dataframe > tbody > tr {\n",
       "  text-align: right;\n",
       "  white-space: pre-wrap;\n",
       "}\n",
       "</style>\n",
       "<small>shape: (10, 10)</small><table border=\"1\" class=\"dataframe\"><thead><tr><th>report_date</th><th>citizen_id</th><th>created_at</th><th>last_use</th><th>updated_at</th><th>platform</th><th>call_enabled</th><th>app</th><th>logged_in</th><th>timezone</th></tr><tr><td>date</td><td>i64</td><td>datetime[ns]</td><td>datetime[ns]</td><td>datetime[ns]</td><td>str</td><td>i64</td><td>str</td><td>i64</td><td>str</td></tr></thead><tbody><tr><td>2025-07-07</td><td>593190</td><td>2022-03-31 22:15:32</td><td>2025-07-08 00:15:40</td><td>2025-07-08 00:15:40</td><td>&quot;android&quot;</td><td>1</td><td>&quot;default&quot;</td><td>1</td><td>&quot;Europe/Kaliningrad&quot;</td></tr><tr><td>2025-07-07</td><td>593169</td><td>2022-03-31 21:54:52</td><td>2025-07-07 18:21:22</td><td>2025-07-07 18:21:22</td><td>&quot;ios&quot;</td><td>0</td><td>&quot;default&quot;</td><td>1</td><td>&quot;Europe/Moscow&quot;</td></tr><tr><td>2025-07-07</td><td>593161</td><td>2022-03-31 21:49:13</td><td>2025-07-08 00:04:20</td><td>2025-07-08 00:04:20</td><td>&quot;android&quot;</td><td>1</td><td>&quot;default&quot;</td><td>1</td><td>&quot;Europe/Moscow&quot;</td></tr><tr><td>2025-07-07</td><td>593113</td><td>2022-03-31 21:10:45</td><td>2025-07-07 20:43:54</td><td>2025-07-07 20:43:54</td><td>&quot;android&quot;</td><td>1</td><td>&quot;default&quot;</td><td>1</td><td>&quot;Asia/Krasnoyarsk&quot;</td></tr><tr><td>2025-07-07</td><td>593107</td><td>2022-03-31 21:03:02</td><td>2025-07-07 17:29:11</td><td>2025-07-07 17:29:11</td><td>&quot;ios&quot;</td><td>1</td><td>&quot;default&quot;</td><td>1</td><td>&quot;Asia/Novokuznetsk&quot;</td></tr><tr><td>2025-07-07</td><td>593096</td><td>2022-03-31 21:02:26</td><td>2025-07-07 23:39:51</td><td>2025-07-07 23:39:51</td><td>&quot;android&quot;</td><td>1</td><td>&quot;default&quot;</td><td>1</td><td>&quot;Europe/Moscow&quot;</td></tr><tr><td>2025-07-07</td><td>593001</td><td>2022-03-31 19:59:18</td><td>2025-07-07 22:16:34</td><td>2025-07-07 22:16:34</td><td>&quot;android&quot;</td><td>1</td><td>&quot;default&quot;</td><td>1</td><td>&quot;Europe/Moscow&quot;</td></tr><tr><td>2025-07-07</td><td>593092</td><td>2022-03-31 20:51:38</td><td>2025-07-07 11:17:37</td><td>2025-07-07 11:17:37</td><td>&quot;ios&quot;</td><td>1</td><td>&quot;default&quot;</td><td>1</td><td>&quot;Europe/Samara&quot;</td></tr><tr><td>2025-07-07</td><td>593098</td><td>2022-03-31 20:55:18</td><td>2025-07-07 21:09:36</td><td>2025-07-07 21:09:36</td><td>&quot;ios&quot;</td><td>1</td><td>&quot;default&quot;</td><td>1</td><td>&quot;Europe/Moscow&quot;</td></tr><tr><td>2025-07-07</td><td>593005</td><td>2022-03-31 20:01:31</td><td>2025-07-07 19:21:07</td><td>2025-07-07 19:21:07</td><td>&quot;ios&quot;</td><td>1</td><td>&quot;default&quot;</td><td>1</td><td>&quot;Europe/Moscow&quot;</td></tr></tbody></table></div>"
      ],
      "text/plain": [
       "shape: (10, 10)\n",
       "┌────────────┬───────────┬───────────┬───────────┬───┬───────────┬─────────┬───────────┬───────────┐\n",
       "│ report_dat ┆ citizen_i ┆ created_a ┆ last_use  ┆ … ┆ call_enab ┆ app     ┆ logged_in ┆ timezone  │\n",
       "│ e          ┆ d         ┆ t         ┆ ---       ┆   ┆ led       ┆ ---     ┆ ---       ┆ ---       │\n",
       "│ ---        ┆ ---       ┆ ---       ┆ datetime[ ┆   ┆ ---       ┆ str     ┆ i64       ┆ str       │\n",
       "│ date       ┆ i64       ┆ datetime[ ┆ ns]       ┆   ┆ i64       ┆         ┆           ┆           │\n",
       "│            ┆           ┆ ns]       ┆           ┆   ┆           ┆         ┆           ┆           │\n",
       "╞════════════╪═══════════╪═══════════╪═══════════╪═══╪═══════════╪═════════╪═══════════╪═══════════╡\n",
       "│ 2025-07-07 ┆ 593190    ┆ 2022-03-3 ┆ 2025-07-0 ┆ … ┆ 1         ┆ default ┆ 1         ┆ Europe/Ka │\n",
       "│            ┆           ┆ 1         ┆ 8         ┆   ┆           ┆         ┆           ┆ liningrad │\n",
       "│            ┆           ┆ 22:15:32  ┆ 00:15:40  ┆   ┆           ┆         ┆           ┆           │\n",
       "│ 2025-07-07 ┆ 593169    ┆ 2022-03-3 ┆ 2025-07-0 ┆ … ┆ 0         ┆ default ┆ 1         ┆ Europe/Mo │\n",
       "│            ┆           ┆ 1         ┆ 7         ┆   ┆           ┆         ┆           ┆ scow      │\n",
       "│            ┆           ┆ 21:54:52  ┆ 18:21:22  ┆   ┆           ┆         ┆           ┆           │\n",
       "│ 2025-07-07 ┆ 593161    ┆ 2022-03-3 ┆ 2025-07-0 ┆ … ┆ 1         ┆ default ┆ 1         ┆ Europe/Mo │\n",
       "│            ┆           ┆ 1         ┆ 8         ┆   ┆           ┆         ┆           ┆ scow      │\n",
       "│            ┆           ┆ 21:49:13  ┆ 00:04:20  ┆   ┆           ┆         ┆           ┆           │\n",
       "│ 2025-07-07 ┆ 593113    ┆ 2022-03-3 ┆ 2025-07-0 ┆ … ┆ 1         ┆ default ┆ 1         ┆ Asia/Kras │\n",
       "│            ┆           ┆ 1         ┆ 7         ┆   ┆           ┆         ┆           ┆ noyarsk   │\n",
       "│            ┆           ┆ 21:10:45  ┆ 20:43:54  ┆   ┆           ┆         ┆           ┆           │\n",
       "│ 2025-07-07 ┆ 593107    ┆ 2022-03-3 ┆ 2025-07-0 ┆ … ┆ 1         ┆ default ┆ 1         ┆ Asia/Novo │\n",
       "│            ┆           ┆ 1         ┆ 7         ┆   ┆           ┆         ┆           ┆ kuznetsk  │\n",
       "│            ┆           ┆ 21:03:02  ┆ 17:29:11  ┆   ┆           ┆         ┆           ┆           │\n",
       "│ 2025-07-07 ┆ 593096    ┆ 2022-03-3 ┆ 2025-07-0 ┆ … ┆ 1         ┆ default ┆ 1         ┆ Europe/Mo │\n",
       "│            ┆           ┆ 1         ┆ 7         ┆   ┆           ┆         ┆           ┆ scow      │\n",
       "│            ┆           ┆ 21:02:26  ┆ 23:39:51  ┆   ┆           ┆         ┆           ┆           │\n",
       "│ 2025-07-07 ┆ 593001    ┆ 2022-03-3 ┆ 2025-07-0 ┆ … ┆ 1         ┆ default ┆ 1         ┆ Europe/Mo │\n",
       "│            ┆           ┆ 1         ┆ 7         ┆   ┆           ┆         ┆           ┆ scow      │\n",
       "│            ┆           ┆ 19:59:18  ┆ 22:16:34  ┆   ┆           ┆         ┆           ┆           │\n",
       "│ 2025-07-07 ┆ 593092    ┆ 2022-03-3 ┆ 2025-07-0 ┆ … ┆ 1         ┆ default ┆ 1         ┆ Europe/Sa │\n",
       "│            ┆           ┆ 1         ┆ 7         ┆   ┆           ┆         ┆           ┆ mara      │\n",
       "│            ┆           ┆ 20:51:38  ┆ 11:17:37  ┆   ┆           ┆         ┆           ┆           │\n",
       "│ 2025-07-07 ┆ 593098    ┆ 2022-03-3 ┆ 2025-07-0 ┆ … ┆ 1         ┆ default ┆ 1         ┆ Europe/Mo │\n",
       "│            ┆           ┆ 1         ┆ 7         ┆   ┆           ┆         ┆           ┆ scow      │\n",
       "│            ┆           ┆ 20:55:18  ┆ 21:09:36  ┆   ┆           ┆         ┆           ┆           │\n",
       "│ 2025-07-07 ┆ 593005    ┆ 2022-03-3 ┆ 2025-07-0 ┆ … ┆ 1         ┆ default ┆ 1         ┆ Europe/Mo │\n",
       "│            ┆           ┆ 1         ┆ 7         ┆   ┆           ┆         ┆           ┆ scow      │\n",
       "│            ┆           ┆ 20:01:31  ┆ 19:21:07  ┆   ┆           ┆         ┆           ┆           │\n",
       "└────────────┴───────────┴───────────┴───────────┴───┴───────────┴─────────┴───────────┴───────────┘"
      ]
     },
     "execution_count": 12,
     "metadata": {},
     "output_type": "execute_result"
    }
   ],
   "source": [
    "query_text = \"\"\"--sql\n",
    "SELECT\n",
    "\t*\n",
    "FROM db1.`sessions_st_mobile`\n",
    "WHERE _path LIKE '%/year=2025/month=7/7%' \n",
    "   OR _path LIKE '%/year=2025/month=07/07%'\n",
    "ORDER BY report_date DESC\n",
    "LIMIT 10\n",
    "\"\"\"\n",
    "\n",
    "ch.query_run(query_text)"
   ]
  },
  {
   "cell_type": "markdown",
   "id": "bcc0e705",
   "metadata": {},
   "source": [
    "___\n",
    "## Drop the Table"
   ]
  },
  {
   "cell_type": "code",
   "execution_count": 14,
   "id": "0f0ce43d",
   "metadata": {},
   "outputs": [
    {
     "data": {
      "text/html": [
       "<div><style>\n",
       ".dataframe > thead > tr,\n",
       ".dataframe > tbody > tr {\n",
       "  text-align: right;\n",
       "  white-space: pre-wrap;\n",
       "}\n",
       "</style>\n",
       "<small>shape: (1, 2)</small><table border=\"1\" class=\"dataframe\"><thead><tr><th>elapsed_ns</th><th>query_id</th></tr><tr><td>i64</td><td>str</td></tr></thead><tbody><tr><td>1781355</td><td>&quot;438cbbba-80de-481f-8b28-b569fd…</td></tr></tbody></table></div>"
      ],
      "text/plain": [
       "shape: (1, 2)\n",
       "┌────────────┬─────────────────────────────────┐\n",
       "│ elapsed_ns ┆ query_id                        │\n",
       "│ ---        ┆ ---                             │\n",
       "│ i64        ┆ str                             │\n",
       "╞════════════╪═════════════════════════════════╡\n",
       "│ 1781355    ┆ 438cbbba-80de-481f-8b28-b569fd… │\n",
       "└────────────┴─────────────────────────────────┘"
      ]
     },
     "execution_count": 14,
     "metadata": {},
     "output_type": "execute_result"
    }
   ],
   "source": [
    "query_text = \"\"\"\n",
    "    DROP TABLE db1.sessions_st_mobile_ch\n",
    "    \"\"\"\n",
    "ch.query_run(query_text)"
   ]
  },
  {
   "cell_type": "code",
   "execution_count": 15,
   "id": "79d34324",
   "metadata": {},
   "outputs": [
    {
     "data": {
      "text/html": [
       "<div><style>\n",
       ".dataframe > thead > tr,\n",
       ".dataframe > tbody > tr {\n",
       "  text-align: right;\n",
       "  white-space: pre-wrap;\n",
       "}\n",
       "</style>\n",
       "<small>shape: (1, 2)</small><table border=\"1\" class=\"dataframe\"><thead><tr><th>elapsed_ns</th><th>query_id</th></tr><tr><td>i64</td><td>str</td></tr></thead><tbody><tr><td>8218745</td><td>&quot;38234a96-35b7-4751-a70a-1d985e…</td></tr></tbody></table></div>"
      ],
      "text/plain": [
       "shape: (1, 2)\n",
       "┌────────────┬─────────────────────────────────┐\n",
       "│ elapsed_ns ┆ query_id                        │\n",
       "│ ---        ┆ ---                             │\n",
       "│ i64        ┆ str                             │\n",
       "╞════════════╪═════════════════════════════════╡\n",
       "│ 8218745    ┆ 38234a96-35b7-4751-a70a-1d985e… │\n",
       "└────────────┴─────────────────────────────────┘"
      ]
     },
     "execution_count": 15,
     "metadata": {},
     "output_type": "execute_result"
    }
   ],
   "source": [
    "query_text = \"\"\"\n",
    "    DROP TABLE db1.sessions_st_mobile_mv\n",
    "    \"\"\"\n",
    "ch.query_run(query_text)"
   ]
  },
  {
   "cell_type": "markdown",
   "id": "18a98ec8",
   "metadata": {},
   "source": [
    "___\n",
    "\n",
    "## Refreshing the data"
   ]
  },
  {
   "cell_type": "code",
   "execution_count": null,
   "id": "d95d840c",
   "metadata": {},
   "outputs": [],
   "source": [
    "\n",
    "query_text = \"\"\"\n",
    "SYSTEM REFRESH VIEW db1.sessions_st_mobile_mv\n",
    "\"\"\"\n",
    "\n",
    "ch.query_run(query_text)"
   ]
  }
 ],
 "metadata": {
  "jupytext": {
   "cell_metadata_filter": "-all",
   "formats": "ipynb,md",
   "main_language": "python"
  },
  "kernelspec": {
   "display_name": "myenv",
   "language": "python",
   "name": "python3"
  },
  "language_info": {
   "codemirror_mode": {
    "name": "ipython",
    "version": 3
   },
   "file_extension": ".py",
   "mimetype": "text/x-python",
   "name": "python",
   "nbconvert_exporter": "python",
   "pygments_lexer": "ipython3",
   "version": "3.12.11"
  }
 },
 "nbformat": 4,
 "nbformat_minor": 5
}

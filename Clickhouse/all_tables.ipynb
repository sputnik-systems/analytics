{
 "cells": [
  {
   "cell_type": "code",
   "execution_count": 1,
   "id": "ec2976b3",
   "metadata": {},
   "outputs": [],
   "source": [
    "import clickhouse_connect\n",
    "import datetime\n",
    "import os\n",
    "import pytz\n",
    "import pandas as pd\n",
    "from dateutil.relativedelta import relativedelta\n",
    "from dotenv import load_dotenv\n",
    "import sys\n",
    "sys.path.append('/home/boris/Documents/Work/analytics/Clickhouse')\n",
    "from clickhouse_client import ClickHouse_client\n",
    "ch = ClickHouse_client()\n",
    "pd.set_option('display.max_rows', 1000)"
   ]
  },
  {
   "cell_type": "markdown",
   "id": "7a5d434c",
   "metadata": {},
   "source": [
    "___\n",
    "## Tags: #tools\n",
    "___"
   ]
  },
  {
   "cell_type": "code",
   "execution_count": 7,
   "id": "653c1329",
   "metadata": {},
   "outputs": [
    {
     "data": {
      "text/html": [
       "<div><style>\n",
       ".dataframe > thead > tr,\n",
       ".dataframe > tbody > tr {\n",
       "  text-align: right;\n",
       "  white-space: pre-wrap;\n",
       "}\n",
       "</style>\n",
       "<small>shape: (73, 4)</small><table border=\"1\" class=\"dataframe\"><thead><tr><th>table_name</th><th>last_modification</th><th>size</th><th>rows</th></tr><tr><td>str</td><td>datetime[ns]</td><td>str</td><td>i64</td></tr></thead><tbody><tr><td>&quot;new_users_pd_rep_mobile_total&quot;</td><td>2025-08-14 20:41:44</td><td>&quot;1.42 MiB&quot;</td><td>1533129</td></tr><tr><td>&quot;total_active_users_per_day_ful…</td><td>2025-08-14 11:32:21</td><td>&quot;1.64 KiB&quot;</td><td>100</td></tr><tr><td>&quot;rep_mobile_citizens_id_city_pa…</td><td>2025-08-14 10:58:10</td><td>&quot;1.33 GiB&quot;</td><td>879279364</td></tr><tr><td>&quot;subscriptions_st_mobile_ch&quot;</td><td>2025-08-14 10:26:56</td><td>&quot;129.77 MiB&quot;</td><td>60158240</td></tr><tr><td>&quot;total_activated_account_rep_mo…</td><td>2025-08-14 06:20:24</td><td>&quot;9.30 MiB&quot;</td><td>873666</td></tr><tr><td>&hellip;</td><td>&hellip;</td><td>&hellip;</td><td>&hellip;</td></tr><tr><td>&quot;requests_st_support_ch&quot;</td><td>2025-08-14 03:00:00</td><td>&quot;179.82 KiB&quot;</td><td>6913</td></tr><tr><td>&quot;t_gropped_reconnects_and_daily…</td><td>2025-08-12 13:51:05</td><td>&quot;59.95 MiB&quot;</td><td>3769163</td></tr><tr><td>&quot;subscriptions_report_comerce_r…</td><td>2025-08-12 06:00:51</td><td>&quot;16.34 MiB&quot;</td><td>525200</td></tr><tr><td>&quot;complaints_st_partner_ch&quot;</td><td>2025-08-08 04:28:48</td><td>&quot;128.42 KiB&quot;</td><td>1494</td></tr><tr><td>&quot;uuid_source&quot;</td><td>2025-06-27 17:04:44</td><td>&quot;397.00 B&quot;</td><td>2</td></tr></tbody></table></div>"
      ],
      "text/plain": [
       "shape: (73, 4)\n",
       "┌─────────────────────────────────┬─────────────────────┬────────────┬───────────┐\n",
       "│ table_name                      ┆ last_modification   ┆ size       ┆ rows      │\n",
       "│ ---                             ┆ ---                 ┆ ---        ┆ ---       │\n",
       "│ str                             ┆ datetime[ns]        ┆ str        ┆ i64       │\n",
       "╞═════════════════════════════════╪═════════════════════╪════════════╪═══════════╡\n",
       "│ new_users_pd_rep_mobile_total   ┆ 2025-08-14 20:41:44 ┆ 1.42 MiB   ┆ 1533129   │\n",
       "│ total_active_users_per_day_ful… ┆ 2025-08-14 11:32:21 ┆ 1.64 KiB   ┆ 100       │\n",
       "│ rep_mobile_citizens_id_city_pa… ┆ 2025-08-14 10:58:10 ┆ 1.33 GiB   ┆ 879279364 │\n",
       "│ subscriptions_st_mobile_ch      ┆ 2025-08-14 10:26:56 ┆ 129.77 MiB ┆ 60158240  │\n",
       "│ total_activated_account_rep_mo… ┆ 2025-08-14 06:20:24 ┆ 9.30 MiB   ┆ 873666    │\n",
       "│ …                               ┆ …                   ┆ …          ┆ …         │\n",
       "│ requests_st_support_ch          ┆ 2025-08-14 03:00:00 ┆ 179.82 KiB ┆ 6913      │\n",
       "│ t_gropped_reconnects_and_daily… ┆ 2025-08-12 13:51:05 ┆ 59.95 MiB  ┆ 3769163   │\n",
       "│ subscriptions_report_comerce_r… ┆ 2025-08-12 06:00:51 ┆ 16.34 MiB  ┆ 525200    │\n",
       "│ complaints_st_partner_ch        ┆ 2025-08-08 04:28:48 ┆ 128.42 KiB ┆ 1494      │\n",
       "│ uuid_source                     ┆ 2025-06-27 17:04:44 ┆ 397.00 B   ┆ 2         │\n",
       "└─────────────────────────────────┴─────────────────────┴────────────┴───────────┘"
      ]
     },
     "execution_count": 7,
     "metadata": {},
     "output_type": "execute_result"
    }
   ],
   "source": [
    "query_text = \"\"\"--sql\n",
    "SELECT\n",
    "    table AS table_name,\n",
    "    max(modification_time) AS last_modification,\n",
    "    formatReadableSize(sum(bytes_on_disk)) AS size,\n",
    "    sum(rows) AS rows\n",
    "FROM system.parts\n",
    "WHERE database = 'db1'\n",
    "  AND active\n",
    "GROUP BY table\n",
    "ORDER BY last_modification DESC\n",
    "\"\"\"\n",
    "ch.query_run(query_text)"
   ]
  }
 ],
 "metadata": {
  "jupytext": {
   "formats": "ipynb,md"
  },
  "kernelspec": {
   "display_name": "Python 3 (ipykernel)",
   "language": "python",
   "name": "python3"
  },
  "language_info": {
   "codemirror_mode": {
    "name": "ipython",
    "version": 3
   },
   "file_extension": ".py",
   "mimetype": "text/x-python",
   "name": "python",
   "nbconvert_exporter": "python",
   "pygments_lexer": "ipython3",
   "version": "3.12.11"
  }
 },
 "nbformat": 4,
 "nbformat_minor": 5
}

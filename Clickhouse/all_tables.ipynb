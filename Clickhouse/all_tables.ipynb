{
 "cells": [
  {
   "cell_type": "code",
   "execution_count": 1,
   "id": "ec2976b3",
   "metadata": {
    "jupyter": {
     "is_executing": false
    }
   },
   "outputs": [],
   "source": [
    "import clickhouse_connect\n",
    "import datetime\n",
    "import os\n",
    "import pytz\n",
    "import pandas as pd\n",
    "from dateutil.relativedelta import relativedelta\n",
    "from dotenv import load_dotenv\n",
    "import sys\n",
    "sys.path.append('/home/boris/Documents/Work/analytics/Clickhouse')\n",
    "from clickhouse_client import ClickHouse_client\n",
    "ch = ClickHouse_client()\n",
    "pd.set_option('display.max_rows', 1000)"
   ]
  },
  {
   "cell_type": "markdown",
   "id": "7a5d434c",
   "metadata": {},
   "source": [
    "___\n",
    "## Tags: #tools\n",
    "___"
   ]
  },
  {
   "cell_type": "code",
   "execution_count": 33,
   "id": "653c1329",
   "metadata": {},
   "outputs": [
    {
     "data": {
      "text/html": [
       "<div><style>\n",
       ".dataframe > thead > tr,\n",
       ".dataframe > tbody > tr {\n",
       "  text-align: right;\n",
       "  white-space: pre-wrap;\n",
       "}\n",
       "</style>\n",
       "<small>shape: (89, 4)</small><table border=\"1\" class=\"dataframe\"><thead><tr><th>table_name</th><th>last_modification</th><th>size</th><th>rows</th></tr><tr><td>str</td><td>datetime[ns]</td><td>str</td><td>i64</td></tr></thead><tbody><tr><td>&quot;rep_mobile_citizens_id_city_pa…</td><td>2025-08-28 00:38:38</td><td>&quot;1.19 GiB&quot;</td><td>900108858</td></tr><tr><td>&quot;citizens_st_mobile_ch&quot;</td><td>2025-08-28 00:23:48</td><td>&quot;1.09 GiB&quot;</td><td>1292727120</td></tr><tr><td>&quot;t_count_of_subscribes_by_adres…</td><td>2025-08-27 07:02:00</td><td>&quot;1015.39 MiB&quot;</td><td>24177930</td></tr><tr><td>&quot;total_activated_account_rep_mo…</td><td>2025-08-27 06:56:10</td><td>&quot;9.50 MiB&quot;</td><td>888184</td></tr><tr><td>&quot;t_activated_citizen_id&quot;</td><td>2025-08-27 06:23:35</td><td>&quot;110.15 MiB&quot;</td><td>20957683</td></tr><tr><td>&hellip;</td><td>&hellip;</td><td>&hellip;</td><td>&hellip;</td></tr><tr><td>&quot;subscriptions_report_comerce_r…</td><td>2025-08-26 05:58:10</td><td>&quot;19.89 MiB&quot;</td><td>535828</td></tr><tr><td>&quot;t_sub_by_intercoms&quot;</td><td>2025-08-22 11:52:52</td><td>&quot;1.59 MiB&quot;</td><td>37535</td></tr><tr><td>&quot;total_active_users_first_menti…</td><td>2025-08-22 04:27:50</td><td>&quot;239.67 MiB&quot;</td><td>17954533</td></tr><tr><td>&quot;complaints_st_partner_ch&quot;</td><td>2025-08-22 04:09:11</td><td>&quot;5.55 MiB&quot;</td><td>54239</td></tr><tr><td>&quot;uuid_source&quot;</td><td>2025-06-27 17:04:44</td><td>&quot;397.00 B&quot;</td><td>2</td></tr></tbody></table></div>"
      ],
      "text/plain": [
       "shape: (89, 4)\n",
       "┌─────────────────────────────────┬─────────────────────┬─────────────┬────────────┐\n",
       "│ table_name                      ┆ last_modification   ┆ size        ┆ rows       │\n",
       "│ ---                             ┆ ---                 ┆ ---         ┆ ---        │\n",
       "│ str                             ┆ datetime[ns]        ┆ str         ┆ i64        │\n",
       "╞═════════════════════════════════╪═════════════════════╪═════════════╪════════════╡\n",
       "│ rep_mobile_citizens_id_city_pa… ┆ 2025-08-28 00:38:38 ┆ 1.19 GiB    ┆ 900108858  │\n",
       "│ citizens_st_mobile_ch           ┆ 2025-08-28 00:23:48 ┆ 1.09 GiB    ┆ 1292727120 │\n",
       "│ t_count_of_subscribes_by_adres… ┆ 2025-08-27 07:02:00 ┆ 1015.39 MiB ┆ 24177930   │\n",
       "│ total_activated_account_rep_mo… ┆ 2025-08-27 06:56:10 ┆ 9.50 MiB    ┆ 888184     │\n",
       "│ t_activated_citizen_id          ┆ 2025-08-27 06:23:35 ┆ 110.15 MiB  ┆ 20957683   │\n",
       "│ …                               ┆ …                   ┆ …           ┆ …          │\n",
       "│ subscriptions_report_comerce_r… ┆ 2025-08-26 05:58:10 ┆ 19.89 MiB   ┆ 535828     │\n",
       "│ t_sub_by_intercoms              ┆ 2025-08-22 11:52:52 ┆ 1.59 MiB    ┆ 37535      │\n",
       "│ total_active_users_first_menti… ┆ 2025-08-22 04:27:50 ┆ 239.67 MiB  ┆ 17954533   │\n",
       "│ complaints_st_partner_ch        ┆ 2025-08-22 04:09:11 ┆ 5.55 MiB    ┆ 54239      │\n",
       "│ uuid_source                     ┆ 2025-06-27 17:04:44 ┆ 397.00 B    ┆ 2          │\n",
       "└─────────────────────────────────┴─────────────────────┴─────────────┴────────────┘"
      ]
     },
     "execution_count": 33,
     "metadata": {},
     "output_type": "execute_result"
    }
   ],
   "source": [
    "query_text = \"\"\"--sql\n",
    "SELECT\n",
    "    table AS table_name,\n",
    "    max(modification_time) AS last_modification,\n",
    "    formatReadableSize(sum(bytes_on_disk)) AS size,\n",
    "    sum(rows) AS rows\n",
    "FROM system.parts\n",
    "WHERE database = 'db1'\n",
    "  AND active\n",
    "GROUP BY table\n",
    "ORDER BY last_modification DESC\n",
    "\"\"\"\n",
    "ch.query_run(query_text)"
   ]
  },
  {
   "cell_type": "code",
   "execution_count": null,
   "id": "a828730d-0068-45b2-af1d-de0d20ce52b2",
   "metadata": {},
   "outputs": [],
   "source": []
  }
 ],
 "metadata": {
  "jupytext": {
   "formats": "ipynb,md"
  },
  "kernelspec": {
   "display_name": "Python 3 (ipykernel)",
   "language": "python",
   "name": "python3"
  },
  "language_info": {
   "codemirror_mode": {
    "name": "ipython",
    "version": 3
   },
   "file_extension": ".py",
   "mimetype": "text/x-python",
   "name": "python",
   "nbconvert_exporter": "python",
   "pygments_lexer": "ipython3",
   "version": "3.12.11"
  }
 },
 "nbformat": 4,
 "nbformat_minor": 5
}

{
 "cells": [
  {
   "cell_type": "markdown",
   "id": "5092fe57",
   "metadata": {},
   "source": [
    "# Start"
   ]
  },
  {
   "cell_type": "code",
   "execution_count": 2,
   "id": "eae155a7",
   "metadata": {},
   "outputs": [],
   "source": [
    "import clickhouse_connect\n",
    "import datetime\n",
    "import os\n",
    "import pytz\n",
    "import pandas as pd\n",
    "from dateutil.relativedelta import relativedelta\n",
    "from dotenv import load_dotenv\n",
    "\n",
    "import sys\n",
    "sys.path.append('/home/boris/Documents/Work/analytics/Clickhouse')\n",
    "from clickhouse_client import ClickHouse_client\n",
    "ch = ClickHouse_client()"
   ]
  },
  {
   "cell_type": "markdown",
   "id": "abdc04a1",
   "metadata": {},
   "source": [
    "___\n",
    "## Tags: #Tables\n",
    "___\n",
    "# Links:\n",
    "\n",
    "[[installation_point_st_partner]]<br>\n",
    "[[entries_installation_points_dir_partner]]<br>\n",
    "[[intercoms_st_partner]]<br>\n",
    "[[companies_st_partner]]<br>\n",
    "[[citizens_st_mobile]]<br>\n",
    "[[citizens_dir_mobile]]<br>"
   ]
  },
  {
   "cell_type": "code",
   "execution_count": 25,
   "id": "34ceddd1",
   "metadata": {},
   "outputs": [
    {
     "data": {
      "text/html": [
       "<div><style>\n",
       ".dataframe > thead > tr,\n",
       ".dataframe > tbody > tr {\n",
       "  text-align: right;\n",
       "  white-space: pre-wrap;\n",
       "}\n",
       "</style>\n",
       "<small>shape: (0, 0)</small><table border=\"1\" class=\"dataframe\"><thead><tr></tr><tr></tr></thead><tbody></tbody></table></div>"
      ],
      "text/plain": [
       "shape: (0, 0)\n",
       "┌┐\n",
       "╞╡\n",
       "└┘"
      ]
     },
     "execution_count": 25,
     "metadata": {},
     "output_type": "execute_result"
    }
   ],
   "source": [
    "query_text = \"\"\"--sql\n",
    "CREATE TABLE db1.t_count_of_nuw_addresses_ch \n",
    "(\n",
    "\treport_date Date,\n",
    "    addresses UInt32,\n",
    "    buildings UInt32,\n",
    "    addresses_pro UInt32,\n",
    "    addresses_entesprice UInt32,\n",
    "    addresses_start UInt32,\n",
    "    nuw_addresses_day UInt32,\n",
    "    nuw_addresses_day_entesprice UInt32,\n",
    "    nuw_addresses_day_start UInt32,\n",
    "    nuw_addresses_day_pro UInt32,\n",
    "    nuw_created_account_day UInt32,\n",
    "    nuw_activated_account_day UInt32,\n",
    "    nuw_buildings_day UInt32\n",
    ")\n",
    "ENGINE = MergeTree()\n",
    "ORDER BY report_date\n",
    "\"\"\"\n",
    "ch.query_run(query_text)"
   ]
  },
  {
   "cell_type": "code",
   "execution_count": 26,
   "id": "0409fa1f",
   "metadata": {},
   "outputs": [
    {
     "data": {
      "text/html": [
       "<div><style>\n",
       ".dataframe > thead > tr,\n",
       ".dataframe > tbody > tr {\n",
       "  text-align: right;\n",
       "  white-space: pre-wrap;\n",
       "}\n",
       "</style>\n",
       "<small>shape: (0, 0)</small><table border=\"1\" class=\"dataframe\"><thead><tr></tr><tr></tr></thead><tbody></tbody></table></div>"
      ],
      "text/plain": [
       "shape: (0, 0)\n",
       "┌┐\n",
       "╞╡\n",
       "└┘"
      ]
     },
     "execution_count": 26,
     "metadata": {},
     "output_type": "execute_result"
    }
   ],
   "source": [
    "query_text = \"\"\"--sql\n",
    "CREATE MATERIALIZED VIEW db1.t_count_of_nuw_addresses_mv\n",
    "    REFRESH EVERY 1 DAY OFFSET 5 HOUR TO db1.t_count_of_nuw_addresses_ch AS\n",
    "SELECT\n",
    "\treport_date,\n",
    "    addresses,\n",
    "    buildings,\n",
    "    addresses_pro,\n",
    "    addresses_entesprice,\n",
    "    addresses_start,\n",
    "    nuw_addresses_day,\n",
    "    nuw_addresses_day_entesprice,\n",
    "    nuw_addresses_day_start,\n",
    "    nuw_addresses_day_pro,\n",
    "    nuw_created_account_day,\n",
    "    nuw_activated_account_day,\n",
    "    nuw_buildings_day\n",
    "FROM (SELECT\n",
    "    installation_point_st_partner.report_date AS report_date,\n",
    "    COUNT(DISTINCT entries_installation_points_dir_partner.`address_uuid`) AS `addresses`,\n",
    "    COUNT(DISTINCT entries_installation_points_dir_partner.`parent_uuid`) AS `buildings`,\n",
    "    COUNT(DISTINCT IF(pro_subs = 1,entries_installation_points_dir_partner.`address_uuid` ,null)) AS `addresses_pro`,\n",
    "    COUNT(DISTINCT IF(enterprise_subs = 1 OR enterprise_not_paid = 1 OR enterprise_test = 1,\n",
    "                    entries_installation_points_dir_partner.`address_uuid` ,null)) AS `addresses_entesprice`,\n",
    "    COUNT(DISTINCT IF(enterprise_subs != 1 AND enterprise_not_paid != 1 AND enterprise_test != 1 AND pro_subs != 1, \n",
    "                        entries_installation_points_dir_partner.`address_uuid` ,null)) AS `addresses_start`,\n",
    "    COUNT(DISTINCT if(installation_point_st_partner.report_date = toDate(parseDateTimeBestEffortOrNull(`created_at`)),\n",
    "                    entries_installation_points_dir_partner.`address_uuid`,null)) AS `nuw_addresses_day`,\n",
    "    COUNT(DISTINCT if(installation_point_st_partner.report_date = toDate(parseDateTimeBestEffortOrNull(`created_at`)),\n",
    "                    entries_installation_points_dir_partner.`parent_uuid`, null)) AS `nuw_buildings_day`,\n",
    "    COUNT(DISTINCT IF(installation_point_st_partner.report_date = toDate(parseDateTimeBestEffortOrNull(`created_at`)) \n",
    "                    AND pro_subs = 1,entries_installation_points_dir_partner.`address_uuid` ,null)) AS `nuw_addresses_day_pro`,\n",
    "    COUNT(DISTINCT IF(installation_point_st_partner.report_date = toDate(parseDateTimeBestEffortOrNull(`created_at`))  \n",
    "                    AND (enterprise_subs = 1 OR enterprise_not_paid = 1 OR enterprise_test = 1),\n",
    "                    entries_installation_points_dir_partner.`address_uuid` ,null)) AS `nuw_addresses_day_entesprice`,\n",
    "    COUNT(DISTINCT IF(installation_point_st_partner.report_date = toDate(parseDateTimeBestEffortOrNull(`created_at`))  \n",
    "                    AND enterprise_subs != 1 AND enterprise_not_paid != 1 AND enterprise_test != 1 AND pro_subs != 1, \n",
    "                        entries_installation_points_dir_partner.`address_uuid` ,null)) AS `nuw_addresses_day_start`\n",
    "FROM db1.installation_point_st_partner_ch AS installation_point_st_partner\n",
    "LEFT JOIN db1.entries_installation_points_dir_partner_ch AS entries_installation_points_dir_partner\n",
    "    ON installation_point_st_partner.installation_point_id = entries_installation_points_dir_partner.installation_point_id\n",
    "LEFT JOIN db1.intercoms_st_partner_ch AS intercoms_st_partner \n",
    "        ON intercoms_st_partner.installation_point_id = installation_point_st_partner.installation_point_id\n",
    "        AND intercoms_st_partner.report_date = installation_point_st_partner.report_date\n",
    "LEFT JOIN db1.companies_st_partner_ch AS companies_st_partner\n",
    "        ON companies_st_partner.partner_uuid = installation_point_st_partner.partner_uuid\n",
    "        AND companies_st_partner.report_date = installation_point_st_partner.report_date\n",
    "WHERE intercom_uuid IS NOT NULL AND installation_point_st_partner.report_date > DATE('2023-08-28')\n",
    "GROUP BY installation_point_st_partner.report_date AS report_date) AS addreses\n",
    "LEFT JOIN \n",
    "(SELECT\n",
    "    report_date,\n",
    "    COUNT(DISTINCT if(report_date = toDate(created_at), citizens_st_mobile.citizen_id, NULL)) AS nuw_created_account_day,\n",
    "    COUNT(DISTINCT if(report_date = toDate(activated_at), citizens_st_mobile.citizen_id, NULL)) AS nuw_activated_account_day\n",
    "FROM db1.citizens_st_mobile_ch AS citizens_st_mobile\n",
    "JOIN db1.citizens_dir_mobile_ch AS citizens_dir_mobile ON citizens_st_mobile.citizen_id = citizens_dir_mobile.citizen_id\n",
    "GROUP BY citizens_st_mobile.report_date AS report_date) AS accounts ON accounts.report_date = addreses.report_date\n",
    "\"\"\" \n",
    "ch.query_run(query_text)"
   ]
  },
  {
   "cell_type": "markdown",
   "id": "e7c637fd",
   "metadata": {},
   "source": [
    "<div>\n",
    "<style scoped>\n",
    "    .dataframe tbody tr th:only-of-type {\n",
    "        vertical-align: middle;\n",
    "    }\n",
    "\n",
    "    .dataframe tbody tr th {\n",
    "        vertical-align: top;\n",
    "    }\n",
    "\n",
    "    .dataframe thead th {\n",
    "        text-align: right;\n",
    "    }\n",
    "</style>\n",
    "<table border=\"1\" class=\"dataframe\">\n",
    "  <thead>\n",
    "    <tr style=\"text-align: right;\">\n",
    "      <th></th>\n",
    "      <th>report_date</th>\n",
    "      <th>addresses</th>\n",
    "      <th>buildings</th>\n",
    "      <th>addresses_pro</th>\n",
    "      <th>addresses_entesprice</th>\n",
    "      <th>addresses_start</th>\n",
    "      <th>nuw_addresses_day</th>\n",
    "      <th>nuw_addresses_day_entesprice</th>\n",
    "      <th>nuw_addresses_day_start</th>\n",
    "      <th>nuw_addresses_day_pro</th>\n",
    "      <th>nuw_created_account_day</th>\n",
    "      <th>nuw_activated_account_day</th>\n",
    "      <th>nuw_buildings_day</th>\n",
    "    </tr>\n",
    "  </thead>\n",
    "  <tbody>\n",
    "    <tr>\n",
    "      <th>0</th>\n",
    "      <td>2023-08-29</td>\n",
    "      <td>24222</td>\n",
    "      <td>10544</td>\n",
    "      <td>0</td>\n",
    "      <td>347</td>\n",
    "      <td>23879</td>\n",
    "      <td>33</td>\n",
    "      <td>0</td>\n",
    "      <td>33</td>\n",
    "      <td>0</td>\n",
    "      <td>1248</td>\n",
    "      <td>1040</td>\n",
    "      <td>21</td>\n",
    "    </tr>\n",
    "  </tbody>\n",
    "</table>\n",
    "</div>"
   ]
  },
  {
   "cell_type": "markdown",
   "id": "54d67d9d",
   "metadata": {},
   "source": [
    "___\n",
    "## Tools\n",
    "___"
   ]
  },
  {
   "cell_type": "markdown",
   "id": "eff52776",
   "metadata": {},
   "source": [
    "### query"
   ]
  },
  {
   "cell_type": "code",
   "execution_count": null,
   "id": "4c9d8680",
   "metadata": {},
   "outputs": [
    {
     "data": {
      "text/html": [
       "<div><style>\n",
       ".dataframe > thead > tr,\n",
       ".dataframe > tbody > tr {\n",
       "  text-align: right;\n",
       "  white-space: pre-wrap;\n",
       "}\n",
       "</style>\n",
       "<small>shape: (10, 13)</small><table border=\"1\" class=\"dataframe\"><thead><tr><th>report_date</th><th>addresses</th><th>buildings</th><th>addresses_pro</th><th>addresses_entesprice</th><th>addresses_start</th><th>nuw_addresses_day</th><th>nuw_addresses_day_entesprice</th><th>nuw_addresses_day_start</th><th>nuw_addresses_day_pro</th><th>nuw_created_account_day</th><th>nuw_activated_account_day</th><th>nuw_buildings_day</th></tr><tr><td>date</td><td>i64</td><td>i64</td><td>i64</td><td>i64</td><td>i64</td><td>i64</td><td>i64</td><td>i64</td><td>i64</td><td>i64</td><td>i64</td><td>i64</td></tr></thead><tbody><tr><td>2025-07-10</td><td>38985</td><td>16942</td><td>25709</td><td>1621</td><td>11655</td><td>7</td><td>0</td><td>1</td><td>6</td><td>1356</td><td>1110</td><td>7</td></tr><tr><td>2025-07-09</td><td>38975</td><td>16937</td><td>25676</td><td>1622</td><td>11677</td><td>33</td><td>8</td><td>3</td><td>22</td><td>1265</td><td>1158</td><td>18</td></tr><tr><td>2025-07-08</td><td>38942</td><td>16921</td><td>25636</td><td>1614</td><td>11692</td><td>21</td><td>5</td><td>5</td><td>11</td><td>1345</td><td>1195</td><td>14</td></tr><tr><td>2025-07-07</td><td>38921</td><td>16913</td><td>25666</td><td>1609</td><td>11646</td><td>28</td><td>5</td><td>6</td><td>17</td><td>1425</td><td>1219</td><td>18</td></tr><tr><td>2025-07-06</td><td>38894</td><td>16903</td><td>25562</td><td>1605</td><td>11727</td><td>0</td><td>0</td><td>0</td><td>0</td><td>1099</td><td>916</td><td>0</td></tr><tr><td>2025-07-05</td><td>38893</td><td>16902</td><td>25561</td><td>1605</td><td>11727</td><td>1</td><td>1</td><td>0</td><td>0</td><td>1152</td><td>958</td><td>1</td></tr><tr><td>2025-07-03</td><td>38879</td><td>16896</td><td>25505</td><td>1601</td><td>11773</td><td>29</td><td>7</td><td>4</td><td>18</td><td>1350</td><td>1214</td><td>12</td></tr><tr><td>2025-07-02</td><td>38851</td><td>16888</td><td>24692</td><td>1595</td><td>12564</td><td>37</td><td>14</td><td>9</td><td>14</td><td>1445</td><td>1256</td><td>16</td></tr><tr><td>2025-07-01</td><td>38812</td><td>16880</td><td>24675</td><td>1578</td><td>12559</td><td>27</td><td>4</td><td>2</td><td>21</td><td>1419</td><td>1203</td><td>13</td></tr><tr><td>2025-06-30</td><td>38784</td><td>16868</td><td>25141</td><td>1897</td><td>11746</td><td>38</td><td>0</td><td>7</td><td>31</td><td>1385</td><td>1192</td><td>17</td></tr></tbody></table></div>"
      ],
      "text/plain": [
       "shape: (10, 13)\n",
       "┌───────────┬───────────┬───────────┬───────────┬───┬───────────┬───────────┬───────────┬──────────┐\n",
       "│ report_da ┆ addresses ┆ buildings ┆ addresses ┆ … ┆ nuw_addre ┆ nuw_creat ┆ nuw_activ ┆ nuw_buil │\n",
       "│ te        ┆ ---       ┆ ---       ┆ _pro      ┆   ┆ sses_day_ ┆ ed_accoun ┆ ated_acco ┆ dings_da │\n",
       "│ ---       ┆ i64       ┆ i64       ┆ ---       ┆   ┆ pro       ┆ t_day     ┆ unt_day   ┆ y        │\n",
       "│ date      ┆           ┆           ┆ i64       ┆   ┆ ---       ┆ ---       ┆ ---       ┆ ---      │\n",
       "│           ┆           ┆           ┆           ┆   ┆ i64       ┆ i64       ┆ i64       ┆ i64      │\n",
       "╞═══════════╪═══════════╪═══════════╪═══════════╪═══╪═══════════╪═══════════╪═══════════╪══════════╡\n",
       "│ 2025-07-1 ┆ 38985     ┆ 16942     ┆ 25709     ┆ … ┆ 6         ┆ 1356      ┆ 1110      ┆ 7        │\n",
       "│ 0         ┆           ┆           ┆           ┆   ┆           ┆           ┆           ┆          │\n",
       "│ 2025-07-0 ┆ 38975     ┆ 16937     ┆ 25676     ┆ … ┆ 22        ┆ 1265      ┆ 1158      ┆ 18       │\n",
       "│ 9         ┆           ┆           ┆           ┆   ┆           ┆           ┆           ┆          │\n",
       "│ 2025-07-0 ┆ 38942     ┆ 16921     ┆ 25636     ┆ … ┆ 11        ┆ 1345      ┆ 1195      ┆ 14       │\n",
       "│ 8         ┆           ┆           ┆           ┆   ┆           ┆           ┆           ┆          │\n",
       "│ 2025-07-0 ┆ 38921     ┆ 16913     ┆ 25666     ┆ … ┆ 17        ┆ 1425      ┆ 1219      ┆ 18       │\n",
       "│ 7         ┆           ┆           ┆           ┆   ┆           ┆           ┆           ┆          │\n",
       "│ 2025-07-0 ┆ 38894     ┆ 16903     ┆ 25562     ┆ … ┆ 0         ┆ 1099      ┆ 916       ┆ 0        │\n",
       "│ 6         ┆           ┆           ┆           ┆   ┆           ┆           ┆           ┆          │\n",
       "│ 2025-07-0 ┆ 38893     ┆ 16902     ┆ 25561     ┆ … ┆ 0         ┆ 1152      ┆ 958       ┆ 1        │\n",
       "│ 5         ┆           ┆           ┆           ┆   ┆           ┆           ┆           ┆          │\n",
       "│ 2025-07-0 ┆ 38879     ┆ 16896     ┆ 25505     ┆ … ┆ 18        ┆ 1350      ┆ 1214      ┆ 12       │\n",
       "│ 3         ┆           ┆           ┆           ┆   ┆           ┆           ┆           ┆          │\n",
       "│ 2025-07-0 ┆ 38851     ┆ 16888     ┆ 24692     ┆ … ┆ 14        ┆ 1445      ┆ 1256      ┆ 16       │\n",
       "│ 2         ┆           ┆           ┆           ┆   ┆           ┆           ┆           ┆          │\n",
       "│ 2025-07-0 ┆ 38812     ┆ 16880     ┆ 24675     ┆ … ┆ 21        ┆ 1419      ┆ 1203      ┆ 13       │\n",
       "│ 1         ┆           ┆           ┆           ┆   ┆           ┆           ┆           ┆          │\n",
       "│ 2025-06-3 ┆ 38784     ┆ 16868     ┆ 25141     ┆ … ┆ 31        ┆ 1385      ┆ 1192      ┆ 17       │\n",
       "│ 0         ┆           ┆           ┆           ┆   ┆           ┆           ┆           ┆          │\n",
       "└───────────┴───────────┴───────────┴───────────┴───┴───────────┴───────────┴───────────┴──────────┘"
      ]
     },
     "execution_count": 16,
     "metadata": {},
     "output_type": "execute_result"
    }
   ],
   "source": [
    "query_text = \"\"\"--sql\n",
    "SELECT\n",
    "    *\n",
    "FROM db1.t_count_of_nuw_addresses_ch\n",
    "ORDER BY report_date DESC\n",
    "limit 10\n",
    "\n",
    "\"\"\"\n",
    "\n",
    "ch.query_run(query_text)"
   ]
  },
  {
   "cell_type": "markdown",
   "id": "360efd84",
   "metadata": {},
   "source": [
    "### refreash_mv"
   ]
  },
  {
   "cell_type": "code",
   "execution_count": 12,
   "id": "61a78855",
   "metadata": {},
   "outputs": [
    {
     "data": {
      "text/html": [
       "<div><style>\n",
       ".dataframe > thead > tr,\n",
       ".dataframe > tbody > tr {\n",
       "  text-align: right;\n",
       "  white-space: pre-wrap;\n",
       "}\n",
       "</style>\n",
       "<small>shape: (1, 2)</small><table border=\"1\" class=\"dataframe\"><thead><tr><th>elapsed_ns</th><th>query_id</th></tr><tr><td>i64</td><td>str</td></tr></thead><tbody><tr><td>469857</td><td>&quot;b91cccfa-f172-4be5-af75-76d204…</td></tr></tbody></table></div>"
      ],
      "text/plain": [
       "shape: (1, 2)\n",
       "┌────────────┬─────────────────────────────────┐\n",
       "│ elapsed_ns ┆ query_id                        │\n",
       "│ ---        ┆ ---                             │\n",
       "│ i64        ┆ str                             │\n",
       "╞════════════╪═════════════════════════════════╡\n",
       "│ 469857     ┆ b91cccfa-f172-4be5-af75-76d204… │\n",
       "└────────────┴─────────────────────────────────┘"
      ]
     },
     "execution_count": 12,
     "metadata": {},
     "output_type": "execute_result"
    }
   ],
   "source": [
    "query_text = \"\"\"\n",
    "SYSTEM REFRESH VIEW db1.t_count_of_nuw_addresses_mv\n",
    "\"\"\"\n",
    "\n",
    "ch.query_run(query_text)"
   ]
  },
  {
   "cell_type": "markdown",
   "id": "c563918e",
   "metadata": {},
   "source": [
    "___\n",
    "### drop_table"
   ]
  },
  {
   "cell_type": "code",
   "execution_count": 23,
   "id": "38907314",
   "metadata": {},
   "outputs": [
    {
     "data": {
      "text/html": [
       "<div><style>\n",
       ".dataframe > thead > tr,\n",
       ".dataframe > tbody > tr {\n",
       "  text-align: right;\n",
       "  white-space: pre-wrap;\n",
       "}\n",
       "</style>\n",
       "<small>shape: (1, 2)</small><table border=\"1\" class=\"dataframe\"><thead><tr><th>elapsed_ns</th><th>query_id</th></tr><tr><td>i64</td><td>str</td></tr></thead><tbody><tr><td>189993081</td><td>&quot;892d49fe-d230-4530-b8f0-6d9ab4…</td></tr></tbody></table></div>"
      ],
      "text/plain": [
       "shape: (1, 2)\n",
       "┌────────────┬─────────────────────────────────┐\n",
       "│ elapsed_ns ┆ query_id                        │\n",
       "│ ---        ┆ ---                             │\n",
       "│ i64        ┆ str                             │\n",
       "╞════════════╪═════════════════════════════════╡\n",
       "│ 189993081  ┆ 892d49fe-d230-4530-b8f0-6d9ab4… │\n",
       "└────────────┴─────────────────────────────────┘"
      ]
     },
     "execution_count": 23,
     "metadata": {},
     "output_type": "execute_result"
    }
   ],
   "source": [
    "query_text = \"\"\" \n",
    "DROP TABLE db1.t_count_of_nuw_addresses_ch\n",
    "\"\"\"\n",
    "\n",
    "ch.query_run(query_text)"
   ]
  },
  {
   "cell_type": "markdown",
   "id": "fed8cbcc",
   "metadata": {},
   "source": [
    "### drop_mv"
   ]
  },
  {
   "cell_type": "code",
   "execution_count": 24,
   "id": "e16f36b8",
   "metadata": {},
   "outputs": [
    {
     "ename": "DatabaseError",
     "evalue": "HTTPDriver for https://rc1a-eflrt968scbm232q.mdb.yandexcloud.net:8443 received ClickHouse error code 60\n Code: 60. DB::Exception: Table db1.t_count_of_nuw_addresses_mv does not exist. Maybe you meant db1.t_count_of_nuw_addresses_mv?. (UNKNOWN_TABLE) (version 25.3.3.42 (official build))\n",
     "output_type": "error",
     "traceback": [
      "\u001b[31m---------------------------------------------------------------------------\u001b[39m",
      "\u001b[31mDatabaseError\u001b[39m                             Traceback (most recent call last)",
      "\u001b[36mCell\u001b[39m\u001b[36m \u001b[39m\u001b[32mIn[24]\u001b[39m\u001b[32m, line 5\u001b[39m\n\u001b[32m      1\u001b[39m query_text = \u001b[33m\"\"\"\u001b[39m\u001b[33m \u001b[39m\n\u001b[32m      2\u001b[39m \u001b[33mDROP TABLE db1.t_count_of_nuw_addresses_mv\u001b[39m\n\u001b[32m      3\u001b[39m \u001b[33m\"\"\"\u001b[39m\n\u001b[32m----> \u001b[39m\u001b[32m5\u001b[39m \u001b[43mch\u001b[49m\u001b[43m.\u001b[49m\u001b[43mquery_run\u001b[49m\u001b[43m(\u001b[49m\u001b[43mquery_text\u001b[49m\u001b[43m)\u001b[49m\n",
      "\u001b[36mFile \u001b[39m\u001b[32m~/Documents/Work/analytics/Clickhouse/clickhouse_client.py:29\u001b[39m, in \u001b[36mClickHouse_client.query_run\u001b[39m\u001b[34m(self, query_text)\u001b[39m\n\u001b[32m     27\u001b[39m \u001b[38;5;28;01mdef\u001b[39;00m\u001b[38;5;250m \u001b[39m\u001b[34mquery_run\u001b[39m (\u001b[38;5;28mself\u001b[39m, query_text):\n\u001b[32m     28\u001b[39m     query_text = query_text\n\u001b[32m---> \u001b[39m\u001b[32m29\u001b[39m     result = \u001b[38;5;28;43mself\u001b[39;49m\u001b[43m.\u001b[49m\u001b[43mclient\u001b[49m\u001b[43m.\u001b[49m\u001b[43mquery\u001b[49m\u001b[43m(\u001b[49m\u001b[43mquery_text\u001b[49m\u001b[43m)\u001b[49m\n\u001b[32m     30\u001b[39m     \u001b[38;5;28mself\u001b[39m.df = pd.DataFrame(result.result_rows, columns=result.column_names)\n\u001b[32m     31\u001b[39m     \u001b[38;5;66;03m# self.df = pl.DataFrame(result.result_rows, schema=result.column_names)\u001b[39;00m\n",
      "\u001b[36mFile \u001b[39m\u001b[32m~/myenv/lib/python3.12/site-packages/clickhouse_connect/driver/client.py:229\u001b[39m, in \u001b[36mClient.query\u001b[39m\u001b[34m(self, query, parameters, settings, query_formats, column_formats, encoding, use_none, column_oriented, use_numpy, max_str_len, context, query_tz, column_tzs, external_data, transport_settings)\u001b[39m\n\u001b[32m    227\u001b[39m query_context = \u001b[38;5;28mself\u001b[39m.create_query_context(**kwargs)\n\u001b[32m    228\u001b[39m \u001b[38;5;28;01mif\u001b[39;00m query_context.is_command:\n\u001b[32m--> \u001b[39m\u001b[32m229\u001b[39m     response = \u001b[38;5;28;43mself\u001b[39;49m\u001b[43m.\u001b[49m\u001b[43mcommand\u001b[49m\u001b[43m(\u001b[49m\u001b[43mquery\u001b[49m\u001b[43m,\u001b[49m\n\u001b[32m    230\u001b[39m \u001b[43m                            \u001b[49m\u001b[43mparameters\u001b[49m\u001b[43m=\u001b[49m\u001b[43mquery_context\u001b[49m\u001b[43m.\u001b[49m\u001b[43mparameters\u001b[49m\u001b[43m,\u001b[49m\n\u001b[32m    231\u001b[39m \u001b[43m                            \u001b[49m\u001b[43msettings\u001b[49m\u001b[43m=\u001b[49m\u001b[43mquery_context\u001b[49m\u001b[43m.\u001b[49m\u001b[43msettings\u001b[49m\u001b[43m,\u001b[49m\n\u001b[32m    232\u001b[39m \u001b[43m                            \u001b[49m\u001b[43mexternal_data\u001b[49m\u001b[43m=\u001b[49m\u001b[43mquery_context\u001b[49m\u001b[43m.\u001b[49m\u001b[43mexternal_data\u001b[49m\u001b[43m,\u001b[49m\n\u001b[32m    233\u001b[39m \u001b[43m                            \u001b[49m\u001b[43mtransport_settings\u001b[49m\u001b[43m=\u001b[49m\u001b[43mquery_context\u001b[49m\u001b[43m.\u001b[49m\u001b[43mtransport_settings\u001b[49m\u001b[43m)\u001b[49m\n\u001b[32m    234\u001b[39m     \u001b[38;5;28;01mif\u001b[39;00m \u001b[38;5;28misinstance\u001b[39m(response, QuerySummary):\n\u001b[32m    235\u001b[39m         \u001b[38;5;28;01mreturn\u001b[39;00m response.as_query_result()\n",
      "\u001b[36mFile \u001b[39m\u001b[32m~/myenv/lib/python3.12/site-packages/clickhouse_connect/driver/httpclient.py:368\u001b[39m, in \u001b[36mHttpClient.command\u001b[39m\u001b[34m(self, cmd, parameters, data, settings, use_database, external_data, transport_settings)\u001b[39m\n\u001b[32m    366\u001b[39m headers = dict_copy(headers, transport_settings)\n\u001b[32m    367\u001b[39m method = \u001b[33m'\u001b[39m\u001b[33mPOST\u001b[39m\u001b[33m'\u001b[39m \u001b[38;5;28;01mif\u001b[39;00m payload \u001b[38;5;129;01mor\u001b[39;00m fields \u001b[38;5;28;01melse\u001b[39;00m \u001b[33m'\u001b[39m\u001b[33mGET\u001b[39m\u001b[33m'\u001b[39m\n\u001b[32m--> \u001b[39m\u001b[32m368\u001b[39m response = \u001b[38;5;28;43mself\u001b[39;49m\u001b[43m.\u001b[49m\u001b[43m_raw_request\u001b[49m\u001b[43m(\u001b[49m\u001b[43mpayload\u001b[49m\u001b[43m,\u001b[49m\u001b[43m \u001b[49m\u001b[43mparams\u001b[49m\u001b[43m,\u001b[49m\u001b[43m \u001b[49m\u001b[43mheaders\u001b[49m\u001b[43m,\u001b[49m\u001b[43m \u001b[49m\u001b[43mmethod\u001b[49m\u001b[43m,\u001b[49m\u001b[43m \u001b[49m\u001b[43mfields\u001b[49m\u001b[43m=\u001b[49m\u001b[43mfields\u001b[49m\u001b[43m,\u001b[49m\u001b[43m \u001b[49m\u001b[43mserver_wait\u001b[49m\u001b[43m=\u001b[49m\u001b[38;5;28;43;01mFalse\u001b[39;49;00m\u001b[43m)\u001b[49m\n\u001b[32m    369\u001b[39m \u001b[38;5;28;01mif\u001b[39;00m response.data:\n\u001b[32m    370\u001b[39m     \u001b[38;5;28;01mtry\u001b[39;00m:\n",
      "\u001b[36mFile \u001b[39m\u001b[32m~/myenv/lib/python3.12/site-packages/clickhouse_connect/driver/httpclient.py:481\u001b[39m, in \u001b[36mHttpClient._raw_request\u001b[39m\u001b[34m(self, data, params, headers, method, retries, stream, server_wait, fields, error_handler)\u001b[39m\n\u001b[32m    479\u001b[39m     error_handler(response)\n\u001b[32m    480\u001b[39m \u001b[38;5;28;01melse\u001b[39;00m:\n\u001b[32m--> \u001b[39m\u001b[32m481\u001b[39m     \u001b[38;5;28;43mself\u001b[39;49m\u001b[43m.\u001b[49m\u001b[43m_error_handler\u001b[49m\u001b[43m(\u001b[49m\u001b[43mresponse\u001b[49m\u001b[43m)\u001b[49m\n",
      "\u001b[36mFile \u001b[39m\u001b[32m~/myenv/lib/python3.12/site-packages/clickhouse_connect/driver/httpclient.py:402\u001b[39m, in \u001b[36mHttpClient._error_handler\u001b[39m\u001b[34m(self, response, retried)\u001b[39m\n\u001b[32m    399\u001b[39m \u001b[38;5;28;01melse\u001b[39;00m:\n\u001b[32m    400\u001b[39m     err_str = \u001b[33m'\u001b[39m\u001b[33mThe ClickHouse server returned an error.\u001b[39m\u001b[33m'\u001b[39m\n\u001b[32m--> \u001b[39m\u001b[32m402\u001b[39m \u001b[38;5;28;01mraise\u001b[39;00m OperationalError(err_str) \u001b[38;5;28;01mif\u001b[39;00m retried \u001b[38;5;28;01melse\u001b[39;00m DatabaseError(err_str) \u001b[38;5;28;01mfrom\u001b[39;00m\u001b[38;5;250m \u001b[39m\u001b[38;5;28;01mNone\u001b[39;00m\n",
      "\u001b[31mDatabaseError\u001b[39m: HTTPDriver for https://rc1a-eflrt968scbm232q.mdb.yandexcloud.net:8443 received ClickHouse error code 60\n Code: 60. DB::Exception: Table db1.t_count_of_nuw_addresses_mv does not exist. Maybe you meant db1.t_count_of_nuw_addresses_mv?. (UNKNOWN_TABLE) (version 25.3.3.42 (official build))\n"
     ]
    }
   ],
   "source": [
    "query_text = \"\"\" \n",
    "DROP TABLE db1.t_count_of_nuw_addresses_mv\n",
    "\"\"\"\n",
    "\n",
    "ch.query_run(query_text)"
   ]
  }
 ],
 "metadata": {
  "jupytext": {
   "formats": "ipynb,md"
  },
  "kernelspec": {
   "display_name": "myenv",
   "language": "python",
   "name": "python3"
  },
  "language_info": {
   "codemirror_mode": {
    "name": "ipython",
    "version": 3
   },
   "file_extension": ".py",
   "mimetype": "text/x-python",
   "name": "python",
   "nbconvert_exporter": "python",
   "pygments_lexer": "ipython3",
   "version": "3.12.11"
  }
 },
 "nbformat": 4,
 "nbformat_minor": 5
}

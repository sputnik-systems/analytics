{
 "cells": [
  {
   "cell_type": "markdown",
   "id": "5092fe57",
   "metadata": {},
   "source": [
    "## Start"
   ]
  },
  {
   "cell_type": "code",
   "execution_count": 1,
   "id": "eae155a7",
   "metadata": {
    "jupyter": {
     "is_executing": false
    },
    "lines_to_next_cell": 0
   },
   "outputs": [],
   "source": [
    "import clickhouse_connect\n",
    "import datetime\n",
    "import os\n",
    "import pytz\n",
    "import pandas as pd\n",
    "from dateutil.relativedelta import relativedelta\n",
    "from dotenv import load_dotenv\n",
    "\n",
    "import sys\n",
    "sys.path.append('/home/boris/Documents/Work/analytics/Clickhouse')\n",
    "from clickhouse_client import ClickHouse_client\n",
    "ch = ClickHouse_client()"
   ]
  },
  {
   "cell_type": "markdown",
   "id": "abdc04a1",
   "metadata": {},
   "source": [
    "___\n",
    "## Tags: #Tables\n",
    "___\n",
    "## Links:\n",
    "\n",
    "[[installation_point_st_partner]]\n",
    "\n",
    "[[entries_installation_points_dir_partner]]\n",
    "\n",
    "[[intercoms_st_partner]]\n",
    "\n",
    "[[companies_st_partner]]\n",
    "\n",
    "[[citizens_st_mobile]]\n",
    "\n",
    "[[citizens_dir_mobile]]\n",
    "\n",
    "____\n",
    "### Table"
   ]
  },
  {
   "cell_type": "code",
   "execution_count": null,
   "id": "34ceddd1",
   "metadata": {},
   "outputs": [],
   "source": [
    "query_text = \"\"\"--sql\n",
    "CREATE TABLE db1.t_count_of_nuw_addresses_ch \n",
    "(\n",
    "\treport_date Date,\n",
    "    addresses UInt32,\n",
    "    buildings UInt32,\n",
    "    addresses_pro UInt32,\n",
    "    addresses_entesprice UInt32,\n",
    "    addresses_start UInt32,\n",
    "    nuw_addresses_day UInt32,\n",
    "    nuw_addresses_day_entesprice UInt32,\n",
    "    nuw_addresses_day_start UInt32,\n",
    "    nuw_addresses_day_pro UInt32,\n",
    "    nuw_created_account_day UInt32,\n",
    "    nuw_activated_account_day UInt32,\n",
    "    nuw_buildings_day UInt32\n",
    ")\n",
    "ENGINE = MergeTree()\n",
    "ORDER BY report_date\n",
    "\"\"\"\n",
    "ch.query_run(query_text)"
   ]
  },
  {
   "cell_type": "markdown",
   "id": "6c20ba99",
   "metadata": {},
   "source": [
    "### Materialized view"
   ]
  },
  {
   "cell_type": "code",
   "execution_count": null,
   "id": "0409fa1f",
   "metadata": {},
   "outputs": [],
   "source": [
    "query_text = \"\"\"--sql\n",
    "CREATE MATERIALIZED VIEW db1.t_count_of_nuw_addresses_mv\n",
    "    REFRESH EVERY 1 DAY OFFSET 5 HOUR TO db1.t_count_of_nuw_addresses_ch AS\n",
    "SELECT\n",
    "\treport_date,\n",
    "    addresses,\n",
    "    buildings,\n",
    "    addresses_pro,\n",
    "    addresses_entesprice,\n",
    "    addresses_start,\n",
    "    nuw_addresses_day,\n",
    "    nuw_addresses_day_entesprice,\n",
    "    nuw_addresses_day_start,\n",
    "    nuw_addresses_day_pro,\n",
    "    nuw_created_account_day,\n",
    "    nuw_activated_account_day,\n",
    "    nuw_buildings_day,\n",
    "FROM (SELECT\n",
    "    installation_point_st_partner.report_date AS report_date,\n",
    "    COUNT(DISTINCT entries_installation_points_dir_partner.`address_uuid`) AS `addresses`,\n",
    "    COUNT(DISTINCT entries_installation_points_dir_partner.`parent_uuid`) AS `buildings`,\n",
    "    COUNT(DISTINCT IF(pro_subs = 1,entries_installation_points_dir_partner.`address_uuid` ,null)) AS `addresses_pro`,\n",
    "    COUNT(DISTINCT IF(enterprise_subs = 1 OR enterprise_not_paid = 1 OR enterprise_test = 1,\n",
    "                    entries_installation_points_dir_partner.`address_uuid` ,null)) AS `addresses_entesprice`,\n",
    "    COUNT(DISTINCT IF(enterprise_subs != 1 AND enterprise_not_paid != 1 AND enterprise_test != 1 AND pro_subs != 1, \n",
    "                        entries_installation_points_dir_partner.`address_uuid` ,null)) AS `addresses_start`,\n",
    "    COUNT(DISTINCT if(installation_point_st_partner.report_date = toDate(parseDateTimeBestEffortOrNull(`created_at`)),\n",
    "                    entries_installation_points_dir_partner.`address_uuid`,null)) AS `nuw_addresses_day`,\n",
    "    COUNT(DISTINCT if(installation_point_st_partner.report_date = toDate(parseDateTimeBestEffortOrNull(`created_at`)),\n",
    "                    entries_installation_points_dir_partner.`parent_uuid`, null)) AS `nuw_buildings_day`,\n",
    "    COUNT(DISTINCT IF(installation_point_st_partner.report_date = toDate(parseDateTimeBestEffortOrNull(`created_at`)) \n",
    "                    AND pro_subs = 1,entries_installation_points_dir_partner.`address_uuid` ,null)) AS `nuw_addresses_day_pro`,\n",
    "    COUNT(DISTINCT IF(installation_point_st_partner.report_date = toDate(parseDateTimeBestEffortOrNull(`created_at`))  \n",
    "                    AND (enterprise_subs = 1 OR enterprise_not_paid = 1 OR enterprise_test = 1),\n",
    "                    entries_installation_points_dir_partner.`address_uuid` ,null)) AS `nuw_addresses_day_entesprice`,\n",
    "    COUNT(DISTINCT IF(installation_point_st_partner.report_date = toDate(parseDateTimeBestEffortOrNull(`created_at`))  \n",
    "                    AND enterprise_subs != 1 AND enterprise_not_paid != 1 AND enterprise_test != 1 AND pro_subs != 1, \n",
    "                        entries_installation_points_dir_partner.`address_uuid` ,null)) AS `nuw_addresses_day_start`\n",
    "FROM db1.installation_point_st_partner_ch AS installation_point_st_partner\n",
    "LEFT JOIN db1.entries_installation_points_dir_partner_ch AS entries_installation_points_dir_partner\n",
    "    ON installation_point_st_partner.installation_point_id = entries_installation_points_dir_partner.installation_point_id\n",
    "LEFT JOIN db1.intercoms_st_partner_ch AS intercoms_st_partner \n",
    "        ON intercoms_st_partner.installation_point_id = installation_point_st_partner.installation_point_id\n",
    "        AND intercoms_st_partner.report_date = installation_point_st_partner.report_date\n",
    "LEFT JOIN db1.companies_st_partner_ch AS companies_st_partner\n",
    "        ON companies_st_partner.partner_uuid = installation_point_st_partner.partner_uuid\n",
    "        AND companies_st_partner.report_date = installation_point_st_partner.report_date\n",
    "WHERE intercom_uuid IS NOT NULL AND installation_point_st_partner.report_date > DATE('2023-08-28')\n",
    "GROUP BY installation_point_st_partner.report_date AS report_date) AS addreses\n",
    "LEFT JOIN \n",
    "(SELECT\n",
    "    report_date,\n",
    "    COUNT(DISTINCT if(report_date = toDate(created_at), citizens_st_mobile.citizen_id, NULL)) AS nuw_created_account_day,\n",
    "    COUNT(DISTINCT if(report_date = toDate(activated_at), citizens_st_mobile.citizen_id, NULL)) AS nuw_activated_account_day\n",
    "FROM db1.citizens_st_mobile_ch AS citizens_st_mobile\n",
    "JOIN db1.citizens_dir_mobile_ch AS citizens_dir_mobile ON citizens_st_mobile.citizen_id = citizens_dir_mobile.citizen_id\n",
    "GROUP BY citizens_st_mobile.report_date AS report_date) AS accounts ON accounts.report_date = addreses.report_date\n",
    "\"\"\" \n",
    "ch.query_run(query_text)"
   ]
  },
  {
   "cell_type": "markdown",
   "id": "54d67d9d",
   "metadata": {},
   "source": [
    "___\n",
    "## Tools\n",
    "___\n",
    "### query"
   ]
  },
  {
   "cell_type": "code",
   "execution_count": null,
   "id": "4c9d8680",
   "metadata": {},
   "outputs": [],
   "source": [
    "query_text = \"\"\"--sql\n",
    "SELECT\n",
    "    *\n",
    "FROM db1.t_count_of_nuw_addresses_ch\n",
    "ORDER BY report_date DESC\n",
    "limit 10\n",
    "\n",
    "\"\"\"\n",
    "\n",
    "ch.query_run(query_text)"
   ]
  },
  {
   "cell_type": "markdown",
   "id": "360efd84",
   "metadata": {},
   "source": [
    "### refreash_mv"
   ]
  },
  {
   "cell_type": "code",
   "execution_count": null,
   "id": "61a78855",
   "metadata": {},
   "outputs": [],
   "source": [
    "query_text = \"\"\"\n",
    "SYSTEM REFRESH VIEW db1.t_count_of_nuw_addresses_mv\n",
    "\"\"\"\n",
    "\n",
    "ch.query_run(query_text)"
   ]
  },
  {
   "cell_type": "markdown",
   "id": "c563918e",
   "metadata": {},
   "source": [
    "___\n",
    "### drop_table"
   ]
  },
  {
   "cell_type": "code",
   "execution_count": null,
   "id": "38907314",
   "metadata": {},
   "outputs": [],
   "source": [
    "query_text = \"\"\" \n",
    "DROP TABLE db1.t_count_of_nuw_addresses_ch\n",
    "\"\"\"\n",
    "\n",
    "ch.query_run(query_text)"
   ]
  },
  {
   "cell_type": "markdown",
   "id": "fed8cbcc",
   "metadata": {},
   "source": [
    "### drop_mv"
   ]
  },
  {
   "cell_type": "code",
   "execution_count": null,
   "id": "e16f36b8",
   "metadata": {},
   "outputs": [],
   "source": [
    "query_text = \"\"\" \n",
    "DROP TABLE db1.t_count_of_nuw_addresses_mv\n",
    "\"\"\"\n",
    "\n",
    "ch.query_run(query_text)"
   ]
  }
 ],
 "metadata": {
  "jupytext": {
   "formats": "ipynb,md"
  },
  "kernelspec": {
   "display_name": "myenv",
   "language": "python",
   "name": "python3"
  },
  "language_info": {
   "codemirror_mode": {
    "name": "ipython",
    "version": 3
   },
   "file_extension": ".py",
   "mimetype": "text/x-python",
   "name": "python",
   "nbconvert_exporter": "python",
   "pygments_lexer": "ipython3",
   "version": "3.12.11"
  }
 },
 "nbformat": 4,
 "nbformat_minor": 5
}

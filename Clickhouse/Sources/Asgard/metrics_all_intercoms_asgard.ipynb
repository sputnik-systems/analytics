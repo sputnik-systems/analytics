{
 "cells": [
  {
   "cell_type": "markdown",
   "id": "08c8ba9f",
   "metadata": {},
   "source": [
    "## Start"
   ]
  },
  {
   "cell_type": "code",
   "execution_count": null,
   "id": "c8a5eaee",
   "metadata": {},
   "outputs": [],
   "source": [
    "import clickhouse_connect\n",
    "import datetime\n",
    "import os\n",
    "import pytz\n",
    "import pandas as pd\n",
    "from dateutil.relativedelta import relativedelta\n",
    "from dotenv import load_dotenv\n",
    "\n",
    "import sys\n",
    "sys.path.append('/home/boris/Documents/Work/analytics/Clickhouse')\n",
    "from clickhouse_client import ClickHouse_client\n",
    "ch = ClickHouse_client()\n",
    "pd.set_option('display.max_rows', 1000)\n",
    "\n"
   ]
  },
  {
   "cell_type": "markdown",
   "id": "759c7172",
   "metadata": {},
   "source": [
    "___\n",
    "### Tags: #Source #Asgard\n",
    "\n",
    "### Links: \n",
    "___"
   ]
  },
  {
   "cell_type": "code",
   "execution_count": null,
   "id": "530eba7e",
   "metadata": {},
   "outputs": [],
   "source": [
    "# creating a table from s3\n",
    "\n",
    "query_text = \"\"\"--sql \n",
    "   CREATE TABLE db1.metrics_all_intercoms_asgard\n",
    "(\n",
    "    `report_date` Date,\n",
    "    `uuid` String,\n",
    "    `call_stop_type_finish_handset` Int32,\n",
    "    `ring_type_ring_cloud` Int32,\n",
    "    `talk_open_door_type_analog` Int32,\n",
    "    `call_stop_type_cancel_cloud` Int32,\n",
    "    `key_state_valid` Int32,\n",
    "    `ring_cluster_error_type_entrance_offline` Int32,\n",
    "    `connection` Int32,\n",
    "    `ring_type_ring_info` Int32,\n",
    "    `ring_error_type_cancel` Int32,\n",
    "    `call_success_true` Int32,\n",
    "    `digital_key_success_false` Int32,\n",
    "    `key_state_invalid` Int32,\n",
    "    `ring_cluster_error_type_wrong_flat` Int32,\n",
    "    `ring_error_type_cancel_handset` Int32,\n",
    "    `talk_type_sip` Int32,\n",
    "    `call_stop_type_cancel_button` Int32,\n",
    "    `call_success_false` Int32,\n",
    "    `open_door_type_api` Int32,\n",
    "    `call_stop_type_speak_timeout` Int32,\n",
    "    `ring_type_analog` Int32,\n",
    "    `talk_type_analog`  Int32,\n",
    "    `digital_key_success_true` Int32,\n",
    "    `open_door_type_analog` Int32,\n",
    "    `ring_type_sip` Int32,\n",
    "    `talk_type_flat` Int32,\n",
    "    `key_state_auth_err` Int32,\n",
    "    `open_door_type_DTMF` Int32,\n",
    "    `ring_cluster` Int32,\n",
    "    `talk_open_door_type_api` Int32\n",
    ")\n",
    "ENGINE = S3('https://storage.yandexcloud.net/dwh-asgard/metrics_all_intercoms_asgard/year=*/month=*/*.csv','CSVWithNames')\n",
    "    \"\"\"\n",
    "\n",
    "ch.query_run(query_text)"
   ]
  },
  {
   "cell_type": "code",
   "execution_count": null,
   "id": "111c40d2",
   "metadata": {},
   "outputs": [],
   "source": [
    "query_text = \"\"\"--sql\n",
    "    CREATE TABLE db1.metrics_all_intercoms_asgard_ch\n",
    "(\n",
    "    `report_date` Date,\n",
    "    `uuid` String,\n",
    "    `call_stop_type_finish_handset` Int32,\n",
    "    `ring_type_ring_cloud` Int32,\n",
    "    `talk_open_door_type_analog` Int32,\n",
    "    `call_stop_type_cancel_cloud` Int32,\n",
    "    `key_state_valid` Int32,\n",
    "    `ring_cluster_error_type_entrance_offline` Int32,\n",
    "    `connection` Int32,\n",
    "    `ring_type_ring_info` Int32,\n",
    "    `ring_error_type_cancel` Int32,\n",
    "    `call_success_true` Int32,\n",
    "    `digital_key_success_false` Int32,\n",
    "    `key_state_invalid` Int32,\n",
    "    `ring_cluster_error_type_wrong_flat` Int32,\n",
    "    `ring_error_type_cancel_handset` Int32,\n",
    "    `talk_type_sip` Int32,\n",
    "    `call_stop_type_cancel_button` Int32,\n",
    "    `call_success_false` Int32,\n",
    "    `open_door_type_api` Int32,\n",
    "    `call_stop_type_speak_timeout` Int32,\n",
    "    `ring_type_analog` Int32,\n",
    "    `talk_type_analog`  Int32,\n",
    "    `digital_key_success_true` Int32,\n",
    "    `open_door_type_analog` Int32,\n",
    "    `ring_type_sip` Int32,\n",
    "    `talk_type_flat` Int32,\n",
    "    `key_state_auth_err` Int32,\n",
    "    `open_door_type_DTMF` Int32,\n",
    "    `ring_cluster` Int32,\n",
    "    `talk_open_door_type_api` Int32\n",
    ")\n",
    "    ENGINE = MergeTree()\n",
    "    ORDER BY uuid\n",
    "    \"\"\"\n",
    "\n",
    "ch.query_run(query_text)"
   ]
  },
  {
   "cell_type": "code",
   "execution_count": null,
   "id": "893a030d",
   "metadata": {},
   "outputs": [],
   "source": [
    "query_text = \"\"\"--sql\n",
    "    CREATE MATERIALIZED VIEW db1.metrics_all_intercoms_asgard_mv\n",
    "    REFRESH EVERY 1 DAY OFFSET 3 HOUR RANDOMIZE FOR 1 HOUR TO db1.metrics_all_intercoms_asgard_ch AS\n",
    "    SELECT\n",
    "        *\n",
    "    FROM db1.metrics_all_intercoms_asgard\n",
    "    \"\"\"\n",
    "\n",
    "ch.query_run(query_text)"
   ]
  },
  {
   "cell_type": "markdown",
   "id": "da4b3522",
   "metadata": {},
   "source": [
    "___\n",
    "## Tools\n",
    "___\n",
    "### query\n"
   ]
  },
  {
   "cell_type": "code",
   "execution_count": null,
   "id": "6bae8710",
   "metadata": {},
   "outputs": [],
   "source": [
    "query_text = \"\"\"--sql\n",
    "    SELECT\n",
    "        *\n",
    "    FROM db1.metrics_all_intercoms_asgard_ch\n",
    "    ORDER BY report_date desc\n",
    "    limit 100\n",
    "    \"\"\"\n",
    "\n",
    "ch.query_run(query_text)\n"
   ]
  },
  {
   "cell_type": "markdown",
   "id": "7a3f4a6f",
   "metadata": {},
   "source": [
    "### delete a part\n"
   ]
  },
  {
   "cell_type": "code",
   "execution_count": null,
   "id": "f1708334",
   "metadata": {},
   "outputs": [
    {
     "data": {
      "text/html": [
       "<div><style>\n",
       ".dataframe > thead > tr,\n",
       ".dataframe > tbody > tr {\n",
       "  text-align: right;\n",
       "  white-space: pre-wrap;\n",
       "}\n",
       "</style>\n",
       "<small>shape: (0, 0)</small><table border=\"1\" class=\"dataframe\"><thead><tr></tr><tr></tr></thead><tbody></tbody></table></div>"
      ],
      "text/plain": [
       "shape: (0, 0)\n",
       "┌┐\n",
       "╞╡\n",
       "└┘"
      ]
     },
     "metadata": {},
     "output_type": "display_data"
    }
   ],
   "source": [
    "query_text = \"\"\"--sql\n",
    "    ALTER TABLE db1.metrics_all_intercoms_asgard_ch DELETE WHERE report_date = '2025-07-17'\n",
    "    \"\"\"\n",
    "\n",
    "ch.query_run(query_text)\n"
   ]
  },
  {
   "cell_type": "markdown",
   "id": "349b99de",
   "metadata": {},
   "source": [
    "### drop mv"
   ]
  },
  {
   "cell_type": "code",
   "execution_count": null,
   "id": "16b51713",
   "metadata": {},
   "outputs": [],
   "source": [
    "query_text = \"\"\"--sql\n",
    "    DROP TABLE db1.metrics_all_intercoms_asgard_mv\n",
    "    \"\"\"\n",
    "\n",
    "ch.query_run(query_text)"
   ]
  },
  {
   "cell_type": "markdown",
   "id": "88280a8f",
   "metadata": {},
   "source": [
    "\n",
    "### drop ch"
   ]
  },
  {
   "cell_type": "code",
   "execution_count": null,
   "id": "68e55ab6",
   "metadata": {},
   "outputs": [],
   "source": [
    "query_text = \"\"\"--sql\n",
    "    DROP TABLE db1.metrics_all_intercoms_asgard_ch\n",
    "    \"\"\"\n",
    "\n",
    "ch.query_run(query_text)"
   ]
  },
  {
   "cell_type": "markdown",
   "id": "aa90a6dd",
   "metadata": {},
   "source": [
    "### refresh mv"
   ]
  },
  {
   "cell_type": "code",
   "execution_count": null,
   "id": "b2c9969d",
   "metadata": {},
   "outputs": [],
   "source": [
    "query_text = \"\"\"\n",
    "SYSTEM REFRESH VIEW db1.metrics_all_intercoms_asgard_mv\n",
    "\"\"\"\n",
    "\n",
    "ch.query_run(query_text)"
   ]
  }
 ],
 "metadata": {
  "jupytext": {
   "formats": "ipynb,md"
  },
  "language_info": {
   "name": "python"
  }
 },
 "nbformat": 4,
 "nbformat_minor": 5
}

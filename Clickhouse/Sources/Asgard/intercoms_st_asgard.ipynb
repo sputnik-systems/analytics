{
 "cells": [
  {
   "cell_type": "markdown",
   "id": "91cc006a",
   "metadata": {},
   "source": [
    "## Start"
   ]
  },
  {
   "cell_type": "code",
   "execution_count": 1,
   "id": "47626a7e",
   "metadata": {},
   "outputs": [],
   "source": [
    "import clickhouse_connect\n",
    "import datetime\n",
    "import os\n",
    "import pytz\n",
    "import pandas as pd\n",
    "from dateutil.relativedelta import relativedelta\n",
    "from dotenv import load_dotenv\n",
    "\n",
    "import sys\n",
    "sys.path.append('/home/boris/Documents/Work/analytics/Clickhouse')\n",
    "from clickhouse_client import ClickHouse_client\n",
    "ch = ClickHouse_client()\n",
    "pd.set_option('display.max_rows', 1000)\n",
    "\n"
   ]
  },
  {
   "cell_type": "markdown",
   "id": "82140d25",
   "metadata": {},
   "source": [
    "___\n",
    "### Tags: #Source #Asgard\n",
    "\n",
    "### Links: \n",
    "___"
   ]
  },
  {
   "cell_type": "code",
   "execution_count": null,
   "id": "09c373b4",
   "metadata": {},
   "outputs": [],
   "source": [
    "# creating a table from s3\n",
    "\n",
    "query_text = \"\"\"--sql \n",
    "   CREATE TABLE db1.intercoms_st_asgard\n",
    "(\n",
    "    `report_date` Date,\n",
    "    `intercom_uuid` String,\n",
    "    `is_online` Int16,\n",
    "    `last_online` DateTime,\n",
    "    `last_offline` DateTime,\n",
    "    `software_version` String,\n",
    "    `digital_keys_count` Int16,\n",
    "    `device_keys_count` Int16,\n",
    "    `partner_uuid` String,\n",
    "    `flat_range` String\n",
    ")\n",
    "ENGINE = S3('https://storage.yandexcloud.net/dwh-asgard/intercoms_st_asgard/year=*/month=*/*.csv','CSVWithNames')\n",
    "    \"\"\"\n",
    "\n",
    "ch.query_run(query_text)"
   ]
  },
  {
   "cell_type": "code",
   "execution_count": null,
   "id": "2d343883",
   "metadata": {},
   "outputs": [],
   "source": [
    "query_text = \"\"\"--sql\n",
    "    CREATE TABLE db1.intercoms_st_asgard_ch\n",
    "(\n",
    "    `report_date` Date,\n",
    "    `intercom_uuid` String,\n",
    "    `is_online` Int16,\n",
    "    `last_online` DateTime,\n",
    "    `last_offline` DateTime,\n",
    "    `software_version` String,\n",
    "    `digital_keys_count` Int16,\n",
    "    `device_keys_count` Int16,\n",
    "    `partner_uuid` String,\n",
    "    `flat_range` String\n",
    ")\n",
    "    ENGINE = MergeTree()\n",
    "    ORDER BY intercom_uuid\n",
    "    \"\"\"\n",
    "\n",
    "ch.query_run(query_text)"
   ]
  },
  {
   "cell_type": "code",
   "execution_count": null,
   "id": "149e8bb2",
   "metadata": {},
   "outputs": [],
   "source": [
    "query_text = \"\"\"--sql\n",
    "    CREATE MATERIALIZED VIEW db1.intercoms_st_asgard_mv\n",
    "    REFRESH EVERY 1 DAY OFFSET 3 HOUR RANDOMIZE FOR 1 HOUR TO db1.intercoms_st_asgard_ch AS\n",
    "    SELECT\n",
    "        *\n",
    "    FROM db1.intercoms_st_asgard\n",
    "    WHERE partner_uuid not like '%main:tokens:%'\n",
    "    \"\"\"\n",
    "\n",
    "ch.query_run(query_text)"
   ]
  },
  {
   "cell_type": "markdown",
   "id": "dd087236",
   "metadata": {},
   "source": [
    "___\n",
    "## Tools\n",
    "___\n",
    "### query\n"
   ]
  },
  {
   "cell_type": "code",
   "execution_count": 2,
   "id": "3066df06",
   "metadata": {},
   "outputs": [
    {
     "data": {
      "text/html": [
       "<div><style>\n",
       ".dataframe > thead > tr,\n",
       ".dataframe > tbody > tr {\n",
       "  text-align: right;\n",
       "  white-space: pre-wrap;\n",
       "}\n",
       "</style>\n",
       "<small>shape: (100, 10)</small><table border=\"1\" class=\"dataframe\"><thead><tr><th>report_date</th><th>intercom_uuid</th><th>is_online</th><th>last_online</th><th>last_offline</th><th>software_version</th><th>digital_keys_count</th><th>device_keys_count</th><th>partner_uuid</th><th>flat_range</th></tr><tr><td>date</td><td>str</td><td>i64</td><td>datetime[ns]</td><td>datetime[ns]</td><td>str</td><td>i64</td><td>i64</td><td>str</td><td>str</td></tr></thead><tbody><tr><td>2025-08-17</td><td>&quot;00337544-f14f-42a5-95bd-4a633f…</td><td>1</td><td>1970-01-01 00:00:00</td><td>2025-08-17 12:12:58</td><td>&quot;5.99&quot;</td><td>2</td><td>204</td><td>&quot;0e7236ac-b8bd-4ab0-8634-d165ad…</td><td>&quot;null&quot;</td></tr><tr><td>2025-08-17</td><td>&quot;0167761b-2488-4ba8-9b88-c7da12…</td><td>1</td><td>1970-01-01 00:00:00</td><td>2025-08-17 14:20:46</td><td>&quot;5.99&quot;</td><td>1</td><td>7</td><td>&quot;7775bc0f-24e5-4afc-9054-e194c8…</td><td>&quot;null&quot;</td></tr><tr><td>2025-08-17</td><td>&quot;01675f80-a9f0-4ef7-8945-3589dd…</td><td>1</td><td>1970-01-01 00:00:00</td><td>2025-08-17 12:18:12</td><td>&quot;9.04&quot;</td><td>0</td><td>343</td><td>&quot;db61f873-dcf7-4678-aec1-6b93f5…</td><td>&quot;null&quot;</td></tr><tr><td>2025-08-17</td><td>&quot;010b6ea9-8b7f-42f9-bf5b-70963e…</td><td>1</td><td>1970-01-01 00:00:00</td><td>2025-08-16 13:29:17</td><td>&quot;5.99&quot;</td><td>4</td><td>614</td><td>&quot;0e7236ac-b8bd-4ab0-8634-d165ad…</td><td>&quot;null&quot;</td></tr><tr><td>2025-08-17</td><td>&quot;01641c22-bdc7-4575-a16b-109e3e…</td><td>0</td><td>2023-08-01 23:40:08</td><td>1970-01-01 00:00:00</td><td>&quot;5.98&quot;</td><td>1</td><td>222</td><td>&quot;7775bc0f-24e5-4afc-9054-e194c8…</td><td>&quot;null&quot;</td></tr><tr><td>&hellip;</td><td>&hellip;</td><td>&hellip;</td><td>&hellip;</td><td>&hellip;</td><td>&hellip;</td><td>&hellip;</td><td>&hellip;</td><td>&hellip;</td><td>&hellip;</td></tr><tr><td>2025-08-17</td><td>&quot;01253325-5a46-4a86-8b5d-2e5964…</td><td>1</td><td>1970-01-01 00:00:00</td><td>2025-08-16 23:21:12</td><td>&quot;5.99&quot;</td><td>2</td><td>196</td><td>&quot;0e7236ac-b8bd-4ab0-8634-d165ad…</td><td>&quot;null&quot;</td></tr><tr><td>2025-08-17</td><td>&quot;01223faa-5d22-4aa6-af38-78e51d…</td><td>0</td><td>1970-01-01 00:00:00</td><td>1970-01-01 00:00:00</td><td>&quot;&quot;</td><td>0</td><td>0</td><td>&quot;ba308431-fd0c-4921-a605-9e21c5…</td><td>&quot;null&quot;</td></tr><tr><td>2025-08-17</td><td>&quot;0123fb99-990f-4a20-8586-601cc5…</td><td>1</td><td>1970-01-01 00:00:00</td><td>2025-08-16 13:27:34</td><td>&quot;7.46&quot;</td><td>1</td><td>48</td><td>&quot;0b1df4b3-2d2f-4698-a1fc-e668e5…</td><td>&quot;22&quot;</td></tr><tr><td>2025-08-17</td><td>&quot;01208783-4351-4294-a84c-713dc7…</td><td>0</td><td>2024-07-09 12:59:30</td><td>1970-01-01 00:00:00</td><td>&quot;7.67&quot;</td><td>0</td><td>0</td><td>&quot;ba308431-fd0c-4921-a605-9e21c5…</td><td>&quot;null&quot;</td></tr><tr><td>2025-08-17</td><td>&quot;0124f58f-2810-419b-b61b-6af7b1…</td><td>1</td><td>1970-01-01 00:00:00</td><td>2025-08-16 18:13:59</td><td>&quot;5.99&quot;</td><td>0</td><td>174</td><td>&quot;0e7236ac-b8bd-4ab0-8634-d165ad…</td><td>&quot;null&quot;</td></tr></tbody></table></div>"
      ],
      "text/plain": [
       "shape: (100, 10)\n",
       "┌───────────┬───────────┬───────────┬───────────┬───┬───────────┬───────────┬───────────┬──────────┐\n",
       "│ report_da ┆ intercom_ ┆ is_online ┆ last_onli ┆ … ┆ digital_k ┆ device_ke ┆ partner_u ┆ flat_ran │\n",
       "│ te        ┆ uuid      ┆ ---       ┆ ne        ┆   ┆ eys_count ┆ ys_count  ┆ uid       ┆ ge       │\n",
       "│ ---       ┆ ---       ┆ i64       ┆ ---       ┆   ┆ ---       ┆ ---       ┆ ---       ┆ ---      │\n",
       "│ date      ┆ str       ┆           ┆ datetime[ ┆   ┆ i64       ┆ i64       ┆ str       ┆ str      │\n",
       "│           ┆           ┆           ┆ ns]       ┆   ┆           ┆           ┆           ┆          │\n",
       "╞═══════════╪═══════════╪═══════════╪═══════════╪═══╪═══════════╪═══════════╪═══════════╪══════════╡\n",
       "│ 2025-08-1 ┆ 00337544- ┆ 1         ┆ 1970-01-0 ┆ … ┆ 2         ┆ 204       ┆ 0e7236ac- ┆ null     │\n",
       "│ 7         ┆ f14f-42a5 ┆           ┆ 1         ┆   ┆           ┆           ┆ b8bd-4ab0 ┆          │\n",
       "│           ┆ -95bd-4a6 ┆           ┆ 00:00:00  ┆   ┆           ┆           ┆ -8634-d16 ┆          │\n",
       "│           ┆ 33f…      ┆           ┆           ┆   ┆           ┆           ┆ 5ad…      ┆          │\n",
       "│ 2025-08-1 ┆ 0167761b- ┆ 1         ┆ 1970-01-0 ┆ … ┆ 1         ┆ 7         ┆ 7775bc0f- ┆ null     │\n",
       "│ 7         ┆ 2488-4ba8 ┆           ┆ 1         ┆   ┆           ┆           ┆ 24e5-4afc ┆          │\n",
       "│           ┆ -9b88-c7d ┆           ┆ 00:00:00  ┆   ┆           ┆           ┆ -9054-e19 ┆          │\n",
       "│           ┆ a12…      ┆           ┆           ┆   ┆           ┆           ┆ 4c8…      ┆          │\n",
       "│ 2025-08-1 ┆ 01675f80- ┆ 1         ┆ 1970-01-0 ┆ … ┆ 0         ┆ 343       ┆ db61f873- ┆ null     │\n",
       "│ 7         ┆ a9f0-4ef7 ┆           ┆ 1         ┆   ┆           ┆           ┆ dcf7-4678 ┆          │\n",
       "│           ┆ -8945-358 ┆           ┆ 00:00:00  ┆   ┆           ┆           ┆ -aec1-6b9 ┆          │\n",
       "│           ┆ 9dd…      ┆           ┆           ┆   ┆           ┆           ┆ 3f5…      ┆          │\n",
       "│ 2025-08-1 ┆ 010b6ea9- ┆ 1         ┆ 1970-01-0 ┆ … ┆ 4         ┆ 614       ┆ 0e7236ac- ┆ null     │\n",
       "│ 7         ┆ 8b7f-42f9 ┆           ┆ 1         ┆   ┆           ┆           ┆ b8bd-4ab0 ┆          │\n",
       "│           ┆ -bf5b-709 ┆           ┆ 00:00:00  ┆   ┆           ┆           ┆ -8634-d16 ┆          │\n",
       "│           ┆ 63e…      ┆           ┆           ┆   ┆           ┆           ┆ 5ad…      ┆          │\n",
       "│ 2025-08-1 ┆ 01641c22- ┆ 0         ┆ 2023-08-0 ┆ … ┆ 1         ┆ 222       ┆ 7775bc0f- ┆ null     │\n",
       "│ 7         ┆ bdc7-4575 ┆           ┆ 1         ┆   ┆           ┆           ┆ 24e5-4afc ┆          │\n",
       "│           ┆ -a16b-109 ┆           ┆ 23:40:08  ┆   ┆           ┆           ┆ -9054-e19 ┆          │\n",
       "│           ┆ e3e…      ┆           ┆           ┆   ┆           ┆           ┆ 4c8…      ┆          │\n",
       "│ …         ┆ …         ┆ …         ┆ …         ┆ … ┆ …         ┆ …         ┆ …         ┆ …        │\n",
       "│ 2025-08-1 ┆ 01253325- ┆ 1         ┆ 1970-01-0 ┆ … ┆ 2         ┆ 196       ┆ 0e7236ac- ┆ null     │\n",
       "│ 7         ┆ 5a46-4a86 ┆           ┆ 1         ┆   ┆           ┆           ┆ b8bd-4ab0 ┆          │\n",
       "│           ┆ -8b5d-2e5 ┆           ┆ 00:00:00  ┆   ┆           ┆           ┆ -8634-d16 ┆          │\n",
       "│           ┆ 964…      ┆           ┆           ┆   ┆           ┆           ┆ 5ad…      ┆          │\n",
       "│ 2025-08-1 ┆ 01223faa- ┆ 0         ┆ 1970-01-0 ┆ … ┆ 0         ┆ 0         ┆ ba308431- ┆ null     │\n",
       "│ 7         ┆ 5d22-4aa6 ┆           ┆ 1         ┆   ┆           ┆           ┆ fd0c-4921 ┆          │\n",
       "│           ┆ -af38-78e ┆           ┆ 00:00:00  ┆   ┆           ┆           ┆ -a605-9e2 ┆          │\n",
       "│           ┆ 51d…      ┆           ┆           ┆   ┆           ┆           ┆ 1c5…      ┆          │\n",
       "│ 2025-08-1 ┆ 0123fb99- ┆ 1         ┆ 1970-01-0 ┆ … ┆ 1         ┆ 48        ┆ 0b1df4b3- ┆ 22       │\n",
       "│ 7         ┆ 990f-4a20 ┆           ┆ 1         ┆   ┆           ┆           ┆ 2d2f-4698 ┆          │\n",
       "│           ┆ -8586-601 ┆           ┆ 00:00:00  ┆   ┆           ┆           ┆ -a1fc-e66 ┆          │\n",
       "│           ┆ cc5…      ┆           ┆           ┆   ┆           ┆           ┆ 8e5…      ┆          │\n",
       "│ 2025-08-1 ┆ 01208783- ┆ 0         ┆ 2024-07-0 ┆ … ┆ 0         ┆ 0         ┆ ba308431- ┆ null     │\n",
       "│ 7         ┆ 4351-4294 ┆           ┆ 9         ┆   ┆           ┆           ┆ fd0c-4921 ┆          │\n",
       "│           ┆ -a84c-713 ┆           ┆ 12:59:30  ┆   ┆           ┆           ┆ -a605-9e2 ┆          │\n",
       "│           ┆ dc7…      ┆           ┆           ┆   ┆           ┆           ┆ 1c5…      ┆          │\n",
       "│ 2025-08-1 ┆ 0124f58f- ┆ 1         ┆ 1970-01-0 ┆ … ┆ 0         ┆ 174       ┆ 0e7236ac- ┆ null     │\n",
       "│ 7         ┆ 2810-419b ┆           ┆ 1         ┆   ┆           ┆           ┆ b8bd-4ab0 ┆          │\n",
       "│           ┆ -b61b-6af ┆           ┆ 00:00:00  ┆   ┆           ┆           ┆ -8634-d16 ┆          │\n",
       "│           ┆ 7b1…      ┆           ┆           ┆   ┆           ┆           ┆ 5ad…      ┆          │\n",
       "└───────────┴───────────┴───────────┴───────────┴───┴───────────┴───────────┴───────────┴──────────┘"
      ]
     },
     "execution_count": 2,
     "metadata": {},
     "output_type": "execute_result"
    }
   ],
   "source": [
    "query_text = \"\"\"--sql\n",
    "    SELECT\n",
    "        *\n",
    "    FROM db1.intercoms_st_asgard_ch\n",
    "    ORDER BY report_date desc\n",
    "    limit 100\n",
    "    \"\"\"\n",
    "\n",
    "ch.query_run(query_text)\n"
   ]
  },
  {
   "cell_type": "markdown",
   "id": "46c547d4",
   "metadata": {},
   "source": [
    "### delete a part\n"
   ]
  },
  {
   "cell_type": "code",
   "execution_count": null,
   "id": "9a759903",
   "metadata": {},
   "outputs": [
    {
     "data": {
      "text/html": [
       "<div><style>\n",
       ".dataframe > thead > tr,\n",
       ".dataframe > tbody > tr {\n",
       "  text-align: right;\n",
       "  white-space: pre-wrap;\n",
       "}\n",
       "</style>\n",
       "<small>shape: (0, 0)</small><table border=\"1\" class=\"dataframe\"><thead><tr></tr><tr></tr></thead><tbody></tbody></table></div>"
      ],
      "text/plain": [
       "shape: (0, 0)\n",
       "┌┐\n",
       "╞╡\n",
       "└┘"
      ]
     },
     "metadata": {},
     "output_type": "display_data"
    }
   ],
   "source": [
    "query_text = \"\"\"--sql\n",
    "    ALTER TABLE db1.intercoms_st_asgard_ch DELETE WHERE report_date = '2025-07-17'\n",
    "    \"\"\"\n",
    "\n",
    "ch.query_run(query_text)\n"
   ]
  },
  {
   "cell_type": "markdown",
   "id": "68bf89e2",
   "metadata": {},
   "source": [
    "### drop mv"
   ]
  },
  {
   "cell_type": "code",
   "execution_count": 2,
   "id": "bb87d103",
   "metadata": {
    "lines_to_next_cell": 2
   },
   "outputs": [
    {
     "data": {
      "text/html": [
       "<div>\n",
       "<style scoped>\n",
       "    .dataframe tbody tr th:only-of-type {\n",
       "        vertical-align: middle;\n",
       "    }\n",
       "\n",
       "    .dataframe tbody tr th {\n",
       "        vertical-align: top;\n",
       "    }\n",
       "\n",
       "    .dataframe thead th {\n",
       "        text-align: right;\n",
       "    }\n",
       "</style>\n",
       "<table border=\"1\" class=\"dataframe\">\n",
       "  <thead>\n",
       "    <tr style=\"text-align: right;\">\n",
       "      <th></th>\n",
       "    </tr>\n",
       "  </thead>\n",
       "  <tbody>\n",
       "  </tbody>\n",
       "</table>\n",
       "</div>"
      ],
      "text/plain": [
       "Empty DataFrame\n",
       "Columns: []\n",
       "Index: []"
      ]
     },
     "execution_count": 2,
     "metadata": {},
     "output_type": "execute_result"
    }
   ],
   "source": [
    "query_text = \"\"\"--sql\n",
    "    DROP TABLE db1.intercoms_st_asgard_mv\n",
    "    \"\"\"\n",
    "\n",
    "ch.query_run(query_text)"
   ]
  },
  {
   "cell_type": "markdown",
   "id": "10dc521b",
   "metadata": {},
   "source": [
    "### drop ch"
   ]
  },
  {
   "cell_type": "code",
   "execution_count": null,
   "id": "001aa116",
   "metadata": {},
   "outputs": [],
   "source": [
    "query_text = \"\"\"--sql\n",
    "    DROP TABLE db1.intercoms_st_asgard_ch\n",
    "    \"\"\"\n",
    "\n",
    "ch.query_run(query_text)"
   ]
  },
  {
   "cell_type": "markdown",
   "id": "0e102b62",
   "metadata": {},
   "source": [
    "### refresh mv"
   ]
  },
  {
   "cell_type": "code",
   "execution_count": null,
   "id": "7955d0e1",
   "metadata": {},
   "outputs": [],
   "source": [
    "query_text = \"\"\"\n",
    "SYSTEM REFRESH VIEW db1.intercoms_st_asgard_mv\n",
    "\"\"\"\n",
    "\n",
    "ch.query_run(query_text)"
   ]
  }
 ],
 "metadata": {
  "jupytext": {
   "formats": "ipynb,md"
  },
  "kernelspec": {
   "display_name": "Python (myenv)",
   "language": "python",
   "name": "myenv"
  },
  "language_info": {
   "codemirror_mode": {
    "name": "ipython",
    "version": 3
   },
   "file_extension": ".py",
   "mimetype": "text/x-python",
   "name": "python",
   "nbconvert_exporter": "python",
   "pygments_lexer": "ipython3",
   "version": "3.13.7"
  }
 },
 "nbformat": 4,
 "nbformat_minor": 5
}

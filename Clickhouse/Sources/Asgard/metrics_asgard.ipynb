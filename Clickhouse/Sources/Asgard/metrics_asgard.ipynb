{
 "cells": [
  {
   "cell_type": "markdown",
   "id": "e28fe360",
   "metadata": {},
   "source": [
    "## Start"
   ]
  },
  {
   "cell_type": "code",
   "execution_count": 1,
   "id": "19fe16b6",
   "metadata": {},
   "outputs": [],
   "source": [
    "import clickhouse_connect\n",
    "import datetime\n",
    "import os\n",
    "import pytz\n",
    "import pandas as pd\n",
    "from dateutil.relativedelta import relativedelta\n",
    "from dotenv import load_dotenv\n",
    "\n",
    "import sys\n",
    "sys.path.append('/home/boris/Documents/Work/analytics/Clickhouse')\n",
    "from clickhouse_client import ClickHouse_client\n",
    "ch = ClickHouse_client()\n",
    "pd.set_option('display.max_rows', 1000)\n",
    "\n"
   ]
  },
  {
   "cell_type": "markdown",
   "id": "d733e31e",
   "metadata": {},
   "source": [
    "___\n",
    "### Tags: #Source #Asgard\n",
    "\n",
    "### Links: \n",
    "___"
   ]
  },
  {
   "cell_type": "code",
   "execution_count": null,
   "id": "ce7f9ddf",
   "metadata": {},
   "outputs": [],
   "source": [
    "# creating a table from s3\n",
    "\n",
    "query_text = \"\"\"--sql \n",
    "   CREATE TABLE db1.metrics_asgard\n",
    "(\n",
    "    `report_date` Date,\n",
    "    `uuid` String,\n",
    "    `call_stop_type_finish_handset` Int32,\n",
    "    `ring_type_ring_cloud` Int32,\n",
    "    `talk_open_door_type_analog` Int32,\n",
    "    `call_stop_type_cancel_cloud` Int32,\n",
    "    `key_state_valid` Int32,\n",
    "    `ring_cluster_error_type_entrance_offline` Int32,\n",
    "    `connection` Int32,\n",
    "    `ring_type_ring_info` Int32,\n",
    "    `ring_error_type_cancel` Int32,\n",
    "    `call_success_true` Int32,\n",
    "    `digital_key_success_false` Int32,\n",
    "    `key_state_invalid` Int32,\n",
    "    `ring_cluster_error_type_wrong_flat` Int32,\n",
    "    `ring_error_type_cancel_handset` Int32,\n",
    "    `talk_type_sip` Int32,\n",
    "    `call_stop_type_cancel_button` Int32,\n",
    "    `call_success_false` Int32,\n",
    "    `open_door_type_api` Int32,\n",
    "    `call_stop_type_speak_timeout` Int32,\n",
    "    `ring_type_analog` Int32,\n",
    "    `talk_type_analog`  Int32,\n",
    "    `digital_key_success_true` Int32,\n",
    "    `open_door_type_analog` Int32,\n",
    "    `ring_type_sip` Int32,\n",
    "    `talk_type_flat` Int32,\n",
    "    `key_state_auth_err` Int32,\n",
    "    `open_door_type_DTMF` Int32,\n",
    "    `ring_cluster` Int32,\n",
    "    `talk_open_door_type_api` Int32\n",
    ")\n",
    "ENGINE = S3('https://storage.yandexcloud.net/dwh-asgard/metrics_asgard/year=*/month=*/*.csv','CSVWithNames')\n",
    "    \"\"\"\n",
    "\n",
    "ch.query_run(query_text)"
   ]
  },
  {
   "cell_type": "code",
   "execution_count": null,
   "id": "c9e39fbb",
   "metadata": {},
   "outputs": [],
   "source": [
    "query_text = \"\"\"--sql\n",
    "    CREATE TABLE db1.metrics_asgard_ch\n",
    "(\n",
    "    `report_date` Date,\n",
    "    `uuid` String,\n",
    "    `call_stop_type_finish_handset` Int32,\n",
    "    `ring_type_ring_cloud` Int32,\n",
    "    `talk_open_door_type_analog` Int32,\n",
    "    `call_stop_type_cancel_cloud` Int32,\n",
    "    `key_state_valid` Int32,\n",
    "    `ring_cluster_error_type_entrance_offline` Int32,\n",
    "    `connection` Int32,\n",
    "    `ring_type_ring_info` Int32,\n",
    "    `ring_error_type_cancel` Int32,\n",
    "    `call_success_true` Int32,\n",
    "    `digital_key_success_false` Int32,\n",
    "    `key_state_invalid` Int32,\n",
    "    `ring_cluster_error_type_wrong_flat` Int32,\n",
    "    `ring_error_type_cancel_handset` Int32,\n",
    "    `talk_type_sip` Int32,\n",
    "    `call_stop_type_cancel_button` Int32,\n",
    "    `call_success_false` Int32,\n",
    "    `open_door_type_api` Int32,\n",
    "    `call_stop_type_speak_timeout` Int32,\n",
    "    `ring_type_analog` Int32,\n",
    "    `talk_type_analog`  Int32,\n",
    "    `digital_key_success_true` Int32,\n",
    "    `open_door_type_analog` Int32,\n",
    "    `ring_type_sip` Int32,\n",
    "    `talk_type_flat` Int32,\n",
    "    `key_state_auth_err` Int32,\n",
    "    `open_door_type_DTMF` Int32,\n",
    "    `ring_cluster` Int32,\n",
    "    `talk_open_door_type_api` Int32\n",
    ")\n",
    "    ENGINE = MergeTree()\n",
    "    ORDER BY uuid\n",
    "    \"\"\"\n",
    "\n",
    "ch.query_run(query_text)"
   ]
  },
  {
   "cell_type": "code",
   "execution_count": null,
   "id": "cb681166",
   "metadata": {},
   "outputs": [],
   "source": [
    "query_text = \"\"\"--sql\n",
    "    CREATE MATERIALIZED VIEW db1.metrics_asgard_mv\n",
    "    REFRESH EVERY 1 DAY OFFSET 3 HOUR RANDOMIZE FOR 1 HOUR TO db1.metrics_asgard_ch AS\n",
    "    SELECT\n",
    "        *\n",
    "    FROM db1.metrics_asgard\n",
    "    \"\"\"\n",
    "\n",
    "ch.query_run(query_text)"
   ]
  },
  {
   "cell_type": "markdown",
   "id": "786e5e7e",
   "metadata": {},
   "source": [
    "___\n",
    "## Tools\n",
    "___\n",
    "### query\n"
   ]
  },
  {
   "cell_type": "code",
   "execution_count": null,
   "id": "7677e064",
   "metadata": {},
   "outputs": [],
   "source": [
    "query_text = \"\"\"--sql\n",
    "    SELECT\n",
    "        *\n",
    "    FROM db1.metrics_asgard_ch\n",
    "    ORDER BY report_date desc\n",
    "    limit 100\n",
    "    \"\"\"\n",
    "\n",
    "ch.query_run(query_text)\n"
   ]
  },
  {
   "cell_type": "markdown",
   "id": "708577da",
   "metadata": {},
   "source": [
    "### delete a part\n"
   ]
  },
  {
   "cell_type": "code",
   "execution_count": null,
   "id": "3308a160",
   "metadata": {},
   "outputs": [
    {
     "data": {
      "text/html": [
       "<div><style>\n",
       ".dataframe > thead > tr,\n",
       ".dataframe > tbody > tr {\n",
       "  text-align: right;\n",
       "  white-space: pre-wrap;\n",
       "}\n",
       "</style>\n",
       "<small>shape: (0, 0)</small><table border=\"1\" class=\"dataframe\"><thead><tr></tr><tr></tr></thead><tbody></tbody></table></div>"
      ],
      "text/plain": [
       "shape: (0, 0)\n",
       "┌┐\n",
       "╞╡\n",
       "└┘"
      ]
     },
     "metadata": {},
     "output_type": "display_data"
    }
   ],
   "source": [
    "query_text = \"\"\"--sql\n",
    "    ALTER TABLE db1.metrics_asgard_ch DELETE WHERE report_date = '2025-07-17'\n",
    "    \"\"\"\n",
    "\n",
    "ch.query_run(query_text)\n"
   ]
  },
  {
   "cell_type": "markdown",
   "id": "57c93f35",
   "metadata": {},
   "source": [
    "### drop mv"
   ]
  },
  {
   "cell_type": "code",
   "execution_count": 2,
   "id": "dd33cb13",
   "metadata": {},
   "outputs": [
    {
     "data": {
      "text/html": [
       "<div>\n",
       "<style scoped>\n",
       "    .dataframe tbody tr th:only-of-type {\n",
       "        vertical-align: middle;\n",
       "    }\n",
       "\n",
       "    .dataframe tbody tr th {\n",
       "        vertical-align: top;\n",
       "    }\n",
       "\n",
       "    .dataframe thead th {\n",
       "        text-align: right;\n",
       "    }\n",
       "</style>\n",
       "<table border=\"1\" class=\"dataframe\">\n",
       "  <thead>\n",
       "    <tr style=\"text-align: right;\">\n",
       "      <th></th>\n",
       "    </tr>\n",
       "  </thead>\n",
       "  <tbody>\n",
       "  </tbody>\n",
       "</table>\n",
       "</div>"
      ],
      "text/plain": [
       "Empty DataFrame\n",
       "Columns: []\n",
       "Index: []"
      ]
     },
     "execution_count": 2,
     "metadata": {},
     "output_type": "execute_result"
    }
   ],
   "source": [
    "query_text = \"\"\"--sql\n",
    "    DROP TABLE db1.metrics_asgard_mv\n",
    "    \"\"\"\n",
    "\n",
    "ch.query_run(query_text)"
   ]
  },
  {
   "cell_type": "markdown",
   "id": "0d88e38a",
   "metadata": {},
   "source": [
    "\n",
    "### drop ch"
   ]
  },
  {
   "cell_type": "code",
   "execution_count": null,
   "id": "b37333c0",
   "metadata": {},
   "outputs": [],
   "source": [
    "query_text = \"\"\"--sql\n",
    "    DROP TABLE db1.metrics_asgard_mv\n",
    "    \"\"\"\n",
    "\n",
    "ch.query_run(query_text)"
   ]
  },
  {
   "cell_type": "markdown",
   "id": "a88fa639",
   "metadata": {},
   "source": [
    "### refresh mv"
   ]
  },
  {
   "cell_type": "code",
   "execution_count": null,
   "id": "8278b9f7",
   "metadata": {},
   "outputs": [],
   "source": [
    "query_text = \"\"\"\n",
    "SYSTEM REFRESH VIEW db1.metrics_asgard_mv\n",
    "\"\"\"\n",
    "\n",
    "ch.query_run(query_text)"
   ]
  }
 ],
 "metadata": {
  "jupytext": {
   "formats": "ipynb,md"
  },
  "kernelspec": {
   "display_name": "myenv",
   "language": "python",
   "name": "python3"
  },
  "language_info": {
   "codemirror_mode": {
    "name": "ipython",
    "version": 3
   },
   "file_extension": ".py",
   "mimetype": "text/x-python",
   "name": "python",
   "nbconvert_exporter": "python",
   "pygments_lexer": "ipython3",
   "version": "3.13.7"
  }
 },
 "nbformat": 4,
 "nbformat_minor": 5
}

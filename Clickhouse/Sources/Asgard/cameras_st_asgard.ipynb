{
 "cells": [
  {
   "cell_type": "markdown",
   "id": "bef364c1",
   "metadata": {},
   "source": [
    "## Start"
   ]
  },
  {
   "cell_type": "code",
   "execution_count": 1,
   "id": "909bf0ff",
   "metadata": {},
   "outputs": [],
   "source": [
    "import clickhouse_connect\n",
    "import datetime\n",
    "import os\n",
    "import pytz\n",
    "import pandas as pd\n",
    "from dateutil.relativedelta import relativedelta\n",
    "from dotenv import load_dotenv\n",
    "\n",
    "import sys\n",
    "sys.path.append('/home/boris/Documents/Work/analytics/Clickhouse')\n",
    "from clickhouse_client import ClickHouse_client\n",
    "ch = ClickHouse_client()\n",
    "pd.set_option('display.max_rows', 1000)\n",
    "\n"
   ]
  },
  {
   "cell_type": "markdown",
   "id": "193dc098",
   "metadata": {},
   "source": [
    "___\n",
    "### Tags: #Source #Asgard\n",
    "\n",
    "### Links: \n",
    "___"
   ]
  },
  {
   "cell_type": "code",
   "execution_count": null,
   "id": "0e59c5fe",
   "metadata": {},
   "outputs": [],
   "source": [
    "# creating a table from s3\n",
    "\n",
    "query_text = \"\"\"--sql \n",
    "   CREATE TABLE db1.cameras_st_asgard\n",
    "(\n",
    "    `report_date` Date,\n",
    "    `camera_uuid` String,\n",
    "    `camera_dvr_depth` Int16,\n",
    "    `camera_is_permanent_stream` Int16,\n",
    "    `camera_with_intercom` Int16,\n",
    "    `partner_uuid` String,\n",
    "    `camera_fw_version` String,\n",
    "    `camera_model` String,\n",
    "    `camera_streamer` String\n",
    ")\n",
    "ENGINE = S3('https://storage.yandexcloud.net/dwh-asgard/cameras_st_asgard/year=*/month=*/*.csv','CSVWithNames')\n",
    "    \"\"\"\n",
    "\n",
    "ch.query_run(query_text)"
   ]
  },
  {
   "cell_type": "code",
   "execution_count": null,
   "id": "3c7360d0",
   "metadata": {},
   "outputs": [],
   "source": [
    "query_text = \"\"\"--sql\n",
    "    CREATE TABLE db1.cameras_st_asgard_ch\n",
    "(\n",
    "    `report_date` Date,\n",
    "    `camera_uuid` String,\n",
    "    `camera_dvr_depth` Int16,\n",
    "    `camera_is_permanent_stream` Int16,\n",
    "    `camera_with_intercom` Int16,\n",
    "    `partner_uuid` String,\n",
    "    `camera_fw_version` String,\n",
    "    `camera_model` String,\n",
    "    `camera_streamer` String\n",
    ")\n",
    "    ENGINE = MergeTree()\n",
    "    ORDER BY camera_uuid\n",
    "    \"\"\"\n",
    "\n",
    "ch.query_run(query_text)"
   ]
  },
  {
   "cell_type": "code",
   "execution_count": null,
   "id": "e72b9ba3",
   "metadata": {},
   "outputs": [],
   "source": [
    "query_text = \"\"\"--sql\n",
    "    CREATE MATERIALIZED VIEW db1.cameras_st_asgard_mv\n",
    "    REFRESH EVERY 1 DAY OFFSET 3 HOUR RANDOMIZE FOR 1 HOUR TO db1.cameras_st_asgard_ch AS\n",
    "    SELECT\n",
    "        *\n",
    "    FROM db1.cameras_st_asgard\n",
    "    WHERE partner_uuid not like '%main:tokens:%'\n",
    "    \"\"\"\n",
    "\n",
    "ch.query_run(query_text)"
   ]
  },
  {
   "cell_type": "markdown",
   "id": "2f72021b",
   "metadata": {},
   "source": [
    "___\n",
    "## Tools\n",
    "___\n",
    "### query\n"
   ]
  },
  {
   "cell_type": "code",
   "execution_count": 2,
   "id": "a8f4673e",
   "metadata": {},
   "outputs": [
    {
     "data": {
      "text/html": [
       "<div><style>\n",
       ".dataframe > thead > tr,\n",
       ".dataframe > tbody > tr {\n",
       "  text-align: right;\n",
       "  white-space: pre-wrap;\n",
       "}\n",
       "</style>\n",
       "<small>shape: (100, 9)</small><table border=\"1\" class=\"dataframe\"><thead><tr><th>report_date</th><th>camera_uuid</th><th>camera_dvr_depth</th><th>camera_is_permanent_stream</th><th>camera_with_intercom</th><th>partner_uuid</th><th>camera_fw_version</th><th>camera_model</th><th>camera_streamer</th></tr><tr><td>date</td><td>str</td><td>i64</td><td>i64</td><td>i64</td><td>str</td><td>str</td><td>str</td><td>str</td></tr></thead><tbody><tr><td>2025-07-30</td><td>&quot;00143259-456e-4f81-b9c3-439a57…</td><td>0</td><td>0</td><td>1</td><td>&quot;7775bc0f-24e5-4afc-9054-e194c8…</td><td>&quot;&quot;</td><td>&quot;&quot;</td><td>&quot;cameras.sputnik.systems&quot;</td></tr><tr><td>2025-07-30</td><td>&quot;002768ab-1b49-4796-b287-d087dd…</td><td>0</td><td>0</td><td>0</td><td>&quot;0e7236ac-b8bd-4ab0-8634-d165ad…</td><td>&quot;&quot;</td><td>&quot;&quot;</td><td>&quot;cameras.sputnik.systems&quot;</td></tr><tr><td>2025-07-30</td><td>&quot;0029385e-a17c-40d1-8528-2678e0…</td><td>0</td><td>0</td><td>1</td><td>&quot;ba308431-fd0c-4921-a605-9e21c5…</td><td>&quot;&quot;</td><td>&quot;&quot;</td><td>&quot;&quot;</td></tr><tr><td>2025-07-30</td><td>&quot;0001abf7-f735-4962-b5a0-f5ff98…</td><td>0</td><td>0</td><td>1</td><td>&quot;ba308431-fd0c-4921-a605-9e21c5…</td><td>&quot;&quot;</td><td>&quot;&quot;</td><td>&quot;&quot;</td></tr><tr><td>2025-07-30</td><td>&quot;0013d243-1413-4b51-8d96-9f381d…</td><td>0</td><td>0</td><td>1</td><td>&quot;b1782e4f-9198-49d1-b5aa-7bdba9…</td><td>&quot;&quot;</td><td>&quot;&quot;</td><td>&quot;&quot;</td></tr><tr><td>&hellip;</td><td>&hellip;</td><td>&hellip;</td><td>&hellip;</td><td>&hellip;</td><td>&hellip;</td><td>&hellip;</td><td>&hellip;</td><td>&hellip;</td></tr><tr><td>2025-07-30</td><td>&quot;002f62e6-7cf4-4db1-abf1-1caa57…</td><td>3</td><td>1</td><td>1</td><td>&quot;0e7236ac-b8bd-4ab0-8634-d165ad…</td><td>&quot;4.12&quot;</td><td>&quot;MC200J2&quot;</td><td>&quot;msk-v04.sputnik.systems&quot;</td></tr><tr><td>2025-07-30</td><td>&quot;003afa04-8a5f-4e36-beb9-402de9…</td><td>0</td><td>0</td><td>0</td><td>&quot;b1782e4f-9198-49d1-b5aa-7bdba9…</td><td>&quot;5.03&quot;</td><td>&quot;MCJ12&quot;</td><td>&quot;msk-v05.sputnik.systems&quot;</td></tr><tr><td>2025-07-30</td><td>&quot;00484ba6-3a31-43e8-b2ff-e682cc…</td><td>0</td><td>0</td><td>1</td><td>&quot;f1f4d289-beb1-44ad-954b-42a8f0…</td><td>&quot;&quot;</td><td>&quot;&quot;</td><td>&quot;msk-v06.sputnik.systems&quot;</td></tr><tr><td>2025-07-30</td><td>&quot;0031d1a6-9674-457e-8097-580699…</td><td>7</td><td>1</td><td>0</td><td>&quot;6818fe8d-8f5e-4f93-a5d6-8e7ebd…</td><td>&quot;4.12&quot;</td><td>&quot;MCJ10&quot;</td><td>&quot;msk-v03.sputnik.systems&quot;</td></tr><tr><td>2025-07-30</td><td>&quot;00551294-d8b9-4ce8-b685-406c7d…</td><td>7</td><td>1</td><td>1</td><td>&quot;6818fe8d-8f5e-4f93-a5d6-8e7ebd…</td><td>&quot;&quot;</td><td>&quot;&quot;</td><td>&quot;msk-v10.sputnik.systems&quot;</td></tr></tbody></table></div>"
      ],
      "text/plain": [
       "shape: (100, 9)\n",
       "┌───────────┬───────────┬───────────┬───────────┬───┬───────────┬───────────┬───────────┬──────────┐\n",
       "│ report_da ┆ camera_uu ┆ camera_dv ┆ camera_is ┆ … ┆ partner_u ┆ camera_fw ┆ camera_mo ┆ camera_s │\n",
       "│ te        ┆ id        ┆ r_depth   ┆ _permanen ┆   ┆ uid       ┆ _version  ┆ del       ┆ treamer  │\n",
       "│ ---       ┆ ---       ┆ ---       ┆ t_stream  ┆   ┆ ---       ┆ ---       ┆ ---       ┆ ---      │\n",
       "│ date      ┆ str       ┆ i64       ┆ ---       ┆   ┆ str       ┆ str       ┆ str       ┆ str      │\n",
       "│           ┆           ┆           ┆ i64       ┆   ┆           ┆           ┆           ┆          │\n",
       "╞═══════════╪═══════════╪═══════════╪═══════════╪═══╪═══════════╪═══════════╪═══════════╪══════════╡\n",
       "│ 2025-07-3 ┆ 00143259- ┆ 0         ┆ 0         ┆ … ┆ 7775bc0f- ┆           ┆           ┆ cameras. │\n",
       "│ 0         ┆ 456e-4f81 ┆           ┆           ┆   ┆ 24e5-4afc ┆           ┆           ┆ sputnik. │\n",
       "│           ┆ -b9c3-439 ┆           ┆           ┆   ┆ -9054-e19 ┆           ┆           ┆ systems  │\n",
       "│           ┆ a57…      ┆           ┆           ┆   ┆ 4c8…      ┆           ┆           ┆          │\n",
       "│ 2025-07-3 ┆ 002768ab- ┆ 0         ┆ 0         ┆ … ┆ 0e7236ac- ┆           ┆           ┆ cameras. │\n",
       "│ 0         ┆ 1b49-4796 ┆           ┆           ┆   ┆ b8bd-4ab0 ┆           ┆           ┆ sputnik. │\n",
       "│           ┆ -b287-d08 ┆           ┆           ┆   ┆ -8634-d16 ┆           ┆           ┆ systems  │\n",
       "│           ┆ 7dd…      ┆           ┆           ┆   ┆ 5ad…      ┆           ┆           ┆          │\n",
       "│ 2025-07-3 ┆ 0029385e- ┆ 0         ┆ 0         ┆ … ┆ ba308431- ┆           ┆           ┆          │\n",
       "│ 0         ┆ a17c-40d1 ┆           ┆           ┆   ┆ fd0c-4921 ┆           ┆           ┆          │\n",
       "│           ┆ -8528-267 ┆           ┆           ┆   ┆ -a605-9e2 ┆           ┆           ┆          │\n",
       "│           ┆ 8e0…      ┆           ┆           ┆   ┆ 1c5…      ┆           ┆           ┆          │\n",
       "│ 2025-07-3 ┆ 0001abf7- ┆ 0         ┆ 0         ┆ … ┆ ba308431- ┆           ┆           ┆          │\n",
       "│ 0         ┆ f735-4962 ┆           ┆           ┆   ┆ fd0c-4921 ┆           ┆           ┆          │\n",
       "│           ┆ -b5a0-f5f ┆           ┆           ┆   ┆ -a605-9e2 ┆           ┆           ┆          │\n",
       "│           ┆ f98…      ┆           ┆           ┆   ┆ 1c5…      ┆           ┆           ┆          │\n",
       "│ 2025-07-3 ┆ 0013d243- ┆ 0         ┆ 0         ┆ … ┆ b1782e4f- ┆           ┆           ┆          │\n",
       "│ 0         ┆ 1413-4b51 ┆           ┆           ┆   ┆ 9198-49d1 ┆           ┆           ┆          │\n",
       "│           ┆ -8d96-9f3 ┆           ┆           ┆   ┆ -b5aa-7bd ┆           ┆           ┆          │\n",
       "│           ┆ 81d…      ┆           ┆           ┆   ┆ ba9…      ┆           ┆           ┆          │\n",
       "│ …         ┆ …         ┆ …         ┆ …         ┆ … ┆ …         ┆ …         ┆ …         ┆ …        │\n",
       "│ 2025-07-3 ┆ 002f62e6- ┆ 3         ┆ 1         ┆ … ┆ 0e7236ac- ┆ 4.12      ┆ MC200J2   ┆ msk-v04. │\n",
       "│ 0         ┆ 7cf4-4db1 ┆           ┆           ┆   ┆ b8bd-4ab0 ┆           ┆           ┆ sputnik. │\n",
       "│           ┆ -abf1-1ca ┆           ┆           ┆   ┆ -8634-d16 ┆           ┆           ┆ systems  │\n",
       "│           ┆ a57…      ┆           ┆           ┆   ┆ 5ad…      ┆           ┆           ┆          │\n",
       "│ 2025-07-3 ┆ 003afa04- ┆ 0         ┆ 0         ┆ … ┆ b1782e4f- ┆ 5.03      ┆ MCJ12     ┆ msk-v05. │\n",
       "│ 0         ┆ 8a5f-4e36 ┆           ┆           ┆   ┆ 9198-49d1 ┆           ┆           ┆ sputnik. │\n",
       "│           ┆ -beb9-402 ┆           ┆           ┆   ┆ -b5aa-7bd ┆           ┆           ┆ systems  │\n",
       "│           ┆ de9…      ┆           ┆           ┆   ┆ ba9…      ┆           ┆           ┆          │\n",
       "│ 2025-07-3 ┆ 00484ba6- ┆ 0         ┆ 0         ┆ … ┆ f1f4d289- ┆           ┆           ┆ msk-v06. │\n",
       "│ 0         ┆ 3a31-43e8 ┆           ┆           ┆   ┆ beb1-44ad ┆           ┆           ┆ sputnik. │\n",
       "│           ┆ -b2ff-e68 ┆           ┆           ┆   ┆ -954b-42a ┆           ┆           ┆ systems  │\n",
       "│           ┆ 2cc…      ┆           ┆           ┆   ┆ 8f0…      ┆           ┆           ┆          │\n",
       "│ 2025-07-3 ┆ 0031d1a6- ┆ 7         ┆ 1         ┆ … ┆ 6818fe8d- ┆ 4.12      ┆ MCJ10     ┆ msk-v03. │\n",
       "│ 0         ┆ 9674-457e ┆           ┆           ┆   ┆ 8f5e-4f93 ┆           ┆           ┆ sputnik. │\n",
       "│           ┆ -8097-580 ┆           ┆           ┆   ┆ -a5d6-8e7 ┆           ┆           ┆ systems  │\n",
       "│           ┆ 699…      ┆           ┆           ┆   ┆ ebd…      ┆           ┆           ┆          │\n",
       "│ 2025-07-3 ┆ 00551294- ┆ 7         ┆ 1         ┆ … ┆ 6818fe8d- ┆           ┆           ┆ msk-v10. │\n",
       "│ 0         ┆ d8b9-4ce8 ┆           ┆           ┆   ┆ 8f5e-4f93 ┆           ┆           ┆ sputnik. │\n",
       "│           ┆ -b685-406 ┆           ┆           ┆   ┆ -a5d6-8e7 ┆           ┆           ┆ systems  │\n",
       "│           ┆ c7d…      ┆           ┆           ┆   ┆ ebd…      ┆           ┆           ┆          │\n",
       "└───────────┴───────────┴───────────┴───────────┴───┴───────────┴───────────┴───────────┴──────────┘"
      ]
     },
     "execution_count": 2,
     "metadata": {},
     "output_type": "execute_result"
    }
   ],
   "source": [
    "query_text = \"\"\"--sql\n",
    "    SELECT\n",
    "        *\n",
    "    FROM db1.cameras_st_asgard_ch\n",
    "    ORDER BY report_date desc\n",
    "    limit 100\n",
    "    \"\"\"\n",
    "\n",
    "ch.query_run(query_text)\n"
   ]
  },
  {
   "cell_type": "markdown",
   "id": "efad729e",
   "metadata": {},
   "source": [
    "### delete a part\n"
   ]
  },
  {
   "cell_type": "code",
   "execution_count": null,
   "id": "d273ab45",
   "metadata": {},
   "outputs": [
    {
     "data": {
      "text/html": [
       "<div><style>\n",
       ".dataframe > thead > tr,\n",
       ".dataframe > tbody > tr {\n",
       "  text-align: right;\n",
       "  white-space: pre-wrap;\n",
       "}\n",
       "</style>\n",
       "<small>shape: (0, 0)</small><table border=\"1\" class=\"dataframe\"><thead><tr></tr><tr></tr></thead><tbody></tbody></table></div>"
      ],
      "text/plain": [
       "shape: (0, 0)\n",
       "┌┐\n",
       "╞╡\n",
       "└┘"
      ]
     },
     "metadata": {},
     "output_type": "display_data"
    }
   ],
   "source": [
    "query_text = \"\"\"--sql\n",
    "    ALTER TABLE db1.cameras_st_asgard_ch DELETE WHERE report_date = '2025-07-17'\n",
    "    \"\"\"\n",
    "\n",
    "ch.query_run(query_text)\n"
   ]
  },
  {
   "cell_type": "markdown",
   "id": "ae407501",
   "metadata": {},
   "source": [
    "### drop mv"
   ]
  },
  {
   "cell_type": "code",
   "execution_count": null,
   "id": "782af8ed",
   "metadata": {
    "lines_to_next_cell": 2
   },
   "outputs": [],
   "source": [
    "query_text = \"\"\"--sql\n",
    "    DROP TABLE db1.cameras_st_asgard_mv\n",
    "    \"\"\"\n",
    "\n",
    "ch.query_run(query_text)"
   ]
  },
  {
   "cell_type": "markdown",
   "id": "3aa7ff3c",
   "metadata": {},
   "source": [
    "### drop ch"
   ]
  },
  {
   "cell_type": "code",
   "execution_count": null,
   "id": "64e3716b",
   "metadata": {},
   "outputs": [],
   "source": [
    "query_text = \"\"\"--sql\n",
    "    DROP TABLE db1.cameras_st_asgard_ch\n",
    "    \"\"\"\n",
    "\n",
    "ch.query_run(query_text)"
   ]
  },
  {
   "cell_type": "markdown",
   "id": "8b70fc2d",
   "metadata": {},
   "source": [
    "### refresh mv"
   ]
  },
  {
   "cell_type": "code",
   "execution_count": null,
   "id": "8d36736f",
   "metadata": {},
   "outputs": [],
   "source": [
    "query_text = \"\"\"\n",
    "SYSTEM REFRESH VIEW db1.cameras_st_asgard_mv\n",
    "\"\"\"\n",
    "\n",
    "ch.query_run(query_text)"
   ]
  }
 ],
 "metadata": {
  "jupytext": {
   "formats": "ipynb,md"
  },
  "kernelspec": {
   "display_name": "myenv",
   "language": "python",
   "name": "python3"
  },
  "language_info": {
   "codemirror_mode": {
    "name": "ipython",
    "version": 3
   },
   "file_extension": ".py",
   "mimetype": "text/x-python",
   "name": "python",
   "nbconvert_exporter": "python",
   "pygments_lexer": "ipython3",
   "version": "3.12.11"
  }
 },
 "nbformat": 4,
 "nbformat_minor": 5
}

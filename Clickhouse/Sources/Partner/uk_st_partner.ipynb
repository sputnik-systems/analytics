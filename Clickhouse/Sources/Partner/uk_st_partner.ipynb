{
 "cells": [
  {
   "cell_type": "markdown",
   "id": "423055f3",
   "metadata": {},
   "source": [
    "## Start"
   ]
  },
  {
   "cell_type": "code",
   "execution_count": 1,
   "id": "0c9306c6",
   "metadata": {},
   "outputs": [],
   "source": [
    "import clickhouse_connect\n",
    "import datetime\n",
    "import os\n",
    "import pytz\n",
    "import pandas as pd\n",
    "from dateutil.relativedelta import relativedelta\n",
    "from dotenv import load_dotenv\n",
    "\n",
    "import sys\n",
    "sys.path.append('/home/boris/Documents/Work/analytics/Clickhouse')\n",
    "from clickhouse_client import ClickHouse_client\n",
    "ch = ClickHouse_client()\n",
    "pd.set_option('display.max_rows', 1000)\n",
    "\n"
   ]
  },
  {
   "cell_type": "markdown",
   "id": "c9b5515a",
   "metadata": {},
   "source": [
    "___\n",
    "### Tags: #Source #Partner\n",
    "\n",
    "### Links: \n",
    "___"
   ]
  },
  {
   "cell_type": "code",
   "execution_count": null,
   "id": "644bfeee",
   "metadata": {},
   "outputs": [],
   "source": [
    "# creating a table from s3\n",
    "\n",
    "query_text = \"\"\"--sql\n",
    "    CREATE TABLE db1.uk_st_partner\n",
    "    (\n",
    "        `partner_uuid` String,\n",
    "        `business_partner_uuid`  String,\n",
    "        `updated_at` DateTime,\n",
    "        `partner_uk_email` String,\n",
    "        `report_date` Date\n",
    "    )\n",
    "    ENGINE = S3('https://storage.yandexcloud.net/dwh-asgard/uk_st_partner/year=*/month=*/*.csv','CSVWithNames')\n",
    "    \"\"\"\n",
    "\n",
    "ch.query_run(query_text)"
   ]
  },
  {
   "cell_type": "code",
   "execution_count": null,
   "id": "345838a4",
   "metadata": {},
   "outputs": [],
   "source": [
    "# creating a table for materialized view\n",
    "\n",
    "query_text = \"\"\"--sql\n",
    "    CREATE TABLE db1.uk_st_partner_ch\n",
    "    (\n",
    "        `partner_uuid` String,\n",
    "        `business_partner_uuid` String,\n",
    "        `updated_at` DateTime,\n",
    "        `partner_uk_email` String,\n",
    "        `report_date` Date\n",
    "    )\n",
    "    ENGINE = MergeTree()\n",
    "    ORDER BY partner_uuid\n",
    "    \"\"\"\n",
    "\n",
    "ch.query_run(query_text)"
   ]
  },
  {
   "cell_type": "code",
   "execution_count": null,
   "id": "7ff3bf1d",
   "metadata": {},
   "outputs": [],
   "source": [
    "# creating a materialized view\n",
    "\n",
    "query_text = \"\"\"--sql\n",
    "    CREATE MATERIALIZED VIEW db1.uk_st_partner_mv\n",
    "    REFRESH EVERY 1 DAY OFFSET 3 HOUR RANDOMIZE FOR 1 HOUR TO db1.uk_st_partner_ch AS\n",
    "    SELECT\n",
    "        *\n",
    "    FROM db1.uk_st_partner\n",
    "    \"\"\"\n",
    "\n",
    "ch.query_run(query_text)"
   ]
  },
  {
   "cell_type": "markdown",
   "id": "fec58f0a",
   "metadata": {},
   "source": [
    "___\n",
    "## Tools\n",
    "___\n",
    "### query"
   ]
  },
  {
   "cell_type": "code",
   "execution_count": 2,
   "id": "55f091d6",
   "metadata": {},
   "outputs": [
    {
     "data": {
      "text/html": [
       "<div><style>\n",
       ".dataframe > thead > tr,\n",
       ".dataframe > tbody > tr {\n",
       "  text-align: right;\n",
       "  white-space: pre-wrap;\n",
       "}\n",
       "</style>\n",
       "<small>shape: (2, 5)</small><table border=\"1\" class=\"dataframe\"><thead><tr><th>partner_uuid</th><th>business_partner_uuid</th><th>updated_at</th><th>partner_uk_email</th><th>report_date</th></tr><tr><td>str</td><td>str</td><td>datetime[ns]</td><td>str</td><td>date</td></tr></thead><tbody><tr><td>&quot;0076e1b0-72c3-4783-9306-93d299…</td><td>&quot;2ac02900-f143-4412-8f8c-df41ce…</td><td>2024-03-06 02:42:16</td><td>&quot;zhilcom03sputnik@mail.ru&quot;</td><td>2024-10-01</td></tr><tr><td>&quot;0076e1b0-72c3-4783-9306-93d299…</td><td>&quot;2ac02900-f143-4412-8f8c-df41ce…</td><td>2024-03-06 02:42:16</td><td>&quot;zhilcom03sputnik@mail.ru&quot;</td><td>2024-10-10</td></tr></tbody></table></div>"
      ],
      "text/plain": [
       "shape: (2, 5)\n",
       "┌───────────────────────┬──────────────────────┬──────────────┬──────────────────────┬─────────────┐\n",
       "│ partner_uuid          ┆ business_partner_uui ┆ updated_at   ┆ partner_uk_email     ┆ report_date │\n",
       "│ ---                   ┆ d                    ┆ ---          ┆ ---                  ┆ ---         │\n",
       "│ str                   ┆ ---                  ┆ datetime[ns] ┆ str                  ┆ date        │\n",
       "│                       ┆ str                  ┆              ┆                      ┆             │\n",
       "╞═══════════════════════╪══════════════════════╪══════════════╪══════════════════════╪═════════════╡\n",
       "│ 0076e1b0-72c3-4783-93 ┆ 2ac02900-f143-4412-8 ┆ 2024-03-06   ┆ zhilcom03sputnik@mai ┆ 2024-10-01  │\n",
       "│ 06-93d299…            ┆ f8c-df41ce…          ┆ 02:42:16     ┆ l.ru                 ┆             │\n",
       "│ 0076e1b0-72c3-4783-93 ┆ 2ac02900-f143-4412-8 ┆ 2024-03-06   ┆ zhilcom03sputnik@mai ┆ 2024-10-10  │\n",
       "│ 06-93d299…            ┆ f8c-df41ce…          ┆ 02:42:16     ┆ l.ru                 ┆             │\n",
       "└───────────────────────┴──────────────────────┴──────────────┴──────────────────────┴─────────────┘"
      ]
     },
     "execution_count": 2,
     "metadata": {},
     "output_type": "execute_result"
    }
   ],
   "source": [
    "query_text = \"\"\"--sql\n",
    "    SELECT\n",
    "        *\n",
    "    FROM db1.uk_st_partner_ch\n",
    "    LIMIT 2\n",
    "    \"\"\"\n",
    "\n",
    "ch.query_run(query_text)"
   ]
  },
  {
   "cell_type": "markdown",
   "id": "46a120ec",
   "metadata": {},
   "source": [
    "### Drop ch"
   ]
  },
  {
   "cell_type": "code",
   "execution_count": null,
   "id": "07e95abd",
   "metadata": {},
   "outputs": [],
   "source": [
    "query_text = \"\"\"\n",
    "    DROP TABLE db1.uk_st_partner_ch\n",
    "    \"\"\"\n",
    "ch.query_run(query_text)"
   ]
  },
  {
   "cell_type": "markdown",
   "id": "94e2244c",
   "metadata": {},
   "source": [
    "### Drop mv"
   ]
  },
  {
   "cell_type": "code",
   "execution_count": null,
   "id": "c054c327",
   "metadata": {},
   "outputs": [],
   "source": [
    "query_text = \"\"\"\n",
    "    DROP TABLE db1.uk_st_partner_mv\n",
    "    \"\"\"\n",
    "ch.query_run(query_text)"
   ]
  }
 ],
 "metadata": {
  "jupytext": {
   "formats": "ipynb,md"
  },
  "kernelspec": {
   "display_name": "myenv",
   "language": "python",
   "name": "python3"
  },
  "language_info": {
   "codemirror_mode": {
    "name": "ipython",
    "version": 3
   },
   "file_extension": ".py",
   "mimetype": "text/x-python",
   "name": "python",
   "nbconvert_exporter": "python",
   "pygments_lexer": "ipython3",
   "version": "3.12.11"
  }
 },
 "nbformat": 4,
 "nbformat_minor": 5
}

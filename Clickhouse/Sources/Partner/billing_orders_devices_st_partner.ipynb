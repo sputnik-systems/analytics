{
 "cells": [
  {
   "cell_type": "markdown",
   "id": "cb4dfc6a",
   "metadata": {},
   "source": [
    "## Start"
   ]
  },
  {
   "cell_type": "code",
   "execution_count": 1,
   "id": "f0732478",
   "metadata": {},
   "outputs": [],
   "source": [
    "import clickhouse_connect\n",
    "import datetime\n",
    "import os\n",
    "import pytz\n",
    "import pandas as pd\n",
    "from dateutil.relativedelta import relativedelta\n",
    "from dotenv import load_dotenv\n",
    "\n",
    "import sys\n",
    "sys.path.append('/home/boris/Documents/Work/analytics/Clickhouse')\n",
    "from clickhouse_client import ClickHouse_client\n",
    "ch = ClickHouse_client()\n",
    "pd.set_option('display.max_rows', 1000)"
   ]
  },
  {
   "cell_type": "markdown",
   "id": "0668d4ee",
   "metadata": {},
   "source": [
    "___\n",
    "### Tags: #Source #Partner\n",
    "\n",
    "### Links: \n",
    "___"
   ]
  },
  {
   "cell_type": "code",
   "execution_count": null,
   "id": "7ffe653c",
   "metadata": {},
   "outputs": [],
   "source": [
    "# creating a table from s3\n",
    "\n",
    "query_text = \"\"\"--sql \n",
    "    CREATE TABLE db1.billing_orders_devices_st_partner\n",
    "    (   \n",
    "        `billing_account_id` Int64,\n",
    "        `cost` Float64,\n",
    "        `count` Int64,\n",
    "        `created_at` DateTime,\n",
    "        `device_type` String,\n",
    "        `device_uuid` String,\n",
    "        `partner_uuid` String,\n",
    "        `report_date` Date,\n",
    "        `service` String,\n",
    "        `state` String,\n",
    "        `total` Float64\n",
    "    )\n",
    "    ENGINE = S3('https://storage.yandexcloud.net/dwh-asgard/billing_orders_devices_st_partner/year=*/month=*/*.csv','CSVWithNames')\n",
    "    PARTITION BY billing_account_id\n",
    "    \"\"\"\n",
    "\n",
    "ch.query_run(query_text)"
   ]
  },
  {
   "cell_type": "code",
   "execution_count": null,
   "id": "4e6cbe3d",
   "metadata": {},
   "outputs": [],
   "source": [
    "query_text = \"\"\"--sql\n",
    "    CREATE TABLE db1.billing_orders_devices_st_partner_ch\n",
    "    (   \n",
    "        `billing_account_id` Int64,\n",
    "        `cost` Float64,\n",
    "        `count` Int64,\n",
    "        `created_at` DateTime,\n",
    "        `device_type` String,\n",
    "        `device_uuid` String,\n",
    "        `partner_uuid` String,\n",
    "        `report_date` Date,\n",
    "        `service` String,\n",
    "        `state` String,\n",
    "        `total` Float64\n",
    "    )\n",
    "    ENGINE = MergeTree()\n",
    "    ORDER BY partner_uuid\n",
    "    \"\"\"\n",
    "\n",
    "ch.query_run(query_text)"
   ]
  },
  {
   "cell_type": "code",
   "execution_count": null,
   "id": "ae726b27",
   "metadata": {},
   "outputs": [],
   "source": [
    "query_text = \"\"\"--sql\n",
    "    CREATE MATERIALIZED VIEW db1.billing_orders_devices_st_partner_mv\n",
    "    REFRESH EVERY 1 DAY OFFSET 4 HOUR RANDOMIZE FOR 1 HOUR TO db1.billing_orders_devices_st_partner_ch AS\n",
    "    SELECT\n",
    "        *\n",
    "    FROM db1.billing_orders_devices_st_partner\n",
    "    \"\"\"\n",
    "\n",
    "ch.query_run(query_text)"
   ]
  },
  {
   "cell_type": "markdown",
   "id": "24d59519",
   "metadata": {},
   "source": [
    "___\n",
    "## Tools\n",
    "___\n",
    "### query\n"
   ]
  },
  {
   "cell_type": "code",
   "execution_count": 2,
   "id": "c7bbef3c",
   "metadata": {},
   "outputs": [
    {
     "data": {
      "text/html": [
       "<div><style>\n",
       ".dataframe > thead > tr,\n",
       ".dataframe > tbody > tr {\n",
       "  text-align: right;\n",
       "  white-space: pre-wrap;\n",
       "}\n",
       "</style>\n",
       "<small>shape: (100, 11)</small><table border=\"1\" class=\"dataframe\"><thead><tr><th>billing_account_id</th><th>cost</th><th>count</th><th>created_at</th><th>device_type</th><th>device_uuid</th><th>partner_uuid</th><th>report_date</th><th>service</th><th>state</th><th>total</th></tr><tr><td>i64</td><td>f64</td><td>i64</td><td>datetime[ns]</td><td>str</td><td>str</td><td>str</td><td>date</td><td>str</td><td>str</td><td>f64</td></tr></thead><tbody><tr><td>3213</td><td>0.0</td><td>1</td><td>2025-07-30 02:06:22</td><td>&quot;intercom&quot;</td><td>&quot;b58382c9-1aa8-4949-8460-c2d49c…</td><td>&quot;00ec6d8e-a799-409c-958b-9472a1…</td><td>2025-07-30</td><td>&quot;start&quot;</td><td>&quot;success&quot;</td><td>0.0</td></tr><tr><td>8949</td><td>0.0</td><td>1</td><td>2025-07-30 02:06:22</td><td>&quot;intercom&quot;</td><td>&quot;91d26f60-265b-4a48-968b-bdc2a0…</td><td>&quot;00c45794-0060-4b37-88bf-3b8dff…</td><td>2025-07-30</td><td>&quot;start&quot;</td><td>&quot;success&quot;</td><td>0.0</td></tr><tr><td>8949</td><td>0.0</td><td>1</td><td>2025-07-30 02:06:22</td><td>&quot;intercom&quot;</td><td>&quot;46f2ee42-a531-4a63-9916-209a48…</td><td>&quot;00c45794-0060-4b37-88bf-3b8dff…</td><td>2025-07-30</td><td>&quot;start&quot;</td><td>&quot;success&quot;</td><td>0.0</td></tr><tr><td>8949</td><td>0.0</td><td>1</td><td>2025-07-30 02:06:22</td><td>&quot;intercom&quot;</td><td>&quot;c6a723e0-d7da-4886-bd5f-600d91…</td><td>&quot;00c45794-0060-4b37-88bf-3b8dff…</td><td>2025-07-30</td><td>&quot;start&quot;</td><td>&quot;success&quot;</td><td>0.0</td></tr><tr><td>8949</td><td>0.0</td><td>1</td><td>2025-07-30 02:06:22</td><td>&quot;intercom&quot;</td><td>&quot;6ee0e705-75fb-4048-8012-5200b9…</td><td>&quot;00c45794-0060-4b37-88bf-3b8dff…</td><td>2025-07-30</td><td>&quot;start&quot;</td><td>&quot;success&quot;</td><td>0.0</td></tr><tr><td>&hellip;</td><td>&hellip;</td><td>&hellip;</td><td>&hellip;</td><td>&hellip;</td><td>&hellip;</td><td>&hellip;</td><td>&hellip;</td><td>&hellip;</td><td>&hellip;</td><td>&hellip;</td></tr><tr><td>5850</td><td>2.7</td><td>1</td><td>2025-07-30 02:00:50</td><td>&quot;intercom&quot;</td><td>&quot;49b284c4-d18e-48e0-857b-0fc013…</td><td>&quot;010cd1e6-7f7b-4613-9209-96b28d…</td><td>2025-07-30</td><td>&quot;pro&quot;</td><td>&quot;success&quot;</td><td>2.7</td></tr><tr><td>5850</td><td>2.7</td><td>1</td><td>2025-07-30 02:00:50</td><td>&quot;intercom&quot;</td><td>&quot;696029a0-d707-4595-acc5-a571c6…</td><td>&quot;010cd1e6-7f7b-4613-9209-96b28d…</td><td>2025-07-30</td><td>&quot;pro&quot;</td><td>&quot;success&quot;</td><td>2.7</td></tr><tr><td>5850</td><td>2.7</td><td>1</td><td>2025-07-30 02:00:50</td><td>&quot;intercom&quot;</td><td>&quot;ae53cdd1-759c-4ff6-a955-c1240a…</td><td>&quot;010cd1e6-7f7b-4613-9209-96b28d…</td><td>2025-07-30</td><td>&quot;pro&quot;</td><td>&quot;success&quot;</td><td>2.7</td></tr><tr><td>5850</td><td>2.7</td><td>1</td><td>2025-07-30 02:00:50</td><td>&quot;intercom&quot;</td><td>&quot;61b52eb2-96de-46fc-bf93-9d1acf…</td><td>&quot;010cd1e6-7f7b-4613-9209-96b28d…</td><td>2025-07-30</td><td>&quot;pro&quot;</td><td>&quot;success&quot;</td><td>2.7</td></tr><tr><td>5850</td><td>2.7</td><td>1</td><td>2025-07-30 02:00:49</td><td>&quot;intercom&quot;</td><td>&quot;c929a87c-36e1-4905-83db-ccd4bd…</td><td>&quot;010cd1e6-7f7b-4613-9209-96b28d…</td><td>2025-07-30</td><td>&quot;pro&quot;</td><td>&quot;success&quot;</td><td>2.7</td></tr></tbody></table></div>"
      ],
      "text/plain": [
       "shape: (100, 11)\n",
       "┌──────────────────────┬──────┬───────┬──────────────┬───┬─────────────┬─────────┬─────────┬───────┐\n",
       "│ billing_account_id   ┆ cost ┆ count ┆ created_at   ┆ … ┆ report_date ┆ service ┆ state   ┆ total │\n",
       "│ ---                  ┆ ---  ┆ ---   ┆ ---          ┆   ┆ ---         ┆ ---     ┆ ---     ┆ ---   │\n",
       "│ i64                  ┆ f64  ┆ i64   ┆ datetime[ns] ┆   ┆ date        ┆ str     ┆ str     ┆ f64   │\n",
       "╞══════════════════════╪══════╪═══════╪══════════════╪═══╪═════════════╪═════════╪═════════╪═══════╡\n",
       "│ 3213                 ┆ 0.0  ┆ 1     ┆ 2025-07-30   ┆ … ┆ 2025-07-30  ┆ start   ┆ success ┆ 0.0   │\n",
       "│                      ┆      ┆       ┆ 02:06:22     ┆   ┆             ┆         ┆         ┆       │\n",
       "│ 8949                 ┆ 0.0  ┆ 1     ┆ 2025-07-30   ┆ … ┆ 2025-07-30  ┆ start   ┆ success ┆ 0.0   │\n",
       "│                      ┆      ┆       ┆ 02:06:22     ┆   ┆             ┆         ┆         ┆       │\n",
       "│ 8949                 ┆ 0.0  ┆ 1     ┆ 2025-07-30   ┆ … ┆ 2025-07-30  ┆ start   ┆ success ┆ 0.0   │\n",
       "│                      ┆      ┆       ┆ 02:06:22     ┆   ┆             ┆         ┆         ┆       │\n",
       "│ 8949                 ┆ 0.0  ┆ 1     ┆ 2025-07-30   ┆ … ┆ 2025-07-30  ┆ start   ┆ success ┆ 0.0   │\n",
       "│                      ┆      ┆       ┆ 02:06:22     ┆   ┆             ┆         ┆         ┆       │\n",
       "│ 8949                 ┆ 0.0  ┆ 1     ┆ 2025-07-30   ┆ … ┆ 2025-07-30  ┆ start   ┆ success ┆ 0.0   │\n",
       "│                      ┆      ┆       ┆ 02:06:22     ┆   ┆             ┆         ┆         ┆       │\n",
       "│ …                    ┆ …    ┆ …     ┆ …            ┆ … ┆ …           ┆ …       ┆ …       ┆ …     │\n",
       "│ 5850                 ┆ 2.7  ┆ 1     ┆ 2025-07-30   ┆ … ┆ 2025-07-30  ┆ pro     ┆ success ┆ 2.7   │\n",
       "│                      ┆      ┆       ┆ 02:00:50     ┆   ┆             ┆         ┆         ┆       │\n",
       "│ 5850                 ┆ 2.7  ┆ 1     ┆ 2025-07-30   ┆ … ┆ 2025-07-30  ┆ pro     ┆ success ┆ 2.7   │\n",
       "│                      ┆      ┆       ┆ 02:00:50     ┆   ┆             ┆         ┆         ┆       │\n",
       "│ 5850                 ┆ 2.7  ┆ 1     ┆ 2025-07-30   ┆ … ┆ 2025-07-30  ┆ pro     ┆ success ┆ 2.7   │\n",
       "│                      ┆      ┆       ┆ 02:00:50     ┆   ┆             ┆         ┆         ┆       │\n",
       "│ 5850                 ┆ 2.7  ┆ 1     ┆ 2025-07-30   ┆ … ┆ 2025-07-30  ┆ pro     ┆ success ┆ 2.7   │\n",
       "│                      ┆      ┆       ┆ 02:00:50     ┆   ┆             ┆         ┆         ┆       │\n",
       "│ 5850                 ┆ 2.7  ┆ 1     ┆ 2025-07-30   ┆ … ┆ 2025-07-30  ┆ pro     ┆ success ┆ 2.7   │\n",
       "│                      ┆      ┆       ┆ 02:00:49     ┆   ┆             ┆         ┆         ┆       │\n",
       "└──────────────────────┴──────┴───────┴──────────────┴───┴─────────────┴─────────┴─────────┴───────┘"
      ]
     },
     "execution_count": 2,
     "metadata": {},
     "output_type": "execute_result"
    }
   ],
   "source": [
    "query_text = \"\"\"--sql\n",
    "    SELECT\n",
    "        *\n",
    "    FROM db1.billing_orders_devices_st_partner_ch\n",
    "    ORDER BY report_date desc\n",
    "    limit 100\n",
    "    \"\"\"\n",
    "\n",
    "ch.query_run(query_text)\n"
   ]
  },
  {
   "cell_type": "markdown",
   "id": "9347cae3",
   "metadata": {},
   "source": [
    "### delete a part\n"
   ]
  },
  {
   "cell_type": "code",
   "execution_count": null,
   "id": "5dd51f85",
   "metadata": {},
   "outputs": [
    {
     "data": {
      "text/html": [
       "<div><style>\n",
       ".dataframe > thead > tr,\n",
       ".dataframe > tbody > tr {\n",
       "  text-align: right;\n",
       "  white-space: pre-wrap;\n",
       "}\n",
       "</style>\n",
       "<small>shape: (0, 0)</small><table border=\"1\" class=\"dataframe\"><thead><tr></tr><tr></tr></thead><tbody></tbody></table></div>"
      ],
      "text/plain": [
       "shape: (0, 0)\n",
       "┌┐\n",
       "╞╡\n",
       "└┘"
      ]
     },
     "metadata": {},
     "output_type": "display_data"
    }
   ],
   "source": [
    "query_text = \"\"\"--sql\n",
    "    ALTER TABLE db1.billing_orders_devices_st_partner_ch DELETE WHERE report_date = '2025-07-17'\n",
    "    \"\"\"\n",
    "\n",
    "ch.query_run(query_text)\n"
   ]
  },
  {
   "cell_type": "markdown",
   "id": "64dbcc52",
   "metadata": {},
   "source": [
    "### drop mv"
   ]
  },
  {
   "cell_type": "code",
   "execution_count": null,
   "id": "cbb343fd",
   "metadata": {
    "lines_to_next_cell": 2
   },
   "outputs": [],
   "source": [
    "query_text = \"\"\"--sql\n",
    "    DROP TABLE db1.billing_orders_devices_st_partner_mv\n",
    "    \"\"\"\n",
    "\n",
    "ch.query_run(query_text)"
   ]
  },
  {
   "cell_type": "markdown",
   "id": "81fef145",
   "metadata": {},
   "source": [
    "### drop ch"
   ]
  },
  {
   "cell_type": "code",
   "execution_count": null,
   "id": "571aa4cc",
   "metadata": {},
   "outputs": [],
   "source": [
    "query_text = \"\"\"--sql\n",
    "    DROP TABLE db1.billing_orders_devices_st_partner_ch\n",
    "    \"\"\"\n",
    "\n",
    "ch.query_run(query_text)"
   ]
  },
  {
   "cell_type": "markdown",
   "id": "4ded4975",
   "metadata": {},
   "source": [
    "### refresh mv"
   ]
  },
  {
   "cell_type": "code",
   "execution_count": null,
   "id": "2209f71c",
   "metadata": {},
   "outputs": [],
   "source": [
    "query_text = \"\"\"\n",
    "SYSTEM REFRESH VIEW db1.billing_orders_devices_st_partner_mv\n",
    "\"\"\"\n",
    "\n",
    "ch.query_run(query_text)"
   ]
  }
 ],
 "metadata": {
  "jupytext": {
   "formats": "ipynb,md"
  },
  "kernelspec": {
   "display_name": "myenv",
   "language": "python",
   "name": "python3"
  },
  "language_info": {
   "codemirror_mode": {
    "name": "ipython",
    "version": 3
   },
   "file_extension": ".py",
   "mimetype": "text/x-python",
   "name": "python",
   "nbconvert_exporter": "python",
   "pygments_lexer": "ipython3",
   "version": "3.12.11"
  }
 },
 "nbformat": 4,
 "nbformat_minor": 5
}

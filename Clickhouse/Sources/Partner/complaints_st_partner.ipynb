{
 "cells": [
  {
   "cell_type": "markdown",
   "id": "77a2431a",
   "metadata": {},
   "source": [
    "## Start"
   ]
  },
  {
   "cell_type": "code",
   "execution_count": 2,
   "id": "8e7dfaed",
   "metadata": {},
   "outputs": [],
   "source": [
    "import clickhouse_connect\n",
    "import datetime\n",
    "import os\n",
    "import pytz\n",
    "import pandas as pd\n",
    "from dateutil.relativedelta import relativedelta\n",
    "from dotenv import load_dotenv\n",
    "\n",
    "import sys\n",
    "sys.path.append('/home/boris/Documents/Work/analytics/Clickhouse')\n",
    "from clickhouse_client import ClickHouse_client\n",
    "ch = ClickHouse_client()\n",
    "pd.set_option('display.max_rows', 1000)\n",
    "\n"
   ]
  },
  {
   "cell_type": "markdown",
   "id": "ea89732c",
   "metadata": {},
   "source": [
    "___\n",
    "### Tags: #Source #Partner\n",
    "\n",
    "### Links: \n",
    "___"
   ]
  },
  {
   "cell_type": "markdown",
   "id": "ef7e629d",
   "metadata": {},
   "source": [
    "[\"id\",                                                                                           \n",
    " \"issue_id\", - это на будущее,  когда будет группировка жалоб по ишьб                                                                                    \n",
    " \"src_type\", какая сущность пожаловалсь (Citizen/Camera/Intercom)                                                                             \n",
    " \"src_uuid\", - uuid этой сущности                                                                                 \n",
    " \"src_address_uuid\", - адрес этой сущности                                                                      \n",
    " \"src_address_type\",     адрес этой сущности                                                                        \n",
    " \"device_uuid\", - uuid устройтсва на которое жалуется сущность                                                                              \n",
    " \"device_type\",                                                                \n",
    " \"err_code\", код ошибки intercom_offline / video / no_intercom                                                                           \n",
    " \"err_src\", откуда пришло MOB (мобилка) / WEB (веб интерфейсы для партнеров) / API (бэк )/ DEV (устройство)                                                                              \n",
    " \"err_func\",  sync (там еще будет)                                                                                   \n",
    " \"aasm_state\",  - статус жалобы pending / processed / failed                                                                             \n",
    " \"process_error\", - ошибка если статус failed                                                                           \n",
    " \"actor_type\", - какой живой человек с сердцем пожаловался или авто система (будет либо Citizen, Partner, auto)\n",
    " \"actor_identifier\", - uuid / id актера\n",
    " \"created_at\",\n",
    " \"updated_at\"]"
   ]
  },
  {
   "cell_type": "code",
   "execution_count": 7,
   "id": "7c9f93f4",
   "metadata": {},
   "outputs": [
    {
     "data": {
      "text/html": [
       "<div><style>\n",
       ".dataframe > thead > tr,\n",
       ".dataframe > tbody > tr {\n",
       "  text-align: right;\n",
       "  white-space: pre-wrap;\n",
       "}\n",
       "</style>\n",
       "<small>shape: (0, 0)</small><table border=\"1\" class=\"dataframe\"><thead><tr></tr><tr></tr></thead><tbody></tbody></table></div>"
      ],
      "text/plain": [
       "shape: (0, 0)\n",
       "┌┐\n",
       "╞╡\n",
       "└┘"
      ]
     },
     "execution_count": 7,
     "metadata": {},
     "output_type": "execute_result"
    }
   ],
   "source": [
    "# creating a table from s3\n",
    "\n",
    "query_text = \"\"\"--sql \n",
    "CREATE TABLE db1.complaints_st_partner\n",
    "(\n",
    "    `report_date` Date,\n",
    "    `issue_id` String,\n",
    "    `src_type` String,\n",
    "    `src_uuid` String,\n",
    "    `src_address_uuid` String,\n",
    "    `src_address_type` String,\n",
    "    `device_uuid` String,\n",
    "    `device_type` String,\n",
    "    `err_code`\tString,\n",
    "    `err_src` String,\t\n",
    "    `err_func`\tString,\n",
    "    `aasm_state` String,\t\n",
    "    `process_error`\tString,\n",
    "    `actor_type` String,\n",
    "    `actor_identifier` String,\n",
    "    `created_at` DateTime64,\n",
    "    `updated_at` DateTime64,\n",
    ")\n",
    "ENGINE = S3('https://storage.yandexcloud.net/dwh-asgard/complaints_st_partner/year=*/month=*/*.csv', 'CSVWithNames')\n",
    "PARTITION BY report_date\n",
    "    \"\"\"\n",
    "\n",
    "ch.query_run(query_text)"
   ]
  },
  {
   "cell_type": "code",
   "execution_count": 9,
   "id": "d9d75315",
   "metadata": {},
   "outputs": [
    {
     "data": {
      "text/html": [
       "<div><style>\n",
       ".dataframe > thead > tr,\n",
       ".dataframe > tbody > tr {\n",
       "  text-align: right;\n",
       "  white-space: pre-wrap;\n",
       "}\n",
       "</style>\n",
       "<small>shape: (0, 0)</small><table border=\"1\" class=\"dataframe\"><thead><tr></tr><tr></tr></thead><tbody></tbody></table></div>"
      ],
      "text/plain": [
       "shape: (0, 0)\n",
       "┌┐\n",
       "╞╡\n",
       "└┘"
      ]
     },
     "execution_count": 9,
     "metadata": {},
     "output_type": "execute_result"
    }
   ],
   "source": [
    "query_text = \"\"\"--sql\n",
    "    CREATE TABLE db1.complaints_st_partner_ch\n",
    "(\n",
    "    `report_date` Date,\n",
    "    `issue_id` String,\n",
    "    `src_type` String,\n",
    "    `src_uuid` String,\n",
    "    `src_address_uuid` String,\n",
    "    `src_address_type` String,\n",
    "    `device_uuid` String,\n",
    "    `device_type` String,\n",
    "    `err_code`\tString,\n",
    "    `err_src` String,\t\n",
    "    `err_func`\tString,\n",
    "    `aasm_state` String,\t\n",
    "    `process_error`\tString,\n",
    "    `actor_type` String,\n",
    "    `actor_identifier` String,\n",
    "    `created_at` DateTime64,\n",
    "    `updated_at` DateTime64,\n",
    ")\n",
    "    ENGINE = MergeTree()\n",
    "    ORDER BY src_uuid\n",
    "    \"\"\"\n",
    "\n",
    "ch.query_run(query_text)"
   ]
  },
  {
   "cell_type": "code",
   "execution_count": 10,
   "id": "4b1d8f77",
   "metadata": {},
   "outputs": [
    {
     "data": {
      "text/html": [
       "<div><style>\n",
       ".dataframe > thead > tr,\n",
       ".dataframe > tbody > tr {\n",
       "  text-align: right;\n",
       "  white-space: pre-wrap;\n",
       "}\n",
       "</style>\n",
       "<small>shape: (0, 0)</small><table border=\"1\" class=\"dataframe\"><thead><tr></tr><tr></tr></thead><tbody></tbody></table></div>"
      ],
      "text/plain": [
       "shape: (0, 0)\n",
       "┌┐\n",
       "╞╡\n",
       "└┘"
      ]
     },
     "execution_count": 10,
     "metadata": {},
     "output_type": "execute_result"
    }
   ],
   "source": [
    "query_text = \"\"\"--sql\n",
    "    CREATE MATERIALIZED VIEW db1.complaints_st_partner_mv\n",
    "    REFRESH EVERY 1 DAY OFFSET 4 HOUR RANDOMIZE FOR 1 HOUR TO db1.complaints_st_partner_ch AS\n",
    "    SELECT\n",
    "        *\n",
    "    FROM db1.complaints_st_partner\n",
    "ORDER BY report_date DESC\n",
    "\"\"\"\n",
    "ch.query_run(query_text)"
   ]
  },
  {
   "cell_type": "markdown",
   "id": "b73dee13",
   "metadata": {},
   "source": [
    "___\n",
    "## Tools\n",
    "___\n",
    "### query\n"
   ]
  },
  {
   "cell_type": "code",
   "execution_count": 11,
   "id": "dccee8b2",
   "metadata": {},
   "outputs": [
    {
     "data": {
      "text/html": [
       "<div><style>\n",
       ".dataframe > thead > tr,\n",
       ".dataframe > tbody > tr {\n",
       "  text-align: right;\n",
       "  white-space: pre-wrap;\n",
       "}\n",
       "</style>\n",
       "<small>shape: (100, 17)</small><table border=\"1\" class=\"dataframe\"><thead><tr><th>report_date</th><th>issue_id</th><th>src_type</th><th>src_uuid</th><th>src_address_uuid</th><th>src_address_type</th><th>device_uuid</th><th>device_type</th><th>err_code</th><th>err_src</th><th>err_func</th><th>aasm_state</th><th>process_error</th><th>actor_type</th><th>actor_identifier</th><th>created_at</th><th>updated_at</th></tr><tr><td>date</td><td>str</td><td>str</td><td>str</td><td>str</td><td>str</td><td>str</td><td>str</td><td>str</td><td>str</td><td>str</td><td>str</td><td>str</td><td>str</td><td>str</td><td>datetime[ns]</td><td>datetime[ns]</td></tr></thead><tbody><tr><td>2025-08-18</td><td>&quot;&quot;</td><td>&quot;citizen&quot;</td><td>&quot;908ef78d-5fc9-49ae-b998-89e365…</td><td>&quot;4e01aa65-a0c7-4bda-a7b7-b8f6f5…</td><td>&quot;entry&quot;</td><td>&quot;a6f2de11-7101-495a-9320-8b3f38…</td><td>&quot;camera&quot;</td><td>&quot;video&quot;</td><td>&quot;MOB&quot;</td><td>&quot;&quot;</td><td>&quot;processed&quot;</td><td>&quot;&quot;</td><td>&quot;auto&quot;</td><td>&quot;&quot;</td><td>2025-08-18 12:17:51</td><td>2025-08-18 12:17:52</td></tr><tr><td>2025-08-18</td><td>&quot;&quot;</td><td>&quot;citizen&quot;</td><td>&quot;90935f37-1b78-4690-adfc-ef69c3…</td><td>&quot;5e49c1f1-d5bf-4d4e-b9b5-05d007…</td><td>&quot;entry&quot;</td><td>&quot;78444022-0ac6-4245-ac01-2b2388…</td><td>&quot;camera&quot;</td><td>&quot;video&quot;</td><td>&quot;MOB&quot;</td><td>&quot;&quot;</td><td>&quot;processed&quot;</td><td>&quot;&quot;</td><td>&quot;auto&quot;</td><td>&quot;&quot;</td><td>2025-08-18 13:30:31</td><td>2025-08-18 13:30:32</td></tr><tr><td>2025-08-18</td><td>&quot;&quot;</td><td>&quot;citizen&quot;</td><td>&quot;909b090a-684c-4739-a29b-c0252a…</td><td>&quot;0b57004d-d862-44aa-bfdd-80f4c9…</td><td>&quot;entry&quot;</td><td>&quot;5e1401f4-bd2d-4eea-aa7c-ff7559…</td><td>&quot;camera&quot;</td><td>&quot;video&quot;</td><td>&quot;MOB&quot;</td><td>&quot;&quot;</td><td>&quot;processed&quot;</td><td>&quot;&quot;</td><td>&quot;auto&quot;</td><td>&quot;&quot;</td><td>2025-08-18 12:42:29</td><td>2025-08-18 12:42:29</td></tr><tr><td>2025-08-18</td><td>&quot;&quot;</td><td>&quot;citizen&quot;</td><td>&quot;90a18ffc-b807-4d4d-97a3-d9aeca…</td><td>&quot;49e03bf4-50e8-48b0-9b1f-88f6e6…</td><td>&quot;entry&quot;</td><td>&quot;f6a4d20d-0dd8-454c-b1e7-861a1c…</td><td>&quot;camera&quot;</td><td>&quot;video&quot;</td><td>&quot;MOB&quot;</td><td>&quot;&quot;</td><td>&quot;processed&quot;</td><td>&quot;&quot;</td><td>&quot;auto&quot;</td><td>&quot;&quot;</td><td>2025-08-18 10:14:27</td><td>2025-08-18 10:14:28</td></tr><tr><td>2025-08-18</td><td>&quot;&quot;</td><td>&quot;citizen&quot;</td><td>&quot;90a77c1e-7bdd-4fa8-834e-a1c51f…</td><td>&quot;de4f297a-5eca-454c-9726-73775a…</td><td>&quot;entry&quot;</td><td>&quot;9095ba8d-35e1-4a10-99fd-36d4a8…</td><td>&quot;camera&quot;</td><td>&quot;video&quot;</td><td>&quot;MOB&quot;</td><td>&quot;&quot;</td><td>&quot;processed&quot;</td><td>&quot;&quot;</td><td>&quot;auto&quot;</td><td>&quot;&quot;</td><td>2025-08-18 13:00:51</td><td>2025-08-18 13:00:51</td></tr><tr><td>&hellip;</td><td>&hellip;</td><td>&hellip;</td><td>&hellip;</td><td>&hellip;</td><td>&hellip;</td><td>&hellip;</td><td>&hellip;</td><td>&hellip;</td><td>&hellip;</td><td>&hellip;</td><td>&hellip;</td><td>&hellip;</td><td>&hellip;</td><td>&hellip;</td><td>&hellip;</td><td>&hellip;</td></tr><tr><td>2025-08-18</td><td>&quot;&quot;</td><td>&quot;citizen&quot;</td><td>&quot;92a975fd-32c7-4cba-af36-7c63e9…</td><td>&quot;7e055132-3e80-41aa-a6c1-c8af0d…</td><td>&quot;entry&quot;</td><td>&quot;9c9fa2e6-0695-4bba-ab38-b6b4c2…</td><td>&quot;camera&quot;</td><td>&quot;video&quot;</td><td>&quot;MOB&quot;</td><td>&quot;&quot;</td><td>&quot;processed&quot;</td><td>&quot;&quot;</td><td>&quot;auto&quot;</td><td>&quot;&quot;</td><td>2025-08-18 10:57:30</td><td>2025-08-18 10:57:30</td></tr><tr><td>2025-08-18</td><td>&quot;&quot;</td><td>&quot;citizen&quot;</td><td>&quot;9299ebab-3dc9-467c-97af-60deb9…</td><td>&quot;4a782f69-95a7-47ce-b618-33c7d7…</td><td>&quot;entry&quot;</td><td>&quot;d7c7b3df-cf1e-4546-9421-98b6e6…</td><td>&quot;camera&quot;</td><td>&quot;video&quot;</td><td>&quot;MOB&quot;</td><td>&quot;&quot;</td><td>&quot;processed&quot;</td><td>&quot;&quot;</td><td>&quot;auto&quot;</td><td>&quot;&quot;</td><td>2025-08-18 06:10:01</td><td>2025-08-18 06:10:02</td></tr><tr><td>2025-08-18</td><td>&quot;&quot;</td><td>&quot;citizen&quot;</td><td>&quot;92ee253b-17d6-4e91-93e0-5551da…</td><td>&quot;1f43749a-e77c-4635-bf2b-dbff05…</td><td>&quot;entry&quot;</td><td>&quot;50a77372-9bc3-4c51-9b55-7dde12…</td><td>&quot;camera&quot;</td><td>&quot;video&quot;</td><td>&quot;MOB&quot;</td><td>&quot;&quot;</td><td>&quot;processed&quot;</td><td>&quot;&quot;</td><td>&quot;auto&quot;</td><td>&quot;&quot;</td><td>2025-08-18 13:15:21</td><td>2025-08-18 13:15:22</td></tr><tr><td>2025-08-18</td><td>&quot;&quot;</td><td>&quot;citizen&quot;</td><td>&quot;92de51f0-c898-40fc-a01b-a38509…</td><td>&quot;b414c652-6556-4fc4-9d7e-f81a15…</td><td>&quot;entry&quot;</td><td>&quot;a7cb461f-8809-4cf4-a323-2205fd…</td><td>&quot;camera&quot;</td><td>&quot;video&quot;</td><td>&quot;MOB&quot;</td><td>&quot;&quot;</td><td>&quot;processed&quot;</td><td>&quot;&quot;</td><td>&quot;auto&quot;</td><td>&quot;&quot;</td><td>2025-08-18 12:53:23</td><td>2025-08-18 12:53:24</td></tr><tr><td>2025-08-18</td><td>&quot;&quot;</td><td>&quot;citizen&quot;</td><td>&quot;92d11a94-4f2d-452d-8a7a-f75a6c…</td><td>&quot;844da8f9-5606-4782-b98d-72e4c1…</td><td>&quot;entry&quot;</td><td>&quot;31aa9904-8c97-45c6-a648-401b1e…</td><td>&quot;camera&quot;</td><td>&quot;video&quot;</td><td>&quot;MOB&quot;</td><td>&quot;&quot;</td><td>&quot;processed&quot;</td><td>&quot;&quot;</td><td>&quot;auto&quot;</td><td>&quot;&quot;</td><td>2025-08-18 05:13:18</td><td>2025-08-18 05:13:19</td></tr></tbody></table></div>"
      ],
      "text/plain": [
       "shape: (100, 17)\n",
       "┌────────────┬──────────┬──────────┬───────────┬───┬───────────┬───────────┬───────────┬───────────┐\n",
       "│ report_dat ┆ issue_id ┆ src_type ┆ src_uuid  ┆ … ┆ actor_typ ┆ actor_ide ┆ created_a ┆ updated_a │\n",
       "│ e          ┆ ---      ┆ ---      ┆ ---       ┆   ┆ e         ┆ ntifier   ┆ t         ┆ t         │\n",
       "│ ---        ┆ str      ┆ str      ┆ str       ┆   ┆ ---       ┆ ---       ┆ ---       ┆ ---       │\n",
       "│ date       ┆          ┆          ┆           ┆   ┆ str       ┆ str       ┆ datetime[ ┆ datetime[ │\n",
       "│            ┆          ┆          ┆           ┆   ┆           ┆           ┆ ns]       ┆ ns]       │\n",
       "╞════════════╪══════════╪══════════╪═══════════╪═══╪═══════════╪═══════════╪═══════════╪═══════════╡\n",
       "│ 2025-08-18 ┆          ┆ citizen  ┆ 908ef78d- ┆ … ┆ auto      ┆           ┆ 2025-08-1 ┆ 2025-08-1 │\n",
       "│            ┆          ┆          ┆ 5fc9-49ae ┆   ┆           ┆           ┆ 8         ┆ 8         │\n",
       "│            ┆          ┆          ┆ -b998-89e ┆   ┆           ┆           ┆ 12:17:51  ┆ 12:17:52  │\n",
       "│            ┆          ┆          ┆ 365…      ┆   ┆           ┆           ┆           ┆           │\n",
       "│ 2025-08-18 ┆          ┆ citizen  ┆ 90935f37- ┆ … ┆ auto      ┆           ┆ 2025-08-1 ┆ 2025-08-1 │\n",
       "│            ┆          ┆          ┆ 1b78-4690 ┆   ┆           ┆           ┆ 8         ┆ 8         │\n",
       "│            ┆          ┆          ┆ -adfc-ef6 ┆   ┆           ┆           ┆ 13:30:31  ┆ 13:30:32  │\n",
       "│            ┆          ┆          ┆ 9c3…      ┆   ┆           ┆           ┆           ┆           │\n",
       "│ 2025-08-18 ┆          ┆ citizen  ┆ 909b090a- ┆ … ┆ auto      ┆           ┆ 2025-08-1 ┆ 2025-08-1 │\n",
       "│            ┆          ┆          ┆ 684c-4739 ┆   ┆           ┆           ┆ 8         ┆ 8         │\n",
       "│            ┆          ┆          ┆ -a29b-c02 ┆   ┆           ┆           ┆ 12:42:29  ┆ 12:42:29  │\n",
       "│            ┆          ┆          ┆ 52a…      ┆   ┆           ┆           ┆           ┆           │\n",
       "│ 2025-08-18 ┆          ┆ citizen  ┆ 90a18ffc- ┆ … ┆ auto      ┆           ┆ 2025-08-1 ┆ 2025-08-1 │\n",
       "│            ┆          ┆          ┆ b807-4d4d ┆   ┆           ┆           ┆ 8         ┆ 8         │\n",
       "│            ┆          ┆          ┆ -97a3-d9a ┆   ┆           ┆           ┆ 10:14:27  ┆ 10:14:28  │\n",
       "│            ┆          ┆          ┆ eca…      ┆   ┆           ┆           ┆           ┆           │\n",
       "│ 2025-08-18 ┆          ┆ citizen  ┆ 90a77c1e- ┆ … ┆ auto      ┆           ┆ 2025-08-1 ┆ 2025-08-1 │\n",
       "│            ┆          ┆          ┆ 7bdd-4fa8 ┆   ┆           ┆           ┆ 8         ┆ 8         │\n",
       "│            ┆          ┆          ┆ -834e-a1c ┆   ┆           ┆           ┆ 13:00:51  ┆ 13:00:51  │\n",
       "│            ┆          ┆          ┆ 51f…      ┆   ┆           ┆           ┆           ┆           │\n",
       "│ …          ┆ …        ┆ …        ┆ …         ┆ … ┆ …         ┆ …         ┆ …         ┆ …         │\n",
       "│ 2025-08-18 ┆          ┆ citizen  ┆ 92a975fd- ┆ … ┆ auto      ┆           ┆ 2025-08-1 ┆ 2025-08-1 │\n",
       "│            ┆          ┆          ┆ 32c7-4cba ┆   ┆           ┆           ┆ 8         ┆ 8         │\n",
       "│            ┆          ┆          ┆ -af36-7c6 ┆   ┆           ┆           ┆ 10:57:30  ┆ 10:57:30  │\n",
       "│            ┆          ┆          ┆ 3e9…      ┆   ┆           ┆           ┆           ┆           │\n",
       "│ 2025-08-18 ┆          ┆ citizen  ┆ 9299ebab- ┆ … ┆ auto      ┆           ┆ 2025-08-1 ┆ 2025-08-1 │\n",
       "│            ┆          ┆          ┆ 3dc9-467c ┆   ┆           ┆           ┆ 8         ┆ 8         │\n",
       "│            ┆          ┆          ┆ -97af-60d ┆   ┆           ┆           ┆ 06:10:01  ┆ 06:10:02  │\n",
       "│            ┆          ┆          ┆ eb9…      ┆   ┆           ┆           ┆           ┆           │\n",
       "│ 2025-08-18 ┆          ┆ citizen  ┆ 92ee253b- ┆ … ┆ auto      ┆           ┆ 2025-08-1 ┆ 2025-08-1 │\n",
       "│            ┆          ┆          ┆ 17d6-4e91 ┆   ┆           ┆           ┆ 8         ┆ 8         │\n",
       "│            ┆          ┆          ┆ -93e0-555 ┆   ┆           ┆           ┆ 13:15:21  ┆ 13:15:22  │\n",
       "│            ┆          ┆          ┆ 1da…      ┆   ┆           ┆           ┆           ┆           │\n",
       "│ 2025-08-18 ┆          ┆ citizen  ┆ 92de51f0- ┆ … ┆ auto      ┆           ┆ 2025-08-1 ┆ 2025-08-1 │\n",
       "│            ┆          ┆          ┆ c898-40fc ┆   ┆           ┆           ┆ 8         ┆ 8         │\n",
       "│            ┆          ┆          ┆ -a01b-a38 ┆   ┆           ┆           ┆ 12:53:23  ┆ 12:53:24  │\n",
       "│            ┆          ┆          ┆ 509…      ┆   ┆           ┆           ┆           ┆           │\n",
       "│ 2025-08-18 ┆          ┆ citizen  ┆ 92d11a94- ┆ … ┆ auto      ┆           ┆ 2025-08-1 ┆ 2025-08-1 │\n",
       "│            ┆          ┆          ┆ 4f2d-452d ┆   ┆           ┆           ┆ 8         ┆ 8         │\n",
       "│            ┆          ┆          ┆ -8a7a-f75 ┆   ┆           ┆           ┆ 05:13:18  ┆ 05:13:19  │\n",
       "│            ┆          ┆          ┆ a6c…      ┆   ┆           ┆           ┆           ┆           │\n",
       "└────────────┴──────────┴──────────┴───────────┴───┴───────────┴───────────┴───────────┴───────────┘"
      ]
     },
     "execution_count": 11,
     "metadata": {},
     "output_type": "execute_result"
    }
   ],
   "source": [
    "query_text = \"\"\"--sql\n",
    "    SELECT\n",
    "        *\n",
    "    FROM db1.complaints_st_partner_ch\n",
    "    ORDER BY report_date desc\n",
    "    limit 100\n",
    "    \"\"\"\n",
    "\n",
    "ch.query_run(query_text)\n"
   ]
  },
  {
   "cell_type": "markdown",
   "id": "6ad70046",
   "metadata": {},
   "source": [
    "### delete a part\n"
   ]
  },
  {
   "cell_type": "code",
   "execution_count": null,
   "id": "8bcb058e",
   "metadata": {},
   "outputs": [],
   "source": [
    "query_text = \"\"\"--sql\n",
    "    ALTER TABLE db1.complaints_st_partner_ch DELETE WHERE report_date = '2025-07-17'\n",
    "    \"\"\"\n",
    "\n",
    "ch.query_run(query_text)\n"
   ]
  },
  {
   "cell_type": "markdown",
   "id": "61d90037",
   "metadata": {},
   "source": [
    "### drop mv"
   ]
  },
  {
   "cell_type": "code",
   "execution_count": 3,
   "id": "32f754ce",
   "metadata": {},
   "outputs": [
    {
     "data": {
      "text/html": [
       "<div><style>\n",
       ".dataframe > thead > tr,\n",
       ".dataframe > tbody > tr {\n",
       "  text-align: right;\n",
       "  white-space: pre-wrap;\n",
       "}\n",
       "</style>\n",
       "<small>shape: (0, 0)</small><table border=\"1\" class=\"dataframe\"><thead><tr></tr><tr></tr></thead><tbody></tbody></table></div>"
      ],
      "text/plain": [
       "shape: (0, 0)\n",
       "┌┐\n",
       "╞╡\n",
       "└┘"
      ]
     },
     "execution_count": 3,
     "metadata": {},
     "output_type": "execute_result"
    }
   ],
   "source": [
    "query_text = \"\"\"--sql\n",
    "    DROP TABLE db1.complaints_st_partner_mv\n",
    "    \"\"\"\n",
    "\n",
    "ch.query_run(query_text)"
   ]
  },
  {
   "cell_type": "markdown",
   "id": "95ee02d0",
   "metadata": {},
   "source": [
    "### drop ch"
   ]
  },
  {
   "cell_type": "code",
   "execution_count": null,
   "id": "d5dc36c3",
   "metadata": {},
   "outputs": [
    {
     "data": {
      "text/html": [
       "<div><style>\n",
       ".dataframe > thead > tr,\n",
       ".dataframe > tbody > tr {\n",
       "  text-align: right;\n",
       "  white-space: pre-wrap;\n",
       "}\n",
       "</style>\n",
       "<small>shape: (0, 0)</small><table border=\"1\" class=\"dataframe\"><thead><tr></tr><tr></tr></thead><tbody></tbody></table></div>"
      ],
      "text/plain": [
       "shape: (0, 0)\n",
       "┌┐\n",
       "╞╡\n",
       "└┘"
      ]
     },
     "execution_count": 6,
     "metadata": {},
     "output_type": "execute_result"
    }
   ],
   "source": [
    "query_text = \"\"\"--sql\n",
    "    DROP TABLE db1.complaints_st_partner_ch\n",
    "    \"\"\"\n",
    "\n",
    "ch.query_run(query_text)"
   ]
  },
  {
   "cell_type": "markdown",
   "id": "6e1c290f",
   "metadata": {},
   "source": [
    "### refresh mv"
   ]
  },
  {
   "cell_type": "code",
   "execution_count": null,
   "id": "4209e722",
   "metadata": {},
   "outputs": [],
   "source": [
    "query_text = \"\"\"\n",
    "SYSTEM REFRESH VIEW db1.complaints_st_partner_mv\n",
    "\"\"\"\n",
    "\n",
    "ch.query_run(query_text)"
   ]
  }
 ],
 "metadata": {
  "jupytext": {
   "formats": "ipynb,md"
  },
  "kernelspec": {
   "display_name": "myenv",
   "language": "python",
   "name": "python3"
  },
  "language_info": {
   "codemirror_mode": {
    "name": "ipython",
    "version": 3
   },
   "file_extension": ".py",
   "mimetype": "text/x-python",
   "name": "python",
   "nbconvert_exporter": "python",
   "pygments_lexer": "ipython3",
   "version": "3.12.11"
  }
 },
 "nbformat": 4,
 "nbformat_minor": 5
}

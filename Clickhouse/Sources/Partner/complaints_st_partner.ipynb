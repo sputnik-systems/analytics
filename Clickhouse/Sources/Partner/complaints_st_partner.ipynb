{
 "cells": [
  {
   "cell_type": "markdown",
   "id": "77a2431a",
   "metadata": {},
   "source": [
    "## Start"
   ]
  },
  {
   "cell_type": "code",
   "execution_count": null,
   "id": "8e7dfaed",
   "metadata": {},
   "outputs": [],
   "source": [
    "import clickhouse_connect\n",
    "import datetime\n",
    "import os\n",
    "import pytz\n",
    "import pandas as pd\n",
    "from dateutil.relativedelta import relativedelta\n",
    "from dotenv import load_dotenv\n",
    "\n",
    "import sys\n",
    "sys.path.append('/home/boris/Documents/Work/analytics/Clickhouse')\n",
    "from clickhouse_client import ClickHouse_client\n",
    "ch = ClickHouse_client()\n",
    "pd.set_option('display.max_rows', 1000)\n",
    "\n"
   ]
  },
  {
   "cell_type": "markdown",
   "id": "ea89732c",
   "metadata": {},
   "source": [
    "___\n",
    "### Tags: #Source #Partner\n",
    "\n",
    "### Links: \n",
    "___"
   ]
  },
  {
   "cell_type": "markdown",
   "id": "ef7e629d",
   "metadata": {},
   "source": [
    "[\"id\",                                                                                           \n",
    " \"issue_id\", - это на будущее,  когда будет группировка жалоб по ишьб                                                                                    \n",
    " \"src_type\", какая сущность пожаловалсь (Citizen/Camera/Intercom)                                                                             \n",
    " \"src_uuid\", - uuid этой сущности                                                                                 \n",
    " \"src_address_uuid\", - адрес этой сущности                                                                      \n",
    " \"src_address_type\",     адрес этой сущности                                                                        \n",
    " \"device_uuid\", - uuid устройтсва на которое жалуется сущность                                                                              \n",
    " \"device_type\",                                                                \n",
    " \"err_code\", код ошибки intercom_offline / video / no_intercom                                                                           \n",
    " \"err_src\", откуда пришло MOB (мобилка) / WEB (веб интерфейсы для партнеров) / API (бэк )/ DEV (устройство)                                                                              \n",
    " \"err_func\",  sync (там еще будет)                                                                                   \n",
    " \"aasm_state\",  - статус жалобы pending / processed / failed                                                                             \n",
    " \"process_error\", - ошибка если статус failed                                                                           \n",
    " \"actor_type\", - какой живой человек с сердцем пожаловался или авто система (будет либо Citizen, Partner, auto)\n",
    " \"actor_identifier\", - uuid / id актера\n",
    " \"created_at\",\n",
    " \"updated_at\"]"
   ]
  },
  {
   "cell_type": "code",
   "execution_count": null,
   "id": "7c9f93f4",
   "metadata": {},
   "outputs": [],
   "source": [
    "# creating a table from s3\n",
    "\n",
    "query_text = \"\"\"--sql \n",
    "CREATE TABLE db1.complaints_st_partner\n",
    "(\n",
    "    `report_date` Date,\n",
    "    `issue_id` String,\n",
    "    `src_type` String,\n",
    "    `src_uuid` String,\n",
    "    `src_address_uuid` String,\n",
    "    `src_address_type` String,\n",
    "    `device_uuid` String,\n",
    "    `device_type` String,\n",
    "    `err_code`\tString,\n",
    "    `err_src` String,\t\n",
    "    `err_func`\tString,\n",
    "    `aasm_state` String,\t\n",
    "    `process_error`\tString,\n",
    "    `actor_type` String,\n",
    "    `actor_identifier` String,\n",
    "    `created_at` DateTime,\n",
    "    `updated_at` DateTime,\n",
    ")\n",
    "ENGINE = S3('https://storage.yandexcloud.net/dwh-asgard/complaints_st_partner/year=*/month=*/*.csv', 'CSVWithNames')\n",
    "PARTITION BY report_date\n",
    "    \"\"\"\n",
    "\n",
    "ch.query_run(query_text)"
   ]
  },
  {
   "cell_type": "code",
   "execution_count": null,
   "id": "d9d75315",
   "metadata": {},
   "outputs": [],
   "source": [
    "query_text = \"\"\"--sql\n",
    "    CREATE TABLE db1.complaints_st_partner_ch\n",
    "(\n",
    "    `report_date` Date,\n",
    "    `issue_id` String,\n",
    "    `src_type` String,\n",
    "    `src_uuid` String,\n",
    "    `src_address_uuid` String,\n",
    "    `src_address_type` String,\n",
    "    `device_uuid` String,\n",
    "    `device_type` String,\n",
    "    `err_code`\tString,\n",
    "    `err_src` String,\t\n",
    "    `err_func`\tString,\n",
    "    `aasm_state` String,\t\n",
    "    `process_error`\tString,\n",
    "    `actor_type` String,\n",
    "    `actor_identifier` String,\n",
    "    `created_at` DateTime,\n",
    "    `updated_at` DateTime,\n",
    ")\n",
    "    ENGINE = MergeTree()\n",
    "    ORDER BY src_uuid\n",
    "    \"\"\"\n",
    "\n",
    "ch.query_run(query_text)"
   ]
  },
  {
   "cell_type": "code",
   "execution_count": 12,
   "id": "4b1d8f77",
   "metadata": {},
   "outputs": [
    {
     "data": {
      "text/html": [
       "<div><style>\n",
       ".dataframe > thead > tr,\n",
       ".dataframe > tbody > tr {\n",
       "  text-align: right;\n",
       "  white-space: pre-wrap;\n",
       "}\n",
       "</style>\n",
       "<small>shape: (0, 0)</small><table border=\"1\" class=\"dataframe\"><thead><tr></tr><tr></tr></thead><tbody></tbody></table></div>"
      ],
      "text/plain": [
       "shape: (0, 0)\n",
       "┌┐\n",
       "╞╡\n",
       "└┘"
      ]
     },
     "execution_count": 12,
     "metadata": {},
     "output_type": "execute_result"
    }
   ],
   "source": [
    "query_text = \"\"\"--sql\n",
    "    CREATE MATERIALIZED VIEW db1.complaints_st_partner_mv\n",
    "    REFRESH EVERY 1 DAY OFFSET 4 HOUR RANDOMIZE FOR 1 HOUR TO db1.complaints_st_partner_ch AS\n",
    "    SELECT\n",
    "        *\n",
    "    FROM db1.complaints_st_partner\n",
    "ORDER BY report_date DESC\n",
    "\"\"\"\n",
    "ch.query_run(query_text)"
   ]
  },
  {
   "cell_type": "markdown",
   "id": "b73dee13",
   "metadata": {},
   "source": [
    "___\n",
    "## Tools\n",
    "___\n",
    "### query\n"
   ]
  },
  {
   "cell_type": "code",
   "execution_count": 13,
   "id": "dccee8b2",
   "metadata": {},
   "outputs": [
    {
     "data": {
      "text/html": [
       "<div><style>\n",
       ".dataframe > thead > tr,\n",
       ".dataframe > tbody > tr {\n",
       "  text-align: right;\n",
       "  white-space: pre-wrap;\n",
       "}\n",
       "</style>\n",
       "<small>shape: (100, 17)</small><table border=\"1\" class=\"dataframe\"><thead><tr><th>report_date</th><th>issue_id</th><th>src_type</th><th>src_uuid</th><th>src_address_uuid</th><th>src_address_type</th><th>device_uuid</th><th>device_type</th><th>err_code</th><th>err_src</th><th>err_func</th><th>aasm_state</th><th>process_error</th><th>actor_type</th><th>actor_identifier</th><th>created_at</th><th>updated_at</th></tr><tr><td>date</td><td>str</td><td>str</td><td>str</td><td>str</td><td>str</td><td>str</td><td>str</td><td>str</td><td>str</td><td>str</td><td>str</td><td>str</td><td>str</td><td>str</td><td>datetime[ns]</td><td>datetime[ns]</td></tr></thead><tbody><tr><td>2025-08-03</td><td>&quot;&quot;</td><td>&quot;intercom&quot;</td><td>&quot;a858c9bd-2bf0-486a-95dd-847c2f…</td><td>&quot;cd341ca4-ad20-4147-8ef3-f74b90…</td><td>&quot;entry&quot;</td><td>&quot;a858c9bd-2bf0-486a-95dd-847c2f…</td><td>&quot;intercom&quot;</td><td>&quot;intercom_offline&quot;</td><td>&quot;API&quot;</td><td>&quot;sync&quot;</td><td>&quot;processed&quot;</td><td>&quot;&quot;</td><td>&quot;auto&quot;</td><td>&quot;api&quot;</td><td>2025-08-03 05:00:12</td><td>2025-08-03 05:00:13</td></tr><tr><td>2025-08-03</td><td>&quot;&quot;</td><td>&quot;intercom&quot;</td><td>&quot;a88ef229-8877-4d2c-a93f-77a6fd…</td><td>&quot;&quot;</td><td>&quot;&quot;</td><td>&quot;a88ef229-8877-4d2c-a93f-77a6fd…</td><td>&quot;intercom&quot;</td><td>&quot;intercom_offline&quot;</td><td>&quot;API&quot;</td><td>&quot;sync&quot;</td><td>&quot;processed&quot;</td><td>&quot;&quot;</td><td>&quot;auto&quot;</td><td>&quot;api&quot;</td><td>2025-08-03 02:30:36</td><td>2025-08-03 02:30:36</td></tr><tr><td>2025-08-03</td><td>&quot;&quot;</td><td>&quot;intercom&quot;</td><td>&quot;a913744c-519b-4093-947d-d443e0…</td><td>&quot;a6bee4db-2bdf-48dc-9f38-8960e6…</td><td>&quot;entry&quot;</td><td>&quot;a913744c-519b-4093-947d-d443e0…</td><td>&quot;intercom&quot;</td><td>&quot;intercom_offline&quot;</td><td>&quot;API&quot;</td><td>&quot;sync&quot;</td><td>&quot;processed&quot;</td><td>&quot;&quot;</td><td>&quot;auto&quot;</td><td>&quot;api&quot;</td><td>2025-08-03 22:30:23</td><td>2025-08-03 22:30:24</td></tr><tr><td>2025-08-03</td><td>&quot;&quot;</td><td>&quot;intercom&quot;</td><td>&quot;a9188197-475a-4957-9de7-d10133…</td><td>&quot;99fff647-d4d5-49d1-80d5-cfec47…</td><td>&quot;entry&quot;</td><td>&quot;a9188197-475a-4957-9de7-d10133…</td><td>&quot;intercom&quot;</td><td>&quot;intercom_offline&quot;</td><td>&quot;API&quot;</td><td>&quot;sync&quot;</td><td>&quot;processed&quot;</td><td>&quot;&quot;</td><td>&quot;auto&quot;</td><td>&quot;api&quot;</td><td>2025-08-03 00:00:16</td><td>2025-08-03 00:00:17</td></tr><tr><td>2025-08-03</td><td>&quot;&quot;</td><td>&quot;Citizen&quot;</td><td>&quot;a96dfed0-83d3-457e-935d-e4e573…</td><td>&quot;173fec4e-44e8-46da-9fc7-114480…</td><td>&quot;entry&quot;</td><td>&quot;&quot;</td><td>&quot;&quot;</td><td>&quot;no_intercom&quot;</td><td>&quot;MOB&quot;</td><td>&quot;sync&quot;</td><td>&quot;processed&quot;</td><td>&quot;&quot;</td><td>&quot;&quot;</td><td>&quot;&quot;</td><td>2025-08-03 18:31:58</td><td>2025-08-03 18:31:59</td></tr><tr><td>&hellip;</td><td>&hellip;</td><td>&hellip;</td><td>&hellip;</td><td>&hellip;</td><td>&hellip;</td><td>&hellip;</td><td>&hellip;</td><td>&hellip;</td><td>&hellip;</td><td>&hellip;</td><td>&hellip;</td><td>&hellip;</td><td>&hellip;</td><td>&hellip;</td><td>&hellip;</td><td>&hellip;</td></tr><tr><td>2025-08-03</td><td>&quot;&quot;</td><td>&quot;intercom&quot;</td><td>&quot;c1a6e108-3651-457f-b769-a37b41…</td><td>&quot;f9ddfac3-e5ed-4b4d-b6ec-48648d…</td><td>&quot;entry&quot;</td><td>&quot;c1a6e108-3651-457f-b769-a37b41…</td><td>&quot;intercom&quot;</td><td>&quot;intercom_offline&quot;</td><td>&quot;API&quot;</td><td>&quot;sync&quot;</td><td>&quot;processed&quot;</td><td>&quot;&quot;</td><td>&quot;auto&quot;</td><td>&quot;api&quot;</td><td>2025-08-03 05:30:04</td><td>2025-08-03 05:30:05</td></tr><tr><td>2025-08-03</td><td>&quot;&quot;</td><td>&quot;intercom&quot;</td><td>&quot;c05af074-3569-4cbd-a14a-9aa5dc…</td><td>&quot;469df41e-1d2d-444b-b6a7-489c30…</td><td>&quot;entry&quot;</td><td>&quot;c05af074-3569-4cbd-a14a-9aa5dc…</td><td>&quot;intercom&quot;</td><td>&quot;intercom_offline&quot;</td><td>&quot;API&quot;</td><td>&quot;sync&quot;</td><td>&quot;processed&quot;</td><td>&quot;&quot;</td><td>&quot;auto&quot;</td><td>&quot;api&quot;</td><td>2025-08-03 11:00:15</td><td>2025-08-03 11:00:17</td></tr><tr><td>2025-08-03</td><td>&quot;&quot;</td><td>&quot;intercom&quot;</td><td>&quot;c096bc5a-bde3-4b17-b7e9-f09d53…</td><td>&quot;f5e9b85f-2f15-4f47-9257-1f0e79…</td><td>&quot;entry&quot;</td><td>&quot;c096bc5a-bde3-4b17-b7e9-f09d53…</td><td>&quot;intercom&quot;</td><td>&quot;intercom_offline&quot;</td><td>&quot;API&quot;</td><td>&quot;sync&quot;</td><td>&quot;processed&quot;</td><td>&quot;&quot;</td><td>&quot;auto&quot;</td><td>&quot;api&quot;</td><td>2025-08-03 09:00:31</td><td>2025-08-03 09:00:32</td></tr><tr><td>2025-08-03</td><td>&quot;&quot;</td><td>&quot;intercom&quot;</td><td>&quot;c1908c0a-457e-4849-a546-cd2f86…</td><td>&quot;d1d9ee92-b615-4c16-8ad9-c7f0d0…</td><td>&quot;entry&quot;</td><td>&quot;c1908c0a-457e-4849-a546-cd2f86…</td><td>&quot;intercom&quot;</td><td>&quot;intercom_offline&quot;</td><td>&quot;API&quot;</td><td>&quot;sync&quot;</td><td>&quot;processed&quot;</td><td>&quot;&quot;</td><td>&quot;auto&quot;</td><td>&quot;api&quot;</td><td>2025-08-03 15:30:29</td><td>2025-08-03 15:30:29</td></tr><tr><td>2025-08-03</td><td>&quot;&quot;</td><td>&quot;intercom&quot;</td><td>&quot;c071873e-cb37-46c5-9541-591a22…</td><td>&quot;cd08b74b-f0fb-400c-8e35-4b63b9…</td><td>&quot;entry&quot;</td><td>&quot;c071873e-cb37-46c5-9541-591a22…</td><td>&quot;intercom&quot;</td><td>&quot;intercom_offline&quot;</td><td>&quot;API&quot;</td><td>&quot;sync&quot;</td><td>&quot;processed&quot;</td><td>&quot;&quot;</td><td>&quot;auto&quot;</td><td>&quot;api&quot;</td><td>2025-08-03 09:30:08</td><td>2025-08-03 09:30:11</td></tr></tbody></table></div>"
      ],
      "text/plain": [
       "shape: (100, 17)\n",
       "┌────────────┬──────────┬──────────┬───────────┬───┬───────────┬───────────┬───────────┬───────────┐\n",
       "│ report_dat ┆ issue_id ┆ src_type ┆ src_uuid  ┆ … ┆ actor_typ ┆ actor_ide ┆ created_a ┆ updated_a │\n",
       "│ e          ┆ ---      ┆ ---      ┆ ---       ┆   ┆ e         ┆ ntifier   ┆ t         ┆ t         │\n",
       "│ ---        ┆ str      ┆ str      ┆ str       ┆   ┆ ---       ┆ ---       ┆ ---       ┆ ---       │\n",
       "│ date       ┆          ┆          ┆           ┆   ┆ str       ┆ str       ┆ datetime[ ┆ datetime[ │\n",
       "│            ┆          ┆          ┆           ┆   ┆           ┆           ┆ ns]       ┆ ns]       │\n",
       "╞════════════╪══════════╪══════════╪═══════════╪═══╪═══════════╪═══════════╪═══════════╪═══════════╡\n",
       "│ 2025-08-03 ┆          ┆ intercom ┆ a858c9bd- ┆ … ┆ auto      ┆ api       ┆ 2025-08-0 ┆ 2025-08-0 │\n",
       "│            ┆          ┆          ┆ 2bf0-486a ┆   ┆           ┆           ┆ 3         ┆ 3         │\n",
       "│            ┆          ┆          ┆ -95dd-847 ┆   ┆           ┆           ┆ 05:00:12  ┆ 05:00:13  │\n",
       "│            ┆          ┆          ┆ c2f…      ┆   ┆           ┆           ┆           ┆           │\n",
       "│ 2025-08-03 ┆          ┆ intercom ┆ a88ef229- ┆ … ┆ auto      ┆ api       ┆ 2025-08-0 ┆ 2025-08-0 │\n",
       "│            ┆          ┆          ┆ 8877-4d2c ┆   ┆           ┆           ┆ 3         ┆ 3         │\n",
       "│            ┆          ┆          ┆ -a93f-77a ┆   ┆           ┆           ┆ 02:30:36  ┆ 02:30:36  │\n",
       "│            ┆          ┆          ┆ 6fd…      ┆   ┆           ┆           ┆           ┆           │\n",
       "│ 2025-08-03 ┆          ┆ intercom ┆ a913744c- ┆ … ┆ auto      ┆ api       ┆ 2025-08-0 ┆ 2025-08-0 │\n",
       "│            ┆          ┆          ┆ 519b-4093 ┆   ┆           ┆           ┆ 3         ┆ 3         │\n",
       "│            ┆          ┆          ┆ -947d-d44 ┆   ┆           ┆           ┆ 22:30:23  ┆ 22:30:24  │\n",
       "│            ┆          ┆          ┆ 3e0…      ┆   ┆           ┆           ┆           ┆           │\n",
       "│ 2025-08-03 ┆          ┆ intercom ┆ a9188197- ┆ … ┆ auto      ┆ api       ┆ 2025-08-0 ┆ 2025-08-0 │\n",
       "│            ┆          ┆          ┆ 475a-4957 ┆   ┆           ┆           ┆ 3         ┆ 3         │\n",
       "│            ┆          ┆          ┆ -9de7-d10 ┆   ┆           ┆           ┆ 00:00:16  ┆ 00:00:17  │\n",
       "│            ┆          ┆          ┆ 133…      ┆   ┆           ┆           ┆           ┆           │\n",
       "│ 2025-08-03 ┆          ┆ Citizen  ┆ a96dfed0- ┆ … ┆           ┆           ┆ 2025-08-0 ┆ 2025-08-0 │\n",
       "│            ┆          ┆          ┆ 83d3-457e ┆   ┆           ┆           ┆ 3         ┆ 3         │\n",
       "│            ┆          ┆          ┆ -935d-e4e ┆   ┆           ┆           ┆ 18:31:58  ┆ 18:31:59  │\n",
       "│            ┆          ┆          ┆ 573…      ┆   ┆           ┆           ┆           ┆           │\n",
       "│ …          ┆ …        ┆ …        ┆ …         ┆ … ┆ …         ┆ …         ┆ …         ┆ …         │\n",
       "│ 2025-08-03 ┆          ┆ intercom ┆ c1a6e108- ┆ … ┆ auto      ┆ api       ┆ 2025-08-0 ┆ 2025-08-0 │\n",
       "│            ┆          ┆          ┆ 3651-457f ┆   ┆           ┆           ┆ 3         ┆ 3         │\n",
       "│            ┆          ┆          ┆ -b769-a37 ┆   ┆           ┆           ┆ 05:30:04  ┆ 05:30:05  │\n",
       "│            ┆          ┆          ┆ b41…      ┆   ┆           ┆           ┆           ┆           │\n",
       "│ 2025-08-03 ┆          ┆ intercom ┆ c05af074- ┆ … ┆ auto      ┆ api       ┆ 2025-08-0 ┆ 2025-08-0 │\n",
       "│            ┆          ┆          ┆ 3569-4cbd ┆   ┆           ┆           ┆ 3         ┆ 3         │\n",
       "│            ┆          ┆          ┆ -a14a-9aa ┆   ┆           ┆           ┆ 11:00:15  ┆ 11:00:17  │\n",
       "│            ┆          ┆          ┆ 5dc…      ┆   ┆           ┆           ┆           ┆           │\n",
       "│ 2025-08-03 ┆          ┆ intercom ┆ c096bc5a- ┆ … ┆ auto      ┆ api       ┆ 2025-08-0 ┆ 2025-08-0 │\n",
       "│            ┆          ┆          ┆ bde3-4b17 ┆   ┆           ┆           ┆ 3         ┆ 3         │\n",
       "│            ┆          ┆          ┆ -b7e9-f09 ┆   ┆           ┆           ┆ 09:00:31  ┆ 09:00:32  │\n",
       "│            ┆          ┆          ┆ d53…      ┆   ┆           ┆           ┆           ┆           │\n",
       "│ 2025-08-03 ┆          ┆ intercom ┆ c1908c0a- ┆ … ┆ auto      ┆ api       ┆ 2025-08-0 ┆ 2025-08-0 │\n",
       "│            ┆          ┆          ┆ 457e-4849 ┆   ┆           ┆           ┆ 3         ┆ 3         │\n",
       "│            ┆          ┆          ┆ -a546-cd2 ┆   ┆           ┆           ┆ 15:30:29  ┆ 15:30:29  │\n",
       "│            ┆          ┆          ┆ f86…      ┆   ┆           ┆           ┆           ┆           │\n",
       "│ 2025-08-03 ┆          ┆ intercom ┆ c071873e- ┆ … ┆ auto      ┆ api       ┆ 2025-08-0 ┆ 2025-08-0 │\n",
       "│            ┆          ┆          ┆ cb37-46c5 ┆   ┆           ┆           ┆ 3         ┆ 3         │\n",
       "│            ┆          ┆          ┆ -9541-591 ┆   ┆           ┆           ┆ 09:30:08  ┆ 09:30:11  │\n",
       "│            ┆          ┆          ┆ a22…      ┆   ┆           ┆           ┆           ┆           │\n",
       "└────────────┴──────────┴──────────┴───────────┴───┴───────────┴───────────┴───────────┴───────────┘"
      ]
     },
     "execution_count": 13,
     "metadata": {},
     "output_type": "execute_result"
    }
   ],
   "source": [
    "query_text = \"\"\"--sql\n",
    "    SELECT\n",
    "        *\n",
    "    FROM db1.complaints_st_partner_ch\n",
    "    ORDER BY report_date desc\n",
    "    limit 100\n",
    "    \"\"\"\n",
    "\n",
    "ch.query_run(query_text)\n"
   ]
  },
  {
   "cell_type": "markdown",
   "id": "6ad70046",
   "metadata": {},
   "source": [
    "### delete a part\n"
   ]
  },
  {
   "cell_type": "code",
   "execution_count": null,
   "id": "8bcb058e",
   "metadata": {},
   "outputs": [],
   "source": [
    "query_text = \"\"\"--sql\n",
    "    ALTER TABLE db1.complaints_st_partner_ch DELETE WHERE report_date = '2025-07-17'\n",
    "    \"\"\"\n",
    "\n",
    "ch.query_run(query_text)\n"
   ]
  },
  {
   "cell_type": "markdown",
   "id": "61d90037",
   "metadata": {},
   "source": [
    "### drop mv"
   ]
  },
  {
   "cell_type": "code",
   "execution_count": null,
   "id": "32f754ce",
   "metadata": {},
   "outputs": [],
   "source": [
    "query_text = \"\"\"--sql\n",
    "    DROP TABLE db1.complaints_st_partner_mv\n",
    "    \"\"\"\n",
    "\n",
    "ch.query_run(query_text)"
   ]
  },
  {
   "cell_type": "markdown",
   "id": "95ee02d0",
   "metadata": {},
   "source": [
    "### drop ch"
   ]
  },
  {
   "cell_type": "code",
   "execution_count": null,
   "id": "d5dc36c3",
   "metadata": {},
   "outputs": [],
   "source": [
    "query_text = \"\"\"--sql\n",
    "    DROP TABLE db1.complaints_st_partner_ch\n",
    "    \"\"\"\n",
    "\n",
    "ch.query_run(query_text)"
   ]
  },
  {
   "cell_type": "markdown",
   "id": "6e1c290f",
   "metadata": {},
   "source": [
    "### refresh mv"
   ]
  },
  {
   "cell_type": "code",
   "execution_count": null,
   "id": "4209e722",
   "metadata": {},
   "outputs": [],
   "source": [
    "query_text = \"\"\"\n",
    "SYSTEM REFRESH VIEW db1.complaints_st_partner_mv\n",
    "\"\"\"\n",
    "\n",
    "ch.query_run(query_text)"
   ]
  }
 ],
 "metadata": {
  "jupytext": {
   "formats": "ipynb,md"
  },
  "kernelspec": {
   "display_name": "myenv",
   "language": "python",
   "name": "python3"
  },
  "language_info": {
   "codemirror_mode": {
    "name": "ipython",
    "version": 3
   },
   "file_extension": ".py",
   "mimetype": "text/x-python",
   "name": "python",
   "nbconvert_exporter": "python",
   "pygments_lexer": "ipython3",
   "version": "3.12.11"
  }
 },
 "nbformat": 4,
 "nbformat_minor": 5
}

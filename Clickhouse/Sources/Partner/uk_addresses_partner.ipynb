{
 "cells": [
  {
   "cell_type": "markdown",
   "id": "4c48dfb3",
   "metadata": {
    "lines_to_next_cell": 0
   },
   "source": []
  },
  {
   "cell_type": "markdown",
   "id": "a9d9b378",
   "metadata": {},
   "source": [
    "### Start\n",
    "___"
   ]
  },
  {
   "cell_type": "code",
   "execution_count": null,
   "id": "00defa07",
   "metadata": {},
   "outputs": [],
   "source": [
    "import clickhouse_connect\n",
    "import datetime\n",
    "import os\n",
    "import pytz\n",
    "import pandas as pd\n",
    "from dateutil.relativedelta import relativedelta\n",
    "from dotenv import load_dotenv\n",
    "\n",
    "import sys\n",
    "sys.path.append('/home/boris/Documents/Work/analytics/Clickhouse')\n",
    "from clickhouse_client import ClickHouse_client\n",
    "ch = ClickHouse_client()\n",
    "pd.set_option('display.max_rows', 1000)"
   ]
  },
  {
   "cell_type": "markdown",
   "id": "435e3880",
   "metadata": {},
   "source": [
    "___\n",
    "### Tags: #Source #Partner\n",
    "\n",
    "### Links: \n",
    "___"
   ]
  },
  {
   "cell_type": "code",
   "execution_count": null,
   "id": "d2b75148",
   "metadata": {},
   "outputs": [],
   "source": [
    "query_text = \"\"\"--sql\n",
    "    CREATE TABLE db1.uk_addresses_partner\n",
    "    (\n",
    "        `patrner_uuid_uk` String,\n",
    "        `address_uuid`  String,\n",
    "    )\n",
    "    ENGINE = S3('https://storage.yandexcloud.net/dwh-asgard/uk_addresses_partner/uk_addresses_partner.csv','CSVWithNames')\n",
    "    \"\"\"\n",
    "\n",
    "ch.query_run(query_text)\n"
   ]
  },
  {
   "cell_type": "code",
   "execution_count": null,
   "id": "ae6a1ef7",
   "metadata": {},
   "outputs": [],
   "source": [
    "query_text = \"\"\"--sql\n",
    "    CREATE TABLE db1.uk_addresses_partner_ch\n",
    "    (\n",
    "        `patrner_uuid_uk` String,\n",
    "        `address_uuid`  String,\n",
    "    )\n",
    "    ENGINE = MergeTree()\n",
    "    ORDER BY patrner_uuid_uk\n",
    "    \"\"\"\n",
    "\n",
    "ch.query_run(query_text)"
   ]
  },
  {
   "cell_type": "code",
   "execution_count": null,
   "id": "9a2fb177",
   "metadata": {},
   "outputs": [],
   "source": [
    "query_text = \"\"\"--sql\n",
    "    CREATE MATERIALIZED VIEW db1.uk_addresses_partner_mv\n",
    "    REFRESH EVERY 1 DAY OFFSET 3 HOUR RANDOMIZE FOR 1 HOUR TO db1.uk_addresses_partner_ch AS\n",
    "    SELECT\n",
    "        *\n",
    "    FROM db1.uk_addresses_partner\n",
    "    \"\"\"\n",
    "\n",
    "ch.query_run(query_text)"
   ]
  },
  {
   "cell_type": "markdown",
   "id": "63cf0e42",
   "metadata": {},
   "source": [
    "___\n",
    "## Tools\n",
    "___\n",
    "### query"
   ]
  },
  {
   "cell_type": "code",
   "execution_count": null,
   "id": "9495299d",
   "metadata": {},
   "outputs": [],
   "source": [
    "query_text = \"\"\"--sql\n",
    "    SELECT\n",
    "        *\n",
    "    FROM db1.uk_addresses_partner_ch\n",
    "    LIMIT 2\n",
    "    \"\"\"\n",
    "\n",
    "ch.query_run(query_text)"
   ]
  },
  {
   "cell_type": "markdown",
   "id": "40eb010a",
   "metadata": {},
   "source": [
    "### Drop ch"
   ]
  },
  {
   "cell_type": "code",
   "execution_count": null,
   "id": "b4de5c07",
   "metadata": {},
   "outputs": [],
   "source": [
    "query_text = \"\"\"\n",
    "    DROP TABLE db1.uk_addresses_partner_ch\n",
    "    \"\"\"\n",
    "ch.query_run(query_text)"
   ]
  },
  {
   "cell_type": "markdown",
   "id": "9267d8fb",
   "metadata": {},
   "source": [
    "### Drop mv"
   ]
  },
  {
   "cell_type": "code",
   "execution_count": null,
   "id": "b03c0407",
   "metadata": {},
   "outputs": [],
   "source": [
    "query_text = \"\"\"\n",
    "    DROP TABLE db1.uk_addresses_partner_mv\n",
    "    \"\"\"\n",
    "ch.query_run(query_text)"
   ]
  }
 ],
 "metadata": {
  "jupytext": {
   "cell_metadata_filter": "-all",
   "formats": "ipynb,md",
   "main_language": "python"
  },
  "language_info": {
   "name": "python"
  }
 },
 "nbformat": 4,
 "nbformat_minor": 5
}

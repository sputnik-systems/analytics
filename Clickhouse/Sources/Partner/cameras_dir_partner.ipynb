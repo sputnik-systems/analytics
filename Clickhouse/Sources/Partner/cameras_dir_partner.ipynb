{
 "cells": [
  {
   "cell_type": "markdown",
   "id": "a0362bc2",
   "metadata": {},
   "source": [
    "## Start"
   ]
  },
  {
   "cell_type": "code",
   "execution_count": 1,
   "id": "06074a9a",
   "metadata": {},
   "outputs": [],
   "source": [
    "import clickhouse_connect\n",
    "import datetime\n",
    "import os\n",
    "import pytz\n",
    "import pandas as pd\n",
    "from dateutil.relativedelta import relativedelta\n",
    "from dotenv import load_dotenv\n",
    "\n",
    "import sys\n",
    "sys.path.append('/home/boris/Documents/Work/analytics/Clickhouse')\n",
    "from clickhouse_client import ClickHouse_client\n",
    "ch = ClickHouse_client()\n",
    "pd.set_option('display.max_rows', 1000)"
   ]
  },
  {
   "cell_type": "markdown",
   "id": "c62a7aee",
   "metadata": {},
   "source": [
    "___\n",
    "### Tags: #Source #Partner\n",
    "\n",
    "### Links: \n",
    "___"
   ]
  },
  {
   "cell_type": "code",
   "execution_count": null,
   "id": "57176990",
   "metadata": {},
   "outputs": [],
   "source": [
    "# creating a table from s3\n",
    "\n",
    "query_text = \"\"\"--sql \n",
    "   CREATE TABLE db1.cameras_dir_partner\n",
    "(\n",
    "    `serial_number` String,\n",
    "    `service_partner_uuid` String,\n",
    "    `partner_uuid` String,\n",
    "    `intercom_uuid` String,\n",
    "    `installation_point_id` Int64,\n",
    "    `camera_uuid` String,\n",
    "    `foreign_camera` Int16\n",
    ")\n",
    "ENGINE = S3('https://storage.yandexcloud.net/dwh-asgard/cameras_dir_partner/*.csv','CSVWithNames')\n",
    "    \"\"\"\n",
    "\n",
    "ch.query_run(query_text)"
   ]
  },
  {
   "cell_type": "code",
   "execution_count": null,
   "id": "a654339e",
   "metadata": {},
   "outputs": [],
   "source": [
    "query_text = \"\"\"--sql\n",
    "    CREATE TABLE db1.cameras_dir_partner_ch\n",
    "(\n",
    "    `serial_number` String,\n",
    "    `service_partner_uuid` String,\n",
    "    `partner_uuid` String,\n",
    "    `intercom_uuid` String,\n",
    "    `installation_point_id` Int64,\n",
    "    `camera_uuid` String,\n",
    "    `foreign_camera` Int16\n",
    ")\n",
    "    ENGINE = MergeTree()\n",
    "    ORDER BY partner_uuid\n",
    "    \"\"\"\n",
    "\n",
    "ch.query_run(query_text)"
   ]
  },
  {
   "cell_type": "code",
   "execution_count": null,
   "id": "e06b9949",
   "metadata": {},
   "outputs": [],
   "source": [
    "query_text = \"\"\"--sql\n",
    "    CREATE MATERIALIZED VIEW db1.cameras_dir_partner_mv\n",
    "    REFRESH EVERY 1 DAY OFFSET 3 HOUR RANDOMIZE FOR 1 HOUR TO db1.cameras_dir_partner_ch AS\n",
    "    SELECT\n",
    "        *\n",
    "    FROM db1.cameras_dir_partner\n",
    "    \"\"\"\n",
    "\n",
    "ch.query_run(query_text)"
   ]
  },
  {
   "cell_type": "markdown",
   "id": "ff4f0c7d",
   "metadata": {},
   "source": [
    "___\n",
    "## Tools\n",
    "___\n",
    "### query\n"
   ]
  },
  {
   "cell_type": "code",
   "execution_count": 2,
   "id": "1ab80cfb",
   "metadata": {},
   "outputs": [
    {
     "data": {
      "text/html": [
       "<div><style>\n",
       ".dataframe > thead > tr,\n",
       ".dataframe > tbody > tr {\n",
       "  text-align: right;\n",
       "  white-space: pre-wrap;\n",
       "}\n",
       "</style>\n",
       "<small>shape: (100, 7)</small><table border=\"1\" class=\"dataframe\"><thead><tr><th>serial_number</th><th>service_partner_uuid</th><th>partner_uuid</th><th>intercom_uuid</th><th>installation_point_id</th><th>camera_uuid</th><th>foreign_camera</th></tr><tr><td>str</td><td>str</td><td>str</td><td>str</td><td>i64</td><td>str</td><td>i64</td></tr></thead><tbody><tr><td>&quot;EF000000007F2DAF&quot;</td><td>&quot;&quot;</td><td>&quot;&quot;</td><td>&quot;&quot;</td><td>0</td><td>&quot;c4c21b11-fa0a-434b-956e-9f7d97…</td><td>0</td></tr><tr><td>&quot;EF0000000508DE71&quot;</td><td>&quot;&quot;</td><td>&quot;&quot;</td><td>&quot;&quot;</td><td>939929</td><td>&quot;9abb5fca-1b28-4bad-9202-b7268c…</td><td>0</td></tr><tr><td>&quot;EF0000000055F6A0&quot;</td><td>&quot;00be0483-e667-4d7e-a462-64f1eb…</td><td>&quot;00be0483-e667-4d7e-a462-64f1eb…</td><td>&quot;8722d4b5-a579-4ec5-bcbe-d9967e…</td><td>0</td><td>&quot;3d82e40d-7198-4eba-8001-b9a9eb…</td><td>0</td></tr><tr><td>&quot;EF000000005706F9&quot;</td><td>&quot;00be0483-e667-4d7e-a462-64f1eb…</td><td>&quot;00be0483-e667-4d7e-a462-64f1eb…</td><td>&quot;434f50a5-a348-4562-8efb-a87f30…</td><td>92569</td><td>&quot;60ab547f-0c09-4e72-8caa-834758…</td><td>0</td></tr><tr><td>&quot;EF00000000570B37&quot;</td><td>&quot;00be0483-e667-4d7e-a462-64f1eb…</td><td>&quot;00be0483-e667-4d7e-a462-64f1eb…</td><td>&quot;fda1f857-7d6a-46f1-93a8-91667c…</td><td>0</td><td>&quot;b88b8c30-7eb5-401e-a5cf-6497d6…</td><td>0</td></tr><tr><td>&hellip;</td><td>&hellip;</td><td>&hellip;</td><td>&hellip;</td><td>&hellip;</td><td>&hellip;</td><td>&hellip;</td></tr><tr><td>&quot;EF0000000055E816&quot;</td><td>&quot;010cd1e6-7f7b-4613-9209-96b28d…</td><td>&quot;010cd1e6-7f7b-4613-9209-96b28d…</td><td>&quot;f316bf16-2b44-4ceb-8962-d8f1ab…</td><td>781611</td><td>&quot;16658e98-5ab2-4829-92ec-1d26b1…</td><td>0</td></tr><tr><td>&quot;EF0000000055E81B&quot;</td><td>&quot;010cd1e6-7f7b-4613-9209-96b28d…</td><td>&quot;010cd1e6-7f7b-4613-9209-96b28d…</td><td>&quot;9379180c-092a-41cb-8e7b-0b9f5e…</td><td>753145</td><td>&quot;ffe53be5-881b-4399-ac47-1651db…</td><td>0</td></tr><tr><td>&quot;EF0000000055F3D3&quot;</td><td>&quot;010cd1e6-7f7b-4613-9209-96b28d…</td><td>&quot;010cd1e6-7f7b-4613-9209-96b28d…</td><td>&quot;2b9566f5-e377-422a-bc97-034762…</td><td>783217</td><td>&quot;4aed7b03-8f78-4a88-8130-065d77…</td><td>0</td></tr><tr><td>&quot;EF0000000055E978&quot;</td><td>&quot;010cd1e6-7f7b-4613-9209-96b28d…</td><td>&quot;010cd1e6-7f7b-4613-9209-96b28d…</td><td>&quot;65c7799c-d7a9-4a3c-9b2e-bffb97…</td><td>807140</td><td>&quot;135c40d6-d93d-4995-bdc4-24175a…</td><td>0</td></tr><tr><td>&quot;EF0000000057079D&quot;</td><td>&quot;010cd1e6-7f7b-4613-9209-96b28d…</td><td>&quot;010cd1e6-7f7b-4613-9209-96b28d…</td><td>&quot;9854b523-3001-4a16-a4f0-bd95a6…</td><td>783191</td><td>&quot;b66fb10a-cb90-497f-a8d4-77eadb…</td><td>0</td></tr></tbody></table></div>"
      ],
      "text/plain": [
       "shape: (100, 7)\n",
       "┌──────────────┬─────────────┬─────────────┬─────────────┬─────────────┬─────────────┬─────────────┐\n",
       "│ serial_numbe ┆ service_par ┆ partner_uui ┆ intercom_uu ┆ installatio ┆ camera_uuid ┆ foreign_cam │\n",
       "│ r            ┆ tner_uuid   ┆ d           ┆ id          ┆ n_point_id  ┆ ---         ┆ era         │\n",
       "│ ---          ┆ ---         ┆ ---         ┆ ---         ┆ ---         ┆ str         ┆ ---         │\n",
       "│ str          ┆ str         ┆ str         ┆ str         ┆ i64         ┆             ┆ i64         │\n",
       "╞══════════════╪═════════════╪═════════════╪═════════════╪═════════════╪═════════════╪═════════════╡\n",
       "│ EF000000007F ┆             ┆             ┆             ┆ 0           ┆ c4c21b11-fa ┆ 0           │\n",
       "│ 2DAF         ┆             ┆             ┆             ┆             ┆ 0a-434b-956 ┆             │\n",
       "│              ┆             ┆             ┆             ┆             ┆ e-9f7d97…   ┆             │\n",
       "│ EF0000000508 ┆             ┆             ┆             ┆ 939929      ┆ 9abb5fca-1b ┆ 0           │\n",
       "│ DE71         ┆             ┆             ┆             ┆             ┆ 28-4bad-920 ┆             │\n",
       "│              ┆             ┆             ┆             ┆             ┆ 2-b7268c…   ┆             │\n",
       "│ EF0000000055 ┆ 00be0483-e6 ┆ 00be0483-e6 ┆ 8722d4b5-a5 ┆ 0           ┆ 3d82e40d-71 ┆ 0           │\n",
       "│ F6A0         ┆ 67-4d7e-a46 ┆ 67-4d7e-a46 ┆ 79-4ec5-bcb ┆             ┆ 98-4eba-800 ┆             │\n",
       "│              ┆ 2-64f1eb…   ┆ 2-64f1eb…   ┆ e-d9967e…   ┆             ┆ 1-b9a9eb…   ┆             │\n",
       "│ EF0000000057 ┆ 00be0483-e6 ┆ 00be0483-e6 ┆ 434f50a5-a3 ┆ 92569       ┆ 60ab547f-0c ┆ 0           │\n",
       "│ 06F9         ┆ 67-4d7e-a46 ┆ 67-4d7e-a46 ┆ 48-4562-8ef ┆             ┆ 09-4e72-8ca ┆             │\n",
       "│              ┆ 2-64f1eb…   ┆ 2-64f1eb…   ┆ b-a87f30…   ┆             ┆ a-834758…   ┆             │\n",
       "│ EF0000000057 ┆ 00be0483-e6 ┆ 00be0483-e6 ┆ fda1f857-7d ┆ 0           ┆ b88b8c30-7e ┆ 0           │\n",
       "│ 0B37         ┆ 67-4d7e-a46 ┆ 67-4d7e-a46 ┆ 6a-46f1-93a ┆             ┆ b5-401e-a5c ┆             │\n",
       "│              ┆ 2-64f1eb…   ┆ 2-64f1eb…   ┆ 8-91667c…   ┆             ┆ f-6497d6…   ┆             │\n",
       "│ …            ┆ …           ┆ …           ┆ …           ┆ …           ┆ …           ┆ …           │\n",
       "│ EF0000000055 ┆ 010cd1e6-7f ┆ 010cd1e6-7f ┆ f316bf16-2b ┆ 781611      ┆ 16658e98-5a ┆ 0           │\n",
       "│ E816         ┆ 7b-4613-920 ┆ 7b-4613-920 ┆ 44-4ceb-896 ┆             ┆ b2-4829-92e ┆             │\n",
       "│              ┆ 9-96b28d…   ┆ 9-96b28d…   ┆ 2-d8f1ab…   ┆             ┆ c-1d26b1…   ┆             │\n",
       "│ EF0000000055 ┆ 010cd1e6-7f ┆ 010cd1e6-7f ┆ 9379180c-09 ┆ 753145      ┆ ffe53be5-88 ┆ 0           │\n",
       "│ E81B         ┆ 7b-4613-920 ┆ 7b-4613-920 ┆ 2a-41cb-8e7 ┆             ┆ 1b-4399-ac4 ┆             │\n",
       "│              ┆ 9-96b28d…   ┆ 9-96b28d…   ┆ b-0b9f5e…   ┆             ┆ 7-1651db…   ┆             │\n",
       "│ EF0000000055 ┆ 010cd1e6-7f ┆ 010cd1e6-7f ┆ 2b9566f5-e3 ┆ 783217      ┆ 4aed7b03-8f ┆ 0           │\n",
       "│ F3D3         ┆ 7b-4613-920 ┆ 7b-4613-920 ┆ 77-422a-bc9 ┆             ┆ 78-4a88-813 ┆             │\n",
       "│              ┆ 9-96b28d…   ┆ 9-96b28d…   ┆ 7-034762…   ┆             ┆ 0-065d77…   ┆             │\n",
       "│ EF0000000055 ┆ 010cd1e6-7f ┆ 010cd1e6-7f ┆ 65c7799c-d7 ┆ 807140      ┆ 135c40d6-d9 ┆ 0           │\n",
       "│ E978         ┆ 7b-4613-920 ┆ 7b-4613-920 ┆ a9-4a3c-9b2 ┆             ┆ 3d-4995-bdc ┆             │\n",
       "│              ┆ 9-96b28d…   ┆ 9-96b28d…   ┆ e-bffb97…   ┆             ┆ 4-24175a…   ┆             │\n",
       "│ EF0000000057 ┆ 010cd1e6-7f ┆ 010cd1e6-7f ┆ 9854b523-30 ┆ 783191      ┆ b66fb10a-cb ┆ 0           │\n",
       "│ 079D         ┆ 7b-4613-920 ┆ 7b-4613-920 ┆ 01-4a16-a4f ┆             ┆ 90-497f-a8d ┆             │\n",
       "│              ┆ 9-96b28d…   ┆ 9-96b28d…   ┆ 0-bd95a6…   ┆             ┆ 4-77eadb…   ┆             │\n",
       "└──────────────┴─────────────┴─────────────┴─────────────┴─────────────┴─────────────┴─────────────┘"
      ]
     },
     "execution_count": 2,
     "metadata": {},
     "output_type": "execute_result"
    }
   ],
   "source": [
    "query_text = \"\"\"--sql\n",
    "    SELECT\n",
    "        *\n",
    "    FROM db1.cameras_dir_partner_ch\n",
    "    limit 100\n",
    "    \"\"\"\n",
    "\n",
    "ch.query_run(query_text)\n"
   ]
  },
  {
   "cell_type": "markdown",
   "id": "60eb951f",
   "metadata": {},
   "source": [
    "### drop mv"
   ]
  },
  {
   "cell_type": "code",
   "execution_count": null,
   "id": "c811a063",
   "metadata": {},
   "outputs": [],
   "source": [
    "query_text = \"\"\"--sql\n",
    "    DROP TABLE db1.cameras_dir_partner_mv\n",
    "    \"\"\"\n",
    "\n",
    "ch.query_run(query_text)"
   ]
  },
  {
   "cell_type": "markdown",
   "id": "72a38469",
   "metadata": {},
   "source": [
    "\n",
    "### drop ch"
   ]
  },
  {
   "cell_type": "code",
   "execution_count": null,
   "id": "f84fac93",
   "metadata": {},
   "outputs": [],
   "source": [
    "query_text = \"\"\"--sql\n",
    "    DROP TABLE db1.cameras_dir_partner_ch\n",
    "    \"\"\"\n",
    "\n",
    "ch.query_run(query_text)"
   ]
  },
  {
   "cell_type": "markdown",
   "id": "be9741df",
   "metadata": {},
   "source": [
    "### refresh mv"
   ]
  },
  {
   "cell_type": "code",
   "execution_count": null,
   "id": "760fb5dd",
   "metadata": {},
   "outputs": [],
   "source": [
    "query_text = \"\"\"\n",
    "SYSTEM REFRESH VIEW db1.cameras_dir_partner_mv\n",
    "\"\"\"\n",
    "\n",
    "ch.query_run(query_text)"
   ]
  }
 ],
 "metadata": {
  "jupytext": {
   "formats": "ipynb,md"
  },
  "kernelspec": {
   "display_name": "myenv",
   "language": "python",
   "name": "python3"
  },
  "language_info": {
   "codemirror_mode": {
    "name": "ipython",
    "version": 3
   },
   "file_extension": ".py",
   "mimetype": "text/x-python",
   "name": "python",
   "nbconvert_exporter": "python",
   "pygments_lexer": "ipython3",
   "version": "3.12.11"
  }
 },
 "nbformat": 4,
 "nbformat_minor": 5
}

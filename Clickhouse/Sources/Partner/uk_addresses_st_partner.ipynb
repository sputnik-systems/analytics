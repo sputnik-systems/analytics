{
 "cells": [
  {
   "cell_type": "code",
   "execution_count": 1,
   "id": "447f9626",
   "metadata": {},
   "outputs": [],
   "source": [
    "import clickhouse_connect\n",
    "import datetime\n",
    "import os\n",
    "import pytz\n",
    "import pandas as pd\n",
    "from dateutil.relativedelta import relativedelta\n",
    "from dotenv import load_dotenv\n",
    "\n",
    "import sys\n",
    "sys.path.append('/home/boris/Documents/Work/analytics/Clickhouse')\n",
    "from clickhouse_client import ClickHouse_client\n",
    "ch = ClickHouse_client()\n",
    "pd.set_option('display.max_rows', 1000)"
   ]
  },
  {
   "cell_type": "markdown",
   "id": "03f9ab0e",
   "metadata": {},
   "source": [
    "___\n",
    "### Tags: #Source #Partner\n",
    "\n",
    "### Links: \n",
    "___"
   ]
  },
  {
   "cell_type": "code",
   "execution_count": null,
   "id": "de7b27c6",
   "metadata": {},
   "outputs": [],
   "source": [
    "# creating a table from s3\n",
    "\n",
    "query_text = \"\"\"--sql\n",
    "    CREATE TABLE db1.uk_addresses_st_partner\n",
    "    (\n",
    "        `report_date` Date,\n",
    "        `partner_uuid_uk`  String,\n",
    "        `address_uuid` String\n",
    "    )\n",
    "    ENGINE = S3('https://storage.yandexcloud.net/dwh-asgard/uk_addresses_st_partner/year=*/month=*/*.csv','CSVWithNames')\n",
    "    \"\"\"\n",
    "\n",
    "ch.query_run(query_text)"
   ]
  },
  {
   "cell_type": "code",
   "execution_count": null,
   "id": "8e4f9214",
   "metadata": {},
   "outputs": [],
   "source": [
    "# creating a table for materialized view\n",
    "\n",
    "query_text = \"\"\"--sql\n",
    "    CREATE TABLE db1.uk_addresses_st_partner_ch\n",
    "    (\n",
    "       `report_date` Date,\n",
    "        `partner_uuid_uk` String,\n",
    "        `address_uuid` String\n",
    "    )\n",
    "    ENGINE = MergeTree()\n",
    "    ORDER BY partner_uuid_uk\n",
    "    \"\"\"\n",
    "\n",
    "ch.query_run(query_text)"
   ]
  },
  {
   "cell_type": "code",
   "execution_count": null,
   "id": "050700b4",
   "metadata": {},
   "outputs": [],
   "source": [
    "# creating a materialized view\n",
    "\n",
    "query_text = \"\"\"--sql\n",
    "    CREATE MATERIALIZED VIEW db1.uk_addresses_st_partner_mv\n",
    "    REFRESH EVERY 1 DAY OFFSET 3 HOUR RANDOMIZE FOR 1 HOUR TO db1.uk_addresses_st_partner_ch AS\n",
    "    SELECT\n",
    "        *\n",
    "    FROM db1.uk_addresses_st_partner\n",
    "    \"\"\"\n",
    "\n",
    "ch.query_run(query_text)"
   ]
  },
  {
   "cell_type": "markdown",
   "id": "12f846ce",
   "metadata": {},
   "source": [
    "___\n",
    "## Tools\n",
    "___\n",
    "### query"
   ]
  },
  {
   "cell_type": "code",
   "execution_count": 2,
   "id": "cdf04f5e",
   "metadata": {},
   "outputs": [
    {
     "data": {
      "text/html": [
       "<div><style>\n",
       ".dataframe > thead > tr,\n",
       ".dataframe > tbody > tr {\n",
       "  text-align: right;\n",
       "  white-space: pre-wrap;\n",
       "}\n",
       "</style>\n",
       "<small>shape: (10, 3)</small><table border=\"1\" class=\"dataframe\"><thead><tr><th>report_date</th><th>partner_uuid_uk</th><th>address_uuid</th></tr><tr><td>date</td><td>str</td><td>str</td></tr></thead><tbody><tr><td>2024-10-10</td><td>&quot;0076e1b0-72c3-4783-9306-93d299…</td><td>&quot;cb0afec6-4041-4c9b-b9fd-9cd62a…</td></tr><tr><td>2024-10-10</td><td>&quot;0076e1b0-72c3-4783-9306-93d299…</td><td>&quot;acc6f2b2-98dc-4657-8f07-0c9b7a…</td></tr><tr><td>2024-10-11</td><td>&quot;0076e1b0-72c3-4783-9306-93d299…</td><td>&quot;cb0afec6-4041-4c9b-b9fd-9cd62a…</td></tr><tr><td>2024-10-11</td><td>&quot;0076e1b0-72c3-4783-9306-93d299…</td><td>&quot;acc6f2b2-98dc-4657-8f07-0c9b7a…</td></tr><tr><td>2024-10-12</td><td>&quot;0076e1b0-72c3-4783-9306-93d299…</td><td>&quot;cb0afec6-4041-4c9b-b9fd-9cd62a…</td></tr><tr><td>2024-10-12</td><td>&quot;0076e1b0-72c3-4783-9306-93d299…</td><td>&quot;acc6f2b2-98dc-4657-8f07-0c9b7a…</td></tr><tr><td>2024-10-01</td><td>&quot;0076e1b0-72c3-4783-9306-93d299…</td><td>&quot;cb0afec6-4041-4c9b-b9fd-9cd62a…</td></tr><tr><td>2024-10-01</td><td>&quot;0076e1b0-72c3-4783-9306-93d299…</td><td>&quot;acc6f2b2-98dc-4657-8f07-0c9b7a…</td></tr><tr><td>2024-10-14</td><td>&quot;0076e1b0-72c3-4783-9306-93d299…</td><td>&quot;cb0afec6-4041-4c9b-b9fd-9cd62a…</td></tr><tr><td>2024-10-14</td><td>&quot;0076e1b0-72c3-4783-9306-93d299…</td><td>&quot;acc6f2b2-98dc-4657-8f07-0c9b7a…</td></tr></tbody></table></div>"
      ],
      "text/plain": [
       "shape: (10, 3)\n",
       "┌─────────────┬─────────────────────────────────┬─────────────────────────────────┐\n",
       "│ report_date ┆ partner_uuid_uk                 ┆ address_uuid                    │\n",
       "│ ---         ┆ ---                             ┆ ---                             │\n",
       "│ date        ┆ str                             ┆ str                             │\n",
       "╞═════════════╪═════════════════════════════════╪═════════════════════════════════╡\n",
       "│ 2024-10-10  ┆ 0076e1b0-72c3-4783-9306-93d299… ┆ cb0afec6-4041-4c9b-b9fd-9cd62a… │\n",
       "│ 2024-10-10  ┆ 0076e1b0-72c3-4783-9306-93d299… ┆ acc6f2b2-98dc-4657-8f07-0c9b7a… │\n",
       "│ 2024-10-11  ┆ 0076e1b0-72c3-4783-9306-93d299… ┆ cb0afec6-4041-4c9b-b9fd-9cd62a… │\n",
       "│ 2024-10-11  ┆ 0076e1b0-72c3-4783-9306-93d299… ┆ acc6f2b2-98dc-4657-8f07-0c9b7a… │\n",
       "│ 2024-10-12  ┆ 0076e1b0-72c3-4783-9306-93d299… ┆ cb0afec6-4041-4c9b-b9fd-9cd62a… │\n",
       "│ 2024-10-12  ┆ 0076e1b0-72c3-4783-9306-93d299… ┆ acc6f2b2-98dc-4657-8f07-0c9b7a… │\n",
       "│ 2024-10-01  ┆ 0076e1b0-72c3-4783-9306-93d299… ┆ cb0afec6-4041-4c9b-b9fd-9cd62a… │\n",
       "│ 2024-10-01  ┆ 0076e1b0-72c3-4783-9306-93d299… ┆ acc6f2b2-98dc-4657-8f07-0c9b7a… │\n",
       "│ 2024-10-14  ┆ 0076e1b0-72c3-4783-9306-93d299… ┆ cb0afec6-4041-4c9b-b9fd-9cd62a… │\n",
       "│ 2024-10-14  ┆ 0076e1b0-72c3-4783-9306-93d299… ┆ acc6f2b2-98dc-4657-8f07-0c9b7a… │\n",
       "└─────────────┴─────────────────────────────────┴─────────────────────────────────┘"
      ]
     },
     "execution_count": 2,
     "metadata": {},
     "output_type": "execute_result"
    }
   ],
   "source": [
    "query_text = \"\"\"--sql\n",
    "    SELECT\n",
    "        *\n",
    "    FROM db1.uk_addresses_st_partner_ch\n",
    "    limit 10\n",
    "    \"\"\"\n",
    "\n",
    "ch.query_run(query_text)"
   ]
  },
  {
   "cell_type": "markdown",
   "id": "35f52074",
   "metadata": {},
   "source": [
    "### Drop ch"
   ]
  },
  {
   "cell_type": "code",
   "execution_count": null,
   "id": "c1b3c50b",
   "metadata": {},
   "outputs": [],
   "source": [
    "query_text = \"\"\"\n",
    "    DROP TABLE db1.uk_addresses_st_partner_ch\n",
    "    \"\"\"\n",
    "ch.query_run(query_text)"
   ]
  },
  {
   "cell_type": "markdown",
   "id": "c56d1eb3",
   "metadata": {},
   "source": [
    "### Drop mv"
   ]
  },
  {
   "cell_type": "code",
   "execution_count": null,
   "id": "96e61dd0",
   "metadata": {},
   "outputs": [],
   "source": [
    "query_text = \"\"\"\n",
    "    DROP TABLE db1.uk_addresses_st_partner_mv\n",
    "    \"\"\"\n",
    "ch.query_run(query_text)"
   ]
  }
 ],
 "metadata": {
  "jupytext": {
   "formats": "ipynb,md"
  },
  "kernelspec": {
   "display_name": "myenv",
   "language": "python",
   "name": "python3"
  },
  "language_info": {
   "codemirror_mode": {
    "name": "ipython",
    "version": 3
   },
   "file_extension": ".py",
   "mimetype": "text/x-python",
   "name": "python",
   "nbconvert_exporter": "python",
   "pygments_lexer": "ipython3",
   "version": "3.12.11"
  }
 },
 "nbformat": 4,
 "nbformat_minor": 5
}

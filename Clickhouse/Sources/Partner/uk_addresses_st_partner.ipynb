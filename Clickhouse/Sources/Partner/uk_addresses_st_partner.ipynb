{
 "cells": [
  {
   "cell_type": "code",
   "execution_count": null,
   "id": "447f9626",
   "metadata": {},
   "outputs": [],
   "source": [
    "import clickhouse_connect\n",
    "import datetime\n",
    "import os\n",
    "import pytz\n",
    "import pandas as pd\n",
    "from dateutil.relativedelta import relativedelta\n",
    "from dotenv import load_dotenv\n",
    "\n",
    "import sys\n",
    "sys.path.append('/home/boris/Documents/Work/analytics/Clickhouse')\n",
    "from clickhouse_client import ClickHouse_client\n",
    "ch = ClickHouse_client()\n",
    "pd.set_option('display.max_rows', 1000)"
   ]
  },
  {
   "cell_type": "markdown",
   "id": "03f9ab0e",
   "metadata": {},
   "source": [
    "___\n",
    "### Tags: #Source #Partner\n",
    "\n",
    "### Links: \n",
    "___"
   ]
  },
  {
   "cell_type": "code",
   "execution_count": null,
   "id": "de7b27c6",
   "metadata": {},
   "outputs": [],
   "source": [
    "# creating a table from s3\n",
    "\n",
    "query_text = \"\"\"--sql\n",
    "    CREATE TABLE db1.uk_addresses_st_partner\n",
    "    (\n",
    "        `report_date` Date,\n",
    "        `partner_uuid_uk`  String,\n",
    "        `address_uuid` String\n",
    "    )\n",
    "    ENGINE = S3('https://storage.yandexcloud.net/dwh-asgard/uk_addresses_st_partner/year=*/month=*/*.csv','CSVWithNames')\n",
    "    \"\"\"\n",
    "\n",
    "ch.query_run(query_text)"
   ]
  },
  {
   "cell_type": "code",
   "execution_count": null,
   "id": "8e4f9214",
   "metadata": {},
   "outputs": [],
   "source": [
    "# creating a table for materialized view\n",
    "\n",
    "query_text = \"\"\"--sql\n",
    "    CREATE TABLE db1.uk_addresses_st_partner_ch\n",
    "    (\n",
    "       `report_date` Date,\n",
    "        `partner_uuid_uk` String,\n",
    "        `address_uuid` String\n",
    "    )\n",
    "    ENGINE = MergeTree()\n",
    "    ORDER BY partner_uuid_uk\n",
    "    \"\"\"\n",
    "\n",
    "ch.query_run(query_text)"
   ]
  },
  {
   "cell_type": "code",
   "execution_count": null,
   "id": "050700b4",
   "metadata": {},
   "outputs": [],
   "source": [
    "# creating a materialized view\n",
    "\n",
    "query_text = \"\"\"--sql\n",
    "    CREATE MATERIALIZED VIEW db1.uk_addresses_st_partner_mv\n",
    "    REFRESH EVERY 1 DAY OFFSET 3 HOUR RANDOMIZE FOR 1 HOUR TO db1.uk_addresses_st_partner_ch AS\n",
    "    SELECT\n",
    "        *\n",
    "    FROM db1.uk_addresses_st_partner\n",
    "    \"\"\"\n",
    "\n",
    "ch.query_run(query_text)"
   ]
  },
  {
   "cell_type": "markdown",
   "id": "12f846ce",
   "metadata": {},
   "source": [
    "___\n",
    "## Tools\n",
    "___\n",
    "### query"
   ]
  },
  {
   "cell_type": "code",
   "execution_count": null,
   "id": "cdf04f5e",
   "metadata": {},
   "outputs": [],
   "source": [
    "query_text = \"\"\"--sql\n",
    "    SELECT\n",
    "        *\n",
    "    FROM db1.uk_addresses_st_partner_ch\n",
    "    limit 10\n",
    "    \"\"\"\n",
    "\n",
    "ch.query_run(query_text)"
   ]
  },
  {
   "cell_type": "markdown",
   "id": "35f52074",
   "metadata": {},
   "source": [
    "### Drop ch"
   ]
  },
  {
   "cell_type": "code",
   "execution_count": null,
   "id": "c1b3c50b",
   "metadata": {},
   "outputs": [],
   "source": [
    "query_text = \"\"\"\n",
    "    DROP TABLE db1.uk_addresses_st_partner_ch\n",
    "    \"\"\"\n",
    "ch.query_run(query_text)"
   ]
  },
  {
   "cell_type": "markdown",
   "id": "c56d1eb3",
   "metadata": {},
   "source": [
    "### Drop mv"
   ]
  },
  {
   "cell_type": "code",
   "execution_count": null,
   "id": "96e61dd0",
   "metadata": {},
   "outputs": [],
   "source": [
    "query_text = \"\"\"\n",
    "    DROP TABLE db1.uk_addresses_st_partner_mv\n",
    "    \"\"\"\n",
    "ch.query_run(query_text)"
   ]
  }
 ],
 "metadata": {
  "jupytext": {
   "formats": "ipynb,md"
  },
  "language_info": {
   "name": "python"
  }
 },
 "nbformat": 4,
 "nbformat_minor": 5
}

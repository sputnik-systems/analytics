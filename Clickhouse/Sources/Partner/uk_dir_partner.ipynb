{
 "cells": [
  {
   "cell_type": "markdown",
   "id": "179ff9d7",
   "metadata": {},
   "source": [
    "## Start"
   ]
  },
  {
   "cell_type": "code",
   "execution_count": 1,
   "id": "456f55e2",
   "metadata": {},
   "outputs": [],
   "source": [
    "import clickhouse_connect\n",
    "import datetime\n",
    "import os\n",
    "import pytz\n",
    "import pandas as pd\n",
    "from dateutil.relativedelta import relativedelta\n",
    "from dotenv import load_dotenv\n",
    "\n",
    "import sys\n",
    "sys.path.append('/home/boris/Documents/Work/analytics/Clickhouse')\n",
    "from clickhouse_client import ClickHouse_client\n",
    "ch = ClickHouse_client()\n",
    "pd.set_option('display.max_rows', 1000)\n",
    "\n"
   ]
  },
  {
   "cell_type": "markdown",
   "id": "d7860905",
   "metadata": {},
   "source": [
    "___\n",
    "### Tags: #Source #Partner\n",
    "\n",
    "### Links: \n",
    "___"
   ]
  },
  {
   "cell_type": "code",
   "execution_count": null,
   "id": "04940ed6",
   "metadata": {},
   "outputs": [],
   "source": [
    "# creating a table from s3\n",
    "\n",
    "query_text = \"\"\"--sql\n",
    "    CREATE TABLE db1.uk_dir_partner\n",
    "    (\n",
    "        `id` Int32,\n",
    "        `name`  String,\n",
    "        `partner_uuid_uk` String,\n",
    "        `created_at` String\n",
    "    )\n",
    "    ENGINE = S3('https://storage.yandexcloud.net/dwh-asgard/uk_dir_partner/uk_dir_partner.csv','CSVWithNames')\n",
    "    \"\"\"\n",
    "\n",
    "ch.query_run(query_text)"
   ]
  },
  {
   "cell_type": "code",
   "execution_count": null,
   "id": "2fdab893",
   "metadata": {},
   "outputs": [],
   "source": [
    "# creating a table for materialized view\n",
    "\n",
    "query_text = \"\"\"--sql\n",
    "    CREATE TABLE db1.uk_dir_partner_ch\n",
    "    (\n",
    "        `id` Int32,\n",
    "        `name`  String,\n",
    "        `partner_uuid_uk` String,\n",
    "        `created_at` String\n",
    "    )\n",
    "    ENGINE = MergeTree()\n",
    "    ORDER BY partner_uuid_uk\n",
    "    \"\"\"\n",
    "\n",
    "ch.query_run(query_text)"
   ]
  },
  {
   "cell_type": "code",
   "execution_count": null,
   "id": "33ac4081",
   "metadata": {},
   "outputs": [],
   "source": [
    "# creating a materialized view\n",
    "\n",
    "query_text = \"\"\"--sql\n",
    "    CREATE MATERIALIZED VIEW db1.uk_dir_partner_mv\n",
    "    REFRESH EVERY 1 DAY OFFSET 3 HOUR RANDOMIZE FOR 1 HOUR TO db1.uk_dir_partner_ch AS\n",
    "    SELECT\n",
    "        *\n",
    "    FROM db1.uk_dir_partner\n",
    "    \"\"\"\n",
    "\n",
    "ch.query_run(query_text)"
   ]
  },
  {
   "cell_type": "markdown",
   "id": "bd4fe9a8",
   "metadata": {},
   "source": [
    "___\n",
    "## Tools\n",
    "___\n",
    "### query"
   ]
  },
  {
   "cell_type": "code",
   "execution_count": 2,
   "id": "089acb55",
   "metadata": {},
   "outputs": [
    {
     "data": {
      "text/html": [
       "<div><style>\n",
       ".dataframe > thead > tr,\n",
       ".dataframe > tbody > tr {\n",
       "  text-align: right;\n",
       "  white-space: pre-wrap;\n",
       "}\n",
       "</style>\n",
       "<small>shape: (10, 4)</small><table border=\"1\" class=\"dataframe\"><thead><tr><th>id</th><th>name</th><th>partner_uuid_uk</th><th>created_at</th></tr><tr><td>i64</td><td>str</td><td>str</td><td>str</td></tr></thead><tbody><tr><td>68</td><td>&quot;Жилкомфорт 105 кв&quot;</td><td>&quot;0076e1b0-72c3-4783-9306-93d299…</td><td>&quot;2024-03-06 02:42:16&quot;</td></tr><tr><td>345</td><td>&quot;УК &quot;НЭК ЭНЕРГО&quot;&quot;</td><td>&quot;008d558d-fa9b-499f-b0a4-b4a00b…</td><td>&quot;2025-06-27 13:19:04&quot;</td></tr><tr><td>284</td><td>&quot;Физкультурная 9/3&quot;</td><td>&quot;00b3faa7-ed4f-4ee5-93a1-7f0461…</td><td>&quot;2025-03-18 00:30:27&quot;</td></tr><tr><td>37</td><td>&quot;УК&quot;</td><td>&quot;0129eea8-c15b-4086-92c9-ac456e…</td><td>&quot;2023-11-27 07:14:18&quot;</td></tr><tr><td>20</td><td>&quot;Dmitriy Dryga&quot;</td><td>&quot;027a995b-0b07-42b9-975b-660b3b…</td><td>&quot;2023-10-11 07:05:47&quot;</td></tr><tr><td>277</td><td>&quot;МВД Курганской области обновле…</td><td>&quot;02c58e6c-1a8e-440e-8063-25e69a…</td><td>&quot;2025-03-11 14:54:58&quot;</td></tr><tr><td>55</td><td>&quot;test test&quot;</td><td>&quot;03011373-3e11-4640-a47b-5adca3…</td><td>&quot;2024-02-06 08:33:44&quot;</td></tr><tr><td>222</td><td>&quot;Денис&quot;</td><td>&quot;033c6419-baca-4475-9ce2-08e2ed…</td><td>&quot;2024-10-23 18:10:29&quot;</td></tr><tr><td>63</td><td>&quot;Честная УК&quot;</td><td>&quot;045328cf-a192-40be-8ab4-fec1e5…</td><td>&quot;2024-02-28 16:12:41&quot;</td></tr><tr><td>148</td><td>&quot;тест&quot;</td><td>&quot;0469d59c-470b-4380-ac11-4657fc…</td><td>&quot;2024-09-17 14:00:31&quot;</td></tr></tbody></table></div>"
      ],
      "text/plain": [
       "shape: (10, 4)\n",
       "┌─────┬─────────────────────────────────┬─────────────────────────────────┬─────────────────────┐\n",
       "│ id  ┆ name                            ┆ partner_uuid_uk                 ┆ created_at          │\n",
       "│ --- ┆ ---                             ┆ ---                             ┆ ---                 │\n",
       "│ i64 ┆ str                             ┆ str                             ┆ str                 │\n",
       "╞═════╪═════════════════════════════════╪═════════════════════════════════╪═════════════════════╡\n",
       "│ 68  ┆ Жилкомфорт 105 кв               ┆ 0076e1b0-72c3-4783-9306-93d299… ┆ 2024-03-06 02:42:16 │\n",
       "│ 345 ┆ УК \"НЭК ЭНЕРГО\"                 ┆ 008d558d-fa9b-499f-b0a4-b4a00b… ┆ 2025-06-27 13:19:04 │\n",
       "│ 284 ┆ Физкультурная 9/3               ┆ 00b3faa7-ed4f-4ee5-93a1-7f0461… ┆ 2025-03-18 00:30:27 │\n",
       "│ 37  ┆ УК                              ┆ 0129eea8-c15b-4086-92c9-ac456e… ┆ 2023-11-27 07:14:18 │\n",
       "│ 20  ┆ Dmitriy Dryga                   ┆ 027a995b-0b07-42b9-975b-660b3b… ┆ 2023-10-11 07:05:47 │\n",
       "│ 277 ┆ МВД Курганской области обновле… ┆ 02c58e6c-1a8e-440e-8063-25e69a… ┆ 2025-03-11 14:54:58 │\n",
       "│ 55  ┆ test test                       ┆ 03011373-3e11-4640-a47b-5adca3… ┆ 2024-02-06 08:33:44 │\n",
       "│ 222 ┆ Денис                           ┆ 033c6419-baca-4475-9ce2-08e2ed… ┆ 2024-10-23 18:10:29 │\n",
       "│ 63  ┆ Честная УК                      ┆ 045328cf-a192-40be-8ab4-fec1e5… ┆ 2024-02-28 16:12:41 │\n",
       "│ 148 ┆ тест                            ┆ 0469d59c-470b-4380-ac11-4657fc… ┆ 2024-09-17 14:00:31 │\n",
       "└─────┴─────────────────────────────────┴─────────────────────────────────┴─────────────────────┘"
      ]
     },
     "execution_count": 2,
     "metadata": {},
     "output_type": "execute_result"
    }
   ],
   "source": [
    "query_text = \"\"\"--sql\n",
    "    SELECT\n",
    "        *\n",
    "    FROM db1.uk_dir_partner_ch\n",
    "    limit 10\n",
    "    \"\"\"\n",
    "\n",
    "ch.query_run(query_text)"
   ]
  },
  {
   "cell_type": "markdown",
   "id": "d6c1c39f",
   "metadata": {},
   "source": [
    "### Drop ch"
   ]
  },
  {
   "cell_type": "code",
   "execution_count": null,
   "id": "64a324de",
   "metadata": {},
   "outputs": [],
   "source": [
    "query_text = \"\"\"\n",
    "    DROP TABLE db1.uk_dir_partner_ch\n",
    "    \"\"\"\n",
    "ch.query_run(query_text)"
   ]
  },
  {
   "cell_type": "markdown",
   "id": "693b560f",
   "metadata": {},
   "source": [
    "### Drop mv"
   ]
  },
  {
   "cell_type": "code",
   "execution_count": null,
   "id": "9c97297b",
   "metadata": {},
   "outputs": [],
   "source": [
    "query_text = \"\"\"\n",
    "    DROP TABLE db1.uk_dir_partner_mv\n",
    "    \"\"\"\n",
    "ch.query_run(query_text)"
   ]
  }
 ],
 "metadata": {
  "jupytext": {
   "formats": "ipynb,md"
  },
  "kernelspec": {
   "display_name": "myenv",
   "language": "python",
   "name": "python3"
  },
  "language_info": {
   "codemirror_mode": {
    "name": "ipython",
    "version": 3
   },
   "file_extension": ".py",
   "mimetype": "text/x-python",
   "name": "python",
   "nbconvert_exporter": "python",
   "pygments_lexer": "ipython3",
   "version": "3.12.11"
  }
 },
 "nbformat": 4,
 "nbformat_minor": 5
}

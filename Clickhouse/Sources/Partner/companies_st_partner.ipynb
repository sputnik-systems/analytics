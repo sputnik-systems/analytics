{
 "cells": [
  {
   "cell_type": "markdown",
   "id": "60a8b512",
   "metadata": {},
   "source": [
    "## Start"
   ]
  },
  {
   "cell_type": "code",
   "execution_count": null,
   "id": "46c3d530",
   "metadata": {},
   "outputs": [],
   "source": [
    "import clickhouse_connect\n",
    "import datetime\n",
    "import os\n",
    "import pytz\n",
    "import pandas as pd\n",
    "from dateutil.relativedelta import relativedelta\n",
    "from dotenv import load_dotenv\n",
    "\n",
    "import sys\n",
    "sys.path.append('/home/boris/Documents/Work/analytics/Clickhouse')\n",
    "from clickhouse_client import ClickHouse_client\n",
    "ch = ClickHouse_client()\n",
    "pd.set_option('display.max_rows', 1000)\n",
    "\n"
   ]
  },
  {
   "cell_type": "markdown",
   "id": "631720f6",
   "metadata": {},
   "source": [
    "___\n",
    "### Tags: #Source #Partner\n",
    "\n",
    "### Links: \n",
    "___"
   ]
  },
  {
   "cell_type": "code",
   "execution_count": null,
   "id": "1fadb2c9",
   "metadata": {},
   "outputs": [],
   "source": [
    "# creating a table from s3\n",
    "\n",
    "query_text = \"\"\"--sql \n",
    "CREATE TABLE db1.companies_st_partner\n",
    "(\n",
    "    `report_date` Date,\n",
    "    `partner_uuid` String,\n",
    "    `is_blocked` Int16,\n",
    "    `pro_subs` Int16,\n",
    "    `enterprise_subs` Int16,\n",
    "    `billing_pro` Int16,\n",
    "    `enterprise_not_paid` Int16,\n",
    "    `enterprise_test` Int16,\n",
    "    `balance` Float64,\n",
    "    `tariff` String,\n",
    "    `kz_pro` Int16\n",
    ")\n",
    "ENGINE = S3('https://storage.yandexcloud.net/dwh-asgard/companies_st_partner/year=*/month=*/*.csv', 'CSVWithNames')\n",
    "PARTITION BY partner_uuid\n",
    "    \"\"\"\n",
    "\n",
    "ch.query_run(query_text)"
   ]
  },
  {
   "cell_type": "code",
   "execution_count": null,
   "id": "5ee9d1c8",
   "metadata": {},
   "outputs": [],
   "source": [
    "query_text = \"\"\"--sql\n",
    "    CREATE TABLE db1.companies_st_partner_ch\n",
    "(\n",
    "    `report_date` Date,\n",
    "    `partner_uuid` String,\n",
    "    `is_blocked` Int16,\n",
    "    `pro_subs` Int16,\n",
    "    `enterprise_subs` Int16,\n",
    "    `billing_pro` Int16,\n",
    "    `enterprise_not_paid` Int16,\n",
    "    `enterprise_test` Int16,\n",
    "    `balance` Float64,\n",
    "    `tariff` String,\n",
    "    `kz_pro` Int16,\n",
    "    `tariff_full` String\n",
    ")\n",
    "    ENGINE = MergeTree()\n",
    "    ORDER BY partner_uuid\n",
    "    \"\"\"\n",
    "\n",
    "ch.query_run(query_text)"
   ]
  },
  {
   "cell_type": "code",
   "execution_count": null,
   "id": "a0073702",
   "metadata": {},
   "outputs": [],
   "source": [
    "query_text = \"\"\"--sql\n",
    "    CREATE MATERIALIZED VIEW db1.companies_st_partner_mv\n",
    "    REFRESH EVERY 1 DAY OFFSET 4 HOUR RANDOMIZE FOR 1 HOUR TO db1.companies_st_partner_ch AS\n",
    "    SELECT\n",
    "        `report_date` ,\n",
    "        `partner_uuid` ,\n",
    "        `is_blocked` ,\n",
    "        `pro_subs` ,\n",
    "        `enterprise_subs` ,\n",
    "        `billing_pro` ,\n",
    "        `enterprise_not_paid` ,\n",
    "        `enterprise_test` ,\n",
    "        `balance`,\n",
    "        `kz_pro`,\n",
    "        CASE\n",
    "            WHEN pro_subs = 1 THEN 'pro'\n",
    "            WHEN kz_pro = 1 THEN 'kz_pro'\n",
    "            WHEN enterprise_subs = 1 then 'enterprise'\n",
    "            ELSE 'start'\n",
    "        END AS `tariff`,\n",
    "        CASE\n",
    "            WHEN enterprise_test = 1 then 'Enterprise Тест'\n",
    "            WHEN enterprise_not_paid = 1 then 'Enterprise без биллинга'\n",
    "            WHEN enterprise_subs = 1 then 'Enterprise'\n",
    "            WHEN kz_pro = 1  then 'PRO Казахстан'\n",
    "            WHEN pro_subs = 1 and billing_pro = 0 then 'PRO без биллинга'\n",
    "            WHEN pro_subs = 1 and billing_pro = 1 then 'PRO'\n",
    "            ELSE 'Start'\n",
    "        END as tariff_full\n",
    "    FROM db1.companies_st_partner\n",
    "ORDER BY report_date DESC\n",
    "\"\"\"\n",
    "ch.query_run(query_text)"
   ]
  },
  {
   "cell_type": "markdown",
   "id": "48be8a97",
   "metadata": {},
   "source": [
    "___\n",
    "## Tools\n",
    "___\n",
    "### query\n"
   ]
  },
  {
   "cell_type": "code",
   "execution_count": null,
   "id": "6fe69639",
   "metadata": {},
   "outputs": [],
   "source": [
    "query_text = \"\"\"--sql\n",
    "    SELECT\n",
    "        *\n",
    "    FROM db1.companies_st_partner_ch\n",
    "    ORDER BY report_date desc\n",
    "    limit 100\n",
    "    \"\"\"\n",
    "\n",
    "ch.query_run(query_text)\n"
   ]
  },
  {
   "cell_type": "markdown",
   "id": "f79c8f92",
   "metadata": {},
   "source": [
    "### delete a part\n"
   ]
  },
  {
   "cell_type": "code",
   "execution_count": null,
   "id": "681754ad",
   "metadata": {},
   "outputs": [
    {
     "data": {
      "text/html": [
       "<div><style>\n",
       ".dataframe > thead > tr,\n",
       ".dataframe > tbody > tr {\n",
       "  text-align: right;\n",
       "  white-space: pre-wrap;\n",
       "}\n",
       "</style>\n",
       "<small>shape: (0, 0)</small><table border=\"1\" class=\"dataframe\"><thead><tr></tr><tr></tr></thead><tbody></tbody></table></div>"
      ],
      "text/plain": [
       "shape: (0, 0)\n",
       "┌┐\n",
       "╞╡\n",
       "└┘"
      ]
     },
     "metadata": {},
     "output_type": "display_data"
    }
   ],
   "source": [
    "query_text = \"\"\"--sql\n",
    "    ALTER TABLE db1.companies_st_partner_ch DELETE WHERE report_date = '2025-07-17'\n",
    "    \"\"\"\n",
    "\n",
    "ch.query_run(query_text)\n"
   ]
  },
  {
   "cell_type": "markdown",
   "id": "23f25f98",
   "metadata": {},
   "source": [
    "### drop mv"
   ]
  },
  {
   "cell_type": "code",
   "execution_count": null,
   "id": "4fdde559",
   "metadata": {},
   "outputs": [],
   "source": [
    "query_text = \"\"\"--sql\n",
    "    DROP TABLE db1.companies_st_partner_mv\n",
    "    \"\"\"\n",
    "\n",
    "ch.query_run(query_text)"
   ]
  },
  {
   "cell_type": "markdown",
   "id": "db5edaa9",
   "metadata": {},
   "source": [
    "\n",
    "### drop ch"
   ]
  },
  {
   "cell_type": "code",
   "execution_count": null,
   "id": "19906a60",
   "metadata": {},
   "outputs": [],
   "source": [
    "query_text = \"\"\"--sql\n",
    "    DROP TABLE db1.companies_st_partner_ch\n",
    "    \"\"\"\n",
    "\n",
    "ch.query_run(query_text)"
   ]
  },
  {
   "cell_type": "markdown",
   "id": "441eaf34",
   "metadata": {},
   "source": [
    "### refresh mv"
   ]
  },
  {
   "cell_type": "code",
   "execution_count": null,
   "id": "50bf58bd",
   "metadata": {},
   "outputs": [],
   "source": [
    "query_text = \"\"\"\n",
    "SYSTEM REFRESH VIEW db1.companies_st_partner_mv\n",
    "\"\"\"\n",
    "\n",
    "ch.query_run(query_text)"
   ]
  }
 ],
 "metadata": {
  "jupytext": {
   "formats": "ipynb,md"
  },
  "language_info": {
   "name": "python"
  }
 },
 "nbformat": 4,
 "nbformat_minor": 5
}

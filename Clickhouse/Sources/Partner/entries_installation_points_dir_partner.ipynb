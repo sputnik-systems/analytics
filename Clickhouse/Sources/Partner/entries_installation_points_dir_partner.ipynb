{
 "cells": [
  {
   "cell_type": "code",
   "execution_count": 1,
   "id": "a8f4f675",
   "metadata": {},
   "outputs": [],
   "source": [
    "import clickhouse_connect\n",
    "import datetime\n",
    "import os\n",
    "import pytz\n",
    "import pandas as pd\n",
    "from dateutil.relativedelta import relativedelta\n",
    "from dotenv import load_dotenv\n",
    "\n",
    "import sys\n",
    "sys.path.append('/home/boris/Documents/Work/analytics/Clickhouse')\n",
    "from clickhouse_client import ClickHouse_client\n",
    "ch = ClickHouse_client()\n",
    "pd.set_option('display.max_rows', 1000)"
   ]
  },
  {
   "cell_type": "markdown",
   "id": "5aa2daf6",
   "metadata": {},
   "source": [
    "___\n",
    "### Tags: #Source #Partner\n",
    "\n",
    "### Links: \n",
    "___"
   ]
  },
  {
   "cell_type": "code",
   "execution_count": null,
   "id": "8692b314",
   "metadata": {},
   "outputs": [],
   "source": [
    "# creating a table from s3\n",
    "\n",
    "query_text = \"\"\"--sql\n",
    "    CREATE TABLE db1.entries_installation_points_dir_partner\n",
    "    (\n",
    "        `full_address` String,\n",
    "        `created_at` String,\n",
    "        `number` Int32,\n",
    "        `lat` String,\n",
    "        `lon` String,\n",
    "        `first_flat` Int16,\n",
    "        `last_flat` Int16,\n",
    "        `flats_count` Int16,\n",
    "        `address_uuid` String,\n",
    "        `parent_uuid` String,\n",
    "        `partner_uuid` String,\n",
    "        `installation_point_id` Int64,\n",
    "        `region` String,\n",
    "        `country` String,\n",
    "        `city` String,\n",
    "        `city_uuid` String\n",
    "    )\n",
    "    ENGINE = S3('https://storage.yandexcloud.net/dwh-asgard/entries_installation_points_dir_partner/entries_installation_points_dir_partner.csv','CSVWithNames')\n",
    "    \"\"\"\n",
    "\n",
    "ch.query_run(query_text)"
   ]
  },
  {
   "cell_type": "code",
   "execution_count": null,
   "id": "5a368f8d",
   "metadata": {},
   "outputs": [],
   "source": [
    "query_text = \"\"\"--sql\n",
    "   CREATE TABLE db1.entries_installation_points_dir_partner_ch\n",
    "    (\n",
    "        `full_address` String,\n",
    "        `created_at` String,\n",
    "        `number` Int32,\n",
    "        `lat` String,\n",
    "        `lon` String,\n",
    "        `first_flat` Int16,\n",
    "        `last_flat` Int16,\n",
    "        `flats_count_full` Int16,\n",
    "        `flats_count` Int16,\n",
    "        `address_uuid` String,\n",
    "        `parent_uuid` String,\n",
    "        `partner_uuid` String,\n",
    "        `installation_point_id` Int64,\n",
    "        `region` String,\n",
    "        `country` String,\n",
    "        `city` String,\n",
    "        `city_uuid` String\n",
    "    )\n",
    "    ENGINE = MergeTree()\n",
    "    ORDER BY installation_point_id\n",
    "    \"\"\"\n",
    "\n",
    "ch.query_run(query_text)"
   ]
  },
  {
   "cell_type": "markdown",
   "id": "d6e6a823",
   "metadata": {},
   "source": [
    "Количество квартир в базе отличается от квартир на подъездах"
   ]
  },
  {
   "cell_type": "code",
   "execution_count": null,
   "id": "916c3527",
   "metadata": {},
   "outputs": [],
   "source": [
    "query_text = \"\"\"--sql\n",
    "    CREATE MATERIALIZED VIEW db1.entries_installation_points_dir_partner_mv\n",
    "    REFRESH EVERY 1 DAY OFFSET 3 HOUR RANDOMIZE FOR 1 HOUR TO db1.entries_installation_points_dir_partner_ch AS\n",
    "    SELECT\n",
    "\t    `full_address`,\n",
    "\t    `created_at`,\n",
    "\t    `number`,\n",
    "\t    `lat`,\n",
    "\t    `lon`,\n",
    "\t    `first_flat`,\n",
    "\t    `last_flat`,\n",
    "\t    `flats_count`,\n",
    "\t    `last_flat` - `first_flat` + 1 AS `flats_count_full`,\n",
    "\t    `address_uuid`,\n",
    "\t    `parent_uuid`,\n",
    "\t    `partner_uuid`,\n",
    "\t    `installation_point_id`,\n",
    "\t    `region`,\n",
    "\t    `country`,\n",
    "\t    `city`,\n",
    "\t\t`city_uuid`\n",
    "\tFROM db1.entries_installation_points_dir_partner\n",
    "    \"\"\"\n",
    "\n",
    "ch.query_run(query_text)"
   ]
  },
  {
   "cell_type": "markdown",
   "id": "d8da19e6",
   "metadata": {},
   "source": [
    "___\n",
    "## Tools\n",
    "___\n",
    "### query"
   ]
  },
  {
   "cell_type": "code",
   "execution_count": null,
   "id": "07d6c6bb",
   "metadata": {},
   "outputs": [],
   "source": [
    "query_text = \"\"\"--sql\n",
    "    SELECT\n",
    "        *\n",
    "    FROM db1.entries_installation_points_dir_partner_ch\n",
    "    limit 10\n",
    "    \"\"\"\n",
    "\n",
    "ch.query_run(query_text)"
   ]
  },
  {
   "cell_type": "markdown",
   "id": "b047e169",
   "metadata": {},
   "source": [
    "### Drop ch"
   ]
  },
  {
   "cell_type": "code",
   "execution_count": null,
   "id": "46f3e26e",
   "metadata": {},
   "outputs": [],
   "source": [
    "query_text = \"\"\"\n",
    "    DROP TABLE db1.entries_installation_points_dir_partner_ch\n",
    "    \"\"\"\n",
    "ch.query_run(query_text)"
   ]
  },
  {
   "cell_type": "markdown",
   "id": "4ad9f55c",
   "metadata": {},
   "source": [
    "### Drop mv"
   ]
  },
  {
   "cell_type": "code",
   "execution_count": null,
   "id": "1daad667",
   "metadata": {},
   "outputs": [],
   "source": [
    "query_text = \"\"\"\n",
    "    DROP TABLE db1.entries_installation_points_dir_partner_mv\n",
    "    \"\"\"\n",
    "ch.query_run(query_text)"
   ]
  }
 ],
 "metadata": {
  "jupytext": {
   "formats": "ipynb,md"
  },
  "kernelspec": {
   "display_name": "myenv",
   "language": "python",
   "name": "python3"
  },
  "language_info": {
   "codemirror_mode": {
    "name": "ipython",
    "version": 3
   },
   "file_extension": ".py",
   "mimetype": "text/x-python",
   "name": "python",
   "nbconvert_exporter": "python",
   "pygments_lexer": "ipython3",
   "version": "3.12.11"
  }
 },
 "nbformat": 4,
 "nbformat_minor": 5
}

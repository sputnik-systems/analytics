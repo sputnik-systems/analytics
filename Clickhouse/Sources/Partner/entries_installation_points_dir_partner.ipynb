{
 "cells": [
  {
   "cell_type": "code",
   "execution_count": 3,
   "id": "a8f4f675",
   "metadata": {},
   "outputs": [],
   "source": [
    "import clickhouse_connect\n",
    "import datetime\n",
    "import os\n",
    "import pytz\n",
    "import pandas as pd\n",
    "from dateutil.relativedelta import relativedelta\n",
    "from dotenv import load_dotenv\n",
    "\n",
    "import sys\n",
    "sys.path.append('/home/boris/Documents/Work/analytics/Clickhouse')\n",
    "from clickhouse_client import ClickHouse_client\n",
    "ch = ClickHouse_client()\n",
    "pd.set_option('display.max_rows', 1000)"
   ]
  },
  {
   "cell_type": "markdown",
   "id": "5aa2daf6",
   "metadata": {},
   "source": [
    "___\n",
    "### Tags: #Source #Partner\n",
    "\n",
    "### Links: \n",
    "___"
   ]
  },
  {
   "cell_type": "code",
   "execution_count": null,
   "id": "8692b314",
   "metadata": {},
   "outputs": [],
   "source": [
    "# creating a table from s3\n",
    "\n",
    "query_text = \"\"\"--sql\n",
    "    CREATE TABLE db1.entries_installation_points_dir_partner\n",
    "    (\n",
    "        `full_address` String,\n",
    "        `created_at` String,\n",
    "        `number` Int32,\n",
    "        `lat` String,\n",
    "        `lon` String,\n",
    "        `first_flat` Int16,\n",
    "        `last_flat` Int16,\n",
    "        `flats_count` Int16,\n",
    "        `address_uuid` String,\n",
    "        `parent_uuid` String,\n",
    "        `partner_uuid` String,\n",
    "        `installation_point_id` Int64,\n",
    "        `region` String,\n",
    "        `country` String,\n",
    "        `city` String,\n",
    "        `city_uuid` String\n",
    "    )\n",
    "    ENGINE = S3('https://storage.yandexcloud.net/dwh-asgard/entries_installation_points_dir_partner/entries_installation_points_dir_partner.csv','CSVWithNames')\n",
    "    \"\"\"\n",
    "\n",
    "ch.query_run(query_text)"
   ]
  },
  {
   "cell_type": "code",
   "execution_count": 10,
   "id": "5a368f8d",
   "metadata": {},
   "outputs": [
    {
     "data": {
      "text/html": [
       "<div><style>\n",
       ".dataframe > thead > tr,\n",
       ".dataframe > tbody > tr {\n",
       "  text-align: right;\n",
       "  white-space: pre-wrap;\n",
       "}\n",
       "</style>\n",
       "<small>shape: (0, 0)</small><table border=\"1\" class=\"dataframe\"><thead><tr></tr><tr></tr></thead><tbody></tbody></table></div>"
      ],
      "text/plain": [
       "shape: (0, 0)\n",
       "┌┐\n",
       "╞╡\n",
       "└┘"
      ]
     },
     "execution_count": 10,
     "metadata": {},
     "output_type": "execute_result"
    }
   ],
   "source": [
    "query_text = \"\"\"--sql\n",
    "   CREATE TABLE db1.entries_installation_points_dir_partner_ch\n",
    "    (\n",
    "        `full_address` String,\n",
    "        `created_at` String,\n",
    "        `number` Int32,\n",
    "        `lat` String,\n",
    "        `lon` String,\n",
    "        `first_flat` Int16,\n",
    "        `last_flat` Int16,\n",
    "        `flats_count_full` Int16,\n",
    "        `flats_count` Int16,\n",
    "        `address_uuid` String,\n",
    "        `parent_uuid` String,\n",
    "        `partner_uuid` String,\n",
    "        `installation_point_id` Int64,\n",
    "        `region` String,\n",
    "        `country` String,\n",
    "        `city` String,\n",
    "        `city_uuid` String,\n",
    "        `parts` Array(String),\n",
    "        `entrance_number` String,\n",
    "        `building_number` String,\n",
    "        `streat_name` String        \n",
    "    )\n",
    "    ENGINE = MergeTree()\n",
    "    ORDER BY installation_point_id\n",
    "    \"\"\"\n",
    "\n",
    "ch.query_run(query_text)"
   ]
  },
  {
   "cell_type": "markdown",
   "id": "d6e6a823",
   "metadata": {},
   "source": [
    "Количество квартир в базе отличается от квартир на подъездах"
   ]
  },
  {
   "cell_type": "code",
   "execution_count": 11,
   "id": "916c3527",
   "metadata": {},
   "outputs": [
    {
     "data": {
      "text/html": [
       "<div><style>\n",
       ".dataframe > thead > tr,\n",
       ".dataframe > tbody > tr {\n",
       "  text-align: right;\n",
       "  white-space: pre-wrap;\n",
       "}\n",
       "</style>\n",
       "<small>shape: (0, 0)</small><table border=\"1\" class=\"dataframe\"><thead><tr></tr><tr></tr></thead><tbody></tbody></table></div>"
      ],
      "text/plain": [
       "shape: (0, 0)\n",
       "┌┐\n",
       "╞╡\n",
       "└┘"
      ]
     },
     "execution_count": 11,
     "metadata": {},
     "output_type": "execute_result"
    }
   ],
   "source": [
    "query_text = \"\"\"--sql\n",
    "    CREATE MATERIALIZED VIEW db1.entries_installation_points_dir_partner_mv\n",
    "    REFRESH EVERY 1 DAY OFFSET 3 HOUR RANDOMIZE FOR 1 HOUR TO db1.entries_installation_points_dir_partner_ch AS\n",
    "    SELECT\n",
    "\t    `full_address`,\n",
    "\t    `created_at`,\n",
    "\t    `number`,\n",
    "\t    `lat`,\n",
    "\t    `lon`,\n",
    "\t    `first_flat`,\n",
    "\t    `last_flat`,\n",
    "\t    `flats_count`,\n",
    "\t    `last_flat` - `first_flat` + 1 AS `flats_count_full`,\n",
    "\t    `address_uuid`,\n",
    "\t    `parent_uuid`,\n",
    "\t    `partner_uuid`,\n",
    "\t    `installation_point_id`,\n",
    "\t    `region`,\n",
    "\t    `country`,\n",
    "\t    `city`,\n",
    "\t\t`city_uuid`,\n",
    "\t\tsplitByString(', ', full_address) AS parts,\n",
    "        parts[-1] AS entrance_number,\n",
    "        parts[-2] AS building_number,\n",
    "        parts[-3] AS streat_name \n",
    "\tFROM db1.entries_installation_points_dir_partner\n",
    "    \"\"\"\n",
    "\n",
    "ch.query_run(query_text)"
   ]
  },
  {
   "cell_type": "markdown",
   "id": "d8da19e6",
   "metadata": {},
   "source": [
    "___\n",
    "## Tools\n",
    "___\n",
    "### query"
   ]
  },
  {
   "cell_type": "code",
   "execution_count": 12,
   "id": "07d6c6bb",
   "metadata": {},
   "outputs": [
    {
     "data": {
      "text/html": [
       "<div><style>\n",
       ".dataframe > thead > tr,\n",
       ".dataframe > tbody > tr {\n",
       "  text-align: right;\n",
       "  white-space: pre-wrap;\n",
       "}\n",
       "</style>\n",
       "<small>shape: (10, 21)</small><table border=\"1\" class=\"dataframe\"><thead><tr><th>full_address</th><th>created_at</th><th>number</th><th>lat</th><th>lon</th><th>first_flat</th><th>last_flat</th><th>flats_count_full</th><th>flats_count</th><th>address_uuid</th><th>parent_uuid</th><th>partner_uuid</th><th>installation_point_id</th><th>region</th><th>country</th><th>city</th><th>city_uuid</th><th>parts</th><th>entrance_number</th><th>building_number</th><th>streat_name</th></tr><tr><td>str</td><td>str</td><td>i64</td><td>str</td><td>str</td><td>i64</td><td>i64</td><td>i64</td><td>i64</td><td>str</td><td>str</td><td>str</td><td>i64</td><td>str</td><td>str</td><td>str</td><td>str</td><td>list[str]</td><td>str</td><td>str</td><td>str</td></tr></thead><tbody><tr><td>&quot;Россия, Республика Татарстан, …</td><td>&quot;2018-05-25 07:50:25&quot;</td><td>1</td><td>&quot;55.747789&quot;</td><td>&quot;48.740027&quot;</td><td>1</td><td>26</td><td>26</td><td>20</td><td>&quot;383d3359-0c4b-47a2-ab65-a80faf…</td><td>&quot;54086eea-e2b4-46ad-ba06-913233…</td><td>&quot;&quot;</td><td>1</td><td>&quot;Республика Татарстан&quot;</td><td>&quot;Россия&quot;</td><td>&quot;Иннополис&quot;</td><td>&quot;bcaf46fc-a7f2-4c68-8692-cd1946…</td><td>[&quot;Россия&quot;, &quot;Республика Татарстан&quot;, … &quot;п. 1&quot;]</td><td>&quot;п. 1&quot;</td><td>&quot;д. 100&quot;</td><td>&quot;ул. Спортивная&quot;</td></tr><tr><td>&quot;Россия, Республика Татарстан, …</td><td>&quot;2018-05-25 07:50:25&quot;</td><td>2</td><td>&quot;55.747839&quot;</td><td>&quot;48.740054&quot;</td><td>1</td><td>55</td><td>55</td><td>26</td><td>&quot;a6b2cde0-26b5-4ce3-af2e-8d03e3…</td><td>&quot;54086eea-e2b4-46ad-ba06-913233…</td><td>&quot;&quot;</td><td>2</td><td>&quot;Республика Татарстан&quot;</td><td>&quot;Россия&quot;</td><td>&quot;Иннополис&quot;</td><td>&quot;bcaf46fc-a7f2-4c68-8692-cd1946…</td><td>[&quot;Россия&quot;, &quot;Республика Татарстан&quot;, … &quot;п. 2&quot;]</td><td>&quot;п. 2&quot;</td><td>&quot;д. 100&quot;</td><td>&quot;ул. Спортивная&quot;</td></tr><tr><td>&quot;Россия, Республика Татарстан, …</td><td>&quot;2018-05-25 07:50:25&quot;</td><td>3</td><td>&quot;55.747941&quot;</td><td>&quot;48.741698&quot;</td><td>56</td><td>85</td><td>30</td><td>24</td><td>&quot;19423336-12a2-47c0-ab44-7dbc53…</td><td>&quot;54086eea-e2b4-46ad-ba06-913233…</td><td>&quot;&quot;</td><td>3</td><td>&quot;Республика Татарстан&quot;</td><td>&quot;Россия&quot;</td><td>&quot;Иннополис&quot;</td><td>&quot;bcaf46fc-a7f2-4c68-8692-cd1946…</td><td>[&quot;Россия&quot;, &quot;Республика Татарстан&quot;, … &quot;п. 3&quot;]</td><td>&quot;п. 3&quot;</td><td>&quot;д. 100&quot;</td><td>&quot;ул. Спортивная&quot;</td></tr><tr><td>&quot;Россия, Республика Татарстан, …</td><td>&quot;2018-05-25 07:50:25&quot;</td><td>1</td><td>&quot;55.747069&quot;</td><td>&quot;48.743054&quot;</td><td>1</td><td>25</td><td>25</td><td>22</td><td>&quot;6cfebc6c-0daa-4224-97f6-82c365…</td><td>&quot;19387fa7-04d8-4637-98a3-1ee2de…</td><td>&quot;&quot;</td><td>4</td><td>&quot;Республика Татарстан&quot;</td><td>&quot;Россия&quot;</td><td>&quot;Иннополис&quot;</td><td>&quot;bcaf46fc-a7f2-4c68-8692-cd1946…</td><td>[&quot;Россия&quot;, &quot;Республика Татарстан&quot;, … &quot;п. 1&quot;]</td><td>&quot;п. 1&quot;</td><td>&quot;д. 104&quot;</td><td>&quot;ул. Спортивная&quot;</td></tr><tr><td>&quot;Россия, Республика Татарстан, …</td><td>&quot;2018-05-25 07:50:25&quot;</td><td>2</td><td>&quot;55.747201&quot;</td><td>&quot;48.743171&quot;</td><td>1</td><td>55</td><td>55</td><td>24</td><td>&quot;29a1ab4c-cf49-4942-8732-a617f0…</td><td>&quot;19387fa7-04d8-4637-98a3-1ee2de…</td><td>&quot;&quot;</td><td>5</td><td>&quot;Республика Татарстан&quot;</td><td>&quot;Россия&quot;</td><td>&quot;Иннополис&quot;</td><td>&quot;bcaf46fc-a7f2-4c68-8692-cd1946…</td><td>[&quot;Россия&quot;, &quot;Республика Татарстан&quot;, … &quot;п. 2&quot;]</td><td>&quot;п. 2&quot;</td><td>&quot;д. 104&quot;</td><td>&quot;ул. Спортивная&quot;</td></tr><tr><td>&quot;Россия, Республика Татарстан, …</td><td>&quot;2018-05-25 07:50:25&quot;</td><td>3</td><td>&quot;55.747434&quot;</td><td>&quot;48.743396&quot;</td><td>51</td><td>85</td><td>35</td><td>28</td><td>&quot;c31a364c-cc21-483d-9dd4-754e74…</td><td>&quot;19387fa7-04d8-4637-98a3-1ee2de…</td><td>&quot;&quot;</td><td>6</td><td>&quot;Республика Татарстан&quot;</td><td>&quot;Россия&quot;</td><td>&quot;Иннополис&quot;</td><td>&quot;bcaf46fc-a7f2-4c68-8692-cd1946…</td><td>[&quot;Россия&quot;, &quot;Республика Татарстан&quot;, … &quot;п. 3&quot;]</td><td>&quot;п. 3&quot;</td><td>&quot;д. 104&quot;</td><td>&quot;ул. Спортивная&quot;</td></tr><tr><td>&quot;Россия, Республика Татарстан, …</td><td>&quot;2018-05-25 07:50:25&quot;</td><td>1</td><td>&quot;55.748017&quot;</td><td>&quot;48.742659&quot;</td><td>1</td><td>25</td><td>25</td><td>23</td><td>&quot;501b7f66-eb3d-410f-96d0-da75fc…</td><td>&quot;172aff05-9d66-4f98-b485-1f177d…</td><td>&quot;&quot;</td><td>7</td><td>&quot;Республика Татарстан&quot;</td><td>&quot;Россия&quot;</td><td>&quot;Иннополис&quot;</td><td>&quot;bcaf46fc-a7f2-4c68-8692-cd1946…</td><td>[&quot;Россия&quot;, &quot;Республика Татарстан&quot;, … &quot;п. 1&quot;]</td><td>&quot;п. 1&quot;</td><td>&quot;д. 110&quot;</td><td>&quot;ул. Спортивная&quot;</td></tr><tr><td>&quot;Россия, Республика Татарстан, …</td><td>&quot;2018-05-25 07:50:25&quot;</td><td>2</td><td>&quot;55.74786&quot;</td><td>&quot;48.742515&quot;</td><td>26</td><td>55</td><td>30</td><td>28</td><td>&quot;82ae8710-c673-4ddd-b8b0-d88eb3…</td><td>&quot;172aff05-9d66-4f98-b485-1f177d…</td><td>&quot;&quot;</td><td>8</td><td>&quot;Республика Татарстан&quot;</td><td>&quot;Россия&quot;</td><td>&quot;Иннополис&quot;</td><td>&quot;bcaf46fc-a7f2-4c68-8692-cd1946…</td><td>[&quot;Россия&quot;, &quot;Республика Татарстан&quot;, … &quot;п. 2&quot;]</td><td>&quot;п. 2&quot;</td><td>&quot;д. 110&quot;</td><td>&quot;ул. Спортивная&quot;</td></tr><tr><td>&quot;Россия, Республика Татарстан, …</td><td>&quot;2018-05-25 07:50:25&quot;</td><td>3</td><td>&quot;55.747637&quot;</td><td>&quot;48.742318&quot;</td><td>56</td><td>85</td><td>30</td><td>21</td><td>&quot;029d2d1d-792e-4b43-8245-6c4693…</td><td>&quot;172aff05-9d66-4f98-b485-1f177d…</td><td>&quot;&quot;</td><td>9</td><td>&quot;Республика Татарстан&quot;</td><td>&quot;Россия&quot;</td><td>&quot;Иннополис&quot;</td><td>&quot;bcaf46fc-a7f2-4c68-8692-cd1946…</td><td>[&quot;Россия&quot;, &quot;Республика Татарстан&quot;, … &quot;п. 3&quot;]</td><td>&quot;п. 3&quot;</td><td>&quot;д. 110&quot;</td><td>&quot;ул. Спортивная&quot;</td></tr><tr><td>&quot;Россия, Республика Татарстан, …</td><td>&quot;2023-01-25 15:15:12&quot;</td><td>1</td><td>&quot;55.74751&quot;</td><td>&quot;48.744411&quot;</td><td>1</td><td>25</td><td>25</td><td>25</td><td>&quot;0a2f9718-be59-4265-a635-1f431e…</td><td>&quot;d13b04d0-0e88-4326-884c-7a511e…</td><td>&quot;adeffb47-1707-4976-a4a6-e6eacf…</td><td>10</td><td>&quot;Республика Татарстан&quot;</td><td>&quot;Россия&quot;</td><td>&quot;Иннополис&quot;</td><td>&quot;bcaf46fc-a7f2-4c68-8692-cd1946…</td><td>[&quot;Россия&quot;, &quot;Республика Татарстан&quot;, … &quot;п. 1&quot;]</td><td>&quot;п. 1&quot;</td><td>&quot;д. 114&quot;</td><td>&quot;ул. Спортивная&quot;</td></tr></tbody></table></div>"
      ],
      "text/plain": [
       "shape: (10, 21)\n",
       "┌────────────┬────────────┬────────┬───────────┬───┬───────────┬───────────┬───────────┬───────────┐\n",
       "│ full_addre ┆ created_at ┆ number ┆ lat       ┆ … ┆ parts     ┆ entrance_ ┆ building_ ┆ streat_na │\n",
       "│ ss         ┆ ---        ┆ ---    ┆ ---       ┆   ┆ ---       ┆ number    ┆ number    ┆ me        │\n",
       "│ ---        ┆ str        ┆ i64    ┆ str       ┆   ┆ list[str] ┆ ---       ┆ ---       ┆ ---       │\n",
       "│ str        ┆            ┆        ┆           ┆   ┆           ┆ str       ┆ str       ┆ str       │\n",
       "╞════════════╪════════════╪════════╪═══════════╪═══╪═══════════╪═══════════╪═══════════╪═══════════╡\n",
       "│ Россия,    ┆ 2018-05-25 ┆ 1      ┆ 55.747789 ┆ … ┆ [\"Россия\" ┆ п. 1      ┆ д. 100    ┆ ул. Спорт │\n",
       "│ Республика ┆ 07:50:25   ┆        ┆           ┆   ┆ , \"Респуб ┆           ┆           ┆ ивная     │\n",
       "│ Татарстан, ┆            ┆        ┆           ┆   ┆ лика      ┆           ┆           ┆           │\n",
       "│ …          ┆            ┆        ┆           ┆   ┆ Татарст…  ┆           ┆           ┆           │\n",
       "│ Россия,    ┆ 2018-05-25 ┆ 2      ┆ 55.747839 ┆ … ┆ [\"Россия\" ┆ п. 2      ┆ д. 100    ┆ ул. Спорт │\n",
       "│ Республика ┆ 07:50:25   ┆        ┆           ┆   ┆ , \"Респуб ┆           ┆           ┆ ивная     │\n",
       "│ Татарстан, ┆            ┆        ┆           ┆   ┆ лика      ┆           ┆           ┆           │\n",
       "│ …          ┆            ┆        ┆           ┆   ┆ Татарст…  ┆           ┆           ┆           │\n",
       "│ Россия,    ┆ 2018-05-25 ┆ 3      ┆ 55.747941 ┆ … ┆ [\"Россия\" ┆ п. 3      ┆ д. 100    ┆ ул. Спорт │\n",
       "│ Республика ┆ 07:50:25   ┆        ┆           ┆   ┆ , \"Респуб ┆           ┆           ┆ ивная     │\n",
       "│ Татарстан, ┆            ┆        ┆           ┆   ┆ лика      ┆           ┆           ┆           │\n",
       "│ …          ┆            ┆        ┆           ┆   ┆ Татарст…  ┆           ┆           ┆           │\n",
       "│ Россия,    ┆ 2018-05-25 ┆ 1      ┆ 55.747069 ┆ … ┆ [\"Россия\" ┆ п. 1      ┆ д. 104    ┆ ул. Спорт │\n",
       "│ Республика ┆ 07:50:25   ┆        ┆           ┆   ┆ , \"Респуб ┆           ┆           ┆ ивная     │\n",
       "│ Татарстан, ┆            ┆        ┆           ┆   ┆ лика      ┆           ┆           ┆           │\n",
       "│ …          ┆            ┆        ┆           ┆   ┆ Татарст…  ┆           ┆           ┆           │\n",
       "│ Россия,    ┆ 2018-05-25 ┆ 2      ┆ 55.747201 ┆ … ┆ [\"Россия\" ┆ п. 2      ┆ д. 104    ┆ ул. Спорт │\n",
       "│ Республика ┆ 07:50:25   ┆        ┆           ┆   ┆ , \"Респуб ┆           ┆           ┆ ивная     │\n",
       "│ Татарстан, ┆            ┆        ┆           ┆   ┆ лика      ┆           ┆           ┆           │\n",
       "│ …          ┆            ┆        ┆           ┆   ┆ Татарст…  ┆           ┆           ┆           │\n",
       "│ Россия,    ┆ 2018-05-25 ┆ 3      ┆ 55.747434 ┆ … ┆ [\"Россия\" ┆ п. 3      ┆ д. 104    ┆ ул. Спорт │\n",
       "│ Республика ┆ 07:50:25   ┆        ┆           ┆   ┆ , \"Респуб ┆           ┆           ┆ ивная     │\n",
       "│ Татарстан, ┆            ┆        ┆           ┆   ┆ лика      ┆           ┆           ┆           │\n",
       "│ …          ┆            ┆        ┆           ┆   ┆ Татарст…  ┆           ┆           ┆           │\n",
       "│ Россия,    ┆ 2018-05-25 ┆ 1      ┆ 55.748017 ┆ … ┆ [\"Россия\" ┆ п. 1      ┆ д. 110    ┆ ул. Спорт │\n",
       "│ Республика ┆ 07:50:25   ┆        ┆           ┆   ┆ , \"Респуб ┆           ┆           ┆ ивная     │\n",
       "│ Татарстан, ┆            ┆        ┆           ┆   ┆ лика      ┆           ┆           ┆           │\n",
       "│ …          ┆            ┆        ┆           ┆   ┆ Татарст…  ┆           ┆           ┆           │\n",
       "│ Россия,    ┆ 2018-05-25 ┆ 2      ┆ 55.74786  ┆ … ┆ [\"Россия\" ┆ п. 2      ┆ д. 110    ┆ ул. Спорт │\n",
       "│ Республика ┆ 07:50:25   ┆        ┆           ┆   ┆ , \"Респуб ┆           ┆           ┆ ивная     │\n",
       "│ Татарстан, ┆            ┆        ┆           ┆   ┆ лика      ┆           ┆           ┆           │\n",
       "│ …          ┆            ┆        ┆           ┆   ┆ Татарст…  ┆           ┆           ┆           │\n",
       "│ Россия,    ┆ 2018-05-25 ┆ 3      ┆ 55.747637 ┆ … ┆ [\"Россия\" ┆ п. 3      ┆ д. 110    ┆ ул. Спорт │\n",
       "│ Республика ┆ 07:50:25   ┆        ┆           ┆   ┆ , \"Респуб ┆           ┆           ┆ ивная     │\n",
       "│ Татарстан, ┆            ┆        ┆           ┆   ┆ лика      ┆           ┆           ┆           │\n",
       "│ …          ┆            ┆        ┆           ┆   ┆ Татарст…  ┆           ┆           ┆           │\n",
       "│ Россия,    ┆ 2023-01-25 ┆ 1      ┆ 55.74751  ┆ … ┆ [\"Россия\" ┆ п. 1      ┆ д. 114    ┆ ул. Спорт │\n",
       "│ Республика ┆ 15:15:12   ┆        ┆           ┆   ┆ , \"Респуб ┆           ┆           ┆ ивная     │\n",
       "│ Татарстан, ┆            ┆        ┆           ┆   ┆ лика      ┆           ┆           ┆           │\n",
       "│ …          ┆            ┆        ┆           ┆   ┆ Татарст…  ┆           ┆           ┆           │\n",
       "└────────────┴────────────┴────────┴───────────┴───┴───────────┴───────────┴───────────┴───────────┘"
      ]
     },
     "execution_count": 12,
     "metadata": {},
     "output_type": "execute_result"
    }
   ],
   "source": [
    "query_text = \"\"\"--sql\n",
    "    SELECT\n",
    "        *\n",
    "    FROM db1.entries_installation_points_dir_partner_ch\n",
    "    limit 10\n",
    "    \"\"\"\n",
    "\n",
    "ch.query_run(query_text)"
   ]
  },
  {
   "cell_type": "markdown",
   "id": "b047e169",
   "metadata": {},
   "source": [
    "### Drop ch"
   ]
  },
  {
   "cell_type": "code",
   "execution_count": 8,
   "id": "46f3e26e",
   "metadata": {},
   "outputs": [
    {
     "data": {
      "text/html": [
       "<div><style>\n",
       ".dataframe > thead > tr,\n",
       ".dataframe > tbody > tr {\n",
       "  text-align: right;\n",
       "  white-space: pre-wrap;\n",
       "}\n",
       "</style>\n",
       "<small>shape: (1, 2)</small><table border=\"1\" class=\"dataframe\"><thead><tr><th>elapsed_ns</th><th>query_id</th></tr><tr><td>i64</td><td>str</td></tr></thead><tbody><tr><td>5869116</td><td>&quot;3398d001-5662-4cb4-bfcb-cc56ac…</td></tr></tbody></table></div>"
      ],
      "text/plain": [
       "shape: (1, 2)\n",
       "┌────────────┬─────────────────────────────────┐\n",
       "│ elapsed_ns ┆ query_id                        │\n",
       "│ ---        ┆ ---                             │\n",
       "│ i64        ┆ str                             │\n",
       "╞════════════╪═════════════════════════════════╡\n",
       "│ 5869116    ┆ 3398d001-5662-4cb4-bfcb-cc56ac… │\n",
       "└────────────┴─────────────────────────────────┘"
      ]
     },
     "execution_count": 8,
     "metadata": {},
     "output_type": "execute_result"
    }
   ],
   "source": [
    "query_text = \"\"\"\n",
    "    DROP TABLE db1.entries_installation_points_dir_partner_ch\n",
    "    \"\"\"\n",
    "ch.query_run(query_text)"
   ]
  },
  {
   "cell_type": "markdown",
   "id": "4ad9f55c",
   "metadata": {},
   "source": [
    "### Drop mv"
   ]
  },
  {
   "cell_type": "code",
   "execution_count": 9,
   "id": "1daad667",
   "metadata": {},
   "outputs": [
    {
     "data": {
      "text/html": [
       "<div><style>\n",
       ".dataframe > thead > tr,\n",
       ".dataframe > tbody > tr {\n",
       "  text-align: right;\n",
       "  white-space: pre-wrap;\n",
       "}\n",
       "</style>\n",
       "<small>shape: (1, 2)</small><table border=\"1\" class=\"dataframe\"><thead><tr><th>elapsed_ns</th><th>query_id</th></tr><tr><td>i64</td><td>str</td></tr></thead><tbody><tr><td>5062862</td><td>&quot;0dae5209-df96-439c-b3d6-254d25…</td></tr></tbody></table></div>"
      ],
      "text/plain": [
       "shape: (1, 2)\n",
       "┌────────────┬─────────────────────────────────┐\n",
       "│ elapsed_ns ┆ query_id                        │\n",
       "│ ---        ┆ ---                             │\n",
       "│ i64        ┆ str                             │\n",
       "╞════════════╪═════════════════════════════════╡\n",
       "│ 5062862    ┆ 0dae5209-df96-439c-b3d6-254d25… │\n",
       "└────────────┴─────────────────────────────────┘"
      ]
     },
     "execution_count": 9,
     "metadata": {},
     "output_type": "execute_result"
    }
   ],
   "source": [
    "query_text = \"\"\"\n",
    "    DROP TABLE db1.entries_installation_points_dir_partner_mv\n",
    "    \"\"\"\n",
    "ch.query_run(query_text)"
   ]
  }
 ],
 "metadata": {
  "jupytext": {
   "formats": "ipynb,md"
  },
  "kernelspec": {
   "display_name": "myenv",
   "language": "python",
   "name": "python3"
  },
  "language_info": {
   "codemirror_mode": {
    "name": "ipython",
    "version": 3
   },
   "file_extension": ".py",
   "mimetype": "text/x-python",
   "name": "python",
   "nbconvert_exporter": "python",
   "pygments_lexer": "ipython3",
   "version": "3.12.11"
  }
 },
 "nbformat": 4,
 "nbformat_minor": 5
}

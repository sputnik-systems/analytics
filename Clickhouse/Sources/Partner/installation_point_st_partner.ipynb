{
 "cells": [
  {
   "cell_type": "markdown",
   "id": "2ddaeb55",
   "metadata": {},
   "source": [
    "## Start"
   ]
  },
  {
   "cell_type": "code",
   "execution_count": 1,
   "id": "8d695d56",
   "metadata": {},
   "outputs": [],
   "source": [
    "import clickhouse_connect\n",
    "import datetime\n",
    "import os\n",
    "import pytz\n",
    "import pandas as pd\n",
    "from dateutil.relativedelta import relativedelta\n",
    "from dotenv import load_dotenv\n",
    "\n",
    "import sys\n",
    "sys.path.append('/home/boris/Documents/Work/analytics/Clickhouse')\n",
    "from clickhouse_client import ClickHouse_client\n",
    "ch = ClickHouse_client()\n",
    "pd.set_option('display.max_rows', 1000)\n",
    "\n"
   ]
  },
  {
   "cell_type": "markdown",
   "id": "4245c8e1",
   "metadata": {},
   "source": [
    "___\n",
    "### Tags: #Source #Partner\n",
    "\n",
    "### Links: \n",
    "___"
   ]
  },
  {
   "cell_type": "code",
   "execution_count": null,
   "id": "36b0ab48",
   "metadata": {},
   "outputs": [],
   "source": [
    "# creating a table from s3\n",
    "\n",
    "query_text = \"\"\"\n",
    "    CREATE TABLE db1.installation_point_st_partner\n",
    "    (\n",
    "        `report_date` Date,\n",
    "        `installation_point_id` Int64,\n",
    "        `digital_keys_count` String,\n",
    "        `device_keys_count` String,\n",
    "        `monetization_is_allowed` Int16,\n",
    "        `monetization` Int16,\n",
    "        `partner_uuid` String\n",
    "    )\n",
    "    ENGINE = S3('https://storage.yandexcloud.net/dwh-asgard/installation_point_st_partner/year=*/month=*/*.csv','CSVWithNames')\n",
    "    PARTITION BY report_date;\n",
    "    \"\"\"\n",
    "\n",
    "ch.query_run(query_text)"
   ]
  },
  {
   "cell_type": "code",
   "execution_count": null,
   "id": "15b53f18",
   "metadata": {},
   "outputs": [],
   "source": [
    "query_text = \"\"\"--sql \n",
    "    CREATE TABLE db1.installation_point_st_partner_ch\n",
    "    (\n",
    "        `report_date` Date,\n",
    "        `installation_point_id` Int64,\n",
    "        `digital_keys_count` String,\n",
    "        `device_keys_count` String,\n",
    "        `monetization_is_allowed` Int16,\n",
    "        `monetization` Int16,\n",
    "        `partner_uuid` String\n",
    "    )\n",
    "    ENGINE = MergeTree()\n",
    "    ORDER BY installation_point_id\n",
    "    \"\"\"\n",
    "\n",
    "ch.query_run(query_text)"
   ]
  },
  {
   "cell_type": "code",
   "execution_count": null,
   "id": "72c3c449",
   "metadata": {},
   "outputs": [],
   "source": [
    "query_text = \"\"\"--sql\n",
    "    CREATE MATERIALIZED VIEW db1.installation_point_st_partner_mv\n",
    "    REFRESH EVERY 1 DAY OFFSET 3 HOUR RANDOMIZE FOR 1 HOUR TO db1.installation_point_st_partner_ch AS\n",
    "    SELECT\n",
    "        *\n",
    "    FROM db1.installation_point_st_partner\n",
    "    \"\"\"\n",
    "\n",
    "ch.query_run(query_text)"
   ]
  },
  {
   "cell_type": "markdown",
   "id": "a8ccb5c8",
   "metadata": {},
   "source": [
    "___\n",
    "## Tools\n",
    "___\n",
    "### query\n"
   ]
  },
  {
   "cell_type": "code",
   "execution_count": 5,
   "id": "f662db49",
   "metadata": {},
   "outputs": [
    {
     "data": {
      "text/html": [
       "<div><style>\n",
       ".dataframe > thead > tr,\n",
       ".dataframe > tbody > tr {\n",
       "  text-align: right;\n",
       "  white-space: pre-wrap;\n",
       "}\n",
       "</style>\n",
       "<small>shape: (1, 2)</small><table border=\"1\" class=\"dataframe\"><thead><tr><th>count(if(equals(monetization, 0), installation_point_id, NULL))</th><th>count(if(equals(monetization, 1), installation_point_id, NULL))</th></tr><tr><td>i64</td><td>i64</td></tr></thead><tbody><tr><td>7369</td><td>19676</td></tr></tbody></table></div>"
      ],
      "text/plain": [
       "shape: (1, 2)\n",
       "┌─────────────────────────────────┬─────────────────────────────────┐\n",
       "│ count(if(equals(monetization, … ┆ count(if(equals(monetization, … │\n",
       "│ ---                             ┆ ---                             │\n",
       "│ i64                             ┆ i64                             │\n",
       "╞═════════════════════════════════╪═════════════════════════════════╡\n",
       "│ 7369                            ┆ 19676                           │\n",
       "└─────────────────────────────────┴─────────────────────────────────┘"
      ]
     },
     "execution_count": 5,
     "metadata": {},
     "output_type": "execute_result"
    }
   ],
   "source": [
    "query_text = \"\"\"--sql\n",
    "    SELECT\n",
    "        COUNT(if(monetization = 0,installation_point_id,null)),\n",
    "        COUNT(if(monetization = 1,installation_point_id,null))\n",
    "    FROM db1.installation_point_st_partner_ch\n",
    "    WHERE report_date = '2024-01-01'\n",
    "    limit 100\n",
    "    \"\"\"\n",
    "\n",
    "ch.query_run(query_text)\n"
   ]
  },
  {
   "cell_type": "markdown",
   "id": "2d2dc45e",
   "metadata": {},
   "source": [
    "### delete a part\n"
   ]
  },
  {
   "cell_type": "code",
   "execution_count": null,
   "id": "e9949a38",
   "metadata": {},
   "outputs": [
    {
     "data": {
      "text/html": [
       "<div><style>\n",
       ".dataframe > thead > tr,\n",
       ".dataframe > tbody > tr {\n",
       "  text-align: right;\n",
       "  white-space: pre-wrap;\n",
       "}\n",
       "</style>\n",
       "<small>shape: (0, 0)</small><table border=\"1\" class=\"dataframe\"><thead><tr></tr><tr></tr></thead><tbody></tbody></table></div>"
      ],
      "text/plain": [
       "shape: (0, 0)\n",
       "┌┐\n",
       "╞╡\n",
       "└┘"
      ]
     },
     "metadata": {},
     "output_type": "display_data"
    }
   ],
   "source": [
    "query_text = \"\"\"--sql\n",
    "    ALTER TABLE db1.installation_point_st_partner_ch DELETE WHERE report_date = '2025-07-17'\n",
    "    \"\"\"\n",
    "\n",
    "ch.query_run(query_text)\n"
   ]
  },
  {
   "cell_type": "markdown",
   "id": "7471eb40",
   "metadata": {},
   "source": [
    "### drop mv"
   ]
  },
  {
   "cell_type": "code",
   "execution_count": 2,
   "id": "699294d4",
   "metadata": {
    "lines_to_next_cell": 2
   },
   "outputs": [
    {
     "data": {
      "text/html": [
       "<div>\n",
       "<style scoped>\n",
       "    .dataframe tbody tr th:only-of-type {\n",
       "        vertical-align: middle;\n",
       "    }\n",
       "\n",
       "    .dataframe tbody tr th {\n",
       "        vertical-align: top;\n",
       "    }\n",
       "\n",
       "    .dataframe thead th {\n",
       "        text-align: right;\n",
       "    }\n",
       "</style>\n",
       "<table border=\"1\" class=\"dataframe\">\n",
       "  <thead>\n",
       "    <tr style=\"text-align: right;\">\n",
       "      <th></th>\n",
       "    </tr>\n",
       "  </thead>\n",
       "  <tbody>\n",
       "  </tbody>\n",
       "</table>\n",
       "</div>"
      ],
      "text/plain": [
       "Empty DataFrame\n",
       "Columns: []\n",
       "Index: []"
      ]
     },
     "execution_count": 2,
     "metadata": {},
     "output_type": "execute_result"
    }
   ],
   "source": [
    "query_text = \"\"\"--sql\n",
    "    DROP TABLE db1.installation_point_st_partner_mv\n",
    "    \"\"\"\n",
    "\n",
    "ch.query_run(query_text)"
   ]
  },
  {
   "cell_type": "markdown",
   "id": "e99da63f",
   "metadata": {},
   "source": [
    "### drop ch"
   ]
  },
  {
   "cell_type": "code",
   "execution_count": null,
   "id": "315401cc",
   "metadata": {},
   "outputs": [],
   "source": [
    "query_text = \"\"\"--sql\n",
    "    DROP TABLE db1.installation_point_st_partner_ch\n",
    "    \"\"\"\n",
    "\n",
    "ch.query_run(query_text)"
   ]
  },
  {
   "cell_type": "markdown",
   "id": "102465cc",
   "metadata": {},
   "source": [
    "### refresh mv"
   ]
  },
  {
   "cell_type": "code",
   "execution_count": null,
   "id": "7c730363",
   "metadata": {},
   "outputs": [],
   "source": [
    "query_text = \"\"\"\n",
    "SYSTEM REFRESH VIEW db1.installation_point_st_partner_mv\n",
    "\"\"\"\n",
    "\n",
    "ch.query_run(query_text)"
   ]
  }
 ],
 "metadata": {
  "jupytext": {
   "formats": "ipynb,md"
  },
  "kernelspec": {
   "display_name": "myenv",
   "language": "python",
   "name": "python3"
  },
  "language_info": {
   "codemirror_mode": {
    "name": "ipython",
    "version": 3
   },
   "file_extension": ".py",
   "mimetype": "text/x-python",
   "name": "python",
   "nbconvert_exporter": "python",
   "pygments_lexer": "ipython3",
   "version": "3.13.7"
  }
 },
 "nbformat": 4,
 "nbformat_minor": 5
}

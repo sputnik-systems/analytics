{
 "cells": [
  {
   "cell_type": "markdown",
   "id": "66194e10",
   "metadata": {},
   "source": [
    "## Start"
   ]
  },
  {
   "cell_type": "code",
   "execution_count": 1,
   "id": "38a4e6c4",
   "metadata": {},
   "outputs": [],
   "source": [
    "import clickhouse_connect\n",
    "import datetime\n",
    "import os\n",
    "import pytz\n",
    "import pandas as pd\n",
    "from dateutil.relativedelta import relativedelta\n",
    "from dotenv import load_dotenv\n",
    "\n",
    "import sys\n",
    "sys.path.append('/home/boris/Documents/Work/analytics/Clickhouse')\n",
    "from clickhouse_client import ClickHouse_client\n",
    "ch = ClickHouse_client()\n",
    "pd.set_option('display.max_rows', 1000)\n",
    "\n"
   ]
  },
  {
   "cell_type": "raw",
   "id": "5ebeef04",
   "metadata": {},
   "source": [
    "___\n",
    "### Tags: #Source #Partner\n",
    "\n",
    "### Links: \n",
    "___"
   ]
  },
  {
   "cell_type": "code",
   "execution_count": null,
   "id": "cb9a9dba",
   "metadata": {},
   "outputs": [],
   "source": [
    "# creating a table from s3\n",
    "\n",
    "query_text = \"\"\"--sql \n",
    "   CREATE TABLE db1.intercoms_st_partner\n",
    "(\n",
    "    `report_date` Date,\n",
    "    `installation_date` DateTime,\n",
    "    `service_partner_uuid` String,\n",
    "    `partner_uuid` String,\n",
    "    `intercom_uuid` String,\n",
    "    `installation_point_id` Int64,\n",
    "    `second_device_type` String,\n",
    "    `second_device_state` Int16,\n",
    "    `second_device_created_at` String,\n",
    "    `model_identifier` String\n",
    ")\n",
    "ENGINE = S3('https://storage.yandexcloud.net/dwh-asgard/intercoms_st_partner/year=*/month=*/*.csv','CSVWithNames')\n",
    "    \"\"\"\n",
    "\n",
    "ch.query_run(query_text)"
   ]
  },
  {
   "cell_type": "code",
   "execution_count": null,
   "id": "8d0b5a09",
   "metadata": {},
   "outputs": [],
   "source": [
    "query_text = \"\"\"--sql\n",
    "    CREATE TABLE db1.intercoms_st_partner_ch\n",
    "(\n",
    "    `report_date` Date,\n",
    "    `installation_date` DateTime,\n",
    "    `service_partner_uuid` String,\n",
    "    `partner_uuid` String,\n",
    "    `intercom_uuid` String,\n",
    "    `installation_point_id` Int64,\n",
    "    `second_device_type` String,\n",
    "    `second_device_state` Int16,\n",
    "    `second_device_created_at` String,\n",
    "    `model_identifier` String\n",
    ")\n",
    "    ENGINE = MergeTree()\n",
    "    ORDER BY intercom_uuid\n",
    "    \"\"\"\n",
    "\n",
    "ch.query_run(query_text)"
   ]
  },
  {
   "cell_type": "code",
   "execution_count": null,
   "id": "7b035a04",
   "metadata": {},
   "outputs": [],
   "source": [
    "query_text = \"\"\"--sql\n",
    "    CREATE MATERIALIZED VIEW db1.intercoms_st_partner_mv\n",
    "    REFRESH EVERY 1 DAY OFFSET 3 HOUR RANDOMIZE FOR 1 HOUR TO db1.intercoms_st_partner_ch AS\n",
    "    SELECT\n",
    "        *\n",
    "    FROM db1.intercoms_st_partner\n",
    "    \"\"\"\n",
    "\n",
    "ch.query_run(query_text)"
   ]
  },
  {
   "cell_type": "markdown",
   "id": "dd379d02",
   "metadata": {},
   "source": [
    "___\n",
    "## Tools\n",
    "___\n",
    "### query\n"
   ]
  },
  {
   "cell_type": "code",
   "execution_count": null,
   "id": "18272dea",
   "metadata": {},
   "outputs": [],
   "source": [
    "query_text = \"\"\"--sql\n",
    "    SELECT\n",
    "        *\n",
    "    FROM db1.intercoms_st_partner_ch\n",
    "    ORDER BY report_date desc\n",
    "    limit 100\n",
    "    \"\"\"\n",
    "\n",
    "ch.query_run(query_text)\n"
   ]
  },
  {
   "cell_type": "markdown",
   "id": "49e8fbd4",
   "metadata": {},
   "source": [
    "### delete a part\n"
   ]
  },
  {
   "cell_type": "code",
   "execution_count": null,
   "id": "9170fea8",
   "metadata": {},
   "outputs": [
    {
     "data": {
      "text/html": [
       "<div><style>\n",
       ".dataframe > thead > tr,\n",
       ".dataframe > tbody > tr {\n",
       "  text-align: right;\n",
       "  white-space: pre-wrap;\n",
       "}\n",
       "</style>\n",
       "<small>shape: (0, 0)</small><table border=\"1\" class=\"dataframe\"><thead><tr></tr><tr></tr></thead><tbody></tbody></table></div>"
      ],
      "text/plain": [
       "shape: (0, 0)\n",
       "┌┐\n",
       "╞╡\n",
       "└┘"
      ]
     },
     "metadata": {},
     "output_type": "display_data"
    }
   ],
   "source": [
    "query_text = \"\"\"--sql\n",
    "    ALTER TABLE db1.intercoms_st_partner_ch DELETE WHERE report_date = '2025-07-17'\n",
    "    \"\"\"\n",
    "\n",
    "ch.query_run(query_text)\n"
   ]
  },
  {
   "cell_type": "markdown",
   "id": "ff2cda9b",
   "metadata": {},
   "source": [
    "### drop mv"
   ]
  },
  {
   "cell_type": "code",
   "execution_count": 2,
   "id": "9416157b",
   "metadata": {},
   "outputs": [
    {
     "data": {
      "text/html": [
       "<div>\n",
       "<style scoped>\n",
       "    .dataframe tbody tr th:only-of-type {\n",
       "        vertical-align: middle;\n",
       "    }\n",
       "\n",
       "    .dataframe tbody tr th {\n",
       "        vertical-align: top;\n",
       "    }\n",
       "\n",
       "    .dataframe thead th {\n",
       "        text-align: right;\n",
       "    }\n",
       "</style>\n",
       "<table border=\"1\" class=\"dataframe\">\n",
       "  <thead>\n",
       "    <tr style=\"text-align: right;\">\n",
       "      <th></th>\n",
       "    </tr>\n",
       "  </thead>\n",
       "  <tbody>\n",
       "  </tbody>\n",
       "</table>\n",
       "</div>"
      ],
      "text/plain": [
       "Empty DataFrame\n",
       "Columns: []\n",
       "Index: []"
      ]
     },
     "execution_count": 2,
     "metadata": {},
     "output_type": "execute_result"
    }
   ],
   "source": [
    "query_text = \"\"\"--sql\n",
    "    DROP TABLE db1.intercoms_st_partner_mv\n",
    "    \"\"\"\n",
    "\n",
    "ch.query_run(query_text)"
   ]
  },
  {
   "cell_type": "markdown",
   "id": "d09d9619",
   "metadata": {},
   "source": [
    "\n",
    "### drop ch"
   ]
  },
  {
   "cell_type": "code",
   "execution_count": null,
   "id": "fafdd25c",
   "metadata": {},
   "outputs": [],
   "source": [
    "query_text = \"\"\"--sql\n",
    "    DROP TABLE db1.intercoms_st_partner_ch\n",
    "    \"\"\"\n",
    "\n",
    "ch.query_run(query_text)"
   ]
  },
  {
   "cell_type": "markdown",
   "id": "667354b8",
   "metadata": {},
   "source": [
    "### refresh mv"
   ]
  },
  {
   "cell_type": "code",
   "execution_count": null,
   "id": "57760219",
   "metadata": {},
   "outputs": [],
   "source": [
    "query_text = \"\"\"\n",
    "SYSTEM REFRESH VIEW db1.intercoms_st_partner_mv\n",
    "\"\"\"\n",
    "\n",
    "ch.query_run(query_text)"
   ]
  }
 ],
 "metadata": {
  "jupytext": {
   "formats": "ipynb,md"
  },
  "kernelspec": {
   "display_name": "myenv",
   "language": "python",
   "name": "python3"
  },
  "language_info": {
   "codemirror_mode": {
    "name": "ipython",
    "version": 3
   },
   "file_extension": ".py",
   "mimetype": "text/x-python",
   "name": "python",
   "nbconvert_exporter": "python",
   "pygments_lexer": "ipython3",
   "version": "3.13.7"
  }
 },
 "nbformat": 4,
 "nbformat_minor": 5
}

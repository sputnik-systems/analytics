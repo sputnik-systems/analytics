{
 "cells": [
  {
   "cell_type": "markdown",
   "id": "012c6401",
   "metadata": {},
   "source": [
    "## Start"
   ]
  },
  {
   "cell_type": "code",
   "execution_count": 1,
   "id": "0b105369",
   "metadata": {},
   "outputs": [],
   "source": [
    "import clickhouse_connect\n",
    "import datetime\n",
    "import os\n",
    "import pytz\n",
    "import pandas as pd\n",
    "from dateutil.relativedelta import relativedelta\n",
    "from dotenv import load_dotenv\n",
    "\n",
    "import sys\n",
    "sys.path.append('/home/boris/Documents/Work/analytics/Clickhouse')\n",
    "from clickhouse_client import ClickHouse_client\n",
    "ch = ClickHouse_client()\n",
    "pd.set_option('display.max_rows', 1000)\n",
    "\n"
   ]
  },
  {
   "cell_type": "markdown",
   "id": "8fd52fd8",
   "metadata": {},
   "source": [
    "___\n",
    "### Tags: #Source #Support\n",
    "\n",
    "### Links: \n",
    "___"
   ]
  },
  {
   "cell_type": "code",
   "execution_count": 6,
   "id": "68f53ec9",
   "metadata": {},
   "outputs": [
    {
     "ename": "DatabaseError",
     "evalue": "HTTPDriver for https://rc1a-eflrt968scbm232q.mdb.yandexcloud.net:8443 received ClickHouse error code 57\n Code: 57. DB::Exception: Table db1.requests_st_support already exists. (TABLE_ALREADY_EXISTS) (version 25.3.3.42 (official build))\n",
     "output_type": "error",
     "traceback": [
      "\u001b[31m---------------------------------------------------------------------------\u001b[39m",
      "\u001b[31mDatabaseError\u001b[39m                             Traceback (most recent call last)",
      "\u001b[36mCell\u001b[39m\u001b[36m \u001b[39m\u001b[32mIn[6]\u001b[39m\u001b[32m, line 17\u001b[39m\n\u001b[32m      1\u001b[39m query_text = \u001b[33m\"\"\"\u001b[39m\u001b[33m--sql\u001b[39m\n\u001b[32m      2\u001b[39m \u001b[33mCREATE TABLE db1.requests_st_support\u001b[39m\n\u001b[32m      3\u001b[39m \u001b[33m(\u001b[39m\n\u001b[32m   (...)\u001b[39m\u001b[32m     14\u001b[39m \u001b[33mSETTINGS format_csv_delimiter = \u001b[39m\u001b[33m'\u001b[39m\u001b[33m;\u001b[39m\u001b[33m'\u001b[39m\n\u001b[32m     15\u001b[39m \u001b[33m\"\"\"\u001b[39m\n\u001b[32m---> \u001b[39m\u001b[32m17\u001b[39m \u001b[43mch\u001b[49m\u001b[43m.\u001b[49m\u001b[43mquery_run\u001b[49m\u001b[43m(\u001b[49m\u001b[43mquery_text\u001b[49m\u001b[43m)\u001b[49m\n",
      "\u001b[36mFile \u001b[39m\u001b[32m~/Documents/Work/analytics/Clickhouse/clickhouse_client.py:29\u001b[39m, in \u001b[36mClickHouse_client.query_run\u001b[39m\u001b[34m(self, query_text)\u001b[39m\n\u001b[32m     27\u001b[39m \u001b[38;5;28;01mdef\u001b[39;00m\u001b[38;5;250m \u001b[39m\u001b[34mquery_run\u001b[39m (\u001b[38;5;28mself\u001b[39m, query_text):\n\u001b[32m     28\u001b[39m     query_text = query_text\n\u001b[32m---> \u001b[39m\u001b[32m29\u001b[39m     result = \u001b[38;5;28;43mself\u001b[39;49m\u001b[43m.\u001b[49m\u001b[43mclient\u001b[49m\u001b[43m.\u001b[49m\u001b[43mquery\u001b[49m\u001b[43m(\u001b[49m\u001b[43mquery_text\u001b[49m\u001b[43m)\u001b[49m\n\u001b[32m     30\u001b[39m     \u001b[38;5;28mself\u001b[39m.df = pd.DataFrame(result.result_rows, columns=result.column_names)\n\u001b[32m     31\u001b[39m     \u001b[38;5;66;03m# self.df = pl.DataFrame(result.result_rows, schema=result.column_names)\u001b[39;00m\n",
      "\u001b[36mFile \u001b[39m\u001b[32m~/myenv/lib/python3.12/site-packages/clickhouse_connect/driver/client.py:237\u001b[39m, in \u001b[36mClient.query\u001b[39m\u001b[34m(self, query, parameters, settings, query_formats, column_formats, encoding, use_none, column_oriented, use_numpy, max_str_len, context, query_tz, column_tzs, external_data, transport_settings)\u001b[39m\n\u001b[32m    235\u001b[39m         \u001b[38;5;28;01mreturn\u001b[39;00m response.as_query_result()\n\u001b[32m    236\u001b[39m     \u001b[38;5;28;01mreturn\u001b[39;00m QueryResult([response] \u001b[38;5;28;01mif\u001b[39;00m \u001b[38;5;28misinstance\u001b[39m(response, \u001b[38;5;28mlist\u001b[39m) \u001b[38;5;28;01melse\u001b[39;00m [[response]])\n\u001b[32m--> \u001b[39m\u001b[32m237\u001b[39m \u001b[38;5;28;01mreturn\u001b[39;00m \u001b[38;5;28;43mself\u001b[39;49m\u001b[43m.\u001b[49m\u001b[43m_query_with_context\u001b[49m\u001b[43m(\u001b[49m\u001b[43mquery_context\u001b[49m\u001b[43m)\u001b[49m\n",
      "\u001b[36mFile \u001b[39m\u001b[32m~/myenv/lib/python3.12/site-packages/clickhouse_connect/driver/httpclient.py:243\u001b[39m, in \u001b[36mHttpClient._query_with_context\u001b[39m\u001b[34m(self, context)\u001b[39m\n\u001b[32m    241\u001b[39m     fields = \u001b[38;5;28;01mNone\u001b[39;00m\n\u001b[32m    242\u001b[39m     headers[\u001b[33m'\u001b[39m\u001b[33mContent-Type\u001b[39m\u001b[33m'\u001b[39m] = \u001b[33m'\u001b[39m\u001b[33mtext/plain; charset=utf-8\u001b[39m\u001b[33m'\u001b[39m\n\u001b[32m--> \u001b[39m\u001b[32m243\u001b[39m response = \u001b[38;5;28;43mself\u001b[39;49m\u001b[43m.\u001b[49m\u001b[43m_raw_request\u001b[49m\u001b[43m(\u001b[49m\u001b[43mbody\u001b[49m\u001b[43m,\u001b[49m\n\u001b[32m    244\u001b[39m \u001b[43m                             \u001b[49m\u001b[43mparams\u001b[49m\u001b[43m,\u001b[49m\n\u001b[32m    245\u001b[39m \u001b[43m                             \u001b[49m\u001b[43mdict_copy\u001b[49m\u001b[43m(\u001b[49m\u001b[43mheaders\u001b[49m\u001b[43m,\u001b[49m\u001b[43m \u001b[49m\u001b[43mcontext\u001b[49m\u001b[43m.\u001b[49m\u001b[43mtransport_settings\u001b[49m\u001b[43m)\u001b[49m\u001b[43m,\u001b[49m\n\u001b[32m    246\u001b[39m \u001b[43m                             \u001b[49m\u001b[43mstream\u001b[49m\u001b[43m=\u001b[49m\u001b[38;5;28;43;01mTrue\u001b[39;49;00m\u001b[43m,\u001b[49m\n\u001b[32m    247\u001b[39m \u001b[43m                             \u001b[49m\u001b[43mretries\u001b[49m\u001b[43m=\u001b[49m\u001b[38;5;28;43mself\u001b[39;49m\u001b[43m.\u001b[49m\u001b[43mquery_retries\u001b[49m\u001b[43m,\u001b[49m\n\u001b[32m    248\u001b[39m \u001b[43m                             \u001b[49m\u001b[43mfields\u001b[49m\u001b[43m=\u001b[49m\u001b[43mfields\u001b[49m\u001b[43m,\u001b[49m\n\u001b[32m    249\u001b[39m \u001b[43m                             \u001b[49m\u001b[43mserver_wait\u001b[49m\u001b[43m=\u001b[49m\u001b[38;5;129;43;01mnot\u001b[39;49;00m\u001b[43m \u001b[49m\u001b[43mcontext\u001b[49m\u001b[43m.\u001b[49m\u001b[43mstreaming\u001b[49m\u001b[43m)\u001b[49m\n\u001b[32m    250\u001b[39m byte_source = RespBuffCls(ResponseSource(response))  \u001b[38;5;66;03m# pylint: disable=not-callable\u001b[39;00m\n\u001b[32m    251\u001b[39m context.set_response_tz(\u001b[38;5;28mself\u001b[39m._check_tz_change(response.headers.get(\u001b[33m'\u001b[39m\u001b[33mX-ClickHouse-Timezone\u001b[39m\u001b[33m'\u001b[39m)))\n",
      "\u001b[36mFile \u001b[39m\u001b[32m~/myenv/lib/python3.12/site-packages/clickhouse_connect/driver/httpclient.py:481\u001b[39m, in \u001b[36mHttpClient._raw_request\u001b[39m\u001b[34m(self, data, params, headers, method, retries, stream, server_wait, fields, error_handler)\u001b[39m\n\u001b[32m    479\u001b[39m     error_handler(response)\n\u001b[32m    480\u001b[39m \u001b[38;5;28;01melse\u001b[39;00m:\n\u001b[32m--> \u001b[39m\u001b[32m481\u001b[39m     \u001b[38;5;28;43mself\u001b[39;49m\u001b[43m.\u001b[49m\u001b[43m_error_handler\u001b[49m\u001b[43m(\u001b[49m\u001b[43mresponse\u001b[49m\u001b[43m)\u001b[49m\n",
      "\u001b[36mFile \u001b[39m\u001b[32m~/myenv/lib/python3.12/site-packages/clickhouse_connect/driver/httpclient.py:402\u001b[39m, in \u001b[36mHttpClient._error_handler\u001b[39m\u001b[34m(self, response, retried)\u001b[39m\n\u001b[32m    399\u001b[39m \u001b[38;5;28;01melse\u001b[39;00m:\n\u001b[32m    400\u001b[39m     err_str = \u001b[33m'\u001b[39m\u001b[33mThe ClickHouse server returned an error.\u001b[39m\u001b[33m'\u001b[39m\n\u001b[32m--> \u001b[39m\u001b[32m402\u001b[39m \u001b[38;5;28;01mraise\u001b[39;00m OperationalError(err_str) \u001b[38;5;28;01mif\u001b[39;00m retried \u001b[38;5;28;01melse\u001b[39;00m DatabaseError(err_str) \u001b[38;5;28;01mfrom\u001b[39;00m\u001b[38;5;250m \u001b[39m\u001b[38;5;28;01mNone\u001b[39;00m\n",
      "\u001b[31mDatabaseError\u001b[39m: HTTPDriver for https://rc1a-eflrt968scbm232q.mdb.yandexcloud.net:8443 received ClickHouse error code 57\n Code: 57. DB::Exception: Table db1.requests_st_support already exists. (TABLE_ALREADY_EXISTS) (version 25.3.3.42 (official build))\n"
     ]
    }
   ],
   "source": [
    "query_text = \"\"\"--sql\n",
    "CREATE TABLE db1.requests_st_support\n",
    "(\n",
    "    `report_date` Date,\n",
    "    `ticket_id` Int32,\n",
    "    `intercom_id` String,\n",
    "    `camera_id` String,\n",
    "    `server_stream_url` String,\n",
    "    `category` String,\n",
    "    `version_os` String,\n",
    "    `version_app` String \n",
    ")\n",
    "ENGINE = S3('https://storage.yandexcloud.net/dwh-asgard/requests_st_support/year=*/month=*/*.csv','CSVWithNames')\n",
    "SETTINGS format_csv_delimiter = ';'\n",
    "\"\"\"\n",
    "\n",
    "ch.query_run(query_text)"
   ]
  },
  {
   "cell_type": "code",
   "execution_count": 8,
   "id": "d69cc779",
   "metadata": {},
   "outputs": [
    {
     "ename": "DatabaseError",
     "evalue": "HTTPDriver for https://rc1a-eflrt968scbm232q.mdb.yandexcloud.net:8443 received ClickHouse error code 57\n Code: 57. DB::Exception: Table db1.requests_st_support_ch already exists. (TABLE_ALREADY_EXISTS) (version 25.3.3.42 (official build))\n",
     "output_type": "error",
     "traceback": [
      "\u001b[31m---------------------------------------------------------------------------\u001b[39m",
      "\u001b[31mDatabaseError\u001b[39m                             Traceback (most recent call last)",
      "\u001b[36mCell\u001b[39m\u001b[36m \u001b[39m\u001b[32mIn[8]\u001b[39m\u001b[32m, line 19\u001b[39m\n\u001b[32m      1\u001b[39m query_text = \u001b[33m\"\"\"\u001b[39m\u001b[33m--sql\u001b[39m\n\u001b[32m      2\u001b[39m \u001b[33mCREATE TABLE db1.requests_st_support_ch\u001b[39m\n\u001b[32m      3\u001b[39m \u001b[33m    (\u001b[39m\n\u001b[32m   (...)\u001b[39m\u001b[32m     16\u001b[39m \u001b[33m    SETTINGS format_csv_delimiter = \u001b[39m\u001b[33m'\u001b[39m\u001b[33m;\u001b[39m\u001b[33m'\u001b[39m\n\u001b[32m     17\u001b[39m \u001b[33m\"\"\"\u001b[39m\n\u001b[32m---> \u001b[39m\u001b[32m19\u001b[39m \u001b[43mch\u001b[49m\u001b[43m.\u001b[49m\u001b[43mquery_run\u001b[49m\u001b[43m(\u001b[49m\u001b[43mquery_text\u001b[49m\u001b[43m)\u001b[49m\n",
      "\u001b[36mFile \u001b[39m\u001b[32m~/Documents/Work/analytics/Clickhouse/clickhouse_client.py:29\u001b[39m, in \u001b[36mClickHouse_client.query_run\u001b[39m\u001b[34m(self, query_text)\u001b[39m\n\u001b[32m     27\u001b[39m \u001b[38;5;28;01mdef\u001b[39;00m\u001b[38;5;250m \u001b[39m\u001b[34mquery_run\u001b[39m (\u001b[38;5;28mself\u001b[39m, query_text):\n\u001b[32m     28\u001b[39m     query_text = query_text\n\u001b[32m---> \u001b[39m\u001b[32m29\u001b[39m     result = \u001b[38;5;28;43mself\u001b[39;49m\u001b[43m.\u001b[49m\u001b[43mclient\u001b[49m\u001b[43m.\u001b[49m\u001b[43mquery\u001b[49m\u001b[43m(\u001b[49m\u001b[43mquery_text\u001b[49m\u001b[43m)\u001b[49m\n\u001b[32m     30\u001b[39m     \u001b[38;5;28mself\u001b[39m.df = pd.DataFrame(result.result_rows, columns=result.column_names)\n\u001b[32m     31\u001b[39m     \u001b[38;5;66;03m# self.df = pl.DataFrame(result.result_rows, schema=result.column_names)\u001b[39;00m\n",
      "\u001b[36mFile \u001b[39m\u001b[32m~/myenv/lib/python3.12/site-packages/clickhouse_connect/driver/client.py:237\u001b[39m, in \u001b[36mClient.query\u001b[39m\u001b[34m(self, query, parameters, settings, query_formats, column_formats, encoding, use_none, column_oriented, use_numpy, max_str_len, context, query_tz, column_tzs, external_data, transport_settings)\u001b[39m\n\u001b[32m    235\u001b[39m         \u001b[38;5;28;01mreturn\u001b[39;00m response.as_query_result()\n\u001b[32m    236\u001b[39m     \u001b[38;5;28;01mreturn\u001b[39;00m QueryResult([response] \u001b[38;5;28;01mif\u001b[39;00m \u001b[38;5;28misinstance\u001b[39m(response, \u001b[38;5;28mlist\u001b[39m) \u001b[38;5;28;01melse\u001b[39;00m [[response]])\n\u001b[32m--> \u001b[39m\u001b[32m237\u001b[39m \u001b[38;5;28;01mreturn\u001b[39;00m \u001b[38;5;28;43mself\u001b[39;49m\u001b[43m.\u001b[49m\u001b[43m_query_with_context\u001b[49m\u001b[43m(\u001b[49m\u001b[43mquery_context\u001b[49m\u001b[43m)\u001b[49m\n",
      "\u001b[36mFile \u001b[39m\u001b[32m~/myenv/lib/python3.12/site-packages/clickhouse_connect/driver/httpclient.py:243\u001b[39m, in \u001b[36mHttpClient._query_with_context\u001b[39m\u001b[34m(self, context)\u001b[39m\n\u001b[32m    241\u001b[39m     fields = \u001b[38;5;28;01mNone\u001b[39;00m\n\u001b[32m    242\u001b[39m     headers[\u001b[33m'\u001b[39m\u001b[33mContent-Type\u001b[39m\u001b[33m'\u001b[39m] = \u001b[33m'\u001b[39m\u001b[33mtext/plain; charset=utf-8\u001b[39m\u001b[33m'\u001b[39m\n\u001b[32m--> \u001b[39m\u001b[32m243\u001b[39m response = \u001b[38;5;28;43mself\u001b[39;49m\u001b[43m.\u001b[49m\u001b[43m_raw_request\u001b[49m\u001b[43m(\u001b[49m\u001b[43mbody\u001b[49m\u001b[43m,\u001b[49m\n\u001b[32m    244\u001b[39m \u001b[43m                             \u001b[49m\u001b[43mparams\u001b[49m\u001b[43m,\u001b[49m\n\u001b[32m    245\u001b[39m \u001b[43m                             \u001b[49m\u001b[43mdict_copy\u001b[49m\u001b[43m(\u001b[49m\u001b[43mheaders\u001b[49m\u001b[43m,\u001b[49m\u001b[43m \u001b[49m\u001b[43mcontext\u001b[49m\u001b[43m.\u001b[49m\u001b[43mtransport_settings\u001b[49m\u001b[43m)\u001b[49m\u001b[43m,\u001b[49m\n\u001b[32m    246\u001b[39m \u001b[43m                             \u001b[49m\u001b[43mstream\u001b[49m\u001b[43m=\u001b[49m\u001b[38;5;28;43;01mTrue\u001b[39;49;00m\u001b[43m,\u001b[49m\n\u001b[32m    247\u001b[39m \u001b[43m                             \u001b[49m\u001b[43mretries\u001b[49m\u001b[43m=\u001b[49m\u001b[38;5;28;43mself\u001b[39;49m\u001b[43m.\u001b[49m\u001b[43mquery_retries\u001b[49m\u001b[43m,\u001b[49m\n\u001b[32m    248\u001b[39m \u001b[43m                             \u001b[49m\u001b[43mfields\u001b[49m\u001b[43m=\u001b[49m\u001b[43mfields\u001b[49m\u001b[43m,\u001b[49m\n\u001b[32m    249\u001b[39m \u001b[43m                             \u001b[49m\u001b[43mserver_wait\u001b[49m\u001b[43m=\u001b[49m\u001b[38;5;129;43;01mnot\u001b[39;49;00m\u001b[43m \u001b[49m\u001b[43mcontext\u001b[49m\u001b[43m.\u001b[49m\u001b[43mstreaming\u001b[49m\u001b[43m)\u001b[49m\n\u001b[32m    250\u001b[39m byte_source = RespBuffCls(ResponseSource(response))  \u001b[38;5;66;03m# pylint: disable=not-callable\u001b[39;00m\n\u001b[32m    251\u001b[39m context.set_response_tz(\u001b[38;5;28mself\u001b[39m._check_tz_change(response.headers.get(\u001b[33m'\u001b[39m\u001b[33mX-ClickHouse-Timezone\u001b[39m\u001b[33m'\u001b[39m)))\n",
      "\u001b[36mFile \u001b[39m\u001b[32m~/myenv/lib/python3.12/site-packages/clickhouse_connect/driver/httpclient.py:481\u001b[39m, in \u001b[36mHttpClient._raw_request\u001b[39m\u001b[34m(self, data, params, headers, method, retries, stream, server_wait, fields, error_handler)\u001b[39m\n\u001b[32m    479\u001b[39m     error_handler(response)\n\u001b[32m    480\u001b[39m \u001b[38;5;28;01melse\u001b[39;00m:\n\u001b[32m--> \u001b[39m\u001b[32m481\u001b[39m     \u001b[38;5;28;43mself\u001b[39;49m\u001b[43m.\u001b[49m\u001b[43m_error_handler\u001b[49m\u001b[43m(\u001b[49m\u001b[43mresponse\u001b[49m\u001b[43m)\u001b[49m\n",
      "\u001b[36mFile \u001b[39m\u001b[32m~/myenv/lib/python3.12/site-packages/clickhouse_connect/driver/httpclient.py:402\u001b[39m, in \u001b[36mHttpClient._error_handler\u001b[39m\u001b[34m(self, response, retried)\u001b[39m\n\u001b[32m    399\u001b[39m \u001b[38;5;28;01melse\u001b[39;00m:\n\u001b[32m    400\u001b[39m     err_str = \u001b[33m'\u001b[39m\u001b[33mThe ClickHouse server returned an error.\u001b[39m\u001b[33m'\u001b[39m\n\u001b[32m--> \u001b[39m\u001b[32m402\u001b[39m \u001b[38;5;28;01mraise\u001b[39;00m OperationalError(err_str) \u001b[38;5;28;01mif\u001b[39;00m retried \u001b[38;5;28;01melse\u001b[39;00m DatabaseError(err_str) \u001b[38;5;28;01mfrom\u001b[39;00m\u001b[38;5;250m \u001b[39m\u001b[38;5;28;01mNone\u001b[39;00m\n",
      "\u001b[31mDatabaseError\u001b[39m: HTTPDriver for https://rc1a-eflrt968scbm232q.mdb.yandexcloud.net:8443 received ClickHouse error code 57\n Code: 57. DB::Exception: Table db1.requests_st_support_ch already exists. (TABLE_ALREADY_EXISTS) (version 25.3.3.42 (official build))\n"
     ]
    }
   ],
   "source": [
    "query_text = \"\"\"--sql\n",
    "CREATE TABLE db1.requests_st_support_ch\n",
    "    (\n",
    "        `report_date` Date,\n",
    "        `ticket_id` Int32,\n",
    "        `intercom_id` String,\n",
    "        `camera_id` String,\n",
    "        `server_stream_url` String,\n",
    "        `category` String,\n",
    "        `version_os` String,\n",
    "        `version_app` String,\n",
    "        `device_type` String\n",
    "    )\n",
    "    ENGINE = MergeTree()\n",
    "    ORDER BY report_date\n",
    "    SETTINGS format_csv_delimiter = ';'\n",
    "\"\"\"\n",
    "\n",
    "ch.query_run(query_text)"
   ]
  },
  {
   "cell_type": "code",
   "execution_count": 9,
   "id": "cb0b2c68",
   "metadata": {},
   "outputs": [
    {
     "ename": "DatabaseError",
     "evalue": "HTTPDriver for https://rc1a-eflrt968scbm232q.mdb.yandexcloud.net:8443 received ClickHouse error code 57\n Code: 57. DB::Exception: Table db1.requests_st_support_mv already exists. (TABLE_ALREADY_EXISTS) (version 25.3.3.42 (official build))\n",
     "output_type": "error",
     "traceback": [
      "\u001b[31m---------------------------------------------------------------------------\u001b[39m",
      "\u001b[31mDatabaseError\u001b[39m                             Traceback (most recent call last)",
      "\u001b[36mCell\u001b[39m\u001b[36m \u001b[39m\u001b[32mIn[9]\u001b[39m\u001b[32m, line 17\u001b[39m\n\u001b[32m      1\u001b[39m query_text = \u001b[33m\"\"\"\u001b[39m\u001b[33m--sql\u001b[39m\n\u001b[32m      2\u001b[39m \u001b[33m    CREATE MATERIALIZED VIEW db1.requests_st_support_mv\u001b[39m\n\u001b[32m      3\u001b[39m \u001b[33m    REFRESH EVERY 1 DAY OFFSET 3 HOUR TO db1.requests_st_support_ch AS\u001b[39m\n\u001b[32m   (...)\u001b[39m\u001b[32m     14\u001b[39m \u001b[33m    FROM `db1`.`requests_st_support`\u001b[39m\n\u001b[32m     15\u001b[39m \u001b[33m    \u001b[39m\u001b[33m\"\"\"\u001b[39m\n\u001b[32m---> \u001b[39m\u001b[32m17\u001b[39m \u001b[43mch\u001b[49m\u001b[43m.\u001b[49m\u001b[43mquery_run\u001b[49m\u001b[43m(\u001b[49m\u001b[43mquery_text\u001b[49m\u001b[43m)\u001b[49m\n",
      "\u001b[36mFile \u001b[39m\u001b[32m~/Documents/Work/analytics/Clickhouse/clickhouse_client.py:29\u001b[39m, in \u001b[36mClickHouse_client.query_run\u001b[39m\u001b[34m(self, query_text)\u001b[39m\n\u001b[32m     27\u001b[39m \u001b[38;5;28;01mdef\u001b[39;00m\u001b[38;5;250m \u001b[39m\u001b[34mquery_run\u001b[39m (\u001b[38;5;28mself\u001b[39m, query_text):\n\u001b[32m     28\u001b[39m     query_text = query_text\n\u001b[32m---> \u001b[39m\u001b[32m29\u001b[39m     result = \u001b[38;5;28;43mself\u001b[39;49m\u001b[43m.\u001b[49m\u001b[43mclient\u001b[49m\u001b[43m.\u001b[49m\u001b[43mquery\u001b[49m\u001b[43m(\u001b[49m\u001b[43mquery_text\u001b[49m\u001b[43m)\u001b[49m\n\u001b[32m     30\u001b[39m     \u001b[38;5;28mself\u001b[39m.df = pd.DataFrame(result.result_rows, columns=result.column_names)\n\u001b[32m     31\u001b[39m     \u001b[38;5;66;03m# self.df = pl.DataFrame(result.result_rows, schema=result.column_names)\u001b[39;00m\n",
      "\u001b[36mFile \u001b[39m\u001b[32m~/myenv/lib/python3.12/site-packages/clickhouse_connect/driver/client.py:237\u001b[39m, in \u001b[36mClient.query\u001b[39m\u001b[34m(self, query, parameters, settings, query_formats, column_formats, encoding, use_none, column_oriented, use_numpy, max_str_len, context, query_tz, column_tzs, external_data, transport_settings)\u001b[39m\n\u001b[32m    235\u001b[39m         \u001b[38;5;28;01mreturn\u001b[39;00m response.as_query_result()\n\u001b[32m    236\u001b[39m     \u001b[38;5;28;01mreturn\u001b[39;00m QueryResult([response] \u001b[38;5;28;01mif\u001b[39;00m \u001b[38;5;28misinstance\u001b[39m(response, \u001b[38;5;28mlist\u001b[39m) \u001b[38;5;28;01melse\u001b[39;00m [[response]])\n\u001b[32m--> \u001b[39m\u001b[32m237\u001b[39m \u001b[38;5;28;01mreturn\u001b[39;00m \u001b[38;5;28;43mself\u001b[39;49m\u001b[43m.\u001b[49m\u001b[43m_query_with_context\u001b[49m\u001b[43m(\u001b[49m\u001b[43mquery_context\u001b[49m\u001b[43m)\u001b[49m\n",
      "\u001b[36mFile \u001b[39m\u001b[32m~/myenv/lib/python3.12/site-packages/clickhouse_connect/driver/httpclient.py:243\u001b[39m, in \u001b[36mHttpClient._query_with_context\u001b[39m\u001b[34m(self, context)\u001b[39m\n\u001b[32m    241\u001b[39m     fields = \u001b[38;5;28;01mNone\u001b[39;00m\n\u001b[32m    242\u001b[39m     headers[\u001b[33m'\u001b[39m\u001b[33mContent-Type\u001b[39m\u001b[33m'\u001b[39m] = \u001b[33m'\u001b[39m\u001b[33mtext/plain; charset=utf-8\u001b[39m\u001b[33m'\u001b[39m\n\u001b[32m--> \u001b[39m\u001b[32m243\u001b[39m response = \u001b[38;5;28;43mself\u001b[39;49m\u001b[43m.\u001b[49m\u001b[43m_raw_request\u001b[49m\u001b[43m(\u001b[49m\u001b[43mbody\u001b[49m\u001b[43m,\u001b[49m\n\u001b[32m    244\u001b[39m \u001b[43m                             \u001b[49m\u001b[43mparams\u001b[49m\u001b[43m,\u001b[49m\n\u001b[32m    245\u001b[39m \u001b[43m                             \u001b[49m\u001b[43mdict_copy\u001b[49m\u001b[43m(\u001b[49m\u001b[43mheaders\u001b[49m\u001b[43m,\u001b[49m\u001b[43m \u001b[49m\u001b[43mcontext\u001b[49m\u001b[43m.\u001b[49m\u001b[43mtransport_settings\u001b[49m\u001b[43m)\u001b[49m\u001b[43m,\u001b[49m\n\u001b[32m    246\u001b[39m \u001b[43m                             \u001b[49m\u001b[43mstream\u001b[49m\u001b[43m=\u001b[49m\u001b[38;5;28;43;01mTrue\u001b[39;49;00m\u001b[43m,\u001b[49m\n\u001b[32m    247\u001b[39m \u001b[43m                             \u001b[49m\u001b[43mretries\u001b[49m\u001b[43m=\u001b[49m\u001b[38;5;28;43mself\u001b[39;49m\u001b[43m.\u001b[49m\u001b[43mquery_retries\u001b[49m\u001b[43m,\u001b[49m\n\u001b[32m    248\u001b[39m \u001b[43m                             \u001b[49m\u001b[43mfields\u001b[49m\u001b[43m=\u001b[49m\u001b[43mfields\u001b[49m\u001b[43m,\u001b[49m\n\u001b[32m    249\u001b[39m \u001b[43m                             \u001b[49m\u001b[43mserver_wait\u001b[49m\u001b[43m=\u001b[49m\u001b[38;5;129;43;01mnot\u001b[39;49;00m\u001b[43m \u001b[49m\u001b[43mcontext\u001b[49m\u001b[43m.\u001b[49m\u001b[43mstreaming\u001b[49m\u001b[43m)\u001b[49m\n\u001b[32m    250\u001b[39m byte_source = RespBuffCls(ResponseSource(response))  \u001b[38;5;66;03m# pylint: disable=not-callable\u001b[39;00m\n\u001b[32m    251\u001b[39m context.set_response_tz(\u001b[38;5;28mself\u001b[39m._check_tz_change(response.headers.get(\u001b[33m'\u001b[39m\u001b[33mX-ClickHouse-Timezone\u001b[39m\u001b[33m'\u001b[39m)))\n",
      "\u001b[36mFile \u001b[39m\u001b[32m~/myenv/lib/python3.12/site-packages/clickhouse_connect/driver/httpclient.py:481\u001b[39m, in \u001b[36mHttpClient._raw_request\u001b[39m\u001b[34m(self, data, params, headers, method, retries, stream, server_wait, fields, error_handler)\u001b[39m\n\u001b[32m    479\u001b[39m     error_handler(response)\n\u001b[32m    480\u001b[39m \u001b[38;5;28;01melse\u001b[39;00m:\n\u001b[32m--> \u001b[39m\u001b[32m481\u001b[39m     \u001b[38;5;28;43mself\u001b[39;49m\u001b[43m.\u001b[49m\u001b[43m_error_handler\u001b[49m\u001b[43m(\u001b[49m\u001b[43mresponse\u001b[49m\u001b[43m)\u001b[49m\n",
      "\u001b[36mFile \u001b[39m\u001b[32m~/myenv/lib/python3.12/site-packages/clickhouse_connect/driver/httpclient.py:402\u001b[39m, in \u001b[36mHttpClient._error_handler\u001b[39m\u001b[34m(self, response, retried)\u001b[39m\n\u001b[32m    399\u001b[39m \u001b[38;5;28;01melse\u001b[39;00m:\n\u001b[32m    400\u001b[39m     err_str = \u001b[33m'\u001b[39m\u001b[33mThe ClickHouse server returned an error.\u001b[39m\u001b[33m'\u001b[39m\n\u001b[32m--> \u001b[39m\u001b[32m402\u001b[39m \u001b[38;5;28;01mraise\u001b[39;00m OperationalError(err_str) \u001b[38;5;28;01mif\u001b[39;00m retried \u001b[38;5;28;01melse\u001b[39;00m DatabaseError(err_str) \u001b[38;5;28;01mfrom\u001b[39;00m\u001b[38;5;250m \u001b[39m\u001b[38;5;28;01mNone\u001b[39;00m\n",
      "\u001b[31mDatabaseError\u001b[39m: HTTPDriver for https://rc1a-eflrt968scbm232q.mdb.yandexcloud.net:8443 received ClickHouse error code 57\n Code: 57. DB::Exception: Table db1.requests_st_support_mv already exists. (TABLE_ALREADY_EXISTS) (version 25.3.3.42 (official build))\n"
     ]
    }
   ],
   "source": [
    "query_text = \"\"\"--sql\n",
    "    CREATE MATERIALIZED VIEW db1.requests_st_support_mv\n",
    "    REFRESH EVERY 1 DAY OFFSET 3 HOUR TO db1.requests_st_support_ch AS\n",
    "    SELECT \n",
    "        `report_date`, \n",
    "        `ticket_id`, \n",
    "        `intercom_id`, \n",
    "        `camera_id`, \n",
    "        `server_stream_url`, \n",
    "        `category`, \n",
    "        `version_os`, \n",
    "        `version_app`,\n",
    "        if(`intercom_id` != '', 'intercom','camera') as device_type\n",
    "    FROM `db1`.`requests_st_support`\n",
    "    \"\"\"\n",
    "\n",
    "ch.query_run(query_text)"
   ]
  },
  {
   "cell_type": "markdown",
   "id": "75b99bc4",
   "metadata": {},
   "source": [
    "___\n",
    "## Tools\n",
    "___\n",
    "### query\n"
   ]
  },
  {
   "cell_type": "code",
   "execution_count": 2,
   "id": "5a7f8c90",
   "metadata": {},
   "outputs": [
    {
     "data": {
      "text/html": [
       "<div><style>\n",
       ".dataframe > thead > tr,\n",
       ".dataframe > tbody > tr {\n",
       "  text-align: right;\n",
       "  white-space: pre-wrap;\n",
       "}\n",
       "</style>\n",
       "<small>shape: (10, 9)</small><table border=\"1\" class=\"dataframe\"><thead><tr><th>report_date</th><th>ticket_id</th><th>intercom_id</th><th>camera_id</th><th>server_stream_url</th><th>category</th><th>version_os</th><th>version_app</th><th>device_type</th></tr><tr><td>date</td><td>i64</td><td>str</td><td>str</td><td>str</td><td>str</td><td>str</td><td>str</td><td>str</td></tr></thead><tbody><tr><td>2025-07-23</td><td>197778</td><td>&quot;2148132017&quot;</td><td>&quot;&quot;</td><td>&quot;msk-v06.sputnik.systems&quot;</td><td>&quot;MOB|Video: видео нет/не работа…</td><td>&quot;iOS&quot;</td><td>&quot;4.34.0(12)&quot;</td><td>&quot;intercom&quot;</td></tr><tr><td>2025-07-23</td><td>197781</td><td>&quot;2235144474&quot;</td><td>&quot;&quot;</td><td>&quot;msk-v10.sputnik.systems&quot;</td><td>&quot;&quot;</td><td>&quot;iOS&quot;</td><td>&quot;4.34.0(12)&quot;</td><td>&quot;intercom&quot;</td></tr><tr><td>2025-07-23</td><td>197780</td><td>&quot;2422252426&quot;</td><td>&quot;&quot;</td><td>&quot;msk-v01.sputnik.systems&quot;</td><td>&quot;&quot;</td><td>&quot;Android&quot;</td><td>&quot;6.21.1(417)&quot;</td><td>&quot;intercom&quot;</td></tr><tr><td>2025-07-23</td><td>197779</td><td>&quot;2101116473&quot;</td><td>&quot;&quot;</td><td>&quot;msk-v02.sputnik.systems&quot;</td><td>&quot;&quot;</td><td>&quot;iOS&quot;</td><td>&quot;4.33.0(3)&quot;</td><td>&quot;intercom&quot;</td></tr><tr><td>2025-07-23</td><td>197774</td><td>&quot;2018109524&quot;</td><td>&quot;&quot;</td><td>&quot;msk-v03.sputnik.systems&quot;</td><td>&quot;MOB|Storage: видеоархива нет/н…</td><td>&quot;Android&quot;</td><td>&quot;6.21.1(417)&quot;</td><td>&quot;intercom&quot;</td></tr><tr><td>2025-07-23</td><td>197777</td><td>&quot;2435157434&quot;</td><td>&quot;&quot;</td><td>&quot;v07.sputnik.systems&quot;</td><td>&quot;MOB|Video: видео не работает/н…</td><td>&quot;Android&quot;</td><td>&quot;6.21.1(417)&quot;</td><td>&quot;intercom&quot;</td></tr><tr><td>2025-07-23</td><td>197776</td><td>&quot;2012105335&quot;</td><td>&quot;&quot;</td><td>&quot;v07.sputnik.systems&quot;</td><td>&quot;MOB: приложение не работает, M…</td><td>&quot;Android&quot;</td><td>&quot;6.21.1(417)&quot;</td><td>&quot;intercom&quot;</td></tr><tr><td>2025-07-23</td><td>197775</td><td>&quot;2012106797&quot;</td><td>&quot;&quot;</td><td>&quot;msk-v03.sputnik.systems&quot;</td><td>&quot;MOB: приложение не работает, M…</td><td>&quot;Android&quot;</td><td>&quot;6.18.2(409)&quot;</td><td>&quot;intercom&quot;</td></tr><tr><td>2025-07-23</td><td>197768</td><td>&quot;2447161753&quot;</td><td>&quot;&quot;</td><td>&quot;msk-v03.sputnik.systems&quot;</td><td>&quot;Другое.&quot;</td><td>&quot;Android&quot;</td><td>&quot;6.20.0(413)&quot;</td><td>&quot;intercom&quot;</td></tr><tr><td>2025-07-23</td><td>197773</td><td>&quot;2236149191&quot;</td><td>&quot;&quot;</td><td>&quot;msk-v11.sputnik.systems&quot;</td><td>&quot;MOB|Info: много адресность в п…</td><td>&quot;iOS&quot;</td><td>&quot;4.33.0(3)&quot;</td><td>&quot;intercom&quot;</td></tr></tbody></table></div>"
      ],
      "text/plain": [
       "shape: (10, 9)\n",
       "┌───────────┬───────────┬───────────┬───────────┬───┬───────────┬───────────┬───────────┬──────────┐\n",
       "│ report_da ┆ ticket_id ┆ intercom_ ┆ camera_id ┆ … ┆ category  ┆ version_o ┆ version_a ┆ device_t │\n",
       "│ te        ┆ ---       ┆ id        ┆ ---       ┆   ┆ ---       ┆ s         ┆ pp        ┆ ype      │\n",
       "│ ---       ┆ i64       ┆ ---       ┆ str       ┆   ┆ str       ┆ ---       ┆ ---       ┆ ---      │\n",
       "│ date      ┆           ┆ str       ┆           ┆   ┆           ┆ str       ┆ str       ┆ str      │\n",
       "╞═══════════╪═══════════╪═══════════╪═══════════╪═══╪═══════════╪═══════════╪═══════════╪══════════╡\n",
       "│ 2025-07-2 ┆ 197778    ┆ 214813201 ┆           ┆ … ┆ MOB|Video ┆ iOS       ┆ 4.34.0(12 ┆ intercom │\n",
       "│ 3         ┆           ┆ 7         ┆           ┆   ┆ : видео   ┆           ┆ )         ┆          │\n",
       "│           ┆           ┆           ┆           ┆   ┆ нет/не    ┆           ┆           ┆          │\n",
       "│           ┆           ┆           ┆           ┆   ┆ работа…   ┆           ┆           ┆          │\n",
       "│ 2025-07-2 ┆ 197781    ┆ 223514447 ┆           ┆ … ┆           ┆ iOS       ┆ 4.34.0(12 ┆ intercom │\n",
       "│ 3         ┆           ┆ 4         ┆           ┆   ┆           ┆           ┆ )         ┆          │\n",
       "│ 2025-07-2 ┆ 197780    ┆ 242225242 ┆           ┆ … ┆           ┆ Android   ┆ 6.21.1(41 ┆ intercom │\n",
       "│ 3         ┆           ┆ 6         ┆           ┆   ┆           ┆           ┆ 7)        ┆          │\n",
       "│ 2025-07-2 ┆ 197779    ┆ 210111647 ┆           ┆ … ┆           ┆ iOS       ┆ 4.33.0(3) ┆ intercom │\n",
       "│ 3         ┆           ┆ 3         ┆           ┆   ┆           ┆           ┆           ┆          │\n",
       "│ 2025-07-2 ┆ 197774    ┆ 201810952 ┆           ┆ … ┆ MOB|Stora ┆ Android   ┆ 6.21.1(41 ┆ intercom │\n",
       "│ 3         ┆           ┆ 4         ┆           ┆   ┆ ge: видео ┆           ┆ 7)        ┆          │\n",
       "│           ┆           ┆           ┆           ┆   ┆ архива    ┆           ┆           ┆          │\n",
       "│           ┆           ┆           ┆           ┆   ┆ нет/н…    ┆           ┆           ┆          │\n",
       "│ 2025-07-2 ┆ 197777    ┆ 243515743 ┆           ┆ … ┆ MOB|Video ┆ Android   ┆ 6.21.1(41 ┆ intercom │\n",
       "│ 3         ┆           ┆ 4         ┆           ┆   ┆ : видео   ┆           ┆ 7)        ┆          │\n",
       "│           ┆           ┆           ┆           ┆   ┆ не работа ┆           ┆           ┆          │\n",
       "│           ┆           ┆           ┆           ┆   ┆ ет/н…     ┆           ┆           ┆          │\n",
       "│ 2025-07-2 ┆ 197776    ┆ 201210533 ┆           ┆ … ┆ MOB: прил ┆ Android   ┆ 6.21.1(41 ┆ intercom │\n",
       "│ 3         ┆           ┆ 5         ┆           ┆   ┆ ожение не ┆           ┆ 7)        ┆          │\n",
       "│           ┆           ┆           ┆           ┆   ┆ работает, ┆           ┆           ┆          │\n",
       "│           ┆           ┆           ┆           ┆   ┆ M…        ┆           ┆           ┆          │\n",
       "│ 2025-07-2 ┆ 197775    ┆ 201210679 ┆           ┆ … ┆ MOB: прил ┆ Android   ┆ 6.18.2(40 ┆ intercom │\n",
       "│ 3         ┆           ┆ 7         ┆           ┆   ┆ ожение не ┆           ┆ 9)        ┆          │\n",
       "│           ┆           ┆           ┆           ┆   ┆ работает, ┆           ┆           ┆          │\n",
       "│           ┆           ┆           ┆           ┆   ┆ M…        ┆           ┆           ┆          │\n",
       "│ 2025-07-2 ┆ 197768    ┆ 244716175 ┆           ┆ … ┆ Другое.   ┆ Android   ┆ 6.20.0(41 ┆ intercom │\n",
       "│ 3         ┆           ┆ 3         ┆           ┆   ┆           ┆           ┆ 3)        ┆          │\n",
       "│ 2025-07-2 ┆ 197773    ┆ 223614919 ┆           ┆ … ┆ MOB|Info: ┆ iOS       ┆ 4.33.0(3) ┆ intercom │\n",
       "│ 3         ┆           ┆ 1         ┆           ┆   ┆ много адр ┆           ┆           ┆          │\n",
       "│           ┆           ┆           ┆           ┆   ┆ есность в ┆           ┆           ┆          │\n",
       "│           ┆           ┆           ┆           ┆   ┆ п…        ┆           ┆           ┆          │\n",
       "└───────────┴───────────┴───────────┴───────────┴───┴───────────┴───────────┴───────────┴──────────┘"
      ]
     },
     "execution_count": 2,
     "metadata": {},
     "output_type": "execute_result"
    }
   ],
   "source": [
    "query_text = \"\"\"--sql\n",
    "    SELECT\n",
    "        *\n",
    "    FROM db1.requests_st_support_ch\n",
    "    ORDER BY report_date desc\n",
    "    limit 10\n",
    "    \"\"\"\n",
    "\n",
    "ch.query_run(query_text)\n"
   ]
  },
  {
   "cell_type": "code",
   "execution_count": null,
   "id": "a14cd7c8",
   "metadata": {},
   "outputs": [],
   "source": [
    "category"
   ]
  },
  {
   "cell_type": "markdown",
   "id": "65a04b6d",
   "metadata": {},
   "source": [
    "### delete a part\n"
   ]
  },
  {
   "cell_type": "code",
   "execution_count": null,
   "id": "5d1335b9",
   "metadata": {},
   "outputs": [
    {
     "data": {
      "text/html": [
       "<div><style>\n",
       ".dataframe > thead > tr,\n",
       ".dataframe > tbody > tr {\n",
       "  text-align: right;\n",
       "  white-space: pre-wrap;\n",
       "}\n",
       "</style>\n",
       "<small>shape: (0, 0)</small><table border=\"1\" class=\"dataframe\"><thead><tr></tr><tr></tr></thead><tbody></tbody></table></div>"
      ],
      "text/plain": [
       "shape: (0, 0)\n",
       "┌┐\n",
       "╞╡\n",
       "└┘"
      ]
     },
     "metadata": {},
     "output_type": "display_data"
    }
   ],
   "source": [
    "query_text = \"\"\"--sql\n",
    "    ALTER TABLE db1.requests_st_support_ch DELETE WHERE report_date = '2025-07-17'\n",
    "    \"\"\"\n",
    "\n",
    "ch.query_run(query_text)\n"
   ]
  },
  {
   "cell_type": "markdown",
   "id": "e2dc358f",
   "metadata": {},
   "source": [
    "### drop mv"
   ]
  },
  {
   "cell_type": "code",
   "execution_count": null,
   "id": "8d900648",
   "metadata": {},
   "outputs": [
    {
     "data": {
      "text/html": [
       "<div><style>\n",
       ".dataframe > thead > tr,\n",
       ".dataframe > tbody > tr {\n",
       "  text-align: right;\n",
       "  white-space: pre-wrap;\n",
       "}\n",
       "</style>\n",
       "<small>shape: (0, 0)</small><table border=\"1\" class=\"dataframe\"><thead><tr></tr><tr></tr></thead><tbody></tbody></table></div>"
      ],
      "text/plain": [
       "shape: (0, 0)\n",
       "┌┐\n",
       "╞╡\n",
       "└┘"
      ]
     },
     "execution_count": 4,
     "metadata": {},
     "output_type": "execute_result"
    }
   ],
   "source": [
    "query_text = \"\"\"--sql\n",
    "    DROP TABLE db1.requests_st_support_mv\n",
    "    \"\"\"\n",
    "\n",
    "ch.query_run(query_text)"
   ]
  },
  {
   "cell_type": "markdown",
   "id": "5509cc30",
   "metadata": {},
   "source": [
    "\n",
    "### drop ch"
   ]
  },
  {
   "cell_type": "code",
   "execution_count": 93,
   "id": "ea77e735",
   "metadata": {},
   "outputs": [
    {
     "data": {
      "text/html": [
       "<div><style>\n",
       ".dataframe > thead > tr,\n",
       ".dataframe > tbody > tr {\n",
       "  text-align: right;\n",
       "  white-space: pre-wrap;\n",
       "}\n",
       "</style>\n",
       "<small>shape: (0, 0)</small><table border=\"1\" class=\"dataframe\"><thead><tr></tr><tr></tr></thead><tbody></tbody></table></div>"
      ],
      "text/plain": [
       "shape: (0, 0)\n",
       "┌┐\n",
       "╞╡\n",
       "└┘"
      ]
     },
     "execution_count": 93,
     "metadata": {},
     "output_type": "execute_result"
    }
   ],
   "source": [
    "query_text = \"\"\"--sql\n",
    "    DROP TABLE db1.requests_st_support_ch\n",
    "    \"\"\"\n",
    "\n",
    "ch.query_run(query_text)"
   ]
  },
  {
   "cell_type": "markdown",
   "id": "a535ac7a",
   "metadata": {},
   "source": [
    "### refresh mv"
   ]
  },
  {
   "cell_type": "code",
   "execution_count": 2,
   "id": "f47a9582",
   "metadata": {},
   "outputs": [
    {
     "data": {
      "text/html": [
       "<div><style>\n",
       ".dataframe > thead > tr,\n",
       ".dataframe > tbody > tr {\n",
       "  text-align: right;\n",
       "  white-space: pre-wrap;\n",
       "}\n",
       "</style>\n",
       "<small>shape: (1, 2)</small><table border=\"1\" class=\"dataframe\"><thead><tr><th>elapsed_ns</th><th>query_id</th></tr><tr><td>i64</td><td>str</td></tr></thead><tbody><tr><td>890357</td><td>&quot;62108f52-061c-4c85-855c-119f54…</td></tr></tbody></table></div>"
      ],
      "text/plain": [
       "shape: (1, 2)\n",
       "┌────────────┬─────────────────────────────────┐\n",
       "│ elapsed_ns ┆ query_id                        │\n",
       "│ ---        ┆ ---                             │\n",
       "│ i64        ┆ str                             │\n",
       "╞════════════╪═════════════════════════════════╡\n",
       "│ 890357     ┆ 62108f52-061c-4c85-855c-119f54… │\n",
       "└────────────┴─────────────────────────────────┘"
      ]
     },
     "execution_count": 2,
     "metadata": {},
     "output_type": "execute_result"
    }
   ],
   "source": [
    "query_text = \"\"\"\n",
    "SYSTEM REFRESH VIEW db1.requests_st_support_mv\n",
    "\"\"\"\n",
    "\n",
    "ch.query_run(query_text)"
   ]
  }
 ],
 "metadata": {
  "jupytext": {
   "formats": "ipynb,md"
  },
  "kernelspec": {
   "display_name": "myenv",
   "language": "python",
   "name": "python3"
  },
  "language_info": {
   "codemirror_mode": {
    "name": "ipython",
    "version": 3
   },
   "file_extension": ".py",
   "mimetype": "text/x-python",
   "name": "python",
   "nbconvert_exporter": "python",
   "pygments_lexer": "ipython3",
   "version": "3.12.11"
  }
 },
 "nbformat": 4,
 "nbformat_minor": 5
}

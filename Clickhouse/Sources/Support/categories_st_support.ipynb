{
 "cells": [
  {
   "cell_type": "markdown",
   "id": "e9d9cfcb",
   "metadata": {},
   "source": [
    "## Start"
   ]
  },
  {
   "cell_type": "code",
   "execution_count": 2,
   "id": "4ea8154b",
   "metadata": {},
   "outputs": [],
   "source": [
    "import clickhouse_connect\n",
    "import datetime\n",
    "import os\n",
    "import pytz\n",
    "import pandas as pd\n",
    "from dateutil.relativedelta import relativedelta\n",
    "from dotenv import load_dotenv\n",
    "\n",
    "import sys\n",
    "sys.path.append('/home/boris/Documents/Work/analytics/Clickhouse')\n",
    "from clickhouse_client import ClickHouse_client\n",
    "ch = ClickHouse_client()\n",
    "pd.set_option('display.max_rows', 1000)\n",
    "\n"
   ]
  },
  {
   "cell_type": "markdown",
   "id": "fa3291aa",
   "metadata": {},
   "source": [
    "___\n",
    "### Tags: #Source #Support\n",
    "\n",
    "### Links: \n",
    "[[categories_sc_support]]\n",
    "___"
   ]
  },
  {
   "cell_type": "code",
   "execution_count": 11,
   "id": "8309b4ad",
   "metadata": {},
   "outputs": [
    {
     "data": {
      "text/html": [
       "<div><style>\n",
       ".dataframe > thead > tr,\n",
       ".dataframe > tbody > tr {\n",
       "  text-align: right;\n",
       "  white-space: pre-wrap;\n",
       "}\n",
       "</style>\n",
       "<small>shape: (0, 0)</small><table border=\"1\" class=\"dataframe\"><thead><tr></tr><tr></tr></thead><tbody></tbody></table></div>"
      ],
      "text/plain": [
       "shape: (0, 0)\n",
       "┌┐\n",
       "╞╡\n",
       "└┘"
      ]
     },
     "execution_count": 11,
     "metadata": {},
     "output_type": "execute_result"
    }
   ],
   "source": [
    "query_text = \"\"\"--sql\n",
    "CREATE TABLE db1.categories_st_support\n",
    "(\n",
    "    `report_date` Date,\n",
    "    `Category` String,\n",
    "    `Details` String\n",
    ")\n",
    "ENGINE = S3('https://storage.yandexcloud.net/dwh-asgard/categories_st_support/year=*/month=*/*.csv','CSVWithNames')\n",
    "SETTINGS format_csv_delimiter = ','\n",
    "\"\"\"\n",
    "\n",
    "ch.query_run(query_text)"
   ]
  },
  {
   "cell_type": "code",
   "execution_count": 13,
   "id": "189957f9",
   "metadata": {},
   "outputs": [
    {
     "data": {
      "text/html": [
       "<div><style>\n",
       ".dataframe > thead > tr,\n",
       ".dataframe > tbody > tr {\n",
       "  text-align: right;\n",
       "  white-space: pre-wrap;\n",
       "}\n",
       "</style>\n",
       "<small>shape: (0, 0)</small><table border=\"1\" class=\"dataframe\"><thead><tr></tr><tr></tr></thead><tbody></tbody></table></div>"
      ],
      "text/plain": [
       "shape: (0, 0)\n",
       "┌┐\n",
       "╞╡\n",
       "└┘"
      ]
     },
     "execution_count": 13,
     "metadata": {},
     "output_type": "execute_result"
    }
   ],
   "source": [
    "query_text = \"\"\"--sql\n",
    "CREATE TABLE db1.categories_st_support_ch\n",
    "    (\n",
    "        `report_date` Date,\n",
    "        `Category` String,\n",
    "        `Details` String\n",
    "    )\n",
    "    ENGINE = MergeTree()\n",
    "    ORDER BY report_date\n",
    "\"\"\"\n",
    "\n",
    "ch.query_run(query_text)"
   ]
  },
  {
   "cell_type": "code",
   "execution_count": 14,
   "id": "67f3b6b4",
   "metadata": {},
   "outputs": [
    {
     "data": {
      "text/html": [
       "<div><style>\n",
       ".dataframe > thead > tr,\n",
       ".dataframe > tbody > tr {\n",
       "  text-align: right;\n",
       "  white-space: pre-wrap;\n",
       "}\n",
       "</style>\n",
       "<small>shape: (0, 0)</small><table border=\"1\" class=\"dataframe\"><thead><tr></tr><tr></tr></thead><tbody></tbody></table></div>"
      ],
      "text/plain": [
       "shape: (0, 0)\n",
       "┌┐\n",
       "╞╡\n",
       "└┘"
      ]
     },
     "execution_count": 14,
     "metadata": {},
     "output_type": "execute_result"
    }
   ],
   "source": [
    "query_text = \"\"\"--sql\n",
    "    CREATE MATERIALIZED VIEW db1.categories_st_support_mv\n",
    "    REFRESH EVERY 1 DAY OFFSET 3 HOUR TO db1.categories_st_support_ch AS\n",
    "    SELECT \n",
    "        *\n",
    "    FROM db1.categories_st_support\n",
    "    \"\"\"\n",
    "\n",
    "ch.query_run(query_text)"
   ]
  },
  {
   "cell_type": "markdown",
   "id": "6dae3af4",
   "metadata": {},
   "source": [
    "___\n",
    "## Tools\n",
    "___\n",
    "### query\n"
   ]
  },
  {
   "cell_type": "code",
   "execution_count": 15,
   "id": "d8b8a347",
   "metadata": {},
   "outputs": [
    {
     "data": {
      "text/html": [
       "<div><style>\n",
       ".dataframe > thead > tr,\n",
       ".dataframe > tbody > tr {\n",
       "  text-align: right;\n",
       "  white-space: pre-wrap;\n",
       "}\n",
       "</style>\n",
       "<small>shape: (10, 3)</small><table border=\"1\" class=\"dataframe\"><thead><tr><th>report_date</th><th>Category</th><th>Details</th></tr><tr><td>date</td><td>str</td><td>str</td></tr></thead><tbody><tr><td>2025-07-22</td><td>&quot;Другое|Другое&quot;</td><td>&quot;Другое&quot;</td></tr><tr><td>2025-07-22</td><td>&quot;INT|Auth&quot;</td><td>&quot;алиса/яндекс Станция&quot;</td></tr><tr><td>2025-07-22</td><td>&quot;MOB|SIP&quot;</td><td>&quot;не приходят вызовы в приложени…</td></tr><tr><td>2025-07-22</td><td>&quot;DEV|Access&quot;</td><td>&quot;ключ не открывает дверь&quot;</td></tr><tr><td>2025-07-22</td><td>&quot;MOB|Access&quot;</td><td>&quot;бесключевой доступ не работает…</td></tr><tr><td>2025-07-22</td><td>&quot;MOB|Access&quot;</td><td>&quot;нет бесключевого доступа&quot;</td></tr><tr><td>2025-07-22</td><td>&quot;MOB|Access&quot;</td><td>&quot;код доступа не работает&quot;</td></tr><tr><td>2025-07-22</td><td>&quot;MOB|Access&quot;</td><td>&quot;дверь не открывается через при…</td></tr><tr><td>2025-07-22</td><td>&quot;MOB|Auth&quot;</td><td>&quot;проблема с приглашением&quot;</td></tr><tr><td>2025-07-22</td><td>&quot;MOB|Auth&quot;</td><td>&quot;проблема с авторизацией&quot;</td></tr></tbody></table></div>"
      ],
      "text/plain": [
       "shape: (10, 3)\n",
       "┌─────────────┬───────────────┬─────────────────────────────────┐\n",
       "│ report_date ┆ Category      ┆ Details                         │\n",
       "│ ---         ┆ ---           ┆ ---                             │\n",
       "│ date        ┆ str           ┆ str                             │\n",
       "╞═════════════╪═══════════════╪═════════════════════════════════╡\n",
       "│ 2025-07-22  ┆ Другое|Другое ┆ Другое                          │\n",
       "│ 2025-07-22  ┆ INT|Auth      ┆ алиса/яндекс Станция            │\n",
       "│ 2025-07-22  ┆ MOB|SIP       ┆ не приходят вызовы в приложени… │\n",
       "│ 2025-07-22  ┆ DEV|Access    ┆ ключ не открывает дверь         │\n",
       "│ 2025-07-22  ┆ MOB|Access    ┆ бесключевой доступ не работает… │\n",
       "│ 2025-07-22  ┆ MOB|Access    ┆ нет бесключевого доступа        │\n",
       "│ 2025-07-22  ┆ MOB|Access    ┆ код доступа не работает         │\n",
       "│ 2025-07-22  ┆ MOB|Access    ┆ дверь не открывается через при… │\n",
       "│ 2025-07-22  ┆ MOB|Auth      ┆ проблема с приглашением         │\n",
       "│ 2025-07-22  ┆ MOB|Auth      ┆ проблема с авторизацией         │\n",
       "└─────────────┴───────────────┴─────────────────────────────────┘"
      ]
     },
     "execution_count": 15,
     "metadata": {},
     "output_type": "execute_result"
    }
   ],
   "source": [
    "query_text = \"\"\"--sql\n",
    "    SELECT\n",
    "        *\n",
    "    FROM db1.categories_st_support_ch\n",
    "    ORDER BY report_date desc\n",
    "    limit 10\n",
    "    \"\"\"\n",
    "\n",
    "ch.query_run(query_text)\n"
   ]
  },
  {
   "cell_type": "markdown",
   "id": "ab04da2b",
   "metadata": {},
   "source": [
    "### delete a part\n"
   ]
  },
  {
   "cell_type": "code",
   "execution_count": null,
   "id": "668daeaa",
   "metadata": {},
   "outputs": [
    {
     "data": {
      "text/html": [
       "<div><style>\n",
       ".dataframe > thead > tr,\n",
       ".dataframe > tbody > tr {\n",
       "  text-align: right;\n",
       "  white-space: pre-wrap;\n",
       "}\n",
       "</style>\n",
       "<small>shape: (0, 0)</small><table border=\"1\" class=\"dataframe\"><thead><tr></tr><tr></tr></thead><tbody></tbody></table></div>"
      ],
      "text/plain": [
       "shape: (0, 0)\n",
       "┌┐\n",
       "╞╡\n",
       "└┘"
      ]
     },
     "metadata": {},
     "output_type": "display_data"
    }
   ],
   "source": [
    "query_text = \"\"\"--sql\n",
    "    ALTER TABLE db1.categories_st_support_ch DELETE WHERE report_date = '2025-07-17'\n",
    "    \"\"\"\n",
    "\n",
    "ch.query_run(query_text)\n"
   ]
  },
  {
   "cell_type": "markdown",
   "id": "c4761d7e",
   "metadata": {},
   "source": [
    "### drop mv"
   ]
  },
  {
   "cell_type": "code",
   "execution_count": null,
   "id": "72528127",
   "metadata": {
    "lines_to_next_cell": 2
   },
   "outputs": [
    {
     "data": {
      "text/html": [
       "<div><style>\n",
       ".dataframe > thead > tr,\n",
       ".dataframe > tbody > tr {\n",
       "  text-align: right;\n",
       "  white-space: pre-wrap;\n",
       "}\n",
       "</style>\n",
       "<small>shape: (0, 0)</small><table border=\"1\" class=\"dataframe\"><thead><tr></tr><tr></tr></thead><tbody></tbody></table></div>"
      ],
      "text/plain": [
       "shape: (0, 0)\n",
       "┌┐\n",
       "╞╡\n",
       "└┘"
      ]
     },
     "execution_count": 10,
     "metadata": {},
     "output_type": "execute_result"
    }
   ],
   "source": [
    "query_text = \"\"\"--sql\n",
    "    DROP TABLE db1.categories_st_support_mv\n",
    "    \"\"\"\n",
    "\n",
    "ch.query_run(query_text)"
   ]
  },
  {
   "cell_type": "markdown",
   "id": "3c58b939",
   "metadata": {},
   "source": [
    "### drop ch"
   ]
  },
  {
   "cell_type": "code",
   "execution_count": null,
   "id": "a4a464b9",
   "metadata": {},
   "outputs": [
    {
     "data": {
      "text/html": [
       "<div><style>\n",
       ".dataframe > thead > tr,\n",
       ".dataframe > tbody > tr {\n",
       "  text-align: right;\n",
       "  white-space: pre-wrap;\n",
       "}\n",
       "</style>\n",
       "<small>shape: (0, 0)</small><table border=\"1\" class=\"dataframe\"><thead><tr></tr><tr></tr></thead><tbody></tbody></table></div>"
      ],
      "text/plain": [
       "shape: (0, 0)\n",
       "┌┐\n",
       "╞╡\n",
       "└┘"
      ]
     },
     "metadata": {},
     "output_type": "display_data"
    }
   ],
   "source": [
    "query_text = \"\"\"--sql\n",
    "    DROP TABLE db1.categories_st_support_ch\n",
    "    \"\"\"\n",
    "\n",
    "ch.query_run(query_text)"
   ]
  },
  {
   "cell_type": "markdown",
   "id": "b6a65bd0",
   "metadata": {},
   "source": [
    "### refresh mv"
   ]
  },
  {
   "cell_type": "code",
   "execution_count": 3,
   "id": "a1e9bf16",
   "metadata": {},
   "outputs": [
    {
     "data": {
      "text/html": [
       "<div><style>\n",
       ".dataframe > thead > tr,\n",
       ".dataframe > tbody > tr {\n",
       "  text-align: right;\n",
       "  white-space: pre-wrap;\n",
       "}\n",
       "</style>\n",
       "<small>shape: (1, 2)</small><table border=\"1\" class=\"dataframe\"><thead><tr><th>elapsed_ns</th><th>query_id</th></tr><tr><td>i64</td><td>str</td></tr></thead><tbody><tr><td>669573</td><td>&quot;91990ded-8fb1-4c65-8736-4de95c…</td></tr></tbody></table></div>"
      ],
      "text/plain": [
       "shape: (1, 2)\n",
       "┌────────────┬─────────────────────────────────┐\n",
       "│ elapsed_ns ┆ query_id                        │\n",
       "│ ---        ┆ ---                             │\n",
       "│ i64        ┆ str                             │\n",
       "╞════════════╪═════════════════════════════════╡\n",
       "│ 669573     ┆ 91990ded-8fb1-4c65-8736-4de95c… │\n",
       "└────────────┴─────────────────────────────────┘"
      ]
     },
     "execution_count": 3,
     "metadata": {},
     "output_type": "execute_result"
    }
   ],
   "source": [
    "query_text = \"\"\"\n",
    "SYSTEM REFRESH VIEW db1.categories_st_support_mv\n",
    "\"\"\"\n",
    "\n",
    "ch.query_run(query_text)"
   ]
  }
 ],
 "metadata": {
  "jupytext": {
   "formats": "ipynb,md"
  },
  "kernelspec": {
   "display_name": "myenv",
   "language": "python",
   "name": "python3"
  },
  "language_info": {
   "codemirror_mode": {
    "name": "ipython",
    "version": 3
   },
   "file_extension": ".py",
   "mimetype": "text/x-python",
   "name": "python",
   "nbconvert_exporter": "python",
   "pygments_lexer": "ipython3",
   "version": "3.12.11"
  }
 },
 "nbformat": 4,
 "nbformat_minor": 5
}

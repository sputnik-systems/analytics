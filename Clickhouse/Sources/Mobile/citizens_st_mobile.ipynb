{
 "cells": [
  {
   "cell_type": "markdown",
   "id": "55228966",
   "metadata": {},
   "source": [
    "# citizens_st_mobile\n",
    "___\n"
   ]
  },
  {
   "cell_type": "markdown",
   "id": "3e239d19",
   "metadata": {},
   "source": [
    "## Start"
   ]
  },
  {
   "cell_type": "code",
   "execution_count": 1,
   "id": "b18c450e",
   "metadata": {},
   "outputs": [],
   "source": [
    "import clickhouse_connect\n",
    "import datetime\n",
    "import os\n",
    "import pytz\n",
    "import pandas as pd\n",
    "from dateutil.relativedelta import relativedelta\n",
    "from dotenv import load_dotenv\n",
    "\n",
    "import sys\n",
    "sys.path.append('/home/boris/Documents/Work/analytics/Clickhouse')\n",
    "from clickhouse_client import ClickHouse_client\n",
    "ch = ClickHouse_client()\n",
    "pd.set_option('display.max_rows', 1000)"
   ]
  },
  {
   "cell_type": "markdown",
   "id": "3862960a",
   "metadata": {},
   "source": [
    "### Tags: #Source #Mobile #YandexFunctions\n",
    "\n",
    "### Links: \n",
    "[[clichouse_schedule_function]]\n",
    "___"
   ]
  },
  {
   "cell_type": "markdown",
   "id": "f93c5fa0",
   "metadata": {},
   "source": [
    "### creating a table from s3"
   ]
  },
  {
   "cell_type": "code",
   "execution_count": null,
   "id": "6285e356",
   "metadata": {},
   "outputs": [],
   "source": [
    "query_text = \"\"\"--sql\n",
    "    CREATE TABLE db1.citizens_st_mobile\n",
    "    (\n",
    "    `report_date` Date,\n",
    "    `citizen_id` Int32,\n",
    "    `trial_available` Int32,\n",
    "    `state` String,\n",
    "    `activated_at` String,\n",
    "    `flat_uuid` String,\n",
    "    `address_uuid` String\n",
    "    )\n",
    "    ENGINE = S3('https://storage.yandexcloud.net/dwh-asgard/citizens_st_mobile/year=*/month=*/*.csv','CSVWithNames')\n",
    "    \"\"\"\n",
    "\n",
    "ch.query_run(query_text)"
   ]
  },
  {
   "cell_type": "markdown",
   "id": "b679e023",
   "metadata": {},
   "source": [
    "### creating a table in ch"
   ]
  },
  {
   "cell_type": "code",
   "execution_count": null,
   "id": "6044f524",
   "metadata": {},
   "outputs": [],
   "source": [
    "query_text = \"\"\"--sql\n",
    "    CREATE TABLE db1.citizens_st_mobile_ch\n",
    "    (\n",
    "    `report_date` Date,\n",
    "    `citizen_id` Int32,\n",
    "    `trial_available` Int32,\n",
    "    `state` String,\n",
    "    `activated_at` DateTime,\n",
    "    `flat_uuid` String,\n",
    "    `address_uuid` String\n",
    "    )\n",
    "    ENGINE = MergeTree()\n",
    "    ORDER BY citizen_id\n",
    "    \"\"\"\n",
    "\n",
    "ch.query_run(query_text)"
   ]
  },
  {
   "cell_type": "markdown",
   "id": "4cf17c31",
   "metadata": {},
   "source": [
    "### creating a mv\n",
    "\n",
    "dosn't work now"
   ]
  },
  {
   "cell_type": "code",
   "execution_count": null,
   "id": "f4a75065",
   "metadata": {},
   "outputs": [],
   "source": [
    "query_text = \"\"\"--sql\n",
    " --   CREATE MATERIALIZED VIEW db1.citizens_st_mobile_mv\n",
    " --   REFRESH EVERY 1 DAY OFFSET 3 HOUR RANDOMIZE FOR 1 HOUR TO db1.citizens_st_mobile_ch AS\n",
    " --  SELECT\n",
    " --       *\n",
    " --   FROM db1.citizens_st_mobile\n",
    "    \"\"\"\n",
    "\n",
    "ch.query_run(query_text)"
   ]
  },
  {
   "cell_type": "markdown",
   "id": "a9bbdf2f",
   "metadata": {},
   "source": [
    "### add data before 2025-05-30"
   ]
  },
  {
   "cell_type": "code",
   "execution_count": null,
   "id": "db13d344",
   "metadata": {},
   "outputs": [],
   "source": [
    "start_date = datetime.datetime.strptime('2023-07-10','%Y-%m-%d').date()\n",
    "end_date = datetime.datetime.strptime('2025-05-29','%Y-%m-%d').date()\n",
    "\n",
    "dates_pd = pd.DataFrame({\n",
    "        'date': pd.date_range(start=start_date, end=end_date).strftime('%Y-%m-%d'),\n",
    "        'date_key': pd.date_range(start=start_date, end=end_date).strftime('%/year=%-Y/month=%m/%d%')\n",
    "        })\n",
    "dates_pd = dates_pd.iloc[::-1].reset_index(drop=True)\n",
    "for day_index in dates_pd.index:\n",
    "    date = dates_pd.loc[day_index,['date']].values[0]\n",
    "    date_key = dates_pd.loc[day_index,['date_key']].values[0]\n",
    "    query_text = f\"\"\"\n",
    "        INSERT INTO db1.citizens_st_mobile_ch\n",
    "        SELECT\n",
    "            citizens_st_mobile.report_date AS report_date,\n",
    "            citizens_st_mobile.citizen_id AS citizen_id,\n",
    "            citizens_st_mobile.trial_available AS trial_available,\n",
    "            citizens_st_mobile.state AS state,\n",
    "            toDateTimeOrZero(citizens_st_mobile_ch_2025_05_30.activated_at) AS activated_at,\n",
    "            citizens_st_mobile_ch_2025_05_30.flat_uuid AS flat_uuid,\n",
    "            citizens_st_mobile_ch_2025_05_30.address_uuid AS address_uuid\n",
    "        FROM db1.citizens_st_mobile AS citizens_st_mobile\n",
    "        LEFT JOIN\n",
    "            (SELECT\n",
    "                citizen_id,\n",
    "                flat_uuid,\n",
    "                address_uuid,\n",
    "                activated_at\n",
    "            FROM db1.citizens_st_mobile\n",
    "            WHERE report_date = '2025-05-30'\n",
    "             AND _path LIKE '%/year=2025/month=05/30%') AS citizens_st_mobile_ch_2025_05_30\n",
    "            ON citizens_st_mobile_ch_2025_05_30.citizen_id = citizens_st_mobile.citizen_id\n",
    "        WHERE report_date = '{date}'\n",
    "            AND _path LIKE '{date_key}'\n",
    "    \"\"\"\n",
    "    ch.query_run(query_text)\n",
    "    print(date)\n",
    "# ch.query_run(query_text)"
   ]
  },
  {
   "cell_type": "markdown",
   "id": "87256a2f",
   "metadata": {},
   "source": [
    "### add data after 2025-05-30"
   ]
  },
  {
   "cell_type": "code",
   "execution_count": 9,
   "id": "d210f406",
   "metadata": {},
   "outputs": [
    {
     "name": "stdout",
     "output_type": "stream",
     "text": [
      "2025-08-27\n"
     ]
    }
   ],
   "source": [
    "start_date = datetime.datetime.strptime('2025-08-27','%Y-%m-%d').date()\n",
    "end_date = datetime.datetime.strptime('2025-08-27','%Y-%m-%d').date()\n",
    "\n",
    "dates_pd = pd.DataFrame({\n",
    "        'date': pd.date_range(start=start_date, end=end_date).strftime('%Y-%m-%d'),\n",
    "        'date_key': pd.date_range(start=start_date, end=end_date).strftime('%/year=%-Y/month=%m/%d%')\n",
    "        })\n",
    "dates_pd = dates_pd.iloc[::-1].reset_index(drop=True)\n",
    "for day_index in dates_pd.index:\n",
    "    date = dates_pd.loc[day_index,['date']].values[0]\n",
    "    date_key = dates_pd.loc[day_index,['date_key']].values[0]\n",
    "    query_text = f\"\"\"\n",
    "        INSERT INTO db1.citizens_st_mobile_ch\n",
    "        SELECT\n",
    "            report_date,\n",
    "            citizen_id,\n",
    "            trial_available,\n",
    "            state,\n",
    "            toDateTimeOrZero(activated_at) AS activated_at,\n",
    "            flat_uuid,\n",
    "            address_uuid\n",
    "        FROM db1.citizens_st_mobile\n",
    "        WHERE report_date = '{date}'\n",
    "        AND _path LIKE '{date_key}'\n",
    "        \n",
    "    \"\"\"\n",
    "    ch.query_run(query_text)\n",
    "    print(date)\n",
    "# ch.query_run(query_text)"
   ]
  },
  {
   "cell_type": "markdown",
   "id": "b33fa664",
   "metadata": {},
   "source": [
    "___\n",
    "## Tools\n",
    "___\n",
    "### query\n"
   ]
  },
  {
   "cell_type": "code",
   "execution_count": 2,
   "id": "1b5a27c1",
   "metadata": {},
   "outputs": [
    {
     "data": {
      "text/html": [
       "<div><style>\n",
       ".dataframe > thead > tr,\n",
       ".dataframe > tbody > tr {\n",
       "  text-align: right;\n",
       "  white-space: pre-wrap;\n",
       "}\n",
       "</style>\n",
       "<small>shape: (100, 2)</small><table border=\"1\" class=\"dataframe\"><thead><tr><th>report_date</th><th>count()</th></tr><tr><td>date</td><td>i64</td></tr></thead><tbody><tr><td>2025-09-03</td><td>2147696</td></tr><tr><td>2025-09-02</td><td>2146078</td></tr><tr><td>2025-09-01</td><td>2144592</td></tr><tr><td>2025-08-31</td><td>2143219</td></tr><tr><td>2025-08-30</td><td>2141756</td></tr><tr><td>&hellip;</td><td>&hellip;</td></tr><tr><td>2025-05-30</td><td>2031495</td></tr><tr><td>2025-05-29</td><td>2030230</td></tr><tr><td>2025-05-28</td><td>2028812</td></tr><tr><td>2025-05-27</td><td>2027534</td></tr><tr><td>2025-05-26</td><td>2026315</td></tr></tbody></table></div>"
      ],
      "text/plain": [
       "shape: (100, 2)\n",
       "┌─────────────┬─────────┐\n",
       "│ report_date ┆ count() │\n",
       "│ ---         ┆ ---     │\n",
       "│ date        ┆ i64     │\n",
       "╞═════════════╪═════════╡\n",
       "│ 2025-09-03  ┆ 2147696 │\n",
       "│ 2025-09-02  ┆ 2146078 │\n",
       "│ 2025-09-01  ┆ 2144592 │\n",
       "│ 2025-08-31  ┆ 2143219 │\n",
       "│ 2025-08-30  ┆ 2141756 │\n",
       "│ …           ┆ …       │\n",
       "│ 2025-05-30  ┆ 2031495 │\n",
       "│ 2025-05-29  ┆ 2030230 │\n",
       "│ 2025-05-28  ┆ 2028812 │\n",
       "│ 2025-05-27  ┆ 2027534 │\n",
       "│ 2025-05-26  ┆ 2026315 │\n",
       "└─────────────┴─────────┘"
      ]
     },
     "execution_count": 2,
     "metadata": {},
     "output_type": "execute_result"
    }
   ],
   "source": [
    "query_text = \"\"\"--sql\n",
    "    SELECT\n",
    "        report_date,\n",
    "        count(*)\n",
    "    FROM db1.citizens_st_mobile_ch\n",
    "    GROUP By report_date\n",
    "    ORDER BY report_date desc\n",
    "    limit 100\n",
    "    \"\"\"\n",
    "\n",
    "ch.query_run(query_text)\n"
   ]
  },
  {
   "cell_type": "markdown",
   "id": "d05b59ed",
   "metadata": {},
   "source": [
    "### delete a part\n"
   ]
  },
  {
   "cell_type": "code",
   "execution_count": 6,
   "id": "b2baee38",
   "metadata": {},
   "outputs": [
    {
     "data": {
      "text/html": [
       "<div><style>\n",
       ".dataframe > thead > tr,\n",
       ".dataframe > tbody > tr {\n",
       "  text-align: right;\n",
       "  white-space: pre-wrap;\n",
       "}\n",
       "</style>\n",
       "<small>shape: (0, 0)</small><table border=\"1\" class=\"dataframe\"><thead><tr></tr><tr></tr></thead><tbody></tbody></table></div>"
      ],
      "text/plain": [
       "shape: (0, 0)\n",
       "┌┐\n",
       "╞╡\n",
       "└┘"
      ]
     },
     "execution_count": 6,
     "metadata": {},
     "output_type": "execute_result"
    }
   ],
   "source": [
    "query_text = \"\"\"--sql\n",
    "    ALTER TABLE db1.citizens_st_mobile_ch DELETE WHERE report_date = '2025-08-26'\n",
    "    \"\"\"\n",
    "\n",
    "ch.query_run(query_text)\n"
   ]
  },
  {
   "cell_type": "markdown",
   "id": "184f1a80",
   "metadata": {},
   "source": [
    "### drop mv"
   ]
  },
  {
   "cell_type": "code",
   "execution_count": null,
   "id": "cca7873f",
   "metadata": {
    "lines_to_next_cell": 2
   },
   "outputs": [],
   "source": [
    "query_text = \"\"\"--sql\n",
    "    DROP TABLE db1.citizens_st_mobile_mv\n",
    "    \"\"\"\n",
    "\n",
    "ch.query_run(query_text)"
   ]
  },
  {
   "cell_type": "markdown",
   "id": "3c52b7bf",
   "metadata": {},
   "source": [
    "### drop ch"
   ]
  },
  {
   "cell_type": "code",
   "execution_count": null,
   "id": "cf94ce9f",
   "metadata": {},
   "outputs": [],
   "source": [
    "query_text = \"\"\"--sql\n",
    "    DROP TABLE db1.citizens_st_mobile_ch\n",
    "    \"\"\"\n",
    "\n",
    "ch.query_run(query_text)"
   ]
  },
  {
   "cell_type": "markdown",
   "id": "5420a90e",
   "metadata": {},
   "source": [
    "### refresh mv"
   ]
  },
  {
   "cell_type": "code",
   "execution_count": null,
   "id": "6098de59",
   "metadata": {
    "lines_to_next_cell": 0
   },
   "outputs": [],
   "source": [
    "query_text = \"\"\"\n",
    "SYSTEM REFRESH VIEW db1.t_subscribtions_citizens_by_companies_and_cities_ch\n",
    "\"\"\"\n",
    "\n",
    "ch.query_run(query_text)"
   ]
  },
  {
   "cell_type": "markdown",
   "id": "6d032191",
   "metadata": {},
   "source": [
    "\n"
   ]
  }
 ],
 "metadata": {
  "jupytext": {
   "cell_metadata_filter": "-all",
   "formats": "ipynb,md"
  },
  "kernelspec": {
   "display_name": "myenv",
   "language": "python",
   "name": "python3"
  },
  "language_info": {
   "codemirror_mode": {
    "name": "ipython",
    "version": 3
   },
   "file_extension": ".py",
   "mimetype": "text/x-python",
   "name": "python",
   "nbconvert_exporter": "python",
   "pygments_lexer": "ipython3",
   "version": "3.12.11"
  }
 },
 "nbformat": 4,
 "nbformat_minor": 5
}

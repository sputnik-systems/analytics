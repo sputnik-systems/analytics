{
 "cells": [
  {
   "cell_type": "markdown",
   "id": "55228966",
   "metadata": {},
   "source": [
    "# citizens_st_mobile\n",
    "___\n"
   ]
  },
  {
   "cell_type": "markdown",
   "id": "3e239d19",
   "metadata": {},
   "source": [
    "## Start"
   ]
  },
  {
   "cell_type": "code",
   "execution_count": 1,
   "id": "b18c450e",
   "metadata": {},
   "outputs": [],
   "source": [
    "import clickhouse_connect\n",
    "import datetime\n",
    "import os\n",
    "import pytz\n",
    "import pandas as pd\n",
    "from dateutil.relativedelta import relativedelta\n",
    "from dotenv import load_dotenv\n",
    "\n",
    "import sys\n",
    "sys.path.append('/home/boris/Documents/Work/analytics/Clickhouse')\n",
    "from clickhouse_client import ClickHouse_client\n",
    "ch = ClickHouse_client()\n",
    "pd.set_option('display.max_rows', 1000)"
   ]
  },
  {
   "cell_type": "markdown",
   "id": "3862960a",
   "metadata": {},
   "source": [
    "### Tags: #Source #Mobile #YandexFunctions\n",
    "\n",
    "### Links: \n",
    "[[clichouse_schedule_function]]\n",
    "___"
   ]
  },
  {
   "cell_type": "markdown",
   "id": "f93c5fa0",
   "metadata": {},
   "source": [
    "### creating a table from s3"
   ]
  },
  {
   "cell_type": "code",
   "execution_count": null,
   "id": "6285e356",
   "metadata": {},
   "outputs": [],
   "source": [
    "query_text = \"\"\"--sql\n",
    "    CREATE TABLE db1.citizens_st_mobile\n",
    "    (\n",
    "    `report_date` Date,\n",
    "    `citizen_id` Int32,\n",
    "    `trial_available` Int32,\n",
    "    `state` String,\n",
    "    `activated_at` String,\n",
    "    `flat_uuid` String,\n",
    "    `address_uuid` String\n",
    "    )\n",
    "    ENGINE = S3('https://storage.yandexcloud.net/dwh-asgard/citizens_st_mobile/year=*/month=*/*.csv','CSVWithNames')\n",
    "    \"\"\"\n",
    "\n",
    "ch.query_run(query_text)"
   ]
  },
  {
   "cell_type": "markdown",
   "id": "b679e023",
   "metadata": {},
   "source": [
    "### creating a table in ch"
   ]
  },
  {
   "cell_type": "code",
   "execution_count": null,
   "id": "6044f524",
   "metadata": {},
   "outputs": [],
   "source": [
    "query_text = \"\"\"--sql\n",
    "    CREATE TABLE db1.citizens_st_mobile_ch\n",
    "    (\n",
    "    `report_date` Date,\n",
    "    `citizen_id` Int32,\n",
    "    `trial_available` Int32,\n",
    "    `state` String,\n",
    "    `activated_at` DateTime,\n",
    "    `flat_uuid` String,\n",
    "    `address_uuid` String\n",
    "    )\n",
    "    ENGINE = MergeTree()\n",
    "    ORDER BY citizen_id\n",
    "    \"\"\"\n",
    "\n",
    "ch.query_run(query_text)"
   ]
  },
  {
   "cell_type": "markdown",
   "id": "4cf17c31",
   "metadata": {},
   "source": [
    "### creating a mv\n",
    "\n",
    "dosn't work now"
   ]
  },
  {
   "cell_type": "code",
   "execution_count": null,
   "id": "f4a75065",
   "metadata": {},
   "outputs": [],
   "source": [
    "query_text = \"\"\"--sql\n",
    " --   CREATE MATERIALIZED VIEW db1.citizens_st_mobile_mv\n",
    " --   REFRESH EVERY 1 DAY OFFSET 3 HOUR RANDOMIZE FOR 1 HOUR TO db1.citizens_st_mobile_ch AS\n",
    " --  SELECT\n",
    " --       *\n",
    " --   FROM db1.citizens_st_mobile\n",
    "    \"\"\"\n",
    "\n",
    "ch.query_run(query_text)"
   ]
  },
  {
   "cell_type": "markdown",
   "id": "a9bbdf2f",
   "metadata": {},
   "source": [
    "### add data before 2025-05-30"
   ]
  },
  {
   "cell_type": "code",
   "execution_count": null,
   "id": "db13d344",
   "metadata": {},
   "outputs": [],
   "source": [
    "start_date = datetime.datetime.strptime('2023-07-10','%Y-%m-%d').date()\n",
    "end_date = datetime.datetime.strptime('2025-05-29','%Y-%m-%d').date()\n",
    "\n",
    "dates_pd = pd.DataFrame({\n",
    "        'date': pd.date_range(start=start_date, end=end_date).strftime('%Y-%m-%d'),\n",
    "        'date_key': pd.date_range(start=start_date, end=end_date).strftime('%/year=%-Y/month=%m/%d%')\n",
    "        })\n",
    "dates_pd = dates_pd.iloc[::-1].reset_index(drop=True)\n",
    "for day_index in dates_pd.index:\n",
    "    date = dates_pd.loc[day_index,['date']].values[0]\n",
    "    date_key = dates_pd.loc[day_index,['date_key']].values[0]\n",
    "    query_text = f\"\"\"\n",
    "        INSERT INTO db1.citizens_st_mobile_ch\n",
    "        SELECT\n",
    "            citizens_st_mobile.report_date AS report_date,\n",
    "            citizens_st_mobile.citizen_id AS citizen_id,\n",
    "            citizens_st_mobile.trial_available AS trial_available,\n",
    "            citizens_st_mobile.state AS state,\n",
    "            toDateTimeOrZero(citizens_st_mobile_ch_2025_05_30.activated_at) AS activated_at,\n",
    "            citizens_st_mobile_ch_2025_05_30.flat_uuid AS flat_uuid,\n",
    "            citizens_st_mobile_ch_2025_05_30.address_uuid AS address_uuid\n",
    "        FROM db1.citizens_st_mobile AS citizens_st_mobile\n",
    "        LEFT JOIN\n",
    "            (SELECT\n",
    "                citizen_id,\n",
    "                flat_uuid,\n",
    "                address_uuid,\n",
    "                activated_at\n",
    "            FROM db1.citizens_st_mobile\n",
    "            WHERE report_date = '2025-05-30'\n",
    "             AND _path LIKE '%/year=2025/month=05/30%') AS citizens_st_mobile_ch_2025_05_30\n",
    "            ON citizens_st_mobile_ch_2025_05_30.citizen_id = citizens_st_mobile.citizen_id\n",
    "        WHERE report_date = '{date}'\n",
    "            AND _path LIKE '{date_key}'\n",
    "    \"\"\"\n",
    "    ch.query_run(query_text)\n",
    "    print(date)\n",
    "# ch.query_run(query_text)"
   ]
  },
  {
   "cell_type": "markdown",
   "id": "87256a2f",
   "metadata": {},
   "source": [
    "### add data after 2025-05-30"
   ]
  },
  {
   "cell_type": "code",
   "execution_count": 9,
   "id": "d210f406",
   "metadata": {},
   "outputs": [
    {
     "name": "stdout",
     "output_type": "stream",
     "text": [
      "2025-07-27\n"
     ]
    }
   ],
   "source": [
    "start_date = datetime.datetime.strptime('2025-07-27','%Y-%m-%d').date()\n",
    "end_date = datetime.datetime.strptime('2025-07-27','%Y-%m-%d').date()\n",
    "\n",
    "dates_pd = pd.DataFrame({\n",
    "        'date': pd.date_range(start=start_date, end=end_date).strftime('%Y-%m-%d'),\n",
    "        'date_key': pd.date_range(start=start_date, end=end_date).strftime('%/year=%-Y/month=%m/%d%')\n",
    "        })\n",
    "dates_pd = dates_pd.iloc[::-1].reset_index(drop=True)\n",
    "for day_index in dates_pd.index:\n",
    "    date = dates_pd.loc[day_index,['date']].values[0]\n",
    "    date_key = dates_pd.loc[day_index,['date_key']].values[0]\n",
    "    query_text = f\"\"\"\n",
    "        INSERT INTO db1.citizens_st_mobile_ch\n",
    "        SELECT\n",
    "            report_date,\n",
    "            citizen_id,\n",
    "            trial_available,\n",
    "            state,\n",
    "            toDateTimeOrZero(activated_at) AS activated_at,\n",
    "            flat_uuid,\n",
    "            address_uuid\n",
    "        FROM db1.citizens_st_mobile\n",
    "        WHERE report_date = '{date}'\n",
    "        AND _path LIKE '{date_key}'\n",
    "        \n",
    "    \"\"\"\n",
    "    ch.query_run(query_text)\n",
    "    print(date)\n",
    "# ch.query_run(query_text)"
   ]
  },
  {
   "cell_type": "markdown",
   "id": "b33fa664",
   "metadata": {},
   "source": [
    "___\n",
    "## Tools\n",
    "___\n",
    "### query\n"
   ]
  },
  {
   "cell_type": "code",
   "execution_count": 16,
   "id": "1b5a27c1",
   "metadata": {},
   "outputs": [
    {
     "data": {
      "text/html": [
       "<div><style>\n",
       ".dataframe > thead > tr,\n",
       ".dataframe > tbody > tr {\n",
       "  text-align: right;\n",
       "  white-space: pre-wrap;\n",
       "}\n",
       "</style>\n",
       "<small>shape: (100, 7)</small><table border=\"1\" class=\"dataframe\"><thead><tr><th>report_date</th><th>citizen_id</th><th>trial_available</th><th>state</th><th>activated_at</th><th>flat_uuid</th><th>address_uuid</th></tr><tr><td>date</td><td>i64</td><td>i64</td><td>str</td><td>datetime[ns]</td><td>str</td><td>str</td></tr></thead><tbody><tr><td>2025-07-27</td><td>399492</td><td>0</td><td>&quot;activated&quot;</td><td>2021-10-26 23:01:15</td><td>&quot;1c077245-68d0-48d4-8d04-09cb65…</td><td>&quot;93e0674b-20cc-4012-acae-fe4b28…</td></tr><tr><td>2025-07-27</td><td>399491</td><td>0</td><td>&quot;activated&quot;</td><td>2021-10-26 23:05:10</td><td>&quot;a3e0068d-1392-4913-aafe-a60615…</td><td>&quot;97c6138e-b1bf-4ed0-a508-9a8fcc…</td></tr><tr><td>2025-07-27</td><td>399490</td><td>0</td><td>&quot;registered&quot;</td><td>1970-01-01 00:00:00</td><td>&quot;&quot;</td><td>&quot;&quot;</td></tr><tr><td>2025-07-27</td><td>399489</td><td>0</td><td>&quot;registered&quot;</td><td>1970-01-01 00:00:00</td><td>&quot;&quot;</td><td>&quot;&quot;</td></tr><tr><td>2025-07-27</td><td>399488</td><td>0</td><td>&quot;created&quot;</td><td>1970-01-01 00:00:00</td><td>&quot;&quot;</td><td>&quot;&quot;</td></tr><tr><td>&hellip;</td><td>&hellip;</td><td>&hellip;</td><td>&hellip;</td><td>&hellip;</td><td>&hellip;</td><td>&hellip;</td></tr><tr><td>2025-07-27</td><td>399395</td><td>0</td><td>&quot;activated&quot;</td><td>2021-10-26 21:28:30</td><td>&quot;e731c76e-54ea-48b4-b907-bb6680…</td><td>&quot;a9325b4c-4265-4f27-beb0-a183b4…</td></tr><tr><td>2025-07-27</td><td>399396</td><td>0</td><td>&quot;activated&quot;</td><td>2021-12-15 13:03:12</td><td>&quot;7df89999-6409-4fc1-be86-b7739c…</td><td>&quot;3c616343-6a20-4aab-a5ec-98a45d…</td></tr><tr><td>2025-07-27</td><td>399393</td><td>0</td><td>&quot;activated&quot;</td><td>2021-10-26 21:25:37</td><td>&quot;77c443f2-4ff9-480b-823e-98124c…</td><td>&quot;925c7413-9851-4478-b4d7-565064…</td></tr><tr><td>2025-07-27</td><td>399417</td><td>0</td><td>&quot;activated&quot;</td><td>2021-10-26 22:05:26</td><td>&quot;0f79189e-20ec-4fc3-afaf-7c4e11…</td><td>&quot;f59c27b5-6a30-4448-b80c-78108b…</td></tr><tr><td>2025-07-27</td><td>399418</td><td>0</td><td>&quot;activated&quot;</td><td>2021-10-29 20:17:00</td><td>&quot;df72cb83-4852-4498-849d-6332e9…</td><td>&quot;9b28c324-2e1c-4268-8b25-a8f7ac…</td></tr></tbody></table></div>"
      ],
      "text/plain": [
       "shape: (100, 7)\n",
       "┌─────────────┬────────────┬──────────────┬────────────┬──────────────┬──────────────┬─────────────┐\n",
       "│ report_date ┆ citizen_id ┆ trial_availa ┆ state      ┆ activated_at ┆ flat_uuid    ┆ address_uui │\n",
       "│ ---         ┆ ---        ┆ ble          ┆ ---        ┆ ---          ┆ ---          ┆ d           │\n",
       "│ date        ┆ i64        ┆ ---          ┆ str        ┆ datetime[ns] ┆ str          ┆ ---         │\n",
       "│             ┆            ┆ i64          ┆            ┆              ┆              ┆ str         │\n",
       "╞═════════════╪════════════╪══════════════╪════════════╪══════════════╪══════════════╪═════════════╡\n",
       "│ 2025-07-27  ┆ 399492     ┆ 0            ┆ activated  ┆ 2021-10-26   ┆ 1c077245-68d ┆ 93e0674b-20 │\n",
       "│             ┆            ┆              ┆            ┆ 23:01:15     ┆ 0-48d4-8d04- ┆ cc-4012-aca │\n",
       "│             ┆            ┆              ┆            ┆              ┆ 09cb65…      ┆ e-fe4b28…   │\n",
       "│ 2025-07-27  ┆ 399491     ┆ 0            ┆ activated  ┆ 2021-10-26   ┆ a3e0068d-139 ┆ 97c6138e-b1 │\n",
       "│             ┆            ┆              ┆            ┆ 23:05:10     ┆ 2-4913-aafe- ┆ bf-4ed0-a50 │\n",
       "│             ┆            ┆              ┆            ┆              ┆ a60615…      ┆ 8-9a8fcc…   │\n",
       "│ 2025-07-27  ┆ 399490     ┆ 0            ┆ registered ┆ 1970-01-01   ┆              ┆             │\n",
       "│             ┆            ┆              ┆            ┆ 00:00:00     ┆              ┆             │\n",
       "│ 2025-07-27  ┆ 399489     ┆ 0            ┆ registered ┆ 1970-01-01   ┆              ┆             │\n",
       "│             ┆            ┆              ┆            ┆ 00:00:00     ┆              ┆             │\n",
       "│ 2025-07-27  ┆ 399488     ┆ 0            ┆ created    ┆ 1970-01-01   ┆              ┆             │\n",
       "│             ┆            ┆              ┆            ┆ 00:00:00     ┆              ┆             │\n",
       "│ …           ┆ …          ┆ …            ┆ …          ┆ …            ┆ …            ┆ …           │\n",
       "│ 2025-07-27  ┆ 399395     ┆ 0            ┆ activated  ┆ 2021-10-26   ┆ e731c76e-54e ┆ a9325b4c-42 │\n",
       "│             ┆            ┆              ┆            ┆ 21:28:30     ┆ a-48b4-b907- ┆ 65-4f27-beb │\n",
       "│             ┆            ┆              ┆            ┆              ┆ bb6680…      ┆ 0-a183b4…   │\n",
       "│ 2025-07-27  ┆ 399396     ┆ 0            ┆ activated  ┆ 2021-12-15   ┆ 7df89999-640 ┆ 3c616343-6a │\n",
       "│             ┆            ┆              ┆            ┆ 13:03:12     ┆ 9-4fc1-be86- ┆ 20-4aab-a5e │\n",
       "│             ┆            ┆              ┆            ┆              ┆ b7739c…      ┆ c-98a45d…   │\n",
       "│ 2025-07-27  ┆ 399393     ┆ 0            ┆ activated  ┆ 2021-10-26   ┆ 77c443f2-4ff ┆ 925c7413-98 │\n",
       "│             ┆            ┆              ┆            ┆ 21:25:37     ┆ 9-480b-823e- ┆ 51-4478-b4d │\n",
       "│             ┆            ┆              ┆            ┆              ┆ 98124c…      ┆ 7-565064…   │\n",
       "│ 2025-07-27  ┆ 399417     ┆ 0            ┆ activated  ┆ 2021-10-26   ┆ 0f79189e-20e ┆ f59c27b5-6a │\n",
       "│             ┆            ┆              ┆            ┆ 22:05:26     ┆ c-4fc3-afaf- ┆ 30-4448-b80 │\n",
       "│             ┆            ┆              ┆            ┆              ┆ 7c4e11…      ┆ c-78108b…   │\n",
       "│ 2025-07-27  ┆ 399418     ┆ 0            ┆ activated  ┆ 2021-10-29   ┆ df72cb83-485 ┆ 9b28c324-2e │\n",
       "│             ┆            ┆              ┆            ┆ 20:17:00     ┆ 2-4498-849d- ┆ 1c-4268-8b2 │\n",
       "│             ┆            ┆              ┆            ┆              ┆ 6332e9…      ┆ 5-a8f7ac…   │\n",
       "└─────────────┴────────────┴──────────────┴────────────┴──────────────┴──────────────┴─────────────┘"
      ]
     },
     "execution_count": 16,
     "metadata": {},
     "output_type": "execute_result"
    }
   ],
   "source": [
    "query_text = \"\"\"--sql\n",
    "    SELECT\n",
    "        *\n",
    "    FROM db1.citizens_st_mobile_ch\n",
    "    WHERE report_date = '2025-07-27'\n",
    "    ORDER BY report_date desc\n",
    "    limit 100\n",
    "    \"\"\"\n",
    "\n",
    "ch.query_run(query_text)\n"
   ]
  },
  {
   "cell_type": "markdown",
   "id": "d05b59ed",
   "metadata": {},
   "source": [
    "### delete a part\n"
   ]
  },
  {
   "cell_type": "code",
   "execution_count": 15,
   "id": "b2baee38",
   "metadata": {},
   "outputs": [
    {
     "data": {
      "text/html": [
       "<div><style>\n",
       ".dataframe > thead > tr,\n",
       ".dataframe > tbody > tr {\n",
       "  text-align: right;\n",
       "  white-space: pre-wrap;\n",
       "}\n",
       "</style>\n",
       "<small>shape: (0, 0)</small><table border=\"1\" class=\"dataframe\"><thead><tr></tr><tr></tr></thead><tbody></tbody></table></div>"
      ],
      "text/plain": [
       "shape: (0, 0)\n",
       "┌┐\n",
       "╞╡\n",
       "└┘"
      ]
     },
     "execution_count": 15,
     "metadata": {},
     "output_type": "execute_result"
    }
   ],
   "source": [
    "query_text = \"\"\"--sql\n",
    "    ALTER TABLE db1.citizens_st_mobile_ch DELETE WHERE report_date = '2025-07-27'\n",
    "    \"\"\"\n",
    "\n",
    "ch.query_run(query_text)\n"
   ]
  },
  {
   "cell_type": "markdown",
   "id": "184f1a80",
   "metadata": {},
   "source": [
    "### drop mv"
   ]
  },
  {
   "cell_type": "code",
   "execution_count": null,
   "id": "cca7873f",
   "metadata": {},
   "outputs": [],
   "source": [
    "query_text = \"\"\"--sql\n",
    "    DROP TABLE db1.citizens_st_mobile_mv\n",
    "    \"\"\"\n",
    "\n",
    "ch.query_run(query_text)"
   ]
  },
  {
   "cell_type": "markdown",
   "id": "3c52b7bf",
   "metadata": {},
   "source": [
    "\n",
    "### drop ch"
   ]
  },
  {
   "cell_type": "code",
   "execution_count": null,
   "id": "cf94ce9f",
   "metadata": {},
   "outputs": [],
   "source": [
    "query_text = \"\"\"--sql\n",
    "    DROP TABLE db1.citizens_st_mobile_ch\n",
    "    \"\"\"\n",
    "\n",
    "ch.query_run(query_text)"
   ]
  },
  {
   "cell_type": "markdown",
   "id": "5420a90e",
   "metadata": {},
   "source": [
    "### refresh mv"
   ]
  },
  {
   "cell_type": "code",
   "execution_count": null,
   "id": "6098de59",
   "metadata": {},
   "outputs": [],
   "source": [
    "query_text = \"\"\"\n",
    "SYSTEM REFRESH VIEW db1.t_subscribtions_citizens_by_companies_and_cities_ch\n",
    "\"\"\"\n",
    "\n",
    "ch.query_run(query_text)"
   ]
  },
  {
   "cell_type": "markdown",
   "id": "6d032191",
   "metadata": {},
   "source": []
  }
 ],
 "metadata": {
  "jupytext": {
   "cell_metadata_filter": "-all",
   "formats": "ipynb,md",
   "main_language": "python"
  },
  "kernelspec": {
   "display_name": "myenv",
   "language": "python",
   "name": "python3"
  },
  "language_info": {
   "codemirror_mode": {
    "name": "ipython",
    "version": 3
   },
   "file_extension": ".py",
   "mimetype": "text/x-python",
   "name": "python",
   "nbconvert_exporter": "python",
   "pygments_lexer": "ipython3",
   "version": "3.12.11"
  }
 },
 "nbformat": 4,
 "nbformat_minor": 5
}

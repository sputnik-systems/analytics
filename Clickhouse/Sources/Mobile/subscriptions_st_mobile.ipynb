{
 "cells": [
  {
   "cell_type": "markdown",
   "id": "6d045794",
   "metadata": {},
   "source": [
    "## Start"
   ]
  },
  {
   "cell_type": "code",
   "execution_count": 1,
   "id": "adf2a252",
   "metadata": {},
   "outputs": [],
   "source": [
    "import clickhouse_connect\n",
    "import datetime\n",
    "import os\n",
    "import pytz\n",
    "import pandas as pd\n",
    "from dateutil.relativedelta import relativedelta\n",
    "from dotenv import load_dotenv\n",
    "\n",
    "import sys\n",
    "sys.path.append('/home/boris/Documents/Work/analytics/Clickhouse')\n",
    "from clickhouse_client import ClickHouse_client\n",
    "ch = ClickHouse_client()\n",
    "pd.set_option('display.max_rows', 1000)\n",
    "\n"
   ]
  },
  {
   "cell_type": "markdown",
   "id": "75ab7fc0",
   "metadata": {},
   "source": [
    "___\n",
    "### Tags: #Source #Mobile\n",
    "\n",
    "### Links: \n",
    "___"
   ]
  },
  {
   "cell_type": "code",
   "execution_count": null,
   "id": "2db72a35",
   "metadata": {},
   "outputs": [],
   "source": [
    "# creating a table from s3\n",
    "\n",
    "query_text = \"\"\"--sql\n",
    "    CREATE TABLE db1.subscriptions_st_mobile\n",
    "(\n",
    "    `report_date` Date,\n",
    "    `citizen_id` Int32,\n",
    "    `state` String,\n",
    "    `created_at` String,\n",
    "    `subscribed_from` String,\n",
    "    `auto_renew_status` Int16,\n",
    "    `activated_at` String,\n",
    "    `plan` String,\n",
    "    `expires_date` String,\n",
    "    `renew_stopped_at` String,\n",
    "    `renew_failed_at` String,\n",
    "    `started_from` String,\n",
    "    `renew_fail_reason` String\n",
    ")\n",
    "    ENGINE = S3('https://storage.yandexcloud.net/dwh-asgard/subscriptions_st_mobile/year=*/month=*/*.csv','CSVWithNames');\n",
    "    \"\"\"\n",
    "\n",
    "ch.query_run(query_text)\n"
   ]
  },
  {
   "cell_type": "code",
   "execution_count": null,
   "id": "8841c624",
   "metadata": {},
   "outputs": [],
   "source": [
    "# creating a table for materialized view\n",
    "\n",
    "query_text = \"\"\"--sql\n",
    "    CREATE TABLE db1.subscriptions_st_mobile_ch\n",
    "    (\n",
    "    `report_date` Date,\n",
    "    `citizen_id` Int32,\n",
    "    `state` String,\n",
    "    `created_at` String,\n",
    "    `subscribed_from` String,\n",
    "    `auto_renew_status` Int16,\n",
    "    `activated_at` String,\n",
    "    `plan` String,\n",
    "    `expires_date` String,\n",
    "    `renew_stopped_at` String,\n",
    "    `renew_failed_at` String,\n",
    "    `started_from` String,\n",
    "    `renew_fail_reason` String\n",
    "    )\n",
    "    ENGINE = MergeTree()\n",
    "    ORDER BY citizen_id\n",
    "    \"\"\"\n",
    "\n",
    "ch.query_run(query_text)"
   ]
  },
  {
   "cell_type": "code",
   "execution_count": null,
   "id": "d7f508ad",
   "metadata": {},
   "outputs": [],
   "source": [
    "query_text = \"\"\"--sql\n",
    "    CREATE MATERIALIZED VIEW db1.subscriptions_st_mobile_mv\n",
    "    REFRESH EVERY 1 DAY OFFSET 3 HOUR RANDOMIZE FOR 1 HOUR TO db1.subscriptions_st_mobile_ch AS\n",
    "    SELECT\n",
    "        *\n",
    "    FROM db1.subscriptions_st_mobile\n",
    "    \"\"\"\n",
    "\n",
    "ch.query_run(query_text)"
   ]
  },
  {
   "cell_type": "markdown",
   "id": "cffbb6e1",
   "metadata": {},
   "source": [
    "___\n",
    "## Tools\n",
    "___\n",
    "### query"
   ]
  },
  {
   "cell_type": "code",
   "execution_count": 2,
   "id": "8f3f3dc0",
   "metadata": {},
   "outputs": [
    {
     "data": {
      "text/html": [
       "<div><style>\n",
       ".dataframe > thead > tr,\n",
       ".dataframe > tbody > tr {\n",
       "  text-align: right;\n",
       "  white-space: pre-wrap;\n",
       "}\n",
       "</style>\n",
       "<small>shape: (4, 1)</small><table border=\"1\" class=\"dataframe\"><thead><tr><th>state</th></tr><tr><td>str</td></tr></thead><tbody><tr><td>&quot;deactivated&quot;</td></tr><tr><td>&quot;activated&quot;</td></tr><tr><td>&quot;payed&quot;</td></tr><tr><td>&quot;waiting&quot;</td></tr></tbody></table></div>"
      ],
      "text/plain": [
       "shape: (4, 1)\n",
       "┌─────────────┐\n",
       "│ state       │\n",
       "│ ---         │\n",
       "│ str         │\n",
       "╞═════════════╡\n",
       "│ deactivated │\n",
       "│ activated   │\n",
       "│ payed       │\n",
       "│ waiting     │\n",
       "└─────────────┘"
      ]
     },
     "execution_count": 2,
     "metadata": {},
     "output_type": "execute_result"
    }
   ],
   "source": [
    "query_text = \"\"\"--sql\n",
    "    SELECT\n",
    "    DISTINCT\n",
    "        state\n",
    "    FROM db1.subscriptions_st_mobile_ch\n",
    "    \n",
    "    \"\"\"\n",
    "\n",
    "ch.query_run(query_text)"
   ]
  },
  {
   "cell_type": "markdown",
   "id": "76cec8ce",
   "metadata": {},
   "source": [
    "### Drop ch"
   ]
  },
  {
   "cell_type": "code",
   "execution_count": null,
   "id": "853a515f",
   "metadata": {},
   "outputs": [],
   "source": [
    "query_text = \"\"\"\n",
    "    DROP TABLE db1.subscriptions_st_mobile_ch\n",
    "    \"\"\"\n",
    "ch.query_run(query_text)"
   ]
  },
  {
   "cell_type": "markdown",
   "id": "8766e5f0",
   "metadata": {},
   "source": [
    "### Drop mv"
   ]
  },
  {
   "cell_type": "code",
   "execution_count": null,
   "id": "d68b0fb5",
   "metadata": {},
   "outputs": [],
   "source": [
    "query_text = \"\"\"\n",
    "    DROP TABLE db1.citizen_payments_st_mobile_mv\n",
    "    \"\"\"\n",
    "ch.query_run(query_text)"
   ]
  }
 ],
 "metadata": {
  "jupytext": {
   "formats": "ipynb,md"
  },
  "kernelspec": {
   "display_name": "Python 3 (ipykernel)",
   "language": "python",
   "name": "python3"
  },
  "language_info": {
   "codemirror_mode": {
    "name": "ipython",
    "version": 3
   },
   "file_extension": ".py",
   "mimetype": "text/x-python",
   "name": "python",
   "nbconvert_exporter": "python",
   "pygments_lexer": "ipython3",
   "version": "3.12.11"
  }
 },
 "nbformat": 4,
 "nbformat_minor": 5
}

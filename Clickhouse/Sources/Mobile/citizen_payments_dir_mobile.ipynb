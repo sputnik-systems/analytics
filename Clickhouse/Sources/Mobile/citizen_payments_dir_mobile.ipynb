{
 "cells": [
  {
   "cell_type": "markdown",
   "id": "9ef9cc71",
   "metadata": {},
   "source": [
    "## Start"
   ]
  },
  {
   "cell_type": "code",
   "execution_count": 1,
   "id": "97f9b511",
   "metadata": {},
   "outputs": [],
   "source": [
    "import clickhouse_connect\n",
    "import datetime\n",
    "import os\n",
    "import pytz\n",
    "import pandas as pd\n",
    "from dateutil.relativedelta import relativedelta\n",
    "from dotenv import load_dotenv\n",
    "\n",
    "import sys\n",
    "sys.path.append('/home/boris/Documents/Work/analytics/Clickhouse')\n",
    "from clickhouse_client import ClickHouse_client\n",
    "ch = ClickHouse_client()\n",
    "pd.set_option('display.max_rows', 1000)\n",
    "\n"
   ]
  },
  {
   "cell_type": "markdown",
   "id": "c310a436",
   "metadata": {},
   "source": [
    "___\n",
    "### Tags: #Source #Mobile\n",
    "\n",
    "### Links: \n",
    "___"
   ]
  },
  {
   "cell_type": "code",
   "execution_count": null,
   "id": "1a56ce8c",
   "metadata": {},
   "outputs": [],
   "source": [
    "# creating a table from s3\n",
    "\n",
    "query_text = \"\"\"--sql\n",
    "    CREATE TABLE db1.citizen_payments_dir_mobile\n",
    "    (\n",
    "    `citizen_id` Int32,\n",
    "    `payment_id` Int64,\n",
    "    `created_at` DateTime,\n",
    "    `state` String,\n",
    "    `amount` Int64,\n",
    "    `paid_at` DateTime,\n",
    "    `refunded_at` DateTime,\n",
    "    `refunded_amount` Int64,\n",
    "    `from` String,\n",
    "    `product_ids` String\n",
    "    )\n",
    "    ENGINE = S3('https://storage.yandexcloud.net/dwh-asgard/citizen_payments_dir_mobile/citizen_payments_dir_mobile.csv','CSVWithNames')\n",
    "    \"\"\"\n",
    "\n",
    "ch.query_run(query_text)"
   ]
  },
  {
   "cell_type": "code",
   "execution_count": null,
   "id": "f0c1bd6d",
   "metadata": {},
   "outputs": [],
   "source": [
    "query_text = \"\"\"--sql\n",
    "    CREATE TABLE db1.citizen_payments_dir_mobile_ch\n",
    "    (\n",
    "    `citizen_id` Int32,\n",
    "    `payment_id` Int64,\n",
    "    `created_at` DateTime,\n",
    "    `state` String,\n",
    "    `amount` Int64,\n",
    "    `paid_at` DateTime,\n",
    "    `refunded_at` DateTime,\n",
    "    `refunded_amount` Int64,\n",
    "    `from` String,\n",
    "    `product_ids` String\n",
    "    )\n",
    "    ENGINE = MergeTree()\n",
    "    ORDER BY citizen_id\n",
    "    \"\"\"\n",
    "\n",
    "ch.query_run(query_text)"
   ]
  },
  {
   "cell_type": "code",
   "execution_count": null,
   "id": "f37c107d",
   "metadata": {},
   "outputs": [],
   "source": [
    "query_text = \"\"\"--sql\n",
    "    CREATE MATERIALIZED VIEW db1.citizen_payments_dir_mobile_mv\n",
    "    REFRESH EVERY 1 DAY OFFSET 3 HOUR RANDOMIZE FOR 1 HOUR TO db1.citizen_payments_dir_mobile_ch AS\n",
    "    SELECT\n",
    "        *\n",
    "    FROM db1.citizen_payments_dir_mobile\n",
    "    \"\"\"\n",
    "\n",
    "ch.query_run(query_text)"
   ]
  },
  {
   "cell_type": "code",
   "execution_count": null,
   "id": "5218bd13",
   "metadata": {},
   "outputs": [],
   "source": [
    "query_text = \"\"\"--sql\n",
    "    SELECT\n",
    "        *\n",
    "    FROM db1.citizen_payments_dir_mobile_ch\n",
    "    limit 100\n",
    "    \"\"\"\n",
    "\n",
    "ch.query_run(query_text)"
   ]
  },
  {
   "cell_type": "markdown",
   "id": "7ab7c0cd",
   "metadata": {},
   "source": [
    "___\n",
    "## Tools\n",
    "\n",
    "### query\n",
    "___"
   ]
  },
  {
   "cell_type": "code",
   "execution_count": 3,
   "id": "4438447e",
   "metadata": {},
   "outputs": [
    {
     "data": {
      "text/html": [
       "<div><style>\n",
       ".dataframe > thead > tr,\n",
       ".dataframe > tbody > tr {\n",
       "  text-align: right;\n",
       "  white-space: pre-wrap;\n",
       "}\n",
       "</style>\n",
       "<small>shape: (100, 10)</small><table border=\"1\" class=\"dataframe\"><thead><tr><th>citizen_id</th><th>payment_id</th><th>created_at</th><th>state</th><th>amount</th><th>paid_at</th><th>refunded_at</th><th>refunded_amount</th><th>from</th><th>product_ids</th></tr><tr><td>i64</td><td>i64</td><td>datetime[ns]</td><td>str</td><td>i64</td><td>datetime[ns]</td><td>datetime[ns]</td><td>i64</td><td>str</td><td>str</td></tr></thead><tbody><tr><td>7</td><td>197396</td><td>2024-01-30 10:24:43</td><td>&quot;canceled&quot;</td><td>68</td><td>1970-01-01 00:00:00</td><td>1970-01-01 00:00:00</td><td>0</td><td>&quot;yookassa&quot;</td><td>&quot;[&quot;standard&quot;]&quot;</td></tr><tr><td>15</td><td>725544</td><td>2024-10-02 08:34:16</td><td>&quot;success&quot;</td><td>1</td><td>2024-10-02 08:34:30</td><td>1970-01-01 00:00:00</td><td>0</td><td>&quot;yookassa&quot;</td><td>&quot;[&quot;standard&quot;]&quot;</td></tr><tr><td>15</td><td>837442</td><td>2024-11-02 08:35:10</td><td>&quot;success&quot;</td><td>69</td><td>2024-11-02 08:35:14</td><td>1970-01-01 00:00:00</td><td>0</td><td>&quot;yookassa&quot;</td><td>&quot;[&quot;standard&quot;]&quot;</td></tr><tr><td>15</td><td>945121</td><td>2024-12-02 08:35:09</td><td>&quot;success&quot;</td><td>69</td><td>2024-12-02 08:35:12</td><td>1970-01-01 00:00:00</td><td>0</td><td>&quot;yookassa&quot;</td><td>&quot;[&quot;standard&quot;]&quot;</td></tr><tr><td>15</td><td>1058563</td><td>2025-01-02 08:35:06</td><td>&quot;success&quot;</td><td>69</td><td>2025-01-02 08:35:12</td><td>1970-01-01 00:00:00</td><td>0</td><td>&quot;yookassa&quot;</td><td>&quot;[&quot;standard&quot;]&quot;</td></tr><tr><td>&hellip;</td><td>&hellip;</td><td>&hellip;</td><td>&hellip;</td><td>&hellip;</td><td>&hellip;</td><td>&hellip;</td><td>&hellip;</td><td>&hellip;</td><td>&hellip;</td></tr><tr><td>901</td><td>208159</td><td>2024-02-09 22:20:04</td><td>&quot;success&quot;</td><td>1</td><td>2024-02-09 22:21:03</td><td>1970-01-01 00:00:00</td><td>0</td><td>&quot;yookassa&quot;</td><td>&quot;[&quot;standard&quot;]&quot;</td></tr><tr><td>901</td><td>250624</td><td>2024-03-09 22:25:03</td><td>&quot;success&quot;</td><td>69</td><td>2024-03-09 22:25:07</td><td>1970-01-01 00:00:00</td><td>0</td><td>&quot;yookassa&quot;</td><td>&quot;[&quot;standard&quot;]&quot;</td></tr><tr><td>901</td><td>304430</td><td>2024-04-09 22:30:03</td><td>&quot;success&quot;</td><td>69</td><td>2024-04-09 22:30:07</td><td>1970-01-01 00:00:00</td><td>0</td><td>&quot;yookassa&quot;</td><td>&quot;[&quot;standard&quot;]&quot;</td></tr><tr><td>901</td><td>349158</td><td>2024-05-09 22:30:05</td><td>&quot;success&quot;</td><td>69</td><td>2024-05-09 22:30:07</td><td>1970-01-01 00:00:00</td><td>0</td><td>&quot;yookassa&quot;</td><td>&quot;[&quot;standard&quot;]&quot;</td></tr><tr><td>901</td><td>396753</td><td>2024-06-09 22:30:08</td><td>&quot;success&quot;</td><td>69</td><td>2024-06-09 22:30:12</td><td>1970-01-01 00:00:00</td><td>0</td><td>&quot;yookassa&quot;</td><td>&quot;[&quot;standard&quot;]&quot;</td></tr></tbody></table></div>"
      ],
      "text/plain": [
       "shape: (100, 10)\n",
       "┌────────────┬───────────┬───────────┬──────────┬───┬───────────┬───────────┬──────────┬───────────┐\n",
       "│ citizen_id ┆ payment_i ┆ created_a ┆ state    ┆ … ┆ refunded_ ┆ refunded_ ┆ from     ┆ product_i │\n",
       "│ ---        ┆ d         ┆ t         ┆ ---      ┆   ┆ at        ┆ amount    ┆ ---      ┆ ds        │\n",
       "│ i64        ┆ ---       ┆ ---       ┆ str      ┆   ┆ ---       ┆ ---       ┆ str      ┆ ---       │\n",
       "│            ┆ i64       ┆ datetime[ ┆          ┆   ┆ datetime[ ┆ i64       ┆          ┆ str       │\n",
       "│            ┆           ┆ ns]       ┆          ┆   ┆ ns]       ┆           ┆          ┆           │\n",
       "╞════════════╪═══════════╪═══════════╪══════════╪═══╪═══════════╪═══════════╪══════════╪═══════════╡\n",
       "│ 7          ┆ 197396    ┆ 2024-01-3 ┆ canceled ┆ … ┆ 1970-01-0 ┆ 0         ┆ yookassa ┆ [\"standar │\n",
       "│            ┆           ┆ 0         ┆          ┆   ┆ 1         ┆           ┆          ┆ d\"]       │\n",
       "│            ┆           ┆ 10:24:43  ┆          ┆   ┆ 00:00:00  ┆           ┆          ┆           │\n",
       "│ 15         ┆ 725544    ┆ 2024-10-0 ┆ success  ┆ … ┆ 1970-01-0 ┆ 0         ┆ yookassa ┆ [\"standar │\n",
       "│            ┆           ┆ 2         ┆          ┆   ┆ 1         ┆           ┆          ┆ d\"]       │\n",
       "│            ┆           ┆ 08:34:16  ┆          ┆   ┆ 00:00:00  ┆           ┆          ┆           │\n",
       "│ 15         ┆ 837442    ┆ 2024-11-0 ┆ success  ┆ … ┆ 1970-01-0 ┆ 0         ┆ yookassa ┆ [\"standar │\n",
       "│            ┆           ┆ 2         ┆          ┆   ┆ 1         ┆           ┆          ┆ d\"]       │\n",
       "│            ┆           ┆ 08:35:10  ┆          ┆   ┆ 00:00:00  ┆           ┆          ┆           │\n",
       "│ 15         ┆ 945121    ┆ 2024-12-0 ┆ success  ┆ … ┆ 1970-01-0 ┆ 0         ┆ yookassa ┆ [\"standar │\n",
       "│            ┆           ┆ 2         ┆          ┆   ┆ 1         ┆           ┆          ┆ d\"]       │\n",
       "│            ┆           ┆ 08:35:09  ┆          ┆   ┆ 00:00:00  ┆           ┆          ┆           │\n",
       "│ 15         ┆ 1058563   ┆ 2025-01-0 ┆ success  ┆ … ┆ 1970-01-0 ┆ 0         ┆ yookassa ┆ [\"standar │\n",
       "│            ┆           ┆ 2         ┆          ┆   ┆ 1         ┆           ┆          ┆ d\"]       │\n",
       "│            ┆           ┆ 08:35:06  ┆          ┆   ┆ 00:00:00  ┆           ┆          ┆           │\n",
       "│ …          ┆ …         ┆ …         ┆ …        ┆ … ┆ …         ┆ …         ┆ …        ┆ …         │\n",
       "│ 901        ┆ 208159    ┆ 2024-02-0 ┆ success  ┆ … ┆ 1970-01-0 ┆ 0         ┆ yookassa ┆ [\"standar │\n",
       "│            ┆           ┆ 9         ┆          ┆   ┆ 1         ┆           ┆          ┆ d\"]       │\n",
       "│            ┆           ┆ 22:20:04  ┆          ┆   ┆ 00:00:00  ┆           ┆          ┆           │\n",
       "│ 901        ┆ 250624    ┆ 2024-03-0 ┆ success  ┆ … ┆ 1970-01-0 ┆ 0         ┆ yookassa ┆ [\"standar │\n",
       "│            ┆           ┆ 9         ┆          ┆   ┆ 1         ┆           ┆          ┆ d\"]       │\n",
       "│            ┆           ┆ 22:25:03  ┆          ┆   ┆ 00:00:00  ┆           ┆          ┆           │\n",
       "│ 901        ┆ 304430    ┆ 2024-04-0 ┆ success  ┆ … ┆ 1970-01-0 ┆ 0         ┆ yookassa ┆ [\"standar │\n",
       "│            ┆           ┆ 9         ┆          ┆   ┆ 1         ┆           ┆          ┆ d\"]       │\n",
       "│            ┆           ┆ 22:30:03  ┆          ┆   ┆ 00:00:00  ┆           ┆          ┆           │\n",
       "│ 901        ┆ 349158    ┆ 2024-05-0 ┆ success  ┆ … ┆ 1970-01-0 ┆ 0         ┆ yookassa ┆ [\"standar │\n",
       "│            ┆           ┆ 9         ┆          ┆   ┆ 1         ┆           ┆          ┆ d\"]       │\n",
       "│            ┆           ┆ 22:30:05  ┆          ┆   ┆ 00:00:00  ┆           ┆          ┆           │\n",
       "│ 901        ┆ 396753    ┆ 2024-06-0 ┆ success  ┆ … ┆ 1970-01-0 ┆ 0         ┆ yookassa ┆ [\"standar │\n",
       "│            ┆           ┆ 9         ┆          ┆   ┆ 1         ┆           ┆          ┆ d\"]       │\n",
       "│            ┆           ┆ 22:30:08  ┆          ┆   ┆ 00:00:00  ┆           ┆          ┆           │\n",
       "└────────────┴───────────┴───────────┴──────────┴───┴───────────┴───────────┴──────────┴───────────┘"
      ]
     },
     "execution_count": 3,
     "metadata": {},
     "output_type": "execute_result"
    }
   ],
   "source": [
    "query_text = \"\"\"--sql\n",
    "    SELECT\n",
    "        *\n",
    "    FROM db1.citizen_payments_dir_mobile_ch\n",
    "    limit 100\n",
    "    \"\"\"\n",
    "\n",
    "ch.query_run(query_text)\n"
   ]
  },
  {
   "cell_type": "markdown",
   "id": "3b2118c7",
   "metadata": {},
   "source": [
    "### delete a part\n"
   ]
  },
  {
   "cell_type": "code",
   "execution_count": null,
   "id": "5975b222",
   "metadata": {},
   "outputs": [
    {
     "data": {
      "text/html": [
       "<div><style>\n",
       ".dataframe > thead > tr,\n",
       ".dataframe > tbody > tr {\n",
       "  text-align: right;\n",
       "  white-space: pre-wrap;\n",
       "}\n",
       "</style>\n",
       "<small>shape: (0, 0)</small><table border=\"1\" class=\"dataframe\"><thead><tr></tr><tr></tr></thead><tbody></tbody></table></div>"
      ],
      "text/plain": [
       "shape: (0, 0)\n",
       "┌┐\n",
       "╞╡\n",
       "└┘"
      ]
     },
     "metadata": {},
     "output_type": "display_data"
    }
   ],
   "source": [
    "query_text = \"\"\"--sql\n",
    "    ALTER TABLE db1.citizen_payments_dir_mobile_ch DELETE WHERE report_date = '2025-07-17'\n",
    "    \"\"\"\n",
    "\n",
    "ch.query_run(query_text)\n"
   ]
  },
  {
   "cell_type": "markdown",
   "id": "39a48197",
   "metadata": {},
   "source": [
    "### drop mv"
   ]
  },
  {
   "cell_type": "code",
   "execution_count": null,
   "id": "e6f708d1",
   "metadata": {},
   "outputs": [],
   "source": [
    "query_text = \"\"\"--sql\n",
    "    DROP TABLE db1.citizen_payments_dir_mobile_mv\n",
    "    \"\"\"\n",
    "\n",
    "ch.query_run(query_text)"
   ]
  },
  {
   "cell_type": "markdown",
   "id": "b5901702",
   "metadata": {},
   "source": [
    "\n",
    "### drop ch"
   ]
  },
  {
   "cell_type": "code",
   "execution_count": null,
   "id": "7e39ab78",
   "metadata": {},
   "outputs": [],
   "source": [
    "query_text = \"\"\"--sql\n",
    "    DROP TABLE db1.citizen_payments_dir_mobile_ch\n",
    "    \"\"\"\n",
    "\n",
    "ch.query_run(query_text)"
   ]
  },
  {
   "cell_type": "markdown",
   "id": "88ca1c04",
   "metadata": {},
   "source": [
    "### refresh mv"
   ]
  },
  {
   "cell_type": "code",
   "execution_count": null,
   "id": "9e805cbf",
   "metadata": {},
   "outputs": [],
   "source": [
    "query_text = \"\"\"\n",
    "SYSTEM REFRESH VIEW db1.citizen_payments_dir_mobile_mv\n",
    "\"\"\"\n",
    "\n",
    "ch.query_run(query_text)"
   ]
  }
 ],
 "metadata": {
  "jupytext": {
   "formats": "ipynb,md"
  },
  "kernelspec": {
   "display_name": "myenv",
   "language": "python",
   "name": "python3"
  },
  "language_info": {
   "codemirror_mode": {
    "name": "ipython",
    "version": 3
   },
   "file_extension": ".py",
   "mimetype": "text/x-python",
   "name": "python",
   "nbconvert_exporter": "python",
   "pygments_lexer": "ipython3",
   "version": "3.12.11"
  }
 },
 "nbformat": 4,
 "nbformat_minor": 5
}

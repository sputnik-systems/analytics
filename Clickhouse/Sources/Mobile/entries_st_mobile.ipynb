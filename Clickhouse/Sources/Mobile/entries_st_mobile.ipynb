{
 "cells": [
  {
   "cell_type": "markdown",
   "id": "72dfcf37",
   "metadata": {},
   "source": [
    "## Start"
   ]
  },
  {
   "cell_type": "code",
   "execution_count": null,
   "id": "82836a75",
   "metadata": {},
   "outputs": [],
   "source": [
    "import clickhouse_connect\n",
    "import datetime\n",
    "import os\n",
    "import pytz\n",
    "import pandas as pd\n",
    "from dateutil.relativedelta import relativedelta\n",
    "from dotenv import load_dotenv\n",
    "\n",
    "import sys\n",
    "sys.path.append('/home/boris/Documents/Work/analytics/Clickhouse')\n",
    "from clickhouse_client import ClickHouse_client\n",
    "ch = ClickHouse_client()\n",
    "pd.set_option('display.max_rows', 1000)\n",
    "\n"
   ]
  },
  {
   "cell_type": "markdown",
   "id": "8d09cb34",
   "metadata": {},
   "source": [
    "___\n",
    "### Tags: #Source #Mobile\n",
    "\n",
    "### Links: \n",
    "___"
   ]
  },
  {
   "cell_type": "code",
   "execution_count": null,
   "id": "fa43cbc5",
   "metadata": {},
   "outputs": [],
   "source": [
    "# creating a table from s3\n",
    "\n",
    "query_text = \"\"\"--sql\n",
    "    CREATE TABLE db1.entries_st_mobile\n",
    "    (\n",
    "        `report_date` Date,\n",
    "        `address_uuid`  String,\n",
    "        `partner_uuid` String,\n",
    "        `monetization` String,\n",
    "        `ble_available` String,\n",
    "    )\n",
    "    ENGINE = S3('https://storage.yandexcloud.net/dwh-asgard/entries_st_mobile/year=*/month=*/*.csv','CSVWithNames')\n",
    "    \"\"\"\n",
    "\n",
    "ch.query_run(query_text)"
   ]
  },
  {
   "cell_type": "code",
   "execution_count": null,
   "id": "e6a49cba",
   "metadata": {},
   "outputs": [],
   "source": [
    "# creating a table for materialized view\n",
    "\n",
    "query_text = \"\"\"--sql\n",
    "    CREATE TABLE db1.entries_st_mobile_ch\n",
    "    (\n",
    "        `report_date` Date,\n",
    "        `address_uuid`  String,\n",
    "        `partner_uuid` String,\n",
    "        `monetization` String,\n",
    "        `ble_available` String,\n",
    "    )\n",
    "    ENGINE = MergeTree()\n",
    "    ORDER BY address_uuid\n",
    "    \"\"\"\n",
    "\n",
    "ch.query_run(query_text)"
   ]
  },
  {
   "cell_type": "code",
   "execution_count": null,
   "id": "fb737994",
   "metadata": {},
   "outputs": [],
   "source": [
    "# creating a materialized view\n",
    "\n",
    "query_text = \"\"\"--sql\n",
    "    CREATE MATERIALIZED VIEW db1.entries_st_mobile_mv\n",
    "    REFRESH EVERY 1 DAY OFFSET 3 HOUR RANDOMIZE FOR 1 HOUR TO db1.entries_st_mobile_ch AS\n",
    "    SELECT\n",
    "        *\n",
    "    FROM db1.entries_st_mobile\n",
    "    \"\"\"\n",
    "\n",
    "ch.query_run(query_text)"
   ]
  },
  {
   "cell_type": "markdown",
   "id": "8bdf8737",
   "metadata": {},
   "source": [
    "___\n",
    "## Tools\n",
    "___\n",
    "### query"
   ]
  },
  {
   "cell_type": "code",
   "execution_count": null,
   "id": "fc5440d6",
   "metadata": {},
   "outputs": [],
   "source": [
    "query_text = \"\"\"--sql\n",
    "    SELECT\n",
    "        *\n",
    "    FROM db1.entries_st_mobile_ch\n",
    "    LIMIT 2\n",
    "    \"\"\"\n",
    "\n",
    "ch.query_run(query_text)"
   ]
  },
  {
   "cell_type": "markdown",
   "id": "30d59e36",
   "metadata": {},
   "source": [
    "### Drop ch"
   ]
  },
  {
   "cell_type": "code",
   "execution_count": null,
   "id": "4ff1a552",
   "metadata": {},
   "outputs": [],
   "source": [
    "query_text = \"\"\"\n",
    "    DROP TABLE db1.entries_st_mobile_ch\n",
    "    \"\"\"\n",
    "ch.query_run(query_text)"
   ]
  },
  {
   "cell_type": "markdown",
   "id": "7c9d4022",
   "metadata": {},
   "source": [
    "### Drop mv"
   ]
  },
  {
   "cell_type": "code",
   "execution_count": null,
   "id": "235793de",
   "metadata": {},
   "outputs": [],
   "source": [
    "query_text = \"\"\"\n",
    "    DROP TABLE db1.entries_st_mobile_mv\n",
    "    \"\"\"\n",
    "ch.query_run(query_text)"
   ]
  }
 ],
 "metadata": {
  "jupytext": {
   "formats": "ipynb,md"
  },
  "language_info": {
   "name": "python"
  }
 },
 "nbformat": 4,
 "nbformat_minor": 5
}

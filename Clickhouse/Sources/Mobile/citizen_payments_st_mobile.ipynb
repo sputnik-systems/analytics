{
 "cells": [
  {
   "cell_type": "markdown",
   "id": "5b8e0825",
   "metadata": {},
   "source": [
    "## Start"
   ]
  },
  {
   "cell_type": "code",
   "execution_count": null,
   "id": "a1e86834",
   "metadata": {},
   "outputs": [],
   "source": [
    "import clickhouse_connect\n",
    "import datetime\n",
    "import os\n",
    "import pytz\n",
    "import pandas as pd\n",
    "from dateutil.relativedelta import relativedelta\n",
    "from dotenv import load_dotenv\n",
    "\n",
    "import sys\n",
    "sys.path.append('/home/boris/Documents/Work/analytics/Clickhouse')\n",
    "from clickhouse_client import ClickHouse_client\n",
    "ch = ClickHouse_client()\n",
    "pd.set_option('display.max_rows', 1000)\n",
    "\n"
   ]
  },
  {
   "cell_type": "markdown",
   "id": "05674a5c",
   "metadata": {},
   "source": [
    "___\n",
    "### Tags: #Source #Mobile\n",
    "\n",
    "### Links: \n",
    "___"
   ]
  },
  {
   "cell_type": "code",
   "execution_count": null,
   "id": "ecf5f220",
   "metadata": {},
   "outputs": [],
   "source": [
    "# creating a table from s3\n",
    "\n",
    "query_text = \"\"\"--sql\n",
    "    CREATE TABLE db1.citizen_payments_st_mobile\n",
    "    (\n",
    "        `report_date` Date,\n",
    "        `citizen_id`  Int32,\n",
    "        `state` String,\n",
    "        `amount` Int32,\n",
    "        `paid_at` DateTime,\n",
    "        `refunded_at` DateTime,\n",
    "        `refunded_amount` Int16,\n",
    "        `from` String,\n",
    "        `payment_id` Int32,\n",
    "        `product_ids` String\n",
    "    )\n",
    "    ENGINE = S3('https://storage.yandexcloud.net/dwh-asgard/citizen_payments_st_mobile/year=*/month=*/*.csv','CSVWithNames')\n",
    "    \"\"\"\n",
    "\n",
    "ch.query_run(query_text)"
   ]
  },
  {
   "cell_type": "code",
   "execution_count": null,
   "id": "e1295d95",
   "metadata": {},
   "outputs": [],
   "source": [
    "# creating a table for materialized view\n",
    "\n",
    "query_text = \"\"\"--sql\n",
    "    CREATE TABLE db1.citizen_payments_st_mobile_ch\n",
    "    (\n",
    "        `report_date` Date,\n",
    "        `citizen_id`  Int32,\n",
    "        `state` String,\n",
    "        `amount` Int32,\n",
    "        `paid_at` DateTime,\n",
    "        `refunded_at` DateTime,\n",
    "        `refunded_amount` Int16,\n",
    "        `from` String,\n",
    "        `payment_id` Int32,\n",
    "        `product_ids` String\n",
    "    )\n",
    "    ENGINE = MergeTree()\n",
    "    ORDER BY citizen_id\n",
    "    \"\"\"\n",
    "\n",
    "ch.query_run(query_text)"
   ]
  },
  {
   "cell_type": "code",
   "execution_count": null,
   "id": "db63a549",
   "metadata": {},
   "outputs": [],
   "source": [
    "# creating a materialized view\n",
    "\n",
    "query_text = \"\"\"--sql\n",
    "    CREATE MATERIALIZED VIEW db1.citizen_payments_st_mobile_mv\n",
    "    REFRESH EVERY 1 DAY OFFSET 3 HOUR RANDOMIZE FOR 1 HOUR TO db1.citizen_payments_st_mobile_ch AS\n",
    "    SELECT\n",
    "        *\n",
    "    FROM db1.citizen_payments_st_mobile\n",
    "    \"\"\"\n",
    "\n",
    "ch.query_run(query_text)"
   ]
  },
  {
   "cell_type": "markdown",
   "id": "631ff0df",
   "metadata": {},
   "source": [
    "___\n",
    "## Tools\n",
    "___\n",
    "### query"
   ]
  },
  {
   "cell_type": "code",
   "execution_count": null,
   "id": "5b404520",
   "metadata": {},
   "outputs": [],
   "source": [
    "query_text = \"\"\"--sql\n",
    "    SELECT\n",
    "        *\n",
    "    FROM db1.citizen_payments_st_mobile_ch\n",
    "    LIMIT 2\n",
    "    \"\"\"\n",
    "\n",
    "ch.query_run(query_text)"
   ]
  },
  {
   "cell_type": "markdown",
   "id": "0305aade",
   "metadata": {},
   "source": [
    "### Drop ch"
   ]
  },
  {
   "cell_type": "code",
   "execution_count": null,
   "id": "4e1d5cd8",
   "metadata": {},
   "outputs": [],
   "source": [
    "query_text = \"\"\"\n",
    "    DROP TABLE db1.citizen_payments_st_mobile_ch\n",
    "    \"\"\"\n",
    "ch.query_run(query_text)"
   ]
  },
  {
   "cell_type": "markdown",
   "id": "5922ccd2",
   "metadata": {},
   "source": [
    "### Drop mv"
   ]
  },
  {
   "cell_type": "code",
   "execution_count": null,
   "id": "d0dec8e7",
   "metadata": {},
   "outputs": [],
   "source": [
    "query_text = \"\"\"\n",
    "    DROP TABLE db1.citizen_payments_st_mobile_mv\n",
    "    \"\"\"\n",
    "ch.query_run(query_text)"
   ]
  }
 ],
 "metadata": {
  "jupytext": {
   "formats": "ipynb,md"
  },
  "language_info": {
   "name": "python"
  }
 },
 "nbformat": 4,
 "nbformat_minor": 5
}

{
 "cells": [
  {
   "cell_type": "markdown",
   "id": "5b8e0825",
   "metadata": {},
   "source": [
    "## Start"
   ]
  },
  {
   "cell_type": "code",
   "execution_count": 1,
   "id": "a1e86834",
   "metadata": {},
   "outputs": [],
   "source": [
    "import clickhouse_connect\n",
    "import datetime\n",
    "import os\n",
    "import pytz\n",
    "import pandas as pd\n",
    "from dateutil.relativedelta import relativedelta\n",
    "from dotenv import load_dotenv\n",
    "\n",
    "import sys\n",
    "sys.path.append('/home/boris/Documents/Work/analytics/Clickhouse')\n",
    "from clickhouse_client import ClickHouse_client\n",
    "ch = ClickHouse_client()\n",
    "pd.set_option('display.max_rows', 1000)\n",
    "\n"
   ]
  },
  {
   "cell_type": "markdown",
   "id": "05674a5c",
   "metadata": {},
   "source": [
    "___\n",
    "### Tags: #Source #Mobile\n",
    "\n",
    "### Links: \n",
    "___"
   ]
  },
  {
   "cell_type": "code",
   "execution_count": 7,
   "id": "ecf5f220",
   "metadata": {},
   "outputs": [
    {
     "ename": "DatabaseError",
     "evalue": "HTTPDriver for https://rc1a-eflrt968scbm232q.mdb.yandexcloud.net:8443 received ClickHouse error code 57\n Code: 57. DB::Exception: Table db1.citizen_payments_st_mobile already exists. (TABLE_ALREADY_EXISTS) (version 25.3.3.42 (official build))\n",
     "output_type": "error",
     "traceback": [
      "\u001b[31m---------------------------------------------------------------------------\u001b[39m",
      "\u001b[31mDatabaseError\u001b[39m                             Traceback (most recent call last)",
      "\u001b[36mCell\u001b[39m\u001b[36m \u001b[39m\u001b[32mIn[7]\u001b[39m\u001b[32m, line 20\u001b[39m\n\u001b[32m      1\u001b[39m \u001b[38;5;66;03m# creating a table from s3\u001b[39;00m\n\u001b[32m      3\u001b[39m query_text = \u001b[33m\"\"\"\u001b[39m\u001b[33m--sql\u001b[39m\n\u001b[32m      4\u001b[39m \u001b[33m    CREATE TABLE db1.citizen_payments_st_mobile\u001b[39m\n\u001b[32m      5\u001b[39m \u001b[33m    (\u001b[39m\n\u001b[32m   (...)\u001b[39m\u001b[32m     17\u001b[39m \u001b[33m    ENGINE = S3(\u001b[39m\u001b[33m'\u001b[39m\u001b[33mhttps://storage.yandexcloud.net/dwh-asgard/citizen_payments_st_mobile/year=*/month=*/*.csv\u001b[39m\u001b[33m'\u001b[39m\u001b[33m,\u001b[39m\u001b[33m'\u001b[39m\u001b[33mCSVWithNames\u001b[39m\u001b[33m'\u001b[39m\u001b[33m)\u001b[39m\n\u001b[32m     18\u001b[39m \u001b[33m    \u001b[39m\u001b[33m\"\"\"\u001b[39m\n\u001b[32m---> \u001b[39m\u001b[32m20\u001b[39m \u001b[43mch\u001b[49m\u001b[43m.\u001b[49m\u001b[43mquery_run\u001b[49m\u001b[43m(\u001b[49m\u001b[43mquery_text\u001b[49m\u001b[43m)\u001b[49m\n",
      "\u001b[36mFile \u001b[39m\u001b[32m~/Documents/Work/analytics/Clickhouse/clickhouse_client.py:29\u001b[39m, in \u001b[36mClickHouse_client.query_run\u001b[39m\u001b[34m(self, query_text)\u001b[39m\n\u001b[32m     27\u001b[39m \u001b[38;5;28;01mdef\u001b[39;00m\u001b[38;5;250m \u001b[39m\u001b[34mquery_run\u001b[39m (\u001b[38;5;28mself\u001b[39m, query_text):\n\u001b[32m     28\u001b[39m     query_text = query_text\n\u001b[32m---> \u001b[39m\u001b[32m29\u001b[39m     result = \u001b[38;5;28;43mself\u001b[39;49m\u001b[43m.\u001b[49m\u001b[43mclient\u001b[49m\u001b[43m.\u001b[49m\u001b[43mquery\u001b[49m\u001b[43m(\u001b[49m\u001b[43mquery_text\u001b[49m\u001b[43m)\u001b[49m\n\u001b[32m     30\u001b[39m     \u001b[38;5;28mself\u001b[39m.df = pd.DataFrame(result.result_rows, columns=result.column_names)\n\u001b[32m     31\u001b[39m     \u001b[38;5;66;03m# self.df = pl.DataFrame(result.result_rows, schema=result.column_names)\u001b[39;00m\n",
      "\u001b[36mFile \u001b[39m\u001b[32m~/myenv/lib/python3.12/site-packages/clickhouse_connect/driver/client.py:237\u001b[39m, in \u001b[36mClient.query\u001b[39m\u001b[34m(self, query, parameters, settings, query_formats, column_formats, encoding, use_none, column_oriented, use_numpy, max_str_len, context, query_tz, column_tzs, external_data, transport_settings)\u001b[39m\n\u001b[32m    235\u001b[39m         \u001b[38;5;28;01mreturn\u001b[39;00m response.as_query_result()\n\u001b[32m    236\u001b[39m     \u001b[38;5;28;01mreturn\u001b[39;00m QueryResult([response] \u001b[38;5;28;01mif\u001b[39;00m \u001b[38;5;28misinstance\u001b[39m(response, \u001b[38;5;28mlist\u001b[39m) \u001b[38;5;28;01melse\u001b[39;00m [[response]])\n\u001b[32m--> \u001b[39m\u001b[32m237\u001b[39m \u001b[38;5;28;01mreturn\u001b[39;00m \u001b[38;5;28;43mself\u001b[39;49m\u001b[43m.\u001b[49m\u001b[43m_query_with_context\u001b[49m\u001b[43m(\u001b[49m\u001b[43mquery_context\u001b[49m\u001b[43m)\u001b[49m\n",
      "\u001b[36mFile \u001b[39m\u001b[32m~/myenv/lib/python3.12/site-packages/clickhouse_connect/driver/httpclient.py:243\u001b[39m, in \u001b[36mHttpClient._query_with_context\u001b[39m\u001b[34m(self, context)\u001b[39m\n\u001b[32m    241\u001b[39m     fields = \u001b[38;5;28;01mNone\u001b[39;00m\n\u001b[32m    242\u001b[39m     headers[\u001b[33m'\u001b[39m\u001b[33mContent-Type\u001b[39m\u001b[33m'\u001b[39m] = \u001b[33m'\u001b[39m\u001b[33mtext/plain; charset=utf-8\u001b[39m\u001b[33m'\u001b[39m\n\u001b[32m--> \u001b[39m\u001b[32m243\u001b[39m response = \u001b[38;5;28;43mself\u001b[39;49m\u001b[43m.\u001b[49m\u001b[43m_raw_request\u001b[49m\u001b[43m(\u001b[49m\u001b[43mbody\u001b[49m\u001b[43m,\u001b[49m\n\u001b[32m    244\u001b[39m \u001b[43m                             \u001b[49m\u001b[43mparams\u001b[49m\u001b[43m,\u001b[49m\n\u001b[32m    245\u001b[39m \u001b[43m                             \u001b[49m\u001b[43mdict_copy\u001b[49m\u001b[43m(\u001b[49m\u001b[43mheaders\u001b[49m\u001b[43m,\u001b[49m\u001b[43m \u001b[49m\u001b[43mcontext\u001b[49m\u001b[43m.\u001b[49m\u001b[43mtransport_settings\u001b[49m\u001b[43m)\u001b[49m\u001b[43m,\u001b[49m\n\u001b[32m    246\u001b[39m \u001b[43m                             \u001b[49m\u001b[43mstream\u001b[49m\u001b[43m=\u001b[49m\u001b[38;5;28;43;01mTrue\u001b[39;49;00m\u001b[43m,\u001b[49m\n\u001b[32m    247\u001b[39m \u001b[43m                             \u001b[49m\u001b[43mretries\u001b[49m\u001b[43m=\u001b[49m\u001b[38;5;28;43mself\u001b[39;49m\u001b[43m.\u001b[49m\u001b[43mquery_retries\u001b[49m\u001b[43m,\u001b[49m\n\u001b[32m    248\u001b[39m \u001b[43m                             \u001b[49m\u001b[43mfields\u001b[49m\u001b[43m=\u001b[49m\u001b[43mfields\u001b[49m\u001b[43m,\u001b[49m\n\u001b[32m    249\u001b[39m \u001b[43m                             \u001b[49m\u001b[43mserver_wait\u001b[49m\u001b[43m=\u001b[49m\u001b[38;5;129;43;01mnot\u001b[39;49;00m\u001b[43m \u001b[49m\u001b[43mcontext\u001b[49m\u001b[43m.\u001b[49m\u001b[43mstreaming\u001b[49m\u001b[43m)\u001b[49m\n\u001b[32m    250\u001b[39m byte_source = RespBuffCls(ResponseSource(response))  \u001b[38;5;66;03m# pylint: disable=not-callable\u001b[39;00m\n\u001b[32m    251\u001b[39m context.set_response_tz(\u001b[38;5;28mself\u001b[39m._check_tz_change(response.headers.get(\u001b[33m'\u001b[39m\u001b[33mX-ClickHouse-Timezone\u001b[39m\u001b[33m'\u001b[39m)))\n",
      "\u001b[36mFile \u001b[39m\u001b[32m~/myenv/lib/python3.12/site-packages/clickhouse_connect/driver/httpclient.py:481\u001b[39m, in \u001b[36mHttpClient._raw_request\u001b[39m\u001b[34m(self, data, params, headers, method, retries, stream, server_wait, fields, error_handler)\u001b[39m\n\u001b[32m    479\u001b[39m     error_handler(response)\n\u001b[32m    480\u001b[39m \u001b[38;5;28;01melse\u001b[39;00m:\n\u001b[32m--> \u001b[39m\u001b[32m481\u001b[39m     \u001b[38;5;28;43mself\u001b[39;49m\u001b[43m.\u001b[49m\u001b[43m_error_handler\u001b[49m\u001b[43m(\u001b[49m\u001b[43mresponse\u001b[49m\u001b[43m)\u001b[49m\n",
      "\u001b[36mFile \u001b[39m\u001b[32m~/myenv/lib/python3.12/site-packages/clickhouse_connect/driver/httpclient.py:402\u001b[39m, in \u001b[36mHttpClient._error_handler\u001b[39m\u001b[34m(self, response, retried)\u001b[39m\n\u001b[32m    399\u001b[39m \u001b[38;5;28;01melse\u001b[39;00m:\n\u001b[32m    400\u001b[39m     err_str = \u001b[33m'\u001b[39m\u001b[33mThe ClickHouse server returned an error.\u001b[39m\u001b[33m'\u001b[39m\n\u001b[32m--> \u001b[39m\u001b[32m402\u001b[39m \u001b[38;5;28;01mraise\u001b[39;00m OperationalError(err_str) \u001b[38;5;28;01mif\u001b[39;00m retried \u001b[38;5;28;01melse\u001b[39;00m DatabaseError(err_str) \u001b[38;5;28;01mfrom\u001b[39;00m\u001b[38;5;250m \u001b[39m\u001b[38;5;28;01mNone\u001b[39;00m\n",
      "\u001b[31mDatabaseError\u001b[39m: HTTPDriver for https://rc1a-eflrt968scbm232q.mdb.yandexcloud.net:8443 received ClickHouse error code 57\n Code: 57. DB::Exception: Table db1.citizen_payments_st_mobile already exists. (TABLE_ALREADY_EXISTS) (version 25.3.3.42 (official build))\n"
     ]
    }
   ],
   "source": [
    "# creating a table from s3\n",
    "\n",
    "query_text = \"\"\"--sql\n",
    "    CREATE TABLE db1.citizen_payments_st_mobile\n",
    "    (\n",
    "        `report_date` Date,\n",
    "        `citizen_id`  Int32,\n",
    "        `state` String,\n",
    "        `amount` Int32,\n",
    "        `paid_at` DateTime,\n",
    "        `refunded_at` DateTime,\n",
    "        `refunded_amount` Int16,\n",
    "        `from` String,\n",
    "        `payment_id` Int32,\n",
    "        `product_ids` String\n",
    "    )\n",
    "    ENGINE = S3('https://storage.yandexcloud.net/dwh-asgard/citizen_payments_st_mobile/year=*/month=*/*.csv','CSVWithNames')\n",
    "    \"\"\"\n",
    "\n",
    "ch.query_run(query_text)"
   ]
  },
  {
   "cell_type": "code",
   "execution_count": null,
   "id": "e1295d95",
   "metadata": {},
   "outputs": [],
   "source": [
    "# creating a table for materialized view\n",
    "\n",
    "query_text = \"\"\"--sql\n",
    "    CREATE TABLE db1.citizen_payments_st_mobile_ch\n",
    "    (\n",
    "        `report_date` Date,\n",
    "        `citizen_id`  Int32,\n",
    "        `state` String,\n",
    "        `amount` Int32,\n",
    "        `paid_at` DateTime,\n",
    "        `refunded_at` DateTime,\n",
    "        `refunded_amount` Int16,\n",
    "        `from` String,\n",
    "        `payment_id` Int32,\n",
    "        `product_ids` String\n",
    "    )\n",
    "    ENGINE = MergeTree()\n",
    "    ORDER BY citizen_id\n",
    "    \"\"\"\n",
    "\n",
    "ch.query_run(query_text)"
   ]
  },
  {
   "cell_type": "code",
   "execution_count": null,
   "id": "db63a549",
   "metadata": {},
   "outputs": [],
   "source": [
    "# creating a materialized view\n",
    "\n",
    "query_text = \"\"\"--sql\n",
    "    CREATE MATERIALIZED VIEW db1.citizen_payments_st_mobile_mv\n",
    "    REFRESH EVERY 1 DAY OFFSET 3 HOUR RANDOMIZE FOR 1 HOUR TO db1.citizen_payments_st_mobile_ch AS\n",
    "    SELECT\n",
    "        *\n",
    "    FROM db1.citizen_payments_st_mobile\n",
    "    \"\"\"\n",
    "\n",
    "ch.query_run(query_text)"
   ]
  },
  {
   "cell_type": "markdown",
   "id": "631ff0df",
   "metadata": {},
   "source": [
    "___\n",
    "## Tools\n",
    "___\n",
    "### query"
   ]
  },
  {
   "cell_type": "code",
   "execution_count": 10,
   "id": "5b404520",
   "metadata": {},
   "outputs": [
    {
     "data": {
      "text/html": [
       "<div><style>\n",
       ".dataframe > thead > tr,\n",
       ".dataframe > tbody > tr {\n",
       "  text-align: right;\n",
       "  white-space: pre-wrap;\n",
       "}\n",
       "</style>\n",
       "<small>shape: (2, 10)</small><table border=\"1\" class=\"dataframe\"><thead><tr><th>report_date</th><th>citizen_id</th><th>state</th><th>amount</th><th>paid_at</th><th>refunded_at</th><th>refunded_amount</th><th>from</th><th>payment_id</th><th>product_ids</th></tr><tr><td>date</td><td>i64</td><td>str</td><td>i64</td><td>datetime[ns]</td><td>datetime[ns]</td><td>i64</td><td>str</td><td>i64</td><td>str</td></tr></thead><tbody><tr><td>2025-07-28</td><td>32954</td><td>&quot;canceled&quot;</td><td>85</td><td>1970-01-01 00:00:00</td><td>1970-01-01 00:00:00</td><td>0</td><td>&quot;yookassa&quot;</td><td>2093222</td><td>&quot;[&quot;standard&quot;]&quot;</td></tr><tr><td>2025-07-28</td><td>33719</td><td>&quot;success&quot;</td><td>69</td><td>2025-07-28 03:50:11</td><td>1970-01-01 00:00:00</td><td>0</td><td>&quot;yookassa&quot;</td><td>2092304</td><td>&quot;[&quot;standard&quot;]&quot;</td></tr></tbody></table></div>"
      ],
      "text/plain": [
       "shape: (2, 10)\n",
       "┌────────────┬────────────┬──────────┬────────┬───┬────────────┬──────────┬────────────┬───────────┐\n",
       "│ report_dat ┆ citizen_id ┆ state    ┆ amount ┆ … ┆ refunded_a ┆ from     ┆ payment_id ┆ product_i │\n",
       "│ e          ┆ ---        ┆ ---      ┆ ---    ┆   ┆ mount      ┆ ---      ┆ ---        ┆ ds        │\n",
       "│ ---        ┆ i64        ┆ str      ┆ i64    ┆   ┆ ---        ┆ str      ┆ i64        ┆ ---       │\n",
       "│ date       ┆            ┆          ┆        ┆   ┆ i64        ┆          ┆            ┆ str       │\n",
       "╞════════════╪════════════╪══════════╪════════╪═══╪════════════╪══════════╪════════════╪═══════════╡\n",
       "│ 2025-07-28 ┆ 32954      ┆ canceled ┆ 85     ┆ … ┆ 0          ┆ yookassa ┆ 2093222    ┆ [\"standar │\n",
       "│            ┆            ┆          ┆        ┆   ┆            ┆          ┆            ┆ d\"]       │\n",
       "│ 2025-07-28 ┆ 33719      ┆ success  ┆ 69     ┆ … ┆ 0          ┆ yookassa ┆ 2092304    ┆ [\"standar │\n",
       "│            ┆            ┆          ┆        ┆   ┆            ┆          ┆            ┆ d\"]       │\n",
       "└────────────┴────────────┴──────────┴────────┴───┴────────────┴──────────┴────────────┴───────────┘"
      ]
     },
     "execution_count": 10,
     "metadata": {},
     "output_type": "execute_result"
    }
   ],
   "source": [
    "query_text = \"\"\"--sql\n",
    "    SELECT\n",
    "        *\n",
    "    FROM db1.citizen_payments_st_mobile_ch\n",
    "    order by report_date desc\n",
    "    LIMIT 2\n",
    "    \"\"\"\n",
    "\n",
    "ch.query_run(query_text)"
   ]
  },
  {
   "cell_type": "markdown",
   "id": "0305aade",
   "metadata": {},
   "source": [
    "### Drop ch"
   ]
  },
  {
   "cell_type": "code",
   "execution_count": null,
   "id": "4e1d5cd8",
   "metadata": {},
   "outputs": [],
   "source": [
    "query_text = \"\"\"\n",
    "    DROP TABLE db1.citizen_payments_st_mobile_ch\n",
    "    \"\"\"\n",
    "ch.query_run(query_text)"
   ]
  },
  {
   "cell_type": "markdown",
   "id": "5922ccd2",
   "metadata": {},
   "source": [
    "### Drop mv"
   ]
  },
  {
   "cell_type": "code",
   "execution_count": null,
   "id": "d0dec8e7",
   "metadata": {},
   "outputs": [],
   "source": [
    "query_text = \"\"\"\n",
    "    DROP TABLE db1.citizen_payments_st_mobile_mv\n",
    "    \"\"\"\n",
    "ch.query_run(query_text)"
   ]
  },
  {
   "cell_type": "markdown",
   "id": "503e0447",
   "metadata": {},
   "source": [
    "### refresh mv"
   ]
  },
  {
   "cell_type": "code",
   "execution_count": 8,
   "id": "d039a9bf",
   "metadata": {},
   "outputs": [
    {
     "data": {
      "text/html": [
       "<div><style>\n",
       ".dataframe > thead > tr,\n",
       ".dataframe > tbody > tr {\n",
       "  text-align: right;\n",
       "  white-space: pre-wrap;\n",
       "}\n",
       "</style>\n",
       "<small>shape: (1, 2)</small><table border=\"1\" class=\"dataframe\"><thead><tr><th>elapsed_ns</th><th>query_id</th></tr><tr><td>i64</td><td>str</td></tr></thead><tbody><tr><td>749697</td><td>&quot;43b0e46e-99cb-4d67-a0bb-ae2222…</td></tr></tbody></table></div>"
      ],
      "text/plain": [
       "shape: (1, 2)\n",
       "┌────────────┬─────────────────────────────────┐\n",
       "│ elapsed_ns ┆ query_id                        │\n",
       "│ ---        ┆ ---                             │\n",
       "│ i64        ┆ str                             │\n",
       "╞════════════╪═════════════════════════════════╡\n",
       "│ 749697     ┆ 43b0e46e-99cb-4d67-a0bb-ae2222… │\n",
       "└────────────┴─────────────────────────────────┘"
      ]
     },
     "execution_count": 8,
     "metadata": {},
     "output_type": "execute_result"
    }
   ],
   "source": [
    "query_text = \"\"\"\n",
    "SYSTEM REFRESH VIEW db1.citizen_payments_st_mobile_mv\n",
    "\"\"\"\n",
    "\n",
    "ch.query_run(query_text)"
   ]
  }
 ],
 "metadata": {
  "jupytext": {
   "formats": "ipynb,md"
  },
  "kernelspec": {
   "display_name": "myenv",
   "language": "python",
   "name": "python3"
  },
  "language_info": {
   "codemirror_mode": {
    "name": "ipython",
    "version": 3
   },
   "file_extension": ".py",
   "mimetype": "text/x-python",
   "name": "python",
   "nbconvert_exporter": "python",
   "pygments_lexer": "ipython3",
   "version": "3.12.11"
  }
 },
 "nbformat": 4,
 "nbformat_minor": 5
}

{
 "cells": [
  {
   "cell_type": "markdown",
   "id": "2c68bf63",
   "metadata": {},
   "source": [
    "## Start"
   ]
  },
  {
   "cell_type": "code",
   "execution_count": null,
   "id": "9971a17c",
   "metadata": {},
   "outputs": [],
   "source": [
    "import clickhouse_connect\n",
    "import datetime\n",
    "import os\n",
    "import pytz\n",
    "import pandas as pd\n",
    "from dateutil.relativedelta import relativedelta\n",
    "from dotenv import load_dotenv\n",
    "\n",
    "import sys\n",
    "sys.path.append('/home/boris/Documents/Work/analytics/Clickhouse')\n",
    "from clickhouse_client import ClickHouse_client\n",
    "ch = ClickHouse_client()\n",
    "pd.set_option('display.max_rows', 1000)\n",
    "\n"
   ]
  },
  {
   "cell_type": "markdown",
   "id": "cc4058da",
   "metadata": {},
   "source": [
    "___\n",
    "## Drop the Table"
   ]
  },
  {
   "cell_type": "code",
   "execution_count": null,
   "id": "ad954511",
   "metadata": {},
   "outputs": [],
   "source": [
    "query_text = \"\"\"\n",
    "    DROP TABLE db1.sessions_st_mobile_mv\n",
    "    \"\"\"\n",
    "ch.query_run(query_text)"
   ]
  },
  {
   "cell_type": "markdown",
   "id": "c9a83047",
   "metadata": {},
   "source": [
    "___\n",
    "\n",
    "## Refreshing the data"
   ]
  },
  {
   "cell_type": "code",
   "execution_count": null,
   "id": "6650a60a",
   "metadata": {},
   "outputs": [],
   "source": [
    "query_text = \"\"\"\n",
    "SYSTEM REFRESH VIEW db1.sessions_st_mobile_mv\n",
    "\"\"\"\n",
    "\n",
    "ch.query_run(query_text)"
   ]
  },
  {
   "cell_type": "markdown",
   "id": "1f87181e",
   "metadata": {},
   "source": [
    "___\n",
    "## Change refresh time"
   ]
  },
  {
   "cell_type": "code",
   "execution_count": null,
   "id": "c2fafb59",
   "metadata": {},
   "outputs": [],
   "source": [
    "query_text = \"\"\"\n",
    "ALTER TABLE db1.companies_st_partner_mv\n",
    "MODIFY REFRESH EVERY 1 DAY OFFSET 4 HOUR RANDOMIZE FOR 1 HOUR;\n",
    "\"\"\"\n",
    "\n",
    "ch.query_run(query_text)"
   ]
  },
  {
   "cell_type": "markdown",
   "id": "f75f3e0b",
   "metadata": {},
   "source": [
    "___\n",
    "\n",
    "## Show all tables"
   ]
  },
  {
   "cell_type": "code",
   "execution_count": null,
   "id": "bd8bf2ef",
   "metadata": {},
   "outputs": [],
   "source": [
    "query_text = \"\"\"--sql\n",
    "    SHOW TABLES FROM db1\n",
    "\"\"\"\n",
    "df = ch.query_run(query_text)\n"
   ]
  },
  {
   "cell_type": "markdown",
   "id": "09bd1d1d",
   "metadata": {},
   "source": [
    "____\n",
    "\n",
    "### Partner"
   ]
  },
  {
   "cell_type": "markdown",
   "id": "b853a096",
   "metadata": {},
   "source": [
    "[[uk_addresses_partner]]\n",
    "\n",
    "[[users_st_partner]]\n",
    "\n",
    "[[uk_addresses_st_partner]]\n",
    "\n",
    "[[uk_dir_partner]]\n",
    "\n",
    "[[uk_st_partner]]\n",
    "\n",
    "[[flats_dir_partner]]\n",
    "\n",
    "[[flats_st_partner]]\n",
    "\n",
    "[[entries_installation_points_dir_partner]]\n",
    "\n",
    "[[installation_point_st_partner]]\n",
    "\n",
    "[[buildings_st_partner]]\n",
    "\n",
    "[[gates_st_partner]]\n",
    "\n",
    "[[accruals_dir_partner]]\n",
    "\n",
    "[[billing_orders_dir_partner]]\n",
    "\n",
    "[[billing_orders_devices_st_partner]]\n",
    "\n",
    "[[companies_dir_partner]]\n",
    "\n",
    "[[companies_st_partner]]\n",
    "\n",
    "[[service_history_dir_partner]]\n",
    "\n",
    "[[cameras_st_partner]]\n",
    "\n",
    "[[cameras_dir_partner]]\n",
    "\n",
    "[[intercoms_st_partner]]\n",
    "\n",
    "[[intercoms_dir_partner]]"
   ]
  },
  {
   "cell_type": "markdown",
   "id": "c6c02dd3",
   "metadata": {},
   "source": [
    "___\n",
    "### Asgard\n"
   ]
  },
  {
   "cell_type": "markdown",
   "id": "4211c8fe",
   "metadata": {},
   "source": [
    "[[no_video_on_stream_mobile_st_asgard]]\n",
    "\n",
    "[[cameras_dir_asgard]]\n",
    "\n",
    "[[cameras_st_asgard]]\n",
    "\n",
    "[[intercoms_dir_asgard]]"
   ]
  },
  {
   "cell_type": "markdown",
   "id": "a4fddc2d",
   "metadata": {},
   "source": [
    "___\n",
    "### Mobile"
   ]
  },
  {
   "cell_type": "markdown",
   "id": "bb96fc2a",
   "metadata": {},
   "source": [
    "[[entries_st_mobile]]\n",
    "\n",
    "[[citizen_payments_st_mobile]]\n",
    "\n",
    "[[sessions_st_mobile]]\n",
    "\n",
    "[[subscriptions_st_mobile]]\n",
    "\n",
    "[[citizens_st_mobile]]\n",
    "\n",
    "[[citizens_dir_mobile]]\n",
    "\n",
    "[[citizen_payments_dir_mobile]]\n"
   ]
  },
  {
   "cell_type": "markdown",
   "id": "14f4bf39",
   "metadata": {},
   "source": [
    "____\n",
    "\n",
    "## \n"
   ]
  },
  {
   "cell_type": "markdown",
   "id": "4d848627",
   "metadata": {},
   "source": [
    "____\n",
    "\n",
    "## [[intercoms_st_asgard]]\n"
   ]
  },
  {
   "cell_type": "code",
   "execution_count": null,
   "id": "8a957eb5",
   "metadata": {},
   "outputs": [],
   "source": [
    "# creating a table from s3\n",
    "\n",
    "query_text = \"\"\"--sql \n",
    "   CREATE TABLE db1.intercoms_st_asgard\n",
    "(\n",
    "    `report_date` Date,\n",
    "    `intercom_uuid` String,\n",
    "    `is_online` Int16,\n",
    "    `last_online` DateTime,\n",
    "    `last_offline` DateTime,\n",
    "    `software_version` String,\n",
    "    `digital_keys_count` Int16,\n",
    "    `device_keys_count` Int16,\n",
    "    `partner_uuid` String,\n",
    "    `flat_range` String\n",
    ")\n",
    "ENGINE = S3('https://storage.yandexcloud.net/dwh-asgard/intercoms_st_asgard/year=*/month=*/*.csv','CSVWithNames')\n",
    "    \"\"\"\n",
    "\n",
    "ch.query_run(query_text)"
   ]
  },
  {
   "cell_type": "code",
   "execution_count": null,
   "id": "ce1398d2",
   "metadata": {},
   "outputs": [],
   "source": [
    "query_text = \"\"\"--sql\n",
    "    CREATE TABLE db1.intercoms_st_asgard_ch\n",
    "(\n",
    "    `report_date` Date,\n",
    "    `intercom_uuid` String,\n",
    "    `is_online` Int16,\n",
    "    `last_online` DateTime,\n",
    "    `last_offline` DateTime,\n",
    "    `software_version` String,\n",
    "    `digital_keys_count` Int16,\n",
    "    `device_keys_count` Int16,\n",
    "    `partner_uuid` String,\n",
    "    `flat_range` String\n",
    ")\n",
    "    ENGINE = MergeTree()\n",
    "    ORDER BY intercom_uuid\n",
    "    \"\"\"\n",
    "\n",
    "ch.query_run(query_text)"
   ]
  },
  {
   "cell_type": "code",
   "execution_count": null,
   "id": "64f5ae08",
   "metadata": {},
   "outputs": [],
   "source": [
    "query_text = \"\"\"--sql\n",
    "    CREATE MATERIALIZED VIEW db1.intercoms_st_asgard_mv\n",
    "    REFRESH EVERY 1 DAY OFFSET 3 HOUR RANDOMIZE FOR 1 HOUR TO db1.intercoms_st_asgard_ch AS\n",
    "    SELECT\n",
    "        *\n",
    "    FROM db1.intercoms_st_asgard\n",
    "    WHERE partner_uuid not like '%main:tokens:%'\n",
    "    \"\"\"\n",
    "\n",
    "ch.query_run(query_text)"
   ]
  },
  {
   "cell_type": "code",
   "execution_count": null,
   "id": "3fb28f36",
   "metadata": {},
   "outputs": [],
   "source": [
    "query_text = \"\"\"--sql\n",
    "SELECT\n",
    "    *\n",
    "FROM db1.intercoms_st_asgard_ch\n",
    "limit 100\n",
    "\n",
    "\"\"\"\n",
    "\n",
    "ch.query_run(query_text)"
   ]
  },
  {
   "cell_type": "markdown",
   "id": "a66bd18e",
   "metadata": {},
   "source": [
    "____\n",
    "\n",
    "## [[flussonic_stats_st_asgard]]\n"
   ]
  },
  {
   "cell_type": "code",
   "execution_count": null,
   "id": "d74b45ad",
   "metadata": {},
   "outputs": [],
   "source": [
    "# creating a table from s3\n",
    "\n",
    "query_text = \"\"\"--sql \n",
    "   CREATE TABLE db1.flussonic_stats_st_asgard\n",
    "(\n",
    "    `report_date` DateTime,\n",
    "    `stream_name` String,\n",
    "    `disabled` String,\n",
    "    `status` String,\n",
    "    `alive` String,\n",
    "    `lifetime` Int64,\n",
    "    `bitrate` Int32,\n",
    "    `agent_status` String,\n",
    "    `server` String,\n",
    "    `dvr_depth` Int16,\n",
    "    `dvr_depth_minute` Int64\n",
    ")\n",
    "ENGINE = S3('https://storage.yandexcloud.net/dwh-asgard/flussonic_stats_st_asgard/year=*/month=*/day=*/*.csv','CSVWithNames')\n",
    "    \"\"\"\n",
    "\n",
    "ch.query_run(query_text)"
   ]
  },
  {
   "cell_type": "code",
   "execution_count": null,
   "id": "ac4fa5f0",
   "metadata": {},
   "outputs": [],
   "source": [
    "query_text = \"\"\"--sql\n",
    "    CREATE TABLE db1.flussonic_stats_st_asgard_ch\n",
    "(\n",
    "    `report_date` DateTime,\n",
    "    `stream_name` String,\n",
    "    `disabled` String,\n",
    "    `status` String,\n",
    "    `alive` String,\n",
    "    `lifetime` Int64,\n",
    "    `bitrate` Int32,\n",
    "    `agent_status` String,\n",
    "    `server` String,\n",
    "    `dvr_depth` Int16,\n",
    "    `dvr_depth_minute` Int64\n",
    ")\n",
    "    ENGINE = MergeTree()\n",
    "    ORDER BY stream_name\n",
    "    \"\"\"\n",
    "\n",
    "ch.query_run(query_text)"
   ]
  },
  {
   "cell_type": "code",
   "execution_count": null,
   "id": "316f1fee",
   "metadata": {},
   "outputs": [],
   "source": [
    "query_text = \"\"\"--sql\n",
    "    CREATE MATERIALIZED VIEW db1.flussonic_stats_st_asgard_mv\n",
    "    REFRESH EVERY 1 DAY OFFSET 3 HOUR RANDOMIZE FOR 1 HOUR TO db1.flussonic_stats_st_asgard_ch AS\n",
    "    SELECT\n",
    "        *\n",
    "    FROM db1.flussonic_stats_st_asgard\n",
    "    \"\"\"\n",
    "\n",
    "ch.query_run(query_text)"
   ]
  },
  {
   "cell_type": "code",
   "execution_count": null,
   "id": "7bbecf15",
   "metadata": {},
   "outputs": [],
   "source": [
    "query_text = \"\"\"--sql\n",
    "SELECT\n",
    "    *\n",
    "FROM db1.flussonic_stats_st_asgard_ch\n",
    "limit 100\n",
    "\n",
    "\"\"\"\n",
    "\n",
    "ch.query_run(query_text)"
   ]
  },
  {
   "cell_type": "markdown",
   "id": "be9d1487",
   "metadata": {},
   "source": [
    "____\n",
    "\n",
    "## [[cameras_daily_percentage_online_st_asgard]]\n"
   ]
  },
  {
   "cell_type": "code",
   "execution_count": null,
   "id": "cf6a7e0e",
   "metadata": {},
   "outputs": [],
   "source": [
    "# creating a table from s3\n",
    "\n",
    "query_text = \"\"\"--sql \n",
    "   CREATE TABLE db1.cameras_daily_percentage_online_st_asgard\n",
    "(\n",
    "    `report_date` Date,\n",
    "    `camera_uuid` String,\n",
    "    `onlinePercent` Int16\n",
    ")\n",
    "ENGINE = S3('https://storage.yandexcloud.net/dwh-asgard/cameras_daily_percentage_online_st_asgard/year=*/month=*/*.csv','CSVWithNames')\n",
    "    \"\"\"\n",
    "\n",
    "ch.query_run(query_text)"
   ]
  },
  {
   "cell_type": "code",
   "execution_count": null,
   "id": "c0c0b99c",
   "metadata": {},
   "outputs": [],
   "source": [
    "query_text = \"\"\"--sql\n",
    "    CREATE TABLE db1.cameras_daily_percentage_online_st_asgard_ch\n",
    "(\n",
    "    `report_date` Date,\n",
    "    `camera_uuid` String,\n",
    "    `onlinePercent` Int16\n",
    ")\n",
    "    ENGINE = MergeTree()\n",
    "    ORDER BY camera_uuid\n",
    "    \"\"\"\n",
    "\n",
    "ch.query_run(query_text)"
   ]
  },
  {
   "cell_type": "code",
   "execution_count": null,
   "id": "bc278242",
   "metadata": {},
   "outputs": [],
   "source": [
    "query_text = \"\"\"--sql\n",
    "    CREATE MATERIALIZED VIEW db1.cameras_daily_percentage_online_st_asgard_mv\n",
    "    REFRESH EVERY 1 DAY OFFSET 3 HOUR RANDOMIZE FOR 1 HOUR TO db1.cameras_daily_percentage_online_st_asgard_ch AS\n",
    "    SELECT\n",
    "        *\n",
    "    FROM db1.cameras_daily_percentage_online_st_asgard\n",
    "    \"\"\"\n",
    "\n",
    "ch.query_run(query_text)"
   ]
  },
  {
   "cell_type": "code",
   "execution_count": null,
   "id": "c55257ab",
   "metadata": {},
   "outputs": [],
   "source": [
    "query_text = \"\"\"--sql\n",
    "SELECT\n",
    "    *\n",
    "FROM db1.cameras_daily_percentage_online_st_asgard_ch\n",
    "limit 100\n",
    "\n",
    "\"\"\"\n",
    "\n",
    "ch.query_run(query_text)"
   ]
  },
  {
   "cell_type": "markdown",
   "id": "6bbf9983",
   "metadata": {},
   "source": [
    "____\n",
    "\n",
    "## [[reconnects_intercoms_st_asgard]]\n"
   ]
  },
  {
   "cell_type": "code",
   "execution_count": null,
   "id": "e8542cf9",
   "metadata": {},
   "outputs": [],
   "source": [
    "# creating a table from s3\n",
    "\n",
    "query_text = \"\"\"--sql \n",
    "   CREATE TABLE db1.reconnects_intercoms_st_asgard\n",
    "(\n",
    "    `report_date` Date,\n",
    "    `intercom_uuid` String,\n",
    "    `count` Int16\n",
    ")\n",
    "ENGINE = S3('https://storage.yandexcloud.net/dwh-asgard/reconnects_intercoms_st_asgard/year=*/month=*/*.csv','CSVWithNames')\n",
    "    \"\"\"\n",
    "\n",
    "ch.query_run(query_text)"
   ]
  },
  {
   "cell_type": "code",
   "execution_count": null,
   "id": "e2780b3f",
   "metadata": {},
   "outputs": [],
   "source": [
    "query_text = \"\"\"--sql\n",
    "    CREATE TABLE db1.reconnects_intercoms_st_asgard_ch\n",
    "(\n",
    "    `report_date` Date,\n",
    "    `intercom_uuid` String,\n",
    "    `count` Int16\n",
    ")\n",
    "    ENGINE = MergeTree()\n",
    "    ORDER BY intercom_uuid\n",
    "    \"\"\"\n",
    "\n",
    "ch.query_run(query_text)"
   ]
  },
  {
   "cell_type": "code",
   "execution_count": null,
   "id": "05b8f8cb",
   "metadata": {},
   "outputs": [],
   "source": [
    "query_text = \"\"\"--sql\n",
    "    CREATE MATERIALIZED VIEW db1.reconnects_intercoms_st_asgard_mv\n",
    "    REFRESH EVERY 1 DAY OFFSET 3 HOUR RANDOMIZE FOR 1 HOUR TO db1.reconnects_intercoms_st_asgard_ch AS\n",
    "    SELECT\n",
    "        *\n",
    "    FROM db1.reconnects_intercoms_st_asgard\n",
    "    \"\"\"\n",
    "\n",
    "ch.query_run(query_text)"
   ]
  },
  {
   "cell_type": "code",
   "execution_count": null,
   "id": "6246311e",
   "metadata": {},
   "outputs": [],
   "source": [
    "query_text = \"\"\"--sql\n",
    "SELECT\n",
    "    *\n",
    "FROM db1.reconnects_intercoms_st_asgard_ch\n",
    "limit 100\n",
    "\n",
    "\"\"\"\n",
    "\n",
    "ch.query_run(query_text)"
   ]
  },
  {
   "cell_type": "markdown",
   "id": "351e7eb8",
   "metadata": {},
   "source": [
    "____\n",
    "\n",
    "## [[intercoms_daily_percentage_online_st_asgard]]\n"
   ]
  },
  {
   "cell_type": "code",
   "execution_count": null,
   "id": "477e9348",
   "metadata": {},
   "outputs": [],
   "source": [
    "# creating a table from s3\n",
    "\n",
    "query_text = \"\"\"--sql \n",
    "   CREATE TABLE db1.intercoms_daily_percentage_online_st_asgard\n",
    "(\n",
    "    `report_date` Date,\n",
    "    `intercom_uuid` String,\n",
    "    `onlinePercent` Int16\n",
    ")\n",
    "ENGINE = S3('https://storage.yandexcloud.net/dwh-asgard/intercoms_daily_percentage_online_st_asgard/year=*/month=*/*.csv','CSVWithNames')\n",
    "    \"\"\"\n",
    "\n",
    "ch.query_run(query_text)"
   ]
  },
  {
   "cell_type": "code",
   "execution_count": null,
   "id": "42ab111c",
   "metadata": {},
   "outputs": [],
   "source": [
    "query_text = \"\"\"--sql\n",
    "    CREATE TABLE db1.intercoms_daily_percentage_online_st_asgard_ch\n",
    "(\n",
    "    `report_date` Date,\n",
    "    `intercom_uuid` String,\n",
    "    `onlinePercent` Int16\n",
    ")\n",
    "    ENGINE = MergeTree()\n",
    "    ORDER BY intercom_uuid\n",
    "    \"\"\"\n",
    "\n",
    "ch.query_run(query_text)"
   ]
  },
  {
   "cell_type": "code",
   "execution_count": null,
   "id": "54a17d8a",
   "metadata": {},
   "outputs": [],
   "source": [
    "query_text = \"\"\"--sql\n",
    "    CREATE MATERIALIZED VIEW db1.intercoms_daily_percentage_online_st_asgard_mv\n",
    "    REFRESH EVERY 1 DAY OFFSET 3 HOUR RANDOMIZE FOR 1 HOUR TO db1.intercoms_daily_percentage_online_st_asgard_ch AS\n",
    "    SELECT\n",
    "        *\n",
    "    FROM db1.intercoms_daily_percentage_online_st_asgard\n",
    "    \"\"\"\n",
    "\n",
    "ch.query_run(query_text)"
   ]
  },
  {
   "cell_type": "code",
   "execution_count": null,
   "id": "afcd7834",
   "metadata": {
    "lines_to_next_cell": 0
   },
   "outputs": [],
   "source": [
    "query_text = \"\"\"--sql\n",
    "SELECT\n",
    "    *\n",
    "FROM db1.intercoms_daily_percentage_online_st_asgard_ch\n",
    "ORDER BY report_date DESC\n",
    "limit 100\n",
    "\n",
    "\"\"\"\n",
    "\n",
    "ch.query_run(query_text)"
   ]
  },
  {
   "cell_type": "markdown",
   "id": "56c50350",
   "metadata": {},
   "source": [
    "\n"
   ]
  },
  {
   "cell_type": "markdown",
   "id": "f8e2c367",
   "metadata": {},
   "source": [
    "____\n",
    "\n",
    "## [[opendoor_types_mobile_st_asgard]]\n"
   ]
  },
  {
   "cell_type": "code",
   "execution_count": null,
   "id": "a2e97570",
   "metadata": {},
   "outputs": [],
   "source": [
    "# creating a table from s3\n",
    "\n",
    "query_text = \"\"\"--sql \n",
    "   CREATE TABLE db1.opendoor_types_mobile_st_asgard\n",
    "(\n",
    "    `report_date` Date,\n",
    "    `opendoor_type` String,\n",
    "    `count` Int16\n",
    ")\n",
    "ENGINE = S3('https://storage.yandexcloud.net/dwh-asgard/opendoor_types_mobile_st_asgard/year=*/month=*/*.csv','CSVWithNames')\n",
    "    \"\"\"\n",
    "\n",
    "ch.query_run(query_text)"
   ]
  },
  {
   "cell_type": "code",
   "execution_count": null,
   "id": "b0e4f547",
   "metadata": {},
   "outputs": [],
   "source": [
    "query_text = \"\"\"--sql\n",
    "    CREATE TABLE db1.opendoor_types_mobile_st_asgard_ch\n",
    "(\n",
    "    `report_date` Date,\n",
    "    `opendoor_type` String,\n",
    "    `count` Int16\n",
    ")\n",
    "    ENGINE = MergeTree()\n",
    "    ORDER BY opendoor_type\n",
    "    \"\"\"\n",
    "\n",
    "ch.query_run(query_text)"
   ]
  },
  {
   "cell_type": "code",
   "execution_count": null,
   "id": "5b74ba43",
   "metadata": {},
   "outputs": [],
   "source": [
    "query_text = \"\"\"--sql\n",
    "    CREATE MATERIALIZED VIEW db1.opendoor_types_mobile_st_asgard_mv\n",
    "    REFRESH EVERY 1 DAY OFFSET 3 HOUR RANDOMIZE FOR 1 HOUR TO db1.opendoor_types_mobile_st_asgard_ch AS\n",
    "    SELECT\n",
    "        *\n",
    "    FROM db1.opendoor_types_mobile_st_asgard\n",
    "    \"\"\"\n",
    "\n",
    "ch.query_run(query_text)"
   ]
  },
  {
   "cell_type": "code",
   "execution_count": null,
   "id": "fc5a0e48",
   "metadata": {},
   "outputs": [],
   "source": [
    "query_text = \"\"\"--sql\n",
    "SELECT\n",
    "    *\n",
    "FROM db1.opendoor_types_mobile_st_asgard_ch\n",
    "ORDER BY report_date DESC\n",
    "limit 100\n",
    "\n",
    "\"\"\"\n",
    "\n",
    "ch.query_run(query_text)"
   ]
  },
  {
   "cell_type": "code",
   "execution_count": null,
   "id": "de304354",
   "metadata": {},
   "outputs": [],
   "source": [
    "query_text = \"\"\"--sql\n",
    "SELECT\n",
    "    DISTINCT\n",
    "    opendoor_type\n",
    "FROM db1.opendoor_types_mobile_st_asgard_ch\n",
    "ORDER BY report_date DESC\n",
    "limit 100\n",
    "\n",
    "\"\"\"\n",
    "\n",
    "ch.query_run(query_text)"
   ]
  },
  {
   "cell_type": "markdown",
   "id": "1d1c79c0",
   "metadata": {},
   "source": [
    "____\n",
    "\n",
    "## [[hex_metrics_parquet_asgard]]\n"
   ]
  },
  {
   "cell_type": "code",
   "execution_count": null,
   "id": "fc2917e5",
   "metadata": {},
   "outputs": [],
   "source": [
    "# creating a table from s3\n",
    "\n",
    "query_text = \"\"\"--sql \n",
    "   CREATE TABLE db1.hex_metrics_parquet_asgard\n",
    "(\n",
    "    `report_date` Date,\n",
    "    `intercom_uuid` String,\n",
    "    `key_hex` String,\n",
    "    `count` Int64\n",
    ")\n",
    "ENGINE = S3('https://storage.yandexcloud.net/dwh-asgard/hex_metrics_parquet_asgard/year=*/month=*/*.parquet','Parquet')\n",
    "    \"\"\"\n",
    "\n",
    "ch.query_run(query_text)"
   ]
  },
  {
   "cell_type": "code",
   "execution_count": null,
   "id": "13d99344",
   "metadata": {},
   "outputs": [],
   "source": [
    "query_text = \"\"\"--sql\n",
    "    CREATE TABLE db1.hex_metrics_parquet_asgard_ch\n",
    "(\n",
    "    `report_date` Date,\n",
    "    `intercom_uuid` String,\n",
    "    `key_hex` String,\n",
    "    `count` Int64\n",
    ")\n",
    "    ENGINE = MergeTree()\n",
    "    ORDER BY intercom_uuid\n",
    "    \"\"\"\n",
    "\n",
    "ch.query_run(query_text)"
   ]
  },
  {
   "cell_type": "code",
   "execution_count": null,
   "id": "940668d8",
   "metadata": {},
   "outputs": [],
   "source": [
    "query_text = \"\"\"--sql\n",
    "    CREATE MATERIALIZED VIEW db1.hex_metrics_parquet_asgard_mv\n",
    "    REFRESH EVERY 1 DAY OFFSET 3 HOUR RANDOMIZE FOR 1 HOUR TO db1.hex_metrics_parquet_asgard_ch AS\n",
    "    SELECT\n",
    "        *\n",
    "    FROM db1.hex_metrics_parquet_asgard\n",
    "    \"\"\"\n",
    "\n",
    "ch.query_run(query_text)"
   ]
  },
  {
   "cell_type": "code",
   "execution_count": null,
   "id": "d71fd102",
   "metadata": {},
   "outputs": [],
   "source": [
    "query_text = \"\"\"--sql\n",
    "SELECT\n",
    "    *\n",
    "FROM db1.hex_metrics_parquet_asgard_ch\n",
    "WHERE report_date = '2025-03-01'\n",
    "ORDER BY report_date DESC\n",
    "limit 100\n",
    "\n",
    "\"\"\"\n",
    "\n",
    "ch.query_run(query_text)"
   ]
  },
  {
   "cell_type": "markdown",
   "id": "13dc5f40",
   "metadata": {},
   "source": [
    "____\n",
    "\n",
    "## [[metrics_all_intercoms_asgard]]\n"
   ]
  },
  {
   "cell_type": "code",
   "execution_count": null,
   "id": "a566851b",
   "metadata": {},
   "outputs": [],
   "source": [
    "# creating a table from s3\n",
    "\n",
    "query_text = \"\"\"--sql \n",
    "   CREATE TABLE db1.metrics_all_intercoms_asgard\n",
    "(\n",
    "    `report_date` Date,\n",
    "    `uuid` String,\n",
    "    `call_stop_type_finish_handset` Int32,\n",
    "    `ring_type_ring_cloud` Int32,\n",
    "    `talk_open_door_type_analog` Int32,\n",
    "    `call_stop_type_cancel_cloud` Int32,\n",
    "    `key_state_valid` Int32,\n",
    "    `ring_cluster_error_type_entrance_offline` Int32,\n",
    "    `connection` Int32,\n",
    "    `ring_type_ring_info` Int32,\n",
    "    `ring_error_type_cancel` Int32,\n",
    "    `call_success_true` Int32,\n",
    "    `digital_key_success_false` Int32,\n",
    "    `key_state_invalid` Int32,\n",
    "    `ring_cluster_error_type_wrong_flat` Int32,\n",
    "    `ring_error_type_cancel_handset` Int32,\n",
    "    `talk_type_sip` Int32,\n",
    "    `call_stop_type_cancel_button` Int32,\n",
    "    `call_success_false` Int32,\n",
    "    `open_door_type_api` Int32,\n",
    "    `call_stop_type_speak_timeout` Int32,\n",
    "    `ring_type_analog` Int32,\n",
    "    `talk_type_analog`  Int32,\n",
    "    `digital_key_success_true` Int32,\n",
    "    `open_door_type_analog` Int32,\n",
    "    `ring_type_sip` Int32,\n",
    "    `talk_type_flat` Int32,\n",
    "    `key_state_auth_err` Int32,\n",
    "    `open_door_type_DTMF` Int32,\n",
    "    `ring_cluster` Int32,\n",
    "    `talk_open_door_type_api` Int32\n",
    ")\n",
    "ENGINE = S3('https://storage.yandexcloud.net/dwh-asgard/metrics_all_intercoms_asgard/year=*/month=*/*.csv','CSVWithNames')\n",
    "    \"\"\"\n",
    "\n",
    "ch.query_run(query_text)"
   ]
  },
  {
   "cell_type": "code",
   "execution_count": null,
   "id": "75d418d1",
   "metadata": {},
   "outputs": [],
   "source": [
    "query_text = \"\"\"--sql\n",
    "    CREATE TABLE db1.metrics_all_intercoms_asgard_ch\n",
    "(\n",
    "    `report_date` Date,\n",
    "    `uuid` String,\n",
    "    `call_stop_type_finish_handset` Int32,\n",
    "    `ring_type_ring_cloud` Int32,\n",
    "    `talk_open_door_type_analog` Int32,\n",
    "    `call_stop_type_cancel_cloud` Int32,\n",
    "    `key_state_valid` Int32,\n",
    "    `ring_cluster_error_type_entrance_offline` Int32,\n",
    "    `connection` Int32,\n",
    "    `ring_type_ring_info` Int32,\n",
    "    `ring_error_type_cancel` Int32,\n",
    "    `call_success_true` Int32,\n",
    "    `digital_key_success_false` Int32,\n",
    "    `key_state_invalid` Int32,\n",
    "    `ring_cluster_error_type_wrong_flat` Int32,\n",
    "    `ring_error_type_cancel_handset` Int32,\n",
    "    `talk_type_sip` Int32,\n",
    "    `call_stop_type_cancel_button` Int32,\n",
    "    `call_success_false` Int32,\n",
    "    `open_door_type_api` Int32,\n",
    "    `call_stop_type_speak_timeout` Int32,\n",
    "    `ring_type_analog` Int32,\n",
    "    `talk_type_analog`  Int32,\n",
    "    `digital_key_success_true` Int32,\n",
    "    `open_door_type_analog` Int32,\n",
    "    `ring_type_sip` Int32,\n",
    "    `talk_type_flat` Int32,\n",
    "    `key_state_auth_err` Int32,\n",
    "    `open_door_type_DTMF` Int32,\n",
    "    `ring_cluster` Int32,\n",
    "    `talk_open_door_type_api` Int32\n",
    ")\n",
    "    ENGINE = MergeTree()\n",
    "    ORDER BY uuid\n",
    "    \"\"\"\n",
    "\n",
    "ch.query_run(query_text)"
   ]
  },
  {
   "cell_type": "code",
   "execution_count": null,
   "id": "fbc17a12",
   "metadata": {},
   "outputs": [],
   "source": [
    "query_text = \"\"\"--sql\n",
    "    CREATE MATERIALIZED VIEW db1.metrics_all_intercoms_asgard_mv\n",
    "    REFRESH EVERY 1 DAY OFFSET 3 HOUR RANDOMIZE FOR 1 HOUR TO db1.metrics_all_intercoms_asgard_ch AS\n",
    "    SELECT\n",
    "        *\n",
    "    FROM db1.metrics_all_intercoms_asgard\n",
    "    \"\"\"\n",
    "\n",
    "ch.query_run(query_text)"
   ]
  },
  {
   "cell_type": "code",
   "execution_count": null,
   "id": "5de432d4",
   "metadata": {},
   "outputs": [],
   "source": [
    "query_text = \"\"\"--sql\n",
    "SELECT\n",
    "    *\n",
    "FROM db1.metrics_all_intercoms_asgard_ch\n",
    "WHERE report_date = '2025-03-01'\n",
    "ORDER BY report_date DESC\n",
    "limit 100\n",
    "\n",
    "\"\"\"\n",
    "\n",
    "ch.query_run(query_text)"
   ]
  },
  {
   "cell_type": "code",
   "execution_count": null,
   "id": "48f5ecdd",
   "metadata": {},
   "outputs": [],
   "source": []
  },
  {
   "cell_type": "markdown",
   "id": "0401e7f3",
   "metadata": {},
   "source": [
    "____\n",
    "\n",
    "## [[metrics_asgard]]\n"
   ]
  },
  {
   "cell_type": "code",
   "execution_count": null,
   "id": "39b74a09",
   "metadata": {},
   "outputs": [],
   "source": [
    "# creating a table from s3\n",
    "\n",
    "query_text = \"\"\"--sql \n",
    "   CREATE TABLE db1.metrics_asgard\n",
    "(\n",
    "    `report_date` Date,\n",
    "    `uuid` String,\n",
    "    `call_stop_type_finish_handset` Int32,\n",
    "    `ring_type_ring_cloud` Int32,\n",
    "    `talk_open_door_type_analog` Int32,\n",
    "    `call_stop_type_cancel_cloud` Int32,\n",
    "    `key_state_valid` Int32,\n",
    "    `ring_cluster_error_type_entrance_offline` Int32,\n",
    "    `connection` Int32,\n",
    "    `ring_type_ring_info` Int32,\n",
    "    `ring_error_type_cancel` Int32,\n",
    "    `call_success_true` Int32,\n",
    "    `digital_key_success_false` Int32,\n",
    "    `key_state_invalid` Int32,\n",
    "    `ring_cluster_error_type_wrong_flat` Int32,\n",
    "    `ring_error_type_cancel_handset` Int32,\n",
    "    `talk_type_sip` Int32,\n",
    "    `call_stop_type_cancel_button` Int32,\n",
    "    `call_success_false` Int32,\n",
    "    `open_door_type_api` Int32,\n",
    "    `call_stop_type_speak_timeout` Int32,\n",
    "    `ring_type_analog` Int32,\n",
    "    `talk_type_analog`  Int32,\n",
    "    `digital_key_success_true` Int32,\n",
    "    `open_door_type_analog` Int32,\n",
    "    `ring_type_sip` Int32,\n",
    "    `talk_type_flat` Int32,\n",
    "    `key_state_auth_err` Int32,\n",
    "    `open_door_type_DTMF` Int32,\n",
    "    `ring_cluster` Int32,\n",
    "    `talk_open_door_type_api` Int32\n",
    ")\n",
    "ENGINE = S3('https://storage.yandexcloud.net/dwh-asgard/metrics_asgard/year=*/month=*/*.csv','CSVWithNames')\n",
    "    \"\"\"\n",
    "\n",
    "ch.query_run(query_text)"
   ]
  },
  {
   "cell_type": "code",
   "execution_count": null,
   "id": "f31c1eef",
   "metadata": {},
   "outputs": [],
   "source": [
    "query_text = \"\"\"--sql\n",
    "    CREATE TABLE db1.metrics_asgard_ch\n",
    "(\n",
    "    `report_date` Date,\n",
    "    `uuid` String,\n",
    "    `call_stop_type_finish_handset` Int32,\n",
    "    `ring_type_ring_cloud` Int32,\n",
    "    `talk_open_door_type_analog` Int32,\n",
    "    `call_stop_type_cancel_cloud` Int32,\n",
    "    `key_state_valid` Int32,\n",
    "    `ring_cluster_error_type_entrance_offline` Int32,\n",
    "    `connection` Int32,\n",
    "    `ring_type_ring_info` Int32,\n",
    "    `ring_error_type_cancel` Int32,\n",
    "    `call_success_true` Int32,\n",
    "    `digital_key_success_false` Int32,\n",
    "    `key_state_invalid` Int32,\n",
    "    `ring_cluster_error_type_wrong_flat` Int32,\n",
    "    `ring_error_type_cancel_handset` Int32,\n",
    "    `talk_type_sip` Int32,\n",
    "    `call_stop_type_cancel_button` Int32,\n",
    "    `call_success_false` Int32,\n",
    "    `open_door_type_api` Int32,\n",
    "    `call_stop_type_speak_timeout` Int32,\n",
    "    `ring_type_analog` Int32,\n",
    "    `talk_type_analog`  Int32,\n",
    "    `digital_key_success_true` Int32,\n",
    "    `open_door_type_analog` Int32,\n",
    "    `ring_type_sip` Int32,\n",
    "    `talk_type_flat` Int32,\n",
    "    `key_state_auth_err` Int32,\n",
    "    `open_door_type_DTMF` Int32,\n",
    "    `ring_cluster` Int32,\n",
    "    `talk_open_door_type_api` Int32\n",
    ")\n",
    "    ENGINE = MergeTree()\n",
    "    ORDER BY uuid\n",
    "    \"\"\"\n",
    "\n",
    "ch.query_run(query_text)"
   ]
  },
  {
   "cell_type": "code",
   "execution_count": null,
   "id": "e5cdd33e",
   "metadata": {},
   "outputs": [],
   "source": [
    "query_text = \"\"\"--sql\n",
    "    CREATE MATERIALIZED VIEW db1.metrics_asgard_mv\n",
    "    REFRESH EVERY 1 DAY OFFSET 3 HOUR RANDOMIZE FOR 1 HOUR TO db1.metrics_asgard_ch AS\n",
    "    SELECT\n",
    "        *\n",
    "    FROM db1.metrics_asgard\n",
    "    \"\"\"\n",
    "\n",
    "ch.query_run(query_text)"
   ]
  },
  {
   "cell_type": "code",
   "execution_count": null,
   "id": "c351e304",
   "metadata": {
    "lines_to_next_cell": 0
   },
   "outputs": [],
   "source": [
    "query_text = \"\"\"--sql\n",
    "SELECT\n",
    "    *\n",
    "FROM db1.metrics_asgard_ch\n",
    "WHERE report_date = '2025-03-01'\n",
    "ORDER BY report_date DESC\n",
    "limit 100\n",
    "\n",
    "\"\"\"\n",
    "\n",
    "ch.query_run(query_text)"
   ]
  },
  {
   "cell_type": "markdown",
   "id": "55f5ff94",
   "metadata": {},
   "source": [
    "____\n",
    "## [[all_installetion_points_parquet]]\n",
    "\n",
    "\n",
    "\n"
   ]
  },
  {
   "cell_type": "markdown",
   "id": "04404661",
   "metadata": {},
   "source": [
    "бакет aggregated-data"
   ]
  },
  {
   "cell_type": "code",
   "execution_count": null,
   "id": "2b60b2aa",
   "metadata": {},
   "outputs": [],
   "source": [
    "query_text = \"\"\"--sql\n",
    "CREATE TABLE db1.all_installetion_points_parquet\n",
    "(\n",
    "    `address_uuid` String,\n",
    "    `city` String,\n",
    "    `country` String,\n",
    "    `created_at` String,\n",
    "    `full_address` String,\n",
    "    `installation_point_id` Int32,\n",
    "    `parent_uuid` String ,\n",
    "    `region` String,\n",
    "    `report_date` Date\n",
    ")\n",
    "\n",
    "ENGINE = S3('https://storage.yandexcloud.net/aggregated-data/all_installetion_points_parquet/year=*/month=*/day=*/*.parquet','parquet')\n",
    "\"\"\"\n",
    "\n",
    "ch.query_run(query_text)"
   ]
  },
  {
   "cell_type": "code",
   "execution_count": null,
   "id": "83349670",
   "metadata": {},
   "outputs": [],
   "source": [
    "csjue85puvc1ihvk38v4_0_3Y3oRgr8BUOStQmzePNR6Ux1JZ9SIpFr.parquet"
   ]
  },
  {
   "cell_type": "code",
   "execution_count": null,
   "id": "b0adf115",
   "metadata": {},
   "outputs": [],
   "source": [
    "query_text=\"\"\"--sql\n",
    "SELECT * FROM db1.all_installetion_points_parquet\n",
    "limit 10\n",
    "\"\"\"\n",
    "ch.query_run(query_text)"
   ]
  },
  {
   "cell_type": "code",
   "execution_count": null,
   "id": "d2c8961b",
   "metadata": {},
   "outputs": [],
   "source": [
    "query_text = \"\"\"--sql\n",
    "CREATE TABLE db1.all_installetion_points_parquet_ch\n",
    "    (\n",
    "    `address_uuid` String,\n",
    "    `city` String,\n",
    "    `country` String,\n",
    "    `created_at` String,\n",
    "    `full_address` String,\n",
    "    `installation_point_id` Int32,\n",
    "    `parent_uuid` String ,\n",
    "    `region` String,\n",
    "    `report_date` Date\n",
    "    )\n",
    "    ENGINE = MergeTree()\n",
    "    ORDER BY installation_point_id\n",
    "\"\"\"\n",
    "\n",
    "ch.query_run(query_text)"
   ]
  },
  {
   "cell_type": "code",
   "execution_count": null,
   "id": "800b9ea9",
   "metadata": {},
   "outputs": [],
   "source": [
    "query_text = \"\"\"--sql\n",
    "    CREATE MATERIALIZED VIEW db1.all_installetion_points_parquet_mv\n",
    "    REFRESH EVERY 1 DAY OFFSET 4 HOUR TO db1.all_installetion_points_parquet_ch AS\n",
    "    SELECT\n",
    "        `address_uuid` String,\n",
    "        `city` String,\n",
    "        `country` String,\n",
    "        `created_at` String,\n",
    "        `full_address` String,\n",
    "        `installation_point_id` Int32,\n",
    "        `parent_uuid` String ,\n",
    "        `region` String,\n",
    "        `report_date` Date\n",
    "    FROM db1.all_installetion_points_parquet\n",
    "    \"\"\"\n",
    "\n",
    "ch.query_run(query_text)"
   ]
  },
  {
   "cell_type": "code",
   "execution_count": null,
   "id": "2c48edaa",
   "metadata": {},
   "outputs": [],
   "source": [
    "query_text = \"\"\"--sql\n",
    "    SELECT\n",
    "        *\n",
    "    FROM db1.all_installetion_points_parquet_ch\n",
    "    limit 10\n",
    "    \"\"\"\n",
    "\n",
    "ch.query_run(query_text)"
   ]
  },
  {
   "cell_type": "code",
   "execution_count": null,
   "id": "8a19197c",
   "metadata": {},
   "outputs": [],
   "source": [
    "query_text = \"\"\"\n",
    "SYSTEM REFRESH VIEW db1.all_installetion_points_parquet_mv\n",
    "\"\"\"\n",
    "\n",
    "ch.query_run(query_text)"
   ]
  },
  {
   "cell_type": "code",
   "execution_count": null,
   "id": "01eb8014",
   "metadata": {},
   "outputs": [],
   "source": [
    "query_text = \"\"\"\n",
    "DROP TABLE db1.all_installetion_points_parquet_mv\n",
    "\"\"\"\n",
    "\n",
    "ch.query_run(query_text)"
   ]
  }
 ],
 "metadata": {
  "jupytext": {
   "formats": "ipynb,md"
  },
  "kernelspec": {
   "display_name": "myenv",
   "language": "python",
   "name": "python3"
  },
  "language_info": {
   "codemirror_mode": {
    "name": "ipython",
    "version": 3
   },
   "file_extension": ".py",
   "mimetype": "text/x-python",
   "name": "python",
   "nbconvert_exporter": "python",
   "pygments_lexer": "ipython3",
   "version": "3.12.11"
  }
 },
 "nbformat": 4,
 "nbformat_minor": 5
}

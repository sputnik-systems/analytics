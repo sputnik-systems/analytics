{
 "cells": [
  {
   "cell_type": "markdown",
   "id": "2c68bf63",
   "metadata": {},
   "source": [
    "## Start"
   ]
  },
  {
   "cell_type": "code",
   "execution_count": null,
   "id": "9971a17c",
   "metadata": {},
   "outputs": [],
   "source": [
    "import clickhouse_connect\n",
    "import datetime\n",
    "import os\n",
    "import pytz\n",
    "import pandas as pd\n",
    "from dateutil.relativedelta import relativedelta\n",
    "from dotenv import load_dotenv\n",
    "\n",
    "import sys\n",
    "sys.path.append('/home/boris/Documents/Work/analytics/Clickhouse')\n",
    "from clickhouse_client import ClickHouse_client\n",
    "ch = ClickHouse_client()\n",
    "pd.set_option('display.max_rows', 1000)\n",
    "\n"
   ]
  },
  {
   "cell_type": "markdown",
   "id": "cc4058da",
   "metadata": {},
   "source": [
    "___\n",
    "## Drop the Table"
   ]
  },
  {
   "cell_type": "code",
   "execution_count": null,
   "id": "ad954511",
   "metadata": {},
   "outputs": [],
   "source": [
    "query_text = \"\"\"\n",
    "    DROP TABLE db1.sessions_st_mobile_mv\n",
    "    \"\"\"\n",
    "ch.query_run(query_text)"
   ]
  },
  {
   "cell_type": "markdown",
   "id": "c9a83047",
   "metadata": {},
   "source": [
    "___\n",
    "\n",
    "## Refreshing the data"
   ]
  },
  {
   "cell_type": "code",
   "execution_count": null,
   "id": "6650a60a",
   "metadata": {},
   "outputs": [],
   "source": [
    "query_text = \"\"\"\n",
    "SYSTEM REFRESH VIEW db1.sessions_st_mobile_mv\n",
    "\"\"\"\n",
    "\n",
    "ch.query_run(query_text)"
   ]
  },
  {
   "cell_type": "markdown",
   "id": "1f87181e",
   "metadata": {},
   "source": [
    "___\n",
    "## Change refresh time"
   ]
  },
  {
   "cell_type": "code",
   "execution_count": null,
   "id": "c2fafb59",
   "metadata": {},
   "outputs": [],
   "source": [
    "query_text = \"\"\"\n",
    "ALTER TABLE db1.companies_st_partner_mv\n",
    "MODIFY REFRESH EVERY 1 DAY OFFSET 4 HOUR RANDOMIZE FOR 1 HOUR;\n",
    "\"\"\"\n",
    "\n",
    "ch.query_run(query_text)"
   ]
  },
  {
   "cell_type": "markdown",
   "id": "f75f3e0b",
   "metadata": {},
   "source": [
    "___\n",
    "\n",
    "## Show all tables"
   ]
  },
  {
   "cell_type": "code",
   "execution_count": null,
   "id": "bd8bf2ef",
   "metadata": {},
   "outputs": [],
   "source": [
    "query_text = \"\"\"--sql\n",
    "    SHOW TABLES FROM db1\n",
    "\"\"\"\n",
    "df = ch.query_run(query_text)\n"
   ]
  },
  {
   "cell_type": "markdown",
   "id": "09bd1d1d",
   "metadata": {},
   "source": [
    "____\n",
    "\n",
    "### Partner"
   ]
  },
  {
   "cell_type": "markdown",
   "id": "b853a096",
   "metadata": {},
   "source": [
    "[[uk_addresses_partner]]\n",
    "\n",
    "[[users_st_partner]]\n",
    "\n",
    "[[uk_addresses_st_partner]]\n",
    "\n",
    "[[uk_dir_partner]]\n",
    "\n",
    "[[uk_st_partner]]\n",
    "\n",
    "[[flats_dir_partner]]\n",
    "\n",
    "[[flats_st_partner]]\n",
    "\n",
    "[[entries_installation_points_dir_partner]]\n",
    "\n",
    "[[installation_point_st_partner]]\n",
    "\n",
    "[[buildings_st_partner]]\n",
    "\n",
    "[[gates_st_partner]]\n",
    "\n",
    "[[accruals_dir_partner]]\n",
    "\n",
    "[[billing_orders_dir_partner]]\n",
    "\n",
    "[[billing_orders_devices_st_partner]]\n",
    "\n",
    "[[companies_dir_partner]]\n",
    "\n",
    "[[companies_st_partner]]\n",
    "\n",
    "[[service_history_dir_partner]]\n",
    "\n",
    "[[cameras_st_partner]]\n",
    "\n",
    "[[cameras_dir_partner]]\n",
    "\n",
    "[[intercoms_st_partner]]\n",
    "\n",
    "[[intercoms_dir_partner]]\n",
    "\n",
    "[[all_installetion_points_parquet]]"
   ]
  },
  {
   "cell_type": "markdown",
   "id": "c6c02dd3",
   "metadata": {},
   "source": [
    "___\n",
    "### Asgard\n"
   ]
  },
  {
   "cell_type": "markdown",
   "id": "4211c8fe",
   "metadata": {},
   "source": [
    "[[no_video_on_stream_mobile_st_asgard]]\n",
    "\n",
    "[[cameras_dir_asgard]]\n",
    "\n",
    "[[cameras_st_asgard]]\n",
    "\n",
    "[[intercoms_dir_asgard]]\n",
    "\n",
    "[[intercoms_st_asgard]]\n",
    "\n",
    "[[flussonic_stats_st_asgard]]\n",
    "\n",
    "[[cameras_daily_percentage_online_st_asgard]]\n",
    "\n",
    "[[intercoms_daily_percentage_online_st_asgard]]\n",
    "\n",
    "[[reconnects_intercoms_st_asgard]]\n",
    "\n",
    "[[hex_metrics_parquet_asgard]]\n",
    "\n",
    "[[opendoor_types_mobile_st_asgard]]\n",
    "\n",
    "[[metrics_all_intercoms_asgard]]\n",
    "\n",
    "[[metrics_asgard]]"
   ]
  },
  {
   "cell_type": "markdown",
   "id": "a4fddc2d",
   "metadata": {},
   "source": [
    "___\n",
    "### Mobile"
   ]
  },
  {
   "cell_type": "markdown",
   "id": "bb96fc2a",
   "metadata": {},
   "source": [
    "[[entries_st_mobile]]\n",
    "\n",
    "[[citizen_payments_st_mobile]]\n",
    "\n",
    "[[sessions_st_mobile]]\n",
    "\n",
    "[[subscriptions_st_mobile]]\n",
    "\n",
    "[[citizens_st_mobile]]\n",
    "\n",
    "[[citizens_dir_mobile]]\n",
    "\n",
    "[[citizen_payments_dir_mobile]]"
   ]
  },
  {
   "cell_type": "markdown",
   "id": "e0c8fae2",
   "metadata": {},
   "source": [
    "___\n",
    "\n",
    "### Modified sources"
   ]
  },
  {
   "cell_type": "markdown",
   "id": "55f5ff94",
   "metadata": {},
   "source": [
    "[[all_installetion_points_parquet]]"
   ]
  },
  {
   "cell_type": "markdown",
   "id": "e887dbf6",
   "metadata": {},
   "source": [
    "___\n",
    "\n",
    "### Support"
   ]
  },
  {
   "cell_type": "markdown",
   "id": "9f7bed67",
   "metadata": {},
   "source": [
    "[[requests_st_support]]\n",
    "\n",
    "[[categories_st_support]]\n",
    "\n",
    "[[categories_sc_support]]"
   ]
  }
 ],
 "metadata": {
  "jupytext": {
   "formats": "ipynb,md"
  },
  "kernelspec": {
   "display_name": "myenv",
   "language": "python",
   "name": "python3"
  },
  "language_info": {
   "codemirror_mode": {
    "name": "ipython",
    "version": 3
   },
   "file_extension": ".py",
   "mimetype": "text/x-python",
   "name": "python",
   "nbconvert_exporter": "python",
   "pygments_lexer": "ipython3",
   "version": "3.12.11"
  }
 },
 "nbformat": 4,
 "nbformat_minor": 5
}

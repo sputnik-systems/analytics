{
 "cells": [
  {
   "cell_type": "markdown",
   "id": "78348470",
   "metadata": {},
   "source": [
    "## Start"
   ]
  },
  {
   "cell_type": "code",
   "execution_count": null,
   "id": "40bbc9e5",
   "metadata": {},
   "outputs": [],
   "source": [
    "import clickhouse_connect\n",
    "import datetime\n",
    "import os\n",
    "import pytz\n",
    "import pandas as pd\n",
    "from dateutil.relativedelta import relativedelta\n",
    "from dotenv import load_dotenv\n",
    "\n",
    "import sys\n",
    "sys.path.append('/home/boris/Documents/Work/analytics/Clickhouse')\n",
    "from clickhouse_client import ClickHouse_client\n",
    "ch = ClickHouse_client()\n",
    "pd.set_option('display.max_rows', 1000)\n",
    "\n"
   ]
  },
  {
   "cell_type": "markdown",
   "id": "525d46b7",
   "metadata": {},
   "source": [
    "___\n",
    "### Tags: #Source #ModifiedSources\n",
    "\n",
    "### Links: \n",
    "___"
   ]
  },
  {
   "cell_type": "code",
   "execution_count": 6,
   "id": "1708b5b9",
   "metadata": {},
   "outputs": [
    {
     "data": {
      "text/html": [
       "<div>\n",
       "<style scoped>\n",
       "    .dataframe tbody tr th:only-of-type {\n",
       "        vertical-align: middle;\n",
       "    }\n",
       "\n",
       "    .dataframe tbody tr th {\n",
       "        vertical-align: top;\n",
       "    }\n",
       "\n",
       "    .dataframe thead th {\n",
       "        text-align: right;\n",
       "    }\n",
       "</style>\n",
       "<table border=\"1\" class=\"dataframe\">\n",
       "  <thead>\n",
       "    <tr style=\"text-align: right;\">\n",
       "      <th></th>\n",
       "    </tr>\n",
       "  </thead>\n",
       "  <tbody>\n",
       "  </tbody>\n",
       "</table>\n",
       "</div>"
      ],
      "text/plain": [
       "Empty DataFrame\n",
       "Columns: []\n",
       "Index: []"
      ]
     },
     "execution_count": 6,
     "metadata": {},
     "output_type": "execute_result"
    }
   ],
   "source": [
    "query_text = \"\"\"--sql\n",
    "CREATE TABLE db1.all_installetion_points_parquet\n",
    "(\n",
    "    `report_date` Date,\n",
    "    `address_uuid` String,\n",
    "    `city` String,\n",
    "    `country` String,\n",
    "    `region` String,\n",
    "    `created_at` String,\n",
    "    `full_address` String,\n",
    "    `parent_uuid` String,\n",
    "    `installation_point_id` String\n",
    ")\n",
    "ENGINE = S3(\n",
    "    'https://storage.yandexcloud.net/aggregated-data/all_installetion_points_parquet/year=*/month=*/day=*/*.parquet',\n",
    "    'Parquet'\n",
    ")\n",
    "\"\"\"\n",
    "\n",
    "ch.query_run(query_text)"
   ]
  },
  {
   "cell_type": "code",
   "execution_count": null,
   "id": "fd813b4c",
   "metadata": {},
   "outputs": [],
   "source": [
    "    CAST(`report_date` AS DATE) AS `report_date`,\n",
    "    CAST(`address_uuid` AS UTF8) AS `address_uuid`,\n",
    "    CAST(`city` AS UTF8) AS `city`,\n",
    "    CAST(`country` AS UTF8) AS `country`,\n",
    "    CAST(`region` AS UTF8) AS `region`,\n",
    "    CAST(`created_at` AS UTF8) AS `created_at`,\n",
    "    CAST(`full_address` AS UTF8) AS `full_address`,\n",
    "    CAST(`parent_uuid` AS UTF8) AS `parent_uuid`,\n",
    "    CAST(`installation_point_id` AS UTF8) AS `installation_point_id`,"
   ]
  },
  {
   "cell_type": "code",
   "execution_count": 8,
   "id": "5580f933",
   "metadata": {},
   "outputs": [
    {
     "data": {
      "text/html": [
       "<div>\n",
       "<style scoped>\n",
       "    .dataframe tbody tr th:only-of-type {\n",
       "        vertical-align: middle;\n",
       "    }\n",
       "\n",
       "    .dataframe tbody tr th {\n",
       "        vertical-align: top;\n",
       "    }\n",
       "\n",
       "    .dataframe thead th {\n",
       "        text-align: right;\n",
       "    }\n",
       "</style>\n",
       "<table border=\"1\" class=\"dataframe\">\n",
       "  <thead>\n",
       "    <tr style=\"text-align: right;\">\n",
       "      <th></th>\n",
       "    </tr>\n",
       "  </thead>\n",
       "  <tbody>\n",
       "  </tbody>\n",
       "</table>\n",
       "</div>"
      ],
      "text/plain": [
       "Empty DataFrame\n",
       "Columns: []\n",
       "Index: []"
      ]
     },
     "execution_count": 8,
     "metadata": {},
     "output_type": "execute_result"
    }
   ],
   "source": [
    "query_text = \"\"\"--sql\n",
    "CREATE TABLE db1.all_installetion_points_parquet_ch\n",
    "    (\n",
    "    `report_date` Date,\n",
    "    `address_uuid` String,\n",
    "    `city` String,\n",
    "    `country` String,\n",
    "    `region` String,\n",
    "    `created_at` String,\n",
    "    `full_address` String,\n",
    "    `parent_uuid` String,\n",
    "    `installation_point_id` Int32\n",
    "    )\n",
    "    ENGINE = MergeTree()\n",
    "    ORDER BY installation_point_id\n",
    "\"\"\"\n",
    "\n",
    "ch.query_run(query_text)"
   ]
  },
  {
   "cell_type": "code",
   "execution_count": null,
   "id": "649b9261",
   "metadata": {},
   "outputs": [],
   "source": [
    "query_text = \"\"\"--sql\n",
    "    CREATE MATERIALIZED VIEW db1.all_installetion_points_parquet_mv\n",
    "    REFRESH EVERY 1 DAY OFFSET 4 HOUR TO db1.all_installetion_points_parquet_ch AS\n",
    "    SELECT\n",
    "        *\n",
    "    FROM db1.all_installetion_points_parquet\n",
    "    \"\"\"\n",
    "\n",
    "ch.query_run(query_text)"
   ]
  },
  {
   "cell_type": "markdown",
   "id": "a47e7483",
   "metadata": {},
   "source": [
    "___\n",
    "## Tools\n",
    "___\n",
    "### query\n"
   ]
  },
  {
   "cell_type": "code",
   "execution_count": 9,
   "id": "23c84188",
   "metadata": {},
   "outputs": [
    {
     "data": {
      "text/html": [
       "<div>\n",
       "<style scoped>\n",
       "    .dataframe tbody tr th:only-of-type {\n",
       "        vertical-align: middle;\n",
       "    }\n",
       "\n",
       "    .dataframe tbody tr th {\n",
       "        vertical-align: top;\n",
       "    }\n",
       "\n",
       "    .dataframe thead th {\n",
       "        text-align: right;\n",
       "    }\n",
       "</style>\n",
       "<table border=\"1\" class=\"dataframe\">\n",
       "  <thead>\n",
       "    <tr style=\"text-align: right;\">\n",
       "      <th></th>\n",
       "      <th>report_date</th>\n",
       "      <th>address_uuid</th>\n",
       "      <th>city</th>\n",
       "      <th>country</th>\n",
       "      <th>region</th>\n",
       "      <th>created_at</th>\n",
       "      <th>full_address</th>\n",
       "      <th>parent_uuid</th>\n",
       "      <th>installation_point_id</th>\n",
       "    </tr>\n",
       "  </thead>\n",
       "  <tbody>\n",
       "    <tr>\n",
       "      <th>0</th>\n",
       "      <td>2025-09-14</td>\n",
       "      <td>71f30258-c9fd-466c-a263-ac779c2fd3c3</td>\n",
       "      <td>рабочий посёлок Вычегодский</td>\n",
       "      <td>Россия</td>\n",
       "      <td>Архангельская область</td>\n",
       "      <td>2023-02-22 13:52:35</td>\n",
       "      <td>Россия, Архангельская область, муниципальное о...</td>\n",
       "      <td>0ec23d35-2389-4825-97c8-7684ee1ec9df</td>\n",
       "      <td>493771</td>\n",
       "    </tr>\n",
       "    <tr>\n",
       "      <th>1</th>\n",
       "      <td>2025-09-14</td>\n",
       "      <td>f972c26a-d6f8-40d7-bb89-2809de94a1ba</td>\n",
       "      <td>Тольятти</td>\n",
       "      <td>Россия</td>\n",
       "      <td>Самарская область</td>\n",
       "      <td>2025-03-20 12:22:35</td>\n",
       "      <td>Россия, Самарская область, городской округ Тол...</td>\n",
       "      <td>fa611d41-57e3-409f-bfe8-10a020979412</td>\n",
       "      <td>926332</td>\n",
       "    </tr>\n",
       "    <tr>\n",
       "      <th>2</th>\n",
       "      <td>2025-09-14</td>\n",
       "      <td>cf9a30ce-9e14-42f6-82f4-b537b8f56825</td>\n",
       "      <td>Тюмень</td>\n",
       "      <td>Россия</td>\n",
       "      <td>Тюменская область</td>\n",
       "      <td>2025-07-21 07:04:41</td>\n",
       "      <td>Россия, Тюменская область, городской округ Тюм...</td>\n",
       "      <td>808342e6-4f92-4a85-be96-82d3b1bd0418</td>\n",
       "      <td>1038752</td>\n",
       "    </tr>\n",
       "    <tr>\n",
       "      <th>3</th>\n",
       "      <td>2025-09-14</td>\n",
       "      <td>7c68a652-17a3-4ac7-8ef9-1d70130e4b34</td>\n",
       "      <td>Владивосток</td>\n",
       "      <td>Россия</td>\n",
       "      <td>Приморский край</td>\n",
       "      <td>2021-05-24 11:21:24</td>\n",
       "      <td>Россия, Приморский край, Владивостокский город...</td>\n",
       "      <td>7dd94897-3e46-4363-96f9-0edc02cf0cff</td>\n",
       "      <td>129120</td>\n",
       "    </tr>\n",
       "    <tr>\n",
       "      <th>4</th>\n",
       "      <td>2025-09-14</td>\n",
       "      <td>abbfc21f-8005-44c9-a678-f2bdfacdf614</td>\n",
       "      <td>Казань</td>\n",
       "      <td>Россия</td>\n",
       "      <td>Республика Татарстан (Татарстан)</td>\n",
       "      <td>2025-01-13 09:35:47</td>\n",
       "      <td>Россия, Республика Татарстан (Татарстан), горо...</td>\n",
       "      <td>1954d293-8479-451c-b247-3fd3b0c1492c</td>\n",
       "      <td>887197</td>\n",
       "    </tr>\n",
       "    <tr>\n",
       "      <th>5</th>\n",
       "      <td>2025-09-14</td>\n",
       "      <td>958ade87-e58c-4f7a-a6c1-40dc76710026</td>\n",
       "      <td>Краснодар</td>\n",
       "      <td>Россия</td>\n",
       "      <td>Краснодарский край</td>\n",
       "      <td>2021-06-25 13:38:24</td>\n",
       "      <td>Россия, Краснодарский край, муниципальное обра...</td>\n",
       "      <td>973c9d71-53c5-4af5-8a88-e3796ec3007a</td>\n",
       "      <td>143443</td>\n",
       "    </tr>\n",
       "    <tr>\n",
       "      <th>6</th>\n",
       "      <td>2025-09-14</td>\n",
       "      <td>81ed38af-4a60-4b17-8def-aa2ef8dfca4c</td>\n",
       "      <td>Иваново</td>\n",
       "      <td>Россия</td>\n",
       "      <td>Ивановская область</td>\n",
       "      <td>2020-01-22 06:26:36</td>\n",
       "      <td>Россия, Ивановская область, городской округ Ив...</td>\n",
       "      <td>6be68774-19ef-4cd3-b749-c9f69ceb8c70</td>\n",
       "      <td>6622</td>\n",
       "    </tr>\n",
       "    <tr>\n",
       "      <th>7</th>\n",
       "      <td>2025-09-14</td>\n",
       "      <td>8dcf7d0f-5c2b-46b8-98c1-7d810b355f84</td>\n",
       "      <td>Калининград</td>\n",
       "      <td>Россия</td>\n",
       "      <td>Калининградская область</td>\n",
       "      <td>2022-05-25 08:17:06</td>\n",
       "      <td>Россия, Калининградская область, городской окр...</td>\n",
       "      <td>47edad87-08ad-4c3f-b531-8269cba086b1</td>\n",
       "      <td>345990</td>\n",
       "    </tr>\n",
       "    <tr>\n",
       "      <th>8</th>\n",
       "      <td>2025-09-14</td>\n",
       "      <td>04de5446-c24d-4ed4-82bc-c1a9f69ffc32</td>\n",
       "      <td>Стерлитамак</td>\n",
       "      <td>Россия</td>\n",
       "      <td>Республика Башкортостан</td>\n",
       "      <td>2022-03-23 13:25:48</td>\n",
       "      <td>Россия, Республика Башкортостан, городской окр...</td>\n",
       "      <td>b45457ab-14e2-42bc-ad36-e009b918d8a1</td>\n",
       "      <td>305458</td>\n",
       "    </tr>\n",
       "    <tr>\n",
       "      <th>9</th>\n",
       "      <td>2025-09-14</td>\n",
       "      <td>699800bd-6012-4737-9b2c-118193d1a3bf</td>\n",
       "      <td>Иваново</td>\n",
       "      <td>Россия</td>\n",
       "      <td>Ивановская область</td>\n",
       "      <td>2022-05-31 06:45:32</td>\n",
       "      <td>Россия, Ивановская область, городской округ Ив...</td>\n",
       "      <td>99e21d9a-fb43-49fc-8587-25a921e36722</td>\n",
       "      <td>349285</td>\n",
       "    </tr>\n",
       "  </tbody>\n",
       "</table>\n",
       "</div>"
      ],
      "text/plain": [
       "  report_date                          address_uuid  \\\n",
       "0  2025-09-14  71f30258-c9fd-466c-a263-ac779c2fd3c3   \n",
       "1  2025-09-14  f972c26a-d6f8-40d7-bb89-2809de94a1ba   \n",
       "2  2025-09-14  cf9a30ce-9e14-42f6-82f4-b537b8f56825   \n",
       "3  2025-09-14  7c68a652-17a3-4ac7-8ef9-1d70130e4b34   \n",
       "4  2025-09-14  abbfc21f-8005-44c9-a678-f2bdfacdf614   \n",
       "5  2025-09-14  958ade87-e58c-4f7a-a6c1-40dc76710026   \n",
       "6  2025-09-14  81ed38af-4a60-4b17-8def-aa2ef8dfca4c   \n",
       "7  2025-09-14  8dcf7d0f-5c2b-46b8-98c1-7d810b355f84   \n",
       "8  2025-09-14  04de5446-c24d-4ed4-82bc-c1a9f69ffc32   \n",
       "9  2025-09-14  699800bd-6012-4737-9b2c-118193d1a3bf   \n",
       "\n",
       "                          city country                            region  \\\n",
       "0  рабочий посёлок Вычегодский  Россия             Архангельская область   \n",
       "1                     Тольятти  Россия                 Самарская область   \n",
       "2                       Тюмень  Россия                 Тюменская область   \n",
       "3                  Владивосток  Россия                   Приморский край   \n",
       "4                       Казань  Россия  Республика Татарстан (Татарстан)   \n",
       "5                    Краснодар  Россия                Краснодарский край   \n",
       "6                      Иваново  Россия                Ивановская область   \n",
       "7                  Калининград  Россия           Калининградская область   \n",
       "8                  Стерлитамак  Россия           Республика Башкортостан   \n",
       "9                      Иваново  Россия                Ивановская область   \n",
       "\n",
       "            created_at                                       full_address  \\\n",
       "0  2023-02-22 13:52:35  Россия, Архангельская область, муниципальное о...   \n",
       "1  2025-03-20 12:22:35  Россия, Самарская область, городской округ Тол...   \n",
       "2  2025-07-21 07:04:41  Россия, Тюменская область, городской округ Тюм...   \n",
       "3  2021-05-24 11:21:24  Россия, Приморский край, Владивостокский город...   \n",
       "4  2025-01-13 09:35:47  Россия, Республика Татарстан (Татарстан), горо...   \n",
       "5  2021-06-25 13:38:24  Россия, Краснодарский край, муниципальное обра...   \n",
       "6  2020-01-22 06:26:36  Россия, Ивановская область, городской округ Ив...   \n",
       "7  2022-05-25 08:17:06  Россия, Калининградская область, городской окр...   \n",
       "8  2022-03-23 13:25:48  Россия, Республика Башкортостан, городской окр...   \n",
       "9  2022-05-31 06:45:32  Россия, Ивановская область, городской округ Ив...   \n",
       "\n",
       "                            parent_uuid installation_point_id  \n",
       "0  0ec23d35-2389-4825-97c8-7684ee1ec9df                493771  \n",
       "1  fa611d41-57e3-409f-bfe8-10a020979412                926332  \n",
       "2  808342e6-4f92-4a85-be96-82d3b1bd0418               1038752  \n",
       "3  7dd94897-3e46-4363-96f9-0edc02cf0cff                129120  \n",
       "4  1954d293-8479-451c-b247-3fd3b0c1492c                887197  \n",
       "5  973c9d71-53c5-4af5-8a88-e3796ec3007a                143443  \n",
       "6  6be68774-19ef-4cd3-b749-c9f69ceb8c70                  6622  \n",
       "7  47edad87-08ad-4c3f-b531-8269cba086b1                345990  \n",
       "8  b45457ab-14e2-42bc-ad36-e009b918d8a1                305458  \n",
       "9  99e21d9a-fb43-49fc-8587-25a921e36722                349285  "
      ]
     },
     "execution_count": 9,
     "metadata": {},
     "output_type": "execute_result"
    }
   ],
   "source": [
    "query_text = \"\"\"--sql\n",
    "    SELECT\n",
    "        *\n",
    "    FROM db1.all_installetion_points_parquet\n",
    "    ORDER BY report_date desc\n",
    "    limit 10\n",
    "    \"\"\"\n",
    "\n",
    "ch.query_run(query_text)\n"
   ]
  },
  {
   "cell_type": "markdown",
   "id": "f2e8f4ec",
   "metadata": {},
   "source": [
    "### delete a part\n"
   ]
  },
  {
   "cell_type": "code",
   "execution_count": null,
   "id": "92ac18f4",
   "metadata": {},
   "outputs": [],
   "source": [
    "query_text = \"\"\"--sql\n",
    "    ALTER TABLE db1.all_installetion_points_parquet_ch DELETE WHERE report_date = '2025-07-17'\n",
    "    \"\"\"\n",
    "\n",
    "ch.query_run(query_text)\n"
   ]
  },
  {
   "cell_type": "markdown",
   "id": "da4dbb2c",
   "metadata": {},
   "source": [
    "### drop mv"
   ]
  },
  {
   "cell_type": "code",
   "execution_count": 5,
   "id": "30be885f",
   "metadata": {
    "lines_to_next_cell": 2
   },
   "outputs": [
    {
     "data": {
      "text/html": [
       "<div>\n",
       "<style scoped>\n",
       "    .dataframe tbody tr th:only-of-type {\n",
       "        vertical-align: middle;\n",
       "    }\n",
       "\n",
       "    .dataframe tbody tr th {\n",
       "        vertical-align: top;\n",
       "    }\n",
       "\n",
       "    .dataframe thead th {\n",
       "        text-align: right;\n",
       "    }\n",
       "</style>\n",
       "<table border=\"1\" class=\"dataframe\">\n",
       "  <thead>\n",
       "    <tr style=\"text-align: right;\">\n",
       "      <th></th>\n",
       "    </tr>\n",
       "  </thead>\n",
       "  <tbody>\n",
       "  </tbody>\n",
       "</table>\n",
       "</div>"
      ],
      "text/plain": [
       "Empty DataFrame\n",
       "Columns: []\n",
       "Index: []"
      ]
     },
     "execution_count": 5,
     "metadata": {},
     "output_type": "execute_result"
    }
   ],
   "source": [
    "query_text = \"\"\"--sql\n",
    "    DROP TABLE db1.all_installetion_points_parquet\n",
    "    \"\"\"\n",
    "\n",
    "ch.query_run(query_text)"
   ]
  },
  {
   "cell_type": "markdown",
   "id": "81c4f25d",
   "metadata": {},
   "source": [
    "### drop ch"
   ]
  },
  {
   "cell_type": "code",
   "execution_count": 7,
   "id": "5bb8ce5e",
   "metadata": {},
   "outputs": [
    {
     "data": {
      "text/html": [
       "<div>\n",
       "<style scoped>\n",
       "    .dataframe tbody tr th:only-of-type {\n",
       "        vertical-align: middle;\n",
       "    }\n",
       "\n",
       "    .dataframe tbody tr th {\n",
       "        vertical-align: top;\n",
       "    }\n",
       "\n",
       "    .dataframe thead th {\n",
       "        text-align: right;\n",
       "    }\n",
       "</style>\n",
       "<table border=\"1\" class=\"dataframe\">\n",
       "  <thead>\n",
       "    <tr style=\"text-align: right;\">\n",
       "      <th></th>\n",
       "    </tr>\n",
       "  </thead>\n",
       "  <tbody>\n",
       "  </tbody>\n",
       "</table>\n",
       "</div>"
      ],
      "text/plain": [
       "Empty DataFrame\n",
       "Columns: []\n",
       "Index: []"
      ]
     },
     "execution_count": 7,
     "metadata": {},
     "output_type": "execute_result"
    }
   ],
   "source": [
    "query_text = \"\"\"--sql\n",
    "    DROP TABLE db1.all_installetion_points_parquet_ch\n",
    "    \"\"\"\n",
    "\n",
    "ch.query_run(query_text)"
   ]
  },
  {
   "cell_type": "markdown",
   "id": "e37af6f7",
   "metadata": {},
   "source": [
    "### refresh mv"
   ]
  },
  {
   "cell_type": "code",
   "execution_count": null,
   "id": "d1053b57",
   "metadata": {},
   "outputs": [],
   "source": [
    "query_text = \"\"\"\n",
    "SYSTEM REFRESH VIEW db1.all_installetion_points_parquet_mv\n",
    "\"\"\"\n",
    "\n",
    "ch.query_run(query_text)"
   ]
  }
 ],
 "metadata": {
  "jupytext": {
   "formats": "ipynb,md"
  },
  "kernelspec": {
   "display_name": "myenv",
   "language": "python",
   "name": "python3"
  },
  "language_info": {
   "codemirror_mode": {
    "name": "ipython",
    "version": 3
   },
   "file_extension": ".py",
   "mimetype": "text/x-python",
   "name": "python",
   "nbconvert_exporter": "python",
   "pygments_lexer": "ipython3",
   "version": "3.13.7"
  }
 },
 "nbformat": 4,
 "nbformat_minor": 5
}

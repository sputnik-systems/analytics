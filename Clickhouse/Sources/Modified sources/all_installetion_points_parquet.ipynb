{
 "cells": [
  {
   "cell_type": "markdown",
   "id": "78348470",
   "metadata": {},
   "source": [
    "## Start"
   ]
  },
  {
   "cell_type": "code",
   "execution_count": 4,
   "id": "40bbc9e5",
   "metadata": {},
   "outputs": [],
   "source": [
    "import clickhouse_connect\n",
    "import datetime\n",
    "import os\n",
    "import pytz\n",
    "import pandas as pd\n",
    "from dateutil.relativedelta import relativedelta\n",
    "from dotenv import load_dotenv\n",
    "\n",
    "import sys\n",
    "sys.path.append('/home/boris/Documents/Work/analytics/Clickhouse')\n",
    "from clickhouse_client import ClickHouse_client\n",
    "ch = ClickHouse_client()\n",
    "pd.set_option('display.max_rows', 1000)\n",
    "\n"
   ]
  },
  {
   "cell_type": "markdown",
   "id": "525d46b7",
   "metadata": {},
   "source": [
    "___\n",
    "### Tags: #Source #ModifiedSources\n",
    "\n",
    "### Links: \n",
    "___"
   ]
  },
  {
   "cell_type": "code",
   "execution_count": 2,
   "id": "1708b5b9",
   "metadata": {},
   "outputs": [
    {
     "ename": "DatabaseError",
     "evalue": "HTTPDriver for https://rc1a-eflrt968scbm232q.mdb.yandexcloud.net:8443 received ClickHouse error code 57\n Code: 57. DB::Exception: Table db1.all_installetion_points_parquet already exists. (TABLE_ALREADY_EXISTS) (version 25.3.3.42 (official build))\n",
     "output_type": "error",
     "traceback": [
      "\u001b[31m---------------------------------------------------------------------------\u001b[39m",
      "\u001b[31mDatabaseError\u001b[39m                             Traceback (most recent call last)",
      "\u001b[36mCell\u001b[39m\u001b[36m \u001b[39m\u001b[32mIn[2]\u001b[39m\u001b[32m, line 18\u001b[39m\n\u001b[32m      1\u001b[39m query_text = \u001b[33m\"\"\"\u001b[39m\u001b[33m--sql\u001b[39m\n\u001b[32m      2\u001b[39m \u001b[33mCREATE TABLE db1.all_installetion_points_parquet\u001b[39m\n\u001b[32m      3\u001b[39m \u001b[33m(\u001b[39m\n\u001b[32m   (...)\u001b[39m\u001b[32m     15\u001b[39m \u001b[33mENGINE = S3(\u001b[39m\u001b[33m'\u001b[39m\u001b[33mhttps://storage.yandexcloud.net/aggregated-data/all_installetion_points_parquet/year=*/month=*/day=*/*.parquet\u001b[39m\u001b[33m'\u001b[39m\u001b[33m,\u001b[39m\u001b[33m'\u001b[39m\u001b[33mparquet\u001b[39m\u001b[33m'\u001b[39m\u001b[33m)\u001b[39m\n\u001b[32m     16\u001b[39m \u001b[33m\"\"\"\u001b[39m\n\u001b[32m---> \u001b[39m\u001b[32m18\u001b[39m \u001b[43mch\u001b[49m\u001b[43m.\u001b[49m\u001b[43mquery_run\u001b[49m\u001b[43m(\u001b[49m\u001b[43mquery_text\u001b[49m\u001b[43m)\u001b[49m\n",
      "\u001b[36mFile \u001b[39m\u001b[32m~/Documents/Work/analytics/Clickhouse/clickhouse_client.py:29\u001b[39m, in \u001b[36mClickHouse_client.query_run\u001b[39m\u001b[34m(self, query_text)\u001b[39m\n\u001b[32m     27\u001b[39m \u001b[38;5;28;01mdef\u001b[39;00m\u001b[38;5;250m \u001b[39m\u001b[34mquery_run\u001b[39m (\u001b[38;5;28mself\u001b[39m, query_text):\n\u001b[32m     28\u001b[39m     query_text = query_text\n\u001b[32m---> \u001b[39m\u001b[32m29\u001b[39m     result = \u001b[38;5;28;43mself\u001b[39;49m\u001b[43m.\u001b[49m\u001b[43mclient\u001b[49m\u001b[43m.\u001b[49m\u001b[43mquery\u001b[49m\u001b[43m(\u001b[49m\u001b[43mquery_text\u001b[49m\u001b[43m)\u001b[49m\n\u001b[32m     30\u001b[39m     \u001b[38;5;28mself\u001b[39m.df = pd.DataFrame(result.result_rows, columns=result.column_names)\n\u001b[32m     31\u001b[39m     \u001b[38;5;66;03m# self.df = pl.DataFrame(result.result_rows, schema=result.column_names)\u001b[39;00m\n",
      "\u001b[36mFile \u001b[39m\u001b[32m~/myenv/lib/python3.12/site-packages/clickhouse_connect/driver/client.py:237\u001b[39m, in \u001b[36mClient.query\u001b[39m\u001b[34m(self, query, parameters, settings, query_formats, column_formats, encoding, use_none, column_oriented, use_numpy, max_str_len, context, query_tz, column_tzs, external_data, transport_settings)\u001b[39m\n\u001b[32m    235\u001b[39m         \u001b[38;5;28;01mreturn\u001b[39;00m response.as_query_result()\n\u001b[32m    236\u001b[39m     \u001b[38;5;28;01mreturn\u001b[39;00m QueryResult([response] \u001b[38;5;28;01mif\u001b[39;00m \u001b[38;5;28misinstance\u001b[39m(response, \u001b[38;5;28mlist\u001b[39m) \u001b[38;5;28;01melse\u001b[39;00m [[response]])\n\u001b[32m--> \u001b[39m\u001b[32m237\u001b[39m \u001b[38;5;28;01mreturn\u001b[39;00m \u001b[38;5;28;43mself\u001b[39;49m\u001b[43m.\u001b[49m\u001b[43m_query_with_context\u001b[49m\u001b[43m(\u001b[49m\u001b[43mquery_context\u001b[49m\u001b[43m)\u001b[49m\n",
      "\u001b[36mFile \u001b[39m\u001b[32m~/myenv/lib/python3.12/site-packages/clickhouse_connect/driver/httpclient.py:243\u001b[39m, in \u001b[36mHttpClient._query_with_context\u001b[39m\u001b[34m(self, context)\u001b[39m\n\u001b[32m    241\u001b[39m     fields = \u001b[38;5;28;01mNone\u001b[39;00m\n\u001b[32m    242\u001b[39m     headers[\u001b[33m'\u001b[39m\u001b[33mContent-Type\u001b[39m\u001b[33m'\u001b[39m] = \u001b[33m'\u001b[39m\u001b[33mtext/plain; charset=utf-8\u001b[39m\u001b[33m'\u001b[39m\n\u001b[32m--> \u001b[39m\u001b[32m243\u001b[39m response = \u001b[38;5;28;43mself\u001b[39;49m\u001b[43m.\u001b[49m\u001b[43m_raw_request\u001b[49m\u001b[43m(\u001b[49m\u001b[43mbody\u001b[49m\u001b[43m,\u001b[49m\n\u001b[32m    244\u001b[39m \u001b[43m                             \u001b[49m\u001b[43mparams\u001b[49m\u001b[43m,\u001b[49m\n\u001b[32m    245\u001b[39m \u001b[43m                             \u001b[49m\u001b[43mdict_copy\u001b[49m\u001b[43m(\u001b[49m\u001b[43mheaders\u001b[49m\u001b[43m,\u001b[49m\u001b[43m \u001b[49m\u001b[43mcontext\u001b[49m\u001b[43m.\u001b[49m\u001b[43mtransport_settings\u001b[49m\u001b[43m)\u001b[49m\u001b[43m,\u001b[49m\n\u001b[32m    246\u001b[39m \u001b[43m                             \u001b[49m\u001b[43mstream\u001b[49m\u001b[43m=\u001b[49m\u001b[38;5;28;43;01mTrue\u001b[39;49;00m\u001b[43m,\u001b[49m\n\u001b[32m    247\u001b[39m \u001b[43m                             \u001b[49m\u001b[43mretries\u001b[49m\u001b[43m=\u001b[49m\u001b[38;5;28;43mself\u001b[39;49m\u001b[43m.\u001b[49m\u001b[43mquery_retries\u001b[49m\u001b[43m,\u001b[49m\n\u001b[32m    248\u001b[39m \u001b[43m                             \u001b[49m\u001b[43mfields\u001b[49m\u001b[43m=\u001b[49m\u001b[43mfields\u001b[49m\u001b[43m,\u001b[49m\n\u001b[32m    249\u001b[39m \u001b[43m                             \u001b[49m\u001b[43mserver_wait\u001b[49m\u001b[43m=\u001b[49m\u001b[38;5;129;43;01mnot\u001b[39;49;00m\u001b[43m \u001b[49m\u001b[43mcontext\u001b[49m\u001b[43m.\u001b[49m\u001b[43mstreaming\u001b[49m\u001b[43m)\u001b[49m\n\u001b[32m    250\u001b[39m byte_source = RespBuffCls(ResponseSource(response))  \u001b[38;5;66;03m# pylint: disable=not-callable\u001b[39;00m\n\u001b[32m    251\u001b[39m context.set_response_tz(\u001b[38;5;28mself\u001b[39m._check_tz_change(response.headers.get(\u001b[33m'\u001b[39m\u001b[33mX-ClickHouse-Timezone\u001b[39m\u001b[33m'\u001b[39m)))\n",
      "\u001b[36mFile \u001b[39m\u001b[32m~/myenv/lib/python3.12/site-packages/clickhouse_connect/driver/httpclient.py:481\u001b[39m, in \u001b[36mHttpClient._raw_request\u001b[39m\u001b[34m(self, data, params, headers, method, retries, stream, server_wait, fields, error_handler)\u001b[39m\n\u001b[32m    479\u001b[39m     error_handler(response)\n\u001b[32m    480\u001b[39m \u001b[38;5;28;01melse\u001b[39;00m:\n\u001b[32m--> \u001b[39m\u001b[32m481\u001b[39m     \u001b[38;5;28;43mself\u001b[39;49m\u001b[43m.\u001b[49m\u001b[43m_error_handler\u001b[49m\u001b[43m(\u001b[49m\u001b[43mresponse\u001b[49m\u001b[43m)\u001b[49m\n",
      "\u001b[36mFile \u001b[39m\u001b[32m~/myenv/lib/python3.12/site-packages/clickhouse_connect/driver/httpclient.py:402\u001b[39m, in \u001b[36mHttpClient._error_handler\u001b[39m\u001b[34m(self, response, retried)\u001b[39m\n\u001b[32m    399\u001b[39m \u001b[38;5;28;01melse\u001b[39;00m:\n\u001b[32m    400\u001b[39m     err_str = \u001b[33m'\u001b[39m\u001b[33mThe ClickHouse server returned an error.\u001b[39m\u001b[33m'\u001b[39m\n\u001b[32m--> \u001b[39m\u001b[32m402\u001b[39m \u001b[38;5;28;01mraise\u001b[39;00m OperationalError(err_str) \u001b[38;5;28;01mif\u001b[39;00m retried \u001b[38;5;28;01melse\u001b[39;00m DatabaseError(err_str) \u001b[38;5;28;01mfrom\u001b[39;00m\u001b[38;5;250m \u001b[39m\u001b[38;5;28;01mNone\u001b[39;00m\n",
      "\u001b[31mDatabaseError\u001b[39m: HTTPDriver for https://rc1a-eflrt968scbm232q.mdb.yandexcloud.net:8443 received ClickHouse error code 57\n Code: 57. DB::Exception: Table db1.all_installetion_points_parquet already exists. (TABLE_ALREADY_EXISTS) (version 25.3.3.42 (official build))\n"
     ]
    }
   ],
   "source": [
    "query_text = \"\"\"--sql\n",
    "CREATE TABLE db1.all_installetion_points_parquet\n",
    "(\n",
    "    `address_uuid` String,\n",
    "    `city` String,\n",
    "    `country` String,\n",
    "    `created_at` String,\n",
    "    `full_address` String,\n",
    "    `installation_point_id` Int32,\n",
    "    `parent_uuid` String ,\n",
    "    `region` String,\n",
    "    `report_date` Date\n",
    ")\n",
    "\n",
    "ENGINE = S3('https://storage.yandexcloud.net/aggregated-data/all_installetion_points_parquet/year=*/month=*/day=*/*.parquet','parquet')\n",
    "\"\"\"\n",
    "\n",
    "ch.query_run(query_text)"
   ]
  },
  {
   "cell_type": "code",
   "execution_count": 3,
   "id": "5580f933",
   "metadata": {},
   "outputs": [
    {
     "data": {
      "text/html": [
       "<div><style>\n",
       ".dataframe > thead > tr,\n",
       ".dataframe > tbody > tr {\n",
       "  text-align: right;\n",
       "  white-space: pre-wrap;\n",
       "}\n",
       "</style>\n",
       "<small>shape: (0, 0)</small><table border=\"1\" class=\"dataframe\"><thead><tr></tr><tr></tr></thead><tbody></tbody></table></div>"
      ],
      "text/plain": [
       "shape: (0, 0)\n",
       "┌┐\n",
       "╞╡\n",
       "└┘"
      ]
     },
     "execution_count": 3,
     "metadata": {},
     "output_type": "execute_result"
    }
   ],
   "source": [
    "query_text = \"\"\"--sql\n",
    "CREATE TABLE db1.all_installetion_points_parquet_ch\n",
    "    (\n",
    "    `address_uuid` String,\n",
    "    `city` String,\n",
    "    `country` String,\n",
    "    `created_at` String,\n",
    "    `full_address` String,\n",
    "    `installation_point_id` Int32,\n",
    "    `parent_uuid` String ,\n",
    "    `region` String,\n",
    "    `report_date` Date\n",
    "    )\n",
    "    ENGINE = MergeTree()\n",
    "    ORDER BY installation_point_id\n",
    "\"\"\"\n",
    "\n",
    "ch.query_run(query_text)"
   ]
  },
  {
   "cell_type": "code",
   "execution_count": 6,
   "id": "649b9261",
   "metadata": {},
   "outputs": [
    {
     "data": {
      "text/html": [
       "<div><style>\n",
       ".dataframe > thead > tr,\n",
       ".dataframe > tbody > tr {\n",
       "  text-align: right;\n",
       "  white-space: pre-wrap;\n",
       "}\n",
       "</style>\n",
       "<small>shape: (0, 0)</small><table border=\"1\" class=\"dataframe\"><thead><tr></tr><tr></tr></thead><tbody></tbody></table></div>"
      ],
      "text/plain": [
       "shape: (0, 0)\n",
       "┌┐\n",
       "╞╡\n",
       "└┘"
      ]
     },
     "execution_count": 6,
     "metadata": {},
     "output_type": "execute_result"
    }
   ],
   "source": [
    "query_text = \"\"\"--sql\n",
    "    CREATE MATERIALIZED VIEW db1.all_installetion_points_parquet_mv\n",
    "    REFRESH EVERY 1 DAY OFFSET 4 HOUR TO db1.all_installetion_points_parquet_ch AS\n",
    "    SELECT\n",
    "        *\n",
    "    FROM db1.all_installetion_points_parquet\n",
    "    \"\"\"\n",
    "\n",
    "ch.query_run(query_text)"
   ]
  },
  {
   "cell_type": "markdown",
   "id": "a47e7483",
   "metadata": {},
   "source": [
    "___\n",
    "## Tools\n",
    "___\n",
    "### query\n"
   ]
  },
  {
   "cell_type": "code",
   "execution_count": 7,
   "id": "23c84188",
   "metadata": {},
   "outputs": [
    {
     "data": {
      "text/html": [
       "<div><style>\n",
       ".dataframe > thead > tr,\n",
       ".dataframe > tbody > tr {\n",
       "  text-align: right;\n",
       "  white-space: pre-wrap;\n",
       "}\n",
       "</style>\n",
       "<small>shape: (100, 9)</small><table border=\"1\" class=\"dataframe\"><thead><tr><th>address_uuid</th><th>city</th><th>country</th><th>created_at</th><th>full_address</th><th>installation_point_id</th><th>parent_uuid</th><th>region</th><th>report_date</th></tr><tr><td>str</td><td>str</td><td>str</td><td>str</td><td>str</td><td>i64</td><td>str</td><td>str</td><td>date</td></tr></thead><tbody><tr><td>&quot;1b1f70ec-711d-4f8c-8e53-28ceb5…</td><td>&quot;Кемерово&quot;</td><td>&quot;Россия&quot;</td><td>&quot;2020-03-05 08:53:57&quot;</td><td>&quot;Россия, Кемеровская область, К…</td><td>11534</td><td>&quot;ae5ff81e-d66d-4c67-a7f7-adb684…</td><td>&quot;Кемеровская область&quot;</td><td>2025-08-18</td></tr><tr><td>&quot;7aff594a-148c-4e68-b517-817046…</td><td>&quot;Нефтекамск&quot;</td><td>&quot;Россия&quot;</td><td>&quot;2020-02-18 07:00:56&quot;</td><td>&quot;Россия, Республика Башкортоста…</td><td>11547</td><td>&quot;76a45a98-1de7-4441-a35b-b35b62…</td><td>&quot;Республика Башкортостан&quot;</td><td>2025-08-18</td></tr><tr><td>&quot;0a645af4-5bb1-4a7a-bd35-88ec2a…</td><td>&quot;Нефтекамск&quot;</td><td>&quot;Россия&quot;</td><td>&quot;2020-02-17 07:54:49&quot;</td><td>&quot;Россия, Республика Башкортоста…</td><td>11547</td><td>&quot;76a45a98-1de7-4441-a35b-b35b62…</td><td>&quot;Республика Башкортостан&quot;</td><td>2025-08-18</td></tr><tr><td>&quot;ab239616-cabb-42c0-93b8-a7df4b…</td><td>&quot;Нефтекамск&quot;</td><td>&quot;Россия&quot;</td><td>&quot;2020-02-18 05:20:22&quot;</td><td>&quot;Россия, Республика Башкортоста…</td><td>11547</td><td>&quot;76a45a98-1de7-4441-a35b-b35b62…</td><td>&quot;Республика Башкортостан&quot;</td><td>2025-08-18</td></tr><tr><td>&quot;e1e23342-add5-4f19-b68f-672338…</td><td>&quot;Нефтекамск&quot;</td><td>&quot;Россия&quot;</td><td>&quot;2020-02-18 06:42:24&quot;</td><td>&quot;Россия, Республика Башкортоста…</td><td>11547</td><td>&quot;76a45a98-1de7-4441-a35b-b35b62…</td><td>&quot;Республика Башкортостан&quot;</td><td>2025-08-18</td></tr><tr><td>&hellip;</td><td>&hellip;</td><td>&hellip;</td><td>&hellip;</td><td>&hellip;</td><td>&hellip;</td><td>&hellip;</td><td>&hellip;</td><td>&hellip;</td></tr><tr><td>&quot;513b611a-1a5e-4da0-9f46-a1b49f…</td><td>&quot;Кумертау&quot;</td><td>&quot;Россия&quot;</td><td>&quot;2020-03-13 16:05:34&quot;</td><td>&quot;Россия, Республика Башкортоста…</td><td>12701</td><td>&quot;87713a2e-8aee-4582-8308-55d79d…</td><td>&quot;Республика Башкортостан&quot;</td><td>2025-08-18</td></tr><tr><td>&quot;e532509d-5c05-48d2-be4a-76bb52…</td><td>&quot;Калининград&quot;</td><td>&quot;Россия&quot;</td><td>&quot;2020-03-12 11:14:21&quot;</td><td>&quot;Россия, Калининградская област…</td><td>12438</td><td>&quot;05e84ff8-e7b9-4c98-89b3-50d038…</td><td>&quot;Калининградская область&quot;</td><td>2025-08-18</td></tr><tr><td>&quot;cfbd6c16-2ee6-4d61-a653-890278…</td><td>&quot;Кемерово&quot;</td><td>&quot;Россия&quot;</td><td>&quot;2020-03-13 02:52:20&quot;</td><td>&quot;Россия, Кемеровская область, К…</td><td>12520</td><td>&quot;3bc8bb50-bbcb-4fa7-8536-ccd401…</td><td>&quot;Кемеровская область&quot;</td><td>2025-08-18</td></tr><tr><td>&quot;abb40167-27ca-4ead-b930-63362f…</td><td>&quot;Нефтекамск&quot;</td><td>&quot;Россия&quot;</td><td>&quot;2020-03-13 05:19:21&quot;</td><td>&quot;Россия, Республика Башкортоста…</td><td>12532</td><td>&quot;c09f608d-0cd1-4484-85a5-e32de3…</td><td>&quot;Республика Башкортостан&quot;</td><td>2025-08-18</td></tr><tr><td>&quot;67713fb7-7b71-4cb1-ba9d-7a1534…</td><td>&quot;Одесса&quot;</td><td>&quot;Украина&quot;</td><td>&quot;2020-03-12 13:09:51&quot;</td><td>&quot;Украина, Одесская область, Оде…</td><td>12459</td><td>&quot;d030e80b-da10-4da4-b1f1-e091a1…</td><td>&quot;Одесская область&quot;</td><td>2025-08-18</td></tr></tbody></table></div>"
      ],
      "text/plain": [
       "shape: (100, 9)\n",
       "┌────────────┬───────────┬─────────┬───────────┬───┬───────────┬───────────┬───────────┬───────────┐\n",
       "│ address_uu ┆ city      ┆ country ┆ created_a ┆ … ┆ installat ┆ parent_uu ┆ region    ┆ report_da │\n",
       "│ id         ┆ ---       ┆ ---     ┆ t         ┆   ┆ ion_point ┆ id        ┆ ---       ┆ te        │\n",
       "│ ---        ┆ str       ┆ str     ┆ ---       ┆   ┆ _id       ┆ ---       ┆ str       ┆ ---       │\n",
       "│ str        ┆           ┆         ┆ str       ┆   ┆ ---       ┆ str       ┆           ┆ date      │\n",
       "│            ┆           ┆         ┆           ┆   ┆ i64       ┆           ┆           ┆           │\n",
       "╞════════════╪═══════════╪═════════╪═══════════╪═══╪═══════════╪═══════════╪═══════════╪═══════════╡\n",
       "│ 1b1f70ec-7 ┆ Кемерово  ┆ Россия  ┆ 2020-03-0 ┆ … ┆ 11534     ┆ ae5ff81e- ┆ Кемеровск ┆ 2025-08-1 │\n",
       "│ 11d-4f8c-8 ┆           ┆         ┆ 5         ┆   ┆           ┆ d66d-4c67 ┆ ая        ┆ 8         │\n",
       "│ e53-28ceb5 ┆           ┆         ┆ 08:53:57  ┆   ┆           ┆ -a7f7-adb ┆ область   ┆           │\n",
       "│ …          ┆           ┆         ┆           ┆   ┆           ┆ 684…      ┆           ┆           │\n",
       "│ 7aff594a-1 ┆ Нефтекамс ┆ Россия  ┆ 2020-02-1 ┆ … ┆ 11547     ┆ 76a45a98- ┆ Республик ┆ 2025-08-1 │\n",
       "│ 48c-4e68-b ┆ к         ┆         ┆ 8         ┆   ┆           ┆ 1de7-4441 ┆ а Башкорт ┆ 8         │\n",
       "│ 517-817046 ┆           ┆         ┆ 07:00:56  ┆   ┆           ┆ -a35b-b35 ┆ остан     ┆           │\n",
       "│ …          ┆           ┆         ┆           ┆   ┆           ┆ b62…      ┆           ┆           │\n",
       "│ 0a645af4-5 ┆ Нефтекамс ┆ Россия  ┆ 2020-02-1 ┆ … ┆ 11547     ┆ 76a45a98- ┆ Республик ┆ 2025-08-1 │\n",
       "│ bb1-4a7a-b ┆ к         ┆         ┆ 7         ┆   ┆           ┆ 1de7-4441 ┆ а Башкорт ┆ 8         │\n",
       "│ d35-88ec2a ┆           ┆         ┆ 07:54:49  ┆   ┆           ┆ -a35b-b35 ┆ остан     ┆           │\n",
       "│ …          ┆           ┆         ┆           ┆   ┆           ┆ b62…      ┆           ┆           │\n",
       "│ ab239616-c ┆ Нефтекамс ┆ Россия  ┆ 2020-02-1 ┆ … ┆ 11547     ┆ 76a45a98- ┆ Республик ┆ 2025-08-1 │\n",
       "│ abb-42c0-9 ┆ к         ┆         ┆ 8         ┆   ┆           ┆ 1de7-4441 ┆ а Башкорт ┆ 8         │\n",
       "│ 3b8-a7df4b ┆           ┆         ┆ 05:20:22  ┆   ┆           ┆ -a35b-b35 ┆ остан     ┆           │\n",
       "│ …          ┆           ┆         ┆           ┆   ┆           ┆ b62…      ┆           ┆           │\n",
       "│ e1e23342-a ┆ Нефтекамс ┆ Россия  ┆ 2020-02-1 ┆ … ┆ 11547     ┆ 76a45a98- ┆ Республик ┆ 2025-08-1 │\n",
       "│ dd5-4f19-b ┆ к         ┆         ┆ 8         ┆   ┆           ┆ 1de7-4441 ┆ а Башкорт ┆ 8         │\n",
       "│ 68f-672338 ┆           ┆         ┆ 06:42:24  ┆   ┆           ┆ -a35b-b35 ┆ остан     ┆           │\n",
       "│ …          ┆           ┆         ┆           ┆   ┆           ┆ b62…      ┆           ┆           │\n",
       "│ …          ┆ …         ┆ …       ┆ …         ┆ … ┆ …         ┆ …         ┆ …         ┆ …         │\n",
       "│ 513b611a-1 ┆ Кумертау  ┆ Россия  ┆ 2020-03-1 ┆ … ┆ 12701     ┆ 87713a2e- ┆ Республик ┆ 2025-08-1 │\n",
       "│ a5e-4da0-9 ┆           ┆         ┆ 3         ┆   ┆           ┆ 8aee-4582 ┆ а Башкорт ┆ 8         │\n",
       "│ f46-a1b49f ┆           ┆         ┆ 16:05:34  ┆   ┆           ┆ -8308-55d ┆ остан     ┆           │\n",
       "│ …          ┆           ┆         ┆           ┆   ┆           ┆ 79d…      ┆           ┆           │\n",
       "│ e532509d-5 ┆ Калинингр ┆ Россия  ┆ 2020-03-1 ┆ … ┆ 12438     ┆ 05e84ff8- ┆ Калинингр ┆ 2025-08-1 │\n",
       "│ c05-48d2-b ┆ ад        ┆         ┆ 2         ┆   ┆           ┆ e7b9-4c98 ┆ адская    ┆ 8         │\n",
       "│ e4a-76bb52 ┆           ┆         ┆ 11:14:21  ┆   ┆           ┆ -89b3-50d ┆ область   ┆           │\n",
       "│ …          ┆           ┆         ┆           ┆   ┆           ┆ 038…      ┆           ┆           │\n",
       "│ cfbd6c16-2 ┆ Кемерово  ┆ Россия  ┆ 2020-03-1 ┆ … ┆ 12520     ┆ 3bc8bb50- ┆ Кемеровск ┆ 2025-08-1 │\n",
       "│ ee6-4d61-a ┆           ┆         ┆ 3         ┆   ┆           ┆ bbcb-4fa7 ┆ ая        ┆ 8         │\n",
       "│ 653-890278 ┆           ┆         ┆ 02:52:20  ┆   ┆           ┆ -8536-ccd ┆ область   ┆           │\n",
       "│ …          ┆           ┆         ┆           ┆   ┆           ┆ 401…      ┆           ┆           │\n",
       "│ abb40167-2 ┆ Нефтекамс ┆ Россия  ┆ 2020-03-1 ┆ … ┆ 12532     ┆ c09f608d- ┆ Республик ┆ 2025-08-1 │\n",
       "│ 7ca-4ead-b ┆ к         ┆         ┆ 3         ┆   ┆           ┆ 0cd1-4484 ┆ а Башкорт ┆ 8         │\n",
       "│ 930-63362f ┆           ┆         ┆ 05:19:21  ┆   ┆           ┆ -85a5-e32 ┆ остан     ┆           │\n",
       "│ …          ┆           ┆         ┆           ┆   ┆           ┆ de3…      ┆           ┆           │\n",
       "│ 67713fb7-7 ┆ Одесса    ┆ Украина ┆ 2020-03-1 ┆ … ┆ 12459     ┆ d030e80b- ┆ Одесская  ┆ 2025-08-1 │\n",
       "│ b71-4cb1-b ┆           ┆         ┆ 2         ┆   ┆           ┆ da10-4da4 ┆ область   ┆ 8         │\n",
       "│ a9d-7a1534 ┆           ┆         ┆ 13:09:51  ┆   ┆           ┆ -b1f1-e09 ┆           ┆           │\n",
       "│ …          ┆           ┆         ┆           ┆   ┆           ┆ 1a1…      ┆           ┆           │\n",
       "└────────────┴───────────┴─────────┴───────────┴───┴───────────┴───────────┴───────────┴───────────┘"
      ]
     },
     "execution_count": 7,
     "metadata": {},
     "output_type": "execute_result"
    }
   ],
   "source": [
    "query_text = \"\"\"--sql\n",
    "    SELECT\n",
    "        *\n",
    "    FROM db1.all_installetion_points_parquet_ch\n",
    "    ORDER BY report_date desc\n",
    "    limit 100\n",
    "    \"\"\"\n",
    "\n",
    "ch.query_run(query_text)\n"
   ]
  },
  {
   "cell_type": "markdown",
   "id": "f2e8f4ec",
   "metadata": {},
   "source": [
    "### delete a part\n"
   ]
  },
  {
   "cell_type": "code",
   "execution_count": null,
   "id": "92ac18f4",
   "metadata": {},
   "outputs": [
    {
     "data": {
      "text/html": [
       "<div><style>\n",
       ".dataframe > thead > tr,\n",
       ".dataframe > tbody > tr {\n",
       "  text-align: right;\n",
       "  white-space: pre-wrap;\n",
       "}\n",
       "</style>\n",
       "<small>shape: (0, 0)</small><table border=\"1\" class=\"dataframe\"><thead><tr></tr><tr></tr></thead><tbody></tbody></table></div>"
      ],
      "text/plain": [
       "shape: (0, 0)\n",
       "┌┐\n",
       "╞╡\n",
       "└┘"
      ]
     },
     "metadata": {},
     "output_type": "display_data"
    }
   ],
   "source": [
    "query_text = \"\"\"--sql\n",
    "    ALTER TABLE db1.all_installetion_points_parquet_ch DELETE WHERE report_date = '2025-07-17'\n",
    "    \"\"\"\n",
    "\n",
    "ch.query_run(query_text)\n"
   ]
  },
  {
   "cell_type": "markdown",
   "id": "da4dbb2c",
   "metadata": {},
   "source": [
    "### drop mv"
   ]
  },
  {
   "cell_type": "code",
   "execution_count": 5,
   "id": "30be885f",
   "metadata": {
    "lines_to_next_cell": 2
   },
   "outputs": [
    {
     "data": {
      "text/html": [
       "<div><style>\n",
       ".dataframe > thead > tr,\n",
       ".dataframe > tbody > tr {\n",
       "  text-align: right;\n",
       "  white-space: pre-wrap;\n",
       "}\n",
       "</style>\n",
       "<small>shape: (0, 0)</small><table border=\"1\" class=\"dataframe\"><thead><tr></tr><tr></tr></thead><tbody></tbody></table></div>"
      ],
      "text/plain": [
       "shape: (0, 0)\n",
       "┌┐\n",
       "╞╡\n",
       "└┘"
      ]
     },
     "execution_count": 5,
     "metadata": {},
     "output_type": "execute_result"
    }
   ],
   "source": [
    "query_text = \"\"\"--sql\n",
    "    DROP TABLE db1.all_installetion_points_parquet_mv\n",
    "    \"\"\"\n",
    "\n",
    "ch.query_run(query_text)"
   ]
  },
  {
   "cell_type": "markdown",
   "id": "81c4f25d",
   "metadata": {},
   "source": [
    "### drop ch"
   ]
  },
  {
   "cell_type": "code",
   "execution_count": null,
   "id": "5bb8ce5e",
   "metadata": {},
   "outputs": [],
   "source": [
    "query_text = \"\"\"--sql\n",
    "    DROP TABLE db1.all_installetion_points_parquet_ch\n",
    "    \"\"\"\n",
    "\n",
    "ch.query_run(query_text)"
   ]
  },
  {
   "cell_type": "markdown",
   "id": "e37af6f7",
   "metadata": {},
   "source": [
    "### refresh mv"
   ]
  },
  {
   "cell_type": "code",
   "execution_count": null,
   "id": "d1053b57",
   "metadata": {},
   "outputs": [],
   "source": [
    "query_text = \"\"\"\n",
    "SYSTEM REFRESH VIEW db1.all_installetion_points_parquet_mv\n",
    "\"\"\"\n",
    "\n",
    "ch.query_run(query_text)"
   ]
  }
 ],
 "metadata": {
  "jupytext": {
   "formats": "ipynb,md"
  },
  "kernelspec": {
   "display_name": "myenv",
   "language": "python",
   "name": "python3"
  },
  "language_info": {
   "codemirror_mode": {
    "name": "ipython",
    "version": 3
   },
   "file_extension": ".py",
   "mimetype": "text/x-python",
   "name": "python",
   "nbconvert_exporter": "python",
   "pygments_lexer": "ipython3",
   "version": "3.12.11"
  }
 },
 "nbformat": 4,
 "nbformat_minor": 5
}

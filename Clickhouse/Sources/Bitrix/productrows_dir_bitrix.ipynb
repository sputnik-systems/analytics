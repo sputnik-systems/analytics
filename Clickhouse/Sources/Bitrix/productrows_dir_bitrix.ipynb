{
 "cells": [
  {
   "cell_type": "markdown",
   "id": "187f9518",
   "metadata": {},
   "source": [
    "## Start"
   ]
  },
  {
   "cell_type": "code",
   "execution_count": 2,
   "id": "ece44ba5",
   "metadata": {},
   "outputs": [],
   "source": [
    "import clickhouse_connect\n",
    "import datetime\n",
    "import os\n",
    "import pytz\n",
    "import pandas as pd\n",
    "from dateutil.relativedelta import relativedelta\n",
    "from dotenv import load_dotenv\n",
    "\n",
    "import sys\n",
    "sys.path.append('/home/boris/Documents/Work/analytics/Clickhouse')\n",
    "from clickhouse_client import ClickHouse_client\n",
    "ch = ClickHouse_client()\n",
    "pd.set_option('display.max_rows', 1000)\n",
    "\n"
   ]
  },
  {
   "cell_type": "markdown",
   "id": "9fe80eba",
   "metadata": {},
   "source": [
    "___\n",
    "### Tags: #Source #Bitrix\n",
    "\n",
    "### Links: \n",
    "___"
   ]
  },
  {
   "cell_type": "code",
   "execution_count": null,
   "id": "e74692f0",
   "metadata": {},
   "outputs": [],
   "source": [
    "(\n",
    "    ID UInt64,\n",
    "    OWNER_ID UInt64,\n",
    "    OWNER_TYPE String,\n",
    "    PRODUCT_ID UInt64,\n",
    "    PRODUCT_NAME String,\n",
    "    ORIGINAL_PRODUCT_NAME String,\n",
    "    PRICE Float64,\n",
    "    PRICE_EXCLUSIVE Float64,\n",
    "    PRICE_NETTO Float64,\n",
    "    PRICE_BRUTTO Float64,\n",
    "    PRICE_ACCOUNT Float64,\n",
    "    QUANTITY Float64,\n",
    "    DISCOUNT_TYPE_ID Int32,\n",
    "    DISCOUNT_RATE Float64,\n",
    "    DISCOUNT_SUM Float64,\n",
    "    TAX_RATE Float64,\n",
    "    TAX_INCLUDED UInt8,        -- булево (0/1)\n",
    "    CUSTOMIZED UInt8,          -- булево (0/1)\n",
    "    MEASURE_CODE String,\n",
    "    MEASURE_NAME String,\n",
    "    SORT Int32,\n",
    "    XML_ID String,\n",
    "    TYPE String,\n",
    "    STORE_ID UInt64,\n",
    "    RESERVE_ID UInt64,\n",
    "    DATE_RESERVE_END DateTime, -- дата/время окончания резерва\n",
    "    RESERVE_QUANTITY Float64,\n",
    "    DEAL_ID UInt64\n",
    ")"
   ]
  },
  {
   "cell_type": "code",
   "execution_count": 57,
   "id": "69908169",
   "metadata": {},
   "outputs": [
    {
     "data": {
      "text/html": [
       "<div><style>\n",
       ".dataframe > thead > tr,\n",
       ".dataframe > tbody > tr {\n",
       "  text-align: right;\n",
       "  white-space: pre-wrap;\n",
       "}\n",
       "</style>\n",
       "<small>shape: (0, 0)</small><table border=\"1\" class=\"dataframe\"><thead><tr></tr><tr></tr></thead><tbody></tbody></table></div>"
      ],
      "text/plain": [
       "shape: (0, 0)\n",
       "┌┐\n",
       "╞╡\n",
       "└┘"
      ]
     },
     "execution_count": 57,
     "metadata": {},
     "output_type": "execute_result"
    }
   ],
   "source": [
    "# creating a table from s3\n",
    "query_text = \"\"\"--sql \n",
    "CREATE TABLE db1.productrows_dir_bitrix\n",
    "(\n",
    "    ID UInt64,\n",
    "    OWNER_ID UInt64,\n",
    "    OWNER_TYPE String,\n",
    "    PRODUCT_ID UInt64,\n",
    "    PRODUCT_NAME String,\n",
    "    ORIGINAL_PRODUCT_NAME String,\n",
    "    PRICE Float64,\n",
    "    PRICE_EXCLUSIVE Float64,\n",
    "    PRICE_NETTO Float64,\n",
    "    PRICE_BRUTTO Float64,\n",
    "    PRICE_ACCOUNT Float64,\n",
    "    QUANTITY Float64,\n",
    "    DISCOUNT_TYPE_ID Int32,\n",
    "    DISCOUNT_RATE Float64,\n",
    "    DISCOUNT_SUM Float64,\n",
    "    TAX_RATE String,\n",
    "    TAX_INCLUDED String,        -- булево (0/1)\n",
    "    CUSTOMIZED String,          -- булево (0/1)\n",
    "    MEASURE_CODE String,\n",
    "    MEASURE_NAME String,\n",
    "    SORT String,\n",
    "    XML_ID String,\n",
    "    TYPE String,\n",
    "    STORE_ID String,\n",
    "    RESERVE_ID String,\n",
    "    DATE_RESERVE_END String, -- дата/время окончания резерва\n",
    "    RESERVE_QUANTITY String,\n",
    "    DEAL_ID String\n",
    ")\n",
    "ENGINE = S3('https://storage.yandexcloud.net/aggregated-data/bitrix_productrows/*.csv','CSVWithNames')\n",
    "SETTINGS format_csv_delimiter = ';'\n",
    "    \"\"\"\n",
    "\n",
    "ch.query_run(query_text)"
   ]
  },
  {
   "cell_type": "code",
   "execution_count": 58,
   "id": "ad91d751",
   "metadata": {},
   "outputs": [
    {
     "data": {
      "text/html": [
       "<div><style>\n",
       ".dataframe > thead > tr,\n",
       ".dataframe > tbody > tr {\n",
       "  text-align: right;\n",
       "  white-space: pre-wrap;\n",
       "}\n",
       "</style>\n",
       "<small>shape: (0, 0)</small><table border=\"1\" class=\"dataframe\"><thead><tr></tr><tr></tr></thead><tbody></tbody></table></div>"
      ],
      "text/plain": [
       "shape: (0, 0)\n",
       "┌┐\n",
       "╞╡\n",
       "└┘"
      ]
     },
     "execution_count": 58,
     "metadata": {},
     "output_type": "execute_result"
    }
   ],
   "source": [
    "query_text = \"\"\"--sql\n",
    "    CREATE TABLE db1.productrows_dir_bitrix_ch\n",
    "    (\n",
    "        ID UInt64,\n",
    "        OWNER_ID UInt64,\n",
    "        OWNER_TYPE String,\n",
    "        PRODUCT_ID UInt64,\n",
    "        PRODUCT_NAME String,\n",
    "        ORIGINAL_PRODUCT_NAME String,\n",
    "        PRICE Float64,\n",
    "        PRICE_EXCLUSIVE Float64,\n",
    "        PRICE_NETTO Float64,\n",
    "        PRICE_BRUTTO Float64,\n",
    "        PRICE_ACCOUNT Float64,\n",
    "        QUANTITY Float64,\n",
    "        DISCOUNT_TYPE_ID Int32,\n",
    "        DISCOUNT_RATE Float64,\n",
    "        DISCOUNT_SUM Float64,\n",
    "        TAX_RATE String,\n",
    "        TAX_INCLUDED String,        -- булево (0/1)\n",
    "        CUSTOMIZED String,          -- булево (0/1)\n",
    "        MEASURE_CODE String,\n",
    "        MEASURE_NAME String,\n",
    "        SORT String,\n",
    "        XML_ID String,\n",
    "        TYPE String,\n",
    "        STORE_ID String,\n",
    "        RESERVE_ID String,\n",
    "        DATE_RESERVE_END String, -- дата/время окончания резерва\n",
    "        RESERVE_QUANTITY String,\n",
    "        DEAL_ID String\n",
    ")\n",
    "    ENGINE = MergeTree()\n",
    "    ORDER BY ID\n",
    "    \n",
    "    \"\"\"\n",
    "\n",
    "ch.query_run(query_text)"
   ]
  },
  {
   "cell_type": "code",
   "execution_count": 59,
   "id": "3ce96924",
   "metadata": {},
   "outputs": [
    {
     "data": {
      "text/html": [
       "<div><style>\n",
       ".dataframe > thead > tr,\n",
       ".dataframe > tbody > tr {\n",
       "  text-align: right;\n",
       "  white-space: pre-wrap;\n",
       "}\n",
       "</style>\n",
       "<small>shape: (0, 0)</small><table border=\"1\" class=\"dataframe\"><thead><tr></tr><tr></tr></thead><tbody></tbody></table></div>"
      ],
      "text/plain": [
       "shape: (0, 0)\n",
       "┌┐\n",
       "╞╡\n",
       "└┘"
      ]
     },
     "execution_count": 59,
     "metadata": {},
     "output_type": "execute_result"
    }
   ],
   "source": [
    "query_text = \"\"\"--sql\n",
    "    CREATE MATERIALIZED VIEW db1.productrows_dir_bitrix_mv\n",
    "    REFRESH EVERY 1 DAY OFFSET 3 HOUR RANDOMIZE FOR 1 HOUR TO db1.productrows_dir_bitrix_ch AS\n",
    "    SELECT\n",
    "        *\n",
    "    FROM db1.productrows_dir_bitrix\n",
    "    \"\"\"\n",
    "\n",
    "ch.query_run(query_text)"
   ]
  },
  {
   "cell_type": "markdown",
   "id": "bde3c224",
   "metadata": {},
   "source": [
    "___\n",
    "## Tools\n",
    "___\n",
    "### query\n"
   ]
  },
  {
   "cell_type": "code",
   "execution_count": 60,
   "id": "753f3e24",
   "metadata": {},
   "outputs": [
    {
     "data": {
      "text/html": [
       "<div><style>\n",
       ".dataframe > thead > tr,\n",
       ".dataframe > tbody > tr {\n",
       "  text-align: right;\n",
       "  white-space: pre-wrap;\n",
       "}\n",
       "</style>\n",
       "<small>shape: (100, 28)</small><table border=\"1\" class=\"dataframe\"><thead><tr><th>ID</th><th>OWNER_ID</th><th>OWNER_TYPE</th><th>PRODUCT_ID</th><th>PRODUCT_NAME</th><th>ORIGINAL_PRODUCT_NAME</th><th>PRICE</th><th>PRICE_EXCLUSIVE</th><th>PRICE_NETTO</th><th>PRICE_BRUTTO</th><th>PRICE_ACCOUNT</th><th>QUANTITY</th><th>DISCOUNT_TYPE_ID</th><th>DISCOUNT_RATE</th><th>DISCOUNT_SUM</th><th>TAX_RATE</th><th>TAX_INCLUDED</th><th>CUSTOMIZED</th><th>MEASURE_CODE</th><th>MEASURE_NAME</th><th>SORT</th><th>XML_ID</th><th>TYPE</th><th>STORE_ID</th><th>RESERVE_ID</th><th>DATE_RESERVE_END</th><th>RESERVE_QUANTITY</th><th>DEAL_ID</th></tr><tr><td>i64</td><td>i64</td><td>str</td><td>i64</td><td>str</td><td>str</td><td>f64</td><td>f64</td><td>f64</td><td>f64</td><td>f64</td><td>f64</td><td>i64</td><td>f64</td><td>f64</td><td>str</td><td>str</td><td>str</td><td>str</td><td>str</td><td>str</td><td>str</td><td>str</td><td>str</td><td>str</td><td>str</td><td>str</td><td>str</td></tr></thead><tbody><tr><td>415</td><td>2327</td><td>&quot;D&quot;</td><td>1</td><td>&quot;Умный домофон «Спутник» версия…</td><td>&quot;Умный домофон «Спутник» версия…</td><td>8800.0</td><td>8800.0</td><td>8800.0</td><td>8800.0</td><td>8800.0</td><td>1.0</td><td>2</td><td>0.0</td><td>0.0</td><td>&quot;0.0&quot;</td><td>&quot;Y&quot;</td><td>&quot;Y&quot;</td><td>&quot;796&quot;</td><td>&quot;Штука&quot;</td><td>&quot;10&quot;</td><td>&quot;&quot;</td><td>&quot;1&quot;</td><td>&quot;&quot;</td><td>&quot;&quot;</td><td>&quot;&quot;</td><td>&quot;&quot;</td><td>&quot;2327&quot;</td></tr><tr><td>593</td><td>2307</td><td>&quot;D&quot;</td><td>1</td><td>&quot;Умный домофон «Спутник» версия…</td><td>&quot;Умный домофон «Спутник» версия…</td><td>7900.0</td><td>7900.0</td><td>8800.0</td><td>8800.0</td><td>7900.0</td><td>1.0</td><td>2</td><td>10.23</td><td>900.0</td><td>&quot;0.0&quot;</td><td>&quot;Y&quot;</td><td>&quot;Y&quot;</td><td>&quot;796&quot;</td><td>&quot;Штука&quot;</td><td>&quot;10&quot;</td><td>&quot;&quot;</td><td>&quot;1&quot;</td><td>&quot;&quot;</td><td>&quot;&quot;</td><td>&quot;&quot;</td><td>&quot;&quot;</td><td>&quot;2307&quot;</td></tr><tr><td>597</td><td>2321</td><td>&quot;D&quot;</td><td>1</td><td>&quot;Умный домофон «Спутник» версия…</td><td>&quot;Умный домофон «Спутник» версия…</td><td>8800.0</td><td>8800.0</td><td>8800.0</td><td>8800.0</td><td>8800.0</td><td>4.0</td><td>2</td><td>0.0</td><td>0.0</td><td>&quot;0.0&quot;</td><td>&quot;Y&quot;</td><td>&quot;Y&quot;</td><td>&quot;796&quot;</td><td>&quot;Штука&quot;</td><td>&quot;10&quot;</td><td>&quot;&quot;</td><td>&quot;1&quot;</td><td>&quot;&quot;</td><td>&quot;&quot;</td><td>&quot;&quot;</td><td>&quot;&quot;</td><td>&quot;2321&quot;</td></tr><tr><td>629</td><td>2317</td><td>&quot;D&quot;</td><td>1</td><td>&quot;Умный домофон «Спутник» версия…</td><td>&quot;Умный домофон «Спутник» версия…</td><td>8800.0</td><td>8800.0</td><td>8800.0</td><td>8800.0</td><td>8800.0</td><td>12.0</td><td>2</td><td>0.0</td><td>0.0</td><td>&quot;0.0&quot;</td><td>&quot;Y&quot;</td><td>&quot;Y&quot;</td><td>&quot;796&quot;</td><td>&quot;Штука&quot;</td><td>&quot;10&quot;</td><td>&quot;&quot;</td><td>&quot;1&quot;</td><td>&quot;&quot;</td><td>&quot;&quot;</td><td>&quot;&quot;</td><td>&quot;&quot;</td><td>&quot;2317&quot;</td></tr><tr><td>679</td><td>2335</td><td>&quot;D&quot;</td><td>1</td><td>&quot;Умный домофон «Спутник» версия…</td><td>&quot;Умный домофон «Спутник» версия…</td><td>7900.0</td><td>7900.0</td><td>8800.0</td><td>8800.0</td><td>7900.0</td><td>1.0</td><td>2</td><td>10.23</td><td>900.0</td><td>&quot;0.0&quot;</td><td>&quot;Y&quot;</td><td>&quot;Y&quot;</td><td>&quot;796&quot;</td><td>&quot;Штука&quot;</td><td>&quot;10&quot;</td><td>&quot;&quot;</td><td>&quot;1&quot;</td><td>&quot;&quot;</td><td>&quot;&quot;</td><td>&quot;&quot;</td><td>&quot;&quot;</td><td>&quot;2335&quot;</td></tr><tr><td>&hellip;</td><td>&hellip;</td><td>&hellip;</td><td>&hellip;</td><td>&hellip;</td><td>&hellip;</td><td>&hellip;</td><td>&hellip;</td><td>&hellip;</td><td>&hellip;</td><td>&hellip;</td><td>&hellip;</td><td>&hellip;</td><td>&hellip;</td><td>&hellip;</td><td>&hellip;</td><td>&hellip;</td><td>&hellip;</td><td>&hellip;</td><td>&hellip;</td><td>&hellip;</td><td>&hellip;</td><td>&hellip;</td><td>&hellip;</td><td>&hellip;</td><td>&hellip;</td><td>&hellip;</td><td>&hellip;</td></tr><tr><td>3355</td><td>2617</td><td>&quot;D&quot;</td><td>1</td><td>&quot;Умный домофон «Спутник» версия…</td><td>&quot;Умный домофон «Спутник» версия…</td><td>7899.76</td><td>7899.76</td><td>8800.0</td><td>8800.0</td><td>7899.76</td><td>1.0</td><td>2</td><td>10.23</td><td>900.24</td><td>&quot;0.0&quot;</td><td>&quot;Y&quot;</td><td>&quot;Y&quot;</td><td>&quot;796&quot;</td><td>&quot;Штука&quot;</td><td>&quot;0&quot;</td><td>&quot;&quot;</td><td>&quot;1&quot;</td><td>&quot;&quot;</td><td>&quot;&quot;</td><td>&quot;&quot;</td><td>&quot;&quot;</td><td>&quot;2617&quot;</td></tr><tr><td>3357</td><td>2617</td><td>&quot;D&quot;</td><td>2157</td><td>&quot;Блок питания Nikola&quot;</td><td>&quot;Блок питания Nikola&quot;</td><td>860.0</td><td>860.0</td><td>860.0</td><td>860.0</td><td>860.0</td><td>1.0</td><td>2</td><td>0.0</td><td>0.0</td><td>&quot;0.0&quot;</td><td>&quot;Y&quot;</td><td>&quot;Y&quot;</td><td>&quot;796&quot;</td><td>&quot;Штука&quot;</td><td>&quot;0&quot;</td><td>&quot;&quot;</td><td>&quot;1&quot;</td><td>&quot;&quot;</td><td>&quot;&quot;</td><td>&quot;&quot;</td><td>&quot;&quot;</td><td>&quot;2617&quot;</td></tr><tr><td>3553</td><td>2421</td><td>&quot;D&quot;</td><td>315</td><td>&quot;Корпус&quot;</td><td>&quot;Корпус&quot;</td><td>1000.0</td><td>1000.0</td><td>1000.0</td><td>1000.0</td><td>1000.0</td><td>2.0</td><td>2</td><td>0.0</td><td>0.0</td><td>&quot;0.0&quot;</td><td>&quot;Y&quot;</td><td>&quot;Y&quot;</td><td>&quot;796&quot;</td><td>&quot;Штука&quot;</td><td>&quot;10&quot;</td><td>&quot;&quot;</td><td>&quot;1&quot;</td><td>&quot;&quot;</td><td>&quot;&quot;</td><td>&quot;&quot;</td><td>&quot;&quot;</td><td>&quot;2421&quot;</td></tr><tr><td>3563</td><td>2491</td><td>&quot;D&quot;</td><td>3479</td><td>&quot;Антенна EM Marine&quot;</td><td>&quot;Антенна EM Marine&quot;</td><td>600.0</td><td>600.0</td><td>600.0</td><td>600.0</td><td>600.0</td><td>2.0</td><td>2</td><td>0.0</td><td>0.0</td><td>&quot;0.0&quot;</td><td>&quot;Y&quot;</td><td>&quot;Y&quot;</td><td>&quot;796&quot;</td><td>&quot;Штука&quot;</td><td>&quot;10&quot;</td><td>&quot;&quot;</td><td>&quot;1&quot;</td><td>&quot;&quot;</td><td>&quot;&quot;</td><td>&quot;&quot;</td><td>&quot;&quot;</td><td>&quot;2491&quot;</td></tr><tr><td>3699</td><td>2803</td><td>&quot;D&quot;</td><td>2299</td><td>&quot;Стекло&quot;</td><td>&quot;Стекло&quot;</td><td>163.64</td><td>163.64</td><td>200.0</td><td>200.0</td><td>163.64</td><td>11.0</td><td>2</td><td>18.18</td><td>36.36</td><td>&quot;0.0&quot;</td><td>&quot;Y&quot;</td><td>&quot;Y&quot;</td><td>&quot;796&quot;</td><td>&quot;Штука&quot;</td><td>&quot;0&quot;</td><td>&quot;&quot;</td><td>&quot;1&quot;</td><td>&quot;&quot;</td><td>&quot;&quot;</td><td>&quot;&quot;</td><td>&quot;&quot;</td><td>&quot;2803&quot;</td></tr></tbody></table></div>"
      ],
      "text/plain": [
       "shape: (100, 28)\n",
       "┌──────┬──────────┬────────────┬────────────┬───┬────────────┬─────────────┬─────────────┬─────────┐\n",
       "│ ID   ┆ OWNER_ID ┆ OWNER_TYPE ┆ PRODUCT_ID ┆ … ┆ RESERVE_ID ┆ DATE_RESERV ┆ RESERVE_QUA ┆ DEAL_ID │\n",
       "│ ---  ┆ ---      ┆ ---        ┆ ---        ┆   ┆ ---        ┆ E_END       ┆ NTITY       ┆ ---     │\n",
       "│ i64  ┆ i64      ┆ str        ┆ i64        ┆   ┆ str        ┆ ---         ┆ ---         ┆ str     │\n",
       "│      ┆          ┆            ┆            ┆   ┆            ┆ str         ┆ str         ┆         │\n",
       "╞══════╪══════════╪════════════╪════════════╪═══╪════════════╪═════════════╪═════════════╪═════════╡\n",
       "│ 415  ┆ 2327     ┆ D          ┆ 1          ┆ … ┆            ┆             ┆             ┆ 2327    │\n",
       "│ 593  ┆ 2307     ┆ D          ┆ 1          ┆ … ┆            ┆             ┆             ┆ 2307    │\n",
       "│ 597  ┆ 2321     ┆ D          ┆ 1          ┆ … ┆            ┆             ┆             ┆ 2321    │\n",
       "│ 629  ┆ 2317     ┆ D          ┆ 1          ┆ … ┆            ┆             ┆             ┆ 2317    │\n",
       "│ 679  ┆ 2335     ┆ D          ┆ 1          ┆ … ┆            ┆             ┆             ┆ 2335    │\n",
       "│ …    ┆ …        ┆ …          ┆ …          ┆ … ┆ …          ┆ …           ┆ …           ┆ …       │\n",
       "│ 3355 ┆ 2617     ┆ D          ┆ 1          ┆ … ┆            ┆             ┆             ┆ 2617    │\n",
       "│ 3357 ┆ 2617     ┆ D          ┆ 2157       ┆ … ┆            ┆             ┆             ┆ 2617    │\n",
       "│ 3553 ┆ 2421     ┆ D          ┆ 315        ┆ … ┆            ┆             ┆             ┆ 2421    │\n",
       "│ 3563 ┆ 2491     ┆ D          ┆ 3479       ┆ … ┆            ┆             ┆             ┆ 2491    │\n",
       "│ 3699 ┆ 2803     ┆ D          ┆ 2299       ┆ … ┆            ┆             ┆             ┆ 2803    │\n",
       "└──────┴──────────┴────────────┴────────────┴───┴────────────┴─────────────┴─────────────┴─────────┘"
      ]
     },
     "execution_count": 60,
     "metadata": {},
     "output_type": "execute_result"
    }
   ],
   "source": [
    "query_text = \"\"\"--sql\n",
    "    SELECT\n",
    "        *\n",
    "    FROM  db1.productrows_dir_bitrix_mv\n",
    "    limit 100\n",
    "    \"\"\"\n",
    "\n",
    "ch.query_run(query_text)\n"
   ]
  },
  {
   "cell_type": "markdown",
   "id": "48cee38e",
   "metadata": {},
   "source": [
    "### drop mv"
   ]
  },
  {
   "cell_type": "code",
   "execution_count": 54,
   "id": "83ee6152",
   "metadata": {
    "lines_to_next_cell": 2
   },
   "outputs": [
    {
     "data": {
      "text/html": [
       "<div><style>\n",
       ".dataframe > thead > tr,\n",
       ".dataframe > tbody > tr {\n",
       "  text-align: right;\n",
       "  white-space: pre-wrap;\n",
       "}\n",
       "</style>\n",
       "<small>shape: (0, 0)</small><table border=\"1\" class=\"dataframe\"><thead><tr></tr><tr></tr></thead><tbody></tbody></table></div>"
      ],
      "text/plain": [
       "shape: (0, 0)\n",
       "┌┐\n",
       "╞╡\n",
       "└┘"
      ]
     },
     "execution_count": 54,
     "metadata": {},
     "output_type": "execute_result"
    }
   ],
   "source": [
    "query_text = \"\"\"--sql\n",
    "    DROP TABLE db1.productrows_dir_bitrix_mv\n",
    "    \"\"\"\n",
    "\n",
    "ch.query_run(query_text)"
   ]
  },
  {
   "cell_type": "markdown",
   "id": "820943ff",
   "metadata": {},
   "source": [
    "### drop ch"
   ]
  },
  {
   "cell_type": "code",
   "execution_count": null,
   "id": "bbd267b5",
   "metadata": {},
   "outputs": [
    {
     "data": {
      "text/html": [
       "<div><style>\n",
       ".dataframe > thead > tr,\n",
       ".dataframe > tbody > tr {\n",
       "  text-align: right;\n",
       "  white-space: pre-wrap;\n",
       "}\n",
       "</style>\n",
       "<small>shape: (0, 0)</small><table border=\"1\" class=\"dataframe\"><thead><tr></tr><tr></tr></thead><tbody></tbody></table></div>"
      ],
      "text/plain": [
       "shape: (0, 0)\n",
       "┌┐\n",
       "╞╡\n",
       "└┘"
      ]
     },
     "execution_count": 56,
     "metadata": {},
     "output_type": "execute_result"
    }
   ],
   "source": [
    "query_text = \"\"\"--sql\n",
    "    DROP TABLE db1.productrows_dir_bitrix_ch\n",
    "    \"\"\"\n",
    "\n",
    "ch.query_run(query_text)"
   ]
  },
  {
   "cell_type": "markdown",
   "id": "781a9891",
   "metadata": {},
   "source": [
    "### refresh mv"
   ]
  },
  {
   "cell_type": "code",
   "execution_count": null,
   "id": "e1ff4938",
   "metadata": {},
   "outputs": [],
   "source": [
    "query_text = \"\"\"\n",
    "SYSTEM REFRESH VIEW db1.cameras_dir_asgard_mv\n",
    "\"\"\"\n",
    "\n",
    "ch.query_run(query_text)"
   ]
  }
 ],
 "metadata": {
  "jupytext": {
   "formats": "ipynb,md"
  },
  "kernelspec": {
   "display_name": "myenv",
   "language": "python",
   "name": "python3"
  },
  "language_info": {
   "codemirror_mode": {
    "name": "ipython",
    "version": 3
   },
   "file_extension": ".py",
   "mimetype": "text/x-python",
   "name": "python",
   "nbconvert_exporter": "python",
   "pygments_lexer": "ipython3",
   "version": "3.12.11"
  }
 },
 "nbformat": 4,
 "nbformat_minor": 5
}

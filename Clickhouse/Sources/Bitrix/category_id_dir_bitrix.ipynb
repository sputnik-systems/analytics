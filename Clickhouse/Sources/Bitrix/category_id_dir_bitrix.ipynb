{
 "cells": [
  {
   "cell_type": "markdown",
   "id": "187f9518",
   "metadata": {},
   "source": [
    "## Start"
   ]
  },
  {
   "cell_type": "code",
   "execution_count": 2,
   "id": "ece44ba5",
   "metadata": {},
   "outputs": [],
   "source": [
    "import clickhouse_connect\n",
    "import datetime\n",
    "import os\n",
    "import pytz\n",
    "import pandas as pd\n",
    "from dateutil.relativedelta import relativedelta\n",
    "from dotenv import load_dotenv\n",
    "\n",
    "import sys\n",
    "sys.path.append('/home/boris/Documents/Work/analytics/Clickhouse')\n",
    "from clickhouse_client import ClickHouse_client\n",
    "ch = ClickHouse_client()\n",
    "pd.set_option('display.max_rows', 1000)\n",
    "\n"
   ]
  },
  {
   "cell_type": "markdown",
   "id": "9fe80eba",
   "metadata": {},
   "source": [
    "___\n",
    "### Tags: #Source #Bitrix\n",
    "\n",
    "### Links: \n",
    "___"
   ]
  },
  {
   "cell_type": "code",
   "execution_count": 9,
   "id": "69908169",
   "metadata": {},
   "outputs": [
    {
     "data": {
      "text/html": [
       "<div><style>\n",
       ".dataframe > thead > tr,\n",
       ".dataframe > tbody > tr {\n",
       "  text-align: right;\n",
       "  white-space: pre-wrap;\n",
       "}\n",
       "</style>\n",
       "<small>shape: (0, 0)</small><table border=\"1\" class=\"dataframe\"><thead><tr></tr><tr></tr></thead><tbody></tbody></table></div>"
      ],
      "text/plain": [
       "shape: (0, 0)\n",
       "┌┐\n",
       "╞╡\n",
       "└┘"
      ]
     },
     "execution_count": 9,
     "metadata": {},
     "output_type": "execute_result"
    }
   ],
   "source": [
    "# creating a table from s3\n",
    "\n",
    "query_text = \"\"\"--sql \n",
    "   CREATE TABLE db1.category_id_dir_bitrix\n",
    "(\n",
    "    `category_id` UInt32,\n",
    "    `category_name` String,\n",
    "    `stage_id` String,\n",
    "    `name` String\n",
    ")\n",
    "ENGINE = S3('https://storage.yandexcloud.net/aggregated-data/bitrix_category_id/*.csv','CSVWithNames')\n",
    "SETTINGS format_csv_delimiter = ';'\n",
    "    \"\"\"\n",
    "\n",
    "ch.query_run(query_text)"
   ]
  },
  {
   "cell_type": "code",
   "execution_count": 15,
   "id": "ad91d751",
   "metadata": {},
   "outputs": [
    {
     "data": {
      "text/html": [
       "<div><style>\n",
       ".dataframe > thead > tr,\n",
       ".dataframe > tbody > tr {\n",
       "  text-align: right;\n",
       "  white-space: pre-wrap;\n",
       "}\n",
       "</style>\n",
       "<small>shape: (0, 0)</small><table border=\"1\" class=\"dataframe\"><thead><tr></tr><tr></tr></thead><tbody></tbody></table></div>"
      ],
      "text/plain": [
       "shape: (0, 0)\n",
       "┌┐\n",
       "╞╡\n",
       "└┘"
      ]
     },
     "execution_count": 15,
     "metadata": {},
     "output_type": "execute_result"
    }
   ],
   "source": [
    "query_text = \"\"\"--sql\n",
    "    CREATE TABLE db1.category_id_dir_bitrix_ch\n",
    "(\n",
    "    `category_id` UInt32,\n",
    "    `category_name` String,\n",
    "    `stage_id` String,\n",
    "    `name` String\n",
    ")\n",
    "    ENGINE = MergeTree()\n",
    "    ORDER BY category_id\n",
    "    \n",
    "    \"\"\"\n",
    "\n",
    "ch.query_run(query_text)"
   ]
  },
  {
   "cell_type": "code",
   "execution_count": 10,
   "id": "3ce96924",
   "metadata": {},
   "outputs": [
    {
     "data": {
      "text/html": [
       "<div><style>\n",
       ".dataframe > thead > tr,\n",
       ".dataframe > tbody > tr {\n",
       "  text-align: right;\n",
       "  white-space: pre-wrap;\n",
       "}\n",
       "</style>\n",
       "<small>shape: (0, 0)</small><table border=\"1\" class=\"dataframe\"><thead><tr></tr><tr></tr></thead><tbody></tbody></table></div>"
      ],
      "text/plain": [
       "shape: (0, 0)\n",
       "┌┐\n",
       "╞╡\n",
       "└┘"
      ]
     },
     "execution_count": 10,
     "metadata": {},
     "output_type": "execute_result"
    }
   ],
   "source": [
    "query_text = \"\"\"--sql\n",
    "    CREATE MATERIALIZED VIEW db1.category_id_dir_bitrix_mv\n",
    "    REFRESH EVERY 1 DAY OFFSET 3 HOUR RANDOMIZE FOR 1 HOUR TO db1.category_id_dir_bitrix_ch AS\n",
    "    SELECT\n",
    "        category_id,\n",
    "        category_name,\n",
    "        if(category_id != 0, splitByChar(':', stage_id)[2],stage_id) AS stage_id,\n",
    "        name\n",
    "    FROM db1.category_id_dir_bitrix\n",
    "    \"\"\"\n",
    "\n",
    "ch.query_run(query_text)"
   ]
  },
  {
   "cell_type": "markdown",
   "id": "bde3c224",
   "metadata": {},
   "source": [
    "___\n",
    "## Tools\n",
    "___\n",
    "### query\n"
   ]
  },
  {
   "cell_type": "code",
   "execution_count": 19,
   "id": "753f3e24",
   "metadata": {},
   "outputs": [
    {
     "data": {
      "text/html": [
       "<div><style>\n",
       ".dataframe > thead > tr,\n",
       ".dataframe > tbody > tr {\n",
       "  text-align: right;\n",
       "  white-space: pre-wrap;\n",
       "}\n",
       "</style>\n",
       "<small>shape: (65, 4)</small><table border=\"1\" class=\"dataframe\"><thead><tr><th>category_id</th><th>category_name</th><th>stage_id</th><th>name</th></tr><tr><td>i64</td><td>str</td><td>str</td><td>str</td></tr></thead><tbody><tr><td>21</td><td>&quot;Перемещения ЦС&quot;</td><td>&quot;C21:NEW&quot;</td><td>&quot;Новая&quot;</td></tr><tr><td>21</td><td>&quot;Перемещения ЦС&quot;</td><td>&quot;C21:PREPARATION&quot;</td><td>&quot;Выставлен счёт&quot;</td></tr><tr><td>21</td><td>&quot;Перемещения ЦС&quot;</td><td>&quot;C21:PREPAYMENT_INVOICE&quot;</td><td>&quot;Cчёт оплачен&quot;</td></tr><tr><td>21</td><td>&quot;Перемещения ЦС&quot;</td><td>&quot;C21:WON&quot;</td><td>&quot;Сделка успешна&quot;</td></tr><tr><td>21</td><td>&quot;Перемещения ЦС&quot;</td><td>&quot;C21:LOSE&quot;</td><td>&quot;Сделка провалена&quot;</td></tr><tr><td>&hellip;</td><td>&hellip;</td><td>&hellip;</td><td>&hellip;</td></tr><tr><td>31</td><td>&quot;Продажи РТК&quot;</td><td>&quot;C31:PREPAYMENT_INVOIC&quot;</td><td>&quot;Выставлен счет клиенту&quot;</td></tr><tr><td>31</td><td>&quot;Продажи РТК&quot;</td><td>&quot;C31:EXECUTING&quot;</td><td>&quot;На оплате у клиента&quot;</td></tr><tr><td>31</td><td>&quot;Продажи РТК&quot;</td><td>&quot;C31:WON&quot;</td><td>&quot;Сделка успешна&quot;</td></tr><tr><td>31</td><td>&quot;Продажи РТК&quot;</td><td>&quot;C31:LOSE&quot;</td><td>&quot;Сделка провалена&quot;</td></tr><tr><td>31</td><td>&quot;Продажи РТК&quot;</td><td>&quot;C31:APOLOGY&quot;</td><td>&quot;Анализ причины провала&quot;</td></tr></tbody></table></div>"
      ],
      "text/plain": [
       "shape: (65, 4)\n",
       "┌─────────────┬────────────────┬────────────────────────┬────────────────────────┐\n",
       "│ category_id ┆ category_name  ┆ stage_id               ┆ name                   │\n",
       "│ ---         ┆ ---            ┆ ---                    ┆ ---                    │\n",
       "│ i64         ┆ str            ┆ str                    ┆ str                    │\n",
       "╞═════════════╪════════════════╪════════════════════════╪════════════════════════╡\n",
       "│ 21          ┆ Перемещения ЦС ┆ C21:NEW                ┆ Новая                  │\n",
       "│ 21          ┆ Перемещения ЦС ┆ C21:PREPARATION        ┆ Выставлен счёт         │\n",
       "│ 21          ┆ Перемещения ЦС ┆ C21:PREPAYMENT_INVOICE ┆ Cчёт оплачен           │\n",
       "│ 21          ┆ Перемещения ЦС ┆ C21:WON                ┆ Сделка успешна         │\n",
       "│ 21          ┆ Перемещения ЦС ┆ C21:LOSE               ┆ Сделка провалена       │\n",
       "│ …           ┆ …              ┆ …                      ┆ …                      │\n",
       "│ 31          ┆ Продажи РТК    ┆ C31:PREPAYMENT_INVOIC  ┆ Выставлен счет клиенту │\n",
       "│ 31          ┆ Продажи РТК    ┆ C31:EXECUTING          ┆ На оплате у клиента    │\n",
       "│ 31          ┆ Продажи РТК    ┆ C31:WON                ┆ Сделка успешна         │\n",
       "│ 31          ┆ Продажи РТК    ┆ C31:LOSE               ┆ Сделка провалена       │\n",
       "│ 31          ┆ Продажи РТК    ┆ C31:APOLOGY            ┆ Анализ причины провала │\n",
       "└─────────────┴────────────────┴────────────────────────┴────────────────────────┘"
      ]
     },
     "execution_count": 19,
     "metadata": {},
     "output_type": "execute_result"
    }
   ],
   "source": [
    "query_text = \"\"\"--sql\n",
    "    SELECT\n",
    "        *\n",
    "    FROM db1.category_id_dir_bitrix_ch\n",
    "    limit 100\n",
    "    \"\"\"\n",
    "\n",
    "ch.query_run(query_text)\n"
   ]
  },
  {
   "cell_type": "markdown",
   "id": "48cee38e",
   "metadata": {},
   "source": [
    "### drop mv"
   ]
  },
  {
   "cell_type": "code",
   "execution_count": 7,
   "id": "83ee6152",
   "metadata": {
    "lines_to_next_cell": 2
   },
   "outputs": [
    {
     "data": {
      "text/html": [
       "<div><style>\n",
       ".dataframe > thead > tr,\n",
       ".dataframe > tbody > tr {\n",
       "  text-align: right;\n",
       "  white-space: pre-wrap;\n",
       "}\n",
       "</style>\n",
       "<small>shape: (0, 0)</small><table border=\"1\" class=\"dataframe\"><thead><tr></tr><tr></tr></thead><tbody></tbody></table></div>"
      ],
      "text/plain": [
       "shape: (0, 0)\n",
       "┌┐\n",
       "╞╡\n",
       "└┘"
      ]
     },
     "execution_count": 7,
     "metadata": {},
     "output_type": "execute_result"
    }
   ],
   "source": [
    "query_text = \"\"\"--sql\n",
    "    DROP TABLE db1.category_id_dir_bitrix_mv\n",
    "    \"\"\"\n",
    "\n",
    "ch.query_run(query_text)"
   ]
  },
  {
   "cell_type": "markdown",
   "id": "820943ff",
   "metadata": {},
   "source": [
    "### drop ch"
   ]
  },
  {
   "cell_type": "code",
   "execution_count": null,
   "id": "bbd267b5",
   "metadata": {},
   "outputs": [],
   "source": [
    "query_text = \"\"\"--sql\n",
    "    DROP TABLE db1.cameras_dir_asgard_ch\n",
    "    \"\"\"\n",
    "\n",
    "ch.query_run(query_text)"
   ]
  },
  {
   "cell_type": "markdown",
   "id": "781a9891",
   "metadata": {},
   "source": [
    "### refresh mv"
   ]
  },
  {
   "cell_type": "code",
   "execution_count": null,
   "id": "e1ff4938",
   "metadata": {},
   "outputs": [],
   "source": [
    "query_text = \"\"\"\n",
    "SYSTEM REFRESH VIEW db1.cameras_dir_asgard_mv\n",
    "\"\"\"\n",
    "\n",
    "ch.query_run(query_text)"
   ]
  }
 ],
 "metadata": {
  "jupytext": {
   "formats": "ipynb,md"
  },
  "kernelspec": {
   "display_name": "myenv",
   "language": "python",
   "name": "python3"
  },
  "language_info": {
   "codemirror_mode": {
    "name": "ipython",
    "version": 3
   },
   "file_extension": ".py",
   "mimetype": "text/x-python",
   "name": "python",
   "nbconvert_exporter": "python",
   "pygments_lexer": "ipython3",
   "version": "3.12.11"
  }
 },
 "nbformat": 4,
 "nbformat_minor": 5
}

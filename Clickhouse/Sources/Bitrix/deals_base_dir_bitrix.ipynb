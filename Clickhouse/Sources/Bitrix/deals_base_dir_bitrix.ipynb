{
 "cells": [
  {
   "cell_type": "markdown",
   "id": "187f9518",
   "metadata": {},
   "source": [
    "## Start"
   ]
  },
  {
   "cell_type": "code",
   "execution_count": 20,
   "id": "ece44ba5",
   "metadata": {},
   "outputs": [],
   "source": [
    "import clickhouse_connect\n",
    "import datetime\n",
    "import os\n",
    "import pytz\n",
    "import pandas as pd\n",
    "from dateutil.relativedelta import relativedelta\n",
    "from dotenv import load_dotenv\n",
    "\n",
    "import sys\n",
    "sys.path.append('/home/boris/Documents/Work/analytics/Clickhouse')\n",
    "from clickhouse_client import ClickHouse_client\n",
    "ch = ClickHouse_client()\n",
    "pd.set_option('display.max_rows', 1000)\n",
    "\n"
   ]
  },
  {
   "cell_type": "markdown",
   "id": "9fe80eba",
   "metadata": {},
   "source": [
    "___\n",
    "### Tags: #Source #Bitrix\n",
    "\n",
    "### Links: \n",
    "___"
   ]
  },
  {
   "cell_type": "code",
   "execution_count": null,
   "id": "e74692f0",
   "metadata": {},
   "outputs": [],
   "source": [
    "(\n",
    "    ID UInt64,\n",
    "    TITLE String,\n",
    "    TYPE_ID String,\n",
    "    STAGE_ID String,\n",
    "    PROBABILITY String,\n",
    "    CURRENCY_ID String,\n",
    "    OPPORTUNITY Float64,\n",
    "    IS_MANUAL_OPPORTUNITY String,\n",
    "    TAX_VALUE Float64,\n",
    "    LEAD_ID String,\n",
    "    COMPANY_ID UInt64,\n",
    "    CONTACT_ID String,\n",
    "    QUOTE_ID UInt64,\n",
    "    BEGINDATE Date,\n",
    "    CLOSEDATE Date,\n",
    "    ASSIGNED_BY_ID UInt64,\n",
    "    CREATED_BY_ID UInt64,\n",
    "    MODIFY_BY_ID UInt64,\n",
    "    DATE_CREATE DateTime,\n",
    "    DATE_MODIFY DateTime,\n",
    "    OPENED UInt8,\n",
    "    CLOSED UInt8,\n",
    "    ADDITIONAL_INFO String,\n",
    "    LOCATION_ID String,\n",
    "    CATEGORY_ID UInt8,\n",
    "    STAGE_SEMANTIC_ID String,\n",
    "    IS_NEW UInt8,\n",
    "    IS_RECURRING UInt8,\n",
    "    IS_RETURN_CUSTOMER UInt8,\n",
    "    IS_REPEATED_APPROACH UInt8,\n",
    "    SOURCE_ID String,\n",
    "    SOURCE_DESCRIPTION String,\n",
    "    ORIGINATOR_ID String,\n",
    "    ORIGIN_ID String,\n",
    "    MOVED_BY_ID UInt64,\n",
    "    MOVED_TIME DateTime,\n",
    "    LAST_ACTIVITY_TIME DateTime,\n",
    "    UTM_SOURCE String,\n",
    "    UTM_MEDIUM String,\n",
    "    UTM_CAMPAIGN String,\n",
    "    UTM_CONTENT String,\n",
    "    UTM_TERM String,\n",
    "    PARENT_ID_186 UInt64,\n",
    "    LAST_COMMUNICATION_TIME DateTime,\n",
    "    LAST_ACTIVITY_BY UInt64\n",
    ")"
   ]
  },
  {
   "cell_type": "code",
   "execution_count": 79,
   "id": "69908169",
   "metadata": {},
   "outputs": [
    {
     "data": {
      "text/html": [
       "<div><style>\n",
       ".dataframe > thead > tr,\n",
       ".dataframe > tbody > tr {\n",
       "  text-align: right;\n",
       "  white-space: pre-wrap;\n",
       "}\n",
       "</style>\n",
       "<small>shape: (0, 0)</small><table border=\"1\" class=\"dataframe\"><thead><tr></tr><tr></tr></thead><tbody></tbody></table></div>"
      ],
      "text/plain": [
       "shape: (0, 0)\n",
       "┌┐\n",
       "╞╡\n",
       "└┘"
      ]
     },
     "execution_count": 79,
     "metadata": {},
     "output_type": "execute_result"
    }
   ],
   "source": [
    "# creating a table from s3\n",
    "\n",
    "query_text = \"\"\"--sql \n",
    "CREATE TABLE db1.deals_base_dir_bitrix\n",
    "(\n",
    "    ID UInt64,\n",
    "    TITLE String,\n",
    "    TYPE_ID String,\n",
    "    STAGE_ID String,\n",
    "    PROBABILITY String,\n",
    "    CURRENCY_ID String,\n",
    "    OPPORTUNITY Float64,\n",
    "    IS_MANUAL_OPPORTUNITY String,\n",
    "    TAX_VALUE Float64,\n",
    "    LEAD_ID String,\n",
    "    COMPANY_ID String,\n",
    "    CONTACT_ID String,\n",
    "    QUOTE_ID String,\n",
    "    BEGINDATE String,\n",
    "    CLOSEDATE String,\n",
    "    ASSIGNED_BY_ID String,\n",
    "    CREATED_BY_ID String,\n",
    "    MODIFY_BY_ID String,\n",
    "    DATE_CREATE String,\n",
    "    DATE_MODIFY String,\n",
    "    OPENED String,\n",
    "    CLOSED String,\n",
    "    ADDITIONAL_INFO String,\n",
    "    LOCATION_ID String,\n",
    "    CATEGORY_ID UInt8,\n",
    "    STAGE_SEMANTIC_ID String,\n",
    "    IS_NEW String,\n",
    "    IS_RECURRING String,\n",
    "    IS_RETURN_CUSTOMER String,\n",
    "    IS_REPEATED_APPROACH String,\n",
    "    SOURCE_ID String,\n",
    "    SOURCE_DESCRIPTION String,\n",
    "    ORIGINATOR_ID String,\n",
    "    ORIGIN_ID String,\n",
    "    MOVED_BY_ID String,\n",
    "    MOVED_TIME String,\n",
    "    LAST_ACTIVITY_TIME String,\n",
    "    UTM_SOURCE String,\n",
    "    UTM_MEDIUM String,\n",
    "    UTM_CAMPAIGN String,\n",
    "    UTM_CONTENT String,\n",
    "    UTM_TERM String,\n",
    "    PARENT_ID_186 String,\n",
    "    LAST_COMMUNICATION_TIME String,\n",
    "    LAST_ACTIVITY_BY String\n",
    ")\n",
    "ENGINE = S3('https://storage.yandexcloud.net/aggregated-data/bitrix_deals_base/*.csv','CSVWithNames')\n",
    "SETTINGS format_csv_delimiter = ';'\n",
    "    \"\"\"\n",
    "\n",
    "ch.query_run(query_text)"
   ]
  },
  {
   "cell_type": "code",
   "execution_count": 80,
   "id": "ad91d751",
   "metadata": {},
   "outputs": [
    {
     "data": {
      "text/html": [
       "<div><style>\n",
       ".dataframe > thead > tr,\n",
       ".dataframe > tbody > tr {\n",
       "  text-align: right;\n",
       "  white-space: pre-wrap;\n",
       "}\n",
       "</style>\n",
       "<small>shape: (0, 0)</small><table border=\"1\" class=\"dataframe\"><thead><tr></tr><tr></tr></thead><tbody></tbody></table></div>"
      ],
      "text/plain": [
       "shape: (0, 0)\n",
       "┌┐\n",
       "╞╡\n",
       "└┘"
      ]
     },
     "execution_count": 80,
     "metadata": {},
     "output_type": "execute_result"
    }
   ],
   "source": [
    "query_text = \"\"\"--sql\n",
    "    CREATE TABLE db1.deals_base_dir_bitrix_ch\n",
    "(\n",
    "    ID UInt64,\n",
    "    TITLE String,\n",
    "    TYPE_ID String,\n",
    "    STAGE_ID String,\n",
    "    PROBABILITY String,\n",
    "    CURRENCY_ID String,\n",
    "    OPPORTUNITY Float64,\n",
    "    IS_MANUAL_OPPORTUNITY String,\n",
    "    TAX_VALUE Float64,\n",
    "    LEAD_ID String,\n",
    "    COMPANY_ID String,\n",
    "    CONTACT_ID String,\n",
    "    QUOTE_ID String,\n",
    "    BEGINDATE String,\n",
    "    CLOSEDATE String,\n",
    "    ASSIGNED_BY_ID String,\n",
    "    CREATED_BY_ID String,\n",
    "    MODIFY_BY_ID String,\n",
    "    DATE_CREATE String,\n",
    "    DATE_MODIFY String,\n",
    "    OPENED String,\n",
    "    CLOSED String,\n",
    "    ADDITIONAL_INFO String,\n",
    "    LOCATION_ID String,\n",
    "    CATEGORY_ID UInt8,\n",
    "    STAGE_SEMANTIC_ID String,\n",
    "    IS_NEW String,\n",
    "    IS_RECURRING String,\n",
    "    IS_RETURN_CUSTOMER String,\n",
    "    IS_REPEATED_APPROACH String,\n",
    "    SOURCE_ID String,\n",
    "    SOURCE_DESCRIPTION String,\n",
    "    ORIGINATOR_ID String,\n",
    "    ORIGIN_ID String,\n",
    "    MOVED_BY_ID String,\n",
    "    MOVED_TIME String,\n",
    "    LAST_ACTIVITY_TIME String,\n",
    "    UTM_SOURCE String,\n",
    "    UTM_MEDIUM String,\n",
    "    UTM_CAMPAIGN String,\n",
    "    UTM_CONTENT String,\n",
    "    UTM_TERM String,\n",
    "    PARENT_ID_186 String,\n",
    "    LAST_COMMUNICATION_TIME String,\n",
    "    LAST_ACTIVITY_BY String\n",
    ")\n",
    "    ENGINE = MergeTree()\n",
    "    ORDER BY ID\n",
    "    \n",
    "    \"\"\"\n",
    "\n",
    "ch.query_run(query_text)"
   ]
  },
  {
   "cell_type": "code",
   "execution_count": 81,
   "id": "3ce96924",
   "metadata": {},
   "outputs": [
    {
     "data": {
      "text/html": [
       "<div><style>\n",
       ".dataframe > thead > tr,\n",
       ".dataframe > tbody > tr {\n",
       "  text-align: right;\n",
       "  white-space: pre-wrap;\n",
       "}\n",
       "</style>\n",
       "<small>shape: (0, 0)</small><table border=\"1\" class=\"dataframe\"><thead><tr></tr><tr></tr></thead><tbody></tbody></table></div>"
      ],
      "text/plain": [
       "shape: (0, 0)\n",
       "┌┐\n",
       "╞╡\n",
       "└┘"
      ]
     },
     "execution_count": 81,
     "metadata": {},
     "output_type": "execute_result"
    }
   ],
   "source": [
    "query_text = \"\"\"--sql\n",
    "    CREATE MATERIALIZED VIEW db1.deals_base_dir_bitrix_mv\n",
    "    REFRESH EVERY 1 DAY OFFSET 3 HOUR RANDOMIZE FOR 1 HOUR TO db1.deals_base_dir_bitrix_ch AS\n",
    "    SELECT\n",
    "        *\n",
    "    FROM db1.deals_base_dir_bitrix\n",
    "    \"\"\"\n",
    "\n",
    "ch.query_run(query_text)"
   ]
  },
  {
   "cell_type": "markdown",
   "id": "bde3c224",
   "metadata": {},
   "source": [
    "___\n",
    "## Tools\n",
    "___\n",
    "### query\n"
   ]
  },
  {
   "cell_type": "code",
   "execution_count": 82,
   "id": "753f3e24",
   "metadata": {},
   "outputs": [
    {
     "data": {
      "text/html": [
       "<div><style>\n",
       ".dataframe > thead > tr,\n",
       ".dataframe > tbody > tr {\n",
       "  text-align: right;\n",
       "  white-space: pre-wrap;\n",
       "}\n",
       "</style>\n",
       "<small>shape: (100, 45)</small><table border=\"1\" class=\"dataframe\"><thead><tr><th>ID</th><th>TITLE</th><th>TYPE_ID</th><th>STAGE_ID</th><th>PROBABILITY</th><th>CURRENCY_ID</th><th>OPPORTUNITY</th><th>IS_MANUAL_OPPORTUNITY</th><th>TAX_VALUE</th><th>LEAD_ID</th><th>COMPANY_ID</th><th>CONTACT_ID</th><th>QUOTE_ID</th><th>BEGINDATE</th><th>CLOSEDATE</th><th>ASSIGNED_BY_ID</th><th>CREATED_BY_ID</th><th>MODIFY_BY_ID</th><th>DATE_CREATE</th><th>DATE_MODIFY</th><th>OPENED</th><th>CLOSED</th><th>ADDITIONAL_INFO</th><th>LOCATION_ID</th><th>CATEGORY_ID</th><th>STAGE_SEMANTIC_ID</th><th>IS_NEW</th><th>IS_RECURRING</th><th>IS_RETURN_CUSTOMER</th><th>IS_REPEATED_APPROACH</th><th>SOURCE_ID</th><th>SOURCE_DESCRIPTION</th><th>ORIGINATOR_ID</th><th>ORIGIN_ID</th><th>MOVED_BY_ID</th><th>MOVED_TIME</th><th>LAST_ACTIVITY_TIME</th><th>UTM_SOURCE</th><th>UTM_MEDIUM</th><th>UTM_CAMPAIGN</th><th>UTM_CONTENT</th><th>UTM_TERM</th><th>PARENT_ID_186</th><th>LAST_COMMUNICATION_TIME</th><th>LAST_ACTIVITY_BY</th></tr><tr><td>i64</td><td>str</td><td>str</td><td>str</td><td>str</td><td>str</td><td>f64</td><td>str</td><td>f64</td><td>str</td><td>str</td><td>str</td><td>str</td><td>str</td><td>str</td><td>str</td><td>str</td><td>str</td><td>str</td><td>str</td><td>str</td><td>str</td><td>str</td><td>str</td><td>i64</td><td>str</td><td>str</td><td>str</td><td>str</td><td>str</td><td>str</td><td>str</td><td>str</td><td>str</td><td>str</td><td>str</td><td>str</td><td>str</td><td>str</td><td>str</td><td>str</td><td>str</td><td>str</td><td>str</td><td>str</td></tr></thead><tbody><tr><td>2289</td><td>&quot;Продажа 4 х стёкол для домофон…</td><td>&quot;COMPLEX&quot;</td><td>&quot;WON&quot;</td><td>&quot;&quot;</td><td>&quot;RUB&quot;</td><td>0.0</td><td>&quot;Y&quot;</td><td>0.0</td><td>&quot;57&quot;</td><td>&quot;3531&quot;</td><td>&quot;&quot;</td><td>&quot;&quot;</td><td>&quot;2020-10-26T03:00:00+03:00&quot;</td><td>&quot;2020-10-31T03:00:00+03:00&quot;</td><td>&quot;9&quot;</td><td>&quot;9&quot;</td><td>&quot;9&quot;</td><td>&quot;2020-09-28T08:48:12+03:00&quot;</td><td>&quot;2020-12-15T21:42:35+03:00&quot;</td><td>&quot;Y&quot;</td><td>&quot;Y&quot;</td><td>&quot;&quot;</td><td>&quot;&quot;</td><td>0</td><td>&quot;S&quot;</td><td>&quot;N&quot;</td><td>&quot;N&quot;</td><td>&quot;N&quot;</td><td>&quot;N&quot;</td><td>&quot;EMAIL&quot;</td><td>&quot;&quot;</td><td>&quot;ONE_C&quot;</td><td>&quot;212c6965-17a0-11eb-a76d-005056…</td><td>&quot;9&quot;</td><td>&quot;2020-12-15T21:42:35+03:00&quot;</td><td>&quot;2020-09-28T08:48:12+03:00&quot;</td><td>&quot;&quot;</td><td>&quot;&quot;</td><td>&quot;&quot;</td><td>&quot;&quot;</td><td>&quot;&quot;</td><td>&quot;&quot;</td><td>&quot;26.09.2020 20:33:38&quot;</td><td>&quot;9&quot;</td></tr><tr><td>2295</td><td>&quot;Заказ клиента 00ЦБ-00248&quot;</td><td>&quot;2&quot;</td><td>&quot;WON&quot;</td><td>&quot;&quot;</td><td>&quot;RUB&quot;</td><td>9730.0</td><td>&quot;N&quot;</td><td>0.0</td><td>&quot;&quot;</td><td>&quot;3523&quot;</td><td>&quot;&quot;</td><td>&quot;&quot;</td><td>&quot;2020-10-16T03:00:00+03:00&quot;</td><td>&quot;2021-02-08T03:00:00+03:00&quot;</td><td>&quot;9&quot;</td><td>&quot;15&quot;</td><td>&quot;11&quot;</td><td>&quot;2020-10-16T10:01:41+03:00&quot;</td><td>&quot;2021-10-25T23:09:16+03:00&quot;</td><td>&quot;N&quot;</td><td>&quot;Y&quot;</td><td>&quot;&quot;</td><td>&quot;&quot;</td><td>0</td><td>&quot;S&quot;</td><td>&quot;N&quot;</td><td>&quot;N&quot;</td><td>&quot;N&quot;</td><td>&quot;N&quot;</td><td>&quot;&quot;</td><td>&quot;&quot;</td><td>&quot;ONE_C&quot;</td><td>&quot;4174a4fb-0ee0-11eb-a1e2-005056…</td><td>&quot;11&quot;</td><td>&quot;2021-02-08T19:02:22+03:00&quot;</td><td>&quot;2020-10-16T10:01:41+03:00&quot;</td><td>&quot;&quot;</td><td>&quot;&quot;</td><td>&quot;&quot;</td><td>&quot;&quot;</td><td>&quot;&quot;</td><td>&quot;&quot;</td><td>&quot;&quot;</td><td>&quot;15&quot;</td></tr><tr><td>2297</td><td>&quot;Заказ клиента 00ЦБ-00245&quot;</td><td>&quot;SALE&quot;</td><td>&quot;WON&quot;</td><td>&quot;&quot;</td><td>&quot;RUB&quot;</td><td>105600.0</td><td>&quot;N&quot;</td><td>0.0</td><td>&quot;&quot;</td><td>&quot;4183&quot;</td><td>&quot;&quot;</td><td>&quot;&quot;</td><td>&quot;2020-10-14T03:00:00+03:00&quot;</td><td>&quot;2020-10-28T03:00:00+03:00&quot;</td><td>&quot;9&quot;</td><td>&quot;15&quot;</td><td>&quot;11&quot;</td><td>&quot;2020-10-16T10:17:56+03:00&quot;</td><td>&quot;2021-10-25T23:09:22+03:00&quot;</td><td>&quot;N&quot;</td><td>&quot;Y&quot;</td><td>&quot;&quot;</td><td>&quot;&quot;</td><td>0</td><td>&quot;S&quot;</td><td>&quot;N&quot;</td><td>&quot;N&quot;</td><td>&quot;N&quot;</td><td>&quot;N&quot;</td><td>&quot;&quot;</td><td>&quot;&quot;</td><td>&quot;ONE_C&quot;</td><td>&quot;7d3cc4f0-0de1-11eb-a1e2-005056…</td><td>&quot;11&quot;</td><td>&quot;2020-10-28T14:18:44+03:00&quot;</td><td>&quot;2020-10-16T10:17:56+03:00&quot;</td><td>&quot;&quot;</td><td>&quot;&quot;</td><td>&quot;&quot;</td><td>&quot;&quot;</td><td>&quot;&quot;</td><td>&quot;&quot;</td><td>&quot;&quot;</td><td>&quot;15&quot;</td></tr><tr><td>2299</td><td>&quot;Заказ клиента 00ЦБ-00249&quot;</td><td>&quot;2&quot;</td><td>&quot;WON&quot;</td><td>&quot;&quot;</td><td>&quot;RUB&quot;</td><td>7900.0</td><td>&quot;N&quot;</td><td>0.0</td><td>&quot;&quot;</td><td>&quot;4629&quot;</td><td>&quot;&quot;</td><td>&quot;&quot;</td><td>&quot;2020-10-16T03:00:00+03:00&quot;</td><td>&quot;2021-02-08T03:00:00+03:00&quot;</td><td>&quot;9&quot;</td><td>&quot;15&quot;</td><td>&quot;11&quot;</td><td>&quot;2020-10-16T10:24:32+03:00&quot;</td><td>&quot;2021-10-25T23:09:16+03:00&quot;</td><td>&quot;N&quot;</td><td>&quot;Y&quot;</td><td>&quot;&quot;</td><td>&quot;&quot;</td><td>0</td><td>&quot;S&quot;</td><td>&quot;N&quot;</td><td>&quot;N&quot;</td><td>&quot;N&quot;</td><td>&quot;N&quot;</td><td>&quot;&quot;</td><td>&quot;&quot;</td><td>&quot;ONE_C&quot;</td><td>&quot;4174a50a-0ee0-11eb-a1e2-005056…</td><td>&quot;11&quot;</td><td>&quot;2021-02-08T19:02:34+03:00&quot;</td><td>&quot;2020-10-16T10:24:32+03:00&quot;</td><td>&quot;&quot;</td><td>&quot;&quot;</td><td>&quot;&quot;</td><td>&quot;&quot;</td><td>&quot;&quot;</td><td>&quot;&quot;</td><td>&quot;16.10.2020 10:32:24&quot;</td><td>&quot;15&quot;</td></tr><tr><td>2301</td><td>&quot;Заказ клиента 00ЦБ-00250&quot;</td><td>&quot;SALE&quot;</td><td>&quot;WON&quot;</td><td>&quot;&quot;</td><td>&quot;RUB&quot;</td><td>35200.0</td><td>&quot;N&quot;</td><td>0.0</td><td>&quot;&quot;</td><td>&quot;4631&quot;</td><td>&quot;&quot;</td><td>&quot;&quot;</td><td>&quot;2020-10-16T03:00:00+03:00&quot;</td><td>&quot;2020-10-28T03:00:00+03:00&quot;</td><td>&quot;9&quot;</td><td>&quot;15&quot;</td><td>&quot;11&quot;</td><td>&quot;2020-10-16T11:01:13+03:00&quot;</td><td>&quot;2021-10-25T23:09:19+03:00&quot;</td><td>&quot;N&quot;</td><td>&quot;Y&quot;</td><td>&quot;&quot;</td><td>&quot;&quot;</td><td>0</td><td>&quot;S&quot;</td><td>&quot;N&quot;</td><td>&quot;N&quot;</td><td>&quot;N&quot;</td><td>&quot;N&quot;</td><td>&quot;&quot;</td><td>&quot;&quot;</td><td>&quot;ONE_C&quot;</td><td>&quot;739f4cce-0f80-11eb-a1e2-005056…</td><td>&quot;11&quot;</td><td>&quot;2020-10-28T14:19:28+03:00&quot;</td><td>&quot;2020-10-16T11:01:13+03:00&quot;</td><td>&quot;&quot;</td><td>&quot;&quot;</td><td>&quot;&quot;</td><td>&quot;&quot;</td><td>&quot;&quot;</td><td>&quot;&quot;</td><td>&quot;&quot;</td><td>&quot;15&quot;</td></tr><tr><td>&hellip;</td><td>&hellip;</td><td>&hellip;</td><td>&hellip;</td><td>&hellip;</td><td>&hellip;</td><td>&hellip;</td><td>&hellip;</td><td>&hellip;</td><td>&hellip;</td><td>&hellip;</td><td>&hellip;</td><td>&hellip;</td><td>&hellip;</td><td>&hellip;</td><td>&hellip;</td><td>&hellip;</td><td>&hellip;</td><td>&hellip;</td><td>&hellip;</td><td>&hellip;</td><td>&hellip;</td><td>&hellip;</td><td>&hellip;</td><td>&hellip;</td><td>&hellip;</td><td>&hellip;</td><td>&hellip;</td><td>&hellip;</td><td>&hellip;</td><td>&hellip;</td><td>&hellip;</td><td>&hellip;</td><td>&hellip;</td><td>&hellip;</td><td>&hellip;</td><td>&hellip;</td><td>&hellip;</td><td>&hellip;</td><td>&hellip;</td><td>&hellip;</td><td>&hellip;</td><td>&hellip;</td><td>&hellip;</td><td>&hellip;</td></tr><tr><td>2567</td><td>&quot;Тест набор 2 Заказ клиента 00Ц…</td><td>&quot;2&quot;</td><td>&quot;WON&quot;</td><td>&quot;&quot;</td><td>&quot;RUB&quot;</td><td>9690.0</td><td>&quot;N&quot;</td><td>0.0</td><td>&quot;&quot;</td><td>&quot;4755&quot;</td><td>&quot;&quot;</td><td>&quot;&quot;</td><td>&quot;2020-11-18T03:00:00+03:00&quot;</td><td>&quot;2021-02-08T03:00:00+03:00&quot;</td><td>&quot;9&quot;</td><td>&quot;15&quot;</td><td>&quot;11&quot;</td><td>&quot;2020-11-24T15:53:01+03:00&quot;</td><td>&quot;2021-10-25T23:09:23+03:00&quot;</td><td>&quot;N&quot;</td><td>&quot;Y&quot;</td><td>&quot;&quot;</td><td>&quot;&quot;</td><td>0</td><td>&quot;S&quot;</td><td>&quot;N&quot;</td><td>&quot;N&quot;</td><td>&quot;N&quot;</td><td>&quot;N&quot;</td><td>&quot;&quot;</td><td>&quot;&quot;</td><td>&quot;ONE_C&quot;</td><td>&quot;6c92d115-29a0-11eb-af00-005056…</td><td>&quot;11&quot;</td><td>&quot;2021-02-08T19:02:05+03:00&quot;</td><td>&quot;2020-11-24T15:53:01+03:00&quot;</td><td>&quot;&quot;</td><td>&quot;&quot;</td><td>&quot;&quot;</td><td>&quot;&quot;</td><td>&quot;&quot;</td><td>&quot;&quot;</td><td>&quot;&quot;</td><td>&quot;15&quot;</td></tr><tr><td>2569</td><td>&quot;Заказ клиента SPCB-000136&quot;</td><td>&quot;1&quot;</td><td>&quot;WON&quot;</td><td>&quot;&quot;</td><td>&quot;RUB&quot;</td><td>105600.0</td><td>&quot;N&quot;</td><td>0.0</td><td>&quot;&quot;</td><td>&quot;2569&quot;</td><td>&quot;&quot;</td><td>&quot;&quot;</td><td>&quot;2021-02-10T03:00:00+03:00&quot;</td><td>&quot;2021-08-10T03:00:00+03:00&quot;</td><td>&quot;19&quot;</td><td>&quot;15&quot;</td><td>&quot;11&quot;</td><td>&quot;2020-11-24T15:53:02+03:00&quot;</td><td>&quot;2022-07-22T12:44:02+03:00&quot;</td><td>&quot;N&quot;</td><td>&quot;Y&quot;</td><td>&quot;&quot;</td><td>&quot;&quot;</td><td>0</td><td>&quot;S&quot;</td><td>&quot;N&quot;</td><td>&quot;N&quot;</td><td>&quot;Y&quot;</td><td>&quot;N&quot;</td><td>&quot;&quot;</td><td>&quot;&quot;</td><td>&quot;ONE_C&quot;</td><td>&quot;19e5cbb0-6b81-11eb-be90-005056…</td><td>&quot;0&quot;</td><td>&quot;2021-11-01T16:28:11+03:00&quot;</td><td>&quot;2020-11-24T15:53:02+03:00&quot;</td><td>&quot;&quot;</td><td>&quot;&quot;</td><td>&quot;&quot;</td><td>&quot;&quot;</td><td>&quot;&quot;</td><td>&quot;&quot;</td><td>&quot;01.11.2021 10:28:11&quot;</td><td>&quot;15&quot;</td></tr><tr><td>2571</td><td>&quot;Структура&quot;</td><td>&quot;SERVICE&quot;</td><td>&quot;APOLOGY&quot;</td><td>&quot;&quot;</td><td>&quot;RUB&quot;</td><td>34560.0</td><td>&quot;N&quot;</td><td>0.0</td><td>&quot;&quot;</td><td>&quot;3867&quot;</td><td>&quot;&quot;</td><td>&quot;&quot;</td><td>&quot;2020-11-19T03:00:00+03:00&quot;</td><td>&quot;2021-11-29T03:00:00+03:00&quot;</td><td>&quot;9&quot;</td><td>&quot;15&quot;</td><td>&quot;0&quot;</td><td>&quot;2020-11-24T15:53:02+03:00&quot;</td><td>&quot;2021-11-29T15:32:05+03:00&quot;</td><td>&quot;N&quot;</td><td>&quot;Y&quot;</td><td>&quot;&quot;</td><td>&quot;&quot;</td><td>0</td><td>&quot;F&quot;</td><td>&quot;N&quot;</td><td>&quot;N&quot;</td><td>&quot;Y&quot;</td><td>&quot;N&quot;</td><td>&quot;&quot;</td><td>&quot;&quot;</td><td>&quot;ONE_C&quot;</td><td>&quot;1911bc61-2a47-11eb-af00-005056…</td><td>&quot;0&quot;</td><td>&quot;2021-11-29T15:32:04+03:00&quot;</td><td>&quot;2020-11-24T15:53:02+03:00&quot;</td><td>&quot;&quot;</td><td>&quot;&quot;</td><td>&quot;&quot;</td><td>&quot;&quot;</td><td>&quot;&quot;</td><td>&quot;&quot;</td><td>&quot;03.09.2021 07:02:01&quot;</td><td>&quot;15&quot;</td></tr><tr><td>2573</td><td>&quot;Заказ клиента 00ЦБ-00374&quot;</td><td>&quot;1&quot;</td><td>&quot;LOSE&quot;</td><td>&quot;&quot;</td><td>&quot;RUB&quot;</td><td>27600.32</td><td>&quot;N&quot;</td><td>0.0</td><td>&quot;&quot;</td><td>&quot;3653&quot;</td><td>&quot;&quot;</td><td>&quot;&quot;</td><td>&quot;2020-11-19T03:00:00+03:00&quot;</td><td>&quot;2021-02-13T03:00:00+03:00&quot;</td><td>&quot;9&quot;</td><td>&quot;15&quot;</td><td>&quot;11&quot;</td><td>&quot;2020-11-24T15:53:02+03:00&quot;</td><td>&quot;2021-10-25T23:09:33+03:00&quot;</td><td>&quot;N&quot;</td><td>&quot;Y&quot;</td><td>&quot;&quot;</td><td>&quot;&quot;</td><td>0</td><td>&quot;F&quot;</td><td>&quot;N&quot;</td><td>&quot;N&quot;</td><td>&quot;Y&quot;</td><td>&quot;N&quot;</td><td>&quot;&quot;</td><td>&quot;&quot;</td><td>&quot;ONE_C&quot;</td><td>&quot;b8d24701-2a52-11eb-af00-005056…</td><td>&quot;11&quot;</td><td>&quot;2021-02-13T14:32:49+03:00&quot;</td><td>&quot;2020-11-24T15:53:02+03:00&quot;</td><td>&quot;&quot;</td><td>&quot;&quot;</td><td>&quot;&quot;</td><td>&quot;&quot;</td><td>&quot;&quot;</td><td>&quot;&quot;</td><td>&quot;&quot;</td><td>&quot;15&quot;</td></tr><tr><td>2575</td><td>&quot;Заказ клиента 00ЦБ-00375&quot;</td><td>&quot;1&quot;</td><td>&quot;WON&quot;</td><td>&quot;&quot;</td><td>&quot;RUB&quot;</td><td>246400.0</td><td>&quot;N&quot;</td><td>0.0</td><td>&quot;&quot;</td><td>&quot;4559&quot;</td><td>&quot;&quot;</td><td>&quot;&quot;</td><td>&quot;2020-11-19T03:00:00+03:00&quot;</td><td>&quot;2020-12-17T03:00:00+03:00&quot;</td><td>&quot;9&quot;</td><td>&quot;15&quot;</td><td>&quot;11&quot;</td><td>&quot;2020-11-24T15:53:02+03:00&quot;</td><td>&quot;2021-02-26T11:40:50+03:00&quot;</td><td>&quot;N&quot;</td><td>&quot;Y&quot;</td><td>&quot;&quot;</td><td>&quot;&quot;</td><td>0</td><td>&quot;S&quot;</td><td>&quot;N&quot;</td><td>&quot;N&quot;</td><td>&quot;N&quot;</td><td>&quot;N&quot;</td><td>&quot;&quot;</td><td>&quot;&quot;</td><td>&quot;ONE_C&quot;</td><td>&quot;577e51a1-2a5d-11eb-af00-005056…</td><td>&quot;11&quot;</td><td>&quot;2021-02-16T14:07:18+03:00&quot;</td><td>&quot;2020-11-24T15:53:02+03:00&quot;</td><td>&quot;&quot;</td><td>&quot;&quot;</td><td>&quot;&quot;</td><td>&quot;&quot;</td><td>&quot;&quot;</td><td>&quot;&quot;</td><td>&quot;17.12.2020 16:39:01&quot;</td><td>&quot;15&quot;</td></tr></tbody></table></div>"
      ],
      "text/plain": [
       "shape: (100, 45)\n",
       "┌──────┬─────────────┬─────────┬──────────┬───┬──────────┬─────────────┬─────────────┬─────────────┐\n",
       "│ ID   ┆ TITLE       ┆ TYPE_ID ┆ STAGE_ID ┆ … ┆ UTM_TERM ┆ PARENT_ID_1 ┆ LAST_COMMUN ┆ LAST_ACTIVI │\n",
       "│ ---  ┆ ---         ┆ ---     ┆ ---      ┆   ┆ ---      ┆ 86          ┆ ICATION_TIM ┆ TY_BY       │\n",
       "│ i64  ┆ str         ┆ str     ┆ str      ┆   ┆ str      ┆ ---         ┆ E           ┆ ---         │\n",
       "│      ┆             ┆         ┆          ┆   ┆          ┆ str         ┆ ---         ┆ str         │\n",
       "│      ┆             ┆         ┆          ┆   ┆          ┆             ┆ str         ┆             │\n",
       "╞══════╪═════════════╪═════════╪══════════╪═══╪══════════╪═════════════╪═════════════╪═════════════╡\n",
       "│ 2289 ┆ Продажа 4 х ┆ COMPLEX ┆ WON      ┆ … ┆          ┆             ┆ 26.09.2020  ┆ 9           │\n",
       "│      ┆ стёкол для  ┆         ┆          ┆   ┆          ┆             ┆ 20:33:38    ┆             │\n",
       "│      ┆ домофон…    ┆         ┆          ┆   ┆          ┆             ┆             ┆             │\n",
       "│ 2295 ┆ Заказ       ┆ 2       ┆ WON      ┆ … ┆          ┆             ┆             ┆ 15          │\n",
       "│      ┆ клиента     ┆         ┆          ┆   ┆          ┆             ┆             ┆             │\n",
       "│      ┆ 00ЦБ-00248  ┆         ┆          ┆   ┆          ┆             ┆             ┆             │\n",
       "│ 2297 ┆ Заказ       ┆ SALE    ┆ WON      ┆ … ┆          ┆             ┆             ┆ 15          │\n",
       "│      ┆ клиента     ┆         ┆          ┆   ┆          ┆             ┆             ┆             │\n",
       "│      ┆ 00ЦБ-00245  ┆         ┆          ┆   ┆          ┆             ┆             ┆             │\n",
       "│ 2299 ┆ Заказ       ┆ 2       ┆ WON      ┆ … ┆          ┆             ┆ 16.10.2020  ┆ 15          │\n",
       "│      ┆ клиента     ┆         ┆          ┆   ┆          ┆             ┆ 10:32:24    ┆             │\n",
       "│      ┆ 00ЦБ-00249  ┆         ┆          ┆   ┆          ┆             ┆             ┆             │\n",
       "│ 2301 ┆ Заказ       ┆ SALE    ┆ WON      ┆ … ┆          ┆             ┆             ┆ 15          │\n",
       "│      ┆ клиента     ┆         ┆          ┆   ┆          ┆             ┆             ┆             │\n",
       "│      ┆ 00ЦБ-00250  ┆         ┆          ┆   ┆          ┆             ┆             ┆             │\n",
       "│ …    ┆ …           ┆ …       ┆ …        ┆ … ┆ …        ┆ …           ┆ …           ┆ …           │\n",
       "│ 2567 ┆ Тест набор  ┆ 2       ┆ WON      ┆ … ┆          ┆             ┆             ┆ 15          │\n",
       "│      ┆ 2 Заказ     ┆         ┆          ┆   ┆          ┆             ┆             ┆             │\n",
       "│      ┆ клиента     ┆         ┆          ┆   ┆          ┆             ┆             ┆             │\n",
       "│      ┆ 00Ц…        ┆         ┆          ┆   ┆          ┆             ┆             ┆             │\n",
       "│ 2569 ┆ Заказ       ┆ 1       ┆ WON      ┆ … ┆          ┆             ┆ 01.11.2021  ┆ 15          │\n",
       "│      ┆ клиента     ┆         ┆          ┆   ┆          ┆             ┆ 10:28:11    ┆             │\n",
       "│      ┆ SPCB-000136 ┆         ┆          ┆   ┆          ┆             ┆             ┆             │\n",
       "│ 2571 ┆ Структура   ┆ SERVICE ┆ APOLOGY  ┆ … ┆          ┆             ┆ 03.09.2021  ┆ 15          │\n",
       "│      ┆             ┆         ┆          ┆   ┆          ┆             ┆ 07:02:01    ┆             │\n",
       "│ 2573 ┆ Заказ       ┆ 1       ┆ LOSE     ┆ … ┆          ┆             ┆             ┆ 15          │\n",
       "│      ┆ клиента     ┆         ┆          ┆   ┆          ┆             ┆             ┆             │\n",
       "│      ┆ 00ЦБ-00374  ┆         ┆          ┆   ┆          ┆             ┆             ┆             │\n",
       "│ 2575 ┆ Заказ       ┆ 1       ┆ WON      ┆ … ┆          ┆             ┆ 17.12.2020  ┆ 15          │\n",
       "│      ┆ клиента     ┆         ┆          ┆   ┆          ┆             ┆ 16:39:01    ┆             │\n",
       "│      ┆ 00ЦБ-00375  ┆         ┆          ┆   ┆          ┆             ┆             ┆             │\n",
       "└──────┴─────────────┴─────────┴──────────┴───┴──────────┴─────────────┴─────────────┴─────────────┘"
      ]
     },
     "execution_count": 82,
     "metadata": {},
     "output_type": "execute_result"
    }
   ],
   "source": [
    "query_text = \"\"\"--sql\n",
    "    SELECT\n",
    "        *\n",
    "    FROM db1.deals_base_dir_bitrix_ch\n",
    "    limit 100\n",
    "    \"\"\"\n",
    "\n",
    "ch.query_run(query_text)\n"
   ]
  },
  {
   "cell_type": "markdown",
   "id": "48cee38e",
   "metadata": {},
   "source": [
    "### drop mv"
   ]
  },
  {
   "cell_type": "code",
   "execution_count": 77,
   "id": "83ee6152",
   "metadata": {
    "lines_to_next_cell": 2
   },
   "outputs": [
    {
     "data": {
      "text/html": [
       "<div><style>\n",
       ".dataframe > thead > tr,\n",
       ".dataframe > tbody > tr {\n",
       "  text-align: right;\n",
       "  white-space: pre-wrap;\n",
       "}\n",
       "</style>\n",
       "<small>shape: (0, 0)</small><table border=\"1\" class=\"dataframe\"><thead><tr></tr><tr></tr></thead><tbody></tbody></table></div>"
      ],
      "text/plain": [
       "shape: (0, 0)\n",
       "┌┐\n",
       "╞╡\n",
       "└┘"
      ]
     },
     "execution_count": 77,
     "metadata": {},
     "output_type": "execute_result"
    }
   ],
   "source": [
    "query_text = \"\"\"--sql\n",
    "    DROP TABLE db1.deals_base_dir_bitrix_mv\n",
    "    \"\"\"\n",
    "\n",
    "ch.query_run(query_text)"
   ]
  },
  {
   "cell_type": "markdown",
   "id": "820943ff",
   "metadata": {},
   "source": [
    "### drop ch"
   ]
  },
  {
   "cell_type": "code",
   "execution_count": null,
   "id": "bbd267b5",
   "metadata": {},
   "outputs": [
    {
     "data": {
      "text/html": [
       "<div><style>\n",
       ".dataframe > thead > tr,\n",
       ".dataframe > tbody > tr {\n",
       "  text-align: right;\n",
       "  white-space: pre-wrap;\n",
       "}\n",
       "</style>\n",
       "<small>shape: (0, 0)</small><table border=\"1\" class=\"dataframe\"><thead><tr></tr><tr></tr></thead><tbody></tbody></table></div>"
      ],
      "text/plain": [
       "shape: (0, 0)\n",
       "┌┐\n",
       "╞╡\n",
       "└┘"
      ]
     },
     "execution_count": 78,
     "metadata": {},
     "output_type": "execute_result"
    }
   ],
   "source": [
    "query_text = \"\"\"--sql\n",
    "    DROP TABLE db1.deals_base_dir_bitrix_ch\n",
    "    \"\"\"\n",
    "\n",
    "ch.query_run(query_text)"
   ]
  },
  {
   "cell_type": "markdown",
   "id": "781a9891",
   "metadata": {},
   "source": [
    "### refresh mv"
   ]
  },
  {
   "cell_type": "code",
   "execution_count": null,
   "id": "e1ff4938",
   "metadata": {},
   "outputs": [],
   "source": [
    "query_text = \"\"\"\n",
    "SYSTEM REFRESH VIEW db1.cameras_dir_asgard_mv\n",
    "\"\"\"\n",
    "\n",
    "ch.query_run(query_text)"
   ]
  }
 ],
 "metadata": {
  "jupytext": {
   "formats": "ipynb,md"
  },
  "kernelspec": {
   "display_name": "myenv",
   "language": "python",
   "name": "python3"
  },
  "language_info": {
   "codemirror_mode": {
    "name": "ipython",
    "version": 3
   },
   "file_extension": ".py",
   "mimetype": "text/x-python",
   "name": "python",
   "nbconvert_exporter": "python",
   "pygments_lexer": "ipython3",
   "version": "3.12.11"
  }
 },
 "nbformat": 4,
 "nbformat_minor": 5
}

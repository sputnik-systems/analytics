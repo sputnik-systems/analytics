{
 "cells": [
  {
   "cell_type": "markdown",
   "id": "2c68bf63",
   "metadata": {},
   "source": [
    "## Start"
   ]
  },
  {
   "cell_type": "code",
   "execution_count": null,
   "id": "9971a17c",
   "metadata": {},
   "outputs": [],
   "source": [
    "import clickhouse_connect\n",
    "import datetime\n",
    "import os\n",
    "import pytz\n",
    "import pandas as pd\n",
    "from dateutil.relativedelta import relativedelta\n",
    "from dotenv import load_dotenv\n",
    "\n",
    "import sys\n",
    "sys.path.append('/home/boris/Documents/Work/analytics/Clickhouse')\n",
    "from clickhouse_client import ClickHouse_client\n",
    "ch = ClickHouse_client()\n",
    "pd.set_option('display.max_rows', 1000)\n",
    "\n"
   ]
  },
  {
   "cell_type": "markdown",
   "id": "cc4058da",
   "metadata": {},
   "source": [
    "___\n",
    "## Drop the Table"
   ]
  },
  {
   "cell_type": "code",
   "execution_count": null,
   "id": "ad954511",
   "metadata": {},
   "outputs": [],
   "source": [
    "query_text = \"\"\"\n",
    "    DROP TABLE db1.citizens_st_mobile_parquet_mv\n",
    "    \"\"\"\n",
    "ch.query_run(query_text)"
   ]
  },
  {
   "cell_type": "markdown",
   "id": "c9a83047",
   "metadata": {},
   "source": [
    "___\n",
    "\n",
    "## Refreshing the data"
   ]
  },
  {
   "cell_type": "code",
   "execution_count": null,
   "id": "6650a60a",
   "metadata": {},
   "outputs": [],
   "source": [
    "query_text = \"\"\"\n",
    "SYSTEM REFRESH VIEW db1.citizens_st_mobile_parquet_mv\n",
    "\"\"\"\n",
    "\n",
    "ch.query_run(query_text)"
   ]
  },
  {
   "cell_type": "markdown",
   "id": "1f87181e",
   "metadata": {},
   "source": [
    "___\n",
    "## Change refresh time"
   ]
  },
  {
   "cell_type": "code",
   "execution_count": null,
   "id": "c2fafb59",
   "metadata": {},
   "outputs": [],
   "source": [
    "query_text = \"\"\"\n",
    "ALTER TABLE db1.companies_st_partner_mv\n",
    "MODIFY REFRESH EVERY 1 DAY OFFSET 4 HOUR RANDOMIZE FOR 1 HOUR;\n",
    "\"\"\"\n",
    "\n",
    "ch.query_run(query_text)"
   ]
  },
  {
   "cell_type": "markdown",
   "id": "f75f3e0b",
   "metadata": {},
   "source": [
    "___\n",
    "\n",
    "## Show all tables"
   ]
  },
  {
   "cell_type": "code",
   "execution_count": null,
   "id": "bd8bf2ef",
   "metadata": {},
   "outputs": [],
   "source": [
    "query_text = \"\"\"--sql\n",
    "    SHOW TABLES FROM db1\n",
    "\"\"\"\n",
    "df = ch.query_run(query_text)\n"
   ]
  },
  {
   "cell_type": "markdown",
   "id": "2f73bb36",
   "metadata": {},
   "source": [
    "____\n",
    "[[uk_addresses_partner]]\n",
    "___\n",
    "\n",
    "## [[users_st_partner]]\n"
   ]
  },
  {
   "cell_type": "code",
   "execution_count": null,
   "id": "d0ec0e8a",
   "metadata": {},
   "outputs": [],
   "source": [
    "query_text = \"\"\"--sql\n",
    "    CREATE TABLE db1.users_st_partner\n",
    "    (\n",
    "        `report_date` Date,\n",
    "        `partner_uuid`  String,\n",
    "        `last_logging` DateTime\n",
    "    )\n",
    "    ENGINE = S3('https://storage.yandexcloud.net/dwh-asgard/users_st_partner/year=*/month=*/*.csv','CSVWithNames')\n",
    "    \"\"\"\n",
    "\n",
    "ch.query_run(query_text)"
   ]
  },
  {
   "cell_type": "code",
   "execution_count": null,
   "id": "a09fb12f",
   "metadata": {},
   "outputs": [],
   "source": [
    "query_text = \"\"\"--sql\n",
    "    CREATE TABLE db1.users_st_partner_ch\n",
    "    (\n",
    "        `report_date` Date,\n",
    "        `partner_uuid`  String,\n",
    "        `last_logging` DateTime\n",
    "    )\n",
    "    ENGINE = MergeTree()\n",
    "    ORDER BY partner_uuid\n",
    "    \"\"\"\n",
    "\n",
    "ch.query_run(query_text)\n"
   ]
  },
  {
   "cell_type": "code",
   "execution_count": null,
   "id": "5229ecf2",
   "metadata": {},
   "outputs": [],
   "source": [
    "query_text = \"\"\"--sql\n",
    "    CREATE MATERIALIZED VIEW db1.users_st_partner_mv\n",
    "    REFRESH EVERY 1 DAY OFFSET 3 HOUR RANDOMIZE FOR 1 HOUR TO db1.users_st_partner_ch AS\n",
    "    SELECT\n",
    "        *\n",
    "    FROM db1.users_st_partner\n",
    "    \"\"\"\n",
    "\n",
    "ch.query_run(query_text)"
   ]
  },
  {
   "cell_type": "markdown",
   "id": "accf1b2e",
   "metadata": {},
   "source": [
    "___\n",
    "\n",
    "## [[uk_addresses_st_partner]]"
   ]
  },
  {
   "cell_type": "code",
   "execution_count": null,
   "id": "4830e059",
   "metadata": {},
   "outputs": [],
   "source": [
    "# creating a table from s3\n",
    "\n",
    "query_text = \"\"\"--sql\n",
    "    CREATE TABLE db1.uk_addresses_st_partner\n",
    "    (\n",
    "        `report_date` Date,\n",
    "        `partner_uuid_uk`  String,\n",
    "        `address_uuid` String\n",
    "    )\n",
    "    ENGINE = S3('https://storage.yandexcloud.net/dwh-asgard/uk_addresses_st_partner/year=*/month=*/*.csv','CSVWithNames')\n",
    "    \"\"\"\n",
    "\n",
    "ch.query_run(query_text)"
   ]
  },
  {
   "cell_type": "code",
   "execution_count": null,
   "id": "2d547fd4",
   "metadata": {},
   "outputs": [],
   "source": [
    "# creating a table for materialized view\n",
    "\n",
    "query_text = \"\"\"--sql\n",
    "    CREATE TABLE db1.uk_addresses_st_partner_ch\n",
    "    (\n",
    "       `report_date` Date,\n",
    "        `partner_uuid_uk` String,\n",
    "        `address_uuid` String\n",
    "    )\n",
    "    ENGINE = MergeTree()\n",
    "    ORDER BY partner_uuid_uk\n",
    "    \"\"\"\n",
    "\n",
    "ch.query_run(query_text)"
   ]
  },
  {
   "cell_type": "code",
   "execution_count": null,
   "id": "a2b1635c",
   "metadata": {},
   "outputs": [],
   "source": [
    "# creating a materialized view\n",
    "\n",
    "query_text = \"\"\"--sql\n",
    "    CREATE MATERIALIZED VIEW db1.uk_addresses_st_partner_mv\n",
    "    REFRESH EVERY 1 DAY OFFSET 3 HOUR RANDOMIZE FOR 1 HOUR TO db1.uk_addresses_st_partner_ch AS\n",
    "    SELECT\n",
    "        *\n",
    "    FROM db1.uk_addresses_st_partner\n",
    "    \"\"\"\n",
    "\n",
    "ch.query_run(query_text)"
   ]
  },
  {
   "cell_type": "markdown",
   "id": "ce60a5a4",
   "metadata": {},
   "source": [
    "___\n",
    "\n",
    "## [[uk_dir_partner]]"
   ]
  },
  {
   "cell_type": "code",
   "execution_count": null,
   "id": "5607c2bc",
   "metadata": {},
   "outputs": [],
   "source": [
    "# creating a table from s3\n",
    "\n",
    "query_text = \"\"\"--sql\n",
    "    CREATE TABLE db1.uk_dir_partner\n",
    "    (\n",
    "        `id` Int32,\n",
    "        `name`  String,\n",
    "        `partner_uuid_uk` String,\n",
    "        `created_at` String\n",
    "    )\n",
    "    ENGINE = S3('https://storage.yandexcloud.net/dwh-asgard/uk_dir_partner/uk_dir_partner.csv','CSVWithNames')\n",
    "    \"\"\"\n",
    "\n",
    "ch.query_run(query_text)"
   ]
  },
  {
   "cell_type": "code",
   "execution_count": null,
   "id": "b2ae5158",
   "metadata": {},
   "outputs": [],
   "source": [
    "# creating a table for materialized view\n",
    "\n",
    "query_text = \"\"\"--sql\n",
    "    CREATE TABLE db1.uk_dir_partner_ch\n",
    "    (\n",
    "        `id` Int32,\n",
    "        `name`  String,\n",
    "        `partner_uuid_uk` String,\n",
    "        `created_at` String\n",
    "    )\n",
    "    ENGINE = MergeTree()\n",
    "    ORDER BY partner_uuid_uk\n",
    "    \"\"\"\n",
    "\n",
    "ch.query_run(query_text)"
   ]
  },
  {
   "cell_type": "code",
   "execution_count": null,
   "id": "18b5547d",
   "metadata": {},
   "outputs": [],
   "source": [
    "# creating a materialized view\n",
    "\n",
    "query_text = \"\"\"--sql\n",
    "    CREATE MATERIALIZED VIEW db1.uk_dir_partner_mv\n",
    "    REFRESH EVERY 1 DAY OFFSET 3 HOUR RANDOMIZE FOR 1 HOUR TO db1.uk_dir_partner_ch AS\n",
    "    SELECT\n",
    "        *\n",
    "    FROM db1.uk_dir_partner\n",
    "    \"\"\"\n",
    "\n",
    "ch.query_run(query_text)"
   ]
  },
  {
   "cell_type": "markdown",
   "id": "626fda86",
   "metadata": {},
   "source": [
    "___\n",
    "\n",
    "## [[uk_st_partner]]\n",
    "\n"
   ]
  },
  {
   "cell_type": "code",
   "execution_count": null,
   "id": "aac13b1d",
   "metadata": {},
   "outputs": [],
   "source": [
    "# creating a table from s3\n",
    "\n",
    "query_text = \"\"\"--sql\n",
    "    CREATE TABLE db1.uk_st_partner\n",
    "    (\n",
    "        `partner_uuid` String,\n",
    "        `business_partner_uuid`  String,\n",
    "        `updated_at` DateTime,\n",
    "        `partner_uk_email` String,\n",
    "        `report_date` Date\n",
    "    )\n",
    "    ENGINE = S3('https://storage.yandexcloud.net/dwh-asgard/uk_st_partner/year=*/month=*/*.csv','CSVWithNames')\n",
    "    \"\"\"\n",
    "\n",
    "ch.query_run(query_text)"
   ]
  },
  {
   "cell_type": "code",
   "execution_count": null,
   "id": "2a26f0ba",
   "metadata": {},
   "outputs": [],
   "source": [
    "# creating a table for materialized view\n",
    "\n",
    "query_text = \"\"\"--sql\n",
    "    CREATE TABLE db1.uk_st_partner_ch\n",
    "    (\n",
    "        `partner_uuid` String,\n",
    "        `business_partner_uuid` String,\n",
    "        `updated_at` DateTime,\n",
    "        `partner_uk_email` String,\n",
    "        `report_date` Date\n",
    "    )\n",
    "    ENGINE = MergeTree()\n",
    "    ORDER BY partner_uuid\n",
    "    \"\"\"\n",
    "\n",
    "ch.query_run(query_text)"
   ]
  },
  {
   "cell_type": "code",
   "execution_count": null,
   "id": "6b140a3f",
   "metadata": {},
   "outputs": [],
   "source": [
    "# creating a materialized view\n",
    "\n",
    "query_text = \"\"\"--sql\n",
    "    CREATE MATERIALIZED VIEW db1.uk_st_partner_mv\n",
    "    REFRESH EVERY 1 DAY OFFSET 3 HOUR RANDOMIZE FOR 1 HOUR TO db1.uk_st_partner_ch AS\n",
    "    SELECT\n",
    "        *\n",
    "    FROM db1.uk_st_partner\n",
    "    \"\"\"\n",
    "\n",
    "ch.query_run(query_text)"
   ]
  },
  {
   "cell_type": "markdown",
   "id": "4211c8fe",
   "metadata": {},
   "source": [
    "___\n",
    "\n",
    "## [[no_video_on_stream_mobile_st_asgard]]"
   ]
  },
  {
   "cell_type": "code",
   "execution_count": null,
   "id": "b66c0175",
   "metadata": {},
   "outputs": [],
   "source": [
    "# creating a table from s3\n",
    "\n",
    "query_text = \"\"\"--sql\n",
    "    CREATE TABLE db1.no_video_on_stream_mobile_st_asgard\n",
    "    (\n",
    "        `report_date` Date,\n",
    "        `camera_uuid`  String,\n",
    "        `count` Int32,\n",
    "    )\n",
    "    ENGINE = S3('https://storage.yandexcloud.net/dwh-asgard/no_video_on_stream_mobile_st_asgard/year=*/month=*/*.csv','CSVWithNames')\n",
    "    \"\"\"\n",
    "\n",
    "ch.query_run(query_text)"
   ]
  },
  {
   "cell_type": "code",
   "execution_count": null,
   "id": "e7838440",
   "metadata": {},
   "outputs": [],
   "source": [
    "# creating a table for materialized view\n",
    "\n",
    "query_text = \"\"\"--sql\n",
    "    CREATE TABLE db1.no_video_on_stream_mobile_st_asgard_ch\n",
    "    (\n",
    "        `report_date` Date,\n",
    "        `camera_uuid`  String,\n",
    "        `count` Int32,\n",
    "    )\n",
    "    ENGINE = MergeTree()\n",
    "    ORDER BY camera_uuid\n",
    "    \"\"\"\n",
    "\n",
    "ch.query_run(query_text)"
   ]
  },
  {
   "cell_type": "code",
   "execution_count": null,
   "id": "59a4b8f0",
   "metadata": {},
   "outputs": [],
   "source": [
    "# creating a materialized view\n",
    "\n",
    "query_text = \"\"\"--sql\n",
    "    CREATE MATERIALIZED VIEW db1.no_video_on_stream_mobile_st_asgard_mv\n",
    "    REFRESH EVERY 1 DAY OFFSET 3 HOUR RANDOMIZE FOR 1 HOUR TO db1.no_video_on_stream_mobile_st_asgard_ch AS\n",
    "    SELECT\n",
    "        *\n",
    "    FROM db1.no_video_on_stream_mobile_st_asgard\n",
    "    \"\"\"\n",
    "\n",
    "ch.query_run(query_text)"
   ]
  },
  {
   "cell_type": "markdown",
   "id": "bb96fc2a",
   "metadata": {},
   "source": [
    "___\n",
    "\n",
    "## [[entries_st_mobile]]"
   ]
  },
  {
   "cell_type": "code",
   "execution_count": null,
   "id": "1d09cdfb",
   "metadata": {},
   "outputs": [],
   "source": [
    "# creating a table from s3\n",
    "\n",
    "query_text = \"\"\"--sql\n",
    "    CREATE TABLE db1.entries_st_mobile\n",
    "    (\n",
    "        `report_date` Date,\n",
    "        `address_uuid`  String,\n",
    "        `partner_uuid` String,\n",
    "        `monetization` String,\n",
    "        `ble_available` String,\n",
    "    )\n",
    "    ENGINE = S3('https://storage.yandexcloud.net/dwh-asgard/entries_st_mobile/year=*/month=*/*.csv','CSVWithNames')\n",
    "    \"\"\"\n",
    "\n",
    "ch.query_run(query_text)"
   ]
  },
  {
   "cell_type": "code",
   "execution_count": null,
   "id": "efeaa33e",
   "metadata": {},
   "outputs": [],
   "source": [
    "# creating a table for materialized view\n",
    "\n",
    "query_text = \"\"\"--sql\n",
    "    CREATE TABLE db1.entries_st_mobile_ch\n",
    "    (\n",
    "        `report_date` Date,\n",
    "        `address_uuid`  String,\n",
    "        `partner_uuid` String,\n",
    "        `monetization` String,\n",
    "        `ble_available` String,\n",
    "    )\n",
    "    ENGINE = MergeTree()\n",
    "    ORDER BY address_uuid\n",
    "    \"\"\"\n",
    "\n",
    "ch.query_run(query_text)"
   ]
  },
  {
   "cell_type": "code",
   "execution_count": null,
   "id": "d4f1a59f",
   "metadata": {},
   "outputs": [],
   "source": [
    "# creating a materialized view\n",
    "\n",
    "query_text = \"\"\"--sql\n",
    "    CREATE MATERIALIZED VIEW db1.entries_st_mobile_mv\n",
    "    REFRESH EVERY 1 DAY OFFSET 3 HOUR RANDOMIZE FOR 1 HOUR TO db1.entries_st_mobile_ch AS\n",
    "    SELECT\n",
    "        *\n",
    "    FROM db1.entries_st_mobile\n",
    "    \"\"\"\n",
    "\n",
    "ch.query_run(query_text)"
   ]
  },
  {
   "cell_type": "markdown",
   "id": "a8047d66",
   "metadata": {},
   "source": [
    "___\n",
    "\n",
    "## [[citizen_payments_st_mobile]]"
   ]
  },
  {
   "cell_type": "code",
   "execution_count": null,
   "id": "1429ffd5",
   "metadata": {},
   "outputs": [],
   "source": [
    "# creating a table from s3\n",
    "\n",
    "query_text = \"\"\"--sql\n",
    "    CREATE TABLE db1.citizen_payments_st_mobile\n",
    "    (\n",
    "        `report_date` Date,\n",
    "        `citizen_id`  Int32,\n",
    "        `state` String,\n",
    "        `amount` Int32,\n",
    "        `paid_at` DateTime,\n",
    "        `refunded_at` DateTime,\n",
    "        `refunded_amount` Int16,\n",
    "        `from` String,\n",
    "        `payment_id` Int32,\n",
    "        `product_ids` String\n",
    "    )\n",
    "    ENGINE = S3('https://storage.yandexcloud.net/dwh-asgard/citizen_payments_st_mobile/year=*/month=*/*.csv','CSVWithNames')\n",
    "    \"\"\"\n",
    "\n",
    "ch.query_run(query_text)"
   ]
  },
  {
   "cell_type": "code",
   "execution_count": null,
   "id": "c0adc185",
   "metadata": {},
   "outputs": [],
   "source": [
    "# creating a table for materialized view\n",
    "\n",
    "query_text = \"\"\"--sql\n",
    "    CREATE TABLE db1.citizen_payments_st_mobile_ch\n",
    "    (\n",
    "        `report_date` Date,\n",
    "        `citizen_id`  Int32,\n",
    "        `state` String,\n",
    "        `amount` Int32,\n",
    "        `paid_at` DateTime,\n",
    "        `refunded_at` DateTime,\n",
    "        `refunded_amount` Int16,\n",
    "        `from` String,\n",
    "        `payment_id` Int32,\n",
    "        `product_ids` String\n",
    "    )\n",
    "    ENGINE = MergeTree()\n",
    "    ORDER BY citizen_id\n",
    "    \"\"\"\n",
    "\n",
    "ch.query_run(query_text)"
   ]
  },
  {
   "cell_type": "code",
   "execution_count": null,
   "id": "83cc9884",
   "metadata": {},
   "outputs": [],
   "source": [
    "# creating a materialized view\n",
    "\n",
    "query_text = \"\"\"--sql\n",
    "    CREATE MATERIALIZED VIEW db1.citizen_payments_st_mobile_mv\n",
    "    REFRESH EVERY 1 DAY OFFSET 3 HOUR RANDOMIZE FOR 1 HOUR TO db1.citizen_payments_st_mobile_ch AS\n",
    "    SELECT\n",
    "        *\n",
    "    FROM db1.citizen_payments_st_mobile\n",
    "    \"\"\"\n",
    "\n",
    "ch.query_run(query_text)"
   ]
  },
  {
   "cell_type": "markdown",
   "id": "5969b8c4",
   "metadata": {},
   "source": [
    "___\n",
    "\n",
    "## [[sessions_st_mobile]]"
   ]
  },
  {
   "cell_type": "code",
   "execution_count": null,
   "id": "494cca1c",
   "metadata": {},
   "outputs": [],
   "source": [
    "# creating a table from s3\n",
    "\n",
    "query_text = \"\"\"--sql\n",
    "    CREATE TABLE db1.sessions_st_mobile\n",
    "    (\n",
    "        `report_date` Date,\n",
    "        `citizen_id`  Int32,\n",
    "        `created_at` DateTime,\n",
    "        `last_use` DateTime,\n",
    "        `updated_at` DateTime,\n",
    "        `platform` String,\n",
    "        `call_enabled` Int16,\n",
    "        `app` String,\n",
    "        `logged_in` Int16,\n",
    "        `timezone` String\n",
    "    )\n",
    "    ENGINE = S3('https://storage.yandexcloud.net/dwh-asgard/sessions_st_mobile/year=*/month=*/*.csv','CSVWithNames')\n",
    "    \"\"\"\n",
    "\n",
    "ch.query_run(query_text)"
   ]
  },
  {
   "cell_type": "code",
   "execution_count": null,
   "id": "3f587c53",
   "metadata": {},
   "outputs": [],
   "source": [
    "# creating a table for materialized view\n",
    "\n",
    "query_text = \"\"\"--sql\n",
    "    CREATE TABLE db1.sessions_st_mobile_ch\n",
    "    (\n",
    "        `report_date` Date,\n",
    "        `citizen_id`  Int32,\n",
    "        `created_at` DateTime,\n",
    "        `last_use` DateTime,\n",
    "        `updated_at` DateTime,\n",
    "        `platform` String,\n",
    "        `call_enabled` Int16,\n",
    "        `app` String,\n",
    "        `logged_in` Int16,\n",
    "        `timezone` String\n",
    "    )\n",
    "    ENGINE = MergeTree()\n",
    "    ORDER BY citizen_id\n",
    "    \"\"\"\n",
    "\n",
    "ch.query_run(query_text)"
   ]
  },
  {
   "cell_type": "code",
   "execution_count": null,
   "id": "48ee88cb",
   "metadata": {},
   "outputs": [],
   "source": [
    "# creating a materialized view\n",
    "\n",
    "query_text = \"\"\"--sql\n",
    "    CREATE MATERIALIZED VIEW db1.sessions_st_mobile_mv\n",
    "    REFRESH EVERY 1 DAY OFFSET 3 HOUR RANDOMIZE FOR 1 HOUR TO db1.sessions_st_mobile_ch AS\n",
    "    SELECT\n",
    "        *\n",
    "    FROM db1.sessions_st_mobile\n",
    "    \"\"\"\n",
    "\n",
    "ch.query_run(query_text)"
   ]
  },
  {
   "cell_type": "markdown",
   "id": "f7452966",
   "metadata": {},
   "source": [
    "___\n",
    "\n",
    "## [[subscriptions_st_mobile]]"
   ]
  },
  {
   "cell_type": "code",
   "execution_count": null,
   "id": "e1eb4b8e",
   "metadata": {},
   "outputs": [],
   "source": [
    "\n",
    "query_text = \"\"\"--sql\n",
    "    CREATE TABLE db1.subscriptions_st_mobile_2\n",
    "(\n",
    "    `report_date` Date,\n",
    "    `citizen_id` Int32,\n",
    "    `state` String,\n",
    "    `created_at` String,\n",
    "    `subscribed_from` String,\n",
    "    `auto_renew_status` Int16,\n",
    "    `activated_at` String,\n",
    "    `plan` String,\n",
    "    `expires_date` String,\n",
    "    `renew_stopped_at` String,\n",
    "    `renew_failed_at` String,\n",
    "    `started_from` String,\n",
    "    `renew_fail_reason` String\n",
    ")\n",
    "    ENGINE = S3Queue('https://storage.yandexcloud.net/dwh-asgard/subscriptions_st_mobile/year=*/month=*/*.csv','CSVWithNames')\n",
    "    SETTINGS mode = 'unordered'\n",
    "    \"\"\"\n",
    "\n",
    "ch.query_run(query_text)"
   ]
  },
  {
   "cell_type": "code",
   "execution_count": null,
   "id": "87ad5450",
   "metadata": {},
   "outputs": [],
   "source": [
    "query_text = \"\"\"--sql\n",
    "    CREATE TABLE db1.subscriptions_st_mobile_ch_2\n",
    "    (\n",
    "    `report_date` Date,\n",
    "    `citizen_id` Int32,\n",
    "    `state` String,\n",
    "    `created_at` String,\n",
    "    `subscribed_from` String,\n",
    "    `auto_renew_status` Int16,\n",
    "    `activated_at` String,\n",
    "    `plan` String,\n",
    "    `expires_date` String,\n",
    "    `renew_stopped_at` String,\n",
    "    `renew_failed_at` String,\n",
    "    `started_from` String,\n",
    "    `renew_fail_reason` String\n",
    "    )\n",
    "    ENGINE = MergeTree()\n",
    "    ORDER BY citizen_id\n",
    "    \"\"\"\n",
    "\n",
    "ch.query_run(query_text)"
   ]
  },
  {
   "cell_type": "code",
   "execution_count": null,
   "id": "b9b70bfe",
   "metadata": {},
   "outputs": [],
   "source": [
    "query_text = \"\"\"--sql\n",
    "    CREATE MATERIALIZED VIEW db1.subscriptions_st_mobile_mv_2 TO db1.subscriptions_st_mobile_ch_2 AS\n",
    "    SELECT\n",
    "        *\n",
    "    FROM db1.subscriptions_st_mobile\n",
    "    \"\"\"\n",
    "\n",
    "ch.query_run(query_text)"
   ]
  },
  {
   "cell_type": "code",
   "execution_count": null,
   "id": "12656a01",
   "metadata": {},
   "outputs": [],
   "source": [
    "query_text = \"\"\"--sql\n",
    "    SELECT\n",
    "        *\n",
    "    FROM db1.subscriptions_st_mobile_ch\n",
    "    WHERE report_date != '2025-06-25'\n",
    "    \"\"\"\n",
    "ch.query_run(query_text)"
   ]
  },
  {
   "cell_type": "code",
   "execution_count": null,
   "id": "12cf0cf3",
   "metadata": {},
   "outputs": [],
   "source": [
    "query_text = \"\"\"--sql\n",
    "    SELECT\n",
    "        *\n",
    "    FROM db1.subscriptions_st_mobile_ch_2\n",
    "    \"\"\"\n",
    "\n",
    "ch.query_run(query_text)"
   ]
  },
  {
   "cell_type": "code",
   "execution_count": null,
   "id": "7fcaecb6",
   "metadata": {},
   "outputs": [],
   "source": [
    "# creating a table from s3\n",
    "\n",
    "query_text = \"\"\"--sql\n",
    "    CREATE TABLE db1.subscriptions_st_mobile\n",
    "(\n",
    "    `report_date` Date,\n",
    "    `citizen_id` Int32,\n",
    "    `state` String,\n",
    "    `created_at` String,\n",
    "    `subscribed_from` String,\n",
    "    `auto_renew_status` Int16,\n",
    "    `activated_at` String,\n",
    "    `plan` String,\n",
    "    `expires_date` String,\n",
    "    `renew_stopped_at` String,\n",
    "    `renew_failed_at` String,\n",
    "    `started_from` String,\n",
    "    `renew_fail_reason` String\n",
    ")\n",
    "    ENGINE = S3('https://storage.yandexcloud.net/dwh-asgard/subscriptions_st_mobile/year=*/month=*/*.csv','CSVWithNames');\n",
    "    \"\"\"\n",
    "\n",
    "ch.query_run(query_text)\n"
   ]
  },
  {
   "cell_type": "code",
   "execution_count": null,
   "id": "b334efe3",
   "metadata": {},
   "outputs": [],
   "source": [
    "# creating a table for materialized view\n",
    "\n",
    "query_text = \"\"\"--sql\n",
    "    CREATE TABLE db1.subscriptions_st_mobile_ch\n",
    "    (\n",
    "    `report_date` Date,\n",
    "    `citizen_id` Int32,\n",
    "    `state` String,\n",
    "    `created_at` String,\n",
    "    `subscribed_from` String,\n",
    "    `auto_renew_status` Int16,\n",
    "    `activated_at` String,\n",
    "    `plan` String,\n",
    "    `expires_date` String,\n",
    "    `renew_stopped_at` String,\n",
    "    `renew_failed_at` String,\n",
    "    `started_from` String,\n",
    "    `renew_fail_reason` String\n",
    "    )\n",
    "    ENGINE = MergeTree()\n",
    "    ORDER BY citizen_id\n",
    "    \"\"\"\n",
    "\n",
    "ch.query_run(query_text)"
   ]
  },
  {
   "cell_type": "code",
   "execution_count": null,
   "id": "aa7d5e63",
   "metadata": {},
   "outputs": [],
   "source": [
    "query_text = \"\"\"--sql\n",
    "    CREATE MATERIALIZED VIEW db1.subscriptions_st_mobile_mv\n",
    "    REFRESH EVERY 1 DAY OFFSET 3 HOUR RANDOMIZE FOR 1 HOUR TO db1.subscriptions_st_mobile_ch AS\n",
    "    SELECT\n",
    "        *\n",
    "    FROM db1.subscriptions_st_mobile\n",
    "    \"\"\"\n",
    "\n",
    "ch.query_run(query_text)"
   ]
  },
  {
   "cell_type": "markdown",
   "id": "b6d99bc1",
   "metadata": {},
   "source": [
    "___\n",
    "\n",
    "## [[citizens_st_mobile]]\n"
   ]
  },
  {
   "cell_type": "code",
   "execution_count": null,
   "id": "784ea427",
   "metadata": {},
   "outputs": [],
   "source": [
    "# creating a table from s3\n",
    "\n",
    "query_text = \"\"\"--sql\n",
    "    CREATE TABLE db1.citizens_st_mobile\n",
    "    (\n",
    "    `report_date` Date,\n",
    "    `citizen_id` Int32,\n",
    "    `trial_available` Int32,\n",
    "    `state` String,\n",
    "    `flat_uuid` String,\n",
    "    `address_uuid` String\n",
    "    )\n",
    "    ENGINE = S3('https://storage.yandexcloud.net/dwh-asgard/citizens_st_mobile/year=*/month=*/*.csv','CSVWithNames')\n",
    "    \"\"\"\n",
    "\n",
    "ch.query_run(query_text)"
   ]
  },
  {
   "cell_type": "code",
   "execution_count": null,
   "id": "7a2d5188",
   "metadata": {},
   "outputs": [],
   "source": [
    "# creating a table for materialized view\n",
    "\n",
    "query_text = \"\"\"--sql\n",
    "    CREATE TABLE db1.citizens_st_mobile_ch\n",
    "    (\n",
    "    `report_date` Date,\n",
    "    `citizen_id` Int32,\n",
    "    `trial_available` Int32,\n",
    "    `state` String,\n",
    "    `flat_uuid` String,\n",
    "    `address_uuid` String\n",
    "    )\n",
    "    ENGINE = MergeTree()\n",
    "    ORDER BY report_date\n",
    "    \"\"\"\n",
    "\n",
    "ch.query_run(query_text)"
   ]
  },
  {
   "cell_type": "code",
   "execution_count": null,
   "id": "90193b95",
   "metadata": {},
   "outputs": [],
   "source": [
    "query_text = \"\"\"--sql\n",
    "    CREATE MATERIALIZED VIEW db1.citizens_st_mobile_mv\n",
    "    REFRESH EVERY 1 DAY OFFSET 3 HOUR RANDOMIZE FOR 1 HOUR TO db1.citizens_st_mobile_ch AS\n",
    "    SELECT\n",
    "        *\n",
    "    FROM db1.citizens_st_mobile\n",
    "    \"\"\"\n",
    "\n",
    "ch.query_run(query_text)"
   ]
  },
  {
   "cell_type": "code",
   "execution_count": null,
   "id": "769d6c5c",
   "metadata": {},
   "outputs": [],
   "source": [
    "query_text = \"\"\"--sql\n",
    "    SELECT\n",
    "        *\n",
    "    FROM db1.citizens_st_mobile_ch\n",
    "    where report_date = '2024-01-01'\n",
    "    limit 100\n",
    "    \"\"\"\n",
    "\n",
    "ch.query_run(query_text)"
   ]
  },
  {
   "cell_type": "markdown",
   "id": "d1594ee3",
   "metadata": {},
   "source": [
    "___\n",
    "\n",
    "## [[citizens_st_mobile_parquet]]"
   ]
  },
  {
   "cell_type": "code",
   "execution_count": null,
   "id": "922d9040",
   "metadata": {},
   "outputs": [],
   "source": [
    "query_text = \"\"\"--sql\n",
    "    CREATE TABLE db1.citizens_st_mobile_parquet\n",
    "    (\n",
    "    `report_date` Date,\n",
    "    `citizen_id` Int32,\n",
    "    `trial_available` Int32,\n",
    "    `state` String,\n",
    "    `flat_uuid` String,\n",
    "    `address_uuid` String\n",
    "    )\n",
    "    ENGINE = S3('https://storage.yandexcloud.net/dwh-asgard/citizens_st_mobile_parquet/year=*/month=*/*.parquet','parquet')\n",
    "    \"\"\"\n",
    "\n",
    "ch.query_run(query_text)"
   ]
  },
  {
   "cell_type": "code",
   "execution_count": null,
   "id": "da273d87",
   "metadata": {},
   "outputs": [],
   "source": [
    "query_text = \"\"\"--sql\n",
    "    CREATE TABLE db1.citizens_st_mobile_parquet_ch\n",
    "    (\n",
    "    `report_date` Date,\n",
    "    `citizen_id` Int32,\n",
    "    `trial_available` Int32,\n",
    "    `state` String,\n",
    "    `flat_uuid` String,\n",
    "    `address_uuid` String\n",
    "    )\n",
    "    ENGINE = MergeTree()\n",
    "    ORDER BY report_date\n",
    "    \"\"\"\n",
    "\n",
    "ch.query_run(query_text)"
   ]
  },
  {
   "cell_type": "code",
   "execution_count": null,
   "id": "adcd3f2d",
   "metadata": {},
   "outputs": [],
   "source": [
    "query_text = \"\"\"--sql\n",
    "    CREATE MATERIALIZED VIEW db1.citizens_st_mobile_parquet_mv\n",
    "    REFRESH EVERY 1 DAY OFFSET 3 HOUR 30 MINUTE RANDOMIZE FOR 1 HOUR TO db1.citizens_st_mobile_parquet_ch AS\n",
    "    SELECT\n",
    "        *\n",
    "    FROM db1.citizens_st_mobile_parquet\n",
    "    \"\"\"\n",
    "\n",
    "ch.query_run(query_text)"
   ]
  },
  {
   "cell_type": "code",
   "execution_count": null,
   "id": "0fbe9f62",
   "metadata": {},
   "outputs": [],
   "source": [
    "query_text = \"\"\"--sql\n",
    "    SELECT\n",
    "        *\n",
    "    FROM db1.citizens_st_mobile_parquet_ch\n",
    "    WHERE report_date = '2025-05-29'\n",
    "    limit 100\n",
    "    \"\"\"\n",
    "\n",
    "ch.query_run(query_text)"
   ]
  },
  {
   "cell_type": "code",
   "execution_count": null,
   "id": "73031133",
   "metadata": {},
   "outputs": [],
   "source": [
    "query_text = \"\"\"\n",
    "    DROP TABLE db1.citizens_st_mobile_parquet\n",
    "    \"\"\"\n",
    "ch.query_run(query_text)"
   ]
  },
  {
   "cell_type": "code",
   "execution_count": null,
   "id": "07804b32",
   "metadata": {},
   "outputs": [],
   "source": [
    "query_text = \"\"\"\n",
    "    SYSTEM T TABLE db1.citizens_st_mobile_parquet\n",
    "    \"\"\"\n",
    "ch.query_run(query_text)"
   ]
  },
  {
   "cell_type": "markdown",
   "id": "6107133d",
   "metadata": {},
   "source": [
    "___\n",
    "\n",
    "## [[citizens_dir_mobile]]\n"
   ]
  },
  {
   "cell_type": "code",
   "execution_count": null,
   "id": "728b1d70",
   "metadata": {},
   "outputs": [],
   "source": [
    "# creating a table from s3\n",
    "\n",
    "query_text = \"\"\"--sql\n",
    "    CREATE TABLE db1.citizens_dir_mobile\n",
    "    (\n",
    "    `created_at` String,\n",
    "    `activated_at` String,\n",
    "    `localization` String,\n",
    "    `flat_uuid` String,\n",
    "    `address_uuid` String,\n",
    "    `citizen_id` Int32\n",
    "    )\n",
    "    ENGINE = S3('https://storage.yandexcloud.net/dwh-asgard/citizens_dir_mobile/citizens_dir_mobile.csv','CSVWithNames')\n",
    "    \"\"\"\n",
    "\n",
    "ch.query_run(query_text)"
   ]
  },
  {
   "cell_type": "code",
   "execution_count": null,
   "id": "9731e452",
   "metadata": {},
   "outputs": [],
   "source": [
    "# creating a table for materialized view\n",
    "\n",
    "query_text = \"\"\"--sql\n",
    "    CREATE TABLE db1.citizens_dir_mobile_ch\n",
    "    (\n",
    "    `created_at` String,\n",
    "    `activated_at` String,\n",
    "    `localization` String,\n",
    "    `flat_uuid` String,\n",
    "    `address_uuid` String,\n",
    "    `citizen_id` Int32\n",
    "    )\n",
    "    ENGINE = MergeTree()\n",
    "    ORDER BY citizen_id\n",
    "    \"\"\"\n",
    "\n",
    "ch.query_run(query_text)"
   ]
  },
  {
   "cell_type": "code",
   "execution_count": null,
   "id": "a92748d8",
   "metadata": {},
   "outputs": [],
   "source": [
    "query_text = \"\"\"--sql\n",
    "    CREATE MATERIALIZED VIEW db1.citizens_dir_mobile_mv\n",
    "    REFRESH EVERY 1 DAY OFFSET 3 HOUR RANDOMIZE FOR 1 HOUR TO db1.citizens_dir_mobile_ch AS\n",
    "    SELECT\n",
    "        *\n",
    "    FROM db1.citizens_dir_mobile\n",
    "    \"\"\"\n",
    "\n",
    "ch.query_run(query_text)"
   ]
  },
  {
   "cell_type": "code",
   "execution_count": null,
   "id": "c581873e",
   "metadata": {},
   "outputs": [],
   "source": [
    "query_text = \"\"\"--sql\n",
    "    SELECT\n",
    "        *\n",
    "    FROM db1.citizens_dir_mobile_ch\n",
    "    limit 100\n",
    "    \"\"\"\n",
    "\n",
    "ch.query_run(query_text)"
   ]
  },
  {
   "cell_type": "markdown",
   "id": "8fe739b4",
   "metadata": {},
   "source": [
    "___\n",
    "\n",
    "## [[citizen_payments_dir_mobile]]\n"
   ]
  },
  {
   "cell_type": "code",
   "execution_count": null,
   "id": "4a355da8",
   "metadata": {},
   "outputs": [],
   "source": [
    "# creating a table from s3\n",
    "\n",
    "query_text = \"\"\"--sql\n",
    "    CREATE TABLE db1.citizen_payments_dir_mobile\n",
    "    (\n",
    "    `citizen_id` Int32,\n",
    "    `payment_id` Int64,\n",
    "    `created_at` DateTime,\n",
    "    `state` String,\n",
    "    `amount` Int64,\n",
    "    `paid_at` DateTime,\n",
    "    `refunded_at` DateTime,\n",
    "    `refunded_amount` Int64,\n",
    "    `from` String,\n",
    "    `product_ids` String\n",
    "    )\n",
    "    ENGINE = S3('https://storage.yandexcloud.net/dwh-asgard/citizen_payments_dir_mobile/citizen_payments_dir_mobile.csv','CSVWithNames')\n",
    "    \"\"\"\n",
    "\n",
    "ch.query_run(query_text)"
   ]
  },
  {
   "cell_type": "code",
   "execution_count": null,
   "id": "f413e68a",
   "metadata": {},
   "outputs": [],
   "source": [
    "query_text = \"\"\"--sql\n",
    "    CREATE TABLE db1.citizen_payments_dir_mobile_ch\n",
    "    (\n",
    "    `citizen_id` Int32,\n",
    "    `payment_id` Int64,\n",
    "    `created_at` DateTime,\n",
    "    `state` String,\n",
    "    `amount` Int64,\n",
    "    `paid_at` DateTime,\n",
    "    `refunded_at` DateTime,\n",
    "    `refunded_amount` Int64,\n",
    "    `from` String,\n",
    "    `product_ids` String\n",
    "    )\n",
    "    ENGINE = MergeTree()\n",
    "    ORDER BY citizen_id\n",
    "    \"\"\"\n",
    "\n",
    "ch.query_run(query_text)"
   ]
  },
  {
   "cell_type": "code",
   "execution_count": null,
   "id": "b29e8bf8",
   "metadata": {},
   "outputs": [],
   "source": [
    "query_text = \"\"\"--sql\n",
    "    CREATE MATERIALIZED VIEW db1.citizen_payments_dir_mobile_mv\n",
    "    REFRESH EVERY 1 DAY OFFSET 3 HOUR RANDOMIZE FOR 1 HOUR TO db1.citizen_payments_dir_mobile_ch AS\n",
    "    SELECT\n",
    "        *\n",
    "    FROM db1.citizen_payments_dir_mobile\n",
    "    \"\"\"\n",
    "\n",
    "ch.query_run(query_text)"
   ]
  },
  {
   "cell_type": "code",
   "execution_count": null,
   "id": "d926c05e",
   "metadata": {},
   "outputs": [],
   "source": []
  },
  {
   "cell_type": "code",
   "execution_count": null,
   "id": "8756079e",
   "metadata": {},
   "outputs": [],
   "source": [
    "query_text = \"\"\"--sql\n",
    "    SELECT\n",
    "        *\n",
    "    FROM db1.citizen_payments_dir_mobile_ch\n",
    "    limit 100\n",
    "    \"\"\"\n",
    "\n",
    "ch.query_run(query_text)"
   ]
  },
  {
   "cell_type": "markdown",
   "id": "8c2892b8",
   "metadata": {},
   "source": [
    "___\n",
    "\n",
    "## [[flats_dir_partner]]\n"
   ]
  },
  {
   "cell_type": "code",
   "execution_count": null,
   "id": "62932a05",
   "metadata": {},
   "outputs": [],
   "source": [
    "# creating a table from s3\n",
    "\n",
    "query_text = \"\"\"--sql\n",
    "    CREATE TABLE db1.flats_dir_partner\n",
    "    (\n",
    "    `created_at` DateTime,\n",
    "    `number` Int32,\n",
    "    `address_uuid` String,\n",
    "    `installation_point_id` Int64,\n",
    "    `flat_uuid` String\n",
    "    )\n",
    "    ENGINE = S3('https://storage.yandexcloud.net/dwh-asgard/flats_dir_partner/flats_dir_partner.csv','CSVWithNames')\n",
    "    \"\"\"\n",
    "\n",
    "ch.query_run(query_text)"
   ]
  },
  {
   "cell_type": "code",
   "execution_count": null,
   "id": "43698b5a",
   "metadata": {},
   "outputs": [],
   "source": [
    "query_text = \"\"\"--sql\n",
    "   CREATE TABLE db1.flats_dir_partner_ch\n",
    "    (\n",
    "    `created_at` DateTime,\n",
    "    `number` Int32,\n",
    "    `address_uuid` String,\n",
    "    `installation_point_id` Int64,\n",
    "    `flat_uuid` String\n",
    "    )\n",
    "    ENGINE = MergeTree()\n",
    "    ORDER BY flat_uuid\n",
    "    \"\"\"\n",
    "\n",
    "ch.query_run(query_text)"
   ]
  },
  {
   "cell_type": "code",
   "execution_count": null,
   "id": "0cdddf0d",
   "metadata": {},
   "outputs": [],
   "source": [
    "query_text = \"\"\"--sql\n",
    "    CREATE MATERIALIZED VIEW db1.flats_dir_partner_mv\n",
    "    REFRESH EVERY 1 DAY OFFSET 3 HOUR RANDOMIZE FOR 1 HOUR TO db1.flats_dir_partner_ch AS\n",
    "    SELECT\n",
    "        *\n",
    "    FROM db1.flats_dir_partner\n",
    "    \"\"\"\n",
    "\n",
    "ch.query_run(query_text)"
   ]
  },
  {
   "cell_type": "markdown",
   "id": "92b08ec0",
   "metadata": {},
   "source": [
    "___\n",
    "\n",
    "## [[flats_st_partner]]"
   ]
  },
  {
   "cell_type": "code",
   "execution_count": null,
   "id": "e918b81f",
   "metadata": {},
   "outputs": [],
   "source": [
    "# creating a table from s3\n",
    "\n",
    "query_text = \"\"\"--sql\n",
    "    CREATE TABLE db1.flats_st_partner\n",
    "    (\n",
    "    `report_date` Date,\n",
    "    `flat_uuid` String,\n",
    "    `call_blocked` Int16,\n",
    "    `blocked` Int16,\n",
    "    `deleted` Int16\n",
    "    )\n",
    "    ENGINE = S3('https://storage.yandexcloud.net/dwh-asgard/flats_st_partner/year=*/month=*/*.csv','CSVWithNames')\n",
    "    \"\"\"\n",
    "\n",
    "ch.query_run(query_text)"
   ]
  },
  {
   "cell_type": "code",
   "execution_count": null,
   "id": "49828995",
   "metadata": {},
   "outputs": [],
   "source": [
    "query_text = \"\"\"--sql\n",
    "   CREATE TABLE db1.flats_st_partner_ch\n",
    "    (\n",
    "    `report_date` Date,\n",
    "    `flat_uuid` String,\n",
    "    `call_blocked` Int16,\n",
    "    `blocked` Int16,\n",
    "    `deleted` Int16\n",
    "    )\n",
    "    ENGINE = MergeTree()\n",
    "    ORDER BY flat_uuid\n",
    "    \"\"\"\n",
    "\n",
    "ch.query_run(query_text)"
   ]
  },
  {
   "cell_type": "code",
   "execution_count": null,
   "id": "408c9ffc",
   "metadata": {},
   "outputs": [],
   "source": [
    "query_text = \"\"\"--sql\n",
    "    CREATE MATERIALIZED VIEW db1.flats_st_partner_mv\n",
    "    REFRESH EVERY 1 DAY OFFSET 3 HOUR RANDOMIZE FOR 1 HOUR TO db1.flats_st_partner_ch AS\n",
    "    SELECT\n",
    "        *\n",
    "    FROM db1.flats_st_partner\n",
    "    \"\"\"\n",
    "\n",
    "ch.query_run(query_text)"
   ]
  },
  {
   "cell_type": "markdown",
   "id": "611615f3",
   "metadata": {},
   "source": [
    "___\n",
    "\n",
    "## [[entries_installation_points_dir_partner]]"
   ]
  },
  {
   "cell_type": "code",
   "execution_count": null,
   "id": "10c436c2",
   "metadata": {},
   "outputs": [],
   "source": [
    "# creating a table from s3\n",
    "\n",
    "query_text = \"\"\"--sql\n",
    "    CREATE TABLE db1.entries_installation_points_dir_partner\n",
    "    (\n",
    "        `full_address` String,\n",
    "        `created_at` String,\n",
    "        `number` Int32,\n",
    "        `lat` String,\n",
    "        `lon` String,\n",
    "        `first_flat` Int16,\n",
    "        `last_flat` Int16,\n",
    "        `flats_count` Int16,\n",
    "        `address_uuid` String,\n",
    "        `parent_uuid` String,\n",
    "        `partner_uuid` String,\n",
    "        `installation_point_id` Int64,\n",
    "        `region` String,\n",
    "        `country` String,\n",
    "        `city` String\n",
    "    )\n",
    "    ENGINE = S3('https://storage.yandexcloud.net/dwh-asgard/entries_installation_points_dir_partner/entries_installation_points_dir_partner.csv','CSVWithNames');\n",
    "    \"\"\"\n",
    "\n",
    "ch.query_run(query_text)"
   ]
  },
  {
   "cell_type": "code",
   "execution_count": null,
   "id": "9cc103a1",
   "metadata": {},
   "outputs": [],
   "source": [
    "query_text = \"\"\"--sql\n",
    "   CREATE TABLE db1.entries_installation_points_dir_partner_ch\n",
    "    (\n",
    "        `full_address` String,\n",
    "        `created_at` String,\n",
    "        `number` Int32,\n",
    "        `lat` String,\n",
    "        `lon` String,\n",
    "        `first_flat` Int16,\n",
    "        `last_flat` Int16,\n",
    "        `flats_count` Int16,\n",
    "        `address_uuid` String,\n",
    "        `parent_uuid` String,\n",
    "        `partner_uuid` String,\n",
    "        `installation_point_id` Int64,\n",
    "        `region` String,\n",
    "        `country` String,\n",
    "        `city` String\n",
    "    )\n",
    "    ENGINE = MergeTree()\n",
    "    ORDER BY installation_point_id\n",
    "    \"\"\"\n",
    "\n",
    "ch.query_run(query_text)"
   ]
  },
  {
   "cell_type": "code",
   "execution_count": null,
   "id": "a61a55b0",
   "metadata": {},
   "outputs": [],
   "source": [
    "query_text = \"\"\"--sql\n",
    "    CREATE MATERIALIZED VIEW db1.entries_installation_points_dir_partner_mv\n",
    "    REFRESH EVERY 1 DAY OFFSET 3 HOUR RANDOMIZE FOR 1 HOUR TO db1.entries_installation_points_dir_partner_ch AS\n",
    "    SELECT\n",
    "        *\n",
    "    FROM db1.entries_installation_points_dir_partner\n",
    "    \"\"\"\n",
    "\n",
    "ch.query_run(query_text)"
   ]
  },
  {
   "cell_type": "markdown",
   "id": "c93d90c9",
   "metadata": {},
   "source": [
    "___\n",
    "\n",
    "## [[installation_point_st_partner]]"
   ]
  },
  {
   "cell_type": "code",
   "execution_count": null,
   "id": "faebe02b",
   "metadata": {},
   "outputs": [],
   "source": [
    "# creating a table from s3\n",
    "\n",
    "query_text = \"\"\"\n",
    "    CREATE TABLE db1.installation_point_st_partner\n",
    "    (\n",
    "        `report_date` Date,\n",
    "        `installation_point_id` Int64,\n",
    "        `digital_keys_count` String,\n",
    "        `device_keys_count` String,\n",
    "        `monetization_is_allowed` Int16,\n",
    "        `monetization` Int16,\n",
    "        `partner_uuid` String\n",
    "    )\n",
    "    ENGINE = S3('https://storage.yandexcloud.net/dwh-asgard/installation_point_st_partner/year=*/month=*/*.csv','CSVWithNames')\n",
    "    PARTITION BY report_date;\n",
    "    \"\"\"\n",
    "\n",
    "ch.query_run(query_text)"
   ]
  },
  {
   "cell_type": "code",
   "execution_count": null,
   "id": "aa2c4aa5",
   "metadata": {},
   "outputs": [],
   "source": [
    "query_text = \"\"\"--sql \n",
    "    CREATE TABLE db1.installation_point_st_partner_ch\n",
    "    (\n",
    "        `report_date` Date,\n",
    "        `installation_point_id` Int64,\n",
    "        `digital_keys_count` String,\n",
    "        `device_keys_count` String,\n",
    "        `monetization_is_allowed` Int16,\n",
    "        `monetization` Int16,\n",
    "        `partner_uuid` String\n",
    "    )\n",
    "    ENGINE = MergeTree()\n",
    "    ORDER BY installation_point_id\n",
    "    \"\"\"\n",
    "\n",
    "ch.query_run(query_text)"
   ]
  },
  {
   "cell_type": "code",
   "execution_count": null,
   "id": "4415912c",
   "metadata": {},
   "outputs": [],
   "source": [
    "query_text = \"\"\"--sql\n",
    "    CREATE MATERIALIZED VIEW db1.installation_point_st_partner_mv\n",
    "    REFRESH EVERY 1 DAY OFFSET 3 HOUR RANDOMIZE FOR 1 HOUR TO db1.installation_point_st_partner_ch AS\n",
    "    SELECT\n",
    "        *\n",
    "    FROM db1.installation_point_st_partner\n",
    "    \"\"\"\n",
    "\n",
    "ch.query_run(query_text)"
   ]
  },
  {
   "cell_type": "markdown",
   "id": "370617a1",
   "metadata": {},
   "source": [
    "___\n",
    "\n",
    "## [[buildings_st_partner]]"
   ]
  },
  {
   "cell_type": "code",
   "execution_count": null,
   "id": "c67e4a85",
   "metadata": {},
   "outputs": [],
   "source": [
    "# creating a table from s3\n",
    "\n",
    "query_text = \"\"\"--sql \n",
    "    CREATE TABLE db1.buildings_st_partner\n",
    "    (\n",
    "        `parent_uuid` String,\n",
    "        `installation_point_id` Int64,\n",
    "        `report_date` Date\n",
    "    )\n",
    "    ENGINE = S3('https://storage.yandexcloud.net/dwh-asgard/buildings_st_partner/year=*/month=*/*.csv','CSVWithNames')\n",
    "    PARTITION BY report_date\n",
    "    \"\"\"\n",
    "\n",
    "ch.query_run(query_text)"
   ]
  },
  {
   "cell_type": "code",
   "execution_count": null,
   "id": "076977fa",
   "metadata": {},
   "outputs": [],
   "source": [
    "query_text = \"\"\"--sql \n",
    "    CREATE TABLE db1.buildings_st_partner_ch\n",
    "    (\n",
    "        `parent_uuid` String,\n",
    "        `installation_point_id` Int64,\n",
    "        `report_date` Date\n",
    "    )\n",
    "    ENGINE = MergeTree()\n",
    "    ORDER BY installation_point_id\n",
    "    \"\"\"\n",
    "\n",
    "ch.query_run(query_text)"
   ]
  },
  {
   "cell_type": "code",
   "execution_count": null,
   "id": "46756e40",
   "metadata": {},
   "outputs": [],
   "source": [
    "query_text = \"\"\"--sql\n",
    "    CREATE MATERIALIZED VIEW db1.buildings_st_partner_mv\n",
    "    REFRESH EVERY 1 DAY OFFSET 3 HOUR RANDOMIZE FOR 1 HOUR TO db1.buildings_st_partner_ch AS\n",
    "    SELECT\n",
    "        *\n",
    "    FROM db1.buildings_st_partner\n",
    "    \"\"\"\n",
    "\n",
    "ch.query_run(query_text)"
   ]
  },
  {
   "cell_type": "code",
   "execution_count": null,
   "id": "95f71507",
   "metadata": {},
   "outputs": [],
   "source": []
  },
  {
   "cell_type": "markdown",
   "id": "9c53aeb6",
   "metadata": {},
   "source": [
    "___\n",
    "\n",
    "## [[gates_st_partner]]"
   ]
  },
  {
   "cell_type": "code",
   "execution_count": null,
   "id": "d3c94026",
   "metadata": {},
   "outputs": [],
   "source": [
    "# creating a table from s3\n",
    "\n",
    "query_text = \"\"\"--sql \n",
    "    CREATE TABLE db1.gates_st_partner\n",
    "    (\n",
    "        `parent_uuid` String,\n",
    "        `installation_point_id` Int64,\n",
    "        `report_date` Date\n",
    "    )\n",
    "    ENGINE = S3('https://storage.yandexcloud.net/dwh-asgard/gates_st_partner/year=*/month=*/*.csv','CSVWithNames')\n",
    "    PARTITION BY report_date\n",
    "    \"\"\"\n",
    "\n",
    "ch.query_run(query_text)"
   ]
  },
  {
   "cell_type": "code",
   "execution_count": null,
   "id": "411d4504",
   "metadata": {},
   "outputs": [],
   "source": [
    "query_text = \"\"\"--sql \n",
    "    CREATE TABLE db1.gates_st_partner_ch\n",
    "    (\n",
    "        `parent_uuid` String,\n",
    "        `installation_point_id` Int64,\n",
    "        `report_date` Date\n",
    "    )\n",
    "    ENGINE = MergeTree()\n",
    "    ORDER BY installation_point_id\n",
    "    \"\"\"\n",
    "\n",
    "ch.query_run(query_text)"
   ]
  },
  {
   "cell_type": "code",
   "execution_count": null,
   "id": "2727713b",
   "metadata": {},
   "outputs": [],
   "source": [
    "query_text = \"\"\"--sql\n",
    "    CREATE MATERIALIZED VIEW db1.gates_st_partner_mv\n",
    "    REFRESH EVERY 1 DAY OFFSET 3 HOUR RANDOMIZE FOR 1 HOUR TO db1.gates_st_partner_ch AS\n",
    "    SELECT\n",
    "        *\n",
    "    FROM db1.gates_st_partner\n",
    "    \"\"\"\n",
    "\n",
    "ch.query_run(query_text)"
   ]
  },
  {
   "cell_type": "markdown",
   "id": "4c78f8e2",
   "metadata": {},
   "source": [
    "___\n",
    "\n",
    "## [[accruals_dir_partner]]"
   ]
  },
  {
   "cell_type": "code",
   "execution_count": null,
   "id": "6cd3f93a",
   "metadata": {},
   "outputs": [],
   "source": [
    "# creating a table from s3\n",
    "\n",
    "query_text = \"\"\"--sql \n",
    "    CREATE TABLE db1.accruals_dir_partner\n",
    "    (\n",
    "        `partner_uuid` String,\n",
    "        `created_at` Date,\n",
    "        `state` String,\n",
    "        `amount` Float64,\n",
    "        `type` String,\n",
    "        `comment` String\n",
    "    )\n",
    "    ENGINE = S3('https://storage.yandexcloud.net/dwh-asgard/accruals_dir_partner/accruals_dir_partner.csv','CSVWithNames')\n",
    "    PARTITION BY report_date\n",
    "    \"\"\"\n",
    "\n",
    "ch.query_run(query_text)"
   ]
  },
  {
   "cell_type": "code",
   "execution_count": null,
   "id": "79fb95a5",
   "metadata": {},
   "outputs": [],
   "source": [
    "query_text = \"\"\"\n",
    "    CREATE TABLE db1.accruals_dir_partner_ch\n",
    "    (\n",
    "        `partner_uuid` String,\n",
    "        `created_at` Date,\n",
    "        `state` String,\n",
    "        `amount` Float64,\n",
    "        `type` String,\n",
    "        `comment` String\n",
    "    )\n",
    "    ENGINE = MergeTree()\n",
    "    ORDER BY partner_uuid\n",
    "    \"\"\"\n",
    "\n",
    "ch.query_run(query_text)"
   ]
  },
  {
   "cell_type": "code",
   "execution_count": null,
   "id": "c772ea84",
   "metadata": {},
   "outputs": [],
   "source": [
    "query_text = \"\"\"--sql\n",
    "    CREATE MATERIALIZED VIEW db1.accruals_dir_partner_mv\n",
    "    REFRESH EVERY 1 DAY OFFSET 3 HOUR RANDOMIZE FOR 1 HOUR TO db1.accruals_dir_partner_ch AS\n",
    "    SELECT\n",
    "        *\n",
    "    FROM db1.accruals_dir_partner\n",
    "    \"\"\"\n",
    "\n",
    "ch.query_run(query_text)"
   ]
  },
  {
   "cell_type": "code",
   "execution_count": null,
   "id": "ecc67c9b",
   "metadata": {},
   "outputs": [],
   "source": [
    "query_text = \"\"\"--sql\n",
    "    SELECT\n",
    "        *\n",
    "    FROM db1.accruals_dir_partner_ch\n",
    "    limit 100\n",
    "    \"\"\"\n",
    "\n",
    "ch.query_run(query_text)"
   ]
  },
  {
   "cell_type": "markdown",
   "id": "2f41a828",
   "metadata": {},
   "source": [
    "___\n",
    "\n",
    "## [[billing_orders_dir_partner]]"
   ]
  },
  {
   "cell_type": "code",
   "execution_count": null,
   "id": "7161b04b",
   "metadata": {},
   "outputs": [],
   "source": [
    "# creating a table from s3\n",
    "\n",
    "query_text = \"\"\"--sql \n",
    "    CREATE TABLE db1.billing_orders_dir_partner\n",
    "    (\n",
    "        `created_at` DateTime,\n",
    "        `state` String,\n",
    "        `service` String,\n",
    "        `cost` Float64,\n",
    "        `total` Float64,\n",
    "        `count` Int64,\n",
    "        `billing_account_id` String,\n",
    "        `partner_uuid` String\n",
    "    )\n",
    "    ENGINE = S3('https://storage.yandexcloud.net/dwh-asgard/billing_orders_dir_partner/billing_orders_dir_partner.csv','CSVWithNames')\n",
    "    PARTITION BY report_date\n",
    "    \"\"\"\n",
    "\n",
    "ch.query_run(query_text)"
   ]
  },
  {
   "cell_type": "code",
   "execution_count": null,
   "id": "8a874d44",
   "metadata": {},
   "outputs": [],
   "source": [
    "query_text = \"\"\"--sql\n",
    "    CREATE TABLE db1.billing_orders_dir_partner_ch\n",
    "    (\n",
    "        `created_at` DateTime,\n",
    "        `state` String,\n",
    "        `service` String,\n",
    "        `cost` Float64,\n",
    "        `total` Float64,\n",
    "        `count` Int64,\n",
    "        `billing_account_id` String,\n",
    "        `partner_uuid` String\n",
    "    )\n",
    "    ENGINE = MergeTree()\n",
    "    ORDER BY partner_uuid\n",
    "    \"\"\"\n",
    "\n",
    "ch.query_run(query_text)"
   ]
  },
  {
   "cell_type": "code",
   "execution_count": null,
   "id": "66b0aecc",
   "metadata": {},
   "outputs": [],
   "source": [
    "query_text = \"\"\"--sql\n",
    "    CREATE MATERIALIZED VIEW db1.billing_orders_dir_partner_mv\n",
    "    REFRESH EVERY 1 DAY OFFSET 3 HOUR RANDOMIZE FOR 1 HOUR TO db1.billing_orders_dir_partner_ch AS\n",
    "    SELECT\n",
    "        *\n",
    "    FROM db1.billing_orders_dir_partner\n",
    "    \"\"\"\n",
    "\n",
    "ch.query_run(query_text)"
   ]
  },
  {
   "cell_type": "code",
   "execution_count": null,
   "id": "51fd8698",
   "metadata": {},
   "outputs": [],
   "source": [
    "query_text = \"\"\"--sql\n",
    "\n",
    "SELECT\n",
    "    *\n",
    "FROM db1.billing_orders_dir_partner_ch\n",
    "limit 100\n",
    "\n",
    "\"\"\"\n",
    "\n",
    "ch.query_run(query_text)"
   ]
  },
  {
   "cell_type": "markdown",
   "id": "e561518b",
   "metadata": {},
   "source": [
    "___\n",
    "\n",
    "## [[billing_orders_devices_dir_partner]]\n",
    "\n"
   ]
  },
  {
   "cell_type": "code",
   "execution_count": null,
   "id": "eb3f0707",
   "metadata": {},
   "outputs": [],
   "source": [
    "# creating a table from s3\n",
    "\n",
    "query_text = \"\"\"--sql \n",
    "    CREATE TABLE db1.billing_orders_devices_st_partner\n",
    "    (   \n",
    "        `billing_account_id` Int64,\n",
    "        `cost` Float64,\n",
    "        `count` Int64,\n",
    "        `created_at` DateTime,\n",
    "        `device_type` String,\n",
    "        `device_uuid` String,\n",
    "        `partner_uuid` String,\n",
    "        `report_date` Date,\n",
    "        `service` String,\n",
    "        `state` String,\n",
    "        `total` Float64\n",
    "    )\n",
    "    ENGINE = S3('https://storage.yandexcloud.net/dwh-asgard/billing_orders_devices_dir_partner/billing_orders_devices_dir_partner.csv','CSVWithNames')\n",
    "    PARTITION BY billing_account_id\n",
    "    \"\"\"\n",
    "\n",
    "ch.query_run(query_text)"
   ]
  },
  {
   "cell_type": "code",
   "execution_count": null,
   "id": "15e8e9f3",
   "metadata": {},
   "outputs": [],
   "source": [
    "query_text = \"\"\"--sql\n",
    "    CREATE TABLE db1.billing_orders_devices_st_partner_ch\n",
    "    (   \n",
    "        `billing_account_id` Int64,\n",
    "        `cost` Float64,\n",
    "        `count` Int64,\n",
    "        `created_at` DateTime,\n",
    "        `device_type` String,\n",
    "        `device_uuid` String,\n",
    "        `partner_uuid` String,\n",
    "        `report_date` Date,\n",
    "        `service` String,\n",
    "        `state` String,\n",
    "        `total` Float64\n",
    "    )\n",
    "    ENGINE = MergeTree()\n",
    "    ORDER BY partner_uuid\n",
    "    \"\"\"\n",
    "\n",
    "ch.query_run(query_text)"
   ]
  },
  {
   "cell_type": "code",
   "execution_count": null,
   "id": "53f36c13",
   "metadata": {},
   "outputs": [],
   "source": [
    "query_text = \"\"\"--sql\n",
    "    CREATE MATERIALIZED VIEW db1.billing_orders_devices_st_partner_mv\n",
    "    REFRESH EVERY 1 DAY OFFSET 3 HOUR RANDOMIZE FOR 1 HOUR TO db1.billing_orders_devices_st_partner_ch AS\n",
    "    SELECT\n",
    "        *\n",
    "    FROM db1.billing_orders_devices_st_partner\n",
    "    \"\"\"\n",
    "\n",
    "ch.query_run(query_text)"
   ]
  },
  {
   "cell_type": "code",
   "execution_count": null,
   "id": "e7dbc19e",
   "metadata": {},
   "outputs": [],
   "source": [
    "query_text = \"\"\"SELECT\n",
    "    *\n",
    "FROM db1.billing_orders_devices_st_partner_ch\n",
    "limit 100\n",
    "\n",
    "\"\"\"\n",
    "\n",
    "ch.query_run(query_text)"
   ]
  },
  {
   "cell_type": "markdown",
   "id": "6b4357c2",
   "metadata": {},
   "source": [
    "___\n",
    "\n",
    "## [[companies_dir_partner]]"
   ]
  },
  {
   "cell_type": "code",
   "execution_count": null,
   "id": "0dd3771e",
   "metadata": {},
   "outputs": [],
   "source": [
    "# creating a table from s3\n",
    "\n",
    "query_text = \"\"\"--sql \n",
    "    CREATE TABLE db1.companies_dir_partner\n",
    "    (   \n",
    "        `company_name` String,\n",
    "        `partner_lk` String,\n",
    "        `registration_date` Date,\n",
    "        `partner_uuid` String,\n",
    "        `tin` String,\n",
    "        `kpp` String\n",
    "    )\n",
    "    ENGINE = S3('https://storage.yandexcloud.net/dwh-asgard/companies_dir_partner/companies_dir_partner.csv','CSVWithNames')\n",
    "    PARTITION BY partner_uuid\n",
    "    \"\"\"\n",
    "\n",
    "ch.query_run(query_text)"
   ]
  },
  {
   "cell_type": "code",
   "execution_count": null,
   "id": "2e457b70",
   "metadata": {},
   "outputs": [],
   "source": [
    "query_text = \"\"\"--sql\n",
    "    CREATE TABLE db1.companies_dir_partner_ch\n",
    "    (   \n",
    "        `company_name` String,\n",
    "        `partner_lk` String,\n",
    "        `registration_date` String,\n",
    "        `partner_uuid` String,\n",
    "        `tin` String,\n",
    "        `kpp` String\n",
    "    )\n",
    "    ENGINE = MergeTree()\n",
    "    ORDER BY partner_uuid\n",
    "    \"\"\"\n",
    "\n",
    "ch.query_run(query_text)"
   ]
  },
  {
   "cell_type": "code",
   "execution_count": null,
   "id": "76536711",
   "metadata": {},
   "outputs": [],
   "source": [
    "query_text = \"\"\"--sql\n",
    "    CREATE MATERIALIZED VIEW db1.companies_dir_partner_mv\n",
    "    REFRESH EVERY 1 DAY OFFSET 3 HOUR RANDOMIZE FOR 1 HOUR TO db1.companies_dir_partner_ch AS\n",
    "    SELECT\n",
    "        *\n",
    "    FROM db1.companies_dir_partner\n",
    "    \"\"\"\n",
    "\n",
    "ch.query_run(query_text)"
   ]
  },
  {
   "cell_type": "code",
   "execution_count": null,
   "id": "097531d5",
   "metadata": {},
   "outputs": [],
   "source": [
    "query_text = \"\"\"--sql\n",
    "SELECT\n",
    "    *\n",
    "FROM db1.companies_dir_partner_ch\n",
    "limit 100\n",
    "\n",
    "\"\"\"\n",
    "\n",
    "ch.query_run(query_text)"
   ]
  },
  {
   "cell_type": "markdown",
   "id": "4b9115ef",
   "metadata": {},
   "source": [
    "___\n",
    "\n",
    "## [[companies_st_partner]]"
   ]
  },
  {
   "cell_type": "code",
   "execution_count": 81,
   "id": "7345cf90",
   "metadata": {},
   "outputs": [
    {
     "data": {
      "text/html": [
       "<div>\n",
       "<style scoped>\n",
       "    .dataframe tbody tr th:only-of-type {\n",
       "        vertical-align: middle;\n",
       "    }\n",
       "\n",
       "    .dataframe tbody tr th {\n",
       "        vertical-align: top;\n",
       "    }\n",
       "\n",
       "    .dataframe thead th {\n",
       "        text-align: right;\n",
       "    }\n",
       "</style>\n",
       "<table border=\"1\" class=\"dataframe\">\n",
       "  <thead>\n",
       "    <tr style=\"text-align: right;\">\n",
       "      <th></th>\n",
       "    </tr>\n",
       "  </thead>\n",
       "  <tbody>\n",
       "  </tbody>\n",
       "</table>\n",
       "</div>"
      ],
      "text/plain": [
       "Empty DataFrame\n",
       "Columns: []\n",
       "Index: []"
      ]
     },
     "execution_count": 81,
     "metadata": {},
     "output_type": "execute_result"
    }
   ],
   "source": [
    "# creating a table from s3\n",
    "\n",
    "query_text = \"\"\"--sql \n",
    "CREATE TABLE db1.companies_st_partner\n",
    "(\n",
    "    `report_date` Date,\n",
    "    `partner_uuid` String,\n",
    "    `is_blocked` Int16,\n",
    "    `pro_subs` Int16,\n",
    "    `enterprise_subs` Int16,\n",
    "    `billing_pro` Int16,\n",
    "    `enterprise_not_paid` Int16,\n",
    "    `enterprise_test` Int16,\n",
    "    `balance` Float64,\n",
    "    `tariff` String,\n",
    "    `kz_pro` Int16\n",
    ")\n",
    "ENGINE = S3('https://storage.yandexcloud.net/dwh-asgard/companies_st_partner/year=*/month=*/*.csv', 'CSVWithNames')\n",
    "PARTITION BY partner_uuid\n",
    "    \"\"\"\n",
    "\n",
    "ch.query_run(query_text)"
   ]
  },
  {
   "cell_type": "code",
   "execution_count": 74,
   "id": "cce7280e",
   "metadata": {},
   "outputs": [
    {
     "data": {
      "text/html": [
       "<div>\n",
       "<style scoped>\n",
       "    .dataframe tbody tr th:only-of-type {\n",
       "        vertical-align: middle;\n",
       "    }\n",
       "\n",
       "    .dataframe tbody tr th {\n",
       "        vertical-align: top;\n",
       "    }\n",
       "\n",
       "    .dataframe thead th {\n",
       "        text-align: right;\n",
       "    }\n",
       "</style>\n",
       "<table border=\"1\" class=\"dataframe\">\n",
       "  <thead>\n",
       "    <tr style=\"text-align: right;\">\n",
       "      <th></th>\n",
       "    </tr>\n",
       "  </thead>\n",
       "  <tbody>\n",
       "  </tbody>\n",
       "</table>\n",
       "</div>"
      ],
      "text/plain": [
       "Empty DataFrame\n",
       "Columns: []\n",
       "Index: []"
      ]
     },
     "execution_count": 74,
     "metadata": {},
     "output_type": "execute_result"
    }
   ],
   "source": [
    "query_text = \"\"\"--sql\n",
    "    CREATE TABLE db1.companies_st_partner_ch\n",
    "(\n",
    "    `report_date` Date,\n",
    "    `partner_uuid` String,\n",
    "    `is_blocked` Int16,\n",
    "    `pro_subs` Int16,\n",
    "    `enterprise_subs` Int16,\n",
    "    `billing_pro` Int16,\n",
    "    `enterprise_not_paid` Int16,\n",
    "    `enterprise_test` Int16,\n",
    "    `balance` Float64,\n",
    "    `tariff` String,\n",
    "    `kz_pro` Int16\n",
    ")\n",
    "    ENGINE = MergeTree()\n",
    "    ORDER BY partner_uuid\n",
    "    \"\"\"\n",
    "\n",
    "ch.query_run(query_text)"
   ]
  },
  {
   "cell_type": "code",
   "execution_count": 75,
   "id": "1e94b381",
   "metadata": {},
   "outputs": [
    {
     "data": {
      "text/html": [
       "<div>\n",
       "<style scoped>\n",
       "    .dataframe tbody tr th:only-of-type {\n",
       "        vertical-align: middle;\n",
       "    }\n",
       "\n",
       "    .dataframe tbody tr th {\n",
       "        vertical-align: top;\n",
       "    }\n",
       "\n",
       "    .dataframe thead th {\n",
       "        text-align: right;\n",
       "    }\n",
       "</style>\n",
       "<table border=\"1\" class=\"dataframe\">\n",
       "  <thead>\n",
       "    <tr style=\"text-align: right;\">\n",
       "      <th></th>\n",
       "    </tr>\n",
       "  </thead>\n",
       "  <tbody>\n",
       "  </tbody>\n",
       "</table>\n",
       "</div>"
      ],
      "text/plain": [
       "Empty DataFrame\n",
       "Columns: []\n",
       "Index: []"
      ]
     },
     "execution_count": 75,
     "metadata": {},
     "output_type": "execute_result"
    }
   ],
   "source": [
    "query_text = \"\"\"--sql\n",
    "    CREATE MATERIALIZED VIEW db1.companies_st_partner_mv REFRESH EVERY 1 DAY OFFSET 3 HOUR RANDOMIZE FOR 1 HOUR TO db1.companies_st_partner_ch AS\n",
    "    SELECT\n",
    "       *\n",
    "    FROM db1.companies_st_partner\n",
    "    \"\"\"\n",
    "\n",
    "ch.query_run(query_text)"
   ]
  },
  {
   "cell_type": "code",
   "execution_count": 84,
   "id": "645d7a9e",
   "metadata": {},
   "outputs": [
    {
     "data": {
      "text/html": [
       "<div>\n",
       "<style scoped>\n",
       "    .dataframe tbody tr th:only-of-type {\n",
       "        vertical-align: middle;\n",
       "    }\n",
       "\n",
       "    .dataframe tbody tr th {\n",
       "        vertical-align: top;\n",
       "    }\n",
       "\n",
       "    .dataframe thead th {\n",
       "        text-align: right;\n",
       "    }\n",
       "</style>\n",
       "<table border=\"1\" class=\"dataframe\">\n",
       "  <thead>\n",
       "    <tr style=\"text-align: right;\">\n",
       "      <th></th>\n",
       "      <th>report_date</th>\n",
       "      <th>partner_uuid</th>\n",
       "      <th>is_blocked</th>\n",
       "      <th>pro_subs</th>\n",
       "      <th>enterprise_subs</th>\n",
       "      <th>billing_pro</th>\n",
       "      <th>enterprise_not_paid</th>\n",
       "      <th>enterprise_test</th>\n",
       "      <th>balance</th>\n",
       "      <th>tariff</th>\n",
       "      <th>kz_pro</th>\n",
       "    </tr>\n",
       "  </thead>\n",
       "  <tbody>\n",
       "    <tr>\n",
       "      <th>0</th>\n",
       "      <td>2025-06-26</td>\n",
       "      <td>0015d543-fcfe-4b73-a09a-0210478ec298</td>\n",
       "      <td>0</td>\n",
       "      <td>0</td>\n",
       "      <td>0</td>\n",
       "      <td>0</td>\n",
       "      <td>0</td>\n",
       "      <td>0</td>\n",
       "      <td>0.0</td>\n",
       "      <td>start</td>\n",
       "      <td>0</td>\n",
       "    </tr>\n",
       "    <tr>\n",
       "      <th>1</th>\n",
       "      <td>2025-06-26</td>\n",
       "      <td>006de3c1-fcc1-45ba-97dd-50555ccc0288</td>\n",
       "      <td>0</td>\n",
       "      <td>0</td>\n",
       "      <td>0</td>\n",
       "      <td>0</td>\n",
       "      <td>0</td>\n",
       "      <td>0</td>\n",
       "      <td>0.0</td>\n",
       "      <td>start</td>\n",
       "      <td>0</td>\n",
       "    </tr>\n",
       "    <tr>\n",
       "      <th>2</th>\n",
       "      <td>2025-06-26</td>\n",
       "      <td>002d2d98-6650-4232-a4f5-3cee8e866938</td>\n",
       "      <td>0</td>\n",
       "      <td>0</td>\n",
       "      <td>0</td>\n",
       "      <td>0</td>\n",
       "      <td>0</td>\n",
       "      <td>0</td>\n",
       "      <td>0.0</td>\n",
       "      <td>start</td>\n",
       "      <td>0</td>\n",
       "    </tr>\n",
       "    <tr>\n",
       "      <th>3</th>\n",
       "      <td>2025-06-26</td>\n",
       "      <td>002c3ccf-dbe4-42c1-8dba-ddeb305d39c5</td>\n",
       "      <td>0</td>\n",
       "      <td>0</td>\n",
       "      <td>0</td>\n",
       "      <td>0</td>\n",
       "      <td>0</td>\n",
       "      <td>0</td>\n",
       "      <td>0.0</td>\n",
       "      <td>start</td>\n",
       "      <td>0</td>\n",
       "    </tr>\n",
       "    <tr>\n",
       "      <th>4</th>\n",
       "      <td>2025-06-26</td>\n",
       "      <td>005c97dd-cff5-4867-ba92-27d75370cb60</td>\n",
       "      <td>0</td>\n",
       "      <td>0</td>\n",
       "      <td>0</td>\n",
       "      <td>0</td>\n",
       "      <td>0</td>\n",
       "      <td>0</td>\n",
       "      <td>0.0</td>\n",
       "      <td>start</td>\n",
       "      <td>0</td>\n",
       "    </tr>\n",
       "    <tr>\n",
       "      <th>5</th>\n",
       "      <td>2025-06-26</td>\n",
       "      <td>00503732-933f-46ba-a83c-01350bac7e9e</td>\n",
       "      <td>0</td>\n",
       "      <td>0</td>\n",
       "      <td>0</td>\n",
       "      <td>0</td>\n",
       "      <td>0</td>\n",
       "      <td>0</td>\n",
       "      <td>0.0</td>\n",
       "      <td>start</td>\n",
       "      <td>0</td>\n",
       "    </tr>\n",
       "    <tr>\n",
       "      <th>6</th>\n",
       "      <td>2025-06-26</td>\n",
       "      <td>001b89ca-3236-478c-ad0a-b40e985945b2</td>\n",
       "      <td>0</td>\n",
       "      <td>0</td>\n",
       "      <td>0</td>\n",
       "      <td>0</td>\n",
       "      <td>0</td>\n",
       "      <td>0</td>\n",
       "      <td>0.0</td>\n",
       "      <td>start</td>\n",
       "      <td>0</td>\n",
       "    </tr>\n",
       "    <tr>\n",
       "      <th>7</th>\n",
       "      <td>2025-06-26</td>\n",
       "      <td>0033b5f8-17dc-44ee-983e-895edd9b4ecf</td>\n",
       "      <td>0</td>\n",
       "      <td>0</td>\n",
       "      <td>0</td>\n",
       "      <td>0</td>\n",
       "      <td>0</td>\n",
       "      <td>0</td>\n",
       "      <td>0.0</td>\n",
       "      <td>start</td>\n",
       "      <td>0</td>\n",
       "    </tr>\n",
       "    <tr>\n",
       "      <th>8</th>\n",
       "      <td>2025-06-26</td>\n",
       "      <td>004693ce-e33a-47df-94a0-c47827b15225</td>\n",
       "      <td>0</td>\n",
       "      <td>0</td>\n",
       "      <td>0</td>\n",
       "      <td>0</td>\n",
       "      <td>0</td>\n",
       "      <td>0</td>\n",
       "      <td>0.0</td>\n",
       "      <td>start</td>\n",
       "      <td>0</td>\n",
       "    </tr>\n",
       "    <tr>\n",
       "      <th>9</th>\n",
       "      <td>2025-06-26</td>\n",
       "      <td>000bf901-47aa-4d6d-a46f-cba163829868</td>\n",
       "      <td>0</td>\n",
       "      <td>0</td>\n",
       "      <td>0</td>\n",
       "      <td>0</td>\n",
       "      <td>0</td>\n",
       "      <td>0</td>\n",
       "      <td>0.0</td>\n",
       "      <td>start</td>\n",
       "      <td>0</td>\n",
       "    </tr>\n",
       "  </tbody>\n",
       "</table>\n",
       "</div>"
      ],
      "text/plain": [
       "  report_date                          partner_uuid  is_blocked  pro_subs  \\\n",
       "0  2025-06-26  0015d543-fcfe-4b73-a09a-0210478ec298           0         0   \n",
       "1  2025-06-26  006de3c1-fcc1-45ba-97dd-50555ccc0288           0         0   \n",
       "2  2025-06-26  002d2d98-6650-4232-a4f5-3cee8e866938           0         0   \n",
       "3  2025-06-26  002c3ccf-dbe4-42c1-8dba-ddeb305d39c5           0         0   \n",
       "4  2025-06-26  005c97dd-cff5-4867-ba92-27d75370cb60           0         0   \n",
       "5  2025-06-26  00503732-933f-46ba-a83c-01350bac7e9e           0         0   \n",
       "6  2025-06-26  001b89ca-3236-478c-ad0a-b40e985945b2           0         0   \n",
       "7  2025-06-26  0033b5f8-17dc-44ee-983e-895edd9b4ecf           0         0   \n",
       "8  2025-06-26  004693ce-e33a-47df-94a0-c47827b15225           0         0   \n",
       "9  2025-06-26  000bf901-47aa-4d6d-a46f-cba163829868           0         0   \n",
       "\n",
       "   enterprise_subs  billing_pro  enterprise_not_paid  enterprise_test  \\\n",
       "0                0            0                    0                0   \n",
       "1                0            0                    0                0   \n",
       "2                0            0                    0                0   \n",
       "3                0            0                    0                0   \n",
       "4                0            0                    0                0   \n",
       "5                0            0                    0                0   \n",
       "6                0            0                    0                0   \n",
       "7                0            0                    0                0   \n",
       "8                0            0                    0                0   \n",
       "9                0            0                    0                0   \n",
       "\n",
       "   balance tariff  kz_pro  \n",
       "0      0.0  start       0  \n",
       "1      0.0  start       0  \n",
       "2      0.0  start       0  \n",
       "3      0.0  start       0  \n",
       "4      0.0  start       0  \n",
       "5      0.0  start       0  \n",
       "6      0.0  start       0  \n",
       "7      0.0  start       0  \n",
       "8      0.0  start       0  \n",
       "9      0.0  start       0  "
      ]
     },
     "execution_count": 84,
     "metadata": {},
     "output_type": "execute_result"
    }
   ],
   "source": [
    "query_text = \"\"\"--sql\n",
    "SELECT\n",
    "    *\n",
    "FROM db1.companies_st_partner_ch\n",
    "ORDER BY report_date DESC\n",
    "limit 10\n",
    "\"\"\"\n",
    "ch.query_run(query_text)"
   ]
  },
  {
   "cell_type": "code",
   "execution_count": 80,
   "id": "9ac92a2b",
   "metadata": {},
   "outputs": [
    {
     "data": {
      "text/html": [
       "<div>\n",
       "<style scoped>\n",
       "    .dataframe tbody tr th:only-of-type {\n",
       "        vertical-align: middle;\n",
       "    }\n",
       "\n",
       "    .dataframe tbody tr th {\n",
       "        vertical-align: top;\n",
       "    }\n",
       "\n",
       "    .dataframe thead th {\n",
       "        text-align: right;\n",
       "    }\n",
       "</style>\n",
       "<table border=\"1\" class=\"dataframe\">\n",
       "  <thead>\n",
       "    <tr style=\"text-align: right;\">\n",
       "      <th></th>\n",
       "      <th>elapsed_ns</th>\n",
       "      <th>query_id</th>\n",
       "    </tr>\n",
       "  </thead>\n",
       "  <tbody>\n",
       "    <tr>\n",
       "      <th>0</th>\n",
       "      <td>1319426</td>\n",
       "      <td>dcaea00d-221d-4995-b3f9-eda751a5b5c0</td>\n",
       "    </tr>\n",
       "  </tbody>\n",
       "</table>\n",
       "</div>"
      ],
      "text/plain": [
       "   elapsed_ns                              query_id\n",
       "0     1319426  dcaea00d-221d-4995-b3f9-eda751a5b5c0"
      ]
     },
     "execution_count": 80,
     "metadata": {},
     "output_type": "execute_result"
    }
   ],
   "source": [
    "query_text = \"\"\"\n",
    "DROP TABLE db1.companies_st_partner\n",
    "\"\"\"\n",
    "\n",
    "ch.query_run(query_text)"
   ]
  },
  {
   "cell_type": "code",
   "execution_count": 82,
   "id": "ed7cdc74",
   "metadata": {},
   "outputs": [
    {
     "data": {
      "text/html": [
       "<div>\n",
       "<style scoped>\n",
       "    .dataframe tbody tr th:only-of-type {\n",
       "        vertical-align: middle;\n",
       "    }\n",
       "\n",
       "    .dataframe tbody tr th {\n",
       "        vertical-align: top;\n",
       "    }\n",
       "\n",
       "    .dataframe thead th {\n",
       "        text-align: right;\n",
       "    }\n",
       "</style>\n",
       "<table border=\"1\" class=\"dataframe\">\n",
       "  <thead>\n",
       "    <tr style=\"text-align: right;\">\n",
       "      <th></th>\n",
       "      <th>elapsed_ns</th>\n",
       "      <th>query_id</th>\n",
       "    </tr>\n",
       "  </thead>\n",
       "  <tbody>\n",
       "    <tr>\n",
       "      <th>0</th>\n",
       "      <td>931927</td>\n",
       "      <td>3963c625-868b-4a50-ac64-6009678494b0</td>\n",
       "    </tr>\n",
       "  </tbody>\n",
       "</table>\n",
       "</div>"
      ],
      "text/plain": [
       "   elapsed_ns                              query_id\n",
       "0      931927  3963c625-868b-4a50-ac64-6009678494b0"
      ]
     },
     "execution_count": 82,
     "metadata": {},
     "output_type": "execute_result"
    }
   ],
   "source": [
    "query_text = \"\"\"\n",
    "SYSTEM REFRESH VIEW db1.companies_st_partner_mv\n",
    "\"\"\"\n",
    "\n",
    "ch.query_run(query_text)"
   ]
  },
  {
   "cell_type": "code",
   "execution_count": null,
   "id": "23848227",
   "metadata": {},
   "outputs": [],
   "source": [
    "query_text = \"\"\"--sql\n",
    "    CREATE TABLE db1.companies_st_partner_ch_test\n",
    "(\n",
    "    `report_date` Date,\n",
    "    `partner_uuid` String,\n",
    "    `is_blocked` Int16,\n",
    "    `pro_subs` Int16,\n",
    "    `enterprise_subs` Int16,\n",
    "    `billing_pro` Int16,\n",
    "    `enterprise_not_paid` Int16,\n",
    "    `enterprise_test` Int16,\n",
    "    `balance` Float64,\n",
    "    `tariff` String,\n",
    "    `kz_pro` Int16,\n",
    "    `tariff_full` String\n",
    ")\n",
    "    ENGINE = MergeTree()\n",
    "    ORDER BY partner_uuid\n",
    "    \"\"\"\n",
    "\n",
    "ch.query_run(query_text)"
   ]
  },
  {
   "cell_type": "code",
   "execution_count": null,
   "id": "41d9ea92",
   "metadata": {},
   "outputs": [],
   "source": [
    "query_text = \"\"\"--sql\n",
    "    CREATE MATERIALIZED VIEW db1.companies_st_partner_mv_test TO db1.companies_st_partner_ch_test AS\n",
    "    SELECT\n",
    "        *\n",
    "    FROM db1.companies_st_partner_ch\n",
    "    \"\"\"\n",
    "\n",
    "ch.query_run(query_text)"
   ]
  },
  {
   "cell_type": "code",
   "execution_count": null,
   "id": "550530b2",
   "metadata": {},
   "outputs": [],
   "source": [
    "query_text = \"\"\"--sql\n",
    "SELECT\n",
    "    *\n",
    "FROM db1.companies_st_partner_ch_test\n",
    "order by report_date DESC\n",
    "limit 100\n",
    "\n",
    "\"\"\"\n",
    "\n",
    "ch.query_run(query_text)"
   ]
  },
  {
   "cell_type": "markdown",
   "id": "6f74ea89",
   "metadata": {},
   "source": [
    "___\n",
    "\n",
    "## [[service_history_dir_partner]]"
   ]
  },
  {
   "cell_type": "code",
   "execution_count": null,
   "id": "197a317d",
   "metadata": {},
   "outputs": [],
   "source": [
    "# creating a table from s3\n",
    "\n",
    "query_text = \"\"\"--sql \n",
    "    CREATE TABLE db1.service_history_dir_partner\n",
    "(\n",
    "    `action` String,\n",
    "    `actor_identifier` String,\n",
    "    `actor_name` String,\n",
    "    `actor_type` String,\n",
    "    `comment` String,\n",
    "    `created_at` DateTime,\n",
    "    `id` Int64,\n",
    "    `result` String,\n",
    "    `service_identfier` String,\n",
    "    `subject_type` String,\n",
    "    `updated_at` DateTime,\n",
    "    `partner_uuid` String\n",
    ")\n",
    "    ENGINE = S3('https://storage.yandexcloud.net/dwh-asgard/service_history_dir_partner/*.csv','CSVWithNames')\n",
    "    PARTITION BY partner_uuid\n",
    "    \"\"\"\n",
    "\n",
    "ch.query_run(query_text)"
   ]
  },
  {
   "cell_type": "code",
   "execution_count": null,
   "id": "dfc3c3e2",
   "metadata": {},
   "outputs": [],
   "source": [
    "query_text = \"\"\"--sql\n",
    "    CREATE TABLE db1.service_history_dir_partner_ch\n",
    "(\n",
    "    `action` String,\n",
    "    `actor_identifier` String,\n",
    "    `actor_name` String,\n",
    "    `actor_type` String,\n",
    "    `comment` String,\n",
    "    `created_at` DateTime,\n",
    "    `id` Int64,\n",
    "    `result` String,\n",
    "    `service_identfier` String,\n",
    "    `subject_type` String,\n",
    "    `updated_at` DateTime,\n",
    "    `partner_uuid` String\n",
    ")\n",
    "    ENGINE = MergeTree()\n",
    "    ORDER BY partner_uuid\n",
    "    \"\"\"\n",
    "\n",
    "ch.query_run(query_text)"
   ]
  },
  {
   "cell_type": "code",
   "execution_count": null,
   "id": "473cbd30",
   "metadata": {},
   "outputs": [],
   "source": [
    "query_text = \"\"\"--sql\n",
    "    CREATE MATERIALIZED VIEW db1.service_history_dir_partner_mv\n",
    "    REFRESH EVERY 1 DAY OFFSET 3 HOUR RANDOMIZE FOR 1 HOUR TO db1.service_history_dir_partner_ch AS\n",
    "    SELECT\n",
    "        *\n",
    "    FROM db1.service_history_dir_partner\n",
    "    \"\"\"\n",
    "\n",
    "ch.query_run(query_text)"
   ]
  },
  {
   "cell_type": "code",
   "execution_count": null,
   "id": "a2ea496f",
   "metadata": {},
   "outputs": [],
   "source": [
    "query_text = \"\"\"--sql\n",
    "SELECT\n",
    "    *\n",
    "FROM db1.service_history_dir_partner_ch\n",
    "limit 100\n",
    "\n",
    "\"\"\"\n",
    "\n",
    "ch.query_run(query_text)"
   ]
  },
  {
   "cell_type": "code",
   "execution_count": null,
   "id": "a6140546",
   "metadata": {},
   "outputs": [],
   "source": []
  },
  {
   "cell_type": "markdown",
   "id": "089d2477",
   "metadata": {},
   "source": [
    "___\n",
    "\n",
    "## [[cameras_st_partner]]"
   ]
  },
  {
   "cell_type": "code",
   "execution_count": null,
   "id": "45d515f8",
   "metadata": {},
   "outputs": [],
   "source": [
    "# creating a table from s3\n",
    "\n",
    "query_text = \"\"\"--sql \n",
    "   CREATE TABLE db1.cameras_st_partner\n",
    "(\n",
    "    `report_date` Date,\n",
    "    `service_partner_uuid` String,\n",
    "    `partner_uuid` String,\n",
    "    `intercom_uuid` String,\n",
    "    `installation_point_id` Int64,\n",
    "    `camera_uuid` String,\n",
    "    `camera_dvr_depth` Int32,\n",
    "    `archive_from_partner` String,\n",
    "    `included_by` String,\n",
    "    `included_at` DateTime,\n",
    "    `disabled_by` String,\n",
    "    `disabled_at` DateTime\n",
    ")\n",
    "ENGINE = S3('https://storage.yandexcloud.net/dwh-asgard/cameras_st_partner/year=*/month=*/*.csv',\n",
    " 'CSVWithNames')\n",
    "PARTITION BY report_date\n",
    "    \"\"\"\n",
    "\n",
    "ch.query_run(query_text)"
   ]
  },
  {
   "cell_type": "code",
   "execution_count": null,
   "id": "b3c4a9ab",
   "metadata": {},
   "outputs": [],
   "source": [
    "query_text = \"\"\"--sql\n",
    "    CREATE TABLE db1.cameras_st_partner_ch\n",
    "(\n",
    "    `report_date` Date,\n",
    "    `service_partner_uuid` String,\n",
    "    `partner_uuid` String,\n",
    "    `intercom_uuid` String,\n",
    "    `installation_point_id` Int64,\n",
    "    `camera_uuid` String,\n",
    "    `camera_dvr_depth` Int32,\n",
    "    `archive_from_partner` String,\n",
    "    `included_by` String,\n",
    "    `included_at` DateTime,\n",
    "    `disabled_by` String,\n",
    "    `disabled_at` DateTime\n",
    ")\n",
    "    ENGINE = MergeTree()\n",
    "    ORDER BY report_date\n",
    "    \"\"\"\n",
    "\n",
    "ch.query_run(query_text)"
   ]
  },
  {
   "cell_type": "code",
   "execution_count": null,
   "id": "1c17ef12",
   "metadata": {},
   "outputs": [],
   "source": [
    "query_text = \"\"\"--sql\n",
    "    CREATE MATERIALIZED VIEW db1.cameras_st_partner_mv\n",
    "    REFRESH EVERY 1 DAY OFFSET 3 HOUR RANDOMIZE FOR 1 HOUR TO db1.cameras_st_partner_ch AS\n",
    "    SELECT\n",
    "        *\n",
    "    FROM db1.cameras_st_partner\n",
    "    \"\"\"\n",
    "\n",
    "ch.query_run(query_text)"
   ]
  },
  {
   "cell_type": "code",
   "execution_count": null,
   "id": "f2174647",
   "metadata": {},
   "outputs": [],
   "source": [
    "query_text = \"\"\"--sql\n",
    "SELECT\n",
    "    *\n",
    "FROM db1.cameras_st_partner_ch\n",
    "order by report_date DESC\n",
    "limit 100\n",
    "\n",
    "\"\"\"\n",
    "\n",
    "ch.query_run(query_text)"
   ]
  },
  {
   "cell_type": "markdown",
   "id": "8a82676f",
   "metadata": {},
   "source": [
    "___\n",
    "\n",
    "## [[cameras_dir_partner]]"
   ]
  },
  {
   "cell_type": "code",
   "execution_count": null,
   "id": "1a722198",
   "metadata": {},
   "outputs": [],
   "source": [
    "# creating a table from s3\n",
    "\n",
    "query_text = \"\"\"--sql \n",
    "   CREATE TABLE db1.cameras_dir_partner\n",
    "(\n",
    "    `serial_number` String,\n",
    "    `service_partner_uuid` String,\n",
    "    `partner_uuid` String,\n",
    "    `intercom_uuid` String,\n",
    "    `installation_point_id` Int64,\n",
    "    `camera_uuid` String,\n",
    "    `foreign_camera` Int16\n",
    ")\n",
    "ENGINE = S3('https://storage.yandexcloud.net/dwh-asgard/cameras_dir_partner/*.csv','CSVWithNames')\n",
    "    \"\"\"\n",
    "\n",
    "ch.query_run(query_text)"
   ]
  },
  {
   "cell_type": "code",
   "execution_count": null,
   "id": "3c704845",
   "metadata": {},
   "outputs": [],
   "source": [
    "query_text = \"\"\"--sql\n",
    "    CREATE TABLE db1.cameras_dir_partner_ch\n",
    "(\n",
    "    `serial_number` String,\n",
    "    `service_partner_uuid` String,\n",
    "    `partner_uuid` String,\n",
    "    `intercom_uuid` String,\n",
    "    `installation_point_id` Int64,\n",
    "    `camera_uuid` String,\n",
    "    `foreign_camera` Int16\n",
    ")\n",
    "    ENGINE = MergeTree()\n",
    "    ORDER BY partner_uuid\n",
    "    \"\"\"\n",
    "\n",
    "ch.query_run(query_text)"
   ]
  },
  {
   "cell_type": "code",
   "execution_count": null,
   "id": "0efd0219",
   "metadata": {},
   "outputs": [],
   "source": [
    "query_text = \"\"\"--sql\n",
    "    CREATE MATERIALIZED VIEW db1.cameras_dir_partner_mv\n",
    "    REFRESH EVERY 1 DAY OFFSET 3 HOUR RANDOMIZE FOR 1 HOUR TO db1.cameras_dir_partner_ch AS\n",
    "    SELECT\n",
    "        *\n",
    "    FROM db1.cameras_dir_partner\n",
    "    \"\"\"\n",
    "\n",
    "ch.query_run(query_text)"
   ]
  },
  {
   "cell_type": "code",
   "execution_count": null,
   "id": "1384b82b",
   "metadata": {},
   "outputs": [],
   "source": [
    "query_text = \"\"\"--sql\n",
    "SELECT\n",
    "    *\n",
    "FROM db1.cameras_dir_partner_ch\n",
    "limit 100\n",
    "\n",
    "\"\"\"\n",
    "\n",
    "ch.query_run(query_text)"
   ]
  },
  {
   "cell_type": "markdown",
   "id": "0f7f426d",
   "metadata": {},
   "source": [
    "___\n",
    "\n",
    "## [[intercoms_st_partner]]"
   ]
  },
  {
   "cell_type": "code",
   "execution_count": null,
   "id": "5523d6b8",
   "metadata": {},
   "outputs": [],
   "source": [
    "# creating a table from s3\n",
    "\n",
    "query_text = \"\"\"--sql \n",
    "   CREATE TABLE db1.intercoms_st_partner\n",
    "(\n",
    "    `report_date` Date,\n",
    "    `installation_date` DateTime,\n",
    "    `service_partner_uuid` String,\n",
    "    `partner_uuid` String,\n",
    "    `intercom_uuid` String,\n",
    "    `installation_point_id` Int64,\n",
    "    `second_device_type` String,\n",
    "    `second_device_state` Int16,\n",
    "    `second_device_created_at` String,\n",
    "    `model_identifier` String\n",
    ")\n",
    "ENGINE = S3('https://storage.yandexcloud.net/dwh-asgard/intercoms_st_partner/year=*/month=*/*.csv','CSVWithNames')\n",
    "    \"\"\"\n",
    "\n",
    "ch.query_run(query_text)"
   ]
  },
  {
   "cell_type": "code",
   "execution_count": null,
   "id": "4130d901",
   "metadata": {},
   "outputs": [],
   "source": [
    "query_text = \"\"\"--sql\n",
    "    CREATE TABLE db1.intercoms_st_partner_ch\n",
    "(\n",
    "    `report_date` Date,\n",
    "    `installation_date` DateTime,\n",
    "    `service_partner_uuid` String,\n",
    "    `partner_uuid` String,\n",
    "    `intercom_uuid` String,\n",
    "    `installation_point_id` Int64,\n",
    "    `second_device_type` String,\n",
    "    `second_device_state` Int16,\n",
    "    `second_device_created_at` String,\n",
    "    `model_identifier` String\n",
    ")\n",
    "    ENGINE = MergeTree()\n",
    "    ORDER BY intercom_uuid\n",
    "    \"\"\"\n",
    "\n",
    "ch.query_run(query_text)"
   ]
  },
  {
   "cell_type": "code",
   "execution_count": null,
   "id": "172913c7",
   "metadata": {},
   "outputs": [],
   "source": [
    "query_text = \"\"\"--sql\n",
    "    CREATE MATERIALIZED VIEW db1.intercoms_st_partner_mv\n",
    "    REFRESH EVERY 1 DAY OFFSET 3 HOUR RANDOMIZE FOR 1 HOUR TO db1.intercoms_st_partner_ch AS\n",
    "    SELECT\n",
    "        *\n",
    "    FROM db1.intercoms_st_partner\n",
    "    \"\"\"\n",
    "\n",
    "ch.query_run(query_text)"
   ]
  },
  {
   "cell_type": "code",
   "execution_count": null,
   "id": "1942e186",
   "metadata": {},
   "outputs": [],
   "source": [
    "query_text = \"\"\"--sql\n",
    "SELECT\n",
    "    *\n",
    "FROM db1.intercoms_st_partner_ch\n",
    "limit 100\n",
    "\n",
    "\"\"\"\n",
    "\n",
    "ch.query_run(query_text)"
   ]
  },
  {
   "cell_type": "markdown",
   "id": "643d30f4",
   "metadata": {},
   "source": [
    "___\n",
    "\n",
    "## [[intercoms_dir_partner]]"
   ]
  },
  {
   "cell_type": "code",
   "execution_count": null,
   "id": "0252a7c4",
   "metadata": {},
   "outputs": [],
   "source": [
    "# creating a table from s3\n",
    "\n",
    "query_text = \"\"\"--sql \n",
    "   CREATE TABLE db1.intercoms_dir_partner\n",
    "(\n",
    "    `installation_date` DateTime,\n",
    "    `service_partner_uuid` String,\n",
    "    `partner_uuid` String,\n",
    "    `intercom_uuid` String,\n",
    "    `installation_point_id` Int64,\n",
    "    `second_device_type` String,\n",
    "    `second_device_state` Int16,\n",
    "    `second_device_created_at` String,\n",
    "    `model_identifier` String\n",
    ")\n",
    "ENGINE = S3('https://storage.yandexcloud.net/dwh-asgard/intercoms_dir_partner/*.csv','CSVWithNames')\n",
    "    \"\"\"\n",
    "\n",
    "ch.query_run(query_text)"
   ]
  },
  {
   "cell_type": "code",
   "execution_count": null,
   "id": "d2b12e41",
   "metadata": {},
   "outputs": [],
   "source": [
    "query_text = \"\"\"--sql\n",
    "    CREATE TABLE db1.intercoms_dir_partner_ch\n",
    "(\n",
    "    `installation_date` DateTime,\n",
    "    `service_partner_uuid` String,\n",
    "    `partner_uuid` String,\n",
    "    `intercom_uuid` String,\n",
    "    `installation_point_id` Int64,\n",
    "    `second_device_type` String,\n",
    "    `second_device_state` Int16,\n",
    "    `second_device_created_at` String,\n",
    "    `model_identifier` String\n",
    ")\n",
    "    ENGINE = MergeTree()\n",
    "    ORDER BY intercom_uuid\n",
    "    \"\"\"\n",
    "\n",
    "ch.query_run(query_text)"
   ]
  },
  {
   "cell_type": "code",
   "execution_count": null,
   "id": "c7e99b86",
   "metadata": {},
   "outputs": [],
   "source": [
    "query_text = \"\"\"--sql\n",
    "    CREATE MATERIALIZED VIEW db1.intercoms_dir_partner_mv \n",
    "    REFRESH EVERY 1 DAY OFFSET 3 HOUR RANDOMIZE FOR 1 HOUR TO db1.intercoms_dir_partner_ch AS\n",
    "    SELECT\n",
    "        *\n",
    "    FROM db1.intercoms_dir_partner\n",
    "    \"\"\"\n",
    "\n",
    "ch.query_run(query_text)"
   ]
  },
  {
   "cell_type": "code",
   "execution_count": null,
   "id": "8f772392",
   "metadata": {},
   "outputs": [],
   "source": [
    "query_text = \"\"\"\n",
    "    DROP TABLE db1.intercoms_dir_partner_mv_test\n",
    "    \"\"\"\n",
    "ch.query_run(query_text)\n"
   ]
  },
  {
   "cell_type": "code",
   "execution_count": null,
   "id": "5401c2f1",
   "metadata": {},
   "outputs": [],
   "source": [
    "query_text = \"\"\"\n",
    "SYSTEM REFRESH VIEW db1.citizens_st_mobile_parquet_mv\n",
    "\"\"\"\n",
    "\n",
    "ch.query_run(query_text)"
   ]
  },
  {
   "cell_type": "code",
   "execution_count": null,
   "id": "ddb7aa36",
   "metadata": {},
   "outputs": [],
   "source": [
    "query_text = \"\"\"--sql\n",
    "SELECT\n",
    "    *\n",
    "FROM db1.intercoms_dir_partner_ch\n",
    "limit 1\n",
    "\n",
    "\"\"\"\n",
    "\n",
    "ch.query_run(query_text)"
   ]
  },
  {
   "cell_type": "code",
   "execution_count": null,
   "id": "4beb8767",
   "metadata": {},
   "outputs": [],
   "source": [
    "query_text = \"\"\"--sql\n",
    "INSERT INTO db1.intercoms_dir_partner_ch\n",
    "SELECT *\n",
    "FROM db1.intercoms_dir_partner;\n",
    "\"\"\"\n",
    "ch.query_run(query_text)"
   ]
  },
  {
   "cell_type": "code",
   "execution_count": null,
   "id": "8c9beca6",
   "metadata": {},
   "outputs": [],
   "source": [
    "query_text = \"\"\"--sql\n",
    "    CREATE TABLE db1.intercoms_dir_partner_ch_test\n",
    "(\n",
    "    `installation_date` DateTime,\n",
    "    `service_partner_uuid` String,\n",
    "    `partner_uuid` String,\n",
    "    `intercom_uuid` String,\n",
    "    `installation_point_id` Int64,\n",
    "    `second_device_type` String,\n",
    "    `second_device_state` Int16,\n",
    "    `second_device_created_at` String,\n",
    "    `model_identifier` String\n",
    ")\n",
    "    ENGINE = MergeTree()\n",
    "    ORDER BY intercom_uuid\n",
    "    \"\"\"\n",
    "\n",
    "ch.query_run(query_text)"
   ]
  },
  {
   "cell_type": "code",
   "execution_count": null,
   "id": "c304ffd4",
   "metadata": {},
   "outputs": [],
   "source": [
    "query_text = \"\"\"--sql\n",
    "    CREATE MATERIALIZED VIEW db1.intercoms_dir_partner_mv_test TO db1.intercoms_dir_partner_ch_test AS\n",
    "    SELECT\n",
    "        *\n",
    "    FROM db1.intercoms_dir_partner_ch\n",
    "    \"\"\"\n",
    "\n",
    "ch.query_run(query_text)"
   ]
  },
  {
   "cell_type": "code",
   "execution_count": null,
   "id": "3d6c6dcf",
   "metadata": {},
   "outputs": [],
   "source": [
    "query_text = \"\"\"--sql\n",
    "SELECT\n",
    "    *\n",
    "FROM db1.intercoms_dir_partner_ch_test\n",
    "limit 1\n",
    "\n",
    "\"\"\"\n",
    "ch.query_run(query_text)"
   ]
  },
  {
   "cell_type": "markdown",
   "id": "6592a0ff",
   "metadata": {},
   "source": [
    "___\n",
    "\n",
    "## [[cameras_dir_asgard]]"
   ]
  },
  {
   "cell_type": "code",
   "execution_count": null,
   "id": "76ff1c44",
   "metadata": {},
   "outputs": [],
   "source": [
    "# creating a table from s3\n",
    "\n",
    "query_text = \"\"\"--sql \n",
    "   CREATE TABLE db1.cameras_dir_asgard\n",
    "(\n",
    "    `camera_serial` String,\n",
    "    `intercom_uuid` String,\n",
    "    `camera_uuid` String,\n",
    ")\n",
    "ENGINE = S3('https://storage.yandexcloud.net/dwh-asgard/cameras_dir_asgard/*.csv','CSVWithNames')\n",
    "    \"\"\"\n",
    "\n",
    "ch.query_run(query_text)"
   ]
  },
  {
   "cell_type": "code",
   "execution_count": null,
   "id": "ea13b2b4",
   "metadata": {},
   "outputs": [],
   "source": [
    "query_text = \"\"\"--sql\n",
    "    CREATE TABLE db1.cameras_dir_asgard_ch\n",
    "(\n",
    "    `camera_serial` String,\n",
    "    `intercom_uuid` String,\n",
    "    `camera_uuid` String,\n",
    ")\n",
    "    ENGINE = MergeTree()\n",
    "    ORDER BY intercom_uuid\n",
    "    \"\"\"\n",
    "\n",
    "ch.query_run(query_text)"
   ]
  },
  {
   "cell_type": "code",
   "execution_count": null,
   "id": "a585728a",
   "metadata": {},
   "outputs": [],
   "source": [
    "query_text = \"\"\"--sql\n",
    "    CREATE MATERIALIZED VIEW db1.cameras_dir_asgard_mv\n",
    "    REFRESH EVERY 1 DAY OFFSET 3 HOUR RANDOMIZE FOR 1 HOUR TO db1.cameras_dir_asgard_ch AS\n",
    "    SELECT\n",
    "        *\n",
    "    FROM db1.cameras_dir_asgard\n",
    "    \"\"\"\n",
    "\n",
    "ch.query_run(query_text)"
   ]
  },
  {
   "cell_type": "code",
   "execution_count": null,
   "id": "cd1bede6",
   "metadata": {},
   "outputs": [],
   "source": [
    "query_text = \"\"\"--sql\n",
    "SELECT\n",
    "    *\n",
    "FROM db1.cameras_dir_asgard_ch\n",
    "limit 100\n",
    "\n",
    "\"\"\"\n",
    "\n",
    "ch.query_run(query_text)"
   ]
  },
  {
   "cell_type": "markdown",
   "id": "26025242",
   "metadata": {},
   "source": [
    "____\n",
    "\n",
    "## [[cameras_st_asgard]]\n"
   ]
  },
  {
   "cell_type": "code",
   "execution_count": null,
   "id": "07c4cd19",
   "metadata": {},
   "outputs": [],
   "source": [
    "# creating a table from s3\n",
    "\n",
    "query_text = \"\"\"--sql \n",
    "   CREATE TABLE db1.cameras_st_asgard\n",
    "(\n",
    "    `report_date` Date,\n",
    "    `camera_uuid` String,\n",
    "    `camera_dvr_depth` Int16,\n",
    "    `camera_is_permanent_stream` Int16,\n",
    "    `camera_with_intercom` Int16,\n",
    "    `partner_uuid` String,\n",
    "    `camera_fw_version` String,\n",
    "    `camera_model` String,\n",
    "    `camera_streamer` String\n",
    ")\n",
    "ENGINE = S3('https://storage.yandexcloud.net/dwh-asgard/cameras_st_asgard/year=*/month=*/*.csv','CSVWithNames')\n",
    "    \"\"\"\n",
    "\n",
    "ch.query_run(query_text)"
   ]
  },
  {
   "cell_type": "code",
   "execution_count": null,
   "id": "90e3b239",
   "metadata": {},
   "outputs": [],
   "source": [
    "query_text = \"\"\"--sql\n",
    "    CREATE TABLE db1.cameras_st_asgard_ch\n",
    "(\n",
    "    `report_date` Date,\n",
    "    `camera_uuid` String,\n",
    "    `camera_dvr_depth` Int16,\n",
    "    `camera_is_permanent_stream` Int16,\n",
    "    `camera_with_intercom` Int16,\n",
    "    `partner_uuid` String,\n",
    "    `camera_fw_version` String,\n",
    "    `camera_model` String,\n",
    "    `camera_streamer` String\n",
    ")\n",
    "    ENGINE = MergeTree()\n",
    "    ORDER BY camera_uuid\n",
    "    \"\"\"\n",
    "\n",
    "ch.query_run(query_text)"
   ]
  },
  {
   "cell_type": "code",
   "execution_count": null,
   "id": "ba85c21a",
   "metadata": {},
   "outputs": [],
   "source": [
    "query_text = \"\"\"--sql\n",
    "    CREATE MATERIALIZED VIEW db1.cameras_st_asgard_mv\n",
    "    REFRESH EVERY 1 DAY OFFSET 3 HOUR RANDOMIZE FOR 1 HOUR TO db1.cameras_st_asgard_ch AS\n",
    "    SELECT\n",
    "        *\n",
    "    FROM db1.cameras_st_asgard\n",
    "    WHERE partner_uuid not like '%main:tokens:%'\n",
    "    \"\"\"\n",
    "\n",
    "ch.query_run(query_text)"
   ]
  },
  {
   "cell_type": "code",
   "execution_count": null,
   "id": "ed9f1295",
   "metadata": {},
   "outputs": [],
   "source": [
    "query_text = \"\"\"--sql\n",
    "SELECT\n",
    "    *\n",
    "FROM db1.cameras_st_asgard_ch\n",
    "limit 100\n",
    "\n",
    "\"\"\"\n",
    "\n",
    "ch.query_run(query_text)"
   ]
  },
  {
   "cell_type": "markdown",
   "id": "14f4bf39",
   "metadata": {},
   "source": [
    "____\n",
    "\n",
    "## [[intercoms_dir_asgard]]\n"
   ]
  },
  {
   "cell_type": "code",
   "execution_count": null,
   "id": "d9ebd3db",
   "metadata": {},
   "outputs": [],
   "source": [
    "# creating a table from s3\n",
    "\n",
    "query_text = \"\"\"--sql \n",
    "   CREATE TABLE db1.intercoms_dir_asgard\n",
    "(\n",
    "    `created_at` Date,\n",
    "    `first_online_at` Date,\n",
    "    `first_open_door_at` Date,\n",
    "    `flat_range` Int16,\n",
    "    `flat_count` Int16,\n",
    "    `hardware_version` String,\n",
    "    `motherboard_id` String,\n",
    "    `partner_uuid` String,\n",
    "    `intercom_uuid` String\n",
    ")\n",
    "ENGINE = S3('https://storage.yandexcloud.net/dwh-asgard/intercoms_dir_asgard/*.csv','CSVWithNames')\n",
    "    \"\"\"\n",
    "\n",
    "ch.query_run(query_text)"
   ]
  },
  {
   "cell_type": "code",
   "execution_count": null,
   "id": "ba2a3007",
   "metadata": {},
   "outputs": [],
   "source": [
    "query_text = \"\"\"--sql\n",
    "    CREATE TABLE db1.intercoms_dir_asgard_ch\n",
    "(\n",
    "    `created_at` Date,\n",
    "    `first_online_at` Date,\n",
    "    `first_open_door_at` Date,\n",
    "    `flat_range` Int16,\n",
    "    `flat_count` Int16,\n",
    "    `hardware_version` String,\n",
    "    `motherboard_id` String,\n",
    "    `partner_uuid` String,\n",
    "    `intercom_uuid` String\n",
    ")\n",
    "    ENGINE = MergeTree()\n",
    "    ORDER BY intercom_uuid\n",
    "    \"\"\"\n",
    "\n",
    "ch.query_run(query_text)"
   ]
  },
  {
   "cell_type": "code",
   "execution_count": null,
   "id": "d80774f6",
   "metadata": {},
   "outputs": [],
   "source": [
    "query_text = \"\"\"--sql\n",
    "    CREATE MATERIALIZED VIEW db1.intercoms_dir_asgard_mv\n",
    "    REFRESH EVERY 1 DAY OFFSET 3 HOUR RANDOMIZE FOR 1 HOUR TO db1.intercoms_dir_asgard_ch AS\n",
    "    SELECT\n",
    "        *\n",
    "    FROM db1.intercoms_dir_asgard\n",
    "    WHERE partner_uuid not like '%main:tokens:%'\n",
    "    \"\"\"\n",
    "\n",
    "ch.query_run(query_text)"
   ]
  },
  {
   "cell_type": "code",
   "execution_count": null,
   "id": "d5b39940",
   "metadata": {},
   "outputs": [],
   "source": []
  },
  {
   "cell_type": "code",
   "execution_count": null,
   "id": "e4f7fd86",
   "metadata": {},
   "outputs": [],
   "source": [
    "query_text = \"\"\"--sql\n",
    "SELECT\n",
    "    *\n",
    "FROM db1.intercoms_dir_asgard_ch\n",
    "limit 100\n",
    "\n",
    "\"\"\"\n",
    "\n",
    "ch.query_run(query_text)"
   ]
  },
  {
   "cell_type": "markdown",
   "id": "4d848627",
   "metadata": {},
   "source": [
    "____\n",
    "\n",
    "## [[intercoms_st_asgard]]\n"
   ]
  },
  {
   "cell_type": "code",
   "execution_count": null,
   "id": "8a957eb5",
   "metadata": {},
   "outputs": [],
   "source": [
    "# creating a table from s3\n",
    "\n",
    "query_text = \"\"\"--sql \n",
    "   CREATE TABLE db1.intercoms_st_asgard\n",
    "(\n",
    "    `report_date` Date,\n",
    "    `intercom_uuid` String,\n",
    "    `is_online` Int16,\n",
    "    `last_online` DateTime,\n",
    "    `last_offline` DateTime,\n",
    "    `software_version` String,\n",
    "    `digital_keys_count` Int16,\n",
    "    `device_keys_count` Int16,\n",
    "    `partner_uuid` String,\n",
    "    `flat_range` String\n",
    ")\n",
    "ENGINE = S3('https://storage.yandexcloud.net/dwh-asgard/intercoms_st_asgard/year=*/month=*/*.csv','CSVWithNames')\n",
    "    \"\"\"\n",
    "\n",
    "ch.query_run(query_text)"
   ]
  },
  {
   "cell_type": "code",
   "execution_count": null,
   "id": "ce1398d2",
   "metadata": {},
   "outputs": [],
   "source": [
    "query_text = \"\"\"--sql\n",
    "    CREATE TABLE db1.intercoms_st_asgard_ch\n",
    "(\n",
    "    `report_date` Date,\n",
    "    `intercom_uuid` String,\n",
    "    `is_online` Int16,\n",
    "    `last_online` DateTime,\n",
    "    `last_offline` DateTime,\n",
    "    `software_version` String,\n",
    "    `digital_keys_count` Int16,\n",
    "    `device_keys_count` Int16,\n",
    "    `partner_uuid` String,\n",
    "    `flat_range` String\n",
    ")\n",
    "    ENGINE = MergeTree()\n",
    "    ORDER BY intercom_uuid\n",
    "    \"\"\"\n",
    "\n",
    "ch.query_run(query_text)"
   ]
  },
  {
   "cell_type": "code",
   "execution_count": null,
   "id": "64f5ae08",
   "metadata": {},
   "outputs": [],
   "source": [
    "query_text = \"\"\"--sql\n",
    "    CREATE MATERIALIZED VIEW db1.intercoms_st_asgard_mv\n",
    "    REFRESH EVERY 1 DAY OFFSET 3 HOUR RANDOMIZE FOR 1 HOUR TO db1.intercoms_st_asgard_ch AS\n",
    "    SELECT\n",
    "        *\n",
    "    FROM db1.intercoms_st_asgard\n",
    "    WHERE partner_uuid not like '%main:tokens:%'\n",
    "    \"\"\"\n",
    "\n",
    "ch.query_run(query_text)"
   ]
  },
  {
   "cell_type": "code",
   "execution_count": null,
   "id": "3fb28f36",
   "metadata": {},
   "outputs": [],
   "source": [
    "query_text = \"\"\"--sql\n",
    "SELECT\n",
    "    *\n",
    "FROM db1.intercoms_st_asgard_ch\n",
    "limit 100\n",
    "\n",
    "\"\"\"\n",
    "\n",
    "ch.query_run(query_text)"
   ]
  },
  {
   "cell_type": "markdown",
   "id": "a66bd18e",
   "metadata": {},
   "source": [
    "____\n",
    "\n",
    "## [[flussonic_stats_st_asgard]]\n"
   ]
  },
  {
   "cell_type": "code",
   "execution_count": null,
   "id": "d74b45ad",
   "metadata": {},
   "outputs": [],
   "source": [
    "# creating a table from s3\n",
    "\n",
    "query_text = \"\"\"--sql \n",
    "   CREATE TABLE db1.flussonic_stats_st_asgard\n",
    "(\n",
    "    `report_date` DateTime,\n",
    "    `stream_name` String,\n",
    "    `disabled` String,\n",
    "    `status` String,\n",
    "    `alive` String,\n",
    "    `lifetime` Int64,\n",
    "    `bitrate` Int32,\n",
    "    `agent_status` String,\n",
    "    `server` String,\n",
    "    `dvr_depth` Int16,\n",
    "    `dvr_depth_minute` Int64\n",
    ")\n",
    "ENGINE = S3('https://storage.yandexcloud.net/dwh-asgard/flussonic_stats_st_asgard/year=*/month=*/day=*/*.csv','CSVWithNames')\n",
    "    \"\"\"\n",
    "\n",
    "ch.query_run(query_text)"
   ]
  },
  {
   "cell_type": "code",
   "execution_count": null,
   "id": "ac4fa5f0",
   "metadata": {},
   "outputs": [],
   "source": [
    "query_text = \"\"\"--sql\n",
    "    CREATE TABLE db1.flussonic_stats_st_asgard_ch\n",
    "(\n",
    "    `report_date` DateTime,\n",
    "    `stream_name` String,\n",
    "    `disabled` String,\n",
    "    `status` String,\n",
    "    `alive` String,\n",
    "    `lifetime` Int64,\n",
    "    `bitrate` Int32,\n",
    "    `agent_status` String,\n",
    "    `server` String,\n",
    "    `dvr_depth` Int16,\n",
    "    `dvr_depth_minute` Int64\n",
    ")\n",
    "    ENGINE = MergeTree()\n",
    "    ORDER BY stream_name\n",
    "    \"\"\"\n",
    "\n",
    "ch.query_run(query_text)"
   ]
  },
  {
   "cell_type": "code",
   "execution_count": null,
   "id": "316f1fee",
   "metadata": {},
   "outputs": [],
   "source": [
    "query_text = \"\"\"--sql\n",
    "    CREATE MATERIALIZED VIEW db1.flussonic_stats_st_asgard_mv\n",
    "    REFRESH EVERY 1 DAY OFFSET 3 HOUR RANDOMIZE FOR 1 HOUR TO db1.flussonic_stats_st_asgard_ch AS\n",
    "    SELECT\n",
    "        *\n",
    "    FROM db1.flussonic_stats_st_asgard\n",
    "    \"\"\"\n",
    "\n",
    "ch.query_run(query_text)"
   ]
  },
  {
   "cell_type": "code",
   "execution_count": null,
   "id": "7bbecf15",
   "metadata": {},
   "outputs": [],
   "source": [
    "query_text = \"\"\"--sql\n",
    "SELECT\n",
    "    *\n",
    "FROM db1.flussonic_stats_st_asgard_ch\n",
    "limit 100\n",
    "\n",
    "\"\"\"\n",
    "\n",
    "ch.query_run(query_text)"
   ]
  },
  {
   "cell_type": "markdown",
   "id": "be9d1487",
   "metadata": {},
   "source": [
    "____\n",
    "\n",
    "## [[cameras_daily_percentage_online_st_asgard]]\n"
   ]
  },
  {
   "cell_type": "code",
   "execution_count": null,
   "id": "cf6a7e0e",
   "metadata": {},
   "outputs": [],
   "source": [
    "# creating a table from s3\n",
    "\n",
    "query_text = \"\"\"--sql \n",
    "   CREATE TABLE db1.cameras_daily_percentage_online_st_asgard\n",
    "(\n",
    "    `report_date` Date,\n",
    "    `camera_uuid` String,\n",
    "    `onlinePercent` Int16\n",
    ")\n",
    "ENGINE = S3('https://storage.yandexcloud.net/dwh-asgard/cameras_daily_percentage_online_st_asgard/year=*/month=*/*.csv','CSVWithNames')\n",
    "    \"\"\"\n",
    "\n",
    "ch.query_run(query_text)"
   ]
  },
  {
   "cell_type": "code",
   "execution_count": null,
   "id": "c0c0b99c",
   "metadata": {},
   "outputs": [],
   "source": [
    "query_text = \"\"\"--sql\n",
    "    CREATE TABLE db1.cameras_daily_percentage_online_st_asgard_ch\n",
    "(\n",
    "    `report_date` Date,\n",
    "    `camera_uuid` String,\n",
    "    `onlinePercent` Int16\n",
    ")\n",
    "    ENGINE = MergeTree()\n",
    "    ORDER BY camera_uuid\n",
    "    \"\"\"\n",
    "\n",
    "ch.query_run(query_text)"
   ]
  },
  {
   "cell_type": "code",
   "execution_count": null,
   "id": "bc278242",
   "metadata": {},
   "outputs": [],
   "source": [
    "query_text = \"\"\"--sql\n",
    "    CREATE MATERIALIZED VIEW db1.cameras_daily_percentage_online_st_asgard_mv\n",
    "    REFRESH EVERY 1 DAY OFFSET 3 HOUR RANDOMIZE FOR 1 HOUR TO db1.cameras_daily_percentage_online_st_asgard_ch AS\n",
    "    SELECT\n",
    "        *\n",
    "    FROM db1.cameras_daily_percentage_online_st_asgard\n",
    "    \"\"\"\n",
    "\n",
    "ch.query_run(query_text)"
   ]
  },
  {
   "cell_type": "code",
   "execution_count": null,
   "id": "c55257ab",
   "metadata": {},
   "outputs": [],
   "source": [
    "query_text = \"\"\"--sql\n",
    "SELECT\n",
    "    *\n",
    "FROM db1.cameras_daily_percentage_online_st_asgard_ch\n",
    "limit 100\n",
    "\n",
    "\"\"\"\n",
    "\n",
    "ch.query_run(query_text)"
   ]
  },
  {
   "cell_type": "markdown",
   "id": "6bbf9983",
   "metadata": {},
   "source": [
    "____\n",
    "\n",
    "## [[reconnects_intercoms_st_asgard]]\n"
   ]
  },
  {
   "cell_type": "code",
   "execution_count": null,
   "id": "e8542cf9",
   "metadata": {},
   "outputs": [],
   "source": [
    "# creating a table from s3\n",
    "\n",
    "query_text = \"\"\"--sql \n",
    "   CREATE TABLE db1.reconnects_intercoms_st_asgard\n",
    "(\n",
    "    `report_date` Date,\n",
    "    `intercom_uuid` String,\n",
    "    `count` Int16\n",
    ")\n",
    "ENGINE = S3('https://storage.yandexcloud.net/dwh-asgard/reconnects_intercoms_st_asgard/year=*/month=*/*.csv','CSVWithNames')\n",
    "    \"\"\"\n",
    "\n",
    "ch.query_run(query_text)"
   ]
  },
  {
   "cell_type": "code",
   "execution_count": null,
   "id": "e2780b3f",
   "metadata": {},
   "outputs": [],
   "source": [
    "query_text = \"\"\"--sql\n",
    "    CREATE TABLE db1.reconnects_intercoms_st_asgard_ch\n",
    "(\n",
    "    `report_date` Date,\n",
    "    `intercom_uuid` String,\n",
    "    `count` Int16\n",
    ")\n",
    "    ENGINE = MergeTree()\n",
    "    ORDER BY intercom_uuid\n",
    "    \"\"\"\n",
    "\n",
    "ch.query_run(query_text)"
   ]
  },
  {
   "cell_type": "code",
   "execution_count": null,
   "id": "05b8f8cb",
   "metadata": {},
   "outputs": [],
   "source": [
    "query_text = \"\"\"--sql\n",
    "    CREATE MATERIALIZED VIEW db1.reconnects_intercoms_st_asgard_mv\n",
    "    REFRESH EVERY 1 DAY OFFSET 3 HOUR RANDOMIZE FOR 1 HOUR TO db1.reconnects_intercoms_st_asgard_ch AS\n",
    "    SELECT\n",
    "        *\n",
    "    FROM db1.reconnects_intercoms_st_asgard\n",
    "    \"\"\"\n",
    "\n",
    "ch.query_run(query_text)"
   ]
  },
  {
   "cell_type": "code",
   "execution_count": null,
   "id": "6246311e",
   "metadata": {},
   "outputs": [],
   "source": [
    "query_text = \"\"\"--sql\n",
    "SELECT\n",
    "    *\n",
    "FROM db1.reconnects_intercoms_st_asgard_ch\n",
    "limit 100\n",
    "\n",
    "\"\"\"\n",
    "\n",
    "ch.query_run(query_text)"
   ]
  },
  {
   "cell_type": "markdown",
   "id": "351e7eb8",
   "metadata": {},
   "source": [
    "____\n",
    "\n",
    "## [[intercoms_daily_percentage_online_st_asgard]]\n"
   ]
  },
  {
   "cell_type": "code",
   "execution_count": null,
   "id": "477e9348",
   "metadata": {},
   "outputs": [],
   "source": [
    "# creating a table from s3\n",
    "\n",
    "query_text = \"\"\"--sql \n",
    "   CREATE TABLE db1.intercoms_daily_percentage_online_st_asgard\n",
    "(\n",
    "    `report_date` Date,\n",
    "    `intercom_uuid` String,\n",
    "    `onlinePercent` Int16\n",
    ")\n",
    "ENGINE = S3('https://storage.yandexcloud.net/dwh-asgard/intercoms_daily_percentage_online_st_asgard/year=*/month=*/*.csv','CSVWithNames')\n",
    "    \"\"\"\n",
    "\n",
    "ch.query_run(query_text)"
   ]
  },
  {
   "cell_type": "code",
   "execution_count": null,
   "id": "42ab111c",
   "metadata": {},
   "outputs": [],
   "source": [
    "query_text = \"\"\"--sql\n",
    "    CREATE TABLE db1.intercoms_daily_percentage_online_st_asgard_ch\n",
    "(\n",
    "    `report_date` Date,\n",
    "    `intercom_uuid` String,\n",
    "    `onlinePercent` Int16\n",
    ")\n",
    "    ENGINE = MergeTree()\n",
    "    ORDER BY intercom_uuid\n",
    "    \"\"\"\n",
    "\n",
    "ch.query_run(query_text)"
   ]
  },
  {
   "cell_type": "code",
   "execution_count": null,
   "id": "54a17d8a",
   "metadata": {},
   "outputs": [],
   "source": [
    "query_text = \"\"\"--sql\n",
    "    CREATE MATERIALIZED VIEW db1.intercoms_daily_percentage_online_st_asgard_mv\n",
    "    REFRESH EVERY 1 DAY OFFSET 3 HOUR RANDOMIZE FOR 1 HOUR TO db1.intercoms_daily_percentage_online_st_asgard_ch AS\n",
    "    SELECT\n",
    "        *\n",
    "    FROM db1.intercoms_daily_percentage_online_st_asgard\n",
    "    \"\"\"\n",
    "\n",
    "ch.query_run(query_text)"
   ]
  },
  {
   "cell_type": "code",
   "execution_count": null,
   "id": "afcd7834",
   "metadata": {
    "lines_to_next_cell": 0
   },
   "outputs": [],
   "source": [
    "query_text = \"\"\"--sql\n",
    "SELECT\n",
    "    *\n",
    "FROM db1.intercoms_daily_percentage_online_st_asgard_ch\n",
    "ORDER BY report_date DESC\n",
    "limit 100\n",
    "\n",
    "\"\"\"\n",
    "\n",
    "ch.query_run(query_text)"
   ]
  },
  {
   "cell_type": "markdown",
   "id": "56c50350",
   "metadata": {},
   "source": [
    "\n"
   ]
  },
  {
   "cell_type": "markdown",
   "id": "f8e2c367",
   "metadata": {},
   "source": [
    "____\n",
    "\n",
    "## [[opendoor_types_mobile_st_asgard]]\n"
   ]
  },
  {
   "cell_type": "code",
   "execution_count": null,
   "id": "a2e97570",
   "metadata": {},
   "outputs": [],
   "source": [
    "# creating a table from s3\n",
    "\n",
    "query_text = \"\"\"--sql \n",
    "   CREATE TABLE db1.opendoor_types_mobile_st_asgard\n",
    "(\n",
    "    `report_date` Date,\n",
    "    `opendoor_type` String,\n",
    "    `count` Int16\n",
    ")\n",
    "ENGINE = S3('https://storage.yandexcloud.net/dwh-asgard/opendoor_types_mobile_st_asgard/year=*/month=*/*.csv','CSVWithNames')\n",
    "    \"\"\"\n",
    "\n",
    "ch.query_run(query_text)"
   ]
  },
  {
   "cell_type": "code",
   "execution_count": null,
   "id": "b0e4f547",
   "metadata": {},
   "outputs": [],
   "source": [
    "query_text = \"\"\"--sql\n",
    "    CREATE TABLE db1.opendoor_types_mobile_st_asgard_ch\n",
    "(\n",
    "    `report_date` Date,\n",
    "    `opendoor_type` String,\n",
    "    `count` Int16\n",
    ")\n",
    "    ENGINE = MergeTree()\n",
    "    ORDER BY opendoor_type\n",
    "    \"\"\"\n",
    "\n",
    "ch.query_run(query_text)"
   ]
  },
  {
   "cell_type": "code",
   "execution_count": null,
   "id": "5b74ba43",
   "metadata": {},
   "outputs": [],
   "source": [
    "query_text = \"\"\"--sql\n",
    "    CREATE MATERIALIZED VIEW db1.opendoor_types_mobile_st_asgard_mv\n",
    "    REFRESH EVERY 1 DAY OFFSET 3 HOUR RANDOMIZE FOR 1 HOUR TO db1.opendoor_types_mobile_st_asgard_ch AS\n",
    "    SELECT\n",
    "        *\n",
    "    FROM db1.opendoor_types_mobile_st_asgard\n",
    "    \"\"\"\n",
    "\n",
    "ch.query_run(query_text)"
   ]
  },
  {
   "cell_type": "code",
   "execution_count": null,
   "id": "fc5a0e48",
   "metadata": {},
   "outputs": [],
   "source": [
    "query_text = \"\"\"--sql\n",
    "SELECT\n",
    "    *\n",
    "FROM db1.opendoor_types_mobile_st_asgard_ch\n",
    "ORDER BY report_date DESC\n",
    "limit 100\n",
    "\n",
    "\"\"\"\n",
    "\n",
    "ch.query_run(query_text)"
   ]
  },
  {
   "cell_type": "code",
   "execution_count": null,
   "id": "de304354",
   "metadata": {},
   "outputs": [],
   "source": [
    "query_text = \"\"\"--sql\n",
    "SELECT\n",
    "    DISTINCT\n",
    "    opendoor_type\n",
    "FROM db1.opendoor_types_mobile_st_asgard_ch\n",
    "ORDER BY report_date DESC\n",
    "limit 100\n",
    "\n",
    "\"\"\"\n",
    "\n",
    "ch.query_run(query_text)"
   ]
  },
  {
   "cell_type": "markdown",
   "id": "1d1c79c0",
   "metadata": {},
   "source": [
    "____\n",
    "\n",
    "## [[hex_metrics_parquet_asgard]]\n"
   ]
  },
  {
   "cell_type": "code",
   "execution_count": null,
   "id": "fc2917e5",
   "metadata": {},
   "outputs": [],
   "source": [
    "# creating a table from s3\n",
    "\n",
    "query_text = \"\"\"--sql \n",
    "   CREATE TABLE db1.hex_metrics_parquet_asgard\n",
    "(\n",
    "    `report_date` Date,\n",
    "    `intercom_uuid` String,\n",
    "    `key_hex` String,\n",
    "    `count` Int64\n",
    ")\n",
    "ENGINE = S3('https://storage.yandexcloud.net/dwh-asgard/hex_metrics_parquet_asgard/year=*/month=*/*.parquet','Parquet')\n",
    "    \"\"\"\n",
    "\n",
    "ch.query_run(query_text)"
   ]
  },
  {
   "cell_type": "code",
   "execution_count": null,
   "id": "13d99344",
   "metadata": {},
   "outputs": [],
   "source": [
    "query_text = \"\"\"--sql\n",
    "    CREATE TABLE db1.hex_metrics_parquet_asgard_ch\n",
    "(\n",
    "    `report_date` Date,\n",
    "    `intercom_uuid` String,\n",
    "    `key_hex` String,\n",
    "    `count` Int64\n",
    ")\n",
    "    ENGINE = MergeTree()\n",
    "    ORDER BY intercom_uuid\n",
    "    \"\"\"\n",
    "\n",
    "ch.query_run(query_text)"
   ]
  },
  {
   "cell_type": "code",
   "execution_count": null,
   "id": "940668d8",
   "metadata": {},
   "outputs": [],
   "source": [
    "query_text = \"\"\"--sql\n",
    "    CREATE MATERIALIZED VIEW db1.hex_metrics_parquet_asgard_mv\n",
    "    REFRESH EVERY 1 DAY OFFSET 3 HOUR RANDOMIZE FOR 1 HOUR TO db1.hex_metrics_parquet_asgard_ch AS\n",
    "    SELECT\n",
    "        *\n",
    "    FROM db1.hex_metrics_parquet_asgard\n",
    "    \"\"\"\n",
    "\n",
    "ch.query_run(query_text)"
   ]
  },
  {
   "cell_type": "code",
   "execution_count": null,
   "id": "d71fd102",
   "metadata": {},
   "outputs": [],
   "source": [
    "query_text = \"\"\"--sql\n",
    "SELECT\n",
    "    *\n",
    "FROM db1.hex_metrics_parquet_asgard_ch\n",
    "WHERE report_date = '2025-03-01'\n",
    "ORDER BY report_date DESC\n",
    "limit 100\n",
    "\n",
    "\"\"\"\n",
    "\n",
    "ch.query_run(query_text)"
   ]
  },
  {
   "cell_type": "markdown",
   "id": "13dc5f40",
   "metadata": {},
   "source": [
    "____\n",
    "\n",
    "## [[metrics_all_intercoms_asgard]]\n"
   ]
  },
  {
   "cell_type": "code",
   "execution_count": null,
   "id": "a566851b",
   "metadata": {},
   "outputs": [],
   "source": [
    "# creating a table from s3\n",
    "\n",
    "query_text = \"\"\"--sql \n",
    "   CREATE TABLE db1.metrics_all_intercoms_asgard\n",
    "(\n",
    "    `report_date` Date,\n",
    "    `uuid` String,\n",
    "    `call_stop_type_finish_handset` Int32,\n",
    "    `ring_type_ring_cloud` Int32,\n",
    "    `talk_open_door_type_analog` Int32,\n",
    "    `call_stop_type_cancel_cloud` Int32,\n",
    "    `key_state_valid` Int32,\n",
    "    `ring_cluster_error_type_entrance_offline` Int32,\n",
    "    `connection` Int32,\n",
    "    `ring_type_ring_info` Int32,\n",
    "    `ring_error_type_cancel` Int32,\n",
    "    `call_success_true` Int32,\n",
    "    `digital_key_success_false` Int32,\n",
    "    `key_state_invalid` Int32,\n",
    "    `ring_cluster_error_type_wrong_flat` Int32,\n",
    "    `ring_error_type_cancel_handset` Int32,\n",
    "    `talk_type_sip` Int32,\n",
    "    `call_stop_type_cancel_button` Int32,\n",
    "    `call_success_false` Int32,\n",
    "    `open_door_type_api` Int32,\n",
    "    `call_stop_type_speak_timeout` Int32,\n",
    "    `ring_type_analog` Int32,\n",
    "    `talk_type_analog`  Int32,\n",
    "    `digital_key_success_true` Int32,\n",
    "    `open_door_type_analog` Int32,\n",
    "    `ring_type_sip` Int32,\n",
    "    `talk_type_flat` Int32,\n",
    "    `key_state_auth_err` Int32,\n",
    "    `open_door_type_DTMF` Int32,\n",
    "    `ring_cluster` Int32,\n",
    "    `talk_open_door_type_api` Int32\n",
    ")\n",
    "ENGINE = S3('https://storage.yandexcloud.net/dwh-asgard/metrics_all_intercoms_asgard/year=*/month=*/*.csv','CSVWithNames')\n",
    "    \"\"\"\n",
    "\n",
    "ch.query_run(query_text)"
   ]
  },
  {
   "cell_type": "code",
   "execution_count": null,
   "id": "75d418d1",
   "metadata": {},
   "outputs": [],
   "source": [
    "query_text = \"\"\"--sql\n",
    "    CREATE TABLE db1.metrics_all_intercoms_asgard_ch\n",
    "(\n",
    "    `report_date` Date,\n",
    "    `uuid` String,\n",
    "    `call_stop_type_finish_handset` Int32,\n",
    "    `ring_type_ring_cloud` Int32,\n",
    "    `talk_open_door_type_analog` Int32,\n",
    "    `call_stop_type_cancel_cloud` Int32,\n",
    "    `key_state_valid` Int32,\n",
    "    `ring_cluster_error_type_entrance_offline` Int32,\n",
    "    `connection` Int32,\n",
    "    `ring_type_ring_info` Int32,\n",
    "    `ring_error_type_cancel` Int32,\n",
    "    `call_success_true` Int32,\n",
    "    `digital_key_success_false` Int32,\n",
    "    `key_state_invalid` Int32,\n",
    "    `ring_cluster_error_type_wrong_flat` Int32,\n",
    "    `ring_error_type_cancel_handset` Int32,\n",
    "    `talk_type_sip` Int32,\n",
    "    `call_stop_type_cancel_button` Int32,\n",
    "    `call_success_false` Int32,\n",
    "    `open_door_type_api` Int32,\n",
    "    `call_stop_type_speak_timeout` Int32,\n",
    "    `ring_type_analog` Int32,\n",
    "    `talk_type_analog`  Int32,\n",
    "    `digital_key_success_true` Int32,\n",
    "    `open_door_type_analog` Int32,\n",
    "    `ring_type_sip` Int32,\n",
    "    `talk_type_flat` Int32,\n",
    "    `key_state_auth_err` Int32,\n",
    "    `open_door_type_DTMF` Int32,\n",
    "    `ring_cluster` Int32,\n",
    "    `talk_open_door_type_api` Int32\n",
    ")\n",
    "    ENGINE = MergeTree()\n",
    "    ORDER BY uuid\n",
    "    \"\"\"\n",
    "\n",
    "ch.query_run(query_text)"
   ]
  },
  {
   "cell_type": "code",
   "execution_count": null,
   "id": "fbc17a12",
   "metadata": {},
   "outputs": [],
   "source": [
    "query_text = \"\"\"--sql\n",
    "    CREATE MATERIALIZED VIEW db1.metrics_all_intercoms_asgard_mv\n",
    "    REFRESH EVERY 1 DAY OFFSET 3 HOUR RANDOMIZE FOR 1 HOUR TO db1.metrics_all_intercoms_asgard_ch AS\n",
    "    SELECT\n",
    "        *\n",
    "    FROM db1.metrics_all_intercoms_asgard\n",
    "    \"\"\"\n",
    "\n",
    "ch.query_run(query_text)"
   ]
  },
  {
   "cell_type": "code",
   "execution_count": null,
   "id": "5de432d4",
   "metadata": {},
   "outputs": [],
   "source": [
    "query_text = \"\"\"--sql\n",
    "SELECT\n",
    "    *\n",
    "FROM db1.metrics_all_intercoms_asgard_ch\n",
    "WHERE report_date = '2025-03-01'\n",
    "ORDER BY report_date DESC\n",
    "limit 100\n",
    "\n",
    "\"\"\"\n",
    "\n",
    "ch.query_run(query_text)"
   ]
  },
  {
   "cell_type": "code",
   "execution_count": null,
   "id": "48f5ecdd",
   "metadata": {},
   "outputs": [],
   "source": []
  },
  {
   "cell_type": "markdown",
   "id": "0401e7f3",
   "metadata": {},
   "source": [
    "____\n",
    "\n",
    "## [[metrics_asgard]]\n"
   ]
  },
  {
   "cell_type": "code",
   "execution_count": null,
   "id": "39b74a09",
   "metadata": {},
   "outputs": [],
   "source": [
    "# creating a table from s3\n",
    "\n",
    "query_text = \"\"\"--sql \n",
    "   CREATE TABLE db1.metrics_asgard\n",
    "(\n",
    "    `report_date` Date,\n",
    "    `uuid` String,\n",
    "    `call_stop_type_finish_handset` Int32,\n",
    "    `ring_type_ring_cloud` Int32,\n",
    "    `talk_open_door_type_analog` Int32,\n",
    "    `call_stop_type_cancel_cloud` Int32,\n",
    "    `key_state_valid` Int32,\n",
    "    `ring_cluster_error_type_entrance_offline` Int32,\n",
    "    `connection` Int32,\n",
    "    `ring_type_ring_info` Int32,\n",
    "    `ring_error_type_cancel` Int32,\n",
    "    `call_success_true` Int32,\n",
    "    `digital_key_success_false` Int32,\n",
    "    `key_state_invalid` Int32,\n",
    "    `ring_cluster_error_type_wrong_flat` Int32,\n",
    "    `ring_error_type_cancel_handset` Int32,\n",
    "    `talk_type_sip` Int32,\n",
    "    `call_stop_type_cancel_button` Int32,\n",
    "    `call_success_false` Int32,\n",
    "    `open_door_type_api` Int32,\n",
    "    `call_stop_type_speak_timeout` Int32,\n",
    "    `ring_type_analog` Int32,\n",
    "    `talk_type_analog`  Int32,\n",
    "    `digital_key_success_true` Int32,\n",
    "    `open_door_type_analog` Int32,\n",
    "    `ring_type_sip` Int32,\n",
    "    `talk_type_flat` Int32,\n",
    "    `key_state_auth_err` Int32,\n",
    "    `open_door_type_DTMF` Int32,\n",
    "    `ring_cluster` Int32,\n",
    "    `talk_open_door_type_api` Int32\n",
    ")\n",
    "ENGINE = S3('https://storage.yandexcloud.net/dwh-asgard/metrics_asgard/year=*/month=*/*.csv','CSVWithNames')\n",
    "    \"\"\"\n",
    "\n",
    "ch.query_run(query_text)"
   ]
  },
  {
   "cell_type": "code",
   "execution_count": null,
   "id": "f31c1eef",
   "metadata": {},
   "outputs": [],
   "source": [
    "query_text = \"\"\"--sql\n",
    "    CREATE TABLE db1.metrics_asgard_ch\n",
    "(\n",
    "    `report_date` Date,\n",
    "    `uuid` String,\n",
    "    `call_stop_type_finish_handset` Int32,\n",
    "    `ring_type_ring_cloud` Int32,\n",
    "    `talk_open_door_type_analog` Int32,\n",
    "    `call_stop_type_cancel_cloud` Int32,\n",
    "    `key_state_valid` Int32,\n",
    "    `ring_cluster_error_type_entrance_offline` Int32,\n",
    "    `connection` Int32,\n",
    "    `ring_type_ring_info` Int32,\n",
    "    `ring_error_type_cancel` Int32,\n",
    "    `call_success_true` Int32,\n",
    "    `digital_key_success_false` Int32,\n",
    "    `key_state_invalid` Int32,\n",
    "    `ring_cluster_error_type_wrong_flat` Int32,\n",
    "    `ring_error_type_cancel_handset` Int32,\n",
    "    `talk_type_sip` Int32,\n",
    "    `call_stop_type_cancel_button` Int32,\n",
    "    `call_success_false` Int32,\n",
    "    `open_door_type_api` Int32,\n",
    "    `call_stop_type_speak_timeout` Int32,\n",
    "    `ring_type_analog` Int32,\n",
    "    `talk_type_analog`  Int32,\n",
    "    `digital_key_success_true` Int32,\n",
    "    `open_door_type_analog` Int32,\n",
    "    `ring_type_sip` Int32,\n",
    "    `talk_type_flat` Int32,\n",
    "    `key_state_auth_err` Int32,\n",
    "    `open_door_type_DTMF` Int32,\n",
    "    `ring_cluster` Int32,\n",
    "    `talk_open_door_type_api` Int32\n",
    ")\n",
    "    ENGINE = MergeTree()\n",
    "    ORDER BY uuid\n",
    "    \"\"\"\n",
    "\n",
    "ch.query_run(query_text)"
   ]
  },
  {
   "cell_type": "code",
   "execution_count": null,
   "id": "e5cdd33e",
   "metadata": {},
   "outputs": [],
   "source": [
    "query_text = \"\"\"--sql\n",
    "    CREATE MATERIALIZED VIEW db1.metrics_asgard_mv\n",
    "    REFRESH EVERY 1 DAY OFFSET 3 HOUR RANDOMIZE FOR 1 HOUR TO db1.metrics_asgard_ch AS\n",
    "    SELECT\n",
    "        *\n",
    "    FROM db1.metrics_asgard\n",
    "    \"\"\"\n",
    "\n",
    "ch.query_run(query_text)"
   ]
  },
  {
   "cell_type": "code",
   "execution_count": null,
   "id": "c351e304",
   "metadata": {
    "lines_to_next_cell": 0
   },
   "outputs": [],
   "source": [
    "query_text = \"\"\"--sql\n",
    "SELECT\n",
    "    *\n",
    "FROM db1.metrics_asgard_ch\n",
    "WHERE report_date = '2025-03-01'\n",
    "ORDER BY report_date DESC\n",
    "limit 100\n",
    "\n",
    "\"\"\"\n",
    "\n",
    "ch.query_run(query_text)"
   ]
  },
  {
   "cell_type": "markdown",
   "id": "9db663ae",
   "metadata": {},
   "source": [
    "\n"
   ]
  }
 ],
 "metadata": {
  "jupytext": {
   "formats": "ipynb,md"
  },
  "kernelspec": {
   "display_name": "myenv",
   "language": "python",
   "name": "python3"
  },
  "language_info": {
   "codemirror_mode": {
    "name": "ipython",
    "version": 3
   },
   "file_extension": ".py",
   "mimetype": "text/x-python",
   "name": "python",
   "nbconvert_exporter": "python",
   "pygments_lexer": "ipython3",
   "version": "3.12.10"
  }
 },
 "nbformat": 4,
 "nbformat_minor": 5
}

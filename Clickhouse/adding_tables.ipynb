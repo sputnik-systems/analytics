{
 "cells": [
  {
   "cell_type": "code",
   "execution_count": 1,
   "id": "9971a17c",
   "metadata": {},
   "outputs": [],
   "source": [
    "import clickhouse_connect\n",
    "import datetime\n",
    "import os\n",
    "import pytz\n",
    "import pandas as pd\n",
    "from dateutil.relativedelta import relativedelta\n",
    "from dotenv import load_dotenv\n",
    "\n",
    "from ClickHouse_client import ClickHouse_client\n",
    "ch = ClickHouse_client()"
   ]
  },
  {
   "cell_type": "markdown",
   "id": "f75f3e0b",
   "metadata": {},
   "source": [
    "___\n",
    "\n",
    "## Show all tables"
   ]
  },
  {
   "cell_type": "code",
   "execution_count": null,
   "id": "bd8bf2ef",
   "metadata": {},
   "outputs": [],
   "source": [
    "query_text = \"\"\"--sql\n",
    "    SHOW TABLES FROM db1\n",
    "\"\"\"\n",
    "ch.query_run(query_text)"
   ]
  },
  {
   "cell_type": "markdown",
   "id": "2f73bb36",
   "metadata": {},
   "source": [
    "____\n",
    "\n",
    "## [[uk_addresses_partner]] \n"
   ]
  },
  {
   "cell_type": "code",
   "execution_count": null,
   "id": "58348f44",
   "metadata": {},
   "outputs": [],
   "source": [
    "query_text = \"\"\"--sql\n",
    "    CREATE TABLE db1.uk_addresses_partner\n",
    "    (\n",
    "        `patrner_uuid_uk` String,\n",
    "        `address_uuid`  String,\n",
    "    )\n",
    "    ENGINE = S3('https://storage.yandexcloud.net/dwh-asgard/uk_addresses_partner/uk_addresses_partner.csv','CSVWithNames')\n",
    "    \"\"\"\n",
    "\n",
    "ch.query_run(query_text)\n"
   ]
  },
  {
   "cell_type": "code",
   "execution_count": null,
   "id": "f93b5dba",
   "metadata": {},
   "outputs": [],
   "source": [
    "query_text = \"\"\"--sql\n",
    "    CREATE TABLE db1.uk_addresses_partner_ch\n",
    "    (\n",
    "        `patrner_uuid_uk` String,\n",
    "        `address_uuid`  String,\n",
    "    )\n",
    "    ENGINE = MergeTree()\n",
    "    ORDER BY patrner_uuid_uk\n",
    "    \"\"\"\n",
    "\n",
    "ch.query_run(query_text)"
   ]
  },
  {
   "cell_type": "code",
   "execution_count": null,
   "id": "2565044b",
   "metadata": {},
   "outputs": [],
   "source": [
    "query_text = \"\"\"--sql\n",
    "    CREATE MATERIALIZED VIEW db1.uk_addresses_partner_mv\n",
    "    REFRESH EVERY 1 DAY OFFSET 3 HOUR RANDOMIZE FOR 1 HOUR TO db1.uk_addresses_partner_ch AS\n",
    "    SELECT\n",
    "        *\n",
    "    FROM db1.uk_addresses_partner\n",
    "    \"\"\"\n",
    "\n",
    "ch.query_run(query_text)"
   ]
  },
  {
   "cell_type": "code",
   "execution_count": null,
   "id": "59eabe85",
   "metadata": {},
   "outputs": [],
   "source": [
    "query_text = \"\"\"--sql\n",
    "    SELECT\n",
    "        *\n",
    "    FROM db1.uk_addresses_partner_ch\n",
    "    LIMIT 2\n",
    "    \"\"\"\n",
    "\n",
    "ch.query_run(query_text)"
   ]
  },
  {
   "cell_type": "markdown",
   "id": "caa6edd6",
   "metadata": {},
   "source": [
    "___\n",
    "\n",
    "## [[users_st_partner]]\n"
   ]
  },
  {
   "cell_type": "code",
   "execution_count": null,
   "id": "d0ec0e8a",
   "metadata": {},
   "outputs": [],
   "source": [
    "query_text = \"\"\"--sql\n",
    "    CREATE TABLE db1.users_st_partner\n",
    "    (\n",
    "        `report_date` Date,\n",
    "        `partner_uuid`  String,\n",
    "        `last_logging` DateTime\n",
    "    )\n",
    "    ENGINE = S3('https://storage.yandexcloud.net/dwh-asgard/users_st_partner/year=*/month=*/*.csv','CSVWithNames')\n",
    "    \"\"\"\n",
    "\n",
    "ch.query_run(query_text)"
   ]
  },
  {
   "cell_type": "code",
   "execution_count": null,
   "id": "a09fb12f",
   "metadata": {},
   "outputs": [],
   "source": [
    "query_text = \"\"\"--sql\n",
    "    CREATE TABLE db1.users_st_partner_ch\n",
    "    (\n",
    "        `report_date` Date,\n",
    "        `partner_uuid`  String,\n",
    "        `last_logging` DateTime\n",
    "    )\n",
    "    ENGINE = MergeTree()\n",
    "    ORDER BY partner_uuid\n",
    "    \"\"\"\n",
    "\n",
    "ch.query_run(query_text)\n"
   ]
  },
  {
   "cell_type": "code",
   "execution_count": null,
   "id": "5229ecf2",
   "metadata": {},
   "outputs": [],
   "source": [
    "query_text = \"\"\"--sql\n",
    "    CREATE MATERIALIZED VIEW db1.users_st_partner_mv\n",
    "    REFRESH EVERY 1 DAY OFFSET 3 HOUR RANDOMIZE FOR 1 HOUR TO db1.users_st_partner_ch AS\n",
    "    SELECT\n",
    "        *\n",
    "    FROM db1.users_st_partner\n",
    "    \"\"\"\n",
    "\n",
    "ch.query_run(query_text)"
   ]
  },
  {
   "cell_type": "markdown",
   "id": "accf1b2e",
   "metadata": {},
   "source": [
    "___\n",
    "\n",
    "## [[uk_addresses_st_partner]]"
   ]
  },
  {
   "cell_type": "code",
   "execution_count": null,
   "id": "4830e059",
   "metadata": {},
   "outputs": [],
   "source": [
    "# creating a table from s3\n",
    "\n",
    "query_text = \"\"\"--sql\n",
    "    CREATE TABLE db1.uk_addresses_st_partner\n",
    "    (\n",
    "        `report_date` Date,\n",
    "        `partner_uuid_uk`  String,\n",
    "        `address_uuid` String\n",
    "    )\n",
    "    ENGINE = S3('https://storage.yandexcloud.net/dwh-asgard/uk_addresses_st_partner/year=*/month=*/*.csv','CSVWithNames')\n",
    "    \"\"\"\n",
    "\n",
    "ch.query_run(query_text)"
   ]
  },
  {
   "cell_type": "code",
   "execution_count": null,
   "id": "2d547fd4",
   "metadata": {},
   "outputs": [],
   "source": [
    "# creating a table for materialized view\n",
    "\n",
    "query_text = \"\"\"--sql\n",
    "    CREATE TABLE db1.uk_addresses_st_partner_ch\n",
    "    (\n",
    "       `report_date` Date,\n",
    "        `partner_uuid_uk` String,\n",
    "        `address_uuid` String\n",
    "    )\n",
    "    ENGINE = MergeTree()\n",
    "    ORDER BY partner_uuid_uk\n",
    "    \"\"\"\n",
    "\n",
    "ch.query_run(query_text)"
   ]
  },
  {
   "cell_type": "code",
   "execution_count": null,
   "id": "a2b1635c",
   "metadata": {},
   "outputs": [],
   "source": [
    "# creating a materialized view\n",
    "\n",
    "query_text = \"\"\"--sql\n",
    "    CREATE MATERIALIZED VIEW db1.uk_addresses_st_partner_mv\n",
    "    REFRESH EVERY 1 DAY OFFSET 3 HOUR RANDOMIZE FOR 1 HOUR TO db1.uk_addresses_st_partner_ch AS\n",
    "    SELECT\n",
    "        *\n",
    "    FROM db1.uk_addresses_st_partner\n",
    "    \"\"\"\n",
    "\n",
    "ch.query_run(query_text)"
   ]
  },
  {
   "cell_type": "markdown",
   "id": "ce60a5a4",
   "metadata": {},
   "source": [
    "___\n",
    "\n",
    "## [[uk_dir_partner]]"
   ]
  },
  {
   "cell_type": "code",
   "execution_count": null,
   "id": "5607c2bc",
   "metadata": {},
   "outputs": [],
   "source": [
    "# creating a table from s3\n",
    "\n",
    "query_text = \"\"\"--sql\n",
    "    CREATE TABLE db1.uk_dir_partner\n",
    "    (\n",
    "        `id` Int32,\n",
    "        `name`  String,\n",
    "        `partner_uuid_uk` String,\n",
    "        `created_at` String\n",
    "    )\n",
    "    ENGINE = S3('https://storage.yandexcloud.net/dwh-asgard/uk_dir_partner/uk_dir_partner.csv','CSVWithNames')\n",
    "    \"\"\"\n",
    "\n",
    "ch.query_run(query_text)"
   ]
  },
  {
   "cell_type": "code",
   "execution_count": null,
   "id": "b2ae5158",
   "metadata": {},
   "outputs": [],
   "source": [
    "# creating a table for materialized view\n",
    "\n",
    "query_text = \"\"\"--sql\n",
    "    CREATE TABLE db1.uk_dir_partner_ch\n",
    "    (\n",
    "        `id` Int32,\n",
    "        `name`  String,\n",
    "        `partner_uuid_uk` String,\n",
    "        `created_at` String\n",
    "    )\n",
    "    ENGINE = MergeTree()\n",
    "    ORDER BY partner_uuid_uk\n",
    "    \"\"\"\n",
    "\n",
    "ch.query_run(query_text)"
   ]
  },
  {
   "cell_type": "code",
   "execution_count": null,
   "id": "18b5547d",
   "metadata": {},
   "outputs": [],
   "source": [
    "# creating a materialized view\n",
    "\n",
    "query_text = \"\"\"--sql\n",
    "    CREATE MATERIALIZED VIEW db1.uk_dir_partner_mv\n",
    "    REFRESH EVERY 1 DAY OFFSET 3 HOUR RANDOMIZE FOR 1 HOUR TO db1.uk_dir_partner_ch AS\n",
    "    SELECT\n",
    "        *\n",
    "    FROM db1.uk_dir_partner\n",
    "    \"\"\"\n",
    "\n",
    "ch.query_run(query_text)"
   ]
  },
  {
   "cell_type": "markdown",
   "id": "626fda86",
   "metadata": {},
   "source": [
    "___\n",
    "\n",
    "## [[uk_st_partner]]\n",
    "\n"
   ]
  },
  {
   "cell_type": "code",
   "execution_count": 3,
   "id": "aac13b1d",
   "metadata": {},
   "outputs": [
    {
     "data": {
      "text/html": [
       "<div>\n",
       "<style scoped>\n",
       "    .dataframe tbody tr th:only-of-type {\n",
       "        vertical-align: middle;\n",
       "    }\n",
       "\n",
       "    .dataframe tbody tr th {\n",
       "        vertical-align: top;\n",
       "    }\n",
       "\n",
       "    .dataframe thead th {\n",
       "        text-align: right;\n",
       "    }\n",
       "</style>\n",
       "<table border=\"1\" class=\"dataframe\">\n",
       "  <thead>\n",
       "    <tr style=\"text-align: right;\">\n",
       "      <th></th>\n",
       "    </tr>\n",
       "  </thead>\n",
       "  <tbody>\n",
       "  </tbody>\n",
       "</table>\n",
       "</div>"
      ],
      "text/plain": [
       "Empty DataFrame\n",
       "Columns: []\n",
       "Index: []"
      ]
     },
     "execution_count": 3,
     "metadata": {},
     "output_type": "execute_result"
    }
   ],
   "source": [
    "# creating a table from s3\n",
    "\n",
    "query_text = \"\"\"--sql\n",
    "    CREATE TABLE db1.uk_st_partner\n",
    "    (\n",
    "        `partner_uuid` String,\n",
    "        `business_partner_uuid`  String,\n",
    "        `updated_at` DateTime,\n",
    "        `partner_uk_email` String,\n",
    "        `report_date` Date\n",
    "    )\n",
    "    ENGINE = S3('https://storage.yandexcloud.net/dwh-asgard/uk_st_partner/year=*/month=*/*.csv','CSVWithNames')\n",
    "    \"\"\"\n",
    "\n",
    "ch.query_run(query_text)"
   ]
  },
  {
   "cell_type": "code",
   "execution_count": 4,
   "id": "2a26f0ba",
   "metadata": {},
   "outputs": [
    {
     "data": {
      "text/html": [
       "<div>\n",
       "<style scoped>\n",
       "    .dataframe tbody tr th:only-of-type {\n",
       "        vertical-align: middle;\n",
       "    }\n",
       "\n",
       "    .dataframe tbody tr th {\n",
       "        vertical-align: top;\n",
       "    }\n",
       "\n",
       "    .dataframe thead th {\n",
       "        text-align: right;\n",
       "    }\n",
       "</style>\n",
       "<table border=\"1\" class=\"dataframe\">\n",
       "  <thead>\n",
       "    <tr style=\"text-align: right;\">\n",
       "      <th></th>\n",
       "    </tr>\n",
       "  </thead>\n",
       "  <tbody>\n",
       "  </tbody>\n",
       "</table>\n",
       "</div>"
      ],
      "text/plain": [
       "Empty DataFrame\n",
       "Columns: []\n",
       "Index: []"
      ]
     },
     "execution_count": 4,
     "metadata": {},
     "output_type": "execute_result"
    }
   ],
   "source": [
    "# creating a table for materialized view\n",
    "\n",
    "query_text = \"\"\"--sql\n",
    "    CREATE TABLE db1.uk_st_partner_ch\n",
    "    (\n",
    "        `partner_uuid` String,\n",
    "        `business_partner_uuid` String,\n",
    "        `updated_at` DateTime,\n",
    "        `partner_uk_email` String,\n",
    "        `report_date` Date\n",
    "    )\n",
    "    ENGINE = MergeTree()\n",
    "    ORDER BY partner_uuid\n",
    "    \"\"\"\n",
    "\n",
    "ch.query_run(query_text)"
   ]
  },
  {
   "cell_type": "code",
   "execution_count": 5,
   "id": "6b140a3f",
   "metadata": {},
   "outputs": [
    {
     "ename": "DatabaseError",
     "evalue": "HTTPDriver for https://rc1a-eflrt968scbm232q.mdb.yandexcloud.net:8443 received ClickHouse error code 57\n Code: 57. DB::Exception: Table db1.uk_st_partner_mv already exists. (TABLE_ALREADY_EXISTS) (version 25.3.3.42 (official build))\n",
     "output_type": "error",
     "traceback": [
      "\u001b[31m---------------------------------------------------------------------------\u001b[39m",
      "\u001b[31mDatabaseError\u001b[39m                             Traceback (most recent call last)",
      "\u001b[36mCell\u001b[39m\u001b[36m \u001b[39m\u001b[32mIn[5]\u001b[39m\u001b[32m, line 11\u001b[39m\n\u001b[32m      1\u001b[39m \u001b[38;5;66;03m# creating a materialized view\u001b[39;00m\n\u001b[32m      3\u001b[39m query_text = \u001b[33m\"\"\"\u001b[39m\u001b[33m--sql\u001b[39m\n\u001b[32m      4\u001b[39m \u001b[33m    CREATE MATERIALIZED VIEW db1.uk_st_partner_mv\u001b[39m\n\u001b[32m      5\u001b[39m \u001b[33m    REFRESH EVERY 1 DAY OFFSET 3 HOUR RANDOMIZE FOR 1 HOUR TO db1.uk_st_partner_ch AS\u001b[39m\n\u001b[32m   (...)\u001b[39m\u001b[32m      8\u001b[39m \u001b[33m    FROM db1.uk_st_partner\u001b[39m\n\u001b[32m      9\u001b[39m \u001b[33m    \u001b[39m\u001b[33m\"\"\"\u001b[39m\n\u001b[32m---> \u001b[39m\u001b[32m11\u001b[39m \u001b[43mch\u001b[49m\u001b[43m.\u001b[49m\u001b[43mquery_run\u001b[49m\u001b[43m(\u001b[49m\u001b[43mquery_text\u001b[49m\u001b[43m)\u001b[49m\n",
      "\u001b[36mFile \u001b[39m\u001b[32m~/Documents/Work/analytics/Clickhouse/ClickHouse_client.py:28\u001b[39m, in \u001b[36mClickHouse_client.query_run\u001b[39m\u001b[34m(self, query_text)\u001b[39m\n\u001b[32m     26\u001b[39m \u001b[38;5;28;01mdef\u001b[39;00m\u001b[38;5;250m \u001b[39m\u001b[34mquery_run\u001b[39m (\u001b[38;5;28mself\u001b[39m, query_text):\n\u001b[32m     27\u001b[39m     query_text = query_text\n\u001b[32m---> \u001b[39m\u001b[32m28\u001b[39m     result = \u001b[38;5;28;43mself\u001b[39;49m\u001b[43m.\u001b[49m\u001b[43mclient\u001b[49m\u001b[43m.\u001b[49m\u001b[43mquery\u001b[49m\u001b[43m(\u001b[49m\u001b[43mquery_text\u001b[49m\u001b[43m)\u001b[49m\n\u001b[32m     29\u001b[39m     \u001b[38;5;28mself\u001b[39m.df = pd.DataFrame(result.result_rows, columns=result.column_names)\n\u001b[32m     30\u001b[39m     \u001b[38;5;66;03m# display(self.df)\u001b[39;00m\n",
      "\u001b[36mFile \u001b[39m\u001b[32m~/myenv/lib/python3.12/site-packages/clickhouse_connect/driver/client.py:237\u001b[39m, in \u001b[36mClient.query\u001b[39m\u001b[34m(self, query, parameters, settings, query_formats, column_formats, encoding, use_none, column_oriented, use_numpy, max_str_len, context, query_tz, column_tzs, external_data, transport_settings)\u001b[39m\n\u001b[32m    235\u001b[39m         \u001b[38;5;28;01mreturn\u001b[39;00m response.as_query_result()\n\u001b[32m    236\u001b[39m     \u001b[38;5;28;01mreturn\u001b[39;00m QueryResult([response] \u001b[38;5;28;01mif\u001b[39;00m \u001b[38;5;28misinstance\u001b[39m(response, \u001b[38;5;28mlist\u001b[39m) \u001b[38;5;28;01melse\u001b[39;00m [[response]])\n\u001b[32m--> \u001b[39m\u001b[32m237\u001b[39m \u001b[38;5;28;01mreturn\u001b[39;00m \u001b[38;5;28;43mself\u001b[39;49m\u001b[43m.\u001b[49m\u001b[43m_query_with_context\u001b[49m\u001b[43m(\u001b[49m\u001b[43mquery_context\u001b[49m\u001b[43m)\u001b[49m\n",
      "\u001b[36mFile \u001b[39m\u001b[32m~/myenv/lib/python3.12/site-packages/clickhouse_connect/driver/httpclient.py:243\u001b[39m, in \u001b[36mHttpClient._query_with_context\u001b[39m\u001b[34m(self, context)\u001b[39m\n\u001b[32m    241\u001b[39m     fields = \u001b[38;5;28;01mNone\u001b[39;00m\n\u001b[32m    242\u001b[39m     headers[\u001b[33m'\u001b[39m\u001b[33mContent-Type\u001b[39m\u001b[33m'\u001b[39m] = \u001b[33m'\u001b[39m\u001b[33mtext/plain; charset=utf-8\u001b[39m\u001b[33m'\u001b[39m\n\u001b[32m--> \u001b[39m\u001b[32m243\u001b[39m response = \u001b[38;5;28;43mself\u001b[39;49m\u001b[43m.\u001b[49m\u001b[43m_raw_request\u001b[49m\u001b[43m(\u001b[49m\u001b[43mbody\u001b[49m\u001b[43m,\u001b[49m\n\u001b[32m    244\u001b[39m \u001b[43m                             \u001b[49m\u001b[43mparams\u001b[49m\u001b[43m,\u001b[49m\n\u001b[32m    245\u001b[39m \u001b[43m                             \u001b[49m\u001b[43mdict_copy\u001b[49m\u001b[43m(\u001b[49m\u001b[43mheaders\u001b[49m\u001b[43m,\u001b[49m\u001b[43m \u001b[49m\u001b[43mcontext\u001b[49m\u001b[43m.\u001b[49m\u001b[43mtransport_settings\u001b[49m\u001b[43m)\u001b[49m\u001b[43m,\u001b[49m\n\u001b[32m    246\u001b[39m \u001b[43m                             \u001b[49m\u001b[43mstream\u001b[49m\u001b[43m=\u001b[49m\u001b[38;5;28;43;01mTrue\u001b[39;49;00m\u001b[43m,\u001b[49m\n\u001b[32m    247\u001b[39m \u001b[43m                             \u001b[49m\u001b[43mretries\u001b[49m\u001b[43m=\u001b[49m\u001b[38;5;28;43mself\u001b[39;49m\u001b[43m.\u001b[49m\u001b[43mquery_retries\u001b[49m\u001b[43m,\u001b[49m\n\u001b[32m    248\u001b[39m \u001b[43m                             \u001b[49m\u001b[43mfields\u001b[49m\u001b[43m=\u001b[49m\u001b[43mfields\u001b[49m\u001b[43m,\u001b[49m\n\u001b[32m    249\u001b[39m \u001b[43m                             \u001b[49m\u001b[43mserver_wait\u001b[49m\u001b[43m=\u001b[49m\u001b[38;5;129;43;01mnot\u001b[39;49;00m\u001b[43m \u001b[49m\u001b[43mcontext\u001b[49m\u001b[43m.\u001b[49m\u001b[43mstreaming\u001b[49m\u001b[43m)\u001b[49m\n\u001b[32m    250\u001b[39m byte_source = RespBuffCls(ResponseSource(response))  \u001b[38;5;66;03m# pylint: disable=not-callable\u001b[39;00m\n\u001b[32m    251\u001b[39m context.set_response_tz(\u001b[38;5;28mself\u001b[39m._check_tz_change(response.headers.get(\u001b[33m'\u001b[39m\u001b[33mX-ClickHouse-Timezone\u001b[39m\u001b[33m'\u001b[39m)))\n",
      "\u001b[36mFile \u001b[39m\u001b[32m~/myenv/lib/python3.12/site-packages/clickhouse_connect/driver/httpclient.py:481\u001b[39m, in \u001b[36mHttpClient._raw_request\u001b[39m\u001b[34m(self, data, params, headers, method, retries, stream, server_wait, fields, error_handler)\u001b[39m\n\u001b[32m    479\u001b[39m     error_handler(response)\n\u001b[32m    480\u001b[39m \u001b[38;5;28;01melse\u001b[39;00m:\n\u001b[32m--> \u001b[39m\u001b[32m481\u001b[39m     \u001b[38;5;28;43mself\u001b[39;49m\u001b[43m.\u001b[49m\u001b[43m_error_handler\u001b[49m\u001b[43m(\u001b[49m\u001b[43mresponse\u001b[49m\u001b[43m)\u001b[49m\n",
      "\u001b[36mFile \u001b[39m\u001b[32m~/myenv/lib/python3.12/site-packages/clickhouse_connect/driver/httpclient.py:402\u001b[39m, in \u001b[36mHttpClient._error_handler\u001b[39m\u001b[34m(self, response, retried)\u001b[39m\n\u001b[32m    399\u001b[39m \u001b[38;5;28;01melse\u001b[39;00m:\n\u001b[32m    400\u001b[39m     err_str = \u001b[33m'\u001b[39m\u001b[33mThe ClickHouse server returned an error.\u001b[39m\u001b[33m'\u001b[39m\n\u001b[32m--> \u001b[39m\u001b[32m402\u001b[39m \u001b[38;5;28;01mraise\u001b[39;00m OperationalError(err_str) \u001b[38;5;28;01mif\u001b[39;00m retried \u001b[38;5;28;01melse\u001b[39;00m DatabaseError(err_str) \u001b[38;5;28;01mfrom\u001b[39;00m\u001b[38;5;250m \u001b[39m\u001b[38;5;28;01mNone\u001b[39;00m\n",
      "\u001b[31mDatabaseError\u001b[39m: HTTPDriver for https://rc1a-eflrt968scbm232q.mdb.yandexcloud.net:8443 received ClickHouse error code 57\n Code: 57. DB::Exception: Table db1.uk_st_partner_mv already exists. (TABLE_ALREADY_EXISTS) (version 25.3.3.42 (official build))\n"
     ]
    }
   ],
   "source": [
    "# creating a materialized view\n",
    "\n",
    "query_text = \"\"\"--sql\n",
    "    CREATE MATERIALIZED VIEW db1.uk_st_partner_mv\n",
    "    REFRESH EVERY 1 DAY OFFSET 3 HOUR RANDOMIZE FOR 1 HOUR TO db1.uk_st_partner_ch AS\n",
    "    SELECT\n",
    "        *\n",
    "    FROM db1.uk_st_partner\n",
    "    \"\"\"\n",
    "\n",
    "ch.query_run(query_text)"
   ]
  },
  {
   "cell_type": "code",
   "execution_count": 13,
   "id": "d4b38c89",
   "metadata": {},
   "outputs": [
    {
     "data": {
      "text/html": [
       "<div>\n",
       "<style scoped>\n",
       "    .dataframe tbody tr th:only-of-type {\n",
       "        vertical-align: middle;\n",
       "    }\n",
       "\n",
       "    .dataframe tbody tr th {\n",
       "        vertical-align: top;\n",
       "    }\n",
       "\n",
       "    .dataframe thead th {\n",
       "        text-align: right;\n",
       "    }\n",
       "</style>\n",
       "<table border=\"1\" class=\"dataframe\">\n",
       "  <thead>\n",
       "    <tr style=\"text-align: right;\">\n",
       "      <th></th>\n",
       "      <th>partner_uuid</th>\n",
       "      <th>business_partner_uuid</th>\n",
       "      <th>updated_at</th>\n",
       "      <th>partner_uk_email</th>\n",
       "      <th>report_date</th>\n",
       "    </tr>\n",
       "  </thead>\n",
       "  <tbody>\n",
       "    <tr>\n",
       "      <th>0</th>\n",
       "      <td>0076e1b0-72c3-4783-9306-93d2990387ae</td>\n",
       "      <td>2ac02900-f143-4412-8f8c-df41ce1aed43</td>\n",
       "      <td>2024-03-06 02:42:16</td>\n",
       "      <td>zhilcom03sputnik@mail.ru</td>\n",
       "      <td>2024-10-01</td>\n",
       "    </tr>\n",
       "    <tr>\n",
       "      <th>1</th>\n",
       "      <td>0076e1b0-72c3-4783-9306-93d2990387ae</td>\n",
       "      <td>2ac02900-f143-4412-8f8c-df41ce1aed43</td>\n",
       "      <td>2024-03-06 02:42:16</td>\n",
       "      <td>zhilcom03sputnik@mail.ru</td>\n",
       "      <td>2024-10-10</td>\n",
       "    </tr>\n",
       "    <tr>\n",
       "      <th>2</th>\n",
       "      <td>0076e1b0-72c3-4783-9306-93d2990387ae</td>\n",
       "      <td>2ac02900-f143-4412-8f8c-df41ce1aed43</td>\n",
       "      <td>2024-03-06 02:42:16</td>\n",
       "      <td>zhilcom03sputnik@mail.ru</td>\n",
       "      <td>2024-10-11</td>\n",
       "    </tr>\n",
       "    <tr>\n",
       "      <th>3</th>\n",
       "      <td>0076e1b0-72c3-4783-9306-93d2990387ae</td>\n",
       "      <td>2ac02900-f143-4412-8f8c-df41ce1aed43</td>\n",
       "      <td>2024-03-06 02:42:16</td>\n",
       "      <td>zhilcom03sputnik@mail.ru</td>\n",
       "      <td>2024-10-12</td>\n",
       "    </tr>\n",
       "    <tr>\n",
       "      <th>4</th>\n",
       "      <td>0076e1b0-72c3-4783-9306-93d2990387ae</td>\n",
       "      <td>2ac02900-f143-4412-8f8c-df41ce1aed43</td>\n",
       "      <td>2024-03-06 02:42:16</td>\n",
       "      <td>zhilcom03sputnik@mail.ru</td>\n",
       "      <td>2024-10-13</td>\n",
       "    </tr>\n",
       "    <tr>\n",
       "      <th>...</th>\n",
       "      <td>...</td>\n",
       "      <td>...</td>\n",
       "      <td>...</td>\n",
       "      <td>...</td>\n",
       "      <td>...</td>\n",
       "    </tr>\n",
       "    <tr>\n",
       "      <th>57949</th>\n",
       "      <td>febc849a-3c8f-4bb0-817c-47bf1bf6c0a3</td>\n",
       "      <td>0e7236ac-b8bd-4ab0-8634-d165ad17190e</td>\n",
       "      <td>2025-04-11 06:26:04</td>\n",
       "      <td>zpr23@mail.ru</td>\n",
       "      <td>2025-05-04</td>\n",
       "    </tr>\n",
       "    <tr>\n",
       "      <th>57950</th>\n",
       "      <td>febc849a-3c8f-4bb0-817c-47bf1bf6c0a3</td>\n",
       "      <td>0e7236ac-b8bd-4ab0-8634-d165ad17190e</td>\n",
       "      <td>2025-04-11 06:26:04</td>\n",
       "      <td>zpr23@mail.ru</td>\n",
       "      <td>2025-05-09</td>\n",
       "    </tr>\n",
       "    <tr>\n",
       "      <th>57951</th>\n",
       "      <td>febc849a-3c8f-4bb0-817c-47bf1bf6c0a3</td>\n",
       "      <td>0e7236ac-b8bd-4ab0-8634-d165ad17190e</td>\n",
       "      <td>2025-04-11 06:26:04</td>\n",
       "      <td>zpr23@mail.ru</td>\n",
       "      <td>2025-06-01</td>\n",
       "    </tr>\n",
       "    <tr>\n",
       "      <th>57952</th>\n",
       "      <td>febc849a-3c8f-4bb0-817c-47bf1bf6c0a3</td>\n",
       "      <td>0e7236ac-b8bd-4ab0-8634-d165ad17190e</td>\n",
       "      <td>2025-04-11 06:26:04</td>\n",
       "      <td>zpr23@mail.ru</td>\n",
       "      <td>2025-05-10</td>\n",
       "    </tr>\n",
       "    <tr>\n",
       "      <th>57953</th>\n",
       "      <td>febc849a-3c8f-4bb0-817c-47bf1bf6c0a3</td>\n",
       "      <td>0e7236ac-b8bd-4ab0-8634-d165ad17190e</td>\n",
       "      <td>2025-04-11 06:26:04</td>\n",
       "      <td>zpr23@mail.ru</td>\n",
       "      <td>2025-05-12</td>\n",
       "    </tr>\n",
       "  </tbody>\n",
       "</table>\n",
       "<p>57954 rows × 5 columns</p>\n",
       "</div>"
      ],
      "text/plain": [
       "                               partner_uuid  \\\n",
       "0      0076e1b0-72c3-4783-9306-93d2990387ae   \n",
       "1      0076e1b0-72c3-4783-9306-93d2990387ae   \n",
       "2      0076e1b0-72c3-4783-9306-93d2990387ae   \n",
       "3      0076e1b0-72c3-4783-9306-93d2990387ae   \n",
       "4      0076e1b0-72c3-4783-9306-93d2990387ae   \n",
       "...                                     ...   \n",
       "57949  febc849a-3c8f-4bb0-817c-47bf1bf6c0a3   \n",
       "57950  febc849a-3c8f-4bb0-817c-47bf1bf6c0a3   \n",
       "57951  febc849a-3c8f-4bb0-817c-47bf1bf6c0a3   \n",
       "57952  febc849a-3c8f-4bb0-817c-47bf1bf6c0a3   \n",
       "57953  febc849a-3c8f-4bb0-817c-47bf1bf6c0a3   \n",
       "\n",
       "                      business_partner_uuid          updated_at  \\\n",
       "0      2ac02900-f143-4412-8f8c-df41ce1aed43 2024-03-06 02:42:16   \n",
       "1      2ac02900-f143-4412-8f8c-df41ce1aed43 2024-03-06 02:42:16   \n",
       "2      2ac02900-f143-4412-8f8c-df41ce1aed43 2024-03-06 02:42:16   \n",
       "3      2ac02900-f143-4412-8f8c-df41ce1aed43 2024-03-06 02:42:16   \n",
       "4      2ac02900-f143-4412-8f8c-df41ce1aed43 2024-03-06 02:42:16   \n",
       "...                                     ...                 ...   \n",
       "57949  0e7236ac-b8bd-4ab0-8634-d165ad17190e 2025-04-11 06:26:04   \n",
       "57950  0e7236ac-b8bd-4ab0-8634-d165ad17190e 2025-04-11 06:26:04   \n",
       "57951  0e7236ac-b8bd-4ab0-8634-d165ad17190e 2025-04-11 06:26:04   \n",
       "57952  0e7236ac-b8bd-4ab0-8634-d165ad17190e 2025-04-11 06:26:04   \n",
       "57953  0e7236ac-b8bd-4ab0-8634-d165ad17190e 2025-04-11 06:26:04   \n",
       "\n",
       "               partner_uk_email report_date  \n",
       "0      zhilcom03sputnik@mail.ru  2024-10-01  \n",
       "1      zhilcom03sputnik@mail.ru  2024-10-10  \n",
       "2      zhilcom03sputnik@mail.ru  2024-10-11  \n",
       "3      zhilcom03sputnik@mail.ru  2024-10-12  \n",
       "4      zhilcom03sputnik@mail.ru  2024-10-13  \n",
       "...                         ...         ...  \n",
       "57949             zpr23@mail.ru  2025-05-04  \n",
       "57950             zpr23@mail.ru  2025-05-09  \n",
       "57951             zpr23@mail.ru  2025-06-01  \n",
       "57952             zpr23@mail.ru  2025-05-10  \n",
       "57953             zpr23@mail.ru  2025-05-12  \n",
       "\n",
       "[57954 rows x 5 columns]"
      ]
     },
     "execution_count": 13,
     "metadata": {},
     "output_type": "execute_result"
    }
   ],
   "source": [
    "query_text = \"\"\"--sql\n",
    "    SELECT\n",
    "        *\n",
    "    FROM db1.uk_st_partner_ch\n",
    "    \"\"\"\n",
    "\n",
    "ch.query_run(query_text)"
   ]
  }
 ],
 "metadata": {
  "jupytext": {
   "formats": "ipynb,md"
  },
  "kernelspec": {
   "display_name": "myenv",
   "language": "python",
   "name": "python3"
  },
  "language_info": {
   "codemirror_mode": {
    "name": "ipython",
    "version": 3
   },
   "file_extension": ".py",
   "mimetype": "text/x-python",
   "name": "python",
   "nbconvert_exporter": "python",
   "pygments_lexer": "ipython3",
   "version": "3.12.10"
  }
 },
 "nbformat": 4,
 "nbformat_minor": 5
}

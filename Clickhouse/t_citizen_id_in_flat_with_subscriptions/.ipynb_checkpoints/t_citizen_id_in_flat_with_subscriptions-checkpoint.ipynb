{
 "cells": [
  {
   "cell_type": "code",
   "execution_count": 2,
   "id": "28f6e6b2",
   "metadata": {},
   "outputs": [],
   "source": [
    "import clickhouse_connect\n",
    "import datetime\n",
    "import os\n",
    "import pytz\n",
    "import pandas as pd\n",
    "from dateutil.relativedelta import relativedelta\n",
    "from dotenv import load_dotenv\n",
    "\n",
    "import sys\n",
    "sys.path.append('/home/boris/Documents/Work/analytics/Clickhouse')\n",
    "from clickhouse_client import ClickHouse_client\n",
    "ch = ClickHouse_client()\n",
    "pd.set_option('display.max_rows', 1000)"
   ]
  },
  {
   "cell_type": "markdown",
   "id": "3258f46c",
   "metadata": {},
   "source": [
    "____\n",
    "## Tags: #Tables\n",
    "\n",
    "# Links:\n",
    "\n",
    "[[t_full_citizen_id_in_flat_with_subscriptions]]"
   ]
  },
  {
   "cell_type": "code",
   "execution_count": 5,
   "id": "49c725b1",
   "metadata": {},
   "outputs": [
    {
     "data": {
      "text/html": [
       "<div><style>\n",
       ".dataframe > thead > tr,\n",
       ".dataframe > tbody > tr {\n",
       "  text-align: right;\n",
       "  white-space: pre-wrap;\n",
       "}\n",
       "</style>\n",
       "<small>shape: (0, 0)</small><table border=\"1\" class=\"dataframe\"><thead><tr></tr><tr></tr></thead><tbody></tbody></table></div>"
      ],
      "text/plain": [
       "shape: (0, 0)\n",
       "┌┐\n",
       "╞╡\n",
       "└┘"
      ]
     },
     "execution_count": 5,
     "metadata": {},
     "output_type": "execute_result"
    }
   ],
   "source": [
    "query_text = \"\"\"--sql\n",
    "    CREATE TABLE db1.t_citizen_id_in_flat_with_subscriptions\n",
    "    (\n",
    "        `report_date` Date,\n",
    "        `address_uuid` String,\n",
    "        `citizen_id_in_flat_with_subscriptions` UInt64\n",
    "    )\n",
    "    ENGINE = MergeTree()\n",
    "    ORDER BY address_uuid\n",
    "    \"\"\"\n",
    "ch.query_run(query_text)\n"
   ]
  },
  {
   "cell_type": "code",
   "execution_count": null,
   "id": "55bfd290",
   "metadata": {},
   "outputs": [],
   "source": [
    "query_text = \"\"\"--sql\n",
    "CREATE MATERIALIZED VIEW db1.t_citizen_id_in_flat_with_subscriptions_mv\n",
    "REFRESH EVERY 1 DAY OFFSET 5 HOUR 27 MINUTE TO db1.t_citizen_id_in_flat_with_subscriptions AS \n",
    "SELECT\n",
    "    report_date,\n",
    "    address_uuid,\n",
    "    COUNT(DISTINCT citizen_id) as citizen_id_in_flat_with_subscriptions\n",
    "FROM db1.t_full_citizen_id_in_flat_with_subscriptions\n",
    "WHERE address_uuid !=''\n",
    "GROUP BY report_date,\n",
    "        address_uuid\n",
    "    \"\"\"\n",
    "ch.query_run(query_text)"
   ]
  },
  {
   "cell_type": "code",
   "execution_count": 2,
   "id": "97f0aa85",
   "metadata": {},
   "outputs": [
    {
     "data": {
      "text/html": [
       "<div><style>\n",
       ".dataframe > thead > tr,\n",
       ".dataframe > tbody > tr {\n",
       "  text-align: right;\n",
       "  white-space: pre-wrap;\n",
       "}\n",
       "</style>\n",
       "<small>shape: (10, 3)</small><table border=\"1\" class=\"dataframe\"><thead><tr><th>report_date</th><th>address_uuid</th><th>citizen_id_in_flat_with_subscriptions</th></tr><tr><td>date</td><td>str</td><td>i64</td></tr></thead><tbody><tr><td>2025-09-06</td><td>&quot;026fa871-02f9-4462-b960-60bcff…</td><td>10</td></tr><tr><td>2025-09-06</td><td>&quot;0111bc3f-9663-4997-8a3b-b72725…</td><td>14</td></tr><tr><td>2025-09-06</td><td>&quot;022d9807-aa84-4bb3-b8b6-f8c6c0…</td><td>9</td></tr><tr><td>2025-09-06</td><td>&quot;022719cd-57f4-491d-96a4-1c849d…</td><td>13</td></tr><tr><td>2025-09-06</td><td>&quot;01def67c-9585-4135-96d8-b9b23c…</td><td>1</td></tr><tr><td>2025-09-06</td><td>&quot;018c94f8-017d-43a9-a2ad-9b3191…</td><td>3</td></tr><tr><td>2025-09-06</td><td>&quot;023e1a88-3554-47bf-ada2-5c9b06…</td><td>12</td></tr><tr><td>2025-09-06</td><td>&quot;01682c59-fcaf-4656-9b85-61738b…</td><td>9</td></tr><tr><td>2025-09-06</td><td>&quot;012ab1b6-d70c-4a29-a5d9-a8bb05…</td><td>8</td></tr><tr><td>2025-09-06</td><td>&quot;03a01d68-9c97-4a2a-847a-5f5a38…</td><td>2</td></tr></tbody></table></div>"
      ],
      "text/plain": [
       "shape: (10, 3)\n",
       "┌─────────────┬─────────────────────────────────┬─────────────────────────────────┐\n",
       "│ report_date ┆ address_uuid                    ┆ citizen_id_in_flat_with_subscr… │\n",
       "│ ---         ┆ ---                             ┆ ---                             │\n",
       "│ date        ┆ str                             ┆ i64                             │\n",
       "╞═════════════╪═════════════════════════════════╪═════════════════════════════════╡\n",
       "│ 2025-09-06  ┆ 026fa871-02f9-4462-b960-60bcff… ┆ 10                              │\n",
       "│ 2025-09-06  ┆ 0111bc3f-9663-4997-8a3b-b72725… ┆ 14                              │\n",
       "│ 2025-09-06  ┆ 022d9807-aa84-4bb3-b8b6-f8c6c0… ┆ 9                               │\n",
       "│ 2025-09-06  ┆ 022719cd-57f4-491d-96a4-1c849d… ┆ 13                              │\n",
       "│ 2025-09-06  ┆ 01def67c-9585-4135-96d8-b9b23c… ┆ 1                               │\n",
       "│ 2025-09-06  ┆ 018c94f8-017d-43a9-a2ad-9b3191… ┆ 3                               │\n",
       "│ 2025-09-06  ┆ 023e1a88-3554-47bf-ada2-5c9b06… ┆ 12                              │\n",
       "│ 2025-09-06  ┆ 01682c59-fcaf-4656-9b85-61738b… ┆ 9                               │\n",
       "│ 2025-09-06  ┆ 012ab1b6-d70c-4a29-a5d9-a8bb05… ┆ 8                               │\n",
       "│ 2025-09-06  ┆ 03a01d68-9c97-4a2a-847a-5f5a38… ┆ 2                               │\n",
       "└─────────────┴─────────────────────────────────┴─────────────────────────────────┘"
      ]
     },
     "execution_count": 2,
     "metadata": {},
     "output_type": "execute_result"
    }
   ],
   "source": [
    "query_text = \"\"\"--sql\n",
    "SELECT\n",
    "    *\n",
    "FROM db1.t_citizen_id_in_flat_with_subscriptions\n",
    "ORDER BY report_date desc\n",
    "LIMIT 10\n",
    "    \"\"\"\n",
    "ch.query_run(query_text)"
   ]
  },
  {
   "cell_type": "code",
   "execution_count": 3,
   "id": "88205fd2",
   "metadata": {},
   "outputs": [
    {
     "data": {
      "text/html": [
       "<div><style>\n",
       ".dataframe > thead > tr,\n",
       ".dataframe > tbody > tr {\n",
       "  text-align: right;\n",
       "  white-space: pre-wrap;\n",
       "}\n",
       "</style>\n",
       "<small>shape: (1, 9)</small><table border=\"1\" class=\"dataframe\"><thead><tr><th>read_rows</th><th>read_bytes</th><th>written_rows</th><th>written_bytes</th><th>total_rows_to_read</th><th>result_rows</th><th>result_bytes</th><th>elapsed_ns</th><th>query_id</th></tr><tr><td>i64</td><td>i64</td><td>i64</td><td>i64</td><td>i64</td><td>i64</td><td>i64</td><td>i64</td><td>str</td></tr></thead><tbody><tr><td>0</td><td>0</td><td>0</td><td>0</td><td>0</td><td>0</td><td>0</td><td>3284449</td><td>&quot;7f93db56-0daa-45ec-bee0-42f396…</td></tr></tbody></table></div>"
      ],
      "text/plain": [
       "shape: (1, 9)\n",
       "┌───────────┬───────────┬───────────┬───────────┬───┬───────────┬───────────┬───────────┬──────────┐\n",
       "│ read_rows ┆ read_byte ┆ written_r ┆ written_b ┆ … ┆ result_ro ┆ result_by ┆ elapsed_n ┆ query_id │\n",
       "│ ---       ┆ s         ┆ ows       ┆ ytes      ┆   ┆ ws        ┆ tes       ┆ s         ┆ ---      │\n",
       "│ i64       ┆ ---       ┆ ---       ┆ ---       ┆   ┆ ---       ┆ ---       ┆ ---       ┆ str      │\n",
       "│           ┆ i64       ┆ i64       ┆ i64       ┆   ┆ i64       ┆ i64       ┆ i64       ┆          │\n",
       "╞═══════════╪═══════════╪═══════════╪═══════════╪═══╪═══════════╪═══════════╪═══════════╪══════════╡\n",
       "│ 0         ┆ 0         ┆ 0         ┆ 0         ┆ … ┆ 0         ┆ 0         ┆ 3284449   ┆ 7f93db56 │\n",
       "│           ┆           ┆           ┆           ┆   ┆           ┆           ┆           ┆ -0daa-45 │\n",
       "│           ┆           ┆           ┆           ┆   ┆           ┆           ┆           ┆ ec-bee0- │\n",
       "│           ┆           ┆           ┆           ┆   ┆           ┆           ┆           ┆ 42f396…  │\n",
       "└───────────┴───────────┴───────────┴───────────┴───┴───────────┴───────────┴───────────┴──────────┘"
      ]
     },
     "execution_count": 3,
     "metadata": {},
     "output_type": "execute_result"
    }
   ],
   "source": [
    "query_text = \"\"\"\n",
    "    DROP TABLE db1.t_citizen_id_in_flat_with_subscriptions_mv\n",
    "    \"\"\"\n",
    "ch.query_run(query_text)"
   ]
  },
  {
   "cell_type": "code",
   "execution_count": 4,
   "id": "ba1d3f81",
   "metadata": {},
   "outputs": [
    {
     "data": {
      "text/html": [
       "<div><style>\n",
       ".dataframe > thead > tr,\n",
       ".dataframe > tbody > tr {\n",
       "  text-align: right;\n",
       "  white-space: pre-wrap;\n",
       "}\n",
       "</style>\n",
       "<small>shape: (1, 9)</small><table border=\"1\" class=\"dataframe\"><thead><tr><th>read_rows</th><th>read_bytes</th><th>written_rows</th><th>written_bytes</th><th>total_rows_to_read</th><th>result_rows</th><th>result_bytes</th><th>elapsed_ns</th><th>query_id</th></tr><tr><td>i64</td><td>i64</td><td>i64</td><td>i64</td><td>i64</td><td>i64</td><td>i64</td><td>i64</td><td>str</td></tr></thead><tbody><tr><td>0</td><td>0</td><td>0</td><td>0</td><td>0</td><td>0</td><td>0</td><td>9390486</td><td>&quot;3a716d6e-6e3f-4719-91d1-196473…</td></tr></tbody></table></div>"
      ],
      "text/plain": [
       "shape: (1, 9)\n",
       "┌───────────┬───────────┬───────────┬───────────┬───┬───────────┬───────────┬───────────┬──────────┐\n",
       "│ read_rows ┆ read_byte ┆ written_r ┆ written_b ┆ … ┆ result_ro ┆ result_by ┆ elapsed_n ┆ query_id │\n",
       "│ ---       ┆ s         ┆ ows       ┆ ytes      ┆   ┆ ws        ┆ tes       ┆ s         ┆ ---      │\n",
       "│ i64       ┆ ---       ┆ ---       ┆ ---       ┆   ┆ ---       ┆ ---       ┆ ---       ┆ str      │\n",
       "│           ┆ i64       ┆ i64       ┆ i64       ┆   ┆ i64       ┆ i64       ┆ i64       ┆          │\n",
       "╞═══════════╪═══════════╪═══════════╪═══════════╪═══╪═══════════╪═══════════╪═══════════╪══════════╡\n",
       "│ 0         ┆ 0         ┆ 0         ┆ 0         ┆ … ┆ 0         ┆ 0         ┆ 9390486   ┆ 3a716d6e │\n",
       "│           ┆           ┆           ┆           ┆   ┆           ┆           ┆           ┆ -6e3f-47 │\n",
       "│           ┆           ┆           ┆           ┆   ┆           ┆           ┆           ┆ 19-91d1- │\n",
       "│           ┆           ┆           ┆           ┆   ┆           ┆           ┆           ┆ 196473…  │\n",
       "└───────────┴───────────┴───────────┴───────────┴───┴───────────┴───────────┴───────────┴──────────┘"
      ]
     },
     "execution_count": 4,
     "metadata": {},
     "output_type": "execute_result"
    }
   ],
   "source": [
    "query_text = \"\"\"\n",
    "    DROP TABLE db1.t_citizen_id_in_flat_with_subscriptions\n",
    "    \"\"\"\n",
    "ch.query_run(query_text)"
   ]
  },
  {
   "cell_type": "code",
   "execution_count": null,
   "id": "b394bc54",
   "metadata": {},
   "outputs": [],
   "source": [
    "query_text = \"\"\"\n",
    "    REFRASHE TABLE db1.t_citizen_id_in_flat_with_subscriptions_mv\n",
    "    \"\"\"\n",
    "ch.query_run(query_text)"
   ]
  }
 ],
 "metadata": {
  "jupytext": {
   "formats": "ipynb,md"
  },
  "kernelspec": {
   "display_name": "myenv",
   "language": "python",
   "name": "python3"
  },
  "language_info": {
   "codemirror_mode": {
    "name": "ipython",
    "version": 3
   },
   "file_extension": ".py",
   "mimetype": "text/x-python",
   "name": "python",
   "nbconvert_exporter": "python",
   "pygments_lexer": "ipython3",
   "version": "3.12.11"
  }
 },
 "nbformat": 4,
 "nbformat_minor": 5
}

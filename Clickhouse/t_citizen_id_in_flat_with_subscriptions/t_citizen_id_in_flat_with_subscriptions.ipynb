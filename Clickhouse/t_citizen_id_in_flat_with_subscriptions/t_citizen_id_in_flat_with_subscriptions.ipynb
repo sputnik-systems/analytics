{
 "cells": [
  {
   "cell_type": "code",
   "execution_count": 1,
   "id": "28f6e6b2",
   "metadata": {},
   "outputs": [],
   "source": [
    "import clickhouse_connect\n",
    "import datetime\n",
    "import os\n",
    "import pytz\n",
    "import pandas as pd\n",
    "from dateutil.relativedelta import relativedelta\n",
    "from dotenv import load_dotenv\n",
    "\n",
    "import sys\n",
    "sys.path.append('/home/boris/Documents/Work/analytics/Clickhouse')\n",
    "from clickhouse_client import ClickHouse_client\n",
    "ch = ClickHouse_client()\n",
    "pd.set_option('display.max_rows', 1000)"
   ]
  },
  {
   "cell_type": "markdown",
   "id": "3258f46c",
   "metadata": {},
   "source": [
    "____\n",
    "## Tags: #Tables\n",
    "\n",
    "# Links:\n",
    "\n",
    "[[t_full_citizen_id_in_flat_with_subscriptions]]"
   ]
  },
  {
   "cell_type": "code",
   "execution_count": 5,
   "id": "49c725b1",
   "metadata": {},
   "outputs": [
    {
     "data": {
      "text/html": [
       "<div><style>\n",
       ".dataframe > thead > tr,\n",
       ".dataframe > tbody > tr {\n",
       "  text-align: right;\n",
       "  white-space: pre-wrap;\n",
       "}\n",
       "</style>\n",
       "<small>shape: (0, 0)</small><table border=\"1\" class=\"dataframe\"><thead><tr></tr><tr></tr></thead><tbody></tbody></table></div>"
      ],
      "text/plain": [
       "shape: (0, 0)\n",
       "┌┐\n",
       "╞╡\n",
       "└┘"
      ]
     },
     "execution_count": 5,
     "metadata": {},
     "output_type": "execute_result"
    }
   ],
   "source": [
    "query_text = \"\"\"--sql\n",
    "    CREATE TABLE db1.t_citizen_id_in_flat_with_subscriptions\n",
    "    (\n",
    "        `report_date` Date,\n",
    "        `address_uuid` String,\n",
    "        `citizen_id_in_flat_with_subscriptions` UInt64\n",
    "    )\n",
    "    ENGINE = MergeTree()\n",
    "    ORDER BY address_uuid\n",
    "    \"\"\"\n",
    "ch.query_run(query_text)\n"
   ]
  },
  {
   "cell_type": "code",
   "execution_count": null,
   "id": "55bfd290",
   "metadata": {},
   "outputs": [],
   "source": [
    "query_text = \"\"\"--sql\n",
    "CREATE MATERIALIZED VIEW db1.t_citizen_id_in_flat_with_subscriptions_mv\n",
    "REFRESH EVERY 1 DAY OFFSET 5 HOUR 27 MINUTE TO db1.t_citizen_id_in_flat_with_subscriptions AS \n",
    "SELECT\n",
    "    report_date,\n",
    "    address_uuid,\n",
    "    COUNT(DISTINCT citizen_id) as citizen_id_in_flat_with_subscriptions\n",
    "FROM db1.t_full_citizen_id_in_flat_with_subscriptions\n",
    "WHERE address_uuid !=''\n",
    "GROUP BY report_date,\n",
    "        address_uuid\n",
    "    \"\"\"\n",
    "ch.query_run(query_text)"
   ]
  },
  {
   "cell_type": "code",
   "execution_count": null,
   "id": "d89a5d30",
   "metadata": {},
   "outputs": [
    {
     "name": "stdout",
     "output_type": "stream",
     "text": [
      "2025-09-05\n",
      "2025-09-04\n",
      "2025-09-03\n",
      "2025-09-02\n",
      "2025-09-01\n",
      "2025-08-31\n",
      "2025-08-30\n",
      "2025-08-29\n",
      "2025-08-28\n",
      "2025-08-27\n",
      "2025-08-26\n",
      "2025-08-25\n",
      "2025-08-24\n",
      "2025-08-23\n",
      "2025-08-21\n",
      "2025-08-20\n",
      "2025-08-19\n",
      "2025-08-18\n",
      "2025-08-17\n",
      "2025-08-16\n",
      "2025-08-15\n",
      "2025-08-14\n",
      "2025-08-13\n",
      "2025-08-12\n",
      "2025-08-11\n",
      "2025-08-10\n",
      "2025-08-09\n",
      "2025-08-08\n",
      "2025-08-07\n",
      "2025-08-06\n",
      "2025-08-05\n",
      "2025-08-04\n",
      "2025-08-03\n",
      "2025-08-02\n",
      "2025-08-01\n",
      "2025-07-31\n",
      "2025-07-30\n",
      "2025-07-29\n",
      "2025-07-28\n",
      "2025-07-27\n",
      "2025-07-26\n",
      "2025-07-25\n",
      "2025-07-24\n",
      "2025-07-23\n",
      "2025-07-22\n",
      "2025-07-21\n",
      "2025-07-20\n",
      "2025-07-19\n",
      "2025-07-18\n",
      "2025-07-17\n",
      "2025-07-16\n",
      "2025-07-15\n",
      "2025-07-14\n",
      "2025-07-13\n",
      "2025-07-12\n",
      "2025-07-11\n",
      "2025-07-10\n",
      "2025-07-09\n",
      "2025-07-08\n",
      "2025-07-07\n",
      "2025-07-06\n",
      "2025-07-05\n",
      "2025-07-04\n",
      "2025-07-03\n",
      "2025-07-02\n",
      "2025-07-01\n",
      "2025-06-30\n",
      "2025-06-29\n",
      "2025-06-28\n",
      "2025-06-27\n",
      "2025-06-26\n",
      "2025-06-25\n",
      "2025-06-24\n",
      "2025-06-23\n",
      "2025-06-22\n",
      "2025-06-21\n",
      "2025-06-20\n",
      "2025-06-19\n",
      "2025-06-18\n",
      "2025-06-17\n",
      "2025-06-16\n",
      "2025-06-15\n",
      "2025-06-14\n",
      "2025-06-13\n",
      "2025-06-12\n",
      "2025-06-11\n",
      "2025-06-10\n",
      "2025-06-09\n",
      "2025-06-08\n",
      "2025-06-07\n",
      "2025-06-06\n",
      "2025-06-05\n",
      "2025-06-04\n",
      "2025-06-03\n",
      "2025-06-02\n",
      "2025-06-01\n",
      "2025-05-31\n",
      "2025-05-30\n",
      "2025-05-29\n",
      "2025-05-28\n",
      "2025-05-27\n",
      "2025-05-26\n",
      "2025-05-25\n",
      "2025-05-24\n",
      "2025-05-23\n",
      "2025-05-22\n",
      "2025-05-21\n",
      "2025-05-20\n",
      "2025-05-19\n",
      "2025-05-18\n",
      "2025-05-17\n",
      "2025-05-16\n",
      "2025-05-15\n",
      "2025-05-14\n",
      "2025-05-13\n",
      "2025-05-12\n",
      "2025-05-11\n",
      "2025-05-10\n",
      "2025-05-09\n",
      "2025-05-08\n",
      "2025-05-07\n",
      "2025-05-06\n",
      "2025-05-05\n",
      "2025-05-04\n",
      "2025-05-03\n",
      "2025-05-02\n",
      "2025-05-01\n",
      "2025-04-30\n",
      "2025-04-29\n",
      "2025-04-28\n",
      "2025-04-27\n",
      "2025-04-26\n",
      "2025-04-25\n",
      "2025-04-24\n",
      "2025-04-23\n",
      "2025-04-22\n"
     ]
    }
   ],
   "source": [
    "start_date = datetime.datetime.strptime('2023-09-01','%Y-%m-%d').date()\n",
    "end_date = datetime.datetime.strptime('2025-09-05','%Y-%m-%d').date()\n",
    "\n",
    "dates_pd = pd.DataFrame({\n",
    "        'date': pd.date_range(start=start_date, end=end_date).strftime('%Y-%m-%d'),\n",
    "        'date_key': pd.date_range(start=start_date, end=end_date).strftime('%/year=%-Y/month=%m/%d%')\n",
    "        })\n",
    "dates_pd = dates_pd.iloc[::-1].reset_index(drop=True)\n",
    "for day_index in dates_pd.index:\n",
    "    date = dates_pd.loc[day_index,['date']].values[0]\n",
    "    query_text = f\"\"\"\n",
    "        INSERT INTO db1.t_citizen_id_in_flat_with_subscriptions\n",
    "        SELECT\n",
    "            report_date,\n",
    "            address_uuid,\n",
    "            COUNT(DISTINCT citizen_id) as citizen_id_in_flat_with_subscriptions\n",
    "        FROM db1.t_full_citizen_id_in_flat_with_subscriptions\n",
    "        WHERE address_uuid !=''\n",
    "            AND report_date = '{date}'\n",
    "        GROUP BY report_date,\n",
    "                address_uuid\n",
    "    \"\"\"\n",
    "    ch.query_run(query_text)\n",
    "    print(date)"
   ]
  },
  {
   "cell_type": "code",
   "execution_count": 6,
   "id": "97f0aa85",
   "metadata": {},
   "outputs": [
    {
     "data": {
      "text/html": [
       "<div><style>\n",
       ".dataframe > thead > tr,\n",
       ".dataframe > tbody > tr {\n",
       "  text-align: right;\n",
       "  white-space: pre-wrap;\n",
       "}\n",
       "</style>\n",
       "<small>shape: (10, 3)</small><table border=\"1\" class=\"dataframe\"><thead><tr><th>report_date</th><th>address_uuid</th><th>citizen_id_in_flat_with_subscriptions</th></tr><tr><td>date</td><td>str</td><td>i64</td></tr></thead><tbody><tr><td>2025-09-06</td><td>&quot;abb20310-b6a2-4c84-850e-473a13…</td><td>1</td></tr><tr><td>2025-09-06</td><td>&quot;ab9f1003-fc57-46aa-81e0-f2bddf…</td><td>11</td></tr><tr><td>2025-09-06</td><td>&quot;ab9f82f8-b3ef-44e3-867c-f62780…</td><td>4</td></tr><tr><td>2025-09-06</td><td>&quot;aba15a32-f93e-479e-8ac2-f474bb…</td><td>4</td></tr><tr><td>2025-09-06</td><td>&quot;aba5a955-2ca0-4bc6-8c89-e5797b…</td><td>3</td></tr><tr><td>2025-09-06</td><td>&quot;ab9cff14-6267-4ea2-95d9-987fe7…</td><td>47</td></tr><tr><td>2025-09-06</td><td>&quot;abaa09aa-d313-4ba7-b9f8-ccac06…</td><td>4</td></tr><tr><td>2025-09-06</td><td>&quot;abac2898-7e6c-401c-908f-a45462…</td><td>6</td></tr><tr><td>2025-09-06</td><td>&quot;aba73140-6c29-4449-861a-d5864d…</td><td>1</td></tr><tr><td>2025-09-06</td><td>&quot;abaa754f-011f-4502-ad0d-cfa8a2…</td><td>9</td></tr></tbody></table></div>"
      ],
      "text/plain": [
       "shape: (10, 3)\n",
       "┌─────────────┬─────────────────────────────────┬─────────────────────────────────┐\n",
       "│ report_date ┆ address_uuid                    ┆ citizen_id_in_flat_with_subscr… │\n",
       "│ ---         ┆ ---                             ┆ ---                             │\n",
       "│ date        ┆ str                             ┆ i64                             │\n",
       "╞═════════════╪═════════════════════════════════╪═════════════════════════════════╡\n",
       "│ 2025-09-06  ┆ abb20310-b6a2-4c84-850e-473a13… ┆ 1                               │\n",
       "│ 2025-09-06  ┆ ab9f1003-fc57-46aa-81e0-f2bddf… ┆ 11                              │\n",
       "│ 2025-09-06  ┆ ab9f82f8-b3ef-44e3-867c-f62780… ┆ 4                               │\n",
       "│ 2025-09-06  ┆ aba15a32-f93e-479e-8ac2-f474bb… ┆ 4                               │\n",
       "│ 2025-09-06  ┆ aba5a955-2ca0-4bc6-8c89-e5797b… ┆ 3                               │\n",
       "│ 2025-09-06  ┆ ab9cff14-6267-4ea2-95d9-987fe7… ┆ 47                              │\n",
       "│ 2025-09-06  ┆ abaa09aa-d313-4ba7-b9f8-ccac06… ┆ 4                               │\n",
       "│ 2025-09-06  ┆ abac2898-7e6c-401c-908f-a45462… ┆ 6                               │\n",
       "│ 2025-09-06  ┆ aba73140-6c29-4449-861a-d5864d… ┆ 1                               │\n",
       "│ 2025-09-06  ┆ abaa754f-011f-4502-ad0d-cfa8a2… ┆ 9                               │\n",
       "└─────────────┴─────────────────────────────────┴─────────────────────────────────┘"
      ]
     },
     "execution_count": 6,
     "metadata": {},
     "output_type": "execute_result"
    }
   ],
   "source": [
    "query_text = \"\"\"--sql\n",
    "SELECT\n",
    "    *\n",
    "FROM db1.t_citizen_id_in_flat_with_subscriptions\n",
    "ORDER BY report_date desc\n",
    "LIMIT 10\n",
    "    \"\"\"\n",
    "ch.query_run(query_text)"
   ]
  },
  {
   "cell_type": "code",
   "execution_count": 4,
   "id": "88205fd2",
   "metadata": {},
   "outputs": [
    {
     "ename": "DatabaseError",
     "evalue": "HTTPDriver for https://rc1a-eflrt968scbm232q.mdb.yandexcloud.net:8443 received ClickHouse error code 60\n Code: 60. DB::Exception: Table db1.t_citizen_id_in_flat_with_subscriptions_mv does not exist. Maybe you meant db1.t_full_citizen_id_in_flat_with_subscriptions_mv?. (UNKNOWN_TABLE) (version 25.3.6.56 (official build))\n",
     "output_type": "error",
     "traceback": [
      "\u001b[31m---------------------------------------------------------------------------\u001b[39m",
      "\u001b[31mDatabaseError\u001b[39m                             Traceback (most recent call last)",
      "\u001b[36mCell\u001b[39m\u001b[36m \u001b[39m\u001b[32mIn[4]\u001b[39m\u001b[32m, line 4\u001b[39m\n\u001b[32m      1\u001b[39m query_text = \u001b[33m\"\"\"\u001b[39m\n\u001b[32m      2\u001b[39m \u001b[33m    DROP TABLE db1.t_citizen_id_in_flat_with_subscriptions_mv\u001b[39m\n\u001b[32m      3\u001b[39m \u001b[33m    \u001b[39m\u001b[33m\"\"\"\u001b[39m\n\u001b[32m----> \u001b[39m\u001b[32m4\u001b[39m \u001b[43mch\u001b[49m\u001b[43m.\u001b[49m\u001b[43mquery_run\u001b[49m\u001b[43m(\u001b[49m\u001b[43mquery_text\u001b[49m\u001b[43m)\u001b[49m\n",
      "\u001b[36mFile \u001b[39m\u001b[32m~/Documents/Work/analytics/Clickhouse/clickhouse_client.py:29\u001b[39m, in \u001b[36mClickHouse_client.query_run\u001b[39m\u001b[34m(self, query_text)\u001b[39m\n\u001b[32m     27\u001b[39m \u001b[38;5;28;01mdef\u001b[39;00m\u001b[38;5;250m \u001b[39m\u001b[34mquery_run\u001b[39m (\u001b[38;5;28mself\u001b[39m, query_text):\n\u001b[32m     28\u001b[39m     query_text = query_text\n\u001b[32m---> \u001b[39m\u001b[32m29\u001b[39m     result = \u001b[38;5;28;43mself\u001b[39;49m\u001b[43m.\u001b[49m\u001b[43mclient\u001b[49m\u001b[43m.\u001b[49m\u001b[43mquery\u001b[49m\u001b[43m(\u001b[49m\u001b[43mquery_text\u001b[49m\u001b[43m)\u001b[49m\n\u001b[32m     30\u001b[39m     \u001b[38;5;28mself\u001b[39m.df = pd.DataFrame(result.result_rows, columns=result.column_names)\n\u001b[32m     31\u001b[39m     \u001b[38;5;66;03m# self.df = pl.DataFrame(result.result_rows, schema=result.column_names)\u001b[39;00m\n",
      "\u001b[36mFile \u001b[39m\u001b[32m~/myenv/lib/python3.12/site-packages/clickhouse_connect/driver/client.py:229\u001b[39m, in \u001b[36mClient.query\u001b[39m\u001b[34m(self, query, parameters, settings, query_formats, column_formats, encoding, use_none, column_oriented, use_numpy, max_str_len, context, query_tz, column_tzs, external_data, transport_settings)\u001b[39m\n\u001b[32m    227\u001b[39m query_context = \u001b[38;5;28mself\u001b[39m.create_query_context(**kwargs)\n\u001b[32m    228\u001b[39m \u001b[38;5;28;01mif\u001b[39;00m query_context.is_command:\n\u001b[32m--> \u001b[39m\u001b[32m229\u001b[39m     response = \u001b[38;5;28;43mself\u001b[39;49m\u001b[43m.\u001b[49m\u001b[43mcommand\u001b[49m\u001b[43m(\u001b[49m\u001b[43mquery\u001b[49m\u001b[43m,\u001b[49m\n\u001b[32m    230\u001b[39m \u001b[43m                            \u001b[49m\u001b[43mparameters\u001b[49m\u001b[43m=\u001b[49m\u001b[43mquery_context\u001b[49m\u001b[43m.\u001b[49m\u001b[43mparameters\u001b[49m\u001b[43m,\u001b[49m\n\u001b[32m    231\u001b[39m \u001b[43m                            \u001b[49m\u001b[43msettings\u001b[49m\u001b[43m=\u001b[49m\u001b[43mquery_context\u001b[49m\u001b[43m.\u001b[49m\u001b[43msettings\u001b[49m\u001b[43m,\u001b[49m\n\u001b[32m    232\u001b[39m \u001b[43m                            \u001b[49m\u001b[43mexternal_data\u001b[49m\u001b[43m=\u001b[49m\u001b[43mquery_context\u001b[49m\u001b[43m.\u001b[49m\u001b[43mexternal_data\u001b[49m\u001b[43m,\u001b[49m\n\u001b[32m    233\u001b[39m \u001b[43m                            \u001b[49m\u001b[43mtransport_settings\u001b[49m\u001b[43m=\u001b[49m\u001b[43mquery_context\u001b[49m\u001b[43m.\u001b[49m\u001b[43mtransport_settings\u001b[49m\u001b[43m)\u001b[49m\n\u001b[32m    234\u001b[39m     \u001b[38;5;28;01mif\u001b[39;00m \u001b[38;5;28misinstance\u001b[39m(response, QuerySummary):\n\u001b[32m    235\u001b[39m         \u001b[38;5;28;01mreturn\u001b[39;00m response.as_query_result()\n",
      "\u001b[36mFile \u001b[39m\u001b[32m~/myenv/lib/python3.12/site-packages/clickhouse_connect/driver/httpclient.py:368\u001b[39m, in \u001b[36mHttpClient.command\u001b[39m\u001b[34m(self, cmd, parameters, data, settings, use_database, external_data, transport_settings)\u001b[39m\n\u001b[32m    366\u001b[39m headers = dict_copy(headers, transport_settings)\n\u001b[32m    367\u001b[39m method = \u001b[33m'\u001b[39m\u001b[33mPOST\u001b[39m\u001b[33m'\u001b[39m \u001b[38;5;28;01mif\u001b[39;00m payload \u001b[38;5;129;01mor\u001b[39;00m fields \u001b[38;5;28;01melse\u001b[39;00m \u001b[33m'\u001b[39m\u001b[33mGET\u001b[39m\u001b[33m'\u001b[39m\n\u001b[32m--> \u001b[39m\u001b[32m368\u001b[39m response = \u001b[38;5;28;43mself\u001b[39;49m\u001b[43m.\u001b[49m\u001b[43m_raw_request\u001b[49m\u001b[43m(\u001b[49m\u001b[43mpayload\u001b[49m\u001b[43m,\u001b[49m\u001b[43m \u001b[49m\u001b[43mparams\u001b[49m\u001b[43m,\u001b[49m\u001b[43m \u001b[49m\u001b[43mheaders\u001b[49m\u001b[43m,\u001b[49m\u001b[43m \u001b[49m\u001b[43mmethod\u001b[49m\u001b[43m,\u001b[49m\u001b[43m \u001b[49m\u001b[43mfields\u001b[49m\u001b[43m=\u001b[49m\u001b[43mfields\u001b[49m\u001b[43m,\u001b[49m\u001b[43m \u001b[49m\u001b[43mserver_wait\u001b[49m\u001b[43m=\u001b[49m\u001b[38;5;28;43;01mFalse\u001b[39;49;00m\u001b[43m)\u001b[49m\n\u001b[32m    369\u001b[39m \u001b[38;5;28;01mif\u001b[39;00m response.data:\n\u001b[32m    370\u001b[39m     \u001b[38;5;28;01mtry\u001b[39;00m:\n",
      "\u001b[36mFile \u001b[39m\u001b[32m~/myenv/lib/python3.12/site-packages/clickhouse_connect/driver/httpclient.py:481\u001b[39m, in \u001b[36mHttpClient._raw_request\u001b[39m\u001b[34m(self, data, params, headers, method, retries, stream, server_wait, fields, error_handler)\u001b[39m\n\u001b[32m    479\u001b[39m     error_handler(response)\n\u001b[32m    480\u001b[39m \u001b[38;5;28;01melse\u001b[39;00m:\n\u001b[32m--> \u001b[39m\u001b[32m481\u001b[39m     \u001b[38;5;28;43mself\u001b[39;49m\u001b[43m.\u001b[49m\u001b[43m_error_handler\u001b[49m\u001b[43m(\u001b[49m\u001b[43mresponse\u001b[49m\u001b[43m)\u001b[49m\n",
      "\u001b[36mFile \u001b[39m\u001b[32m~/myenv/lib/python3.12/site-packages/clickhouse_connect/driver/httpclient.py:402\u001b[39m, in \u001b[36mHttpClient._error_handler\u001b[39m\u001b[34m(self, response, retried)\u001b[39m\n\u001b[32m    399\u001b[39m \u001b[38;5;28;01melse\u001b[39;00m:\n\u001b[32m    400\u001b[39m     err_str = \u001b[33m'\u001b[39m\u001b[33mThe ClickHouse server returned an error.\u001b[39m\u001b[33m'\u001b[39m\n\u001b[32m--> \u001b[39m\u001b[32m402\u001b[39m \u001b[38;5;28;01mraise\u001b[39;00m OperationalError(err_str) \u001b[38;5;28;01mif\u001b[39;00m retried \u001b[38;5;28;01melse\u001b[39;00m DatabaseError(err_str) \u001b[38;5;28;01mfrom\u001b[39;00m\u001b[38;5;250m \u001b[39m\u001b[38;5;28;01mNone\u001b[39;00m\n",
      "\u001b[31mDatabaseError\u001b[39m: HTTPDriver for https://rc1a-eflrt968scbm232q.mdb.yandexcloud.net:8443 received ClickHouse error code 60\n Code: 60. DB::Exception: Table db1.t_citizen_id_in_flat_with_subscriptions_mv does not exist. Maybe you meant db1.t_full_citizen_id_in_flat_with_subscriptions_mv?. (UNKNOWN_TABLE) (version 25.3.6.56 (official build))\n"
     ]
    }
   ],
   "source": [
    "query_text = \"\"\"\n",
    "    DROP TABLE db1.t_citizen_id_in_flat_with_subscriptions_mv\n",
    "    \"\"\"\n",
    "ch.query_run(query_text)"
   ]
  },
  {
   "cell_type": "code",
   "execution_count": 3,
   "id": "ba1d3f81",
   "metadata": {},
   "outputs": [
    {
     "data": {
      "text/html": [
       "<div><style>\n",
       ".dataframe > thead > tr,\n",
       ".dataframe > tbody > tr {\n",
       "  text-align: right;\n",
       "  white-space: pre-wrap;\n",
       "}\n",
       "</style>\n",
       "<small>shape: (1, 9)</small><table border=\"1\" class=\"dataframe\"><thead><tr><th>read_rows</th><th>read_bytes</th><th>written_rows</th><th>written_bytes</th><th>total_rows_to_read</th><th>result_rows</th><th>result_bytes</th><th>elapsed_ns</th><th>query_id</th></tr><tr><td>i64</td><td>i64</td><td>i64</td><td>i64</td><td>i64</td><td>i64</td><td>i64</td><td>i64</td><td>str</td></tr></thead><tbody><tr><td>0</td><td>0</td><td>0</td><td>0</td><td>0</td><td>0</td><td>0</td><td>1890787</td><td>&quot;f55c4f2c-d191-4c13-bdbc-332af2…</td></tr></tbody></table></div>"
      ],
      "text/plain": [
       "shape: (1, 9)\n",
       "┌───────────┬───────────┬───────────┬───────────┬───┬───────────┬───────────┬───────────┬──────────┐\n",
       "│ read_rows ┆ read_byte ┆ written_r ┆ written_b ┆ … ┆ result_ro ┆ result_by ┆ elapsed_n ┆ query_id │\n",
       "│ ---       ┆ s         ┆ ows       ┆ ytes      ┆   ┆ ws        ┆ tes       ┆ s         ┆ ---      │\n",
       "│ i64       ┆ ---       ┆ ---       ┆ ---       ┆   ┆ ---       ┆ ---       ┆ ---       ┆ str      │\n",
       "│           ┆ i64       ┆ i64       ┆ i64       ┆   ┆ i64       ┆ i64       ┆ i64       ┆          │\n",
       "╞═══════════╪═══════════╪═══════════╪═══════════╪═══╪═══════════╪═══════════╪═══════════╪══════════╡\n",
       "│ 0         ┆ 0         ┆ 0         ┆ 0         ┆ … ┆ 0         ┆ 0         ┆ 1890787   ┆ f55c4f2c │\n",
       "│           ┆           ┆           ┆           ┆   ┆           ┆           ┆           ┆ -d191-4c │\n",
       "│           ┆           ┆           ┆           ┆   ┆           ┆           ┆           ┆ 13-bdbc- │\n",
       "│           ┆           ┆           ┆           ┆   ┆           ┆           ┆           ┆ 332af2…  │\n",
       "└───────────┴───────────┴───────────┴───────────┴───┴───────────┴───────────┴───────────┴──────────┘"
      ]
     },
     "execution_count": 3,
     "metadata": {},
     "output_type": "execute_result"
    }
   ],
   "source": [
    "query_text = \"\"\"\n",
    "    DROP TABLE db1.t_citizen_id_in_flat_with_subscriptions\n",
    "    \"\"\"\n",
    "ch.query_run(query_text)"
   ]
  },
  {
   "cell_type": "code",
   "execution_count": null,
   "id": "b394bc54",
   "metadata": {},
   "outputs": [],
   "source": [
    "query_text = \"\"\"\n",
    "    REFRASHE TABLE db1.t_citizen_id_in_flat_with_subscriptions_mv\n",
    "    \"\"\"\n",
    "ch.query_run(query_text)"
   ]
  }
 ],
 "metadata": {
  "jupytext": {
   "formats": "ipynb,md"
  },
  "kernelspec": {
   "display_name": "Python 3 (ipykernel)",
   "language": "python",
   "name": "python3"
  },
  "language_info": {
   "codemirror_mode": {
    "name": "ipython",
    "version": 3
   },
   "file_extension": ".py",
   "mimetype": "text/x-python",
   "name": "python",
   "nbconvert_exporter": "python",
   "pygments_lexer": "ipython3",
   "version": "3.12.11"
  }
 },
 "nbformat": 4,
 "nbformat_minor": 5
}

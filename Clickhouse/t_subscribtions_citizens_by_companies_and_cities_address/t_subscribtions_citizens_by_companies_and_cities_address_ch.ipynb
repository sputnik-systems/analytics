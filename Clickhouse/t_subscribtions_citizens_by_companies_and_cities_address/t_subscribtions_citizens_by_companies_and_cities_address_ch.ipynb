{
 "cells": [
  {
   "cell_type": "markdown",
   "id": "2379772b",
   "metadata": {},
   "source": [
    "## Start"
   ]
  },
  {
   "cell_type": "code",
   "execution_count": 101,
   "id": "494db283",
   "metadata": {},
   "outputs": [],
   "source": [
    "import clickhouse_connect\n",
    "import datetime\n",
    "import os\n",
    "import pytz\n",
    "import pandas as pd\n",
    "from dateutil.relativedelta import relativedelta\n",
    "from dotenv import load_dotenv\n",
    "\n",
    "import sys\n",
    "sys.path.append('/home/boris/Documents/Work/analytics/Clickhouse')\n",
    "from clickhouse_client import ClickHouse_client\n",
    "ch = ClickHouse_client()\n",
    "pd.set_option('display.max_rows', 1000)"
   ]
  },
  {
   "cell_type": "markdown",
   "id": "90df1d71",
   "metadata": {},
   "source": [
    "___\n",
    "## Tags: #Tables #YandexFunctions\n",
    "\n",
    "# Links:\n",
    "\n",
    "[[citizens_st_mobile]]\n",
    "\n",
    "[[subscriptions_st_mobile]]\n",
    "\n",
    "[[entries_installation_points_dir_partner]]\n",
    "\n",
    "[[installation_point_st_partner]]\n",
    "\n",
    "[[citizen_payments_st_mobile]]\n",
    "\n",
    "[[intercoms_st_partner]]\n",
    "\n",
    "[[clichouse_schedule_function]]"
   ]
  },
  {
   "cell_type": "markdown",
   "id": "5a52ba18-c997-4cb7-be0d-354df4be6682",
   "metadata": {},
   "source": [
    "_____\n",
    "\n",
    "## t_full_citizen_id_in_flat_with_subscriptions"
   ]
  },
  {
   "cell_type": "code",
   "execution_count": 34,
   "id": "85979e60-cde8-4fb4-9057-b1d3a8ffd8e1",
   "metadata": {},
   "outputs": [
    {
     "data": {
      "text/html": [
       "<div><style>\n",
       ".dataframe > thead > tr,\n",
       ".dataframe > tbody > tr {\n",
       "  text-align: right;\n",
       "  white-space: pre-wrap;\n",
       "}\n",
       "</style>\n",
       "<small>shape: (0, 0)</small><table border=\"1\" class=\"dataframe\"><thead><tr></tr><tr></tr></thead><tbody></tbody></table></div>"
      ],
      "text/plain": [
       "shape: (0, 0)\n",
       "┌┐\n",
       "╞╡\n",
       "└┘"
      ]
     },
     "execution_count": 34,
     "metadata": {},
     "output_type": "execute_result"
    }
   ],
   "source": [
    "query_text = \"\"\"--sql\n",
    "    CREATE TABLE db1.t_full_citizen_id_in_flat_with_subscriptions\n",
    "    (\n",
    "        `report_date` Date,\n",
    "        `address_uuid` String,\n",
    "        `citizen_id` UInt64\n",
    "    )\n",
    "    ENGINE = MergeTree()\n",
    "    ORDER BY address_uuid\n",
    "    \"\"\"\n",
    "ch.query_run(query_text)"
   ]
  },
  {
   "cell_type": "code",
   "execution_count": 35,
   "id": "fd930c2a",
   "metadata": {},
   "outputs": [
    {
     "data": {
      "text/html": [
       "<div><style>\n",
       ".dataframe > thead > tr,\n",
       ".dataframe > tbody > tr {\n",
       "  text-align: right;\n",
       "  white-space: pre-wrap;\n",
       "}\n",
       "</style>\n",
       "<small>shape: (0, 0)</small><table border=\"1\" class=\"dataframe\"><thead><tr></tr><tr></tr></thead><tbody></tbody></table></div>"
      ],
      "text/plain": [
       "shape: (0, 0)\n",
       "┌┐\n",
       "╞╡\n",
       "└┘"
      ]
     },
     "execution_count": 35,
     "metadata": {},
     "output_type": "execute_result"
    }
   ],
   "source": [
    "query_text = \"\"\"--sql\n",
    "CREATE MATERIALIZED VIEW db1.t_full_citizen_id_in_flat_with_subscriptions_mv\n",
    "REFRESH EVERY 1 DAY OFFSET 4 HOUR 25 MINUTE TO db1.t_full_citizen_id_in_flat_with_subscriptions AS \n",
    "WITH t1 AS (SELECT \n",
    "\trmcicp.report_date AS report_date,\n",
    "\tflat_uuid\n",
    "FROM db1.rep_mobile_citizens_id_city_partner AS rmcicp\n",
    "JOIN db1.subscriptions_st_mobile_ch AS ssm \n",
    "\tON rmcicp.report_date = ssm.report_date \n",
    "\tAND rmcicp.citizen_id = ssm.citizen_id\n",
    "WHERE  ssm.state = 'activated'\n",
    ")\n",
    "SELECT\n",
    "\tt1.report_date AS report_date,\n",
    "\trmcicp.address_uuid AS address_uuid,\n",
    "\trmcicp.citizen_id AS citizen_id\n",
    "FROM db1.rep_mobile_citizens_id_city_partner AS rmcicp\n",
    "JOIN t1 AS ssm \n",
    "\tON rmcicp.report_date = ssm.report_date \n",
    "\tAND rmcicp.flat_uuid = ssm.flat_uuid\n",
    "WHERE t1.flat_uuid !=''\n",
    "    \"\"\"\n",
    "ch.query_run(query_text)"
   ]
  },
  {
   "cell_type": "code",
   "execution_count": 32,
   "id": "595099b4-26ff-48da-99ff-44af0175a9ed",
   "metadata": {},
   "outputs": [
    {
     "data": {
      "text/html": [
       "<div><style>\n",
       ".dataframe > thead > tr,\n",
       ".dataframe > tbody > tr {\n",
       "  text-align: right;\n",
       "  white-space: pre-wrap;\n",
       "}\n",
       "</style>\n",
       "<small>shape: (1, 9)</small><table border=\"1\" class=\"dataframe\"><thead><tr><th>read_rows</th><th>read_bytes</th><th>written_rows</th><th>written_bytes</th><th>total_rows_to_read</th><th>result_rows</th><th>result_bytes</th><th>elapsed_ns</th><th>query_id</th></tr><tr><td>i64</td><td>i64</td><td>i64</td><td>i64</td><td>i64</td><td>i64</td><td>i64</td><td>i64</td><td>str</td></tr></thead><tbody><tr><td>0</td><td>0</td><td>0</td><td>0</td><td>0</td><td>0</td><td>0</td><td>17207295</td><td>&quot;2c864d04-f138-4c51-90b0-a691cd…</td></tr></tbody></table></div>"
      ],
      "text/plain": [
       "shape: (1, 9)\n",
       "┌───────────┬───────────┬───────────┬───────────┬───┬───────────┬───────────┬───────────┬──────────┐\n",
       "│ read_rows ┆ read_byte ┆ written_r ┆ written_b ┆ … ┆ result_ro ┆ result_by ┆ elapsed_n ┆ query_id │\n",
       "│ ---       ┆ s         ┆ ows       ┆ ytes      ┆   ┆ ws        ┆ tes       ┆ s         ┆ ---      │\n",
       "│ i64       ┆ ---       ┆ ---       ┆ ---       ┆   ┆ ---       ┆ ---       ┆ ---       ┆ str      │\n",
       "│           ┆ i64       ┆ i64       ┆ i64       ┆   ┆ i64       ┆ i64       ┆ i64       ┆          │\n",
       "╞═══════════╪═══════════╪═══════════╪═══════════╪═══╪═══════════╪═══════════╪═══════════╪══════════╡\n",
       "│ 0         ┆ 0         ┆ 0         ┆ 0         ┆ … ┆ 0         ┆ 0         ┆ 17207295  ┆ 2c864d04 │\n",
       "│           ┆           ┆           ┆           ┆   ┆           ┆           ┆           ┆ -f138-4c │\n",
       "│           ┆           ┆           ┆           ┆   ┆           ┆           ┆           ┆ 51-90b0- │\n",
       "│           ┆           ┆           ┆           ┆   ┆           ┆           ┆           ┆ a691cd…  │\n",
       "└───────────┴───────────┴───────────┴───────────┴───┴───────────┴───────────┴───────────┴──────────┘"
      ]
     },
     "execution_count": 32,
     "metadata": {},
     "output_type": "execute_result"
    }
   ],
   "source": [
    "query_text = \"\"\"\n",
    "    DROP TABLE db1.t_full_citizen_id_in_flat_with_subscriptions\n",
    "    \"\"\"\n",
    "ch.query_run(query_text)"
   ]
  },
  {
   "cell_type": "code",
   "execution_count": 33,
   "id": "f051911f-f641-440f-a096-34763bd89830",
   "metadata": {},
   "outputs": [
    {
     "data": {
      "text/html": [
       "<div><style>\n",
       ".dataframe > thead > tr,\n",
       ".dataframe > tbody > tr {\n",
       "  text-align: right;\n",
       "  white-space: pre-wrap;\n",
       "}\n",
       "</style>\n",
       "<small>shape: (1, 9)</small><table border=\"1\" class=\"dataframe\"><thead><tr><th>read_rows</th><th>read_bytes</th><th>written_rows</th><th>written_bytes</th><th>total_rows_to_read</th><th>result_rows</th><th>result_bytes</th><th>elapsed_ns</th><th>query_id</th></tr><tr><td>i64</td><td>i64</td><td>i64</td><td>i64</td><td>i64</td><td>i64</td><td>i64</td><td>i64</td><td>str</td></tr></thead><tbody><tr><td>0</td><td>0</td><td>0</td><td>0</td><td>0</td><td>0</td><td>0</td><td>111519862</td><td>&quot;74da82ee-7e41-4820-b81e-4f2beb…</td></tr></tbody></table></div>"
      ],
      "text/plain": [
       "shape: (1, 9)\n",
       "┌───────────┬───────────┬───────────┬───────────┬───┬───────────┬───────────┬───────────┬──────────┐\n",
       "│ read_rows ┆ read_byte ┆ written_r ┆ written_b ┆ … ┆ result_ro ┆ result_by ┆ elapsed_n ┆ query_id │\n",
       "│ ---       ┆ s         ┆ ows       ┆ ytes      ┆   ┆ ws        ┆ tes       ┆ s         ┆ ---      │\n",
       "│ i64       ┆ ---       ┆ ---       ┆ ---       ┆   ┆ ---       ┆ ---       ┆ ---       ┆ str      │\n",
       "│           ┆ i64       ┆ i64       ┆ i64       ┆   ┆ i64       ┆ i64       ┆ i64       ┆          │\n",
       "╞═══════════╪═══════════╪═══════════╪═══════════╪═══╪═══════════╪═══════════╪═══════════╪══════════╡\n",
       "│ 0         ┆ 0         ┆ 0         ┆ 0         ┆ … ┆ 0         ┆ 0         ┆ 111519862 ┆ 74da82ee │\n",
       "│           ┆           ┆           ┆           ┆   ┆           ┆           ┆           ┆ -7e41-48 │\n",
       "│           ┆           ┆           ┆           ┆   ┆           ┆           ┆           ┆ 20-b81e- │\n",
       "│           ┆           ┆           ┆           ┆   ┆           ┆           ┆           ┆ 4f2beb…  │\n",
       "└───────────┴───────────┴───────────┴───────────┴───┴───────────┴───────────┴───────────┴──────────┘"
      ]
     },
     "execution_count": 33,
     "metadata": {},
     "output_type": "execute_result"
    }
   ],
   "source": [
    "query_text = \"\"\"\n",
    "    DROP TABLE db1.t_full_citizen_id_in_flat_with_subscriptions_mv\n",
    "    \"\"\"\n",
    "ch.query_run(query_text)\n"
   ]
  },
  {
   "cell_type": "code",
   "execution_count": 54,
   "id": "ba383a85-0544-4aa2-809f-dea7483a00fe",
   "metadata": {},
   "outputs": [
    {
     "data": {
      "text/html": [
       "<div><style>\n",
       ".dataframe > thead > tr,\n",
       ".dataframe > tbody > tr {\n",
       "  text-align: right;\n",
       "  white-space: pre-wrap;\n",
       "}\n",
       "</style>\n",
       "<small>shape: (10, 3)</small><table border=\"1\" class=\"dataframe\"><thead><tr><th>report_date</th><th>address_uuid</th><th>citizen_id</th></tr><tr><td>date</td><td>str</td><td>i64</td></tr></thead><tbody><tr><td>2025-08-26</td><td>&quot;00a54992-6b92-4d9e-b76f-f66499…</td><td>517593</td></tr><tr><td>2025-08-26</td><td>&quot;00a54992-6b92-4d9e-b76f-f66499…</td><td>515484</td></tr><tr><td>2025-08-26</td><td>&quot;00a54992-6b92-4d9e-b76f-f66499…</td><td>514924</td></tr><tr><td>2025-08-26</td><td>&quot;00a54992-6b92-4d9e-b76f-f66499…</td><td>514766</td></tr><tr><td>2025-08-26</td><td>&quot;00a54992-6b92-4d9e-b76f-f66499…</td><td>514759</td></tr><tr><td>2025-08-26</td><td>&quot;00a54992-6b92-4d9e-b76f-f66499…</td><td>514755</td></tr><tr><td>2025-08-26</td><td>&quot;00a54992-6b92-4d9e-b76f-f66499…</td><td>514753</td></tr><tr><td>2025-08-26</td><td>&quot;009c53bf-57e3-4111-bc1e-d3e117…</td><td>188116</td></tr><tr><td>2025-08-26</td><td>&quot;00a54992-6b92-4d9e-b76f-f66499…</td><td>514741</td></tr><tr><td>2025-08-26</td><td>&quot;00a54992-6b92-4d9e-b76f-f66499…</td><td>514747</td></tr></tbody></table></div>"
      ],
      "text/plain": [
       "shape: (10, 3)\n",
       "┌─────────────┬─────────────────────────────────┬────────────┐\n",
       "│ report_date ┆ address_uuid                    ┆ citizen_id │\n",
       "│ ---         ┆ ---                             ┆ ---        │\n",
       "│ date        ┆ str                             ┆ i64        │\n",
       "╞═════════════╪═════════════════════════════════╪════════════╡\n",
       "│ 2025-08-26  ┆ 00a54992-6b92-4d9e-b76f-f66499… ┆ 517593     │\n",
       "│ 2025-08-26  ┆ 00a54992-6b92-4d9e-b76f-f66499… ┆ 515484     │\n",
       "│ 2025-08-26  ┆ 00a54992-6b92-4d9e-b76f-f66499… ┆ 514924     │\n",
       "│ 2025-08-26  ┆ 00a54992-6b92-4d9e-b76f-f66499… ┆ 514766     │\n",
       "│ 2025-08-26  ┆ 00a54992-6b92-4d9e-b76f-f66499… ┆ 514759     │\n",
       "│ 2025-08-26  ┆ 00a54992-6b92-4d9e-b76f-f66499… ┆ 514755     │\n",
       "│ 2025-08-26  ┆ 00a54992-6b92-4d9e-b76f-f66499… ┆ 514753     │\n",
       "│ 2025-08-26  ┆ 009c53bf-57e3-4111-bc1e-d3e117… ┆ 188116     │\n",
       "│ 2025-08-26  ┆ 00a54992-6b92-4d9e-b76f-f66499… ┆ 514741     │\n",
       "│ 2025-08-26  ┆ 00a54992-6b92-4d9e-b76f-f66499… ┆ 514747     │\n",
       "└─────────────┴─────────────────────────────────┴────────────┘"
      ]
     },
     "execution_count": 54,
     "metadata": {},
     "output_type": "execute_result"
    }
   ],
   "source": [
    "query_text = \"\"\"\n",
    "    SELECT\n",
    "        *\n",
    "    FROM db1.t_full_citizen_id_in_flat_with_subscriptions\n",
    "    order by report_date desc\n",
    "    limit 10\n",
    "    \"\"\"\n",
    "ch.query_run(query_text)"
   ]
  },
  {
   "cell_type": "code",
   "execution_count": 30,
   "id": "656ce908-c9c6-4484-b2de-aa107979f253",
   "metadata": {},
   "outputs": [
    {
     "data": {
      "text/html": [
       "<div><style>\n",
       ".dataframe > thead > tr,\n",
       ".dataframe > tbody > tr {\n",
       "  text-align: right;\n",
       "  white-space: pre-wrap;\n",
       "}\n",
       "</style>\n",
       "<small>shape: (0, 0)</small><table border=\"1\" class=\"dataframe\"><thead><tr></tr><tr></tr></thead><tbody></tbody></table></div>"
      ],
      "text/plain": [
       "shape: (0, 0)\n",
       "┌┐\n",
       "╞╡\n",
       "└┘"
      ]
     },
     "execution_count": 30,
     "metadata": {},
     "output_type": "execute_result"
    }
   ],
   "source": [
    "query_text = \"\"\"\n",
    "    SELECT\n",
    "    report_date,\n",
    "    count(*)\n",
    "    FROM db1.t_full_citizen_id_in_flat_with_subscriptions_mv\n",
    "    group by report_date\n",
    "    order by report_date desc\n",
    "    \"\"\"\n",
    "ch.query_run(query_text)"
   ]
  },
  {
   "cell_type": "code",
   "execution_count": 7,
   "id": "45fd58b1",
   "metadata": {},
   "outputs": [
    {
     "data": {
      "text/html": [
       "<div><style>\n",
       ".dataframe > thead > tr,\n",
       ".dataframe > tbody > tr {\n",
       "  text-align: right;\n",
       "  white-space: pre-wrap;\n",
       "}\n",
       "</style>\n",
       "<small>shape: (1, 9)</small><table border=\"1\" class=\"dataframe\"><thead><tr><th>read_rows</th><th>read_bytes</th><th>written_rows</th><th>written_bytes</th><th>total_rows_to_read</th><th>result_rows</th><th>result_bytes</th><th>elapsed_ns</th><th>query_id</th></tr><tr><td>i64</td><td>i64</td><td>i64</td><td>i64</td><td>i64</td><td>i64</td><td>i64</td><td>i64</td><td>str</td></tr></thead><tbody><tr><td>0</td><td>0</td><td>0</td><td>0</td><td>0</td><td>0</td><td>0</td><td>2288725</td><td>&quot;f62694c3-685e-462c-9636-3cabe0…</td></tr></tbody></table></div>"
      ],
      "text/plain": [
       "shape: (1, 9)\n",
       "┌───────────┬───────────┬───────────┬───────────┬───┬───────────┬───────────┬───────────┬──────────┐\n",
       "│ read_rows ┆ read_byte ┆ written_r ┆ written_b ┆ … ┆ result_ro ┆ result_by ┆ elapsed_n ┆ query_id │\n",
       "│ ---       ┆ s         ┆ ows       ┆ ytes      ┆   ┆ ws        ┆ tes       ┆ s         ┆ ---      │\n",
       "│ i64       ┆ ---       ┆ ---       ┆ ---       ┆   ┆ ---       ┆ ---       ┆ ---       ┆ str      │\n",
       "│           ┆ i64       ┆ i64       ┆ i64       ┆   ┆ i64       ┆ i64       ┆ i64       ┆          │\n",
       "╞═══════════╪═══════════╪═══════════╪═══════════╪═══╪═══════════╪═══════════╪═══════════╪══════════╡\n",
       "│ 0         ┆ 0         ┆ 0         ┆ 0         ┆ … ┆ 0         ┆ 0         ┆ 2288725   ┆ f62694c3 │\n",
       "│           ┆           ┆           ┆           ┆   ┆           ┆           ┆           ┆ -685e-46 │\n",
       "│           ┆           ┆           ┆           ┆   ┆           ┆           ┆           ┆ 2c-9636- │\n",
       "│           ┆           ┆           ┆           ┆   ┆           ┆           ┆           ┆ 3cabe0…  │\n",
       "└───────────┴───────────┴───────────┴───────────┴───┴───────────┴───────────┴───────────┴──────────┘"
      ]
     },
     "execution_count": 7,
     "metadata": {},
     "output_type": "execute_result"
    }
   ],
   "source": [
    "query_text = \"\"\"\n",
    "SYSTEM REFRESH VIEW db1.t_full_citizen_id_in_flat_with_subscriptions_mv\n",
    "\"\"\"\n",
    "\n",
    "ch.query_run(query_text)"
   ]
  },
  {
   "cell_type": "markdown",
   "id": "152de6c5-d5a1-4680-9278-ac5f5585d0d0",
   "metadata": {},
   "source": [
    "_____\n",
    "\n",
    "## t_citizen_id_in_flat_with_subscriptions"
   ]
  },
  {
   "cell_type": "code",
   "execution_count": 57,
   "id": "4a181b4d-7c2d-4de7-b0ea-0f05cd725296",
   "metadata": {},
   "outputs": [
    {
     "data": {
      "text/html": [
       "<div><style>\n",
       ".dataframe > thead > tr,\n",
       ".dataframe > tbody > tr {\n",
       "  text-align: right;\n",
       "  white-space: pre-wrap;\n",
       "}\n",
       "</style>\n",
       "<small>shape: (0, 0)</small><table border=\"1\" class=\"dataframe\"><thead><tr></tr><tr></tr></thead><tbody></tbody></table></div>"
      ],
      "text/plain": [
       "shape: (0, 0)\n",
       "┌┐\n",
       "╞╡\n",
       "└┘"
      ]
     },
     "execution_count": 57,
     "metadata": {},
     "output_type": "execute_result"
    }
   ],
   "source": [
    "query_text = \"\"\"--sql\n",
    "    CREATE TABLE db1.t_citizen_id_in_flat_with_subscriptions\n",
    "    (\n",
    "        `report_date` Date,\n",
    "        `address_uuid` String,\n",
    "        `citizen_id_in_flat_with_subscriptions` UInt64\n",
    "    )\n",
    "    ENGINE = MergeTree()\n",
    "    ORDER BY address_uuid\n",
    "    \"\"\"\n",
    "ch.query_run(query_text)\n"
   ]
  },
  {
   "cell_type": "code",
   "execution_count": 58,
   "id": "502b5fc1-ae37-4f9c-8195-4e9f8c63f33d",
   "metadata": {},
   "outputs": [
    {
     "data": {
      "text/html": [
       "<div><style>\n",
       ".dataframe > thead > tr,\n",
       ".dataframe > tbody > tr {\n",
       "  text-align: right;\n",
       "  white-space: pre-wrap;\n",
       "}\n",
       "</style>\n",
       "<small>shape: (0, 0)</small><table border=\"1\" class=\"dataframe\"><thead><tr></tr><tr></tr></thead><tbody></tbody></table></div>"
      ],
      "text/plain": [
       "shape: (0, 0)\n",
       "┌┐\n",
       "╞╡\n",
       "└┘"
      ]
     },
     "execution_count": 58,
     "metadata": {},
     "output_type": "execute_result"
    }
   ],
   "source": [
    "query_text = \"\"\"--sql\n",
    "CREATE MATERIALIZED VIEW db1.t_citizen_id_in_flat_with_subscriptions_mv\n",
    "REFRESH EVERY 1 DAY OFFSET 5 HOUR 27 MINUTE TO db1.t_citizen_id_in_flat_with_subscriptions AS \n",
    "SELECT\n",
    "    report_date,\n",
    "    address_uuid,\n",
    "    COUNT(DISTINCT citizen_id) as citizen_id_in_flat_with_subscriptions\n",
    "FROM db1.t_full_citizen_id_in_flat_with_subscriptions\n",
    "WHERE address_uuid !=''\n",
    "GROUP BY report_date,\n",
    "        address_uuid\n",
    "    \"\"\"\n",
    "ch.query_run(query_text)"
   ]
  },
  {
   "cell_type": "code",
   "execution_count": 60,
   "id": "79f15a3e-2e1b-4d6e-8aff-c7d44c61c58a",
   "metadata": {},
   "outputs": [
    {
     "data": {
      "text/html": [
       "<div><style>\n",
       ".dataframe > thead > tr,\n",
       ".dataframe > tbody > tr {\n",
       "  text-align: right;\n",
       "  white-space: pre-wrap;\n",
       "}\n",
       "</style>\n",
       "<small>shape: (10, 3)</small><table border=\"1\" class=\"dataframe\"><thead><tr><th>report_date</th><th>address_uuid</th><th>citizen_id_in_flat_with_subscriptions</th></tr><tr><td>date</td><td>str</td><td>i64</td></tr></thead><tbody><tr><td>2025-08-26</td><td>&quot;015121f1-f869-430b-9da1-af7d35…</td><td>6</td></tr><tr><td>2025-08-26</td><td>&quot;0212b005-610a-4f8d-807b-d8d450…</td><td>2</td></tr><tr><td>2025-08-26</td><td>&quot;0387e2c1-5bc3-442a-9a56-0f1e66…</td><td>8</td></tr><tr><td>2025-08-26</td><td>&quot;01d27dc7-4ab1-428d-a0c1-c07c37…</td><td>2</td></tr><tr><td>2025-08-26</td><td>&quot;01a25aa5-a755-4b9c-830a-bd4a32…</td><td>86</td></tr><tr><td>2025-08-26</td><td>&quot;013c2dd5-b46e-49b4-aaf2-107be9…</td><td>5</td></tr><tr><td>2025-08-26</td><td>&quot;039e8a5c-12b6-42ee-a225-c34eec…</td><td>76</td></tr><tr><td>2025-08-26</td><td>&quot;01578474-3e1b-4a9d-bee8-bbe176…</td><td>16</td></tr><tr><td>2025-08-26</td><td>&quot;01836288-4230-49ce-9db6-c7b25c…</td><td>4</td></tr><tr><td>2025-08-26</td><td>&quot;015da109-d896-43db-a39d-383b9d…</td><td>4</td></tr></tbody></table></div>"
      ],
      "text/plain": [
       "shape: (10, 3)\n",
       "┌─────────────┬─────────────────────────────────┬─────────────────────────────────┐\n",
       "│ report_date ┆ address_uuid                    ┆ citizen_id_in_flat_with_subscr… │\n",
       "│ ---         ┆ ---                             ┆ ---                             │\n",
       "│ date        ┆ str                             ┆ i64                             │\n",
       "╞═════════════╪═════════════════════════════════╪═════════════════════════════════╡\n",
       "│ 2025-08-26  ┆ 015121f1-f869-430b-9da1-af7d35… ┆ 6                               │\n",
       "│ 2025-08-26  ┆ 0212b005-610a-4f8d-807b-d8d450… ┆ 2                               │\n",
       "│ 2025-08-26  ┆ 0387e2c1-5bc3-442a-9a56-0f1e66… ┆ 8                               │\n",
       "│ 2025-08-26  ┆ 01d27dc7-4ab1-428d-a0c1-c07c37… ┆ 2                               │\n",
       "│ 2025-08-26  ┆ 01a25aa5-a755-4b9c-830a-bd4a32… ┆ 86                              │\n",
       "│ 2025-08-26  ┆ 013c2dd5-b46e-49b4-aaf2-107be9… ┆ 5                               │\n",
       "│ 2025-08-26  ┆ 039e8a5c-12b6-42ee-a225-c34eec… ┆ 76                              │\n",
       "│ 2025-08-26  ┆ 01578474-3e1b-4a9d-bee8-bbe176… ┆ 16                              │\n",
       "│ 2025-08-26  ┆ 01836288-4230-49ce-9db6-c7b25c… ┆ 4                               │\n",
       "│ 2025-08-26  ┆ 015da109-d896-43db-a39d-383b9d… ┆ 4                               │\n",
       "└─────────────┴─────────────────────────────────┴─────────────────────────────────┘"
      ]
     },
     "execution_count": 60,
     "metadata": {},
     "output_type": "execute_result"
    }
   ],
   "source": [
    "query_text = \"\"\"--sql\n",
    "SELECT\n",
    "    *\n",
    "FROM db1.t_citizen_id_in_flat_with_subscriptions\n",
    "ORDER BY report_date desc\n",
    "LIMIT 10\n",
    "    \"\"\"\n",
    "ch.query_run(query_text)"
   ]
  },
  {
   "cell_type": "code",
   "execution_count": 56,
   "id": "ec4d213f-8614-4002-aa1e-5378e744eb7d",
   "metadata": {},
   "outputs": [
    {
     "data": {
      "text/html": [
       "<div><style>\n",
       ".dataframe > thead > tr,\n",
       ".dataframe > tbody > tr {\n",
       "  text-align: right;\n",
       "  white-space: pre-wrap;\n",
       "}\n",
       "</style>\n",
       "<small>shape: (1, 9)</small><table border=\"1\" class=\"dataframe\"><thead><tr><th>read_rows</th><th>read_bytes</th><th>written_rows</th><th>written_bytes</th><th>total_rows_to_read</th><th>result_rows</th><th>result_bytes</th><th>elapsed_ns</th><th>query_id</th></tr><tr><td>i64</td><td>i64</td><td>i64</td><td>i64</td><td>i64</td><td>i64</td><td>i64</td><td>i64</td><td>str</td></tr></thead><tbody><tr><td>0</td><td>0</td><td>0</td><td>0</td><td>0</td><td>0</td><td>0</td><td>1278476</td><td>&quot;957cde80-3414-4f47-b1fb-82fbb4…</td></tr></tbody></table></div>"
      ],
      "text/plain": [
       "shape: (1, 9)\n",
       "┌───────────┬───────────┬───────────┬───────────┬───┬───────────┬───────────┬───────────┬──────────┐\n",
       "│ read_rows ┆ read_byte ┆ written_r ┆ written_b ┆ … ┆ result_ro ┆ result_by ┆ elapsed_n ┆ query_id │\n",
       "│ ---       ┆ s         ┆ ows       ┆ ytes      ┆   ┆ ws        ┆ tes       ┆ s         ┆ ---      │\n",
       "│ i64       ┆ ---       ┆ ---       ┆ ---       ┆   ┆ ---       ┆ ---       ┆ ---       ┆ str      │\n",
       "│           ┆ i64       ┆ i64       ┆ i64       ┆   ┆ i64       ┆ i64       ┆ i64       ┆          │\n",
       "╞═══════════╪═══════════╪═══════════╪═══════════╪═══╪═══════════╪═══════════╪═══════════╪══════════╡\n",
       "│ 0         ┆ 0         ┆ 0         ┆ 0         ┆ … ┆ 0         ┆ 0         ┆ 1278476   ┆ 957cde80 │\n",
       "│           ┆           ┆           ┆           ┆   ┆           ┆           ┆           ┆ -3414-4f │\n",
       "│           ┆           ┆           ┆           ┆   ┆           ┆           ┆           ┆ 47-b1fb- │\n",
       "│           ┆           ┆           ┆           ┆   ┆           ┆           ┆           ┆ 82fbb4…  │\n",
       "└───────────┴───────────┴───────────┴───────────┴───┴───────────┴───────────┴───────────┴──────────┘"
      ]
     },
     "execution_count": 56,
     "metadata": {},
     "output_type": "execute_result"
    }
   ],
   "source": [
    "query_text = \"\"\"\n",
    "    DROP TABLE db1.t_citizen_id_in_flat_with_subscriptions_mv\n",
    "    \"\"\"\n",
    "ch.query_run(query_text)"
   ]
  },
  {
   "cell_type": "code",
   "execution_count": 55,
   "id": "64f6bb0f-7fce-490c-a2ce-15f97d5441b9",
   "metadata": {},
   "outputs": [
    {
     "data": {
      "text/html": [
       "<div><style>\n",
       ".dataframe > thead > tr,\n",
       ".dataframe > tbody > tr {\n",
       "  text-align: right;\n",
       "  white-space: pre-wrap;\n",
       "}\n",
       "</style>\n",
       "<small>shape: (1, 9)</small><table border=\"1\" class=\"dataframe\"><thead><tr><th>read_rows</th><th>read_bytes</th><th>written_rows</th><th>written_bytes</th><th>total_rows_to_read</th><th>result_rows</th><th>result_bytes</th><th>elapsed_ns</th><th>query_id</th></tr><tr><td>i64</td><td>i64</td><td>i64</td><td>i64</td><td>i64</td><td>i64</td><td>i64</td><td>i64</td><td>str</td></tr></thead><tbody><tr><td>0</td><td>0</td><td>0</td><td>0</td><td>0</td><td>0</td><td>0</td><td>10756435</td><td>&quot;80bc9b6c-c472-40f0-ba30-408bac…</td></tr></tbody></table></div>"
      ],
      "text/plain": [
       "shape: (1, 9)\n",
       "┌───────────┬───────────┬───────────┬───────────┬───┬───────────┬───────────┬───────────┬──────────┐\n",
       "│ read_rows ┆ read_byte ┆ written_r ┆ written_b ┆ … ┆ result_ro ┆ result_by ┆ elapsed_n ┆ query_id │\n",
       "│ ---       ┆ s         ┆ ows       ┆ ytes      ┆   ┆ ws        ┆ tes       ┆ s         ┆ ---      │\n",
       "│ i64       ┆ ---       ┆ ---       ┆ ---       ┆   ┆ ---       ┆ ---       ┆ ---       ┆ str      │\n",
       "│           ┆ i64       ┆ i64       ┆ i64       ┆   ┆ i64       ┆ i64       ┆ i64       ┆          │\n",
       "╞═══════════╪═══════════╪═══════════╪═══════════╪═══╪═══════════╪═══════════╪═══════════╪══════════╡\n",
       "│ 0         ┆ 0         ┆ 0         ┆ 0         ┆ … ┆ 0         ┆ 0         ┆ 10756435  ┆ 80bc9b6c │\n",
       "│           ┆           ┆           ┆           ┆   ┆           ┆           ┆           ┆ -c472-40 │\n",
       "│           ┆           ┆           ┆           ┆   ┆           ┆           ┆           ┆ f0-ba30- │\n",
       "│           ┆           ┆           ┆           ┆   ┆           ┆           ┆           ┆ 408bac…  │\n",
       "└───────────┴───────────┴───────────┴───────────┴───┴───────────┴───────────┴───────────┴──────────┘"
      ]
     },
     "execution_count": 55,
     "metadata": {},
     "output_type": "execute_result"
    }
   ],
   "source": [
    "query_text = \"\"\"\n",
    "    DROP TABLE db1.t_citizen_id_in_flat_with_subscriptions\n",
    "    \"\"\"\n",
    "ch.query_run(query_text)"
   ]
  },
  {
   "cell_type": "markdown",
   "id": "de5a21c3-f490-41b3-b848-c1d24e9818af",
   "metadata": {},
   "source": [
    "____\n",
    "\n",
    "## t_payments_amount"
   ]
  },
  {
   "cell_type": "code",
   "execution_count": 63,
   "id": "c853f1aa-fc2d-4e58-aed5-d2f4212ce5d7",
   "metadata": {},
   "outputs": [
    {
     "data": {
      "text/html": [
       "<div><style>\n",
       ".dataframe > thead > tr,\n",
       ".dataframe > tbody > tr {\n",
       "  text-align: right;\n",
       "  white-space: pre-wrap;\n",
       "}\n",
       "</style>\n",
       "<small>shape: (0, 0)</small><table border=\"1\" class=\"dataframe\"><thead><tr></tr><tr></tr></thead><tbody></tbody></table></div>"
      ],
      "text/plain": [
       "shape: (0, 0)\n",
       "┌┐\n",
       "╞╡\n",
       "└┘"
      ]
     },
     "execution_count": 63,
     "metadata": {},
     "output_type": "execute_result"
    }
   ],
   "source": [
    "query_text = \"\"\"--sql\n",
    "    CREATE TABLE db1.t_payments_amount\n",
    "    (\n",
    "        `report_date` Date,\n",
    "        `address_uuid` String,\n",
    "        `payments_amount` UInt64\n",
    "    )\n",
    "    ENGINE = MergeTree()\n",
    "    ORDER BY address_uuid\n",
    "    \"\"\"\n",
    "ch.query_run(query_text)"
   ]
  },
  {
   "cell_type": "code",
   "execution_count": 64,
   "id": "24de2842-1e56-4f51-b075-476132b9e04c",
   "metadata": {},
   "outputs": [
    {
     "data": {
      "text/html": [
       "<div><style>\n",
       ".dataframe > thead > tr,\n",
       ".dataframe > tbody > tr {\n",
       "  text-align: right;\n",
       "  white-space: pre-wrap;\n",
       "}\n",
       "</style>\n",
       "<small>shape: (0, 0)</small><table border=\"1\" class=\"dataframe\"><thead><tr></tr><tr></tr></thead><tbody></tbody></table></div>"
      ],
      "text/plain": [
       "shape: (0, 0)\n",
       "┌┐\n",
       "╞╡\n",
       "└┘"
      ]
     },
     "execution_count": 64,
     "metadata": {},
     "output_type": "execute_result"
    }
   ],
   "source": [
    "query_text = \"\"\"--sql\n",
    "CREATE MATERIALIZED VIEW db1.t_payments_amount_mv\n",
    "REFRESH EVERY 1 DAY OFFSET 5 HOUR 30 MINUTE TO db1.t_payments_amount AS \n",
    "SELECT\n",
    "    report_date,\n",
    "    address_uuid,\n",
    "    sum(amount) AS payments_amount\n",
    "FROM db1.rep_mobile_citizens_id_city_partner AS t_cit_id\n",
    "JOIN db1.citizen_payments_st_mobile_ch AS citizen_payments_st_mobile\n",
    "    ON citizen_payments_st_mobile.report_date = t_cit_id.report_date\n",
    "    AND citizen_payments_st_mobile.citizen_id = t_cit_id.citizen_id\n",
    "WHERE address_uuid != ''\n",
    "GROUP BY report_date, address_uuid\n",
    "    \"\"\"\n",
    "ch.query_run(query_text)"
   ]
  },
  {
   "cell_type": "code",
   "execution_count": 102,
   "id": "aa062132-b105-4224-8fd8-e03e34002662",
   "metadata": {},
   "outputs": [
    {
     "data": {
      "text/html": [
       "<div><style>\n",
       ".dataframe > thead > tr,\n",
       ".dataframe > tbody > tr {\n",
       "  text-align: right;\n",
       "  white-space: pre-wrap;\n",
       "}\n",
       "</style>\n",
       "<small>shape: (10, 3)</small><table border=\"1\" class=\"dataframe\"><thead><tr><th>report_date</th><th>address_uuid</th><th>payments_amount</th></tr><tr><td>date</td><td>str</td><td>i64</td></tr></thead><tbody><tr><td>2025-08-27</td><td>&quot;0113915b-dc1d-4f5b-a56b-e83b20…</td><td>346</td></tr><tr><td>2025-08-27</td><td>&quot;01230ad8-53c1-43ee-8e45-d065a5…</td><td>69</td></tr><tr><td>2025-08-27</td><td>&quot;01b7ae17-dc42-4ea9-9bea-77db1c…</td><td>85</td></tr><tr><td>2025-08-27</td><td>&quot;0160c0f3-91c9-4e7d-8d94-b8731f…</td><td>138</td></tr><tr><td>2025-08-27</td><td>&quot;0163b402-1898-4079-9950-bdb3a5…</td><td>69</td></tr><tr><td>2025-08-27</td><td>&quot;016eefe2-6fbf-40d4-8549-12a68f…</td><td>207</td></tr><tr><td>2025-08-27</td><td>&quot;013286a5-ff2d-4b81-9a6d-59ef93…</td><td>69</td></tr><tr><td>2025-08-27</td><td>&quot;01836288-4230-49ce-9db6-c7b25c…</td><td>69</td></tr><tr><td>2025-08-27</td><td>&quot;01a25aa5-a755-4b9c-830a-bd4a32…</td><td>139</td></tr><tr><td>2025-08-27</td><td>&quot;018ed84d-4974-4f2c-b4a0-2aa42e…</td><td>69</td></tr></tbody></table></div>"
      ],
      "text/plain": [
       "shape: (10, 3)\n",
       "┌─────────────┬─────────────────────────────────┬─────────────────┐\n",
       "│ report_date ┆ address_uuid                    ┆ payments_amount │\n",
       "│ ---         ┆ ---                             ┆ ---             │\n",
       "│ date        ┆ str                             ┆ i64             │\n",
       "╞═════════════╪═════════════════════════════════╪═════════════════╡\n",
       "│ 2025-08-27  ┆ 0113915b-dc1d-4f5b-a56b-e83b20… ┆ 346             │\n",
       "│ 2025-08-27  ┆ 01230ad8-53c1-43ee-8e45-d065a5… ┆ 69              │\n",
       "│ 2025-08-27  ┆ 01b7ae17-dc42-4ea9-9bea-77db1c… ┆ 85              │\n",
       "│ 2025-08-27  ┆ 0160c0f3-91c9-4e7d-8d94-b8731f… ┆ 138             │\n",
       "│ 2025-08-27  ┆ 0163b402-1898-4079-9950-bdb3a5… ┆ 69              │\n",
       "│ 2025-08-27  ┆ 016eefe2-6fbf-40d4-8549-12a68f… ┆ 207             │\n",
       "│ 2025-08-27  ┆ 013286a5-ff2d-4b81-9a6d-59ef93… ┆ 69              │\n",
       "│ 2025-08-27  ┆ 01836288-4230-49ce-9db6-c7b25c… ┆ 69              │\n",
       "│ 2025-08-27  ┆ 01a25aa5-a755-4b9c-830a-bd4a32… ┆ 139             │\n",
       "│ 2025-08-27  ┆ 018ed84d-4974-4f2c-b4a0-2aa42e… ┆ 69              │\n",
       "└─────────────┴─────────────────────────────────┴─────────────────┘"
      ]
     },
     "execution_count": 102,
     "metadata": {},
     "output_type": "execute_result"
    }
   ],
   "source": [
    "query_text = \"\"\"--sql\n",
    "SELECT\n",
    "    *\n",
    "FROM db1.t_payments_amount\n",
    "order by report_date desc\n",
    "LIMIT 10\n",
    "    \"\"\"\n",
    "ch.query_run(query_text)"
   ]
  },
  {
   "cell_type": "code",
   "execution_count": 62,
   "id": "5100a82a-4aec-40b4-8f29-bbdf16694d5d",
   "metadata": {},
   "outputs": [
    {
     "data": {
      "text/html": [
       "<div><style>\n",
       ".dataframe > thead > tr,\n",
       ".dataframe > tbody > tr {\n",
       "  text-align: right;\n",
       "  white-space: pre-wrap;\n",
       "}\n",
       "</style>\n",
       "<small>shape: (1, 9)</small><table border=\"1\" class=\"dataframe\"><thead><tr><th>read_rows</th><th>read_bytes</th><th>written_rows</th><th>written_bytes</th><th>total_rows_to_read</th><th>result_rows</th><th>result_bytes</th><th>elapsed_ns</th><th>query_id</th></tr><tr><td>i64</td><td>i64</td><td>i64</td><td>i64</td><td>i64</td><td>i64</td><td>i64</td><td>i64</td><td>str</td></tr></thead><tbody><tr><td>0</td><td>0</td><td>0</td><td>0</td><td>0</td><td>0</td><td>0</td><td>2674779</td><td>&quot;0e681a8d-36df-4be4-8ab4-4cde90…</td></tr></tbody></table></div>"
      ],
      "text/plain": [
       "shape: (1, 9)\n",
       "┌───────────┬───────────┬───────────┬───────────┬───┬───────────┬───────────┬───────────┬──────────┐\n",
       "│ read_rows ┆ read_byte ┆ written_r ┆ written_b ┆ … ┆ result_ro ┆ result_by ┆ elapsed_n ┆ query_id │\n",
       "│ ---       ┆ s         ┆ ows       ┆ ytes      ┆   ┆ ws        ┆ tes       ┆ s         ┆ ---      │\n",
       "│ i64       ┆ ---       ┆ ---       ┆ ---       ┆   ┆ ---       ┆ ---       ┆ ---       ┆ str      │\n",
       "│           ┆ i64       ┆ i64       ┆ i64       ┆   ┆ i64       ┆ i64       ┆ i64       ┆          │\n",
       "╞═══════════╪═══════════╪═══════════╪═══════════╪═══╪═══════════╪═══════════╪═══════════╪══════════╡\n",
       "│ 0         ┆ 0         ┆ 0         ┆ 0         ┆ … ┆ 0         ┆ 0         ┆ 2674779   ┆ 0e681a8d │\n",
       "│           ┆           ┆           ┆           ┆   ┆           ┆           ┆           ┆ -36df-4b │\n",
       "│           ┆           ┆           ┆           ┆   ┆           ┆           ┆           ┆ e4-8ab4- │\n",
       "│           ┆           ┆           ┆           ┆   ┆           ┆           ┆           ┆ 4cde90…  │\n",
       "└───────────┴───────────┴───────────┴───────────┴───┴───────────┴───────────┴───────────┴──────────┘"
      ]
     },
     "execution_count": 62,
     "metadata": {},
     "output_type": "execute_result"
    }
   ],
   "source": [
    "query_text = \"\"\"\n",
    "    DROP TABLE db1.t_payments_amount\n",
    "    \"\"\"\n",
    "ch.query_run(query_text)"
   ]
  },
  {
   "cell_type": "code",
   "execution_count": 61,
   "id": "16556d82-42be-4d71-8267-fa5dbecb6629",
   "metadata": {},
   "outputs": [
    {
     "data": {
      "text/html": [
       "<div><style>\n",
       ".dataframe > thead > tr,\n",
       ".dataframe > tbody > tr {\n",
       "  text-align: right;\n",
       "  white-space: pre-wrap;\n",
       "}\n",
       "</style>\n",
       "<small>shape: (1, 9)</small><table border=\"1\" class=\"dataframe\"><thead><tr><th>read_rows</th><th>read_bytes</th><th>written_rows</th><th>written_bytes</th><th>total_rows_to_read</th><th>result_rows</th><th>result_bytes</th><th>elapsed_ns</th><th>query_id</th></tr><tr><td>i64</td><td>i64</td><td>i64</td><td>i64</td><td>i64</td><td>i64</td><td>i64</td><td>i64</td><td>str</td></tr></thead><tbody><tr><td>0</td><td>0</td><td>0</td><td>0</td><td>0</td><td>0</td><td>0</td><td>1361897</td><td>&quot;3dd3a80c-6fc5-4cfb-a8eb-0177c9…</td></tr></tbody></table></div>"
      ],
      "text/plain": [
       "shape: (1, 9)\n",
       "┌───────────┬───────────┬───────────┬───────────┬───┬───────────┬───────────┬───────────┬──────────┐\n",
       "│ read_rows ┆ read_byte ┆ written_r ┆ written_b ┆ … ┆ result_ro ┆ result_by ┆ elapsed_n ┆ query_id │\n",
       "│ ---       ┆ s         ┆ ows       ┆ ytes      ┆   ┆ ws        ┆ tes       ┆ s         ┆ ---      │\n",
       "│ i64       ┆ ---       ┆ ---       ┆ ---       ┆   ┆ ---       ┆ ---       ┆ ---       ┆ str      │\n",
       "│           ┆ i64       ┆ i64       ┆ i64       ┆   ┆ i64       ┆ i64       ┆ i64       ┆          │\n",
       "╞═══════════╪═══════════╪═══════════╪═══════════╪═══╪═══════════╪═══════════╪═══════════╪══════════╡\n",
       "│ 0         ┆ 0         ┆ 0         ┆ 0         ┆ … ┆ 0         ┆ 0         ┆ 1361897   ┆ 3dd3a80c │\n",
       "│           ┆           ┆           ┆           ┆   ┆           ┆           ┆           ┆ -6fc5-4c │\n",
       "│           ┆           ┆           ┆           ┆   ┆           ┆           ┆           ┆ fb-a8eb- │\n",
       "│           ┆           ┆           ┆           ┆   ┆           ┆           ┆           ┆ 0177c9…  │\n",
       "└───────────┴───────────┴───────────┴───────────┴───┴───────────┴───────────┴───────────┴──────────┘"
      ]
     },
     "execution_count": 61,
     "metadata": {},
     "output_type": "execute_result"
    }
   ],
   "source": [
    "query_text = \"\"\"\n",
    "    DROP TABLE db1.t_payments_amount_mv\n",
    "    \"\"\"\n",
    "ch.query_run(query_text)"
   ]
  },
  {
   "cell_type": "markdown",
   "id": "035667a3-5052-4fbe-89ce-ef73729d7e99",
   "metadata": {},
   "source": [
    "____\n",
    "\n",
    "## t_subscribed_citizen_id"
   ]
  },
  {
   "cell_type": "code",
   "execution_count": 80,
   "id": "5634448a-1641-41af-9ab6-cb04e0a73cc9",
   "metadata": {},
   "outputs": [
    {
     "data": {
      "text/html": [
       "<div><style>\n",
       ".dataframe > thead > tr,\n",
       ".dataframe > tbody > tr {\n",
       "  text-align: right;\n",
       "  white-space: pre-wrap;\n",
       "}\n",
       "</style>\n",
       "<small>shape: (0, 0)</small><table border=\"1\" class=\"dataframe\"><thead><tr></tr><tr></tr></thead><tbody></tbody></table></div>"
      ],
      "text/plain": [
       "shape: (0, 0)\n",
       "┌┐\n",
       "╞╡\n",
       "└┘"
      ]
     },
     "execution_count": 80,
     "metadata": {},
     "output_type": "execute_result"
    }
   ],
   "source": [
    "query_text = \"\"\"--sql\n",
    "    CREATE TABLE db1.t_subscribed_citizen_id\n",
    "    (\n",
    "        `report_date` Date,\n",
    "        `address_uuid` String,\n",
    "        `subscribed_citizen_id` UInt64\n",
    "    )\n",
    "    ENGINE = MergeTree()\n",
    "    ORDER BY address_uuid\n",
    "    \"\"\"\n",
    "ch.query_run(query_text)"
   ]
  },
  {
   "cell_type": "code",
   "execution_count": 83,
   "id": "ba35bbce-0a6c-4f3b-9a4e-78edd31e5731",
   "metadata": {},
   "outputs": [
    {
     "ename": "DatabaseError",
     "evalue": "HTTPDriver for https://rc1a-eflrt968scbm232q.mdb.yandexcloud.net:8443 received ClickHouse error code 57\n Code: 57. DB::Exception: Table db1.t_subscribed_citizen_id_mv already exists. (TABLE_ALREADY_EXISTS) (version 25.3.6.56 (official build))\n",
     "output_type": "error",
     "traceback": [
      "\u001b[31m---------------------------------------------------------------------------\u001b[39m",
      "\u001b[31mDatabaseError\u001b[39m                             Traceback (most recent call last)",
      "\u001b[36mCell\u001b[39m\u001b[36m \u001b[39m\u001b[32mIn[83]\u001b[39m\u001b[32m, line 12\u001b[39m\n\u001b[32m      1\u001b[39m query_text = \u001b[33m\"\"\"\u001b[39m\u001b[33m--sql\u001b[39m\n\u001b[32m      2\u001b[39m \u001b[33m    CREATE MATERIALIZED VIEW db1.t_subscribed_citizen_id_mv\u001b[39m\n\u001b[32m      3\u001b[39m \u001b[33m    REFRESH EVERY 1 DAY OFFSET 5 HOUR 33 MINUTE TO db1.t_subscribed_citizen_id AS \u001b[39m\n\u001b[32m   (...)\u001b[39m\u001b[32m     10\u001b[39m \u001b[33m    GROUP BY report_date, address_uuid\u001b[39m\n\u001b[32m     11\u001b[39m \u001b[33m    \u001b[39m\u001b[33m\"\"\"\u001b[39m\n\u001b[32m---> \u001b[39m\u001b[32m12\u001b[39m \u001b[43mch\u001b[49m\u001b[43m.\u001b[49m\u001b[43mquery_run\u001b[49m\u001b[43m(\u001b[49m\u001b[43mquery_text\u001b[49m\u001b[43m)\u001b[49m\n",
      "\u001b[36mFile \u001b[39m\u001b[32m~/Documents/Work/analytics/Clickhouse/clickhouse_client.py:29\u001b[39m, in \u001b[36mClickHouse_client.query_run\u001b[39m\u001b[34m(self, query_text)\u001b[39m\n\u001b[32m     27\u001b[39m \u001b[38;5;28;01mdef\u001b[39;00m\u001b[38;5;250m \u001b[39m\u001b[34mquery_run\u001b[39m (\u001b[38;5;28mself\u001b[39m, query_text):\n\u001b[32m     28\u001b[39m     query_text = query_text\n\u001b[32m---> \u001b[39m\u001b[32m29\u001b[39m     result = \u001b[38;5;28;43mself\u001b[39;49m\u001b[43m.\u001b[49m\u001b[43mclient\u001b[49m\u001b[43m.\u001b[49m\u001b[43mquery\u001b[49m\u001b[43m(\u001b[49m\u001b[43mquery_text\u001b[49m\u001b[43m)\u001b[49m\n\u001b[32m     30\u001b[39m     \u001b[38;5;28mself\u001b[39m.df = pd.DataFrame(result.result_rows, columns=result.column_names)\n\u001b[32m     31\u001b[39m     \u001b[38;5;66;03m# self.df = pl.DataFrame(result.result_rows, schema=result.column_names)\u001b[39;00m\n",
      "\u001b[36mFile \u001b[39m\u001b[32m~/myenv/lib/python3.12/site-packages/clickhouse_connect/driver/client.py:237\u001b[39m, in \u001b[36mClient.query\u001b[39m\u001b[34m(self, query, parameters, settings, query_formats, column_formats, encoding, use_none, column_oriented, use_numpy, max_str_len, context, query_tz, column_tzs, external_data, transport_settings)\u001b[39m\n\u001b[32m    235\u001b[39m         \u001b[38;5;28;01mreturn\u001b[39;00m response.as_query_result()\n\u001b[32m    236\u001b[39m     \u001b[38;5;28;01mreturn\u001b[39;00m QueryResult([response] \u001b[38;5;28;01mif\u001b[39;00m \u001b[38;5;28misinstance\u001b[39m(response, \u001b[38;5;28mlist\u001b[39m) \u001b[38;5;28;01melse\u001b[39;00m [[response]])\n\u001b[32m--> \u001b[39m\u001b[32m237\u001b[39m \u001b[38;5;28;01mreturn\u001b[39;00m \u001b[38;5;28;43mself\u001b[39;49m\u001b[43m.\u001b[49m\u001b[43m_query_with_context\u001b[49m\u001b[43m(\u001b[49m\u001b[43mquery_context\u001b[49m\u001b[43m)\u001b[49m\n",
      "\u001b[36mFile \u001b[39m\u001b[32m~/myenv/lib/python3.12/site-packages/clickhouse_connect/driver/httpclient.py:243\u001b[39m, in \u001b[36mHttpClient._query_with_context\u001b[39m\u001b[34m(self, context)\u001b[39m\n\u001b[32m    241\u001b[39m     fields = \u001b[38;5;28;01mNone\u001b[39;00m\n\u001b[32m    242\u001b[39m     headers[\u001b[33m'\u001b[39m\u001b[33mContent-Type\u001b[39m\u001b[33m'\u001b[39m] = \u001b[33m'\u001b[39m\u001b[33mtext/plain; charset=utf-8\u001b[39m\u001b[33m'\u001b[39m\n\u001b[32m--> \u001b[39m\u001b[32m243\u001b[39m response = \u001b[38;5;28;43mself\u001b[39;49m\u001b[43m.\u001b[49m\u001b[43m_raw_request\u001b[49m\u001b[43m(\u001b[49m\u001b[43mbody\u001b[49m\u001b[43m,\u001b[49m\n\u001b[32m    244\u001b[39m \u001b[43m                             \u001b[49m\u001b[43mparams\u001b[49m\u001b[43m,\u001b[49m\n\u001b[32m    245\u001b[39m \u001b[43m                             \u001b[49m\u001b[43mdict_copy\u001b[49m\u001b[43m(\u001b[49m\u001b[43mheaders\u001b[49m\u001b[43m,\u001b[49m\u001b[43m \u001b[49m\u001b[43mcontext\u001b[49m\u001b[43m.\u001b[49m\u001b[43mtransport_settings\u001b[49m\u001b[43m)\u001b[49m\u001b[43m,\u001b[49m\n\u001b[32m    246\u001b[39m \u001b[43m                             \u001b[49m\u001b[43mstream\u001b[49m\u001b[43m=\u001b[49m\u001b[38;5;28;43;01mTrue\u001b[39;49;00m\u001b[43m,\u001b[49m\n\u001b[32m    247\u001b[39m \u001b[43m                             \u001b[49m\u001b[43mretries\u001b[49m\u001b[43m=\u001b[49m\u001b[38;5;28;43mself\u001b[39;49m\u001b[43m.\u001b[49m\u001b[43mquery_retries\u001b[49m\u001b[43m,\u001b[49m\n\u001b[32m    248\u001b[39m \u001b[43m                             \u001b[49m\u001b[43mfields\u001b[49m\u001b[43m=\u001b[49m\u001b[43mfields\u001b[49m\u001b[43m,\u001b[49m\n\u001b[32m    249\u001b[39m \u001b[43m                             \u001b[49m\u001b[43mserver_wait\u001b[49m\u001b[43m=\u001b[49m\u001b[38;5;129;43;01mnot\u001b[39;49;00m\u001b[43m \u001b[49m\u001b[43mcontext\u001b[49m\u001b[43m.\u001b[49m\u001b[43mstreaming\u001b[49m\u001b[43m)\u001b[49m\n\u001b[32m    250\u001b[39m byte_source = RespBuffCls(ResponseSource(response))  \u001b[38;5;66;03m# pylint: disable=not-callable\u001b[39;00m\n\u001b[32m    251\u001b[39m context.set_response_tz(\u001b[38;5;28mself\u001b[39m._check_tz_change(response.headers.get(\u001b[33m'\u001b[39m\u001b[33mX-ClickHouse-Timezone\u001b[39m\u001b[33m'\u001b[39m)))\n",
      "\u001b[36mFile \u001b[39m\u001b[32m~/myenv/lib/python3.12/site-packages/clickhouse_connect/driver/httpclient.py:481\u001b[39m, in \u001b[36mHttpClient._raw_request\u001b[39m\u001b[34m(self, data, params, headers, method, retries, stream, server_wait, fields, error_handler)\u001b[39m\n\u001b[32m    479\u001b[39m     error_handler(response)\n\u001b[32m    480\u001b[39m \u001b[38;5;28;01melse\u001b[39;00m:\n\u001b[32m--> \u001b[39m\u001b[32m481\u001b[39m     \u001b[38;5;28;43mself\u001b[39;49m\u001b[43m.\u001b[49m\u001b[43m_error_handler\u001b[49m\u001b[43m(\u001b[49m\u001b[43mresponse\u001b[49m\u001b[43m)\u001b[49m\n",
      "\u001b[36mFile \u001b[39m\u001b[32m~/myenv/lib/python3.12/site-packages/clickhouse_connect/driver/httpclient.py:402\u001b[39m, in \u001b[36mHttpClient._error_handler\u001b[39m\u001b[34m(self, response, retried)\u001b[39m\n\u001b[32m    399\u001b[39m \u001b[38;5;28;01melse\u001b[39;00m:\n\u001b[32m    400\u001b[39m     err_str = \u001b[33m'\u001b[39m\u001b[33mThe ClickHouse server returned an error.\u001b[39m\u001b[33m'\u001b[39m\n\u001b[32m--> \u001b[39m\u001b[32m402\u001b[39m \u001b[38;5;28;01mraise\u001b[39;00m OperationalError(err_str) \u001b[38;5;28;01mif\u001b[39;00m retried \u001b[38;5;28;01melse\u001b[39;00m DatabaseError(err_str) \u001b[38;5;28;01mfrom\u001b[39;00m\u001b[38;5;250m \u001b[39m\u001b[38;5;28;01mNone\u001b[39;00m\n",
      "\u001b[31mDatabaseError\u001b[39m: HTTPDriver for https://rc1a-eflrt968scbm232q.mdb.yandexcloud.net:8443 received ClickHouse error code 57\n Code: 57. DB::Exception: Table db1.t_subscribed_citizen_id_mv already exists. (TABLE_ALREADY_EXISTS) (version 25.3.6.56 (official build))\n"
     ]
    }
   ],
   "source": [
    "query_text = \"\"\"--sql\n",
    "    CREATE MATERIALIZED VIEW db1.t_subscribed_citizen_id_mv\n",
    "    REFRESH EVERY 1 DAY OFFSET 5 HOUR 33 MINUTE TO db1.t_subscribed_citizen_id AS \n",
    "    SELECT\n",
    "        report_date,\n",
    "        address_uuid,\n",
    "        countDistinctIf(citizen_id, citizen_id != 0) AS subscribed_citizen_id\n",
    "    FROM db1.subscriptions_report_citizens_flats_comerce_rep_mobile_total\n",
    "    WHERE state = 'activated' AND address_uuid != ''\n",
    "    GROUP BY report_date, address_uuid\n",
    "    \"\"\"\n",
    "ch.query_run(query_text)"
   ]
  },
  {
   "cell_type": "code",
   "execution_count": 84,
   "id": "36d0bae3-80a3-4671-b285-621a3feabfcf",
   "metadata": {},
   "outputs": [
    {
     "data": {
      "text/html": [
       "<div><style>\n",
       ".dataframe > thead > tr,\n",
       ".dataframe > tbody > tr {\n",
       "  text-align: right;\n",
       "  white-space: pre-wrap;\n",
       "}\n",
       "</style>\n",
       "<small>shape: (10, 3)</small><table border=\"1\" class=\"dataframe\"><thead><tr><th>report_date</th><th>address_uuid</th><th>subscribed_citizen_id</th></tr><tr><td>date</td><td>str</td><td>i64</td></tr></thead><tbody><tr><td>2025-08-25</td><td>&quot;01b1430e-2bc7-430e-b1fa-db14b5…</td><td>1</td></tr><tr><td>2025-08-25</td><td>&quot;02bc1ea2-fac1-4a11-9ccd-8faacf…</td><td>5</td></tr><tr><td>2025-08-25</td><td>&quot;01d856b1-a27c-4f87-a616-ac4945…</td><td>8</td></tr><tr><td>2025-08-25</td><td>&quot;01d9899e-f90f-46af-999e-c98775…</td><td>2</td></tr><tr><td>2025-08-25</td><td>&quot;02c8a97e-7555-48aa-acef-1bbe87…</td><td>4</td></tr><tr><td>2025-08-25</td><td>&quot;01ea7574-90df-48af-acf5-22e904…</td><td>1</td></tr><tr><td>2025-08-25</td><td>&quot;025cba1e-e224-45ea-9807-7a8e8a…</td><td>3</td></tr><tr><td>2025-08-25</td><td>&quot;01f36f31-666f-44b3-bd55-de1691…</td><td>2</td></tr><tr><td>2025-08-25</td><td>&quot;02c5c289-fb03-42c8-826a-fef34d…</td><td>3</td></tr><tr><td>2025-08-25</td><td>&quot;038cffbe-bc91-4d31-a5e2-988d5b…</td><td>3</td></tr></tbody></table></div>"
      ],
      "text/plain": [
       "shape: (10, 3)\n",
       "┌─────────────┬─────────────────────────────────┬───────────────────────┐\n",
       "│ report_date ┆ address_uuid                    ┆ subscribed_citizen_id │\n",
       "│ ---         ┆ ---                             ┆ ---                   │\n",
       "│ date        ┆ str                             ┆ i64                   │\n",
       "╞═════════════╪═════════════════════════════════╪═══════════════════════╡\n",
       "│ 2025-08-25  ┆ 01b1430e-2bc7-430e-b1fa-db14b5… ┆ 1                     │\n",
       "│ 2025-08-25  ┆ 02bc1ea2-fac1-4a11-9ccd-8faacf… ┆ 5                     │\n",
       "│ 2025-08-25  ┆ 01d856b1-a27c-4f87-a616-ac4945… ┆ 8                     │\n",
       "│ 2025-08-25  ┆ 01d9899e-f90f-46af-999e-c98775… ┆ 2                     │\n",
       "│ 2025-08-25  ┆ 02c8a97e-7555-48aa-acef-1bbe87… ┆ 4                     │\n",
       "│ 2025-08-25  ┆ 01ea7574-90df-48af-acf5-22e904… ┆ 1                     │\n",
       "│ 2025-08-25  ┆ 025cba1e-e224-45ea-9807-7a8e8a… ┆ 3                     │\n",
       "│ 2025-08-25  ┆ 01f36f31-666f-44b3-bd55-de1691… ┆ 2                     │\n",
       "│ 2025-08-25  ┆ 02c5c289-fb03-42c8-826a-fef34d… ┆ 3                     │\n",
       "│ 2025-08-25  ┆ 038cffbe-bc91-4d31-a5e2-988d5b… ┆ 3                     │\n",
       "└─────────────┴─────────────────────────────────┴───────────────────────┘"
      ]
     },
     "execution_count": 84,
     "metadata": {},
     "output_type": "execute_result"
    }
   ],
   "source": [
    "query_text = \"\"\"--sql\n",
    "SELECT\n",
    "    *\n",
    "FROM db1.t_subscribed_citizen_id\n",
    "order by report_date desc\n",
    "LIMIT 10\n",
    "    \"\"\"\n",
    "ch.query_run(query_text)"
   ]
  },
  {
   "cell_type": "code",
   "execution_count": 78,
   "id": "1fa27bff-65d1-4355-8668-c5a963f4bc0a",
   "metadata": {},
   "outputs": [
    {
     "data": {
      "text/html": [
       "<div><style>\n",
       ".dataframe > thead > tr,\n",
       ".dataframe > tbody > tr {\n",
       "  text-align: right;\n",
       "  white-space: pre-wrap;\n",
       "}\n",
       "</style>\n",
       "<small>shape: (1, 9)</small><table border=\"1\" class=\"dataframe\"><thead><tr><th>read_rows</th><th>read_bytes</th><th>written_rows</th><th>written_bytes</th><th>total_rows_to_read</th><th>result_rows</th><th>result_bytes</th><th>elapsed_ns</th><th>query_id</th></tr><tr><td>i64</td><td>i64</td><td>i64</td><td>i64</td><td>i64</td><td>i64</td><td>i64</td><td>i64</td><td>str</td></tr></thead><tbody><tr><td>0</td><td>0</td><td>0</td><td>0</td><td>0</td><td>0</td><td>0</td><td>3859964</td><td>&quot;56f4625e-c52b-4739-bfec-2143fc…</td></tr></tbody></table></div>"
      ],
      "text/plain": [
       "shape: (1, 9)\n",
       "┌───────────┬───────────┬───────────┬───────────┬───┬───────────┬───────────┬───────────┬──────────┐\n",
       "│ read_rows ┆ read_byte ┆ written_r ┆ written_b ┆ … ┆ result_ro ┆ result_by ┆ elapsed_n ┆ query_id │\n",
       "│ ---       ┆ s         ┆ ows       ┆ ytes      ┆   ┆ ws        ┆ tes       ┆ s         ┆ ---      │\n",
       "│ i64       ┆ ---       ┆ ---       ┆ ---       ┆   ┆ ---       ┆ ---       ┆ ---       ┆ str      │\n",
       "│           ┆ i64       ┆ i64       ┆ i64       ┆   ┆ i64       ┆ i64       ┆ i64       ┆          │\n",
       "╞═══════════╪═══════════╪═══════════╪═══════════╪═══╪═══════════╪═══════════╪═══════════╪══════════╡\n",
       "│ 0         ┆ 0         ┆ 0         ┆ 0         ┆ … ┆ 0         ┆ 0         ┆ 3859964   ┆ 56f4625e │\n",
       "│           ┆           ┆           ┆           ┆   ┆           ┆           ┆           ┆ -c52b-47 │\n",
       "│           ┆           ┆           ┆           ┆   ┆           ┆           ┆           ┆ 39-bfec- │\n",
       "│           ┆           ┆           ┆           ┆   ┆           ┆           ┆           ┆ 2143fc…  │\n",
       "└───────────┴───────────┴───────────┴───────────┴───┴───────────┴───────────┴───────────┴──────────┘"
      ]
     },
     "execution_count": 78,
     "metadata": {},
     "output_type": "execute_result"
    }
   ],
   "source": [
    "query_text = \"\"\"\n",
    "    DROP TABLE db1.t_subscribed_citizen_id\n",
    "    \"\"\"\n",
    "ch.query_run(query_text)"
   ]
  },
  {
   "cell_type": "code",
   "execution_count": 79,
   "id": "dbdc49fa-eb8f-4dea-95b1-2a41e3e25ccc",
   "metadata": {},
   "outputs": [
    {
     "data": {
      "text/html": [
       "<div><style>\n",
       ".dataframe > thead > tr,\n",
       ".dataframe > tbody > tr {\n",
       "  text-align: right;\n",
       "  white-space: pre-wrap;\n",
       "}\n",
       "</style>\n",
       "<small>shape: (1, 9)</small><table border=\"1\" class=\"dataframe\"><thead><tr><th>read_rows</th><th>read_bytes</th><th>written_rows</th><th>written_bytes</th><th>total_rows_to_read</th><th>result_rows</th><th>result_bytes</th><th>elapsed_ns</th><th>query_id</th></tr><tr><td>i64</td><td>i64</td><td>i64</td><td>i64</td><td>i64</td><td>i64</td><td>i64</td><td>i64</td><td>str</td></tr></thead><tbody><tr><td>0</td><td>0</td><td>0</td><td>0</td><td>0</td><td>0</td><td>0</td><td>2468299</td><td>&quot;02a24012-eeee-4c91-9d1d-f7652a…</td></tr></tbody></table></div>"
      ],
      "text/plain": [
       "shape: (1, 9)\n",
       "┌───────────┬───────────┬───────────┬───────────┬───┬───────────┬───────────┬───────────┬──────────┐\n",
       "│ read_rows ┆ read_byte ┆ written_r ┆ written_b ┆ … ┆ result_ro ┆ result_by ┆ elapsed_n ┆ query_id │\n",
       "│ ---       ┆ s         ┆ ows       ┆ ytes      ┆   ┆ ws        ┆ tes       ┆ s         ┆ ---      │\n",
       "│ i64       ┆ ---       ┆ ---       ┆ ---       ┆   ┆ ---       ┆ ---       ┆ ---       ┆ str      │\n",
       "│           ┆ i64       ┆ i64       ┆ i64       ┆   ┆ i64       ┆ i64       ┆ i64       ┆          │\n",
       "╞═══════════╪═══════════╪═══════════╪═══════════╪═══╪═══════════╪═══════════╪═══════════╪══════════╡\n",
       "│ 0         ┆ 0         ┆ 0         ┆ 0         ┆ … ┆ 0         ┆ 0         ┆ 2468299   ┆ 02a24012 │\n",
       "│           ┆           ┆           ┆           ┆   ┆           ┆           ┆           ┆ -eeee-4c │\n",
       "│           ┆           ┆           ┆           ┆   ┆           ┆           ┆           ┆ 91-9d1d- │\n",
       "│           ┆           ┆           ┆           ┆   ┆           ┆           ┆           ┆ f7652a…  │\n",
       "└───────────┴───────────┴───────────┴───────────┴───┴───────────┴───────────┴───────────┴──────────┘"
      ]
     },
     "execution_count": 79,
     "metadata": {},
     "output_type": "execute_result"
    }
   ],
   "source": [
    "query_text = \"\"\"\n",
    "    DROP TABLE db1.t_subscribed_citizen_id_mv\n",
    "    \"\"\"\n",
    "ch.query_run(query_text)"
   ]
  },
  {
   "cell_type": "markdown",
   "id": "395e45d2-a19e-43ea-ad53-fbe92070288f",
   "metadata": {},
   "source": [
    "____\n",
    "\n",
    "## t_activated_citizen_id"
   ]
  },
  {
   "cell_type": "code",
   "execution_count": 87,
   "id": "9ab1c778-d70a-41b1-8e0d-4826e3545c83",
   "metadata": {},
   "outputs": [
    {
     "data": {
      "text/html": [
       "<div><style>\n",
       ".dataframe > thead > tr,\n",
       ".dataframe > tbody > tr {\n",
       "  text-align: right;\n",
       "  white-space: pre-wrap;\n",
       "}\n",
       "</style>\n",
       "<small>shape: (0, 0)</small><table border=\"1\" class=\"dataframe\"><thead><tr></tr><tr></tr></thead><tbody></tbody></table></div>"
      ],
      "text/plain": [
       "shape: (0, 0)\n",
       "┌┐\n",
       "╞╡\n",
       "└┘"
      ]
     },
     "execution_count": 87,
     "metadata": {},
     "output_type": "execute_result"
    }
   ],
   "source": [
    "query_text = \"\"\"--sql\n",
    "    CREATE TABLE db1.t_activated_citizen_id\n",
    "    (\n",
    "        `report_date` Date,\n",
    "        `address_uuid` String,\n",
    "        `activated_citizen_id` UInt64,\n",
    "        `flat_uuid` UInt64\n",
    "    )\n",
    "    ENGINE = MergeTree()\n",
    "    ORDER BY address_uuid\n",
    "    \"\"\"\n",
    "ch.query_run(query_text)"
   ]
  },
  {
   "cell_type": "code",
   "execution_count": 88,
   "id": "3b8c18ab-2120-4cbd-ad37-46c05d24b24f",
   "metadata": {},
   "outputs": [
    {
     "data": {
      "text/html": [
       "<div><style>\n",
       ".dataframe > thead > tr,\n",
       ".dataframe > tbody > tr {\n",
       "  text-align: right;\n",
       "  white-space: pre-wrap;\n",
       "}\n",
       "</style>\n",
       "<small>shape: (0, 0)</small><table border=\"1\" class=\"dataframe\"><thead><tr></tr><tr></tr></thead><tbody></tbody></table></div>"
      ],
      "text/plain": [
       "shape: (0, 0)\n",
       "┌┐\n",
       "╞╡\n",
       "└┘"
      ]
     },
     "execution_count": 88,
     "metadata": {},
     "output_type": "execute_result"
    }
   ],
   "source": [
    "query_text = \"\"\"--sql\n",
    "    CREATE MATERIALIZED VIEW db1.t_activated_citizen_id_mv\n",
    "    REFRESH EVERY 1 DAY OFFSET 5 HOUR 35 MINUTE TO db1.t_activated_citizen_id AS \n",
    "     SELECT\n",
    "        report_date,\n",
    "        address_uuid,\n",
    "        countDistinctIf(citizen_id, citizen_id != 0) AS activated_citizen_id,\t\n",
    "        countDistinctIf(flat_uuid, flat_uuid != '') AS flat_uuid\n",
    "    FROM db1.rep_mobile_citizens_id_city_partner\n",
    "    WHERE address_uuid != ''\n",
    "    GROUP BY report_date, address_uuid\n",
    "    \"\"\"\n",
    "ch.query_run(query_text)"
   ]
  },
  {
   "cell_type": "code",
   "execution_count": 89,
   "id": "caa2469d-27c1-4801-b821-ecb98d54df06",
   "metadata": {},
   "outputs": [
    {
     "data": {
      "text/html": [
       "<div><style>\n",
       ".dataframe > thead > tr,\n",
       ".dataframe > tbody > tr {\n",
       "  text-align: right;\n",
       "  white-space: pre-wrap;\n",
       "}\n",
       "</style>\n",
       "<small>shape: (10, 4)</small><table border=\"1\" class=\"dataframe\"><thead><tr><th>report_date</th><th>address_uuid</th><th>activated_citizen_id</th><th>flat_uuid</th></tr><tr><td>date</td><td>str</td><td>i64</td><td>i64</td></tr></thead><tbody><tr><td>2025-08-27</td><td>&quot;007687c9-d8df-46bc-99ba-da982b…</td><td>39</td><td>21</td></tr><tr><td>2025-08-27</td><td>&quot;0040d102-ccad-44b6-aff6-ecb20d…</td><td>49</td><td>25</td></tr><tr><td>2025-08-27</td><td>&quot;00532564-8275-468b-94eb-f34eea…</td><td>36</td><td>18</td></tr><tr><td>2025-08-27</td><td>&quot;0011f1e0-9e4d-411f-8f7d-5f9c55…</td><td>57</td><td>28</td></tr><tr><td>2025-08-27</td><td>&quot;002da97d-4439-4166-887a-ba29e0…</td><td>35</td><td>18</td></tr><tr><td>2025-08-27</td><td>&quot;008de4bb-cfde-4666-a470-fd32de…</td><td>7</td><td>3</td></tr><tr><td>2025-08-27</td><td>&quot;0056fbe5-cd13-42cc-85d3-470729…</td><td>27</td><td>20</td></tr><tr><td>2025-08-27</td><td>&quot;008e5977-504c-46f1-84d2-078959…</td><td>14</td><td>6</td></tr><tr><td>2025-08-27</td><td>&quot;0011aa18-5d4e-46d2-908e-7795ca…</td><td>82</td><td>48</td></tr><tr><td>2025-08-27</td><td>&quot;002f0b8b-cbbd-4f86-abb8-12e26a…</td><td>2</td><td>2</td></tr></tbody></table></div>"
      ],
      "text/plain": [
       "shape: (10, 4)\n",
       "┌─────────────┬─────────────────────────────────┬──────────────────────┬───────────┐\n",
       "│ report_date ┆ address_uuid                    ┆ activated_citizen_id ┆ flat_uuid │\n",
       "│ ---         ┆ ---                             ┆ ---                  ┆ ---       │\n",
       "│ date        ┆ str                             ┆ i64                  ┆ i64       │\n",
       "╞═════════════╪═════════════════════════════════╪══════════════════════╪═══════════╡\n",
       "│ 2025-08-27  ┆ 007687c9-d8df-46bc-99ba-da982b… ┆ 39                   ┆ 21        │\n",
       "│ 2025-08-27  ┆ 0040d102-ccad-44b6-aff6-ecb20d… ┆ 49                   ┆ 25        │\n",
       "│ 2025-08-27  ┆ 00532564-8275-468b-94eb-f34eea… ┆ 36                   ┆ 18        │\n",
       "│ 2025-08-27  ┆ 0011f1e0-9e4d-411f-8f7d-5f9c55… ┆ 57                   ┆ 28        │\n",
       "│ 2025-08-27  ┆ 002da97d-4439-4166-887a-ba29e0… ┆ 35                   ┆ 18        │\n",
       "│ 2025-08-27  ┆ 008de4bb-cfde-4666-a470-fd32de… ┆ 7                    ┆ 3         │\n",
       "│ 2025-08-27  ┆ 0056fbe5-cd13-42cc-85d3-470729… ┆ 27                   ┆ 20        │\n",
       "│ 2025-08-27  ┆ 008e5977-504c-46f1-84d2-078959… ┆ 14                   ┆ 6         │\n",
       "│ 2025-08-27  ┆ 0011aa18-5d4e-46d2-908e-7795ca… ┆ 82                   ┆ 48        │\n",
       "│ 2025-08-27  ┆ 002f0b8b-cbbd-4f86-abb8-12e26a… ┆ 2                    ┆ 2         │\n",
       "└─────────────┴─────────────────────────────────┴──────────────────────┴───────────┘"
      ]
     },
     "execution_count": 89,
     "metadata": {},
     "output_type": "execute_result"
    }
   ],
   "source": [
    "query_text = \"\"\"--sql\n",
    "SELECT\n",
    "    *\n",
    "FROM db1.t_activated_citizen_id\n",
    "ORDER BY report_date DESC\n",
    "LIMIT 10\n",
    "    \"\"\"\n",
    "ch.query_run(query_text)"
   ]
  },
  {
   "cell_type": "code",
   "execution_count": 85,
   "id": "724462a5-67df-498c-b5d1-08231acea522",
   "metadata": {},
   "outputs": [
    {
     "data": {
      "text/html": [
       "<div><style>\n",
       ".dataframe > thead > tr,\n",
       ".dataframe > tbody > tr {\n",
       "  text-align: right;\n",
       "  white-space: pre-wrap;\n",
       "}\n",
       "</style>\n",
       "<small>shape: (1, 9)</small><table border=\"1\" class=\"dataframe\"><thead><tr><th>read_rows</th><th>read_bytes</th><th>written_rows</th><th>written_bytes</th><th>total_rows_to_read</th><th>result_rows</th><th>result_bytes</th><th>elapsed_ns</th><th>query_id</th></tr><tr><td>i64</td><td>i64</td><td>i64</td><td>i64</td><td>i64</td><td>i64</td><td>i64</td><td>i64</td><td>str</td></tr></thead><tbody><tr><td>0</td><td>0</td><td>0</td><td>0</td><td>0</td><td>0</td><td>0</td><td>18939536</td><td>&quot;9ec9895e-69e2-4db4-a9ce-5682d1…</td></tr></tbody></table></div>"
      ],
      "text/plain": [
       "shape: (1, 9)\n",
       "┌───────────┬───────────┬───────────┬───────────┬───┬───────────┬───────────┬───────────┬──────────┐\n",
       "│ read_rows ┆ read_byte ┆ written_r ┆ written_b ┆ … ┆ result_ro ┆ result_by ┆ elapsed_n ┆ query_id │\n",
       "│ ---       ┆ s         ┆ ows       ┆ ytes      ┆   ┆ ws        ┆ tes       ┆ s         ┆ ---      │\n",
       "│ i64       ┆ ---       ┆ ---       ┆ ---       ┆   ┆ ---       ┆ ---       ┆ ---       ┆ str      │\n",
       "│           ┆ i64       ┆ i64       ┆ i64       ┆   ┆ i64       ┆ i64       ┆ i64       ┆          │\n",
       "╞═══════════╪═══════════╪═══════════╪═══════════╪═══╪═══════════╪═══════════╪═══════════╪══════════╡\n",
       "│ 0         ┆ 0         ┆ 0         ┆ 0         ┆ … ┆ 0         ┆ 0         ┆ 18939536  ┆ 9ec9895e │\n",
       "│           ┆           ┆           ┆           ┆   ┆           ┆           ┆           ┆ -69e2-4d │\n",
       "│           ┆           ┆           ┆           ┆   ┆           ┆           ┆           ┆ b4-a9ce- │\n",
       "│           ┆           ┆           ┆           ┆   ┆           ┆           ┆           ┆ 5682d1…  │\n",
       "└───────────┴───────────┴───────────┴───────────┴───┴───────────┴───────────┴───────────┴──────────┘"
      ]
     },
     "execution_count": 85,
     "metadata": {},
     "output_type": "execute_result"
    }
   ],
   "source": [
    "query_text = \"\"\"\n",
    "    DROP TABLE db1.t_activated_citizen_id\n",
    "    \"\"\"\n",
    "ch.query_run(query_text)"
   ]
  },
  {
   "cell_type": "code",
   "execution_count": 86,
   "id": "75f741d4-7380-4362-a27f-0cc058597e49",
   "metadata": {},
   "outputs": [
    {
     "data": {
      "text/html": [
       "<div><style>\n",
       ".dataframe > thead > tr,\n",
       ".dataframe > tbody > tr {\n",
       "  text-align: right;\n",
       "  white-space: pre-wrap;\n",
       "}\n",
       "</style>\n",
       "<small>shape: (1, 9)</small><table border=\"1\" class=\"dataframe\"><thead><tr><th>read_rows</th><th>read_bytes</th><th>written_rows</th><th>written_bytes</th><th>total_rows_to_read</th><th>result_rows</th><th>result_bytes</th><th>elapsed_ns</th><th>query_id</th></tr><tr><td>i64</td><td>i64</td><td>i64</td><td>i64</td><td>i64</td><td>i64</td><td>i64</td><td>i64</td><td>str</td></tr></thead><tbody><tr><td>0</td><td>0</td><td>0</td><td>0</td><td>0</td><td>0</td><td>0</td><td>6460724</td><td>&quot;c5570a39-e211-44aa-bd48-a2e179…</td></tr></tbody></table></div>"
      ],
      "text/plain": [
       "shape: (1, 9)\n",
       "┌───────────┬───────────┬───────────┬───────────┬───┬───────────┬───────────┬───────────┬──────────┐\n",
       "│ read_rows ┆ read_byte ┆ written_r ┆ written_b ┆ … ┆ result_ro ┆ result_by ┆ elapsed_n ┆ query_id │\n",
       "│ ---       ┆ s         ┆ ows       ┆ ytes      ┆   ┆ ws        ┆ tes       ┆ s         ┆ ---      │\n",
       "│ i64       ┆ ---       ┆ ---       ┆ ---       ┆   ┆ ---       ┆ ---       ┆ ---       ┆ str      │\n",
       "│           ┆ i64       ┆ i64       ┆ i64       ┆   ┆ i64       ┆ i64       ┆ i64       ┆          │\n",
       "╞═══════════╪═══════════╪═══════════╪═══════════╪═══╪═══════════╪═══════════╪═══════════╪══════════╡\n",
       "│ 0         ┆ 0         ┆ 0         ┆ 0         ┆ … ┆ 0         ┆ 0         ┆ 6460724   ┆ c5570a39 │\n",
       "│           ┆           ┆           ┆           ┆   ┆           ┆           ┆           ┆ -e211-44 │\n",
       "│           ┆           ┆           ┆           ┆   ┆           ┆           ┆           ┆ aa-bd48- │\n",
       "│           ┆           ┆           ┆           ┆   ┆           ┆           ┆           ┆ a2e179…  │\n",
       "└───────────┴───────────┴───────────┴───────────┴───┴───────────┴───────────┴───────────┴──────────┘"
      ]
     },
     "execution_count": 86,
     "metadata": {},
     "output_type": "execute_result"
    }
   ],
   "source": [
    "query_text = \"\"\"\n",
    "    DROP TABLE db1.t_activated_citizen_id_mv\n",
    "    \"\"\"\n",
    "ch.query_run(query_text)"
   ]
  },
  {
   "cell_type": "markdown",
   "id": "e9b66686-8c6c-4da5-8c56-a3d271e9c333",
   "metadata": {},
   "source": [
    "____"
   ]
  },
  {
   "cell_type": "code",
   "execution_count": null,
   "id": "106c0923",
   "metadata": {
    "jupyter": {
     "source_hidden": true
    }
   },
   "outputs": [],
   "source": [
    "import pandas as pd\n",
    "\n",
    "query_text = \"\"\"\n",
    "INSERT INTO db1.t_subscribtions_citizens_by_companies_and_cities_address_ch\n",
    "WITH t_citizen_id_in_flat_with_subscriptions AS(\n",
    "    SELECT\n",
    "        report_date,\n",
    "        address_uuid,\n",
    "        countIf(citizen_id != 0) AS citizen_id_in_flat_with_subscriptions\n",
    "    FROM (\n",
    "        SELECT \n",
    "            report_date,\n",
    "            citizen_id,\n",
    "            address_uuid,\n",
    "            IF(ssm.state = 'activated', 1, 0) AS if_sub_active,\n",
    "            max(if_sub_active) OVER (PARTITION BY flat_uuid, report_date ORDER BY report_date DESC) AS flat_with_sub_active\n",
    "        FROM db1.rep_mobile_citizens_id_city_partner AS rmcicp\n",
    "        LEFT JOIN db1.subscriptions_st_mobile_ch AS ssm \n",
    "            ON rmcicp.report_date = ssm.report_date \n",
    "            AND rmcicp.citizen_id = ssm.citizen_id\n",
    "        WHERE report_date = toDate('{d}')\n",
    "    ) AS x\n",
    "    WHERE flat_with_sub_active = 1 AND address_uuid != ''\n",
    "    GROUP BY report_date, address_uuid\n",
    "),\n",
    "t_payments_amount AS(\n",
    "    SELECT\n",
    "        report_date,\n",
    "        address_uuid,\n",
    "        sum(amount) AS payments_amount\n",
    "    FROM db1.rep_mobile_citizens_id_city_partner AS t_cit_id\n",
    "    JOIN db1.citizen_payments_st_mobile_ch AS citizen_payments_st_mobile\n",
    "        ON citizen_payments_st_mobile.report_date = t_cit_id.report_date\n",
    "        AND citizen_payments_st_mobile.citizen_id = t_cit_id.citizen_id\n",
    "    WHERE report_date = toDate('{d}') AND address_uuid != ''\n",
    "    GROUP BY report_date, address_uuid\n",
    "),\n",
    "t_subscribed_citizen_id AS(\n",
    "    SELECT\n",
    "        report_date,\n",
    "        address_uuid,\n",
    "        countDistinctIf(citizen_id, citizen_id != 0) AS subscribed_citizen_id\n",
    "    FROM db1.subscriptions_report_citizens_flats_comerce_rep_mobile_total\n",
    "    WHERE state = 'activated' AND address_uuid != '' AND report_date = toDate('{d}')\n",
    "    GROUP BY report_date, address_uuid\n",
    "),\n",
    "t_activated_citizen_id AS (\n",
    "    SELECT\n",
    "        report_date,\n",
    "        address_uuid,\n",
    "        countDistinctIf(citizen_id, citizen_id != 0) AS activated_citizen_id,\t\n",
    "        countDistinctIf(flat_uuid, flat_uuid != '') AS flat_uuid\n",
    "    FROM db1.rep_mobile_citizens_id_city_partner\n",
    "    WHERE report_date = toDate('{d}') AND address_uuid != ''\n",
    "    GROUP BY report_date, address_uuid\n",
    "),\n",
    "t1 AS (\n",
    "    SELECT\n",
    "        report_date,\n",
    "        city,\n",
    "        full_address,\n",
    "        intercoms.partner_uuid AS partner_uuid,\n",
    "        intercoms.installation_point_id AS installation_point_id,\n",
    "        motherboard_ids,\n",
    "        address_uuid,\n",
    "        company_name, \n",
    "        partner_lk,\n",
    "        tin\n",
    "    FROM (\n",
    "        SELECT\n",
    "            report_date,\n",
    "            installation_point_id,\n",
    "            partner_uuid,\n",
    "            arrayStringConcat(groupArray(motherboard_id), ',') AS motherboard_ids\n",
    "        FROM db1.intercoms_st_partner_ch\n",
    "        LEFT JOIN db1.intercoms_dir_asgard_ch \n",
    "            ON intercoms_st_partner_ch.intercom_uuid = intercoms_dir_asgard_ch.intercom_uuid\n",
    "        WHERE report_date = toDate('{d}') AND installation_point_id != 0\n",
    "        GROUP BY report_date, installation_point_id, partner_uuid\n",
    "    ) AS intercoms\n",
    "    LEFT JOIN db1.entries_installation_points_dir_partner_ch AS eipdp  \n",
    "        ON intercoms.installation_point_id = eipdp.installation_point_id\n",
    "    LEFT JOIN db1.companies_dir_partner AS cdp\n",
    "        ON intercoms.partner_uuid = cdp.partner_uuid\n",
    ")\n",
    "SELECT\n",
    "    t1.report_date AS report_date,\n",
    "    city,\n",
    "    full_address,\n",
    "    partner_uuid,\n",
    "    installation_point_id,\n",
    "    motherboard_ids,\n",
    "    t1.address_uuid AS address_uuid,\n",
    "    company_name, \n",
    "    partner_lk,\n",
    "    tin,\n",
    "    activated_citizen_id,\n",
    "    flat_uuid,\n",
    "    subscribed_citizen_id,\n",
    "    payments_amount,\n",
    "    citizen_id_in_flat_with_subscriptions\n",
    "FROM t1\n",
    "LEFT JOIN t_citizen_id_in_flat_with_subscriptions \n",
    "    ON t1.report_date = t_citizen_id_in_flat_with_subscriptions.report_date \n",
    "    AND t1.address_uuid = t_citizen_id_in_flat_with_subscriptions.address_uuid\n",
    "LEFT JOIN t_payments_amount \n",
    "    ON t1.report_date = t_payments_amount.report_date \n",
    "    AND t1.address_uuid = t_payments_amount.address_uuid\n",
    "LEFT JOIN t_subscribed_citizen_id\n",
    "    ON t1.report_date = t_subscribed_citizen_id.report_date \n",
    "    AND t1.address_uuid = t_subscribed_citizen_id.address_uuid\n",
    "LEFT JOIN t_activated_citizen_id\n",
    "    ON t1.report_date = t_activated_citizen_id.report_date \n",
    "    AND t1.address_uuid = t_activated_citizen_id.address_uuid\n",
    "\"\"\"\n",
    "\n",
    "start = '2023-10-01'\n",
    "finish = '2025-08-19'\n",
    "df = pd.date_range(start, finish)[::-1]\n",
    "\n",
    "for ts in df:\n",
    "    d = ts.strftime('%Y-%m-%d')\n",
    "    ch.query_run(query_text.format(d=d))\n"
   ]
  },
  {
   "cell_type": "code",
   "execution_count": 92,
   "id": "510874c2",
   "metadata": {},
   "outputs": [
    {
     "data": {
      "text/html": [
       "<div><style>\n",
       ".dataframe > thead > tr,\n",
       ".dataframe > tbody > tr {\n",
       "  text-align: right;\n",
       "  white-space: pre-wrap;\n",
       "}\n",
       "</style>\n",
       "<small>shape: (0, 0)</small><table border=\"1\" class=\"dataframe\"><thead><tr></tr><tr></tr></thead><tbody></tbody></table></div>"
      ],
      "text/plain": [
       "shape: (0, 0)\n",
       "┌┐\n",
       "╞╡\n",
       "└┘"
      ]
     },
     "execution_count": 92,
     "metadata": {},
     "output_type": "execute_result"
    }
   ],
   "source": [
    "query_text = \"\"\"--sql\n",
    "    CREATE TABLE db1.t_subscribtions_citizens_by_companies_and_cities_address_ch \n",
    "    (\n",
    "        `report_date` Date,\n",
    "        `city` String,\n",
    "        `full_address` String,\n",
    "        `partner_uuid` String,\n",
    "        `installation_point_id` Int64,\n",
    "        `motherboard_ids` String,\n",
    "        `address_uuid` String,\n",
    "        `company_name` String,\n",
    "        `partner_lk` String,\n",
    "        `tin` String,\n",
    "        `activated_citizen_id` UInt64,\n",
    "        `flat_uuid` UInt64,\n",
    "        `subscribed_citizen_id` UInt64,\n",
    "        `payments_amount` Int64,\n",
    "        `citizen_id_in_flat_with_subscriptions` UInt64\n",
    "    )\n",
    "    ENGINE = MergeTree()\n",
    "    ORDER BY report_date\n",
    "    \"\"\"\n",
    "ch.query_run(query_text)\n"
   ]
  },
  {
   "cell_type": "markdown",
   "id": "da904faa",
   "metadata": {},
   "source": [
    "___\n",
    "## t_subscribtions_citizens_by_companies_and_cities_address_mv"
   ]
  },
  {
   "cell_type": "code",
   "execution_count": 93,
   "id": "8c8e3a2f",
   "metadata": {},
   "outputs": [
    {
     "data": {
      "text/html": [
       "<div><style>\n",
       ".dataframe > thead > tr,\n",
       ".dataframe > tbody > tr {\n",
       "  text-align: right;\n",
       "  white-space: pre-wrap;\n",
       "}\n",
       "</style>\n",
       "<small>shape: (0, 0)</small><table border=\"1\" class=\"dataframe\"><thead><tr></tr><tr></tr></thead><tbody></tbody></table></div>"
      ],
      "text/plain": [
       "shape: (0, 0)\n",
       "┌┐\n",
       "╞╡\n",
       "└┘"
      ]
     },
     "execution_count": 93,
     "metadata": {},
     "output_type": "execute_result"
    }
   ],
   "source": [
    "query_text = \"\"\"--sql\n",
    "CREATE MATERIALIZED VIEW db1.t_subscribtions_citizens_by_companies_and_cities_address_mv\n",
    "REFRESH EVERY 1 DAY OFFSET 5 HOUR 45 MINUTE TO db1.t_subscribtions_citizens_by_companies_and_cities_address_ch AS \n",
    "WITH t1 AS (\n",
    "    SELECT\n",
    "        report_date,\n",
    "        city,\n",
    "        full_address,\n",
    "        intercoms.partner_uuid AS partner_uuid,\n",
    "        intercoms.installation_point_id AS installation_point_id,\n",
    "        motherboard_ids,\n",
    "        address_uuid,\n",
    "        company_name, \n",
    "        partner_lk,\n",
    "        tin\n",
    "    FROM (\n",
    "        SELECT\n",
    "            report_date,\n",
    "            installation_point_id,\n",
    "            partner_uuid,\n",
    "            arrayStringConcat(groupArray(motherboard_id), ',') AS motherboard_ids\n",
    "        FROM db1.intercoms_st_partner_ch\n",
    "        LEFT JOIN db1.intercoms_dir_asgard_ch \n",
    "            ON intercoms_st_partner_ch.intercom_uuid = intercoms_dir_asgard_ch.intercom_uuid\n",
    "        WHERE installation_point_id != 0\n",
    "        GROUP BY report_date, installation_point_id, partner_uuid\n",
    "    ) AS intercoms\n",
    "    LEFT JOIN db1.entries_installation_points_dir_partner_ch AS eipdp  \n",
    "        ON intercoms.installation_point_id = eipdp.installation_point_id\n",
    "    LEFT JOIN db1.companies_dir_partner AS cdp\n",
    "        ON intercoms.partner_uuid = cdp.partner_uuid\n",
    ")\n",
    "SELECT\n",
    "    t1.report_date AS report_date,\n",
    "    city,\n",
    "    full_address,\n",
    "    partner_uuid,\n",
    "    installation_point_id,\n",
    "    motherboard_ids,\n",
    "    t1.address_uuid AS address_uuid,\n",
    "    company_name, \n",
    "    partner_lk,\n",
    "    tin,\n",
    "    activated_citizen_id,\n",
    "    flat_uuid,\n",
    "    subscribed_citizen_id,\n",
    "    payments_amount,\n",
    "    citizen_id_in_flat_with_subscriptions\n",
    "FROM t1\n",
    "LEFT JOIN db1.t_citizen_id_in_flat_with_subscriptions \n",
    "    ON t1.report_date = t_citizen_id_in_flat_with_subscriptions.report_date \n",
    "    AND t1.address_uuid = t_citizen_id_in_flat_with_subscriptions.address_uuid\n",
    "LEFT JOIN db1.t_payments_amount \n",
    "    ON t1.report_date = t_payments_amount.report_date \n",
    "    AND t1.address_uuid = t_payments_amount.address_uuid\n",
    "LEFT JOIN db1.t_subscribed_citizen_id\n",
    "    ON t1.report_date = t_subscribed_citizen_id.report_date \n",
    "    AND t1.address_uuid = t_subscribed_citizen_id.address_uuid\n",
    "LEFT JOIN db1.t_activated_citizen_id\n",
    "    ON t1.report_date = t_activated_citizen_id.report_date \n",
    "    AND t1.address_uuid = t_activated_citizen_id.address_uuid\n",
    "\t\"\"\"\n",
    "ch.query_run(query_text)"
   ]
  },
  {
   "cell_type": "code",
   "execution_count": 103,
   "id": "39a5cae0",
   "metadata": {},
   "outputs": [
    {
     "data": {
      "text/html": [
       "<div><style>\n",
       ".dataframe > thead > tr,\n",
       ".dataframe > tbody > tr {\n",
       "  text-align: right;\n",
       "  white-space: pre-wrap;\n",
       "}\n",
       "</style>\n",
       "<small>shape: (10, 2)</small><table border=\"1\" class=\"dataframe\"><thead><tr><th>report_date</th><th>count()</th></tr><tr><td>date</td><td>i64</td></tr></thead><tbody><tr><td>2025-08-27</td><td>32316</td></tr><tr><td>2025-08-26</td><td>32303</td></tr><tr><td>2025-08-25</td><td>32294</td></tr><tr><td>2025-08-24</td><td>32239</td></tr><tr><td>2025-08-23</td><td>32235</td></tr><tr><td>2025-08-22</td><td>32231</td></tr><tr><td>2025-08-21</td><td>32213</td></tr><tr><td>2025-08-20</td><td>32181</td></tr><tr><td>2025-08-19</td><td>32157</td></tr><tr><td>2025-08-18</td><td>32153</td></tr></tbody></table></div>"
      ],
      "text/plain": [
       "shape: (10, 2)\n",
       "┌─────────────┬─────────┐\n",
       "│ report_date ┆ count() │\n",
       "│ ---         ┆ ---     │\n",
       "│ date        ┆ i64     │\n",
       "╞═════════════╪═════════╡\n",
       "│ 2025-08-27  ┆ 32316   │\n",
       "│ 2025-08-26  ┆ 32303   │\n",
       "│ 2025-08-25  ┆ 32294   │\n",
       "│ 2025-08-24  ┆ 32239   │\n",
       "│ 2025-08-23  ┆ 32235   │\n",
       "│ 2025-08-22  ┆ 32231   │\n",
       "│ 2025-08-21  ┆ 32213   │\n",
       "│ 2025-08-20  ┆ 32181   │\n",
       "│ 2025-08-19  ┆ 32157   │\n",
       "│ 2025-08-18  ┆ 32153   │\n",
       "└─────────────┴─────────┘"
      ]
     },
     "execution_count": 103,
     "metadata": {},
     "output_type": "execute_result"
    }
   ],
   "source": [
    "query_text = \"\"\"\n",
    "    SELECT\n",
    "        report_date,\n",
    "        count(*)\n",
    "    FROM db1.t_subscribtions_citizens_by_companies_and_cities_address_ch\n",
    "    group by report_date\n",
    "    order by\n",
    "    report_date desc\n",
    "    LIMIT 10\n",
    "\n",
    "    \"\"\"\n",
    "ch.query_run(query_text)"
   ]
  },
  {
   "cell_type": "code",
   "execution_count": 24,
   "id": "e823217d",
   "metadata": {},
   "outputs": [
    {
     "data": {
      "text/html": [
       "<div><style>\n",
       ".dataframe > thead > tr,\n",
       ".dataframe > tbody > tr {\n",
       "  text-align: right;\n",
       "  white-space: pre-wrap;\n",
       "}\n",
       "</style>\n",
       "<small>shape: (1, 2)</small><table border=\"1\" class=\"dataframe\"><thead><tr><th>elapsed_ns</th><th>query_id</th></tr><tr><td>i64</td><td>str</td></tr></thead><tbody><tr><td>767420</td><td>&quot;45e98e73-ca6c-437f-82fc-3f1e20…</td></tr></tbody></table></div>"
      ],
      "text/plain": [
       "shape: (1, 2)\n",
       "┌────────────┬─────────────────────────────────┐\n",
       "│ elapsed_ns ┆ query_id                        │\n",
       "│ ---        ┆ ---                             │\n",
       "│ i64        ┆ str                             │\n",
       "╞════════════╪═════════════════════════════════╡\n",
       "│ 767420     ┆ 45e98e73-ca6c-437f-82fc-3f1e20… │\n",
       "└────────────┴─────────────────────────────────┘"
      ]
     },
     "execution_count": 24,
     "metadata": {},
     "output_type": "execute_result"
    }
   ],
   "source": [
    "query_text = \"\"\"\n",
    "SYSTEM REFRESH VIEW db1.t_subscribtions_citizens_by_companies_and_cities_address_mv\n",
    "\"\"\"\n",
    "\n",
    "ch.query_run(query_text)"
   ]
  },
  {
   "cell_type": "code",
   "execution_count": 90,
   "id": "804763e1",
   "metadata": {},
   "outputs": [
    {
     "data": {
      "text/html": [
       "<div><style>\n",
       ".dataframe > thead > tr,\n",
       ".dataframe > tbody > tr {\n",
       "  text-align: right;\n",
       "  white-space: pre-wrap;\n",
       "}\n",
       "</style>\n",
       "<small>shape: (1, 9)</small><table border=\"1\" class=\"dataframe\"><thead><tr><th>read_rows</th><th>read_bytes</th><th>written_rows</th><th>written_bytes</th><th>total_rows_to_read</th><th>result_rows</th><th>result_bytes</th><th>elapsed_ns</th><th>query_id</th></tr><tr><td>i64</td><td>i64</td><td>i64</td><td>i64</td><td>i64</td><td>i64</td><td>i64</td><td>i64</td><td>str</td></tr></thead><tbody><tr><td>0</td><td>0</td><td>0</td><td>0</td><td>0</td><td>0</td><td>0</td><td>103057759</td><td>&quot;1f72e2d0-08ad-43c8-8159-887cf2…</td></tr></tbody></table></div>"
      ],
      "text/plain": [
       "shape: (1, 9)\n",
       "┌───────────┬───────────┬───────────┬───────────┬───┬───────────┬───────────┬───────────┬──────────┐\n",
       "│ read_rows ┆ read_byte ┆ written_r ┆ written_b ┆ … ┆ result_ro ┆ result_by ┆ elapsed_n ┆ query_id │\n",
       "│ ---       ┆ s         ┆ ows       ┆ ytes      ┆   ┆ ws        ┆ tes       ┆ s         ┆ ---      │\n",
       "│ i64       ┆ ---       ┆ ---       ┆ ---       ┆   ┆ ---       ┆ ---       ┆ ---       ┆ str      │\n",
       "│           ┆ i64       ┆ i64       ┆ i64       ┆   ┆ i64       ┆ i64       ┆ i64       ┆          │\n",
       "╞═══════════╪═══════════╪═══════════╪═══════════╪═══╪═══════════╪═══════════╪═══════════╪══════════╡\n",
       "│ 0         ┆ 0         ┆ 0         ┆ 0         ┆ … ┆ 0         ┆ 0         ┆ 103057759 ┆ 1f72e2d0 │\n",
       "│           ┆           ┆           ┆           ┆   ┆           ┆           ┆           ┆ -08ad-43 │\n",
       "│           ┆           ┆           ┆           ┆   ┆           ┆           ┆           ┆ c8-8159- │\n",
       "│           ┆           ┆           ┆           ┆   ┆           ┆           ┆           ┆ 887cf2…  │\n",
       "└───────────┴───────────┴───────────┴───────────┴───┴───────────┴───────────┴───────────┴──────────┘"
      ]
     },
     "execution_count": 90,
     "metadata": {},
     "output_type": "execute_result"
    }
   ],
   "source": [
    "query_text = \"\"\"\n",
    "    DROP TABLE db1.t_subscribtions_citizens_by_companies_and_cities_address_ch\n",
    "    \"\"\"\n",
    "ch.query_run(query_text)"
   ]
  },
  {
   "cell_type": "code",
   "execution_count": 91,
   "id": "81e980a3",
   "metadata": {},
   "outputs": [
    {
     "data": {
      "text/html": [
       "<div><style>\n",
       ".dataframe > thead > tr,\n",
       ".dataframe > tbody > tr {\n",
       "  text-align: right;\n",
       "  white-space: pre-wrap;\n",
       "}\n",
       "</style>\n",
       "<small>shape: (1, 9)</small><table border=\"1\" class=\"dataframe\"><thead><tr><th>read_rows</th><th>read_bytes</th><th>written_rows</th><th>written_bytes</th><th>total_rows_to_read</th><th>result_rows</th><th>result_bytes</th><th>elapsed_ns</th><th>query_id</th></tr><tr><td>i64</td><td>i64</td><td>i64</td><td>i64</td><td>i64</td><td>i64</td><td>i64</td><td>i64</td><td>str</td></tr></thead><tbody><tr><td>0</td><td>0</td><td>0</td><td>0</td><td>0</td><td>0</td><td>0</td><td>3292557</td><td>&quot;d644f4f7-97fb-4cea-93f2-872532…</td></tr></tbody></table></div>"
      ],
      "text/plain": [
       "shape: (1, 9)\n",
       "┌───────────┬───────────┬───────────┬───────────┬───┬───────────┬───────────┬───────────┬──────────┐\n",
       "│ read_rows ┆ read_byte ┆ written_r ┆ written_b ┆ … ┆ result_ro ┆ result_by ┆ elapsed_n ┆ query_id │\n",
       "│ ---       ┆ s         ┆ ows       ┆ ytes      ┆   ┆ ws        ┆ tes       ┆ s         ┆ ---      │\n",
       "│ i64       ┆ ---       ┆ ---       ┆ ---       ┆   ┆ ---       ┆ ---       ┆ ---       ┆ str      │\n",
       "│           ┆ i64       ┆ i64       ┆ i64       ┆   ┆ i64       ┆ i64       ┆ i64       ┆          │\n",
       "╞═══════════╪═══════════╪═══════════╪═══════════╪═══╪═══════════╪═══════════╪═══════════╪══════════╡\n",
       "│ 0         ┆ 0         ┆ 0         ┆ 0         ┆ … ┆ 0         ┆ 0         ┆ 3292557   ┆ d644f4f7 │\n",
       "│           ┆           ┆           ┆           ┆   ┆           ┆           ┆           ┆ -97fb-4c │\n",
       "│           ┆           ┆           ┆           ┆   ┆           ┆           ┆           ┆ ea-93f2- │\n",
       "│           ┆           ┆           ┆           ┆   ┆           ┆           ┆           ┆ 872532…  │\n",
       "└───────────┴───────────┴───────────┴───────────┴───┴───────────┴───────────┴───────────┴──────────┘"
      ]
     },
     "execution_count": 91,
     "metadata": {},
     "output_type": "execute_result"
    }
   ],
   "source": [
    "query_text = \"\"\"\n",
    "    DROP TABLE db1.t_subscribtions_citizens_by_companies_and_cities_address_mv\n",
    "    \"\"\"\n",
    "ch.query_run(query_text)"
   ]
  },
  {
   "cell_type": "code",
   "execution_count": null,
   "id": "a0a2b261-d2e2-4cb5-b8d3-97fc5db207d4",
   "metadata": {},
   "outputs": [],
   "source": [
    "\n",
    "\n",
    "\n",
    "\n"
   ]
  }
 ],
 "metadata": {
  "jupytext": {
   "formats": "ipynb,md"
  },
  "kernelspec": {
   "display_name": "myenv",
   "language": "python",
   "name": "python3"
  },
  "language_info": {
   "codemirror_mode": {
    "name": "ipython",
    "version": 3
   },
   "file_extension": ".py",
   "mimetype": "text/x-python",
   "name": "python",
   "nbconvert_exporter": "python",
   "pygments_lexer": "ipython3",
   "version": "3.12.11"
  }
 },
 "nbformat": 4,
 "nbformat_minor": 5
}

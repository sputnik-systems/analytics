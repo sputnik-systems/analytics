{
 "cells": [
  {
   "cell_type": "markdown",
   "id": "2379772b",
   "metadata": {},
   "source": [
    "## Start"
   ]
  },
  {
   "cell_type": "code",
   "execution_count": 1,
   "id": "494db283",
   "metadata": {},
   "outputs": [],
   "source": [
    "import clickhouse_connect\n",
    "import datetime\n",
    "import os\n",
    "import pytz\n",
    "import pandas as pd\n",
    "from dateutil.relativedelta import relativedelta\n",
    "from dotenv import load_dotenv\n",
    "\n",
    "import sys\n",
    "sys.path.append('/home/boris/Documents/Work/analytics/Clickhouse')\n",
    "from clickhouse_client import ClickHouse_client\n",
    "ch = ClickHouse_client()\n",
    "pd.set_option('display.max_rows', 1000)"
   ]
  },
  {
   "cell_type": "markdown",
   "id": "90df1d71",
   "metadata": {},
   "source": [
    "___\n",
    "## Tags: #Tables\n",
    "\n",
    "# Links:\n",
    "\n",
    "[[t_full_citizen_id_in_flat_with_subscriptions]]\n",
    "\n",
    "[[t_citizen_id_in_flat_with_subscriptions]]\n",
    "\n",
    "[[t_payments_amount]]\n",
    "\n",
    "[[t_subscribed_citizen_id]]\n",
    "\n",
    "[[t_activated_citizen_id]]"
   ]
  },
  {
   "cell_type": "code",
   "execution_count": 92,
   "id": "510874c2",
   "metadata": {},
   "outputs": [
    {
     "data": {
      "text/html": [
       "<div><style>\n",
       ".dataframe > thead > tr,\n",
       ".dataframe > tbody > tr {\n",
       "  text-align: right;\n",
       "  white-space: pre-wrap;\n",
       "}\n",
       "</style>\n",
       "<small>shape: (0, 0)</small><table border=\"1\" class=\"dataframe\"><thead><tr></tr><tr></tr></thead><tbody></tbody></table></div>"
      ],
      "text/plain": [
       "shape: (0, 0)\n",
       "┌┐\n",
       "╞╡\n",
       "└┘"
      ]
     },
     "execution_count": 92,
     "metadata": {},
     "output_type": "execute_result"
    }
   ],
   "source": [
    "query_text = \"\"\"--sql\n",
    "    CREATE TABLE db1.t_subscribtions_citizens_by_companies_and_cities_address_ch \n",
    "    (\n",
    "        `report_date` Date,\n",
    "        `city` String,\n",
    "        `full_address` String,\n",
    "        `partner_uuid` String,\n",
    "        `installation_point_id` Int64,\n",
    "        `motherboard_ids` String,\n",
    "        `address_uuid` String,\n",
    "        `company_name` String,\n",
    "        `partner_lk` String,\n",
    "        `tin` String,\n",
    "        `activated_citizen_id` UInt64,\n",
    "        `flat_uuid` UInt64,\n",
    "        `subscribed_citizen_id` UInt64,\n",
    "        `payments_amount` Int64,\n",
    "        `citizen_id_in_flat_with_subscriptions` UInt64\n",
    "    )\n",
    "    ENGINE = MergeTree()\n",
    "    ORDER BY report_date\n",
    "    \"\"\"\n",
    "ch.query_run(query_text)\n"
   ]
  },
  {
   "cell_type": "code",
   "execution_count": 93,
   "id": "8c8e3a2f",
   "metadata": {},
   "outputs": [
    {
     "data": {
      "text/html": [
       "<div><style>\n",
       ".dataframe > thead > tr,\n",
       ".dataframe > tbody > tr {\n",
       "  text-align: right;\n",
       "  white-space: pre-wrap;\n",
       "}\n",
       "</style>\n",
       "<small>shape: (0, 0)</small><table border=\"1\" class=\"dataframe\"><thead><tr></tr><tr></tr></thead><tbody></tbody></table></div>"
      ],
      "text/plain": [
       "shape: (0, 0)\n",
       "┌┐\n",
       "╞╡\n",
       "└┘"
      ]
     },
     "execution_count": 93,
     "metadata": {},
     "output_type": "execute_result"
    }
   ],
   "source": [
    "query_text = \"\"\"--sql\n",
    "CREATE MATERIALIZED VIEW db1.t_subscribtions_citizens_by_companies_and_cities_address_mv\n",
    "REFRESH EVERY 1 DAY OFFSET 5 HOUR 45 MINUTE TO db1.t_subscribtions_citizens_by_companies_and_cities_address_ch AS \n",
    "WITH t1 AS (\n",
    "    SELECT\n",
    "        report_date,\n",
    "        city,\n",
    "        full_address,\n",
    "        intercoms.partner_uuid AS partner_uuid,\n",
    "        intercoms.installation_point_id AS installation_point_id,\n",
    "        motherboard_ids,\n",
    "        address_uuid,\n",
    "        company_name, \n",
    "        partner_lk,\n",
    "        tin\n",
    "    FROM (\n",
    "        SELECT\n",
    "            report_date,\n",
    "            installation_point_id,\n",
    "            partner_uuid,\n",
    "            arrayStringConcat(groupArray(motherboard_id), ',') AS motherboard_ids\n",
    "        FROM db1.intercoms_st_partner_ch\n",
    "        LEFT JOIN db1.intercoms_dir_asgard_ch \n",
    "            ON intercoms_st_partner_ch.intercom_uuid = intercoms_dir_asgard_ch.intercom_uuid\n",
    "        WHERE installation_point_id != 0\n",
    "        GROUP BY report_date, installation_point_id, partner_uuid\n",
    "    ) AS intercoms\n",
    "    LEFT JOIN db1.entries_installation_points_dir_partner_ch AS eipdp  \n",
    "        ON intercoms.installation_point_id = eipdp.installation_point_id\n",
    "    LEFT JOIN db1.companies_dir_partner AS cdp\n",
    "        ON intercoms.partner_uuid = cdp.partner_uuid\n",
    ")\n",
    "SELECT\n",
    "    t1.report_date AS report_date,\n",
    "    city,\n",
    "    full_address,\n",
    "    partner_uuid,\n",
    "    installation_point_id,\n",
    "    motherboard_ids,\n",
    "    t1.address_uuid AS address_uuid,\n",
    "    company_name, \n",
    "    partner_lk,\n",
    "    tin,\n",
    "    activated_citizen_id,\n",
    "    flat_uuid,\n",
    "    subscribed_citizen_id,\n",
    "    payments_amount,\n",
    "    citizen_id_in_flat_with_subscriptions\n",
    "FROM t1\n",
    "LEFT JOIN db1.t_citizen_id_in_flat_with_subscriptions \n",
    "    ON t1.report_date = t_citizen_id_in_flat_with_subscriptions.report_date \n",
    "    AND t1.address_uuid = t_citizen_id_in_flat_with_subscriptions.address_uuid\n",
    "LEFT JOIN db1.t_payments_amount \n",
    "    ON t1.report_date = t_payments_amount.report_date \n",
    "    AND t1.address_uuid = t_payments_amount.address_uuid\n",
    "LEFT JOIN db1.t_subscribed_citizen_id\n",
    "    ON t1.report_date = t_subscribed_citizen_id.report_date \n",
    "    AND t1.address_uuid = t_subscribed_citizen_id.address_uuid\n",
    "LEFT JOIN db1.t_activated_citizen_id\n",
    "    ON t1.report_date = t_activated_citizen_id.report_date \n",
    "    AND t1.address_uuid = t_activated_citizen_id.address_uuid\n",
    "\t\"\"\"\n",
    "ch.query_run(query_text)"
   ]
  },
  {
   "cell_type": "code",
   "execution_count": 3,
   "id": "39a5cae0",
   "metadata": {},
   "outputs": [
    {
     "data": {
      "text/html": [
       "<div><style>\n",
       ".dataframe > thead > tr,\n",
       ".dataframe > tbody > tr {\n",
       "  text-align: right;\n",
       "  white-space: pre-wrap;\n",
       "}\n",
       "</style>\n",
       "<small>shape: (10, 2)</small><table border=\"1\" class=\"dataframe\"><thead><tr><th>report_date</th><th>count()</th></tr><tr><td>date</td><td>i64</td></tr></thead><tbody><tr><td>2025-09-07</td><td>32488</td></tr><tr><td>2025-09-06</td><td>32489</td></tr><tr><td>2025-09-05</td><td>32485</td></tr><tr><td>2025-09-04</td><td>32456</td></tr><tr><td>2025-09-03</td><td>32446</td></tr><tr><td>2025-09-02</td><td>32426</td></tr><tr><td>2025-09-01</td><td>32396</td></tr><tr><td>2025-08-31</td><td>32373</td></tr><tr><td>2025-08-30</td><td>32372</td></tr><tr><td>2025-08-29</td><td>32372</td></tr></tbody></table></div>"
      ],
      "text/plain": [
       "shape: (10, 2)\n",
       "┌─────────────┬─────────┐\n",
       "│ report_date ┆ count() │\n",
       "│ ---         ┆ ---     │\n",
       "│ date        ┆ i64     │\n",
       "╞═════════════╪═════════╡\n",
       "│ 2025-09-07  ┆ 32488   │\n",
       "│ 2025-09-06  ┆ 32489   │\n",
       "│ 2025-09-05  ┆ 32485   │\n",
       "│ 2025-09-04  ┆ 32456   │\n",
       "│ 2025-09-03  ┆ 32446   │\n",
       "│ 2025-09-02  ┆ 32426   │\n",
       "│ 2025-09-01  ┆ 32396   │\n",
       "│ 2025-08-31  ┆ 32373   │\n",
       "│ 2025-08-30  ┆ 32372   │\n",
       "│ 2025-08-29  ┆ 32372   │\n",
       "└─────────────┴─────────┘"
      ]
     },
     "execution_count": 3,
     "metadata": {},
     "output_type": "execute_result"
    }
   ],
   "source": [
    "query_text = \"\"\"\n",
    "    SELECT\n",
    "        report_date,\n",
    "        count(*)\n",
    "    FROM db1.t_subscribtions_citizens_by_companies_and_cities_address_ch\n",
    "    group by report_date\n",
    "    order by\n",
    "    report_date desc\n",
    "    LIMIT 10\n",
    "\n",
    "    \"\"\"\n",
    "ch.query_run(query_text)"
   ]
  },
  {
   "cell_type": "code",
   "execution_count": 4,
   "id": "3573b70a",
   "metadata": {},
   "outputs": [
    {
     "data": {
      "text/html": [
       "<div><style>\n",
       ".dataframe > thead > tr,\n",
       ".dataframe > tbody > tr {\n",
       "  text-align: right;\n",
       "  white-space: pre-wrap;\n",
       "}\n",
       "</style>\n",
       "<small>shape: (10, 2)</small><table border=\"1\" class=\"dataframe\"><thead><tr><th>report_date</th><th>sum(activated_citizen_id)</th></tr><tr><td>date</td><td>i64</td></tr></thead><tbody><tr><td>2025-09-07</td><td>0</td></tr><tr><td>2025-09-06</td><td>0</td></tr><tr><td>2025-09-05</td><td>0</td></tr><tr><td>2025-09-04</td><td>0</td></tr><tr><td>2025-09-03</td><td>0</td></tr><tr><td>2025-09-02</td><td>0</td></tr><tr><td>2025-09-01</td><td>0</td></tr><tr><td>2025-08-31</td><td>1367182</td></tr><tr><td>2025-08-30</td><td>1366164</td></tr><tr><td>2025-08-29</td><td>1365237</td></tr></tbody></table></div>"
      ],
      "text/plain": [
       "shape: (10, 2)\n",
       "┌─────────────┬───────────────────────────┐\n",
       "│ report_date ┆ sum(activated_citizen_id) │\n",
       "│ ---         ┆ ---                       │\n",
       "│ date        ┆ i64                       │\n",
       "╞═════════════╪═══════════════════════════╡\n",
       "│ 2025-09-07  ┆ 0                         │\n",
       "│ 2025-09-06  ┆ 0                         │\n",
       "│ 2025-09-05  ┆ 0                         │\n",
       "│ 2025-09-04  ┆ 0                         │\n",
       "│ 2025-09-03  ┆ 0                         │\n",
       "│ 2025-09-02  ┆ 0                         │\n",
       "│ 2025-09-01  ┆ 0                         │\n",
       "│ 2025-08-31  ┆ 1367182                   │\n",
       "│ 2025-08-30  ┆ 1366164                   │\n",
       "│ 2025-08-29  ┆ 1365237                   │\n",
       "└─────────────┴───────────────────────────┘"
      ]
     },
     "execution_count": 4,
     "metadata": {},
     "output_type": "execute_result"
    }
   ],
   "source": [
    "query_text = \"\"\"\n",
    "    SELECT\n",
    "        report_date,\n",
    "        sum(activated_citizen_id)\n",
    "    FROM db1.t_subscribtions_citizens_by_companies_and_cities_address_ch\n",
    "    group by report_date\n",
    "    order by\n",
    "    report_date desc\n",
    "    LIMIT 10\n",
    "\n",
    "    \"\"\"\n",
    "ch.query_run(query_text)"
   ]
  },
  {
   "cell_type": "code",
   "execution_count": 2,
   "id": "e823217d",
   "metadata": {},
   "outputs": [
    {
     "data": {
      "text/html": [
       "<div><style>\n",
       ".dataframe > thead > tr,\n",
       ".dataframe > tbody > tr {\n",
       "  text-align: right;\n",
       "  white-space: pre-wrap;\n",
       "}\n",
       "</style>\n",
       "<small>shape: (1, 9)</small><table border=\"1\" class=\"dataframe\"><thead><tr><th>read_rows</th><th>read_bytes</th><th>written_rows</th><th>written_bytes</th><th>total_rows_to_read</th><th>result_rows</th><th>result_bytes</th><th>elapsed_ns</th><th>query_id</th></tr><tr><td>i64</td><td>i64</td><td>i64</td><td>i64</td><td>i64</td><td>i64</td><td>i64</td><td>i64</td><td>str</td></tr></thead><tbody><tr><td>0</td><td>0</td><td>0</td><td>0</td><td>0</td><td>0</td><td>0</td><td>885090</td><td>&quot;19c49245-3dc5-4f2a-8a43-596484…</td></tr></tbody></table></div>"
      ],
      "text/plain": [
       "shape: (1, 9)\n",
       "┌───────────┬───────────┬───────────┬───────────┬───┬───────────┬───────────┬───────────┬──────────┐\n",
       "│ read_rows ┆ read_byte ┆ written_r ┆ written_b ┆ … ┆ result_ro ┆ result_by ┆ elapsed_n ┆ query_id │\n",
       "│ ---       ┆ s         ┆ ows       ┆ ytes      ┆   ┆ ws        ┆ tes       ┆ s         ┆ ---      │\n",
       "│ i64       ┆ ---       ┆ ---       ┆ ---       ┆   ┆ ---       ┆ ---       ┆ ---       ┆ str      │\n",
       "│           ┆ i64       ┆ i64       ┆ i64       ┆   ┆ i64       ┆ i64       ┆ i64       ┆          │\n",
       "╞═══════════╪═══════════╪═══════════╪═══════════╪═══╪═══════════╪═══════════╪═══════════╪══════════╡\n",
       "│ 0         ┆ 0         ┆ 0         ┆ 0         ┆ … ┆ 0         ┆ 0         ┆ 885090    ┆ 19c49245 │\n",
       "│           ┆           ┆           ┆           ┆   ┆           ┆           ┆           ┆ -3dc5-4f │\n",
       "│           ┆           ┆           ┆           ┆   ┆           ┆           ┆           ┆ 2a-8a43- │\n",
       "│           ┆           ┆           ┆           ┆   ┆           ┆           ┆           ┆ 596484…  │\n",
       "└───────────┴───────────┴───────────┴───────────┴───┴───────────┴───────────┴───────────┴──────────┘"
      ]
     },
     "execution_count": 2,
     "metadata": {},
     "output_type": "execute_result"
    }
   ],
   "source": [
    "query_text = \"\"\"\n",
    "SYSTEM REFRESH VIEW db1.t_subscribtions_citizens_by_companies_and_cities_address_mv\n",
    "\"\"\"\n",
    "\n",
    "ch.query_run(query_text)"
   ]
  },
  {
   "cell_type": "code",
   "execution_count": 90,
   "id": "804763e1",
   "metadata": {},
   "outputs": [
    {
     "data": {
      "text/html": [
       "<div><style>\n",
       ".dataframe > thead > tr,\n",
       ".dataframe > tbody > tr {\n",
       "  text-align: right;\n",
       "  white-space: pre-wrap;\n",
       "}\n",
       "</style>\n",
       "<small>shape: (1, 9)</small><table border=\"1\" class=\"dataframe\"><thead><tr><th>read_rows</th><th>read_bytes</th><th>written_rows</th><th>written_bytes</th><th>total_rows_to_read</th><th>result_rows</th><th>result_bytes</th><th>elapsed_ns</th><th>query_id</th></tr><tr><td>i64</td><td>i64</td><td>i64</td><td>i64</td><td>i64</td><td>i64</td><td>i64</td><td>i64</td><td>str</td></tr></thead><tbody><tr><td>0</td><td>0</td><td>0</td><td>0</td><td>0</td><td>0</td><td>0</td><td>103057759</td><td>&quot;1f72e2d0-08ad-43c8-8159-887cf2…</td></tr></tbody></table></div>"
      ],
      "text/plain": [
       "shape: (1, 9)\n",
       "┌───────────┬───────────┬───────────┬───────────┬───┬───────────┬───────────┬───────────┬──────────┐\n",
       "│ read_rows ┆ read_byte ┆ written_r ┆ written_b ┆ … ┆ result_ro ┆ result_by ┆ elapsed_n ┆ query_id │\n",
       "│ ---       ┆ s         ┆ ows       ┆ ytes      ┆   ┆ ws        ┆ tes       ┆ s         ┆ ---      │\n",
       "│ i64       ┆ ---       ┆ ---       ┆ ---       ┆   ┆ ---       ┆ ---       ┆ ---       ┆ str      │\n",
       "│           ┆ i64       ┆ i64       ┆ i64       ┆   ┆ i64       ┆ i64       ┆ i64       ┆          │\n",
       "╞═══════════╪═══════════╪═══════════╪═══════════╪═══╪═══════════╪═══════════╪═══════════╪══════════╡\n",
       "│ 0         ┆ 0         ┆ 0         ┆ 0         ┆ … ┆ 0         ┆ 0         ┆ 103057759 ┆ 1f72e2d0 │\n",
       "│           ┆           ┆           ┆           ┆   ┆           ┆           ┆           ┆ -08ad-43 │\n",
       "│           ┆           ┆           ┆           ┆   ┆           ┆           ┆           ┆ c8-8159- │\n",
       "│           ┆           ┆           ┆           ┆   ┆           ┆           ┆           ┆ 887cf2…  │\n",
       "└───────────┴───────────┴───────────┴───────────┴───┴───────────┴───────────┴───────────┴──────────┘"
      ]
     },
     "execution_count": 90,
     "metadata": {},
     "output_type": "execute_result"
    }
   ],
   "source": [
    "query_text = \"\"\"\n",
    "    DROP TABLE db1.t_subscribtions_citizens_by_companies_and_cities_address_ch\n",
    "    \"\"\"\n",
    "ch.query_run(query_text)"
   ]
  },
  {
   "cell_type": "code",
   "execution_count": 91,
   "id": "81e980a3",
   "metadata": {},
   "outputs": [
    {
     "data": {
      "text/html": [
       "<div><style>\n",
       ".dataframe > thead > tr,\n",
       ".dataframe > tbody > tr {\n",
       "  text-align: right;\n",
       "  white-space: pre-wrap;\n",
       "}\n",
       "</style>\n",
       "<small>shape: (1, 9)</small><table border=\"1\" class=\"dataframe\"><thead><tr><th>read_rows</th><th>read_bytes</th><th>written_rows</th><th>written_bytes</th><th>total_rows_to_read</th><th>result_rows</th><th>result_bytes</th><th>elapsed_ns</th><th>query_id</th></tr><tr><td>i64</td><td>i64</td><td>i64</td><td>i64</td><td>i64</td><td>i64</td><td>i64</td><td>i64</td><td>str</td></tr></thead><tbody><tr><td>0</td><td>0</td><td>0</td><td>0</td><td>0</td><td>0</td><td>0</td><td>3292557</td><td>&quot;d644f4f7-97fb-4cea-93f2-872532…</td></tr></tbody></table></div>"
      ],
      "text/plain": [
       "shape: (1, 9)\n",
       "┌───────────┬───────────┬───────────┬───────────┬───┬───────────┬───────────┬───────────┬──────────┐\n",
       "│ read_rows ┆ read_byte ┆ written_r ┆ written_b ┆ … ┆ result_ro ┆ result_by ┆ elapsed_n ┆ query_id │\n",
       "│ ---       ┆ s         ┆ ows       ┆ ytes      ┆   ┆ ws        ┆ tes       ┆ s         ┆ ---      │\n",
       "│ i64       ┆ ---       ┆ ---       ┆ ---       ┆   ┆ ---       ┆ ---       ┆ ---       ┆ str      │\n",
       "│           ┆ i64       ┆ i64       ┆ i64       ┆   ┆ i64       ┆ i64       ┆ i64       ┆          │\n",
       "╞═══════════╪═══════════╪═══════════╪═══════════╪═══╪═══════════╪═══════════╪═══════════╪══════════╡\n",
       "│ 0         ┆ 0         ┆ 0         ┆ 0         ┆ … ┆ 0         ┆ 0         ┆ 3292557   ┆ d644f4f7 │\n",
       "│           ┆           ┆           ┆           ┆   ┆           ┆           ┆           ┆ -97fb-4c │\n",
       "│           ┆           ┆           ┆           ┆   ┆           ┆           ┆           ┆ ea-93f2- │\n",
       "│           ┆           ┆           ┆           ┆   ┆           ┆           ┆           ┆ 872532…  │\n",
       "└───────────┴───────────┴───────────┴───────────┴───┴───────────┴───────────┴───────────┴──────────┘"
      ]
     },
     "execution_count": 91,
     "metadata": {},
     "output_type": "execute_result"
    }
   ],
   "source": [
    "query_text = \"\"\"\n",
    "    DROP TABLE db1.t_subscribtions_citizens_by_companies_and_cities_address_mv\n",
    "    \"\"\"\n",
    "ch.query_run(query_text)"
   ]
  }
 ],
 "metadata": {
  "jupytext": {
   "formats": "ipynb,md"
  },
  "kernelspec": {
   "display_name": "myenv",
   "language": "python",
   "name": "python3"
  },
  "language_info": {
   "codemirror_mode": {
    "name": "ipython",
    "version": 3
   },
   "file_extension": ".py",
   "mimetype": "text/x-python",
   "name": "python",
   "nbconvert_exporter": "python",
   "pygments_lexer": "ipython3",
   "version": "3.12.11"
  }
 },
 "nbformat": 4,
 "nbformat_minor": 5
}

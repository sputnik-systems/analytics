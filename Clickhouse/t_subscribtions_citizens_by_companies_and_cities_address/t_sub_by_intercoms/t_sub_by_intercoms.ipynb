{
 "cells": [
  {
   "cell_type": "markdown",
   "id": "2379772b",
   "metadata": {},
   "source": [
    "## Start"
   ]
  },
  {
   "cell_type": "code",
   "execution_count": 1,
   "id": "494db283",
   "metadata": {},
   "outputs": [],
   "source": [
    "import clickhouse_connect\n",
    "import datetime\n",
    "import os\n",
    "import pytz\n",
    "import pandas as pd\n",
    "from dateutil.relativedelta import relativedelta\n",
    "from dotenv import load_dotenv\n",
    "\n",
    "import sys\n",
    "sys.path.append('/home/boris/Documents/Work/analytics/Clickhouse')\n",
    "from clickhouse_client import ClickHouse_client\n",
    "ch = ClickHouse_client()\n",
    "pd.set_option('display.max_rows', 1000)"
   ]
  },
  {
   "cell_type": "markdown",
   "id": "90df1d71",
   "metadata": {},
   "source": [
    "___\n",
    "## Tags: #Tables\n",
    "\n",
    "# Links:\n",
    "\n",
    "[[citizens_st_mobile]]\n",
    "\n",
    "[[subscriptions_st_mobile]]\n",
    "\n",
    "[[entries_installation_points_dir_partner]]\n",
    "\n",
    "[[installation_point_st_partner]]\n",
    "\n",
    "[[citizen_payments_st_mobile]]\n",
    "\n",
    "[[intercoms_st_partner]]"
   ]
  },
  {
   "cell_type": "code",
   "execution_count": 2,
   "id": "83fc3cf8",
   "metadata": {},
   "outputs": [
    {
     "name": "stdout",
     "output_type": "stream",
     "text": [
      "(\n",
      "    `report_date` Date,\n",
      "    `intercom_uuid` String,\n",
      "    `activated_citizen_id` UInt64,\n",
      "    `subscribed_citizen_id` UInt64,\n",
      "    `flat_uuid` UInt64\n",
      ")\n"
     ]
    }
   ],
   "source": [
    "query_text = \"\"\"--sql\n",
    "WITH citizens_st_mobile AS(\n",
    "\tSELECT\n",
    "\t\treport_date,\n",
    "\t\tcitizen_id,\n",
    "\t\taddress_uuid,\n",
    "\t\tflat_uuid,\n",
    "\t\tstate\n",
    "\tFROM db1.`citizens_st_mobile_ch` \n",
    "\tWHERE `state` = 'activated'\n",
    "\t\tand report_date = yesterday()\n",
    "\t),\n",
    "\tsubscriptions_st_mobile AS(\n",
    "\tSELECT \n",
    "\t\treport_date,\n",
    "\t\tcitizen_id,\n",
    "\t\tstate\n",
    "\tFROM db1.subscriptions_st_mobile_ch\n",
    "\tWHERE state = 'activated'\n",
    "\t\tand report_date = yesterday()\n",
    "\t),\n",
    "\tinstallation_point_st AS (\n",
    "\tSELECT \n",
    "\t\treport_date,\n",
    "\t\tinstallation_point_id\n",
    "\tFROM db1.installation_point_st_partner_ch\n",
    "\tWHERE report_date= yesterday()\n",
    "\t),\n",
    "\tintercoms_st_partner AS (\n",
    "\tSELECT\n",
    "\t\treport_date,\n",
    "\t\tintercom_uuid,\n",
    "\t\tpartner_uuid,\n",
    "\t\tinstallation_point_id\n",
    "\tFROM db1.intercoms_st_partner_ch \n",
    "\tWHERE report_date = yesterday()\n",
    "\t)\n",
    "\tSELECT\n",
    "\t\tcitizens_st_mobile.report_date AS report_date,\n",
    "\t\tintercoms_st_partner.intercom_uuid AS intercom_uuid,\n",
    "\t\tCOUNT(DISTINCT if(citizens_st_mobile.citizen_id !=0, citizens_st_mobile.citizen_id ,Null)) as activated_citizen_id,\t\n",
    "\t\tCOUNT(DISTINCT if(subscriptions_st_mobile.citizen_id !=0, subscriptions_st_mobile.citizen_id ,Null)) as subscribed_citizen_id,\t\n",
    "\t\tCOUNT(DISTINCT if(citizens_st_mobile.flat_uuid !='', citizens_st_mobile.flat_uuid ,Null)) as flat_uuid\n",
    "\tFROM citizens_st_mobile\n",
    "\tLEFT JOIN  subscriptions_st_mobile\n",
    "\t\t\tON citizens_st_mobile.`citizen_id` = subscriptions_st_mobile.`citizen_id`\n",
    "\t\t\tAND citizens_st_mobile.`report_date` = subscriptions_st_mobile.`report_date`\n",
    "\tLEFT JOIN db1.`entries_installation_points_dir_partner_ch` AS entries_installation_points \n",
    "\t\t\tON citizens_st_mobile.`address_uuid` = entries_installation_points.`address_uuid`\n",
    "\tLEFT JOIN installation_point_st\n",
    "\t\t\tON entries_installation_points.`installation_point_id` = installation_point_st.`installation_point_id`\n",
    "\t\t\tAND installation_point_st.`report_date` = citizens_st_mobile.`report_date`\n",
    "\tLEFT JOIN intercoms_st_partner \n",
    "\t\t\tON intercoms_st_partner.installation_point_id = installation_point_st.installation_point_id \n",
    "\t\t\tAND intercoms_st_partner.report_date = citizens_st_mobile.report_date \n",
    "\tLEFT JOIN  db1.intercoms_dir_asgard_ch AS intercoms_dir_asgard\n",
    "\t\t\tON intercoms_dir_asgard.intercom_uuid = intercoms_st_partner.intercom_uuid\n",
    "\tLEFT JOIN db1.companies_dir_partner_ch AS companies_dir_partner \n",
    "\t\t\tON companies_dir_partner.partner_uuid = intercoms_st_partner.partner_uuid\n",
    "\tGROUP BY report_date,\n",
    "\t\t\tintercom_uuid\n",
    "    LIMIT 10\n",
    "\t\n",
    "    \"\"\"\n",
    "ch.get_schema(query_text)\n"
   ]
  },
  {
   "cell_type": "code",
   "execution_count": 3,
   "id": "510874c2",
   "metadata": {},
   "outputs": [
    {
     "data": {
      "text/html": [
       "<div><style>\n",
       ".dataframe > thead > tr,\n",
       ".dataframe > tbody > tr {\n",
       "  text-align: right;\n",
       "  white-space: pre-wrap;\n",
       "}\n",
       "</style>\n",
       "<small>shape: (0, 0)</small><table border=\"1\" class=\"dataframe\"><thead><tr></tr><tr></tr></thead><tbody></tbody></table></div>"
      ],
      "text/plain": [
       "shape: (0, 0)\n",
       "┌┐\n",
       "╞╡\n",
       "└┘"
      ]
     },
     "execution_count": 3,
     "metadata": {},
     "output_type": "execute_result"
    }
   ],
   "source": [
    "query_text = \"\"\"--sql\n",
    "    CREATE TABLE db1.t_sub_by_intercoms \n",
    "    (\n",
    "        `report_date` Date,\n",
    "        `intercom_uuid` String,\n",
    "        `activated_citizen_id` UInt64,\n",
    "        `subscribed_citizen_id` UInt64,\n",
    "        `flat_uuid` UInt64\n",
    "    )\n",
    "    ENGINE = MergeTree()\n",
    "    ORDER BY intercom_uuid\n",
    "    \"\"\"\n",
    "ch.query_run(query_text)\n"
   ]
  },
  {
   "cell_type": "markdown",
   "id": "da904faa",
   "metadata": {},
   "source": [
    "___"
   ]
  },
  {
   "cell_type": "code",
   "execution_count": 13,
   "id": "e4c6f569",
   "metadata": {},
   "outputs": [
    {
     "data": {
      "text/html": [
       "<div><style>\n",
       ".dataframe > thead > tr,\n",
       ".dataframe > tbody > tr {\n",
       "  text-align: right;\n",
       "  white-space: pre-wrap;\n",
       "}\n",
       "</style>\n",
       "<small>shape: (0, 0)</small><table border=\"1\" class=\"dataframe\"><thead><tr></tr><tr></tr></thead><tbody></tbody></table></div>"
      ],
      "text/plain": [
       "shape: (0, 0)\n",
       "┌┐\n",
       "╞╡\n",
       "└┘"
      ]
     },
     "execution_count": 13,
     "metadata": {},
     "output_type": "execute_result"
    }
   ],
   "source": [
    "query_text = \"\"\"--sql\n",
    "CREATE MATERIALIZED VIEW db1.t_sub_by_intercoms_mv\n",
    "REFRESH EVERY 1 DAY OFFSET 5 HOUR 27 MINUTE TO db1.t_sub_by_intercoms AS \n",
    "WITH citizens_st_mobile AS(\n",
    "\tSELECT\n",
    "\t\treport_date,\n",
    "\t\tcitizen_id,\n",
    "\t\taddress_uuid,\n",
    "\t\tflat_uuid,\n",
    "\t\tstate\n",
    "\tFROM db1.`citizens_st_mobile_ch` \n",
    "\tWHERE `state` = 'activated'\n",
    "\t),\n",
    "\tsubscriptions_st_mobile AS(\n",
    "\tSELECT \n",
    "\t\treport_date,\n",
    "\t\tcitizen_id,\n",
    "\t\tstate\n",
    "\tFROM db1.subscriptions_st_mobile_ch\n",
    "\tWHERE state = 'activated'\n",
    "\t),\n",
    "\tinstallation_point_st AS (\n",
    "\tSELECT \n",
    "\t\treport_date,\n",
    "\t\tinstallation_point_id\n",
    "\tFROM db1.installation_point_st_partner_ch\n",
    "\t),\n",
    "\tintercoms_st_partner AS (\n",
    "\tSELECT\n",
    "\t\treport_date,\n",
    "\t\tintercom_uuid,\n",
    "\t\tpartner_uuid,\n",
    "\t\tinstallation_point_id\n",
    "\tFROM db1.intercoms_st_partner_ch \n",
    "\t)\n",
    "\tSELECT\n",
    "\t\tcitizens_st_mobile.report_date AS report_date,\n",
    "\t\tintercoms_st_partner.intercom_uuid AS intercom_uuid,\n",
    "\t\tCOUNT(DISTINCT if(citizens_st_mobile.citizen_id !=0, citizens_st_mobile.citizen_id ,Null)) as activated_citizen_id,\t\n",
    "\t\tCOUNT(DISTINCT if(subscriptions_st_mobile.citizen_id !=0, subscriptions_st_mobile.citizen_id ,Null)) as subscribed_citizen_id,\t\n",
    "\t\tCOUNT(DISTINCT if(citizens_st_mobile.flat_uuid !='', citizens_st_mobile.flat_uuid ,Null)) as flat_uuid\n",
    "\tFROM citizens_st_mobile\n",
    "\tLEFT JOIN  subscriptions_st_mobile\n",
    "\t\t\tON citizens_st_mobile.`citizen_id` = subscriptions_st_mobile.`citizen_id`\n",
    "\t\t\tAND citizens_st_mobile.`report_date` = subscriptions_st_mobile.`report_date`\n",
    "\tLEFT JOIN db1.`entries_installation_points_dir_partner_ch` AS entries_installation_points \n",
    "\t\t\tON citizens_st_mobile.`address_uuid` = entries_installation_points.`address_uuid`\n",
    "\tLEFT JOIN installation_point_st\n",
    "\t\t\tON entries_installation_points.`installation_point_id` = installation_point_st.`installation_point_id`\n",
    "\t\t\tAND installation_point_st.`report_date` = citizens_st_mobile.`report_date`\n",
    "\tLEFT JOIN intercoms_st_partner \n",
    "\t\t\tON intercoms_st_partner.installation_point_id = installation_point_st.installation_point_id \n",
    "\t\t\tAND intercoms_st_partner.report_date = citizens_st_mobile.report_date \n",
    "\tLEFT JOIN  db1.intercoms_dir_asgard_ch AS intercoms_dir_asgard\n",
    "\t\t\tON intercoms_dir_asgard.intercom_uuid = intercoms_st_partner.intercom_uuid\n",
    "\tLEFT JOIN db1.companies_dir_partner_ch AS companies_dir_partner \n",
    "\t\t\tON companies_dir_partner.partner_uuid = intercoms_st_partner.partner_uuid\n",
    "\tGROUP BY report_date,\n",
    "\t\t\tintercom_uuid\n",
    "\tSETTINGS join_algorithm = 'partial_merge'\n",
    "\t\n",
    "\t\"\"\"\n",
    "ch.query_run(query_text)"
   ]
  },
  {
   "cell_type": "markdown",
   "id": "29588cf2",
   "metadata": {},
   "source": [
    "___\n",
    "## Tools\n",
    "___\n",
    "### query\n"
   ]
  },
  {
   "cell_type": "code",
   "execution_count": 9,
   "id": "b202c94e",
   "metadata": {},
   "outputs": [
    {
     "data": {
      "text/html": [
       "<div><style>\n",
       ".dataframe > thead > tr,\n",
       ".dataframe > tbody > tr {\n",
       "  text-align: right;\n",
       "  white-space: pre-wrap;\n",
       "}\n",
       "</style>\n",
       "<small>shape: (10, 5)</small><table border=\"1\" class=\"dataframe\"><thead><tr><th>report_date</th><th>intercom_uuid</th><th>activated_citizen_id</th><th>subscribed_citizen_id</th><th>flat_uuid</th></tr><tr><td>date</td><td>str</td><td>i64</td><td>i64</td><td>i64</td></tr></thead><tbody><tr><td>2025-08-21</td><td>&quot;&quot;</td><td>113581</td><td>74</td><td>58516</td></tr><tr><td>2025-08-21</td><td>&quot;00027edc-553c-44d0-82cb-a1f8b0…</td><td>44</td><td>7</td><td>22</td></tr><tr><td>2025-08-21</td><td>&quot;00034f73-7f18-4c4b-b900-058906…</td><td>58</td><td>0</td><td>30</td></tr><tr><td>2025-08-21</td><td>&quot;0003a4e4-5e72-4865-bd9c-9ecd7d…</td><td>42</td><td>1</td><td>17</td></tr><tr><td>2025-08-21</td><td>&quot;0003b15e-5a71-4b3b-a59c-8b538d…</td><td>72</td><td>0</td><td>31</td></tr><tr><td>2025-08-21</td><td>&quot;0008ff22-a6cf-4428-aace-4b127f…</td><td>393</td><td>0</td><td>201</td></tr><tr><td>2025-08-21</td><td>&quot;00090f57-e55d-4f99-be8e-91fda7…</td><td>12</td><td>1</td><td>8</td></tr><tr><td>2025-08-21</td><td>&quot;000adcd6-05cd-43a8-a3d0-4a4822…</td><td>79</td><td>0</td><td>51</td></tr><tr><td>2025-08-21</td><td>&quot;000d3949-7b25-4b78-a53b-2e70cb…</td><td>142</td><td>14</td><td>90</td></tr><tr><td>2025-08-21</td><td>&quot;000efb49-d30f-4cc1-a13d-44068e…</td><td>22</td><td>0</td><td>11</td></tr></tbody></table></div>"
      ],
      "text/plain": [
       "shape: (10, 5)\n",
       "┌─────────────┬─────────────────────────┬──────────────────────┬───────────────────────┬───────────┐\n",
       "│ report_date ┆ intercom_uuid           ┆ activated_citizen_id ┆ subscribed_citizen_id ┆ flat_uuid │\n",
       "│ ---         ┆ ---                     ┆ ---                  ┆ ---                   ┆ ---       │\n",
       "│ date        ┆ str                     ┆ i64                  ┆ i64                   ┆ i64       │\n",
       "╞═════════════╪═════════════════════════╪══════════════════════╪═══════════════════════╪═══════════╡\n",
       "│ 2025-08-21  ┆                         ┆ 113581               ┆ 74                    ┆ 58516     │\n",
       "│ 2025-08-21  ┆ 00027edc-553c-44d0-82cb ┆ 44                   ┆ 7                     ┆ 22        │\n",
       "│             ┆ -a1f8b0…                ┆                      ┆                       ┆           │\n",
       "│ 2025-08-21  ┆ 00034f73-7f18-4c4b-b900 ┆ 58                   ┆ 0                     ┆ 30        │\n",
       "│             ┆ -058906…                ┆                      ┆                       ┆           │\n",
       "│ 2025-08-21  ┆ 0003a4e4-5e72-4865-bd9c ┆ 42                   ┆ 1                     ┆ 17        │\n",
       "│             ┆ -9ecd7d…                ┆                      ┆                       ┆           │\n",
       "│ 2025-08-21  ┆ 0003b15e-5a71-4b3b-a59c ┆ 72                   ┆ 0                     ┆ 31        │\n",
       "│             ┆ -8b538d…                ┆                      ┆                       ┆           │\n",
       "│ 2025-08-21  ┆ 0008ff22-a6cf-4428-aace ┆ 393                  ┆ 0                     ┆ 201       │\n",
       "│             ┆ -4b127f…                ┆                      ┆                       ┆           │\n",
       "│ 2025-08-21  ┆ 00090f57-e55d-4f99-be8e ┆ 12                   ┆ 1                     ┆ 8         │\n",
       "│             ┆ -91fda7…                ┆                      ┆                       ┆           │\n",
       "│ 2025-08-21  ┆ 000adcd6-05cd-43a8-a3d0 ┆ 79                   ┆ 0                     ┆ 51        │\n",
       "│             ┆ -4a4822…                ┆                      ┆                       ┆           │\n",
       "│ 2025-08-21  ┆ 000d3949-7b25-4b78-a53b ┆ 142                  ┆ 14                    ┆ 90        │\n",
       "│             ┆ -2e70cb…                ┆                      ┆                       ┆           │\n",
       "│ 2025-08-21  ┆ 000efb49-d30f-4cc1-a13d ┆ 22                   ┆ 0                     ┆ 11        │\n",
       "│             ┆ -44068e…                ┆                      ┆                       ┆           │\n",
       "└─────────────┴─────────────────────────┴──────────────────────┴───────────────────────┴───────────┘"
      ]
     },
     "execution_count": 9,
     "metadata": {},
     "output_type": "execute_result"
    }
   ],
   "source": [
    "query_text = \"\"\"--sql\n",
    "    SELECT\n",
    "        *\n",
    "    FROM db1.t_sub_by_intercoms\n",
    "    limit 10\n",
    "    \"\"\"\n",
    "\n",
    "ch.query_run(query_text)\n"
   ]
  },
  {
   "cell_type": "markdown",
   "id": "417f8348",
   "metadata": {},
   "source": [
    "### delete a part\n"
   ]
  },
  {
   "cell_type": "code",
   "execution_count": null,
   "id": "8dda9c69",
   "metadata": {},
   "outputs": [],
   "source": [
    "query_text = \"\"\"--sql\n",
    "    ALTER TABLE db1.t_sub_by_intercoms DELETE WHERE report_date = '2025-07-17'\n",
    "    \"\"\"\n",
    "\n",
    "ch.query_run(query_text)\n"
   ]
  },
  {
   "cell_type": "markdown",
   "id": "5c9ca701",
   "metadata": {},
   "source": [
    "### drop mv"
   ]
  },
  {
   "cell_type": "code",
   "execution_count": 14,
   "id": "73f497de",
   "metadata": {},
   "outputs": [
    {
     "data": {
      "text/html": [
       "<div><style>\n",
       ".dataframe > thead > tr,\n",
       ".dataframe > tbody > tr {\n",
       "  text-align: right;\n",
       "  white-space: pre-wrap;\n",
       "}\n",
       "</style>\n",
       "<small>shape: (0, 0)</small><table border=\"1\" class=\"dataframe\"><thead><tr></tr><tr></tr></thead><tbody></tbody></table></div>"
      ],
      "text/plain": [
       "shape: (0, 0)\n",
       "┌┐\n",
       "╞╡\n",
       "└┘"
      ]
     },
     "execution_count": 14,
     "metadata": {},
     "output_type": "execute_result"
    }
   ],
   "source": [
    "query_text = \"\"\"--sql\n",
    "    DROP TABLE db1.t_sub_by_intercoms_mv\n",
    "    \"\"\"\n",
    "\n",
    "ch.query_run(query_text)"
   ]
  },
  {
   "cell_type": "markdown",
   "id": "62595a72",
   "metadata": {},
   "source": [
    "### drop ch"
   ]
  },
  {
   "cell_type": "code",
   "execution_count": null,
   "id": "d4b4541b",
   "metadata": {},
   "outputs": [
    {
     "data": {
      "text/html": [
       "<div><style>\n",
       ".dataframe > thead > tr,\n",
       ".dataframe > tbody > tr {\n",
       "  text-align: right;\n",
       "  white-space: pre-wrap;\n",
       "}\n",
       "</style>\n",
       "<small>shape: (0, 0)</small><table border=\"1\" class=\"dataframe\"><thead><tr></tr><tr></tr></thead><tbody></tbody></table></div>"
      ],
      "text/plain": [
       "shape: (0, 0)\n",
       "┌┐\n",
       "╞╡\n",
       "└┘"
      ]
     },
     "metadata": {},
     "output_type": "display_data"
    }
   ],
   "source": [
    "query_text = \"\"\"--sql\n",
    "    DROP TABLE db1.t_sub_by_intercoms\n",
    "    \"\"\"\n",
    "\n",
    "ch.query_run(query_text)"
   ]
  },
  {
   "cell_type": "markdown",
   "id": "46039b27",
   "metadata": {},
   "source": [
    "### refresh mv"
   ]
  },
  {
   "cell_type": "code",
   "execution_count": null,
   "id": "eea4573e",
   "metadata": {},
   "outputs": [
    {
     "data": {
      "text/html": [
       "<div><style>\n",
       ".dataframe > thead > tr,\n",
       ".dataframe > tbody > tr {\n",
       "  text-align: right;\n",
       "  white-space: pre-wrap;\n",
       "}\n",
       "</style>\n",
       "<small>shape: (1, 2)</small><table border=\"1\" class=\"dataframe\"><thead><tr><th>elapsed_ns</th><th>query_id</th></tr><tr><td>i64</td><td>str</td></tr></thead><tbody><tr><td>897986</td><td>&quot;58d516b8-81ce-47ef-ab2c-c0196a…</td></tr></tbody></table></div>"
      ],
      "text/plain": [
       "shape: (1, 2)\n",
       "┌────────────┬─────────────────────────────────┐\n",
       "│ elapsed_ns ┆ query_id                        │\n",
       "│ ---        ┆ ---                             │\n",
       "│ i64        ┆ str                             │\n",
       "╞════════════╪═════════════════════════════════╡\n",
       "│ 897986     ┆ 58d516b8-81ce-47ef-ab2c-c0196a… │\n",
       "└────────────┴─────────────────────────────────┘"
      ]
     },
     "metadata": {},
     "output_type": "display_data"
    }
   ],
   "source": [
    "query_text = \"\"\"\n",
    "SYSTEM REFRESH VIEW db1.t_sub_by_intercoms_mv\n",
    "\"\"\"\n",
    "\n",
    "ch.query_run(query_text)"
   ]
  }
 ],
 "metadata": {
  "jupytext": {
   "formats": "ipynb,md"
  },
  "kernelspec": {
   "display_name": "myenv",
   "language": "python",
   "name": "python3"
  },
  "language_info": {
   "codemirror_mode": {
    "name": "ipython",
    "version": 3
   },
   "file_extension": ".py",
   "mimetype": "text/x-python",
   "name": "python",
   "nbconvert_exporter": "python",
   "pygments_lexer": "ipython3",
   "version": "3.12.11"
  }
 },
 "nbformat": 4,
 "nbformat_minor": 5
}

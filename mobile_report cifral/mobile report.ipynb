{
 "cells": [
  {
   "cell_type": "markdown",
   "metadata": {},
   "source": [
    "Соединение информации из источников"
   ]
  },
  {
   "cell_type": "code",
   "execution_count": 1,
   "metadata": {},
   "outputs": [],
   "source": [
    "import pandas as pd\n",
    "year = 2023\n",
    "month = 6"
   ]
  },
  {
   "cell_type": "code",
   "execution_count": 2,
   "metadata": {},
   "outputs": [
    {
     "data": {
      "text/html": [
       "<div>\n",
       "<style scoped>\n",
       "    .dataframe tbody tr th:only-of-type {\n",
       "        vertical-align: middle;\n",
       "    }\n",
       "\n",
       "    .dataframe tbody tr th {\n",
       "        vertical-align: top;\n",
       "    }\n",
       "\n",
       "    .dataframe thead th {\n",
       "        text-align: right;\n",
       "    }\n",
       "</style>\n",
       "<table border=\"1\" class=\"dataframe\">\n",
       "  <thead>\n",
       "    <tr style=\"text-align: right;\">\n",
       "      <th></th>\n",
       "      <th>Android_id</th>\n",
       "      <th>iOS_id</th>\n",
       "    </tr>\n",
       "  </thead>\n",
       "  <tbody>\n",
       "    <tr>\n",
       "      <th>0</th>\n",
       "      <td>1094353</td>\n",
       "      <td>535726</td>\n",
       "    </tr>\n",
       "  </tbody>\n",
       "</table>\n",
       "</div>"
      ],
      "text/plain": [
       "   Android_id  iOS_id\n",
       "0     1094353  535726"
      ]
     },
     "execution_count": 2,
     "metadata": {},
     "output_type": "execute_result"
    }
   ],
   "source": [
    "id_count = pd.read_csv(f'C:/Users/Boris/Desktop/mobile rep/app_metrica_ID_count/remade/{str(year)}/{str(month)}.csv', sep=';')\n",
    "id_count = id_count[['Android','Ios']]\n",
    "id_count.rename(columns = {'Android':'Android_id', 'Ios':'iOS_id' },inplace=True)\n",
    "id_count"
   ]
  },
  {
   "cell_type": "markdown",
   "metadata": {},
   "source": []
  },
  {
   "cell_type": "code",
   "execution_count": 3,
   "metadata": {},
   "outputs": [
    {
     "data": {
      "text/html": [
       "<div>\n",
       "<style scoped>\n",
       "    .dataframe tbody tr th:only-of-type {\n",
       "        vertical-align: middle;\n",
       "    }\n",
       "\n",
       "    .dataframe tbody tr th {\n",
       "        vertical-align: top;\n",
       "    }\n",
       "\n",
       "    .dataframe thead th {\n",
       "        text-align: right;\n",
       "    }\n",
       "</style>\n",
       "<table border=\"1\" class=\"dataframe\">\n",
       "  <thead>\n",
       "    <tr style=\"text-align: right;\">\n",
       "      <th></th>\n",
       "      <th>DAU</th>\n",
       "    </tr>\n",
       "  </thead>\n",
       "  <tbody>\n",
       "    <tr>\n",
       "      <th>0</th>\n",
       "      <td>186047</td>\n",
       "    </tr>\n",
       "  </tbody>\n",
       "</table>\n",
       "</div>"
      ],
      "text/plain": [
       "      DAU\n",
       "0  186047"
      ]
     },
     "execution_count": 3,
     "metadata": {},
     "output_type": "execute_result"
    }
   ],
   "source": [
    "dau = pd.read_csv(f'C:/Users/Boris/Desktop/mobile rep/app_metrica_DAU_MAU/remade/DAU/{str(year)}/{str(month)}.csv', sep=';')\n",
    "dau['DAU']= dau['Пользователи'].mean().round().astype(int)\n",
    "dau = dau.loc[0,['DAU']]\n",
    "dau = pd.DataFrame(data = dau.values, columns = dau.index)\n",
    "dau"
   ]
  },
  {
   "cell_type": "code",
   "execution_count": 4,
   "metadata": {},
   "outputs": [
    {
     "data": {
      "text/html": [
       "<div>\n",
       "<style scoped>\n",
       "    .dataframe tbody tr th:only-of-type {\n",
       "        vertical-align: middle;\n",
       "    }\n",
       "\n",
       "    .dataframe tbody tr th {\n",
       "        vertical-align: top;\n",
       "    }\n",
       "\n",
       "    .dataframe thead th {\n",
       "        text-align: right;\n",
       "    }\n",
       "</style>\n",
       "<table border=\"1\" class=\"dataframe\">\n",
       "  <thead>\n",
       "    <tr style=\"text-align: right;\">\n",
       "      <th></th>\n",
       "      <th>MAU</th>\n",
       "      <th>Новые пользователи</th>\n",
       "      <th>Доля новых пользователей</th>\n",
       "    </tr>\n",
       "  </thead>\n",
       "  <tbody>\n",
       "    <tr>\n",
       "      <th>0</th>\n",
       "      <td>573127</td>\n",
       "      <td>59384</td>\n",
       "      <td>0.103614</td>\n",
       "    </tr>\n",
       "  </tbody>\n",
       "</table>\n",
       "</div>"
      ],
      "text/plain": [
       "      MAU  Новые пользователи  Доля новых пользователей\n",
       "0  573127               59384                  0.103614"
      ]
     },
     "execution_count": 4,
     "metadata": {},
     "output_type": "execute_result"
    }
   ],
   "source": [
    "mau = pd.read_csv(f'C:/Users/Boris/Desktop/mobile rep/app_metrica_DAU_MAU/remade/MAU/{str(year)}/{str(month)}.csv', sep=';')\n",
    "mau['MAU'] = mau['Пользователи']\n",
    "mau = mau[['MAU', 'Новые пользователи', 'Доля новых пользователей']]\n",
    "mau"
   ]
  },
  {
   "cell_type": "code",
   "execution_count": 5,
   "metadata": {},
   "outputs": [
    {
     "data": {
      "text/html": [
       "<div>\n",
       "<style scoped>\n",
       "    .dataframe tbody tr th:only-of-type {\n",
       "        vertical-align: middle;\n",
       "    }\n",
       "\n",
       "    .dataframe tbody tr th {\n",
       "        vertical-align: top;\n",
       "    }\n",
       "\n",
       "    .dataframe thead th {\n",
       "        text-align: right;\n",
       "    }\n",
       "</style>\n",
       "<table border=\"1\" class=\"dataframe\">\n",
       "  <thead>\n",
       "    <tr style=\"text-align: right;\">\n",
       "      <th></th>\n",
       "      <th>Все установки</th>\n",
       "      <th>Сессии</th>\n",
       "    </tr>\n",
       "  </thead>\n",
       "  <tbody>\n",
       "    <tr>\n",
       "      <th>0</th>\n",
       "      <td>1467215</td>\n",
       "      <td>300203842</td>\n",
       "    </tr>\n",
       "  </tbody>\n",
       "</table>\n",
       "</div>"
      ],
      "text/plain": [
       "   Все установки     Сессии\n",
       "0        1467215  300203842"
      ]
     },
     "execution_count": 5,
     "metadata": {},
     "output_type": "execute_result"
    }
   ],
   "source": [
    "installetion_count = pd.read_csv(f'C:/Users/Boris/Desktop/mobile rep/app_metrica_all_daownloaded/remade/{str(year)}/{str(month)}.csv', sep=';')\n",
    "installetion_count = installetion_count[['Все установки', 'Сессии']]\n",
    "installetion_count"
   ]
  },
  {
   "cell_type": "code",
   "execution_count": 6,
   "metadata": {},
   "outputs": [
    {
     "data": {
      "text/html": [
       "<div>\n",
       "<style scoped>\n",
       "    .dataframe tbody tr th:only-of-type {\n",
       "        vertical-align: middle;\n",
       "    }\n",
       "\n",
       "    .dataframe tbody tr th {\n",
       "        vertical-align: top;\n",
       "    }\n",
       "\n",
       "    .dataframe thead th {\n",
       "        text-align: right;\n",
       "    }\n",
       "</style>\n",
       "<table border=\"1\" class=\"dataframe\">\n",
       "  <thead>\n",
       "    <tr style=\"text-align: right;\">\n",
       "      <th></th>\n",
       "      <th>service_payments</th>\n",
       "    </tr>\n",
       "  </thead>\n",
       "  <tbody>\n",
       "    <tr>\n",
       "      <th>0</th>\n",
       "      <td>0</td>\n",
       "    </tr>\n",
       "  </tbody>\n",
       "</table>\n",
       "</div>"
      ],
      "text/plain": [
       "   service_payments\n",
       "0                 0"
      ]
     },
     "execution_count": 6,
     "metadata": {},
     "output_type": "execute_result"
    }
   ],
   "source": [
    "service_payments = pd.read_csv(f'C:/Users/Boris/Desktop/mobile rep/service_payments_rep_mobule/{str(year)}/{str(month)}.csv', sep=',')\n",
    "service_payments = service_payments['service_payments'].to_frame(name = 'service_payments')\n",
    "service_payments"
   ]
  },
  {
   "cell_type": "code",
   "execution_count": 7,
   "metadata": {},
   "outputs": [
    {
     "data": {
      "text/html": [
       "<div>\n",
       "<style scoped>\n",
       "    .dataframe tbody tr th:only-of-type {\n",
       "        vertical-align: middle;\n",
       "    }\n",
       "\n",
       "    .dataframe tbody tr th {\n",
       "        vertical-align: top;\n",
       "    }\n",
       "\n",
       "    .dataframe thead th {\n",
       "        text-align: right;\n",
       "    }\n",
       "</style>\n",
       "<table border=\"1\" class=\"dataframe\">\n",
       "  <thead>\n",
       "    <tr style=\"text-align: right;\">\n",
       "      <th></th>\n",
       "      <th>Первая дата</th>\n",
       "      <th>Месяц</th>\n",
       "      <th>Год</th>\n",
       "      <th>IOS_PL</th>\n",
       "      <th>appstore_count_69</th>\n",
       "      <th>appstore_count_69_refunded</th>\n",
       "      <th>appstore_count_499</th>\n",
       "      <th>appstore_count_499_refunded</th>\n",
       "      <th>appstore_count_2390</th>\n",
       "      <th>appstore_count_2390_refunded</th>\n",
       "      <th>...</th>\n",
       "      <th>yookassa_count_35_refunded</th>\n",
       "      <th>yookassa_count_1</th>\n",
       "      <th>yookassa_count_1_refunded</th>\n",
       "      <th>yookassa_count_499</th>\n",
       "      <th>yookassa_count_499_refunded</th>\n",
       "      <th>yookassa_count_249</th>\n",
       "      <th>yookassa_count_249_refunded</th>\n",
       "      <th>yookassa_count_2390</th>\n",
       "      <th>yookassa_count_2390_refunded</th>\n",
       "      <th>refunded_amount_yookassa</th>\n",
       "    </tr>\n",
       "  </thead>\n",
       "  <tbody>\n",
       "    <tr>\n",
       "      <th>0</th>\n",
       "      <td>2023-06-06</td>\n",
       "      <td>6</td>\n",
       "      <td>2023</td>\n",
       "      <td>151800</td>\n",
       "      <td>2200</td>\n",
       "      <td>0</td>\n",
       "      <td>0</td>\n",
       "      <td>0</td>\n",
       "      <td>0</td>\n",
       "      <td>0</td>\n",
       "      <td>...</td>\n",
       "      <td>0</td>\n",
       "      <td>0</td>\n",
       "      <td>0</td>\n",
       "      <td>0</td>\n",
       "      <td>0</td>\n",
       "      <td>0</td>\n",
       "      <td>0</td>\n",
       "      <td>0</td>\n",
       "      <td>0</td>\n",
       "      <td>138</td>\n",
       "    </tr>\n",
       "  </tbody>\n",
       "</table>\n",
       "<p>1 rows × 27 columns</p>\n",
       "</div>"
      ],
      "text/plain": [
       "  Первая дата  Месяц   Год  IOS_PL  appstore_count_69  \\\n",
       "0  2023-06-06      6  2023  151800               2200   \n",
       "\n",
       "   appstore_count_69_refunded  appstore_count_499  \\\n",
       "0                           0                   0   \n",
       "\n",
       "   appstore_count_499_refunded  appstore_count_2390  \\\n",
       "0                            0                    0   \n",
       "\n",
       "   appstore_count_2390_refunded  ...  yookassa_count_35_refunded  \\\n",
       "0                             0  ...                           0   \n",
       "\n",
       "   yookassa_count_1  yookassa_count_1_refunded  yookassa_count_499  \\\n",
       "0                 0                          0                   0   \n",
       "\n",
       "   yookassa_count_499_refunded  yookassa_count_249  \\\n",
       "0                            0                   0   \n",
       "\n",
       "   yookassa_count_249_refunded  yookassa_count_2390  \\\n",
       "0                            0                    0   \n",
       "\n",
       "   yookassa_count_2390_refunded  refunded_amount_yookassa  \n",
       "0                             0                       138  \n",
       "\n",
       "[1 rows x 27 columns]"
      ]
     },
     "execution_count": 7,
     "metadata": {},
     "output_type": "execute_result"
    }
   ],
   "source": [
    "mobile_report = pd.read_csv(f'C:/Users/Boris/Desktop/mobile rep/mobile_report_rep_mobile/{str(year)}/{str(month)}.csv', sep=',')\n",
    "\n",
    "mobile_report"
   ]
  },
  {
   "cell_type": "code",
   "execution_count": 8,
   "metadata": {},
   "outputs": [
    {
     "data": {
      "text/html": [
       "<div>\n",
       "<style scoped>\n",
       "    .dataframe tbody tr th:only-of-type {\n",
       "        vertical-align: middle;\n",
       "    }\n",
       "\n",
       "    .dataframe tbody tr th {\n",
       "        vertical-align: top;\n",
       "    }\n",
       "\n",
       "    .dataframe thead th {\n",
       "        text-align: right;\n",
       "    }\n",
       "</style>\n",
       "<table border=\"1\" class=\"dataframe\">\n",
       "  <thead>\n",
       "    <tr style=\"text-align: right;\">\n",
       "      <th></th>\n",
       "      <th>paying_users</th>\n",
       "      <th>paying_users_standart</th>\n",
       "      <th>paying_users_standart_yakassa</th>\n",
       "      <th>paying_users_standart_appstore</th>\n",
       "      <th>new_subscriptions</th>\n",
       "      <th>failed_subscriptions</th>\n",
       "      <th>canceled_subscriptions</th>\n",
       "      <th>renewed_subscriptions</th>\n",
       "    </tr>\n",
       "  </thead>\n",
       "  <tbody>\n",
       "    <tr>\n",
       "      <th>0</th>\n",
       "      <td>8310</td>\n",
       "      <td>8310</td>\n",
       "      <td>6145</td>\n",
       "      <td>2165</td>\n",
       "      <td>1501</td>\n",
       "      <td>954</td>\n",
       "      <td>144</td>\n",
       "      <td>6921</td>\n",
       "    </tr>\n",
       "  </tbody>\n",
       "</table>\n",
       "</div>"
      ],
      "text/plain": [
       "   paying_users  paying_users_standart  paying_users_standart_yakassa  \\\n",
       "0          8310                   8310                           6145   \n",
       "\n",
       "   paying_users_standart_appstore  new_subscriptions  failed_subscriptions  \\\n",
       "0                            2165               1501                   954   \n",
       "\n",
       "   canceled_subscriptions  renewed_subscriptions  \n",
       "0                     144                   6921  "
      ]
     },
     "execution_count": 8,
     "metadata": {},
     "output_type": "execute_result"
    }
   ],
   "source": [
    "subscriptions_report_comerce = pd.read_csv(f'C:/Users/Boris/Desktop/mobile rep/subscriptions_report_comerce_rep_mobile/{str(year)}/{str(month)}.csv', sep=',')\n",
    "subscriptions_report_comerce = subscriptions_report_comerce.drop(['Первая дата'], axis = 1)\n",
    "subscriptions_report_comerce"
   ]
  },
  {
   "cell_type": "code",
   "execution_count": 9,
   "metadata": {},
   "outputs": [
    {
     "data": {
      "text/html": [
       "<div>\n",
       "<style scoped>\n",
       "    .dataframe tbody tr th:only-of-type {\n",
       "        vertical-align: middle;\n",
       "    }\n",
       "\n",
       "    .dataframe tbody tr th {\n",
       "        vertical-align: top;\n",
       "    }\n",
       "\n",
       "    .dataframe thead th {\n",
       "        text-align: right;\n",
       "    }\n",
       "</style>\n",
       "<table border=\"1\" class=\"dataframe\">\n",
       "  <thead>\n",
       "    <tr style=\"text-align: right;\">\n",
       "      <th></th>\n",
       "      <th>Units on SK platform</th>\n",
       "      <th>Units stricted monetization</th>\n",
       "      <th>Units free monetization</th>\n",
       "    </tr>\n",
       "  </thead>\n",
       "  <tbody>\n",
       "    <tr>\n",
       "      <th>0</th>\n",
       "      <td>19339</td>\n",
       "      <td>6175</td>\n",
       "      <td>13164</td>\n",
       "    </tr>\n",
       "  </tbody>\n",
       "</table>\n",
       "</div>"
      ],
      "text/plain": [
       "   Units on SK platform  Units stricted monetization  Units free monetization\n",
       "0                 19339                         6175                    13164"
      ]
     },
     "execution_count": 9,
     "metadata": {},
     "output_type": "execute_result"
    }
   ],
   "source": [
    "units_on_SK_platform = pd.read_csv(f'C:/Users/Boris/Desktop/mobile rep/Units_on_SK platform_(monetization)_rep_mobile/{str(year)}/{str(month)}.csv', sep=',')\n",
    "units_on_SK_platform"
   ]
  },
  {
   "cell_type": "code",
   "execution_count": 10,
   "metadata": {},
   "outputs": [
    {
     "data": {
      "text/html": [
       "<div>\n",
       "<style scoped>\n",
       "    .dataframe tbody tr th:only-of-type {\n",
       "        vertical-align: middle;\n",
       "    }\n",
       "\n",
       "    .dataframe tbody tr th {\n",
       "        vertical-align: top;\n",
       "    }\n",
       "\n",
       "    .dataframe thead th {\n",
       "        text-align: right;\n",
       "    }\n",
       "</style>\n",
       "<table border=\"1\" class=\"dataframe\">\n",
       "  <thead>\n",
       "    <tr style=\"text-align: right;\">\n",
       "      <th></th>\n",
       "      <th>total_account_count</th>\n",
       "    </tr>\n",
       "  </thead>\n",
       "  <tbody>\n",
       "    <tr>\n",
       "      <th>0</th>\n",
       "      <td>1199022</td>\n",
       "    </tr>\n",
       "  </tbody>\n",
       "</table>\n",
       "</div>"
      ],
      "text/plain": [
       "   total_account_count\n",
       "0              1199022"
      ]
     },
     "execution_count": 10,
     "metadata": {},
     "output_type": "execute_result"
    }
   ],
   "source": [
    "total_account_count = pd.read_csv(f'C:/Users/Boris/Desktop/mobile rep/total_account_count_rep_mobile/{str(year)}/{str(month)}.csv', sep=',')\n",
    "total_account_count"
   ]
  },
  {
   "cell_type": "code",
   "execution_count": 11,
   "metadata": {},
   "outputs": [
    {
     "data": {
      "text/html": [
       "<div>\n",
       "<style scoped>\n",
       "    .dataframe tbody tr th:only-of-type {\n",
       "        vertical-align: middle;\n",
       "    }\n",
       "\n",
       "    .dataframe tbody tr th {\n",
       "        vertical-align: top;\n",
       "    }\n",
       "\n",
       "    .dataframe thead th {\n",
       "        text-align: right;\n",
       "    }\n",
       "</style>\n",
       "<table border=\"1\" class=\"dataframe\">\n",
       "  <thead>\n",
       "    <tr style=\"text-align: right;\">\n",
       "      <th></th>\n",
       "      <th>total_activated_account</th>\n",
       "    </tr>\n",
       "  </thead>\n",
       "  <tbody>\n",
       "    <tr>\n",
       "      <th>0</th>\n",
       "      <td>815241</td>\n",
       "    </tr>\n",
       "  </tbody>\n",
       "</table>\n",
       "</div>"
      ],
      "text/plain": [
       "   total_activated_account\n",
       "0                   815241"
      ]
     },
     "execution_count": 11,
     "metadata": {},
     "output_type": "execute_result"
    }
   ],
   "source": [
    "total_activated_account = pd.read_csv(f'C:/Users/Boris/Desktop/mobile rep/total_activated_account_rep_mobile/{str(year)}/{str(month)}.csv', sep=',')\n",
    "total_activated_account"
   ]
  },
  {
   "cell_type": "code",
   "execution_count": 12,
   "metadata": {},
   "outputs": [
    {
     "data": {
      "text/html": [
       "<div>\n",
       "<style scoped>\n",
       "    .dataframe tbody tr th:only-of-type {\n",
       "        vertical-align: middle;\n",
       "    }\n",
       "\n",
       "    .dataframe tbody tr th {\n",
       "        vertical-align: top;\n",
       "    }\n",
       "\n",
       "    .dataframe thead th {\n",
       "        text-align: right;\n",
       "    }\n",
       "</style>\n",
       "<table border=\"1\" class=\"dataframe\">\n",
       "  <thead>\n",
       "    <tr style=\"text-align: right;\">\n",
       "      <th></th>\n",
       "      <th>total_active_users</th>\n",
       "    </tr>\n",
       "  </thead>\n",
       "  <tbody>\n",
       "    <tr>\n",
       "      <th>0</th>\n",
       "      <td>506218</td>\n",
       "    </tr>\n",
       "  </tbody>\n",
       "</table>\n",
       "</div>"
      ],
      "text/plain": [
       "   total_active_users\n",
       "0              506218"
      ]
     },
     "execution_count": 12,
     "metadata": {},
     "output_type": "execute_result"
    }
   ],
   "source": [
    "total_active_users = pd.read_csv(f'C:/Users/Boris/Desktop/mobile rep/total_active_users_rep_mobile/{str(year)}/{str(month)}.csv', sep=',')\n",
    "total_active_users"
   ]
  },
  {
   "cell_type": "code",
   "execution_count": 13,
   "metadata": {},
   "outputs": [
    {
     "data": {
      "text/html": [
       "<div>\n",
       "<style scoped>\n",
       "    .dataframe tbody tr th:only-of-type {\n",
       "        vertical-align: middle;\n",
       "    }\n",
       "\n",
       "    .dataframe tbody tr th {\n",
       "        vertical-align: top;\n",
       "    }\n",
       "\n",
       "    .dataframe thead th {\n",
       "        text-align: right;\n",
       "    }\n",
       "</style>\n",
       "<table border=\"1\" class=\"dataframe\">\n",
       "  <thead>\n",
       "    <tr style=\"text-align: right;\">\n",
       "      <th></th>\n",
       "      <th>all_flats</th>\n",
       "      <th>freemonetization_flats</th>\n",
       "      <th>stricted_flats</th>\n",
       "      <th>subsc_restrict_is_null_flats</th>\n",
       "    </tr>\n",
       "  </thead>\n",
       "  <tbody>\n",
       "    <tr>\n",
       "      <th>0</th>\n",
       "      <td>544135</td>\n",
       "      <td>339327</td>\n",
       "      <td>173150</td>\n",
       "      <td>31658</td>\n",
       "    </tr>\n",
       "  </tbody>\n",
       "</table>\n",
       "</div>"
      ],
      "text/plain": [
       "   all_flats  freemonetization_flats  stricted_flats  \\\n",
       "0     544135                  339327          173150   \n",
       "\n",
       "   subsc_restrict_is_null_flats  \n",
       "0                         31658  "
      ]
     },
     "execution_count": 13,
     "metadata": {},
     "output_type": "execute_result"
    }
   ],
   "source": [
    "all_flats = pd.read_csv(f'C:/Users/Boris/Desktop/mobile rep/all_flats_rep_mobile/{str(year)}/{str(month)}.csv', sep=',')\n",
    "all_flats"
   ]
  },
  {
   "cell_type": "code",
   "execution_count": 14,
   "metadata": {},
   "outputs": [
    {
     "data": {
      "text/html": [
       "<div>\n",
       "<style scoped>\n",
       "    .dataframe tbody tr th:only-of-type {\n",
       "        vertical-align: middle;\n",
       "    }\n",
       "\n",
       "    .dataframe tbody tr th {\n",
       "        vertical-align: top;\n",
       "    }\n",
       "\n",
       "    .dataframe thead th {\n",
       "        text-align: right;\n",
       "    }\n",
       "</style>\n",
       "<table border=\"1\" class=\"dataframe\">\n",
       "  <thead>\n",
       "    <tr style=\"text-align: right;\">\n",
       "      <th></th>\n",
       "      <th>flats_in_sputnic</th>\n",
       "    </tr>\n",
       "  </thead>\n",
       "  <tbody>\n",
       "    <tr>\n",
       "      <th>0</th>\n",
       "      <td>438243</td>\n",
       "    </tr>\n",
       "  </tbody>\n",
       "</table>\n",
       "</div>"
      ],
      "text/plain": [
       "   flats_in_sputnic\n",
       "0            438243"
      ]
     },
     "execution_count": 14,
     "metadata": {},
     "output_type": "execute_result"
    }
   ],
   "source": [
    "flats_in_sputnic = pd.read_csv(f'C:/Users/Boris/Desktop/mobile rep/flats_in_sputnic_rep_mobile/{str(year)}/{str(month)}.csv', sep=',')\n",
    "flats_in_sputnic"
   ]
  },
  {
   "cell_type": "code",
   "execution_count": 15,
   "metadata": {},
   "outputs": [
    {
     "data": {
      "text/html": [
       "<div>\n",
       "<style scoped>\n",
       "    .dataframe tbody tr th:only-of-type {\n",
       "        vertical-align: middle;\n",
       "    }\n",
       "\n",
       "    .dataframe tbody tr th {\n",
       "        vertical-align: top;\n",
       "    }\n",
       "\n",
       "    .dataframe thead th {\n",
       "        text-align: right;\n",
       "    }\n",
       "</style>\n",
       "<table border=\"1\" class=\"dataframe\">\n",
       "  <thead>\n",
       "    <tr style=\"text-align: right;\">\n",
       "      <th></th>\n",
       "      <th>MAF</th>\n",
       "      <th>stricted_MAF</th>\n",
       "      <th>freemonetization_MAF</th>\n",
       "    </tr>\n",
       "  </thead>\n",
       "  <tbody>\n",
       "    <tr>\n",
       "      <th>0</th>\n",
       "      <td>327057</td>\n",
       "      <td>104430</td>\n",
       "      <td>222627</td>\n",
       "    </tr>\n",
       "  </tbody>\n",
       "</table>\n",
       "</div>"
      ],
      "text/plain": [
       "      MAF  stricted_MAF  freemonetization_MAF\n",
       "0  327057        104430                222627"
      ]
     },
     "execution_count": 15,
     "metadata": {},
     "output_type": "execute_result"
    }
   ],
   "source": [
    "maf = pd.read_csv(f'C:/Users/Boris/Desktop/mobile rep/MAF_rep_mobile/{str(year)}/{str(month)}.csv', sep=',')\n",
    "maf"
   ]
  },
  {
   "cell_type": "code",
   "execution_count": 16,
   "metadata": {},
   "outputs": [
    {
     "data": {
      "text/html": [
       "<div>\n",
       "<style scoped>\n",
       "    .dataframe tbody tr th:only-of-type {\n",
       "        vertical-align: middle;\n",
       "    }\n",
       "\n",
       "    .dataframe tbody tr th {\n",
       "        vertical-align: top;\n",
       "    }\n",
       "\n",
       "    .dataframe thead th {\n",
       "        text-align: right;\n",
       "    }\n",
       "</style>\n",
       "<table border=\"1\" class=\"dataframe\">\n",
       "  <thead>\n",
       "    <tr style=\"text-align: right;\">\n",
       "      <th></th>\n",
       "      <th>DAF</th>\n",
       "      <th>stricted_DAF</th>\n",
       "      <th>freemonetization_DAF</th>\n",
       "    </tr>\n",
       "  </thead>\n",
       "  <tbody>\n",
       "    <tr>\n",
       "      <th>0</th>\n",
       "      <td>129487</td>\n",
       "      <td>45320</td>\n",
       "      <td>84167</td>\n",
       "    </tr>\n",
       "  </tbody>\n",
       "</table>\n",
       "</div>"
      ],
      "text/plain": [
       "      DAF  stricted_DAF  freemonetization_DAF\n",
       "0  129487         45320                 84167"
      ]
     },
     "execution_count": 16,
     "metadata": {},
     "output_type": "execute_result"
    }
   ],
   "source": [
    "daf = pd.read_csv(f'C:/Users/Boris/Desktop/mobile rep/DAF_rep_mobile/{str(year)}/{str(month)}.csv', sep=',')\\\n",
    "    .round().astype('int')\n",
    "daf"
   ]
  },
  {
   "cell_type": "code",
   "execution_count": 17,
   "metadata": {},
   "outputs": [
    {
     "data": {
      "text/html": [
       "<div>\n",
       "<style scoped>\n",
       "    .dataframe tbody tr th:only-of-type {\n",
       "        vertical-align: middle;\n",
       "    }\n",
       "\n",
       "    .dataframe tbody tr th {\n",
       "        vertical-align: top;\n",
       "    }\n",
       "\n",
       "    .dataframe thead th {\n",
       "        text-align: right;\n",
       "    }\n",
       "</style>\n",
       "<table border=\"1\" class=\"dataframe\">\n",
       "  <thead>\n",
       "    <tr style=\"text-align: right;\">\n",
       "      <th></th>\n",
       "      <th>paying_active_flats</th>\n",
       "    </tr>\n",
       "  </thead>\n",
       "  <tbody>\n",
       "    <tr>\n",
       "      <th>0</th>\n",
       "      <td>7845</td>\n",
       "    </tr>\n",
       "  </tbody>\n",
       "</table>\n",
       "</div>"
      ],
      "text/plain": [
       "   paying_active_flats\n",
       "0                 7845"
      ]
     },
     "execution_count": 17,
     "metadata": {},
     "output_type": "execute_result"
    }
   ],
   "source": [
    "paying_active_flats = pd.read_csv(f'C:/Users/Boris/Desktop/mobile rep/paying_active_flats_rep_mobile/{str(year)}/{str(month)}.csv', sep=',')\n",
    "paying_active_flats"
   ]
  },
  {
   "cell_type": "code",
   "execution_count": 18,
   "metadata": {},
   "outputs": [
    {
     "data": {
      "text/html": [
       "<div>\n",
       "<style scoped>\n",
       "    .dataframe tbody tr th:only-of-type {\n",
       "        vertical-align: middle;\n",
       "    }\n",
       "\n",
       "    .dataframe tbody tr th {\n",
       "        vertical-align: top;\n",
       "    }\n",
       "\n",
       "    .dataframe thead th {\n",
       "        text-align: right;\n",
       "    }\n",
       "</style>\n",
       "<table border=\"1\" class=\"dataframe\">\n",
       "  <thead>\n",
       "    <tr style=\"text-align: right;\">\n",
       "      <th></th>\n",
       "      <th>family_rate_rep_mobile</th>\n",
       "    </tr>\n",
       "  </thead>\n",
       "  <tbody>\n",
       "    <tr>\n",
       "      <th>0</th>\n",
       "      <td>0</td>\n",
       "    </tr>\n",
       "  </tbody>\n",
       "</table>\n",
       "</div>"
      ],
      "text/plain": [
       "   family_rate_rep_mobile\n",
       "0                       0"
      ]
     },
     "execution_count": 18,
     "metadata": {},
     "output_type": "execute_result"
    }
   ],
   "source": [
    "family_rate_rep_mobile = pd.read_csv(f'C:/Users/Boris/Desktop/mobile rep/family_rate_rep_mobile/{str(year)}/{str(month)}.csv')\n",
    "family_rate_rep_mobile"
   ]
  },
  {
   "cell_type": "code",
   "execution_count": 19,
   "metadata": {},
   "outputs": [
    {
     "data": {
      "text/html": [
       "<div>\n",
       "<style scoped>\n",
       "    .dataframe tbody tr th:only-of-type {\n",
       "        vertical-align: middle;\n",
       "    }\n",
       "\n",
       "    .dataframe tbody tr th {\n",
       "        vertical-align: top;\n",
       "    }\n",
       "\n",
       "    .dataframe thead th {\n",
       "        text-align: right;\n",
       "    }\n",
       "</style>\n",
       "<table border=\"1\" class=\"dataframe\">\n",
       "  <thead>\n",
       "    <tr style=\"text-align: right;\">\n",
       "      <th></th>\n",
       "      <th>DAU</th>\n",
       "      <th>MAU</th>\n",
       "      <th>Новые пользователи</th>\n",
       "      <th>Доля новых пользователей</th>\n",
       "      <th>Android_id</th>\n",
       "      <th>iOS_id</th>\n",
       "      <th>Все установки</th>\n",
       "      <th>Сессии</th>\n",
       "      <th>service_payments</th>\n",
       "      <th>Первая дата</th>\n",
       "      <th>...</th>\n",
       "      <th>subsc_restrict_is_null_flats</th>\n",
       "      <th>flats_in_sputnic</th>\n",
       "      <th>MAF</th>\n",
       "      <th>stricted_MAF</th>\n",
       "      <th>freemonetization_MAF</th>\n",
       "      <th>DAF</th>\n",
       "      <th>stricted_DAF</th>\n",
       "      <th>freemonetization_DAF</th>\n",
       "      <th>paying_active_flats</th>\n",
       "      <th>family_rate_rep_mobile</th>\n",
       "    </tr>\n",
       "  </thead>\n",
       "  <tbody>\n",
       "    <tr>\n",
       "      <th>0</th>\n",
       "      <td>186047</td>\n",
       "      <td>573127</td>\n",
       "      <td>59384</td>\n",
       "      <td>0.103614</td>\n",
       "      <td>1094353</td>\n",
       "      <td>535726</td>\n",
       "      <td>1467215</td>\n",
       "      <td>300203842</td>\n",
       "      <td>0</td>\n",
       "      <td>2023-06-06</td>\n",
       "      <td>...</td>\n",
       "      <td>31658</td>\n",
       "      <td>438243</td>\n",
       "      <td>327057</td>\n",
       "      <td>104430</td>\n",
       "      <td>222627</td>\n",
       "      <td>129487</td>\n",
       "      <td>45320</td>\n",
       "      <td>84167</td>\n",
       "      <td>7845</td>\n",
       "      <td>0</td>\n",
       "    </tr>\n",
       "  </tbody>\n",
       "</table>\n",
       "<p>1 rows × 63 columns</p>\n",
       "</div>"
      ],
      "text/plain": [
       "      DAU     MAU  Новые пользователи  Доля новых пользователей  Android_id  \\\n",
       "0  186047  573127               59384                  0.103614     1094353   \n",
       "\n",
       "   iOS_id  Все установки     Сессии  service_payments Первая дата  ...  \\\n",
       "0  535726        1467215  300203842                 0  2023-06-06  ...   \n",
       "\n",
       "   subsc_restrict_is_null_flats  flats_in_sputnic     MAF  stricted_MAF  \\\n",
       "0                         31658            438243  327057        104430   \n",
       "\n",
       "   freemonetization_MAF     DAF  stricted_DAF  freemonetization_DAF  \\\n",
       "0                222627  129487         45320                 84167   \n",
       "\n",
       "   paying_active_flats  family_rate_rep_mobile  \n",
       "0                 7845                       0  \n",
       "\n",
       "[1 rows x 63 columns]"
      ]
     },
     "execution_count": 19,
     "metadata": {},
     "output_type": "execute_result"
    }
   ],
   "source": [
    "concated = pd.concat([dau,\n",
    "                      mau, \n",
    "                      id_count,\n",
    "                      installetion_count,\n",
    "                      service_payments['service_payments'],\n",
    "                      mobile_report,\n",
    "                      subscriptions_report_comerce, \n",
    "                      units_on_SK_platform,\n",
    "                      total_account_count,\n",
    "                      total_activated_account,\n",
    "                      total_active_users,\n",
    "                      all_flats,\n",
    "                      flats_in_sputnic,\n",
    "                      maf,\n",
    "                      daf,\n",
    "                      paying_active_flats,\n",
    "                      family_rate_rep_mobile\n",
    "                      ]\n",
    "                     , axis=1)\n",
    "concated"
   ]
  },
  {
   "cell_type": "code",
   "execution_count": 20,
   "metadata": {},
   "outputs": [
    {
     "data": {
      "text/html": [
       "<div>\n",
       "<style scoped>\n",
       "    .dataframe tbody tr th:only-of-type {\n",
       "        vertical-align: middle;\n",
       "    }\n",
       "\n",
       "    .dataframe tbody tr th {\n",
       "        vertical-align: top;\n",
       "    }\n",
       "\n",
       "    .dataframe thead th {\n",
       "        text-align: right;\n",
       "    }\n",
       "</style>\n",
       "<table border=\"1\" class=\"dataframe\">\n",
       "  <thead>\n",
       "    <tr style=\"text-align: right;\">\n",
       "      <th></th>\n",
       "      <th>DAU</th>\n",
       "      <th>MAU</th>\n",
       "      <th>Новые пользователи</th>\n",
       "      <th>Доля новых пользователей</th>\n",
       "      <th>Android_id</th>\n",
       "      <th>iOS_id</th>\n",
       "      <th>Все установки</th>\n",
       "      <th>Сессии</th>\n",
       "      <th>service_payments</th>\n",
       "      <th>Первая дата</th>\n",
       "      <th>...</th>\n",
       "      <th>subsc_restrict_is_null_flats</th>\n",
       "      <th>flats_in_sputnic</th>\n",
       "      <th>MAF</th>\n",
       "      <th>stricted_MAF</th>\n",
       "      <th>freemonetization_MAF</th>\n",
       "      <th>DAF</th>\n",
       "      <th>stricted_DAF</th>\n",
       "      <th>freemonetization_DAF</th>\n",
       "      <th>paying_active_flats</th>\n",
       "      <th>family_rate_rep_mobile</th>\n",
       "    </tr>\n",
       "  </thead>\n",
       "  <tbody>\n",
       "    <tr>\n",
       "      <th>0</th>\n",
       "      <td>186047</td>\n",
       "      <td>573127</td>\n",
       "      <td>59384</td>\n",
       "      <td>0.103614</td>\n",
       "      <td>1094353</td>\n",
       "      <td>535726</td>\n",
       "      <td>1467215</td>\n",
       "      <td>300203842</td>\n",
       "      <td>0</td>\n",
       "      <td>2023-06-06</td>\n",
       "      <td>...</td>\n",
       "      <td>31658</td>\n",
       "      <td>438243</td>\n",
       "      <td>327057</td>\n",
       "      <td>104430</td>\n",
       "      <td>222627</td>\n",
       "      <td>129487</td>\n",
       "      <td>45320</td>\n",
       "      <td>84167</td>\n",
       "      <td>7845</td>\n",
       "      <td>0</td>\n",
       "    </tr>\n",
       "  </tbody>\n",
       "</table>\n",
       "<p>1 rows × 63 columns</p>\n",
       "</div>"
      ],
      "text/plain": [
       "      DAU     MAU  Новые пользователи  Доля новых пользователей  Android_id  \\\n",
       "0  186047  573127               59384                  0.103614     1094353   \n",
       "\n",
       "   iOS_id  Все установки     Сессии  service_payments Первая дата  ...  \\\n",
       "0  535726        1467215  300203842                 0  2023-06-06  ...   \n",
       "\n",
       "   subsc_restrict_is_null_flats  flats_in_sputnic     MAF  stricted_MAF  \\\n",
       "0                         31658            438243  327057        104430   \n",
       "\n",
       "   freemonetization_MAF     DAF  stricted_DAF  freemonetization_DAF  \\\n",
       "0                222627  129487         45320                 84167   \n",
       "\n",
       "   paying_active_flats  family_rate_rep_mobile  \n",
       "0                 7845                       0  \n",
       "\n",
       "[1 rows x 63 columns]"
      ]
     },
     "execution_count": 20,
     "metadata": {},
     "output_type": "execute_result"
    }
   ],
   "source": [
    "concated"
   ]
  },
  {
   "cell_type": "code",
   "execution_count": 21,
   "metadata": {},
   "outputs": [],
   "source": [
    "concated.to_csv(f'C:/Users/Boris/Desktop/mobile rep/Ready report/{str(year)}/{str(month)}.csv', sep=',', index=False)\n"
   ]
  }
 ],
 "metadata": {
  "kernelspec": {
   "display_name": "Python 3",
   "language": "python",
   "name": "python3"
  },
  "language_info": {
   "codemirror_mode": {
    "name": "ipython",
    "version": 3
   },
   "file_extension": ".py",
   "mimetype": "text/x-python",
   "name": "python",
   "nbconvert_exporter": "python",
   "pygments_lexer": "ipython3",
   "version": "3.12.4"
  },
  "orig_nbformat": 4
 },
 "nbformat": 4,
 "nbformat_minor": 2
}

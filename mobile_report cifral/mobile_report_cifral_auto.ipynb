{
 "cells": [
  {
   "cell_type": "code",
   "execution_count": 1,
   "metadata": {},
   "outputs": [],
   "source": [
    "import requests\n",
    "import time\n",
    "import json\n",
    "import os\n",
    "import datetime\n",
    "import boto3\n",
    "import pytz\n",
    "import pandas as pd"
   ]
  },
  {
   "cell_type": "code",
   "execution_count": 2,
   "metadata": {},
   "outputs": [],
   "source": [
    "from config import ACCESS_KEY,SECRET_KEY,TOKEN,APP_METRICA_OAUTH"
   ]
  },
  {
   "cell_type": "code",
   "execution_count": 3,
   "metadata": {},
   "outputs": [],
   "source": [
    "def get_now_datetime_str(): # получаем актуальное время\n",
    "    time_zone = os.getenv(\"TIME_ZONE\", \"Europe/Moscow\") # меняем таймзону на московскую\n",
    "    now = datetime.datetime.now(pytz.timezone(time_zone))    \n",
    "    yesterday = now - datetime.timedelta(days=1) #нужна вчерашняя дата так как данные за прошлый день\n",
    "    days_to_subtract = yesterday.day - 1\n",
    "    start_of_month_data = yesterday - datetime.timedelta(days=days_to_subtract)\n",
    "    yesterday = now - datetime.timedelta(days=1)\n",
    "\n",
    "    return {'now':now.strftime('%Y-%m-%d %H:%M:%S'),\n",
    "            'now_date':now.strftime('%Y-%m-%d'),\n",
    "            'yesterday_data':yesterday.strftime('%Y-%m-%d'),\n",
    "            'yesterday':yesterday.strftime('%Y-%m-%d %H:%M:%S'), \n",
    "            'year':yesterday.strftime('%Y'),\n",
    "            'month':yesterday.strftime('%m'),\n",
    "            'day':yesterday.strftime('%d'),\n",
    "            'start_of_month_data':start_of_month_data.strftime('%Y-%m-%d')\n",
    "            }\n",
    "\n",
    "# Переменные, которые могут быть использованы в разоичных запросах. \n",
    "now = get_now_datetime_str()['now']\n",
    "# Даты ниже отражают вчерашний день\n",
    "yesterday = get_now_datetime_str()['yesterday']\n",
    "yesterday_data = get_now_datetime_str()['yesterday_data']\n",
    "day = get_now_datetime_str()['day'] # \n",
    "month = get_now_datetime_str()['month']\n",
    "year = get_now_datetime_str()['year']\n",
    "start_of_month_data = get_now_datetime_str()['start_of_month_data']\n",
    "now_date = get_now_datetime_str()['now_date']\n",
    "\n",
    "limit = 100\n",
    "offset = 1"
   ]
  },
  {
   "cell_type": "code",
   "execution_count": 4,
   "metadata": {},
   "outputs": [],
   "source": [
    "month = '05'\n",
    "year = '2024'\n",
    "start_of_month_data = '2024-05-01'\n",
    "now_date = '2024-06-01'\n",
    "yesterday_data = '2024-05-31'"
   ]
  },
  {
   "cell_type": "code",
   "execution_count": 5,
   "metadata": {},
   "outputs": [],
   "source": [
    "headers={'Authorization':APP_METRICA_OAUTH,'Host':'api.appmetrica.yandex.ru'}\n",
    "limit = 100\n",
    "offset = 1\n",
    "\n",
    "\n",
    "def get_request_metrica(api_html_metrica):\n",
    "    response = requests.get(\n",
    "        api_html_metrica,\n",
    "        headers = headers\n",
    "    )\n",
    "    return response"
   ]
  },
  {
   "cell_type": "code",
   "execution_count": 6,
   "metadata": {},
   "outputs": [],
   "source": [
    "token = TOKEN\n",
    "headers={'Authorization':token,'Accept':'application/json'}\n",
    "\n",
    "#'b1gb310irjlk6b99e14g' - аналитика\n",
    "#'b1gc7vi2ckqausoc5dr7' - спутник\n",
    "\n",
    "FOLDER_ID = 'b1gc7vi2ckqausoc5dr7' # id каталога из которого береться запрос\n",
    "ACCESS_KEY = ACCESS_KEY #aws_access_key_id для S3\n",
    "SECRET_KEY = SECRET_KEY #aws_secret_access_key в s3\n",
    "BUCKET_NAME = 'dwh-asgard' #имя бакета\n",
    "TIME_ZONE = os.getenv(\"TIME_ZONE\", \"Europe/Moscow\") #настройка функции\n",
    "TEMP_FILENAME = \"temp_file\"\n"
   ]
  },
  {
   "cell_type": "code",
   "execution_count": 7,
   "metadata": {},
   "outputs": [],
   "source": [
    "def create_query(): #функция создает новый запрос и возвращает id для запроса результата\n",
    "    body = {\n",
    "        \"name\":query_name, \n",
    "        \"TYPE\":\"ANALYTICS\", \n",
    "        \"text\":query_text, \n",
    "        \"description\":query_description\n",
    "    }\n",
    "    response = requests.post(\n",
    "        f'https://api.yandex-query.cloud.yandex.net/api/fq/v1/queries?project={FOLDER_ID}',\n",
    "        headers=headers,\n",
    "        json=body\n",
    "    )\n",
    "    if response.status_code == 200:\n",
    "        return response.json()[\"id\"]\n",
    "    return f' Code: {response},  text: {response.text}'\n",
    "\n",
    "\n",
    "\n",
    "def get_request(offset): # фунция возвращает ответ запроса. Максимум 1000 строк.\n",
    "    offset = offset\n",
    "    get_query_results_url = f'https://api.yandex-query.cloud.yandex.net/api/fq/v1/queries/{request_id}/results/0?project={FOLDER_ID}&offset={str(offset)}&limit=1000'\n",
    "    response = requests.get(\n",
    "        get_query_results_url,\n",
    "        headers = headers\n",
    "    )\n",
    "    return response\n",
    "\n",
    "def if_cell_is_list(cell): # функция участвует в преобразовании данных при создании файла\n",
    "    if isinstance(cell, list):\n",
    "        if len(cell) == 0:\n",
    "            return ''\n",
    "        else: \n",
    "            return cell[0]\n",
    "    else:\n",
    "        return cell\n",
    "\n",
    "def write_temp_file():\n",
    "    offset = 0\n",
    "    response = get_request(offset) #запрашиваем данные запроса\n",
    "    columns = [rows['name'] for rows in response.json()['columns']] #выделяем названия столбцов\n",
    "    special_str = \"\"\n",
    "    for j in columns:\n",
    "        special_str = f\"{special_str}{str(j)},\"\n",
    "    temp_file = open(TEMP_FILENAME, 'w')\n",
    "    temp_file.write(special_str[:-1]+'\\n')\n",
    "\n",
    "    while response.status_code == 200 and len(response.json()['rows']) != 0:  #Цикл делает запросы по 10000, пока не кончатся данные\n",
    "        response = get_request(offset)\n",
    "        response_rows = response.json()['rows']\n",
    "        rows = [[if_cell_is_list(cell) for cell in row] for row in response_rows]  #Преобразуются строки\n",
    "        # Открывает созданный файл и добавляет в него строки\n",
    "        for i in rows:\n",
    "            special_str = \"\"\n",
    "            for j in i:\n",
    "                if isinstance(j, str):\n",
    "                    special_str = f\"{special_str}'{str(j)}',\"\n",
    "                else:\n",
    "                    special_str = f\"{special_str}{str(j)},\"\n",
    "            temp_file.write(special_str[:-1]+'\\n') \n",
    "        offset +=1000 # увеличивает смещение\n",
    "\n",
    "def remove_temp_files(): #функция удаляет временный файл\n",
    "    os.remove(TEMP_FILENAME)"
   ]
  },
  {
   "cell_type": "code",
   "execution_count": 8,
   "metadata": {},
   "outputs": [],
   "source": [
    "FOLDER = 'total_activated_account_rep_mobile_cifral'\n",
    "offset = 0\n",
    "\n",
    "query_name = f'{FOLDER} {now}' #имя, которое появляется в запросах\n",
    "query_description = 'тестовый запрос'#описание, которое появляется в запросах\n",
    "query_text = open(f'{FOLDER}.txt','r').read().format(start_of_month_data,now_date,yesterday_data)\n",
    "\n",
    "request_id = create_query()\n",
    "while str(get_request(0)) == '<Response [400]>':     \n",
    "    time.sleep(10)\n",
    "\n",
    "write_temp_file()\n",
    "temp_file_pd = pd.read_csv(TEMP_FILENAME, sep=',')\n",
    "temp_file_pd.to_csv(f'C:/Users/Boris/Desktop/mobile rep cifral/{FOLDER}/{int(year)}/{int(month)}.csv', index=False,sep=\",\")\n",
    "remove_temp_files()\n"
   ]
  },
  {
   "cell_type": "code",
   "execution_count": 9,
   "metadata": {},
   "outputs": [],
   "source": [
    "FOLDER = 'total_active_users_rep_mobile_cifral'\n",
    "offset = 0\n",
    "\n",
    "query_name = f'{FOLDER} {now}' #имя, которое появляется в запросах\n",
    "query_description = 'тестовый запрос'#описание, которое появляется в запросах\n",
    "query_text = open(f'{FOLDER}.txt','r').read().format(now_date,start_of_month_data,yesterday_data)\n",
    "\n",
    "request_id = create_query()\n",
    "while str(get_request(0)) == '<Response [400]>':     \n",
    "    time.sleep(10)\n",
    "\n",
    "write_temp_file()\n",
    "temp_file_pd = pd.read_csv(TEMP_FILENAME, sep=',')\n",
    "temp_file_pd.to_csv(f'C:/Users/Boris/Desktop/mobile rep cifral/{FOLDER}/{int(year)}/{int(month)}.csv', index=False,sep=\",\")\n",
    "remove_temp_files()"
   ]
  },
  {
   "cell_type": "code",
   "execution_count": 10,
   "metadata": {},
   "outputs": [],
   "source": [
    "FOLDER = 'active_users_in_flats_rep_mobile_cifral'\n",
    "offset = 0\n",
    "\n",
    "query_name = f'{FOLDER} {now}' #имя, которое появляется в запросах\n",
    "query_description = 'тестовый запрос'#описание, которое появляется в запросах\n",
    "query_text = open(f'{FOLDER}.txt','r').read().format(now_date,start_of_month_data,yesterday_data)\n",
    "\n",
    "request_id = create_query()\n",
    "while str(get_request(0)) == '<Response [400]>':     \n",
    "    time.sleep(10)\n",
    "\n",
    "write_temp_file()\n",
    "temp_file_pd = pd.read_csv(TEMP_FILENAME, sep=',')\n",
    "temp_file_pd.to_csv(f'C:/Users/Boris/Desktop/mobile rep cifral/{FOLDER}/{int(year)}/{int(month)}.csv', index=False,sep=\",\")\n",
    "remove_temp_files()"
   ]
  },
  {
   "cell_type": "code",
   "execution_count": 11,
   "metadata": {},
   "outputs": [],
   "source": [
    "FOLDER = 'total_account_count_rep_mobile_cifral'\n",
    "offset = 0\n",
    "\n",
    "query_name = f'{FOLDER} {now}' #имя, которое появляется в запросах\n",
    "query_description = 'тестовый запрос'#описание, которое появляется в запросах\n",
    "query_text = open(f'{FOLDER}.txt','r').read().format(start_of_month_data,now_date,yesterday_data)\n",
    "\n",
    "request_id = create_query()\n",
    "while str(get_request(0)) == '<Response [400]>':     \n",
    "    time.sleep(10)\n",
    "\n",
    "write_temp_file()\n",
    "temp_file_pd = pd.read_csv(TEMP_FILENAME, sep=',')\n",
    "temp_file_pd.to_csv(f'C:/Users/Boris/Desktop/mobile rep cifral/{FOLDER}/{int(year)}/{int(month)}.csv', index=False,sep=\",\")\n",
    "remove_temp_files()"
   ]
  },
  {
   "cell_type": "code",
   "execution_count": 12,
   "metadata": {},
   "outputs": [],
   "source": [
    "FOLDER = 'DAF_rep_mobile_cifral'\n",
    "offset = 0\n",
    "\n",
    "query_name = f'{FOLDER} {now}' #имя, которое появляется в запросах\n",
    "query_description = 'тестовый запрос'#описание, которое появляется в запросах\n",
    "query_text = open(f'{FOLDER}.txt','r').read().format(start_of_month_data,now_date,yesterday_data)\n",
    "\n",
    "request_id = create_query()\n",
    "while str(get_request(0)) == '<Response [400]>':     \n",
    "    time.sleep(10)\n",
    "\n",
    "write_temp_file()\n",
    "temp_file_pd = pd.read_csv(TEMP_FILENAME, sep=',')\n",
    "temp_file_pd.to_csv(f'C:/Users/Boris/Desktop/mobile rep cifral/{FOLDER}/{int(year)}/{int(month)}.csv', index=False,sep=\",\")\n",
    "remove_temp_files()"
   ]
  },
  {
   "cell_type": "code",
   "execution_count": 13,
   "metadata": {},
   "outputs": [],
   "source": [
    "FOLDER = 'MAF_rep_mobile_cifral'\n",
    "offset = 0\n",
    "\n",
    "query_name = f'{FOLDER} {now}' #имя, которое появляется в запросах\n",
    "query_description = 'тестовый запрос'#описание, которое появляется в запросах\n",
    "query_text = open(f'{FOLDER}.txt','r').read().format(start_of_month_data,now_date,yesterday_data)\n",
    "\n",
    "request_id = create_query()\n",
    "while str(get_request(0)) == '<Response [400]>':     \n",
    "    time.sleep(10)\n",
    "\n",
    "write_temp_file()\n",
    "temp_file_pd = pd.read_csv(TEMP_FILENAME, sep=',')\n",
    "temp_file_pd.to_csv(f'C:/Users/Boris/Desktop/mobile rep cifral/{FOLDER}/{int(year)}/{int(month)}.csv', index=False,sep=\",\")\n",
    "remove_temp_files()"
   ]
  },
  {
   "cell_type": "code",
   "execution_count": 14,
   "metadata": {},
   "outputs": [],
   "source": [
    "FOLDER = 'app_in_flats_rep_mobile_cifral'\n",
    "offset = 0\n",
    "\n",
    "query_name = f'{FOLDER} {now}' #имя, которое появляется в запросах\n",
    "query_description = 'тестовый запрос'#описание, которое появляется в запросах\n",
    "query_text = open(f'{FOLDER}.txt','r').read().format(yesterday_data)\n",
    "\n",
    "request_id = create_query()\n",
    "while str(get_request(0)) == '<Response [400]>':     \n",
    "    time.sleep(10)\n",
    "\n",
    "write_temp_file()\n",
    "temp_file_pd = pd.read_csv(TEMP_FILENAME, sep=',')\n",
    "temp_file_pd.to_csv(f'C:/Users/Boris/Desktop/mobile rep cifral/{FOLDER}/{int(year)}/{int(month)}.csv', index=False,sep=\",\")\n",
    "remove_temp_files()"
   ]
  },
  {
   "cell_type": "code",
   "execution_count": 15,
   "metadata": {},
   "outputs": [],
   "source": [
    "FOLDER = 'flats_in_sputnic_rep_mobile_cifral'\n",
    "offset = 0\n",
    "\n",
    "query_name = f'{FOLDER} {now}' #имя, которое появляется в запросах\n",
    "query_description = 'тестовый запрос'#описание, которое появляется в запросах\n",
    "query_text = open(f'{FOLDER}.txt','r').read().format(start_of_month_data,now_date,yesterday_data)\n",
    "\n",
    "request_id = create_query()\n",
    "while str(get_request(0)) == '<Response [400]>':     \n",
    "    time.sleep(10)\n",
    "\n",
    "write_temp_file()\n",
    "temp_file_pd = pd.read_csv(TEMP_FILENAME, sep=',')\n",
    "temp_file_pd.to_csv(f'C:/Users/Boris/Desktop/mobile rep cifral/{FOLDER}/{int(year)}/{int(month)}.csv', index=False,sep=\",\")\n",
    "remove_temp_files()"
   ]
  },
  {
   "cell_type": "code",
   "execution_count": 16,
   "metadata": {},
   "outputs": [],
   "source": [
    "FOLDER = 'all_flats_rep_mobile_cifral'\n",
    "\n",
    "query_name = f'{FOLDER} {now}' #имя, которое появляется в запросах\n",
    "query_description = 'тестовый запрос'#описание, которое появляется в запросах\n",
    "query_text = open(f'{FOLDER}.txt','r').read().format(start_of_month_data,now_date,yesterday_data)\n",
    "\n",
    "request_id = create_query()\n",
    "while str(get_request(0)) == '<Response [400]>':     \n",
    "    time.sleep(10)\n",
    "\n",
    "write_temp_file()\n",
    "temp_file_pd = pd.read_csv(TEMP_FILENAME, sep=',')\n",
    "temp_file_pd.to_csv(f'C:/Users/Boris/Desktop/mobile rep cifral/{FOLDER}/{int(year)}/{int(month)}.csv', index=False,sep=\",\")\n",
    "remove_temp_files()"
   ]
  },
  {
   "cell_type": "code",
   "execution_count": 9,
   "metadata": {},
   "outputs": [
    {
     "ename": "JSONDecodeError",
     "evalue": "Expecting value: line 1 column 1 (char 0)",
     "output_type": "error",
     "traceback": [
      "\u001b[1;31m---------------------------------------------------------------------------\u001b[0m",
      "\u001b[1;31mJSONDecodeError\u001b[0m                           Traceback (most recent call last)",
      "File \u001b[1;32mc:\\Python312\\Lib\\site-packages\\requests\\models.py:971\u001b[0m, in \u001b[0;36mResponse.json\u001b[1;34m(self, **kwargs)\u001b[0m\n\u001b[0;32m    970\u001b[0m \u001b[38;5;28;01mtry\u001b[39;00m:\n\u001b[1;32m--> 971\u001b[0m     \u001b[38;5;28;01mreturn\u001b[39;00m \u001b[43mcomplexjson\u001b[49m\u001b[38;5;241;43m.\u001b[39;49m\u001b[43mloads\u001b[49m\u001b[43m(\u001b[49m\u001b[38;5;28;43mself\u001b[39;49m\u001b[38;5;241;43m.\u001b[39;49m\u001b[43mtext\u001b[49m\u001b[43m,\u001b[49m\u001b[43m \u001b[49m\u001b[38;5;241;43m*\u001b[39;49m\u001b[38;5;241;43m*\u001b[39;49m\u001b[43mkwargs\u001b[49m\u001b[43m)\u001b[49m\n\u001b[0;32m    972\u001b[0m \u001b[38;5;28;01mexcept\u001b[39;00m JSONDecodeError \u001b[38;5;28;01mas\u001b[39;00m e:\n\u001b[0;32m    973\u001b[0m     \u001b[38;5;66;03m# Catch JSON-related errors and raise as requests.JSONDecodeError\u001b[39;00m\n\u001b[0;32m    974\u001b[0m     \u001b[38;5;66;03m# This aliases json.JSONDecodeError and simplejson.JSONDecodeError\u001b[39;00m\n",
      "File \u001b[1;32mc:\\Python312\\Lib\\json\\__init__.py:346\u001b[0m, in \u001b[0;36mloads\u001b[1;34m(s, cls, object_hook, parse_float, parse_int, parse_constant, object_pairs_hook, **kw)\u001b[0m\n\u001b[0;32m    343\u001b[0m \u001b[38;5;28;01mif\u001b[39;00m (\u001b[38;5;28mcls\u001b[39m \u001b[38;5;129;01mis\u001b[39;00m \u001b[38;5;28;01mNone\u001b[39;00m \u001b[38;5;129;01mand\u001b[39;00m object_hook \u001b[38;5;129;01mis\u001b[39;00m \u001b[38;5;28;01mNone\u001b[39;00m \u001b[38;5;129;01mand\u001b[39;00m\n\u001b[0;32m    344\u001b[0m         parse_int \u001b[38;5;129;01mis\u001b[39;00m \u001b[38;5;28;01mNone\u001b[39;00m \u001b[38;5;129;01mand\u001b[39;00m parse_float \u001b[38;5;129;01mis\u001b[39;00m \u001b[38;5;28;01mNone\u001b[39;00m \u001b[38;5;129;01mand\u001b[39;00m\n\u001b[0;32m    345\u001b[0m         parse_constant \u001b[38;5;129;01mis\u001b[39;00m \u001b[38;5;28;01mNone\u001b[39;00m \u001b[38;5;129;01mand\u001b[39;00m object_pairs_hook \u001b[38;5;129;01mis\u001b[39;00m \u001b[38;5;28;01mNone\u001b[39;00m \u001b[38;5;129;01mand\u001b[39;00m \u001b[38;5;129;01mnot\u001b[39;00m kw):\n\u001b[1;32m--> 346\u001b[0m     \u001b[38;5;28;01mreturn\u001b[39;00m \u001b[43m_default_decoder\u001b[49m\u001b[38;5;241;43m.\u001b[39;49m\u001b[43mdecode\u001b[49m\u001b[43m(\u001b[49m\u001b[43ms\u001b[49m\u001b[43m)\u001b[49m\n\u001b[0;32m    347\u001b[0m \u001b[38;5;28;01mif\u001b[39;00m \u001b[38;5;28mcls\u001b[39m \u001b[38;5;129;01mis\u001b[39;00m \u001b[38;5;28;01mNone\u001b[39;00m:\n",
      "File \u001b[1;32mc:\\Python312\\Lib\\json\\decoder.py:337\u001b[0m, in \u001b[0;36mJSONDecoder.decode\u001b[1;34m(self, s, _w)\u001b[0m\n\u001b[0;32m    333\u001b[0m \u001b[38;5;250m\u001b[39m\u001b[38;5;124;03m\"\"\"Return the Python representation of ``s`` (a ``str`` instance\u001b[39;00m\n\u001b[0;32m    334\u001b[0m \u001b[38;5;124;03mcontaining a JSON document).\u001b[39;00m\n\u001b[0;32m    335\u001b[0m \n\u001b[0;32m    336\u001b[0m \u001b[38;5;124;03m\"\"\"\u001b[39;00m\n\u001b[1;32m--> 337\u001b[0m obj, end \u001b[38;5;241m=\u001b[39m \u001b[38;5;28;43mself\u001b[39;49m\u001b[38;5;241;43m.\u001b[39;49m\u001b[43mraw_decode\u001b[49m\u001b[43m(\u001b[49m\u001b[43ms\u001b[49m\u001b[43m,\u001b[49m\u001b[43m \u001b[49m\u001b[43midx\u001b[49m\u001b[38;5;241;43m=\u001b[39;49m\u001b[43m_w\u001b[49m\u001b[43m(\u001b[49m\u001b[43ms\u001b[49m\u001b[43m,\u001b[49m\u001b[43m \u001b[49m\u001b[38;5;241;43m0\u001b[39;49m\u001b[43m)\u001b[49m\u001b[38;5;241;43m.\u001b[39;49m\u001b[43mend\u001b[49m\u001b[43m(\u001b[49m\u001b[43m)\u001b[49m\u001b[43m)\u001b[49m\n\u001b[0;32m    338\u001b[0m end \u001b[38;5;241m=\u001b[39m _w(s, end)\u001b[38;5;241m.\u001b[39mend()\n",
      "File \u001b[1;32mc:\\Python312\\Lib\\json\\decoder.py:355\u001b[0m, in \u001b[0;36mJSONDecoder.raw_decode\u001b[1;34m(self, s, idx)\u001b[0m\n\u001b[0;32m    354\u001b[0m \u001b[38;5;28;01mexcept\u001b[39;00m \u001b[38;5;167;01mStopIteration\u001b[39;00m \u001b[38;5;28;01mas\u001b[39;00m err:\n\u001b[1;32m--> 355\u001b[0m     \u001b[38;5;28;01mraise\u001b[39;00m JSONDecodeError(\u001b[38;5;124m\"\u001b[39m\u001b[38;5;124mExpecting value\u001b[39m\u001b[38;5;124m\"\u001b[39m, s, err\u001b[38;5;241m.\u001b[39mvalue) \u001b[38;5;28;01mfrom\u001b[39;00m \u001b[38;5;28;01mNone\u001b[39;00m\n\u001b[0;32m    356\u001b[0m \u001b[38;5;28;01mreturn\u001b[39;00m obj, end\n",
      "\u001b[1;31mJSONDecodeError\u001b[0m: Expecting value: line 1 column 1 (char 0)",
      "\nDuring handling of the above exception, another exception occurred:\n",
      "\u001b[1;31mJSONDecodeError\u001b[0m                           Traceback (most recent call last)",
      "Cell \u001b[1;32mIn[9], line 11\u001b[0m\n\u001b[0;32m      8\u001b[0m \u001b[38;5;28;01mwhile\u001b[39;00m \u001b[38;5;28mstr\u001b[39m(get_request(\u001b[38;5;241m0\u001b[39m)) \u001b[38;5;241m==\u001b[39m \u001b[38;5;124m'\u001b[39m\u001b[38;5;124m<Response [400]>\u001b[39m\u001b[38;5;124m'\u001b[39m:     \n\u001b[0;32m      9\u001b[0m     time\u001b[38;5;241m.\u001b[39msleep(\u001b[38;5;241m10\u001b[39m)\n\u001b[1;32m---> 11\u001b[0m \u001b[43mwrite_temp_file\u001b[49m\u001b[43m(\u001b[49m\u001b[43m)\u001b[49m\n\u001b[0;32m     12\u001b[0m temp_file_pd \u001b[38;5;241m=\u001b[39m pd\u001b[38;5;241m.\u001b[39mread_csv(TEMP_FILENAME, sep\u001b[38;5;241m=\u001b[39m\u001b[38;5;124m'\u001b[39m\u001b[38;5;124m,\u001b[39m\u001b[38;5;124m'\u001b[39m)\n\u001b[0;32m     13\u001b[0m temp_file_pd\u001b[38;5;241m.\u001b[39mto_csv(\u001b[38;5;124mf\u001b[39m\u001b[38;5;124m'\u001b[39m\u001b[38;5;124mC:/Users/Boris/Desktop/mobile rep cifral/\u001b[39m\u001b[38;5;132;01m{\u001b[39;00mFOLDER\u001b[38;5;132;01m}\u001b[39;00m\u001b[38;5;124m/\u001b[39m\u001b[38;5;132;01m{\u001b[39;00m\u001b[38;5;28mint\u001b[39m(year)\u001b[38;5;132;01m}\u001b[39;00m\u001b[38;5;124m/\u001b[39m\u001b[38;5;132;01m{\u001b[39;00m\u001b[38;5;28mint\u001b[39m(month)\u001b[38;5;132;01m}\u001b[39;00m\u001b[38;5;124m.csv\u001b[39m\u001b[38;5;124m'\u001b[39m, index\u001b[38;5;241m=\u001b[39m\u001b[38;5;28;01mFalse\u001b[39;00m,sep\u001b[38;5;241m=\u001b[39m\u001b[38;5;124m\"\u001b[39m\u001b[38;5;124m,\u001b[39m\u001b[38;5;124m\"\u001b[39m)\n",
      "Cell \u001b[1;32mIn[7], line 40\u001b[0m, in \u001b[0;36mwrite_temp_file\u001b[1;34m()\u001b[0m\n\u001b[0;32m     38\u001b[0m offset \u001b[38;5;241m=\u001b[39m \u001b[38;5;241m0\u001b[39m\n\u001b[0;32m     39\u001b[0m response \u001b[38;5;241m=\u001b[39m get_request(offset) \u001b[38;5;66;03m#запрашиваем данные запроса\u001b[39;00m\n\u001b[1;32m---> 40\u001b[0m columns \u001b[38;5;241m=\u001b[39m [rows[\u001b[38;5;124m'\u001b[39m\u001b[38;5;124mname\u001b[39m\u001b[38;5;124m'\u001b[39m] \u001b[38;5;28;01mfor\u001b[39;00m rows \u001b[38;5;129;01min\u001b[39;00m \u001b[43mresponse\u001b[49m\u001b[38;5;241;43m.\u001b[39;49m\u001b[43mjson\u001b[49m\u001b[43m(\u001b[49m\u001b[43m)\u001b[49m[\u001b[38;5;124m'\u001b[39m\u001b[38;5;124mcolumns\u001b[39m\u001b[38;5;124m'\u001b[39m]] \u001b[38;5;66;03m#выделяем названия столбцов\u001b[39;00m\n\u001b[0;32m     41\u001b[0m special_str \u001b[38;5;241m=\u001b[39m \u001b[38;5;124m\"\u001b[39m\u001b[38;5;124m\"\u001b[39m\n\u001b[0;32m     42\u001b[0m \u001b[38;5;28;01mfor\u001b[39;00m j \u001b[38;5;129;01min\u001b[39;00m columns:\n",
      "File \u001b[1;32mc:\\Python312\\Lib\\site-packages\\requests\\models.py:975\u001b[0m, in \u001b[0;36mResponse.json\u001b[1;34m(self, **kwargs)\u001b[0m\n\u001b[0;32m    971\u001b[0m     \u001b[38;5;28;01mreturn\u001b[39;00m complexjson\u001b[38;5;241m.\u001b[39mloads(\u001b[38;5;28mself\u001b[39m\u001b[38;5;241m.\u001b[39mtext, \u001b[38;5;241m*\u001b[39m\u001b[38;5;241m*\u001b[39mkwargs)\n\u001b[0;32m    972\u001b[0m \u001b[38;5;28;01mexcept\u001b[39;00m JSONDecodeError \u001b[38;5;28;01mas\u001b[39;00m e:\n\u001b[0;32m    973\u001b[0m     \u001b[38;5;66;03m# Catch JSON-related errors and raise as requests.JSONDecodeError\u001b[39;00m\n\u001b[0;32m    974\u001b[0m     \u001b[38;5;66;03m# This aliases json.JSONDecodeError and simplejson.JSONDecodeError\u001b[39;00m\n\u001b[1;32m--> 975\u001b[0m     \u001b[38;5;28;01mraise\u001b[39;00m RequestsJSONDecodeError(e\u001b[38;5;241m.\u001b[39mmsg, e\u001b[38;5;241m.\u001b[39mdoc, e\u001b[38;5;241m.\u001b[39mpos)\n",
      "\u001b[1;31mJSONDecodeError\u001b[0m: Expecting value: line 1 column 1 (char 0)"
     ]
    }
   ],
   "source": [
    "FOLDER = 'Units_on_SK platform_(monetization)_rep_mobile_cifral'\n",
    "\n",
    "query_name = f'{FOLDER} {now}' #имя, которое появляется в запросах\n",
    "query_description = 'тестовый запрос'#описание, которое появляется в запросах\n",
    "query_text = open(f'{FOLDER}.txt','r').read().format(start_of_month_data,now_date,yesterday_data)\n",
    "\n",
    "request_id = create_query()\n",
    "while str(get_request(0)) == '<Response [400]>':     \n",
    "    time.sleep(10)\n",
    "\n",
    "write_temp_file()\n",
    "temp_file_pd = pd.read_csv(TEMP_FILENAME, sep=',')\n",
    "temp_file_pd.to_csv(f'C:/Users/Boris/Desktop/mobile rep cifral/{FOLDER}/{int(year)}/{int(month)}.csv', index=False,sep=\",\")\n",
    "remove_temp_files()"
   ]
  },
  {
   "cell_type": "code",
   "execution_count": 18,
   "metadata": {},
   "outputs": [],
   "source": [
    "FOLDER = 'paying_active_flats_rep_mobile_cifral'\n",
    "\n",
    "query_name = f'{FOLDER} {now}' #имя, которое появляется в запросах\n",
    "query_description = 'тестовый запрос'#описание, которое появляется в запросах\n",
    "query_text = open(f'{FOLDER}.txt','r').read().format(start_of_month_data,now_date,yesterday_data)\n",
    "\n",
    "request_id = create_query()\n",
    "while str(get_request(0)) == '<Response [400]>':     \n",
    "    time.sleep(10)\n",
    "\n",
    "write_temp_file()\n",
    "temp_file_pd = pd.read_csv(TEMP_FILENAME, sep=',')\n",
    "temp_file_pd.to_csv(f'C:/Users/Boris/Desktop/mobile rep cifral/{FOLDER}/{int(year)}/{int(month)}.csv', index=False,sep=\",\")\n",
    "remove_temp_files()"
   ]
  },
  {
   "cell_type": "code",
   "execution_count": 19,
   "metadata": {},
   "outputs": [],
   "source": [
    "FOLDER = 'subscriptions_report_comerce_rep_mobile_cifral'\n",
    "offset = 0\n",
    "query_name = f'{FOLDER} {now}' #имя, которое появляется в запросах\n",
    "query_description = 'тестовый запрос'#описание, которое появляется в запросах\n",
    "query_text = open(f'{FOLDER}.txt','r').read().format(start_of_month_data,now_date,yesterday_data)\n",
    "\n",
    "request_id = create_query()\n",
    "while str(get_request(0)) == '<Response [400]>':     \n",
    "    time.sleep(10)\n",
    "\n",
    "write_temp_file()\n",
    "temp_file_pd = pd.read_csv(TEMP_FILENAME, sep=',')\n",
    "temp_file_pd.to_csv(f'C:/Users/Boris/Desktop/mobile rep cifral/{FOLDER}/{int(year)}/{int(month)}.csv', index=False,sep=\",\")\n",
    "remove_temp_files()"
   ]
  },
  {
   "cell_type": "code",
   "execution_count": 20,
   "metadata": {},
   "outputs": [],
   "source": [
    "FOLDER = 'mobile_report_rep_mobile_cifral'\n",
    "\n",
    "query_name = f'{FOLDER} {now}' #имя, которое появляется в запросах\n",
    "query_description = 'тестовый запрос'#описание, которое появляется в запросах\n",
    "query_text = open(f'{FOLDER}.txt','r').read().format(start_of_month_data,now_date,yesterday_data,month,year)\n",
    "\n",
    "request_id = create_query()\n",
    "while str(get_request(0)) == '<Response [400]>':     \n",
    "    time.sleep(10)\n",
    "\n",
    "write_temp_file()\n",
    "temp_file_pd = pd.read_csv(TEMP_FILENAME, sep=',')\n",
    "temp_file_pd.to_csv(f'C:/Users/Boris/Desktop/mobile rep cifral/{FOLDER}/{int(year)}/{int(month)}.csv', index=False,sep=\",\")\n",
    "remove_temp_files()"
   ]
  },
  {
   "cell_type": "code",
   "execution_count": 21,
   "metadata": {},
   "outputs": [],
   "source": [
    "FOLDER = 'service_payments_rep_mobule_cifral'\n",
    "service_payments = pd.DataFrame({\n",
    "    'service_payments': 0\n",
    "            },index=[0])\n",
    "\n",
    "service_payments.to_csv(f'C:/Users/Boris/Desktop/mobile rep cifral/{FOLDER}/{int(year)}/{int(month)}.csv', index=False,sep=\",\")"
   ]
  },
  {
   "cell_type": "markdown",
   "metadata": {},
   "source": [
    "# Concat"
   ]
  },
  {
   "cell_type": "code",
   "execution_count": 22,
   "metadata": {},
   "outputs": [
    {
     "data": {
      "text/html": [
       "<div>\n",
       "<style scoped>\n",
       "    .dataframe tbody tr th:only-of-type {\n",
       "        vertical-align: middle;\n",
       "    }\n",
       "\n",
       "    .dataframe tbody tr th {\n",
       "        vertical-align: top;\n",
       "    }\n",
       "\n",
       "    .dataframe thead th {\n",
       "        text-align: right;\n",
       "    }\n",
       "</style>\n",
       "<table border=\"1\" class=\"dataframe\">\n",
       "  <thead>\n",
       "    <tr style=\"text-align: right;\">\n",
       "      <th></th>\n",
       "      <th>service_payments</th>\n",
       "    </tr>\n",
       "  </thead>\n",
       "  <tbody>\n",
       "    <tr>\n",
       "      <th>0</th>\n",
       "      <td>0</td>\n",
       "    </tr>\n",
       "  </tbody>\n",
       "</table>\n",
       "</div>"
      ],
      "text/plain": [
       "   service_payments\n",
       "0                 0"
      ]
     },
     "execution_count": 22,
     "metadata": {},
     "output_type": "execute_result"
    }
   ],
   "source": [
    "service_payments = pd.read_csv(f'C:/Users/Boris/Desktop/mobile rep cifral/service_payments_rep_mobule_cifral/{int(year)}/{int(month)}.csv', sep=',')\n",
    "service_payments = service_payments['service_payments'].to_frame(name = 'service_payments')\n",
    "service_payments"
   ]
  },
  {
   "cell_type": "code",
   "execution_count": 23,
   "metadata": {},
   "outputs": [
    {
     "data": {
      "text/html": [
       "<div>\n",
       "<style scoped>\n",
       "    .dataframe tbody tr th:only-of-type {\n",
       "        vertical-align: middle;\n",
       "    }\n",
       "\n",
       "    .dataframe tbody tr th {\n",
       "        vertical-align: top;\n",
       "    }\n",
       "\n",
       "    .dataframe thead th {\n",
       "        text-align: right;\n",
       "    }\n",
       "</style>\n",
       "<table border=\"1\" class=\"dataframe\">\n",
       "  <thead>\n",
       "    <tr style=\"text-align: right;\">\n",
       "      <th></th>\n",
       "      <th>Первая дата</th>\n",
       "      <th>Месяц</th>\n",
       "      <th>Год</th>\n",
       "      <th>IOS_PL</th>\n",
       "      <th>appstore_count_69</th>\n",
       "      <th>appstore_count_69_refunded</th>\n",
       "      <th>appstore_count_499</th>\n",
       "      <th>appstore_count_499_refunded</th>\n",
       "      <th>appstore_count_2390</th>\n",
       "      <th>appstore_count_2390_refunded</th>\n",
       "      <th>...</th>\n",
       "      <th>yookassa_count_35_refunded</th>\n",
       "      <th>yookassa_count_1</th>\n",
       "      <th>yookassa_count_1_refunded</th>\n",
       "      <th>yookassa_count_499</th>\n",
       "      <th>yookassa_count_499_refunded</th>\n",
       "      <th>yookassa_count_249</th>\n",
       "      <th>yookassa_count_249_refunded</th>\n",
       "      <th>yookassa_count_2390</th>\n",
       "      <th>yookassa_count_2390_refunded</th>\n",
       "      <th>refunded_amount_yookassa</th>\n",
       "    </tr>\n",
       "  </thead>\n",
       "  <tbody>\n",
       "    <tr>\n",
       "      <th>0</th>\n",
       "      <td>'2024-05-01'</td>\n",
       "      <td>5</td>\n",
       "      <td>2024</td>\n",
       "      <td>''</td>\n",
       "      <td>481</td>\n",
       "      <td>0</td>\n",
       "      <td>0</td>\n",
       "      <td>0</td>\n",
       "      <td>0</td>\n",
       "      <td>0</td>\n",
       "      <td>...</td>\n",
       "      <td>0</td>\n",
       "      <td>23</td>\n",
       "      <td>0</td>\n",
       "      <td>0</td>\n",
       "      <td>0</td>\n",
       "      <td>0</td>\n",
       "      <td>0</td>\n",
       "      <td>0</td>\n",
       "      <td>0</td>\n",
       "      <td>''</td>\n",
       "    </tr>\n",
       "  </tbody>\n",
       "</table>\n",
       "<p>1 rows × 27 columns</p>\n",
       "</div>"
      ],
      "text/plain": [
       "    Первая дата  Месяц   Год IOS_PL  appstore_count_69  \\\n",
       "0  '2024-05-01'      5  2024     ''                481   \n",
       "\n",
       "   appstore_count_69_refunded  appstore_count_499  \\\n",
       "0                           0                   0   \n",
       "\n",
       "   appstore_count_499_refunded  appstore_count_2390  \\\n",
       "0                            0                    0   \n",
       "\n",
       "   appstore_count_2390_refunded  ...  yookassa_count_35_refunded  \\\n",
       "0                             0  ...                           0   \n",
       "\n",
       "   yookassa_count_1 yookassa_count_1_refunded yookassa_count_499  \\\n",
       "0                23                         0                  0   \n",
       "\n",
       "   yookassa_count_499_refunded  yookassa_count_249  \\\n",
       "0                            0                   0   \n",
       "\n",
       "   yookassa_count_249_refunded  yookassa_count_2390  \\\n",
       "0                            0                    0   \n",
       "\n",
       "   yookassa_count_2390_refunded  refunded_amount_yookassa  \n",
       "0                             0                        ''  \n",
       "\n",
       "[1 rows x 27 columns]"
      ]
     },
     "execution_count": 23,
     "metadata": {},
     "output_type": "execute_result"
    }
   ],
   "source": [
    "mobile_report = pd.read_csv(f'C:/Users/Boris/Desktop/mobile rep cifral/mobile_report_rep_mobile_cifral/{int(year)}/{int(month)}.csv', sep=',')\n",
    "mobile_report"
   ]
  },
  {
   "cell_type": "code",
   "execution_count": 24,
   "metadata": {},
   "outputs": [
    {
     "data": {
      "text/html": [
       "<div>\n",
       "<style scoped>\n",
       "    .dataframe tbody tr th:only-of-type {\n",
       "        vertical-align: middle;\n",
       "    }\n",
       "\n",
       "    .dataframe tbody tr th {\n",
       "        vertical-align: top;\n",
       "    }\n",
       "\n",
       "    .dataframe thead th {\n",
       "        text-align: right;\n",
       "    }\n",
       "</style>\n",
       "<table border=\"1\" class=\"dataframe\">\n",
       "  <thead>\n",
       "    <tr style=\"text-align: right;\">\n",
       "      <th></th>\n",
       "      <th>paying_users</th>\n",
       "      <th>paying_users_standart</th>\n",
       "      <th>paying_users_standart_yakassa</th>\n",
       "      <th>paying_users_standart_appstore</th>\n",
       "      <th>paying_users_standart_ios_from_cart</th>\n",
       "      <th>new_subscriptions</th>\n",
       "      <th>failed_subscriptions</th>\n",
       "      <th>canceled_subscriptions</th>\n",
       "      <th>renewed_subscriptions</th>\n",
       "    </tr>\n",
       "  </thead>\n",
       "  <tbody>\n",
       "    <tr>\n",
       "      <th>0</th>\n",
       "      <td>2567</td>\n",
       "      <td>2567</td>\n",
       "      <td>1549</td>\n",
       "      <td>484</td>\n",
       "      <td>362</td>\n",
       "      <td>278</td>\n",
       "      <td>203</td>\n",
       "      <td>36</td>\n",
       "      <td>2286</td>\n",
       "    </tr>\n",
       "  </tbody>\n",
       "</table>\n",
       "</div>"
      ],
      "text/plain": [
       "   paying_users  paying_users_standart  paying_users_standart_yakassa  \\\n",
       "0          2567                   2567                           1549   \n",
       "\n",
       "   paying_users_standart_appstore  paying_users_standart_ios_from_cart  \\\n",
       "0                             484                                  362   \n",
       "\n",
       "   new_subscriptions  failed_subscriptions  canceled_subscriptions  \\\n",
       "0                278                   203                      36   \n",
       "\n",
       "   renewed_subscriptions  \n",
       "0                   2286  "
      ]
     },
     "execution_count": 24,
     "metadata": {},
     "output_type": "execute_result"
    }
   ],
   "source": [
    "subscriptions_report_comerce = pd.read_csv(f'C:/Users/Boris/Desktop/mobile rep cifral/subscriptions_report_comerce_rep_mobile_cifral/{int(year)}/{int(month)}.csv', sep=',')\n",
    "subscriptions_report_comerce = subscriptions_report_comerce[['paying_users','paying_users_standart','paying_users_standart_yakassa','paying_users_standart_appstore','paying_users_standart_ios_from_cart','new_subscriptions','failed_subscriptions','canceled_subscriptions','renewed_subscriptions']]\n",
    "subscriptions_report_comerce"
   ]
  },
  {
   "cell_type": "code",
   "execution_count": 25,
   "metadata": {},
   "outputs": [
    {
     "data": {
      "text/html": [
       "<div>\n",
       "<style scoped>\n",
       "    .dataframe tbody tr th:only-of-type {\n",
       "        vertical-align: middle;\n",
       "    }\n",
       "\n",
       "    .dataframe tbody tr th {\n",
       "        vertical-align: top;\n",
       "    }\n",
       "\n",
       "    .dataframe thead th {\n",
       "        text-align: right;\n",
       "    }\n",
       "</style>\n",
       "<table border=\"1\" class=\"dataframe\">\n",
       "  <thead>\n",
       "    <tr style=\"text-align: right;\">\n",
       "      <th></th>\n",
       "      <th>Units on SK platform</th>\n",
       "      <th>Units stricted monetization</th>\n",
       "      <th>Units free monetization</th>\n",
       "    </tr>\n",
       "  </thead>\n",
       "  <tbody>\n",
       "    <tr>\n",
       "      <th>0</th>\n",
       "      <td>6459</td>\n",
       "      <td>4692</td>\n",
       "      <td>1767</td>\n",
       "    </tr>\n",
       "  </tbody>\n",
       "</table>\n",
       "</div>"
      ],
      "text/plain": [
       "   Units on SK platform  Units stricted monetization  Units free monetization\n",
       "0                  6459                         4692                     1767"
      ]
     },
     "execution_count": 25,
     "metadata": {},
     "output_type": "execute_result"
    }
   ],
   "source": [
    "units_on_SK_platform = pd.read_csv(f'C:/Users/Boris/Desktop/mobile rep cifral/Units_on_SK platform_(monetization)_rep_mobile_cifral/{int(year)}/{int(month)}.csv', sep=',')\n",
    "units_on_SK_platform"
   ]
  },
  {
   "cell_type": "code",
   "execution_count": 26,
   "metadata": {},
   "outputs": [
    {
     "data": {
      "text/html": [
       "<div>\n",
       "<style scoped>\n",
       "    .dataframe tbody tr th:only-of-type {\n",
       "        vertical-align: middle;\n",
       "    }\n",
       "\n",
       "    .dataframe tbody tr th {\n",
       "        vertical-align: top;\n",
       "    }\n",
       "\n",
       "    .dataframe thead th {\n",
       "        text-align: right;\n",
       "    }\n",
       "</style>\n",
       "<table border=\"1\" class=\"dataframe\">\n",
       "  <thead>\n",
       "    <tr style=\"text-align: right;\">\n",
       "      <th></th>\n",
       "      <th>total_account_count</th>\n",
       "    </tr>\n",
       "  </thead>\n",
       "  <tbody>\n",
       "    <tr>\n",
       "      <th>0</th>\n",
       "      <td>307101</td>\n",
       "    </tr>\n",
       "  </tbody>\n",
       "</table>\n",
       "</div>"
      ],
      "text/plain": [
       "   total_account_count\n",
       "0               307101"
      ]
     },
     "execution_count": 26,
     "metadata": {},
     "output_type": "execute_result"
    }
   ],
   "source": [
    "total_account_count = pd.read_csv(f'C:/Users/Boris/Desktop/mobile rep cifral/total_account_count_rep_mobile_cifral/{int(year)}/{int(month)}.csv', sep=',')\n",
    "total_account_count"
   ]
  },
  {
   "cell_type": "code",
   "execution_count": 27,
   "metadata": {},
   "outputs": [
    {
     "data": {
      "text/html": [
       "<div>\n",
       "<style scoped>\n",
       "    .dataframe tbody tr th:only-of-type {\n",
       "        vertical-align: middle;\n",
       "    }\n",
       "\n",
       "    .dataframe tbody tr th {\n",
       "        vertical-align: top;\n",
       "    }\n",
       "\n",
       "    .dataframe thead th {\n",
       "        text-align: right;\n",
       "    }\n",
       "</style>\n",
       "<table border=\"1\" class=\"dataframe\">\n",
       "  <thead>\n",
       "    <tr style=\"text-align: right;\">\n",
       "      <th></th>\n",
       "      <th>total_activated_account</th>\n",
       "    </tr>\n",
       "  </thead>\n",
       "  <tbody>\n",
       "    <tr>\n",
       "      <th>0</th>\n",
       "      <td>306945</td>\n",
       "    </tr>\n",
       "  </tbody>\n",
       "</table>\n",
       "</div>"
      ],
      "text/plain": [
       "   total_activated_account\n",
       "0                   306945"
      ]
     },
     "execution_count": 27,
     "metadata": {},
     "output_type": "execute_result"
    }
   ],
   "source": [
    "total_activated_account = pd.read_csv(f'C:/Users/Boris/Desktop/mobile rep cifral/total_activated_account_rep_mobile_cifral/{int(year)}/{int(month)}.csv', sep=',')\n",
    "total_activated_account"
   ]
  },
  {
   "cell_type": "code",
   "execution_count": 28,
   "metadata": {},
   "outputs": [
    {
     "data": {
      "text/html": [
       "<div>\n",
       "<style scoped>\n",
       "    .dataframe tbody tr th:only-of-type {\n",
       "        vertical-align: middle;\n",
       "    }\n",
       "\n",
       "    .dataframe tbody tr th {\n",
       "        vertical-align: top;\n",
       "    }\n",
       "\n",
       "    .dataframe thead th {\n",
       "        text-align: right;\n",
       "    }\n",
       "</style>\n",
       "<table border=\"1\" class=\"dataframe\">\n",
       "  <thead>\n",
       "    <tr style=\"text-align: right;\">\n",
       "      <th></th>\n",
       "      <th>total_active_users</th>\n",
       "    </tr>\n",
       "  </thead>\n",
       "  <tbody>\n",
       "    <tr>\n",
       "      <th>0</th>\n",
       "      <td>185141</td>\n",
       "    </tr>\n",
       "  </tbody>\n",
       "</table>\n",
       "</div>"
      ],
      "text/plain": [
       "   total_active_users\n",
       "0              185141"
      ]
     },
     "execution_count": 28,
     "metadata": {},
     "output_type": "execute_result"
    }
   ],
   "source": [
    "total_active_users = pd.read_csv(f'C:/Users/Boris/Desktop/mobile rep cifral/total_active_users_rep_mobile_cifral/{int(year)}/{int(month)}.csv', sep=',')\n",
    "total_active_users"
   ]
  },
  {
   "cell_type": "code",
   "execution_count": 29,
   "metadata": {},
   "outputs": [
    {
     "data": {
      "text/html": [
       "<div>\n",
       "<style scoped>\n",
       "    .dataframe tbody tr th:only-of-type {\n",
       "        vertical-align: middle;\n",
       "    }\n",
       "\n",
       "    .dataframe tbody tr th {\n",
       "        vertical-align: top;\n",
       "    }\n",
       "\n",
       "    .dataframe thead th {\n",
       "        text-align: right;\n",
       "    }\n",
       "</style>\n",
       "<table border=\"1\" class=\"dataframe\">\n",
       "  <thead>\n",
       "    <tr style=\"text-align: right;\">\n",
       "      <th></th>\n",
       "      <th>all_flats</th>\n",
       "      <th>freemonetization_flats</th>\n",
       "      <th>stricted_flats</th>\n",
       "      <th>subsc_restrict_is_null_flats</th>\n",
       "    </tr>\n",
       "  </thead>\n",
       "  <tbody>\n",
       "    <tr>\n",
       "      <th>0</th>\n",
       "      <td>201637</td>\n",
       "      <td>55770</td>\n",
       "      <td>145867</td>\n",
       "      <td>0</td>\n",
       "    </tr>\n",
       "  </tbody>\n",
       "</table>\n",
       "</div>"
      ],
      "text/plain": [
       "   all_flats  freemonetization_flats  stricted_flats  \\\n",
       "0     201637                   55770          145867   \n",
       "\n",
       "   subsc_restrict_is_null_flats  \n",
       "0                             0  "
      ]
     },
     "execution_count": 29,
     "metadata": {},
     "output_type": "execute_result"
    }
   ],
   "source": [
    "all_flats = pd.read_csv(f'C:/Users/Boris/Desktop/mobile rep cifral/all_flats_rep_mobile_cifral/{int(year)}/{int(month)}.csv', sep=',')\n",
    "all_flats"
   ]
  },
  {
   "cell_type": "code",
   "execution_count": 30,
   "metadata": {},
   "outputs": [
    {
     "data": {
      "text/html": [
       "<div>\n",
       "<style scoped>\n",
       "    .dataframe tbody tr th:only-of-type {\n",
       "        vertical-align: middle;\n",
       "    }\n",
       "\n",
       "    .dataframe tbody tr th {\n",
       "        vertical-align: top;\n",
       "    }\n",
       "\n",
       "    .dataframe thead th {\n",
       "        text-align: right;\n",
       "    }\n",
       "</style>\n",
       "<table border=\"1\" class=\"dataframe\">\n",
       "  <thead>\n",
       "    <tr style=\"text-align: right;\">\n",
       "      <th></th>\n",
       "      <th>flats_in_sputnic</th>\n",
       "    </tr>\n",
       "  </thead>\n",
       "  <tbody>\n",
       "    <tr>\n",
       "      <th>0</th>\n",
       "      <td>158214</td>\n",
       "    </tr>\n",
       "  </tbody>\n",
       "</table>\n",
       "</div>"
      ],
      "text/plain": [
       "   flats_in_sputnic\n",
       "0            158214"
      ]
     },
     "execution_count": 30,
     "metadata": {},
     "output_type": "execute_result"
    }
   ],
   "source": [
    "flats_in_sputnic = pd.read_csv(f'C:/Users/Boris/Desktop/mobile rep cifral/flats_in_sputnic_rep_mobile_cifral/{int(year)}/{int(month)}.csv', sep=',')\n",
    "flats_in_sputnic"
   ]
  },
  {
   "cell_type": "code",
   "execution_count": 31,
   "metadata": {},
   "outputs": [
    {
     "data": {
      "text/html": [
       "<div>\n",
       "<style scoped>\n",
       "    .dataframe tbody tr th:only-of-type {\n",
       "        vertical-align: middle;\n",
       "    }\n",
       "\n",
       "    .dataframe tbody tr th {\n",
       "        vertical-align: top;\n",
       "    }\n",
       "\n",
       "    .dataframe thead th {\n",
       "        text-align: right;\n",
       "    }\n",
       "</style>\n",
       "<table border=\"1\" class=\"dataframe\">\n",
       "  <thead>\n",
       "    <tr style=\"text-align: right;\">\n",
       "      <th></th>\n",
       "      <th>MAF</th>\n",
       "      <th>stricted_MAF</th>\n",
       "      <th>freemonetization_MAF</th>\n",
       "    </tr>\n",
       "  </thead>\n",
       "  <tbody>\n",
       "    <tr>\n",
       "      <th>0</th>\n",
       "      <td>117259</td>\n",
       "      <td>86335</td>\n",
       "      <td>30924</td>\n",
       "    </tr>\n",
       "  </tbody>\n",
       "</table>\n",
       "</div>"
      ],
      "text/plain": [
       "      MAF  stricted_MAF  freemonetization_MAF\n",
       "0  117259         86335                 30924"
      ]
     },
     "execution_count": 31,
     "metadata": {},
     "output_type": "execute_result"
    }
   ],
   "source": [
    "maf = pd.read_csv(f'C:/Users/Boris/Desktop/mobile rep cifral/MAF_rep_mobile_cifral/{int(year)}/{int(month)}.csv', sep=',')\n",
    "maf"
   ]
  },
  {
   "cell_type": "code",
   "execution_count": 32,
   "metadata": {},
   "outputs": [
    {
     "data": {
      "text/html": [
       "<div>\n",
       "<style scoped>\n",
       "    .dataframe tbody tr th:only-of-type {\n",
       "        vertical-align: middle;\n",
       "    }\n",
       "\n",
       "    .dataframe tbody tr th {\n",
       "        vertical-align: top;\n",
       "    }\n",
       "\n",
       "    .dataframe thead th {\n",
       "        text-align: right;\n",
       "    }\n",
       "</style>\n",
       "<table border=\"1\" class=\"dataframe\">\n",
       "  <thead>\n",
       "    <tr style=\"text-align: right;\">\n",
       "      <th></th>\n",
       "      <th>DAF</th>\n",
       "      <th>stricted_DAF</th>\n",
       "      <th>freemonetization_DAF</th>\n",
       "    </tr>\n",
       "  </thead>\n",
       "  <tbody>\n",
       "    <tr>\n",
       "      <th>0</th>\n",
       "      <td>47536</td>\n",
       "      <td>34860</td>\n",
       "      <td>12675</td>\n",
       "    </tr>\n",
       "  </tbody>\n",
       "</table>\n",
       "</div>"
      ],
      "text/plain": [
       "     DAF  stricted_DAF  freemonetization_DAF\n",
       "0  47536         34860                 12675"
      ]
     },
     "execution_count": 32,
     "metadata": {},
     "output_type": "execute_result"
    }
   ],
   "source": [
    "daf = pd.read_csv(f'C:/Users/Boris/Desktop/mobile rep cifral/DAF_rep_mobile_cifral/{int(year)}/{int(month)}.csv', sep=',').round().astype('int')\n",
    "daf"
   ]
  },
  {
   "cell_type": "code",
   "execution_count": 33,
   "metadata": {},
   "outputs": [
    {
     "data": {
      "text/html": [
       "<div>\n",
       "<style scoped>\n",
       "    .dataframe tbody tr th:only-of-type {\n",
       "        vertical-align: middle;\n",
       "    }\n",
       "\n",
       "    .dataframe tbody tr th {\n",
       "        vertical-align: top;\n",
       "    }\n",
       "\n",
       "    .dataframe thead th {\n",
       "        text-align: right;\n",
       "    }\n",
       "</style>\n",
       "<table border=\"1\" class=\"dataframe\">\n",
       "  <thead>\n",
       "    <tr style=\"text-align: right;\">\n",
       "      <th></th>\n",
       "      <th>paying_active_flats</th>\n",
       "    </tr>\n",
       "  </thead>\n",
       "  <tbody>\n",
       "    <tr>\n",
       "      <th>0</th>\n",
       "      <td>2517</td>\n",
       "    </tr>\n",
       "  </tbody>\n",
       "</table>\n",
       "</div>"
      ],
      "text/plain": [
       "   paying_active_flats\n",
       "0                 2517"
      ]
     },
     "execution_count": 33,
     "metadata": {},
     "output_type": "execute_result"
    }
   ],
   "source": [
    "paying_active_flats = pd.read_csv(f'C:/Users/Boris/Desktop/mobile rep cifral/paying_active_flats_rep_mobile_cifral/{int(year)}/{int(month)}.csv', sep=',')\n",
    "paying_active_flats"
   ]
  },
  {
   "cell_type": "code",
   "execution_count": 34,
   "metadata": {},
   "outputs": [
    {
     "data": {
      "text/html": [
       "<div>\n",
       "<style scoped>\n",
       "    .dataframe tbody tr th:only-of-type {\n",
       "        vertical-align: middle;\n",
       "    }\n",
       "\n",
       "    .dataframe tbody tr th {\n",
       "        vertical-align: top;\n",
       "    }\n",
       "\n",
       "    .dataframe thead th {\n",
       "        text-align: right;\n",
       "    }\n",
       "</style>\n",
       "<table border=\"1\" class=\"dataframe\">\n",
       "  <thead>\n",
       "    <tr style=\"text-align: right;\">\n",
       "      <th></th>\n",
       "      <th>service_payments</th>\n",
       "      <th>Первая дата</th>\n",
       "      <th>Месяц</th>\n",
       "      <th>Год</th>\n",
       "      <th>IOS_PL</th>\n",
       "      <th>appstore_count_69</th>\n",
       "      <th>appstore_count_69_refunded</th>\n",
       "      <th>appstore_count_499</th>\n",
       "      <th>appstore_count_499_refunded</th>\n",
       "      <th>appstore_count_2390</th>\n",
       "      <th>...</th>\n",
       "      <th>stricted_flats</th>\n",
       "      <th>subsc_restrict_is_null_flats</th>\n",
       "      <th>flats_in_sputnic</th>\n",
       "      <th>MAF</th>\n",
       "      <th>stricted_MAF</th>\n",
       "      <th>freemonetization_MAF</th>\n",
       "      <th>DAF</th>\n",
       "      <th>stricted_DAF</th>\n",
       "      <th>freemonetization_DAF</th>\n",
       "      <th>paying_active_flats</th>\n",
       "    </tr>\n",
       "  </thead>\n",
       "  <tbody>\n",
       "    <tr>\n",
       "      <th>0</th>\n",
       "      <td>0</td>\n",
       "      <td>'2024-05-01'</td>\n",
       "      <td>5</td>\n",
       "      <td>2024</td>\n",
       "      <td>''</td>\n",
       "      <td>481</td>\n",
       "      <td>0</td>\n",
       "      <td>0</td>\n",
       "      <td>0</td>\n",
       "      <td>0</td>\n",
       "      <td>...</td>\n",
       "      <td>145867</td>\n",
       "      <td>0</td>\n",
       "      <td>158214</td>\n",
       "      <td>117259</td>\n",
       "      <td>86335</td>\n",
       "      <td>30924</td>\n",
       "      <td>47536</td>\n",
       "      <td>34860</td>\n",
       "      <td>12675</td>\n",
       "      <td>2517</td>\n",
       "    </tr>\n",
       "  </tbody>\n",
       "</table>\n",
       "<p>1 rows × 55 columns</p>\n",
       "</div>"
      ],
      "text/plain": [
       "   service_payments   Первая дата  Месяц   Год IOS_PL  appstore_count_69  \\\n",
       "0                 0  '2024-05-01'      5  2024     ''                481   \n",
       "\n",
       "   appstore_count_69_refunded  appstore_count_499  \\\n",
       "0                           0                   0   \n",
       "\n",
       "   appstore_count_499_refunded  appstore_count_2390  ...  stricted_flats  \\\n",
       "0                            0                    0  ...          145867   \n",
       "\n",
       "   subsc_restrict_is_null_flats  flats_in_sputnic     MAF stricted_MAF  \\\n",
       "0                             0            158214  117259        86335   \n",
       "\n",
       "   freemonetization_MAF    DAF  stricted_DAF  freemonetization_DAF  \\\n",
       "0                 30924  47536         34860                 12675   \n",
       "\n",
       "   paying_active_flats  \n",
       "0                 2517  \n",
       "\n",
       "[1 rows x 55 columns]"
      ]
     },
     "execution_count": 34,
     "metadata": {},
     "output_type": "execute_result"
    }
   ],
   "source": [
    "concated = pd.concat([\n",
    "                      service_payments['service_payments'],\n",
    "                      mobile_report,\n",
    "                      subscriptions_report_comerce, \n",
    "                      units_on_SK_platform,\n",
    "                      total_account_count,\n",
    "                      total_activated_account,\n",
    "                      total_active_users,\n",
    "                      all_flats,\n",
    "                      flats_in_sputnic,\n",
    "                      maf,\n",
    "                      daf,\n",
    "                      paying_active_flats,\n",
    "                      ]\n",
    "                     , axis=1)\n",
    "concated"
   ]
  },
  {
   "cell_type": "code",
   "execution_count": 35,
   "metadata": {},
   "outputs": [],
   "source": [
    "concated.to_csv(f'C:/Users/Boris/Desktop/mobile rep cifral/Ready report/{int(year)}/{int(month)}.csv', sep=',', index=False)"
   ]
  },
  {
   "cell_type": "code",
   "execution_count": 36,
   "metadata": {},
   "outputs": [],
   "source": [
    "TIME_ZONE = os.getenv(\"TIME_ZONE\", \"Europe/Moscow\")\n",
    "\n",
    "def get_s3_instance():\n",
    "    session = boto3.session.Session()\n",
    "    return session.client(\n",
    "        aws_access_key_id=ACCESS_KEY,\n",
    "        aws_secret_access_key=SECRET_KEY,\n",
    "        service_name='s3',\n",
    "        endpoint_url='https://storage.yandexcloud.net'\n",
    "    )\n",
    "    \n",
    "def upload_dump_to_s3():\n",
    "    get_s3_instance().upload_file(\n",
    "        Filename= f'C:/Users/Boris/Desktop/mobile rep cifral/Ready report/{int(year)}/{int(month)}.csv',\n",
    "        Bucket=BUCKET_NAME,\n",
    "        Key=f\"mobile_report_comerce_cifral/year={str(year)}/{str(month)}.csv\"\n",
    "    )"
   ]
  },
  {
   "cell_type": "code",
   "execution_count": 37,
   "metadata": {},
   "outputs": [],
   "source": [
    "get_s3_instance()\n",
    "upload_dump_to_s3()\n"
   ]
  }
 ],
 "metadata": {
  "kernelspec": {
   "display_name": "Python 3",
   "language": "python",
   "name": "python3"
  },
  "language_info": {
   "codemirror_mode": {
    "name": "ipython",
    "version": 3
   },
   "file_extension": ".py",
   "mimetype": "text/x-python",
   "name": "python",
   "nbconvert_exporter": "python",
   "pygments_lexer": "ipython3",
   "version": "3.12.3"
  }
 },
 "nbformat": 4,
 "nbformat_minor": 2
}

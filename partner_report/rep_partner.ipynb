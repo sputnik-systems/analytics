{
 "cells": [
  {
   "cell_type": "code",
   "execution_count": 295,
   "metadata": {},
   "outputs": [],
   "source": [
    "import pandas as pd\n",
    "import os\n",
    "import boto3"
   ]
  },
  {
   "cell_type": "code",
   "execution_count": 264,
   "metadata": {},
   "outputs": [],
   "source": [
    "month = 1\n",
    "year = 2024"
   ]
  },
  {
   "cell_type": "code",
   "execution_count": 265,
   "metadata": {},
   "outputs": [
    {
     "data": {
      "text/html": [
       "<div>\n",
       "<style scoped>\n",
       "    .dataframe tbody tr th:only-of-type {\n",
       "        vertical-align: middle;\n",
       "    }\n",
       "\n",
       "    .dataframe tbody tr th {\n",
       "        vertical-align: top;\n",
       "    }\n",
       "\n",
       "    .dataframe thead th {\n",
       "        text-align: right;\n",
       "    }\n",
       "</style>\n",
       "<table border=\"1\" class=\"dataframe\">\n",
       "  <thead>\n",
       "    <tr style=\"text-align: right;\">\n",
       "      <th></th>\n",
       "      <th>year</th>\n",
       "      <th>month</th>\n",
       "      <th>report_date</th>\n",
       "      <th>number_of_clients</th>\n",
       "      <th>count_start</th>\n",
       "      <th>count_PRO</th>\n",
       "      <th>count_sleaping</th>\n",
       "      <th>count_only_warehouse</th>\n",
       "      <th>connected_0_growth_intercom_0_sleaping</th>\n",
       "      <th>connected_0_growth_intercom_0_only_warehouse</th>\n",
       "      <th>connected_10_growth_intercom_less_0</th>\n",
       "      <th>connected_10_growth_intercom_greater_0</th>\n",
       "      <th>connected_100_growth_intercom_less_0</th>\n",
       "      <th>connected_100_growth_intercom_greater_0</th>\n",
       "      <th>connected_1000_growth_intercom_less_0</th>\n",
       "      <th>connected_1000_growth_intercom_greater_0</th>\n",
       "      <th>connected_greater_1000_growth_intercom_less_0</th>\n",
       "      <th>connected_greater_1000_growth_intercom_greater_0</th>\n",
       "    </tr>\n",
       "  </thead>\n",
       "  <tbody>\n",
       "    <tr>\n",
       "      <th>0</th>\n",
       "      <td>2024</td>\n",
       "      <td>1</td>\n",
       "      <td>2024-01-31</td>\n",
       "      <td>777</td>\n",
       "      <td>652</td>\n",
       "      <td>124</td>\n",
       "      <td>292</td>\n",
       "      <td>306</td>\n",
       "      <td>287</td>\n",
       "      <td>13</td>\n",
       "      <td>248</td>\n",
       "      <td>21</td>\n",
       "      <td>132</td>\n",
       "      <td>29</td>\n",
       "      <td>24</td>\n",
       "      <td>13</td>\n",
       "      <td>0</td>\n",
       "      <td>1</td>\n",
       "    </tr>\n",
       "  </tbody>\n",
       "</table>\n",
       "</div>"
      ],
      "text/plain": [
       "   year  month report_date  number_of_clients  count_start  count_PRO  \\\n",
       "0  2024      1  2024-01-31                777          652        124   \n",
       "\n",
       "   count_sleaping  count_only_warehouse  \\\n",
       "0             292                   306   \n",
       "\n",
       "   connected_0_growth_intercom_0_sleaping  \\\n",
       "0                                     287   \n",
       "\n",
       "   connected_0_growth_intercom_0_only_warehouse  \\\n",
       "0                                            13   \n",
       "\n",
       "   connected_10_growth_intercom_less_0  \\\n",
       "0                                  248   \n",
       "\n",
       "   connected_10_growth_intercom_greater_0  \\\n",
       "0                                      21   \n",
       "\n",
       "   connected_100_growth_intercom_less_0  \\\n",
       "0                                   132   \n",
       "\n",
       "   connected_100_growth_intercom_greater_0  \\\n",
       "0                                       29   \n",
       "\n",
       "   connected_1000_growth_intercom_less_0  \\\n",
       "0                                     24   \n",
       "\n",
       "   connected_1000_growth_intercom_greater_0  \\\n",
       "0                                        13   \n",
       "\n",
       "   connected_greater_1000_growth_intercom_less_0  \\\n",
       "0                                              0   \n",
       "\n",
       "   connected_greater_1000_growth_intercom_greater_0  \n",
       "0                                                 1  "
      ]
     },
     "execution_count": 265,
     "metadata": {},
     "output_type": "execute_result"
    }
   ],
   "source": [
    "partners_count_rep_partner = pd.read_csv(f'C:/Users/Boris/Desktop/report_partner/partners_count_rep_partner/{str(year)}/{str(month)}.csv')\n",
    "partners_count_rep_partner"
   ]
  },
  {
   "cell_type": "code",
   "execution_count": 266,
   "metadata": {},
   "outputs": [
    {
     "data": {
      "text/html": [
       "<div>\n",
       "<style scoped>\n",
       "    .dataframe tbody tr th:only-of-type {\n",
       "        vertical-align: middle;\n",
       "    }\n",
       "\n",
       "    .dataframe tbody tr th {\n",
       "        vertical-align: top;\n",
       "    }\n",
       "\n",
       "    .dataframe thead th {\n",
       "        text-align: right;\n",
       "    }\n",
       "</style>\n",
       "<table border=\"1\" class=\"dataframe\">\n",
       "  <thead>\n",
       "    <tr style=\"text-align: right;\">\n",
       "      <th></th>\n",
       "      <th>sum_flat_uuid</th>\n",
       "      <th>count_houses_uuid</th>\n",
       "      <th>sum_flat_uuid_PRO</th>\n",
       "      <th>sum_flat_uuid_Start</th>\n",
       "      <th>sum_address_uuid</th>\n",
       "      <th>sum_address_uuid_count_PRO</th>\n",
       "      <th>sum_address_uuid_count_Start</th>\n",
       "      <th>avg_flat_uuid</th>\n",
       "      <th>avg_flat_uuid_PRO</th>\n",
       "      <th>avg_flat_uuid_Start</th>\n",
       "      <th>avg_address_uuid</th>\n",
       "      <th>avg_address_uuid_count_PRO</th>\n",
       "      <th>avg_address_uuid_count_Start</th>\n",
       "    </tr>\n",
       "  </thead>\n",
       "  <tbody>\n",
       "    <tr>\n",
       "      <th>0</th>\n",
       "      <td>620419</td>\n",
       "      <td>8684</td>\n",
       "      <td>426719</td>\n",
       "      <td>193699</td>\n",
       "      <td>20820</td>\n",
       "      <td>13783</td>\n",
       "      <td>7036</td>\n",
       "      <td>69</td>\n",
       "      <td>74</td>\n",
       "      <td>60</td>\n",
       "      <td>2</td>\n",
       "      <td>2</td>\n",
       "      <td>2</td>\n",
       "    </tr>\n",
       "  </tbody>\n",
       "</table>\n",
       "</div>"
      ],
      "text/plain": [
       "   sum_flat_uuid  count_houses_uuid  sum_flat_uuid_PRO  sum_flat_uuid_Start  \\\n",
       "0         620419               8684             426719               193699   \n",
       "\n",
       "   sum_address_uuid  sum_address_uuid_count_PRO  sum_address_uuid_count_Start  \\\n",
       "0             20820                       13783                          7036   \n",
       "\n",
       "   avg_flat_uuid  avg_flat_uuid_PRO  avg_flat_uuid_Start  avg_address_uuid  \\\n",
       "0             69                 74                   60                 2   \n",
       "\n",
       "   avg_address_uuid_count_PRO  avg_address_uuid_count_Start  \n",
       "0                           2                             2  "
      ]
     },
     "execution_count": 266,
     "metadata": {},
     "output_type": "execute_result"
    }
   ],
   "source": [
    "address_flats_rep_partner = pd.read_csv(f'C:/Users/Boris/Desktop/report_partner/address_flats_rep_partner/{str(year)}/{str(month)}.csv')\n",
    "address_flats_rep_partner"
   ]
  },
  {
   "cell_type": "code",
   "execution_count": 267,
   "metadata": {},
   "outputs": [
    {
     "data": {
      "text/html": [
       "<div>\n",
       "<style scoped>\n",
       "    .dataframe tbody tr th:only-of-type {\n",
       "        vertical-align: middle;\n",
       "    }\n",
       "\n",
       "    .dataframe tbody tr th {\n",
       "        vertical-align: top;\n",
       "    }\n",
       "\n",
       "    .dataframe thead th {\n",
       "        text-align: right;\n",
       "    }\n",
       "</style>\n",
       "<table border=\"1\" class=\"dataframe\">\n",
       "  <thead>\n",
       "    <tr style=\"text-align: right;\">\n",
       "      <th></th>\n",
       "      <th>all_partners_rep_partner</th>\n",
       "    </tr>\n",
       "  </thead>\n",
       "  <tbody>\n",
       "    <tr>\n",
       "      <th>0</th>\n",
       "      <td>6753</td>\n",
       "    </tr>\n",
       "  </tbody>\n",
       "</table>\n",
       "</div>"
      ],
      "text/plain": [
       "   all_partners_rep_partner\n",
       "0                      6753"
      ]
     },
     "execution_count": 267,
     "metadata": {},
     "output_type": "execute_result"
    }
   ],
   "source": [
    "all_partners_rep_partner = pd.read_csv(f'C:/Users/Boris/Desktop/report_partner/all_partners_rep_partner/{str(year)}/{str(month)}.csv')\n",
    "all_partners_rep_partner"
   ]
  },
  {
   "cell_type": "code",
   "execution_count": 268,
   "metadata": {},
   "outputs": [
    {
     "data": {
      "text/html": [
       "<div>\n",
       "<style scoped>\n",
       "    .dataframe tbody tr th:only-of-type {\n",
       "        vertical-align: middle;\n",
       "    }\n",
       "\n",
       "    .dataframe tbody tr th {\n",
       "        vertical-align: top;\n",
       "    }\n",
       "\n",
       "    .dataframe thead th {\n",
       "        text-align: right;\n",
       "    }\n",
       "</style>\n",
       "<table border=\"1\" class=\"dataframe\">\n",
       "  <thead>\n",
       "    <tr style=\"text-align: right;\">\n",
       "      <th></th>\n",
       "      <th>cameras_with_archive_3</th>\n",
       "      <th>cameras_with_archive_5</th>\n",
       "      <th>cameras_with_archive_7</th>\n",
       "      <th>cameras_with_archive_14</th>\n",
       "      <th>cameras_with_archive_30</th>\n",
       "      <th>cameras_with_archive_3_pro</th>\n",
       "      <th>cameras_with_archive_5_pro</th>\n",
       "      <th>cameras_with_archive_7_pro</th>\n",
       "      <th>cameras_with_archive_14_pro</th>\n",
       "      <th>cameras_with_archive_30_pro</th>\n",
       "      <th>cameras_with_archive_3_start</th>\n",
       "      <th>cameras_with_archive_5_start</th>\n",
       "      <th>cameras_with_archive_7_start</th>\n",
       "      <th>cameras_with_archive_14_start</th>\n",
       "      <th>cameras_with_archive_30_start</th>\n",
       "    </tr>\n",
       "  </thead>\n",
       "  <tbody>\n",
       "    <tr>\n",
       "      <th>0</th>\n",
       "      <td>5025</td>\n",
       "      <td>739</td>\n",
       "      <td>896</td>\n",
       "      <td>1</td>\n",
       "      <td>23</td>\n",
       "      <td>4110</td>\n",
       "      <td>365</td>\n",
       "      <td>377</td>\n",
       "      <td>0</td>\n",
       "      <td>23</td>\n",
       "      <td>915</td>\n",
       "      <td>374</td>\n",
       "      <td>519</td>\n",
       "      <td>1</td>\n",
       "      <td>0</td>\n",
       "    </tr>\n",
       "  </tbody>\n",
       "</table>\n",
       "</div>"
      ],
      "text/plain": [
       "   cameras_with_archive_3  cameras_with_archive_5  cameras_with_archive_7  \\\n",
       "0                    5025                     739                     896   \n",
       "\n",
       "   cameras_with_archive_14  cameras_with_archive_30  \\\n",
       "0                        1                       23   \n",
       "\n",
       "   cameras_with_archive_3_pro  cameras_with_archive_5_pro  \\\n",
       "0                        4110                         365   \n",
       "\n",
       "   cameras_with_archive_7_pro  cameras_with_archive_14_pro  \\\n",
       "0                         377                            0   \n",
       "\n",
       "   cameras_with_archive_30_pro  cameras_with_archive_3_start  \\\n",
       "0                           23                           915   \n",
       "\n",
       "   cameras_with_archive_5_start  cameras_with_archive_7_start  \\\n",
       "0                           374                           519   \n",
       "\n",
       "   cameras_with_archive_14_start  cameras_with_archive_30_start  \n",
       "0                              1                              0  "
      ]
     },
     "execution_count": 268,
     "metadata": {},
     "output_type": "execute_result"
    }
   ],
   "source": [
    "arhive_rep_partner = pd.read_csv(f'C:/Users/Boris/Desktop/report_partner/arhive_rep_partner/{str(year)}/{str(month)}.csv')\n",
    "arhive_rep_partner"
   ]
  },
  {
   "cell_type": "code",
   "execution_count": 269,
   "metadata": {},
   "outputs": [
    {
     "data": {
      "text/html": [
       "<div>\n",
       "<style scoped>\n",
       "    .dataframe tbody tr th:only-of-type {\n",
       "        vertical-align: middle;\n",
       "    }\n",
       "\n",
       "    .dataframe tbody tr th {\n",
       "        vertical-align: top;\n",
       "    }\n",
       "\n",
       "    .dataframe thead th {\n",
       "        text-align: right;\n",
       "    }\n",
       "</style>\n",
       "<table border=\"1\" class=\"dataframe\">\n",
       "  <thead>\n",
       "    <tr style=\"text-align: right;\">\n",
       "      <th></th>\n",
       "      <th>intercom_uuid_start_pro_count</th>\n",
       "      <th>count_intercoms_PRO</th>\n",
       "      <th>count_intercoms_Start</th>\n",
       "      <th>count_connected_intercoms_PRO</th>\n",
       "      <th>count_connected_intercoms_Start</th>\n",
       "      <th>count_connected_intercoms</th>\n",
       "      <th>disconnected_intercoms_30</th>\n",
       "      <th>disconnected_intercoms_60</th>\n",
       "      <th>disconnected_intercoms_90</th>\n",
       "    </tr>\n",
       "  </thead>\n",
       "  <tbody>\n",
       "    <tr>\n",
       "      <th>0</th>\n",
       "      <td>31222</td>\n",
       "      <td>18708</td>\n",
       "      <td>12511</td>\n",
       "      <td>14064</td>\n",
       "      <td>7114</td>\n",
       "      <td>21180</td>\n",
       "      <td>8672</td>\n",
       "      <td>8039</td>\n",
       "      <td>7491</td>\n",
       "    </tr>\n",
       "  </tbody>\n",
       "</table>\n",
       "</div>"
      ],
      "text/plain": [
       "   intercom_uuid_start_pro_count  count_intercoms_PRO  count_intercoms_Start  \\\n",
       "0                          31222                18708                  12511   \n",
       "\n",
       "   count_connected_intercoms_PRO  count_connected_intercoms_Start  \\\n",
       "0                          14064                             7114   \n",
       "\n",
       "   count_connected_intercoms  disconnected_intercoms_30  \\\n",
       "0                      21180                       8672   \n",
       "\n",
       "   disconnected_intercoms_60  disconnected_intercoms_90  \n",
       "0                       8039                       7491  "
      ]
     },
     "execution_count": 269,
     "metadata": {},
     "output_type": "execute_result"
    }
   ],
   "source": [
    "conected_intercoms_rep_partner = pd.read_csv(f'C:/Users/Boris/Desktop/report_partner/conected_intercoms_rep_partner/{str(year)}/{str(month)}.csv')\n",
    "conected_intercoms_rep_partner"
   ]
  },
  {
   "cell_type": "code",
   "execution_count": 270,
   "metadata": {},
   "outputs": [
    {
     "data": {
      "text/html": [
       "<div>\n",
       "<style scoped>\n",
       "    .dataframe tbody tr th:only-of-type {\n",
       "        vertical-align: middle;\n",
       "    }\n",
       "\n",
       "    .dataframe tbody tr th {\n",
       "        vertical-align: top;\n",
       "    }\n",
       "\n",
       "    .dataframe thead th {\n",
       "        text-align: right;\n",
       "    }\n",
       "</style>\n",
       "<table border=\"1\" class=\"dataframe\">\n",
       "  <thead>\n",
       "    <tr style=\"text-align: right;\">\n",
       "      <th></th>\n",
       "      <th>count_of_instaletion_point</th>\n",
       "      <th>count_of_instaletion_point_start</th>\n",
       "      <th>count_of_instaletion_point_pro</th>\n",
       "      <th>count_of_instaletion_point_enterprise</th>\n",
       "    </tr>\n",
       "  </thead>\n",
       "  <tbody>\n",
       "    <tr>\n",
       "      <th>0</th>\n",
       "      <td>22066</td>\n",
       "      <td>7612</td>\n",
       "      <td>14056</td>\n",
       "      <td>398</td>\n",
       "    </tr>\n",
       "  </tbody>\n",
       "</table>\n",
       "</div>"
      ],
      "text/plain": [
       "   count_of_instaletion_point  count_of_instaletion_point_start  \\\n",
       "0                       22066                              7612   \n",
       "\n",
       "   count_of_instaletion_point_pro  count_of_instaletion_point_enterprise  \n",
       "0                           14056                                    398  "
      ]
     },
     "execution_count": 270,
     "metadata": {},
     "output_type": "execute_result"
    }
   ],
   "source": [
    "count_of_instaletion_point_rep_partner = pd.read_csv(f'C:/Users/Boris/Desktop/report_partner/count_of_instaletion_point_rep_partner/{str(year)}/{str(month)}.csv')\n",
    "count_of_instaletion_point_rep_partner"
   ]
  },
  {
   "cell_type": "code",
   "execution_count": 271,
   "metadata": {},
   "outputs": [
    {
     "data": {
      "text/html": [
       "<div>\n",
       "<style scoped>\n",
       "    .dataframe tbody tr th:only-of-type {\n",
       "        vertical-align: middle;\n",
       "    }\n",
       "\n",
       "    .dataframe tbody tr th {\n",
       "        vertical-align: top;\n",
       "    }\n",
       "\n",
       "    .dataframe thead th {\n",
       "        text-align: right;\n",
       "    }\n",
       "</style>\n",
       "<table border=\"1\" class=\"dataframe\">\n",
       "  <thead>\n",
       "    <tr style=\"text-align: right;\">\n",
       "      <th></th>\n",
       "      <th>count_of_online_intercoms</th>\n",
       "    </tr>\n",
       "  </thead>\n",
       "  <tbody>\n",
       "    <tr>\n",
       "      <th>0</th>\n",
       "      <td>28667</td>\n",
       "    </tr>\n",
       "  </tbody>\n",
       "</table>\n",
       "</div>"
      ],
      "text/plain": [
       "   count_of_online_intercoms\n",
       "0                      28667"
      ]
     },
     "execution_count": 271,
     "metadata": {},
     "output_type": "execute_result"
    }
   ],
   "source": [
    "count_of_online_intercoms_rep_partner = pd.read_csv(f'C:/Users/Boris/Desktop/report_partner/count_of_online_intercoms_rep_partner/{str(year)}/{str(month)}.csv')\n",
    "count_of_online_intercoms_rep_partner"
   ]
  },
  {
   "cell_type": "code",
   "execution_count": 272,
   "metadata": {},
   "outputs": [
    {
     "data": {
      "text/html": [
       "<div>\n",
       "<style scoped>\n",
       "    .dataframe tbody tr th:only-of-type {\n",
       "        vertical-align: middle;\n",
       "    }\n",
       "\n",
       "    .dataframe tbody tr th {\n",
       "        vertical-align: top;\n",
       "    }\n",
       "\n",
       "    .dataframe thead th {\n",
       "        text-align: right;\n",
       "    }\n",
       "</style>\n",
       "<table border=\"1\" class=\"dataframe\">\n",
       "  <thead>\n",
       "    <tr style=\"text-align: right;\">\n",
       "      <th></th>\n",
       "      <th>all_camera_without_intercom</th>\n",
       "      <th>instaleted_cameras_without_intercom</th>\n",
       "      <th>all_camera_without_intercom_start</th>\n",
       "      <th>all_camera_without_intercom_pro</th>\n",
       "      <th>all_camera_without_intercom_enterprise</th>\n",
       "      <th>instaleted_cameras_sputnic_without_intercom</th>\n",
       "      <th>all_camera_sputnic_without_intercom_start</th>\n",
       "      <th>all_camera_sputnic_without_intercom_pro</th>\n",
       "      <th>all_camera_sputnic_without_intercom_enterprise</th>\n",
       "      <th>foreign_camera_without_intercom</th>\n",
       "      <th>instaleted_cameras_foreign_without_intercom</th>\n",
       "      <th>all_camera_foreign_without_intercom_start</th>\n",
       "      <th>all_camera_foreign_without_intercom_pro</th>\n",
       "      <th>all_camera_foreign_without_intercom_enterprise</th>\n",
       "    </tr>\n",
       "  </thead>\n",
       "  <tbody>\n",
       "    <tr>\n",
       "      <th>0</th>\n",
       "      <td>4564</td>\n",
       "      <td>2899</td>\n",
       "      <td>325</td>\n",
       "      <td>2079</td>\n",
       "      <td>495</td>\n",
       "      <td>2753</td>\n",
       "      <td>317</td>\n",
       "      <td>1944</td>\n",
       "      <td>492</td>\n",
       "      <td>297</td>\n",
       "      <td>146</td>\n",
       "      <td>8</td>\n",
       "      <td>135</td>\n",
       "      <td>3</td>\n",
       "    </tr>\n",
       "  </tbody>\n",
       "</table>\n",
       "</div>"
      ],
      "text/plain": [
       "   all_camera_without_intercom  instaleted_cameras_without_intercom  \\\n",
       "0                         4564                                 2899   \n",
       "\n",
       "   all_camera_without_intercom_start  all_camera_without_intercom_pro  \\\n",
       "0                                325                             2079   \n",
       "\n",
       "   all_camera_without_intercom_enterprise  \\\n",
       "0                                     495   \n",
       "\n",
       "   instaleted_cameras_sputnic_without_intercom  \\\n",
       "0                                         2753   \n",
       "\n",
       "   all_camera_sputnic_without_intercom_start  \\\n",
       "0                                        317   \n",
       "\n",
       "   all_camera_sputnic_without_intercom_pro  \\\n",
       "0                                     1944   \n",
       "\n",
       "   all_camera_sputnic_without_intercom_enterprise  \\\n",
       "0                                             492   \n",
       "\n",
       "   foreign_camera_without_intercom  \\\n",
       "0                              297   \n",
       "\n",
       "   instaleted_cameras_foreign_without_intercom  \\\n",
       "0                                          146   \n",
       "\n",
       "   all_camera_foreign_without_intercom_start  \\\n",
       "0                                          8   \n",
       "\n",
       "   all_camera_foreign_without_intercom_pro  \\\n",
       "0                                      135   \n",
       "\n",
       "   all_camera_foreign_without_intercom_enterprise  \n",
       "0                                               3  "
      ]
     },
     "execution_count": 272,
     "metadata": {},
     "output_type": "execute_result"
    }
   ],
   "source": [
    "separate_cameras_rep_partner = pd.read_csv(f'C:/Users/Boris/Desktop/report_partner/separate_cameras_rep_partner/{str(year)}/{str(month)}.csv')\n",
    "separate_cameras_rep_partner"
   ]
  },
  {
   "cell_type": "code",
   "execution_count": 273,
   "metadata": {},
   "outputs": [
    {
     "data": {
      "text/html": [
       "<div>\n",
       "<style scoped>\n",
       "    .dataframe tbody tr th:only-of-type {\n",
       "        vertical-align: middle;\n",
       "    }\n",
       "\n",
       "    .dataframe tbody tr th {\n",
       "        vertical-align: top;\n",
       "    }\n",
       "\n",
       "    .dataframe thead th {\n",
       "        text-align: right;\n",
       "    }\n",
       "</style>\n",
       "<table border=\"1\" class=\"dataframe\">\n",
       "  <thead>\n",
       "    <tr style=\"text-align: right;\">\n",
       "      <th></th>\n",
       "      <th>all_flats</th>\n",
       "    </tr>\n",
       "  </thead>\n",
       "  <tbody>\n",
       "    <tr>\n",
       "      <th>0</th>\n",
       "      <td>663527</td>\n",
       "    </tr>\n",
       "  </tbody>\n",
       "</table>\n",
       "</div>"
      ],
      "text/plain": [
       "   all_flats\n",
       "0     663527"
      ]
     },
     "execution_count": 273,
     "metadata": {},
     "output_type": "execute_result"
    }
   ],
   "source": [
    "all_flats_rep_partners = pd.read_csv(f'C:/Users/Boris/Desktop/report_partner/all_flats_rep_partners/{str(year)}/{str(month)}.csv')\n",
    "all_flats_rep_partners"
   ]
  },
  {
   "cell_type": "code",
   "execution_count": 274,
   "metadata": {},
   "outputs": [
    {
     "data": {
      "text/html": [
       "<div>\n",
       "<style scoped>\n",
       "    .dataframe tbody tr th:only-of-type {\n",
       "        vertical-align: middle;\n",
       "    }\n",
       "\n",
       "    .dataframe tbody tr th {\n",
       "        vertical-align: top;\n",
       "    }\n",
       "\n",
       "    .dataframe thead th {\n",
       "        text-align: right;\n",
       "    }\n",
       "</style>\n",
       "<table border=\"1\" class=\"dataframe\">\n",
       "  <thead>\n",
       "    <tr style=\"text-align: right;\">\n",
       "      <th></th>\n",
       "      <th>revenue</th>\n",
       "      <th>pro</th>\n",
       "      <th>archive_3_pro</th>\n",
       "      <th>archive_5_pro</th>\n",
       "      <th>archive_7_pro</th>\n",
       "      <th>archive_14_pro</th>\n",
       "      <th>archive_30_pro</th>\n",
       "      <th>archive_3</th>\n",
       "      <th>archive_5</th>\n",
       "      <th>archive_7</th>\n",
       "      <th>archive_14</th>\n",
       "      <th>archive_30</th>\n",
       "      <th>developer</th>\n",
       "    </tr>\n",
       "  </thead>\n",
       "  <tbody>\n",
       "    <tr>\n",
       "      <th>0</th>\n",
       "      <td>1250361.4</td>\n",
       "      <td>553853.7</td>\n",
       "      <td>249743.2</td>\n",
       "      <td>35084</td>\n",
       "      <td>7443.1</td>\n",
       "      <td>113.9</td>\n",
       "      <td>NaN</td>\n",
       "      <td>172908</td>\n",
       "      <td>104350</td>\n",
       "      <td>113892</td>\n",
       "      <td>408.5</td>\n",
       "      <td>12565</td>\n",
       "      <td>167.4</td>\n",
       "    </tr>\n",
       "  </tbody>\n",
       "</table>\n",
       "</div>"
      ],
      "text/plain": [
       "     revenue       pro  archive_3_pro  archive_5_pro  archive_7_pro  \\\n",
       "0  1250361.4  553853.7       249743.2          35084         7443.1   \n",
       "\n",
       "   archive_14_pro  archive_30_pro  archive_3  archive_5  archive_7  \\\n",
       "0           113.9             NaN     172908     104350     113892   \n",
       "\n",
       "   archive_14  archive_30  developer  \n",
       "0       408.5       12565      167.4  "
      ]
     },
     "execution_count": 274,
     "metadata": {},
     "output_type": "execute_result"
    }
   ],
   "source": [
    "revenue_rep_partner = pd.read_csv(f'C:/Users/Boris/Desktop/report_partner/revenue_rep_partner/{str(year)}/{str(month)}.csv')\n",
    "revenue_rep_partner"
   ]
  },
  {
   "cell_type": "code",
   "execution_count": 275,
   "metadata": {},
   "outputs": [
    {
     "data": {
      "text/html": [
       "<div>\n",
       "<style scoped>\n",
       "    .dataframe tbody tr th:only-of-type {\n",
       "        vertical-align: middle;\n",
       "    }\n",
       "\n",
       "    .dataframe tbody tr th {\n",
       "        vertical-align: top;\n",
       "    }\n",
       "\n",
       "    .dataframe thead th {\n",
       "        text-align: right;\n",
       "    }\n",
       "</style>\n",
       "<table border=\"1\" class=\"dataframe\">\n",
       "  <thead>\n",
       "    <tr style=\"text-align: right;\">\n",
       "      <th></th>\n",
       "      <th>all_intercoms</th>\n",
       "    </tr>\n",
       "  </thead>\n",
       "  <tbody>\n",
       "    <tr>\n",
       "      <th>0</th>\n",
       "      <td>54876</td>\n",
       "    </tr>\n",
       "  </tbody>\n",
       "</table>\n",
       "</div>"
      ],
      "text/plain": [
       "   all_intercoms\n",
       "0          54876"
      ]
     },
     "execution_count": 275,
     "metadata": {},
     "output_type": "execute_result"
    }
   ],
   "source": [
    "all_intercoms_rep_partner = pd.read_csv(f'C:/Users/Boris/Desktop/report_partner/all_intercoms_rep_partner/{str(year)}/{str(month)}.csv')\n",
    "all_intercoms_rep_partner"
   ]
  },
  {
   "cell_type": "code",
   "execution_count": 276,
   "metadata": {},
   "outputs": [
    {
     "data": {
      "text/html": [
       "<div>\n",
       "<style scoped>\n",
       "    .dataframe tbody tr th:only-of-type {\n",
       "        vertical-align: middle;\n",
       "    }\n",
       "\n",
       "    .dataframe tbody tr th {\n",
       "        vertical-align: top;\n",
       "    }\n",
       "\n",
       "    .dataframe thead th {\n",
       "        text-align: right;\n",
       "    }\n",
       "</style>\n",
       "<table border=\"1\" class=\"dataframe\">\n",
       "  <thead>\n",
       "    <tr style=\"text-align: right;\">\n",
       "      <th></th>\n",
       "      <th>arhive_3_enterprise</th>\n",
       "      <th>arhive_5_enterprise</th>\n",
       "      <th>arhive_7_enterprise</th>\n",
       "      <th>arhive_14_enterprise</th>\n",
       "      <th>arhive_30_enterprise</th>\n",
       "    </tr>\n",
       "  </thead>\n",
       "  <tbody>\n",
       "    <tr>\n",
       "      <th>0</th>\n",
       "      <td>29</td>\n",
       "      <td>3</td>\n",
       "      <td>81</td>\n",
       "      <td>0</td>\n",
       "      <td>0</td>\n",
       "    </tr>\n",
       "  </tbody>\n",
       "</table>\n",
       "</div>"
      ],
      "text/plain": [
       "   arhive_3_enterprise  arhive_5_enterprise  arhive_7_enterprise  \\\n",
       "0                   29                    3                   81   \n",
       "\n",
       "   arhive_14_enterprise  arhive_30_enterprise  \n",
       "0                     0                     0  "
      ]
     },
     "execution_count": 276,
     "metadata": {},
     "output_type": "execute_result"
    }
   ],
   "source": [
    "arhive_enterprise_rep_partner = pd.read_csv(f'C:/Users/Boris/Desktop/report_partner/arhive_enterprise_rep_partner/{str(year)}/{str(month)}.csv')\n",
    "arhive_enterprise_rep_partner"
   ]
  },
  {
   "cell_type": "code",
   "execution_count": 277,
   "metadata": {},
   "outputs": [
    {
     "data": {
      "text/html": [
       "<div>\n",
       "<style scoped>\n",
       "    .dataframe tbody tr th:only-of-type {\n",
       "        vertical-align: middle;\n",
       "    }\n",
       "\n",
       "    .dataframe tbody tr th {\n",
       "        vertical-align: top;\n",
       "    }\n",
       "\n",
       "    .dataframe thead th {\n",
       "        text-align: right;\n",
       "    }\n",
       "</style>\n",
       "<table border=\"1\" class=\"dataframe\">\n",
       "  <thead>\n",
       "    <tr style=\"text-align: right;\">\n",
       "      <th></th>\n",
       "      <th>count_intercoms_Enterprise</th>\n",
       "      <th>count_intercoms_Enterprise_not_paying</th>\n",
       "      <th>count_connected_intercoms_Enterprise</th>\n",
       "    </tr>\n",
       "  </thead>\n",
       "  <tbody>\n",
       "    <tr>\n",
       "      <th>0</th>\n",
       "      <td>12907</td>\n",
       "      <td>6704</td>\n",
       "      <td>7703</td>\n",
       "    </tr>\n",
       "  </tbody>\n",
       "</table>\n",
       "</div>"
      ],
      "text/plain": [
       "   count_intercoms_Enterprise  count_intercoms_Enterprise_not_paying  \\\n",
       "0                       12907                                   6704   \n",
       "\n",
       "   count_connected_intercoms_Enterprise  \n",
       "0                                  7703  "
      ]
     },
     "execution_count": 277,
     "metadata": {},
     "output_type": "execute_result"
    }
   ],
   "source": [
    "enterprice_commerce_intercom_count_rep_partner = pd.read_csv(f'C:/Users/Boris/Desktop/report_partner/enterprice_commerce_intercom_count_rep_partner/{str(year)}/{str(month)}.csv')\n",
    "enterprice_commerce_intercom_count_rep_partner"
   ]
  },
  {
   "cell_type": "code",
   "execution_count": 278,
   "metadata": {},
   "outputs": [
    {
     "data": {
      "text/html": [
       "<div>\n",
       "<style scoped>\n",
       "    .dataframe tbody tr th:only-of-type {\n",
       "        vertical-align: middle;\n",
       "    }\n",
       "\n",
       "    .dataframe tbody tr th {\n",
       "        vertical-align: top;\n",
       "    }\n",
       "\n",
       "    .dataframe thead th {\n",
       "        text-align: right;\n",
       "    }\n",
       "</style>\n",
       "<table border=\"1\" class=\"dataframe\">\n",
       "  <thead>\n",
       "    <tr style=\"text-align: right;\">\n",
       "      <th></th>\n",
       "      <th>intercom_uuid_count</th>\n",
       "    </tr>\n",
       "  </thead>\n",
       "  <tbody>\n",
       "    <tr>\n",
       "      <th>0</th>\n",
       "      <td>50843</td>\n",
       "    </tr>\n",
       "  </tbody>\n",
       "</table>\n",
       "</div>"
      ],
      "text/plain": [
       "   intercom_uuid_count\n",
       "0                50843"
      ]
     },
     "execution_count": 278,
     "metadata": {},
     "output_type": "execute_result"
    }
   ],
   "source": [
    "intercom_uuid_count_rep_partner = pd.read_csv(f'C:/Users/Boris/Desktop/report_partner/intercom_uuid_count_rep_partner/{str(year)}/{str(month)}.csv')\n",
    "intercom_uuid_count_rep_partner"
   ]
  },
  {
   "cell_type": "code",
   "execution_count": 279,
   "metadata": {},
   "outputs": [
    {
     "data": {
      "text/html": [
       "<div>\n",
       "<style scoped>\n",
       "    .dataframe tbody tr th:only-of-type {\n",
       "        vertical-align: middle;\n",
       "    }\n",
       "\n",
       "    .dataframe tbody tr th {\n",
       "        vertical-align: top;\n",
       "    }\n",
       "\n",
       "    .dataframe thead th {\n",
       "        text-align: right;\n",
       "    }\n",
       "</style>\n",
       "<table border=\"1\" class=\"dataframe\">\n",
       "  <thead>\n",
       "    <tr style=\"text-align: right;\">\n",
       "      <th></th>\n",
       "      <th>count_enterprise</th>\n",
       "    </tr>\n",
       "  </thead>\n",
       "  <tbody>\n",
       "    <tr>\n",
       "      <th>0</th>\n",
       "      <td>9</td>\n",
       "    </tr>\n",
       "  </tbody>\n",
       "</table>\n",
       "</div>"
      ],
      "text/plain": [
       "   count_enterprise\n",
       "0                 9"
      ]
     },
     "execution_count": 279,
     "metadata": {},
     "output_type": "execute_result"
    }
   ],
   "source": [
    "partners_count_enterprice_rep_partner = pd.read_csv(f'C:/Users/Boris/Desktop/report_partner/partners_count_enterprice_rep_partner/{str(year)}/{str(month)}.csv')\n",
    "partners_count_enterprice_rep_partner"
   ]
  },
  {
   "cell_type": "code",
   "execution_count": 280,
   "metadata": {},
   "outputs": [
    {
     "data": {
      "text/html": [
       "<div>\n",
       "<style scoped>\n",
       "    .dataframe tbody tr th:only-of-type {\n",
       "        vertical-align: middle;\n",
       "    }\n",
       "\n",
       "    .dataframe tbody tr th {\n",
       "        vertical-align: top;\n",
       "    }\n",
       "\n",
       "    .dataframe thead th {\n",
       "        text-align: right;\n",
       "    }\n",
       "</style>\n",
       "<table border=\"1\" class=\"dataframe\">\n",
       "  <thead>\n",
       "    <tr style=\"text-align: right;\">\n",
       "      <th></th>\n",
       "      <th>revenue_enterprise</th>\n",
       "      <th>АО ЭРТХ (Цифрал Сервис)</th>\n",
       "      <th>R1 (АО ЭРТХ)</th>\n",
       "      <th>ООО ПКФ ИНСИТ</th>\n",
       "      <th>billings_enterprise</th>\n",
       "    </tr>\n",
       "  </thead>\n",
       "  <tbody>\n",
       "    <tr>\n",
       "      <th>0</th>\n",
       "      <td>591356</td>\n",
       "      <td>187680</td>\n",
       "      <td>271280</td>\n",
       "      <td>116960</td>\n",
       "      <td>15435</td>\n",
       "    </tr>\n",
       "  </tbody>\n",
       "</table>\n",
       "</div>"
      ],
      "text/plain": [
       "   revenue_enterprise  АО ЭРТХ (Цифрал Сервис)  R1 (АО ЭРТХ)  ООО ПКФ ИНСИТ  \\\n",
       "0              591356                   187680        271280         116960   \n",
       "\n",
       "   billings_enterprise  \n",
       "0                15435  "
      ]
     },
     "execution_count": 280,
     "metadata": {},
     "output_type": "execute_result"
    }
   ],
   "source": [
    "revenue_enterpise_rep_partner = pd.read_csv(f'C:/Users/Boris/Desktop/report_partner/revenue_enterpise_rep_partner/{str(year)}/{str(month)}.csv')\n",
    "revenue_enterpise_rep_partner"
   ]
  },
  {
   "cell_type": "code",
   "execution_count": 281,
   "metadata": {},
   "outputs": [
    {
     "data": {
      "text/html": [
       "<div>\n",
       "<style scoped>\n",
       "    .dataframe tbody tr th:only-of-type {\n",
       "        vertical-align: middle;\n",
       "    }\n",
       "\n",
       "    .dataframe tbody tr th {\n",
       "        vertical-align: top;\n",
       "    }\n",
       "\n",
       "    .dataframe thead th {\n",
       "        text-align: right;\n",
       "    }\n",
       "</style>\n",
       "<table border=\"1\" class=\"dataframe\">\n",
       "  <thead>\n",
       "    <tr style=\"text-align: right;\">\n",
       "      <th></th>\n",
       "      <th>pro_commercial</th>\n",
       "      <th>archive_3_pro_commercial</th>\n",
       "      <th>pro_actobe_commercial</th>\n",
       "      <th>archive_3_pro_actobe_commercial</th>\n",
       "      <th>pro_commercial_avtograd</th>\n",
       "      <th>archive_3_pro_commercial_avtograd</th>\n",
       "      <th>safe_city_and_security_sector_pro</th>\n",
       "      <th>safe_city_and_security_sector_arhive</th>\n",
       "    </tr>\n",
       "  </thead>\n",
       "  <tbody>\n",
       "    <tr>\n",
       "      <th>0</th>\n",
       "      <td>322000</td>\n",
       "      <td>217170</td>\n",
       "      <td>0</td>\n",
       "      <td>75111</td>\n",
       "      <td>178720</td>\n",
       "      <td>212130</td>\n",
       "      <td>80960</td>\n",
       "      <td>531300</td>\n",
       "    </tr>\n",
       "  </tbody>\n",
       "</table>\n",
       "</div>"
      ],
      "text/plain": [
       "   pro_commercial  archive_3_pro_commercial  pro_actobe_commercial  \\\n",
       "0          322000                    217170                      0   \n",
       "\n",
       "   archive_3_pro_actobe_commercial  pro_commercial_avtograd  \\\n",
       "0                            75111                   178720   \n",
       "\n",
       "   archive_3_pro_commercial_avtograd  safe_city_and_security_sector_pro  \\\n",
       "0                             212130                              80960   \n",
       "\n",
       "   safe_city_and_security_sector_arhive  \n",
       "0                                531300  "
      ]
     },
     "execution_count": 281,
     "metadata": {},
     "output_type": "execute_result"
    }
   ],
   "source": [
    "revenue_commercial_rep_partner = pd.read_csv(f'C:/Users/Boris/Desktop/report_partner/revenue_commercial_rep_partner/{str(year)}/{str(month)}.csv')\n",
    "revenue_commercial_rep_partner"
   ]
  },
  {
   "cell_type": "code",
   "execution_count": 282,
   "metadata": {},
   "outputs": [
    {
     "data": {
      "text/html": [
       "<div>\n",
       "<style scoped>\n",
       "    .dataframe tbody tr th:only-of-type {\n",
       "        vertical-align: middle;\n",
       "    }\n",
       "\n",
       "    .dataframe tbody tr th {\n",
       "        vertical-align: top;\n",
       "    }\n",
       "\n",
       "    .dataframe thead th {\n",
       "        text-align: right;\n",
       "    }\n",
       "</style>\n",
       "<table border=\"1\" class=\"dataframe\">\n",
       "  <thead>\n",
       "    <tr style=\"text-align: right;\">\n",
       "      <th></th>\n",
       "      <th>accruals_card_and_direct_deposit</th>\n",
       "      <th>accruals_partner_program</th>\n",
       "    </tr>\n",
       "  </thead>\n",
       "  <tbody>\n",
       "    <tr>\n",
       "      <th>0</th>\n",
       "      <td>1654073</td>\n",
       "      <td>54710</td>\n",
       "    </tr>\n",
       "  </tbody>\n",
       "</table>\n",
       "</div>"
      ],
      "text/plain": [
       "   accruals_card_and_direct_deposit  accruals_partner_program\n",
       "0                           1654073                     54710"
      ]
     },
     "execution_count": 282,
     "metadata": {},
     "output_type": "execute_result"
    }
   ],
   "source": [
    "accruals_rep_partner = pd.read_csv(f'C:/Users/Boris/Desktop/report_partner/accruals_rep_partner/{str(year)}/{str(month)}.csv')\n",
    "accruals_rep_partner "
   ]
  },
  {
   "cell_type": "code",
   "execution_count": 283,
   "metadata": {},
   "outputs": [
    {
     "data": {
      "text/html": [
       "<div>\n",
       "<style scoped>\n",
       "    .dataframe tbody tr th:only-of-type {\n",
       "        vertical-align: middle;\n",
       "    }\n",
       "\n",
       "    .dataframe tbody tr th {\n",
       "        vertical-align: top;\n",
       "    }\n",
       "\n",
       "    .dataframe thead th {\n",
       "        text-align: right;\n",
       "    }\n",
       "</style>\n",
       "<table border=\"1\" class=\"dataframe\">\n",
       "  <thead>\n",
       "    <tr style=\"text-align: right;\">\n",
       "      <th></th>\n",
       "      <th>accruals_enterprise</th>\n",
       "    </tr>\n",
       "  </thead>\n",
       "  <tbody>\n",
       "    <tr>\n",
       "      <th>0</th>\n",
       "      <td>0</td>\n",
       "    </tr>\n",
       "  </tbody>\n",
       "</table>\n",
       "</div>"
      ],
      "text/plain": [
       "   accruals_enterprise\n",
       "0                    0"
      ]
     },
     "execution_count": 283,
     "metadata": {},
     "output_type": "execute_result"
    }
   ],
   "source": [
    "accruals_enterprise_rep_pertner = pd.read_csv(f'C:/Users/Boris/Desktop/report_partner/accruals_enterprise_rep_pertner/{str(year)}/{str(month)}.csv')\n",
    "accruals_enterprise_rep_pertner"
   ]
  },
  {
   "cell_type": "code",
   "execution_count": 284,
   "metadata": {},
   "outputs": [
    {
     "data": {
      "text/html": [
       "<div>\n",
       "<style scoped>\n",
       "    .dataframe tbody tr th:only-of-type {\n",
       "        vertical-align: middle;\n",
       "    }\n",
       "\n",
       "    .dataframe tbody tr th {\n",
       "        vertical-align: top;\n",
       "    }\n",
       "\n",
       "    .dataframe thead th {\n",
       "        text-align: right;\n",
       "    }\n",
       "</style>\n",
       "<table border=\"1\" class=\"dataframe\">\n",
       "  <thead>\n",
       "    <tr style=\"text-align: right;\">\n",
       "      <th></th>\n",
       "      <th>accruals_commercial</th>\n",
       "    </tr>\n",
       "  </thead>\n",
       "  <tbody>\n",
       "    <tr>\n",
       "      <th>0</th>\n",
       "      <td>0</td>\n",
       "    </tr>\n",
       "  </tbody>\n",
       "</table>\n",
       "</div>"
      ],
      "text/plain": [
       "   accruals_commercial\n",
       "0                    0"
      ]
     },
     "execution_count": 284,
     "metadata": {},
     "output_type": "execute_result"
    }
   ],
   "source": [
    "accruals_commercial_rep_partner = pd.read_csv(f'C:/Users/Boris/Desktop/report_partner/accruals_commercial_rep_partner/{str(year)}/{str(month)}.csv')\n",
    "accruals_commercial_rep_partner"
   ]
  },
  {
   "cell_type": "code",
   "execution_count": 285,
   "metadata": {},
   "outputs": [
    {
     "data": {
      "text/html": [
       "<div>\n",
       "<style scoped>\n",
       "    .dataframe tbody tr th:only-of-type {\n",
       "        vertical-align: middle;\n",
       "    }\n",
       "\n",
       "    .dataframe tbody tr th {\n",
       "        vertical-align: top;\n",
       "    }\n",
       "\n",
       "    .dataframe thead th {\n",
       "        text-align: right;\n",
       "    }\n",
       "</style>\n",
       "<table border=\"1\" class=\"dataframe\">\n",
       "  <thead>\n",
       "    <tr style=\"text-align: right;\">\n",
       "      <th></th>\n",
       "      <th>PRO_count_commercial</th>\n",
       "      <th>archive_count_3_commercial</th>\n",
       "      <th>pro_commercial_avtograd_count</th>\n",
       "      <th>archive_3_pro_commercial_avtograd_count</th>\n",
       "      <th>pro_commercial_actobe_count</th>\n",
       "      <th>archive_count_3_actobe_commerial</th>\n",
       "      <th>count_safe_city_and_security_sector_pro</th>\n",
       "      <th>count_safe_city_and_security_sector_arhive</th>\n",
       "    </tr>\n",
       "  </thead>\n",
       "  <tbody>\n",
       "    <tr>\n",
       "      <th>0</th>\n",
       "      <td>4025</td>\n",
       "      <td>2413</td>\n",
       "      <td>2234</td>\n",
       "      <td>2357</td>\n",
       "      <td>509</td>\n",
       "      <td>863</td>\n",
       "      <td>1012</td>\n",
       "      <td>1012</td>\n",
       "    </tr>\n",
       "  </tbody>\n",
       "</table>\n",
       "</div>"
      ],
      "text/plain": [
       "   PRO_count_commercial  archive_count_3_commercial  \\\n",
       "0                  4025                        2413   \n",
       "\n",
       "   pro_commercial_avtograd_count  archive_3_pro_commercial_avtograd_count  \\\n",
       "0                           2234                                     2357   \n",
       "\n",
       "   pro_commercial_actobe_count  archive_count_3_actobe_commerial  \\\n",
       "0                          509                               863   \n",
       "\n",
       "   count_safe_city_and_security_sector_pro  \\\n",
       "0                                     1012   \n",
       "\n",
       "   count_safe_city_and_security_sector_arhive  \n",
       "0                                        1012  "
      ]
     },
     "execution_count": 285,
     "metadata": {},
     "output_type": "execute_result"
    }
   ],
   "source": [
    "number_of_services_commercial_rep_partner = pd.read_csv(f'C:/Users/Boris/Desktop/report_partner/number_of_services_commercial_rep_partner/{str(year)}/{str(month)}.csv')\n",
    "number_of_services_commercial_rep_partner"
   ]
  },
  {
   "cell_type": "code",
   "execution_count": 286,
   "metadata": {},
   "outputs": [
    {
     "data": {
      "text/html": [
       "<div>\n",
       "<style scoped>\n",
       "    .dataframe tbody tr th:only-of-type {\n",
       "        vertical-align: middle;\n",
       "    }\n",
       "\n",
       "    .dataframe tbody tr th {\n",
       "        vertical-align: top;\n",
       "    }\n",
       "\n",
       "    .dataframe thead th {\n",
       "        text-align: right;\n",
       "    }\n",
       "</style>\n",
       "<table border=\"1\" class=\"dataframe\">\n",
       "  <thead>\n",
       "    <tr style=\"text-align: right;\">\n",
       "      <th></th>\n",
       "      <th>АО ЭРТХ (Цифрал Сервис)_count</th>\n",
       "      <th>R1 (АО ЭРТХ)_count</th>\n",
       "      <th>ООО ПКФ ИНСИТ_count</th>\n",
       "      <th>billings_enterprise_count</th>\n",
       "    </tr>\n",
       "  </thead>\n",
       "  <tbody>\n",
       "    <tr>\n",
       "      <th>0</th>\n",
       "      <td>2346</td>\n",
       "      <td>3391</td>\n",
       "      <td>1462</td>\n",
       "      <td>189</td>\n",
       "    </tr>\n",
       "  </tbody>\n",
       "</table>\n",
       "</div>"
      ],
      "text/plain": [
       "   АО ЭРТХ (Цифрал Сервис)_count  R1 (АО ЭРТХ)_count  ООО ПКФ ИНСИТ_count  \\\n",
       "0                           2346                3391                 1462   \n",
       "\n",
       "   billings_enterprise_count  \n",
       "0                        189  "
      ]
     },
     "execution_count": 286,
     "metadata": {},
     "output_type": "execute_result"
    }
   ],
   "source": [
    "number_of_services_enterprise_rep_partner = pd.read_csv(f'C:/Users/Boris/Desktop/report_partner/number_of_services_enterprise_rep_partner/{str(year)}/{str(month)}.csv')\n",
    "number_of_services_enterprise_rep_partner"
   ]
  },
  {
   "cell_type": "code",
   "execution_count": 287,
   "metadata": {},
   "outputs": [
    {
     "data": {
      "text/html": [
       "<div>\n",
       "<style scoped>\n",
       "    .dataframe tbody tr th:only-of-type {\n",
       "        vertical-align: middle;\n",
       "    }\n",
       "\n",
       "    .dataframe tbody tr th {\n",
       "        vertical-align: top;\n",
       "    }\n",
       "\n",
       "    .dataframe thead th {\n",
       "        text-align: right;\n",
       "    }\n",
       "</style>\n",
       "<table border=\"1\" class=\"dataframe\">\n",
       "  <thead>\n",
       "    <tr style=\"text-align: right;\">\n",
       "      <th></th>\n",
       "      <th>pro_count</th>\n",
       "      <th>archive_count_3_pro</th>\n",
       "      <th>archive_count_5_pro</th>\n",
       "      <th>archive_count_7_pro</th>\n",
       "      <th>archive_count_14_pro</th>\n",
       "      <th>archive_count_30_pro</th>\n",
       "      <th>archive_count_3</th>\n",
       "      <th>archive_count_5</th>\n",
       "      <th>archive_count_7</th>\n",
       "      <th>archive_count_14</th>\n",
       "      <th>archive_count_30</th>\n",
       "      <th>developer_count</th>\n",
       "    </tr>\n",
       "  </thead>\n",
       "  <tbody>\n",
       "    <tr>\n",
       "      <th>0</th>\n",
       "      <td>6617</td>\n",
       "      <td>2877</td>\n",
       "      <td>323</td>\n",
       "      <td>49</td>\n",
       "      <td>0</td>\n",
       "      <td>NaN</td>\n",
       "      <td>1398</td>\n",
       "      <td>673</td>\n",
       "      <td>695</td>\n",
       "      <td>1</td>\n",
       "      <td>23</td>\n",
       "      <td>354</td>\n",
       "    </tr>\n",
       "  </tbody>\n",
       "</table>\n",
       "</div>"
      ],
      "text/plain": [
       "   pro_count  archive_count_3_pro  archive_count_5_pro  archive_count_7_pro  \\\n",
       "0       6617                 2877                  323                   49   \n",
       "\n",
       "   archive_count_14_pro  archive_count_30_pro  archive_count_3  \\\n",
       "0                     0                   NaN             1398   \n",
       "\n",
       "   archive_count_5  archive_count_7  archive_count_14  archive_count_30  \\\n",
       "0              673              695                 1                23   \n",
       "\n",
       "   developer_count  \n",
       "0              354  "
      ]
     },
     "execution_count": 287,
     "metadata": {},
     "output_type": "execute_result"
    }
   ],
   "source": [
    "number_of_services_rep_partner = pd.read_csv(f'C:/Users/Boris/Desktop/report_partner/number_of_services_rep_partner/{str(year)}/{str(month)}.csv')\n",
    "number_of_services_rep_partner"
   ]
  },
  {
   "cell_type": "code",
   "execution_count": 288,
   "metadata": {},
   "outputs": [
    {
     "data": {
      "text/html": [
       "<div>\n",
       "<style scoped>\n",
       "    .dataframe tbody tr th:only-of-type {\n",
       "        vertical-align: middle;\n",
       "    }\n",
       "\n",
       "    .dataframe tbody tr th {\n",
       "        vertical-align: top;\n",
       "    }\n",
       "\n",
       "    .dataframe thead th {\n",
       "        text-align: right;\n",
       "    }\n",
       "</style>\n",
       "<table border=\"1\" class=\"dataframe\">\n",
       "  <thead>\n",
       "    <tr style=\"text-align: right;\">\n",
       "      <th></th>\n",
       "      <th>min_count_of_blocks</th>\n",
       "      <th>max_count_of_blocks</th>\n",
       "      <th>avg_count_of_blocks</th>\n",
       "      <th>min_percentage_of_blocked</th>\n",
       "      <th>max_percentage_of_blocked</th>\n",
       "      <th>avg_percentage_of_blocked</th>\n",
       "    </tr>\n",
       "  </thead>\n",
       "  <tbody>\n",
       "    <tr>\n",
       "      <th>0</th>\n",
       "      <td>49879</td>\n",
       "      <td>52038</td>\n",
       "      <td>51051</td>\n",
       "      <td>12.094</td>\n",
       "      <td>12.437</td>\n",
       "      <td>12.281</td>\n",
       "    </tr>\n",
       "  </tbody>\n",
       "</table>\n",
       "</div>"
      ],
      "text/plain": [
       "   min_count_of_blocks  max_count_of_blocks  avg_count_of_blocks  \\\n",
       "0                49879                52038                51051   \n",
       "\n",
       "   min_percentage_of_blocked  max_percentage_of_blocked  \\\n",
       "0                     12.094                     12.437   \n",
       "\n",
       "   avg_percentage_of_blocked  \n",
       "0                     12.281  "
      ]
     },
     "execution_count": 288,
     "metadata": {},
     "output_type": "execute_result"
    }
   ],
   "source": [
    "count_of_blocks_rep_partner = pd.read_csv(f'C:/Users/Boris/Desktop/report_partner/count_of_blocks_rep_partner/{str(year)}/{str(month)}.csv')\n",
    "count_of_blocks_rep_partner"
   ]
  },
  {
   "cell_type": "code",
   "execution_count": 289,
   "metadata": {},
   "outputs": [
    {
     "data": {
      "text/html": [
       "<div>\n",
       "<style scoped>\n",
       "    .dataframe tbody tr th:only-of-type {\n",
       "        vertical-align: middle;\n",
       "    }\n",
       "\n",
       "    .dataframe tbody tr th {\n",
       "        vertical-align: top;\n",
       "    }\n",
       "\n",
       "    .dataframe thead th {\n",
       "        text-align: right;\n",
       "    }\n",
       "</style>\n",
       "<table border=\"1\" class=\"dataframe\">\n",
       "  <thead>\n",
       "    <tr style=\"text-align: right;\">\n",
       "      <th></th>\n",
       "      <th>count_io22</th>\n",
       "      <th>count_io_pro</th>\n",
       "    </tr>\n",
       "  </thead>\n",
       "  <tbody>\n",
       "    <tr>\n",
       "      <th>0</th>\n",
       "      <td>751</td>\n",
       "      <td>235</td>\n",
       "    </tr>\n",
       "  </tbody>\n",
       "</table>\n",
       "</div>"
      ],
      "text/plain": [
       "   count_io22  count_io_pro\n",
       "0         751           235"
      ]
     },
     "execution_count": 289,
     "metadata": {},
     "output_type": "execute_result"
    }
   ],
   "source": [
    "count_of_io_rep_partner = pd.read_csv(f'C:/Users/Boris/Desktop/report_partner/count_of_io_rep_partner/{str(year)}/{str(month)}.csv')\n",
    "count_of_io_rep_partner"
   ]
  },
  {
   "cell_type": "code",
   "execution_count": 290,
   "metadata": {},
   "outputs": [
    {
     "data": {
      "text/html": [
       "<div>\n",
       "<style scoped>\n",
       "    .dataframe tbody tr th:only-of-type {\n",
       "        vertical-align: middle;\n",
       "    }\n",
       "\n",
       "    .dataframe tbody tr th {\n",
       "        vertical-align: top;\n",
       "    }\n",
       "\n",
       "    .dataframe thead th {\n",
       "        text-align: right;\n",
       "    }\n",
       "</style>\n",
       "<table border=\"1\" class=\"dataframe\">\n",
       "  <thead>\n",
       "    <tr style=\"text-align: right;\">\n",
       "      <th></th>\n",
       "      <th>year</th>\n",
       "      <th>month</th>\n",
       "      <th>report_date</th>\n",
       "      <th>number_of_clients</th>\n",
       "      <th>count_start</th>\n",
       "      <th>count_PRO</th>\n",
       "      <th>count_sleaping</th>\n",
       "      <th>count_only_warehouse</th>\n",
       "      <th>connected_0_growth_intercom_0_sleaping</th>\n",
       "      <th>connected_0_growth_intercom_0_only_warehouse</th>\n",
       "      <th>...</th>\n",
       "      <th>archive_count_30</th>\n",
       "      <th>developer_count</th>\n",
       "      <th>min_count_of_blocks</th>\n",
       "      <th>max_count_of_blocks</th>\n",
       "      <th>avg_count_of_blocks</th>\n",
       "      <th>min_percentage_of_blocked</th>\n",
       "      <th>max_percentage_of_blocked</th>\n",
       "      <th>avg_percentage_of_blocked</th>\n",
       "      <th>count_io22</th>\n",
       "      <th>count_io_pro</th>\n",
       "    </tr>\n",
       "  </thead>\n",
       "  <tbody>\n",
       "    <tr>\n",
       "      <th>0</th>\n",
       "      <td>2024</td>\n",
       "      <td>1</td>\n",
       "      <td>2024-01-31</td>\n",
       "      <td>777</td>\n",
       "      <td>652</td>\n",
       "      <td>124</td>\n",
       "      <td>292</td>\n",
       "      <td>306</td>\n",
       "      <td>287</td>\n",
       "      <td>13</td>\n",
       "      <td>...</td>\n",
       "      <td>23</td>\n",
       "      <td>354</td>\n",
       "      <td>49879</td>\n",
       "      <td>52038</td>\n",
       "      <td>51051</td>\n",
       "      <td>12.094</td>\n",
       "      <td>12.437</td>\n",
       "      <td>12.281</td>\n",
       "      <td>751</td>\n",
       "      <td>235</td>\n",
       "    </tr>\n",
       "  </tbody>\n",
       "</table>\n",
       "<p>1 rows × 149 columns</p>\n",
       "</div>"
      ],
      "text/plain": [
       "   year  month report_date  number_of_clients  count_start  count_PRO  \\\n",
       "0  2024      1  2024-01-31                777          652        124   \n",
       "\n",
       "   count_sleaping  count_only_warehouse  \\\n",
       "0             292                   306   \n",
       "\n",
       "   connected_0_growth_intercom_0_sleaping  \\\n",
       "0                                     287   \n",
       "\n",
       "   connected_0_growth_intercom_0_only_warehouse  ...  archive_count_30  \\\n",
       "0                                            13  ...                23   \n",
       "\n",
       "   developer_count  min_count_of_blocks  max_count_of_blocks  \\\n",
       "0              354                49879                52038   \n",
       "\n",
       "   avg_count_of_blocks  min_percentage_of_blocked  max_percentage_of_blocked  \\\n",
       "0                51051                     12.094                     12.437   \n",
       "\n",
       "   avg_percentage_of_blocked  count_io22  count_io_pro  \n",
       "0                     12.281         751           235  \n",
       "\n",
       "[1 rows x 149 columns]"
      ]
     },
     "execution_count": 290,
     "metadata": {},
     "output_type": "execute_result"
    }
   ],
   "source": [
    "concated = pd.concat([\n",
    "            partners_count_rep_partner,\n",
    "            address_flats_rep_partner,\n",
    "            all_partners_rep_partner,\n",
    "            arhive_rep_partner,\n",
    "            conected_intercoms_rep_partner,\n",
    "            count_of_instaletion_point_rep_partner,\n",
    "            count_of_online_intercoms_rep_partner,\n",
    "            separate_cameras_rep_partner,\n",
    "            all_flats_rep_partners,\n",
    "            revenue_rep_partner,\n",
    "            all_intercoms_rep_partner,\n",
    "            arhive_enterprise_rep_partner,\n",
    "            enterprice_commerce_intercom_count_rep_partner,\n",
    "            intercom_uuid_count_rep_partner,\n",
    "            partners_count_enterprice_rep_partner,\n",
    "            revenue_enterpise_rep_partner,\n",
    "            revenue_commercial_rep_partner,\n",
    "            accruals_rep_partner,\n",
    "            accruals_enterprise_rep_pertner,\n",
    "            accruals_commercial_rep_partner,\n",
    "            number_of_services_commercial_rep_partner,\n",
    "            number_of_services_enterprise_rep_partner,\n",
    "            number_of_services_rep_partner,\n",
    "            count_of_blocks_rep_partner,\n",
    "            count_of_io_rep_partner\n",
    "            ]\n",
    "            , axis=1   \n",
    "            )\n",
    "concated"
   ]
  },
  {
   "cell_type": "code",
   "execution_count": 291,
   "metadata": {},
   "outputs": [
    {
     "name": "stdout",
     "output_type": "stream",
     "text": [
      "<class 'pandas.core.frame.DataFrame'>\n",
      "RangeIndex: 1 entries, 0 to 0\n",
      "Columns: 149 entries, year to count_io_pro\n",
      "dtypes: float64(12), int64(136), object(1)\n",
      "memory usage: 1.3+ KB\n"
     ]
    }
   ],
   "source": [
    "concated.info()"
   ]
  },
  {
   "cell_type": "code",
   "execution_count": 292,
   "metadata": {},
   "outputs": [],
   "source": [
    "concated.to_csv(f'C:/Users/Boris/Desktop/report_partner/ready_report/{str(year)}/{str(month)}.csv', sep=',', index=False)"
   ]
  },
  {
   "cell_type": "code",
   "execution_count": 293,
   "metadata": {},
   "outputs": [],
   "source": [
    "ACCESS_KEY = \"YCAJEuIkha6my9B9Hb6W1GyNX\"\n",
    "SECRET_KEY = \"YCPJ6PS_Ll0vnFLuZEaNEXDKuB0J3vs2iSt5RWp6\"\n",
    "BUCKET_NAME = \"dwh-asgard\"\n",
    "TIME_ZONE = os.getenv(\"TIME_ZONE\", \"Europe/Moscow\")\n"
   ]
  },
  {
   "cell_type": "code",
   "execution_count": 296,
   "metadata": {},
   "outputs": [],
   "source": [
    "def get_s3_instance():\n",
    "    session = boto3.session.Session()\n",
    "    return session.client(\n",
    "        aws_access_key_id=ACCESS_KEY,\n",
    "        aws_secret_access_key=SECRET_KEY,\n",
    "        service_name='s3',\n",
    "        endpoint_url='https://storage.yandexcloud.net'\n",
    "    )\n",
    "    \n",
    "def upload_dump_to_s3():\n",
    "    get_s3_instance().upload_file(\n",
    "        Filename= f'C:/Users/Boris/Desktop/report_partner/ready_report/{str(year)}/{str(month)}.csv',\n",
    "        Bucket=BUCKET_NAME,\n",
    "        Key=f\"partner_report/year={str(year)}/{str(month)}.csv\"\n",
    "    )\n",
    "\n",
    "get_s3_instance()\n",
    "upload_dump_to_s3()"
   ]
  }
 ],
 "metadata": {
  "kernelspec": {
   "display_name": "Python 3",
   "language": "python",
   "name": "python3"
  },
  "language_info": {
   "codemirror_mode": {
    "name": "ipython",
    "version": 3
   },
   "file_extension": ".py",
   "mimetype": "text/x-python",
   "name": "python",
   "nbconvert_exporter": "python",
   "pygments_lexer": "ipython3",
   "version": "3.9.13"
  },
  "orig_nbformat": 4
 },
 "nbformat": 4,
 "nbformat_minor": 2
}

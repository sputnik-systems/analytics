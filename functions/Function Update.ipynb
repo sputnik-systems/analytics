{
 "cells": [
  {
   "cell_type": "code",
   "execution_count": 4,
   "id": "34fb85b6",
   "metadata": {},
   "outputs": [],
   "source": [
    "import boto3\n",
    "import os\n",
    "from config import ACCESS_KEY, SECRET_KEY\n",
    "\n",
    "def get_s3_instance():\n",
    "    session = boto3.session.Session()\n",
    "    return session.client(\n",
    "        aws_access_key_id=ACCESS_KEY,\n",
    "        aws_secret_access_key=SECRET_KEY,\n",
    "        service_name='s3',\n",
    "        endpoint_url='https://storage.yandexcloud.net'\n",
    "    )"
   ]
  },
  {
   "cell_type": "code",
   "execution_count": 5,
   "id": "3f6ff389",
   "metadata": {},
   "outputs": [],
   "source": [
    "import os\n",
    "\n",
    "def list_files(directory):\n",
    "    try:\n",
    "        # Get all entries in the directory\n",
    "        entries = os.listdir(directory)\n",
    "        # Filter out directories, keep only files\n",
    "        files = [entry for entry in entries if os.path.isfile(os.path.join(directory, entry))]\n",
    "        return files\n",
    "    except FileNotFoundError:\n",
    "        print(f\"The directory {directory} does not exist.\")\n",
    "        return []\n",
    "    except PermissionError:\n",
    "        print(f\"Permission denied to access the directory {directory}.\")\n",
    "        return []\n",
    "\n",
    "# Example usage\n",
    "directory_path = '/home/boris/Documents/Work/query_text'\n",
    "files = list_files(directory_path)"
   ]
  },
  {
   "cell_type": "code",
   "execution_count": 6,
   "id": "ceff4175",
   "metadata": {},
   "outputs": [],
   "source": [
    "for file in files:\n",
    "    get_s3_instance().upload_file(\n",
    "        Filename= f'{directory_path}/{file}',\n",
    "        Bucket='aggregated-data',\n",
    "        Key=f\"query_texts/{file}\"\n",
    "        )"
   ]
  }
 ],
 "metadata": {
  "kernelspec": {
   "display_name": "myenv",
   "language": "python",
   "name": "python3"
  },
  "language_info": {
   "codemirror_mode": {
    "name": "ipython",
    "version": 3
   },
   "file_extension": ".py",
   "mimetype": "text/x-python",
   "name": "python",
   "nbconvert_exporter": "python",
   "pygments_lexer": "ipython3",
   "version": "3.12.10"
  }
 },
 "nbformat": 4,
 "nbformat_minor": 5
}

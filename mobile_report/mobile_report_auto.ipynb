{
 "cells": [
  {
   "cell_type": "code",
   "execution_count": 1,
   "metadata": {},
   "outputs": [],
   "source": [
    "import requests\n",
    "import time\n",
    "import json\n",
    "import os\n",
    "import datetime\n",
    "import boto3\n",
    "import pytz\n",
    "import pandas as pd"
   ]
  },
  {
   "cell_type": "code",
   "execution_count": 2,
   "metadata": {},
   "outputs": [],
   "source": [
    "from config import ACCESS_KEY,SECRET_KEY,TOKEN,APP_METRICA_OAUTH"
   ]
  },
  {
   "cell_type": "code",
   "execution_count": 3,
   "metadata": {},
   "outputs": [],
   "source": [
    "def get_now_datetime_str(): # получаем актуальное время\n",
    "    time_zone = os.getenv(\"TIME_ZONE\", \"Europe/Moscow\") # меняем таймзону на московскую\n",
    "    now = datetime.datetime.now(pytz.timezone(time_zone))    \n",
    "    yesterday = now - datetime.timedelta(days=1) #нужна вчерашняя дата так как данные за прошлый день\n",
    "    days_to_subtract = yesterday.day - 1\n",
    "    start_of_month_data = yesterday - datetime.timedelta(days=days_to_subtract)\n",
    "    yesterday = now - datetime.timedelta(days=1)\n",
    "\n",
    "    return {'now':now.strftime('%Y-%m-%d %H:%M:%S'),\n",
    "            'now_date':now.strftime('%Y-%m-%d'),\n",
    "            'yesterday_data':yesterday.strftime('%Y-%m-%d'),\n",
    "            'yesterday':yesterday.strftime('%Y-%m-%d %H:%M:%S'), \n",
    "            'year':yesterday.strftime('%Y'),\n",
    "            'month':yesterday.strftime('%m'),\n",
    "            'day':yesterday.strftime('%d'),\n",
    "            'start_of_month_data':start_of_month_data.strftime('%Y-%m-%d')\n",
    "\n",
    "            }\n",
    "\n",
    "# Переменные, которые могут быть использованы в разоичных запросах. \n",
    "now = get_now_datetime_str()['now']\n",
    "# Даты ниже отражают вчерашний день\n",
    "yesterday = get_now_datetime_str()['yesterday']\n",
    "yesterday_data = get_now_datetime_str()['yesterday_data']\n",
    "day = get_now_datetime_str()['day'] # \n",
    "month = get_now_datetime_str()['month']\n",
    "year = get_now_datetime_str()['year']\n",
    "start_of_month_data = get_now_datetime_str()['start_of_month_data']\n",
    "now_date = get_now_datetime_str()['now_date']\n",
    "\n",
    "limit = 100\n",
    "offset = 1"
   ]
  },
  {
   "cell_type": "code",
   "execution_count": 4,
   "metadata": {},
   "outputs": [],
   "source": [
    "month = '05'\n",
    "year = '2024'\n",
    "start_of_month_data = '2024-05-01'\n",
    "now_date = '2024-06-01'\n",
    "yesterday_data = '2024-05-31'"
   ]
  },
  {
   "cell_type": "code",
   "execution_count": 5,
   "metadata": {},
   "outputs": [],
   "source": [
    "headers={'Authorization':APP_METRICA_OAUTH,'Host':'api.appmetrica.yandex.ru'}\n",
    "limit = 100\n",
    "offset = 1\n",
    "\n",
    "\n",
    "def get_request_metrica(api_html_metrica):\n",
    "    response = requests.get(\n",
    "        api_html_metrica,\n",
    "        headers = headers\n",
    "    )\n",
    "    return response"
   ]
  },
  {
   "cell_type": "code",
   "execution_count": 6,
   "metadata": {},
   "outputs": [],
   "source": [
    "api_html_appmetrica_auditorium = open('api_html_appmetrica_auditorium.txt','r').read().format(start_of_month_data,yesterday_data,offset,limit)\n",
    "response = get_request_metrica(api_html_appmetrica_auditorium)"
   ]
  },
  {
   "cell_type": "code",
   "execution_count": 7,
   "metadata": {},
   "outputs": [],
   "source": [
    "# Преобразование файлов из \n",
    "\n",
    "api_html_appmetrica_auditorium = open('api_html_appmetrica_auditorium.txt','r').read().format(start_of_month_data,yesterday_data,offset,limit)\n",
    "response = get_request_metrica(api_html_appmetrica_auditorium)\n",
    "\n",
    "for i in range(0,len(response.json()['data'])):\n",
    "    if i == 0:\n",
    "        data_DAU = pd.DataFrame({\n",
    "            'Дата': response.json()['data'][i]['dimensions'][0]['name'],\n",
    "            'Пользователи': [int(response.json()['data'][i]['metrics'][0])],\n",
    "            'Новые пользователи':  [int(response.json()['data'][i]['metrics'][2])],\n",
    "            'Доля новых пользователей': [response.json()['data'][i]['metrics'][4]]\n",
    "            })\n",
    "    else:\n",
    "        data_DAU_new_row = pd.DataFrame({\n",
    "            'Дата': response.json()['data'][i]['dimensions'][0]['name'],\n",
    "            'Пользователи': [int(response.json()['data'][i]['metrics'][0])],\n",
    "            'Новые пользователи':  [int(response.json()['data'][i]['metrics'][2])],\n",
    "            'Доля новых пользователей': [response.json()['data'][i]['metrics'][4]]\n",
    "            })\n",
    "        data_DAU = pd.concat([data_DAU,data_DAU_new_row])\n",
    "\n",
    "data_DAU.to_csv(f'C:/Users/Boris/Desktop/mobile rep/app_metrica_DAU_MAU/remade/DAU/{year}/{int(month)}.csv', index=False, sep=';')\n",
    "\n",
    "data_MAU = pd.DataFrame({\n",
    "    'Пользователи': [int(response.json()['totals'][0])],\n",
    "    'Новые пользователи':  [int(response.json()['totals'][2])],\n",
    "    'Доля новых пользователей': [response.json()['totals'][4]]\n",
    "    })\n",
    "\n",
    "data_MAU.to_csv(f'C:/Users/Boris/Desktop/mobile rep/app_metrica_DAU_MAU/remade/MAU/{year}/{int(month)}.csv', index=False, sep=';')"
   ]
  },
  {
   "cell_type": "code",
   "execution_count": 11,
   "metadata": {},
   "outputs": [],
   "source": [
    "# appmetrica_ID_count\n",
    "\n",
    "api_html_appmetrica_ID_count = open('api_html_appmetrica_ID_count.txt','r').read().format('2019-01-01',yesterday_data,offset,limit)\n",
    "response = get_request_metrica(api_html_appmetrica_ID_count)\n",
    "\n",
    "id_count = pd.DataFrame({\n",
    "    'Android': int(response.json()['data'][0]['metrics'][0][0]),\n",
    "    'Ios': int(response.json()['data'][1]['metrics'][0][0])\n",
    "    }\n",
    "    ,index=[0])\n",
    "\n",
    "id_count\n",
    "id_count.to_csv(f'C:/Users/Boris/Desktop/mobile rep/app_metrica_ID_count/remade/{int(year)}/{int(month)}.csv', index=False, sep=\";\")"
   ]
  },
  {
   "cell_type": "code",
   "execution_count": 12,
   "metadata": {},
   "outputs": [],
   "source": [
    "# appmetrica_installetion_count\n",
    "\n",
    "api_html_appmetrica_installetion_count = open('api_html_appmetrica_installetion_count.txt','r').read().format('2019-01-01',yesterday_data,limit,offset)\n",
    "response = get_request_metrica(api_html_appmetrica_installetion_count)\n",
    "\n",
    "installetion_count = pd.DataFrame({\n",
    "    'Все установки': int(response.json()['totals'][1]),\n",
    "    'Сессии': int(response.json()['totals'][4])\n",
    "    }\n",
    "    ,index=[0])\n",
    "\n",
    "installetion_count.to_csv(f'C:/Users/Boris/Desktop/mobile rep/app_metrica_all_daownloaded/remade/{int(year)}/{int(month)}.csv', index=False,sep=\";\")"
   ]
  },
  {
   "cell_type": "code",
   "execution_count": 13,
   "metadata": {},
   "outputs": [],
   "source": [
    "# appmetrica_installetion_count_per_day\n",
    "\n",
    "api_html_appmetrica_installetion_count_per_day = open('api_html_appmetrica_installetion_count_per_day.txt','r').read().format(start_of_month_data,yesterday_data)\n",
    "response = get_request_metrica(api_html_appmetrica_installetion_count_per_day)\n",
    "\n",
    "for i in range(0, len(response.json()['totals'][0])):\n",
    "    if i == 0:\n",
    "        count_per_day = pd.DataFrame({\n",
    "            'Дата': response.json()['time_intervals'][i][0],\n",
    "            'Установки': int(response.json()['totals'][0][i])\n",
    "            },index=[0])\n",
    "    else:\n",
    "        count_per_day_new_row = pd.DataFrame({\n",
    "            'Дата': response.json()['time_intervals'][i][0],\n",
    "            'Установки': int(response.json()['totals'][0][i])\n",
    "            },index=[0])\n",
    "        count_per_day = pd.concat([count_per_day,count_per_day_new_row])\n",
    "\n",
    "count_per_day.to_csv(f'C:/Users/Boris/Desktop/mobile rep/app_metrica_download_by_day/remade/{int(year)}/{int(month)}.csv', index=False,sep=\";\")"
   ]
  },
  {
   "cell_type": "code",
   "execution_count": 5,
   "metadata": {},
   "outputs": [],
   "source": [
    "token = TOKEN\n",
    "headers={'Authorization':token,'Accept':'application/json'}\n",
    "\n",
    "#'b1gb310irjlk6b99e14g' - аналитика\n",
    "#'b1gc7vi2ckqausoc5dr7' - спутник\n",
    "\n",
    "FOLDER_ID = 'b1gc7vi2ckqausoc5dr7' # id каталога из которого береться запрос\n",
    "ACCESS_KEY = ACCESS_KEY #aws_access_key_id для S3\n",
    "SECRET_KEY = SECRET_KEY #aws_secret_access_key в s3\n",
    "BUCKET_NAME = 'dwh-asgard' #имя бакета\n",
    "TIME_ZONE = os.getenv(\"TIME_ZONE\", \"Europe/Moscow\") #настройка функции\n",
    "TEMP_FILENAME = \"temp_file\""
   ]
  },
  {
   "cell_type": "code",
   "execution_count": 6,
   "metadata": {},
   "outputs": [],
   "source": [
    "def create_query(): #функция создает новый запрос и возвращает id для запроса результата\n",
    "    body = {\n",
    "        \"name\":query_name, \n",
    "        \"TYPE\":\"ANALYTICS\", \n",
    "        \"text\":query_text, \n",
    "        \"description\":query_description\n",
    "    }\n",
    "    response = requests.post(\n",
    "        f'https://api.yandex-query.cloud.yandex.net/api/fq/v1/queries?project={FOLDER_ID}',\n",
    "        headers=headers,\n",
    "        json=body\n",
    "    )\n",
    "    if response.status_code == 200:\n",
    "        return response.json()[\"id\"]\n",
    "    return f' Code: {response},  text: {response.text}'\n",
    "\n",
    "\n",
    "\n",
    "def get_request(offset): # фунция возвращает ответ запроса. Максимум 1000 строк.\n",
    "    offset = offset\n",
    "    get_query_results_url = f'https://api.yandex-query.cloud.yandex.net/api/fq/v1/queries/{request_id}/results/0?project={FOLDER_ID}&offset={str(offset)}&limit=1000'\n",
    "    response = requests.get(\n",
    "        get_query_results_url,\n",
    "        headers = headers\n",
    "    )\n",
    "    return response\n",
    "\n",
    "def if_cell_is_list(cell): # функция участвует в преобразовании данных при создании файла\n",
    "    if isinstance(cell, list):\n",
    "        if len(cell) == 0:\n",
    "            return ''\n",
    "        else: \n",
    "            return cell[0]\n",
    "    else:\n",
    "        return cell\n",
    "\n",
    "def write_temp_file():\n",
    "    offset = 0\n",
    "    response = get_request(offset) #запрашиваем данные запроса\n",
    "    columns = [rows['name'] for rows in response.json()['columns']] #выделяем названия столбцов\n",
    "    special_str = \"\"\n",
    "    for j in columns:\n",
    "        special_str = f\"{special_str}{str(j)},\"\n",
    "    temp_file = open(TEMP_FILENAME, 'w')\n",
    "    temp_file.write(special_str[:-1]+'\\n')\n",
    "\n",
    "    while response.status_code == 200 and len(response.json()['rows']) != 0:  #Цикл делает запросы по 10000, пока не кончатся данные\n",
    "        response = get_request(offset)\n",
    "        response_rows = response.json()['rows']\n",
    "        rows = [[if_cell_is_list(cell) for cell in row] for row in response_rows]  #Преобразуются строки\n",
    "        # Открывает созданный файл и добавляет в него строки\n",
    "        for i in rows:\n",
    "            special_str = \"\"\n",
    "            for j in i:\n",
    "                if isinstance(j, str):\n",
    "                    special_str = f\"{special_str}'{str(j)}',\"\n",
    "                else:\n",
    "                    special_str = f\"{special_str}{str(j)},\"\n",
    "            temp_file.write(special_str[:-1]+'\\n') \n",
    "        offset +=1000 # увеличивает смещение\n",
    "\n",
    "def remove_temp_files(): #функция удаляет временный файл\n",
    "    os.remove(TEMP_FILENAME)"
   ]
  },
  {
   "cell_type": "code",
   "execution_count": 16,
   "metadata": {},
   "outputs": [],
   "source": [
    "FOLDER = 'total_activated_account_rep_mobile'\n",
    "offset = 0\n",
    "\n",
    "query_name = f'{FOLDER} {now}' #имя, которое появляется в запросах\n",
    "query_description = 'тестовый запрос'#описание, которое появляется в запросах\n",
    "query_text = open(f'{FOLDER}.txt','r').read().format(start_of_month_data,now_date,yesterday_data)\n",
    "\n",
    "request_id = create_query()\n",
    "while str(get_request(0)) == '<Response [400]>':     \n",
    "    time.sleep(10)\n",
    "\n",
    "write_temp_file()\n",
    "temp_file_pd = pd.read_csv(TEMP_FILENAME, sep=',')\n",
    "temp_file_pd.to_csv(f'C:/Users/Boris/Desktop/mobile rep/{FOLDER}/{int(year)}/{int(month)}.csv', index=False,sep=\",\")\n",
    "remove_temp_files()\n"
   ]
  },
  {
   "cell_type": "code",
   "execution_count": 18,
   "metadata": {},
   "outputs": [],
   "source": [
    "FOLDER = 'total_active_users_rep_mobile'\n",
    "offset = 0\n",
    "\n",
    "query_name = f'{FOLDER} {now}' #имя, которое появляется в запросах\n",
    "query_description = 'тестовый запрос'#описание, которое появляется в запросах\n",
    "query_text = open(f'{FOLDER}.txt','r').read().format(now_date,start_of_month_data,yesterday_data)\n",
    "\n",
    "request_id = create_query()\n",
    "while str(get_request(0)) == '<Response [400]>':     \n",
    "    time.sleep(10)\n",
    "\n",
    "write_temp_file()\n",
    "temp_file_pd = pd.read_csv(TEMP_FILENAME, sep=',')\n",
    "temp_file_pd.to_csv(f'C:/Users/Boris/Desktop/mobile rep/{FOLDER}/{int(year)}/{int(month)}.csv', index=False,sep=\",\")\n",
    "remove_temp_files()"
   ]
  },
  {
   "cell_type": "code",
   "execution_count": 19,
   "metadata": {},
   "outputs": [],
   "source": [
    "FOLDER = 'active_users_in_flats_rep_mobile'\n",
    "offset = 0\n",
    "\n",
    "query_name = f'{FOLDER} {now}' #имя, которое появляется в запросах\n",
    "query_description = 'тестовый запрос'#описание, которое появляется в запросах\n",
    "query_text = open(f'{FOLDER}.txt','r').read().format(now_date,start_of_month_data,yesterday_data)\n",
    "\n",
    "request_id = create_query()\n",
    "while str(get_request(0)) == '<Response [400]>':     \n",
    "    time.sleep(10)\n",
    "\n",
    "write_temp_file()\n",
    "temp_file_pd = pd.read_csv(TEMP_FILENAME, sep=',')\n",
    "temp_file_pd.to_csv(f'C:/Users/Boris/Desktop/mobile rep/{FOLDER}/{int(year)}/{int(month)}.csv', index=False,sep=\",\")\n",
    "remove_temp_files()"
   ]
  },
  {
   "cell_type": "code",
   "execution_count": 20,
   "metadata": {},
   "outputs": [],
   "source": [
    "FOLDER = 'total_account_count_rep_mobile'\n",
    "offset = 0\n",
    "\n",
    "query_name = f'{FOLDER} {now}' #имя, которое появляется в запросах\n",
    "query_description = 'тестовый запрос'#описание, которое появляется в запросах\n",
    "query_text = open(f'{FOLDER}.txt','r').read().format(start_of_month_data,now_date,yesterday_data)\n",
    "\n",
    "request_id = create_query()\n",
    "while str(get_request(0)) == '<Response [400]>':     \n",
    "    time.sleep(10)\n",
    "\n",
    "write_temp_file()\n",
    "temp_file_pd = pd.read_csv(TEMP_FILENAME, sep=',')\n",
    "temp_file_pd.to_csv(f'C:/Users/Boris/Desktop/mobile rep/{FOLDER}/{int(year)}/{int(month)}.csv', index=False,sep=\",\")\n",
    "remove_temp_files()"
   ]
  },
  {
   "cell_type": "code",
   "execution_count": 21,
   "metadata": {},
   "outputs": [],
   "source": [
    "FOLDER = 'DAF_rep_mobile'\n",
    "offset = 0\n",
    "\n",
    "query_name = f'{FOLDER} {now}' #имя, которое появляется в запросах\n",
    "query_description = 'тестовый запрос'#описание, которое появляется в запросах\n",
    "query_text = open(f'{FOLDER}.txt','r').read().format(start_of_month_data,now_date,yesterday_data)\n",
    "\n",
    "request_id = create_query()\n",
    "while str(get_request(0)) == '<Response [400]>':     \n",
    "    time.sleep(10)\n",
    "\n",
    "write_temp_file()\n",
    "temp_file_pd = pd.read_csv(TEMP_FILENAME, sep=',')\n",
    "temp_file_pd.to_csv(f'C:/Users/Boris/Desktop/mobile rep/{FOLDER}/{int(year)}/{int(month)}.csv', index=False,sep=\",\")\n",
    "remove_temp_files()"
   ]
  },
  {
   "cell_type": "code",
   "execution_count": 22,
   "metadata": {},
   "outputs": [],
   "source": [
    "FOLDER = 'MAF_rep_mobile'\n",
    "offset = 0\n",
    "\n",
    "query_name = f'{FOLDER} {now}' #имя, которое появляется в запросах\n",
    "query_description = 'тестовый запрос'#описание, которое появляется в запросах\n",
    "query_text = open(f'{FOLDER}.txt','r').read().format(start_of_month_data,now_date,yesterday_data)\n",
    "\n",
    "request_id = create_query()\n",
    "while str(get_request(0)) == '<Response [400]>':     \n",
    "    time.sleep(10)\n",
    "\n",
    "write_temp_file()\n",
    "temp_file_pd = pd.read_csv(TEMP_FILENAME, sep=',')\n",
    "temp_file_pd.to_csv(f'C:/Users/Boris/Desktop/mobile rep/{FOLDER}/{int(year)}/{int(month)}.csv', index=False,sep=\",\")\n",
    "remove_temp_files()"
   ]
  },
  {
   "cell_type": "code",
   "execution_count": 23,
   "metadata": {},
   "outputs": [],
   "source": [
    "FOLDER = 'app_in_flats_rep_mobile'\n",
    "offset = 0\n",
    "\n",
    "query_name = f'{FOLDER} {now}' #имя, которое появляется в запросах\n",
    "query_description = 'тестовый запрос'#описание, которое появляется в запросах\n",
    "query_text = open(f'{FOLDER}.txt','r').read().format(yesterday_data)\n",
    "\n",
    "request_id = create_query()\n",
    "while str(get_request(0)) == '<Response [400]>':     \n",
    "    time.sleep(10)\n",
    "\n",
    "write_temp_file()\n",
    "temp_file_pd = pd.read_csv(TEMP_FILENAME, sep=',')\n",
    "temp_file_pd.to_csv(f'C:/Users/Boris/Desktop/mobile rep/{FOLDER}/{int(year)}/{int(month)}.csv', index=False,sep=\",\")\n",
    "remove_temp_files()"
   ]
  },
  {
   "cell_type": "code",
   "execution_count": 24,
   "metadata": {},
   "outputs": [],
   "source": [
    "FOLDER = 'flats_in_sputnic_rep_mobile'\n",
    "offset = 0\n",
    "\n",
    "query_name = f'{FOLDER} {now}' #имя, которое появляется в запросах\n",
    "query_description = 'тестовый запрос'#описание, которое появляется в запросах\n",
    "query_text = open(f'{FOLDER}.txt','r').read().format(start_of_month_data,now_date,yesterday_data)\n",
    "\n",
    "request_id = create_query()\n",
    "while str(get_request(0)) == '<Response [400]>':     \n",
    "    time.sleep(10)\n",
    "\n",
    "write_temp_file()\n",
    "temp_file_pd = pd.read_csv(TEMP_FILENAME, sep=',')\n",
    "temp_file_pd.to_csv(f'C:/Users/Boris/Desktop/mobile rep/{FOLDER}/{int(year)}/{int(month)}.csv', index=False,sep=\",\")\n",
    "remove_temp_files()"
   ]
  },
  {
   "cell_type": "code",
   "execution_count": 25,
   "metadata": {},
   "outputs": [],
   "source": [
    "FOLDER = 'all_flats_rep_mobile'\n",
    "\n",
    "query_name = f'{FOLDER} {now}' #имя, которое появляется в запросах\n",
    "query_description = 'тестовый запрос'#описание, которое появляется в запросах\n",
    "query_text = open(f'{FOLDER}.txt','r').read().format(start_of_month_data,now_date,yesterday_data)\n",
    "\n",
    "request_id = create_query()\n",
    "while str(get_request(0)) == '<Response [400]>':     \n",
    "    time.sleep(10)\n",
    "\n",
    "write_temp_file()\n",
    "temp_file_pd = pd.read_csv(TEMP_FILENAME, sep=',')\n",
    "temp_file_pd.to_csv(f'C:/Users/Boris/Desktop/mobile rep/{FOLDER}/{int(year)}/{int(month)}.csv', index=False,sep=\",\")\n",
    "remove_temp_files()"
   ]
  },
  {
   "cell_type": "code",
   "execution_count": 7,
   "metadata": {},
   "outputs": [],
   "source": [
    "FOLDER = 'Units_on_SK platform_(monetization)_rep_mobile'\n",
    "\n",
    "query_name = f'{FOLDER} {now}' #имя, которое появляется в запросах\n",
    "query_description = 'тестовый запрос'#описание, которое появляется в запросах\n",
    "query_text = open(f'{FOLDER}.txt','r').read().format(start_of_month_data,now_date,yesterday_data)\n",
    "\n",
    "request_id = create_query()\n",
    "while str(get_request(0)) == '<Response [400]>':     \n",
    "    time.sleep(10)\n",
    "\n",
    "write_temp_file()\n",
    "temp_file_pd = pd.read_csv(TEMP_FILENAME, sep=',')\n",
    "temp_file_pd.to_csv(f'C:/Users/Boris/Desktop/mobile rep/{FOLDER}/{int(year)}/{int(month)}.csv', index=False,sep=\",\")\n",
    "remove_temp_files()"
   ]
  },
  {
   "cell_type": "code",
   "execution_count": 27,
   "metadata": {},
   "outputs": [],
   "source": [
    "FOLDER = 'paying_active_flats_rep_mobile'\n",
    "\n",
    "query_name = f'{FOLDER} {now}' #имя, которое появляется в запросах\n",
    "query_description = 'тестовый запрос'#описание, которое появляется в запросах\n",
    "query_text = open(f'{FOLDER}.txt','r').read().format(start_of_month_data,now_date,yesterday_data)\n",
    "\n",
    "request_id = create_query()\n",
    "while str(get_request(0)) == '<Response [400]>':     \n",
    "    time.sleep(10)\n",
    "\n",
    "write_temp_file()\n",
    "temp_file_pd = pd.read_csv(TEMP_FILENAME, sep=',')\n",
    "temp_file_pd.to_csv(f'C:/Users/Boris/Desktop/mobile rep/{FOLDER}/{int(year)}/{int(month)}.csv', index=False,sep=\",\")\n",
    "remove_temp_files()"
   ]
  },
  {
   "cell_type": "code",
   "execution_count": 28,
   "metadata": {},
   "outputs": [],
   "source": [
    "FOLDER = 'subscriptions_report_comerce_rep_mobile'\n",
    "offset = 0\n",
    "query_name = f'{FOLDER} {now}' #имя, которое появляется в запросах\n",
    "query_description = 'тестовый запрос'#описание, которое появляется в запросах\n",
    "query_text = open(f'{FOLDER}.txt','r').read().format(start_of_month_data,now_date,yesterday_data)\n",
    "\n",
    "request_id = create_query()\n",
    "while str(get_request(0)) == '<Response [400]>':     \n",
    "    time.sleep(10)\n",
    "\n",
    "write_temp_file()\n",
    "temp_file_pd = pd.read_csv(TEMP_FILENAME, sep=',')\n",
    "temp_file_pd.to_csv(f'C:/Users/Boris/Desktop/mobile rep/{FOLDER}/{int(year)}/{int(month)}.csv', index=False,sep=\",\")\n",
    "remove_temp_files()"
   ]
  },
  {
   "cell_type": "code",
   "execution_count": 29,
   "metadata": {},
   "outputs": [],
   "source": [
    "FOLDER = 'mobile_report_rep_mobile'\n",
    "\n",
    "query_name = f'{FOLDER} {now}' #имя, которое появляется в запросах\n",
    "query_description = 'тестовый запрос'#описание, которое появляется в запросах\n",
    "query_text = open(f'{FOLDER}.txt','r').read().format(start_of_month_data,now_date,yesterday_data,month,year)\n",
    "\n",
    "request_id = create_query()\n",
    "while str(get_request(0)) == '<Response [400]>':     \n",
    "    time.sleep(10)\n",
    "\n",
    "write_temp_file()\n",
    "temp_file_pd = pd.read_csv(TEMP_FILENAME, sep=',')\n",
    "temp_file_pd.to_csv(f'C:/Users/Boris/Desktop/mobile rep/{FOLDER}/{int(year)}/{int(month)}.csv', index=False,sep=\",\")\n",
    "remove_temp_files()"
   ]
  },
  {
   "cell_type": "code",
   "execution_count": 30,
   "metadata": {},
   "outputs": [],
   "source": [
    "FOLDER = 'service_payments_rep_mobule'\n",
    "service_payments = pd.DataFrame({\n",
    "    'service_payments': 0\n",
    "            },index=[0])\n",
    "\n",
    "service_payments.to_csv(f'C:/Users/Boris/Desktop/mobile rep/{FOLDER}/{int(year)}/{int(month)}.csv', index=False,sep=\",\")"
   ]
  },
  {
   "cell_type": "code",
   "execution_count": 31,
   "metadata": {},
   "outputs": [],
   "source": [
    "FOLDER = 'family_rate_rep_mobile'\n",
    "service_payments = pd.DataFrame({\n",
    "    'family_rate_rep_mobile': 2761\n",
    "            },index=[0])\n",
    "\n",
    "service_payments.to_csv(f'C:/Users/Boris/Desktop/mobile rep/{FOLDER}/{int(year)}/{int(month)}.csv', index=False,sep=\",\")"
   ]
  },
  {
   "cell_type": "markdown",
   "metadata": {},
   "source": [
    "# Concat"
   ]
  },
  {
   "cell_type": "code",
   "execution_count": 8,
   "metadata": {},
   "outputs": [
    {
     "data": {
      "text/html": [
       "<div>\n",
       "<style scoped>\n",
       "    .dataframe tbody tr th:only-of-type {\n",
       "        vertical-align: middle;\n",
       "    }\n",
       "\n",
       "    .dataframe tbody tr th {\n",
       "        vertical-align: top;\n",
       "    }\n",
       "\n",
       "    .dataframe thead th {\n",
       "        text-align: right;\n",
       "    }\n",
       "</style>\n",
       "<table border=\"1\" class=\"dataframe\">\n",
       "  <thead>\n",
       "    <tr style=\"text-align: right;\">\n",
       "      <th></th>\n",
       "      <th>Android_id</th>\n",
       "      <th>iOS_id</th>\n",
       "    </tr>\n",
       "  </thead>\n",
       "  <tbody>\n",
       "    <tr>\n",
       "      <th>0</th>\n",
       "      <td>1602697</td>\n",
       "      <td>906996</td>\n",
       "    </tr>\n",
       "  </tbody>\n",
       "</table>\n",
       "</div>"
      ],
      "text/plain": [
       "   Android_id  iOS_id\n",
       "0     1602697  906996"
      ]
     },
     "execution_count": 8,
     "metadata": {},
     "output_type": "execute_result"
    }
   ],
   "source": [
    "id_count = pd.read_csv(f'C:/Users/Boris/Desktop/mobile rep/app_metrica_ID_count/remade/{int(year)}/{int(month)}.csv', sep=';')\n",
    "id_count = id_count[['Android','Ios']]\n",
    "id_count.rename(columns = {'Android':'Android_id', 'Ios':'iOS_id' },inplace=True)\n",
    "id_count"
   ]
  },
  {
   "cell_type": "code",
   "execution_count": 9,
   "metadata": {},
   "outputs": [
    {
     "data": {
      "text/html": [
       "<div>\n",
       "<style scoped>\n",
       "    .dataframe tbody tr th:only-of-type {\n",
       "        vertical-align: middle;\n",
       "    }\n",
       "\n",
       "    .dataframe tbody tr th {\n",
       "        vertical-align: top;\n",
       "    }\n",
       "\n",
       "    .dataframe thead th {\n",
       "        text-align: right;\n",
       "    }\n",
       "</style>\n",
       "<table border=\"1\" class=\"dataframe\">\n",
       "  <thead>\n",
       "    <tr style=\"text-align: right;\">\n",
       "      <th></th>\n",
       "      <th>DAU</th>\n",
       "    </tr>\n",
       "  </thead>\n",
       "  <tbody>\n",
       "    <tr>\n",
       "      <th>0</th>\n",
       "      <td>254979</td>\n",
       "    </tr>\n",
       "  </tbody>\n",
       "</table>\n",
       "</div>"
      ],
      "text/plain": [
       "      DAU\n",
       "0  254979"
      ]
     },
     "execution_count": 9,
     "metadata": {},
     "output_type": "execute_result"
    }
   ],
   "source": [
    "dau = pd.read_csv(f'C:/Users/Boris/Desktop/mobile rep/app_metrica_DAU_MAU/remade/DAU/{int(year)}/{int(month)}.csv', sep=';')\n",
    "dau['DAU']= dau['Пользователи'].mean().round().astype(int)\n",
    "dau = dau.loc[0,['DAU']]\n",
    "dau = pd.DataFrame(data = dau.values, columns = dau.index)\n",
    "dau"
   ]
  },
  {
   "cell_type": "code",
   "execution_count": 10,
   "metadata": {},
   "outputs": [
    {
     "data": {
      "text/html": [
       "<div>\n",
       "<style scoped>\n",
       "    .dataframe tbody tr th:only-of-type {\n",
       "        vertical-align: middle;\n",
       "    }\n",
       "\n",
       "    .dataframe tbody tr th {\n",
       "        vertical-align: top;\n",
       "    }\n",
       "\n",
       "    .dataframe thead th {\n",
       "        text-align: right;\n",
       "    }\n",
       "</style>\n",
       "<table border=\"1\" class=\"dataframe\">\n",
       "  <thead>\n",
       "    <tr style=\"text-align: right;\">\n",
       "      <th></th>\n",
       "      <th>MAU</th>\n",
       "      <th>Новые пользователи</th>\n",
       "      <th>Доля новых пользователей</th>\n",
       "    </tr>\n",
       "  </thead>\n",
       "  <tbody>\n",
       "    <tr>\n",
       "      <th>0</th>\n",
       "      <td>760099</td>\n",
       "      <td>71075</td>\n",
       "      <td>9.350756</td>\n",
       "    </tr>\n",
       "  </tbody>\n",
       "</table>\n",
       "</div>"
      ],
      "text/plain": [
       "      MAU  Новые пользователи  Доля новых пользователей\n",
       "0  760099               71075                  9.350756"
      ]
     },
     "execution_count": 10,
     "metadata": {},
     "output_type": "execute_result"
    }
   ],
   "source": [
    "mau = pd.read_csv(f'C:/Users/Boris/Desktop/mobile rep/app_metrica_DAU_MAU/remade/MAU/{int(year)}/{int(month)}.csv', sep=';')\n",
    "mau['MAU'] = mau['Пользователи']\n",
    "mau = mau[['MAU', 'Новые пользователи', 'Доля новых пользователей']]\n",
    "mau"
   ]
  },
  {
   "cell_type": "code",
   "execution_count": 11,
   "metadata": {},
   "outputs": [
    {
     "data": {
      "text/html": [
       "<div>\n",
       "<style scoped>\n",
       "    .dataframe tbody tr th:only-of-type {\n",
       "        vertical-align: middle;\n",
       "    }\n",
       "\n",
       "    .dataframe tbody tr th {\n",
       "        vertical-align: top;\n",
       "    }\n",
       "\n",
       "    .dataframe thead th {\n",
       "        text-align: right;\n",
       "    }\n",
       "</style>\n",
       "<table border=\"1\" class=\"dataframe\">\n",
       "  <thead>\n",
       "    <tr style=\"text-align: right;\">\n",
       "      <th></th>\n",
       "      <th>Все установки</th>\n",
       "      <th>Сессии</th>\n",
       "    </tr>\n",
       "  </thead>\n",
       "  <tbody>\n",
       "    <tr>\n",
       "      <th>0</th>\n",
       "      <td>2177848</td>\n",
       "      <td>484977113</td>\n",
       "    </tr>\n",
       "  </tbody>\n",
       "</table>\n",
       "</div>"
      ],
      "text/plain": [
       "   Все установки     Сессии\n",
       "0        2177848  484977113"
      ]
     },
     "execution_count": 11,
     "metadata": {},
     "output_type": "execute_result"
    }
   ],
   "source": [
    "installetion_count = pd.read_csv(f'C:/Users/Boris/Desktop/mobile rep/app_metrica_all_daownloaded/remade/{int(year)}/{int(month)}.csv', sep=';')\n",
    "installetion_count = installetion_count[['Все установки', 'Сессии']]\n",
    "installetion_count"
   ]
  },
  {
   "cell_type": "code",
   "execution_count": 12,
   "metadata": {},
   "outputs": [
    {
     "data": {
      "text/html": [
       "<div>\n",
       "<style scoped>\n",
       "    .dataframe tbody tr th:only-of-type {\n",
       "        vertical-align: middle;\n",
       "    }\n",
       "\n",
       "    .dataframe tbody tr th {\n",
       "        vertical-align: top;\n",
       "    }\n",
       "\n",
       "    .dataframe thead th {\n",
       "        text-align: right;\n",
       "    }\n",
       "</style>\n",
       "<table border=\"1\" class=\"dataframe\">\n",
       "  <thead>\n",
       "    <tr style=\"text-align: right;\">\n",
       "      <th></th>\n",
       "      <th>service_payments</th>\n",
       "    </tr>\n",
       "  </thead>\n",
       "  <tbody>\n",
       "    <tr>\n",
       "      <th>0</th>\n",
       "      <td>0</td>\n",
       "    </tr>\n",
       "  </tbody>\n",
       "</table>\n",
       "</div>"
      ],
      "text/plain": [
       "   service_payments\n",
       "0                 0"
      ]
     },
     "execution_count": 12,
     "metadata": {},
     "output_type": "execute_result"
    }
   ],
   "source": [
    "service_payments = pd.read_csv(f'C:/Users/Boris/Desktop/mobile rep/service_payments_rep_mobule/{int(year)}/{int(month)}.csv', sep=',')\n",
    "service_payments = service_payments['service_payments'].to_frame(name = 'service_payments')\n",
    "service_payments"
   ]
  },
  {
   "cell_type": "code",
   "execution_count": 13,
   "metadata": {},
   "outputs": [
    {
     "data": {
      "text/html": [
       "<div>\n",
       "<style scoped>\n",
       "    .dataframe tbody tr th:only-of-type {\n",
       "        vertical-align: middle;\n",
       "    }\n",
       "\n",
       "    .dataframe tbody tr th {\n",
       "        vertical-align: top;\n",
       "    }\n",
       "\n",
       "    .dataframe thead th {\n",
       "        text-align: right;\n",
       "    }\n",
       "</style>\n",
       "<table border=\"1\" class=\"dataframe\">\n",
       "  <thead>\n",
       "    <tr style=\"text-align: right;\">\n",
       "      <th></th>\n",
       "      <th>Первая дата</th>\n",
       "      <th>Месяц</th>\n",
       "      <th>Год</th>\n",
       "      <th>IOS_PL</th>\n",
       "      <th>appstore_count_69</th>\n",
       "      <th>appstore_count_69_refunded</th>\n",
       "      <th>appstore_count_499</th>\n",
       "      <th>appstore_count_499_refunded</th>\n",
       "      <th>appstore_count_2390</th>\n",
       "      <th>appstore_count_2390_refunded</th>\n",
       "      <th>...</th>\n",
       "      <th>yookassa_count_35_refunded</th>\n",
       "      <th>yookassa_count_1</th>\n",
       "      <th>yookassa_count_1_refunded</th>\n",
       "      <th>yookassa_count_499</th>\n",
       "      <th>yookassa_count_499_refunded</th>\n",
       "      <th>yookassa_count_249</th>\n",
       "      <th>yookassa_count_249_refunded</th>\n",
       "      <th>yookassa_count_2390</th>\n",
       "      <th>yookassa_count_2390_refunded</th>\n",
       "      <th>refunded_amount_yookassa</th>\n",
       "    </tr>\n",
       "  </thead>\n",
       "  <tbody>\n",
       "    <tr>\n",
       "      <th>0</th>\n",
       "      <td>'2024-05-01'</td>\n",
       "      <td>5</td>\n",
       "      <td>2024</td>\n",
       "      <td>277017</td>\n",
       "      <td>4015</td>\n",
       "      <td>4</td>\n",
       "      <td>0</td>\n",
       "      <td>0</td>\n",
       "      <td>0</td>\n",
       "      <td>0</td>\n",
       "      <td>...</td>\n",
       "      <td>0</td>\n",
       "      <td>172</td>\n",
       "      <td>0</td>\n",
       "      <td>0</td>\n",
       "      <td>0</td>\n",
       "      <td>0</td>\n",
       "      <td>0</td>\n",
       "      <td>0</td>\n",
       "      <td>0</td>\n",
       "      <td>483</td>\n",
       "    </tr>\n",
       "  </tbody>\n",
       "</table>\n",
       "<p>1 rows × 27 columns</p>\n",
       "</div>"
      ],
      "text/plain": [
       "    Первая дата  Месяц   Год  IOS_PL  appstore_count_69  \\\n",
       "0  '2024-05-01'      5  2024  277017               4015   \n",
       "\n",
       "   appstore_count_69_refunded  appstore_count_499  \\\n",
       "0                           4                   0   \n",
       "\n",
       "   appstore_count_499_refunded  appstore_count_2390  \\\n",
       "0                            0                    0   \n",
       "\n",
       "   appstore_count_2390_refunded  ...  yookassa_count_35_refunded  \\\n",
       "0                             0  ...                           0   \n",
       "\n",
       "   yookassa_count_1  yookassa_count_1_refunded  yookassa_count_499  \\\n",
       "0               172                          0                   0   \n",
       "\n",
       "   yookassa_count_499_refunded  yookassa_count_249  \\\n",
       "0                            0                   0   \n",
       "\n",
       "   yookassa_count_249_refunded  yookassa_count_2390  \\\n",
       "0                            0                    0   \n",
       "\n",
       "   yookassa_count_2390_refunded  refunded_amount_yookassa  \n",
       "0                             0                       483  \n",
       "\n",
       "[1 rows x 27 columns]"
      ]
     },
     "execution_count": 13,
     "metadata": {},
     "output_type": "execute_result"
    }
   ],
   "source": [
    "mobile_report = pd.read_csv(f'C:/Users/Boris/Desktop/mobile rep/mobile_report_rep_mobile/{int(year)}/{int(month)}.csv', sep=',')\n",
    "mobile_report"
   ]
  },
  {
   "cell_type": "code",
   "execution_count": 14,
   "metadata": {},
   "outputs": [
    {
     "data": {
      "text/html": [
       "<div>\n",
       "<style scoped>\n",
       "    .dataframe tbody tr th:only-of-type {\n",
       "        vertical-align: middle;\n",
       "    }\n",
       "\n",
       "    .dataframe tbody tr th {\n",
       "        vertical-align: top;\n",
       "    }\n",
       "\n",
       "    .dataframe thead th {\n",
       "        text-align: right;\n",
       "    }\n",
       "</style>\n",
       "<table border=\"1\" class=\"dataframe\">\n",
       "  <thead>\n",
       "    <tr style=\"text-align: right;\">\n",
       "      <th></th>\n",
       "      <th>paying_users</th>\n",
       "      <th>paying_users_standart</th>\n",
       "      <th>paying_users_standart_yakassa</th>\n",
       "      <th>paying_users_standart_appstore</th>\n",
       "      <th>paying_users_standart_ios_from_cart</th>\n",
       "      <th>new_subscriptions</th>\n",
       "      <th>failed_subscriptions</th>\n",
       "      <th>canceled_subscriptions</th>\n",
       "      <th>renewed_subscriptions</th>\n",
       "    </tr>\n",
       "  </thead>\n",
       "  <tbody>\n",
       "    <tr>\n",
       "      <th>0</th>\n",
       "      <td>21481</td>\n",
       "      <td>21481</td>\n",
       "      <td>12718</td>\n",
       "      <td>3988</td>\n",
       "      <td>3622</td>\n",
       "      <td>2640</td>\n",
       "      <td>1913</td>\n",
       "      <td>316</td>\n",
       "      <td>18823</td>\n",
       "    </tr>\n",
       "  </tbody>\n",
       "</table>\n",
       "</div>"
      ],
      "text/plain": [
       "   paying_users  paying_users_standart  paying_users_standart_yakassa  \\\n",
       "0         21481                  21481                          12718   \n",
       "\n",
       "   paying_users_standart_appstore  paying_users_standart_ios_from_cart  \\\n",
       "0                            3988                                 3622   \n",
       "\n",
       "   new_subscriptions  failed_subscriptions  canceled_subscriptions  \\\n",
       "0               2640                  1913                     316   \n",
       "\n",
       "   renewed_subscriptions  \n",
       "0                  18823  "
      ]
     },
     "execution_count": 14,
     "metadata": {},
     "output_type": "execute_result"
    }
   ],
   "source": [
    "subscriptions_report_comerce = pd.read_csv(f'C:/Users/Boris/Desktop/mobile rep/subscriptions_report_comerce_rep_mobile/{int(year)}/{int(month)}.csv', sep=',')\n",
    "subscriptions_report_comerce = subscriptions_report_comerce[['paying_users','paying_users_standart','paying_users_standart_yakassa','paying_users_standart_appstore','paying_users_standart_ios_from_cart','new_subscriptions','failed_subscriptions','canceled_subscriptions','renewed_subscriptions']]\n",
    "subscriptions_report_comerce"
   ]
  },
  {
   "cell_type": "code",
   "execution_count": 15,
   "metadata": {},
   "outputs": [
    {
     "data": {
      "text/html": [
       "<div>\n",
       "<style scoped>\n",
       "    .dataframe tbody tr th:only-of-type {\n",
       "        vertical-align: middle;\n",
       "    }\n",
       "\n",
       "    .dataframe tbody tr th {\n",
       "        vertical-align: top;\n",
       "    }\n",
       "\n",
       "    .dataframe thead th {\n",
       "        text-align: right;\n",
       "    }\n",
       "</style>\n",
       "<table border=\"1\" class=\"dataframe\">\n",
       "  <thead>\n",
       "    <tr style=\"text-align: right;\">\n",
       "      <th></th>\n",
       "      <th>Units on SK platform</th>\n",
       "      <th>Units stricted monetization</th>\n",
       "      <th>Units free monetization</th>\n",
       "    </tr>\n",
       "  </thead>\n",
       "  <tbody>\n",
       "    <tr>\n",
       "      <th>0</th>\n",
       "      <td>24152</td>\n",
       "      <td>7540</td>\n",
       "      <td>16612</td>\n",
       "    </tr>\n",
       "  </tbody>\n",
       "</table>\n",
       "</div>"
      ],
      "text/plain": [
       "   Units on SK platform  Units stricted monetization  Units free monetization\n",
       "0                 24152                         7540                    16612"
      ]
     },
     "execution_count": 15,
     "metadata": {},
     "output_type": "execute_result"
    }
   ],
   "source": [
    "units_on_SK_platform = pd.read_csv(f'C:/Users/Boris/Desktop/mobile rep/Units_on_SK platform_(monetization)_rep_mobile/{int(year)}/{int(month)}.csv', sep=',')\n",
    "units_on_SK_platform"
   ]
  },
  {
   "cell_type": "code",
   "execution_count": 16,
   "metadata": {},
   "outputs": [
    {
     "data": {
      "text/html": [
       "<div>\n",
       "<style scoped>\n",
       "    .dataframe tbody tr th:only-of-type {\n",
       "        vertical-align: middle;\n",
       "    }\n",
       "\n",
       "    .dataframe tbody tr th {\n",
       "        vertical-align: top;\n",
       "    }\n",
       "\n",
       "    .dataframe thead th {\n",
       "        text-align: right;\n",
       "    }\n",
       "</style>\n",
       "<table border=\"1\" class=\"dataframe\">\n",
       "  <thead>\n",
       "    <tr style=\"text-align: right;\">\n",
       "      <th></th>\n",
       "      <th>total_account_count</th>\n",
       "    </tr>\n",
       "  </thead>\n",
       "  <tbody>\n",
       "    <tr>\n",
       "      <th>0</th>\n",
       "      <td>1574113</td>\n",
       "    </tr>\n",
       "  </tbody>\n",
       "</table>\n",
       "</div>"
      ],
      "text/plain": [
       "   total_account_count\n",
       "0              1574113"
      ]
     },
     "execution_count": 16,
     "metadata": {},
     "output_type": "execute_result"
    }
   ],
   "source": [
    "total_account_count = pd.read_csv(f'C:/Users/Boris/Desktop/mobile rep/total_account_count_rep_mobile/{int(year)}/{int(month)}.csv', sep=',')\n",
    "total_account_count"
   ]
  },
  {
   "cell_type": "code",
   "execution_count": 17,
   "metadata": {},
   "outputs": [
    {
     "data": {
      "text/html": [
       "<div>\n",
       "<style scoped>\n",
       "    .dataframe tbody tr th:only-of-type {\n",
       "        vertical-align: middle;\n",
       "    }\n",
       "\n",
       "    .dataframe tbody tr th {\n",
       "        vertical-align: top;\n",
       "    }\n",
       "\n",
       "    .dataframe thead th {\n",
       "        text-align: right;\n",
       "    }\n",
       "</style>\n",
       "<table border=\"1\" class=\"dataframe\">\n",
       "  <thead>\n",
       "    <tr style=\"text-align: right;\">\n",
       "      <th></th>\n",
       "      <th>total_activated_account</th>\n",
       "    </tr>\n",
       "  </thead>\n",
       "  <tbody>\n",
       "    <tr>\n",
       "      <th>0</th>\n",
       "      <td>1095330</td>\n",
       "    </tr>\n",
       "  </tbody>\n",
       "</table>\n",
       "</div>"
      ],
      "text/plain": [
       "   total_activated_account\n",
       "0                  1095330"
      ]
     },
     "execution_count": 17,
     "metadata": {},
     "output_type": "execute_result"
    }
   ],
   "source": [
    "total_activated_account = pd.read_csv(f'C:/Users/Boris/Desktop/mobile rep/total_activated_account_rep_mobile/{int(year)}/{int(month)}.csv', sep=',')\n",
    "total_activated_account"
   ]
  },
  {
   "cell_type": "code",
   "execution_count": 18,
   "metadata": {},
   "outputs": [
    {
     "data": {
      "text/html": [
       "<div>\n",
       "<style scoped>\n",
       "    .dataframe tbody tr th:only-of-type {\n",
       "        vertical-align: middle;\n",
       "    }\n",
       "\n",
       "    .dataframe tbody tr th {\n",
       "        vertical-align: top;\n",
       "    }\n",
       "\n",
       "    .dataframe thead th {\n",
       "        text-align: right;\n",
       "    }\n",
       "</style>\n",
       "<table border=\"1\" class=\"dataframe\">\n",
       "  <thead>\n",
       "    <tr style=\"text-align: right;\">\n",
       "      <th></th>\n",
       "      <th>total_active_users</th>\n",
       "    </tr>\n",
       "  </thead>\n",
       "  <tbody>\n",
       "    <tr>\n",
       "      <th>0</th>\n",
       "      <td>666701</td>\n",
       "    </tr>\n",
       "  </tbody>\n",
       "</table>\n",
       "</div>"
      ],
      "text/plain": [
       "   total_active_users\n",
       "0              666701"
      ]
     },
     "execution_count": 18,
     "metadata": {},
     "output_type": "execute_result"
    }
   ],
   "source": [
    "total_active_users = pd.read_csv(f'C:/Users/Boris/Desktop/mobile rep/total_active_users_rep_mobile/{int(year)}/{int(month)}.csv', sep=',')\n",
    "total_active_users"
   ]
  },
  {
   "cell_type": "code",
   "execution_count": 19,
   "metadata": {},
   "outputs": [
    {
     "data": {
      "text/html": [
       "<div>\n",
       "<style scoped>\n",
       "    .dataframe tbody tr th:only-of-type {\n",
       "        vertical-align: middle;\n",
       "    }\n",
       "\n",
       "    .dataframe tbody tr th {\n",
       "        vertical-align: top;\n",
       "    }\n",
       "\n",
       "    .dataframe thead th {\n",
       "        text-align: right;\n",
       "    }\n",
       "</style>\n",
       "<table border=\"1\" class=\"dataframe\">\n",
       "  <thead>\n",
       "    <tr style=\"text-align: right;\">\n",
       "      <th></th>\n",
       "      <th>all_flats</th>\n",
       "      <th>freemonetization_flats</th>\n",
       "      <th>stricted_flats</th>\n",
       "      <th>subsc_restrict_is_null_flats</th>\n",
       "    </tr>\n",
       "  </thead>\n",
       "  <tbody>\n",
       "    <tr>\n",
       "      <th>0</th>\n",
       "      <td>737394</td>\n",
       "      <td>690433</td>\n",
       "      <td>0</td>\n",
       "      <td>46961</td>\n",
       "    </tr>\n",
       "  </tbody>\n",
       "</table>\n",
       "</div>"
      ],
      "text/plain": [
       "   all_flats  freemonetization_flats  stricted_flats  \\\n",
       "0     737394                  690433               0   \n",
       "\n",
       "   subsc_restrict_is_null_flats  \n",
       "0                         46961  "
      ]
     },
     "execution_count": 19,
     "metadata": {},
     "output_type": "execute_result"
    }
   ],
   "source": [
    "all_flats = pd.read_csv(f'C:/Users/Boris/Desktop/mobile rep/all_flats_rep_mobile/{int(year)}/{int(month)}.csv', sep=',')\n",
    "all_flats"
   ]
  },
  {
   "cell_type": "code",
   "execution_count": 20,
   "metadata": {},
   "outputs": [
    {
     "data": {
      "text/html": [
       "<div>\n",
       "<style scoped>\n",
       "    .dataframe tbody tr th:only-of-type {\n",
       "        vertical-align: middle;\n",
       "    }\n",
       "\n",
       "    .dataframe tbody tr th {\n",
       "        vertical-align: top;\n",
       "    }\n",
       "\n",
       "    .dataframe thead th {\n",
       "        text-align: right;\n",
       "    }\n",
       "</style>\n",
       "<table border=\"1\" class=\"dataframe\">\n",
       "  <thead>\n",
       "    <tr style=\"text-align: right;\">\n",
       "      <th></th>\n",
       "      <th>flats_in_sputnic</th>\n",
       "    </tr>\n",
       "  </thead>\n",
       "  <tbody>\n",
       "    <tr>\n",
       "      <th>0</th>\n",
       "      <td>580198</td>\n",
       "    </tr>\n",
       "  </tbody>\n",
       "</table>\n",
       "</div>"
      ],
      "text/plain": [
       "   flats_in_sputnic\n",
       "0            580198"
      ]
     },
     "execution_count": 20,
     "metadata": {},
     "output_type": "execute_result"
    }
   ],
   "source": [
    "flats_in_sputnic = pd.read_csv(f'C:/Users/Boris/Desktop/mobile rep/flats_in_sputnic_rep_mobile/{int(year)}/{int(month)}.csv', sep=',')\n",
    "flats_in_sputnic"
   ]
  },
  {
   "cell_type": "code",
   "execution_count": 21,
   "metadata": {},
   "outputs": [
    {
     "data": {
      "text/html": [
       "<div>\n",
       "<style scoped>\n",
       "    .dataframe tbody tr th:only-of-type {\n",
       "        vertical-align: middle;\n",
       "    }\n",
       "\n",
       "    .dataframe tbody tr th {\n",
       "        vertical-align: top;\n",
       "    }\n",
       "\n",
       "    .dataframe thead th {\n",
       "        text-align: right;\n",
       "    }\n",
       "</style>\n",
       "<table border=\"1\" class=\"dataframe\">\n",
       "  <thead>\n",
       "    <tr style=\"text-align: right;\">\n",
       "      <th></th>\n",
       "      <th>MAF</th>\n",
       "      <th>stricted_MAF</th>\n",
       "      <th>freemonetization_MAF</th>\n",
       "    </tr>\n",
       "  </thead>\n",
       "  <tbody>\n",
       "    <tr>\n",
       "      <th>0</th>\n",
       "      <td>428138</td>\n",
       "      <td>0</td>\n",
       "      <td>428138</td>\n",
       "    </tr>\n",
       "  </tbody>\n",
       "</table>\n",
       "</div>"
      ],
      "text/plain": [
       "      MAF  stricted_MAF  freemonetization_MAF\n",
       "0  428138             0                428138"
      ]
     },
     "execution_count": 21,
     "metadata": {},
     "output_type": "execute_result"
    }
   ],
   "source": [
    "maf = pd.read_csv(f'C:/Users/Boris/Desktop/mobile rep/MAF_rep_mobile/{int(year)}/{int(month)}.csv', sep=',')\n",
    "maf"
   ]
  },
  {
   "cell_type": "code",
   "execution_count": 22,
   "metadata": {},
   "outputs": [
    {
     "data": {
      "text/html": [
       "<div>\n",
       "<style scoped>\n",
       "    .dataframe tbody tr th:only-of-type {\n",
       "        vertical-align: middle;\n",
       "    }\n",
       "\n",
       "    .dataframe tbody tr th {\n",
       "        vertical-align: top;\n",
       "    }\n",
       "\n",
       "    .dataframe thead th {\n",
       "        text-align: right;\n",
       "    }\n",
       "</style>\n",
       "<table border=\"1\" class=\"dataframe\">\n",
       "  <thead>\n",
       "    <tr style=\"text-align: right;\">\n",
       "      <th></th>\n",
       "      <th>DAF</th>\n",
       "      <th>stricted_DAF</th>\n",
       "      <th>freemonetization_DAF</th>\n",
       "    </tr>\n",
       "  </thead>\n",
       "  <tbody>\n",
       "    <tr>\n",
       "      <th>0</th>\n",
       "      <td>164335</td>\n",
       "      <td>0</td>\n",
       "      <td>164335</td>\n",
       "    </tr>\n",
       "  </tbody>\n",
       "</table>\n",
       "</div>"
      ],
      "text/plain": [
       "      DAF  stricted_DAF  freemonetization_DAF\n",
       "0  164335             0                164335"
      ]
     },
     "execution_count": 22,
     "metadata": {},
     "output_type": "execute_result"
    }
   ],
   "source": [
    "daf = pd.read_csv(f'C:/Users/Boris/Desktop/mobile rep/DAF_rep_mobile/{int(year)}/{int(month)}.csv', sep=',').round().astype('int')\n",
    "daf"
   ]
  },
  {
   "cell_type": "code",
   "execution_count": 23,
   "metadata": {},
   "outputs": [
    {
     "data": {
      "text/html": [
       "<div>\n",
       "<style scoped>\n",
       "    .dataframe tbody tr th:only-of-type {\n",
       "        vertical-align: middle;\n",
       "    }\n",
       "\n",
       "    .dataframe tbody tr th {\n",
       "        vertical-align: top;\n",
       "    }\n",
       "\n",
       "    .dataframe thead th {\n",
       "        text-align: right;\n",
       "    }\n",
       "</style>\n",
       "<table border=\"1\" class=\"dataframe\">\n",
       "  <thead>\n",
       "    <tr style=\"text-align: right;\">\n",
       "      <th></th>\n",
       "      <th>paying_active_flats</th>\n",
       "    </tr>\n",
       "  </thead>\n",
       "  <tbody>\n",
       "    <tr>\n",
       "      <th>0</th>\n",
       "      <td>21142</td>\n",
       "    </tr>\n",
       "  </tbody>\n",
       "</table>\n",
       "</div>"
      ],
      "text/plain": [
       "   paying_active_flats\n",
       "0                21142"
      ]
     },
     "execution_count": 23,
     "metadata": {},
     "output_type": "execute_result"
    }
   ],
   "source": [
    "paying_active_flats = pd.read_csv(f'C:/Users/Boris/Desktop/mobile rep/paying_active_flats_rep_mobile/{int(year)}/{int(month)}.csv', sep=',')\n",
    "paying_active_flats"
   ]
  },
  {
   "cell_type": "code",
   "execution_count": 24,
   "metadata": {},
   "outputs": [
    {
     "data": {
      "text/html": [
       "<div>\n",
       "<style scoped>\n",
       "    .dataframe tbody tr th:only-of-type {\n",
       "        vertical-align: middle;\n",
       "    }\n",
       "\n",
       "    .dataframe tbody tr th {\n",
       "        vertical-align: top;\n",
       "    }\n",
       "\n",
       "    .dataframe thead th {\n",
       "        text-align: right;\n",
       "    }\n",
       "</style>\n",
       "<table border=\"1\" class=\"dataframe\">\n",
       "  <thead>\n",
       "    <tr style=\"text-align: right;\">\n",
       "      <th></th>\n",
       "      <th>family_rate_rep_mobile</th>\n",
       "    </tr>\n",
       "  </thead>\n",
       "  <tbody>\n",
       "    <tr>\n",
       "      <th>0</th>\n",
       "      <td>2761</td>\n",
       "    </tr>\n",
       "  </tbody>\n",
       "</table>\n",
       "</div>"
      ],
      "text/plain": [
       "   family_rate_rep_mobile\n",
       "0                    2761"
      ]
     },
     "execution_count": 24,
     "metadata": {},
     "output_type": "execute_result"
    }
   ],
   "source": [
    "family_rate_rep_mobile = pd.read_csv(f'C:/Users/Boris/Desktop/mobile rep/family_rate_rep_mobile/{int(year)}/{int(month)}.csv')\n",
    "family_rate_rep_mobile"
   ]
  },
  {
   "cell_type": "code",
   "execution_count": 25,
   "metadata": {},
   "outputs": [
    {
     "data": {
      "text/html": [
       "<div>\n",
       "<style scoped>\n",
       "    .dataframe tbody tr th:only-of-type {\n",
       "        vertical-align: middle;\n",
       "    }\n",
       "\n",
       "    .dataframe tbody tr th {\n",
       "        vertical-align: top;\n",
       "    }\n",
       "\n",
       "    .dataframe thead th {\n",
       "        text-align: right;\n",
       "    }\n",
       "</style>\n",
       "<table border=\"1\" class=\"dataframe\">\n",
       "  <thead>\n",
       "    <tr style=\"text-align: right;\">\n",
       "      <th></th>\n",
       "      <th>DAU</th>\n",
       "      <th>MAU</th>\n",
       "      <th>Новые пользователи</th>\n",
       "      <th>Доля новых пользователей</th>\n",
       "      <th>Android_id</th>\n",
       "      <th>iOS_id</th>\n",
       "      <th>Все установки</th>\n",
       "      <th>Сессии</th>\n",
       "      <th>service_payments</th>\n",
       "      <th>Первая дата</th>\n",
       "      <th>...</th>\n",
       "      <th>subsc_restrict_is_null_flats</th>\n",
       "      <th>flats_in_sputnic</th>\n",
       "      <th>MAF</th>\n",
       "      <th>stricted_MAF</th>\n",
       "      <th>freemonetization_MAF</th>\n",
       "      <th>DAF</th>\n",
       "      <th>stricted_DAF</th>\n",
       "      <th>freemonetization_DAF</th>\n",
       "      <th>paying_active_flats</th>\n",
       "      <th>family_rate_rep_mobile</th>\n",
       "    </tr>\n",
       "  </thead>\n",
       "  <tbody>\n",
       "    <tr>\n",
       "      <th>0</th>\n",
       "      <td>254979</td>\n",
       "      <td>760099</td>\n",
       "      <td>71075</td>\n",
       "      <td>9.350756</td>\n",
       "      <td>1602697</td>\n",
       "      <td>906996</td>\n",
       "      <td>2177848</td>\n",
       "      <td>484977113</td>\n",
       "      <td>0</td>\n",
       "      <td>'2024-05-01'</td>\n",
       "      <td>...</td>\n",
       "      <td>46961</td>\n",
       "      <td>580198</td>\n",
       "      <td>428138</td>\n",
       "      <td>0</td>\n",
       "      <td>428138</td>\n",
       "      <td>164335</td>\n",
       "      <td>0</td>\n",
       "      <td>164335</td>\n",
       "      <td>21142</td>\n",
       "      <td>2761</td>\n",
       "    </tr>\n",
       "  </tbody>\n",
       "</table>\n",
       "<p>1 rows × 64 columns</p>\n",
       "</div>"
      ],
      "text/plain": [
       "      DAU     MAU  Новые пользователи  Доля новых пользователей  Android_id  \\\n",
       "0  254979  760099               71075                  9.350756     1602697   \n",
       "\n",
       "   iOS_id  Все установки     Сессии  service_payments   Первая дата  ...  \\\n",
       "0  906996        2177848  484977113                 0  '2024-05-01'  ...   \n",
       "\n",
       "   subsc_restrict_is_null_flats  flats_in_sputnic     MAF  stricted_MAF  \\\n",
       "0                         46961            580198  428138             0   \n",
       "\n",
       "   freemonetization_MAF     DAF  stricted_DAF  freemonetization_DAF  \\\n",
       "0                428138  164335             0                164335   \n",
       "\n",
       "   paying_active_flats  family_rate_rep_mobile  \n",
       "0                21142                    2761  \n",
       "\n",
       "[1 rows x 64 columns]"
      ]
     },
     "execution_count": 25,
     "metadata": {},
     "output_type": "execute_result"
    }
   ],
   "source": [
    "concated = pd.concat([dau,\n",
    "                      mau, \n",
    "                      id_count,\n",
    "                      installetion_count,\n",
    "                      service_payments['service_payments'],\n",
    "                      mobile_report,\n",
    "                      subscriptions_report_comerce, \n",
    "                      units_on_SK_platform,\n",
    "                      total_account_count,\n",
    "                      total_activated_account,\n",
    "                      total_active_users,\n",
    "                      all_flats,\n",
    "                      flats_in_sputnic,\n",
    "                      maf,\n",
    "                      daf,\n",
    "                      paying_active_flats,\n",
    "                      family_rate_rep_mobile\n",
    "                      ]\n",
    "                     , axis=1)\n",
    "concated"
   ]
  },
  {
   "cell_type": "code",
   "execution_count": 26,
   "metadata": {},
   "outputs": [],
   "source": [
    "concated.to_csv(f'C:/Users/Boris/Desktop/mobile rep/Ready report/{int(year)}/{int(month)}.csv', sep=',', index=False)"
   ]
  },
  {
   "cell_type": "code",
   "execution_count": 27,
   "metadata": {},
   "outputs": [],
   "source": [
    "\n",
    "TIME_ZONE = os.getenv(\"TIME_ZONE\", \"Europe/Moscow\")\n",
    "\n",
    "def get_s3_instance():\n",
    "    session = boto3.session.Session()\n",
    "    return session.client(\n",
    "        aws_access_key_id=ACCESS_KEY,\n",
    "        aws_secret_access_key=SECRET_KEY,\n",
    "        service_name='s3',\n",
    "        endpoint_url='https://storage.yandexcloud.net'\n",
    "    )\n",
    "    \n",
    "def upload_dump_to_s3():\n",
    "    get_s3_instance().upload_file(\n",
    "        Filename= f'C:/Users/Boris/Desktop/mobile rep/Ready report/{int(year)}/{int(month)}.csv',\n",
    "        Bucket=BUCKET_NAME,\n",
    "        Key=f\"mobile_report_comerce_2/year={str(year)}/{str(month)}.csv\"\n",
    "    )"
   ]
  },
  {
   "cell_type": "code",
   "execution_count": 28,
   "metadata": {},
   "outputs": [],
   "source": [
    "get_s3_instance()\n",
    "upload_dump_to_s3()\n"
   ]
  }
 ],
 "metadata": {
  "kernelspec": {
   "display_name": "Python 3",
   "language": "python",
   "name": "python3"
  },
  "language_info": {
   "codemirror_mode": {
    "name": "ipython",
    "version": 3
   },
   "file_extension": ".py",
   "mimetype": "text/x-python",
   "name": "python",
   "nbconvert_exporter": "python",
   "pygments_lexer": "ipython3",
   "version": "3.9.13"
  }
 },
 "nbformat": 4,
 "nbformat_minor": 2
}

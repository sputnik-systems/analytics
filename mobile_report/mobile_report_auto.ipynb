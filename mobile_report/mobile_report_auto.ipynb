{
 "cells": [
  {
   "cell_type": "code",
   "execution_count": 39,
   "metadata": {},
   "outputs": [],
   "source": [
    "import requests\n",
    "import time\n",
    "import json\n",
    "import os\n",
    "import datetime\n",
    "import boto3\n",
    "import pytz\n",
    "import pandas as pd\n",
    "from dateutil.relativedelta import relativedelta\n",
    "\n",
    "from config import ACCESS_KEY,SECRET_KEY,TOKEN,APP_METRICA_OAUTH\n",
    "\n",
    "local_folder = 'C:/Users/Boris/Desktop/работа/mobile rep'\n",
    "\n",
    "def create_folder_if_not_exists(folder_path):\n",
    "    if not os.path.exists(folder_path):\n",
    "        os.makedirs(folder_path)\n",
    "\n",
    "# Example usage\n",
    "\n",
    "def get_now_datetime_str(): # получаем актуальное время\n",
    "    time_zone = os.getenv(\"TIME_ZONE\", \"Europe/Moscow\") # меняем таймзону на московскую\n",
    "    now = datetime.datetime.strptime('2025-05-01 00:00:00','%Y-%m-%d %H:%M:%S')\n",
    "    # now = datetime.datetime.now(pytz.timezone(time_zone))\n",
    "    yesterday = now - datetime.timedelta(days=1) #нужна вчерашняя дата так как данные за прошлый день\n",
    "    days_to_subtract = yesterday.day - 1\n",
    "    start_of_month_data = yesterday - datetime.timedelta(days=days_to_subtract)\n",
    "    yesterday = now - datetime.timedelta(days=1)\n",
    "    end_of_previous_month = start_of_month_data - datetime.timedelta(days=1)\n",
    "    days_to_subtract_previous_month = end_of_previous_month.day - 1\n",
    "    start_of_previous_month = end_of_previous_month - datetime.timedelta(days=days_to_subtract_previous_month)\n",
    "    for_last_month = yesterday - relativedelta(months=1)\n",
    "    return {'now':now.strftime('%Y-%m-%d %H:%M:%S'),\n",
    "            'now_date':now.strftime('%Y-%m-%d'),\n",
    "            'yesterday_data':yesterday.strftime('%Y-%m-%d'),\n",
    "            'yesterday':yesterday.strftime('%Y-%m-%d %H:%M:%S'), \n",
    "            'year':yesterday.strftime('%Y'),\n",
    "            'month':yesterday.strftime('%m'),\n",
    "            'day':yesterday.strftime('%d'),\n",
    "            'start_of_month_data':start_of_month_data.strftime('%Y-%m-%d'),\n",
    "            'start_of_previous_month':start_of_previous_month.strftime('%Y-%m-%d'),\n",
    "            'end_of_previous_month':end_of_previous_month.strftime('%Y-%m-%d'),\n",
    "            'last_month':for_last_month.strftime('%m'),\n",
    "            'last_month_year':for_last_month.strftime('%Y')\n",
    "            }\n",
    "\n",
    "# Переменные, которые могут быть использованы в разоичных запросах. \n",
    "now = get_now_datetime_str()['now']\n",
    "# Даты ниже отражают вчерашний день\n",
    "yesterday = get_now_datetime_str()['yesterday']\n",
    "yesterday_data = get_now_datetime_str()['yesterday_data']\n",
    "day = get_now_datetime_str()['day'] # \n",
    "month = get_now_datetime_str()['month']\n",
    "year = get_now_datetime_str()['year']\n",
    "start_of_month_data = get_now_datetime_str()['start_of_month_data']\n",
    "now_date = get_now_datetime_str()['now_date']\n",
    "start_of_previous_month = get_now_datetime_str()['start_of_previous_month']\n",
    "end_of_previous_month = get_now_datetime_str()['end_of_previous_month']\n",
    "last_month = get_now_datetime_str()['last_month']\n",
    "last_month_year = get_now_datetime_str()['last_month_year']\n",
    "\n",
    "limit = 100\n",
    "offset = 1"
   ]
  },
  {
   "cell_type": "code",
   "execution_count": 40,
   "metadata": {},
   "outputs": [
    {
     "name": "stdout",
     "output_type": "stream",
     "text": [
      "now: 2025-05-01 00:00:00\n",
      "now_date: 2025-05-01\n",
      "yesterday: 2025-04-30 00:00:00\n",
      "yesterday_data: 2025-04-30\n",
      "start_of_month_data: 2025-04-01\n",
      "day: 30\n",
      "month: 04\n",
      "year: 2025\n",
      "start_of_previous_month: 2025-03-01\n",
      "end_of_previous_month: 2025-03-31\n",
      "last_month: 03\n",
      "last_month_year: 2025\n"
     ]
    }
   ],
   "source": [
    "print(f'now: {now}')\n",
    "print(f'now_date: {now_date}')\n",
    "print(f'yesterday: {yesterday}')\n",
    "print(f'yesterday_data: {yesterday_data}')\n",
    "print(f'start_of_month_data: {start_of_month_data}')\n",
    "\n",
    "print(f'day: {day}')\n",
    "print(f'month: {month}')\n",
    "print(f'year: {year}')\n",
    "\n",
    "print(f'start_of_previous_month: {start_of_previous_month}')\n",
    "print(f'end_of_previous_month: {end_of_previous_month}')\n",
    "print(f'last_month: {last_month}')\n",
    "print(f'last_month_year: {last_month_year}')\n"
   ]
  },
  {
   "cell_type": "code",
   "execution_count": 41,
   "metadata": {},
   "outputs": [],
   "source": [
    "headers={'Authorization':APP_METRICA_OAUTH,'Host':'api.appmetrica.yandex.ru'}\n",
    "limit = 100\n",
    "offset = 1\n",
    "\n",
    "\n",
    "def get_request_metrica(api_html_metrica):\n",
    "    response = requests.get(\n",
    "        api_html_metrica,\n",
    "        headers = headers\n",
    "    )\n",
    "    return response"
   ]
  },
  {
   "cell_type": "code",
   "execution_count": 42,
   "metadata": {},
   "outputs": [],
   "source": [
    "api_html_appmetrica_auditorium = open('api_html_appmetrica_auditorium.txt','r').read().format(start_of_month_data,yesterday_data,offset,limit)\n",
    "response = get_request_metrica(api_html_appmetrica_auditorium)"
   ]
  },
  {
   "cell_type": "code",
   "execution_count": 43,
   "metadata": {},
   "outputs": [],
   "source": [
    "api_html_appmetrica_auditorium = open('api_html_appmetrica_auditorium.txt','r').read().format(start_of_month_data,yesterday_data,offset,limit)\n",
    "response = get_request_metrica(api_html_appmetrica_auditorium)\n",
    "\n",
    "for i in range(0,len(response.json()['data'])):\n",
    "    if i == 0:\n",
    "        data_DAU = pd.DataFrame({\n",
    "            'Дата': response.json()['data'][i]['dimensions'][0]['name'],\n",
    "            'Пользователи': [int(response.json()['data'][i]['metrics'][0])],\n",
    "            'Новые пользователи':  [int(response.json()['data'][i]['metrics'][2])],\n",
    "            'Доля новых пользователей': [response.json()['data'][i]['metrics'][4]]\n",
    "            })\n",
    "    else:\n",
    "        data_DAU_new_row = pd.DataFrame({\n",
    "            'Дата': response.json()['data'][i]['dimensions'][0]['name'],\n",
    "            'Пользователи': [int(response.json()['data'][i]['metrics'][0])],\n",
    "            'Новые пользователи':  [int(response.json()['data'][i]['metrics'][2])],\n",
    "            'Доля новых пользователей': [response.json()['data'][i]['metrics'][4]]\n",
    "            })\n",
    "        data_DAU = pd.concat([data_DAU,data_DAU_new_row])\n",
    "\n",
    "folder_path = f'{local_folder}/app_metrica_DAU_MAU/remade/DAU/{year}/'\n",
    "create_folder_if_not_exists(folder_path)\n",
    "data_DAU.to_csv(f'{folder_path}/{int(month)}.csv', index=False, sep=';')\n",
    "\n",
    "data_MAU = pd.DataFrame({\n",
    "    'Пользователи': [int(response.json()['totals'][0])],\n",
    "    'Новые пользователи':  [int(response.json()['totals'][2])],\n",
    "    'Доля новых пользователей': [response.json()['totals'][4]]\n",
    "    })\n",
    "\n",
    "folder_path = f'{local_folder}/app_metrica_DAU_MAU/remade/MAU/{year}/'\n",
    "create_folder_if_not_exists(folder_path)\n",
    "data_MAU.to_csv(f'{folder_path}/{int(month)}.csv', index=False, sep=';')"
   ]
  },
  {
   "cell_type": "code",
   "execution_count": 44,
   "metadata": {},
   "outputs": [],
   "source": [
    "# appmetrica_ID_count\n",
    "api_html_appmetrica_ID_count = open('api_html_appmetrica_ID_count.txt','r').read().format('2022-01-01',yesterday_data,offset,limit)\n",
    "api_html_appmetrica_ID_count = open('api_html_appmetrica_ID_count.txt','r').read().format('2021-01-01',yesterday_data,offset,limit)\n",
    "api_html_appmetrica_ID_count = open('api_html_appmetrica_ID_count.txt','r').read().format('2020-01-01',yesterday_data,offset,limit)\n",
    "api_html_appmetrica_ID_count = open('api_html_appmetrica_ID_count.txt','r').read().format('2019-01-01',yesterday_data,offset,limit)\n",
    "response = get_request_metrica(api_html_appmetrica_ID_count)\n",
    "\n",
    "id_count = pd.DataFrame({\n",
    "    'Android': int(response.json()['data'][0]['metrics'][0]),\n",
    "    'Ios': int(response.json()['data'][1]['metrics'][0])\n",
    "    }\n",
    "    ,index=[0])\n",
    "\n",
    "folder_path = f'{local_folder}/app_metrica_ID_count/remade/{int(year)}/'\n",
    "create_folder_if_not_exists(folder_path)\n",
    "id_count.to_csv(f'{folder_path}/{int(month)}.csv', index=False, sep=';')"
   ]
  },
  {
   "cell_type": "code",
   "execution_count": 45,
   "metadata": {},
   "outputs": [],
   "source": [
    "api_html_appmetrica_installetion_count = open('api_html_appmetrica_installetion_count.txt','r').read().format('2019-01-01',yesterday_data,limit,offset)\n",
    "response = get_request_metrica(api_html_appmetrica_installetion_count)"
   ]
  },
  {
   "cell_type": "code",
   "execution_count": 46,
   "metadata": {},
   "outputs": [],
   "source": [
    "# appmetrica_installetion_count\n",
    "\n",
    "api_html_appmetrica_installetion_count = open('api_html_appmetrica_installetion_count.txt','r').read().format('2019-01-01',yesterday_data,limit,offset)\n",
    "response = get_request_metrica(api_html_appmetrica_installetion_count)\n",
    "\n",
    "installetion_count = pd.DataFrame({\n",
    "    'Все установки': int(response.json()['totals'][1]),\n",
    "    'Сессии': int(response.json()['totals'][4])\n",
    "    }\n",
    "    ,index=[0])\n",
    "\n",
    "folder_path = f'{local_folder}/app_metrica_all_daownloaded/remade/{int(year)}/'\n",
    "create_folder_if_not_exists(folder_path)\n",
    "installetion_count.to_csv(f'{folder_path}/{int(month)}.csv', index=False,sep=\";\")"
   ]
  },
  {
   "cell_type": "code",
   "execution_count": 47,
   "metadata": {},
   "outputs": [],
   "source": [
    "# appmetrica_installetion_count_per_day\n",
    "\n",
    "api_html_appmetrica_installetion_count_per_day = open('api_html_appmetrica_installetion_count_per_day.txt','r').read().format(start_of_month_data,yesterday_data)\n",
    "response = get_request_metrica(api_html_appmetrica_installetion_count_per_day)\n",
    "response = response.text\n",
    "\n",
    "list_of_downloads_date = []\n",
    "for i in json.loads(response)['time_intervals']:\n",
    "    list_of_downloads_date.append(i[0])\n",
    "\n",
    "list_of_downloads_count = []\n",
    "for i in json.loads(response)['totals'][0]:\n",
    "    list_of_downloads_count.append(i)\n",
    "\n",
    "count_per_day = pd.DataFrame({\n",
    "            'Дата': list_of_downloads_date,\n",
    "            'Установки': list_of_downloads_count\n",
    "            })\n",
    "\n",
    "folder_path = f'{local_folder}/app_metrica_download_by_day/remade/{int(year)}/'\n",
    "create_folder_if_not_exists(folder_path)\n",
    "count_per_day.to_csv(f'{folder_path}/{int(month)}.csv', index=False,sep=\";\")"
   ]
  },
  {
   "cell_type": "code",
   "execution_count": 48,
   "metadata": {},
   "outputs": [],
   "source": [
    "token = TOKEN\n",
    "headers={'Authorization':token,'Accept':'application/json'}\n",
    "\n",
    "#'b1gb310irjlk6b99e14g' - аналитика\n",
    "#'b1gc7vi2ckqausoc5dr7' - спутник\n",
    "\n",
    "FOLDER_ID = 'b1gc7vi2ckqausoc5dr7' # id каталога из которого береться запрос\n",
    "ACCESS_KEY = ACCESS_KEY #aws_access_key_id для S3\n",
    "SECRET_KEY = SECRET_KEY #aws_secret_access_key в s3\n",
    "BUCKET_NAME = 'dwh-asgard' #имя бакета\n",
    "TIME_ZONE = os.getenv(\"TIME_ZONE\", \"Europe/Moscow\") #настройка функции\n",
    "TEMP_FILENAME = \"temp_file\"\n",
    "TIME_ZONE = os.getenv(\"TIME_ZONE\", \"Europe/Moscow\")\n",
    "\n",
    "def create_query(): #функция создает новый запрос и возвращает id для запроса результата\n",
    "    body = {\n",
    "        \"name\":query_name, \n",
    "        \"TYPE\":\"ANALYTICS\", \n",
    "        \"text\":query_text, \n",
    "        \"description\":query_description\n",
    "    }\n",
    "    response = requests.post(\n",
    "        f'https://api.yandex-query.cloud.yandex.net/api/fq/v1/queries?project={FOLDER_ID}',\n",
    "        headers=headers,\n",
    "        json=body\n",
    "    )\n",
    "    if response.status_code == 200:\n",
    "        return response.json()[\"id\"]\n",
    "    return f' Code: {response},  text: {response.text}'\n",
    "\n",
    "\n",
    "\n",
    "def get_request(offset): # фунция возвращает ответ запроса. Максимум 1000 строк.\n",
    "    offset = offset\n",
    "    get_query_results_url = f'https://api.yandex-query.cloud.yandex.net/api/fq/v1/queries/{request_id}/results/0?project={FOLDER_ID}&offset={str(offset)}&limit=1000'\n",
    "    response = requests.get(\n",
    "        get_query_results_url,\n",
    "        headers = headers\n",
    "    )\n",
    "    return response\n",
    "\n",
    "def if_cell_is_list(cell): # функция участвует в преобразовании данных при создании файла\n",
    "    if isinstance(cell, list):\n",
    "        if len(cell) == 0:\n",
    "            return ''\n",
    "        else: \n",
    "            return cell[0]\n",
    "    else:\n",
    "        return cell\n",
    "\n",
    "def write_temp_file():\n",
    "    offset = 0\n",
    "    response = get_request(offset) #запрашиваем данные запроса\n",
    "    columns = [rows['name'] for rows in response.json()['columns']] #выделяем названия столбцов\n",
    "    special_str = \"\"\n",
    "    for column in columns:\n",
    "        special_str = f\"{special_str}{str(column)},\"\n",
    "    # special_str.strip().strip('\"').strip(\"'\")\n",
    "    temp_file = open(TEMP_FILENAME, 'w')\n",
    "    temp_file.write(special_str[:-1]+'\\n')\n",
    "\n",
    "    while response.status_code == 200 and len(response.json()['rows']) != 0:  #Цикл делает запросы по 10000, пока не кончатся данные\n",
    "        response = get_request(offset)\n",
    "        response_rows = response.json()['rows']\n",
    "        rows = [[if_cell_is_list(cell) for cell in row] for row in response_rows]  #Преобразуются строки\n",
    "        # Открывает созданный файл и добавляет в него строки\n",
    "        for row in rows:\n",
    "            special_str = ''\n",
    "            for word in row:\n",
    "                if isinstance(word, type(None)):\n",
    "                    special_str += \",\"\n",
    "                elif isinstance(word, str):\n",
    "                    special_str += \"'{0}',\".format(word.replace(\"'\", \"\"))\n",
    "                else:\n",
    "                    special_str += \"{0},\".format(word)\n",
    "            # special_str.strip().strip('\"').strip(\"'\")\n",
    "            temp_file.write(special_str[:-1]+'\\n')  \n",
    "        offset +=1000 # увеличивает смещение\n",
    "\n",
    "def remove_temp_files(): #функция удаляет временный файл\n",
    "    os.remove(TEMP_FILENAME)\n",
    "\n",
    "def function_lunch(FOLDER,parameters):\n",
    "    global offset, query_name, query_description, query_text, request_id\n",
    "    offset = 0\n",
    "    query_name = f'{FOLDER} {now}' #имя, которое появляется в запросах\n",
    "    query_description = 'тестовый запрос'#описание, которое появляется в запросах\n",
    "    query_text = open(f'{FOLDER}.txt','r',encoding='utf-8').read().format(*parameters)\n",
    "\n",
    "    request_id = create_query()\n",
    "    while str(get_request(0)) == '<Response [400]>':     \n",
    "        time.sleep(10)\n",
    "\n",
    "    write_temp_file()\n",
    "    # with open(TEMP_FILENAME, 'r+') as file:\n",
    "    #     lines = file.readlines()\n",
    "    #     file.seek(0)  # Возвращаем указатель в начало файла\n",
    "    #     file.truncate()\n",
    "    #     for line in lines:\n",
    "    #     # Удаляем кавычки в начале и конце строки\n",
    "    #         new_line = line.strip().strip('\"').strip(\"'\")\n",
    "    #         file.write(new_line + '\\n')\n",
    "\n",
    "    try:\n",
    "        temp_file_pd = pd.read_csv(TEMP_FILENAME, sep=',')\n",
    "    except:\n",
    "        temp_file_pd = pd.read_csv(TEMP_FILENAME, sep=',', encoding='windows-1251')\n",
    "        \n",
    "    create_folder_if_not_exists(f'{local_folder}/{FOLDER}/{int(year)}')\n",
    "    \n",
    "\n",
    "\n",
    "    temp_file_pd.to_csv(f'{local_folder}/{FOLDER}/{int(year)}/{int(month)}.csv', index=False,sep=\",\")\n",
    "    remove_temp_files()\n",
    "\n",
    "\n",
    "def get_s3_instance():\n",
    "    session = boto3.session.Session()\n",
    "    return session.client(\n",
    "        aws_access_key_id=ACCESS_KEY,\n",
    "        aws_secret_access_key=SECRET_KEY,\n",
    "        service_name='s3',\n",
    "        endpoint_url='https://storage.yandexcloud.net'\n",
    "    )\n",
    "    \n",
    "def upload_dump_to_s3():\n",
    "    get_s3_instance().upload_file(\n",
    "        Filename= f'{local_folder}/Ready report/{int(year)}/{int(month)}.csv',\n",
    "        Bucket=BUCKET_NAME,\n",
    "        Key=f\"mobile_report_comerce_2/year={str(year)}/{str(month)}.csv\"\n",
    "    )\n",
    "    "
   ]
  },
  {
   "cell_type": "code",
   "execution_count": 49,
   "metadata": {},
   "outputs": [],
   "source": [
    "FOLDER = 'all_flats_rep_mobile'\n",
    "parameters = (start_of_month_data,now_date,yesterday_data)\n",
    "function_lunch(FOLDER, parameters)"
   ]
  },
  {
   "cell_type": "code",
   "execution_count": 50,
   "metadata": {},
   "outputs": [],
   "source": [
    "FOLDER = 'total_active_users_rep_mobile'\n",
    "parameters = (now_date,start_of_month_data,yesterday_data)\n",
    "function_lunch(FOLDER, parameters)"
   ]
  },
  {
   "cell_type": "code",
   "execution_count": 51,
   "metadata": {},
   "outputs": [],
   "source": [
    "FOLDER = 'active_users_in_flats_rep_mobile'\n",
    "parameters = (now_date,start_of_month_data,yesterday_data)\n",
    "function_lunch(FOLDER, parameters)"
   ]
  },
  {
   "cell_type": "code",
   "execution_count": 52,
   "metadata": {},
   "outputs": [],
   "source": [
    "FOLDER = 'total_account_count_rep_mobile'\n",
    "parameters = (start_of_month_data,now_date,yesterday_data)\n",
    "function_lunch(FOLDER, parameters)"
   ]
  },
  {
   "cell_type": "code",
   "execution_count": 53,
   "metadata": {},
   "outputs": [],
   "source": [
    "FOLDER = 'app_in_flats_rep_mobile'\n",
    "parameters = (yesterday_data)\n",
    "function_lunch(FOLDER, parameters)"
   ]
  },
  {
   "cell_type": "code",
   "execution_count": 54,
   "metadata": {},
   "outputs": [],
   "source": [
    "FOLDER = 'flats_in_sputnic_rep_mobile'\n",
    "parameters = (start_of_month_data,now_date,yesterday_data)\n",
    "function_lunch(FOLDER, parameters)"
   ]
  },
  {
   "cell_type": "code",
   "execution_count": 55,
   "metadata": {},
   "outputs": [],
   "source": [
    "FOLDER = 'paying_active_flats_rep_mobile'\n",
    "parameters = (start_of_month_data,now_date,yesterday_data)\n",
    "function_lunch(FOLDER, parameters)"
   ]
  },
  {
   "cell_type": "code",
   "execution_count": 56,
   "metadata": {},
   "outputs": [],
   "source": [
    "FOLDER = 'mobile_report_rep_mobile'\n",
    "parameters = (start_of_month_data,now_date,yesterday_data,month,year)\n",
    "\n",
    "function_lunch(FOLDER, parameters)"
   ]
  },
  {
   "cell_type": "code",
   "execution_count": 57,
   "metadata": {},
   "outputs": [],
   "source": [
    "FOLDER = 'service_payments_rep_mobule'\n",
    "create_folder_if_not_exists(f'{local_folder}/{FOLDER}/{int(year)}')\n",
    "service_payments = pd.read_csv(f'{local_folder}/{FOLDER}/{int(last_month_year)}/{int(last_month)}.csv')\n",
    "service_payments.to_csv(f'{local_folder}/{FOLDER}/{int(year)}/{int(month)}.csv', index=False,sep=\",\")"
   ]
  },
  {
   "cell_type": "code",
   "execution_count": 58,
   "metadata": {},
   "outputs": [],
   "source": [
    "FOLDER = 'DAF_rep_mobile'\n",
    "parameters = (start_of_month_data,now_date,yesterday_data)\n",
    "function_lunch(FOLDER, parameters)"
   ]
  },
  {
   "cell_type": "code",
   "execution_count": 59,
   "metadata": {},
   "outputs": [],
   "source": [
    "FOLDER = 'MAF_rep_mobile'\n",
    "parameters = (start_of_month_data,now_date,yesterday_data)\n",
    "function_lunch(FOLDER, parameters)"
   ]
  },
  {
   "cell_type": "code",
   "execution_count": 60,
   "metadata": {},
   "outputs": [],
   "source": [
    "FOLDER = 'activated_after_unsubsribtion_rep_mobile'\n",
    "parameters = (start_of_month_data,now_date,yesterday_data,start_of_previous_month,end_of_previous_month)\n",
    "function_lunch(FOLDER, parameters)"
   ]
  },
  {
   "cell_type": "code",
   "execution_count": 61,
   "metadata": {},
   "outputs": [],
   "source": [
    "FOLDER = 'total_active_users_per_day_rep_mobile'\n",
    "parameters = (now_date,start_of_month_data,yesterday_data)\n",
    "function_lunch(FOLDER, parameters)"
   ]
  },
  {
   "cell_type": "code",
   "execution_count": 62,
   "metadata": {},
   "outputs": [],
   "source": [
    "FOLDER = 'total_active_users_rep_mobile'\n",
    "parameters = (now_date,start_of_month_data,yesterday_data)\n",
    "function_lunch(FOLDER, parameters)"
   ]
  },
  {
   "cell_type": "code",
   "execution_count": 63,
   "metadata": {},
   "outputs": [],
   "source": [
    "FOLDER = 'total_activated_account_rep_mobile'\n",
    "parameters = (start_of_month_data,now_date,yesterday_data)\n",
    "function_lunch(FOLDER, parameters)"
   ]
  },
  {
   "cell_type": "code",
   "execution_count": 64,
   "metadata": {},
   "outputs": [],
   "source": [
    "FOLDER = 'subscriptions_report_comerce_1_69_rep_mobile_2'\n",
    "parameters = (start_of_month_data, now_date, yesterday_data, start_of_previous_month, end_of_previous_month, int(month), int(year), int(last_month), int(last_month_year))\n",
    "function_lunch(FOLDER, parameters)"
   ]
  },
  {
   "cell_type": "code",
   "execution_count": 65,
   "metadata": {},
   "outputs": [],
   "source": [
    "FOLDER = 'subscriptions_report_comerce_1_69_rep_mobile_1'\n",
    "parameters = (start_of_month_data, now_date, yesterday_data, start_of_previous_month, end_of_previous_month, int(month), int(year), int(last_month), int(last_month_year))\n",
    "function_lunch(FOLDER, parameters)"
   ]
  },
  {
   "cell_type": "code",
   "execution_count": 66,
   "metadata": {},
   "outputs": [],
   "source": [
    "FOLDER = 'subscriptions_report_comerce_rep_mobile'\n",
    "parameters = (start_of_month_data,now_date,yesterday_data,year,month)\n",
    "function_lunch(FOLDER, parameters)"
   ]
  },
  {
   "cell_type": "code",
   "execution_count": 67,
   "metadata": {},
   "outputs": [],
   "source": [
    "FOLDER = 'all_flats_rep_mobile'\n",
    "parameters = (start_of_month_data,now_date,yesterday_data)\n",
    "function_lunch(FOLDER, parameters)"
   ]
  },
  {
   "cell_type": "code",
   "execution_count": 68,
   "metadata": {},
   "outputs": [],
   "source": [
    "FOLDER = 'Units_on_SK platform_(monetization)_rep_mobile'\n",
    "parameters = (start_of_month_data,now_date,yesterday_data)\n",
    "function_lunch(FOLDER, parameters)"
   ]
  },
  {
   "cell_type": "code",
   "execution_count": 147,
   "metadata": {},
   "outputs": [],
   "source": [
    "def get_now_datetime_str(): # получаем актуальное время\n",
    "    time_zone = os.getenv(\"TIME_ZONE\", \"Europe/Moscow\") # меняем таймзону на московскую\n",
    "    now = datetime.datetime.strptime('2025-05-01 00:00:00','%Y-%m-%d %H:%M:%S')\n",
    "    # now = datetime.datetime.now(pytz.timezone(time_zone))    \n",
    "    yesterday = now - datetime.timedelta(days=1) #нужна вчерашняя дата так как данные за прошлый день\n",
    "    days_to_subtract = yesterday.day - 1\n",
    "    start_of_month_data = yesterday - datetime.timedelta(days=days_to_subtract)\n",
    "    yesterday = now - datetime.timedelta(days=1)\n",
    "    end_of_previous_month = start_of_month_data - datetime.timedelta(days=1)\n",
    "    days_to_subtract_previous_month = end_of_previous_month.day - 1\n",
    "    start_of_previous_month = end_of_previous_month - datetime.timedelta(days=days_to_subtract_previous_month)\n",
    "    for_last_month = yesterday - relativedelta(months=1)\n",
    "    return {'now':now.strftime('%Y-%m-%d %H:%M:%S'),\n",
    "            'now_date':now.strftime('%Y-%m-%d'),\n",
    "            'yesterday_data':yesterday.strftime('%Y-%m-%d'),\n",
    "            'yesterday':yesterday.strftime('%Y-%m-%d %H:%M:%S'), \n",
    "            'year':yesterday.strftime('%Y'),\n",
    "            'month':yesterday.strftime('%m'),\n",
    "            'day':yesterday.strftime('%d'),\n",
    "            'start_of_month_data':start_of_month_data.strftime('%Y-%m-%d'),\n",
    "            'start_of_previous_month':start_of_previous_month.strftime('%Y-%m-%d'),\n",
    "            'end_of_previous_month':end_of_previous_month.strftime('%Y-%m-%d'),\n",
    "            'last_month':for_last_month.strftime('%m'),\n",
    "            'last_month_year':for_last_month.strftime('%Y')\n",
    "            }\n",
    "\n",
    "# Переменные, которые могут быть использованы в разоичных запросах. \n",
    "now = get_now_datetime_str()['now']\n",
    "# Даты ниже отражают вчерашний день\n",
    "yesterday = get_now_datetime_str()['yesterday']\n",
    "yesterday_data = get_now_datetime_str()['yesterday_data']\n",
    "day = get_now_datetime_str()['day'] # \n",
    "month = get_now_datetime_str()['month']\n",
    "year = get_now_datetime_str()['year']\n",
    "start_of_month_data = get_now_datetime_str()['start_of_month_data']\n",
    "now_date = get_now_datetime_str()['now_date']\n",
    "start_of_previous_month = get_now_datetime_str()['start_of_previous_month']\n",
    "end_of_previous_month = get_now_datetime_str()['end_of_previous_month']\n",
    "last_month = get_now_datetime_str()['last_month']\n",
    "last_month_year = get_now_datetime_str()['last_month_year']\n",
    "\n",
    "limit = 100\n",
    "offset = 1"
   ]
  },
  {
   "cell_type": "code",
   "execution_count": 148,
   "metadata": {},
   "outputs": [
    {
     "name": "stdout",
     "output_type": "stream",
     "text": [
      "now: 2025-05-01 00:00:00\n",
      "now_date: 2025-05-01\n",
      "yesterday: 2025-04-30 00:00:00\n",
      "yesterday_data: 2025-04-30\n",
      "start_of_month_data: 2025-04-01\n",
      "day: 30\n",
      "month: 04\n",
      "year: 2025\n",
      "start_of_previous_month: 2025-03-01\n",
      "end_of_previous_month: 2025-03-31\n",
      "last_month: 03\n",
      "last_month_year: 2025\n"
     ]
    }
   ],
   "source": [
    "print(f'now: {now}')\n",
    "print(f'now_date: {now_date}')\n",
    "print(f'yesterday: {yesterday}')\n",
    "print(f'yesterday_data: {yesterday_data}')\n",
    "print(f'start_of_month_data: {start_of_month_data}')\n",
    "\n",
    "print(f'day: {day}')\n",
    "print(f'month: {month}')\n",
    "print(f'year: {year}')\n",
    "\n",
    "print(f'start_of_previous_month: {start_of_previous_month}')\n",
    "print(f'end_of_previous_month: {end_of_previous_month}')\n",
    "print(f'last_month: {last_month}')\n",
    "print(f'last_month_year: {last_month_year}')\n"
   ]
  },
  {
   "cell_type": "code",
   "execution_count": 149,
   "metadata": {},
   "outputs": [],
   "source": [
    "FOLDER = 'family_rate_rep_mobile'\n",
    "parameters = (start_of_month_data,now_date,yesterday_data)\n",
    "function_lunch(FOLDER, parameters)"
   ]
  },
  {
   "cell_type": "markdown",
   "metadata": {},
   "source": [
    "# Concat"
   ]
  },
  {
   "cell_type": "code",
   "execution_count": 150,
   "metadata": {},
   "outputs": [
    {
     "data": {
      "text/html": [
       "<div>\n",
       "<style scoped>\n",
       "    .dataframe tbody tr th:only-of-type {\n",
       "        vertical-align: middle;\n",
       "    }\n",
       "\n",
       "    .dataframe tbody tr th {\n",
       "        vertical-align: top;\n",
       "    }\n",
       "\n",
       "    .dataframe thead th {\n",
       "        text-align: right;\n",
       "    }\n",
       "</style>\n",
       "<table border=\"1\" class=\"dataframe\">\n",
       "  <thead>\n",
       "    <tr style=\"text-align: right;\">\n",
       "      <th></th>\n",
       "      <th>Android_id</th>\n",
       "      <th>iOS_id</th>\n",
       "    </tr>\n",
       "  </thead>\n",
       "  <tbody>\n",
       "    <tr>\n",
       "      <th>0</th>\n",
       "      <td>2156460</td>\n",
       "      <td>1423340</td>\n",
       "    </tr>\n",
       "  </tbody>\n",
       "</table>\n",
       "</div>"
      ],
      "text/plain": [
       "   Android_id   iOS_id\n",
       "0     2156460  1423340"
      ]
     },
     "execution_count": 150,
     "metadata": {},
     "output_type": "execute_result"
    }
   ],
   "source": [
    "id_count = pd.read_csv(f'{local_folder}/app_metrica_ID_count/remade/{int(year)}/{int(month)}.csv', sep=';')\n",
    "id_count = id_count[['Android','Ios']]\n",
    "id_count.rename(columns = {'Android':'Android_id', 'Ios':'iOS_id' },inplace=True)\n",
    "id_count"
   ]
  },
  {
   "cell_type": "code",
   "execution_count": 151,
   "metadata": {},
   "outputs": [
    {
     "data": {
      "text/html": [
       "<div>\n",
       "<style scoped>\n",
       "    .dataframe tbody tr th:only-of-type {\n",
       "        vertical-align: middle;\n",
       "    }\n",
       "\n",
       "    .dataframe tbody tr th {\n",
       "        vertical-align: top;\n",
       "    }\n",
       "\n",
       "    .dataframe thead th {\n",
       "        text-align: right;\n",
       "    }\n",
       "</style>\n",
       "<table border=\"1\" class=\"dataframe\">\n",
       "  <thead>\n",
       "    <tr style=\"text-align: right;\">\n",
       "      <th></th>\n",
       "      <th>DAU</th>\n",
       "    </tr>\n",
       "  </thead>\n",
       "  <tbody>\n",
       "    <tr>\n",
       "      <th>0</th>\n",
       "      <td>295758</td>\n",
       "    </tr>\n",
       "  </tbody>\n",
       "</table>\n",
       "</div>"
      ],
      "text/plain": [
       "      DAU\n",
       "0  295758"
      ]
     },
     "execution_count": 151,
     "metadata": {},
     "output_type": "execute_result"
    }
   ],
   "source": [
    "dau = pd.read_csv(f'{local_folder}/app_metrica_DAU_MAU/remade/DAU/{int(year)}/{int(month)}.csv', sep=';')\n",
    "dau['DAU']= dau['Пользователи'].mean().round().astype(int)\n",
    "dau = dau.loc[0,['DAU']]\n",
    "dau = pd.DataFrame(data = dau.values, columns = dau.index)\n",
    "dau"
   ]
  },
  {
   "cell_type": "code",
   "execution_count": 152,
   "metadata": {},
   "outputs": [
    {
     "data": {
      "text/html": [
       "<div>\n",
       "<style scoped>\n",
       "    .dataframe tbody tr th:only-of-type {\n",
       "        vertical-align: middle;\n",
       "    }\n",
       "\n",
       "    .dataframe tbody tr th {\n",
       "        vertical-align: top;\n",
       "    }\n",
       "\n",
       "    .dataframe thead th {\n",
       "        text-align: right;\n",
       "    }\n",
       "</style>\n",
       "<table border=\"1\" class=\"dataframe\">\n",
       "  <thead>\n",
       "    <tr style=\"text-align: right;\">\n",
       "      <th></th>\n",
       "      <th>MAU</th>\n",
       "      <th>Новые пользователи</th>\n",
       "      <th>Доля новых пользователей</th>\n",
       "    </tr>\n",
       "  </thead>\n",
       "  <tbody>\n",
       "    <tr>\n",
       "      <th>0</th>\n",
       "      <td>914254</td>\n",
       "      <td>76883</td>\n",
       "      <td>8.40937</td>\n",
       "    </tr>\n",
       "  </tbody>\n",
       "</table>\n",
       "</div>"
      ],
      "text/plain": [
       "      MAU  Новые пользователи  Доля новых пользователей\n",
       "0  914254               76883                   8.40937"
      ]
     },
     "execution_count": 152,
     "metadata": {},
     "output_type": "execute_result"
    }
   ],
   "source": [
    "mau = pd.read_csv(f'{local_folder}/app_metrica_DAU_MAU/remade/MAU/{int(year)}/{int(month)}.csv', sep=';')\n",
    "mau['MAU'] = mau['Пользователи']\n",
    "mau = mau[['MAU', 'Новые пользователи', 'Доля новых пользователей']]\n",
    "mau"
   ]
  },
  {
   "cell_type": "code",
   "execution_count": 153,
   "metadata": {},
   "outputs": [
    {
     "data": {
      "text/html": [
       "<div>\n",
       "<style scoped>\n",
       "    .dataframe tbody tr th:only-of-type {\n",
       "        vertical-align: middle;\n",
       "    }\n",
       "\n",
       "    .dataframe tbody tr th {\n",
       "        vertical-align: top;\n",
       "    }\n",
       "\n",
       "    .dataframe thead th {\n",
       "        text-align: right;\n",
       "    }\n",
       "</style>\n",
       "<table border=\"1\" class=\"dataframe\">\n",
       "  <thead>\n",
       "    <tr style=\"text-align: right;\">\n",
       "      <th></th>\n",
       "      <th>Все установки</th>\n",
       "      <th>Сессии</th>\n",
       "    </tr>\n",
       "  </thead>\n",
       "  <tbody>\n",
       "    <tr>\n",
       "      <th>0</th>\n",
       "      <td>2992987</td>\n",
       "      <td>706388062</td>\n",
       "    </tr>\n",
       "  </tbody>\n",
       "</table>\n",
       "</div>"
      ],
      "text/plain": [
       "   Все установки     Сессии\n",
       "0        2992987  706388062"
      ]
     },
     "execution_count": 153,
     "metadata": {},
     "output_type": "execute_result"
    }
   ],
   "source": [
    "installetion_count = pd.read_csv(f'{local_folder}/app_metrica_all_daownloaded/remade/{int(year)}/{int(month)}.csv', sep=';')\n",
    "installetion_count = installetion_count[['Все установки', 'Сессии']]\n",
    "installetion_count"
   ]
  },
  {
   "cell_type": "code",
   "execution_count": 154,
   "metadata": {},
   "outputs": [
    {
     "data": {
      "text/html": [
       "<div>\n",
       "<style scoped>\n",
       "    .dataframe tbody tr th:only-of-type {\n",
       "        vertical-align: middle;\n",
       "    }\n",
       "\n",
       "    .dataframe tbody tr th {\n",
       "        vertical-align: top;\n",
       "    }\n",
       "\n",
       "    .dataframe thead th {\n",
       "        text-align: right;\n",
       "    }\n",
       "</style>\n",
       "<table border=\"1\" class=\"dataframe\">\n",
       "  <thead>\n",
       "    <tr style=\"text-align: right;\">\n",
       "      <th></th>\n",
       "      <th>service_payments</th>\n",
       "    </tr>\n",
       "  </thead>\n",
       "  <tbody>\n",
       "    <tr>\n",
       "      <th>0</th>\n",
       "      <td>0</td>\n",
       "    </tr>\n",
       "  </tbody>\n",
       "</table>\n",
       "</div>"
      ],
      "text/plain": [
       "   service_payments\n",
       "0                 0"
      ]
     },
     "execution_count": 154,
     "metadata": {},
     "output_type": "execute_result"
    }
   ],
   "source": [
    "service_payments = pd.read_csv(f'{local_folder}/service_payments_rep_mobule/{int(year)}/{int(month)}.csv', sep=',')\n",
    "service_payments = service_payments['service_payments'].to_frame(name = 'service_payments')\n",
    "service_payments"
   ]
  },
  {
   "cell_type": "code",
   "execution_count": 155,
   "metadata": {},
   "outputs": [
    {
     "data": {
      "text/html": [
       "<div>\n",
       "<style scoped>\n",
       "    .dataframe tbody tr th:only-of-type {\n",
       "        vertical-align: middle;\n",
       "    }\n",
       "\n",
       "    .dataframe tbody tr th {\n",
       "        vertical-align: top;\n",
       "    }\n",
       "\n",
       "    .dataframe thead th {\n",
       "        text-align: right;\n",
       "    }\n",
       "</style>\n",
       "<table border=\"1\" class=\"dataframe\">\n",
       "  <thead>\n",
       "    <tr style=\"text-align: right;\">\n",
       "      <th></th>\n",
       "      <th>Первая дата</th>\n",
       "      <th>Месяц</th>\n",
       "      <th>Год</th>\n",
       "      <th>IOS_PL</th>\n",
       "      <th>appstore_count_85</th>\n",
       "      <th>appstore_count_85_refunded</th>\n",
       "      <th>appstore_count_69</th>\n",
       "      <th>appstore_count_69_refunded</th>\n",
       "      <th>appstore_count_499</th>\n",
       "      <th>appstore_count_499_refunded</th>\n",
       "      <th>...</th>\n",
       "      <th>yookassa_count_35_refunded</th>\n",
       "      <th>yookassa_count_1</th>\n",
       "      <th>yookassa_count_1_refunded</th>\n",
       "      <th>yookassa_count_499</th>\n",
       "      <th>yookassa_count_499_refunded</th>\n",
       "      <th>yookassa_count_249</th>\n",
       "      <th>yookassa_count_249_refunded</th>\n",
       "      <th>yookassa_count_2390</th>\n",
       "      <th>yookassa_count_2390_refunded</th>\n",
       "      <th>refunded_amount_yookassa</th>\n",
       "    </tr>\n",
       "  </thead>\n",
       "  <tbody>\n",
       "    <tr>\n",
       "      <th>0</th>\n",
       "      <td>'2025-04-01'</td>\n",
       "      <td>4</td>\n",
       "      <td>2025</td>\n",
       "      <td>259093</td>\n",
       "      <td>0</td>\n",
       "      <td>0</td>\n",
       "      <td>3755</td>\n",
       "      <td>1</td>\n",
       "      <td>0</td>\n",
       "      <td>0</td>\n",
       "      <td>...</td>\n",
       "      <td>0</td>\n",
       "      <td>10461</td>\n",
       "      <td>870</td>\n",
       "      <td>0</td>\n",
       "      <td>0</td>\n",
       "      <td>0</td>\n",
       "      <td>0</td>\n",
       "      <td>0</td>\n",
       "      <td>0</td>\n",
       "      <td>1534</td>\n",
       "    </tr>\n",
       "  </tbody>\n",
       "</table>\n",
       "<p>1 rows × 31 columns</p>\n",
       "</div>"
      ],
      "text/plain": [
       "    Первая дата  Месяц   Год  IOS_PL  appstore_count_85  \\\n",
       "0  '2025-04-01'      4  2025  259093                  0   \n",
       "\n",
       "   appstore_count_85_refunded  appstore_count_69  appstore_count_69_refunded  \\\n",
       "0                           0               3755                           1   \n",
       "\n",
       "   appstore_count_499  appstore_count_499_refunded  ...  \\\n",
       "0                   0                            0  ...   \n",
       "\n",
       "   yookassa_count_35_refunded  yookassa_count_1  yookassa_count_1_refunded  \\\n",
       "0                           0             10461                        870   \n",
       "\n",
       "   yookassa_count_499  yookassa_count_499_refunded  yookassa_count_249  \\\n",
       "0                   0                            0                   0   \n",
       "\n",
       "   yookassa_count_249_refunded  yookassa_count_2390  \\\n",
       "0                            0                    0   \n",
       "\n",
       "   yookassa_count_2390_refunded  refunded_amount_yookassa  \n",
       "0                             0                      1534  \n",
       "\n",
       "[1 rows x 31 columns]"
      ]
     },
     "execution_count": 155,
     "metadata": {},
     "output_type": "execute_result"
    }
   ],
   "source": [
    "mobile_report = pd.read_csv(f'{local_folder}/mobile_report_rep_mobile/{int(year)}/{int(month)}.csv', sep=',')\n",
    "mobile_report"
   ]
  },
  {
   "cell_type": "code",
   "execution_count": 156,
   "metadata": {},
   "outputs": [
    {
     "data": {
      "text/html": [
       "<div>\n",
       "<style scoped>\n",
       "    .dataframe tbody tr th:only-of-type {\n",
       "        vertical-align: middle;\n",
       "    }\n",
       "\n",
       "    .dataframe tbody tr th {\n",
       "        vertical-align: top;\n",
       "    }\n",
       "\n",
       "    .dataframe thead th {\n",
       "        text-align: right;\n",
       "    }\n",
       "</style>\n",
       "<table border=\"1\" class=\"dataframe\">\n",
       "  <thead>\n",
       "    <tr style=\"text-align: right;\">\n",
       "      <th></th>\n",
       "      <th>paying_users</th>\n",
       "      <th>paying_users_standart</th>\n",
       "      <th>paying_users_partner_pro</th>\n",
       "      <th>paying_users_partner_start</th>\n",
       "      <th>paying_users_standart_yakassa1</th>\n",
       "      <th>paying_users_standart_yakassa</th>\n",
       "      <th>paying_users_standart_appstore</th>\n",
       "      <th>paying_users_standart_ios_from_cart</th>\n",
       "      <th>renewed_subscriptions</th>\n",
       "      <th>new_subscriptions</th>\n",
       "      <th>new_subscriptions_activated</th>\n",
       "      <th>failed_subscriptions</th>\n",
       "      <th>failed_subscriptions_renewed</th>\n",
       "      <th>canceled_subscriptions</th>\n",
       "      <th>canceled_subscriptions_renewed</th>\n",
       "    </tr>\n",
       "  </thead>\n",
       "  <tbody>\n",
       "    <tr>\n",
       "      <th>0</th>\n",
       "      <td>75729</td>\n",
       "      <td>73734</td>\n",
       "      <td>62869</td>\n",
       "      <td>11681</td>\n",
       "      <td>1200</td>\n",
       "      <td>41765</td>\n",
       "      <td>3246</td>\n",
       "      <td>27039</td>\n",
       "      <td>63785</td>\n",
       "      <td>13675</td>\n",
       "      <td>11944</td>\n",
       "      <td>4971</td>\n",
       "      <td>1115</td>\n",
       "      <td>644</td>\n",
       "      <td>805</td>\n",
       "    </tr>\n",
       "  </tbody>\n",
       "</table>\n",
       "</div>"
      ],
      "text/plain": [
       "   paying_users  paying_users_standart  paying_users_partner_pro  \\\n",
       "0         75729                  73734                     62869   \n",
       "\n",
       "   paying_users_partner_start  paying_users_standart_yakassa1  \\\n",
       "0                       11681                            1200   \n",
       "\n",
       "   paying_users_standart_yakassa  paying_users_standart_appstore  \\\n",
       "0                          41765                            3246   \n",
       "\n",
       "   paying_users_standart_ios_from_cart  renewed_subscriptions  \\\n",
       "0                                27039                  63785   \n",
       "\n",
       "   new_subscriptions  new_subscriptions_activated  failed_subscriptions  \\\n",
       "0              13675                        11944                  4971   \n",
       "\n",
       "   failed_subscriptions_renewed  canceled_subscriptions  \\\n",
       "0                          1115                     644   \n",
       "\n",
       "   canceled_subscriptions_renewed  \n",
       "0                             805  "
      ]
     },
     "execution_count": 156,
     "metadata": {},
     "output_type": "execute_result"
    }
   ],
   "source": [
    "subscriptions_report_comerce = pd.read_csv(f'{local_folder}/subscriptions_report_comerce_rep_mobile/{int(year)}/{int(month)}.csv', sep=',')\n",
    "#subscriptions_report_comerce = subscriptions_report_comerce[['failed_subscriptions_renewed','canceled_subscriptions_renewed','paying_users','paying_users_standart','paying_users_standart_yakassa','paying_users_standart_appstore','paying_users_standart_ios_from_cart','new_subscriptions','failed_subscriptions','canceled_subscriptions','renewed_subscriptions']]\n",
    "subscriptions_report_comerce"
   ]
  },
  {
   "cell_type": "code",
   "execution_count": 157,
   "metadata": {},
   "outputs": [
    {
     "data": {
      "text/html": [
       "<div>\n",
       "<style scoped>\n",
       "    .dataframe tbody tr th:only-of-type {\n",
       "        vertical-align: middle;\n",
       "    }\n",
       "\n",
       "    .dataframe tbody tr th {\n",
       "        vertical-align: top;\n",
       "    }\n",
       "\n",
       "    .dataframe thead th {\n",
       "        text-align: right;\n",
       "    }\n",
       "</style>\n",
       "<table border=\"1\" class=\"dataframe\">\n",
       "  <thead>\n",
       "    <tr style=\"text-align: right;\">\n",
       "      <th></th>\n",
       "      <th>Units on SK platform</th>\n",
       "      <th>Units stricted monetization</th>\n",
       "      <th>Units free monetization</th>\n",
       "      <th>Units_free_monetization_pro</th>\n",
       "      <th>Units_free_monetization_start</th>\n",
       "    </tr>\n",
       "  </thead>\n",
       "  <tbody>\n",
       "    <tr>\n",
       "      <th>0</th>\n",
       "      <td>29814</td>\n",
       "      <td>8473</td>\n",
       "      <td>21341</td>\n",
       "      <td>16910</td>\n",
       "      <td>16910</td>\n",
       "    </tr>\n",
       "  </tbody>\n",
       "</table>\n",
       "</div>"
      ],
      "text/plain": [
       "   Units on SK platform  Units stricted monetization  Units free monetization  \\\n",
       "0                 29814                         8473                    21341   \n",
       "\n",
       "   Units_free_monetization_pro  Units_free_monetization_start  \n",
       "0                        16910                          16910  "
      ]
     },
     "execution_count": 157,
     "metadata": {},
     "output_type": "execute_result"
    }
   ],
   "source": [
    "units_on_SK_platform = pd.read_csv(f'{local_folder}/Units_on_SK platform_(monetization)_rep_mobile/{int(year)}/{int(month)}.csv', sep=',')\n",
    "units_on_SK_platform"
   ]
  },
  {
   "cell_type": "code",
   "execution_count": 158,
   "metadata": {},
   "outputs": [
    {
     "data": {
      "text/html": [
       "<div>\n",
       "<style scoped>\n",
       "    .dataframe tbody tr th:only-of-type {\n",
       "        vertical-align: middle;\n",
       "    }\n",
       "\n",
       "    .dataframe tbody tr th {\n",
       "        vertical-align: top;\n",
       "    }\n",
       "\n",
       "    .dataframe thead th {\n",
       "        text-align: right;\n",
       "    }\n",
       "</style>\n",
       "<table border=\"1\" class=\"dataframe\">\n",
       "  <thead>\n",
       "    <tr style=\"text-align: right;\">\n",
       "      <th></th>\n",
       "      <th>total_account_count</th>\n",
       "    </tr>\n",
       "  </thead>\n",
       "  <tbody>\n",
       "    <tr>\n",
       "      <th>0</th>\n",
       "      <td>1999099</td>\n",
       "    </tr>\n",
       "  </tbody>\n",
       "</table>\n",
       "</div>"
      ],
      "text/plain": [
       "   total_account_count\n",
       "0              1999099"
      ]
     },
     "execution_count": 158,
     "metadata": {},
     "output_type": "execute_result"
    }
   ],
   "source": [
    "total_account_count = pd.read_csv(f'{local_folder}/total_account_count_rep_mobile/{int(year)}/{int(month)}.csv', sep=',')\n",
    "total_account_count"
   ]
  },
  {
   "cell_type": "code",
   "execution_count": 159,
   "metadata": {},
   "outputs": [
    {
     "data": {
      "text/html": [
       "<div>\n",
       "<style scoped>\n",
       "    .dataframe tbody tr th:only-of-type {\n",
       "        vertical-align: middle;\n",
       "    }\n",
       "\n",
       "    .dataframe tbody tr th {\n",
       "        vertical-align: top;\n",
       "    }\n",
       "\n",
       "    .dataframe thead th {\n",
       "        text-align: right;\n",
       "    }\n",
       "</style>\n",
       "<table border=\"1\" class=\"dataframe\">\n",
       "  <thead>\n",
       "    <tr style=\"text-align: right;\">\n",
       "      <th></th>\n",
       "      <th>total_activated_account</th>\n",
       "      <th>total_activated_account_monetization</th>\n",
       "      <th>total_activated_account_ble_available_monetization</th>\n",
       "      <th>total_activated_account_ble_available</th>\n",
       "    </tr>\n",
       "  </thead>\n",
       "  <tbody>\n",
       "    <tr>\n",
       "      <th>0</th>\n",
       "      <td>1398190</td>\n",
       "      <td>932530</td>\n",
       "      <td>621895</td>\n",
       "      <td>978555</td>\n",
       "    </tr>\n",
       "  </tbody>\n",
       "</table>\n",
       "</div>"
      ],
      "text/plain": [
       "   total_activated_account  total_activated_account_monetization  \\\n",
       "0                  1398190                                932530   \n",
       "\n",
       "   total_activated_account_ble_available_monetization  \\\n",
       "0                                             621895    \n",
       "\n",
       "   total_activated_account_ble_available  \n",
       "0                                 978555  "
      ]
     },
     "execution_count": 159,
     "metadata": {},
     "output_type": "execute_result"
    }
   ],
   "source": [
    "total_activated_account = pd.read_csv(f'{local_folder}/total_activated_account_rep_mobile/{int(year)}/{int(month)}.csv', sep=',')\n",
    "total_activated_account"
   ]
  },
  {
   "cell_type": "code",
   "execution_count": 160,
   "metadata": {},
   "outputs": [
    {
     "data": {
      "text/html": [
       "<div>\n",
       "<style scoped>\n",
       "    .dataframe tbody tr th:only-of-type {\n",
       "        vertical-align: middle;\n",
       "    }\n",
       "\n",
       "    .dataframe tbody tr th {\n",
       "        vertical-align: top;\n",
       "    }\n",
       "\n",
       "    .dataframe thead th {\n",
       "        text-align: right;\n",
       "    }\n",
       "</style>\n",
       "<table border=\"1\" class=\"dataframe\">\n",
       "  <thead>\n",
       "    <tr style=\"text-align: right;\">\n",
       "      <th></th>\n",
       "      <th>total_active_users</th>\n",
       "      <th>total_active_users_monetization</th>\n",
       "      <th>total_active_user_subscribed_monetization</th>\n",
       "      <th>total_active_users_ble_available</th>\n",
       "      <th>total_active_users_ble_available_monetization</th>\n",
       "      <th>total_active_users_ble_available_subscribed_monetization</th>\n",
       "    </tr>\n",
       "  </thead>\n",
       "  <tbody>\n",
       "    <tr>\n",
       "      <th>0</th>\n",
       "      <td>816205</td>\n",
       "      <td>540309</td>\n",
       "      <td>72384</td>\n",
       "      <td>618355</td>\n",
       "      <td>400194</td>\n",
       "      <td>55194</td>\n",
       "    </tr>\n",
       "  </tbody>\n",
       "</table>\n",
       "</div>"
      ],
      "text/plain": [
       "   total_active_users  total_active_users_monetization  \\\n",
       "0              816205                           540309   \n",
       "\n",
       "   total_active_user_subscribed_monetization  \\\n",
       "0                                      72384   \n",
       "\n",
       "   total_active_users_ble_available  \\\n",
       "0                            618355   \n",
       "\n",
       "   total_active_users_ble_available_monetization  \\\n",
       "0                                         400194   \n",
       "\n",
       "   total_active_users_ble_available_subscribed_monetization  \n",
       "0                                              55194         "
      ]
     },
     "execution_count": 160,
     "metadata": {},
     "output_type": "execute_result"
    }
   ],
   "source": [
    "total_active_users = pd.read_csv(f'{local_folder}/total_active_users_rep_mobile/{int(year)}/{int(month)}.csv', sep=',')\n",
    "total_active_users"
   ]
  },
  {
   "cell_type": "code",
   "execution_count": 161,
   "metadata": {},
   "outputs": [
    {
     "data": {
      "text/html": [
       "<div>\n",
       "<style scoped>\n",
       "    .dataframe tbody tr th:only-of-type {\n",
       "        vertical-align: middle;\n",
       "    }\n",
       "\n",
       "    .dataframe tbody tr th {\n",
       "        vertical-align: top;\n",
       "    }\n",
       "\n",
       "    .dataframe thead th {\n",
       "        text-align: right;\n",
       "    }\n",
       "</style>\n",
       "<table border=\"1\" class=\"dataframe\">\n",
       "  <thead>\n",
       "    <tr style=\"text-align: right;\">\n",
       "      <th></th>\n",
       "      <th>total_active_users_per_day</th>\n",
       "      <th>total_active_user_monetization_per_day</th>\n",
       "      <th>total_active_user_subscribed_monetization_per_day</th>\n",
       "    </tr>\n",
       "  </thead>\n",
       "  <tbody>\n",
       "    <tr>\n",
       "      <th>0</th>\n",
       "      <td>259264</td>\n",
       "      <td>163947</td>\n",
       "      <td>25509</td>\n",
       "    </tr>\n",
       "  </tbody>\n",
       "</table>\n",
       "</div>"
      ],
      "text/plain": [
       "   total_active_users_per_day  total_active_user_monetization_per_day  \\\n",
       "0                      259264                                  163947   \n",
       "\n",
       "   total_active_user_subscribed_monetization_per_day  \n",
       "0                                              25509  "
      ]
     },
     "execution_count": 161,
     "metadata": {},
     "output_type": "execute_result"
    }
   ],
   "source": [
    "total_active_users_per_day = pd.read_csv(f'{local_folder}/total_active_users_per_day_rep_mobile/{int(year)}/{int(month)}.csv', sep=',')\n",
    "total_active_users_per_day\n"
   ]
  },
  {
   "cell_type": "code",
   "execution_count": 162,
   "metadata": {},
   "outputs": [
    {
     "data": {
      "text/html": [
       "<div>\n",
       "<style scoped>\n",
       "    .dataframe tbody tr th:only-of-type {\n",
       "        vertical-align: middle;\n",
       "    }\n",
       "\n",
       "    .dataframe tbody tr th {\n",
       "        vertical-align: top;\n",
       "    }\n",
       "\n",
       "    .dataframe thead th {\n",
       "        text-align: right;\n",
       "    }\n",
       "</style>\n",
       "<table border=\"1\" class=\"dataframe\">\n",
       "  <thead>\n",
       "    <tr style=\"text-align: right;\">\n",
       "      <th></th>\n",
       "      <th>all_flats</th>\n",
       "      <th>all_flats_partner_pro</th>\n",
       "      <th>all_flats_partner_start</th>\n",
       "      <th>freemonetization_flats</th>\n",
       "      <th>stricted_flats</th>\n",
       "      <th>subsc_restrict_is_null_flats</th>\n",
       "    </tr>\n",
       "  </thead>\n",
       "  <tbody>\n",
       "    <tr>\n",
       "      <th>0</th>\n",
       "      <td>906488</td>\n",
       "      <td>470426</td>\n",
       "      <td>79396</td>\n",
       "      <td>632318</td>\n",
       "      <td>274170</td>\n",
       "      <td>0</td>\n",
       "    </tr>\n",
       "  </tbody>\n",
       "</table>\n",
       "</div>"
      ],
      "text/plain": [
       "   all_flats  all_flats_partner_pro  all_flats_partner_start  \\\n",
       "0     906488                 470426                    79396   \n",
       "\n",
       "   freemonetization_flats  stricted_flats  subsc_restrict_is_null_flats  \n",
       "0                  632318          274170                             0  "
      ]
     },
     "execution_count": 162,
     "metadata": {},
     "output_type": "execute_result"
    }
   ],
   "source": [
    "all_flats = pd.read_csv(f'{local_folder}/all_flats_rep_mobile/{int(year)}/{int(month)}.csv', sep=',')\n",
    "all_flats"
   ]
  },
  {
   "cell_type": "code",
   "execution_count": 163,
   "metadata": {},
   "outputs": [
    {
     "data": {
      "text/html": [
       "<div>\n",
       "<style scoped>\n",
       "    .dataframe tbody tr th:only-of-type {\n",
       "        vertical-align: middle;\n",
       "    }\n",
       "\n",
       "    .dataframe tbody tr th {\n",
       "        vertical-align: top;\n",
       "    }\n",
       "\n",
       "    .dataframe thead th {\n",
       "        text-align: right;\n",
       "    }\n",
       "</style>\n",
       "<table border=\"1\" class=\"dataframe\">\n",
       "  <thead>\n",
       "    <tr style=\"text-align: right;\">\n",
       "      <th></th>\n",
       "      <th>flats_in_sputnic</th>\n",
       "    </tr>\n",
       "  </thead>\n",
       "  <tbody>\n",
       "    <tr>\n",
       "      <th>0</th>\n",
       "      <td>714240</td>\n",
       "    </tr>\n",
       "  </tbody>\n",
       "</table>\n",
       "</div>"
      ],
      "text/plain": [
       "   flats_in_sputnic\n",
       "0            714240"
      ]
     },
     "execution_count": 163,
     "metadata": {},
     "output_type": "execute_result"
    }
   ],
   "source": [
    "flats_in_sputnic = pd.read_csv(f'{local_folder}/flats_in_sputnic_rep_mobile/{int(year)}/{int(month)}.csv', sep=',')\n",
    "flats_in_sputnic"
   ]
  },
  {
   "cell_type": "code",
   "execution_count": 164,
   "metadata": {},
   "outputs": [
    {
     "data": {
      "text/html": [
       "<div>\n",
       "<style scoped>\n",
       "    .dataframe tbody tr th:only-of-type {\n",
       "        vertical-align: middle;\n",
       "    }\n",
       "\n",
       "    .dataframe tbody tr th {\n",
       "        vertical-align: top;\n",
       "    }\n",
       "\n",
       "    .dataframe thead th {\n",
       "        text-align: right;\n",
       "    }\n",
       "</style>\n",
       "<table border=\"1\" class=\"dataframe\">\n",
       "  <thead>\n",
       "    <tr style=\"text-align: right;\">\n",
       "      <th></th>\n",
       "      <th>MAF</th>\n",
       "      <th>stricted_MAF</th>\n",
       "      <th>freemonetization_MAF</th>\n",
       "    </tr>\n",
       "  </thead>\n",
       "  <tbody>\n",
       "    <tr>\n",
       "      <th>0</th>\n",
       "      <td>512155</td>\n",
       "      <td>167790</td>\n",
       "      <td>344365</td>\n",
       "    </tr>\n",
       "  </tbody>\n",
       "</table>\n",
       "</div>"
      ],
      "text/plain": [
       "      MAF  stricted_MAF  freemonetization_MAF\n",
       "0  512155        167790                344365"
      ]
     },
     "execution_count": 164,
     "metadata": {},
     "output_type": "execute_result"
    }
   ],
   "source": [
    "maf = pd.read_csv(f'{local_folder}/MAF_rep_mobile/{int(year)}/{int(month)}.csv', sep=',')\n",
    "maf"
   ]
  },
  {
   "cell_type": "code",
   "execution_count": 165,
   "metadata": {},
   "outputs": [
    {
     "data": {
      "text/html": [
       "<div>\n",
       "<style scoped>\n",
       "    .dataframe tbody tr th:only-of-type {\n",
       "        vertical-align: middle;\n",
       "    }\n",
       "\n",
       "    .dataframe tbody tr th {\n",
       "        vertical-align: top;\n",
       "    }\n",
       "\n",
       "    .dataframe thead th {\n",
       "        text-align: right;\n",
       "    }\n",
       "</style>\n",
       "<table border=\"1\" class=\"dataframe\">\n",
       "  <thead>\n",
       "    <tr style=\"text-align: right;\">\n",
       "      <th></th>\n",
       "      <th>DAF</th>\n",
       "      <th>stricted_DAF</th>\n",
       "      <th>freemonetization_DAF</th>\n",
       "    </tr>\n",
       "  </thead>\n",
       "  <tbody>\n",
       "    <tr>\n",
       "      <th>0</th>\n",
       "      <td>203852</td>\n",
       "      <td>72158</td>\n",
       "      <td>131694</td>\n",
       "    </tr>\n",
       "  </tbody>\n",
       "</table>\n",
       "</div>"
      ],
      "text/plain": [
       "      DAF  stricted_DAF  freemonetization_DAF\n",
       "0  203852         72158                131694"
      ]
     },
     "execution_count": 165,
     "metadata": {},
     "output_type": "execute_result"
    }
   ],
   "source": [
    "daf = pd.read_csv(f'{local_folder}/DAF_rep_mobile/{int(year)}/{int(month)}.csv', sep=',').round().astype('int')\n",
    "daf"
   ]
  },
  {
   "cell_type": "code",
   "execution_count": 166,
   "metadata": {},
   "outputs": [
    {
     "data": {
      "text/html": [
       "<div>\n",
       "<style scoped>\n",
       "    .dataframe tbody tr th:only-of-type {\n",
       "        vertical-align: middle;\n",
       "    }\n",
       "\n",
       "    .dataframe tbody tr th {\n",
       "        vertical-align: top;\n",
       "    }\n",
       "\n",
       "    .dataframe thead th {\n",
       "        text-align: right;\n",
       "    }\n",
       "</style>\n",
       "<table border=\"1\" class=\"dataframe\">\n",
       "  <thead>\n",
       "    <tr style=\"text-align: right;\">\n",
       "      <th></th>\n",
       "      <th>paying_active_flats</th>\n",
       "    </tr>\n",
       "  </thead>\n",
       "  <tbody>\n",
       "    <tr>\n",
       "      <th>0</th>\n",
       "      <td>73234</td>\n",
       "    </tr>\n",
       "  </tbody>\n",
       "</table>\n",
       "</div>"
      ],
      "text/plain": [
       "   paying_active_flats\n",
       "0                73234"
      ]
     },
     "execution_count": 166,
     "metadata": {},
     "output_type": "execute_result"
    }
   ],
   "source": [
    "paying_active_flats = pd.read_csv(f'{local_folder}/paying_active_flats_rep_mobile/{int(year)}/{int(month)}.csv', sep=',')\n",
    "paying_active_flats"
   ]
  },
  {
   "cell_type": "code",
   "execution_count": 167,
   "metadata": {},
   "outputs": [
    {
     "data": {
      "text/html": [
       "<div>\n",
       "<style scoped>\n",
       "    .dataframe tbody tr th:only-of-type {\n",
       "        vertical-align: middle;\n",
       "    }\n",
       "\n",
       "    .dataframe tbody tr th {\n",
       "        vertical-align: top;\n",
       "    }\n",
       "\n",
       "    .dataframe thead th {\n",
       "        text-align: right;\n",
       "    }\n",
       "</style>\n",
       "<table border=\"1\" class=\"dataframe\">\n",
       "  <thead>\n",
       "    <tr style=\"text-align: right;\">\n",
       "      <th></th>\n",
       "      <th>family_rate_rep_mobile_sum</th>\n",
       "      <th>family_rate_rep_mobile</th>\n",
       "    </tr>\n",
       "  </thead>\n",
       "  <tbody>\n",
       "    <tr>\n",
       "      <th>0</th>\n",
       "      <td>354729</td>\n",
       "      <td>5141</td>\n",
       "    </tr>\n",
       "  </tbody>\n",
       "</table>\n",
       "</div>"
      ],
      "text/plain": [
       "   family_rate_rep_mobile_sum  family_rate_rep_mobile\n",
       "0                      354729                    5141"
      ]
     },
     "execution_count": 167,
     "metadata": {},
     "output_type": "execute_result"
    }
   ],
   "source": [
    "family_rate_rep_mobile = pd.read_csv(f'{local_folder}/family_rate_rep_mobile/{int(year)}/{int(month)}.csv')\n",
    "family_rate_rep_mobile"
   ]
  },
  {
   "cell_type": "code",
   "execution_count": 168,
   "metadata": {},
   "outputs": [
    {
     "data": {
      "text/html": [
       "<div>\n",
       "<style scoped>\n",
       "    .dataframe tbody tr th:only-of-type {\n",
       "        vertical-align: middle;\n",
       "    }\n",
       "\n",
       "    .dataframe tbody tr th {\n",
       "        vertical-align: top;\n",
       "    }\n",
       "\n",
       "    .dataframe thead th {\n",
       "        text-align: right;\n",
       "    }\n",
       "</style>\n",
       "<table border=\"1\" class=\"dataframe\">\n",
       "  <thead>\n",
       "    <tr style=\"text-align: right;\">\n",
       "      <th></th>\n",
       "      <th>renewed_subscriptions_69</th>\n",
       "      <th>renewed_subscriptions_69_amount_1</th>\n",
       "      <th>renewed_subscriptions_69_amount_69</th>\n",
       "      <th>renewed_subscriptions_1</th>\n",
       "      <th>renewed_subscriptions_1_amount_69</th>\n",
       "      <th>renewed_subscriptions_1_amount_1</th>\n",
       "      <th>deactivated_since_last_month_subscriptions</th>\n",
       "      <th>deactivated_this_month_subscriptions</th>\n",
       "    </tr>\n",
       "  </thead>\n",
       "  <tbody>\n",
       "    <tr>\n",
       "      <th>0</th>\n",
       "      <td>53049</td>\n",
       "      <td>72</td>\n",
       "      <td>52977</td>\n",
       "      <td>8033</td>\n",
       "      <td>8033</td>\n",
       "      <td>0</td>\n",
       "      <td>6019</td>\n",
       "      <td>6</td>\n",
       "    </tr>\n",
       "  </tbody>\n",
       "</table>\n",
       "</div>"
      ],
      "text/plain": [
       "   renewed_subscriptions_69  renewed_subscriptions_69_amount_1  \\\n",
       "0                     53049                                 72   \n",
       "\n",
       "   renewed_subscriptions_69_amount_69  renewed_subscriptions_1  \\\n",
       "0                               52977                     8033   \n",
       "\n",
       "   renewed_subscriptions_1_amount_69  renewed_subscriptions_1_amount_1  \\\n",
       "0                               8033                                 0   \n",
       "\n",
       "   deactivated_since_last_month_subscriptions  \\\n",
       "0                                        6019   \n",
       "\n",
       "   deactivated_this_month_subscriptions  \n",
       "0                                     6  "
      ]
     },
     "execution_count": 168,
     "metadata": {},
     "output_type": "execute_result"
    }
   ],
   "source": [
    "subscriptions_report_comerce_1_69_rep_mobile_1 = pd.read_csv(f'{local_folder}/subscriptions_report_comerce_1_69_rep_mobile_1/{int(year)}/{int(month)}.csv')\n",
    "subscriptions_report_comerce_1_69_rep_mobile_1"
   ]
  },
  {
   "cell_type": "code",
   "execution_count": 169,
   "metadata": {},
   "outputs": [
    {
     "data": {
      "text/html": [
       "<div>\n",
       "<style scoped>\n",
       "    .dataframe tbody tr th:only-of-type {\n",
       "        vertical-align: middle;\n",
       "    }\n",
       "\n",
       "    .dataframe tbody tr th {\n",
       "        vertical-align: top;\n",
       "    }\n",
       "\n",
       "    .dataframe thead th {\n",
       "        text-align: right;\n",
       "    }\n",
       "</style>\n",
       "<table border=\"1\" class=\"dataframe\">\n",
       "  <thead>\n",
       "    <tr style=\"text-align: right;\">\n",
       "      <th></th>\n",
       "      <th>active_subscriptions</th>\n",
       "      <th>active_subscriptions_extended</th>\n",
       "      <th>active_subscriptions_new_last_month</th>\n",
       "      <th>active_subscriptions_69</th>\n",
       "      <th>active_subscriptions_69_extended</th>\n",
       "      <th>active_subscriptions_69_extended_from_amount_1</th>\n",
       "      <th>active_subscriptions_69_extended_from_amount_69</th>\n",
       "      <th>active_subscriptions_69_new_last_month</th>\n",
       "      <th>active_subscriptions_1</th>\n",
       "      <th>active_subscriptions_1_extended</th>\n",
       "      <th>active_subscriptions_1_extended_from_amount_1</th>\n",
       "      <th>active_subscriptions_1_extended_from_amount_69</th>\n",
       "      <th>active_subscriptions_1_new_last_month</th>\n",
       "    </tr>\n",
       "  </thead>\n",
       "  <tbody>\n",
       "    <tr>\n",
       "      <th>0</th>\n",
       "      <td>75730</td>\n",
       "      <td>61267</td>\n",
       "      <td>14463</td>\n",
       "      <td>65312</td>\n",
       "      <td>61152</td>\n",
       "      <td>8046</td>\n",
       "      <td>53106</td>\n",
       "      <td>4160</td>\n",
       "      <td>10418</td>\n",
       "      <td>115</td>\n",
       "      <td>0</td>\n",
       "      <td>115</td>\n",
       "      <td>10303</td>\n",
       "    </tr>\n",
       "  </tbody>\n",
       "</table>\n",
       "</div>"
      ],
      "text/plain": [
       "   active_subscriptions  active_subscriptions_extended  \\\n",
       "0                 75730                          61267   \n",
       "\n",
       "   active_subscriptions_new_last_month  active_subscriptions_69  \\\n",
       "0                                14463                    65312   \n",
       "\n",
       "   active_subscriptions_69_extended  \\\n",
       "0                             61152   \n",
       "\n",
       "   active_subscriptions_69_extended_from_amount_1  \\\n",
       "0                                            8046   \n",
       "\n",
       "   active_subscriptions_69_extended_from_amount_69  \\\n",
       "0                                            53106   \n",
       "\n",
       "   active_subscriptions_69_new_last_month  active_subscriptions_1  \\\n",
       "0                                    4160                   10418   \n",
       "\n",
       "   active_subscriptions_1_extended  \\\n",
       "0                              115   \n",
       "\n",
       "   active_subscriptions_1_extended_from_amount_1  \\\n",
       "0                                              0   \n",
       "\n",
       "   active_subscriptions_1_extended_from_amount_69  \\\n",
       "0                                             115   \n",
       "\n",
       "   active_subscriptions_1_new_last_month  \n",
       "0                                  10303  "
      ]
     },
     "execution_count": 169,
     "metadata": {},
     "output_type": "execute_result"
    }
   ],
   "source": [
    "subscriptions_report_comerce_1_69_rep_mobile_2 = pd.read_csv(f'{local_folder}/subscriptions_report_comerce_1_69_rep_mobile_2/{int(year)}/{int(month)}.csv')\n",
    "subscriptions_report_comerce_1_69_rep_mobile_2"
   ]
  },
  {
   "cell_type": "code",
   "execution_count": 170,
   "metadata": {},
   "outputs": [
    {
     "data": {
      "text/html": [
       "<div>\n",
       "<style scoped>\n",
       "    .dataframe tbody tr th:only-of-type {\n",
       "        vertical-align: middle;\n",
       "    }\n",
       "\n",
       "    .dataframe tbody tr th {\n",
       "        vertical-align: top;\n",
       "    }\n",
       "\n",
       "    .dataframe thead th {\n",
       "        text-align: right;\n",
       "    }\n",
       "</style>\n",
       "<table border=\"1\" class=\"dataframe\">\n",
       "  <thead>\n",
       "    <tr style=\"text-align: right;\">\n",
       "      <th></th>\n",
       "      <th>activated_after_unsubsribtion_less_3</th>\n",
       "      <th>activated_after_unsubsribtion_more_3</th>\n",
       "    </tr>\n",
       "  </thead>\n",
       "  <tbody>\n",
       "    <tr>\n",
       "      <th>0</th>\n",
       "      <td>49</td>\n",
       "      <td>2056</td>\n",
       "    </tr>\n",
       "  </tbody>\n",
       "</table>\n",
       "</div>"
      ],
      "text/plain": [
       "   activated_after_unsubsribtion_less_3  activated_after_unsubsribtion_more_3\n",
       "0                                    49                                  2056"
      ]
     },
     "execution_count": 170,
     "metadata": {},
     "output_type": "execute_result"
    }
   ],
   "source": [
    "activated_after_unsubsribtion_rep_mobile = pd.read_csv(f'{local_folder}/activated_after_unsubsribtion_rep_mobile/{int(year)}/{int(month)}.csv')\n",
    "activated_after_unsubsribtion_rep_mobile\n",
    "\n"
   ]
  },
  {
   "cell_type": "code",
   "execution_count": 171,
   "metadata": {},
   "outputs": [
    {
     "data": {
      "text/html": [
       "<div>\n",
       "<style scoped>\n",
       "    .dataframe tbody tr th:only-of-type {\n",
       "        vertical-align: middle;\n",
       "    }\n",
       "\n",
       "    .dataframe tbody tr th {\n",
       "        vertical-align: top;\n",
       "    }\n",
       "\n",
       "    .dataframe thead th {\n",
       "        text-align: right;\n",
       "    }\n",
       "</style>\n",
       "<table border=\"1\" class=\"dataframe\">\n",
       "  <thead>\n",
       "    <tr style=\"text-align: right;\">\n",
       "      <th></th>\n",
       "      <th>DAU</th>\n",
       "      <th>MAU</th>\n",
       "      <th>Новые пользователи</th>\n",
       "      <th>Доля новых пользователей</th>\n",
       "      <th>Android_id</th>\n",
       "      <th>iOS_id</th>\n",
       "      <th>Все установки</th>\n",
       "      <th>Сессии</th>\n",
       "      <th>service_payments</th>\n",
       "      <th>Первая дата</th>\n",
       "      <th>...</th>\n",
       "      <th>active_subscriptions_69_extended_from_amount_1</th>\n",
       "      <th>active_subscriptions_69_extended_from_amount_69</th>\n",
       "      <th>active_subscriptions_69_new_last_month</th>\n",
       "      <th>active_subscriptions_1</th>\n",
       "      <th>active_subscriptions_1_extended</th>\n",
       "      <th>active_subscriptions_1_extended_from_amount_1</th>\n",
       "      <th>active_subscriptions_1_extended_from_amount_69</th>\n",
       "      <th>active_subscriptions_1_new_last_month</th>\n",
       "      <th>activated_after_unsubsribtion_less_3</th>\n",
       "      <th>activated_after_unsubsribtion_more_3</th>\n",
       "    </tr>\n",
       "  </thead>\n",
       "  <tbody>\n",
       "    <tr>\n",
       "      <th>0</th>\n",
       "      <td>295758</td>\n",
       "      <td>914254</td>\n",
       "      <td>76883</td>\n",
       "      <td>8.40937</td>\n",
       "      <td>2156460</td>\n",
       "      <td>1423340</td>\n",
       "      <td>2992987</td>\n",
       "      <td>706388062</td>\n",
       "      <td>0</td>\n",
       "      <td>'2025-04-01'</td>\n",
       "      <td>...</td>\n",
       "      <td>8046</td>\n",
       "      <td>53106</td>\n",
       "      <td>4160</td>\n",
       "      <td>10418</td>\n",
       "      <td>115</td>\n",
       "      <td>0</td>\n",
       "      <td>115</td>\n",
       "      <td>10303</td>\n",
       "      <td>49</td>\n",
       "      <td>2056</td>\n",
       "    </tr>\n",
       "  </tbody>\n",
       "</table>\n",
       "<p>1 rows × 113 columns</p>\n",
       "</div>"
      ],
      "text/plain": [
       "      DAU     MAU  Новые пользователи  Доля новых пользователей  Android_id  \\\n",
       "0  295758  914254               76883                   8.40937     2156460   \n",
       "\n",
       "    iOS_id  Все установки     Сессии  service_payments   Первая дата  ...  \\\n",
       "0  1423340        2992987  706388062                 0  '2025-04-01'  ...   \n",
       "\n",
       "   active_subscriptions_69_extended_from_amount_1  \\\n",
       "0                                            8046   \n",
       "\n",
       "   active_subscriptions_69_extended_from_amount_69  \\\n",
       "0                                            53106   \n",
       "\n",
       "   active_subscriptions_69_new_last_month  active_subscriptions_1  \\\n",
       "0                                    4160                   10418   \n",
       "\n",
       "   active_subscriptions_1_extended  \\\n",
       "0                              115   \n",
       "\n",
       "   active_subscriptions_1_extended_from_amount_1  \\\n",
       "0                                              0   \n",
       "\n",
       "   active_subscriptions_1_extended_from_amount_69  \\\n",
       "0                                             115   \n",
       "\n",
       "   active_subscriptions_1_new_last_month  \\\n",
       "0                                  10303   \n",
       "\n",
       "   activated_after_unsubsribtion_less_3  activated_after_unsubsribtion_more_3  \n",
       "0                                    49                                  2056  \n",
       "\n",
       "[1 rows x 113 columns]"
      ]
     },
     "execution_count": 171,
     "metadata": {},
     "output_type": "execute_result"
    }
   ],
   "source": [
    "concated = pd.concat([dau,\n",
    "                      mau, \n",
    "                      id_count,\n",
    "                      installetion_count,\n",
    "                      service_payments['service_payments'],\n",
    "                      mobile_report,\n",
    "                      subscriptions_report_comerce, \n",
    "                      units_on_SK_platform,\n",
    "                      total_account_count,\n",
    "                      total_activated_account,\n",
    "                      total_active_users,\n",
    "                      total_active_users_per_day,\n",
    "                      all_flats,\n",
    "                      flats_in_sputnic,\n",
    "                      maf,\n",
    "                      daf,\n",
    "                      paying_active_flats,\n",
    "                      family_rate_rep_mobile,\n",
    "                      subscriptions_report_comerce_1_69_rep_mobile_1,\n",
    "                      subscriptions_report_comerce_1_69_rep_mobile_2,\n",
    "                      activated_after_unsubsribtion_rep_mobile\n",
    "                      ]\n",
    "                     , axis=1)\n",
    "concated"
   ]
  },
  {
   "cell_type": "code",
   "execution_count": 172,
   "metadata": {},
   "outputs": [],
   "source": [
    "FOLDER = \"Ready report\"\n",
    "create_folder_if_not_exists(f'{local_folder}/{FOLDER}/{int(year)}')\n",
    "concated.to_csv(f'{local_folder}/{FOLDER}/{int(year)}/{int(month)}.csv', sep=',', index=False)\n",
    "get_s3_instance()\n",
    "upload_dump_to_s3()"
   ]
  }
 ],
 "metadata": {
  "kernelspec": {
   "display_name": "base",
   "language": "python",
   "name": "python3"
  },
  "language_info": {
   "codemirror_mode": {
    "name": "ipython",
    "version": 3
   },
   "file_extension": ".py",
   "mimetype": "text/x-python",
   "name": "python",
   "nbconvert_exporter": "python",
   "pygments_lexer": "ipython3",
   "version": "3.12.7"
  }
 },
 "nbformat": 4,
 "nbformat_minor": 2
}
